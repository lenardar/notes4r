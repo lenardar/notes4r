{
 "cells": [
  {
   "cell_type": "markdown",
   "metadata": {},
   "source": [
    "实现R语言参数生存模型。"
   ]
  },
  {
   "cell_type": "markdown",
   "metadata": {},
   "source": [
    "# 指数回归模型"
   ]
  },
  {
   "cell_type": "code",
   "execution_count": 2,
   "metadata": {
    "vscode": {
     "languageId": "r"
    }
   },
   "outputs": [
    {
     "name": "stdout",
     "output_type": "stream",
     "text": []
    },
    {
     "name": "stdout",
     "output_type": "stream",
     "text": []
    },
    {
     "name": "stdout",
     "output_type": "stream",
     "text": []
    }
   ],
   "source": [
    "install.packages(\"flexsurv\")"
   ]
  },
  {
   "cell_type": "code",
   "execution_count": 1,
   "metadata": {
    "vscode": {
     "languageId": "r"
    }
   },
   "outputs": [
    {
     "name": "stdout",
     "output_type": "stream",
     "text": []
    }
   ],
   "source": [
    "head(lung)"
   ]
  },
  {
   "cell_type": "code",
   "execution_count": 8,
   "metadata": {
    "vscode": {
     "languageId": "r"
    }
   },
   "outputs": [
    {
     "name": "stdout",
     "output_type": "stream",
     "text": []
    }
   ],
   "source": [
    "# 加载包\n",
    "library(survival)\n",
    "library(flexsurv)\n",
    "library(survminer)\n",
    "\n",
    "# 导入数据\n",
    "data(lung)\n",
    "\n",
    "# 拟合模型\n",
    "fit_exp <- survreg(\n",
    "  Surv(time, status) ~ age + sex,\n",
    "  data = lung,\n",
    "  dist = \"exp\"\n",
    ")"
   ]
  },
  {
   "cell_type": "code",
   "execution_count": 11,
   "metadata": {
    "vscode": {
     "languageId": "r"
    }
   },
   "outputs": [
    {
     "name": "stdout",
     "output_type": "stream",
     "text": []
    }
   ],
   "source": [
    "AIC(fit_exp)"
   ]
  },
  {
   "cell_type": "code",
   "execution_count": 14,
   "metadata": {
    "vscode": {
     "languageId": "r"
    }
   },
   "outputs": [
    {
     "name": "stdout",
     "output_type": "stream",
     "text": []
    }
   ],
   "source": [
    "BIC(fit_exp)"
   ]
  },
  {
   "cell_type": "code",
   "execution_count": 11,
   "metadata": {
    "vscode": {
     "languageId": "r"
    }
   },
   "outputs": [],
   "source": [
    "# 拟合模型\n",
    "fit_exp <- survreg(\n",
    "  Surv(time, status) ~ 1,\n",
    "  data = lung,\n",
    "  dist = \"exp\"\n",
    ")"
   ]
  },
  {
   "cell_type": "code",
   "execution_count": null,
   "metadata": {
    "vscode": {
     "languageId": "r"
    }
   },
   "outputs": [
    {
     "name": "stdout",
     "output_type": "stream",
     "text": []
    }
   ],
   "source": [
    "# 计算lambda风险函数\n",
    "lambda <- 1 / exp(coef(fit_exp))  # 系数的乘积，这里只放了截距项\n",
    "\n",
    "# 计算S(t)生存函数\n",
    "surv_exp <- function(t) {\n",
    "  exp(-lambda * t)\n",
    "}\n",
    "\n",
    "# 设定时间\n",
    "time_seq <- seq(0, 1000, by = 0.1)\n",
    "\n",
    "# 预测概率\n",
    "surv_prob_exp <- surv_exp(time_seq)\n",
    "\n",
    "# 绘制 Kaplan-Meier 曲线\n",
    "km_fit <- survfit(Surv(time, status) ~ 1, data = lung)\n",
    "plot(\n",
    "  km_fit,\n",
    "  col = \"blue\",\n",
    "  lwd = 2,\n",
    "  main = \"KM Curve and Exp Regression\",\n",
    "  xlab = \"Time\",\n",
    "  ylab = \"Survival Probability\",\n",
    "  xlim = c(0, max(lung$time)),\n",
    "  ylim = c(0, 1)\n",
    ")\n",
    "\n",
    "# 在同一图中添加指数回归生存函数\n",
    "lines(time_seq, surv_prob_exp, col = \"red\", lwd = 2, lty = 2)"
   ]
  },
  {
   "cell_type": "code",
   "execution_count": 38,
   "metadata": {
    "vscode": {
     "languageId": "r"
    }
   },
   "outputs": [
    {
     "name": "stdout",
     "output_type": "stream",
     "text": []
    }
   ],
   "source": [
    "# 加载包\n",
    "library(survival)\n",
    "library(flexsurv)\n",
    "library(survminer)\n",
    "\n",
    "# 导入数据\n",
    "data(lung)\n",
    "\n",
    "# 拟合模型\n",
    "fit_exp <- flexsurvreg(\n",
    "  Surv(time, status) ~ 1,\n",
    "  data = lung,\n",
    "  dist = \"exp\"\n",
    ")"
   ]
  },
  {
   "cell_type": "code",
   "execution_count": 39,
   "metadata": {
    "vscode": {
     "languageId": "r"
    }
   },
   "outputs": [
    {
     "name": "stdout",
     "output_type": "stream",
     "text": []
    }
   ],
   "source": [
    "fit_exp$res"
   ]
  },
  {
   "cell_type": "markdown",
   "metadata": {},
   "source": [
    "# Weibull回归模型"
   ]
  },
  {
   "cell_type": "code",
   "execution_count": 2,
   "metadata": {
    "vscode": {
     "languageId": "r"
    }
   },
   "outputs": [
    {
     "name": "stdout",
     "output_type": "stream",
     "text": []
    }
   ],
   "source": [
    "# 加载包\n",
    "library(survival)\n",
    "library(flexsurv)\n",
    "library(survminer)\n",
    "\n",
    "# 导入数据\n",
    "data(lung)\n",
    "\n",
    "# 拟合参数生存模型\n",
    "fit_weibull <- survreg(\n",
    "  Surv(time, status) ~ 1,\n",
    "  data = lung,\n",
    "  dist = \"weibull\"\n",
    ")"
   ]
  },
  {
   "cell_type": "code",
   "execution_count": 7,
   "metadata": {
    "vscode": {
     "languageId": "r"
    }
   },
   "outputs": [
    {
     "name": "stdout",
     "output_type": "stream",
     "text": []
    }
   ],
   "source": [
    "# 设定尺度参数\n",
    "# exp非常关键\n",
    "scale  <- exp(coef(fit_weibull)[1])  # 如果有预测变量，要将系数与变量相乘\n",
    "\n",
    "# 设定形状参数\n",
    "shape <- 1 / fit_weibull$scale\n",
    "\n",
    "# 设定时间\n",
    "time_seq  <-  seq(0, 1000, 0.1)\n",
    "\n",
    "# 计算生存函数\n",
    "surv_prob_weibull <- 1 - pweibull(time_seq, shape = shape, scale = scale)\n",
    "\n",
    "# 绘制 Kaplan-Meier 曲线\n",
    "km_fit <- survfit(Surv(time, status) ~ 1, data = lung)\n",
    "plot(\n",
    "  km_fit,\n",
    "  col = \"blue\",\n",
    "  lwd = 2,\n",
    "  main = \"KM Curve and Weibull Regression\",\n",
    "  xlab = \"Time\",\n",
    "  ylab = \"Survival Probability\",\n",
    "  xlim = c(0, max(lung$time)),\n",
    "  ylim = c(0, 1)\n",
    ")\n",
    "\n",
    "# 在同一图中添加weibull回归生存函数\n",
    "lines(time_seq, surv_prob_weibull, col = \"red\", lwd = 2, lty = 2)"
   ]
  },
  {
   "cell_type": "markdown",
   "metadata": {},
   "source": [
    "# Gompertz回归"
   ]
  },
  {
   "cell_type": "code",
   "execution_count": 44,
   "metadata": {
    "vscode": {
     "languageId": "r"
    }
   },
   "outputs": [
    {
     "name": "stdout",
     "output_type": "stream",
     "text": []
    }
   ],
   "source": [
    "# 加载包\n",
    "library(survival)\n",
    "library(flexsurv)\n",
    "library(survminer)\n",
    "\n",
    "# 导入数据\n",
    "data(lung)\n",
    "\n",
    "# 拟合参数生存模型\n",
    "fit_gompertz <- flexsurvreg(\n",
    "  Surv(time, status) ~ 1,\n",
    "  data = lung,\n",
    "  dist = \"gompertz\"\n",
    ")"
   ]
  },
  {
   "cell_type": "code",
   "execution_count": 43,
   "metadata": {
    "vscode": {
     "languageId": "r"
    }
   },
   "outputs": [
    {
     "name": "stdout",
     "output_type": "stream",
     "text": []
    }
   ],
   "source": [
    "fit_gompertz$res"
   ]
  },
  {
   "cell_type": "code",
   "execution_count": 29,
   "metadata": {
    "vscode": {
     "languageId": "r"
    }
   },
   "outputs": [
    {
     "name": "stdout",
     "output_type": "stream",
     "text": []
    }
   ],
   "source": [
    "fit_gompertz$res[2, 1]"
   ]
  },
  {
   "cell_type": "code",
   "execution_count": 34,
   "metadata": {
    "vscode": {
     "languageId": "r"
    }
   },
   "outputs": [
    {
     "name": "stdout",
     "output_type": "stream",
     "text": []
    }
   ],
   "source": [
    "# 提取参数\n",
    "shape  <- fit_gompertz$res[1, 1]\n",
    "# 或者\n",
    "# shape <- coef(fit_gompertz)[1] \n",
    "# 如果有预测变量，要将系数与变量相乘\n",
    "rate <- fit_gompertz$res[2, 1]\n",
    "\n",
    "# 设定时间\n",
    "time_seq <- seq(0, 1000, 0.1)\n",
    "\n",
    "# 计算生存函数\n",
    "surv_prob_gompertz <- 1 - pgompertz(time_seq, shape = shape, rate = rate)\n",
    "\n",
    "# 绘制 Kaplan-Meier 曲线\n",
    "km_fit <- survfit(Surv(time, status) ~ 1, data = lung)\n",
    "plot(\n",
    "  km_fit,\n",
    "  col = \"blue\",\n",
    "  lwd = 2,\n",
    "  main = \"KM Curve and Gompertz Regression\",\n",
    "  xlab = \"Time\",\n",
    "  ylab = \"Survival Probability\",\n",
    "  xlim = c(0, max(lung$time)),\n",
    "  ylim = c(0, 1)\n",
    ")\n",
    "\n",
    "# 在同一图中添加gompertz回归生存函数\n",
    "lines(time_seq, surv_prob_gompertz, col = \"red\", lwd = 2, lty = 2)"
   ]
  },
  {
   "cell_type": "markdown",
   "metadata": {},
   "source": [
    "# 对数正态模型"
   ]
  },
  {
   "cell_type": "code",
   "execution_count": 84,
   "metadata": {
    "vscode": {
     "languageId": "r"
    }
   },
   "outputs": [
    {
     "name": "stdout",
     "output_type": "stream",
     "text": []
    }
   ],
   "source": [
    "# 加载必要的包\n",
    "library(survival)\n",
    "\n",
    "# 使用 lung 数据集\n",
    "data(lung)\n",
    "\n",
    "# 拟合对数正态回归模型，不考虑任何协变量\n",
    "fit_lognormal <- survreg(\n",
    "  Surv(time, status) ~ 1, \n",
    "  data = lung, \n",
    "  dist = \"lognormal\"\n",
    ")"
   ]
  },
  {
   "cell_type": "code",
   "execution_count": 96,
   "metadata": {
    "vscode": {
     "languageId": "r"
    }
   },
   "outputs": [
    {
     "name": "stdout",
     "output_type": "stream",
     "text": []
    }
   ],
   "source": [
    "# 设定总体均数\n",
    "mean = coef(fit_lognormal)[1]  # 如果有预测变量，要将系数与变量相乘\n",
    "\n",
    "# 设定总体标准差\n",
    "sd = fit_lognormal$scale\n",
    "\n",
    "# 设定时间并取对数\n",
    "time_seq = seq(0, 1000, 0.1)\n",
    "log_time = log(time_seq)\n",
    "\n",
    "# 进行预测\n",
    "surv_prob_lognormal <- pnorm(log_time, mean = mean, sd = sd)\n",
    "\n",
    "# 绘制对数正态回归生存曲线\n",
    "plot(time_seq, 1-surv_prob_lognormal, col = \"red\", lwd = 2, type = \"l\",\n",
    "     main = \"Log-normal Survival Function\", xlab = \"Time\", ylab = \"Survival Probability\")"
   ]
  },
  {
   "cell_type": "code",
   "execution_count": 90,
   "metadata": {
    "vscode": {
     "languageId": "r"
    }
   },
   "outputs": [
    {
     "name": "stdout",
     "output_type": "stream",
     "text": []
    },
    {
     "name": "stdout",
     "output_type": "stream",
     "text": []
    }
   ],
   "source": [
    "# 加载必要的包\n",
    "library(survival)\n",
    "\n",
    "# 使用 lung 数据集\n",
    "data(lung)\n",
    "lung <- na.omit(lung)  # 去除缺失数据\n",
    "\n",
    "# 拟合对数正态回归模型，不考虑任何协变量\n",
    "lognormal_fit <- survreg(Surv(time, status) ~ 1, data = lung, dist = \"lognormal\")\n",
    "\n",
    "# 输出模型参数\n",
    "summary(lognormal_fit)\n",
    "\n",
    "# 设定总体均数和标准差\n",
    "mean <- coef(lognormal_fit)[1]  # 取得回归系数，即均值\n",
    "sd <- lognormal_fit$scale  # 取得尺度参数\n",
    "\n",
    "# 设定时间序列并取对数\n",
    "time_seq <- seq(0, max(lung$time), length.out = 100)\n",
    "log_time <- log(time_seq)\n",
    "\n",
    "# 计算对数正态生存函数\n",
    "lognormal_surv_probs <- pnorm(log_time, mean = mean, sd = sd)\n",
    "\n",
    "# 绘制 Kaplan-Meier 曲线\n",
    "km_fit <- survfit(Surv(time, status) ~ 1, data = lung)\n",
    "plot(km_fit, col = \"blue\", lwd = 2, main = \"KM Curve and Log-normal Regression\", \n",
    "     xlab = \"Time\", ylab = \"Survival Probability\", xlim = c(0, max(lung$time)), ylim = c(0, 1))\n",
    "\n",
    "# 在同一图中添加对数正态回归生存函数\n",
    "lines(time_seq, 1 - lognormal_surv_probs, col = \"red\", lwd = 2, lty = 2)\n",
    "\n"
   ]
  },
  {
   "cell_type": "markdown",
   "metadata": {},
   "source": [
    "# 对数逻辑模型"
   ]
  },
  {
   "cell_type": "code",
   "execution_count": 91,
   "metadata": {
    "vscode": {
     "languageId": "r"
    }
   },
   "outputs": [
    {
     "name": "stdout",
     "output_type": "stream",
     "text": []
    }
   ],
   "source": [
    "# 加载必要的包\n",
    "library(survival)\n",
    "\n",
    "# 使用 lung 数据集\n",
    "data(lung)\n",
    "\n",
    "# 拟合对数正态回归模型，不考虑任何协变量\n",
    "fit_loglogit <- survreg(\n",
    "  Surv(time, status) ~ 1, \n",
    "  data = lung, \n",
    "  dist = \"loglogistic\"\n",
    ")"
   ]
  },
  {
   "cell_type": "code",
   "execution_count": 98,
   "metadata": {
    "vscode": {
     "languageId": "r"
    }
   },
   "outputs": [
    {
     "name": "stdout",
     "output_type": "stream",
     "text": []
    }
   ],
   "source": [
    "# 设定参数\n",
    "mu <- coef(fit_loglogit)[1]  # 如果有预测变量，要将系数与变量相乘\n",
    "gamma <- fit_loglogit$scale\n",
    "\n",
    "# 设定时间并取对数\n",
    "time_seq <- seq(0, max(lung$time), length.out = 100)\n",
    "log_time <- log(time_seq)\n",
    "\n",
    "# 预测概率\n",
    "surv_prob_loglogit <- 1 / (1 + exp(-(log_time - mu) / gamma))\n",
    "\n",
    "# 绘制对数逻辑回归生存曲线\n",
    "plot(time_seq, 1-surv_prob_loglogit, col = \"red\", lwd = 2, type = \"l\",\n",
    "     main = \"Log-logistic Survival Function\", xlab = \"Time\", ylab = \"Survival Probability\")"
   ]
  },
  {
   "cell_type": "code",
   "execution_count": 99,
   "metadata": {
    "vscode": {
     "languageId": "r"
    }
   },
   "outputs": [
    {
     "name": "stdout",
     "output_type": "stream",
     "text": []
    }
   ],
   "source": [
    "# 绘制 Kaplan-Meier 曲线\n",
    "km_fit <- survfit(Surv(time, status) ~ 1, data = lung)\n",
    "plot(km_fit, col = \"blue\", lwd = 2, main = \"KM Curve and Log-logistic Regression\", \n",
    "     xlab = \"Time\", ylab = \"Survival Probability\", xlim = c(0, max(lung$time)), ylim = c(0, 1))\n",
    "\n",
    "# 在同一图中添加对数正态回归生存函数\n",
    "lines(time_seq, 1 - surv_prob_loglogit, col = \"red\", lwd = 2, lty = 2)"
   ]
  },
  {
   "cell_type": "markdown",
   "metadata": {},
   "source": [
    "# 伽马回归"
   ]
  },
  {
   "cell_type": "code",
   "execution_count": null,
   "metadata": {
    "vscode": {
     "languageId": "r"
    }
   },
   "outputs": [],
   "source": [
    "# 拟合Gamma分布\n",
    "fit_gamma <- flexsurvreg(\n",
    "  Surv(time, status) ~ 1,\n",
    "  data = lung,\n",
    "  dist = \"gamma\"\n",
    ")"
   ]
  },
  {
   "cell_type": "code",
   "execution_count": 84,
   "metadata": {
    "vscode": {
     "languageId": "r"
    }
   },
   "outputs": [
    {
     "name": "stdout",
     "output_type": "stream",
     "text": []
    }
   ],
   "source": [
    "fit_gamma$res"
   ]
  },
  {
   "cell_type": "code",
   "execution_count": 92,
   "metadata": {
    "vscode": {
     "languageId": "r"
    }
   },
   "outputs": [
    {
     "name": "stdout",
     "output_type": "stream",
     "text": []
    }
   ],
   "source": [
    "fit_gamma$res[1, 1]"
   ]
  },
  {
   "cell_type": "code",
   "execution_count": null,
   "metadata": {
    "vscode": {
     "languageId": "r"
    }
   },
   "outputs": [
    {
     "name": "stdout",
     "output_type": "stream",
     "text": []
    }
   ],
   "source": [
    "# 提取参数\n",
    "alpha <- 1 / fit_gamma$res[1, 1]^2\n",
    "beta <- alpha / exp(coef(fit_gamma)[1])  # 如果有预测变量，要将系数与变量相乘\n",
    "\n",
    "# 设定时间\n",
    "time_seq <- seq(0, 1000, 0.1)\n",
    "\n",
    "# 计算生存函数\n",
    "surv_prob_gamma <- 1 - pgamma(time_seq, shape = alpha, scale = beta)\n",
    "\n",
    "# 绘制 Kaplan-Meier 曲线\n",
    "km_fit <- survfit(Surv(time, status) ~ 1, data = lung)\n",
    "\n",
    "plot(\n",
    "  km_fit,\n",
    "  col = \"blue\",\n",
    "  lwd = 2,\n",
    "  main = \"KM Curve and Gamma Regression\",\n",
    "  xlab = \"Time\",\n",
    "  ylab = \"Survival Probability\",\n",
    "  xlim = c(0, max(lung$time)),\n",
    "  ylim = c(0, 1)\n",
    ")\n",
    "\n",
    "# 在同一图中添加gamma回归生存函数\n",
    "lines(time_seq, surv_prob_gamma, col = \"red\", lwd = 2, lty = 2)"
   ]
  },
  {
   "cell_type": "markdown",
   "metadata": {},
   "source": [
    "# 广义伽马回归"
   ]
  },
  {
   "cell_type": "code",
   "execution_count": null,
   "metadata": {
    "vscode": {
     "languageId": "r"
    }
   },
   "outputs": [
    {
     "name": "stdout",
     "output_type": "stream",
     "text": []
    }
   ],
   "source": [
    "# 加载必要的包\n",
    "library(survival)\n",
    "\n",
    "# 使用 lung 数据集\n",
    "data(lung)\n",
    "\n",
    "# 拟合广义伽马模型，不考虑任何协变量\n",
    "fit_gengamma <- flexsurvreg(\n",
    "  Surv(time, status) ~ 1,\n",
    "  data = lung,\n",
    "  dist = \"gengamma\"\n",
    ")"
   ]
  },
  {
   "cell_type": "code",
   "execution_count": 54,
   "metadata": {
    "vscode": {
     "languageId": "r"
    }
   },
   "outputs": [
    {
     "name": "stdout",
     "output_type": "stream",
     "text": []
    }
   ],
   "source": [
    "fit_gengamma$res"
   ]
  },
  {
   "cell_type": "code",
   "execution_count": 56,
   "metadata": {
    "vscode": {
     "languageId": "r"
    }
   },
   "outputs": [
    {
     "name": "stdout",
     "output_type": "stream",
     "text": []
    }
   ],
   "source": [
    "# 提取参数\n",
    "mu <- coef(fit_gengamma)[1]  # 如果有预测变量，要将系数与变量相乘\n",
    "sigma <- fit_gengamma$res[2, 1]\n",
    "Q <- fit_gengamma$res[3, 1]\n",
    "\n",
    "# 设定时间\n",
    "time_seq <- seq(0, 1000, 0.1)\n",
    "\n",
    "# 计算生存函数\n",
    "surv_prob_gengamma <- 1 - pgengamma(time_seq, mu = mu, sigma = sigma, Q = Q)\n",
    "\n",
    "# 绘制 Kaplan-Meier 曲线\n",
    "km_fit <- survfit(Surv(time, status) ~ 1, data = lung)\n",
    "\n",
    "plot(\n",
    "  km_fit,\n",
    "  col = \"blue\",\n",
    "  lwd = 2,\n",
    "  main = \"KM Curve and Generalized Gamma Regression\",\n",
    "  xlab = \"Time\",\n",
    "  ylab = \"Survival Probability\",\n",
    "  xlim = c(0, max(lung$time)),\n",
    "  ylim = c(0, 1)\n",
    ")\n",
    "\n",
    "# 在同一图中添加gengamma回归生存函数\n",
    "lines(time_seq, surv_prob_gengamma, col = \"red\", lwd = 2, lty = 2)"
   ]
  },
  {
   "cell_type": "code",
   "execution_count": 59,
   "metadata": {
    "vscode": {
     "languageId": "r"
    }
   },
   "outputs": [
    {
     "name": "stdout",
     "output_type": "stream",
     "text": []
    }
   ],
   "source": [
    "# 基于伽马分布实现广义伽马分布预测\n",
    "\n",
    "# 广义伽马提取参数\n",
    "mu <- coef(fit_gengamma)[1]  # 如果有预测变量，要将系数与变量相乘\n",
    "sigma <- fit_gengamma$res[2, 1]\n",
    "Q <- fit_gengamma$res[3, 1]\n",
    "\n",
    "# 确定伽马分布参数\n",
    "alpha <- 1/Q^2\n",
    "beta  <- 1\n",
    "\n",
    "# 设定时间\n",
    "time_seq <- seq(0, 1000, 0.1)\n",
    "\n",
    "# 将time_seq转化为伽马分布输入time_seq_gamma\n",
    "time_seq_gamma <- 1/Q^2 * exp(Q * ((log(time_seq) - mu) / sigma))\n",
    "\n",
    "# 计算生存函数\n",
    "surv_prob_gengamma_gamma <- 1 - pgamma(time_seq_gamma, shape = alpha, rate = beta)\n",
    "\n",
    "# 绘制 Kaplan-Meier 曲线\n",
    "km_fit <- survfit(Surv(time, status) ~ 1, data = lung)\n",
    "\n",
    "plot(\n",
    "  km_fit,\n",
    "  col = \"blue\",\n",
    "  lwd = 2,\n",
    "  main = \"KM Curve and Generalized Gamma Regression\",\n",
    "  xlab = \"Time\",\n",
    "  ylab = \"Survival Probability\",\n",
    "  xlim = c(0, max(lung$time)),\n",
    "  ylim = c(0, 1)\n",
    ")\n",
    "\n",
    "# 在同一图中添加gengamma回归生存函数\n",
    "lines(time_seq, surv_prob_gengamma_gamma, col = \"red\", lwd = 2, lty = 2)"
   ]
  },
  {
   "cell_type": "markdown",
   "metadata": {},
   "source": [
    "# 大一统模型"
   ]
  },
  {
   "cell_type": "markdown",
   "metadata": {},
   "source": [
    "我将构建一个一步出所有生存模型参数结果以及AIC、BIC，图像的函数，拯救世人！"
   ]
  },
  {
   "cell_type": "markdown",
   "metadata": {},
   "source": [
    "## 指数回归部分"
   ]
  },
  {
   "cell_type": "code",
   "execution_count": 3,
   "metadata": {
    "vscode": {
     "languageId": "r"
    }
   },
   "outputs": [],
   "source": [
    "# 加载必要的包\n",
    "library(survival)\n",
    "library(flexsurv)\n",
    "library(survminer)"
   ]
  },
  {
   "cell_type": "code",
   "execution_count": 4,
   "metadata": {
    "vscode": {
     "languageId": "r"
    }
   },
   "outputs": [],
   "source": [
    "data  <- lung # 测试数据"
   ]
  },
  {
   "cell_type": "code",
   "execution_count": 5,
   "metadata": {
    "vscode": {
     "languageId": "r"
    }
   },
   "outputs": [],
   "source": [
    "# 拟合指数回归模型\n",
    "fit_exp <- survreg(\n",
    "  Surv(time, status) ~ 1,\n",
    "  data = data,\n",
    "  dist = \"exp\"\n",
    ")\n",
    "\n",
    "# 提取指数分布参数以及AIC和BIC\n",
    "params_exp <- c(\n",
    "  1 / exp(coef(fit_exp)),  # Lambda\n",
    "  NA,  # Gamma\n",
    "  NA,  # Delta\n",
    "  AIC(fit_exp),  # AIC\n",
    "  BIC(fit_exp)  # BIC\n",
    ")"
   ]
  },
  {
   "cell_type": "code",
   "execution_count": 6,
   "metadata": {
    "vscode": {
     "languageId": "r"
    }
   },
   "outputs": [
    {
     "name": "stdout",
     "output_type": "stream",
     "text": []
    }
   ],
   "source": [
    "# 画图验证一下\n",
    "# 计算lambda风险函数\n",
    "lambda <- params_exp[1]\n",
    "\n",
    "# 计算S(t)生存函数\n",
    "surv_exp <- function(t) {\n",
    "  exp(-lambda * t)\n",
    "}\n",
    "\n",
    "# 设定时间\n",
    "time_seq <- seq(0, 1000, by = 0.1)\n",
    "\n",
    "# 预测概率\n",
    "surv_prob_exp <- surv_exp(time_seq)\n",
    "\n",
    "# 绘制 Kaplan-Meier 曲线\n",
    "km_fit <- survfit(Surv(time, status) ~ 1, data = data)\n",
    "plot(\n",
    "  km_fit,\n",
    "  col = \"blue\",\n",
    "  lwd = 2,\n",
    "  main = \"KM Curve and Exp Regression\",\n",
    "  xlab = \"Time\",\n",
    "  ylab = \"Survival Probability\",\n",
    "  xlim = c(0, max(data$time)),\n",
    "  ylim = c(0, 1)\n",
    ")\n",
    "\n",
    "# 在同一图中添加指数回归生存函数\n",
    "lines(time_seq, surv_prob_exp, col = \"red\", lwd = 2, lty = 2)"
   ]
  },
  {
   "cell_type": "markdown",
   "metadata": {},
   "source": [
    "## Weibull回归部分"
   ]
  },
  {
   "cell_type": "code",
   "execution_count": 7,
   "metadata": {
    "vscode": {
     "languageId": "r"
    }
   },
   "outputs": [],
   "source": [
    "# 拟合Weibull回归模型\n",
    "fit_weibull <- survreg(\n",
    "  Surv(time, status) ~ 1,\n",
    "  data = data,\n",
    "  dist = \"weibull\"\n",
    ")\n",
    "\n",
    "# 提取Weibull分布参数以及AIC和BIC\n",
    "params_weibull <- c(\n",
    "  1 / fit_weibull$scale,  # Lambda\n",
    "  exp(coef(fit_weibull)[1]),  # Gamma\n",
    "  NA,  # Delta\n",
    "  AIC(fit_weibull),  # AIC\n",
    "  BIC(fit_weibull)  # BIC\n",
    ")"
   ]
  },
  {
   "cell_type": "code",
   "execution_count": 8,
   "metadata": {
    "vscode": {
     "languageId": "r"
    }
   },
   "outputs": [
    {
     "name": "stdout",
     "output_type": "stream",
     "text": []
    }
   ],
   "source": [
    "# 设定时间\n",
    "time_seq  <-  seq(0, 1000, 0.1)\n",
    "\n",
    "# 计算生存函数\n",
    "surv_prob_weibull <- 1 - pweibull(\n",
    "  time_seq,\n",
    "  shape = params_weibull[1],\n",
    "  scale = params_weibull[2]\n",
    ")\n",
    "\n",
    "# 绘制 Kaplan-Meier 曲线\n",
    "km_fit <- survfit(Surv(time, status) ~ 1, data = lung)\n",
    "plot(\n",
    "  km_fit,\n",
    "  col = \"blue\",\n",
    "  lwd = 2,\n",
    "  main = \"KM Curve and Weibull Regression\",\n",
    "  xlab = \"Time\",\n",
    "  ylab = \"Survival Probability\",\n",
    "  xlim = c(0, max(lung$time)),\n",
    "  ylim = c(0, 1)\n",
    ")\n",
    "\n",
    "# 在同一图中添加weibull回归生存函数\n",
    "lines(time_seq, surv_prob_weibull, col = \"red\", lwd = 2, lty = 2)"
   ]
  },
  {
   "cell_type": "markdown",
   "metadata": {},
   "source": [
    "## Gompertz部分"
   ]
  },
  {
   "cell_type": "code",
   "execution_count": 27,
   "metadata": {
    "vscode": {
     "languageId": "r"
    }
   },
   "outputs": [],
   "source": [
    "set.seed(12345)\n",
    "\n",
    "# 拟合Gompertz回归模型\n",
    "fit_gompertz <- flexsurvreg(\n",
    "  Surv(time, status) ~ 1,\n",
    "  data = data,\n",
    "  dist = \"gompertz\"\n",
    ")\n",
    "\n",
    "# 提取Gompertz分布参数以及AIC和BIC\n",
    "params_gompertz <- c(\n",
    "  fit_gompertz$res[2, 1],  # Lambda\n",
    "  fit_gompertz$res[1, 1],  # Gamma\n",
    "  NA,  # Delta\n",
    "  AIC(fit_gompertz),  # AIC\n",
    "  BIC(fit_gompertz)  # BIC\n",
    ")"
   ]
  },
  {
   "cell_type": "code",
   "execution_count": 28,
   "metadata": {
    "vscode": {
     "languageId": "r"
    }
   },
   "outputs": [
    {
     "name": "stdout",
     "output_type": "stream",
     "text": []
    }
   ],
   "source": [
    "fit_gompertz$res"
   ]
  },
  {
   "cell_type": "code",
   "execution_count": 29,
   "metadata": {
    "vscode": {
     "languageId": "r"
    }
   },
   "outputs": [
    {
     "name": "stdout",
     "output_type": "stream",
     "text": []
    }
   ],
   "source": [
    "# 设定时间\n",
    "time_seq <- seq(0, 1000, 0.1)\n",
    "\n",
    "# 计算生存函数\n",
    "surv_prob_gompertz <- 1 - pgompertz(time_seq, shape = params_gompertz[2], rate = params_gompertz[1])\n",
    "\n",
    "# 绘制 Kaplan-Meier 曲线\n",
    "km_fit <- survfit(Surv(time, status) ~ 1, data = lung)\n",
    "plot(\n",
    "  km_fit,\n",
    "  col = \"blue\",\n",
    "  lwd = 2,\n",
    "  main = \"KM Curve and Gompertz Regression\",\n",
    "  xlab = \"Time\",\n",
    "  ylab = \"Survival Probability\",\n",
    "  xlim = c(0, max(lung$time)),\n",
    "  ylim = c(0, 1)\n",
    ")\n",
    "\n",
    "# 在同一图中添加gompertz回归生存函数\n",
    "lines(time_seq, surv_prob_gompertz, col = \"red\", lwd = 2, lty = 2)"
   ]
  },
  {
   "cell_type": "markdown",
   "metadata": {},
   "source": [
    "## 对数正态回归部分"
   ]
  },
  {
   "cell_type": "code",
   "execution_count": 74,
   "metadata": {
    "vscode": {
     "languageId": "r"
    }
   },
   "outputs": [],
   "source": [
    "# 拟合对数正态回归模型\n",
    "fit_lognormal <- survreg(\n",
    "  Surv(time, status) ~ 1,\n",
    "  data = data, \n",
    "  dist = \"lognormal\"\n",
    ")\n",
    "\n",
    "# 提取对数正态分布参数以及AIC和BIC\n",
    "params_lognormal <- c(\n",
    "  coef(fit_lognormal)[1],  # Lambda\n",
    "  fit_lognormal$scale,  # Gamma\n",
    "  NA,  # Delta\n",
    "  AIC(fit_lognormal),  # AIC\n",
    "  BIC(fit_lognormal)  # BIC\n",
    ")"
   ]
  },
  {
   "cell_type": "code",
   "execution_count": 78,
   "metadata": {
    "vscode": {
     "languageId": "r"
    }
   },
   "outputs": [
    {
     "name": "stdout",
     "output_type": "stream",
     "text": []
    }
   ],
   "source": [
    "# 设定时间并取对数\n",
    "time_seq = seq(0, 1000, 0.1)\n",
    "log_time = log(time_seq)\n",
    "\n",
    "# 进行预测\n",
    "surv_prob_lognormal <- 1 - pnorm(log_time, mean = params_lognormal[1], sd = params_lognormal[2])\n",
    "\n",
    "# 绘制 Kaplan-Meier 曲线\n",
    "km_fit <- survfit(Surv(time, status) ~ 1, data = lung)\n",
    "plot(km_fit, col = \"blue\", lwd = 2, main = \"KM Curve and Log-normal Regression\", \n",
    "     xlab = \"Time\", ylab = \"Survival Probability\", xlim = c(0, max(lung$time)), ylim = c(0, 1))\n",
    "\n",
    "# 在同一图中添加对数正态回归生存函数\n",
    "lines(time_seq, surv_prob_lognormal, col = \"red\", lwd = 2, lty = 2)"
   ]
  },
  {
   "cell_type": "markdown",
   "metadata": {},
   "source": [
    "## 对数逻辑部分"
   ]
  },
  {
   "cell_type": "code",
   "execution_count": 79,
   "metadata": {
    "vscode": {
     "languageId": "r"
    }
   },
   "outputs": [],
   "source": [
    "# 拟合对数逻辑回归模型\n",
    "fit_loglogit <- survreg(\n",
    "  Surv(time, status) ~ 1,\n",
    "  data = data, \n",
    "  dist = \"loglogistic\"\n",
    ")\n",
    "\n",
    "# 提取对数逻辑分布参数以及AIC和BIC\n",
    "params_loglogit <- c(\n",
    "  coef(fit_loglogit)[1],  # Lambda\n",
    "  fit_loglogit$scale,  # Gamma\n",
    "  NA,  # Delta\n",
    "  AIC(fit_loglogit),  # AIC\n",
    "  BIC(fit_loglogit)  # BIC\n",
    ")"
   ]
  },
  {
   "cell_type": "code",
   "execution_count": 81,
   "metadata": {
    "vscode": {
     "languageId": "r"
    }
   },
   "outputs": [
    {
     "name": "stdout",
     "output_type": "stream",
     "text": []
    }
   ],
   "source": [
    "# 设定参数\n",
    "mu <- coef(fit_loglogit)[1]  # 如果有预测变量，要将系数与变量相乘\n",
    "gamma <- fit_loglogit$scale\n",
    "\n",
    "# 设定时间并取对数\n",
    "time_seq <- seq(0, max(lung$time), length.out = 100)\n",
    "log_time <- log(time_seq)\n",
    "\n",
    "# 预测概率\n",
    "surv_prob_loglogit <- 1 / (1 + exp(-(log_time - mu) / gamma))\n",
    "\n",
    "# 绘制 Kaplan-Meier 曲线\n",
    "km_fit <- survfit(Surv(time, status) ~ 1, data = lung)\n",
    "plot(km_fit, col = \"blue\", lwd = 2, main = \"KM Curve and Log-logistic Regression\", \n",
    "     xlab = \"Time\", ylab = \"Survival Probability\", xlim = c(0, max(lung$time)), ylim = c(0, 1))\n",
    "\n",
    "# 在同一图中添加对数正态回归生存函数\n",
    "lines(time_seq, 1 - surv_prob_loglogit, col = \"red\", lwd = 2, lty = 2)"
   ]
  },
  {
   "cell_type": "markdown",
   "metadata": {},
   "source": [
    "## 广义伽马回归"
   ]
  },
  {
   "cell_type": "code",
   "execution_count": 1,
   "metadata": {
    "vscode": {
     "languageId": "r"
    }
   },
   "outputs": [
    {
     "name": "stdout",
     "output_type": "stream",
     "text": []
    }
   ],
   "source": [
    "# 加载必要的包\n",
    "library(survival)\n",
    "library(flexsurv)\n",
    "library(survminer)"
   ]
  },
  {
   "cell_type": "code",
   "execution_count": 5,
   "metadata": {
    "vscode": {
     "languageId": "r"
    }
   },
   "outputs": [
    {
     "name": "stdout",
     "output_type": "stream",
     "text": []
    }
   ],
   "source": [
    "# 拟合广义伽马模型，不考虑任何协变量\n",
    "fit_gengamma <- flexsurvreg(\n",
    "  Surv(time, status) ~ 1,\n",
    "  data = lung,\n",
    "  dist = \"gengamma\"\n",
    ")\n",
    "\n",
    "# 提取广义伽马参数以及AIC和BIC\n",
    "params_gengamma <- c(\n",
    "  coef(fit_gengamma)[1, 1],  # Mu\n",
    "  fit_gengamma$res[2, 1],  # Sigma\n",
    "  fit_gengamma$res[3, 1],  # Q\n",
    "  AIC(fit_gengamma),  # AIC\n",
    "  BIC(fit_gengamma)  # BIC\n",
    ")"
   ]
  },
  {
   "cell_type": "code",
   "execution_count": 6,
   "metadata": {
    "vscode": {
     "languageId": "r"
    }
   },
   "outputs": [
    {
     "name": "stdout",
     "output_type": "stream",
     "text": []
    }
   ],
   "source": [
    "fit_gengamma$res"
   ]
  },
  {
   "cell_type": "code",
   "execution_count": 7,
   "metadata": {
    "vscode": {
     "languageId": "r"
    }
   },
   "outputs": [
    {
     "name": "stdout",
     "output_type": "stream",
     "text": []
    }
   ],
   "source": [
    "# 设定时间\n",
    "time_seq <- seq(0, 1000, 0.1)\n",
    "\n",
    "# 计算生存函数\n",
    "surv_prob_gengamma <- 1 - pgengamma(\n",
    "  time_seq,\n",
    "  mu = params_gengamma[1],\n",
    "  sigma = params_gengamma[2],\n",
    "  Q = params_gengamma[3]\n",
    ")\n",
    "\n",
    "# 绘制 Kaplan-Meier 曲线\n",
    "km_fit <- survfit(Surv(time, status) ~ 1, data = lung)\n",
    "\n",
    "plot(\n",
    "  km_fit,\n",
    "  col = \"blue\",\n",
    "  lwd = 2,\n",
    "  main = \"KM Curve and Generalized Gamma Regression\",\n",
    "  xlab = \"Time\",\n",
    "  ylab = \"Survival Probability\",\n",
    "  xlim = c(0, max(lung$time)),\n",
    "  ylim = c(0, 1)\n",
    ")\n",
    "\n",
    "# 在同一图中添加gengamma回归生存函数\n",
    "lines(time_seq, surv_prob_gengamma, col = \"red\", lwd = 2, lty = 2)"
   ]
  },
  {
   "cell_type": "markdown",
   "metadata": {},
   "source": [
    "## 构造统一模型"
   ]
  },
  {
   "cell_type": "code",
   "execution_count": null,
   "metadata": {
    "vscode": {
     "languageId": "r"
    }
   },
   "outputs": [
    {
     "name": "stdout",
     "output_type": "stream",
     "text": []
    },
    {
     "name": "stdout",
     "output_type": "stream",
     "text": []
    }
   ],
   "source": [
    "PSM_god <- function(data) {\n",
    "  # 这是一个PSM的神级函数，功能包括：\n",
    "  # 拟合6种模型并返回参数，返回AIC和BIC\n",
    "  # 一图展示KM曲线与拟合曲线，直观明了\n",
    "  # 将预测概率存到一个EXCEL中，以供测验\n",
    "  # 提供对应参数的EXCEL公式，方便使用\n",
    "\n",
    "  # 设置数值显示格式，禁用科学计数法\n",
    "  old_scipen <- options(\"scipen\")\n",
    "  options(scipen = 999)  # 设置一个大值来禁用科学计数法\n",
    "\n",
    "  \n",
    "  # 加载必要的包\n",
    "  library(survival)\n",
    "  library(flexsurv)\n",
    "  library(survminer)\n",
    "  library(ggplot2)\n",
    "  library(tidyr)\n",
    "  library(dplyr)\n",
    "\n",
    "\n",
    "  # 拟合指数回归模型\n",
    "  fit_exp <- survreg(\n",
    "    Surv(time, status) ~ 1,\n",
    "    data = data,\n",
    "    dist = \"exp\"\n",
    "  )\n",
    "  # 提取指数分布参数以及AIC和BIC\n",
    "  params_exp <- c(\n",
    "    1 / exp(coef(fit_exp)),  # Lambda\n",
    "    NA,  # Gamma\n",
    "    NA,  # Delta\n",
    "    AIC(fit_exp),  # AIC\n",
    "    BIC(fit_exp)  # BIC\n",
    "  )\n",
    "\n",
    "\n",
    "  # 拟合Weibull回归模型\n",
    "  fit_weibull <- survreg(\n",
    "    Surv(time, status) ~ 1,\n",
    "    data = data,\n",
    "    dist = \"weibull\"\n",
    "  )\n",
    "  # 提取Weibull分布参数以及AIC和BIC\n",
    "  params_weibull <- c(\n",
    "    1 / fit_weibull$scale,  # Lambda\n",
    "    exp(coef(fit_weibull)[1]),  # Gamma\n",
    "    NA,  # Delta\n",
    "    AIC(fit_weibull),  # AIC\n",
    "    BIC(fit_weibull)  # BIC\n",
    "  )\n",
    "\n",
    "\n",
    "  # 拟合Gompertz回归模型\n",
    "  fit_gompertz <- flexsurvreg(\n",
    "    Surv(time, status) ~ 1,\n",
    "    data = data,\n",
    "    dist = \"gompertz\"\n",
    "  )\n",
    "  # 提取Gompertz分布参数以及AIC和BIC\n",
    "  params_gompertz <- c(\n",
    "    fit_gompertz$res[2, 1],  # Lambda\n",
    "    fit_gompertz$res[1, 1],  # Gamma\n",
    "    NA,  # Delta\n",
    "    AIC(fit_gompertz),  # AIC\n",
    "    BIC(fit_gompertz)  # BIC\n",
    "  )\n",
    "\n",
    "\n",
    "  # 拟合对数正态回归模型\n",
    "  fit_lognormal <- survreg(\n",
    "    Surv(time, status) ~ 1,\n",
    "    data = data, \n",
    "    dist = \"lognormal\"\n",
    "  )\n",
    "  # 提取对数正态分布参数以及AIC和BIC\n",
    "  params_lognormal <- c(\n",
    "    coef(fit_lognormal)[1],  # Lambda\n",
    "    fit_lognormal$scale,  # Gamma\n",
    "    NA,  # Delta\n",
    "    AIC(fit_lognormal),  # AIC\n",
    "    BIC(fit_lognormal)  # BIC\n",
    "  )\n",
    "\n",
    "\n",
    "  # 拟合对数逻辑回归模型\n",
    "  fit_loglogit <- survreg(\n",
    "    Surv(time, status) ~ 1,\n",
    "    data = data,\n",
    "    dist = \"loglogistic\"\n",
    "  )\n",
    "  # 提取对数逻辑分布参数以及AIC和BIC\n",
    "  params_loglogit <- c(\n",
    "    coef(fit_loglogit)[1],  # Lambda\n",
    "    fit_loglogit$scale,  # Gamma\n",
    "    NA,  # Delta\n",
    "    AIC(fit_loglogit),  # AIC\n",
    "    BIC(fit_loglogit)  # BIC\n",
    "  )\n",
    "\n",
    "\n",
    "  # 拟合广义伽马模型，不考虑任何协变量\n",
    "  fit_gengamma <- flexsurvreg(\n",
    "    Surv(time, status) ~ 1,\n",
    "    data = data,\n",
    "    dist = \"gengamma\"\n",
    "  )\n",
    "\n",
    "  # 提取广义伽马参数以及AIC和BIC\n",
    "  params_gengamma <- c(\n",
    "    coef(fit_gengamma)[1],  # Mu\n",
    "    fit_gengamma$res[2, 1],  # Sigma\n",
    "    fit_gengamma$res[3, 1],  # Q\n",
    "    AIC(fit_gengamma),  # AIC\n",
    "    BIC(fit_gengamma)  # BIC\n",
    "  )\n",
    "\n",
    "  \n",
    "  # 以数据表形式打印结果\n",
    "  # 结果数据框中格式化显示\n",
    "  result <- data.frame(\n",
    "    row.names = c(\n",
    "      \"Exp\", \"Weibull\", \"Gompertz\", \n",
    "      \"Log-normal\", \"Log-logistic\", \"Generalized Gamma\"\n",
    "    ),\n",
    "    LAMBDA = format(c(\n",
    "      params_exp[1], params_weibull[1], params_gompertz[1],\n",
    "      params_lognormal[1], params_loglogit[1], params_gengamma[1]\n",
    "    ), scientific = FALSE),\n",
    "    GAMMA = format(c(\n",
    "      params_exp[2], params_weibull[2], params_gompertz[2],\n",
    "      params_lognormal[2], params_loglogit[2], params_gengamma[2]\n",
    "    ), scientific = FALSE),\n",
    "    DELTA = format(c(\n",
    "      params_exp[3], params_weibull[3], params_gompertz[3],\n",
    "      params_lognormal[3], params_loglogit[3], params_gengamma[3]\n",
    "    ), scientific = FALSE),\n",
    "    AIC = format(c(\n",
    "      params_exp[4], params_weibull[4], params_gompertz[4],\n",
    "      params_lognormal[4], params_loglogit[4], params_gengamma[4]\n",
    "    ), scientific = FALSE),\n",
    "    BIC = format(c(\n",
    "      params_exp[5], params_weibull[5], params_gompertz[5],\n",
    "      params_lognormal[5], params_loglogit[5], params_gengamma[5]\n",
    "    ), scientific = FALSE)\n",
    "  )\n",
    "\n",
    "  # 打印结果\n",
    "  cat(\"PSM Results:\", \"\\n\")\n",
    "  print(result)\n",
    "  cat(\"---------------------------------------------------------------------\", \"\\n\")\n",
    "\n",
    "  # 指出最佳模型\n",
    "  best_model <- rownames(result)[which.min(result$AIC)]\n",
    "  cat(\"The best model is\", best_model, \"\\n\")\n",
    "  cat(\"AIC:\", result[best_model, \"AIC\"], \"\\n\")\n",
    "  cat(\"BIC:\", result[best_model, \"BIC\"], \"\\n\")\n",
    "  cat(\"---------------------------------------------------------------------\", \"\\n\")\n",
    "\n",
    "  # 恢复原来的设置\n",
    "  options(scipen = old_scipen$scipen)\n",
    "\n",
    "  # 对应EXCEL公式\n",
    "  cat(\"Excel formula\", \"\\n\")\n",
    "  cat(\"Exp:\", \"1 - EXPON.DIST(x = time, lambda = Lambda, TRUE)\", \"\\n\")\n",
    "  cat(\"Weibull:\", \"1 - WEIBULL(x = time, alpha = Lambda, beta = Gammma, TRUE)\", \"\\n\")\n",
    "  cat(\"Gompertz:\", \"EXP( -LAMBDA / GAMMA * (EXP(GAMMA * time) - 1) )\", \"\\n\")\n",
    "  cat(\"Log-normal:\", \"1 - NORM.DIST(LN(time), mean = LAMBDA, standard_dev = GAMMA, TRUE)\", \"\\n\")\n",
    "  cat(\"Log-logistic:\", \"1 - 1 / (1 + EXP(-(LN(time) - LAMBDA) / GAMMA))\", \"\\n\")\n",
    "  cat(\"Generalized Gamma:\", \"1 - GAMMA.DIST(x = 1/Delta^2 * EXP(Delta * (LN(time)-LAMBDA) / GAMMA), ALPHA = Delta^(-2), Beta = 1, TRUE)\", \"\\n\")\n",
    "  cat(\"---------------------------------------------------------------------\", \"\\n\")\n",
    "  \n",
    "  # 填入对应的参数的EXCEL公式\n",
    "  cat(\"Excel formula with parameters\", \"\\n\")\n",
    "  cat(\"Exp:\", \"1 - EXPON.DIST(time, \", params_exp[1], \", TRUE)\", \"\\n\")\n",
    "  cat(\"Weibull:\", \"1 - WEIBULL(time, \", params_weibull[1], \", \", params_weibull[2], \", TRUE)\", \"\\n\")\n",
    "  cat(\"Gompertz:\", \"EXP( -\", params_gompertz[1], \" / \", params_gompertz[2], \" * (EXP(\", params_gompertz[2], \" * time) - 1) )\", \"\\n\")\n",
    "  cat(\"Log-normal:\", \"1 - NORM.DIST(LN(time), \", params_lognormal[1], \", \", params_lognormal[2], \", TRUE)\", \"\\n\")\n",
    "  cat(\"Log-logistic:\", \"1 - 1 / (1 + EXP(-(LN(time) - \", params_loglogit[1], \") / \", params_loglogit[2], \"))\", \"\\n\")\n",
    "  cat(\"Generalized Gamma:\", \"1 - GAMMA.DIST(x = 1/\", params_gengamma[3], \"^2 * EXP(\", params_gengamma[3], \" * (LN(time)-\", params_gengamma[1], \") / \", params_gengamma[2], \"), \", 1/params_gengamma[3]^2, \", Beta = 1, TRUE)\", \"\\n\")\n",
    "  cat(\"---------------------------------------------------------------------\", \"\\n\")\n",
    "\n",
    "  # 绘制所有曲线与KM曲线，标签标明\n",
    "  # 设定时间\n",
    "  time_seq <- seq(0, 1000, 0.1)\n",
    "\n",
    "  # 计算生存函数\n",
    "  surv_prob_exp <- 1 - pexp(time_seq, rate = params_exp[1])\n",
    "  surv_prob_weibull <- 1 - pweibull(\n",
    "    time_seq,\n",
    "    shape = params_weibull[1],\n",
    "    scale = params_weibull[2]\n",
    "  )\n",
    "  surv_prob_gompertz <- 1 - pgompertz(\n",
    "    time_seq,\n",
    "    shape = params_gompertz[2],\n",
    "    rate = params_gompertz[1]\n",
    "  )\n",
    "  surv_prob_lognormal <- 1 - pnorm(\n",
    "    log(time_seq),\n",
    "    mean = params_lognormal[1],\n",
    "    sd = params_lognormal[2]\n",
    "  )\n",
    "  surv_prob_loglogit <- 1 - 1 / (1 + exp(-(log(time_seq) - params_loglogit[1]) / params_loglogit[2]))\n",
    "  surv_prob_gengamma <- 1 - pgengamma(\n",
    "    time_seq,\n",
    "    mu = params_gengamma[1],\n",
    "    sigma = params_gengamma[2],\n",
    "    Q = params_gengamma[3]\n",
    "  )\n",
    "\n",
    "  # 绘制 Kaplan-Meier 曲线\n",
    "  km_fit <- survfit(Surv(time, status) ~ 1, data = lung)\n",
    "  plot(\n",
    "    km_fit,\n",
    "    col = \"#ff5e00\",\n",
    "    lwd = 2,\n",
    "    main = \"KM Curve and Regression\",\n",
    "    xlab = \"Time\",\n",
    "    ylab = \"Survival Probability\",\n",
    "    xlim = c(0, max(lung$time)),\n",
    "    ylim = c(0, 1)\n",
    "  )\n",
    "\n",
    "  # 在同一图中添加所有回归生存函数\n",
    "  lines(time_seq, surv_prob_exp, col = \"red\", lwd = 2, lty = 2)\n",
    "  lines(time_seq, surv_prob_weibull, col = \"green\", lwd = 2, lty = 2)\n",
    "  lines(time_seq, surv_prob_gompertz, col = \"blue\", lwd = 2, lty = 2)\n",
    "  lines(time_seq, surv_prob_lognormal, col = \"purple\", lwd = 2, lty = 2)\n",
    "  lines(time_seq, surv_prob_loglogit, col = \"orange\", lwd = 2, lty = 2)\n",
    "  lines(time_seq, surv_prob_gengamma, col = \"black\", lwd = 2, lty = 2)\n",
    "\n",
    "  # 添加图例\n",
    "  legend(\n",
    "    \"topright\",\n",
    "    legend = c(\n",
    "      \"KM\", \"Exp\", \"Weibull\", \"Gompertz\",\n",
    "      \"Log-normal\", \"Log-logistic\", \"Generalized Gamma\"\n",
    "    ),\n",
    "    col = c(\n",
    "      \"#ff5e00\", \"red\", \"green\",\"blue\",\n",
    "      \"purple\", \"orange\", \"black\"\n",
    "    ),\n",
    "    lty = 1,\n",
    "    lwd = 2\n",
    "  )\n",
    "\n",
    "\n",
    "  # 将预测概率存到一个excel中，以供测验\n",
    "  write.csv(\n",
    "    data.frame(\n",
    "      time = time_seq,\n",
    "      exp = surv_prob_exp,\n",
    "      weibull = surv_prob_weibull,\n",
    "      gompertz = surv_prob_gompertz,\n",
    "      lognormal = surv_prob_lognormal,\n",
    "      loglogit = surv_prob_loglogit,\n",
    "      gengamma = surv_prob_gengamma\n",
    "    ),\n",
    "    \"survival_probabilities.csv\",\n",
    "    row.names = FALSE\n",
    "  )\n",
    "}\n",
    "\n",
    "PSM_god(lung)"
   ]
  },
  {
   "cell_type": "code",
   "execution_count": null,
   "metadata": {
    "vscode": {
     "languageId": "r"
    }
   },
   "outputs": [
    {
     "name": "stdout",
     "output_type": "stream",
     "text": []
    },
    {
     "name": "stdout",
     "output_type": "stream",
     "text": []
    },
    {
     "name": "stdout",
     "output_type": "stream",
     "text": []
    }
   ],
   "source": [
    "PSM_god <- function(data) {\n",
    "  # 这是一个PSM的神级函数，功能包括：\n",
    "  # 拟合6种模型并返回参数，返回AIC和BIC\n",
    "  # 一图展示KM曲线与拟合曲线，直观明了\n",
    "  # 将预测概率存到一个EXCEL中，以供测验\n",
    "  # 提供对应参数的EXCEL公式，方便使用\n",
    "\n",
    "  # 设置数值显示格式，禁用科学计数法\n",
    "  old_scipen <- options(\"scipen\")\n",
    "  options(scipen = 999)  # 设置一个大值来禁用科学计数法\n",
    "\n",
    "  \n",
    "  # 加载必要的包\n",
    "  library(survival)\n",
    "  library(flexsurv)\n",
    "  library(survminer)\n",
    "  library(ggplot2)\n",
    "  library(tidyr)\n",
    "  library(dplyr)\n",
    "\n",
    "\n",
    "  # 拟合指数回归模型\n",
    "  fit_exp <- survreg(\n",
    "    Surv(time, status) ~ 1,\n",
    "    data = data,\n",
    "    dist = \"exp\"\n",
    "  )\n",
    "  # 提取指数分布参数以及AIC和BIC\n",
    "  params_exp <- c(\n",
    "    1 / exp(coef(fit_exp)),  # Lambda\n",
    "    NA,  # Gamma\n",
    "    NA,  # Delta\n",
    "    AIC(fit_exp),  # AIC\n",
    "    BIC(fit_exp)  # BIC\n",
    "  )\n",
    "\n",
    "\n",
    "  # 拟合Weibull回归模型\n",
    "  fit_weibull <- survreg(\n",
    "    Surv(time, status) ~ 1,\n",
    "    data = data,\n",
    "    dist = \"weibull\"\n",
    "  )\n",
    "  # 提取Weibull分布参数以及AIC和BIC\n",
    "  params_weibull <- c(\n",
    "    1 / fit_weibull$scale,  # Lambda\n",
    "    exp(coef(fit_weibull)[1]),  # Gamma\n",
    "    NA,  # Delta\n",
    "    AIC(fit_weibull),  # AIC\n",
    "    BIC(fit_weibull)  # BIC\n",
    "  )\n",
    "\n",
    "\n",
    "  # 拟合Gompertz回归模型\n",
    "  fit_gompertz <- flexsurvreg(\n",
    "    Surv(time, status) ~ 1,\n",
    "    data = data,\n",
    "    dist = \"gompertz\"\n",
    "  )\n",
    "  # 提取Gompertz分布参数以及AIC和BIC\n",
    "  params_gompertz <- c(\n",
    "    fit_gompertz$res[2, 1],  # Lambda\n",
    "    fit_gompertz$res[1, 1],  # Gamma\n",
    "    NA,  # Delta\n",
    "    AIC(fit_gompertz),  # AIC\n",
    "    BIC(fit_gompertz)  # BIC\n",
    "  )\n",
    "\n",
    "\n",
    "  # 拟合对数正态回归模型\n",
    "  fit_lognormal <- survreg(\n",
    "    Surv(time, status) ~ 1,\n",
    "    data = data, \n",
    "    dist = \"lognormal\"\n",
    "  )\n",
    "  # 提取对数正态分布参数以及AIC和BIC\n",
    "  params_lognormal <- c(\n",
    "    coef(fit_lognormal)[1],  # Lambda\n",
    "    fit_lognormal$scale,  # Gamma\n",
    "    NA,  # Delta\n",
    "    AIC(fit_lognormal),  # AIC\n",
    "    BIC(fit_lognormal)  # BIC\n",
    "  )\n",
    "\n",
    "\n",
    "  # 拟合对数逻辑回归模型\n",
    "  fit_loglogit <- survreg(\n",
    "    Surv(time, status) ~ 1,\n",
    "    data = data,\n",
    "    dist = \"loglogistic\"\n",
    "  )\n",
    "  # 提取对数逻辑分布参数以及AIC和BIC\n",
    "  params_loglogit <- c(\n",
    "    coef(fit_loglogit)[1],  # Lambda\n",
    "    fit_loglogit$scale,  # Gamma\n",
    "    NA,  # Delta\n",
    "    AIC(fit_loglogit),  # AIC\n",
    "    BIC(fit_loglogit)  # BIC\n",
    "  )\n",
    "\n",
    "\n",
    "  # 拟合广义伽马模型，不考虑任何协变量\n",
    "  fit_gengamma <- flexsurvreg(\n",
    "    Surv(time, status) ~ 1,\n",
    "    data = lung,\n",
    "    dist = \"gengamma\"\n",
    "  )\n",
    "\n",
    "  # 提取广义伽马参数以及AIC和BIC\n",
    "  params_gengamma <- c(\n",
    "    coef(fit_gengamma)[1],  # Mu\n",
    "    fit_gengamma$res[2, 1],  # Sigma\n",
    "    fit_gengamma$res[3, 1],  # Q\n",
    "    AIC(fit_gengamma),  # AIC\n",
    "    BIC(fit_gengamma)  # BIC\n",
    "  )\n",
    "\n",
    "  # 拟合伽马模型\n",
    "  fit_gamma <- flexsurvreg(\n",
    "    Surv(time, status) ~ 1,\n",
    "    data = lung,\n",
    "    dist = \"gamma\"\n",
    "  )\n",
    "\n",
    "  # 提取广义伽马参数以及AIC和BIC\n",
    "  params_gamma <- c(\n",
    "    coef(fit_gamma)[1],  # Mu\n",
    "    fit_gamma$res[2, 1],  # Sigma\n",
    "    NA,  # Q\n",
    "    AIC(fit_gamma),  # AIC\n",
    "    BIC(fit_gamma)  # BIC\n",
    "  )\n",
    "\n",
    "  \n",
    "  # 以数据表形式打印结果\n",
    "  # 结果数据框中格式化显示\n",
    "  result <- data.frame(\n",
    "    row.names = c(\n",
    "      \"Exp\", \"Weibull\", \"Gompertz\", \n",
    "      \"Log-normal\", \"Log-logistic\", \"Generalized Gamma\"\n",
    "    ),\n",
    "    LAMBDA = format(c(\n",
    "      params_exp[1], params_weibull[1], params_gompertz[1],\n",
    "      params_lognormal[1], params_loglogit[1], params_gengamma[1],\n",
    "      params_gamma[1]\n",
    "    ), scientific = FALSE),\n",
    "    GAMMA = format(c(\n",
    "      params_exp[2], params_weibull[2], params_gompertz[2],\n",
    "      params_lognormal[2], params_loglogit[2], params_gengamma[2],\n",
    "      params_gamma[2]\n",
    "    ), scientific = FALSE),\n",
    "    DELTA = format(c(\n",
    "      params_exp[3], params_weibull[3], params_gompertz[3],\n",
    "      params_lognormal[3], params_loglogit[3], params_gengamma[3],\n",
    "      params_gamma[3]\n",
    "    ), scientific = FALSE),\n",
    "    AIC = format(c(\n",
    "      params_exp[4], params_weibull[4], params_gompertz[4],\n",
    "      params_lognormal[4], params_loglogit[4], params_gengamma[4],\n",
    "      params_gamma[4]\n",
    "    ), scientific = FALSE),\n",
    "    BIC = format(c(\n",
    "      params_exp[5], params_weibull[5], params_gompertz[5],\n",
    "      params_lognormal[5], params_loglogit[5], params_gengamma[5],\n",
    "      params_gamma[5]\n",
    "    ), scientific = FALSE)\n",
    "  )\n",
    "\n",
    "  # 打印结果\n",
    "  cat(\"PSM Results:\", \"\\n\")\n",
    "  print(result)\n",
    "  cat(\"---------------------------------------------------------------------\", \"\\n\")\n",
    "\n",
    "  # 指出最佳模型\n",
    "  best_model <- rownames(result)[which.min(result$AIC)]\n",
    "  cat(\"The best model is\", best_model, \"\\n\")\n",
    "  cat(\"AIC:\", result[best_model, \"AIC\"], \"\\n\")\n",
    "  cat(\"BIC:\", result[best_model, \"BIC\"], \"\\n\")\n",
    "  cat(\"---------------------------------------------------------------------\", \"\\n\")\n",
    "\n",
    "  # 恢复原来的设置\n",
    "  options(scipen = old_scipen$scipen)\n",
    "\n",
    "  # 对应EXCEL公式\n",
    "  cat(\"Excel formula\", \"\\n\")\n",
    "  cat(\"Exp:\", \"1 - EXPON.DIST(x = time, lambda = Lambda, TRUE)\", \"\\n\")\n",
    "  cat(\"Weibull:\", \"1 - WEIBULL(x = time, alpha = Lambda, beta = Gammma, TRUE)\", \"\\n\")\n",
    "  cat(\"Gompertz:\", \"EXP( -LAMBDA / GAMMA * (EXP(GAMMA * time) - 1) )\", \"\\n\")\n",
    "  cat(\"Log-normal:\", \"1 - NORM.DIST(LN(time), mean = LAMBDA, standard_dev = GAMMA, TRUE)\", \"\\n\")\n",
    "  cat(\"Log-logistic:\", \"1 - 1 / (1 + EXP(-(LN(time) - LAMBDA) / GAMMA))\", \"\\n\")\n",
    "  cat(\"Generalized Gamma:\", \"1 - GAMMA.DIST(x = 1/Delta^2 * EXP(Delta * (LN(time)-LAMBDA) / GAMMA), ALPHA = Delta^(-2), Beta = 1, TRUE)\", \"\\n\")\n",
    "  cat(\"---------------------------------------------------------------------\", \"\\n\")\n",
    "  \n",
    "  # 填入对应的参数的EXCEL公式\n",
    "  cat(\"Excel formula with parameters\", \"\\n\")\n",
    "  cat(\"Exp:\", \"1 - EXPON.DIST(time, \", params_exp[1], \", TRUE)\", \"\\n\")\n",
    "  cat(\"Weibull:\", \"1 - WEIBULL(time, \", params_weibull[1], \", \", params_weibull[2], \", TRUE)\", \"\\n\")\n",
    "  cat(\"Gompertz:\", \"EXP( -\", params_gompertz[1], \" / \", params_gompertz[2], \" * (EXP(\", params_gompertz[2], \" * time) - 1) )\", \"\\n\")\n",
    "  cat(\"Log-normal:\", \"1 - NORM.DIST(LN(time), \", params_lognormal[1], \", \", params_lognormal[2], \", TRUE)\", \"\\n\")\n",
    "  cat(\"Log-logistic:\", \"1 - 1 / (1 + EXP(-(LN(time) - \", params_loglogit[1], \") / \", params_loglogit[2], \"))\", \"\\n\")\n",
    "  cat(\"Generalized Gamma:\", \"1 - GAMMA.DIST(x = 1/\", params_gengamma[3], \"^2 * EXP(\", params_gengamma[3], \" * (LN(time)-\", params_gengamma[1], \") / \", params_gengamma[2], \"), \", 1/params_gengamma[3]^2, \", Beta = 1, TRUE)\", \"\\n\")\n",
    "  cat(\"---------------------------------------------------------------------\", \"\\n\")\n",
    "\n",
    "  library(ggplot2)\n",
    "\n",
    "  # 生成预测数据框\n",
    "  time_seq <- seq(0, max(data$time), 0.1)\n",
    "  surv_probs <- data.frame(\n",
    "    time = time_seq,\n",
    "    KM = NA,  # 占位，后续用真实KM数据替换\n",
    "    Exp = 1 - pexp(time_seq, rate = params_exp[1]),\n",
    "    Weibull = 1 - pweibull(time_seq, shape = params_weibull[1], scale = params_weibull[2]),\n",
    "    Gompertz = 1 - pgompertz(time_seq, shape = params_gompertz[2], rate = params_gompertz[1]),\n",
    "    LogNormal = 1 - pnorm(log(time_seq), mean = params_lognormal[1], sd = params_lognormal[2]),\n",
    "    LogLogistic = 1 - 1/(1 + exp(-(log(time_seq) - params_loglogit[1])/params_loglogit[2])),\n",
    "    GeneralizedGamma = 1 - pgengamma(time_seq, mu = params_gengamma[1], sigma = params_gengamma[2], Q = params_gengamma[3]),\n",
    "    Gamma = 1 - pgamma(time_seq, shape = params_gamma[1], scale = params_gamma[2])\n",
    "  )\n",
    "\n",
    "  # 提取KM曲线数据\n",
    "  km_fit <- survfit(Surv(time, status) ~ 1, data = data)\n",
    "  km_df <- data.frame(\n",
    "    time = km_fit$time,\n",
    "    surv = km_fit$surv,\n",
    "    upper = km_fit$upper,\n",
    "    lower = km_fit$lower\n",
    "  )\n",
    "\n",
    "  # 转换成长格式便于ggplot绘图\n",
    "  surv_probs_long <- surv_probs %>%\n",
    "    pivot_longer(\n",
    "      cols = -time,\n",
    "      names_to = \"Model\",\n",
    "      values_to = \"survival\"\n",
    "    )\n",
    "\n",
    "  # 自定义颜色和线型\n",
    "  model_colors <- c(\n",
    "    \"KM\" = \"#ff5e00\",\n",
    "    \"Exp\" = \"red\",\n",
    "    \"Weibull\" = \"green\",\n",
    "    \"Gompertz\" = \"blue\",\n",
    "    \"LogNormal\" = \"purple\",\n",
    "    \"LogLogistic\" = \"orange\",\n",
    "    \"GeneralizedGamma\" = \"black\",\n",
    "    \"Gamma\" = \"brown\"\n",
    "  )\n",
    "  model_linetype <- c(\n",
    "    \"KM\" = \"solid\",\n",
    "    \"Exp\" = \"dashed\",\n",
    "    \"Weibull\" = \"dashed\",\n",
    "    \"Gompertz\" = \"dashed\",\n",
    "    \"LogNormal\" = \"dashed\",\n",
    "    \"LogLogistic\" = \"dashed\",\n",
    "    \"GeneralizedGamma\" = \"dashed\",\n",
    "    \"Gamma\" = \"dashed\"\n",
    "  )\n",
    "\n",
    "  # 绘制图形\n",
    "  p <- ggplot() +\n",
    "    # 绘制KM曲线（阶梯线）\n",
    "    geom_step(\n",
    "      data = km_df,\n",
    "      aes(x = time, y = surv, color = \"KM\", linetype = \"KM\"),\n",
    "      size = 1.2\n",
    "    ) +\n",
    "    # 绘制置信区间\n",
    "    geom_ribbon(\n",
    "      data = km_df,\n",
    "      aes(x = time, ymin = lower, ymax = upper),\n",
    "      fill = \"gray\",\n",
    "      alpha = 0.3\n",
    "    ) +\n",
    "    # 绘制参数模型曲线\n",
    "    geom_line(\n",
    "      data = surv_probs_long,\n",
    "      aes(x = time, y = survival, color = Model, linetype = Model),\n",
    "      size = 0.8\n",
    "    ) +\n",
    "    # 坐标轴设置\n",
    "    scale_x_continuous(limits = c(0, max(data$time))) +\n",
    "    scale_y_continuous(limits = c(0, 1)) +\n",
    "    # 颜色和线型映射\n",
    "    scale_color_manual(values = model_colors) +\n",
    "    scale_linetype_manual(values = model_linetype) +\n",
    "    # 标签和主题\n",
    "    labs(\n",
    "      title = \"KM Curve and Parametric Models\",\n",
    "      x = \"Time\",\n",
    "      y = \"Survival Probability\",\n",
    "      color = \"Model\",\n",
    "      linetype = \"Model\"\n",
    "    ) +\n",
    "    theme_bw() +\n",
    "    theme(\n",
    "      legend.position = c(0.95, 0.95),\n",
    "      legend.justification = c(1, 1),\n",
    "      legend.background = element_blank(),\n",
    "      plot.title = element_text(hjust = 0.5)\n",
    "    )\n",
    "\n",
    "  print(p)\n",
    "}\n",
    "\n",
    "PSM_god(lung)"
   ]
  },
  {
   "cell_type": "code",
   "execution_count": null,
   "metadata": {
    "vscode": {
     "languageId": "r"
    }
   },
   "outputs": [
    {
     "name": "stdout",
     "output_type": "stream",
     "text": []
    },
    {
     "name": "stdout",
     "output_type": "stream",
     "text": []
    },
    {
     "name": "stdout",
     "output_type": "stream",
     "text": []
    }
   ],
   "source": [
    "PSM_god <- function(data) {\n",
    "  # 这是一个PSM的神级函数，功能包括：\n",
    "  # 拟合6种模型并返回参数，返回AIC和BIC\n",
    "  # 一图展示KM曲线与拟合曲线，直观明了\n",
    "  # 将预测概率存到一个EXCEL中，以供测验\n",
    "  # 提供对应参数的EXCEL公式，方便使用\n",
    "\n",
    "  # 设置数值显示格式，禁用科学计数法\n",
    "  old_scipen <- options(\"scipen\")\n",
    "  options(scipen = 999)  # 设置一个大值来禁用科学计数法\n",
    "\n",
    "  \n",
    "  # 加载必要的包\n",
    "  library(survival)\n",
    "  library(flexsurv)\n",
    "  library(survminer)\n",
    "  library(ggplot2)\n",
    "  library(tidyr)\n",
    "  library(dplyr)\n",
    "\n",
    "\n",
    "  # 拟合指数回归模型\n",
    "  fit_exp <- survreg(\n",
    "    Surv(time, status) ~ 1,\n",
    "    data = data,\n",
    "    dist = \"exp\"\n",
    "  )\n",
    "  # 提取指数分布参数以及AIC和BIC\n",
    "  params_exp <- c(\n",
    "    1 / exp(coef(fit_exp)),  # Lambda\n",
    "    NA,  # Gamma\n",
    "    NA,  # Delta\n",
    "    AIC(fit_exp),  # AIC\n",
    "    BIC(fit_exp)  # BIC\n",
    "  )\n",
    "\n",
    "\n",
    "  # 拟合Weibull回归模型\n",
    "  fit_weibull <- survreg(\n",
    "    Surv(time, status) ~ 1,\n",
    "    data = data,\n",
    "    dist = \"weibull\"\n",
    "  )\n",
    "  # 提取Weibull分布参数以及AIC和BIC\n",
    "  params_weibull <- c(\n",
    "    1 / fit_weibull$scale,  # Lambda\n",
    "    exp(coef(fit_weibull)[1]),  # Gamma\n",
    "    NA,  # Delta\n",
    "    AIC(fit_weibull),  # AIC\n",
    "    BIC(fit_weibull)  # BIC\n",
    "  )\n",
    "\n",
    "\n",
    "  # 拟合Gompertz回归模型\n",
    "  fit_gompertz <- flexsurvreg(\n",
    "    Surv(time, status) ~ 1,\n",
    "    data = data,\n",
    "    dist = \"gompertz\"\n",
    "  )\n",
    "  # 提取Gompertz分布参数以及AIC和BIC\n",
    "  params_gompertz <- c(\n",
    "    fit_gompertz$res[2, 1],  # Lambda\n",
    "    fit_gompertz$res[1, 1],  # Gamma\n",
    "    NA,  # Delta\n",
    "    AIC(fit_gompertz),  # AIC\n",
    "    BIC(fit_gompertz)  # BIC\n",
    "  )\n",
    "\n",
    "\n",
    "  # 拟合对数正态回归模型\n",
    "  fit_lognormal <- survreg(\n",
    "    Surv(time, status) ~ 1,\n",
    "    data = data, \n",
    "    dist = \"lognormal\"\n",
    "  )\n",
    "  # 提取对数正态分布参数以及AIC和BIC\n",
    "  params_lognormal <- c(\n",
    "    coef(fit_lognormal)[1],  # Lambda\n",
    "    fit_lognormal$scale,  # Gamma\n",
    "    NA,  # Delta\n",
    "    AIC(fit_lognormal),  # AIC\n",
    "    BIC(fit_lognormal)  # BIC\n",
    "  )\n",
    "\n",
    "\n",
    "  # 拟合对数逻辑回归模型\n",
    "  fit_loglogit <- survreg(\n",
    "    Surv(time, status) ~ 1,\n",
    "    data = data,\n",
    "    dist = \"loglogistic\"\n",
    "  )\n",
    "  # 提取对数逻辑分布参数以及AIC和BIC\n",
    "  params_loglogit <- c(\n",
    "    coef(fit_loglogit)[1],  # Lambda\n",
    "    fit_loglogit$scale,  # Gamma\n",
    "    NA,  # Delta\n",
    "    AIC(fit_loglogit),  # AIC\n",
    "    BIC(fit_loglogit)  # BIC\n",
    "  )\n",
    "\n",
    "\n",
    "  # 拟合广义伽马模型，不考虑任何协变量\n",
    "  fit_gengamma <- flexsurvreg(\n",
    "    Surv(time, status) ~ 1,\n",
    "    data = data,\n",
    "    dist = \"gengamma\"\n",
    "  )\n",
    "\n",
    "  # 提取广义伽马参数以及AIC和BIC\n",
    "  params_gengamma <- c(\n",
    "    coef(fit_gengamma)[1],  # Mu\n",
    "    fit_gengamma$res[2, 1],  # Sigma\n",
    "    fit_gengamma$res[3, 1],  # Q\n",
    "    AIC(fit_gengamma),  # AIC\n",
    "    BIC(fit_gengamma)  # BIC\n",
    "  )\n",
    "\n",
    "  \n",
    "  # 以数据表形式打印结果\n",
    "  # 结果数据框中格式化显示\n",
    "  result <- data.frame(\n",
    "    row.names = c(\n",
    "      \"Exp\", \"Weibull\", \"Gompertz\", \n",
    "      \"Log-normal\", \"Log-logistic\", \"Generalized Gamma\"\n",
    "    ),\n",
    "    LAMBDA = format(c(\n",
    "      params_exp[1], params_weibull[1], params_gompertz[1],\n",
    "      params_lognormal[1], params_loglogit[1], params_gengamma[1]\n",
    "    ), scientific = FALSE),\n",
    "    GAMMA = format(c(\n",
    "      params_exp[2], params_weibull[2], params_gompertz[2],\n",
    "      params_lognormal[2], params_loglogit[2], params_gengamma[2]\n",
    "    ), scientific = FALSE),\n",
    "    DELTA = format(c(\n",
    "      params_exp[3], params_weibull[3], params_gompertz[3],\n",
    "      params_lognormal[3], params_loglogit[3], params_gengamma[3]\n",
    "    ), scientific = FALSE),\n",
    "    AIC = format(c(\n",
    "      params_exp[4], params_weibull[4], params_gompertz[4],\n",
    "      params_lognormal[4], params_loglogit[4], params_gengamma[4]\n",
    "    ), scientific = FALSE),\n",
    "    BIC = format(c(\n",
    "      params_exp[5], params_weibull[5], params_gompertz[5],\n",
    "      params_lognormal[5], params_loglogit[5], params_gengamma[5]\n",
    "    ), scientific = FALSE)\n",
    "  )\n",
    "\n",
    "  # 打印结果\n",
    "  cat(\"PSM Results:\", \"\\n\")\n",
    "  print(result)\n",
    "  cat(\"---------------------------------------------------------------------\", \"\\n\")\n",
    "\n",
    "  # 指出最佳模型\n",
    "  best_model <- rownames(result)[which.min(result$AIC)]\n",
    "  cat(\"The best model is\", best_model, \"\\n\")\n",
    "  cat(\"AIC:\", result[best_model, \"AIC\"], \"\\n\")\n",
    "  cat(\"BIC:\", result[best_model, \"BIC\"], \"\\n\")\n",
    "  cat(\"---------------------------------------------------------------------\", \"\\n\")\n",
    "\n",
    "  # 恢复原来的设置\n",
    "  options(scipen = old_scipen$scipen)\n",
    "\n",
    "  # 对应EXCEL公式\n",
    "  cat(\"Excel formula\", \"\\n\")\n",
    "  cat(\"Exp:\", \"1 - EXPON.DIST(x = time, lambda = Lambda, TRUE)\", \"\\n\")\n",
    "  cat(\"Weibull:\", \"1 - WEIBULL(x = time, alpha = Lambda, beta = Gammma, TRUE)\", \"\\n\")\n",
    "  cat(\"Gompertz:\", \"EXP( -LAMBDA / GAMMA * (EXP(GAMMA * time) - 1) )\", \"\\n\")\n",
    "  cat(\"Log-normal:\", \"1 - NORM.DIST(LN(time), mean = LAMBDA, standard_dev = GAMMA, TRUE)\", \"\\n\")\n",
    "  cat(\"Log-logistic:\", \"1 - 1 / (1 + EXP(-(LN(time) - LAMBDA) / GAMMA))\", \"\\n\")\n",
    "  cat(\"Generalized Gamma:\", \"1 - GAMMA.DIST(x = 1/Delta^2 * EXP(Delta * (LN(time)-LAMBDA) / GAMMA), ALPHA = Delta^(-2), Beta = 1, TRUE)\", \"\\n\")\n",
    "  cat(\"---------------------------------------------------------------------\", \"\\n\")\n",
    "  \n",
    "  # 填入对应的参数的EXCEL公式\n",
    "  cat(\"Excel formula with parameters\", \"\\n\")\n",
    "  cat(\"Exp:\", \"1 - EXPON.DIST(time, \", params_exp[1], \", TRUE)\", \"\\n\")\n",
    "  cat(\"Weibull:\", \"1 - WEIBULL(time, \", params_weibull[1], \", \", params_weibull[2], \", TRUE)\", \"\\n\")\n",
    "  cat(\"Gompertz:\", \"EXP( -\", params_gompertz[1], \" / \", params_gompertz[2], \" * (EXP(\", params_gompertz[2], \" * time) - 1) )\", \"\\n\")\n",
    "  cat(\"Log-normal:\", \"1 - NORM.DIST(LN(time), \", params_lognormal[1], \", \", params_lognormal[2], \", TRUE)\", \"\\n\")\n",
    "  cat(\"Log-logistic:\", \"1 - 1 / (1 + EXP(-(LN(time) - \", params_loglogit[1], \") / \", params_loglogit[2], \"))\", \"\\n\")\n",
    "  cat(\"Generalized Gamma:\", \"1 - GAMMA.DIST(x = 1/\", params_gengamma[3], \"^2 * EXP(\", params_gengamma[3], \" * (LN(time)-\", params_gengamma[1], \") / \", params_gengamma[2], \"), \", 1/params_gengamma[3]^2, \", Beta = 1, TRUE)\", \"\\n\")\n",
    "  cat(\"---------------------------------------------------------------------\", \"\\n\")\n",
    "\n",
    "  library(ggplot2)\n",
    "\n",
    "  # 生成预测数据框\n",
    "  time_seq <- seq(0, max(data$time), 0.1)\n",
    "  surv_probs <- data.frame(\n",
    "    time = time_seq,\n",
    "    KM = NA,  # 占位，后续用真实KM数据替换\n",
    "    Exp = 1 - pexp(time_seq, rate = params_exp[1]),\n",
    "    Weibull = 1 - pweibull(time_seq, shape = params_weibull[1], scale = params_weibull[2]),\n",
    "    Gompertz = 1 - pgompertz(time_seq, shape = params_gompertz[2], rate = params_gompertz[1]),\n",
    "    LogNormal = 1 - pnorm(log(time_seq), mean = params_lognormal[1], sd = params_lognormal[2]),\n",
    "    LogLogistic = 1 - 1/(1 + exp(-(log(time_seq) - params_loglogit[1])/params_loglogit[2])),\n",
    "    GeneralizedGamma = 1 - pgengamma(time_seq, mu = params_gengamma[1], sigma = params_gengamma[2], Q = params_gengamma[3])\n",
    "  )\n",
    "\n",
    "  # 提取KM曲线数据\n",
    "  km_fit <- survfit(Surv(time, status) ~ 1, data = data)\n",
    "  km_df <- data.frame(\n",
    "    time = km_fit$time,\n",
    "    surv = km_fit$surv,\n",
    "    upper = km_fit$upper,\n",
    "    lower = km_fit$lower\n",
    "  )\n",
    "\n",
    "  # 转换成长格式便于ggplot绘图\n",
    "  surv_probs_long <- surv_probs %>%\n",
    "    pivot_longer(\n",
    "      cols = -time,\n",
    "      names_to = \"Model\",\n",
    "      values_to = \"survival\"\n",
    "    )\n",
    "\n",
    "  # 自定义颜色和线型\n",
    "  model_colors <- c(\n",
    "    \"KM\" = \"#ff5e00\",\n",
    "    \"Exp\" = \"red\",\n",
    "    \"Weibull\" = \"green\",\n",
    "    \"Gompertz\" = \"blue\",\n",
    "    \"LogNormal\" = \"purple\",\n",
    "    \"LogLogistic\" = \"orange\",\n",
    "    \"GeneralizedGamma\" = \"black\"\n",
    "  )\n",
    "  model_linetype <- c(\n",
    "    \"KM\" = \"solid\",\n",
    "    \"Exp\" = \"dashed\",\n",
    "    \"Weibull\" = \"dashed\",\n",
    "    \"Gompertz\" = \"dashed\",\n",
    "    \"LogNormal\" = \"dashed\",\n",
    "    \"LogLogistic\" = \"dashed\",\n",
    "    \"GeneralizedGamma\" = \"dashed\"\n",
    "  )\n",
    "\n",
    "  # 绘制图形\n",
    "  p <- ggplot() +\n",
    "    # 绘制KM曲线（阶梯线）\n",
    "    geom_step(\n",
    "      data = km_df,\n",
    "      aes(x = time, y = surv, color = \"KM\", linetype = \"KM\"),\n",
    "      size = 1.2\n",
    "    ) +\n",
    "    # 绘制置信区间\n",
    "    geom_ribbon(\n",
    "      data = km_df,\n",
    "      aes(x = time, ymin = lower, ymax = upper),\n",
    "      fill = \"gray\",\n",
    "      alpha = 0.3\n",
    "    ) +\n",
    "    # 绘制参数模型曲线\n",
    "    geom_line(\n",
    "      data = surv_probs_long,\n",
    "      aes(x = time, y = survival, color = Model, linetype = Model),\n",
    "      size = 0.8\n",
    "    ) +\n",
    "    # 坐标轴设置\n",
    "    scale_x_continuous(limits = c(0, max(data$time))) +\n",
    "    scale_y_continuous(limits = c(0, 1)) +\n",
    "    # 颜色和线型映射\n",
    "    scale_color_manual(values = model_colors) +\n",
    "    scale_linetype_manual(values = model_linetype) +\n",
    "    # 标签和主题\n",
    "    labs(\n",
    "      title = \"KM Curve and Parametric Models\",\n",
    "      x = \"Time\",\n",
    "      y = \"Survival Probability\",\n",
    "      color = \"Model\",\n",
    "      linetype = \"Model\"\n",
    "    ) +\n",
    "    theme_bw() +\n",
    "    theme(\n",
    "      legend.position = c(0.95, 0.95),\n",
    "      legend.justification = c(1, 1),\n",
    "      legend.background = element_blank(),\n",
    "      plot.title = element_text(hjust = 0.5)\n",
    "    )\n",
    "\n",
    "  print(p)\n",
    "}\n",
    "\n",
    "PSM_god(lung)"
   ]
  },
  {
   "cell_type": "code",
   "execution_count": null,
   "metadata": {
    "vscode": {
     "languageId": "r"
    }
   },
   "outputs": [
    {
     "name": "stdout",
     "output_type": "stream",
     "text": []
    },
    {
     "name": "stdout",
     "output_type": "stream",
     "text": []
    },
    {
     "name": "stdout",
     "output_type": "stream",
     "text": []
    }
   ],
   "source": [
    "PSM_god <- function(data) {\n",
    "  # 这是一个PSM的神级函数，功能包括：\n",
    "  # 拟合6种模型并返回参数，返回AIC和BIC\n",
    "  # 一图展示KM曲线与拟合曲线，直观明了\n",
    "  # 将预测概率存到一个EXCEL中，以供测验\n",
    "  # 提供对应参数的EXCEL公式，方便使用\n",
    "\n",
    "  # 设置数值显示格式，禁用科学计数法\n",
    "  old_scipen <- options(\"scipen\")\n",
    "  options(scipen = 999)  # 设置一个大值来禁用科学计数法\n",
    "\n",
    "  \n",
    "  # 加载必要的包\n",
    "  library(survival)\n",
    "  library(flexsurv)\n",
    "  library(survminer)\n",
    "  library(ggplot2)\n",
    "  library(tidyr)\n",
    "  library(dplyr)\n",
    "\n",
    "\n",
    "  # 拟合指数回归模型\n",
    "  fit_exp <- survreg(\n",
    "    Surv(time, status) ~ 1,\n",
    "    data = data,\n",
    "    dist = \"exp\"\n",
    "  )\n",
    "  # 提取指数分布参数以及AIC和BIC\n",
    "  params_exp <- c(\n",
    "    1 / exp(coef(fit_exp)),  # Lambda\n",
    "    NA,  # Gamma\n",
    "    NA,  # Delta\n",
    "    AIC(fit_exp),  # AIC\n",
    "    BIC(fit_exp)  # BIC\n",
    "  )\n",
    "\n",
    "\n",
    "  # 拟合Weibull回归模型\n",
    "  fit_weibull <- survreg(\n",
    "    Surv(time, status) ~ 1,\n",
    "    data = data,\n",
    "    dist = \"weibull\"\n",
    "  )\n",
    "  # 提取Weibull分布参数以及AIC和BIC\n",
    "  params_weibull <- c(\n",
    "    1 / fit_weibull$scale,  # Lambda\n",
    "    exp(coef(fit_weibull)[1]),  # Gamma\n",
    "    NA,  # Delta\n",
    "    AIC(fit_weibull),  # AIC\n",
    "    BIC(fit_weibull)  # BIC\n",
    "  )\n",
    "\n",
    "\n",
    "  # 拟合Gompertz回归模型\n",
    "  fit_gompertz <- flexsurvreg(\n",
    "    Surv(time, status) ~ 1,\n",
    "    data = data,\n",
    "    dist = \"gompertz\"\n",
    "  )\n",
    "  # 提取Gompertz分布参数以及AIC和BIC\n",
    "  params_gompertz <- c(\n",
    "    fit_gompertz$res[2, 1],  # Lambda\n",
    "    fit_gompertz$res[1, 1],  # Gamma\n",
    "    NA,  # Delta\n",
    "    AIC(fit_gompertz),  # AIC\n",
    "    BIC(fit_gompertz)  # BIC\n",
    "  )\n",
    "\n",
    "\n",
    "  # 拟合对数正态回归模型\n",
    "  fit_lognormal <- survreg(\n",
    "    Surv(time, status) ~ 1,\n",
    "    data = data, \n",
    "    dist = \"lognormal\"\n",
    "  )\n",
    "  # 提取对数正态分布参数以及AIC和BIC\n",
    "  params_lognormal <- c(\n",
    "    coef(fit_lognormal)[1],  # Lambda\n",
    "    fit_lognormal$scale,  # Gamma\n",
    "    NA,  # Delta\n",
    "    AIC(fit_lognormal),  # AIC\n",
    "    BIC(fit_lognormal)  # BIC\n",
    "  )\n",
    "\n",
    "\n",
    "  # 拟合对数逻辑回归模型\n",
    "  fit_loglogit <- survreg(\n",
    "    Surv(time, status) ~ 1,\n",
    "    data = data,\n",
    "    dist = \"loglogistic\"\n",
    "  )\n",
    "  # 提取对数逻辑分布参数以及AIC和BIC\n",
    "  params_loglogit <- c(\n",
    "    coef(fit_loglogit)[1],  # Lambda\n",
    "    fit_loglogit$scale,  # Gamma\n",
    "    NA,  # Delta\n",
    "    AIC(fit_loglogit),  # AIC\n",
    "    BIC(fit_loglogit)  # BIC\n",
    "  )\n",
    "\n",
    "\n",
    "  # 拟合广义伽马模型，不考虑任何协变量\n",
    "  fit_gengamma <- flexsurvreg(\n",
    "    Surv(time, status) ~ 1,\n",
    "    data = data,\n",
    "    dist = \"gengamma\"\n",
    "  )\n",
    "\n",
    "  # 提取广义伽马参数以及AIC和BIC\n",
    "  params_gengamma <- c(\n",
    "    coef(fit_gengamma)[1],  # Mu\n",
    "    fit_gengamma$res[2, 1],  # Sigma\n",
    "    fit_gengamma$res[3, 1],  # Q\n",
    "    AIC(fit_gengamma),  # AIC\n",
    "    BIC(fit_gengamma)  # BIC\n",
    "  )\n",
    "\n",
    "  # 拟合伽马模型\n",
    "  fit_gamma <- flexsurvreg(\n",
    "    Surv(time, status) ~ 1,\n",
    "    data = data,\n",
    "    dist = \"gamma\"\n",
    "  )\n",
    "\n",
    "  # 提取广义伽马参数以及AIC和BIC\n",
    "  params_gamma <- c(\n",
    "    coef(fit_gamma)[1],  # Mu\n",
    "    fit_gamma$res[2, 1],  # Sigma\n",
    "    NA,  # Q\n",
    "    AIC(fit_gamma),  # AIC\n",
    "    BIC(fit_gamma)  # BIC\n",
    "  )\n",
    "\n",
    "  \n",
    "  # 以数据表形式打印结果\n",
    "  # 结果数据框中格式化显示\n",
    "  result <- data.frame(\n",
    "    row.names = c(\n",
    "      \"Exp\", \"Weibull\", \"Gompertz\",\n",
    "      \"Log-normal\", \"Log-logistic\", \"Generalized Gamma\",\n",
    "      \"Gamma\"\n",
    "    ),\n",
    "    LAMBDA = format(c(\n",
    "      params_exp[1], params_weibull[1], params_gompertz[1],\n",
    "      params_lognormal[1], params_loglogit[1], params_gengamma[1],\n",
    "      params_gamma[1]\n",
    "    ), scientific = FALSE),\n",
    "    GAMMA = format(c(\n",
    "      params_exp[2], params_weibull[2], params_gompertz[2],\n",
    "      params_lognormal[2], params_loglogit[2], params_gengamma[2],\n",
    "      params_gamma[2]\n",
    "    ), scientific = FALSE),\n",
    "    DELTA = format(c(\n",
    "      params_exp[3], params_weibull[3], params_gompertz[3],\n",
    "      params_lognormal[3], params_loglogit[3], params_gengamma[3],\n",
    "      params_gamma[3]\n",
    "    ), scientific = FALSE),\n",
    "    AIC = format(c(\n",
    "      params_exp[4], params_weibull[4], params_gompertz[4],\n",
    "      params_lognormal[4], params_loglogit[4], params_gengamma[4],\n",
    "      params_gamma[4]\n",
    "    ), scientific = FALSE),\n",
    "    BIC = format(c(\n",
    "      params_exp[5], params_weibull[5], params_gompertz[5],\n",
    "      params_lognormal[5], params_loglogit[5], params_gengamma[5],\n",
    "      params_gamma[5]\n",
    "    ), scientific = FALSE)\n",
    "  )\n",
    "\n",
    "  # 打印结果\n",
    "  cat(\"PSM Results:\", \"\\n\")\n",
    "  print(result)\n",
    "  cat(\"---------------------------------------------------------------------\", \"\\n\")\n",
    "\n",
    "  # 指出最佳模型\n",
    "  best_model <- rownames(result)[which.min(result$AIC)]\n",
    "  cat(\"The best model is\", best_model, \"\\n\")\n",
    "  cat(\"AIC:\", result[best_model, \"AIC\"], \"\\n\")\n",
    "  cat(\"BIC:\", result[best_model, \"BIC\"], \"\\n\")\n",
    "  cat(\"---------------------------------------------------------------------\", \"\\n\")\n",
    "\n",
    "  # 恢复原来的设置\n",
    "  options(scipen = old_scipen$scipen)\n",
    "\n",
    "  # 对应EXCEL公式\n",
    "  cat(\"Excel formula\", \"\\n\")\n",
    "  cat(\"Exp:\", \"1 - EXPON.DIST(x = time, lambda = Lambda, TRUE)\", \"\\n\")\n",
    "  cat(\"Weibull:\", \"1 - WEIBULL(x = time, alpha = Lambda, beta = Gammma, TRUE)\", \"\\n\")\n",
    "  cat(\"Gompertz:\", \"EXP( -LAMBDA / GAMMA * (EXP(GAMMA * time) - 1) )\", \"\\n\")\n",
    "  cat(\"Log-normal:\", \"1 - NORM.DIST(LN(time), mean = LAMBDA, standard_dev = GAMMA, TRUE)\", \"\\n\")\n",
    "  cat(\"Log-logistic:\", \"1 - 1 / (1 + EXP(-(LN(time) - LAMBDA) / GAMMA))\", \"\\n\")\n",
    "  cat(\"Generalized Gamma:\", \"1 - GAMMA.DIST(x = 1/Delta^2 * EXP(Delta * (LN(time)-LAMBDA) / GAMMA), ALPHA = Delta^(-2), Beta = 1, TRUE)\", \"\\n\")\n",
    "  cat(\"---------------------------------------------------------------------\", \"\\n\")\n",
    "  \n",
    "  # 填入对应的参数的EXCEL公式\n",
    "  cat(\"Excel formula with parameters\", \"\\n\")\n",
    "  cat(\"Exp:\", \"1 - EXPON.DIST(time, \", params_exp[1], \", TRUE)\", \"\\n\")\n",
    "  cat(\"Weibull:\", \"1 - WEIBULL(time, \", params_weibull[1], \", \", params_weibull[2], \", TRUE)\", \"\\n\")\n",
    "  cat(\"Gompertz:\", \"EXP( -\", params_gompertz[1], \" / \", params_gompertz[2], \" * (EXP(\", params_gompertz[2], \" * time) - 1) )\", \"\\n\")\n",
    "  cat(\"Log-normal:\", \"1 - NORM.DIST(LN(time), \", params_lognormal[1], \", \", params_lognormal[2], \", TRUE)\", \"\\n\")\n",
    "  cat(\"Log-logistic:\", \"1 - 1 / (1 + EXP(-(LN(time) - \", params_loglogit[1], \") / \", params_loglogit[2], \"))\", \"\\n\")\n",
    "  cat(\"Generalized Gamma:\", \"1 - GAMMA.DIST(x = 1/\", params_gengamma[3], \"^2 * EXP(\", params_gengamma[3], \" * (LN(time)-\", params_gengamma[1], \") / \", params_gengamma[2], \"), \", 1/params_gengamma[3]^2, \", Beta = 1, TRUE)\", \"\\n\")\n",
    "  cat(\"---------------------------------------------------------------------\", \"\\n\")\n",
    "\n",
    "  library(ggplot2)\n",
    "\n",
    "  # 生成预测数据框\n",
    "  time_seq <- seq(0, max(data$time), 0.1)\n",
    "  surv_probs <- data.frame(\n",
    "    time = time_seq,\n",
    "    KM = NA,  # 占位，后续用真实KM数据替换\n",
    "    Exp = 1 - pexp(time_seq, rate = params_exp[1]),\n",
    "    Weibull = 1 - pweibull(time_seq, shape = params_weibull[1], scale = params_weibull[2]),\n",
    "    Gompertz = 1 - pgompertz(time_seq, shape = params_gompertz[2], rate = params_gompertz[1]),\n",
    "    LogNormal = 1 - pnorm(log(time_seq), mean = params_lognormal[1], sd = params_lognormal[2]),\n",
    "    LogLogistic = 1 - 1/(1 + exp(-(log(time_seq) - params_loglogit[1])/params_loglogit[2])),\n",
    "    GeneralizedGamma = 1 - pgengamma(time_seq, mu = params_gengamma[1], sigma = params_gengamma[2], Q = params_gengamma[3]),\n",
    "    Gamma = 1 - pgamma(time_seq, shape = params_gamma[1], scale = params_gamma[2])\n",
    "  )\n",
    "\n",
    "  # 提取KM曲线数据\n",
    "  km_fit <- survfit(Surv(time, status) ~ 1, data = data)\n",
    "  km_df <- data.frame(\n",
    "    time = km_fit$time,\n",
    "    surv = km_fit$surv,\n",
    "    upper = km_fit$upper,\n",
    "    lower = km_fit$lower\n",
    "  )\n",
    "\n",
    "  # 转换成长格式便于ggplot绘图\n",
    "  surv_probs_long <- surv_probs %>%\n",
    "    pivot_longer(\n",
    "      cols = -time,\n",
    "      names_to = \"Model\",\n",
    "      values_to = \"survival\"\n",
    "    )\n",
    "\n",
    "  # 自定义颜色和线型\n",
    "  model_colors <- c(\n",
    "    \"KM\" = \"#ff5e00\",\n",
    "    \"Exp\" = \"red\",\n",
    "    \"Weibull\" = \"green\",\n",
    "    \"Gompertz\" = \"blue\",\n",
    "    \"LogNormal\" = \"purple\",\n",
    "    \"LogLogistic\" = \"orange\",\n",
    "    \"GeneralizedGamma\" = \"black\",\n",
    "    \"Gamma\" = \"brown\"\n",
    "  )\n",
    "  model_linetype <- c(\n",
    "    \"KM\" = \"solid\",\n",
    "    \"Exp\" = \"dashed\",\n",
    "    \"Weibull\" = \"dashed\",\n",
    "    \"Gompertz\" = \"dashed\",\n",
    "    \"LogNormal\" = \"dashed\",\n",
    "    \"LogLogistic\" = \"dashed\",\n",
    "    \"GeneralizedGamma\" = \"dashed\",\n",
    "    \"Gamma\" = \"dashed\"\n",
    "  )\n",
    "\n",
    "  # 绘制图形\n",
    "  p <- ggplot() +\n",
    "    # 绘制KM曲线（阶梯线）\n",
    "    geom_step(\n",
    "      data = km_df,\n",
    "      aes(x = time, y = surv, color = \"KM\", linetype = \"KM\"),\n",
    "      size = 1.2\n",
    "    ) +\n",
    "    # 绘制置信区间\n",
    "    geom_ribbon(\n",
    "      data = km_df,\n",
    "      aes(x = time, ymin = lower, ymax = upper),\n",
    "      fill = \"gray\",\n",
    "      alpha = 0.3\n",
    "    ) +\n",
    "    # 绘制参数模型曲线\n",
    "    geom_line(\n",
    "      data = surv_probs_long,\n",
    "      aes(x = time, y = survival, color = Model, linetype = Model),\n",
    "      size = 0.8\n",
    "    ) +\n",
    "    # 坐标轴设置\n",
    "    scale_x_continuous(limits = c(0, max(data$time))) +\n",
    "    scale_y_continuous(limits = c(0, 1)) +\n",
    "    # 颜色和线型映射\n",
    "    scale_color_manual(values = model_colors) +\n",
    "    scale_linetype_manual(values = model_linetype) +\n",
    "    # 标签和主题\n",
    "    labs(\n",
    "      title = \"KM Curve and Parametric Models\",\n",
    "      x = \"Time\",\n",
    "      y = \"Survival Probability\",\n",
    "      color = \"Model\",\n",
    "      linetype = \"Model\"\n",
    "    ) +\n",
    "    theme_bw() +\n",
    "    theme(\n",
    "      legend.position = c(0.95, 0.95),\n",
    "      legend.justification = c(1, 1),\n",
    "      legend.background = element_blank(),\n",
    "      plot.title = element_text(hjust = 0.5)\n",
    "    )\n",
    "\n",
    "  print(p)\n",
    "}\n",
    "\n",
    "PSM_god(lung)"
   ]
  }
 ],
 "metadata": {
  "kernelspec": {
   "display_name": "R",
   "language": "R",
   "name": "ir"
  },
  "language_info": {
   "codemirror_mode": "r",
   "file_extension": ".r",
   "mimetype": "text/x-r-source",
   "name": "R",
   "pygments_lexer": "r",
   "version": "4.4.2"
  }
 },
 "nbformat": 4,
 "nbformat_minor": 2
}

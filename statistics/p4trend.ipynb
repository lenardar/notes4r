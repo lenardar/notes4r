{
 "cells": [
  {
   "cell_type": "markdown",
   "metadata": {},
   "source": [
    "# 前言"
   ]
  },
  {
   "cell_type": "markdown",
   "metadata": {},
   "source": [
    "学习趋势检验。"
   ]
  },
  {
   "cell_type": "markdown",
   "metadata": {},
   "source": [
    "# 为什么需要趋势检验"
   ]
  },
  {
   "cell_type": "code",
   "execution_count": 43,
   "metadata": {
    "vscode": {
     "languageId": "r"
    }
   },
   "outputs": [
    {
     "data": {
      "text/plain": [
       "\n",
       "\tPearson's product-moment correlation\n",
       "\n",
       "data:  x and y\n",
       "t = -1.165, df = 52, p-value = 0.2493\n",
       "alternative hypothesis: true correlation is not equal to 0\n",
       "95 percent confidence interval:\n",
       " -0.4097558  0.1130961\n",
       "sample estimates:\n",
       "       cor \n",
       "-0.1594944 \n"
      ]
     },
     "metadata": {},
     "output_type": "display_data"
    }
   ],
   "source": [
    "# 一组不相关的数值\n",
    "x <- seq(1, 10, 0.1)\n",
    "y <- sin(x)^(cos(x) + 1)\n",
    "\n",
    "cor.test(x, y, method = \"pearson\")"
   ]
  },
  {
   "cell_type": "markdown",
   "metadata": {},
   "source": [
    "# 回归方法实现趋势检验"
   ]
  },
  {
   "cell_type": "code",
   "execution_count": 60,
   "metadata": {
    "vscode": {
     "languageId": "r"
    }
   },
   "outputs": [
    {
     "name": "stdout",
     "output_type": "stream",
     "text": [
      "'data.frame':\t54 obs. of  11 variables:\n",
      " $ X....: num  1 2 3 4 5 6 7 8 9 10 ...\n",
      " $ x1   : num  3 2 2 2 3 3 2 3 2 1 ...\n",
      " $ x2   : num  1 0 1 0 0 0 0 0 0 0 ...\n",
      " $ x3   : num  0 1 0 0 0 1 1 1 0 0 ...\n",
      " $ x4   : num  1 1 1 1 1 1 0 1 0 1 ...\n",
      " $ x5   : num  0 0 0 0 0 0 0 1 0 0 ...\n",
      " $ x6   : num  0 0 0 0 1 0 0 0 0 0 ...\n",
      " $ x7   : num  1 1 1 1 1 2 1 1 1 1 ...\n",
      " $ x8   : num  1 0 0 0 1 1 0 0 1 0 ...\n",
      " $ y    : num  0 0 0 0 0 0 0 0 0 0 ...\n",
      " $ PGR_1: num  1 0 0 0 1 1 0 0 0 0 ...\n",
      " - attr(*, \"variable.labels\")= Named chr [1:11] \"\" \"\" \"\" \"\" ...\n",
      "  ..- attr(*, \"names\")= chr [1:11] \"\\320\\362\\272\\305\" \"x1\" \"x2\" \"x3\" ...\n"
     ]
    }
   ],
   "source": [
    "# 读取SPSS数据\n",
    "library(foreign)\n",
    "\n",
    "data <- read.spss(\"./data/reg4trend.sav\", to.data.frame = TRUE)\n",
    "\n",
    "str(data)"
   ]
  },
  {
   "cell_type": "code",
   "execution_count": 63,
   "metadata": {
    "vscode": {
     "languageId": "r"
    }
   },
   "outputs": [
    {
     "data": {
      "text/html": [
       "<table class=\"dataframe\">\n",
       "<caption>A tibble: 3 x 5</caption>\n",
       "<thead>\n",
       "\t<tr><th scope=col>term</th><th scope=col>estimate</th><th scope=col>std.error</th><th scope=col>statistic</th><th scope=col>p.value</th></tr>\n",
       "\t<tr><th scope=col>&lt;chr&gt;</th><th scope=col>&lt;dbl&gt;</th><th scope=col>&lt;dbl&gt;</th><th scope=col>&lt;dbl&gt;</th><th scope=col>&lt;dbl&gt;</th></tr>\n",
       "</thead>\n",
       "<tbody>\n",
       "\t<tr><td>(Intercept)</td><td>-2.2233200</td><td>1.0325911</td><td>-2.153147</td><td>0.03130716</td></tr>\n",
       "\t<tr><td>x1         </td><td> 0.7115257</td><td>0.4233223</td><td> 1.680813</td><td>0.09279918</td></tr>\n",
       "\t<tr><td>x2         </td><td> 1.0800713</td><td>0.6249976</td><td> 1.728121</td><td>0.08396659</td></tr>\n",
       "</tbody>\n",
       "</table>\n"
      ],
      "text/latex": [
       "A tibble: 3 x 5\n",
       "\\begin{tabular}{lllll}\n",
       " term & estimate & std.error & statistic & p.value\\\\\n",
       " <chr> & <dbl> & <dbl> & <dbl> & <dbl>\\\\\n",
       "\\hline\n",
       "\t (Intercept) & -2.2233200 & 1.0325911 & -2.153147 & 0.03130716\\\\\n",
       "\t x1          &  0.7115257 & 0.4233223 &  1.680813 & 0.09279918\\\\\n",
       "\t x2          &  1.0800713 & 0.6249976 &  1.728121 & 0.08396659\\\\\n",
       "\\end{tabular}\n"
      ],
      "text/markdown": [
       "\n",
       "A tibble: 3 x 5\n",
       "\n",
       "| term &lt;chr&gt; | estimate &lt;dbl&gt; | std.error &lt;dbl&gt; | statistic &lt;dbl&gt; | p.value &lt;dbl&gt; |\n",
       "|---|---|---|---|---|\n",
       "| (Intercept) | -2.2233200 | 1.0325911 | -2.153147 | 0.03130716 |\n",
       "| x1          |  0.7115257 | 0.4233223 |  1.680813 | 0.09279918 |\n",
       "| x2          |  1.0800713 | 0.6249976 |  1.728121 | 0.08396659 |\n",
       "\n"
      ],
      "text/plain": [
       "  term        estimate   std.error statistic p.value   \n",
       "1 (Intercept) -2.2233200 1.0325911 -2.153147 0.03130716\n",
       "2 x1           0.7115257 0.4233223  1.680813 0.09279918\n",
       "3 x2           1.0800713 0.6249976  1.728121 0.08396659"
      ]
     },
     "metadata": {},
     "output_type": "display_data"
    }
   ],
   "source": [
    "fit <- glm(y ~ x1 + x2, data = data, family = binomial())\n",
    "\n",
    "library(broom)\n",
    "tidy(fit)"
   ]
  },
  {
   "cell_type": "code",
   "execution_count": 66,
   "metadata": {
    "vscode": {
     "languageId": "r"
    }
   },
   "outputs": [
    {
     "data": {
      "text/html": [
       "<table class=\"dataframe\">\n",
       "<caption>A data.frame: 4 x 1</caption>\n",
       "<thead>\n",
       "\t<tr><th scope=col>x1</th></tr>\n",
       "\t<tr><th scope=col>&lt;dbl&gt;</th></tr>\n",
       "</thead>\n",
       "<tbody>\n",
       "\t<tr><td>3</td></tr>\n",
       "\t<tr><td>2</td></tr>\n",
       "\t<tr><td>1</td></tr>\n",
       "\t<tr><td>4</td></tr>\n",
       "</tbody>\n",
       "</table>\n"
      ],
      "text/latex": [
       "A data.frame: 4 x 1\n",
       "\\begin{tabular}{l}\n",
       " x1\\\\\n",
       " <dbl>\\\\\n",
       "\\hline\n",
       "\t 3\\\\\n",
       "\t 2\\\\\n",
       "\t 1\\\\\n",
       "\t 4\\\\\n",
       "\\end{tabular}\n"
      ],
      "text/markdown": [
       "\n",
       "A data.frame: 4 x 1\n",
       "\n",
       "| x1 &lt;dbl&gt; |\n",
       "|---|\n",
       "| 3 |\n",
       "| 2 |\n",
       "| 1 |\n",
       "| 4 |\n",
       "\n"
      ],
      "text/plain": [
       "  x1\n",
       "1 3 \n",
       "2 2 \n",
       "3 1 \n",
       "4 4 "
      ]
     },
     "metadata": {},
     "output_type": "display_data"
    }
   ],
   "source": [
    "library(tidyverse)\n",
    "distinct(data, x1)"
   ]
  },
  {
   "cell_type": "code",
   "execution_count": 68,
   "metadata": {
    "vscode": {
     "languageId": "r"
    }
   },
   "outputs": [
    {
     "data": {
      "text/plain": [
       "\n",
       "Call:\n",
       "glm(formula = y ~ x1_2 + x1_3 + x1_4, family = binomial(), data = data)\n",
       "\n",
       "Coefficients:\n",
       "            Estimate Std. Error z value Pr(>|z|)  \n",
       "(Intercept)   -1.609      1.095  -1.469   0.1418  \n",
       "x1_2           1.204      1.169   1.030   0.3031  \n",
       "x1_3           2.148      1.194   1.799   0.0720 .\n",
       "x1_4           2.708      1.592   1.701   0.0889 .\n",
       "---\n",
       "Signif. codes:  0 '***' 0.001 '**' 0.01 '*' 0.05 '.' 0.1 ' ' 1\n",
       "\n",
       "(Dispersion parameter for binomial family taken to be 1)\n",
       "\n",
       "    Null deviance: 74.786  on 53  degrees of freedom\n",
       "Residual deviance: 68.564  on 50  degrees of freedom\n",
       "AIC: 76.564\n",
       "\n",
       "Number of Fisher Scoring iterations: 4\n"
      ]
     },
     "metadata": {},
     "output_type": "display_data"
    }
   ],
   "source": [
    "data <- data %>% \n",
    "  mutate(\n",
    "    x1_2 = ifelse(x1 == 2, 1, 0),\n",
    "    x1_3 = ifelse(x1 == 3, 1, 0),\n",
    "    x1_4 = ifelse(x1 == 4, 1, 0),\n",
    "  )\n",
    "\n",
    "fit <- glm(y ~ x1_2 + x1_3 + x1_4, data = data, family = binomial())\n",
    "\n",
    "summary(fit)"
   ]
  },
  {
   "cell_type": "markdown",
   "metadata": {},
   "source": [
    "# Cochran-Armitage趋势检验"
   ]
  },
  {
   "cell_type": "code",
   "execution_count": 74,
   "metadata": {
    "vscode": {
     "languageId": "r"
    }
   },
   "outputs": [
    {
     "name": "stdout",
     "output_type": "stream",
     "text": [
      "\n",
      "The downloaded binary packages are in\n",
      "\t/var/folders/fv/c0dh9y6s7638rh5fdr3lgcmr0000gn/T//Rtmp5DHWJq/downloaded_packages\n"
     ]
    }
   ],
   "source": [
    "install.packages(\"DescTools\")"
   ]
  },
  {
   "cell_type": "code",
   "execution_count": 71,
   "metadata": {
    "vscode": {
     "languageId": "r"
    }
   },
   "outputs": [
    {
     "name": "stdout",
     "output_type": "stream",
     "text": [
      "        Response\n",
      "Dose     No Yes\n",
      "  Low    20  10\n",
      "  Medium 15  25\n",
      "  High    5  30\n"
     ]
    }
   ],
   "source": [
    "# Create a contingency table with English names\n",
    "data <- matrix(\n",
    "  c(20, 10,   # Low dose: 20 non-responders, 10 responders\n",
    "    15, 25,   # Medium dose: 15 non-responders, 25 responders\n",
    "    5, 30),   # High dose: 5 non-responders, 30 responders\n",
    "  nrow = 3, \n",
    "  byrow = TRUE,\n",
    "  dimnames = list(\n",
    "    Dose = c(\"Low\", \"Medium\", \"High\"),\n",
    "    Response = c(\"No\", \"Yes\")\n",
    "  )\n",
    ")\n",
    "\n",
    "# Print the table\n",
    "print(data)"
   ]
  },
  {
   "cell_type": "code",
   "execution_count": 75,
   "metadata": {
    "vscode": {
     "languageId": "r"
    }
   },
   "outputs": [
    {
     "name": "stdout",
     "output_type": "stream",
     "text": [
      "\n",
      "\tCochran-Armitage test for trend\n",
      "\n",
      "data:  data\n",
      "Z = -4.3257, dim = 3, p-value = 1.521e-05\n",
      "alternative hypothesis: two.sided\n",
      "\n"
     ]
    }
   ],
   "source": [
    "library(DescTools)\n",
    "\n",
    "# Run the test\n",
    "result <- CochranArmitageTest(data)\n",
    "\n",
    "# View results\n",
    "print(result)"
   ]
  }
 ],
 "metadata": {
  "kernelspec": {
   "display_name": "R",
   "language": "R",
   "name": "ir"
  },
  "language_info": {
   "codemirror_mode": "r",
   "file_extension": ".r",
   "mimetype": "text/x-r-source",
   "name": "R",
   "pygments_lexer": "r",
   "version": "4.4.2"
  }
 },
 "nbformat": 4,
 "nbformat_minor": 2
}

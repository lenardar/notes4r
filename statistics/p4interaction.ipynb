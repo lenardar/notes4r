{
 "cells": [
  {
   "cell_type": "markdown",
   "metadata": {},
   "source": [
    "学习R语言实现P for interaction。"
   ]
  },
  {
   "cell_type": "markdown",
   "metadata": {},
   "source": [
    "# 方法1 ： 检验交互项"
   ]
  },
  {
   "cell_type": "code",
   "execution_count": 1,
   "metadata": {
    "vscode": {
     "languageId": "r"
    }
   },
   "outputs": [
    {
     "name": "stdout",
     "output_type": "stream",
     "text": [
      "'data.frame':\t54 obs. of  11 variables:\n",
      " $ X....: num  1 2 3 4 5 6 7 8 9 10 ...\n",
      " $ x1   : num  3 2 2 2 3 3 2 3 2 1 ...\n",
      " $ x2   : num  1 0 1 0 0 0 0 0 0 0 ...\n",
      " $ x3   : num  0 1 0 0 0 1 1 1 0 0 ...\n",
      " $ x4   : num  1 1 1 1 1 1 0 1 0 1 ...\n",
      " $ x5   : num  0 0 0 0 0 0 0 1 0 0 ...\n",
      " $ x6   : num  0 0 0 0 1 0 0 0 0 0 ...\n",
      " $ x7   : num  1 1 1 1 1 2 1 1 1 1 ...\n",
      " $ x8   : num  1 0 0 0 1 1 0 0 1 0 ...\n",
      " $ y    : num  0 0 0 0 0 0 0 0 0 0 ...\n",
      " $ PGR_1: num  1 0 0 0 1 1 0 0 0 0 ...\n",
      " - attr(*, \"variable.labels\")= Named chr [1:11] \"\" \"\" \"\" \"\" ...\n",
      "  ..- attr(*, \"names\")= chr [1:11] \"\\320\\362\\272\\305\" \"x1\" \"x2\" \"x3\" ...\n"
     ]
    }
   ],
   "source": [
    "# 读取数据\n",
    "library(foreign)\n",
    "\n",
    "data <- read.spss(\"./data/reg4trend.sav\", to.data.frame = T)\n",
    "\n",
    "str(data)"
   ]
  },
  {
   "cell_type": "code",
   "execution_count": 2,
   "metadata": {
    "vscode": {
     "languageId": "r"
    }
   },
   "outputs": [
    {
     "data": {
      "text/plain": [
       "\n",
       "Call:\n",
       "glm(formula = y ~ x1 + x2 + x1:x2, family = binomial, data = data)\n",
       "\n",
       "Coefficients:\n",
       "            Estimate Std. Error z value Pr(>|z|)  \n",
       "(Intercept)  -2.9249     1.3077  -2.237   0.0253 *\n",
       "x1            1.0199     0.5451   1.871   0.0613 .\n",
       "x2            3.5504     2.4519   1.448   0.1476  \n",
       "x1:x2        -0.9698     0.9220  -1.052   0.2929  \n",
       "---\n",
       "Signif. codes:  0 '***' 0.001 '**' 0.01 '*' 0.05 '.' 0.1 ' ' 1\n",
       "\n",
       "(Dispersion parameter for binomial family taken to be 1)\n",
       "\n",
       "    Null deviance: 74.786  on 53  degrees of freedom\n",
       "Residual deviance: 64.556  on 50  degrees of freedom\n",
       "AIC: 72.556\n",
       "\n",
       "Number of Fisher Scoring iterations: 4\n"
      ]
     },
     "metadata": {},
     "output_type": "display_data"
    }
   ],
   "source": [
    "# 检验交互项\n",
    "fit <- glm(y ~ x1 + x2 + x1:x2, data = data, family = binomial)\n",
    "\n",
    "summary(fit)"
   ]
  },
  {
   "cell_type": "markdown",
   "metadata": {},
   "source": [
    "# 方法2 ： 似然比检验"
   ]
  },
  {
   "cell_type": "code",
   "execution_count": 3,
   "metadata": {
    "vscode": {
     "languageId": "r"
    }
   },
   "outputs": [
    {
     "name": "stderr",
     "output_type": "stream",
     "text": [
      "Loading required package: zoo\n",
      "\n",
      "\n",
      "Attaching package: 'zoo'\n",
      "\n",
      "\n",
      "The following objects are masked from 'package:base':\n",
      "\n",
      "    as.Date, as.Date.numeric\n",
      "\n",
      "\n"
     ]
    },
    {
     "data": {
      "text/html": [
       "<table class=\"dataframe\">\n",
       "<caption>A anova: 2 x 5</caption>\n",
       "<thead>\n",
       "\t<tr><th></th><th scope=col>#Df</th><th scope=col>LogLik</th><th scope=col>Df</th><th scope=col>Chisq</th><th scope=col>Pr(&gt;Chisq)</th></tr>\n",
       "\t<tr><th></th><th scope=col>&lt;dbl&gt;</th><th scope=col>&lt;dbl&gt;</th><th scope=col>&lt;dbl&gt;</th><th scope=col>&lt;dbl&gt;</th><th scope=col>&lt;dbl&gt;</th></tr>\n",
       "</thead>\n",
       "<tbody>\n",
       "\t<tr><th scope=row>1</th><td>3</td><td>-32.83172</td><td>NA</td><td>      NA</td><td>       NA</td></tr>\n",
       "\t<tr><th scope=row>2</th><td>4</td><td>-32.27790</td><td> 1</td><td>1.107636</td><td>0.2925965</td></tr>\n",
       "</tbody>\n",
       "</table>\n"
      ],
      "text/latex": [
       "A anova: 2 x 5\n",
       "\\begin{tabular}{r|lllll}\n",
       "  & \\#Df & LogLik & Df & Chisq & Pr(>Chisq)\\\\\n",
       "  & <dbl> & <dbl> & <dbl> & <dbl> & <dbl>\\\\\n",
       "\\hline\n",
       "\t1 & 3 & -32.83172 & NA &       NA &        NA\\\\\n",
       "\t2 & 4 & -32.27790 &  1 & 1.107636 & 0.2925965\\\\\n",
       "\\end{tabular}\n"
      ],
      "text/markdown": [
       "\n",
       "A anova: 2 x 5\n",
       "\n",
       "| <!--/--> | #Df &lt;dbl&gt; | LogLik &lt;dbl&gt; | Df &lt;dbl&gt; | Chisq &lt;dbl&gt; | Pr(&gt;Chisq) &lt;dbl&gt; |\n",
       "|---|---|---|---|---|---|\n",
       "| 1 | 3 | -32.83172 | NA |       NA |        NA |\n",
       "| 2 | 4 | -32.27790 |  1 | 1.107636 | 0.2925965 |\n",
       "\n"
      ],
      "text/plain": [
       "  #Df LogLik    Df Chisq    Pr(>Chisq)\n",
       "1 3   -32.83172 NA       NA        NA \n",
       "2 4   -32.27790  1 1.107636 0.2925965 "
      ]
     },
     "metadata": {},
     "output_type": "display_data"
    }
   ],
   "source": [
    "fit1 <- glm(y ~ x1 + x2, data = data, family = binomial)\n",
    "fit2 <- glm(y ~ x1 + x2 + x1:x2, data = data, family = binomial)\n",
    "\n",
    "library(lmtest)\n",
    "lrtest(fit1, fit2)"
   ]
  }
 ],
 "metadata": {
  "kernelspec": {
   "display_name": "R",
   "language": "R",
   "name": "ir"
  },
  "language_info": {
   "codemirror_mode": "r",
   "file_extension": ".r",
   "mimetype": "text/x-r-source",
   "name": "R",
   "pygments_lexer": "r",
   "version": "4.4.2"
  }
 },
 "nbformat": 4,
 "nbformat_minor": 2
}

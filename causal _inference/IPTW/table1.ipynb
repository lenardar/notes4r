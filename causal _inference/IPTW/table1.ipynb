{
 "cells": [
  {
   "cell_type": "markdown",
   "metadata": {},
   "source": [
    "绘制IPTW的Table1。\n",
    "\n",
    "包括加权前和加权后的Table1."
   ]
  },
  {
   "cell_type": "markdown",
   "metadata": {},
   "source": [
    "# 载入R包和数据"
   ]
  },
  {
   "cell_type": "code",
   "execution_count": 1,
   "metadata": {
    "vscode": {
     "languageId": "r"
    }
   },
   "outputs": [
    {
     "name": "stderr",
     "output_type": "stream",
     "text": [
      "Loading required package: grid\n",
      "\n",
      "Loading required package: Matrix\n",
      "\n",
      "Loading required package: survival\n",
      "\n",
      "\n",
      "Attaching package: 'survey'\n",
      "\n",
      "\n",
      "The following object is masked from 'package:graphics':\n",
      "\n",
      "    dotchart\n",
      "\n",
      "\n"
     ]
    }
   ],
   "source": [
    "library(tableone)  # 制作基线表\n",
    "library(survey)  # 提取加权结果\n",
    "library(reshape2)  # 画SMD"
   ]
  },
  {
   "cell_type": "code",
   "execution_count": 2,
   "metadata": {
    "vscode": {
     "languageId": "r"
    }
   },
   "outputs": [],
   "source": [
    "aa <- read.csv('../data/R15.csv', header = T, row.names = NULL, stringsAsFactors = F)"
   ]
  },
  {
   "cell_type": "code",
   "execution_count": 4,
   "metadata": {
    "vscode": {
     "languageId": "r"
    }
   },
   "outputs": [
    {
     "data": {
      "text/html": [
       "<table class=\"dataframe\">\n",
       "<caption>A data.frame: 6 x 11</caption>\n",
       "<thead>\n",
       "\t<tr><th></th><th scope=col>status</th><th scope=col>time</th><th scope=col>rt</th><th scope=col>age</th><th scope=col>er</th><th scope=col>pr</th><th scope=col>her2</th><th scope=col>surg</th><th scope=col>che</th><th scope=col>g</th><th scope=col>t</th></tr>\n",
       "\t<tr><th></th><th scope=col>&lt;int&gt;</th><th scope=col>&lt;int&gt;</th><th scope=col>&lt;chr&gt;</th><th scope=col>&lt;int&gt;</th><th scope=col>&lt;int&gt;</th><th scope=col>&lt;int&gt;</th><th scope=col>&lt;int&gt;</th><th scope=col>&lt;int&gt;</th><th scope=col>&lt;int&gt;</th><th scope=col>&lt;int&gt;</th><th scope=col>&lt;int&gt;</th></tr>\n",
       "</thead>\n",
       "<tbody>\n",
       "\t<tr><th scope=row>1</th><td>1</td><td>72</td><td>No </td><td>57</td><td>1</td><td>1</td><td>1</td><td>1</td><td>2</td><td>3</td><td>1</td></tr>\n",
       "\t<tr><th scope=row>2</th><td>1</td><td>77</td><td>Yes</td><td>60</td><td>2</td><td>2</td><td>1</td><td>2</td><td>1</td><td>1</td><td>1</td></tr>\n",
       "\t<tr><th scope=row>3</th><td>1</td><td>72</td><td>No </td><td>49</td><td>2</td><td>2</td><td>1</td><td>2</td><td>1</td><td>2</td><td>3</td></tr>\n",
       "\t<tr><th scope=row>4</th><td>1</td><td>74</td><td>No </td><td>50</td><td>2</td><td>2</td><td>1</td><td>2</td><td>2</td><td>2</td><td>2</td></tr>\n",
       "\t<tr><th scope=row>5</th><td>1</td><td>79</td><td>Yes</td><td>53</td><td>1</td><td>1</td><td>1</td><td>2</td><td>2</td><td>3</td><td>1</td></tr>\n",
       "\t<tr><th scope=row>6</th><td>0</td><td>31</td><td>Yes</td><td>65</td><td>1</td><td>1</td><td>1</td><td>2</td><td>2</td><td>3</td><td>1</td></tr>\n",
       "</tbody>\n",
       "</table>\n"
      ],
      "text/latex": [
       "A data.frame: 6 x 11\n",
       "\\begin{tabular}{r|lllllllllll}\n",
       "  & status & time & rt & age & er & pr & her2 & surg & che & g & t\\\\\n",
       "  & <int> & <int> & <chr> & <int> & <int> & <int> & <int> & <int> & <int> & <int> & <int>\\\\\n",
       "\\hline\n",
       "\t1 & 1 & 72 & No  & 57 & 1 & 1 & 1 & 1 & 2 & 3 & 1\\\\\n",
       "\t2 & 1 & 77 & Yes & 60 & 2 & 2 & 1 & 2 & 1 & 1 & 1\\\\\n",
       "\t3 & 1 & 72 & No  & 49 & 2 & 2 & 1 & 2 & 1 & 2 & 3\\\\\n",
       "\t4 & 1 & 74 & No  & 50 & 2 & 2 & 1 & 2 & 2 & 2 & 2\\\\\n",
       "\t5 & 1 & 79 & Yes & 53 & 1 & 1 & 1 & 2 & 2 & 3 & 1\\\\\n",
       "\t6 & 0 & 31 & Yes & 65 & 1 & 1 & 1 & 2 & 2 & 3 & 1\\\\\n",
       "\\end{tabular}\n"
      ],
      "text/markdown": [
       "\n",
       "A data.frame: 6 x 11\n",
       "\n",
       "| <!--/--> | status &lt;int&gt; | time &lt;int&gt; | rt &lt;chr&gt; | age &lt;int&gt; | er &lt;int&gt; | pr &lt;int&gt; | her2 &lt;int&gt; | surg &lt;int&gt; | che &lt;int&gt; | g &lt;int&gt; | t &lt;int&gt; |\n",
       "|---|---|---|---|---|---|---|---|---|---|---|---|\n",
       "| 1 | 1 | 72 | No  | 57 | 1 | 1 | 1 | 1 | 2 | 3 | 1 |\n",
       "| 2 | 1 | 77 | Yes | 60 | 2 | 2 | 1 | 2 | 1 | 1 | 1 |\n",
       "| 3 | 1 | 72 | No  | 49 | 2 | 2 | 1 | 2 | 1 | 2 | 3 |\n",
       "| 4 | 1 | 74 | No  | 50 | 2 | 2 | 1 | 2 | 2 | 2 | 2 |\n",
       "| 5 | 1 | 79 | Yes | 53 | 1 | 1 | 1 | 2 | 2 | 3 | 1 |\n",
       "| 6 | 0 | 31 | Yes | 65 | 1 | 1 | 1 | 2 | 2 | 3 | 1 |\n",
       "\n"
      ],
      "text/plain": [
       "  status time rt  age er pr her2 surg che g t\n",
       "1 1      72   No  57  1  1  1    1    2   3 1\n",
       "2 1      77   Yes 60  2  2  1    2    1   1 1\n",
       "3 1      72   No  49  2  2  1    2    1   2 3\n",
       "4 1      74   No  50  2  2  1    2    2   2 2\n",
       "5 1      79   Yes 53  1  1  1    2    2   3 1\n",
       "6 0      31   Yes 65  1  1  1    2    2   3 1"
      ]
     },
     "metadata": {},
     "output_type": "display_data"
    }
   ],
   "source": [
    "head(aa)"
   ]
  },
  {
   "cell_type": "code",
   "execution_count": 6,
   "metadata": {
    "vscode": {
     "languageId": "r"
    }
   },
   "outputs": [],
   "source": [
    "# 因子变量转换\n",
    "for (i in names(aa)[c(1, 3, 5:11)]) {\n",
    "  aa[, i] <- as.factor(aa[, i])\n",
    "}"
   ]
  },
  {
   "cell_type": "markdown",
   "metadata": {},
   "source": [
    "# 设定混杂因素"
   ]
  },
  {
   "cell_type": "code",
   "execution_count": 7,
   "metadata": {
    "vscode": {
     "languageId": "r"
    }
   },
   "outputs": [],
   "source": [
    "vars = c(\"age\", \"er\", \"pr\", \"her2\", \"surg\", \"che\", \"g\", \"t\")"
   ]
  },
  {
   "cell_type": "markdown",
   "metadata": {},
   "source": [
    "# 未加权的Table 1"
   ]
  },
  {
   "cell_type": "code",
   "execution_count": 9,
   "metadata": {
    "vscode": {
     "languageId": "r"
    }
   },
   "outputs": [],
   "source": [
    "#CreateTableOne()函数构建基线表，rt作为分类项\n",
    "tab_Unmatched <- CreateTableOne(\n",
    "  vars = vars,\n",
    "  strata = \"rt\",\n",
    "  data = aa,\n",
    "  test = T\n",
    ")"
   ]
  },
  {
   "cell_type": "code",
   "execution_count": 10,
   "metadata": {
    "vscode": {
     "languageId": "r"
    }
   },
   "outputs": [
    {
     "data": {
      "text/plain": [
       "                 Stratified by rt\n",
       "                  No            Yes           p      test\n",
       "  n                2180          2736                    \n",
       "  age (mean (SD)) 51.21 (8.92)  50.99 (8.93)   0.392     \n",
       "  er = 2 (%)       1707 (78.3)   2132 (77.9)   0.776     \n",
       "  pr = 2 (%)       1482 (68.0)   1850 (67.6)   0.809     \n",
       "  her2 = 2 (%)      456 (20.9)    523 (19.1)   0.125     \n",
       "  surg = 2 (%)      530 (24.3)   1662 (60.7)  <0.001     \n",
       "  che = 2 (%)      1554 (71.3)   2364 (86.4)  <0.001     \n",
       "  g (%)                                        0.982     \n",
       "     1              269 (12.3)    336 (12.3)             \n",
       "     2              897 (41.1)   1120 (40.9)             \n",
       "     3             1014 (46.5)   1280 (46.8)             \n",
       "  t (%)                                       <0.001     \n",
       "     1             1043 (47.8)   1215 (44.4)             \n",
       "     2             1028 (47.2)   1210 (44.2)             \n",
       "     3              109 ( 5.0)    311 (11.4)             "
      ]
     },
     "metadata": {},
     "output_type": "display_data"
    }
   ],
   "source": [
    "tab_Unmatched"
   ]
  },
  {
   "cell_type": "code",
   "execution_count": 11,
   "metadata": {
    "vscode": {
     "languageId": "r"
    }
   },
   "outputs": [
    {
     "name": "stdout",
     "output_type": "stream",
     "text": [
      "                 Stratified by rt\n",
      "                  level No            Yes           p      test SMD   \n",
      "  n                      2180          2736                           \n",
      "  age (mean (SD))       51.21 (8.92)  50.99 (8.93)   0.392       0.025\n",
      "  er (%)          1       473 (21.7)    604 (22.1)   0.776       0.009\n",
      "                  2      1707 (78.3)   2132 (77.9)                    \n",
      "  pr (%)          1       698 (32.0)    886 (32.4)   0.809       0.008\n",
      "                  2      1482 (68.0)   1850 (67.6)                    \n",
      "  her2 (%)        1      1724 (79.1)   2213 (80.9)   0.125       0.045\n",
      "                  2       456 (20.9)    523 (19.1)                    \n",
      "  surg (%)        1      1650 (75.7)   1074 (39.3)  <0.001       0.793\n",
      "                  2       530 (24.3)   1662 (60.7)                    \n",
      "  che (%)         1       626 (28.7)    372 (13.6)  <0.001       0.377\n",
      "                  2      1554 (71.3)   2364 (86.4)                    \n",
      "  g (%)           1       269 (12.3)    336 (12.3)   0.982       0.005\n",
      "                  2       897 (41.1)   1120 (40.9)                    \n",
      "                  3      1014 (46.5)   1280 (46.8)                    \n",
      "  t (%)           1      1043 (47.8)   1215 (44.4)  <0.001       0.234\n",
      "                  2      1028 (47.2)   1210 (44.2)                    \n",
      "                  3       109 ( 5.0)    311 (11.4)                    \n"
     ]
    }
   ],
   "source": [
    "#展示标准化平均差，SMD\n",
    "print(tab_Unmatched, showAllLevels=TRUE, smd = TRUE)"
   ]
  },
  {
   "cell_type": "code",
   "execution_count": 12,
   "metadata": {
    "vscode": {
     "languageId": "r"
    }
   },
   "outputs": [
    {
     "data": {
      "text/plain": [
       "\n",
       "FALSE  TRUE   Sum \n",
       "    5     3     8 "
      ]
     },
     "metadata": {},
     "output_type": "display_data"
    }
   ],
   "source": [
    "#查看有无SMD>10%\n",
    "addmargins(table(ExtractSmd(tab_Unmatched) > 0.1))"
   ]
  },
  {
   "cell_type": "markdown",
   "metadata": {},
   "source": [
    "# 基于IPTW的Table 1"
   ]
  },
  {
   "cell_type": "markdown",
   "metadata": {},
   "source": [
    "## 建模并计算PS"
   ]
  },
  {
   "cell_type": "code",
   "execution_count": 14,
   "metadata": {
    "vscode": {
     "languageId": "r"
    }
   },
   "outputs": [],
   "source": [
    "psModel <- glm(\n",
    "  rt ~ age + er + pr + her2 + surg + che + g + t,\n",
    "  family = binomial(link = \"logit\"),\n",
    "  data = aa\n",
    ")\n",
    "\n",
    "#PS\n",
    "aa$ps <- predict(psModel, type = \"response\")"
   ]
  },
  {
   "cell_type": "markdown",
   "metadata": {},
   "source": [
    "## 逆处理概率加权"
   ]
  },
  {
   "cell_type": "code",
   "execution_count": 15,
   "metadata": {
    "vscode": {
     "languageId": "r"
    }
   },
   "outputs": [],
   "source": [
    "#1-逆概率，计算治疗组和对照组的逆概率\n",
    "#根据1/PS和1/1-PS\n",
    "aa$wt1 <- 1 / aa$ps\n",
    "aa$wt0 <- 1 / (1 - aa$ps) \n",
    "\n",
    "#2-根据公式计算所有患者的权重\n",
    "#假如患者为治疗组（Yes）用公式1加权，否则用公式2加权\n",
    "aa$w <- ifelse(aa$rt == \"Yes\", aa$wt1, aa$wt0)"
   ]
  },
  {
   "cell_type": "markdown",
   "metadata": {},
   "source": [
    "## ITPW后的数据做Table 1"
   ]
  },
  {
   "cell_type": "code",
   "execution_count": 23,
   "metadata": {
    "vscode": {
     "languageId": "r"
    }
   },
   "outputs": [
    {
     "name": "stdout",
     "output_type": "stream",
     "text": [
      "                 Stratified by rt\n",
      "                  level No              Yes             p      test SMD   \n",
      "  n                     5082.19         4829.82                           \n",
      "  age (mean (SD))         50.85 (8.99)    50.99 (9.10)   0.673       0.015\n",
      "  er (%)          1      1166.1 (22.9)   1092.4 (22.6)   0.825       0.008\n",
      "                  2      3916.1 (77.1)   3737.5 (77.4)                    \n",
      "  pr (%)          1      1687.2 (33.2)   1594.5 (33.0)   0.911       0.004\n",
      "                  2      3395.0 (66.8)   3235.4 (67.0)                    \n",
      "  her2 (%)        1      4057.4 (79.8)   3856.2 (79.8)   0.997      <0.001\n",
      "                  2      1024.8 (20.2)    973.7 (20.2)                    \n",
      "  surg (%)        1      2683.9 (52.8)   2619.3 (54.2)   0.410       0.029\n",
      "                  2      2398.3 (47.2)   2210.5 (45.8)                    \n",
      "  che (%)         1       983.0 (19.3)    893.7 (18.5)   0.519       0.021\n",
      "                  2      4099.2 (80.7)   3936.1 (81.5)                    \n",
      "  g (%)           1       616.1 (12.1)    574.0 (11.9)   0.914       0.015\n",
      "                  2      2014.5 (39.6)   1948.0 (40.3)                    \n",
      "                  3      2451.5 (48.2)   2307.8 (47.8)                    \n",
      "  t (%)           1      2253.4 (44.3)   2179.3 (45.1)   0.224       0.066\n",
      "                  2      2285.6 (45.0)   2228.7 (46.1)                    \n",
      "                  3       543.2 (10.7)    421.8 ( 8.7)                    \n"
     ]
    },
    {
     "data": {
      "text/plain": [
       "\n",
       "FALSE   Sum \n",
       "    8     8 "
      ]
     },
     "metadata": {},
     "output_type": "display_data"
    }
   ],
   "source": [
    "#1-提取IPTW后的数据\n",
    "dataIPTW <- svydesign(ids = ~1, data = aa,weights = ~w)\n",
    "\n",
    "#2-再次构建Table-1\n",
    "tab_IPTW <- svyCreateTableOne(\n",
    "  vars = vars,\n",
    "  strata = \"rt\",\n",
    "  data = dataIPTW,\n",
    "  test = T\n",
    ")\n",
    "\n",
    "#标准化差结果\n",
    "print(tab_IPTW, showAllLevels = TRUE, smd = TRUE)\n",
    "\n",
    "#查看是否有SMD>10%的混杂因素\n",
    "addmargins(table(ExtractSmd(tab_IPTW) > 0.1))"
   ]
  },
  {
   "cell_type": "code",
   "execution_count": 26,
   "metadata": {
    "vscode": {
     "languageId": "r"
    }
   },
   "outputs": [
    {
     "data": {
      "text/plain": [
       "Independent Sampling design (with replacement)\n",
       "svydesign(ids = ~1, data = aa, weights = ~w)"
      ]
     },
     "metadata": {},
     "output_type": "display_data"
    }
   ],
   "source": [
    "# 查看加权后的数据框\n",
    "head(dataIPTW)"
   ]
  },
  {
   "cell_type": "markdown",
   "metadata": {},
   "source": [
    "# 标准化平均差SMD可视化"
   ]
  },
  {
   "cell_type": "code",
   "execution_count": null,
   "metadata": {
    "vscode": {
     "languageId": "r"
    }
   },
   "outputs": [
    {
     "name": "stderr",
     "output_type": "stream",
     "text": [
      "Warning message:\n",
      "\"\u001b[1m\u001b[22mUsing `size` aesthetic for lines was deprecated in ggplot2 3.4.0.\n",
      "\u001b[36mi\u001b[39m Please use `linewidth` instead.\"\n"
     ]
    },
    {
     "data": {
      "image/png": "[encoded data removed]",
      "text/plain": [
       "plot without title"
      ]
     },
     "metadata": {
      "image/png": {
       "height": 420,
       "width": 420
      }
     },
     "output_type": "display_data"
    }
   ],
   "source": [
    "library(ggplot2)\n",
    "\n",
    "#提取作图数据\n",
    "dataPlot <- data.frame(\n",
    "  variable = rownames(ExtractSmd(tab_Unmatched)),\n",
    "  Unmatched = as.numeric(ExtractSmd(tab_Unmatched)),\n",
    "  IPTW = as.numeric(ExtractSmd(tab_IPTW))\n",
    ")\n",
    "\n",
    "#指定将要出现在图中的变量\n",
    "dataPlotMelt<-melt(\n",
    "  data = dataPlot,\n",
    "  id.vars = c(\"variable\"),\n",
    "  variable.name = \"Method\",\n",
    "  value.name= \"SMD\"\n",
    ")\n",
    "\n",
    "varNames <- as.character(dataPlot$variable)[order(dataPlot$Unmatched)]\n",
    "\n",
    "dataPlotMelt$variable <- factor(dataPlotMelt$variable, levels = varNames)\n",
    "\n",
    "#画图\n",
    "ggplot(\n",
    "  data = dataPlotMelt,\n",
    "  mapping = aes(\n",
    "    x = variable, y = SMD,\n",
    "    group = Method,\n",
    "    color = Method,\n",
    "    shape = Method\n",
    "  )\n",
    ") +\n",
    "  #geom_line() +\n",
    "  geom_point(size = 4) +\n",
    "  geom_hline(\n",
    "    yintercept = 0.1,\n",
    "    color = \"red\",\n",
    "    lty = 2,\n",
    "    size = 0.1\n",
    "  ) +\n",
    "  coord_flip() +\n",
    "  theme_bw(base_size = 18)"
   ]
  },
  {
   "cell_type": "markdown",
   "metadata": {},
   "source": [
    "# 两个Table 1合并输出"
   ]
  },
  {
   "cell_type": "code",
   "execution_count": 19,
   "metadata": {
    "vscode": {
     "languageId": "r"
    }
   },
   "outputs": [
    {
     "name": "stdout",
     "output_type": "stream",
     "text": [
      "                Level Unmatched     <NA>          <NA>   <NA> Level\n",
      "Group           Level RT            No-RT         P      test Level\n",
      "n                      2180          2736                          \n",
      "age (mean (SD))       51.21 (8.92)  50.99 (8.93)   0.392           \n",
      "er (%)          1       473 (21.7)    604 (22.1)   0.776      1    \n",
      "                2      1707 (78.3)   2132 (77.9)              2    \n",
      "pr (%)          1       698 (32.0)    886 (32.4)   0.809      1    \n",
      "                2      1482 (68.0)   1850 (67.6)              2    \n",
      "her2 (%)        1      1724 (79.1)   2213 (80.9)   0.125      1    \n",
      "                2       456 (20.9)    523 (19.1)              2    \n",
      "surg (%)        1      1650 (75.7)   1074 (39.3)  <0.001      1    \n",
      "                2       530 (24.3)   1662 (60.7)              2    \n",
      "che (%)         1       626 (28.7)    372 (13.6)  <0.001      1    \n",
      "                2      1554 (71.3)   2364 (86.4)              2    \n",
      "g (%)           1       269 (12.3)    336 (12.3)   0.982      1    \n",
      "                2       897 (41.1)   1120 (40.9)              2    \n",
      "                3      1014 (46.5)   1280 (46.8)              3    \n",
      "t (%)           1      1043 (47.8)   1215 (44.4)  <0.001      1    \n",
      "                2      1028 (47.2)   1210 (44.2)              2    \n",
      "                3       109 ( 5.0)    311 (11.4)              3    \n",
      "                IPTW            <NA>            <NA>   <NA>\n",
      "Group           RT              No-RT           P      test\n",
      "n               5082.19         4829.82                    \n",
      "age (mean (SD))   50.85 (8.99)    50.99 (9.10)   0.673     \n",
      "er (%)           1166.1 (22.9)   1092.4 (22.6)   0.825     \n",
      "                 3916.1 (77.1)   3737.5 (77.4)             \n",
      "pr (%)           1687.2 (33.2)   1594.5 (33.0)   0.911     \n",
      "                 3395.0 (66.8)   3235.4 (67.0)             \n",
      "her2 (%)         4057.4 (79.8)   3856.2 (79.8)   0.997     \n",
      "                 1024.8 (20.2)    973.7 (20.2)             \n",
      "surg (%)         2683.9 (52.8)   2619.3 (54.2)   0.410     \n",
      "                 2398.3 (47.2)   2210.5 (45.8)             \n",
      "che (%)           983.0 (19.3)    893.7 (18.5)   0.519     \n",
      "                 4099.2 (80.7)   3936.1 (81.5)             \n",
      "g (%)             616.1 (12.1)    574.0 (11.9)   0.914     \n",
      "                 2014.5 (39.6)   1948.0 (40.3)             \n",
      "                 2451.5 (48.2)   2307.8 (47.8)             \n",
      "t (%)            2253.4 (44.3)   2179.3 (45.1)   0.224     \n",
      "                 2285.6 (45.0)   2228.7 (46.1)             \n",
      "                  543.2 (10.7)    421.8 ( 8.7)             \n"
     ]
    }
   ],
   "source": [
    "#1.提取两个结果\n",
    "table1 <- cbind(\n",
    "  print(tab_Unmatched, printToggle = F, showAllLevels = T),\n",
    "  print(tab_IPTW, printToggle = F, showAllLevels = T)\n",
    ")\n",
    "\n",
    "# 插入一行分组\n",
    "table1 <- rbind(Group=rep(c(\"Level\", \"RT\", \"No-RT\", \"P\", \"test\"), 2), table1)\n",
    "\n",
    "#更改列名\n",
    "colnames(table1) <- c(\"Level\", \"Unmatched\", NA, NA, NA, \"Level\", \"IPTW\", NA, NA, NA)\n",
    "\n",
    "#打印或导出Excel\n",
    "print(table1, quote = FALSE)"
   ]
  },
  {
   "cell_type": "code",
   "execution_count": null,
   "metadata": {
    "vscode": {
     "languageId": "r"
    }
   },
   "outputs": [],
   "source": []
  }
 ],
 "metadata": {
  "kernelspec": {
   "display_name": "R",
   "language": "R",
   "name": "ir"
  },
  "language_info": {
   "codemirror_mode": "r",
   "file_extension": ".r",
   "mimetype": "text/x-r-source",
   "name": "R",
   "pygments_lexer": "r",
   "version": "4.4.2"
  }
 },
 "nbformat": 4,
 "nbformat_minor": 2
}

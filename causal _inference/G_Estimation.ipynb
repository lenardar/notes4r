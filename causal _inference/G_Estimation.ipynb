{
 "cells": [
  {
   "cell_type": "markdown",
   "metadata": {},
   "source": [
    "使用R语言学习G估算技术。"
   ]
  },
  {
   "cell_type": "code",
   "execution_count": 22,
   "metadata": {
    "vscode": {
     "languageId": "r"
    }
   },
   "outputs": [],
   "source": [
    "library(tidyverse)\n",
    "library(broom)"
   ]
  },
  {
   "cell_type": "code",
   "execution_count": 23,
   "metadata": {
    "vscode": {
     "languageId": "r"
    }
   },
   "outputs": [
    {
     "name": "stderr",
     "output_type": "stream",
     "text": [
      "\u001b[1mRows: \u001b[22m\u001b[34m1629\u001b[39m \u001b[1mColumns: \u001b[22m\u001b[34m64\u001b[39m\n",
      "\u001b[36m--\u001b[39m \u001b[1mColumn specification\u001b[22m \u001b[36m--------------------------------------------------------\u001b[39m\n",
      "\u001b[1mDelimiter:\u001b[22m \",\"\n",
      "\u001b[32mdbl\u001b[39m (64): seqn, qsmk, death, yrdth, modth, dadth, sbp, dbp, sex, age, race, ...\n",
      "\n",
      "\u001b[36mi\u001b[39m Use `spec()` to retrieve the full column specification for this data.\n",
      "\u001b[36mi\u001b[39m Specify the column types or set `show_col_types = FALSE` to quiet this message.\n"
     ]
    },
    {
     "data": {
      "text/html": [
       "<table class=\"dataframe\">\n",
       "<caption>A tibble: 6 x 64</caption>\n",
       "<thead>\n",
       "\t<tr><th scope=col>seqn</th><th scope=col>qsmk</th><th scope=col>death</th><th scope=col>yrdth</th><th scope=col>modth</th><th scope=col>dadth</th><th scope=col>sbp</th><th scope=col>dbp</th><th scope=col>sex</th><th scope=col>age</th><th scope=col>...</th><th scope=col>birthcontrol</th><th scope=col>pregnancies</th><th scope=col>cholesterol</th><th scope=col>hightax82</th><th scope=col>price71</th><th scope=col>price82</th><th scope=col>tax71</th><th scope=col>tax82</th><th scope=col>price71_82</th><th scope=col>tax71_82</th></tr>\n",
       "\t<tr><th scope=col>&lt;dbl&gt;</th><th scope=col>&lt;dbl&gt;</th><th scope=col>&lt;dbl&gt;</th><th scope=col>&lt;dbl&gt;</th><th scope=col>&lt;dbl&gt;</th><th scope=col>&lt;dbl&gt;</th><th scope=col>&lt;dbl&gt;</th><th scope=col>&lt;dbl&gt;</th><th scope=col>&lt;dbl&gt;</th><th scope=col>&lt;dbl&gt;</th><th scope=col>...</th><th scope=col>&lt;dbl&gt;</th><th scope=col>&lt;dbl&gt;</th><th scope=col>&lt;dbl&gt;</th><th scope=col>&lt;dbl&gt;</th><th scope=col>&lt;dbl&gt;</th><th scope=col>&lt;dbl&gt;</th><th scope=col>&lt;dbl&gt;</th><th scope=col>&lt;dbl&gt;</th><th scope=col>&lt;dbl&gt;</th><th scope=col>&lt;dbl&gt;</th></tr>\n",
       "</thead>\n",
       "<tbody>\n",
       "\t<tr><td>233</td><td>0</td><td>0</td><td>NA</td><td>NA</td><td>NA</td><td>175</td><td>96</td><td>0</td><td>42</td><td>...</td><td>2</td><td>NA</td><td>197</td><td>0</td><td>2.183594</td><td>1.739990</td><td>1.1022949</td><td>0.4619751</td><td>0.44378662</td><td>0.6403809</td></tr>\n",
       "\t<tr><td>235</td><td>0</td><td>0</td><td>NA</td><td>NA</td><td>NA</td><td>123</td><td>80</td><td>0</td><td>36</td><td>...</td><td>2</td><td>NA</td><td>301</td><td>0</td><td>2.346680</td><td>1.797363</td><td>1.3649902</td><td>0.5718994</td><td>0.54931641</td><td>0.7929688</td></tr>\n",
       "\t<tr><td>244</td><td>0</td><td>0</td><td>NA</td><td>NA</td><td>NA</td><td>115</td><td>75</td><td>1</td><td>56</td><td>...</td><td>0</td><td> 2</td><td>157</td><td>0</td><td>1.569580</td><td>1.513428</td><td>0.5512695</td><td>0.2309875</td><td>0.05619812</td><td>0.3202515</td></tr>\n",
       "\t<tr><td>245</td><td>0</td><td>1</td><td>85</td><td> 2</td><td>14</td><td>148</td><td>78</td><td>0</td><td>68</td><td>...</td><td>2</td><td>NA</td><td>174</td><td>0</td><td>1.506592</td><td>1.451904</td><td>0.5249023</td><td>0.2199707</td><td>0.05479431</td><td>0.3049927</td></tr>\n",
       "\t<tr><td>252</td><td>0</td><td>0</td><td>NA</td><td>NA</td><td>NA</td><td>118</td><td>77</td><td>0</td><td>40</td><td>...</td><td>2</td><td>NA</td><td>216</td><td>0</td><td>2.346680</td><td>1.797363</td><td>1.3649902</td><td>0.5718994</td><td>0.54931641</td><td>0.7929688</td></tr>\n",
       "\t<tr><td>257</td><td>0</td><td>0</td><td>NA</td><td>NA</td><td>NA</td><td>141</td><td>83</td><td>1</td><td>43</td><td>...</td><td>0</td><td> 1</td><td>212</td><td>1</td><td>2.209961</td><td>2.025879</td><td>1.1547852</td><td>0.7479248</td><td>0.18408203</td><td>0.4069824</td></tr>\n",
       "</tbody>\n",
       "</table>\n"
      ],
      "text/latex": [
       "A tibble: 6 x 64\n",
       "\\begin{tabular}{lllllllllllllllllllll}\n",
       " seqn & qsmk & death & yrdth & modth & dadth & sbp & dbp & sex & age & ... & birthcontrol & pregnancies & cholesterol & hightax82 & price71 & price82 & tax71 & tax82 & price71\\_82 & tax71\\_82\\\\\n",
       " <dbl> & <dbl> & <dbl> & <dbl> & <dbl> & <dbl> & <dbl> & <dbl> & <dbl> & <dbl> & ... & <dbl> & <dbl> & <dbl> & <dbl> & <dbl> & <dbl> & <dbl> & <dbl> & <dbl> & <dbl>\\\\\n",
       "\\hline\n",
       "\t 233 & 0 & 0 & NA & NA & NA & 175 & 96 & 0 & 42 & ... & 2 & NA & 197 & 0 & 2.183594 & 1.739990 & 1.1022949 & 0.4619751 & 0.44378662 & 0.6403809\\\\\n",
       "\t 235 & 0 & 0 & NA & NA & NA & 123 & 80 & 0 & 36 & ... & 2 & NA & 301 & 0 & 2.346680 & 1.797363 & 1.3649902 & 0.5718994 & 0.54931641 & 0.7929688\\\\\n",
       "\t 244 & 0 & 0 & NA & NA & NA & 115 & 75 & 1 & 56 & ... & 0 &  2 & 157 & 0 & 1.569580 & 1.513428 & 0.5512695 & 0.2309875 & 0.05619812 & 0.3202515\\\\\n",
       "\t 245 & 0 & 1 & 85 &  2 & 14 & 148 & 78 & 0 & 68 & ... & 2 & NA & 174 & 0 & 1.506592 & 1.451904 & 0.5249023 & 0.2199707 & 0.05479431 & 0.3049927\\\\\n",
       "\t 252 & 0 & 0 & NA & NA & NA & 118 & 77 & 0 & 40 & ... & 2 & NA & 216 & 0 & 2.346680 & 1.797363 & 1.3649902 & 0.5718994 & 0.54931641 & 0.7929688\\\\\n",
       "\t 257 & 0 & 0 & NA & NA & NA & 141 & 83 & 1 & 43 & ... & 0 &  1 & 212 & 1 & 2.209961 & 2.025879 & 1.1547852 & 0.7479248 & 0.18408203 & 0.4069824\\\\\n",
       "\\end{tabular}\n"
      ],
      "text/markdown": [
       "\n",
       "A tibble: 6 x 64\n",
       "\n",
       "| seqn &lt;dbl&gt; | qsmk &lt;dbl&gt; | death &lt;dbl&gt; | yrdth &lt;dbl&gt; | modth &lt;dbl&gt; | dadth &lt;dbl&gt; | sbp &lt;dbl&gt; | dbp &lt;dbl&gt; | sex &lt;dbl&gt; | age &lt;dbl&gt; | ... ... | birthcontrol &lt;dbl&gt; | pregnancies &lt;dbl&gt; | cholesterol &lt;dbl&gt; | hightax82 &lt;dbl&gt; | price71 &lt;dbl&gt; | price82 &lt;dbl&gt; | tax71 &lt;dbl&gt; | tax82 &lt;dbl&gt; | price71_82 &lt;dbl&gt; | tax71_82 &lt;dbl&gt; |\n",
       "|---|---|---|---|---|---|---|---|---|---|---|---|---|---|---|---|---|---|---|---|---|\n",
       "| 233 | 0 | 0 | NA | NA | NA | 175 | 96 | 0 | 42 | ... | 2 | NA | 197 | 0 | 2.183594 | 1.739990 | 1.1022949 | 0.4619751 | 0.44378662 | 0.6403809 |\n",
       "| 235 | 0 | 0 | NA | NA | NA | 123 | 80 | 0 | 36 | ... | 2 | NA | 301 | 0 | 2.346680 | 1.797363 | 1.3649902 | 0.5718994 | 0.54931641 | 0.7929688 |\n",
       "| 244 | 0 | 0 | NA | NA | NA | 115 | 75 | 1 | 56 | ... | 0 |  2 | 157 | 0 | 1.569580 | 1.513428 | 0.5512695 | 0.2309875 | 0.05619812 | 0.3202515 |\n",
       "| 245 | 0 | 1 | 85 |  2 | 14 | 148 | 78 | 0 | 68 | ... | 2 | NA | 174 | 0 | 1.506592 | 1.451904 | 0.5249023 | 0.2199707 | 0.05479431 | 0.3049927 |\n",
       "| 252 | 0 | 0 | NA | NA | NA | 118 | 77 | 0 | 40 | ... | 2 | NA | 216 | 0 | 2.346680 | 1.797363 | 1.3649902 | 0.5718994 | 0.54931641 | 0.7929688 |\n",
       "| 257 | 0 | 0 | NA | NA | NA | 141 | 83 | 1 | 43 | ... | 0 |  1 | 212 | 1 | 2.209961 | 2.025879 | 1.1547852 | 0.7479248 | 0.18408203 | 0.4069824 |\n",
       "\n"
      ],
      "text/plain": [
       "  seqn qsmk death yrdth modth dadth sbp dbp sex age ... birthcontrol\n",
       "1 233  0    0     NA    NA    NA    175 96  0   42  ... 2           \n",
       "2 235  0    0     NA    NA    NA    123 80  0   36  ... 2           \n",
       "3 244  0    0     NA    NA    NA    115 75  1   56  ... 0           \n",
       "4 245  0    1     85     2    14    148 78  0   68  ... 2           \n",
       "5 252  0    0     NA    NA    NA    118 77  0   40  ... 2           \n",
       "6 257  0    0     NA    NA    NA    141 83  1   43  ... 0           \n",
       "  pregnancies cholesterol hightax82 price71  price82  tax71     tax82    \n",
       "1 NA          197         0         2.183594 1.739990 1.1022949 0.4619751\n",
       "2 NA          301         0         2.346680 1.797363 1.3649902 0.5718994\n",
       "3  2          157         0         1.569580 1.513428 0.5512695 0.2309875\n",
       "4 NA          174         0         1.506592 1.451904 0.5249023 0.2199707\n",
       "5 NA          216         0         2.346680 1.797363 1.3649902 0.5718994\n",
       "6  1          212         1         2.209961 2.025879 1.1547852 0.7479248\n",
       "  price71_82 tax71_82 \n",
       "1 0.44378662 0.6403809\n",
       "2 0.54931641 0.7929688\n",
       "3 0.05619812 0.3202515\n",
       "4 0.05479431 0.3049927\n",
       "5 0.54931641 0.7929688\n",
       "6 0.18408203 0.4069824"
      ]
     },
     "metadata": {},
     "output_type": "display_data"
    }
   ],
   "source": [
    "nhefs <- read_csv(\"./data/nhefs.csv\")\n",
    "\n",
    "head(nhefs)"
   ]
  },
  {
   "cell_type": "code",
   "execution_count": 24,
   "metadata": {
    "vscode": {
     "languageId": "r"
    }
   },
   "outputs": [],
   "source": [
    "nhefs$cens <- ifelse(is.na(nhefs$wt82), 1, 0)"
   ]
  },
  {
   "cell_type": "code",
   "execution_count": 25,
   "metadata": {
    "vscode": {
     "languageId": "r"
    }
   },
   "outputs": [
    {
     "data": {
      "text/plain": [
       "nhefs$wt82_71 \n",
       "       n  missing distinct     Info     Mean  pMedian      Gmd      .05 \n",
       "    1566       63     1510        1    2.638    2.607    8.337   -9.752 \n",
       "     .10      .25      .50      .75      .90      .95 \n",
       "  -6.292   -1.478    2.604    6.690   11.117   14.739 \n",
       "\n",
       "lowest : -41.2805 -30.5019 -30.0501 -29.0258 -25.9706\n",
       "highest: 34.0178  36.9693  37.6505  47.5113  48.5384 "
      ]
     },
     "metadata": {},
     "output_type": "display_data"
    }
   ],
   "source": [
    "library(Hmisc)\n",
    "describe(nhefs$wt82_71)"
   ]
  },
  {
   "cell_type": "code",
   "execution_count": 26,
   "metadata": {
    "vscode": {
     "languageId": "r"
    }
   },
   "outputs": [
    {
     "data": {
      "text/html": [
       "<table class=\"dataframe\">\n",
       "<caption>A tibble: 20 x 5</caption>\n",
       "<thead>\n",
       "\t<tr><th scope=col>term</th><th scope=col>estimate</th><th scope=col>std.error</th><th scope=col>statistic</th><th scope=col>p.value</th></tr>\n",
       "\t<tr><th scope=col>&lt;chr&gt;</th><th scope=col>&lt;dbl&gt;</th><th scope=col>&lt;dbl&gt;</th><th scope=col>&lt;dbl&gt;</th><th scope=col>&lt;dbl&gt;</th></tr>\n",
       "</thead>\n",
       "<tbody>\n",
       "\t<tr><td>(Intercept)          </td><td>-4.0144660794</td><td>2.5761057592</td><td>-1.55834677</td><td>0.119151068</td></tr>\n",
       "\t<tr><td>qsmk                 </td><td>-0.5168674288</td><td>0.2877161756</td><td>-1.79644898</td><td>0.072423141</td></tr>\n",
       "\t<tr><td>sex                  </td><td>-0.0573130913</td><td>0.3302775370</td><td>-0.17353009</td><td>0.862234777</td></tr>\n",
       "\t<tr><td>race                 </td><td> 0.0122714864</td><td>0.4524887466</td><td> 0.02711998</td><td>0.978364038</td></tr>\n",
       "\t<tr><td>age                  </td><td> 0.2697292970</td><td>0.1174646830</td><td> 2.29625867</td><td>0.021661096</td></tr>\n",
       "\t<tr><td>I(age^2)             </td><td>-0.0028836512</td><td>0.0011135046</td><td>-2.58970754</td><td>0.009605750</td></tr>\n",
       "\t<tr><td>as.factor(education)2</td><td> 0.4407884451</td><td>0.4193992939</td><td> 1.05099949</td><td>0.293258823</td></tr>\n",
       "\t<tr><td>as.factor(education)3</td><td> 0.1646881298</td><td>0.3705471430</td><td> 0.44444582</td><td>0.656720290</td></tr>\n",
       "\t<tr><td>as.factor(education)4</td><td>-0.1384469859</td><td>0.5697969170</td><td>-0.24297602</td><td>0.808023976</td></tr>\n",
       "\t<tr><td>as.factor(education)5</td><td> 0.3823818448</td><td>0.5601807562</td><td> 0.68260439</td><td>0.494856858</td></tr>\n",
       "\t<tr><td>smokeintensity       </td><td>-0.0157118881</td><td>0.0347318828</td><td>-0.45237652</td><td>0.650997762</td></tr>\n",
       "\t<tr><td>I(smokeintensity^2)  </td><td> 0.0001132561</td><td>0.0006058385</td><td> 0.18694104</td><td>0.851706864</td></tr>\n",
       "\t<tr><td>smokeyrs             </td><td>-0.0785973326</td><td>0.0749576371</td><td>-1.04855670</td><td>0.294382193</td></tr>\n",
       "\t<tr><td>I(smokeyrs^2)        </td><td> 0.0005568756</td><td>0.0010317651</td><td> 0.53973101</td><td>0.589382554</td></tr>\n",
       "\t<tr><td>as.factor(exercise)1 </td><td> 0.9714713643</td><td>0.3878101290</td><td> 2.50501803</td><td>0.012244515</td></tr>\n",
       "\t<tr><td>as.factor(exercise)2 </td><td> 0.5839890027</td><td>0.3723133258</td><td> 1.56854177</td><td>0.116754750</td></tr>\n",
       "\t<tr><td>as.factor(active)1   </td><td> 0.2474785457</td><td>0.3254547980</td><td> 0.76040835</td><td>0.447010534</td></tr>\n",
       "\t<tr><td>as.factor(active)2   </td><td>-0.7065828544</td><td>0.3964576666</td><td>-1.78224036</td><td>0.074710044</td></tr>\n",
       "\t<tr><td>wt71                 </td><td> 0.0878870598</td><td>0.0400115132</td><td> 2.19654426</td><td>0.028053011</td></tr>\n",
       "\t<tr><td>I(wt71^2)            </td><td>-0.0006351025</td><td>0.0002257399</td><td>-2.81342587</td><td>0.004901669</td></tr>\n",
       "</tbody>\n",
       "</table>\n"
      ],
      "text/latex": [
       "A tibble: 20 x 5\n",
       "\\begin{tabular}{lllll}\n",
       " term & estimate & std.error & statistic & p.value\\\\\n",
       " <chr> & <dbl> & <dbl> & <dbl> & <dbl>\\\\\n",
       "\\hline\n",
       "\t (Intercept)           & -4.0144660794 & 2.5761057592 & -1.55834677 & 0.119151068\\\\\n",
       "\t qsmk                  & -0.5168674288 & 0.2877161756 & -1.79644898 & 0.072423141\\\\\n",
       "\t sex                   & -0.0573130913 & 0.3302775370 & -0.17353009 & 0.862234777\\\\\n",
       "\t race                  &  0.0122714864 & 0.4524887466 &  0.02711998 & 0.978364038\\\\\n",
       "\t age                   &  0.2697292970 & 0.1174646830 &  2.29625867 & 0.021661096\\\\\n",
       "\t I(age\\textasciicircum{}2)              & -0.0028836512 & 0.0011135046 & -2.58970754 & 0.009605750\\\\\n",
       "\t as.factor(education)2 &  0.4407884451 & 0.4193992939 &  1.05099949 & 0.293258823\\\\\n",
       "\t as.factor(education)3 &  0.1646881298 & 0.3705471430 &  0.44444582 & 0.656720290\\\\\n",
       "\t as.factor(education)4 & -0.1384469859 & 0.5697969170 & -0.24297602 & 0.808023976\\\\\n",
       "\t as.factor(education)5 &  0.3823818448 & 0.5601807562 &  0.68260439 & 0.494856858\\\\\n",
       "\t smokeintensity        & -0.0157118881 & 0.0347318828 & -0.45237652 & 0.650997762\\\\\n",
       "\t I(smokeintensity\\textasciicircum{}2)   &  0.0001132561 & 0.0006058385 &  0.18694104 & 0.851706864\\\\\n",
       "\t smokeyrs              & -0.0785973326 & 0.0749576371 & -1.04855670 & 0.294382193\\\\\n",
       "\t I(smokeyrs\\textasciicircum{}2)         &  0.0005568756 & 0.0010317651 &  0.53973101 & 0.589382554\\\\\n",
       "\t as.factor(exercise)1  &  0.9714713643 & 0.3878101290 &  2.50501803 & 0.012244515\\\\\n",
       "\t as.factor(exercise)2  &  0.5839890027 & 0.3723133258 &  1.56854177 & 0.116754750\\\\\n",
       "\t as.factor(active)1    &  0.2474785457 & 0.3254547980 &  0.76040835 & 0.447010534\\\\\n",
       "\t as.factor(active)2    & -0.7065828544 & 0.3964576666 & -1.78224036 & 0.074710044\\\\\n",
       "\t wt71                  &  0.0878870598 & 0.0400115132 &  2.19654426 & 0.028053011\\\\\n",
       "\t I(wt71\\textasciicircum{}2)             & -0.0006351025 & 0.0002257399 & -2.81342587 & 0.004901669\\\\\n",
       "\\end{tabular}\n"
      ],
      "text/markdown": [
       "\n",
       "A tibble: 20 x 5\n",
       "\n",
       "| term &lt;chr&gt; | estimate &lt;dbl&gt; | std.error &lt;dbl&gt; | statistic &lt;dbl&gt; | p.value &lt;dbl&gt; |\n",
       "|---|---|---|---|---|\n",
       "| (Intercept)           | -4.0144660794 | 2.5761057592 | -1.55834677 | 0.119151068 |\n",
       "| qsmk                  | -0.5168674288 | 0.2877161756 | -1.79644898 | 0.072423141 |\n",
       "| sex                   | -0.0573130913 | 0.3302775370 | -0.17353009 | 0.862234777 |\n",
       "| race                  |  0.0122714864 | 0.4524887466 |  0.02711998 | 0.978364038 |\n",
       "| age                   |  0.2697292970 | 0.1174646830 |  2.29625867 | 0.021661096 |\n",
       "| I(age^2)              | -0.0028836512 | 0.0011135046 | -2.58970754 | 0.009605750 |\n",
       "| as.factor(education)2 |  0.4407884451 | 0.4193992939 |  1.05099949 | 0.293258823 |\n",
       "| as.factor(education)3 |  0.1646881298 | 0.3705471430 |  0.44444582 | 0.656720290 |\n",
       "| as.factor(education)4 | -0.1384469859 | 0.5697969170 | -0.24297602 | 0.808023976 |\n",
       "| as.factor(education)5 |  0.3823818448 | 0.5601807562 |  0.68260439 | 0.494856858 |\n",
       "| smokeintensity        | -0.0157118881 | 0.0347318828 | -0.45237652 | 0.650997762 |\n",
       "| I(smokeintensity^2)   |  0.0001132561 | 0.0006058385 |  0.18694104 | 0.851706864 |\n",
       "| smokeyrs              | -0.0785973326 | 0.0749576371 | -1.04855670 | 0.294382193 |\n",
       "| I(smokeyrs^2)         |  0.0005568756 | 0.0010317651 |  0.53973101 | 0.589382554 |\n",
       "| as.factor(exercise)1  |  0.9714713643 | 0.3878101290 |  2.50501803 | 0.012244515 |\n",
       "| as.factor(exercise)2  |  0.5839890027 | 0.3723133258 |  1.56854177 | 0.116754750 |\n",
       "| as.factor(active)1    |  0.2474785457 | 0.3254547980 |  0.76040835 | 0.447010534 |\n",
       "| as.factor(active)2    | -0.7065828544 | 0.3964576666 | -1.78224036 | 0.074710044 |\n",
       "| wt71                  |  0.0878870598 | 0.0400115132 |  2.19654426 | 0.028053011 |\n",
       "| I(wt71^2)             | -0.0006351025 | 0.0002257399 | -2.81342587 | 0.004901669 |\n",
       "\n"
      ],
      "text/plain": [
       "   term                  estimate      std.error    statistic   p.value    \n",
       "1  (Intercept)           -4.0144660794 2.5761057592 -1.55834677 0.119151068\n",
       "2  qsmk                  -0.5168674288 0.2877161756 -1.79644898 0.072423141\n",
       "3  sex                   -0.0573130913 0.3302775370 -0.17353009 0.862234777\n",
       "4  race                   0.0122714864 0.4524887466  0.02711998 0.978364038\n",
       "5  age                    0.2697292970 0.1174646830  2.29625867 0.021661096\n",
       "6  I(age^2)              -0.0028836512 0.0011135046 -2.58970754 0.009605750\n",
       "7  as.factor(education)2  0.4407884451 0.4193992939  1.05099949 0.293258823\n",
       "8  as.factor(education)3  0.1646881298 0.3705471430  0.44444582 0.656720290\n",
       "9  as.factor(education)4 -0.1384469859 0.5697969170 -0.24297602 0.808023976\n",
       "10 as.factor(education)5  0.3823818448 0.5601807562  0.68260439 0.494856858\n",
       "11 smokeintensity        -0.0157118881 0.0347318828 -0.45237652 0.650997762\n",
       "12 I(smokeintensity^2)    0.0001132561 0.0006058385  0.18694104 0.851706864\n",
       "13 smokeyrs              -0.0785973326 0.0749576371 -1.04855670 0.294382193\n",
       "14 I(smokeyrs^2)          0.0005568756 0.0010317651  0.53973101 0.589382554\n",
       "15 as.factor(exercise)1   0.9714713643 0.3878101290  2.50501803 0.012244515\n",
       "16 as.factor(exercise)2   0.5839890027 0.3723133258  1.56854177 0.116754750\n",
       "17 as.factor(active)1     0.2474785457 0.3254547980  0.76040835 0.447010534\n",
       "18 as.factor(active)2    -0.7065828544 0.3964576666 -1.78224036 0.074710044\n",
       "19 wt71                   0.0878870598 0.0400115132  2.19654426 0.028053011\n",
       "20 I(wt71^2)             -0.0006351025 0.0002257399 -2.81342587 0.004901669"
      ]
     },
     "metadata": {},
     "output_type": "display_data"
    }
   ],
   "source": [
    "# 估计逆概率权重，G估算不能控制选择偏倚\n",
    "# 估计选择模型\n",
    "cw.denom <- glm(\n",
    "  cens==0 ~ qsmk + sex + race + age + I(age^2) \n",
    "  + as.factor(education) + smokeintensity + I(smokeintensity^2) \n",
    "  + smokeyrs + I(smokeyrs^2) + as.factor(exercise)\n",
    "  + as.factor(active) + wt71 + I(wt71^2),\n",
    "  data = nhefs,\n",
    "  family = binomial(\"logit\")\n",
    ")\n",
    "\n",
    "tidy(cw.denom)\n",
    "\n",
    "# 计算逆概率权重\n",
    "nhefs$pd.c <- predict(cw.denom, nhefs, type=\"response\")\n",
    "nhefs$wc <- ifelse(nhefs$cens == 0, 1 / nhefs$pd.c, NA)  # observations with cens=1 only contribute to censoring models"
   ]
  },
  {
   "cell_type": "code",
   "execution_count": 45,
   "metadata": {
    "vscode": {
     "languageId": "r"
    }
   },
   "outputs": [
    {
     "name": "stderr",
     "output_type": "stream",
     "text": [
      "Warning message in eval(family$initialize):\n",
      "\"non-integer #successes in a binomial glm!\"\n"
     ]
    },
    {
     "data": {
      "text/html": [
       "<table class=\"dataframe\">\n",
       "<caption>A tibble: 20 x 5</caption>\n",
       "<thead>\n",
       "\t<tr><th scope=col>term</th><th scope=col>estimate</th><th scope=col>std.error</th><th scope=col>statistic</th><th scope=col>p.value</th></tr>\n",
       "\t<tr><th scope=col>&lt;chr&gt;</th><th scope=col>&lt;dbl&gt;</th><th scope=col>&lt;dbl&gt;</th><th scope=col>&lt;dbl&gt;</th><th scope=col>&lt;dbl&gt;</th></tr>\n",
       "</thead>\n",
       "<tbody>\n",
       "\t<tr><td>(Intercept)                       </td><td>-2.403e+00</td><td>1.3290542</td><td>3.269e+00</td><td>7.060e-02</td></tr>\n",
       "\t<tr><td>sex                               </td><td>-5.137e-01</td><td>0.1535534</td><td>1.119e+01</td><td>8.210e-04</td></tr>\n",
       "\t<tr><td>race                              </td><td>-8.609e-01</td><td>0.2098745</td><td>1.683e+01</td><td>4.097e-05</td></tr>\n",
       "\t<tr><td>age                               </td><td> 1.152e-01</td><td>0.0501955</td><td>5.263e+00</td><td>2.178e-02</td></tr>\n",
       "\t<tr><td>I(age * age)                      </td><td>-7.593e-04</td><td>0.0005296</td><td>2.056e+00</td><td>1.516e-01</td></tr>\n",
       "\t<tr><td>as.factor(education)2             </td><td>-2.894e-02</td><td>0.1963924</td><td>2.171e-02</td><td>8.829e-01</td></tr>\n",
       "\t<tr><td>as.factor(education)3             </td><td> 8.771e-02</td><td>0.1725907</td><td>2.582e-01</td><td>6.113e-01</td></tr>\n",
       "\t<tr><td>as.factor(education)4             </td><td> 6.637e-02</td><td>0.2697603</td><td>6.054e-02</td><td>8.056e-01</td></tr>\n",
       "\t<tr><td>as.factor(education)5             </td><td> 4.711e-01</td><td>0.2246983</td><td>4.395e+00</td><td>3.604e-02</td></tr>\n",
       "\t<tr><td>smokeintensity                    </td><td>-7.834e-02</td><td>0.0146403</td><td>2.863e+01</td><td>8.739e-08</td></tr>\n",
       "\t<tr><td>I(smokeintensity * smokeintensity)</td><td> 1.072e-03</td><td>0.0002650</td><td>1.637e+01</td><td>5.214e-05</td></tr>\n",
       "\t<tr><td>smokeyrs                          </td><td>-7.111e-02</td><td>0.0263896</td><td>7.261e+00</td><td>7.047e-03</td></tr>\n",
       "\t<tr><td>I(smokeyrs * smokeyrs)            </td><td> 8.153e-04</td><td>0.0004490</td><td>3.298e+00</td><td>6.938e-02</td></tr>\n",
       "\t<tr><td>as.factor(exercise)1              </td><td> 3.363e-01</td><td>0.1828462</td><td>3.384e+00</td><td>6.584e-02</td></tr>\n",
       "\t<tr><td>as.factor(exercise)2              </td><td> 3.800e-01</td><td>0.1888601</td><td>4.049e+00</td><td>4.419e-02</td></tr>\n",
       "\t<tr><td>as.factor(active)1                </td><td> 3.412e-02</td><td>0.1338512</td><td>6.499e-02</td><td>7.988e-01</td></tr>\n",
       "\t<tr><td>as.factor(active)2                </td><td> 2.135e-01</td><td>0.2121348</td><td>1.012e+00</td><td>3.143e-01</td></tr>\n",
       "\t<tr><td>wt71                              </td><td>-7.661e-03</td><td>0.0256237</td><td>8.938e-02</td><td>7.650e-01</td></tr>\n",
       "\t<tr><td>I(wt71 * wt71)                    </td><td> 8.655e-05</td><td>0.0001582</td><td>2.994e-01</td><td>5.842e-01</td></tr>\n",
       "\t<tr><td>Hpsi                              </td><td>-1.903e-06</td><td>0.0088386</td><td>4.635e-08</td><td>9.998e-01</td></tr>\n",
       "</tbody>\n",
       "</table>\n"
      ],
      "text/latex": [
       "A tibble: 20 x 5\n",
       "\\begin{tabular}{lllll}\n",
       " term & estimate & std.error & statistic & p.value\\\\\n",
       " <chr> & <dbl> & <dbl> & <dbl> & <dbl>\\\\\n",
       "\\hline\n",
       "\t (Intercept)                        & -2.403e+00 & 1.3290542 & 3.269e+00 & 7.060e-02\\\\\n",
       "\t sex                                & -5.137e-01 & 0.1535534 & 1.119e+01 & 8.210e-04\\\\\n",
       "\t race                               & -8.609e-01 & 0.2098745 & 1.683e+01 & 4.097e-05\\\\\n",
       "\t age                                &  1.152e-01 & 0.0501955 & 5.263e+00 & 2.178e-02\\\\\n",
       "\t I(age * age)                       & -7.593e-04 & 0.0005296 & 2.056e+00 & 1.516e-01\\\\\n",
       "\t as.factor(education)2              & -2.894e-02 & 0.1963924 & 2.171e-02 & 8.829e-01\\\\\n",
       "\t as.factor(education)3              &  8.771e-02 & 0.1725907 & 2.582e-01 & 6.113e-01\\\\\n",
       "\t as.factor(education)4              &  6.637e-02 & 0.2697603 & 6.054e-02 & 8.056e-01\\\\\n",
       "\t as.factor(education)5              &  4.711e-01 & 0.2246983 & 4.395e+00 & 3.604e-02\\\\\n",
       "\t smokeintensity                     & -7.834e-02 & 0.0146403 & 2.863e+01 & 8.739e-08\\\\\n",
       "\t I(smokeintensity * smokeintensity) &  1.072e-03 & 0.0002650 & 1.637e+01 & 5.214e-05\\\\\n",
       "\t smokeyrs                           & -7.111e-02 & 0.0263896 & 7.261e+00 & 7.047e-03\\\\\n",
       "\t I(smokeyrs * smokeyrs)             &  8.153e-04 & 0.0004490 & 3.298e+00 & 6.938e-02\\\\\n",
       "\t as.factor(exercise)1               &  3.363e-01 & 0.1828462 & 3.384e+00 & 6.584e-02\\\\\n",
       "\t as.factor(exercise)2               &  3.800e-01 & 0.1888601 & 4.049e+00 & 4.419e-02\\\\\n",
       "\t as.factor(active)1                 &  3.412e-02 & 0.1338512 & 6.499e-02 & 7.988e-01\\\\\n",
       "\t as.factor(active)2                 &  2.135e-01 & 0.2121348 & 1.012e+00 & 3.143e-01\\\\\n",
       "\t wt71                               & -7.661e-03 & 0.0256237 & 8.938e-02 & 7.650e-01\\\\\n",
       "\t I(wt71 * wt71)                     &  8.655e-05 & 0.0001582 & 2.994e-01 & 5.842e-01\\\\\n",
       "\t Hpsi                               & -1.903e-06 & 0.0088386 & 4.635e-08 & 9.998e-01\\\\\n",
       "\\end{tabular}\n"
      ],
      "text/markdown": [
       "\n",
       "A tibble: 20 x 5\n",
       "\n",
       "| term &lt;chr&gt; | estimate &lt;dbl&gt; | std.error &lt;dbl&gt; | statistic &lt;dbl&gt; | p.value &lt;dbl&gt; |\n",
       "|---|---|---|---|---|\n",
       "| (Intercept)                        | -2.403e+00 | 1.3290542 | 3.269e+00 | 7.060e-02 |\n",
       "| sex                                | -5.137e-01 | 0.1535534 | 1.119e+01 | 8.210e-04 |\n",
       "| race                               | -8.609e-01 | 0.2098745 | 1.683e+01 | 4.097e-05 |\n",
       "| age                                |  1.152e-01 | 0.0501955 | 5.263e+00 | 2.178e-02 |\n",
       "| I(age * age)                       | -7.593e-04 | 0.0005296 | 2.056e+00 | 1.516e-01 |\n",
       "| as.factor(education)2              | -2.894e-02 | 0.1963924 | 2.171e-02 | 8.829e-01 |\n",
       "| as.factor(education)3              |  8.771e-02 | 0.1725907 | 2.582e-01 | 6.113e-01 |\n",
       "| as.factor(education)4              |  6.637e-02 | 0.2697603 | 6.054e-02 | 8.056e-01 |\n",
       "| as.factor(education)5              |  4.711e-01 | 0.2246983 | 4.395e+00 | 3.604e-02 |\n",
       "| smokeintensity                     | -7.834e-02 | 0.0146403 | 2.863e+01 | 8.739e-08 |\n",
       "| I(smokeintensity * smokeintensity) |  1.072e-03 | 0.0002650 | 1.637e+01 | 5.214e-05 |\n",
       "| smokeyrs                           | -7.111e-02 | 0.0263896 | 7.261e+00 | 7.047e-03 |\n",
       "| I(smokeyrs * smokeyrs)             |  8.153e-04 | 0.0004490 | 3.298e+00 | 6.938e-02 |\n",
       "| as.factor(exercise)1               |  3.363e-01 | 0.1828462 | 3.384e+00 | 6.584e-02 |\n",
       "| as.factor(exercise)2               |  3.800e-01 | 0.1888601 | 4.049e+00 | 4.419e-02 |\n",
       "| as.factor(active)1                 |  3.412e-02 | 0.1338512 | 6.499e-02 | 7.988e-01 |\n",
       "| as.factor(active)2                 |  2.135e-01 | 0.2121348 | 1.012e+00 | 3.143e-01 |\n",
       "| wt71                               | -7.661e-03 | 0.0256237 | 8.938e-02 | 7.650e-01 |\n",
       "| I(wt71 * wt71)                     |  8.655e-05 | 0.0001582 | 2.994e-01 | 5.842e-01 |\n",
       "| Hpsi                               | -1.903e-06 | 0.0088386 | 4.635e-08 | 9.998e-01 |\n",
       "\n"
      ],
      "text/plain": [
       "   term                               estimate   std.error statistic p.value  \n",
       "1  (Intercept)                        -2.403e+00 1.3290542 3.269e+00 7.060e-02\n",
       "2  sex                                -5.137e-01 0.1535534 1.119e+01 8.210e-04\n",
       "3  race                               -8.609e-01 0.2098745 1.683e+01 4.097e-05\n",
       "4  age                                 1.152e-01 0.0501955 5.263e+00 2.178e-02\n",
       "5  I(age * age)                       -7.593e-04 0.0005296 2.056e+00 1.516e-01\n",
       "6  as.factor(education)2              -2.894e-02 0.1963924 2.171e-02 8.829e-01\n",
       "7  as.factor(education)3               8.771e-02 0.1725907 2.582e-01 6.113e-01\n",
       "8  as.factor(education)4               6.637e-02 0.2697603 6.054e-02 8.056e-01\n",
       "9  as.factor(education)5               4.711e-01 0.2246983 4.395e+00 3.604e-02\n",
       "10 smokeintensity                     -7.834e-02 0.0146403 2.863e+01 8.739e-08\n",
       "11 I(smokeintensity * smokeintensity)  1.072e-03 0.0002650 1.637e+01 5.214e-05\n",
       "12 smokeyrs                           -7.111e-02 0.0263896 7.261e+00 7.047e-03\n",
       "13 I(smokeyrs * smokeyrs)              8.153e-04 0.0004490 3.298e+00 6.938e-02\n",
       "14 as.factor(exercise)1                3.363e-01 0.1828462 3.384e+00 6.584e-02\n",
       "15 as.factor(exercise)2                3.800e-01 0.1888601 4.049e+00 4.419e-02\n",
       "16 as.factor(active)1                  3.412e-02 0.1338512 6.499e-02 7.988e-01\n",
       "17 as.factor(active)2                  2.135e-01 0.2121348 1.012e+00 3.143e-01\n",
       "18 wt71                               -7.661e-03 0.0256237 8.938e-02 7.650e-01\n",
       "19 I(wt71 * wt71)                      8.655e-05 0.0001582 2.994e-01 5.842e-01\n",
       "20 Hpsi                               -1.903e-06 0.0088386 4.635e-08 9.998e-01"
      ]
     },
     "metadata": {},
     "output_type": "display_data"
    }
   ],
   "source": [
    "library(\"geepack\")\n",
    "\n",
    "nhefs$psi <- 3.446\n",
    "nhefs$Hpsi <- nhefs$wt82_71 - nhefs$psi*nhefs$qsmk\n",
    "\n",
    "fit <- geeglm(qsmk ~ sex + race + age + I(age*age) + as.factor(education)\n",
    "           + smokeintensity + I(smokeintensity*smokeintensity) + smokeyrs\n",
    "           + I(smokeyrs*smokeyrs) + as.factor(exercise) + as.factor(active)\n",
    "           + wt71 + I(wt71*wt71) + Hpsi, family=binomial, data=nhefs,\n",
    "           weights=wc, id=seqn, corstr=\"independence\")\n",
    "\n",
    "tidy(fit)"
   ]
  },
  {
   "cell_type": "code",
   "execution_count": 47,
   "metadata": {
    "vscode": {
     "languageId": "r"
    }
   },
   "outputs": [
    {
     "name": "stderr",
     "output_type": "stream",
     "text": [
      "Warning message in eval(family$initialize):\n",
      "\"non-integer #successes in a binomial glm!\"\n"
     ]
    },
    {
     "data": {
      "text/html": [
       "<table class=\"dataframe\">\n",
       "<caption>A tibble: 20 x 5</caption>\n",
       "<thead>\n",
       "\t<tr><th scope=col>term</th><th scope=col>estimate</th><th scope=col>std.error</th><th scope=col>statistic</th><th scope=col>p.value</th></tr>\n",
       "\t<tr><th scope=col>&lt;chr&gt;</th><th scope=col>&lt;dbl&gt;</th><th scope=col>&lt;dbl&gt;</th><th scope=col>&lt;dbl&gt;</th><th scope=col>&lt;dbl&gt;</th></tr>\n",
       "</thead>\n",
       "<tbody>\n",
       "\t<tr><td>(Intercept)                       </td><td>-2.403e+00</td><td>1.3294787</td><td>-1.8074406</td><td>7.089e-02</td></tr>\n",
       "\t<tr><td>sex                               </td><td>-5.137e-01</td><td>0.1536024</td><td>-3.3445594</td><td>8.439e-04</td></tr>\n",
       "\t<tr><td>race                              </td><td>-8.609e-01</td><td>0.2099415</td><td>-4.1006236</td><td>4.335e-05</td></tr>\n",
       "\t<tr><td>age                               </td><td> 1.152e-01</td><td>0.0502116</td><td> 2.2934732</td><td>2.195e-02</td></tr>\n",
       "\t<tr><td>I(age * age)                      </td><td>-7.593e-04</td><td>0.0005297</td><td>-1.4333790</td><td>1.520e-01</td></tr>\n",
       "\t<tr><td>as.factor(education)2             </td><td>-2.894e-02</td><td>0.1964551</td><td>-0.1472989</td><td>8.829e-01</td></tr>\n",
       "\t<tr><td>as.factor(education)3             </td><td> 8.771e-02</td><td>0.1726458</td><td> 0.5080150</td><td>6.115e-01</td></tr>\n",
       "\t<tr><td>as.factor(education)4             </td><td> 6.637e-02</td><td>0.2698465</td><td> 0.2459691</td><td>8.057e-01</td></tr>\n",
       "\t<tr><td>as.factor(education)5             </td><td> 4.711e-01</td><td>0.2247701</td><td> 2.0958545</td><td>3.626e-02</td></tr>\n",
       "\t<tr><td>smokeintensity                    </td><td>-7.834e-02</td><td>0.0146450</td><td>-5.3494519</td><td>1.015e-07</td></tr>\n",
       "\t<tr><td>I(smokeintensity * smokeintensity)</td><td> 1.072e-03</td><td>0.0002651</td><td> 4.0445070</td><td>5.502e-05</td></tr>\n",
       "\t<tr><td>smokeyrs                          </td><td>-7.111e-02</td><td>0.0263980</td><td>-2.6937508</td><td>7.142e-03</td></tr>\n",
       "\t<tr><td>I(smokeyrs * smokeyrs)            </td><td> 8.153e-04</td><td>0.0004491</td><td> 1.8153327</td><td>6.967e-02</td></tr>\n",
       "\t<tr><td>as.factor(exercise)1              </td><td> 3.363e-01</td><td>0.1829046</td><td> 1.8388939</td><td>6.612e-02</td></tr>\n",
       "\t<tr><td>as.factor(exercise)2              </td><td> 3.800e-01</td><td>0.1889204</td><td> 2.0116746</td><td>4.443e-02</td></tr>\n",
       "\t<tr><td>as.factor(active)1                </td><td> 3.412e-02</td><td>0.1338940</td><td> 0.2548472</td><td>7.989e-01</td></tr>\n",
       "\t<tr><td>as.factor(active)2                </td><td> 2.135e-01</td><td>0.2122025</td><td> 1.0059032</td><td>3.146e-01</td></tr>\n",
       "\t<tr><td>wt71                              </td><td>-7.661e-03</td><td>0.0256319</td><td>-0.2988744</td><td>7.651e-01</td></tr>\n",
       "\t<tr><td>I(wt71 * wt71)                    </td><td> 8.655e-05</td><td>0.0001582</td><td> 0.5470377</td><td>5.844e-01</td></tr>\n",
       "\t<tr><td>Hpsi                              </td><td>-1.903e-06</td><td>0.0088414</td><td>-0.0002152</td><td>9.998e-01</td></tr>\n",
       "</tbody>\n",
       "</table>\n"
      ],
      "text/latex": [
       "A tibble: 20 x 5\n",
       "\\begin{tabular}{lllll}\n",
       " term & estimate & std.error & statistic & p.value\\\\\n",
       " <chr> & <dbl> & <dbl> & <dbl> & <dbl>\\\\\n",
       "\\hline\n",
       "\t (Intercept)                        & -2.403e+00 & 1.3294787 & -1.8074406 & 7.089e-02\\\\\n",
       "\t sex                                & -5.137e-01 & 0.1536024 & -3.3445594 & 8.439e-04\\\\\n",
       "\t race                               & -8.609e-01 & 0.2099415 & -4.1006236 & 4.335e-05\\\\\n",
       "\t age                                &  1.152e-01 & 0.0502116 &  2.2934732 & 2.195e-02\\\\\n",
       "\t I(age * age)                       & -7.593e-04 & 0.0005297 & -1.4333790 & 1.520e-01\\\\\n",
       "\t as.factor(education)2              & -2.894e-02 & 0.1964551 & -0.1472989 & 8.829e-01\\\\\n",
       "\t as.factor(education)3              &  8.771e-02 & 0.1726458 &  0.5080150 & 6.115e-01\\\\\n",
       "\t as.factor(education)4              &  6.637e-02 & 0.2698465 &  0.2459691 & 8.057e-01\\\\\n",
       "\t as.factor(education)5              &  4.711e-01 & 0.2247701 &  2.0958545 & 3.626e-02\\\\\n",
       "\t smokeintensity                     & -7.834e-02 & 0.0146450 & -5.3494519 & 1.015e-07\\\\\n",
       "\t I(smokeintensity * smokeintensity) &  1.072e-03 & 0.0002651 &  4.0445070 & 5.502e-05\\\\\n",
       "\t smokeyrs                           & -7.111e-02 & 0.0263980 & -2.6937508 & 7.142e-03\\\\\n",
       "\t I(smokeyrs * smokeyrs)             &  8.153e-04 & 0.0004491 &  1.8153327 & 6.967e-02\\\\\n",
       "\t as.factor(exercise)1               &  3.363e-01 & 0.1829046 &  1.8388939 & 6.612e-02\\\\\n",
       "\t as.factor(exercise)2               &  3.800e-01 & 0.1889204 &  2.0116746 & 4.443e-02\\\\\n",
       "\t as.factor(active)1                 &  3.412e-02 & 0.1338940 &  0.2548472 & 7.989e-01\\\\\n",
       "\t as.factor(active)2                 &  2.135e-01 & 0.2122025 &  1.0059032 & 3.146e-01\\\\\n",
       "\t wt71                               & -7.661e-03 & 0.0256319 & -0.2988744 & 7.651e-01\\\\\n",
       "\t I(wt71 * wt71)                     &  8.655e-05 & 0.0001582 &  0.5470377 & 5.844e-01\\\\\n",
       "\t Hpsi                               & -1.903e-06 & 0.0088414 & -0.0002152 & 9.998e-01\\\\\n",
       "\\end{tabular}\n"
      ],
      "text/markdown": [
       "\n",
       "A tibble: 20 x 5\n",
       "\n",
       "| term &lt;chr&gt; | estimate &lt;dbl&gt; | std.error &lt;dbl&gt; | statistic &lt;dbl&gt; | p.value &lt;dbl&gt; |\n",
       "|---|---|---|---|---|\n",
       "| (Intercept)                        | -2.403e+00 | 1.3294787 | -1.8074406 | 7.089e-02 |\n",
       "| sex                                | -5.137e-01 | 0.1536024 | -3.3445594 | 8.439e-04 |\n",
       "| race                               | -8.609e-01 | 0.2099415 | -4.1006236 | 4.335e-05 |\n",
       "| age                                |  1.152e-01 | 0.0502116 |  2.2934732 | 2.195e-02 |\n",
       "| I(age * age)                       | -7.593e-04 | 0.0005297 | -1.4333790 | 1.520e-01 |\n",
       "| as.factor(education)2              | -2.894e-02 | 0.1964551 | -0.1472989 | 8.829e-01 |\n",
       "| as.factor(education)3              |  8.771e-02 | 0.1726458 |  0.5080150 | 6.115e-01 |\n",
       "| as.factor(education)4              |  6.637e-02 | 0.2698465 |  0.2459691 | 8.057e-01 |\n",
       "| as.factor(education)5              |  4.711e-01 | 0.2247701 |  2.0958545 | 3.626e-02 |\n",
       "| smokeintensity                     | -7.834e-02 | 0.0146450 | -5.3494519 | 1.015e-07 |\n",
       "| I(smokeintensity * smokeintensity) |  1.072e-03 | 0.0002651 |  4.0445070 | 5.502e-05 |\n",
       "| smokeyrs                           | -7.111e-02 | 0.0263980 | -2.6937508 | 7.142e-03 |\n",
       "| I(smokeyrs * smokeyrs)             |  8.153e-04 | 0.0004491 |  1.8153327 | 6.967e-02 |\n",
       "| as.factor(exercise)1               |  3.363e-01 | 0.1829046 |  1.8388939 | 6.612e-02 |\n",
       "| as.factor(exercise)2               |  3.800e-01 | 0.1889204 |  2.0116746 | 4.443e-02 |\n",
       "| as.factor(active)1                 |  3.412e-02 | 0.1338940 |  0.2548472 | 7.989e-01 |\n",
       "| as.factor(active)2                 |  2.135e-01 | 0.2122025 |  1.0059032 | 3.146e-01 |\n",
       "| wt71                               | -7.661e-03 | 0.0256319 | -0.2988744 | 7.651e-01 |\n",
       "| I(wt71 * wt71)                     |  8.655e-05 | 0.0001582 |  0.5470377 | 5.844e-01 |\n",
       "| Hpsi                               | -1.903e-06 | 0.0088414 | -0.0002152 | 9.998e-01 |\n",
       "\n"
      ],
      "text/plain": [
       "   term                               estimate   std.error statistic  p.value  \n",
       "1  (Intercept)                        -2.403e+00 1.3294787 -1.8074406 7.089e-02\n",
       "2  sex                                -5.137e-01 0.1536024 -3.3445594 8.439e-04\n",
       "3  race                               -8.609e-01 0.2099415 -4.1006236 4.335e-05\n",
       "4  age                                 1.152e-01 0.0502116  2.2934732 2.195e-02\n",
       "5  I(age * age)                       -7.593e-04 0.0005297 -1.4333790 1.520e-01\n",
       "6  as.factor(education)2              -2.894e-02 0.1964551 -0.1472989 8.829e-01\n",
       "7  as.factor(education)3               8.771e-02 0.1726458  0.5080150 6.115e-01\n",
       "8  as.factor(education)4               6.637e-02 0.2698465  0.2459691 8.057e-01\n",
       "9  as.factor(education)5               4.711e-01 0.2247701  2.0958545 3.626e-02\n",
       "10 smokeintensity                     -7.834e-02 0.0146450 -5.3494519 1.015e-07\n",
       "11 I(smokeintensity * smokeintensity)  1.072e-03 0.0002651  4.0445070 5.502e-05\n",
       "12 smokeyrs                           -7.111e-02 0.0263980 -2.6937508 7.142e-03\n",
       "13 I(smokeyrs * smokeyrs)              8.153e-04 0.0004491  1.8153327 6.967e-02\n",
       "14 as.factor(exercise)1                3.363e-01 0.1829046  1.8388939 6.612e-02\n",
       "15 as.factor(exercise)2                3.800e-01 0.1889204  2.0116746 4.443e-02\n",
       "16 as.factor(active)1                  3.412e-02 0.1338940  0.2548472 7.989e-01\n",
       "17 as.factor(active)2                  2.135e-01 0.2122025  1.0059032 3.146e-01\n",
       "18 wt71                               -7.661e-03 0.0256319 -0.2988744 7.651e-01\n",
       "19 I(wt71 * wt71)                      8.655e-05 0.0001582  0.5470377 5.844e-01\n",
       "20 Hpsi                               -1.903e-06 0.0088414 -0.0002152 9.998e-01"
      ]
     },
     "metadata": {},
     "output_type": "display_data"
    }
   ],
   "source": [
    "# 单个可能值测试\n",
    "nhefs$psi <- 3.446\n",
    "nhefs$Hpsi <- nhefs$wt82_71 - nhefs$psi*nhefs$qsmk\n",
    "\n",
    "# 除去权重缺失的观测\n",
    "nhefs <- nhefs %>% filter(cens == 0)\n",
    "\n",
    "library(survey)\n",
    "\n",
    "fit <- svyglm(\n",
    "  qsmk ~ sex + race + age + I(age * age) + as.factor(education)\n",
    "  + smokeintensity + I(smokeintensity * smokeintensity) + smokeyrs\n",
    "  + I(smokeyrs * smokeyrs) + as.factor(exercise) + as.factor(active)\n",
    "  + wt71 + I(wt71 * wt71) + Hpsi,\n",
    "  design = svydesign(id = ~1, weights = ~wc, data = nhefs),\n",
    "  family = binomial(\"logit\")\n",
    ")\n",
    "\n",
    "tidy(fit)"
   ]
  },
  {
   "cell_type": "code",
   "execution_count": 56,
   "metadata": {
    "vscode": {
     "languageId": "r"
    }
   },
   "outputs": [
    {
     "data": {
      "text/html": [
       "<strong>Hpsi:</strong> -1.90278021939279e-06"
      ],
      "text/latex": [
       "\\textbf{Hpsi:} -1.90278021939279e-06"
      ],
      "text/markdown": [
       "**Hpsi:** -1.90278021939279e-06"
      ],
      "text/plain": [
       "      Hpsi \n",
       "-1.903e-06 "
      ]
     },
     "metadata": {},
     "output_type": "display_data"
    }
   ],
   "source": [
    "fit$coefficients[\"Hpsi\"]"
   ]
  },
  {
   "cell_type": "code",
   "execution_count": 57,
   "metadata": {
    "vscode": {
     "languageId": "r"
    }
   },
   "outputs": [],
   "source": [
    "result <- tidy(fit)"
   ]
  },
  {
   "cell_type": "code",
   "execution_count": 64,
   "metadata": {
    "vscode": {
     "languageId": "r"
    }
   },
   "outputs": [
    {
     "data": {
      "text/html": [
       "-1.90278021939279e-06"
      ],
      "text/latex": [
       "-1.90278021939279e-06"
      ],
      "text/markdown": [
       "-1.90278021939279e-06"
      ],
      "text/plain": [
       "[1] -1.903e-06"
      ]
     },
     "metadata": {},
     "output_type": "display_data"
    }
   ],
   "source": [
    "# 提取Hpsi的系数\n",
    "Hpsi_coef <- result %>% filter(term == \"Hpsi\") %>% select(estimate) %>% pull()\n",
    "\n",
    "Hpsi_coef"
   ]
  },
  {
   "cell_type": "code",
   "execution_count": 67,
   "metadata": {
    "vscode": {
     "languageId": "r"
    }
   },
   "outputs": [
    {
     "name": "stderr",
     "output_type": "stream",
     "text": [
      "Warning message in eval(family$initialize):\n",
      "\"non-integer #successes in a binomial glm!\"\n",
      "Warning message in eval(family$initialize):\n",
      "\"non-integer #successes in a binomial glm!\"\n",
      "Warning message in eval(family$initialize):\n",
      "\"non-integer #successes in a binomial glm!\"\n",
      "Warning message in eval(family$initialize):\n",
      "\"non-integer #successes in a binomial glm!\"\n",
      "Warning message in eval(family$initialize):\n",
      "\"non-integer #successes in a binomial glm!\"\n",
      "Warning message in eval(family$initialize):\n",
      "\"non-integer #successes in a binomial glm!\"\n",
      "Warning message in eval(family$initialize):\n",
      "\"non-integer #successes in a binomial glm!\"\n",
      "Warning message in eval(family$initialize):\n",
      "\"non-integer #successes in a binomial glm!\"\n",
      "Warning message in eval(family$initialize):\n",
      "\"non-integer #successes in a binomial glm!\"\n",
      "Warning message in eval(family$initialize):\n",
      "\"non-integer #successes in a binomial glm!\"\n",
      "Warning message in eval(family$initialize):\n",
      "\"non-integer #successes in a binomial glm!\"\n",
      "Warning message in eval(family$initialize):\n",
      "\"non-integer #successes in a binomial glm!\"\n",
      "Warning message in eval(family$initialize):\n",
      "\"non-integer #successes in a binomial glm!\"\n",
      "Warning message in eval(family$initialize):\n",
      "\"non-integer #successes in a binomial glm!\"\n",
      "Warning message in eval(family$initialize):\n",
      "\"non-integer #successes in a binomial glm!\"\n",
      "Warning message in eval(family$initialize):\n",
      "\"non-integer #successes in a binomial glm!\"\n",
      "Warning message in eval(family$initialize):\n",
      "\"non-integer #successes in a binomial glm!\"\n",
      "Warning message in eval(family$initialize):\n",
      "\"non-integer #successes in a binomial glm!\"\n",
      "Warning message in eval(family$initialize):\n",
      "\"non-integer #successes in a binomial glm!\"\n",
      "Warning message in eval(family$initialize):\n",
      "\"non-integer #successes in a binomial glm!\"\n",
      "Warning message in eval(family$initialize):\n",
      "\"non-integer #successes in a binomial glm!\"\n",
      "Warning message in eval(family$initialize):\n",
      "\"non-integer #successes in a binomial glm!\"\n",
      "Warning message in eval(family$initialize):\n",
      "\"non-integer #successes in a binomial glm!\"\n",
      "Warning message in eval(family$initialize):\n",
      "\"non-integer #successes in a binomial glm!\"\n",
      "Warning message in eval(family$initialize):\n",
      "\"non-integer #successes in a binomial glm!\"\n",
      "Warning message in eval(family$initialize):\n",
      "\"non-integer #successes in a binomial glm!\"\n",
      "Warning message in eval(family$initialize):\n",
      "\"non-integer #successes in a binomial glm!\"\n",
      "Warning message in eval(family$initialize):\n",
      "\"non-integer #successes in a binomial glm!\"\n",
      "Warning message in eval(family$initialize):\n",
      "\"non-integer #successes in a binomial glm!\"\n",
      "Warning message in eval(family$initialize):\n",
      "\"non-integer #successes in a binomial glm!\"\n",
      "Warning message in eval(family$initialize):\n",
      "\"non-integer #successes in a binomial glm!\"\n"
     ]
    },
    {
     "data": {
      "text/html": [
       "<table class=\"dataframe\">\n",
       "<caption>A matrix: 31 x 3 of type dbl</caption>\n",
       "<thead>\n",
       "\t<tr><th scope=col>psi</th><th scope=col>Estimate</th><th scope=col>p-value</th></tr>\n",
       "</thead>\n",
       "<tbody>\n",
       "\t<tr><td>2.0</td><td> 0.0267219</td><td>0.001812</td></tr>\n",
       "\t<tr><td>2.1</td><td> 0.0248946</td><td>0.003642</td></tr>\n",
       "\t<tr><td>2.2</td><td> 0.0230655</td><td>0.007057</td></tr>\n",
       "\t<tr><td>2.3</td><td> 0.0212344</td><td>0.013160</td></tr>\n",
       "\t<tr><td>2.4</td><td> 0.0194009</td><td>0.023599</td></tr>\n",
       "\t<tr><td>2.5</td><td> 0.0175647</td><td>0.040663</td></tr>\n",
       "\t<tr><td>2.6</td><td> 0.0157254</td><td>0.067294</td></tr>\n",
       "\t<tr><td>2.7</td><td> 0.0138827</td><td>0.106942</td></tr>\n",
       "\t<tr><td>2.8</td><td> 0.0120362</td><td>0.163212</td></tr>\n",
       "\t<tr><td>2.9</td><td> 0.0101857</td><td>0.239310</td></tr>\n",
       "\t<tr><td>3.0</td><td> 0.0083308</td><td>0.337352</td></tr>\n",
       "\t<tr><td>3.1</td><td> 0.0064713</td><td>0.457690</td></tr>\n",
       "\t<tr><td>3.2</td><td> 0.0046069</td><td>0.598427</td></tr>\n",
       "\t<tr><td>3.3</td><td> 0.0027374</td><td>0.755322</td></tr>\n",
       "\t<tr><td>3.4</td><td> 0.0008624</td><td>0.922138</td></tr>\n",
       "\t<tr><td>3.5</td><td>-0.0010181</td><td>0.908580</td></tr>\n",
       "\t<tr><td>3.6</td><td>-0.0029044</td><td>0.744485</td></tr>\n",
       "\t<tr><td>3.7</td><td>-0.0047967</td><td>0.592383</td></tr>\n",
       "\t<tr><td>3.8</td><td>-0.0066950</td><td>0.457426</td></tr>\n",
       "\t<tr><td>3.9</td><td>-0.0085997</td><td>0.342662</td></tr>\n",
       "\t<tr><td>4.0</td><td>-0.0105107</td><td>0.249011</td></tr>\n",
       "\t<tr><td>4.1</td><td>-0.0124282</td><td>0.175575</td></tr>\n",
       "\t<tr><td>4.2</td><td>-0.0143523</td><td>0.120164</td></tr>\n",
       "\t<tr><td>4.3</td><td>-0.0162831</td><td>0.079874</td></tr>\n",
       "\t<tr><td>4.4</td><td>-0.0182206</td><td>0.051602</td></tr>\n",
       "\t<tr><td>4.5</td><td>-0.0201649</td><td>0.032429</td></tr>\n",
       "\t<tr><td>4.6</td><td>-0.0221160</td><td>0.019842</td></tr>\n",
       "\t<tr><td>4.7</td><td>-0.0240740</td><td>0.011833</td></tr>\n",
       "\t<tr><td>4.8</td><td>-0.0260389</td><td>0.006884</td></tr>\n",
       "\t<tr><td>4.9</td><td>-0.0280106</td><td>0.003912</td></tr>\n",
       "\t<tr><td>5.0</td><td>-0.0299893</td><td>0.002174</td></tr>\n",
       "</tbody>\n",
       "</table>\n"
      ],
      "text/latex": [
       "A matrix: 31 x 3 of type dbl\n",
       "\\begin{tabular}{lll}\n",
       " psi & Estimate & p-value\\\\\n",
       "\\hline\n",
       "\t 2.0 &  0.0267219 & 0.001812\\\\\n",
       "\t 2.1 &  0.0248946 & 0.003642\\\\\n",
       "\t 2.2 &  0.0230655 & 0.007057\\\\\n",
       "\t 2.3 &  0.0212344 & 0.013160\\\\\n",
       "\t 2.4 &  0.0194009 & 0.023599\\\\\n",
       "\t 2.5 &  0.0175647 & 0.040663\\\\\n",
       "\t 2.6 &  0.0157254 & 0.067294\\\\\n",
       "\t 2.7 &  0.0138827 & 0.106942\\\\\n",
       "\t 2.8 &  0.0120362 & 0.163212\\\\\n",
       "\t 2.9 &  0.0101857 & 0.239310\\\\\n",
       "\t 3.0 &  0.0083308 & 0.337352\\\\\n",
       "\t 3.1 &  0.0064713 & 0.457690\\\\\n",
       "\t 3.2 &  0.0046069 & 0.598427\\\\\n",
       "\t 3.3 &  0.0027374 & 0.755322\\\\\n",
       "\t 3.4 &  0.0008624 & 0.922138\\\\\n",
       "\t 3.5 & -0.0010181 & 0.908580\\\\\n",
       "\t 3.6 & -0.0029044 & 0.744485\\\\\n",
       "\t 3.7 & -0.0047967 & 0.592383\\\\\n",
       "\t 3.8 & -0.0066950 & 0.457426\\\\\n",
       "\t 3.9 & -0.0085997 & 0.342662\\\\\n",
       "\t 4.0 & -0.0105107 & 0.249011\\\\\n",
       "\t 4.1 & -0.0124282 & 0.175575\\\\\n",
       "\t 4.2 & -0.0143523 & 0.120164\\\\\n",
       "\t 4.3 & -0.0162831 & 0.079874\\\\\n",
       "\t 4.4 & -0.0182206 & 0.051602\\\\\n",
       "\t 4.5 & -0.0201649 & 0.032429\\\\\n",
       "\t 4.6 & -0.0221160 & 0.019842\\\\\n",
       "\t 4.7 & -0.0240740 & 0.011833\\\\\n",
       "\t 4.8 & -0.0260389 & 0.006884\\\\\n",
       "\t 4.9 & -0.0280106 & 0.003912\\\\\n",
       "\t 5.0 & -0.0299893 & 0.002174\\\\\n",
       "\\end{tabular}\n"
      ],
      "text/markdown": [
       "\n",
       "A matrix: 31 x 3 of type dbl\n",
       "\n",
       "| psi | Estimate | p-value |\n",
       "|---|---|---|\n",
       "| 2.0 |  0.0267219 | 0.001812 |\n",
       "| 2.1 |  0.0248946 | 0.003642 |\n",
       "| 2.2 |  0.0230655 | 0.007057 |\n",
       "| 2.3 |  0.0212344 | 0.013160 |\n",
       "| 2.4 |  0.0194009 | 0.023599 |\n",
       "| 2.5 |  0.0175647 | 0.040663 |\n",
       "| 2.6 |  0.0157254 | 0.067294 |\n",
       "| 2.7 |  0.0138827 | 0.106942 |\n",
       "| 2.8 |  0.0120362 | 0.163212 |\n",
       "| 2.9 |  0.0101857 | 0.239310 |\n",
       "| 3.0 |  0.0083308 | 0.337352 |\n",
       "| 3.1 |  0.0064713 | 0.457690 |\n",
       "| 3.2 |  0.0046069 | 0.598427 |\n",
       "| 3.3 |  0.0027374 | 0.755322 |\n",
       "| 3.4 |  0.0008624 | 0.922138 |\n",
       "| 3.5 | -0.0010181 | 0.908580 |\n",
       "| 3.6 | -0.0029044 | 0.744485 |\n",
       "| 3.7 | -0.0047967 | 0.592383 |\n",
       "| 3.8 | -0.0066950 | 0.457426 |\n",
       "| 3.9 | -0.0085997 | 0.342662 |\n",
       "| 4.0 | -0.0105107 | 0.249011 |\n",
       "| 4.1 | -0.0124282 | 0.175575 |\n",
       "| 4.2 | -0.0143523 | 0.120164 |\n",
       "| 4.3 | -0.0162831 | 0.079874 |\n",
       "| 4.4 | -0.0182206 | 0.051602 |\n",
       "| 4.5 | -0.0201649 | 0.032429 |\n",
       "| 4.6 | -0.0221160 | 0.019842 |\n",
       "| 4.7 | -0.0240740 | 0.011833 |\n",
       "| 4.8 | -0.0260389 | 0.006884 |\n",
       "| 4.9 | -0.0280106 | 0.003912 |\n",
       "| 5.0 | -0.0299893 | 0.002174 |\n",
       "\n"
      ],
      "text/plain": [
       "      psi Estimate   p-value \n",
       " [1,] 2.0  0.0267219 0.001812\n",
       " [2,] 2.1  0.0248946 0.003642\n",
       " [3,] 2.2  0.0230655 0.007057\n",
       " [4,] 2.3  0.0212344 0.013160\n",
       " [5,] 2.4  0.0194009 0.023599\n",
       " [6,] 2.5  0.0175647 0.040663\n",
       " [7,] 2.6  0.0157254 0.067294\n",
       " [8,] 2.7  0.0138827 0.106942\n",
       " [9,] 2.8  0.0120362 0.163212\n",
       "[10,] 2.9  0.0101857 0.239310\n",
       "[11,] 3.0  0.0083308 0.337352\n",
       "[12,] 3.1  0.0064713 0.457690\n",
       "[13,] 3.2  0.0046069 0.598427\n",
       "[14,] 3.3  0.0027374 0.755322\n",
       "[15,] 3.4  0.0008624 0.922138\n",
       "[16,] 3.5 -0.0010181 0.908580\n",
       "[17,] 3.6 -0.0029044 0.744485\n",
       "[18,] 3.7 -0.0047967 0.592383\n",
       "[19,] 3.8 -0.0066950 0.457426\n",
       "[20,] 3.9 -0.0085997 0.342662\n",
       "[21,] 4.0 -0.0105107 0.249011\n",
       "[22,] 4.1 -0.0124282 0.175575\n",
       "[23,] 4.2 -0.0143523 0.120164\n",
       "[24,] 4.3 -0.0162831 0.079874\n",
       "[25,] 4.4 -0.0182206 0.051602\n",
       "[26,] 4.5 -0.0201649 0.032429\n",
       "[27,] 4.6 -0.0221160 0.019842\n",
       "[28,] 4.7 -0.0240740 0.011833\n",
       "[29,] 4.8 -0.0260389 0.006884\n",
       "[30,] 4.9 -0.0280106 0.003912\n",
       "[31,] 5.0 -0.0299893 0.002174"
      ]
     },
     "metadata": {},
     "output_type": "display_data"
    }
   ],
   "source": [
    "grid <- seq(from = 2, to = 5, by = 0.1)\n",
    "j = 0\n",
    "Hpsi.coefs <- cbind(rep(NA,length(grid)), rep(NA, length(grid)))\n",
    "colnames(Hpsi.coefs) <- c(\"Estimate\", \"p-value\")\n",
    "\n",
    "for (i in grid){\n",
    "  psi = i\n",
    "  j = j+1\n",
    "  nhefs$Hpsi <- nhefs$wt82_71 - psi * nhefs$qsmk \n",
    "\n",
    "  gest.fit <- svyglm(\n",
    "    qsmk ~ sex + race + age + I(age*age) + as.factor(education)\n",
    "    + smokeintensity + I(smokeintensity*smokeintensity) + smokeyrs\n",
    "    + I(smokeyrs*smokeyrs) + as.factor(exercise) + as.factor(active)\n",
    "    + wt71 + I(wt71*wt71) + Hpsi,\n",
    "    design = svydesign(id = ~1, weights = ~wc, data = nhefs),\n",
    "    family = binomial(\"logit\")\n",
    "  )\n",
    "\n",
    "  # 计算估计值和p值\n",
    "  Hpsi.coefs[j,1] <- tidy(gest.fit)$estimate[tidy(gest.fit)$term == \"Hpsi\"]\n",
    "  Hpsi.coefs[j,2] <- tidy(gest.fit)$p.value[tidy(gest.fit)$term == \"Hpsi\"]\n",
    "}\n",
    "\n",
    "# 合并Grid和Hpsi系数\n",
    "Hpsi.coefs <- cbind(grid, Hpsi.coefs)\n",
    "colnames(Hpsi.coefs) <- c(\"psi\", \"Estimate\", \"p-value\")\n",
    "Hpsi.coefs"
   ]
  }
 ],
 "metadata": {
  "kernelspec": {
   "display_name": "R",
   "language": "R",
   "name": "ir"
  },
  "language_info": {
   "codemirror_mode": "r",
   "file_extension": ".r",
   "mimetype": "text/x-r-source",
   "name": "R",
   "pygments_lexer": "r",
   "version": "4.4.2"
  }
 },
 "nbformat": 4,
 "nbformat_minor": 2
}

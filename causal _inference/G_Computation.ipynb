{
 "cells": [
  {
   "cell_type": "markdown",
   "metadata": {},
   "source": [
    "学习R语言标准化技术。"
   ]
  },
  {
   "cell_type": "code",
   "execution_count": 1,
   "metadata": {
    "vscode": {
     "languageId": "r"
    }
   },
   "outputs": [
    {
     "name": "stderr",
     "output_type": "stream",
     "text": [
      "-- \u001b[1mAttaching core tidyverse packages\u001b[22m ------------------------ tidyverse 2.0.0 --\n",
      "\u001b[32mv\u001b[39m \u001b[34mdplyr    \u001b[39m 1.1.4     \u001b[32mv\u001b[39m \u001b[34mreadr    \u001b[39m 2.1.5\n",
      "\u001b[32mv\u001b[39m \u001b[34mforcats  \u001b[39m 1.0.0     \u001b[32mv\u001b[39m \u001b[34mstringr  \u001b[39m 1.5.1\n",
      "\u001b[32mv\u001b[39m \u001b[34mggplot2  \u001b[39m 3.5.1     \u001b[32mv\u001b[39m \u001b[34mtibble   \u001b[39m 3.2.1\n",
      "\u001b[32mv\u001b[39m \u001b[34mlubridate\u001b[39m 1.9.4     \u001b[32mv\u001b[39m \u001b[34mtidyr    \u001b[39m 1.3.1\n",
      "\u001b[32mv\u001b[39m \u001b[34mpurrr    \u001b[39m 1.0.2     \n",
      "-- \u001b[1mConflicts\u001b[22m ------------------------------------------ tidyverse_conflicts() --\n",
      "\u001b[31mx\u001b[39m \u001b[34mdplyr\u001b[39m::\u001b[32mfilter()\u001b[39m masks \u001b[34mstats\u001b[39m::filter()\n",
      "\u001b[31mx\u001b[39m \u001b[34mdplyr\u001b[39m::\u001b[32mlag()\u001b[39m    masks \u001b[34mstats\u001b[39m::lag()\n",
      "\u001b[36mi\u001b[39m Use the conflicted package (\u001b[3m\u001b[34m<http://conflicted.r-lib.org/>\u001b[39m\u001b[23m) to force all conflicts to become errors\n"
     ]
    }
   ],
   "source": [
    "library(tidyverse)"
   ]
  },
  {
   "cell_type": "code",
   "execution_count": 5,
   "metadata": {
    "vscode": {
     "languageId": "r"
    }
   },
   "outputs": [],
   "source": [
    "library(broom)"
   ]
  },
  {
   "cell_type": "code",
   "execution_count": 2,
   "metadata": {
    "vscode": {
     "languageId": "r"
    }
   },
   "outputs": [
    {
     "name": "stderr",
     "output_type": "stream",
     "text": [
      "\u001b[1mRows: \u001b[22m\u001b[34m1629\u001b[39m \u001b[1mColumns: \u001b[22m\u001b[34m64\u001b[39m\n",
      "\u001b[36m--\u001b[39m \u001b[1mColumn specification\u001b[22m \u001b[36m--------------------------------------------------------\u001b[39m\n",
      "\u001b[1mDelimiter:\u001b[22m \",\"\n",
      "\u001b[32mdbl\u001b[39m (64): seqn, qsmk, death, yrdth, modth, dadth, sbp, dbp, sex, age, race, ...\n",
      "\n",
      "\u001b[36mi\u001b[39m Use `spec()` to retrieve the full column specification for this data.\n",
      "\u001b[36mi\u001b[39m Specify the column types or set `show_col_types = FALSE` to quiet this message.\n"
     ]
    },
    {
     "data": {
      "text/html": [
       "<table class=\"dataframe\">\n",
       "<caption>A tibble: 6 x 64</caption>\n",
       "<thead>\n",
       "\t<tr><th scope=col>seqn</th><th scope=col>qsmk</th><th scope=col>death</th><th scope=col>yrdth</th><th scope=col>modth</th><th scope=col>dadth</th><th scope=col>sbp</th><th scope=col>dbp</th><th scope=col>sex</th><th scope=col>age</th><th scope=col>...</th><th scope=col>birthcontrol</th><th scope=col>pregnancies</th><th scope=col>cholesterol</th><th scope=col>hightax82</th><th scope=col>price71</th><th scope=col>price82</th><th scope=col>tax71</th><th scope=col>tax82</th><th scope=col>price71_82</th><th scope=col>tax71_82</th></tr>\n",
       "\t<tr><th scope=col>&lt;dbl&gt;</th><th scope=col>&lt;dbl&gt;</th><th scope=col>&lt;dbl&gt;</th><th scope=col>&lt;dbl&gt;</th><th scope=col>&lt;dbl&gt;</th><th scope=col>&lt;dbl&gt;</th><th scope=col>&lt;dbl&gt;</th><th scope=col>&lt;dbl&gt;</th><th scope=col>&lt;dbl&gt;</th><th scope=col>&lt;dbl&gt;</th><th scope=col>...</th><th scope=col>&lt;dbl&gt;</th><th scope=col>&lt;dbl&gt;</th><th scope=col>&lt;dbl&gt;</th><th scope=col>&lt;dbl&gt;</th><th scope=col>&lt;dbl&gt;</th><th scope=col>&lt;dbl&gt;</th><th scope=col>&lt;dbl&gt;</th><th scope=col>&lt;dbl&gt;</th><th scope=col>&lt;dbl&gt;</th><th scope=col>&lt;dbl&gt;</th></tr>\n",
       "</thead>\n",
       "<tbody>\n",
       "\t<tr><td>233</td><td>0</td><td>0</td><td>NA</td><td>NA</td><td>NA</td><td>175</td><td>96</td><td>0</td><td>42</td><td>...</td><td>2</td><td>NA</td><td>197</td><td>0</td><td>2.183594</td><td>1.739990</td><td>1.1022949</td><td>0.4619751</td><td>0.44378662</td><td>0.6403809</td></tr>\n",
       "\t<tr><td>235</td><td>0</td><td>0</td><td>NA</td><td>NA</td><td>NA</td><td>123</td><td>80</td><td>0</td><td>36</td><td>...</td><td>2</td><td>NA</td><td>301</td><td>0</td><td>2.346680</td><td>1.797363</td><td>1.3649902</td><td>0.5718994</td><td>0.54931641</td><td>0.7929688</td></tr>\n",
       "\t<tr><td>244</td><td>0</td><td>0</td><td>NA</td><td>NA</td><td>NA</td><td>115</td><td>75</td><td>1</td><td>56</td><td>...</td><td>0</td><td> 2</td><td>157</td><td>0</td><td>1.569580</td><td>1.513428</td><td>0.5512695</td><td>0.2309875</td><td>0.05619812</td><td>0.3202515</td></tr>\n",
       "\t<tr><td>245</td><td>0</td><td>1</td><td>85</td><td> 2</td><td>14</td><td>148</td><td>78</td><td>0</td><td>68</td><td>...</td><td>2</td><td>NA</td><td>174</td><td>0</td><td>1.506592</td><td>1.451904</td><td>0.5249023</td><td>0.2199707</td><td>0.05479431</td><td>0.3049927</td></tr>\n",
       "\t<tr><td>252</td><td>0</td><td>0</td><td>NA</td><td>NA</td><td>NA</td><td>118</td><td>77</td><td>0</td><td>40</td><td>...</td><td>2</td><td>NA</td><td>216</td><td>0</td><td>2.346680</td><td>1.797363</td><td>1.3649902</td><td>0.5718994</td><td>0.54931641</td><td>0.7929688</td></tr>\n",
       "\t<tr><td>257</td><td>0</td><td>0</td><td>NA</td><td>NA</td><td>NA</td><td>141</td><td>83</td><td>1</td><td>43</td><td>...</td><td>0</td><td> 1</td><td>212</td><td>1</td><td>2.209961</td><td>2.025879</td><td>1.1547852</td><td>0.7479248</td><td>0.18408203</td><td>0.4069824</td></tr>\n",
       "</tbody>\n",
       "</table>\n"
      ],
      "text/latex": [
       "A tibble: 6 x 64\n",
       "\\begin{tabular}{lllllllllllllllllllll}\n",
       " seqn & qsmk & death & yrdth & modth & dadth & sbp & dbp & sex & age & ... & birthcontrol & pregnancies & cholesterol & hightax82 & price71 & price82 & tax71 & tax82 & price71\\_82 & tax71\\_82\\\\\n",
       " <dbl> & <dbl> & <dbl> & <dbl> & <dbl> & <dbl> & <dbl> & <dbl> & <dbl> & <dbl> & ... & <dbl> & <dbl> & <dbl> & <dbl> & <dbl> & <dbl> & <dbl> & <dbl> & <dbl> & <dbl>\\\\\n",
       "\\hline\n",
       "\t 233 & 0 & 0 & NA & NA & NA & 175 & 96 & 0 & 42 & ... & 2 & NA & 197 & 0 & 2.183594 & 1.739990 & 1.1022949 & 0.4619751 & 0.44378662 & 0.6403809\\\\\n",
       "\t 235 & 0 & 0 & NA & NA & NA & 123 & 80 & 0 & 36 & ... & 2 & NA & 301 & 0 & 2.346680 & 1.797363 & 1.3649902 & 0.5718994 & 0.54931641 & 0.7929688\\\\\n",
       "\t 244 & 0 & 0 & NA & NA & NA & 115 & 75 & 1 & 56 & ... & 0 &  2 & 157 & 0 & 1.569580 & 1.513428 & 0.5512695 & 0.2309875 & 0.05619812 & 0.3202515\\\\\n",
       "\t 245 & 0 & 1 & 85 &  2 & 14 & 148 & 78 & 0 & 68 & ... & 2 & NA & 174 & 0 & 1.506592 & 1.451904 & 0.5249023 & 0.2199707 & 0.05479431 & 0.3049927\\\\\n",
       "\t 252 & 0 & 0 & NA & NA & NA & 118 & 77 & 0 & 40 & ... & 2 & NA & 216 & 0 & 2.346680 & 1.797363 & 1.3649902 & 0.5718994 & 0.54931641 & 0.7929688\\\\\n",
       "\t 257 & 0 & 0 & NA & NA & NA & 141 & 83 & 1 & 43 & ... & 0 &  1 & 212 & 1 & 2.209961 & 2.025879 & 1.1547852 & 0.7479248 & 0.18408203 & 0.4069824\\\\\n",
       "\\end{tabular}\n"
      ],
      "text/markdown": [
       "\n",
       "A tibble: 6 x 64\n",
       "\n",
       "| seqn &lt;dbl&gt; | qsmk &lt;dbl&gt; | death &lt;dbl&gt; | yrdth &lt;dbl&gt; | modth &lt;dbl&gt; | dadth &lt;dbl&gt; | sbp &lt;dbl&gt; | dbp &lt;dbl&gt; | sex &lt;dbl&gt; | age &lt;dbl&gt; | ... ... | birthcontrol &lt;dbl&gt; | pregnancies &lt;dbl&gt; | cholesterol &lt;dbl&gt; | hightax82 &lt;dbl&gt; | price71 &lt;dbl&gt; | price82 &lt;dbl&gt; | tax71 &lt;dbl&gt; | tax82 &lt;dbl&gt; | price71_82 &lt;dbl&gt; | tax71_82 &lt;dbl&gt; |\n",
       "|---|---|---|---|---|---|---|---|---|---|---|---|---|---|---|---|---|---|---|---|---|\n",
       "| 233 | 0 | 0 | NA | NA | NA | 175 | 96 | 0 | 42 | ... | 2 | NA | 197 | 0 | 2.183594 | 1.739990 | 1.1022949 | 0.4619751 | 0.44378662 | 0.6403809 |\n",
       "| 235 | 0 | 0 | NA | NA | NA | 123 | 80 | 0 | 36 | ... | 2 | NA | 301 | 0 | 2.346680 | 1.797363 | 1.3649902 | 0.5718994 | 0.54931641 | 0.7929688 |\n",
       "| 244 | 0 | 0 | NA | NA | NA | 115 | 75 | 1 | 56 | ... | 0 |  2 | 157 | 0 | 1.569580 | 1.513428 | 0.5512695 | 0.2309875 | 0.05619812 | 0.3202515 |\n",
       "| 245 | 0 | 1 | 85 |  2 | 14 | 148 | 78 | 0 | 68 | ... | 2 | NA | 174 | 0 | 1.506592 | 1.451904 | 0.5249023 | 0.2199707 | 0.05479431 | 0.3049927 |\n",
       "| 252 | 0 | 0 | NA | NA | NA | 118 | 77 | 0 | 40 | ... | 2 | NA | 216 | 0 | 2.346680 | 1.797363 | 1.3649902 | 0.5718994 | 0.54931641 | 0.7929688 |\n",
       "| 257 | 0 | 0 | NA | NA | NA | 141 | 83 | 1 | 43 | ... | 0 |  1 | 212 | 1 | 2.209961 | 2.025879 | 1.1547852 | 0.7479248 | 0.18408203 | 0.4069824 |\n",
       "\n"
      ],
      "text/plain": [
       "  seqn qsmk death yrdth modth dadth sbp dbp sex age ... birthcontrol\n",
       "1 233  0    0     NA    NA    NA    175 96  0   42  ... 2           \n",
       "2 235  0    0     NA    NA    NA    123 80  0   36  ... 2           \n",
       "3 244  0    0     NA    NA    NA    115 75  1   56  ... 0           \n",
       "4 245  0    1     85     2    14    148 78  0   68  ... 2           \n",
       "5 252  0    0     NA    NA    NA    118 77  0   40  ... 2           \n",
       "6 257  0    0     NA    NA    NA    141 83  1   43  ... 0           \n",
       "  pregnancies cholesterol hightax82 price71  price82  tax71     tax82    \n",
       "1 NA          197         0         2.183594 1.739990 1.1022949 0.4619751\n",
       "2 NA          301         0         2.346680 1.797363 1.3649902 0.5718994\n",
       "3  2          157         0         1.569580 1.513428 0.5512695 0.2309875\n",
       "4 NA          174         0         1.506592 1.451904 0.5249023 0.2199707\n",
       "5 NA          216         0         2.346680 1.797363 1.3649902 0.5718994\n",
       "6  1          212         1         2.209961 2.025879 1.1547852 0.7479248\n",
       "  price71_82 tax71_82 \n",
       "1 0.44378662 0.6403809\n",
       "2 0.54931641 0.7929688\n",
       "3 0.05619812 0.3202515\n",
       "4 0.05479431 0.3049927\n",
       "5 0.54931641 0.7929688\n",
       "6 0.18408203 0.4069824"
      ]
     },
     "metadata": {},
     "output_type": "display_data"
    }
   ],
   "source": [
    "nhefs <- read_csv(\"./data/nhefs.csv\")\n",
    "\n",
    "head(nhefs)"
   ]
  },
  {
   "cell_type": "code",
   "execution_count": 3,
   "metadata": {
    "vscode": {
     "languageId": "r"
    }
   },
   "outputs": [],
   "source": [
    "nhefs$cens <- ifelse(is.na(nhefs$wt82), 1, 0)"
   ]
  },
  {
   "cell_type": "code",
   "execution_count": 6,
   "metadata": {
    "vscode": {
     "languageId": "r"
    }
   },
   "outputs": [
    {
     "data": {
      "text/html": [
       "<table class=\"dataframe\">\n",
       "<caption>A tibble: 21 x 5</caption>\n",
       "<thead>\n",
       "\t<tr><th scope=col>term</th><th scope=col>estimate</th><th scope=col>std.error</th><th scope=col>statistic</th><th scope=col>p.value</th></tr>\n",
       "\t<tr><th scope=col>&lt;chr&gt;</th><th scope=col>&lt;dbl&gt;</th><th scope=col>&lt;dbl&gt;</th><th scope=col>&lt;dbl&gt;</th><th scope=col>&lt;dbl&gt;</th></tr>\n",
       "</thead>\n",
       "<tbody>\n",
       "\t<tr><td>(Intercept)                       </td><td>-1.5881656617</td><td>4.3130359236</td><td>-0.3682245</td><td>0.7127562582</td></tr>\n",
       "\t<tr><td>qsmk                              </td><td> 2.5595940926</td><td>0.8091486134</td><td> 3.1633177</td><td>0.0015901758</td></tr>\n",
       "\t<tr><td>sex                               </td><td>-1.4302716586</td><td>0.4689575529</td><td>-3.0498958</td><td>0.0023281370</td></tr>\n",
       "\t<tr><td>race                              </td><td> 0.5601096041</td><td>0.5818887784</td><td> 0.9625716</td><td>0.3359131882</td></tr>\n",
       "\t<tr><td>age                               </td><td> 0.3596352618</td><td>0.1633187643</td><td> 2.2020450</td><td>0.0278094360</td></tr>\n",
       "\t<tr><td>I(age * age)                      </td><td>-0.0061009554</td><td>0.0017261355</td><td>-3.5344591</td><td>0.0004206537</td></tr>\n",
       "\t<tr><td>as.factor(education)2             </td><td> 0.7904440282</td><td>0.6070004615</td><td> 1.3022132</td><td>0.1930375994</td></tr>\n",
       "\t<tr><td>as.factor(education)3             </td><td> 0.5563124031</td><td>0.5561015705</td><td> 1.0003791</td><td>0.3172837172</td></tr>\n",
       "\t<tr><td>as.factor(education)4             </td><td> 1.4915695237</td><td>0.8322703739</td><td> 1.7921694</td><td>0.0733014342</td></tr>\n",
       "\t<tr><td>as.factor(education)5             </td><td>-0.1949770359</td><td>0.7413691861</td><td>-0.2629959</td><td>0.7925888268</td></tr>\n",
       "\t<tr><td>smokeintensity                    </td><td> 0.0491364717</td><td>0.0517254366</td><td> 0.9499479</td><td>0.3422872785</td></tr>\n",
       "\t<tr><td>I(smokeintensity * smokeintensity)</td><td>-0.0009906512</td><td>0.0009380461</td><td>-1.0560794</td><td>0.2910970426</td></tr>\n",
       "\t<tr><td>smokeyrs                          </td><td> 0.1343685690</td><td>0.0917121944</td><td> 1.4651113</td><td>0.1430940237</td></tr>\n",
       "\t<tr><td>I(smokeyrs * smokeyrs)            </td><td>-0.0018664295</td><td>0.0015437197</td><td>-1.2090469</td><td>0.2268298291</td></tr>\n",
       "\t<tr><td>as.factor(exercise)1              </td><td> 0.2959753574</td><td>0.5351532709</td><td> 0.5530665</td><td>0.5802978748</td></tr>\n",
       "\t<tr><td>as.factor(exercise)2              </td><td> 0.3539127736</td><td>0.5588586850</td><td> 0.6332778</td><td>0.5266460034</td></tr>\n",
       "\t<tr><td>as.factor(active)1                </td><td>-0.9475694870</td><td>0.4099343733</td><td>-2.3115151</td><td>0.0209354388</td></tr>\n",
       "\t<tr><td>as.factor(active)2                </td><td>-0.2613778943</td><td>0.6845576709</td><td>-0.3818201</td><td>0.7026472984</td></tr>\n",
       "\t<tr><td>wt71                              </td><td> 0.0455017905</td><td>0.0833709154</td><td> 0.5457753</td><td>0.5852991600</td></tr>\n",
       "\t<tr><td>I(wt71 * wt71)                    </td><td>-0.0009653251</td><td>0.0005247129</td><td>-1.8397205</td><td>0.0660010292</td></tr>\n",
       "\t<tr><td>qsmk:smokeintensity               </td><td> 0.0466628395</td><td>0.0351447742</td><td> 1.3277319</td><td>0.1844628065</td></tr>\n",
       "</tbody>\n",
       "</table>\n"
      ],
      "text/latex": [
       "A tibble: 21 x 5\n",
       "\\begin{tabular}{lllll}\n",
       " term & estimate & std.error & statistic & p.value\\\\\n",
       " <chr> & <dbl> & <dbl> & <dbl> & <dbl>\\\\\n",
       "\\hline\n",
       "\t (Intercept)                        & -1.5881656617 & 4.3130359236 & -0.3682245 & 0.7127562582\\\\\n",
       "\t qsmk                               &  2.5595940926 & 0.8091486134 &  3.1633177 & 0.0015901758\\\\\n",
       "\t sex                                & -1.4302716586 & 0.4689575529 & -3.0498958 & 0.0023281370\\\\\n",
       "\t race                               &  0.5601096041 & 0.5818887784 &  0.9625716 & 0.3359131882\\\\\n",
       "\t age                                &  0.3596352618 & 0.1633187643 &  2.2020450 & 0.0278094360\\\\\n",
       "\t I(age * age)                       & -0.0061009554 & 0.0017261355 & -3.5344591 & 0.0004206537\\\\\n",
       "\t as.factor(education)2              &  0.7904440282 & 0.6070004615 &  1.3022132 & 0.1930375994\\\\\n",
       "\t as.factor(education)3              &  0.5563124031 & 0.5561015705 &  1.0003791 & 0.3172837172\\\\\n",
       "\t as.factor(education)4              &  1.4915695237 & 0.8322703739 &  1.7921694 & 0.0733014342\\\\\n",
       "\t as.factor(education)5              & -0.1949770359 & 0.7413691861 & -0.2629959 & 0.7925888268\\\\\n",
       "\t smokeintensity                     &  0.0491364717 & 0.0517254366 &  0.9499479 & 0.3422872785\\\\\n",
       "\t I(smokeintensity * smokeintensity) & -0.0009906512 & 0.0009380461 & -1.0560794 & 0.2910970426\\\\\n",
       "\t smokeyrs                           &  0.1343685690 & 0.0917121944 &  1.4651113 & 0.1430940237\\\\\n",
       "\t I(smokeyrs * smokeyrs)             & -0.0018664295 & 0.0015437197 & -1.2090469 & 0.2268298291\\\\\n",
       "\t as.factor(exercise)1               &  0.2959753574 & 0.5351532709 &  0.5530665 & 0.5802978748\\\\\n",
       "\t as.factor(exercise)2               &  0.3539127736 & 0.5588586850 &  0.6332778 & 0.5266460034\\\\\n",
       "\t as.factor(active)1                 & -0.9475694870 & 0.4099343733 & -2.3115151 & 0.0209354388\\\\\n",
       "\t as.factor(active)2                 & -0.2613778943 & 0.6845576709 & -0.3818201 & 0.7026472984\\\\\n",
       "\t wt71                               &  0.0455017905 & 0.0833709154 &  0.5457753 & 0.5852991600\\\\\n",
       "\t I(wt71 * wt71)                     & -0.0009653251 & 0.0005247129 & -1.8397205 & 0.0660010292\\\\\n",
       "\t qsmk:smokeintensity                &  0.0466628395 & 0.0351447742 &  1.3277319 & 0.1844628065\\\\\n",
       "\\end{tabular}\n"
      ],
      "text/markdown": [
       "\n",
       "A tibble: 21 x 5\n",
       "\n",
       "| term &lt;chr&gt; | estimate &lt;dbl&gt; | std.error &lt;dbl&gt; | statistic &lt;dbl&gt; | p.value &lt;dbl&gt; |\n",
       "|---|---|---|---|---|\n",
       "| (Intercept)                        | -1.5881656617 | 4.3130359236 | -0.3682245 | 0.7127562582 |\n",
       "| qsmk                               |  2.5595940926 | 0.8091486134 |  3.1633177 | 0.0015901758 |\n",
       "| sex                                | -1.4302716586 | 0.4689575529 | -3.0498958 | 0.0023281370 |\n",
       "| race                               |  0.5601096041 | 0.5818887784 |  0.9625716 | 0.3359131882 |\n",
       "| age                                |  0.3596352618 | 0.1633187643 |  2.2020450 | 0.0278094360 |\n",
       "| I(age * age)                       | -0.0061009554 | 0.0017261355 | -3.5344591 | 0.0004206537 |\n",
       "| as.factor(education)2              |  0.7904440282 | 0.6070004615 |  1.3022132 | 0.1930375994 |\n",
       "| as.factor(education)3              |  0.5563124031 | 0.5561015705 |  1.0003791 | 0.3172837172 |\n",
       "| as.factor(education)4              |  1.4915695237 | 0.8322703739 |  1.7921694 | 0.0733014342 |\n",
       "| as.factor(education)5              | -0.1949770359 | 0.7413691861 | -0.2629959 | 0.7925888268 |\n",
       "| smokeintensity                     |  0.0491364717 | 0.0517254366 |  0.9499479 | 0.3422872785 |\n",
       "| I(smokeintensity * smokeintensity) | -0.0009906512 | 0.0009380461 | -1.0560794 | 0.2910970426 |\n",
       "| smokeyrs                           |  0.1343685690 | 0.0917121944 |  1.4651113 | 0.1430940237 |\n",
       "| I(smokeyrs * smokeyrs)             | -0.0018664295 | 0.0015437197 | -1.2090469 | 0.2268298291 |\n",
       "| as.factor(exercise)1               |  0.2959753574 | 0.5351532709 |  0.5530665 | 0.5802978748 |\n",
       "| as.factor(exercise)2               |  0.3539127736 | 0.5588586850 |  0.6332778 | 0.5266460034 |\n",
       "| as.factor(active)1                 | -0.9475694870 | 0.4099343733 | -2.3115151 | 0.0209354388 |\n",
       "| as.factor(active)2                 | -0.2613778943 | 0.6845576709 | -0.3818201 | 0.7026472984 |\n",
       "| wt71                               |  0.0455017905 | 0.0833709154 |  0.5457753 | 0.5852991600 |\n",
       "| I(wt71 * wt71)                     | -0.0009653251 | 0.0005247129 | -1.8397205 | 0.0660010292 |\n",
       "| qsmk:smokeintensity                |  0.0466628395 | 0.0351447742 |  1.3277319 | 0.1844628065 |\n",
       "\n"
      ],
      "text/plain": [
       "   term                               estimate      std.error    statistic \n",
       "1  (Intercept)                        -1.5881656617 4.3130359236 -0.3682245\n",
       "2  qsmk                                2.5595940926 0.8091486134  3.1633177\n",
       "3  sex                                -1.4302716586 0.4689575529 -3.0498958\n",
       "4  race                                0.5601096041 0.5818887784  0.9625716\n",
       "5  age                                 0.3596352618 0.1633187643  2.2020450\n",
       "6  I(age * age)                       -0.0061009554 0.0017261355 -3.5344591\n",
       "7  as.factor(education)2               0.7904440282 0.6070004615  1.3022132\n",
       "8  as.factor(education)3               0.5563124031 0.5561015705  1.0003791\n",
       "9  as.factor(education)4               1.4915695237 0.8322703739  1.7921694\n",
       "10 as.factor(education)5              -0.1949770359 0.7413691861 -0.2629959\n",
       "11 smokeintensity                      0.0491364717 0.0517254366  0.9499479\n",
       "12 I(smokeintensity * smokeintensity) -0.0009906512 0.0009380461 -1.0560794\n",
       "13 smokeyrs                            0.1343685690 0.0917121944  1.4651113\n",
       "14 I(smokeyrs * smokeyrs)             -0.0018664295 0.0015437197 -1.2090469\n",
       "15 as.factor(exercise)1                0.2959753574 0.5351532709  0.5530665\n",
       "16 as.factor(exercise)2                0.3539127736 0.5588586850  0.6332778\n",
       "17 as.factor(active)1                 -0.9475694870 0.4099343733 -2.3115151\n",
       "18 as.factor(active)2                 -0.2613778943 0.6845576709 -0.3818201\n",
       "19 wt71                                0.0455017905 0.0833709154  0.5457753\n",
       "20 I(wt71 * wt71)                     -0.0009653251 0.0005247129 -1.8397205\n",
       "21 qsmk:smokeintensity                 0.0466628395 0.0351447742  1.3277319\n",
       "   p.value     \n",
       "1  0.7127562582\n",
       "2  0.0015901758\n",
       "3  0.0023281370\n",
       "4  0.3359131882\n",
       "5  0.0278094360\n",
       "6  0.0004206537\n",
       "7  0.1930375994\n",
       "8  0.3172837172\n",
       "9  0.0733014342\n",
       "10 0.7925888268\n",
       "11 0.3422872785\n",
       "12 0.2910970426\n",
       "13 0.1430940237\n",
       "14 0.2268298291\n",
       "15 0.5802978748\n",
       "16 0.5266460034\n",
       "17 0.0209354388\n",
       "18 0.7026472984\n",
       "19 0.5852991600\n",
       "20 0.0660010292\n",
       "21 0.1844628065"
      ]
     },
     "metadata": {},
     "output_type": "display_data"
    }
   ],
   "source": [
    "fit <- glm(\n",
    "  wt82_71 ~ qsmk + sex + race + age + I(age * age) + as.factor(education)\n",
    "  + smokeintensity + I(smokeintensity * smokeintensity) + smokeyrs\n",
    "  + I(smokeyrs*smokeyrs) + as.factor(exercise) + as.factor(active)\n",
    "  + wt71 + I(wt71*wt71) + qsmk*smokeintensity,\n",
    "  data=nhefs\n",
    ")\n",
    "\n",
    "tidy(fit)"
   ]
  },
  {
   "cell_type": "code",
   "execution_count": 7,
   "metadata": {
    "vscode": {
     "languageId": "r"
    }
   },
   "outputs": [],
   "source": [
    "nhefs$predicted.meanY <- predict(fit, nhefs)"
   ]
  },
  {
   "cell_type": "code",
   "execution_count": null,
   "metadata": {
    "vscode": {
     "languageId": "r"
    }
   },
   "outputs": [
    {
     "data": {
      "text/html": [
       "<table class=\"dataframe\">\n",
       "<caption>A tibble: 1 x 11</caption>\n",
       "<thead>\n",
       "\t<tr><th scope=col>predicted.meanY</th><th scope=col>qsmk</th><th scope=col>sex</th><th scope=col>race</th><th scope=col>age</th><th scope=col>education</th><th scope=col>smokeintensity</th><th scope=col>smokeyrs</th><th scope=col>exercise</th><th scope=col>active</th><th scope=col>wt71</th></tr>\n",
       "\t<tr><th scope=col>&lt;dbl&gt;</th><th scope=col>&lt;dbl&gt;</th><th scope=col>&lt;dbl&gt;</th><th scope=col>&lt;dbl&gt;</th><th scope=col>&lt;dbl&gt;</th><th scope=col>&lt;dbl&gt;</th><th scope=col>&lt;dbl&gt;</th><th scope=col>&lt;dbl&gt;</th><th scope=col>&lt;dbl&gt;</th><th scope=col>&lt;dbl&gt;</th><th scope=col>&lt;dbl&gt;</th></tr>\n",
       "</thead>\n",
       "<tbody>\n",
       "\t<tr><td>0.3421569</td><td>0</td><td>0</td><td>0</td><td>26</td><td>4</td><td>15</td><td>12</td><td>1</td><td>0</td><td>111.58</td></tr>\n",
       "</tbody>\n",
       "</table>\n"
      ],
      "text/latex": [
       "A tibble: 1 x 11\n",
       "\\begin{tabular}{lllllllllll}\n",
       " predicted.meanY & qsmk & sex & race & age & education & smokeintensity & smokeyrs & exercise & active & wt71\\\\\n",
       " <dbl> & <dbl> & <dbl> & <dbl> & <dbl> & <dbl> & <dbl> & <dbl> & <dbl> & <dbl> & <dbl>\\\\\n",
       "\\hline\n",
       "\t 0.3421569 & 0 & 0 & 0 & 26 & 4 & 15 & 12 & 1 & 0 & 111.58\\\\\n",
       "\\end{tabular}\n"
      ],
      "text/markdown": [
       "\n",
       "A tibble: 1 x 11\n",
       "\n",
       "| predicted.meanY &lt;dbl&gt; | qsmk &lt;dbl&gt; | sex &lt;dbl&gt; | race &lt;dbl&gt; | age &lt;dbl&gt; | education &lt;dbl&gt; | smokeintensity &lt;dbl&gt; | smokeyrs &lt;dbl&gt; | exercise &lt;dbl&gt; | active &lt;dbl&gt; | wt71 &lt;dbl&gt; |\n",
       "|---|---|---|---|---|---|---|---|---|---|---|\n",
       "| 0.3421569 | 0 | 0 | 0 | 26 | 4 | 15 | 12 | 1 | 0 | 111.58 |\n",
       "\n"
      ],
      "text/plain": [
       "     predicted.meanY qsmk sex race age education smokeintensity smokeyrs\n",
       "1582 0.3421569       0    0   0    26  4         15             12      \n",
       "     exercise active wt71  \n",
       "1582 1        0      111.58"
      ]
     },
     "metadata": {},
     "output_type": "display_data"
    }
   ],
   "source": [
    "nhefs[which(nhefs$seqn==24770), c(\"predicted.meanY\", \"qsmk\", \"sex\",\n",
    "                                 \"race\", \"age\", \"education\", \n",
    "                                 \"smokeintensity\", \"smokeyrs\", \"exercise\",\n",
    "                                 \"active\", \"wt71\")]"
   ]
  },
  {
   "cell_type": "code",
   "execution_count": null,
   "metadata": {
    "vscode": {
     "languageId": "r"
    }
   },
   "outputs": [
    {
     "data": {
      "text/plain": [
       "   Min. 1st Qu.  Median    Mean 3rd Qu.    Max. \n",
       "-10.876   1.116   3.042   2.638   4.511   9.876 "
      ]
     },
     "metadata": {},
     "output_type": "display_data"
    }
   ],
   "source": [
    "summary(nhefs$predicted.meanY[nhefs$cens == 0])"
   ]
  },
  {
   "cell_type": "code",
   "execution_count": null,
   "metadata": {
    "vscode": {
     "languageId": "r"
    }
   },
   "outputs": [
    {
     "data": {
      "text/plain": [
       "   Min. 1st Qu.  Median    Mean 3rd Qu.    Max. \n",
       "-41.280  -1.478   2.604   2.638   6.690  48.538 "
      ]
     },
     "metadata": {},
     "output_type": "display_data"
    }
   ],
   "source": [
    "summary(nhefs$wt82_71[nhefs$cens == 0])"
   ]
  },
  {
   "cell_type": "code",
   "execution_count": 11,
   "metadata": {
    "vscode": {
     "languageId": "r"
    }
   },
   "outputs": [
    {
     "data": {
      "text/html": [
       "<table class=\"dataframe\">\n",
       "<caption>A data.frame: 60 x 5</caption>\n",
       "<thead>\n",
       "\t<tr><th scope=col>L</th><th scope=col>A</th><th scope=col>Y</th><th scope=col>interv</th><th scope=col>id</th></tr>\n",
       "\t<tr><th scope=col>&lt;dbl&gt;</th><th scope=col>&lt;dbl&gt;</th><th scope=col>&lt;dbl&gt;</th><th scope=col>&lt;dbl&gt;</th><th scope=col>&lt;chr&gt;</th></tr>\n",
       "</thead>\n",
       "<tbody>\n",
       "\t<tr><td>0</td><td>0</td><td> 0</td><td>-1</td><td>Rheia     </td></tr>\n",
       "\t<tr><td>0</td><td>0</td><td> 1</td><td>-1</td><td>Kronos    </td></tr>\n",
       "\t<tr><td>0</td><td>0</td><td> 0</td><td>-1</td><td>Demeter   </td></tr>\n",
       "\t<tr><td>0</td><td>0</td><td> 0</td><td>-1</td><td>Hades     </td></tr>\n",
       "\t<tr><td>0</td><td>1</td><td> 0</td><td>-1</td><td>Hestia    </td></tr>\n",
       "\t<tr><td>0</td><td>1</td><td> 0</td><td>-1</td><td>Poseidon  </td></tr>\n",
       "\t<tr><td>0</td><td>1</td><td> 0</td><td>-1</td><td>Hera      </td></tr>\n",
       "\t<tr><td>0</td><td>1</td><td> 1</td><td>-1</td><td>Zeus      </td></tr>\n",
       "\t<tr><td>1</td><td>0</td><td> 1</td><td>-1</td><td>Artemis   </td></tr>\n",
       "\t<tr><td>1</td><td>0</td><td> 1</td><td>-1</td><td>Apollo    </td></tr>\n",
       "\t<tr><td>1</td><td>0</td><td> 0</td><td>-1</td><td>Leto      </td></tr>\n",
       "\t<tr><td>1</td><td>1</td><td> 1</td><td>-1</td><td>Ares      </td></tr>\n",
       "\t<tr><td>1</td><td>1</td><td> 1</td><td>-1</td><td>Athena    </td></tr>\n",
       "\t<tr><td>1</td><td>1</td><td> 1</td><td>-1</td><td>Hephaestus</td></tr>\n",
       "\t<tr><td>1</td><td>1</td><td> 1</td><td>-1</td><td>Aphrodite </td></tr>\n",
       "\t<tr><td>1</td><td>1</td><td> 1</td><td>-1</td><td>Cyclope   </td></tr>\n",
       "\t<tr><td>1</td><td>1</td><td> 1</td><td>-1</td><td>Persephone</td></tr>\n",
       "\t<tr><td>1</td><td>1</td><td> 0</td><td>-1</td><td>Hermes    </td></tr>\n",
       "\t<tr><td>1</td><td>1</td><td> 0</td><td>-1</td><td>Hebe      </td></tr>\n",
       "\t<tr><td>1</td><td>1</td><td> 0</td><td>-1</td><td>Dionysus  </td></tr>\n",
       "\t<tr><td>0</td><td>0</td><td>NA</td><td> 0</td><td>Rheia     </td></tr>\n",
       "\t<tr><td>0</td><td>0</td><td>NA</td><td> 0</td><td>Kronos    </td></tr>\n",
       "\t<tr><td>0</td><td>0</td><td>NA</td><td> 0</td><td>Demeter   </td></tr>\n",
       "\t<tr><td>0</td><td>0</td><td>NA</td><td> 0</td><td>Hades     </td></tr>\n",
       "\t<tr><td>0</td><td>0</td><td>NA</td><td> 0</td><td>Hestia    </td></tr>\n",
       "\t<tr><td>0</td><td>0</td><td>NA</td><td> 0</td><td>Poseidon  </td></tr>\n",
       "\t<tr><td>0</td><td>0</td><td>NA</td><td> 0</td><td>Hera      </td></tr>\n",
       "\t<tr><td>0</td><td>0</td><td>NA</td><td> 0</td><td>Zeus      </td></tr>\n",
       "\t<tr><td>1</td><td>0</td><td>NA</td><td> 0</td><td>Artemis   </td></tr>\n",
       "\t<tr><td>1</td><td>0</td><td>NA</td><td> 0</td><td>Apollo    </td></tr>\n",
       "\t<tr><td>1</td><td>0</td><td>NA</td><td> 0</td><td>Leto      </td></tr>\n",
       "\t<tr><td>1</td><td>0</td><td>NA</td><td> 0</td><td>Ares      </td></tr>\n",
       "\t<tr><td>1</td><td>0</td><td>NA</td><td> 0</td><td>Athena    </td></tr>\n",
       "\t<tr><td>1</td><td>0</td><td>NA</td><td> 0</td><td>Hephaestus</td></tr>\n",
       "\t<tr><td>1</td><td>0</td><td>NA</td><td> 0</td><td>Aphrodite </td></tr>\n",
       "\t<tr><td>1</td><td>0</td><td>NA</td><td> 0</td><td>Cyclope   </td></tr>\n",
       "\t<tr><td>1</td><td>0</td><td>NA</td><td> 0</td><td>Persephone</td></tr>\n",
       "\t<tr><td>1</td><td>0</td><td>NA</td><td> 0</td><td>Hermes    </td></tr>\n",
       "\t<tr><td>1</td><td>0</td><td>NA</td><td> 0</td><td>Hebe      </td></tr>\n",
       "\t<tr><td>1</td><td>0</td><td>NA</td><td> 0</td><td>Dionysus  </td></tr>\n",
       "\t<tr><td>0</td><td>1</td><td>NA</td><td> 1</td><td>Rheia     </td></tr>\n",
       "\t<tr><td>0</td><td>1</td><td>NA</td><td> 1</td><td>Kronos    </td></tr>\n",
       "\t<tr><td>0</td><td>1</td><td>NA</td><td> 1</td><td>Demeter   </td></tr>\n",
       "\t<tr><td>0</td><td>1</td><td>NA</td><td> 1</td><td>Hades     </td></tr>\n",
       "\t<tr><td>0</td><td>1</td><td>NA</td><td> 1</td><td>Hestia    </td></tr>\n",
       "\t<tr><td>0</td><td>1</td><td>NA</td><td> 1</td><td>Poseidon  </td></tr>\n",
       "\t<tr><td>0</td><td>1</td><td>NA</td><td> 1</td><td>Hera      </td></tr>\n",
       "\t<tr><td>0</td><td>1</td><td>NA</td><td> 1</td><td>Zeus      </td></tr>\n",
       "\t<tr><td>1</td><td>1</td><td>NA</td><td> 1</td><td>Artemis   </td></tr>\n",
       "\t<tr><td>1</td><td>1</td><td>NA</td><td> 1</td><td>Apollo    </td></tr>\n",
       "\t<tr><td>1</td><td>1</td><td>NA</td><td> 1</td><td>Leto      </td></tr>\n",
       "\t<tr><td>1</td><td>1</td><td>NA</td><td> 1</td><td>Ares      </td></tr>\n",
       "\t<tr><td>1</td><td>1</td><td>NA</td><td> 1</td><td>Athena    </td></tr>\n",
       "\t<tr><td>1</td><td>1</td><td>NA</td><td> 1</td><td>Hephaestus</td></tr>\n",
       "\t<tr><td>1</td><td>1</td><td>NA</td><td> 1</td><td>Aphrodite </td></tr>\n",
       "\t<tr><td>1</td><td>1</td><td>NA</td><td> 1</td><td>Cyclope   </td></tr>\n",
       "\t<tr><td>1</td><td>1</td><td>NA</td><td> 1</td><td>Persephone</td></tr>\n",
       "\t<tr><td>1</td><td>1</td><td>NA</td><td> 1</td><td>Hermes    </td></tr>\n",
       "\t<tr><td>1</td><td>1</td><td>NA</td><td> 1</td><td>Hebe      </td></tr>\n",
       "\t<tr><td>1</td><td>1</td><td>NA</td><td> 1</td><td>Dionysus  </td></tr>\n",
       "</tbody>\n",
       "</table>\n"
      ],
      "text/latex": [
       "A data.frame: 60 x 5\n",
       "\\begin{tabular}{lllll}\n",
       " L & A & Y & interv & id\\\\\n",
       " <dbl> & <dbl> & <dbl> & <dbl> & <chr>\\\\\n",
       "\\hline\n",
       "\t 0 & 0 &  0 & -1 & Rheia     \\\\\n",
       "\t 0 & 0 &  1 & -1 & Kronos    \\\\\n",
       "\t 0 & 0 &  0 & -1 & Demeter   \\\\\n",
       "\t 0 & 0 &  0 & -1 & Hades     \\\\\n",
       "\t 0 & 1 &  0 & -1 & Hestia    \\\\\n",
       "\t 0 & 1 &  0 & -1 & Poseidon  \\\\\n",
       "\t 0 & 1 &  0 & -1 & Hera      \\\\\n",
       "\t 0 & 1 &  1 & -1 & Zeus      \\\\\n",
       "\t 1 & 0 &  1 & -1 & Artemis   \\\\\n",
       "\t 1 & 0 &  1 & -1 & Apollo    \\\\\n",
       "\t 1 & 0 &  0 & -1 & Leto      \\\\\n",
       "\t 1 & 1 &  1 & -1 & Ares      \\\\\n",
       "\t 1 & 1 &  1 & -1 & Athena    \\\\\n",
       "\t 1 & 1 &  1 & -1 & Hephaestus\\\\\n",
       "\t 1 & 1 &  1 & -1 & Aphrodite \\\\\n",
       "\t 1 & 1 &  1 & -1 & Cyclope   \\\\\n",
       "\t 1 & 1 &  1 & -1 & Persephone\\\\\n",
       "\t 1 & 1 &  0 & -1 & Hermes    \\\\\n",
       "\t 1 & 1 &  0 & -1 & Hebe      \\\\\n",
       "\t 1 & 1 &  0 & -1 & Dionysus  \\\\\n",
       "\t 0 & 0 & NA &  0 & Rheia     \\\\\n",
       "\t 0 & 0 & NA &  0 & Kronos    \\\\\n",
       "\t 0 & 0 & NA &  0 & Demeter   \\\\\n",
       "\t 0 & 0 & NA &  0 & Hades     \\\\\n",
       "\t 0 & 0 & NA &  0 & Hestia    \\\\\n",
       "\t 0 & 0 & NA &  0 & Poseidon  \\\\\n",
       "\t 0 & 0 & NA &  0 & Hera      \\\\\n",
       "\t 0 & 0 & NA &  0 & Zeus      \\\\\n",
       "\t 1 & 0 & NA &  0 & Artemis   \\\\\n",
       "\t 1 & 0 & NA &  0 & Apollo    \\\\\n",
       "\t 1 & 0 & NA &  0 & Leto      \\\\\n",
       "\t 1 & 0 & NA &  0 & Ares      \\\\\n",
       "\t 1 & 0 & NA &  0 & Athena    \\\\\n",
       "\t 1 & 0 & NA &  0 & Hephaestus\\\\\n",
       "\t 1 & 0 & NA &  0 & Aphrodite \\\\\n",
       "\t 1 & 0 & NA &  0 & Cyclope   \\\\\n",
       "\t 1 & 0 & NA &  0 & Persephone\\\\\n",
       "\t 1 & 0 & NA &  0 & Hermes    \\\\\n",
       "\t 1 & 0 & NA &  0 & Hebe      \\\\\n",
       "\t 1 & 0 & NA &  0 & Dionysus  \\\\\n",
       "\t 0 & 1 & NA &  1 & Rheia     \\\\\n",
       "\t 0 & 1 & NA &  1 & Kronos    \\\\\n",
       "\t 0 & 1 & NA &  1 & Demeter   \\\\\n",
       "\t 0 & 1 & NA &  1 & Hades     \\\\\n",
       "\t 0 & 1 & NA &  1 & Hestia    \\\\\n",
       "\t 0 & 1 & NA &  1 & Poseidon  \\\\\n",
       "\t 0 & 1 & NA &  1 & Hera      \\\\\n",
       "\t 0 & 1 & NA &  1 & Zeus      \\\\\n",
       "\t 1 & 1 & NA &  1 & Artemis   \\\\\n",
       "\t 1 & 1 & NA &  1 & Apollo    \\\\\n",
       "\t 1 & 1 & NA &  1 & Leto      \\\\\n",
       "\t 1 & 1 & NA &  1 & Ares      \\\\\n",
       "\t 1 & 1 & NA &  1 & Athena    \\\\\n",
       "\t 1 & 1 & NA &  1 & Hephaestus\\\\\n",
       "\t 1 & 1 & NA &  1 & Aphrodite \\\\\n",
       "\t 1 & 1 & NA &  1 & Cyclope   \\\\\n",
       "\t 1 & 1 & NA &  1 & Persephone\\\\\n",
       "\t 1 & 1 & NA &  1 & Hermes    \\\\\n",
       "\t 1 & 1 & NA &  1 & Hebe      \\\\\n",
       "\t 1 & 1 & NA &  1 & Dionysus  \\\\\n",
       "\\end{tabular}\n"
      ],
      "text/markdown": [
       "\n",
       "A data.frame: 60 x 5\n",
       "\n",
       "| L &lt;dbl&gt; | A &lt;dbl&gt; | Y &lt;dbl&gt; | interv &lt;dbl&gt; | id &lt;chr&gt; |\n",
       "|---|---|---|---|---|\n",
       "| 0 | 0 |  0 | -1 | Rheia      |\n",
       "| 0 | 0 |  1 | -1 | Kronos     |\n",
       "| 0 | 0 |  0 | -1 | Demeter    |\n",
       "| 0 | 0 |  0 | -1 | Hades      |\n",
       "| 0 | 1 |  0 | -1 | Hestia     |\n",
       "| 0 | 1 |  0 | -1 | Poseidon   |\n",
       "| 0 | 1 |  0 | -1 | Hera       |\n",
       "| 0 | 1 |  1 | -1 | Zeus       |\n",
       "| 1 | 0 |  1 | -1 | Artemis    |\n",
       "| 1 | 0 |  1 | -1 | Apollo     |\n",
       "| 1 | 0 |  0 | -1 | Leto       |\n",
       "| 1 | 1 |  1 | -1 | Ares       |\n",
       "| 1 | 1 |  1 | -1 | Athena     |\n",
       "| 1 | 1 |  1 | -1 | Hephaestus |\n",
       "| 1 | 1 |  1 | -1 | Aphrodite  |\n",
       "| 1 | 1 |  1 | -1 | Cyclope    |\n",
       "| 1 | 1 |  1 | -1 | Persephone |\n",
       "| 1 | 1 |  0 | -1 | Hermes     |\n",
       "| 1 | 1 |  0 | -1 | Hebe       |\n",
       "| 1 | 1 |  0 | -1 | Dionysus   |\n",
       "| 0 | 0 | NA |  0 | Rheia      |\n",
       "| 0 | 0 | NA |  0 | Kronos     |\n",
       "| 0 | 0 | NA |  0 | Demeter    |\n",
       "| 0 | 0 | NA |  0 | Hades      |\n",
       "| 0 | 0 | NA |  0 | Hestia     |\n",
       "| 0 | 0 | NA |  0 | Poseidon   |\n",
       "| 0 | 0 | NA |  0 | Hera       |\n",
       "| 0 | 0 | NA |  0 | Zeus       |\n",
       "| 1 | 0 | NA |  0 | Artemis    |\n",
       "| 1 | 0 | NA |  0 | Apollo     |\n",
       "| 1 | 0 | NA |  0 | Leto       |\n",
       "| 1 | 0 | NA |  0 | Ares       |\n",
       "| 1 | 0 | NA |  0 | Athena     |\n",
       "| 1 | 0 | NA |  0 | Hephaestus |\n",
       "| 1 | 0 | NA |  0 | Aphrodite  |\n",
       "| 1 | 0 | NA |  0 | Cyclope    |\n",
       "| 1 | 0 | NA |  0 | Persephone |\n",
       "| 1 | 0 | NA |  0 | Hermes     |\n",
       "| 1 | 0 | NA |  0 | Hebe       |\n",
       "| 1 | 0 | NA |  0 | Dionysus   |\n",
       "| 0 | 1 | NA |  1 | Rheia      |\n",
       "| 0 | 1 | NA |  1 | Kronos     |\n",
       "| 0 | 1 | NA |  1 | Demeter    |\n",
       "| 0 | 1 | NA |  1 | Hades      |\n",
       "| 0 | 1 | NA |  1 | Hestia     |\n",
       "| 0 | 1 | NA |  1 | Poseidon   |\n",
       "| 0 | 1 | NA |  1 | Hera       |\n",
       "| 0 | 1 | NA |  1 | Zeus       |\n",
       "| 1 | 1 | NA |  1 | Artemis    |\n",
       "| 1 | 1 | NA |  1 | Apollo     |\n",
       "| 1 | 1 | NA |  1 | Leto       |\n",
       "| 1 | 1 | NA |  1 | Ares       |\n",
       "| 1 | 1 | NA |  1 | Athena     |\n",
       "| 1 | 1 | NA |  1 | Hephaestus |\n",
       "| 1 | 1 | NA |  1 | Aphrodite  |\n",
       "| 1 | 1 | NA |  1 | Cyclope    |\n",
       "| 1 | 1 | NA |  1 | Persephone |\n",
       "| 1 | 1 | NA |  1 | Hermes     |\n",
       "| 1 | 1 | NA |  1 | Hebe       |\n",
       "| 1 | 1 | NA |  1 | Dionysus   |\n",
       "\n"
      ],
      "text/plain": [
       "   L A Y  interv id        \n",
       "1  0 0  0 -1     Rheia     \n",
       "2  0 0  1 -1     Kronos    \n",
       "3  0 0  0 -1     Demeter   \n",
       "4  0 0  0 -1     Hades     \n",
       "5  0 1  0 -1     Hestia    \n",
       "6  0 1  0 -1     Poseidon  \n",
       "7  0 1  0 -1     Hera      \n",
       "8  0 1  1 -1     Zeus      \n",
       "9  1 0  1 -1     Artemis   \n",
       "10 1 0  1 -1     Apollo    \n",
       "11 1 0  0 -1     Leto      \n",
       "12 1 1  1 -1     Ares      \n",
       "13 1 1  1 -1     Athena    \n",
       "14 1 1  1 -1     Hephaestus\n",
       "15 1 1  1 -1     Aphrodite \n",
       "16 1 1  1 -1     Cyclope   \n",
       "17 1 1  1 -1     Persephone\n",
       "18 1 1  0 -1     Hermes    \n",
       "19 1 1  0 -1     Hebe      \n",
       "20 1 1  0 -1     Dionysus  \n",
       "21 0 0 NA  0     Rheia     \n",
       "22 0 0 NA  0     Kronos    \n",
       "23 0 0 NA  0     Demeter   \n",
       "24 0 0 NA  0     Hades     \n",
       "25 0 0 NA  0     Hestia    \n",
       "26 0 0 NA  0     Poseidon  \n",
       "27 0 0 NA  0     Hera      \n",
       "28 0 0 NA  0     Zeus      \n",
       "29 1 0 NA  0     Artemis   \n",
       "30 1 0 NA  0     Apollo    \n",
       "31 1 0 NA  0     Leto      \n",
       "32 1 0 NA  0     Ares      \n",
       "33 1 0 NA  0     Athena    \n",
       "34 1 0 NA  0     Hephaestus\n",
       "35 1 0 NA  0     Aphrodite \n",
       "36 1 0 NA  0     Cyclope   \n",
       "37 1 0 NA  0     Persephone\n",
       "38 1 0 NA  0     Hermes    \n",
       "39 1 0 NA  0     Hebe      \n",
       "40 1 0 NA  0     Dionysus  \n",
       "41 0 1 NA  1     Rheia     \n",
       "42 0 1 NA  1     Kronos    \n",
       "43 0 1 NA  1     Demeter   \n",
       "44 0 1 NA  1     Hades     \n",
       "45 0 1 NA  1     Hestia    \n",
       "46 0 1 NA  1     Poseidon  \n",
       "47 0 1 NA  1     Hera      \n",
       "48 0 1 NA  1     Zeus      \n",
       "49 1 1 NA  1     Artemis   \n",
       "50 1 1 NA  1     Apollo    \n",
       "51 1 1 NA  1     Leto      \n",
       "52 1 1 NA  1     Ares      \n",
       "53 1 1 NA  1     Athena    \n",
       "54 1 1 NA  1     Hephaestus\n",
       "55 1 1 NA  1     Aphrodite \n",
       "56 1 1 NA  1     Cyclope   \n",
       "57 1 1 NA  1     Persephone\n",
       "58 1 1 NA  1     Hermes    \n",
       "59 1 1 NA  1     Hebe      \n",
       "60 1 1 NA  1     Dionysus  "
      ]
     },
     "metadata": {},
     "output_type": "display_data"
    }
   ],
   "source": [
    "# 合成数据集\n",
    "id <- c(\"Rheia\", \"Kronos\", \"Demeter\", \"Hades\", \"Hestia\", \"Poseidon\", \n",
    "  \"Hera\", \"Zeus\", \"Artemis\", \"Apollo\", \"Leto\", \"Ares\", \"Athena\", \n",
    "  \"Hephaestus\", \"Aphrodite\", \"Cyclope\", \"Persephone\", \"Hermes\", \n",
    "  \"Hebe\", \"Dionysus\")\n",
    "N <- length(id)\n",
    "L <- c(0, 0, 0, 0, 0, 0, 0, 0, 1, 1, 1, 1, 1, 1, 1, 1, 1, 1, 1, 1)\n",
    "A <- c(0, 0, 0, 0, 1, 1, 1, 1, 0, 0, 0, 1, 1, 1, 1, 1, 1, 1, 1, 1)\n",
    "Y <- c(0, 1, 0, 0, 0, 0, 0, 1, 1, 1, 0, 1, 1, 1, 1, 1, 1, 0, 0, 0)\n",
    "interv <- rep(-1, N)\n",
    "observed <- cbind(L, A, Y, interv)\n",
    "untreated <- cbind(L, rep(0, N), rep(NA, N), rep(0, N))\n",
    "treated <- cbind(L, rep(1, N), rep(NA, N), rep(1, N))\n",
    "table22 <- as.data.frame(rbind(observed, untreated, treated))\n",
    "table22$id <- rep(id, 3)\n",
    "\n",
    "table22"
   ]
  },
  {
   "cell_type": "code",
   "execution_count": 12,
   "metadata": {
    "vscode": {
     "languageId": "r"
    }
   },
   "outputs": [
    {
     "data": {
      "text/plain": [
       "\n",
       "Call:\n",
       "glm(formula = Y ~ A * L, data = table22)\n",
       "\n",
       "Coefficients:\n",
       "              Estimate Std. Error t value Pr(>|t|)\n",
       "(Intercept)  2.500e-01  2.552e-01   0.980    0.342\n",
       "A            3.957e-17  3.608e-01   0.000    1.000\n",
       "L            4.167e-01  3.898e-01   1.069    0.301\n",
       "A:L         -1.313e-16  4.959e-01   0.000    1.000\n",
       "\n",
       "(Dispersion parameter for gaussian family taken to be 0.2604167)\n",
       "\n",
       "    Null deviance: 5.0000  on 19  degrees of freedom\n",
       "Residual deviance: 4.1667  on 16  degrees of freedom\n",
       "  (40 observations deleted due to missingness)\n",
       "AIC: 35.385\n",
       "\n",
       "Number of Fisher Scoring iterations: 2\n"
      ]
     },
     "metadata": {},
     "output_type": "display_data"
    },
    {
     "data": {
      "text/html": [
       "0.5"
      ],
      "text/latex": [
       "0.5"
      ],
      "text/markdown": [
       "0.5"
      ],
      "text/plain": [
       "[1] 0.5"
      ]
     },
     "metadata": {},
     "output_type": "display_data"
    },
    {
     "data": {
      "text/html": [
       "0.5"
      ],
      "text/latex": [
       "0.5"
      ],
      "text/markdown": [
       "0.5"
      ],
      "text/plain": [
       "[1] 0.5"
      ]
     },
     "metadata": {},
     "output_type": "display_data"
    },
    {
     "data": {
      "text/html": [
       "0.5"
      ],
      "text/latex": [
       "0.5"
      ],
      "text/markdown": [
       "0.5"
      ],
      "text/plain": [
       "[1] 0.5"
      ]
     },
     "metadata": {},
     "output_type": "display_data"
    }
   ],
   "source": [
    "glm.obj <- glm(Y~ A*L, data = table22)\n",
    "summary(glm.obj)\n",
    "table22$predicted.meanY <- predict(glm.obj, table22)\n",
    "\n",
    "mean(table22$predicted.meanY[table22$interv == -1])\n",
    "mean(table22$predicted.meanY[table22$interv == 0])\n",
    "mean(table22$predicted.meanY[table22$interv == 1])"
   ]
  },
  {
   "cell_type": "code",
   "execution_count": 15,
   "metadata": {
    "vscode": {
     "languageId": "r"
    }
   },
   "outputs": [
    {
     "name": "stderr",
     "output_type": "stream",
     "text": [
      "Warning message in mean - qnorm(0.975) * se:\n",
      "\"longer object length is not a multiple of shorter object length\"\n",
      "Warning message in mean + qnorm(0.975) * se:\n",
      "\"longer object length is not a multiple of shorter object length\"\n",
      "Warning message in cbind(c(\"Observed\", \"No Treatment\", \"Treatment\", \"Treatment - No Treatment\"), :\n",
      "\"number of rows of result is not a multiple of vector length (arg 1)\"\n"
     ]
    },
    {
     "data": {
      "text/html": [
       "<table class=\"dataframe\">\n",
       "<caption>A data.frame: 5 x 5</caption>\n",
       "<thead>\n",
       "\t<tr><th scope=col>V1</th><th scope=col>mean</th><th scope=col>se</th><th scope=col>ll</th><th scope=col>ul</th></tr>\n",
       "\t<tr><th scope=col>&lt;chr&gt;</th><th scope=col>&lt;chr&gt;</th><th scope=col>&lt;chr&gt;</th><th scope=col>&lt;chr&gt;</th><th scope=col>&lt;chr&gt;</th></tr>\n",
       "</thead>\n",
       "<tbody>\n",
       "\t<tr><td>Observed                </td><td>2.56188497106098</td><td>0.20410057067334 </td><td>2.16185520331716</td><td>2.9619147388048 </td></tr>\n",
       "\t<tr><td>No Treatment            </td><td>1.65212306626743</td><td>0.124326594750198</td><td>1.40844741823654</td><td>1.89579871429833</td></tr>\n",
       "\t<tr><td>Treatment               </td><td>5.11474489549335</td><td>0.499728469534772</td><td>4.13529509315588</td><td>6.09419469783082</td></tr>\n",
       "\t<tr><td>Treatment - No Treatment</td><td>5.11474489549335</td><td>0.499728469534772</td><td>4.13529509315588</td><td>6.09419469783082</td></tr>\n",
       "\t<tr><td>Observed                </td><td>1.65212306626743</td><td>0.20410057067334 </td><td>1.25209329852361</td><td>2.05215283401125</td></tr>\n",
       "</tbody>\n",
       "</table>\n"
      ],
      "text/latex": [
       "A data.frame: 5 x 5\n",
       "\\begin{tabular}{lllll}\n",
       " V1 & mean & se & ll & ul\\\\\n",
       " <chr> & <chr> & <chr> & <chr> & <chr>\\\\\n",
       "\\hline\n",
       "\t Observed                 & 2.56188497106098 & 0.20410057067334  & 2.16185520331716 & 2.9619147388048 \\\\\n",
       "\t No Treatment             & 1.65212306626743 & 0.124326594750198 & 1.40844741823654 & 1.89579871429833\\\\\n",
       "\t Treatment                & 5.11474489549335 & 0.499728469534772 & 4.13529509315588 & 6.09419469783082\\\\\n",
       "\t Treatment - No Treatment & 5.11474489549335 & 0.499728469534772 & 4.13529509315588 & 6.09419469783082\\\\\n",
       "\t Observed                 & 1.65212306626743 & 0.20410057067334  & 1.25209329852361 & 2.05215283401125\\\\\n",
       "\\end{tabular}\n"
      ],
      "text/markdown": [
       "\n",
       "A data.frame: 5 x 5\n",
       "\n",
       "| V1 &lt;chr&gt; | mean &lt;chr&gt; | se &lt;chr&gt; | ll &lt;chr&gt; | ul &lt;chr&gt; |\n",
       "|---|---|---|---|---|\n",
       "| Observed                 | 2.56188497106098 | 0.20410057067334  | 2.16185520331716 | 2.9619147388048  |\n",
       "| No Treatment             | 1.65212306626743 | 0.124326594750198 | 1.40844741823654 | 1.89579871429833 |\n",
       "| Treatment                | 5.11474489549335 | 0.499728469534772 | 4.13529509315588 | 6.09419469783082 |\n",
       "| Treatment - No Treatment | 5.11474489549335 | 0.499728469534772 | 4.13529509315588 | 6.09419469783082 |\n",
       "| Observed                 | 1.65212306626743 | 0.20410057067334  | 1.25209329852361 | 2.05215283401125 |\n",
       "\n"
      ],
      "text/plain": [
       "  V1                       mean             se                ll              \n",
       "1 Observed                 2.56188497106098 0.20410057067334  2.16185520331716\n",
       "2 No Treatment             1.65212306626743 0.124326594750198 1.40844741823654\n",
       "3 Treatment                5.11474489549335 0.499728469534772 4.13529509315588\n",
       "4 Treatment - No Treatment 5.11474489549335 0.499728469534772 4.13529509315588\n",
       "5 Observed                 1.65212306626743 0.20410057067334  1.25209329852361\n",
       "  ul              \n",
       "1 2.9619147388048 \n",
       "2 1.89579871429833\n",
       "3 6.09419469783082\n",
       "4 6.09419469783082\n",
       "5 2.05215283401125"
      ]
     },
     "metadata": {},
     "output_type": "display_data"
    }
   ],
   "source": [
    "library(boot)\n",
    "\n",
    "# function to calculate difference in means\n",
    "standardization <- function(data, indices) {\n",
    "  # create a dataset with 3 copies of each subject\n",
    "  d <- data[indices, ] # 1st copy: equal to original one`\n",
    "  d$interv <- -1\n",
    "  d0 <- d # 2nd copy: treatment set to 0, outcome to missing\n",
    "  d0$interv <- 0\n",
    "  d0$qsmk <- 0\n",
    "  d0$wt82_71 <- NA\n",
    "  d1 <- d # 3rd copy: treatment set to 1, outcome to missing\n",
    "  d1$interv <- 1\n",
    "  d1$qsmk <- 1\n",
    "  d1$wt82_71 <- NA\n",
    "  d.onesample <- rbind(d, d0, d1) # combining datasets\n",
    "\n",
    "  # linear model to estimate mean outcome conditional on treatment and confounders\n",
    "  # parameters are estimated using original observations only (interv= -1)\n",
    "  # parameter estimates are used to predict mean outcome for observations with set \n",
    "  # treatment (interv=0 and interv=1)\n",
    "  fit <- glm(\n",
    "    wt82_71 ~ qsmk + sex + race + age + I(age * age) + \n",
    "    as.factor(education) + smokeintensity + \n",
    "    I(smokeintensity * smokeintensity) + smokeyrs + I(smokeyrs * smokeyrs) +\n",
    "    as.factor(exercise) + as.factor(active) + wt71 + I(wt71 * wt71),\n",
    "    data = d.onesample)\n",
    "\n",
    "  d.onesample$predicted_meanY <- predict(fit, d.onesample)\n",
    "\n",
    "  # estimate mean outcome in each of the groups interv=-1, interv=0, and interv=1\n",
    "  return(\n",
    "    c(\n",
    "      mean(d.onesample$predicted_meanY[d.onesample$interv == -1]),\n",
    "      mean(d.onesample$predicted_meanY[d.onesample$interv == 0]),\n",
    "      mean(d.onesample$predicted_meanY[d.onesample$interv == 1]),\n",
    "      mean(d.onesample$predicted_meanY[d.onesample$interv == 1]),\n",
    "      mean(d.onesample$predicted_meanY[d.onesample$interv == 0])\n",
    "    )\n",
    "  )\n",
    "}\n",
    "\n",
    "# bootstrap\n",
    "results <- boot(data = nhefs, statistic = standardization, R = 5)\n",
    "\n",
    "# generating confidence intervals\n",
    "se <- c(sd(results$t[, 1]), sd(results$t[, 2]), \n",
    "        sd(results$t[, 3]), sd(results$t[, 4]))\n",
    "mean <- results$t0\n",
    "ll <- mean - qnorm(0.975) * se\n",
    "ul <- mean + qnorm(0.975) * se\n",
    "\n",
    "bootstrap <- data.frame(\n",
    "  cbind(\n",
    "    c(\n",
    "      \"Observed\", \"No Treatment\", \"Treatment\",\n",
    "      \"Treatment - No Treatment\"),\n",
    "    mean,\n",
    "    se,\n",
    "    ll,\n",
    "    ul\n",
    "  )\n",
    ")\n",
    "\n",
    "bootstrap"
   ]
  }
 ],
 "metadata": {
  "kernelspec": {
   "display_name": "R",
   "language": "R",
   "name": "ir"
  },
  "language_info": {
   "codemirror_mode": "r",
   "file_extension": ".r",
   "mimetype": "text/x-r-source",
   "name": "R",
   "pygments_lexer": "r",
   "version": "4.4.2"
  }
 },
 "nbformat": 4,
 "nbformat_minor": 2
}

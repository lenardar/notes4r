{
 "cells": [
  {
   "cell_type": "markdown",
   "metadata": {},
   "source": [
    "学习{tidyverse}包的一些基本操作"
   ]
  },
  {
   "cell_type": "markdown",
   "metadata": {},
   "source": [
    "# Tibbles"
   ]
  },
  {
   "cell_type": "code",
   "execution_count": 2,
   "metadata": {
    "vscode": {
     "languageId": "r"
    }
   },
   "outputs": [
    {
     "name": "stderr",
     "output_type": "stream",
     "text": [
      "试开URL’https://cran.rstudio.com/bin/macosx/big-sur-arm64/contrib/4.4/palmerpenguins_0.1.1.tgz'\n",
      "Content type 'application/x-gzip' length 3004288 bytes (2.9 MB)\n",
      "==================================================\n",
      "downloaded 2.9 MB\n",
      "\n"
     ]
    },
    {
     "name": "stdout",
     "output_type": "stream",
     "text": [
      "\n",
      "下载的二进制程序包在\n",
      "\t/var/folders/fv/c0dh9y6s7638rh5fdr3lgcmr0000gn/T//Rtmp5aJdsR/downloaded_packages里\n"
     ]
    }
   ],
   "source": [
    "install.packages(\"palmerpenguins\")"
   ]
  },
  {
   "cell_type": "code",
   "execution_count": 3,
   "metadata": {
    "vscode": {
     "languageId": "r"
    }
   },
   "outputs": [],
   "source": [
    "# 加载{palmerpenguins}包，需要使用其中的数据集\n",
    "library(palmerpenguins)"
   ]
  },
  {
   "cell_type": "code",
   "execution_count": 4,
   "metadata": {
    "vscode": {
     "languageId": "r"
    }
   },
   "outputs": [
    {
     "data": {
      "text/plain": [
       "\u001b[38;5;246m# A tibble: 344 × 8\u001b[39m\n",
       "   species island    bill_length_mm bill_depth_mm flipper_length_mm body_mass_g sex     year\n",
       "   \u001b[3m\u001b[38;5;246m<fct>\u001b[39m\u001b[23m   \u001b[3m\u001b[38;5;246m<fct>\u001b[39m\u001b[23m              \u001b[3m\u001b[38;5;246m<dbl>\u001b[39m\u001b[23m         \u001b[3m\u001b[38;5;246m<dbl>\u001b[39m\u001b[23m             \u001b[3m\u001b[38;5;246m<int>\u001b[39m\u001b[23m       \u001b[3m\u001b[38;5;246m<int>\u001b[39m\u001b[23m \u001b[3m\u001b[38;5;246m<fct>\u001b[39m\u001b[23m  \u001b[3m\u001b[38;5;246m<int>\u001b[39m\u001b[23m\n",
       "\u001b[38;5;250m 1\u001b[39m Adelie  Torgersen           39.1          18.7               181        \u001b[4m3\u001b[24m750 male    \u001b[4m2\u001b[24m007\n",
       "\u001b[38;5;250m 2\u001b[39m Adelie  Torgersen           39.5          17.4               186        \u001b[4m3\u001b[24m800 female  \u001b[4m2\u001b[24m007\n",
       "\u001b[38;5;250m 3\u001b[39m Adelie  Torgersen           40.3          18                 195        \u001b[4m3\u001b[24m250 female  \u001b[4m2\u001b[24m007\n",
       "\u001b[38;5;250m 4\u001b[39m Adelie  Torgersen           \u001b[31mNA\u001b[39m            \u001b[31mNA\u001b[39m                  \u001b[31mNA\u001b[39m          \u001b[31mNA\u001b[39m \u001b[31mNA\u001b[39m      \u001b[4m2\u001b[24m007\n",
       "\u001b[38;5;250m 5\u001b[39m Adelie  Torgersen           36.7          19.3               193        \u001b[4m3\u001b[24m450 female  \u001b[4m2\u001b[24m007\n",
       "\u001b[38;5;250m 6\u001b[39m Adelie  Torgersen           39.3          20.6               190        \u001b[4m3\u001b[24m650 male    \u001b[4m2\u001b[24m007\n",
       "\u001b[38;5;250m 7\u001b[39m Adelie  Torgersen           38.9          17.8               181        \u001b[4m3\u001b[24m625 female  \u001b[4m2\u001b[24m007\n",
       "\u001b[38;5;250m 8\u001b[39m Adelie  Torgersen           39.2          19.6               195        \u001b[4m4\u001b[24m675 male    \u001b[4m2\u001b[24m007\n",
       "\u001b[38;5;250m 9\u001b[39m Adelie  Torgersen           34.1          18.1               193        \u001b[4m3\u001b[24m475 \u001b[31mNA\u001b[39m      \u001b[4m2\u001b[24m007\n",
       "\u001b[38;5;250m10\u001b[39m Adelie  Torgersen           42            20.2               190        \u001b[4m4\u001b[24m250 \u001b[31mNA\u001b[39m      \u001b[4m2\u001b[24m007\n",
       "\u001b[38;5;246m# ℹ 334 more rows\u001b[39m\n",
       "\u001b[38;5;246m# ℹ Use `print(n = ...)` to see more rows\u001b[39m"
      ]
     },
     "execution_count": null,
     "metadata": {},
     "output_type": "execute_result"
    }
   ],
   "source": [
    "penguins"
   ]
  },
  {
   "cell_type": "code",
   "execution_count": 6,
   "metadata": {
    "vscode": {
     "languageId": "r"
    }
   },
   "outputs": [
    {
     "name": "stdout",
     "output_type": "stream",
     "text": [
      "── \u001b[1mAttaching core tidyverse packages\u001b[22m ────────────────────────────────────────────────── tidyverse 2.0.0 ──\n",
      "\u001b[32m✔\u001b[39m \u001b[34mdplyr    \u001b[39m 1.1.4     \u001b[32m✔\u001b[39m \u001b[34mreadr    \u001b[39m 2.1.5\n",
      "\u001b[32m✔\u001b[39m \u001b[34mforcats  \u001b[39m 1.0.0     \u001b[32m✔\u001b[39m \u001b[34mstringr  \u001b[39m 1.5.1\n",
      "\u001b[32m✔\u001b[39m \u001b[34mggplot2  \u001b[39m 3.5.1     \u001b[32m✔\u001b[39m \u001b[34mtibble   \u001b[39m 3.2.1\n",
      "\u001b[32m✔\u001b[39m \u001b[34mlubridate\u001b[39m 1.9.4     \u001b[32m✔\u001b[39m \u001b[34mtidyr    \u001b[39m 1.3.1\n",
      "\u001b[32m✔\u001b[39m \u001b[34mpurrr    \u001b[39m 1.0.2     \n",
      "── \u001b[1mConflicts\u001b[22m ──────────────────────────────────────────────────────────────────── tidyverse_conflicts() ──\n",
      "\u001b[31m✖\u001b[39m \u001b[34mdplyr\u001b[39m::\u001b[32mfilter()\u001b[39m masks \u001b[34mstats\u001b[39m::filter()\n",
      "\u001b[31m✖\u001b[39m \u001b[34mdplyr\u001b[39m::\u001b[32mlag()\u001b[39m    masks \u001b[34mstats\u001b[39m::lag()\n",
      "\u001b[36mℹ\u001b[39m Use the \u001b]8;;http://conflicted.r-lib.org/\u0007conflicted package\u001b]8;;\u0007 to force all conflicts to become errors\n",
      "Rows: 344\n",
      "Columns: 8\n",
      "$ species           \u001b[3m\u001b[38;5;246m<fct>\u001b[39m\u001b[23m Adelie, Adelie, Adelie, Adelie, Adelie, Adelie, Adelie, Adelie, Adelie, Adelie…\n",
      "$ island            \u001b[3m\u001b[38;5;246m<fct>\u001b[39m\u001b[23m Torgersen, Torgersen, Torgersen, Torgersen, Torgersen, Torgersen, Torgersen, T…\n",
      "$ bill_length_mm    \u001b[3m\u001b[38;5;246m<dbl>\u001b[39m\u001b[23m 39.1, 39.5, 40.3, \u001b[31mNA\u001b[39m, 36.7, 39.3, 38.9, 39.2, 34.1, 42.0, 37.8, 37.8, 41.1, 38…\n",
      "$ bill_depth_mm     \u001b[3m\u001b[38;5;246m<dbl>\u001b[39m\u001b[23m 18.7, 17.4, 18.0, \u001b[31mNA\u001b[39m, 19.3, 20.6, 17.8, 19.6, 18.1, 20.2, 17.1, 17.3, 17.6, 21…\n",
      "$ flipper_length_mm \u001b[3m\u001b[38;5;246m<int>\u001b[39m\u001b[23m 181, 186, 195, \u001b[31mNA\u001b[39m, 193, 190, 181, 195, 193, 190, 186, 180, 182, 191, 198, 185,…\n",
      "$ body_mass_g       \u001b[3m\u001b[38;5;246m<int>\u001b[39m\u001b[23m 3750, 3800, 3250, \u001b[31mNA\u001b[39m, 3450, 3650, 3625, 4675, 3475, 4250, 3300, 3700, 3200, 38…\n",
      "$ sex               \u001b[3m\u001b[38;5;246m<fct>\u001b[39m\u001b[23m male, female, female, \u001b[31mNA\u001b[39m, female, male, female, male, \u001b[31mNA\u001b[39m, \u001b[31mNA\u001b[39m, \u001b[31mNA\u001b[39m, \u001b[31mNA\u001b[39m, female, …\n",
      "$ year              \u001b[3m\u001b[38;5;246m<int>\u001b[39m\u001b[23m 2007, 2007, 2007, 2007, 2007, 2007, 2007, 2007, 2007, 2007, 2007, 2007, 2007, …\n"
     ]
    }
   ],
   "source": [
    "library(tidyverse)\n",
    "glimpse(penguins)"
   ]
  },
  {
   "cell_type": "markdown",
   "metadata": {},
   "source": [
    "# Data transformation"
   ]
  },
  {
   "cell_type": "code",
   "execution_count": 8,
   "metadata": {
    "vscode": {
     "languageId": "r"
    }
   },
   "outputs": [
    {
     "name": "stderr",
     "output_type": "stream",
     "text": [
      "试开URL’https://cran.rstudio.com/bin/macosx/big-sur-arm64/contrib/4.4/nycflights13_1.0.2.tgz'\n",
      "Content type 'application/x-gzip' length 4503473 bytes (4.3 MB)\n",
      "==================================================\n",
      "downloaded 4.3 MB\n",
      "\n"
     ]
    },
    {
     "name": "stdout",
     "output_type": "stream",
     "text": [
      "\n",
      "下载的二进制程序包在\n",
      "\t/var/folders/fv/c0dh9y6s7638rh5fdr3lgcmr0000gn/T//Rtmp5aJdsR/downloaded_packages里\n"
     ]
    }
   ],
   "source": [
    "install.packages(\"nycflights13\")"
   ]
  },
  {
   "cell_type": "code",
   "execution_count": 9,
   "metadata": {
    "vscode": {
     "languageId": "r"
    }
   },
   "outputs": [],
   "source": [
    "# 加载必要的包\n",
    "library(nycflights13)\n",
    "library(tidyverse)"
   ]
  },
  {
   "cell_type": "code",
   "execution_count": 10,
   "metadata": {
    "vscode": {
     "languageId": "r"
    }
   },
   "outputs": [
    {
     "data": {
      "text/plain": [
       "\u001b[38;5;246m# A tibble: 336,776 × 19\u001b[39m\n",
       "    year month   day dep_time sched_dep_time dep_delay arr_time sched_arr_time arr_delay carrier flight\n",
       "   \u001b[3m\u001b[38;5;246m<int>\u001b[39m\u001b[23m \u001b[3m\u001b[38;5;246m<int>\u001b[39m\u001b[23m \u001b[3m\u001b[38;5;246m<int>\u001b[39m\u001b[23m    \u001b[3m\u001b[38;5;246m<int>\u001b[39m\u001b[23m          \u001b[3m\u001b[38;5;246m<int>\u001b[39m\u001b[23m     \u001b[3m\u001b[38;5;246m<dbl>\u001b[39m\u001b[23m    \u001b[3m\u001b[38;5;246m<int>\u001b[39m\u001b[23m          \u001b[3m\u001b[38;5;246m<int>\u001b[39m\u001b[23m     \u001b[3m\u001b[38;5;246m<dbl>\u001b[39m\u001b[23m \u001b[3m\u001b[38;5;246m<chr>\u001b[39m\u001b[23m    \u001b[3m\u001b[38;5;246m<int>\u001b[39m\u001b[23m\n",
       "\u001b[38;5;250m 1\u001b[39m  \u001b[4m2\u001b[24m013     1     1      517            515         2      830            819        11 UA        \u001b[4m1\u001b[24m545\n",
       "\u001b[38;5;250m 2\u001b[39m  \u001b[4m2\u001b[24m013     1     1      533            529         4      850            830        20 UA        \u001b[4m1\u001b[24m714\n",
       "\u001b[38;5;250m 3\u001b[39m  \u001b[4m2\u001b[24m013     1     1      542            540         2      923            850        33 AA        \u001b[4m1\u001b[24m141\n",
       "\u001b[38;5;250m 4\u001b[39m  \u001b[4m2\u001b[24m013     1     1      544            545        -\u001b[31m1\u001b[39m     \u001b[4m1\u001b[24m004           \u001b[4m1\u001b[24m022       -\u001b[31m18\u001b[39m B6         725\n",
       "\u001b[38;5;250m 5\u001b[39m  \u001b[4m2\u001b[24m013     1     1      554            600        -\u001b[31m6\u001b[39m      812            837       -\u001b[31m25\u001b[39m DL         461\n",
       "\u001b[38;5;250m 6\u001b[39m  \u001b[4m2\u001b[24m013     1     1      554            558        -\u001b[31m4\u001b[39m      740            728        12 UA        \u001b[4m1\u001b[24m696\n",
       "\u001b[38;5;250m 7\u001b[39m  \u001b[4m2\u001b[24m013     1     1      555            600        -\u001b[31m5\u001b[39m      913            854        19 B6         507\n",
       "\u001b[38;5;250m 8\u001b[39m  \u001b[4m2\u001b[24m013     1     1      557            600        -\u001b[31m3\u001b[39m      709            723       -\u001b[31m14\u001b[39m EV        \u001b[4m5\u001b[24m708\n",
       "\u001b[38;5;250m 9\u001b[39m  \u001b[4m2\u001b[24m013     1     1      557            600        -\u001b[31m3\u001b[39m      838            846        -\u001b[31m8\u001b[39m B6          79\n",
       "\u001b[38;5;250m10\u001b[39m  \u001b[4m2\u001b[24m013     1     1      558            600        -\u001b[31m2\u001b[39m      753            745         8 AA         301\n",
       "\u001b[38;5;246m# ℹ 336,766 more rows\u001b[39m\n",
       "\u001b[38;5;246m# ℹ 8 more variables: tailnum <chr>, origin <chr>, dest <chr>, air_time <dbl>, distance <dbl>,\u001b[39m\n",
       "\u001b[38;5;246m#   hour <dbl>, minute <dbl>, time_hour <dttm>\u001b[39m\n",
       "\u001b[38;5;246m# ℹ Use `print(n = ...)` to see more rows\u001b[39m"
      ]
     },
     "execution_count": null,
     "metadata": {},
     "output_type": "execute_result"
    }
   ],
   "source": [
    "flights"
   ]
  },
  {
   "cell_type": "code",
   "execution_count": 12,
   "metadata": {
    "vscode": {
     "languageId": "r"
    }
   },
   "outputs": [
    {
     "name": "stdout",
     "output_type": "stream",
     "text": [
      "Rows: 336,776\n",
      "Columns: 19\n",
      "$ year           \u001b[3m\u001b[38;5;246m<int>\u001b[39m\u001b[23m 2013, 2013, 2013, 2013, 2013, 2013, 2013, 2013, 2013, 2013, 2013, 2013, 2013, 201…\n",
      "$ month          \u001b[3m\u001b[38;5;246m<int>\u001b[39m\u001b[23m 1, 1, 1, 1, 1, 1, 1, 1, 1, 1, 1, 1, 1, 1, 1, 1, 1, 1, 1, 1, 1, 1, 1, 1, 1, 1, 1, …\n",
      "$ day            \u001b[3m\u001b[38;5;246m<int>\u001b[39m\u001b[23m 1, 1, 1, 1, 1, 1, 1, 1, 1, 1, 1, 1, 1, 1, 1, 1, 1, 1, 1, 1, 1, 1, 1, 1, 1, 1, 1, …\n",
      "$ dep_time       \u001b[3m\u001b[38;5;246m<int>\u001b[39m\u001b[23m 517, 533, 542, 544, 554, 554, 555, 557, 557, 558, 558, 558, 558, 558, 559, 559, 5…\n",
      "$ sched_dep_time \u001b[3m\u001b[38;5;246m<int>\u001b[39m\u001b[23m 515, 529, 540, 545, 600, 558, 600, 600, 600, 600, 600, 600, 600, 600, 600, 559, 6…\n",
      "$ dep_delay      \u001b[3m\u001b[38;5;246m<dbl>\u001b[39m\u001b[23m 2, 4, 2, -1, -6, -4, -5, -3, -3, -2, -2, -2, -2, -2, -1, 0, -1, 0, 0, 1, -8, -3, …\n",
      "$ arr_time       \u001b[3m\u001b[38;5;246m<int>\u001b[39m\u001b[23m 830, 850, 923, 1004, 812, 740, 913, 709, 838, 753, 849, 853, 924, 923, 941, 702, …\n",
      "$ sched_arr_time \u001b[3m\u001b[38;5;246m<int>\u001b[39m\u001b[23m 819, 830, 850, 1022, 837, 728, 854, 723, 846, 745, 851, 856, 917, 937, 910, 706, …\n",
      "$ arr_delay      \u001b[3m\u001b[38;5;246m<dbl>\u001b[39m\u001b[23m 11, 20, 33, -18, -25, 12, 19, -14, -8, 8, -2, -3, 7, -14, 31, -4, -8, -7, 12, -6,…\n",
      "$ carrier        \u001b[3m\u001b[38;5;246m<chr>\u001b[39m\u001b[23m \"UA\", \"UA\", \"AA\", \"B6\", \"DL\", \"UA\", \"B6\", \"EV\", \"B6\", \"AA\", \"B6\", \"B6\", \"UA\", \"UA…\n",
      "$ flight         \u001b[3m\u001b[38;5;246m<int>\u001b[39m\u001b[23m 1545, 1714, 1141, 725, 461, 1696, 507, 5708, 79, 301, 49, 71, 194, 1124, 707, 180…\n",
      "$ tailnum        \u001b[3m\u001b[38;5;246m<chr>\u001b[39m\u001b[23m \"N14228\", \"N24211\", \"N619AA\", \"N804JB\", \"N668DN\", \"N39463\", \"N516JB\", \"N829AS\", \"…\n",
      "$ origin         \u001b[3m\u001b[38;5;246m<chr>\u001b[39m\u001b[23m \"EWR\", \"LGA\", \"JFK\", \"JFK\", \"LGA\", \"EWR\", \"EWR\", \"LGA\", \"JFK\", \"LGA\", \"JFK\", \"JFK…\n",
      "$ dest           \u001b[3m\u001b[38;5;246m<chr>\u001b[39m\u001b[23m \"IAH\", \"IAH\", \"MIA\", \"BQN\", \"ATL\", \"ORD\", \"FLL\", \"IAD\", \"MCO\", \"ORD\", \"PBI\", \"TPA…\n",
      "$ air_time       \u001b[3m\u001b[38;5;246m<dbl>\u001b[39m\u001b[23m 227, 227, 160, 183, 116, 150, 158, 53, 140, 138, 149, 158, 345, 361, 257, 44, 337…\n",
      "$ distance       \u001b[3m\u001b[38;5;246m<dbl>\u001b[39m\u001b[23m 1400, 1416, 1089, 1576, 762, 719, 1065, 229, 944, 733, 1028, 1005, 2475, 2565, 13…\n",
      "$ hour           \u001b[3m\u001b[38;5;246m<dbl>\u001b[39m\u001b[23m 5, 5, 5, 5, 6, 5, 6, 6, 6, 6, 6, 6, 6, 6, 6, 5, 6, 6, 6, 6, 6, 6, 6, 6, 6, 6, 6, …\n",
      "$ minute         \u001b[3m\u001b[38;5;246m<dbl>\u001b[39m\u001b[23m 15, 29, 40, 45, 0, 58, 0, 0, 0, 0, 0, 0, 0, 0, 0, 59, 0, 0, 0, 0, 10, 5, 10, 10, …\n",
      "$ time_hour      \u001b[3m\u001b[38;5;246m<dttm>\u001b[39m\u001b[23m 2013-01-01 05:00:00, 2013-01-01 05:00:00, 2013-01-01 05:00:00, 2013-01-01 05:00:…\n"
     ]
    }
   ],
   "source": [
    "glimpse(flights)"
   ]
  },
  {
   "cell_type": "markdown",
   "metadata": {},
   "source": [
    "## Rows"
   ]
  },
  {
   "cell_type": "code",
   "execution_count": 13,
   "metadata": {
    "vscode": {
     "languageId": "r"
    }
   },
   "outputs": [
    {
     "data": {
      "text/plain": [
       "\u001b[38;5;246m# A tibble: 9,723 × 19\u001b[39m\n",
       "    year month   day dep_time sched_dep_time dep_delay arr_time sched_arr_time arr_delay carrier flight\n",
       "   \u001b[3m\u001b[38;5;246m<int>\u001b[39m\u001b[23m \u001b[3m\u001b[38;5;246m<int>\u001b[39m\u001b[23m \u001b[3m\u001b[38;5;246m<int>\u001b[39m\u001b[23m    \u001b[3m\u001b[38;5;246m<int>\u001b[39m\u001b[23m          \u001b[3m\u001b[38;5;246m<int>\u001b[39m\u001b[23m     \u001b[3m\u001b[38;5;246m<dbl>\u001b[39m\u001b[23m    \u001b[3m\u001b[38;5;246m<int>\u001b[39m\u001b[23m          \u001b[3m\u001b[38;5;246m<int>\u001b[39m\u001b[23m     \u001b[3m\u001b[38;5;246m<dbl>\u001b[39m\u001b[23m \u001b[3m\u001b[38;5;246m<chr>\u001b[39m\u001b[23m    \u001b[3m\u001b[38;5;246m<int>\u001b[39m\u001b[23m\n",
       "\u001b[38;5;250m 1\u001b[39m  \u001b[4m2\u001b[24m013     1     1      848           \u001b[4m1\u001b[24m835       853     \u001b[4m1\u001b[24m001           \u001b[4m1\u001b[24m950       851 MQ        \u001b[4m3\u001b[24m944\n",
       "\u001b[38;5;250m 2\u001b[39m  \u001b[4m2\u001b[24m013     1     1      957            733       144     \u001b[4m1\u001b[24m056            853       123 UA         856\n",
       "\u001b[38;5;250m 3\u001b[39m  \u001b[4m2\u001b[24m013     1     1     \u001b[4m1\u001b[24m114            900       134     \u001b[4m1\u001b[24m447           \u001b[4m1\u001b[24m222       145 UA        \u001b[4m1\u001b[24m086\n",
       "\u001b[38;5;250m 4\u001b[39m  \u001b[4m2\u001b[24m013     1     1     \u001b[4m1\u001b[24m540           \u001b[4m1\u001b[24m338       122     \u001b[4m2\u001b[24m020           \u001b[4m1\u001b[24m825       115 B6         705\n",
       "\u001b[38;5;250m 5\u001b[39m  \u001b[4m2\u001b[24m013     1     1     \u001b[4m1\u001b[24m815           \u001b[4m1\u001b[24m325       290     \u001b[4m2\u001b[24m120           \u001b[4m1\u001b[24m542       338 EV        \u001b[4m4\u001b[24m417\n",
       "\u001b[38;5;250m 6\u001b[39m  \u001b[4m2\u001b[24m013     1     1     \u001b[4m1\u001b[24m842           \u001b[4m1\u001b[24m422       260     \u001b[4m1\u001b[24m958           \u001b[4m1\u001b[24m535       263 EV        \u001b[4m4\u001b[24m633\n",
       "\u001b[38;5;250m 7\u001b[39m  \u001b[4m2\u001b[24m013     1     1     \u001b[4m1\u001b[24m856           \u001b[4m1\u001b[24m645       131     \u001b[4m2\u001b[24m212           \u001b[4m2\u001b[24m005       127 AA         181\n",
       "\u001b[38;5;250m 8\u001b[39m  \u001b[4m2\u001b[24m013     1     1     \u001b[4m1\u001b[24m934           \u001b[4m1\u001b[24m725       129     \u001b[4m2\u001b[24m126           \u001b[4m1\u001b[24m855       151 MQ        \u001b[4m4\u001b[24m255\n",
       "\u001b[38;5;250m 9\u001b[39m  \u001b[4m2\u001b[24m013     1     1     \u001b[4m1\u001b[24m938           \u001b[4m1\u001b[24m703       155     \u001b[4m2\u001b[24m109           \u001b[4m1\u001b[24m823       166 EV        \u001b[4m4\u001b[24m300\n",
       "\u001b[38;5;250m10\u001b[39m  \u001b[4m2\u001b[24m013     1     1     \u001b[4m1\u001b[24m942           \u001b[4m1\u001b[24m705       157     \u001b[4m2\u001b[24m124           \u001b[4m1\u001b[24m830       174 MQ        \u001b[4m4\u001b[24m410\n",
       "\u001b[38;5;246m# ℹ 9,713 more rows\u001b[39m\n",
       "\u001b[38;5;246m# ℹ 8 more variables: tailnum <chr>, origin <chr>, dest <chr>, air_time <dbl>, distance <dbl>,\u001b[39m\n",
       "\u001b[38;5;246m#   hour <dbl>, minute <dbl>, time_hour <dttm>\u001b[39m\n",
       "\u001b[38;5;246m# ℹ Use `print(n = ...)` to see more rows\u001b[39m"
      ]
     },
     "execution_count": null,
     "metadata": {},
     "output_type": "execute_result"
    }
   ],
   "source": [
    "flights |> \n",
    "  filter(dep_delay > 120)"
   ]
  },
  {
   "cell_type": "code",
   "execution_count": 14,
   "metadata": {
    "vscode": {
     "languageId": "r"
    }
   },
   "outputs": [
    {
     "data": {
      "text/plain": [
       "\u001b[38;5;246m# A tibble: 336,776 × 19\u001b[39m\n",
       "    year month   day dep_time sched_dep_time dep_delay arr_time sched_arr_time arr_delay carrier flight\n",
       "   \u001b[3m\u001b[38;5;246m<int>\u001b[39m\u001b[23m \u001b[3m\u001b[38;5;246m<int>\u001b[39m\u001b[23m \u001b[3m\u001b[38;5;246m<int>\u001b[39m\u001b[23m    \u001b[3m\u001b[38;5;246m<int>\u001b[39m\u001b[23m          \u001b[3m\u001b[38;5;246m<int>\u001b[39m\u001b[23m     \u001b[3m\u001b[38;5;246m<dbl>\u001b[39m\u001b[23m    \u001b[3m\u001b[38;5;246m<int>\u001b[39m\u001b[23m          \u001b[3m\u001b[38;5;246m<int>\u001b[39m\u001b[23m     \u001b[3m\u001b[38;5;246m<dbl>\u001b[39m\u001b[23m \u001b[3m\u001b[38;5;246m<chr>\u001b[39m\u001b[23m    \u001b[3m\u001b[38;5;246m<int>\u001b[39m\u001b[23m\n",
       "\u001b[38;5;250m 1\u001b[39m  \u001b[4m2\u001b[24m013     1     1      517            515         2      830            819        11 UA        \u001b[4m1\u001b[24m545\n",
       "\u001b[38;5;250m 2\u001b[39m  \u001b[4m2\u001b[24m013     1     1      533            529         4      850            830        20 UA        \u001b[4m1\u001b[24m714\n",
       "\u001b[38;5;250m 3\u001b[39m  \u001b[4m2\u001b[24m013     1     1      542            540         2      923            850        33 AA        \u001b[4m1\u001b[24m141\n",
       "\u001b[38;5;250m 4\u001b[39m  \u001b[4m2\u001b[24m013     1     1      544            545        -\u001b[31m1\u001b[39m     \u001b[4m1\u001b[24m004           \u001b[4m1\u001b[24m022       -\u001b[31m18\u001b[39m B6         725\n",
       "\u001b[38;5;250m 5\u001b[39m  \u001b[4m2\u001b[24m013     1     1      554            600        -\u001b[31m6\u001b[39m      812            837       -\u001b[31m25\u001b[39m DL         461\n",
       "\u001b[38;5;250m 6\u001b[39m  \u001b[4m2\u001b[24m013     1     1      554            558        -\u001b[31m4\u001b[39m      740            728        12 UA        \u001b[4m1\u001b[24m696\n",
       "\u001b[38;5;250m 7\u001b[39m  \u001b[4m2\u001b[24m013     1     1      555            600        -\u001b[31m5\u001b[39m      913            854        19 B6         507\n",
       "\u001b[38;5;250m 8\u001b[39m  \u001b[4m2\u001b[24m013     1     1      557            600        -\u001b[31m3\u001b[39m      709            723       -\u001b[31m14\u001b[39m EV        \u001b[4m5\u001b[24m708\n",
       "\u001b[38;5;250m 9\u001b[39m  \u001b[4m2\u001b[24m013     1     1      557            600        -\u001b[31m3\u001b[39m      838            846        -\u001b[31m8\u001b[39m B6          79\n",
       "\u001b[38;5;250m10\u001b[39m  \u001b[4m2\u001b[24m013     1     1      558            600        -\u001b[31m2\u001b[39m      753            745         8 AA         301\n",
       "\u001b[38;5;246m# ℹ 336,766 more rows\u001b[39m\n",
       "\u001b[38;5;246m# ℹ 8 more variables: tailnum <chr>, origin <chr>, dest <chr>, air_time <dbl>, distance <dbl>,\u001b[39m\n",
       "\u001b[38;5;246m#   hour <dbl>, minute <dbl>, time_hour <dttm>\u001b[39m\n",
       "\u001b[38;5;246m# ℹ Use `print(n = ...)` to see more rows\u001b[39m"
      ]
     },
     "execution_count": null,
     "metadata": {},
     "output_type": "execute_result"
    }
   ],
   "source": [
    "flights |> \n",
    "  arrange(year, month, day, dep_time)"
   ]
  },
  {
   "cell_type": "code",
   "execution_count": 15,
   "metadata": {
    "vscode": {
     "languageId": "r"
    }
   },
   "outputs": [
    {
     "data": {
      "text/plain": [
       "\u001b[38;5;246m# A tibble: 336,776 × 19\u001b[39m\n",
       "    year month   day dep_time sched_dep_time dep_delay arr_time sched_arr_time arr_delay carrier flight\n",
       "   \u001b[3m\u001b[38;5;246m<int>\u001b[39m\u001b[23m \u001b[3m\u001b[38;5;246m<int>\u001b[39m\u001b[23m \u001b[3m\u001b[38;5;246m<int>\u001b[39m\u001b[23m    \u001b[3m\u001b[38;5;246m<int>\u001b[39m\u001b[23m          \u001b[3m\u001b[38;5;246m<int>\u001b[39m\u001b[23m     \u001b[3m\u001b[38;5;246m<dbl>\u001b[39m\u001b[23m    \u001b[3m\u001b[38;5;246m<int>\u001b[39m\u001b[23m          \u001b[3m\u001b[38;5;246m<int>\u001b[39m\u001b[23m     \u001b[3m\u001b[38;5;246m<dbl>\u001b[39m\u001b[23m \u001b[3m\u001b[38;5;246m<chr>\u001b[39m\u001b[23m    \u001b[3m\u001b[38;5;246m<int>\u001b[39m\u001b[23m\n",
       "\u001b[38;5;250m 1\u001b[39m  \u001b[4m2\u001b[24m013     1     9      641            900      \u001b[4m1\u001b[24m301     \u001b[4m1\u001b[24m242           \u001b[4m1\u001b[24m530      \u001b[4m1\u001b[24m272 HA          51\n",
       "\u001b[38;5;250m 2\u001b[39m  \u001b[4m2\u001b[24m013     6    15     \u001b[4m1\u001b[24m432           \u001b[4m1\u001b[24m935      \u001b[4m1\u001b[24m137     \u001b[4m1\u001b[24m607           \u001b[4m2\u001b[24m120      \u001b[4m1\u001b[24m127 MQ        \u001b[4m3\u001b[24m535\n",
       "\u001b[38;5;250m 3\u001b[39m  \u001b[4m2\u001b[24m013     1    10     \u001b[4m1\u001b[24m121           \u001b[4m1\u001b[24m635      \u001b[4m1\u001b[24m126     \u001b[4m1\u001b[24m239           \u001b[4m1\u001b[24m810      \u001b[4m1\u001b[24m109 MQ        \u001b[4m3\u001b[24m695\n",
       "\u001b[38;5;250m 4\u001b[39m  \u001b[4m2\u001b[24m013     9    20     \u001b[4m1\u001b[24m139           \u001b[4m1\u001b[24m845      \u001b[4m1\u001b[24m014     \u001b[4m1\u001b[24m457           \u001b[4m2\u001b[24m210      \u001b[4m1\u001b[24m007 AA         177\n",
       "\u001b[38;5;250m 5\u001b[39m  \u001b[4m2\u001b[24m013     7    22      845           \u001b[4m1\u001b[24m600      \u001b[4m1\u001b[24m005     \u001b[4m1\u001b[24m044           \u001b[4m1\u001b[24m815       989 MQ        \u001b[4m3\u001b[24m075\n",
       "\u001b[38;5;250m 6\u001b[39m  \u001b[4m2\u001b[24m013     4    10     \u001b[4m1\u001b[24m100           \u001b[4m1\u001b[24m900       960     \u001b[4m1\u001b[24m342           \u001b[4m2\u001b[24m211       931 DL        \u001b[4m2\u001b[24m391\n",
       "\u001b[38;5;250m 7\u001b[39m  \u001b[4m2\u001b[24m013     3    17     \u001b[4m2\u001b[24m321            810       911      135           \u001b[4m1\u001b[24m020       915 DL        \u001b[4m2\u001b[24m119\n",
       "\u001b[38;5;250m 8\u001b[39m  \u001b[4m2\u001b[24m013     6    27      959           \u001b[4m1\u001b[24m900       899     \u001b[4m1\u001b[24m236           \u001b[4m2\u001b[24m226       850 DL        \u001b[4m2\u001b[24m007\n",
       "\u001b[38;5;250m 9\u001b[39m  \u001b[4m2\u001b[24m013     7    22     \u001b[4m2\u001b[24m257            759       898      121           \u001b[4m1\u001b[24m026       895 DL        \u001b[4m2\u001b[24m047\n",
       "\u001b[38;5;250m10\u001b[39m  \u001b[4m2\u001b[24m013    12     5      756           \u001b[4m1\u001b[24m700       896     \u001b[4m1\u001b[24m058           \u001b[4m2\u001b[24m020       878 AA         172\n",
       "\u001b[38;5;246m# ℹ 336,766 more rows\u001b[39m\n",
       "\u001b[38;5;246m# ℹ 8 more variables: tailnum <chr>, origin <chr>, dest <chr>, air_time <dbl>, distance <dbl>,\u001b[39m\n",
       "\u001b[38;5;246m#   hour <dbl>, minute <dbl>, time_hour <dttm>\u001b[39m\n",
       "\u001b[38;5;246m# ℹ Use `print(n = ...)` to see more rows\u001b[39m"
      ]
     },
     "execution_count": null,
     "metadata": {},
     "output_type": "execute_result"
    }
   ],
   "source": [
    "flights |> \n",
    "  arrange(desc(dep_delay))"
   ]
  },
  {
   "cell_type": "code",
   "execution_count": 16,
   "metadata": {
    "vscode": {
     "languageId": "r"
    }
   },
   "outputs": [
    {
     "data": {
      "text/plain": [
       "\u001b[38;5;246m# A tibble: 336,776 × 19\u001b[39m\n",
       "    year month   day dep_time sched_dep_time dep_delay arr_time sched_arr_time arr_delay carrier flight\n",
       "   \u001b[3m\u001b[38;5;246m<int>\u001b[39m\u001b[23m \u001b[3m\u001b[38;5;246m<int>\u001b[39m\u001b[23m \u001b[3m\u001b[38;5;246m<int>\u001b[39m\u001b[23m    \u001b[3m\u001b[38;5;246m<int>\u001b[39m\u001b[23m          \u001b[3m\u001b[38;5;246m<int>\u001b[39m\u001b[23m     \u001b[3m\u001b[38;5;246m<dbl>\u001b[39m\u001b[23m    \u001b[3m\u001b[38;5;246m<int>\u001b[39m\u001b[23m          \u001b[3m\u001b[38;5;246m<int>\u001b[39m\u001b[23m     \u001b[3m\u001b[38;5;246m<dbl>\u001b[39m\u001b[23m \u001b[3m\u001b[38;5;246m<chr>\u001b[39m\u001b[23m    \u001b[3m\u001b[38;5;246m<int>\u001b[39m\u001b[23m\n",
       "\u001b[38;5;250m 1\u001b[39m  \u001b[4m2\u001b[24m013     1     1      517            515         2      830            819        11 UA        \u001b[4m1\u001b[24m545\n",
       "\u001b[38;5;250m 2\u001b[39m  \u001b[4m2\u001b[24m013     1     1      533            529         4      850            830        20 UA        \u001b[4m1\u001b[24m714\n",
       "\u001b[38;5;250m 3\u001b[39m  \u001b[4m2\u001b[24m013     1     1      542            540         2      923            850        33 AA        \u001b[4m1\u001b[24m141\n",
       "\u001b[38;5;250m 4\u001b[39m  \u001b[4m2\u001b[24m013     1     1      544            545        -\u001b[31m1\u001b[39m     \u001b[4m1\u001b[24m004           \u001b[4m1\u001b[24m022       -\u001b[31m18\u001b[39m B6         725\n",
       "\u001b[38;5;250m 5\u001b[39m  \u001b[4m2\u001b[24m013     1     1      554            600        -\u001b[31m6\u001b[39m      812            837       -\u001b[31m25\u001b[39m DL         461\n",
       "\u001b[38;5;250m 6\u001b[39m  \u001b[4m2\u001b[24m013     1     1      554            558        -\u001b[31m4\u001b[39m      740            728        12 UA        \u001b[4m1\u001b[24m696\n",
       "\u001b[38;5;250m 7\u001b[39m  \u001b[4m2\u001b[24m013     1     1      555            600        -\u001b[31m5\u001b[39m      913            854        19 B6         507\n",
       "\u001b[38;5;250m 8\u001b[39m  \u001b[4m2\u001b[24m013     1     1      557            600        -\u001b[31m3\u001b[39m      709            723       -\u001b[31m14\u001b[39m EV        \u001b[4m5\u001b[24m708\n",
       "\u001b[38;5;250m 9\u001b[39m  \u001b[4m2\u001b[24m013     1     1      557            600        -\u001b[31m3\u001b[39m      838            846        -\u001b[31m8\u001b[39m B6          79\n",
       "\u001b[38;5;250m10\u001b[39m  \u001b[4m2\u001b[24m013     1     1      558            600        -\u001b[31m2\u001b[39m      753            745         8 AA         301\n",
       "\u001b[38;5;246m# ℹ 336,766 more rows\u001b[39m\n",
       "\u001b[38;5;246m# ℹ 8 more variables: tailnum <chr>, origin <chr>, dest <chr>, air_time <dbl>, distance <dbl>,\u001b[39m\n",
       "\u001b[38;5;246m#   hour <dbl>, minute <dbl>, time_hour <dttm>\u001b[39m\n",
       "\u001b[38;5;246m# ℹ Use `print(n = ...)` to see more rows\u001b[39m"
      ]
     },
     "execution_count": null,
     "metadata": {},
     "output_type": "execute_result"
    }
   ],
   "source": [
    "flights |> \n",
    "  distinct()"
   ]
  },
  {
   "cell_type": "code",
   "execution_count": 17,
   "metadata": {
    "vscode": {
     "languageId": "r"
    }
   },
   "outputs": [
    {
     "data": {
      "text/plain": [
       "\u001b[38;5;246m# A tibble: 224 × 3\u001b[39m\n",
       "   origin dest      n\n",
       "   \u001b[3m\u001b[38;5;246m<chr>\u001b[39m\u001b[23m  \u001b[3m\u001b[38;5;246m<chr>\u001b[39m\u001b[23m \u001b[3m\u001b[38;5;246m<int>\u001b[39m\u001b[23m\n",
       "\u001b[38;5;250m 1\u001b[39m JFK    LAX   \u001b[4m1\u001b[24m\u001b[4m1\u001b[24m262\n",
       "\u001b[38;5;250m 2\u001b[39m LGA    ATL   \u001b[4m1\u001b[24m\u001b[4m0\u001b[24m263\n",
       "\u001b[38;5;250m 3\u001b[39m LGA    ORD    \u001b[4m8\u001b[24m857\n",
       "\u001b[38;5;250m 4\u001b[39m JFK    SFO    \u001b[4m8\u001b[24m204\n",
       "\u001b[38;5;250m 5\u001b[39m LGA    CLT    \u001b[4m6\u001b[24m168\n",
       "\u001b[38;5;250m 6\u001b[39m EWR    ORD    \u001b[4m6\u001b[24m100\n",
       "\u001b[38;5;250m 7\u001b[39m JFK    BOS    \u001b[4m5\u001b[24m898\n",
       "\u001b[38;5;250m 8\u001b[39m LGA    MIA    \u001b[4m5\u001b[24m781\n",
       "\u001b[38;5;250m 9\u001b[39m JFK    MCO    \u001b[4m5\u001b[24m464\n",
       "\u001b[38;5;250m10\u001b[39m EWR    BOS    \u001b[4m5\u001b[24m327\n",
       "\u001b[38;5;246m# ℹ 214 more rows\u001b[39m\n",
       "\u001b[38;5;246m# ℹ Use `print(n = ...)` to see more rows\u001b[39m"
      ]
     },
     "execution_count": null,
     "metadata": {},
     "output_type": "execute_result"
    }
   ],
   "source": [
    "flights |> \n",
    "  count(origin, dest, sort = TRUE)"
   ]
  },
  {
   "cell_type": "code",
   "execution_count": 18,
   "metadata": {
    "vscode": {
     "languageId": "r"
    }
   },
   "outputs": [
    {
     "data": {
      "text/plain": [
       "\u001b[38;5;246m# A tibble: 336,776 × 19\u001b[39m\n",
       "    year month   day dep_time sched_dep_time dep_delay arr_time sched_arr_time arr_delay carrier flight\n",
       "   \u001b[3m\u001b[38;5;246m<int>\u001b[39m\u001b[23m \u001b[3m\u001b[38;5;246m<int>\u001b[39m\u001b[23m \u001b[3m\u001b[38;5;246m<int>\u001b[39m\u001b[23m    \u001b[3m\u001b[38;5;246m<int>\u001b[39m\u001b[23m          \u001b[3m\u001b[38;5;246m<int>\u001b[39m\u001b[23m     \u001b[3m\u001b[38;5;246m<dbl>\u001b[39m\u001b[23m    \u001b[3m\u001b[38;5;246m<int>\u001b[39m\u001b[23m          \u001b[3m\u001b[38;5;246m<int>\u001b[39m\u001b[23m     \u001b[3m\u001b[38;5;246m<dbl>\u001b[39m\u001b[23m \u001b[3m\u001b[38;5;246m<chr>\u001b[39m\u001b[23m    \u001b[3m\u001b[38;5;246m<int>\u001b[39m\u001b[23m\n",
       "\u001b[38;5;250m 1\u001b[39m  \u001b[4m2\u001b[24m013     1     1      517            515         2      830            819        11 UA        \u001b[4m1\u001b[24m545\n",
       "\u001b[38;5;250m 2\u001b[39m  \u001b[4m2\u001b[24m013     1     1      533            529         4      850            830        20 UA        \u001b[4m1\u001b[24m714\n",
       "\u001b[38;5;250m 3\u001b[39m  \u001b[4m2\u001b[24m013     1     1      542            540         2      923            850        33 AA        \u001b[4m1\u001b[24m141\n",
       "\u001b[38;5;250m 4\u001b[39m  \u001b[4m2\u001b[24m013     1     1      544            545        -\u001b[31m1\u001b[39m     \u001b[4m1\u001b[24m004           \u001b[4m1\u001b[24m022       -\u001b[31m18\u001b[39m B6         725\n",
       "\u001b[38;5;250m 5\u001b[39m  \u001b[4m2\u001b[24m013     1     1      554            600        -\u001b[31m6\u001b[39m      812            837       -\u001b[31m25\u001b[39m DL         461\n",
       "\u001b[38;5;250m 6\u001b[39m  \u001b[4m2\u001b[24m013     1     1      554            558        -\u001b[31m4\u001b[39m      740            728        12 UA        \u001b[4m1\u001b[24m696\n",
       "\u001b[38;5;250m 7\u001b[39m  \u001b[4m2\u001b[24m013     1     1      555            600        -\u001b[31m5\u001b[39m      913            854        19 B6         507\n",
       "\u001b[38;5;250m 8\u001b[39m  \u001b[4m2\u001b[24m013     1     1      557            600        -\u001b[31m3\u001b[39m      709            723       -\u001b[31m14\u001b[39m EV        \u001b[4m5\u001b[24m708\n",
       "\u001b[38;5;250m 9\u001b[39m  \u001b[4m2\u001b[24m013     1     1      557            600        -\u001b[31m3\u001b[39m      838            846        -\u001b[31m8\u001b[39m B6          79\n",
       "\u001b[38;5;250m10\u001b[39m  \u001b[4m2\u001b[24m013     1     1      558            600        -\u001b[31m2\u001b[39m      753            745         8 AA         301\n",
       "\u001b[38;5;246m# ℹ 336,766 more rows\u001b[39m\n",
       "\u001b[38;5;246m# ℹ 8 more variables: tailnum <chr>, origin <chr>, dest <chr>, air_time <dbl>, distance <dbl>,\u001b[39m\n",
       "\u001b[38;5;246m#   hour <dbl>, minute <dbl>, time_hour <dttm>\u001b[39m\n",
       "\u001b[38;5;246m# ℹ Use `print(n = ...)` to see more rows\u001b[39m"
      ]
     },
     "execution_count": null,
     "metadata": {},
     "output_type": "execute_result"
    }
   ],
   "source": [
    "flights"
   ]
  },
  {
   "cell_type": "code",
   "execution_count": 29,
   "metadata": {
    "vscode": {
     "languageId": "r"
    }
   },
   "outputs": [
    {
     "data": {
      "text/plain": [
       "\u001b[38;5;246m# A tibble: 10,034 × 19\u001b[39m\n",
       "    year month   day dep_time sched_dep_time dep_delay arr_time sched_arr_time arr_delay carrier flight\n",
       "   \u001b[3m\u001b[38;5;246m<int>\u001b[39m\u001b[23m \u001b[3m\u001b[38;5;246m<int>\u001b[39m\u001b[23m \u001b[3m\u001b[38;5;246m<int>\u001b[39m\u001b[23m    \u001b[3m\u001b[38;5;246m<int>\u001b[39m\u001b[23m          \u001b[3m\u001b[38;5;246m<int>\u001b[39m\u001b[23m     \u001b[3m\u001b[38;5;246m<dbl>\u001b[39m\u001b[23m    \u001b[3m\u001b[38;5;246m<int>\u001b[39m\u001b[23m          \u001b[3m\u001b[38;5;246m<int>\u001b[39m\u001b[23m     \u001b[3m\u001b[38;5;246m<dbl>\u001b[39m\u001b[23m \u001b[3m\u001b[38;5;246m<chr>\u001b[39m\u001b[23m    \u001b[3m\u001b[38;5;246m<int>\u001b[39m\u001b[23m\n",
       "\u001b[38;5;250m 1\u001b[39m  \u001b[4m2\u001b[24m013     1     1      811            630       101     \u001b[4m1\u001b[24m047            830       137 MQ        \u001b[4m4\u001b[24m576\n",
       "\u001b[38;5;250m 2\u001b[39m  \u001b[4m2\u001b[24m013     1     1      848           \u001b[4m1\u001b[24m835       853     \u001b[4m1\u001b[24m001           \u001b[4m1\u001b[24m950       851 MQ        \u001b[4m3\u001b[24m944\n",
       "\u001b[38;5;250m 3\u001b[39m  \u001b[4m2\u001b[24m013     1     1      957            733       144     \u001b[4m1\u001b[24m056            853       123 UA         856\n",
       "\u001b[38;5;250m 4\u001b[39m  \u001b[4m2\u001b[24m013     1     1     \u001b[4m1\u001b[24m114            900       134     \u001b[4m1\u001b[24m447           \u001b[4m1\u001b[24m222       145 UA        \u001b[4m1\u001b[24m086\n",
       "\u001b[38;5;250m 5\u001b[39m  \u001b[4m2\u001b[24m013     1     1     \u001b[4m1\u001b[24m505           \u001b[4m1\u001b[24m310       115     \u001b[4m1\u001b[24m638           \u001b[4m1\u001b[24m431       127 EV        \u001b[4m4\u001b[24m497\n",
       "\u001b[38;5;250m 6\u001b[39m  \u001b[4m2\u001b[24m013     1     1     \u001b[4m1\u001b[24m525           \u001b[4m1\u001b[24m340       105     \u001b[4m1\u001b[24m831           \u001b[4m1\u001b[24m626       125 B6         525\n",
       "\u001b[38;5;250m 7\u001b[39m  \u001b[4m2\u001b[24m013     1     1     \u001b[4m1\u001b[24m549           \u001b[4m1\u001b[24m445        64     \u001b[4m1\u001b[24m912           \u001b[4m1\u001b[24m656       136 EV        \u001b[4m4\u001b[24m181\n",
       "\u001b[38;5;250m 8\u001b[39m  \u001b[4m2\u001b[24m013     1     1     \u001b[4m1\u001b[24m558           \u001b[4m1\u001b[24m359       119     \u001b[4m1\u001b[24m718           \u001b[4m1\u001b[24m515       123 EV        \u001b[4m5\u001b[24m712\n",
       "\u001b[38;5;250m 9\u001b[39m  \u001b[4m2\u001b[24m013     1     1     \u001b[4m1\u001b[24m732           \u001b[4m1\u001b[24m630        62     \u001b[4m2\u001b[24m028           \u001b[4m1\u001b[24m825       123 EV        \u001b[4m4\u001b[24m092\n",
       "\u001b[38;5;250m10\u001b[39m  \u001b[4m2\u001b[24m013     1     1     \u001b[4m1\u001b[24m803           \u001b[4m1\u001b[24m620       103     \u001b[4m2\u001b[24m008           \u001b[4m1\u001b[24m750       138 MQ        \u001b[4m4\u001b[24m622\n",
       "\u001b[38;5;246m# ℹ 10,024 more rows\u001b[39m\n",
       "\u001b[38;5;246m# ℹ 8 more variables: tailnum <chr>, origin <chr>, dest <chr>, air_time <dbl>, distance <dbl>,\u001b[39m\n",
       "\u001b[38;5;246m#   hour <dbl>, minute <dbl>, time_hour <dttm>\u001b[39m\n",
       "\u001b[38;5;246m# ℹ Use `print(n = ...)` to see more rows\u001b[39m"
      ]
     },
     "execution_count": null,
     "metadata": {},
     "output_type": "execute_result"
    }
   ],
   "source": [
    "flights |> \n",
    "  filter(arr_delay>120)"
   ]
  },
  {
   "cell_type": "code",
   "execution_count": 20,
   "metadata": {
    "vscode": {
     "languageId": "r"
    }
   },
   "outputs": [
    {
     "name": "stdout",
     "output_type": "stream",
     "text": [
      "Rows: 336,776\n",
      "Columns: 19\n",
      "$ year           \u001b[3m\u001b[38;5;246m<int>\u001b[39m\u001b[23m 2013, 2013, 2013, 2013, 2013, 2013, 2013, 2013, 2013, 2013, 2013, 2013, 2013, 201…\n",
      "$ month          \u001b[3m\u001b[38;5;246m<int>\u001b[39m\u001b[23m 1, 1, 1, 1, 1, 1, 1, 1, 1, 1, 1, 1, 1, 1, 1, 1, 1, 1, 1, 1, 1, 1, 1, 1, 1, 1, 1, …\n",
      "$ day            \u001b[3m\u001b[38;5;246m<int>\u001b[39m\u001b[23m 1, 1, 1, 1, 1, 1, 1, 1, 1, 1, 1, 1, 1, 1, 1, 1, 1, 1, 1, 1, 1, 1, 1, 1, 1, 1, 1, …\n",
      "$ dep_time       \u001b[3m\u001b[38;5;246m<int>\u001b[39m\u001b[23m 517, 533, 542, 544, 554, 554, 555, 557, 557, 558, 558, 558, 558, 558, 559, 559, 5…\n",
      "$ sched_dep_time \u001b[3m\u001b[38;5;246m<int>\u001b[39m\u001b[23m 515, 529, 540, 545, 600, 558, 600, 600, 600, 600, 600, 600, 600, 600, 600, 559, 6…\n",
      "$ dep_delay      \u001b[3m\u001b[38;5;246m<dbl>\u001b[39m\u001b[23m 2, 4, 2, -1, -6, -4, -5, -3, -3, -2, -2, -2, -2, -2, -1, 0, -1, 0, 0, 1, -8, -3, …\n",
      "$ arr_time       \u001b[3m\u001b[38;5;246m<int>\u001b[39m\u001b[23m 830, 850, 923, 1004, 812, 740, 913, 709, 838, 753, 849, 853, 924, 923, 941, 702, …\n",
      "$ sched_arr_time \u001b[3m\u001b[38;5;246m<int>\u001b[39m\u001b[23m 819, 830, 850, 1022, 837, 728, 854, 723, 846, 745, 851, 856, 917, 937, 910, 706, …\n",
      "$ arr_delay      \u001b[3m\u001b[38;5;246m<dbl>\u001b[39m\u001b[23m 11, 20, 33, -18, -25, 12, 19, -14, -8, 8, -2, -3, 7, -14, 31, -4, -8, -7, 12, -6,…\n",
      "$ carrier        \u001b[3m\u001b[38;5;246m<chr>\u001b[39m\u001b[23m \"UA\", \"UA\", \"AA\", \"B6\", \"DL\", \"UA\", \"B6\", \"EV\", \"B6\", \"AA\", \"B6\", \"B6\", \"UA\", \"UA…\n",
      "$ flight         \u001b[3m\u001b[38;5;246m<int>\u001b[39m\u001b[23m 1545, 1714, 1141, 725, 461, 1696, 507, 5708, 79, 301, 49, 71, 194, 1124, 707, 180…\n",
      "$ tailnum        \u001b[3m\u001b[38;5;246m<chr>\u001b[39m\u001b[23m \"N14228\", \"N24211\", \"N619AA\", \"N804JB\", \"N668DN\", \"N39463\", \"N516JB\", \"N829AS\", \"…\n",
      "$ origin         \u001b[3m\u001b[38;5;246m<chr>\u001b[39m\u001b[23m \"EWR\", \"LGA\", \"JFK\", \"JFK\", \"LGA\", \"EWR\", \"EWR\", \"LGA\", \"JFK\", \"LGA\", \"JFK\", \"JFK…\n",
      "$ dest           \u001b[3m\u001b[38;5;246m<chr>\u001b[39m\u001b[23m \"IAH\", \"IAH\", \"MIA\", \"BQN\", \"ATL\", \"ORD\", \"FLL\", \"IAD\", \"MCO\", \"ORD\", \"PBI\", \"TPA…\n",
      "$ air_time       \u001b[3m\u001b[38;5;246m<dbl>\u001b[39m\u001b[23m 227, 227, 160, 183, 116, 150, 158, 53, 140, 138, 149, 158, 345, 361, 257, 44, 337…\n",
      "$ distance       \u001b[3m\u001b[38;5;246m<dbl>\u001b[39m\u001b[23m 1400, 1416, 1089, 1576, 762, 719, 1065, 229, 944, 733, 1028, 1005, 2475, 2565, 13…\n",
      "$ hour           \u001b[3m\u001b[38;5;246m<dbl>\u001b[39m\u001b[23m 5, 5, 5, 5, 6, 5, 6, 6, 6, 6, 6, 6, 6, 6, 6, 5, 6, 6, 6, 6, 6, 6, 6, 6, 6, 6, 6, …\n",
      "$ minute         \u001b[3m\u001b[38;5;246m<dbl>\u001b[39m\u001b[23m 15, 29, 40, 45, 0, 58, 0, 0, 0, 0, 0, 0, 0, 0, 0, 59, 0, 0, 0, 0, 10, 5, 10, 10, …\n",
      "$ time_hour      \u001b[3m\u001b[38;5;246m<dttm>\u001b[39m\u001b[23m 2013-01-01 05:00:00, 2013-01-01 05:00:00, 2013-01-01 05:00:00, 2013-01-01 05:00:…\n"
     ]
    }
   ],
   "source": [
    "glimpse(flights)"
   ]
  },
  {
   "cell_type": "code",
   "execution_count": 21,
   "metadata": {
    "vscode": {
     "languageId": "r"
    }
   },
   "outputs": [
    {
     "data": {
      "text/plain": [
       "\u001b[38;5;246m# A tibble: 9,313 × 19\u001b[39m\n",
       "    year month   day dep_time sched_dep_time dep_delay arr_time sched_arr_time arr_delay carrier flight\n",
       "   \u001b[3m\u001b[38;5;246m<int>\u001b[39m\u001b[23m \u001b[3m\u001b[38;5;246m<int>\u001b[39m\u001b[23m \u001b[3m\u001b[38;5;246m<int>\u001b[39m\u001b[23m    \u001b[3m\u001b[38;5;246m<int>\u001b[39m\u001b[23m          \u001b[3m\u001b[38;5;246m<int>\u001b[39m\u001b[23m     \u001b[3m\u001b[38;5;246m<dbl>\u001b[39m\u001b[23m    \u001b[3m\u001b[38;5;246m<int>\u001b[39m\u001b[23m          \u001b[3m\u001b[38;5;246m<int>\u001b[39m\u001b[23m     \u001b[3m\u001b[38;5;246m<dbl>\u001b[39m\u001b[23m \u001b[3m\u001b[38;5;246m<chr>\u001b[39m\u001b[23m    \u001b[3m\u001b[38;5;246m<int>\u001b[39m\u001b[23m\n",
       "\u001b[38;5;250m 1\u001b[39m  \u001b[4m2\u001b[24m013     1     1      517            515         2      830            819        11 UA        \u001b[4m1\u001b[24m545\n",
       "\u001b[38;5;250m 2\u001b[39m  \u001b[4m2\u001b[24m013     1     1      533            529         4      850            830        20 UA        \u001b[4m1\u001b[24m714\n",
       "\u001b[38;5;250m 3\u001b[39m  \u001b[4m2\u001b[24m013     1     1      623            627        -\u001b[31m4\u001b[39m      933            932         1 UA         496\n",
       "\u001b[38;5;250m 4\u001b[39m  \u001b[4m2\u001b[24m013     1     1      728            732        -\u001b[31m4\u001b[39m     \u001b[4m1\u001b[24m041           \u001b[4m1\u001b[24m038         3 UA         473\n",
       "\u001b[38;5;250m 5\u001b[39m  \u001b[4m2\u001b[24m013     1     1      739            739         0     \u001b[4m1\u001b[24m104           \u001b[4m1\u001b[24m038        26 UA        \u001b[4m1\u001b[24m479\n",
       "\u001b[38;5;250m 6\u001b[39m  \u001b[4m2\u001b[24m013     1     1      908            908         0     \u001b[4m1\u001b[24m228           \u001b[4m1\u001b[24m219         9 UA        \u001b[4m1\u001b[24m220\n",
       "\u001b[38;5;250m 7\u001b[39m  \u001b[4m2\u001b[24m013     1     1     \u001b[4m1\u001b[24m028           \u001b[4m1\u001b[24m026         2     \u001b[4m1\u001b[24m350           \u001b[4m1\u001b[24m339        11 UA        \u001b[4m1\u001b[24m004\n",
       "\u001b[38;5;250m 8\u001b[39m  \u001b[4m2\u001b[24m013     1     1     \u001b[4m1\u001b[24m044           \u001b[4m1\u001b[24m045        -\u001b[31m1\u001b[39m     \u001b[4m1\u001b[24m352           \u001b[4m1\u001b[24m351         1 UA         455\n",
       "\u001b[38;5;250m 9\u001b[39m  \u001b[4m2\u001b[24m013     1     1     \u001b[4m1\u001b[24m114            900       134     \u001b[4m1\u001b[24m447           \u001b[4m1\u001b[24m222       145 UA        \u001b[4m1\u001b[24m086\n",
       "\u001b[38;5;250m10\u001b[39m  \u001b[4m2\u001b[24m013     1     1     \u001b[4m1\u001b[24m205           \u001b[4m1\u001b[24m200         5     \u001b[4m1\u001b[24m503           \u001b[4m1\u001b[24m505        -\u001b[31m2\u001b[39m UA        \u001b[4m1\u001b[24m461\n",
       "\u001b[38;5;246m# ℹ 9,303 more rows\u001b[39m\n",
       "\u001b[38;5;246m# ℹ 8 more variables: tailnum <chr>, origin <chr>, dest <chr>, air_time <dbl>, distance <dbl>,\u001b[39m\n",
       "\u001b[38;5;246m#   hour <dbl>, minute <dbl>, time_hour <dttm>\u001b[39m\n",
       "\u001b[38;5;246m# ℹ Use `print(n = ...)` to see more rows\u001b[39m"
      ]
     },
     "execution_count": null,
     "metadata": {},
     "output_type": "execute_result"
    }
   ],
   "source": [
    "flights |> \n",
    "  filter(dest %in% c(\"IAH\", \"HOU\"))"
   ]
  },
  {
   "cell_type": "code",
   "execution_count": 23,
   "metadata": {
    "vscode": {
     "languageId": "r"
    }
   },
   "outputs": [
    {
     "data": {
      "text/plain": [
       "\u001b[38;5;246m# A tibble: 106,775 × 19\u001b[39m\n",
       "    year month   day dep_time sched_dep_time dep_delay arr_time sched_arr_time arr_delay carrier flight\n",
       "   \u001b[3m\u001b[38;5;246m<int>\u001b[39m\u001b[23m \u001b[3m\u001b[38;5;246m<int>\u001b[39m\u001b[23m \u001b[3m\u001b[38;5;246m<int>\u001b[39m\u001b[23m    \u001b[3m\u001b[38;5;246m<int>\u001b[39m\u001b[23m          \u001b[3m\u001b[38;5;246m<int>\u001b[39m\u001b[23m     \u001b[3m\u001b[38;5;246m<dbl>\u001b[39m\u001b[23m    \u001b[3m\u001b[38;5;246m<int>\u001b[39m\u001b[23m          \u001b[3m\u001b[38;5;246m<int>\u001b[39m\u001b[23m     \u001b[3m\u001b[38;5;246m<dbl>\u001b[39m\u001b[23m \u001b[3m\u001b[38;5;246m<chr>\u001b[39m\u001b[23m    \u001b[3m\u001b[38;5;246m<int>\u001b[39m\u001b[23m\n",
       "\u001b[38;5;250m 1\u001b[39m  \u001b[4m2\u001b[24m013     1     1      517            515         2      830            819        11 UA        \u001b[4m1\u001b[24m545\n",
       "\u001b[38;5;250m 2\u001b[39m  \u001b[4m2\u001b[24m013     1     1      533            529         4      850            830        20 UA        \u001b[4m1\u001b[24m714\n",
       "\u001b[38;5;250m 3\u001b[39m  \u001b[4m2\u001b[24m013     1     1      554            600        -\u001b[31m6\u001b[39m      812            837       -\u001b[31m25\u001b[39m DL         461\n",
       "\u001b[38;5;250m 4\u001b[39m  \u001b[4m2\u001b[24m013     1     1      554            558        -\u001b[31m4\u001b[39m      740            728        12 UA        \u001b[4m1\u001b[24m696\n",
       "\u001b[38;5;250m 5\u001b[39m  \u001b[4m2\u001b[24m013     1     1      558            600        -\u001b[31m2\u001b[39m      924            917         7 UA         194\n",
       "\u001b[38;5;250m 6\u001b[39m  \u001b[4m2\u001b[24m013     1     1      558            600        -\u001b[31m2\u001b[39m      923            937       -\u001b[31m14\u001b[39m UA        \u001b[4m1\u001b[24m124\n",
       "\u001b[38;5;250m 7\u001b[39m  \u001b[4m2\u001b[24m013     1     1      559            600        -\u001b[31m1\u001b[39m      854            902        -\u001b[31m8\u001b[39m UA        \u001b[4m1\u001b[24m187\n",
       "\u001b[38;5;250m 8\u001b[39m  \u001b[4m2\u001b[24m013     1     1      602            610        -\u001b[31m8\u001b[39m      812            820        -\u001b[31m8\u001b[39m DL        \u001b[4m1\u001b[24m919\n",
       "\u001b[38;5;250m 9\u001b[39m  \u001b[4m2\u001b[24m013     1     1      606            610        -\u001b[31m4\u001b[39m      837            845        -\u001b[31m8\u001b[39m DL        \u001b[4m1\u001b[24m743\n",
       "\u001b[38;5;250m10\u001b[39m  \u001b[4m2\u001b[24m013     1     1      607            607         0      858            915       -\u001b[31m17\u001b[39m UA        \u001b[4m1\u001b[24m077\n",
       "\u001b[38;5;246m# ℹ 106,765 more rows\u001b[39m\n",
       "\u001b[38;5;246m# ℹ 8 more variables: tailnum <chr>, origin <chr>, dest <chr>, air_time <dbl>, distance <dbl>,\u001b[39m\n",
       "\u001b[38;5;246m#   hour <dbl>, minute <dbl>, time_hour <dttm>\u001b[39m\n",
       "\u001b[38;5;246m# ℹ Use `print(n = ...)` to see more rows\u001b[39m"
      ]
     },
     "execution_count": null,
     "metadata": {},
     "output_type": "execute_result"
    }
   ],
   "source": [
    "flights |> \n",
    "  filter(carrier %in% c(\"UA\", \"DL\"))"
   ]
  },
  {
   "cell_type": "code",
   "execution_count": 24,
   "metadata": {
    "vscode": {
     "languageId": "r"
    }
   },
   "outputs": [
    {
     "data": {
      "text/plain": [
       "\u001b[38;5;246m# A tibble: 73 × 19\u001b[39m\n",
       "    year month   day dep_time sched_dep_time dep_delay arr_time sched_arr_time arr_delay carrier flight\n",
       "   \u001b[3m\u001b[38;5;246m<int>\u001b[39m\u001b[23m \u001b[3m\u001b[38;5;246m<int>\u001b[39m\u001b[23m \u001b[3m\u001b[38;5;246m<int>\u001b[39m\u001b[23m    \u001b[3m\u001b[38;5;246m<int>\u001b[39m\u001b[23m          \u001b[3m\u001b[38;5;246m<int>\u001b[39m\u001b[23m     \u001b[3m\u001b[38;5;246m<dbl>\u001b[39m\u001b[23m    \u001b[3m\u001b[38;5;246m<int>\u001b[39m\u001b[23m          \u001b[3m\u001b[38;5;246m<int>\u001b[39m\u001b[23m     \u001b[3m\u001b[38;5;246m<dbl>\u001b[39m\u001b[23m \u001b[3m\u001b[38;5;246m<chr>\u001b[39m\u001b[23m    \u001b[3m\u001b[38;5;246m<int>\u001b[39m\u001b[23m\n",
       "\u001b[38;5;250m 1\u001b[39m  \u001b[4m2\u001b[24m013     1     9        8           \u001b[4m2\u001b[24m359         9      432            437        -\u001b[31m5\u001b[39m B6         727\n",
       "\u001b[38;5;250m 2\u001b[39m  \u001b[4m2\u001b[24m013     1    31        7           \u001b[4m2\u001b[24m359         8      453            437        16 B6         727\n",
       "\u001b[38;5;250m 3\u001b[39m  \u001b[4m2\u001b[24m013    10     4        7           \u001b[4m2\u001b[24m359         8      350            350         0 B6         745\n",
       "\u001b[38;5;250m 4\u001b[39m  \u001b[4m2\u001b[24m013    10     7        9           \u001b[4m2\u001b[24m030       219      109           \u001b[4m2\u001b[24m205       184 WN         382\n",
       "\u001b[38;5;250m 5\u001b[39m  \u001b[4m2\u001b[24m013    10    11        8           \u001b[4m2\u001b[24m030       218      119           \u001b[4m2\u001b[24m201       198 FL         354\n",
       "\u001b[38;5;250m 6\u001b[39m  \u001b[4m2\u001b[24m013    10    18        9           \u001b[4m2\u001b[24m359        10      348            350        -\u001b[31m2\u001b[39m B6         745\n",
       "\u001b[38;5;250m 7\u001b[39m  \u001b[4m2\u001b[24m013    12    10        7           \u001b[4m2\u001b[24m359         8      451            445         6 B6         745\n",
       "\u001b[38;5;250m 8\u001b[39m  \u001b[4m2\u001b[24m013    12    10        7           \u001b[4m2\u001b[24m359         8      446            437         9 B6         839\n",
       "\u001b[38;5;250m 9\u001b[39m  \u001b[4m2\u001b[24m013    12    12        9           \u001b[4m2\u001b[24m359        10      440            440         0 B6        \u001b[4m1\u001b[24m503\n",
       "\u001b[38;5;250m10\u001b[39m  \u001b[4m2\u001b[24m013    12    17        8           \u001b[4m2\u001b[24m159       129      155           \u001b[4m2\u001b[24m322       153 EV        \u001b[4m5\u001b[24m311\n",
       "\u001b[38;5;246m# ℹ 63 more rows\u001b[39m\n",
       "\u001b[38;5;246m# ℹ 8 more variables: tailnum <chr>, origin <chr>, dest <chr>, air_time <dbl>, distance <dbl>,\u001b[39m\n",
       "\u001b[38;5;246m#   hour <dbl>, minute <dbl>, time_hour <dttm>\u001b[39m\n",
       "\u001b[38;5;246m# ℹ Use `print(n = ...)` to see more rows\u001b[39m"
      ]
     },
     "execution_count": null,
     "metadata": {},
     "output_type": "execute_result"
    }
   ],
   "source": [
    "flights |> \n",
    "  filter(dep_time %in% c(7, 8, 9))"
   ]
  },
  {
   "cell_type": "code",
   "execution_count": 28,
   "metadata": {
    "vscode": {
     "languageId": "r"
    }
   },
   "outputs": [
    {
     "data": {
      "text/plain": [
       "\u001b[38;5;246m# A tibble: 29 × 19\u001b[39m\n",
       "    year month   day dep_time sched_dep_time dep_delay arr_time sched_arr_time arr_delay carrier flight\n",
       "   \u001b[3m\u001b[38;5;246m<int>\u001b[39m\u001b[23m \u001b[3m\u001b[38;5;246m<int>\u001b[39m\u001b[23m \u001b[3m\u001b[38;5;246m<int>\u001b[39m\u001b[23m    \u001b[3m\u001b[38;5;246m<int>\u001b[39m\u001b[23m          \u001b[3m\u001b[38;5;246m<int>\u001b[39m\u001b[23m     \u001b[3m\u001b[38;5;246m<dbl>\u001b[39m\u001b[23m    \u001b[3m\u001b[38;5;246m<int>\u001b[39m\u001b[23m          \u001b[3m\u001b[38;5;246m<int>\u001b[39m\u001b[23m     \u001b[3m\u001b[38;5;246m<dbl>\u001b[39m\u001b[23m \u001b[3m\u001b[38;5;246m<chr>\u001b[39m\u001b[23m    \u001b[3m\u001b[38;5;246m<int>\u001b[39m\u001b[23m\n",
       "\u001b[38;5;250m 1\u001b[39m  \u001b[4m2\u001b[24m013     1    27     \u001b[4m1\u001b[24m419           \u001b[4m1\u001b[24m420        -\u001b[31m1\u001b[39m     \u001b[4m1\u001b[24m754           \u001b[4m1\u001b[24m550       124 MQ        \u001b[4m3\u001b[24m728\n",
       "\u001b[38;5;250m 2\u001b[39m  \u001b[4m2\u001b[24m013    10     7     \u001b[4m1\u001b[24m350           \u001b[4m1\u001b[24m350         0     \u001b[4m1\u001b[24m736           \u001b[4m1\u001b[24m526       130 EV        \u001b[4m5\u001b[24m181\n",
       "\u001b[38;5;250m 3\u001b[39m  \u001b[4m2\u001b[24m013    10     7     \u001b[4m1\u001b[24m357           \u001b[4m1\u001b[24m359        -\u001b[31m2\u001b[39m     \u001b[4m1\u001b[24m858           \u001b[4m1\u001b[24m654       124 AA        \u001b[4m1\u001b[24m151\n",
       "\u001b[38;5;250m 4\u001b[39m  \u001b[4m2\u001b[24m013    10    16      657            700        -\u001b[31m3\u001b[39m     \u001b[4m1\u001b[24m258           \u001b[4m1\u001b[24m056       122 B6           3\n",
       "\u001b[38;5;250m 5\u001b[39m  \u001b[4m2\u001b[24m013    11     1      658            700        -\u001b[31m2\u001b[39m     \u001b[4m1\u001b[24m329           \u001b[4m1\u001b[24m015       194 VX         399\n",
       "\u001b[38;5;250m 6\u001b[39m  \u001b[4m2\u001b[24m013     3    18     \u001b[4m1\u001b[24m844           \u001b[4m1\u001b[24m847        -\u001b[31m3\u001b[39m       39           \u001b[4m2\u001b[24m219       140 UA         389\n",
       "\u001b[38;5;250m 7\u001b[39m  \u001b[4m2\u001b[24m013     4    17     \u001b[4m1\u001b[24m635           \u001b[4m1\u001b[24m640        -\u001b[31m5\u001b[39m     \u001b[4m2\u001b[24m049           \u001b[4m1\u001b[24m845       124 MQ        \u001b[4m4\u001b[24m540\n",
       "\u001b[38;5;250m 8\u001b[39m  \u001b[4m2\u001b[24m013     4    18      558            600        -\u001b[31m2\u001b[39m     \u001b[4m1\u001b[24m149            850       179 AA         707\n",
       "\u001b[38;5;250m 9\u001b[39m  \u001b[4m2\u001b[24m013     4    18      655            700        -\u001b[31m5\u001b[39m     \u001b[4m1\u001b[24m213            950       143 AA        \u001b[4m2\u001b[24m083\n",
       "\u001b[38;5;250m10\u001b[39m  \u001b[4m2\u001b[24m013     5    22     \u001b[4m1\u001b[24m827           \u001b[4m1\u001b[24m830        -\u001b[31m3\u001b[39m     \u001b[4m2\u001b[24m217           \u001b[4m2\u001b[24m010       127 MQ        \u001b[4m4\u001b[24m674\n",
       "\u001b[38;5;246m# ℹ 19 more rows\u001b[39m\n",
       "\u001b[38;5;246m# ℹ 8 more variables: tailnum <chr>, origin <chr>, dest <chr>, air_time <dbl>, distance <dbl>,\u001b[39m\n",
       "\u001b[38;5;246m#   hour <dbl>, minute <dbl>, time_hour <dttm>\u001b[39m\n",
       "\u001b[38;5;246m# ℹ Use `print(n = ...)` to see more rows\u001b[39m"
      ]
     },
     "execution_count": null,
     "metadata": {},
     "output_type": "execute_result"
    }
   ],
   "source": [
    "flights |> \n",
    "  filter(arr_delay>120 & dep_delay<=0)"
   ]
  },
  {
   "cell_type": "code",
   "execution_count": 27,
   "metadata": {
    "vscode": {
     "languageId": "r"
    }
   },
   "outputs": [
    {
     "data": {
      "text/plain": [
       "\u001b[38;5;246m# A tibble: 1,844 × 19\u001b[39m\n",
       "    year month   day dep_time sched_dep_time dep_delay arr_time sched_arr_time arr_delay carrier flight\n",
       "   \u001b[3m\u001b[38;5;246m<int>\u001b[39m\u001b[23m \u001b[3m\u001b[38;5;246m<int>\u001b[39m\u001b[23m \u001b[3m\u001b[38;5;246m<int>\u001b[39m\u001b[23m    \u001b[3m\u001b[38;5;246m<int>\u001b[39m\u001b[23m          \u001b[3m\u001b[38;5;246m<int>\u001b[39m\u001b[23m     \u001b[3m\u001b[38;5;246m<dbl>\u001b[39m\u001b[23m    \u001b[3m\u001b[38;5;246m<int>\u001b[39m\u001b[23m          \u001b[3m\u001b[38;5;246m<int>\u001b[39m\u001b[23m     \u001b[3m\u001b[38;5;246m<dbl>\u001b[39m\u001b[23m \u001b[3m\u001b[38;5;246m<chr>\u001b[39m\u001b[23m    \u001b[3m\u001b[38;5;246m<int>\u001b[39m\u001b[23m\n",
       "\u001b[38;5;250m 1\u001b[39m  \u001b[4m2\u001b[24m013     1     1     \u001b[4m2\u001b[24m205           \u001b[4m1\u001b[24m720       285       46           \u001b[4m2\u001b[24m040       246 AA        \u001b[4m1\u001b[24m999\n",
       "\u001b[38;5;250m 2\u001b[39m  \u001b[4m2\u001b[24m013     1     1     \u001b[4m2\u001b[24m326           \u001b[4m2\u001b[24m130       116      131             18        73 B6         199\n",
       "\u001b[38;5;250m 3\u001b[39m  \u001b[4m2\u001b[24m013     1     3     \u001b[4m1\u001b[24m503           \u001b[4m1\u001b[24m221       162     \u001b[4m1\u001b[24m803           \u001b[4m1\u001b[24m555       128 UA         551\n",
       "\u001b[38;5;250m 4\u001b[39m  \u001b[4m2\u001b[24m013     1     3     \u001b[4m1\u001b[24m839           \u001b[4m1\u001b[24m700        99     \u001b[4m2\u001b[24m056           \u001b[4m1\u001b[24m950        66 AA         575\n",
       "\u001b[38;5;250m 5\u001b[39m  \u001b[4m2\u001b[24m013     1     3     \u001b[4m1\u001b[24m850           \u001b[4m1\u001b[24m745        65     \u001b[4m2\u001b[24m148           \u001b[4m2\u001b[24m120        28 AA         177\n",
       "\u001b[38;5;250m 6\u001b[39m  \u001b[4m2\u001b[24m013     1     3     \u001b[4m1\u001b[24m941           \u001b[4m1\u001b[24m759       102     \u001b[4m2\u001b[24m246           \u001b[4m2\u001b[24m139        67 UA         979\n",
       "\u001b[38;5;250m 7\u001b[39m  \u001b[4m2\u001b[24m013     1     3     \u001b[4m1\u001b[24m950           \u001b[4m1\u001b[24m845        65     \u001b[4m2\u001b[24m228           \u001b[4m2\u001b[24m227         1 B6          91\n",
       "\u001b[38;5;250m 8\u001b[39m  \u001b[4m2\u001b[24m013     1     3     \u001b[4m2\u001b[24m015           \u001b[4m1\u001b[24m915        60     \u001b[4m2\u001b[24m135           \u001b[4m2\u001b[24m111        24 9E        \u001b[4m3\u001b[24m525\n",
       "\u001b[38;5;250m 9\u001b[39m  \u001b[4m2\u001b[24m013     1     3     \u001b[4m2\u001b[24m257           \u001b[4m2\u001b[24m000       177       45           \u001b[4m2\u001b[24m224       141 9E        \u001b[4m3\u001b[24m439\n",
       "\u001b[38;5;250m10\u001b[39m  \u001b[4m2\u001b[24m013     1     4     \u001b[4m1\u001b[24m917           \u001b[4m1\u001b[24m700       137     \u001b[4m2\u001b[24m135           \u001b[4m1\u001b[24m950       105 AA         575\n",
       "\u001b[38;5;246m# ℹ 1,834 more rows\u001b[39m\n",
       "\u001b[38;5;246m# ℹ 8 more variables: tailnum <chr>, origin <chr>, dest <chr>, air_time <dbl>, distance <dbl>,\u001b[39m\n",
       "\u001b[38;5;246m#   hour <dbl>, minute <dbl>, time_hour <dttm>\u001b[39m\n",
       "\u001b[38;5;246m# ℹ Use `print(n = ...)` to see more rows\u001b[39m"
      ]
     },
     "execution_count": null,
     "metadata": {},
     "output_type": "execute_result"
    }
   ],
   "source": [
    "flights |> \n",
    "  filter(dep_delay>=60 & dep_delay-arr_delay>30)"
   ]
  },
  {
   "cell_type": "code",
   "execution_count": 30,
   "metadata": {
    "vscode": {
     "languageId": "r"
    }
   },
   "outputs": [
    {
     "data": {
      "text/plain": [
       "\u001b[38;5;246m# A tibble: 336,776 × 19\u001b[39m\n",
       "    year month   day dep_time sched_dep_time dep_delay arr_time sched_arr_time arr_delay carrier flight\n",
       "   \u001b[3m\u001b[38;5;246m<int>\u001b[39m\u001b[23m \u001b[3m\u001b[38;5;246m<int>\u001b[39m\u001b[23m \u001b[3m\u001b[38;5;246m<int>\u001b[39m\u001b[23m    \u001b[3m\u001b[38;5;246m<int>\u001b[39m\u001b[23m          \u001b[3m\u001b[38;5;246m<int>\u001b[39m\u001b[23m     \u001b[3m\u001b[38;5;246m<dbl>\u001b[39m\u001b[23m    \u001b[3m\u001b[38;5;246m<int>\u001b[39m\u001b[23m          \u001b[3m\u001b[38;5;246m<int>\u001b[39m\u001b[23m     \u001b[3m\u001b[38;5;246m<dbl>\u001b[39m\u001b[23m \u001b[3m\u001b[38;5;246m<chr>\u001b[39m\u001b[23m    \u001b[3m\u001b[38;5;246m<int>\u001b[39m\u001b[23m\n",
       "\u001b[38;5;250m 1\u001b[39m  \u001b[4m2\u001b[24m013     1     9      641            900      \u001b[4m1\u001b[24m301     \u001b[4m1\u001b[24m242           \u001b[4m1\u001b[24m530      \u001b[4m1\u001b[24m272 HA          51\n",
       "\u001b[38;5;250m 2\u001b[39m  \u001b[4m2\u001b[24m013     6    15     \u001b[4m1\u001b[24m432           \u001b[4m1\u001b[24m935      \u001b[4m1\u001b[24m137     \u001b[4m1\u001b[24m607           \u001b[4m2\u001b[24m120      \u001b[4m1\u001b[24m127 MQ        \u001b[4m3\u001b[24m535\n",
       "\u001b[38;5;250m 3\u001b[39m  \u001b[4m2\u001b[24m013     1    10     \u001b[4m1\u001b[24m121           \u001b[4m1\u001b[24m635      \u001b[4m1\u001b[24m126     \u001b[4m1\u001b[24m239           \u001b[4m1\u001b[24m810      \u001b[4m1\u001b[24m109 MQ        \u001b[4m3\u001b[24m695\n",
       "\u001b[38;5;250m 4\u001b[39m  \u001b[4m2\u001b[24m013     9    20     \u001b[4m1\u001b[24m139           \u001b[4m1\u001b[24m845      \u001b[4m1\u001b[24m014     \u001b[4m1\u001b[24m457           \u001b[4m2\u001b[24m210      \u001b[4m1\u001b[24m007 AA         177\n",
       "\u001b[38;5;250m 5\u001b[39m  \u001b[4m2\u001b[24m013     7    22      845           \u001b[4m1\u001b[24m600      \u001b[4m1\u001b[24m005     \u001b[4m1\u001b[24m044           \u001b[4m1\u001b[24m815       989 MQ        \u001b[4m3\u001b[24m075\n",
       "\u001b[38;5;250m 6\u001b[39m  \u001b[4m2\u001b[24m013     4    10     \u001b[4m1\u001b[24m100           \u001b[4m1\u001b[24m900       960     \u001b[4m1\u001b[24m342           \u001b[4m2\u001b[24m211       931 DL        \u001b[4m2\u001b[24m391\n",
       "\u001b[38;5;250m 7\u001b[39m  \u001b[4m2\u001b[24m013     3    17     \u001b[4m2\u001b[24m321            810       911      135           \u001b[4m1\u001b[24m020       915 DL        \u001b[4m2\u001b[24m119\n",
       "\u001b[38;5;250m 8\u001b[39m  \u001b[4m2\u001b[24m013     6    27      959           \u001b[4m1\u001b[24m900       899     \u001b[4m1\u001b[24m236           \u001b[4m2\u001b[24m226       850 DL        \u001b[4m2\u001b[24m007\n",
       "\u001b[38;5;250m 9\u001b[39m  \u001b[4m2\u001b[24m013     7    22     \u001b[4m2\u001b[24m257            759       898      121           \u001b[4m1\u001b[24m026       895 DL        \u001b[4m2\u001b[24m047\n",
       "\u001b[38;5;250m10\u001b[39m  \u001b[4m2\u001b[24m013    12     5      756           \u001b[4m1\u001b[24m700       896     \u001b[4m1\u001b[24m058           \u001b[4m2\u001b[24m020       878 AA         172\n",
       "\u001b[38;5;246m# ℹ 336,766 more rows\u001b[39m\n",
       "\u001b[38;5;246m# ℹ 8 more variables: tailnum <chr>, origin <chr>, dest <chr>, air_time <dbl>, distance <dbl>,\u001b[39m\n",
       "\u001b[38;5;246m#   hour <dbl>, minute <dbl>, time_hour <dttm>\u001b[39m\n",
       "\u001b[38;5;246m# ℹ Use `print(n = ...)` to see more rows\u001b[39m"
      ]
     },
     "execution_count": null,
     "metadata": {},
     "output_type": "execute_result"
    }
   ],
   "source": [
    "flights |> \n",
    "  arrange(desc(dep_delay))"
   ]
  },
  {
   "cell_type": "code",
   "execution_count": 31,
   "metadata": {
    "vscode": {
     "languageId": "r"
    }
   },
   "outputs": [
    {
     "data": {
      "text/plain": [
       "\u001b[38;5;246m# A tibble: 336,776 × 19\u001b[39m\n",
       "    year month   day dep_time sched_dep_time dep_delay arr_time sched_arr_time arr_delay carrier flight\n",
       "   \u001b[3m\u001b[38;5;246m<int>\u001b[39m\u001b[23m \u001b[3m\u001b[38;5;246m<int>\u001b[39m\u001b[23m \u001b[3m\u001b[38;5;246m<int>\u001b[39m\u001b[23m    \u001b[3m\u001b[38;5;246m<int>\u001b[39m\u001b[23m          \u001b[3m\u001b[38;5;246m<int>\u001b[39m\u001b[23m     \u001b[3m\u001b[38;5;246m<dbl>\u001b[39m\u001b[23m    \u001b[3m\u001b[38;5;246m<int>\u001b[39m\u001b[23m          \u001b[3m\u001b[38;5;246m<int>\u001b[39m\u001b[23m     \u001b[3m\u001b[38;5;246m<dbl>\u001b[39m\u001b[23m \u001b[3m\u001b[38;5;246m<chr>\u001b[39m\u001b[23m    \u001b[3m\u001b[38;5;246m<int>\u001b[39m\u001b[23m\n",
       "\u001b[38;5;250m 1\u001b[39m  \u001b[4m2\u001b[24m013     1    13        1           \u001b[4m2\u001b[24m249        72      108           \u001b[4m2\u001b[24m357        71 B6          22\n",
       "\u001b[38;5;250m 2\u001b[39m  \u001b[4m2\u001b[24m013     1    31        1           \u001b[4m2\u001b[24m100       181      124           \u001b[4m2\u001b[24m225       179 WN         530\n",
       "\u001b[38;5;250m 3\u001b[39m  \u001b[4m2\u001b[24m013    11    13        1           \u001b[4m2\u001b[24m359         2      442            440         2 B6        \u001b[4m1\u001b[24m503\n",
       "\u001b[38;5;250m 4\u001b[39m  \u001b[4m2\u001b[24m013    12    16        1           \u001b[4m2\u001b[24m359         2      447            437        10 B6         839\n",
       "\u001b[38;5;250m 5\u001b[39m  \u001b[4m2\u001b[24m013    12    20        1           \u001b[4m2\u001b[24m359         2      430            440       -\u001b[31m10\u001b[39m B6        \u001b[4m1\u001b[24m503\n",
       "\u001b[38;5;250m 6\u001b[39m  \u001b[4m2\u001b[24m013    12    26        1           \u001b[4m2\u001b[24m359         2      437            440        -\u001b[31m3\u001b[39m B6        \u001b[4m1\u001b[24m503\n",
       "\u001b[38;5;250m 7\u001b[39m  \u001b[4m2\u001b[24m013    12    30        1           \u001b[4m2\u001b[24m359         2      441            437         4 B6         839\n",
       "\u001b[38;5;250m 8\u001b[39m  \u001b[4m2\u001b[24m013     2    11        1           \u001b[4m2\u001b[24m100       181      111           \u001b[4m2\u001b[24m225       166 WN         530\n",
       "\u001b[38;5;250m 9\u001b[39m  \u001b[4m2\u001b[24m013     2    24        1           \u001b[4m2\u001b[24m245        76      121           \u001b[4m2\u001b[24m354        87 B6         608\n",
       "\u001b[38;5;250m10\u001b[39m  \u001b[4m2\u001b[24m013     3     8        1           \u001b[4m2\u001b[24m355         6      431            440        -\u001b[31m9\u001b[39m B6         739\n",
       "\u001b[38;5;246m# ℹ 336,766 more rows\u001b[39m\n",
       "\u001b[38;5;246m# ℹ 8 more variables: tailnum <chr>, origin <chr>, dest <chr>, air_time <dbl>, distance <dbl>,\u001b[39m\n",
       "\u001b[38;5;246m#   hour <dbl>, minute <dbl>, time_hour <dttm>\u001b[39m\n",
       "\u001b[38;5;246m# ℹ Use `print(n = ...)` to see more rows\u001b[39m"
      ]
     },
     "execution_count": null,
     "metadata": {},
     "output_type": "execute_result"
    }
   ],
   "source": [
    "flights |> \n",
    "  arrange(dep_time)"
   ]
  },
  {
   "cell_type": "code",
   "execution_count": 32,
   "metadata": {
    "vscode": {
     "languageId": "r"
    }
   },
   "outputs": [
    {
     "data": {
      "text/plain": [
       "\u001b[38;5;246m# A tibble: 336,776 × 19\u001b[39m\n",
       "    year month   day dep_time sched_dep_time dep_delay arr_time sched_arr_time arr_delay carrier flight\n",
       "   \u001b[3m\u001b[38;5;246m<int>\u001b[39m\u001b[23m \u001b[3m\u001b[38;5;246m<int>\u001b[39m\u001b[23m \u001b[3m\u001b[38;5;246m<int>\u001b[39m\u001b[23m    \u001b[3m\u001b[38;5;246m<int>\u001b[39m\u001b[23m          \u001b[3m\u001b[38;5;246m<int>\u001b[39m\u001b[23m     \u001b[3m\u001b[38;5;246m<dbl>\u001b[39m\u001b[23m    \u001b[3m\u001b[38;5;246m<int>\u001b[39m\u001b[23m          \u001b[3m\u001b[38;5;246m<int>\u001b[39m\u001b[23m     \u001b[3m\u001b[38;5;246m<dbl>\u001b[39m\u001b[23m \u001b[3m\u001b[38;5;246m<chr>\u001b[39m\u001b[23m    \u001b[3m\u001b[38;5;246m<int>\u001b[39m\u001b[23m\n",
       "\u001b[38;5;250m 1\u001b[39m  \u001b[4m2\u001b[24m013     7    17     \u001b[4m2\u001b[24m400           \u001b[4m2\u001b[24m142       138       54           \u001b[4m2\u001b[24m259       115 EV        \u001b[4m3\u001b[24m832\n",
       "\u001b[38;5;250m 2\u001b[39m  \u001b[4m2\u001b[24m013    12     9     \u001b[4m2\u001b[24m400           \u001b[4m2\u001b[24m250        70       59           \u001b[4m2\u001b[24m356        63 B6        \u001b[4m1\u001b[24m816\n",
       "\u001b[38;5;250m 3\u001b[39m  \u001b[4m2\u001b[24m013     6    12     \u001b[4m2\u001b[24m338           \u001b[4m2\u001b[24m129       129       17           \u001b[4m2\u001b[24m235       102 EV        \u001b[4m4\u001b[24m276\n",
       "\u001b[38;5;250m 4\u001b[39m  \u001b[4m2\u001b[24m013    12    29     \u001b[4m2\u001b[24m332           \u001b[4m2\u001b[24m155        97       14           \u001b[4m2\u001b[24m300        74 EV        \u001b[4m4\u001b[24m682\n",
       "\u001b[38;5;250m 5\u001b[39m  \u001b[4m2\u001b[24m013    11     6     \u001b[4m2\u001b[24m335           \u001b[4m2\u001b[24m215        80       18           \u001b[4m2\u001b[24m317        61 EV        \u001b[4m4\u001b[24m233\n",
       "\u001b[38;5;250m 6\u001b[39m  \u001b[4m2\u001b[24m013     2    25     \u001b[4m2\u001b[24m347           \u001b[4m2\u001b[24m145       122       30           \u001b[4m2\u001b[24m239       111 EV        \u001b[4m4\u001b[24m378\n",
       "\u001b[38;5;250m 7\u001b[39m  \u001b[4m2\u001b[24m013     8    13     \u001b[4m2\u001b[24m351           \u001b[4m2\u001b[24m152       119       35           \u001b[4m2\u001b[24m258        97 EV        \u001b[4m4\u001b[24m276\n",
       "\u001b[38;5;250m 8\u001b[39m  \u001b[4m2\u001b[24m013    10    11     \u001b[4m2\u001b[24m342           \u001b[4m2\u001b[24m030       192       27           \u001b[4m2\u001b[24m205       142 WN        \u001b[4m2\u001b[24m520\n",
       "\u001b[38;5;250m 9\u001b[39m  \u001b[4m2\u001b[24m013     2    26     \u001b[4m2\u001b[24m356           \u001b[4m2\u001b[24m000       236       41           \u001b[4m2\u001b[24m104       217 EV        \u001b[4m4\u001b[24m162\n",
       "\u001b[38;5;250m10\u001b[39m  \u001b[4m2\u001b[24m013     1    24     \u001b[4m2\u001b[24m342           \u001b[4m2\u001b[24m159       103       28           \u001b[4m2\u001b[24m300        88 EV        \u001b[4m4\u001b[24m519\n",
       "\u001b[38;5;246m# ℹ 336,766 more rows\u001b[39m\n",
       "\u001b[38;5;246m# ℹ 8 more variables: tailnum <chr>, origin <chr>, dest <chr>, air_time <dbl>, distance <dbl>,\u001b[39m\n",
       "\u001b[38;5;246m#   hour <dbl>, minute <dbl>, time_hour <dttm>\u001b[39m\n",
       "\u001b[38;5;246m# ℹ Use `print(n = ...)` to see more rows\u001b[39m"
      ]
     },
     "execution_count": null,
     "metadata": {},
     "output_type": "execute_result"
    }
   ],
   "source": [
    "flights |> \n",
    "  arrange(arr_time-dep_time)"
   ]
  },
  {
   "cell_type": "code",
   "execution_count": 33,
   "metadata": {
    "vscode": {
     "languageId": "r"
    }
   },
   "outputs": [
    {
     "data": {
      "text/plain": [
       "\u001b[38;5;246m# A tibble: 365 × 2\u001b[39m\n",
       "   month   day\n",
       "   \u001b[3m\u001b[38;5;246m<int>\u001b[39m\u001b[23m \u001b[3m\u001b[38;5;246m<int>\u001b[39m\u001b[23m\n",
       "\u001b[38;5;250m 1\u001b[39m     1     1\n",
       "\u001b[38;5;250m 2\u001b[39m     1     2\n",
       "\u001b[38;5;250m 3\u001b[39m     1     3\n",
       "\u001b[38;5;250m 4\u001b[39m     1     4\n",
       "\u001b[38;5;250m 5\u001b[39m     1     5\n",
       "\u001b[38;5;250m 6\u001b[39m     1     6\n",
       "\u001b[38;5;250m 7\u001b[39m     1     7\n",
       "\u001b[38;5;250m 8\u001b[39m     1     8\n",
       "\u001b[38;5;250m 9\u001b[39m     1     9\n",
       "\u001b[38;5;250m10\u001b[39m     1    10\n",
       "\u001b[38;5;246m# ℹ 355 more rows\u001b[39m\n",
       "\u001b[38;5;246m# ℹ Use `print(n = ...)` to see more rows\u001b[39m"
      ]
     },
     "execution_count": null,
     "metadata": {},
     "output_type": "execute_result"
    }
   ],
   "source": [
    "flights |> \n",
    "  filter(year == 2013) |> \n",
    "  distinct(month, day)"
   ]
  },
  {
   "cell_type": "code",
   "execution_count": 34,
   "metadata": {
    "vscode": {
     "languageId": "r"
    }
   },
   "outputs": [
    {
     "name": "stdout",
     "output_type": "stream",
     "text": [
      "Rows: 336,776\n",
      "Columns: 19\n",
      "$ year           \u001b[3m\u001b[38;5;246m<int>\u001b[39m\u001b[23m 2013, 2013, 2013, 2013, 2013, 2013, 2013, 2013, 2013, 2013, 2013, 2013, 2013, 201…\n",
      "$ month          \u001b[3m\u001b[38;5;246m<int>\u001b[39m\u001b[23m 1, 1, 1, 1, 1, 1, 1, 1, 1, 1, 1, 1, 1, 1, 1, 1, 1, 1, 1, 1, 1, 1, 1, 1, 1, 1, 1, …\n",
      "$ day            \u001b[3m\u001b[38;5;246m<int>\u001b[39m\u001b[23m 1, 1, 1, 1, 1, 1, 1, 1, 1, 1, 1, 1, 1, 1, 1, 1, 1, 1, 1, 1, 1, 1, 1, 1, 1, 1, 1, …\n",
      "$ dep_time       \u001b[3m\u001b[38;5;246m<int>\u001b[39m\u001b[23m 517, 533, 542, 544, 554, 554, 555, 557, 557, 558, 558, 558, 558, 558, 559, 559, 5…\n",
      "$ sched_dep_time \u001b[3m\u001b[38;5;246m<int>\u001b[39m\u001b[23m 515, 529, 540, 545, 600, 558, 600, 600, 600, 600, 600, 600, 600, 600, 600, 559, 6…\n",
      "$ dep_delay      \u001b[3m\u001b[38;5;246m<dbl>\u001b[39m\u001b[23m 2, 4, 2, -1, -6, -4, -5, -3, -3, -2, -2, -2, -2, -2, -1, 0, -1, 0, 0, 1, -8, -3, …\n",
      "$ arr_time       \u001b[3m\u001b[38;5;246m<int>\u001b[39m\u001b[23m 830, 850, 923, 1004, 812, 740, 913, 709, 838, 753, 849, 853, 924, 923, 941, 702, …\n",
      "$ sched_arr_time \u001b[3m\u001b[38;5;246m<int>\u001b[39m\u001b[23m 819, 830, 850, 1022, 837, 728, 854, 723, 846, 745, 851, 856, 917, 937, 910, 706, …\n",
      "$ arr_delay      \u001b[3m\u001b[38;5;246m<dbl>\u001b[39m\u001b[23m 11, 20, 33, -18, -25, 12, 19, -14, -8, 8, -2, -3, 7, -14, 31, -4, -8, -7, 12, -6,…\n",
      "$ carrier        \u001b[3m\u001b[38;5;246m<chr>\u001b[39m\u001b[23m \"UA\", \"UA\", \"AA\", \"B6\", \"DL\", \"UA\", \"B6\", \"EV\", \"B6\", \"AA\", \"B6\", \"B6\", \"UA\", \"UA…\n",
      "$ flight         \u001b[3m\u001b[38;5;246m<int>\u001b[39m\u001b[23m 1545, 1714, 1141, 725, 461, 1696, 507, 5708, 79, 301, 49, 71, 194, 1124, 707, 180…\n",
      "$ tailnum        \u001b[3m\u001b[38;5;246m<chr>\u001b[39m\u001b[23m \"N14228\", \"N24211\", \"N619AA\", \"N804JB\", \"N668DN\", \"N39463\", \"N516JB\", \"N829AS\", \"…\n",
      "$ origin         \u001b[3m\u001b[38;5;246m<chr>\u001b[39m\u001b[23m \"EWR\", \"LGA\", \"JFK\", \"JFK\", \"LGA\", \"EWR\", \"EWR\", \"LGA\", \"JFK\", \"LGA\", \"JFK\", \"JFK…\n",
      "$ dest           \u001b[3m\u001b[38;5;246m<chr>\u001b[39m\u001b[23m \"IAH\", \"IAH\", \"MIA\", \"BQN\", \"ATL\", \"ORD\", \"FLL\", \"IAD\", \"MCO\", \"ORD\", \"PBI\", \"TPA…\n",
      "$ air_time       \u001b[3m\u001b[38;5;246m<dbl>\u001b[39m\u001b[23m 227, 227, 160, 183, 116, 150, 158, 53, 140, 138, 149, 158, 345, 361, 257, 44, 337…\n",
      "$ distance       \u001b[3m\u001b[38;5;246m<dbl>\u001b[39m\u001b[23m 1400, 1416, 1089, 1576, 762, 719, 1065, 229, 944, 733, 1028, 1005, 2475, 2565, 13…\n",
      "$ hour           \u001b[3m\u001b[38;5;246m<dbl>\u001b[39m\u001b[23m 5, 5, 5, 5, 6, 5, 6, 6, 6, 6, 6, 6, 6, 6, 6, 5, 6, 6, 6, 6, 6, 6, 6, 6, 6, 6, 6, …\n",
      "$ minute         \u001b[3m\u001b[38;5;246m<dbl>\u001b[39m\u001b[23m 15, 29, 40, 45, 0, 58, 0, 0, 0, 0, 0, 0, 0, 0, 0, 59, 0, 0, 0, 0, 10, 5, 10, 10, …\n",
      "$ time_hour      \u001b[3m\u001b[38;5;246m<dttm>\u001b[39m\u001b[23m 2013-01-01 05:00:00, 2013-01-01 05:00:00, 2013-01-01 05:00:00, 2013-01-01 05:00:…\n"
     ]
    }
   ],
   "source": [
    "glimpse(flights)"
   ]
  },
  {
   "cell_type": "code",
   "execution_count": 36,
   "metadata": {
    "vscode": {
     "languageId": "r"
    }
   },
   "outputs": [
    {
     "name": "stdout",
     "output_type": "stream",
     "text": [
      "Rows: 336,776\n",
      "Columns: 19\n",
      "$ year           \u001b[3m\u001b[38;5;246m<int>\u001b[39m\u001b[23m 2013, 2013, 2013, 2013, 2013, 2013, 2013, 2013, 2013, 2013, 2013, 2013, 2013, 201…\n",
      "$ month          \u001b[3m\u001b[38;5;246m<int>\u001b[39m\u001b[23m 7, 1, 1, 1, 1, 1, 1, 1, 1, 1, 1, 1, 1, 1, 1, 1, 1, 1, 1, 1, 1, 1, 1, 1, 1, 1, 1, …\n",
      "$ day            \u001b[3m\u001b[38;5;246m<int>\u001b[39m\u001b[23m 27, 3, 4, 4, 4, 5, 6, 7, 8, 9, 10, 11, 12, 13, 14, 15, 16, 17, 18, 19, 20, 21, 22…\n",
      "$ dep_time       \u001b[3m\u001b[38;5;246m<int>\u001b[39m\u001b[23m \u001b[31mNA\u001b[39m, 2127, 1240, 1829, 2128, 1155, 2125, 2124, 2127, 2126, 2133, 2135, 1613, 2243,…\n",
      "$ sched_dep_time \u001b[3m\u001b[38;5;246m<int>\u001b[39m\u001b[23m 106, 2129, 1200, 1615, 2129, 1200, 2129, 2129, 2130, 2129, 2129, 2129, 1617, 2129…\n",
      "$ dep_delay      \u001b[3m\u001b[38;5;246m<dbl>\u001b[39m\u001b[23m \u001b[31mNA\u001b[39m, -2, 40, 134, -1, -5, -4, -5, -3, -3, 4, 6, -4, 74, -1, -8, -4, 109, 62, 0, 50…\n",
      "$ arr_time       \u001b[3m\u001b[38;5;246m<int>\u001b[39m\u001b[23m \u001b[31mNA\u001b[39m, 2222, 1333, 1937, 2218, 1241, 2224, 2212, 2304, 2217, 2223, 2233, 1708, 2400,…\n",
      "$ sched_arr_time \u001b[3m\u001b[38;5;246m<int>\u001b[39m\u001b[23m 245, 2224, 1306, 1721, 2224, 1306, 2224, 2224, 2225, 2224, 2224, 2224, 1722, 2224…\n",
      "$ arr_delay      \u001b[3m\u001b[38;5;246m<dbl>\u001b[39m\u001b[23m \u001b[31mNA\u001b[39m, -2, 27, 136, -6, -25, 0, -12, 39, -7, -1, 9, -14, 96, -9, -18, -10, 94, 56, 0…\n",
      "$ carrier        \u001b[3m\u001b[38;5;246m<chr>\u001b[39m\u001b[23m \"US\", \"EV\", \"EV\", \"EV\", \"EV\", \"EV\", \"EV\", \"EV\", \"EV\", \"EV\", \"EV\", \"EV\", \"EV\", \"EV…\n",
      "$ flight         \u001b[3m\u001b[38;5;246m<int>\u001b[39m\u001b[23m 1632, 3833, 4193, 4502, 4645, 4193, 4619, 4619, 4619, 4619, 3271, 4619, 4616, 461…\n",
      "$ tailnum        \u001b[3m\u001b[38;5;246m<chr>\u001b[39m\u001b[23m \u001b[31mNA\u001b[39m, \"N13989\", \"N14972\", \"N15983\", \"N27962\", \"N14902\", \"N22909\", \"N33182\", \"N11194…\n",
      "$ origin         \u001b[3m\u001b[38;5;246m<chr>\u001b[39m\u001b[23m \"EWR\", \"EWR\", \"EWR\", \"EWR\", \"EWR\", \"EWR\", \"EWR\", \"EWR\", \"EWR\", \"EWR\", \"EWR\", \"EWR…\n",
      "$ dest           \u001b[3m\u001b[38;5;246m<chr>\u001b[39m\u001b[23m \"LGA\", \"PHL\", \"PHL\", \"PHL\", \"PHL\", \"PHL\", \"PHL\", \"PHL\", \"PHL\", \"PHL\", \"PHL\", \"PHL…\n",
      "$ air_time       \u001b[3m\u001b[38;5;246m<dbl>\u001b[39m\u001b[23m \u001b[31mNA\u001b[39m, 30, 30, 28, 32, 29, 22, 25, 30, 27, 30, 30, 36, 31, 25, 26, 31, 28, 31, 34, 3…\n",
      "$ distance       \u001b[3m\u001b[38;5;246m<dbl>\u001b[39m\u001b[23m 17, 80, 80, 80, 80, 80, 80, 80, 80, 80, 80, 80, 80, 80, 80, 80, 80, 80, 80, 80, 8…\n",
      "$ hour           \u001b[3m\u001b[38;5;246m<dbl>\u001b[39m\u001b[23m 1, 21, 12, 16, 21, 12, 21, 21, 21, 21, 21, 21, 16, 21, 21, 21, 21, 21, 21, 16, 21…\n",
      "$ minute         \u001b[3m\u001b[38;5;246m<dbl>\u001b[39m\u001b[23m 6, 29, 0, 15, 29, 0, 29, 29, 30, 29, 29, 29, 17, 29, 29, 30, 29, 29, 29, 17, 29, …\n",
      "$ time_hour      \u001b[3m\u001b[38;5;246m<dttm>\u001b[39m\u001b[23m 2013-07-27 01:00:00, 2013-01-03 21:00:00, 2013-01-04 12:00:00, 2013-01-04 16:00:…\n"
     ]
    }
   ],
   "source": [
    "flights |> \n",
    "  arrange(distance) |> \n",
    "  glimpse()"
   ]
  },
  {
   "cell_type": "markdown",
   "metadata": {},
   "source": [
    "## Columns"
   ]
  },
  {
   "cell_type": "code",
   "execution_count": 37,
   "metadata": {
    "vscode": {
     "languageId": "r"
    }
   },
   "outputs": [
    {
     "data": {
      "text/plain": [
       "\u001b[38;5;246m# A tibble: 336,776 × 21\u001b[39m\n",
       "    year month   day dep_time sched_dep_time dep_delay arr_time sched_arr_time arr_delay carrier flight\n",
       "   \u001b[3m\u001b[38;5;246m<int>\u001b[39m\u001b[23m \u001b[3m\u001b[38;5;246m<int>\u001b[39m\u001b[23m \u001b[3m\u001b[38;5;246m<int>\u001b[39m\u001b[23m    \u001b[3m\u001b[38;5;246m<int>\u001b[39m\u001b[23m          \u001b[3m\u001b[38;5;246m<int>\u001b[39m\u001b[23m     \u001b[3m\u001b[38;5;246m<dbl>\u001b[39m\u001b[23m    \u001b[3m\u001b[38;5;246m<int>\u001b[39m\u001b[23m          \u001b[3m\u001b[38;5;246m<int>\u001b[39m\u001b[23m     \u001b[3m\u001b[38;5;246m<dbl>\u001b[39m\u001b[23m \u001b[3m\u001b[38;5;246m<chr>\u001b[39m\u001b[23m    \u001b[3m\u001b[38;5;246m<int>\u001b[39m\u001b[23m\n",
       "\u001b[38;5;250m 1\u001b[39m  \u001b[4m2\u001b[24m013     1     1      517            515         2      830            819        11 UA        \u001b[4m1\u001b[24m545\n",
       "\u001b[38;5;250m 2\u001b[39m  \u001b[4m2\u001b[24m013     1     1      533            529         4      850            830        20 UA        \u001b[4m1\u001b[24m714\n",
       "\u001b[38;5;250m 3\u001b[39m  \u001b[4m2\u001b[24m013     1     1      542            540         2      923            850        33 AA        \u001b[4m1\u001b[24m141\n",
       "\u001b[38;5;250m 4\u001b[39m  \u001b[4m2\u001b[24m013     1     1      544            545        -\u001b[31m1\u001b[39m     \u001b[4m1\u001b[24m004           \u001b[4m1\u001b[24m022       -\u001b[31m18\u001b[39m B6         725\n",
       "\u001b[38;5;250m 5\u001b[39m  \u001b[4m2\u001b[24m013     1     1      554            600        -\u001b[31m6\u001b[39m      812            837       -\u001b[31m25\u001b[39m DL         461\n",
       "\u001b[38;5;250m 6\u001b[39m  \u001b[4m2\u001b[24m013     1     1      554            558        -\u001b[31m4\u001b[39m      740            728        12 UA        \u001b[4m1\u001b[24m696\n",
       "\u001b[38;5;250m 7\u001b[39m  \u001b[4m2\u001b[24m013     1     1      555            600        -\u001b[31m5\u001b[39m      913            854        19 B6         507\n",
       "\u001b[38;5;250m 8\u001b[39m  \u001b[4m2\u001b[24m013     1     1      557            600        -\u001b[31m3\u001b[39m      709            723       -\u001b[31m14\u001b[39m EV        \u001b[4m5\u001b[24m708\n",
       "\u001b[38;5;250m 9\u001b[39m  \u001b[4m2\u001b[24m013     1     1      557            600        -\u001b[31m3\u001b[39m      838            846        -\u001b[31m8\u001b[39m B6          79\n",
       "\u001b[38;5;250m10\u001b[39m  \u001b[4m2\u001b[24m013     1     1      558            600        -\u001b[31m2\u001b[39m      753            745         8 AA         301\n",
       "\u001b[38;5;246m# ℹ 336,766 more rows\u001b[39m\n",
       "\u001b[38;5;246m# ℹ 10 more variables: tailnum <chr>, origin <chr>, dest <chr>, air_time <dbl>, distance <dbl>,\u001b[39m\n",
       "\u001b[38;5;246m#   hour <dbl>, minute <dbl>, time_hour <dttm>, gain <dbl>, speed <dbl>\u001b[39m\n",
       "\u001b[38;5;246m# ℹ Use `print(n = ...)` to see more rows\u001b[39m"
      ]
     },
     "execution_count": null,
     "metadata": {},
     "output_type": "execute_result"
    }
   ],
   "source": [
    "flights |> \n",
    "  mutate(\n",
    "    gain = dep_delay-arr_delay,\n",
    "    speed = distance/air_time*60\n",
    "  )"
   ]
  },
  {
   "cell_type": "code",
   "execution_count": 39,
   "metadata": {
    "vscode": {
     "languageId": "r"
    }
   },
   "outputs": [
    {
     "data": {
      "text/plain": [
       "\u001b[38;5;246m# A tibble: 336,776 × 21\u001b[39m\n",
       "    gain speed  year month   day dep_time sched_dep_time dep_delay arr_time sched_arr_time arr_delay\n",
       "   \u001b[3m\u001b[38;5;246m<dbl>\u001b[39m\u001b[23m \u001b[3m\u001b[38;5;246m<dbl>\u001b[39m\u001b[23m \u001b[3m\u001b[38;5;246m<int>\u001b[39m\u001b[23m \u001b[3m\u001b[38;5;246m<int>\u001b[39m\u001b[23m \u001b[3m\u001b[38;5;246m<int>\u001b[39m\u001b[23m    \u001b[3m\u001b[38;5;246m<int>\u001b[39m\u001b[23m          \u001b[3m\u001b[38;5;246m<int>\u001b[39m\u001b[23m     \u001b[3m\u001b[38;5;246m<dbl>\u001b[39m\u001b[23m    \u001b[3m\u001b[38;5;246m<int>\u001b[39m\u001b[23m          \u001b[3m\u001b[38;5;246m<int>\u001b[39m\u001b[23m     \u001b[3m\u001b[38;5;246m<dbl>\u001b[39m\u001b[23m\n",
       "\u001b[38;5;250m 1\u001b[39m    -\u001b[31m9\u001b[39m  370.  \u001b[4m2\u001b[24m013     1     1      517            515         2      830            819        11\n",
       "\u001b[38;5;250m 2\u001b[39m   -\u001b[31m16\u001b[39m  374.  \u001b[4m2\u001b[24m013     1     1      533            529         4      850            830        20\n",
       "\u001b[38;5;250m 3\u001b[39m   -\u001b[31m31\u001b[39m  408.  \u001b[4m2\u001b[24m013     1     1      542            540         2      923            850        33\n",
       "\u001b[38;5;250m 4\u001b[39m    17  517.  \u001b[4m2\u001b[24m013     1     1      544            545        -\u001b[31m1\u001b[39m     \u001b[4m1\u001b[24m004           \u001b[4m1\u001b[24m022       -\u001b[31m18\u001b[39m\n",
       "\u001b[38;5;250m 5\u001b[39m    19  394.  \u001b[4m2\u001b[24m013     1     1      554            600        -\u001b[31m6\u001b[39m      812            837       -\u001b[31m25\u001b[39m\n",
       "\u001b[38;5;250m 6\u001b[39m   -\u001b[31m16\u001b[39m  288.  \u001b[4m2\u001b[24m013     1     1      554            558        -\u001b[31m4\u001b[39m      740            728        12\n",
       "\u001b[38;5;250m 7\u001b[39m   -\u001b[31m24\u001b[39m  404.  \u001b[4m2\u001b[24m013     1     1      555            600        -\u001b[31m5\u001b[39m      913            854        19\n",
       "\u001b[38;5;250m 8\u001b[39m    11  259.  \u001b[4m2\u001b[24m013     1     1      557            600        -\u001b[31m3\u001b[39m      709            723       -\u001b[31m14\u001b[39m\n",
       "\u001b[38;5;250m 9\u001b[39m     5  405.  \u001b[4m2\u001b[24m013     1     1      557            600        -\u001b[31m3\u001b[39m      838            846        -\u001b[31m8\u001b[39m\n",
       "\u001b[38;5;250m10\u001b[39m   -\u001b[31m10\u001b[39m  319.  \u001b[4m2\u001b[24m013     1     1      558            600        -\u001b[31m2\u001b[39m      753            745         8\n",
       "\u001b[38;5;246m# ℹ 336,766 more rows\u001b[39m\n",
       "\u001b[38;5;246m# ℹ 10 more variables: carrier <chr>, flight <int>, tailnum <chr>, origin <chr>, dest <chr>,\u001b[39m\n",
       "\u001b[38;5;246m#   air_time <dbl>, distance <dbl>, hour <dbl>, minute <dbl>, time_hour <dttm>\u001b[39m\n",
       "\u001b[38;5;246m# ℹ Use `print(n = ...)` to see more rows\u001b[39m"
      ]
     },
     "execution_count": null,
     "metadata": {},
     "output_type": "execute_result"
    }
   ],
   "source": [
    "flights |> \n",
    "  mutate(\n",
    "    gain = dep_delay-arr_delay,\n",
    "    speed = distance/air_time*60,\n",
    "    .before = 1\n",
    "  )"
   ]
  },
  {
   "cell_type": "code",
   "execution_count": 40,
   "metadata": {
    "vscode": {
     "languageId": "r"
    }
   },
   "outputs": [
    {
     "data": {
      "text/plain": [
       "\u001b[38;5;246m# A tibble: 336,776 × 21\u001b[39m\n",
       "    year month   day  gain speed dep_time sched_dep_time dep_delay arr_time sched_arr_time arr_delay\n",
       "   \u001b[3m\u001b[38;5;246m<int>\u001b[39m\u001b[23m \u001b[3m\u001b[38;5;246m<int>\u001b[39m\u001b[23m \u001b[3m\u001b[38;5;246m<int>\u001b[39m\u001b[23m \u001b[3m\u001b[38;5;246m<dbl>\u001b[39m\u001b[23m \u001b[3m\u001b[38;5;246m<dbl>\u001b[39m\u001b[23m    \u001b[3m\u001b[38;5;246m<int>\u001b[39m\u001b[23m          \u001b[3m\u001b[38;5;246m<int>\u001b[39m\u001b[23m     \u001b[3m\u001b[38;5;246m<dbl>\u001b[39m\u001b[23m    \u001b[3m\u001b[38;5;246m<int>\u001b[39m\u001b[23m          \u001b[3m\u001b[38;5;246m<int>\u001b[39m\u001b[23m     \u001b[3m\u001b[38;5;246m<dbl>\u001b[39m\u001b[23m\n",
       "\u001b[38;5;250m 1\u001b[39m  \u001b[4m2\u001b[24m013     1     1    -\u001b[31m9\u001b[39m  370.      517            515         2      830            819        11\n",
       "\u001b[38;5;250m 2\u001b[39m  \u001b[4m2\u001b[24m013     1     1   -\u001b[31m16\u001b[39m  374.      533            529         4      850            830        20\n",
       "\u001b[38;5;250m 3\u001b[39m  \u001b[4m2\u001b[24m013     1     1   -\u001b[31m31\u001b[39m  408.      542            540         2      923            850        33\n",
       "\u001b[38;5;250m 4\u001b[39m  \u001b[4m2\u001b[24m013     1     1    17  517.      544            545        -\u001b[31m1\u001b[39m     \u001b[4m1\u001b[24m004           \u001b[4m1\u001b[24m022       -\u001b[31m18\u001b[39m\n",
       "\u001b[38;5;250m 5\u001b[39m  \u001b[4m2\u001b[24m013     1     1    19  394.      554            600        -\u001b[31m6\u001b[39m      812            837       -\u001b[31m25\u001b[39m\n",
       "\u001b[38;5;250m 6\u001b[39m  \u001b[4m2\u001b[24m013     1     1   -\u001b[31m16\u001b[39m  288.      554            558        -\u001b[31m4\u001b[39m      740            728        12\n",
       "\u001b[38;5;250m 7\u001b[39m  \u001b[4m2\u001b[24m013     1     1   -\u001b[31m24\u001b[39m  404.      555            600        -\u001b[31m5\u001b[39m      913            854        19\n",
       "\u001b[38;5;250m 8\u001b[39m  \u001b[4m2\u001b[24m013     1     1    11  259.      557            600        -\u001b[31m3\u001b[39m      709            723       -\u001b[31m14\u001b[39m\n",
       "\u001b[38;5;250m 9\u001b[39m  \u001b[4m2\u001b[24m013     1     1     5  405.      557            600        -\u001b[31m3\u001b[39m      838            846        -\u001b[31m8\u001b[39m\n",
       "\u001b[38;5;250m10\u001b[39m  \u001b[4m2\u001b[24m013     1     1   -\u001b[31m10\u001b[39m  319.      558            600        -\u001b[31m2\u001b[39m      753            745         8\n",
       "\u001b[38;5;246m# ℹ 336,766 more rows\u001b[39m\n",
       "\u001b[38;5;246m# ℹ 10 more variables: carrier <chr>, flight <int>, tailnum <chr>, origin <chr>, dest <chr>,\u001b[39m\n",
       "\u001b[38;5;246m#   air_time <dbl>, distance <dbl>, hour <dbl>, minute <dbl>, time_hour <dttm>\u001b[39m\n",
       "\u001b[38;5;246m# ℹ Use `print(n = ...)` to see more rows\u001b[39m"
      ]
     },
     "execution_count": null,
     "metadata": {},
     "output_type": "execute_result"
    }
   ],
   "source": [
    "flights |> \n",
    "  mutate(\n",
    "    gain = dep_delay-arr_delay,\n",
    "    speed = distance/air_time*60,\n",
    "    .after = day\n",
    "  )"
   ]
  },
  {
   "cell_type": "code",
   "execution_count": 41,
   "metadata": {
    "vscode": {
     "languageId": "r"
    }
   },
   "outputs": [
    {
     "data": {
      "text/plain": [
       "\u001b[38;5;246m# A tibble: 336,776 × 6\u001b[39m\n",
       "   dep_delay arr_delay air_time  gain hours gain_per_hour\n",
       "       \u001b[3m\u001b[38;5;246m<dbl>\u001b[39m\u001b[23m     \u001b[3m\u001b[38;5;246m<dbl>\u001b[39m\u001b[23m    \u001b[3m\u001b[38;5;246m<dbl>\u001b[39m\u001b[23m \u001b[3m\u001b[38;5;246m<dbl>\u001b[39m\u001b[23m \u001b[3m\u001b[38;5;246m<dbl>\u001b[39m\u001b[23m         \u001b[3m\u001b[38;5;246m<dbl>\u001b[39m\u001b[23m\n",
       "\u001b[38;5;250m 1\u001b[39m         2        11      227    -\u001b[31m9\u001b[39m 3.78          -\u001b[31m2\u001b[39m\u001b[31m.\u001b[39m\u001b[31m38\u001b[39m\n",
       "\u001b[38;5;250m 2\u001b[39m         4        20      227   -\u001b[31m16\u001b[39m 3.78          -\u001b[31m4\u001b[39m\u001b[31m.\u001b[39m\u001b[31m23\u001b[39m\n",
       "\u001b[38;5;250m 3\u001b[39m         2        33      160   -\u001b[31m31\u001b[39m 2.67         -\u001b[31m11\u001b[39m\u001b[31m.\u001b[39m\u001b[31m6\u001b[39m \n",
       "\u001b[38;5;250m 4\u001b[39m        -\u001b[31m1\u001b[39m       -\u001b[31m18\u001b[39m      183    17 3.05           5.57\n",
       "\u001b[38;5;250m 5\u001b[39m        -\u001b[31m6\u001b[39m       -\u001b[31m25\u001b[39m      116    19 1.93           9.83\n",
       "\u001b[38;5;250m 6\u001b[39m        -\u001b[31m4\u001b[39m        12      150   -\u001b[31m16\u001b[39m 2.5           -\u001b[31m6\u001b[39m\u001b[31m.\u001b[39m\u001b[31m4\u001b[39m \n",
       "\u001b[38;5;250m 7\u001b[39m        -\u001b[31m5\u001b[39m        19      158   -\u001b[31m24\u001b[39m 2.63          -\u001b[31m9\u001b[39m\u001b[31m.\u001b[39m\u001b[31m11\u001b[39m\n",
       "\u001b[38;5;250m 8\u001b[39m        -\u001b[31m3\u001b[39m       -\u001b[31m14\u001b[39m       53    11 0.883         12.5 \n",
       "\u001b[38;5;250m 9\u001b[39m        -\u001b[31m3\u001b[39m        -\u001b[31m8\u001b[39m      140     5 2.33           2.14\n",
       "\u001b[38;5;250m10\u001b[39m        -\u001b[31m2\u001b[39m         8      138   -\u001b[31m10\u001b[39m 2.3           -\u001b[31m4\u001b[39m\u001b[31m.\u001b[39m\u001b[31m35\u001b[39m\n",
       "\u001b[38;5;246m# ℹ 336,766 more rows\u001b[39m\n",
       "\u001b[38;5;246m# ℹ Use `print(n = ...)` to see more rows\u001b[39m"
      ]
     },
     "execution_count": null,
     "metadata": {},
     "output_type": "execute_result"
    }
   ],
   "source": [
    "flights |> \n",
    "  mutate(\n",
    "    gain = dep_delay - arr_delay,\n",
    "    hours = air_time / 60,\n",
    "    gain_per_hour = gain / hours,\n",
    "    .keep = \"used\"\n",
    "  )"
   ]
  },
  {
   "cell_type": "code",
   "execution_count": 42,
   "metadata": {
    "vscode": {
     "languageId": "r"
    }
   },
   "outputs": [
    {
     "data": {
      "text/plain": [
       "\u001b[38;5;246m# A tibble: 336,776 × 3\u001b[39m\n",
       "    year month   day\n",
       "   \u001b[3m\u001b[38;5;246m<int>\u001b[39m\u001b[23m \u001b[3m\u001b[38;5;246m<int>\u001b[39m\u001b[23m \u001b[3m\u001b[38;5;246m<int>\u001b[39m\u001b[23m\n",
       "\u001b[38;5;250m 1\u001b[39m  \u001b[4m2\u001b[24m013     1     1\n",
       "\u001b[38;5;250m 2\u001b[39m  \u001b[4m2\u001b[24m013     1     1\n",
       "\u001b[38;5;250m 3\u001b[39m  \u001b[4m2\u001b[24m013     1     1\n",
       "\u001b[38;5;250m 4\u001b[39m  \u001b[4m2\u001b[24m013     1     1\n",
       "\u001b[38;5;250m 5\u001b[39m  \u001b[4m2\u001b[24m013     1     1\n",
       "\u001b[38;5;250m 6\u001b[39m  \u001b[4m2\u001b[24m013     1     1\n",
       "\u001b[38;5;250m 7\u001b[39m  \u001b[4m2\u001b[24m013     1     1\n",
       "\u001b[38;5;250m 8\u001b[39m  \u001b[4m2\u001b[24m013     1     1\n",
       "\u001b[38;5;250m 9\u001b[39m  \u001b[4m2\u001b[24m013     1     1\n",
       "\u001b[38;5;250m10\u001b[39m  \u001b[4m2\u001b[24m013     1     1\n",
       "\u001b[38;5;246m# ℹ 336,766 more rows\u001b[39m\n",
       "\u001b[38;5;246m# ℹ Use `print(n = ...)` to see more rows\u001b[39m"
      ]
     },
     "execution_count": null,
     "metadata": {},
     "output_type": "execute_result"
    }
   ],
   "source": [
    "flights |> \n",
    "  select(year, month, day)"
   ]
  },
  {
   "cell_type": "code",
   "execution_count": 43,
   "metadata": {
    "vscode": {
     "languageId": "r"
    }
   },
   "outputs": [
    {
     "data": {
      "text/plain": [
       "\u001b[38;5;246m# A tibble: 336,776 × 3\u001b[39m\n",
       "    year month   day\n",
       "   \u001b[3m\u001b[38;5;246m<int>\u001b[39m\u001b[23m \u001b[3m\u001b[38;5;246m<int>\u001b[39m\u001b[23m \u001b[3m\u001b[38;5;246m<int>\u001b[39m\u001b[23m\n",
       "\u001b[38;5;250m 1\u001b[39m  \u001b[4m2\u001b[24m013     1     1\n",
       "\u001b[38;5;250m 2\u001b[39m  \u001b[4m2\u001b[24m013     1     1\n",
       "\u001b[38;5;250m 3\u001b[39m  \u001b[4m2\u001b[24m013     1     1\n",
       "\u001b[38;5;250m 4\u001b[39m  \u001b[4m2\u001b[24m013     1     1\n",
       "\u001b[38;5;250m 5\u001b[39m  \u001b[4m2\u001b[24m013     1     1\n",
       "\u001b[38;5;250m 6\u001b[39m  \u001b[4m2\u001b[24m013     1     1\n",
       "\u001b[38;5;250m 7\u001b[39m  \u001b[4m2\u001b[24m013     1     1\n",
       "\u001b[38;5;250m 8\u001b[39m  \u001b[4m2\u001b[24m013     1     1\n",
       "\u001b[38;5;250m 9\u001b[39m  \u001b[4m2\u001b[24m013     1     1\n",
       "\u001b[38;5;250m10\u001b[39m  \u001b[4m2\u001b[24m013     1     1\n",
       "\u001b[38;5;246m# ℹ 336,766 more rows\u001b[39m\n",
       "\u001b[38;5;246m# ℹ Use `print(n = ...)` to see more rows\u001b[39m"
      ]
     },
     "execution_count": null,
     "metadata": {},
     "output_type": "execute_result"
    }
   ],
   "source": [
    "flights |> \n",
    "  select(year:day)"
   ]
  },
  {
   "cell_type": "code",
   "execution_count": 44,
   "metadata": {
    "vscode": {
     "languageId": "r"
    }
   },
   "outputs": [
    {
     "data": {
      "text/plain": [
       "\u001b[38;5;246m# A tibble: 336,776 × 16\u001b[39m\n",
       "   dep_time sched_dep_time dep_delay arr_time sched_arr_time arr_delay carrier flight tailnum origin dest \n",
       "      \u001b[3m\u001b[38;5;246m<int>\u001b[39m\u001b[23m          \u001b[3m\u001b[38;5;246m<int>\u001b[39m\u001b[23m     \u001b[3m\u001b[38;5;246m<dbl>\u001b[39m\u001b[23m    \u001b[3m\u001b[38;5;246m<int>\u001b[39m\u001b[23m          \u001b[3m\u001b[38;5;246m<int>\u001b[39m\u001b[23m     \u001b[3m\u001b[38;5;246m<dbl>\u001b[39m\u001b[23m \u001b[3m\u001b[38;5;246m<chr>\u001b[39m\u001b[23m    \u001b[3m\u001b[38;5;246m<int>\u001b[39m\u001b[23m \u001b[3m\u001b[38;5;246m<chr>\u001b[39m\u001b[23m   \u001b[3m\u001b[38;5;246m<chr>\u001b[39m\u001b[23m  \u001b[3m\u001b[38;5;246m<chr>\u001b[39m\u001b[23m\n",
       "\u001b[38;5;250m 1\u001b[39m      517            515         2      830            819        11 UA        \u001b[4m1\u001b[24m545 N14228  EWR    IAH  \n",
       "\u001b[38;5;250m 2\u001b[39m      533            529         4      850            830        20 UA        \u001b[4m1\u001b[24m714 N24211  LGA    IAH  \n",
       "\u001b[38;5;250m 3\u001b[39m      542            540         2      923            850        33 AA        \u001b[4m1\u001b[24m141 N619AA  JFK    MIA  \n",
       "\u001b[38;5;250m 4\u001b[39m      544            545        -\u001b[31m1\u001b[39m     \u001b[4m1\u001b[24m004           \u001b[4m1\u001b[24m022       -\u001b[31m18\u001b[39m B6         725 N804JB  JFK    BQN  \n",
       "\u001b[38;5;250m 5\u001b[39m      554            600        -\u001b[31m6\u001b[39m      812            837       -\u001b[31m25\u001b[39m DL         461 N668DN  LGA    ATL  \n",
       "\u001b[38;5;250m 6\u001b[39m      554            558        -\u001b[31m4\u001b[39m      740            728        12 UA        \u001b[4m1\u001b[24m696 N39463  EWR    ORD  \n",
       "\u001b[38;5;250m 7\u001b[39m      555            600        -\u001b[31m5\u001b[39m      913            854        19 B6         507 N516JB  EWR    FLL  \n",
       "\u001b[38;5;250m 8\u001b[39m      557            600        -\u001b[31m3\u001b[39m      709            723       -\u001b[31m14\u001b[39m EV        \u001b[4m5\u001b[24m708 N829AS  LGA    IAD  \n",
       "\u001b[38;5;250m 9\u001b[39m      557            600        -\u001b[31m3\u001b[39m      838            846        -\u001b[31m8\u001b[39m B6          79 N593JB  JFK    MCO  \n",
       "\u001b[38;5;250m10\u001b[39m      558            600        -\u001b[31m2\u001b[39m      753            745         8 AA         301 N3ALAA  LGA    ORD  \n",
       "\u001b[38;5;246m# ℹ 336,766 more rows\u001b[39m\n",
       "\u001b[38;5;246m# ℹ 5 more variables: air_time <dbl>, distance <dbl>, hour <dbl>, minute <dbl>, time_hour <dttm>\u001b[39m\n",
       "\u001b[38;5;246m# ℹ Use `print(n = ...)` to see more rows\u001b[39m"
      ]
     },
     "execution_count": null,
     "metadata": {},
     "output_type": "execute_result"
    }
   ],
   "source": [
    "flights |> \n",
    "  select(!year:day)"
   ]
  },
  {
   "cell_type": "code",
   "execution_count": 45,
   "metadata": {
    "vscode": {
     "languageId": "r"
    }
   },
   "outputs": [
    {
     "data": {
      "text/plain": [
       "\u001b[38;5;246m# A tibble: 336,776 × 2\u001b[39m\n",
       "   dep_time dep_delay\n",
       "      \u001b[3m\u001b[38;5;246m<int>\u001b[39m\u001b[23m     \u001b[3m\u001b[38;5;246m<dbl>\u001b[39m\u001b[23m\n",
       "\u001b[38;5;250m 1\u001b[39m      517         2\n",
       "\u001b[38;5;250m 2\u001b[39m      533         4\n",
       "\u001b[38;5;250m 3\u001b[39m      542         2\n",
       "\u001b[38;5;250m 4\u001b[39m      544        -\u001b[31m1\u001b[39m\n",
       "\u001b[38;5;250m 5\u001b[39m      554        -\u001b[31m6\u001b[39m\n",
       "\u001b[38;5;250m 6\u001b[39m      554        -\u001b[31m4\u001b[39m\n",
       "\u001b[38;5;250m 7\u001b[39m      555        -\u001b[31m5\u001b[39m\n",
       "\u001b[38;5;250m 8\u001b[39m      557        -\u001b[31m3\u001b[39m\n",
       "\u001b[38;5;250m 9\u001b[39m      557        -\u001b[31m3\u001b[39m\n",
       "\u001b[38;5;250m10\u001b[39m      558        -\u001b[31m2\u001b[39m\n",
       "\u001b[38;5;246m# ℹ 336,766 more rows\u001b[39m\n",
       "\u001b[38;5;246m# ℹ Use `print(n = ...)` to see more rows\u001b[39m"
      ]
     },
     "execution_count": null,
     "metadata": {},
     "output_type": "execute_result"
    }
   ],
   "source": [
    "flights |> \n",
    "  select(starts_with(\"dep\"))"
   ]
  },
  {
   "cell_type": "code",
   "execution_count": 46,
   "metadata": {
    "vscode": {
     "languageId": "r"
    }
   },
   "outputs": [
    {
     "data": {
      "text/plain": [
       "\u001b[38;5;246m# A tibble: 336,776 × 1\u001b[39m\n",
       "   tail_num\n",
       "   \u001b[3m\u001b[38;5;246m<chr>\u001b[39m\u001b[23m   \n",
       "\u001b[38;5;250m 1\u001b[39m N14228  \n",
       "\u001b[38;5;250m 2\u001b[39m N24211  \n",
       "\u001b[38;5;250m 3\u001b[39m N619AA  \n",
       "\u001b[38;5;250m 4\u001b[39m N804JB  \n",
       "\u001b[38;5;250m 5\u001b[39m N668DN  \n",
       "\u001b[38;5;250m 6\u001b[39m N39463  \n",
       "\u001b[38;5;250m 7\u001b[39m N516JB  \n",
       "\u001b[38;5;250m 8\u001b[39m N829AS  \n",
       "\u001b[38;5;250m 9\u001b[39m N593JB  \n",
       "\u001b[38;5;250m10\u001b[39m N3ALAA  \n",
       "\u001b[38;5;246m# ℹ 336,766 more rows\u001b[39m\n",
       "\u001b[38;5;246m# ℹ Use `print(n = ...)` to see more rows\u001b[39m"
      ]
     },
     "execution_count": null,
     "metadata": {},
     "output_type": "execute_result"
    }
   ],
   "source": [
    "flights |> \n",
    "  select(tail_num = tailnum)"
   ]
  },
  {
   "cell_type": "code",
   "execution_count": 48,
   "metadata": {
    "vscode": {
     "languageId": "r"
    }
   },
   "outputs": [
    {
     "data": {
      "text/plain": [
       "\u001b[38;5;246m# A tibble: 336,776 × 19\u001b[39m\n",
       "    year month   day dep_time sched_dep_time dep_delay arr_time sched_arr_time arr_delay carrier flight\n",
       "   \u001b[3m\u001b[38;5;246m<int>\u001b[39m\u001b[23m \u001b[3m\u001b[38;5;246m<int>\u001b[39m\u001b[23m \u001b[3m\u001b[38;5;246m<int>\u001b[39m\u001b[23m    \u001b[3m\u001b[38;5;246m<int>\u001b[39m\u001b[23m          \u001b[3m\u001b[38;5;246m<int>\u001b[39m\u001b[23m     \u001b[3m\u001b[38;5;246m<dbl>\u001b[39m\u001b[23m    \u001b[3m\u001b[38;5;246m<int>\u001b[39m\u001b[23m          \u001b[3m\u001b[38;5;246m<int>\u001b[39m\u001b[23m     \u001b[3m\u001b[38;5;246m<dbl>\u001b[39m\u001b[23m \u001b[3m\u001b[38;5;246m<chr>\u001b[39m\u001b[23m    \u001b[3m\u001b[38;5;246m<int>\u001b[39m\u001b[23m\n",
       "\u001b[38;5;250m 1\u001b[39m  \u001b[4m2\u001b[24m013     1     1      517            515         2      830            819        11 UA        \u001b[4m1\u001b[24m545\n",
       "\u001b[38;5;250m 2\u001b[39m  \u001b[4m2\u001b[24m013     1     1      533            529         4      850            830        20 UA        \u001b[4m1\u001b[24m714\n",
       "\u001b[38;5;250m 3\u001b[39m  \u001b[4m2\u001b[24m013     1     1      542            540         2      923            850        33 AA        \u001b[4m1\u001b[24m141\n",
       "\u001b[38;5;250m 4\u001b[39m  \u001b[4m2\u001b[24m013     1     1      544            545        -\u001b[31m1\u001b[39m     \u001b[4m1\u001b[24m004           \u001b[4m1\u001b[24m022       -\u001b[31m18\u001b[39m B6         725\n",
       "\u001b[38;5;250m 5\u001b[39m  \u001b[4m2\u001b[24m013     1     1      554            600        -\u001b[31m6\u001b[39m      812            837       -\u001b[31m25\u001b[39m DL         461\n",
       "\u001b[38;5;250m 6\u001b[39m  \u001b[4m2\u001b[24m013     1     1      554            558        -\u001b[31m4\u001b[39m      740            728        12 UA        \u001b[4m1\u001b[24m696\n",
       "\u001b[38;5;250m 7\u001b[39m  \u001b[4m2\u001b[24m013     1     1      555            600        -\u001b[31m5\u001b[39m      913            854        19 B6         507\n",
       "\u001b[38;5;250m 8\u001b[39m  \u001b[4m2\u001b[24m013     1     1      557            600        -\u001b[31m3\u001b[39m      709            723       -\u001b[31m14\u001b[39m EV        \u001b[4m5\u001b[24m708\n",
       "\u001b[38;5;250m 9\u001b[39m  \u001b[4m2\u001b[24m013     1     1      557            600        -\u001b[31m3\u001b[39m      838            846        -\u001b[31m8\u001b[39m B6          79\n",
       "\u001b[38;5;250m10\u001b[39m  \u001b[4m2\u001b[24m013     1     1      558            600        -\u001b[31m2\u001b[39m      753            745         8 AA         301\n",
       "\u001b[38;5;246m# ℹ 336,766 more rows\u001b[39m\n",
       "\u001b[38;5;246m# ℹ 8 more variables: tail_num <chr>, origin <chr>, dest <chr>, air_time <dbl>, distance <dbl>,\u001b[39m\n",
       "\u001b[38;5;246m#   hour <dbl>, minute <dbl>, time_hour <dttm>\u001b[39m\n",
       "\u001b[38;5;246m# ℹ Use `print(n = ...)` to see more rows\u001b[39m"
      ]
     },
     "execution_count": null,
     "metadata": {},
     "output_type": "execute_result"
    }
   ],
   "source": [
    "flights |> \n",
    "  rename(tail_num = tailnum)"
   ]
  },
  {
   "cell_type": "code",
   "execution_count": 49,
   "metadata": {
    "vscode": {
     "languageId": "r"
    }
   },
   "outputs": [
    {
     "data": {
      "text/plain": [
       "\u001b[38;5;246m# A tibble: 336,776 × 19\u001b[39m\n",
       "   time_hour           air_time  year month   day dep_time sched_dep_time dep_delay arr_time\n",
       "   \u001b[3m\u001b[38;5;246m<dttm>\u001b[39m\u001b[23m                 \u001b[3m\u001b[38;5;246m<dbl>\u001b[39m\u001b[23m \u001b[3m\u001b[38;5;246m<int>\u001b[39m\u001b[23m \u001b[3m\u001b[38;5;246m<int>\u001b[39m\u001b[23m \u001b[3m\u001b[38;5;246m<int>\u001b[39m\u001b[23m    \u001b[3m\u001b[38;5;246m<int>\u001b[39m\u001b[23m          \u001b[3m\u001b[38;5;246m<int>\u001b[39m\u001b[23m     \u001b[3m\u001b[38;5;246m<dbl>\u001b[39m\u001b[23m    \u001b[3m\u001b[38;5;246m<int>\u001b[39m\u001b[23m\n",
       "\u001b[38;5;250m 1\u001b[39m 2013-01-01 \u001b[38;5;246m05:00:00\u001b[39m      227  \u001b[4m2\u001b[24m013     1     1      517            515         2      830\n",
       "\u001b[38;5;250m 2\u001b[39m 2013-01-01 \u001b[38;5;246m05:00:00\u001b[39m      227  \u001b[4m2\u001b[24m013     1     1      533            529         4      850\n",
       "\u001b[38;5;250m 3\u001b[39m 2013-01-01 \u001b[38;5;246m05:00:00\u001b[39m      160  \u001b[4m2\u001b[24m013     1     1      542            540         2      923\n",
       "\u001b[38;5;250m 4\u001b[39m 2013-01-01 \u001b[38;5;246m05:00:00\u001b[39m      183  \u001b[4m2\u001b[24m013     1     1      544            545        -\u001b[31m1\u001b[39m     \u001b[4m1\u001b[24m004\n",
       "\u001b[38;5;250m 5\u001b[39m 2013-01-01 \u001b[38;5;246m06:00:00\u001b[39m      116  \u001b[4m2\u001b[24m013     1     1      554            600        -\u001b[31m6\u001b[39m      812\n",
       "\u001b[38;5;250m 6\u001b[39m 2013-01-01 \u001b[38;5;246m05:00:00\u001b[39m      150  \u001b[4m2\u001b[24m013     1     1      554            558        -\u001b[31m4\u001b[39m      740\n",
       "\u001b[38;5;250m 7\u001b[39m 2013-01-01 \u001b[38;5;246m06:00:00\u001b[39m      158  \u001b[4m2\u001b[24m013     1     1      555            600        -\u001b[31m5\u001b[39m      913\n",
       "\u001b[38;5;250m 8\u001b[39m 2013-01-01 \u001b[38;5;246m06:00:00\u001b[39m       53  \u001b[4m2\u001b[24m013     1     1      557            600        -\u001b[31m3\u001b[39m      709\n",
       "\u001b[38;5;250m 9\u001b[39m 2013-01-01 \u001b[38;5;246m06:00:00\u001b[39m      140  \u001b[4m2\u001b[24m013     1     1      557            600        -\u001b[31m3\u001b[39m      838\n",
       "\u001b[38;5;250m10\u001b[39m 2013-01-01 \u001b[38;5;246m06:00:00\u001b[39m      138  \u001b[4m2\u001b[24m013     1     1      558            600        -\u001b[31m2\u001b[39m      753\n",
       "\u001b[38;5;246m# ℹ 336,766 more rows\u001b[39m\n",
       "\u001b[38;5;246m# ℹ 10 more variables: sched_arr_time <int>, arr_delay <dbl>, carrier <chr>, flight <int>, tailnum <chr>,\u001b[39m\n",
       "\u001b[38;5;246m#   origin <chr>, dest <chr>, distance <dbl>, hour <dbl>, minute <dbl>\u001b[39m\n",
       "\u001b[38;5;246m# ℹ Use `print(n = ...)` to see more rows\u001b[39m"
      ]
     },
     "execution_count": null,
     "metadata": {},
     "output_type": "execute_result"
    }
   ],
   "source": [
    "flights |> \n",
    "  relocate(time_hour, air_time)"
   ]
  },
  {
   "cell_type": "code",
   "execution_count": 50,
   "metadata": {
    "vscode": {
     "languageId": "r"
    }
   },
   "outputs": [
    {
     "data": {
      "text/plain": [
       "\u001b[38;5;246m# A tibble: 336,776 × 19\u001b[39m\n",
       "   sched_dep_time dep_delay arr_time sched_arr_time arr_delay carrier flight tailnum origin dest  air_time\n",
       "            \u001b[3m\u001b[38;5;246m<int>\u001b[39m\u001b[23m     \u001b[3m\u001b[38;5;246m<dbl>\u001b[39m\u001b[23m    \u001b[3m\u001b[38;5;246m<int>\u001b[39m\u001b[23m          \u001b[3m\u001b[38;5;246m<int>\u001b[39m\u001b[23m     \u001b[3m\u001b[38;5;246m<dbl>\u001b[39m\u001b[23m \u001b[3m\u001b[38;5;246m<chr>\u001b[39m\u001b[23m    \u001b[3m\u001b[38;5;246m<int>\u001b[39m\u001b[23m \u001b[3m\u001b[38;5;246m<chr>\u001b[39m\u001b[23m   \u001b[3m\u001b[38;5;246m<chr>\u001b[39m\u001b[23m  \u001b[3m\u001b[38;5;246m<chr>\u001b[39m\u001b[23m    \u001b[3m\u001b[38;5;246m<dbl>\u001b[39m\u001b[23m\n",
       "\u001b[38;5;250m 1\u001b[39m            515         2      830            819        11 UA        \u001b[4m1\u001b[24m545 N14228  EWR    IAH        227\n",
       "\u001b[38;5;250m 2\u001b[39m            529         4      850            830        20 UA        \u001b[4m1\u001b[24m714 N24211  LGA    IAH        227\n",
       "\u001b[38;5;250m 3\u001b[39m            540         2      923            850        33 AA        \u001b[4m1\u001b[24m141 N619AA  JFK    MIA        160\n",
       "\u001b[38;5;250m 4\u001b[39m            545        -\u001b[31m1\u001b[39m     \u001b[4m1\u001b[24m004           \u001b[4m1\u001b[24m022       -\u001b[31m18\u001b[39m B6         725 N804JB  JFK    BQN        183\n",
       "\u001b[38;5;250m 5\u001b[39m            600        -\u001b[31m6\u001b[39m      812            837       -\u001b[31m25\u001b[39m DL         461 N668DN  LGA    ATL        116\n",
       "\u001b[38;5;250m 6\u001b[39m            558        -\u001b[31m4\u001b[39m      740            728        12 UA        \u001b[4m1\u001b[24m696 N39463  EWR    ORD        150\n",
       "\u001b[38;5;250m 7\u001b[39m            600        -\u001b[31m5\u001b[39m      913            854        19 B6         507 N516JB  EWR    FLL        158\n",
       "\u001b[38;5;250m 8\u001b[39m            600        -\u001b[31m3\u001b[39m      709            723       -\u001b[31m14\u001b[39m EV        \u001b[4m5\u001b[24m708 N829AS  LGA    IAD         53\n",
       "\u001b[38;5;250m 9\u001b[39m            600        -\u001b[31m3\u001b[39m      838            846        -\u001b[31m8\u001b[39m B6          79 N593JB  JFK    MCO        140\n",
       "\u001b[38;5;250m10\u001b[39m            600        -\u001b[31m2\u001b[39m      753            745         8 AA         301 N3ALAA  LGA    ORD        138\n",
       "\u001b[38;5;246m# ℹ 336,766 more rows\u001b[39m\n",
       "\u001b[38;5;246m# ℹ 8 more variables: distance <dbl>, hour <dbl>, minute <dbl>, time_hour <dttm>, year <int>,\u001b[39m\n",
       "\u001b[38;5;246m#   month <int>, day <int>, dep_time <int>\u001b[39m\n",
       "\u001b[38;5;246m# ℹ Use `print(n = ...)` to see more rows\u001b[39m"
      ]
     },
     "execution_count": null,
     "metadata": {},
     "output_type": "execute_result"
    }
   ],
   "source": [
    "flights |> \n",
    "  relocate(year:dep_time, .after = time_hour)"
   ]
  },
  {
   "cell_type": "markdown",
   "metadata": {},
   "source": [
    "## Groups"
   ]
  },
  {
   "cell_type": "code",
   "execution_count": 51,
   "metadata": {
    "vscode": {
     "languageId": "r"
    }
   },
   "outputs": [
    {
     "data": {
      "text/plain": [
       "\u001b[38;5;246m# A tibble: 336,776 × 19\u001b[39m\n",
       "\u001b[38;5;246m# Groups:   month [12]\u001b[39m\n",
       "    year month   day dep_time sched_dep_time dep_delay arr_time sched_arr_time arr_delay carrier flight\n",
       "   \u001b[3m\u001b[38;5;246m<int>\u001b[39m\u001b[23m \u001b[3m\u001b[38;5;246m<int>\u001b[39m\u001b[23m \u001b[3m\u001b[38;5;246m<int>\u001b[39m\u001b[23m    \u001b[3m\u001b[38;5;246m<int>\u001b[39m\u001b[23m          \u001b[3m\u001b[38;5;246m<int>\u001b[39m\u001b[23m     \u001b[3m\u001b[38;5;246m<dbl>\u001b[39m\u001b[23m    \u001b[3m\u001b[38;5;246m<int>\u001b[39m\u001b[23m          \u001b[3m\u001b[38;5;246m<int>\u001b[39m\u001b[23m     \u001b[3m\u001b[38;5;246m<dbl>\u001b[39m\u001b[23m \u001b[3m\u001b[38;5;246m<chr>\u001b[39m\u001b[23m    \u001b[3m\u001b[38;5;246m<int>\u001b[39m\u001b[23m\n",
       "\u001b[38;5;250m 1\u001b[39m  \u001b[4m2\u001b[24m013     1     1      517            515         2      830            819        11 UA        \u001b[4m1\u001b[24m545\n",
       "\u001b[38;5;250m 2\u001b[39m  \u001b[4m2\u001b[24m013     1     1      533            529         4      850            830        20 UA        \u001b[4m1\u001b[24m714\n",
       "\u001b[38;5;250m 3\u001b[39m  \u001b[4m2\u001b[24m013     1     1      542            540         2      923            850        33 AA        \u001b[4m1\u001b[24m141\n",
       "\u001b[38;5;250m 4\u001b[39m  \u001b[4m2\u001b[24m013     1     1      544            545        -\u001b[31m1\u001b[39m     \u001b[4m1\u001b[24m004           \u001b[4m1\u001b[24m022       -\u001b[31m18\u001b[39m B6         725\n",
       "\u001b[38;5;250m 5\u001b[39m  \u001b[4m2\u001b[24m013     1     1      554            600        -\u001b[31m6\u001b[39m      812            837       -\u001b[31m25\u001b[39m DL         461\n",
       "\u001b[38;5;250m 6\u001b[39m  \u001b[4m2\u001b[24m013     1     1      554            558        -\u001b[31m4\u001b[39m      740            728        12 UA        \u001b[4m1\u001b[24m696\n",
       "\u001b[38;5;250m 7\u001b[39m  \u001b[4m2\u001b[24m013     1     1      555            600        -\u001b[31m5\u001b[39m      913            854        19 B6         507\n",
       "\u001b[38;5;250m 8\u001b[39m  \u001b[4m2\u001b[24m013     1     1      557            600        -\u001b[31m3\u001b[39m      709            723       -\u001b[31m14\u001b[39m EV        \u001b[4m5\u001b[24m708\n",
       "\u001b[38;5;250m 9\u001b[39m  \u001b[4m2\u001b[24m013     1     1      557            600        -\u001b[31m3\u001b[39m      838            846        -\u001b[31m8\u001b[39m B6          79\n",
       "\u001b[38;5;250m10\u001b[39m  \u001b[4m2\u001b[24m013     1     1      558            600        -\u001b[31m2\u001b[39m      753            745         8 AA         301\n",
       "\u001b[38;5;246m# ℹ 336,766 more rows\u001b[39m\n",
       "\u001b[38;5;246m# ℹ 8 more variables: tailnum <chr>, origin <chr>, dest <chr>, air_time <dbl>, distance <dbl>,\u001b[39m\n",
       "\u001b[38;5;246m#   hour <dbl>, minute <dbl>, time_hour <dttm>\u001b[39m\n",
       "\u001b[38;5;246m# ℹ Use `print(n = ...)` to see more rows\u001b[39m"
      ]
     },
     "execution_count": null,
     "metadata": {},
     "output_type": "execute_result"
    }
   ],
   "source": [
    "flights |> \n",
    "  group_by(month)"
   ]
  },
  {
   "cell_type": "code",
   "execution_count": 52,
   "metadata": {
    "vscode": {
     "languageId": "r"
    }
   },
   "outputs": [
    {
     "name": "stdout",
     "output_type": "stream",
     "text": [
      "Rows: 336,776\n",
      "Columns: 19\n",
      "Groups: month [12]\n",
      "$ year           \u001b[3m\u001b[38;5;246m<int>\u001b[39m\u001b[23m 2013, 2013, 2013, 2013, 2013, 2013, 2013, 2013, 2013, 2013, 2013, 2013, 2013, 201…\n",
      "$ month          \u001b[3m\u001b[38;5;246m<int>\u001b[39m\u001b[23m 1, 1, 1, 1, 1, 1, 1, 1, 1, 1, 1, 1, 1, 1, 1, 1, 1, 1, 1, 1, 1, 1, 1, 1, 1, 1, 1, …\n",
      "$ day            \u001b[3m\u001b[38;5;246m<int>\u001b[39m\u001b[23m 1, 1, 1, 1, 1, 1, 1, 1, 1, 1, 1, 1, 1, 1, 1, 1, 1, 1, 1, 1, 1, 1, 1, 1, 1, 1, 1, …\n",
      "$ dep_time       \u001b[3m\u001b[38;5;246m<int>\u001b[39m\u001b[23m 517, 533, 542, 544, 554, 554, 555, 557, 557, 558, 558, 558, 558, 558, 559, 559, 5…\n",
      "$ sched_dep_time \u001b[3m\u001b[38;5;246m<int>\u001b[39m\u001b[23m 515, 529, 540, 545, 600, 558, 600, 600, 600, 600, 600, 600, 600, 600, 600, 559, 6…\n",
      "$ dep_delay      \u001b[3m\u001b[38;5;246m<dbl>\u001b[39m\u001b[23m 2, 4, 2, -1, -6, -4, -5, -3, -3, -2, -2, -2, -2, -2, -1, 0, -1, 0, 0, 1, -8, -3, …\n",
      "$ arr_time       \u001b[3m\u001b[38;5;246m<int>\u001b[39m\u001b[23m 830, 850, 923, 1004, 812, 740, 913, 709, 838, 753, 849, 853, 924, 923, 941, 702, …\n",
      "$ sched_arr_time \u001b[3m\u001b[38;5;246m<int>\u001b[39m\u001b[23m 819, 830, 850, 1022, 837, 728, 854, 723, 846, 745, 851, 856, 917, 937, 910, 706, …\n",
      "$ arr_delay      \u001b[3m\u001b[38;5;246m<dbl>\u001b[39m\u001b[23m 11, 20, 33, -18, -25, 12, 19, -14, -8, 8, -2, -3, 7, -14, 31, -4, -8, -7, 12, -6,…\n",
      "$ carrier        \u001b[3m\u001b[38;5;246m<chr>\u001b[39m\u001b[23m \"UA\", \"UA\", \"AA\", \"B6\", \"DL\", \"UA\", \"B6\", \"EV\", \"B6\", \"AA\", \"B6\", \"B6\", \"UA\", \"UA…\n",
      "$ flight         \u001b[3m\u001b[38;5;246m<int>\u001b[39m\u001b[23m 1545, 1714, 1141, 725, 461, 1696, 507, 5708, 79, 301, 49, 71, 194, 1124, 707, 180…\n",
      "$ tailnum        \u001b[3m\u001b[38;5;246m<chr>\u001b[39m\u001b[23m \"N14228\", \"N24211\", \"N619AA\", \"N804JB\", \"N668DN\", \"N39463\", \"N516JB\", \"N829AS\", \"…\n",
      "$ origin         \u001b[3m\u001b[38;5;246m<chr>\u001b[39m\u001b[23m \"EWR\", \"LGA\", \"JFK\", \"JFK\", \"LGA\", \"EWR\", \"EWR\", \"LGA\", \"JFK\", \"LGA\", \"JFK\", \"JFK…\n",
      "$ dest           \u001b[3m\u001b[38;5;246m<chr>\u001b[39m\u001b[23m \"IAH\", \"IAH\", \"MIA\", \"BQN\", \"ATL\", \"ORD\", \"FLL\", \"IAD\", \"MCO\", \"ORD\", \"PBI\", \"TPA…\n",
      "$ air_time       \u001b[3m\u001b[38;5;246m<dbl>\u001b[39m\u001b[23m 227, 227, 160, 183, 116, 150, 158, 53, 140, 138, 149, 158, 345, 361, 257, 44, 337…\n",
      "$ distance       \u001b[3m\u001b[38;5;246m<dbl>\u001b[39m\u001b[23m 1400, 1416, 1089, 1576, 762, 719, 1065, 229, 944, 733, 1028, 1005, 2475, 2565, 13…\n",
      "$ hour           \u001b[3m\u001b[38;5;246m<dbl>\u001b[39m\u001b[23m 5, 5, 5, 5, 6, 5, 6, 6, 6, 6, 6, 6, 6, 6, 6, 5, 6, 6, 6, 6, 6, 6, 6, 6, 6, 6, 6, …\n",
      "$ minute         \u001b[3m\u001b[38;5;246m<dbl>\u001b[39m\u001b[23m 15, 29, 40, 45, 0, 58, 0, 0, 0, 0, 0, 0, 0, 0, 0, 59, 0, 0, 0, 0, 10, 5, 10, 10, …\n",
      "$ time_hour      \u001b[3m\u001b[38;5;246m<dttm>\u001b[39m\u001b[23m 2013-01-01 05:00:00, 2013-01-01 05:00:00, 2013-01-01 05:00:00, 2013-01-01 05:00:…\n"
     ]
    }
   ],
   "source": [
    "glimpse(flights |> group_by(month))"
   ]
  },
  {
   "cell_type": "code",
   "execution_count": 53,
   "metadata": {
    "vscode": {
     "languageId": "r"
    }
   },
   "outputs": [
    {
     "data": {
      "text/plain": [
       "\u001b[38;5;246m# A tibble: 12 × 2\u001b[39m\n",
       "   month avg_delay\n",
       "   \u001b[3m\u001b[38;5;246m<int>\u001b[39m\u001b[23m     \u001b[3m\u001b[38;5;246m<dbl>\u001b[39m\u001b[23m\n",
       "\u001b[38;5;250m 1\u001b[39m     1        \u001b[31mNA\u001b[39m\n",
       "\u001b[38;5;250m 2\u001b[39m     2        \u001b[31mNA\u001b[39m\n",
       "\u001b[38;5;250m 3\u001b[39m     3        \u001b[31mNA\u001b[39m\n",
       "\u001b[38;5;250m 4\u001b[39m     4        \u001b[31mNA\u001b[39m\n",
       "\u001b[38;5;250m 5\u001b[39m     5        \u001b[31mNA\u001b[39m\n",
       "\u001b[38;5;250m 6\u001b[39m     6        \u001b[31mNA\u001b[39m\n",
       "\u001b[38;5;250m 7\u001b[39m     7        \u001b[31mNA\u001b[39m\n",
       "\u001b[38;5;250m 8\u001b[39m     8        \u001b[31mNA\u001b[39m\n",
       "\u001b[38;5;250m 9\u001b[39m     9        \u001b[31mNA\u001b[39m\n",
       "\u001b[38;5;250m10\u001b[39m    10        \u001b[31mNA\u001b[39m\n",
       "\u001b[38;5;250m11\u001b[39m    11        \u001b[31mNA\u001b[39m\n",
       "\u001b[38;5;250m12\u001b[39m    12        \u001b[31mNA\u001b[39m"
      ]
     },
     "execution_count": null,
     "metadata": {},
     "output_type": "execute_result"
    }
   ],
   "source": [
    "flights |> \n",
    "  group_by(month) |> \n",
    "  summarise(\n",
    "    avg_delay = mean(dep_delay)\n",
    "  )"
   ]
  },
  {
   "cell_type": "code",
   "execution_count": 55,
   "metadata": {
    "vscode": {
     "languageId": "r"
    }
   },
   "outputs": [
    {
     "data": {
      "text/plain": [
       "\u001b[38;5;246m# A tibble: 12 × 2\u001b[39m\n",
       "   month avg_delay\n",
       "   \u001b[3m\u001b[38;5;246m<int>\u001b[39m\u001b[23m     \u001b[3m\u001b[38;5;246m<dbl>\u001b[39m\u001b[23m\n",
       "\u001b[38;5;250m 1\u001b[39m     1     10.0 \n",
       "\u001b[38;5;250m 2\u001b[39m     2     10.8 \n",
       "\u001b[38;5;250m 3\u001b[39m     3     13.2 \n",
       "\u001b[38;5;250m 4\u001b[39m     4     13.9 \n",
       "\u001b[38;5;250m 5\u001b[39m     5     13.0 \n",
       "\u001b[38;5;250m 6\u001b[39m     6     20.8 \n",
       "\u001b[38;5;250m 7\u001b[39m     7     21.7 \n",
       "\u001b[38;5;250m 8\u001b[39m     8     12.6 \n",
       "\u001b[38;5;250m 9\u001b[39m     9      6.72\n",
       "\u001b[38;5;250m10\u001b[39m    10      6.24\n",
       "\u001b[38;5;250m11\u001b[39m    11      5.44\n",
       "\u001b[38;5;250m12\u001b[39m    12     16.6 "
      ]
     },
     "execution_count": null,
     "metadata": {},
     "output_type": "execute_result"
    }
   ],
   "source": [
    "flights |> \n",
    "  group_by(month) |> \n",
    "  summarise(\n",
    "    avg_delay = mean(dep_delay, na.rm = TRUE)\n",
    "  )"
   ]
  },
  {
   "cell_type": "code",
   "execution_count": 57,
   "metadata": {
    "vscode": {
     "languageId": "r"
    }
   },
   "outputs": [
    {
     "data": {
      "text/plain": [
       "\u001b[38;5;246m# A tibble: 12 × 3\u001b[39m\n",
       "   month avg_delay     n\n",
       "   \u001b[3m\u001b[38;5;246m<int>\u001b[39m\u001b[23m     \u001b[3m\u001b[38;5;246m<dbl>\u001b[39m\u001b[23m \u001b[3m\u001b[38;5;246m<int>\u001b[39m\u001b[23m\n",
       "\u001b[38;5;250m 1\u001b[39m     1     10.0  \u001b[4m2\u001b[24m\u001b[4m7\u001b[24m004\n",
       "\u001b[38;5;250m 2\u001b[39m     2     10.8  \u001b[4m2\u001b[24m\u001b[4m4\u001b[24m951\n",
       "\u001b[38;5;250m 3\u001b[39m     3     13.2  \u001b[4m2\u001b[24m\u001b[4m8\u001b[24m834\n",
       "\u001b[38;5;250m 4\u001b[39m     4     13.9  \u001b[4m2\u001b[24m\u001b[4m8\u001b[24m330\n",
       "\u001b[38;5;250m 5\u001b[39m     5     13.0  \u001b[4m2\u001b[24m\u001b[4m8\u001b[24m796\n",
       "\u001b[38;5;250m 6\u001b[39m     6     20.8  \u001b[4m2\u001b[24m\u001b[4m8\u001b[24m243\n",
       "\u001b[38;5;250m 7\u001b[39m     7     21.7  \u001b[4m2\u001b[24m\u001b[4m9\u001b[24m425\n",
       "\u001b[38;5;250m 8\u001b[39m     8     12.6  \u001b[4m2\u001b[24m\u001b[4m9\u001b[24m327\n",
       "\u001b[38;5;250m 9\u001b[39m     9      6.72 \u001b[4m2\u001b[24m\u001b[4m7\u001b[24m574\n",
       "\u001b[38;5;250m10\u001b[39m    10      6.24 \u001b[4m2\u001b[24m\u001b[4m8\u001b[24m889\n",
       "\u001b[38;5;250m11\u001b[39m    11      5.44 \u001b[4m2\u001b[24m\u001b[4m7\u001b[24m268\n",
       "\u001b[38;5;250m12\u001b[39m    12     16.6  \u001b[4m2\u001b[24m\u001b[4m8\u001b[24m135"
      ]
     },
     "execution_count": null,
     "metadata": {},
     "output_type": "execute_result"
    }
   ],
   "source": [
    "flights |> \n",
    "  group_by(month) |> \n",
    "  summarise(\n",
    "    avg_delay = mean(dep_delay, na.rm = TRUE),\n",
    "    n = n()\n",
    "  )"
   ]
  },
  {
   "cell_type": "code",
   "execution_count": 63,
   "metadata": {
    "vscode": {
     "languageId": "r"
    }
   },
   "outputs": [
    {
     "data": {
      "text/plain": [
       "\u001b[38;5;246m# A tibble: 105 × 1\u001b[39m\n",
       "   dest \n",
       "   \u001b[3m\u001b[38;5;246m<chr>\u001b[39m\u001b[23m\n",
       "\u001b[38;5;250m 1\u001b[39m IAH  \n",
       "\u001b[38;5;250m 2\u001b[39m MIA  \n",
       "\u001b[38;5;250m 3\u001b[39m BQN  \n",
       "\u001b[38;5;250m 4\u001b[39m ATL  \n",
       "\u001b[38;5;250m 5\u001b[39m ORD  \n",
       "\u001b[38;5;250m 6\u001b[39m FLL  \n",
       "\u001b[38;5;250m 7\u001b[39m IAD  \n",
       "\u001b[38;5;250m 8\u001b[39m MCO  \n",
       "\u001b[38;5;250m 9\u001b[39m PBI  \n",
       "\u001b[38;5;250m10\u001b[39m TPA  \n",
       "\u001b[38;5;246m# ℹ 95 more rows\u001b[39m\n",
       "\u001b[38;5;246m# ℹ Use `print(n = ...)` to see more rows\u001b[39m"
      ]
     },
     "execution_count": null,
     "metadata": {},
     "output_type": "execute_result"
    }
   ],
   "source": [
    "flights |> \n",
    "  distinct(dest)"
   ]
  },
  {
   "cell_type": "code",
   "execution_count": 61,
   "metadata": {
    "vscode": {
     "languageId": "r"
    }
   },
   "outputs": [
    {
     "data": {
      "text/plain": [
       "\u001b[38;5;246m# A tibble: 108 × 19\u001b[39m\n",
       "\u001b[38;5;246m# Groups:   dest [105]\u001b[39m\n",
       "   dest   year month   day dep_time sched_dep_time dep_delay arr_time sched_arr_time arr_delay carrier\n",
       "   \u001b[3m\u001b[38;5;246m<chr>\u001b[39m\u001b[23m \u001b[3m\u001b[38;5;246m<int>\u001b[39m\u001b[23m \u001b[3m\u001b[38;5;246m<int>\u001b[39m\u001b[23m \u001b[3m\u001b[38;5;246m<int>\u001b[39m\u001b[23m    \u001b[3m\u001b[38;5;246m<int>\u001b[39m\u001b[23m          \u001b[3m\u001b[38;5;246m<int>\u001b[39m\u001b[23m     \u001b[3m\u001b[38;5;246m<dbl>\u001b[39m\u001b[23m    \u001b[3m\u001b[38;5;246m<int>\u001b[39m\u001b[23m          \u001b[3m\u001b[38;5;246m<int>\u001b[39m\u001b[23m     \u001b[3m\u001b[38;5;246m<dbl>\u001b[39m\u001b[23m \u001b[3m\u001b[38;5;246m<chr>\u001b[39m\u001b[23m  \n",
       "\u001b[38;5;250m 1\u001b[39m ABQ    \u001b[4m2\u001b[24m013     7    22     \u001b[4m2\u001b[24m145           \u001b[4m2\u001b[24m007        98      132           \u001b[4m2\u001b[24m259       153 B6     \n",
       "\u001b[38;5;250m 2\u001b[39m ACK    \u001b[4m2\u001b[24m013     7    23     \u001b[4m1\u001b[24m139            800       219     \u001b[4m1\u001b[24m250            909       221 B6     \n",
       "\u001b[38;5;250m 3\u001b[39m ALB    \u001b[4m2\u001b[24m013     1    25      123           \u001b[4m2\u001b[24m000       323      229           \u001b[4m2\u001b[24m101       328 EV     \n",
       "\u001b[38;5;250m 4\u001b[39m ANC    \u001b[4m2\u001b[24m013     8    17     \u001b[4m1\u001b[24m740           \u001b[4m1\u001b[24m625        75     \u001b[4m2\u001b[24m042           \u001b[4m2\u001b[24m003        39 UA     \n",
       "\u001b[38;5;250m 5\u001b[39m ATL    \u001b[4m2\u001b[24m013     7    22     \u001b[4m2\u001b[24m257            759       898      121           \u001b[4m1\u001b[24m026       895 DL     \n",
       "\u001b[38;5;250m 6\u001b[39m AUS    \u001b[4m2\u001b[24m013     7    10     \u001b[4m2\u001b[24m056           \u001b[4m1\u001b[24m505       351     \u001b[4m2\u001b[24m347           \u001b[4m1\u001b[24m758       349 UA     \n",
       "\u001b[38;5;250m 7\u001b[39m AVL    \u001b[4m2\u001b[24m013     8    13     \u001b[4m1\u001b[24m156            832       204     \u001b[4m1\u001b[24m417           \u001b[4m1\u001b[24m029       228 EV     \n",
       "\u001b[38;5;250m 8\u001b[39m BDL    \u001b[4m2\u001b[24m013     2    21     \u001b[4m1\u001b[24m728           \u001b[4m1\u001b[24m316       252     \u001b[4m1\u001b[24m839           \u001b[4m1\u001b[24m413       266 EV     \n",
       "\u001b[38;5;250m 9\u001b[39m BGR    \u001b[4m2\u001b[24m013    12     1     \u001b[4m1\u001b[24m504           \u001b[4m1\u001b[24m056       248     \u001b[4m1\u001b[24m628           \u001b[4m1\u001b[24m230       238 EV     \n",
       "\u001b[38;5;250m10\u001b[39m BHM    \u001b[4m2\u001b[24m013     4    10       25           \u001b[4m1\u001b[24m900       325      136           \u001b[4m2\u001b[24m045       291 EV     \n",
       "\u001b[38;5;246m# ℹ 98 more rows\u001b[39m\n",
       "\u001b[38;5;246m# ℹ 8 more variables: flight <int>, tailnum <chr>, origin <chr>, air_time <dbl>, distance <dbl>,\u001b[39m\n",
       "\u001b[38;5;246m#   hour <dbl>, minute <dbl>, time_hour <dttm>\u001b[39m\n",
       "\u001b[38;5;246m# ℹ Use `print(n = ...)` to see more rows\u001b[39m"
      ]
     },
     "execution_count": null,
     "metadata": {},
     "output_type": "execute_result"
    }
   ],
   "source": [
    "flights |> \n",
    "  group_by(dest) |> \n",
    "  slice_max(arr_delay, n=1) |> \n",
    "  relocate(dest)"
   ]
  },
  {
   "cell_type": "code",
   "execution_count": null,
   "metadata": {
    "vscode": {
     "languageId": "r"
    }
   },
   "outputs": [
    {
     "data": {
      "text/plain": [
       "\u001b[38;5;246m# A tibble: 105 × 19\u001b[39m\n",
       "\u001b[38;5;246m# Groups:   dest [105]\u001b[39m\n",
       "   dest   year month   day dep_time sched_dep_time dep_delay arr_time sched_arr_time arr_delay carrier\n",
       "   \u001b[3m\u001b[38;5;246m<chr>\u001b[39m\u001b[23m \u001b[3m\u001b[38;5;246m<int>\u001b[39m\u001b[23m \u001b[3m\u001b[38;5;246m<int>\u001b[39m\u001b[23m \u001b[3m\u001b[38;5;246m<int>\u001b[39m\u001b[23m    \u001b[3m\u001b[38;5;246m<int>\u001b[39m\u001b[23m          \u001b[3m\u001b[38;5;246m<int>\u001b[39m\u001b[23m     \u001b[3m\u001b[38;5;246m<dbl>\u001b[39m\u001b[23m    \u001b[3m\u001b[38;5;246m<int>\u001b[39m\u001b[23m          \u001b[3m\u001b[38;5;246m<int>\u001b[39m\u001b[23m     \u001b[3m\u001b[38;5;246m<dbl>\u001b[39m\u001b[23m \u001b[3m\u001b[38;5;246m<chr>\u001b[39m\u001b[23m  \n",
       "\u001b[38;5;250m 1\u001b[39m ABQ    \u001b[4m2\u001b[24m013     7    22     \u001b[4m2\u001b[24m145           \u001b[4m2\u001b[24m007        98      132           \u001b[4m2\u001b[24m259       153 B6     \n",
       "\u001b[38;5;250m 2\u001b[39m ACK    \u001b[4m2\u001b[24m013     7    23     \u001b[4m1\u001b[24m139            800       219     \u001b[4m1\u001b[24m250            909       221 B6     \n",
       "\u001b[38;5;250m 3\u001b[39m ALB    \u001b[4m2\u001b[24m013     1    25      123           \u001b[4m2\u001b[24m000       323      229           \u001b[4m2\u001b[24m101       328 EV     \n",
       "\u001b[38;5;250m 4\u001b[39m ANC    \u001b[4m2\u001b[24m013     8    17     \u001b[4m1\u001b[24m740           \u001b[4m1\u001b[24m625        75     \u001b[4m2\u001b[24m042           \u001b[4m2\u001b[24m003        39 UA     \n",
       "\u001b[38;5;250m 5\u001b[39m ATL    \u001b[4m2\u001b[24m013     7    22     \u001b[4m2\u001b[24m257            759       898      121           \u001b[4m1\u001b[24m026       895 DL     \n",
       "\u001b[38;5;250m 6\u001b[39m AUS    \u001b[4m2\u001b[24m013     7    10     \u001b[4m2\u001b[24m056           \u001b[4m1\u001b[24m505       351     \u001b[4m2\u001b[24m347           \u001b[4m1\u001b[24m758       349 UA     \n",
       "\u001b[38;5;250m 7\u001b[39m AVL    \u001b[4m2\u001b[24m013     8    13     \u001b[4m1\u001b[24m156            832       204     \u001b[4m1\u001b[24m417           \u001b[4m1\u001b[24m029       228 EV     \n",
       "\u001b[38;5;250m 8\u001b[39m BDL    \u001b[4m2\u001b[24m013     2    21     \u001b[4m1\u001b[24m728           \u001b[4m1\u001b[24m316       252     \u001b[4m1\u001b[24m839           \u001b[4m1\u001b[24m413       266 EV     \n",
       "\u001b[38;5;250m 9\u001b[39m BGR    \u001b[4m2\u001b[24m013    12     1     \u001b[4m1\u001b[24m504           \u001b[4m1\u001b[24m056       248     \u001b[4m1\u001b[24m628           \u001b[4m1\u001b[24m230       238 EV     \n",
       "\u001b[38;5;250m10\u001b[39m BHM    \u001b[4m2\u001b[24m013     4    10       25           \u001b[4m1\u001b[24m900       325      136           \u001b[4m2\u001b[24m045       291 EV     \n",
       "\u001b[38;5;246m# ℹ 95 more rows\u001b[39m\n",
       "\u001b[38;5;246m# ℹ 8 more variables: flight <int>, tailnum <chr>, origin <chr>, air_time <dbl>, distance <dbl>,\u001b[39m\n",
       "\u001b[38;5;246m#   hour <dbl>, minute <dbl>, time_hour <dttm>\u001b[39m\n",
       "\u001b[38;5;246m# ℹ Use `print(n = ...)` to see more rows\u001b[39m"
      ]
     },
     "execution_count": null,
     "metadata": {},
     "output_type": "execute_result"
    }
   ],
   "source": [
    "flights |> \n",
    "  group_by(dest) |> \n",
    "  slice_max(arr_delay, n = 1, with_ties = FALSE) |>\n",
    "  relocate(dest)"
   ]
  },
  {
   "cell_type": "code",
   "execution_count": 67,
   "metadata": {
    "vscode": {
     "languageId": "r"
    }
   },
   "outputs": [],
   "source": [
    "daily <- flights |> \n",
    "  group_by(year, month, day)"
   ]
  },
  {
   "cell_type": "code",
   "execution_count": 68,
   "metadata": {
    "vscode": {
     "languageId": "r"
    }
   },
   "outputs": [
    {
     "name": "stdout",
     "output_type": "stream",
     "text": [
      "\u001b[1m\u001b[22m`summarise()` has grouped output by 'year', 'month'. You can override using the `.groups` argument.\n"
     ]
    }
   ],
   "source": [
    "daily_flights <- daily |>\n",
    "summarize(n = n())"
   ]
  },
  {
   "cell_type": "code",
   "execution_count": 70,
   "metadata": {
    "vscode": {
     "languageId": "r"
    }
   },
   "outputs": [
    {
     "data": {
      "text/plain": [
       "\u001b[38;5;246m# A tibble: 365 × 4\u001b[39m\n",
       "\u001b[38;5;246m# Groups:   year, month [12]\u001b[39m\n",
       "    year month   day     n\n",
       "   \u001b[3m\u001b[38;5;246m<int>\u001b[39m\u001b[23m \u001b[3m\u001b[38;5;246m<int>\u001b[39m\u001b[23m \u001b[3m\u001b[38;5;246m<int>\u001b[39m\u001b[23m \u001b[3m\u001b[38;5;246m<int>\u001b[39m\u001b[23m\n",
       "\u001b[38;5;250m 1\u001b[39m  \u001b[4m2\u001b[24m013     1     1   842\n",
       "\u001b[38;5;250m 2\u001b[39m  \u001b[4m2\u001b[24m013     1     2   943\n",
       "\u001b[38;5;250m 3\u001b[39m  \u001b[4m2\u001b[24m013     1     3   914\n",
       "\u001b[38;5;250m 4\u001b[39m  \u001b[4m2\u001b[24m013     1     4   915\n",
       "\u001b[38;5;250m 5\u001b[39m  \u001b[4m2\u001b[24m013     1     5   720\n",
       "\u001b[38;5;250m 6\u001b[39m  \u001b[4m2\u001b[24m013     1     6   832\n",
       "\u001b[38;5;250m 7\u001b[39m  \u001b[4m2\u001b[24m013     1     7   933\n",
       "\u001b[38;5;250m 8\u001b[39m  \u001b[4m2\u001b[24m013     1     8   899\n",
       "\u001b[38;5;250m 9\u001b[39m  \u001b[4m2\u001b[24m013     1     9   902\n",
       "\u001b[38;5;250m10\u001b[39m  \u001b[4m2\u001b[24m013     1    10   932\n",
       "\u001b[38;5;246m# ℹ 355 more rows\u001b[39m\n",
       "\u001b[38;5;246m# ℹ Use `print(n = ...)` to see more rows\u001b[39m"
      ]
     },
     "execution_count": null,
     "metadata": {},
     "output_type": "execute_result"
    }
   ],
   "source": [
    "daily_flights <- daily |> \n",
    "  summarize(\n",
    "    n = n(), \n",
    "    .groups = \"drop_last\"\n",
    "  )\n",
    "\n",
    "daily_flights"
   ]
  },
  {
   "cell_type": "code",
   "execution_count": 71,
   "metadata": {
    "vscode": {
     "languageId": "r"
    }
   },
   "outputs": [
    {
     "data": {
      "text/plain": [
       "\u001b[38;5;246m# A tibble: 365 × 4\u001b[39m\n",
       "    year month   day     n\n",
       "   \u001b[3m\u001b[38;5;246m<int>\u001b[39m\u001b[23m \u001b[3m\u001b[38;5;246m<int>\u001b[39m\u001b[23m \u001b[3m\u001b[38;5;246m<int>\u001b[39m\u001b[23m \u001b[3m\u001b[38;5;246m<int>\u001b[39m\u001b[23m\n",
       "\u001b[38;5;250m 1\u001b[39m  \u001b[4m2\u001b[24m013     1     1   842\n",
       "\u001b[38;5;250m 2\u001b[39m  \u001b[4m2\u001b[24m013     1     2   943\n",
       "\u001b[38;5;250m 3\u001b[39m  \u001b[4m2\u001b[24m013     1     3   914\n",
       "\u001b[38;5;250m 4\u001b[39m  \u001b[4m2\u001b[24m013     1     4   915\n",
       "\u001b[38;5;250m 5\u001b[39m  \u001b[4m2\u001b[24m013     1     5   720\n",
       "\u001b[38;5;250m 6\u001b[39m  \u001b[4m2\u001b[24m013     1     6   832\n",
       "\u001b[38;5;250m 7\u001b[39m  \u001b[4m2\u001b[24m013     1     7   933\n",
       "\u001b[38;5;250m 8\u001b[39m  \u001b[4m2\u001b[24m013     1     8   899\n",
       "\u001b[38;5;250m 9\u001b[39m  \u001b[4m2\u001b[24m013     1     9   902\n",
       "\u001b[38;5;250m10\u001b[39m  \u001b[4m2\u001b[24m013     1    10   932\n",
       "\u001b[38;5;246m# ℹ 355 more rows\u001b[39m\n",
       "\u001b[38;5;246m# ℹ Use `print(n = ...)` to see more rows\u001b[39m"
      ]
     },
     "execution_count": null,
     "metadata": {},
     "output_type": "execute_result"
    }
   ],
   "source": [
    "daily_flights <- daily |> \n",
    "  summarize(\n",
    "    n = n(), \n",
    "    .groups = \"drop\"\n",
    "  )\n",
    "\n",
    "daily_flights"
   ]
  },
  {
   "cell_type": "code",
   "execution_count": 72,
   "metadata": {
    "vscode": {
     "languageId": "r"
    }
   },
   "outputs": [
    {
     "data": {
      "text/plain": [
       "\u001b[38;5;246m# A tibble: 365 × 4\u001b[39m\n",
       "\u001b[38;5;246m# Groups:   year, month, day [365]\u001b[39m\n",
       "    year month   day     n\n",
       "   \u001b[3m\u001b[38;5;246m<int>\u001b[39m\u001b[23m \u001b[3m\u001b[38;5;246m<int>\u001b[39m\u001b[23m \u001b[3m\u001b[38;5;246m<int>\u001b[39m\u001b[23m \u001b[3m\u001b[38;5;246m<int>\u001b[39m\u001b[23m\n",
       "\u001b[38;5;250m 1\u001b[39m  \u001b[4m2\u001b[24m013     1     1   842\n",
       "\u001b[38;5;250m 2\u001b[39m  \u001b[4m2\u001b[24m013     1     2   943\n",
       "\u001b[38;5;250m 3\u001b[39m  \u001b[4m2\u001b[24m013     1     3   914\n",
       "\u001b[38;5;250m 4\u001b[39m  \u001b[4m2\u001b[24m013     1     4   915\n",
       "\u001b[38;5;250m 5\u001b[39m  \u001b[4m2\u001b[24m013     1     5   720\n",
       "\u001b[38;5;250m 6\u001b[39m  \u001b[4m2\u001b[24m013     1     6   832\n",
       "\u001b[38;5;250m 7\u001b[39m  \u001b[4m2\u001b[24m013     1     7   933\n",
       "\u001b[38;5;250m 8\u001b[39m  \u001b[4m2\u001b[24m013     1     8   899\n",
       "\u001b[38;5;250m 9\u001b[39m  \u001b[4m2\u001b[24m013     1     9   902\n",
       "\u001b[38;5;250m10\u001b[39m  \u001b[4m2\u001b[24m013     1    10   932\n",
       "\u001b[38;5;246m# ℹ 355 more rows\u001b[39m\n",
       "\u001b[38;5;246m# ℹ Use `print(n = ...)` to see more rows\u001b[39m"
      ]
     },
     "execution_count": null,
     "metadata": {},
     "output_type": "execute_result"
    }
   ],
   "source": [
    "daily_flights <- daily |> \n",
    "  summarize(\n",
    "    n = n(), \n",
    "    .groups = \"keep\"\n",
    "  )\n",
    "\n",
    "daily_flights"
   ]
  },
  {
   "cell_type": "code",
   "execution_count": 73,
   "metadata": {
    "vscode": {
     "languageId": "r"
    }
   },
   "outputs": [
    {
     "data": {
      "text/plain": [
       "\u001b[38;5;246m# A tibble: 336,776 × 19\u001b[39m\n",
       "    year month   day dep_time sched_dep_time dep_delay arr_time sched_arr_time arr_delay carrier flight\n",
       "   \u001b[3m\u001b[38;5;246m<int>\u001b[39m\u001b[23m \u001b[3m\u001b[38;5;246m<int>\u001b[39m\u001b[23m \u001b[3m\u001b[38;5;246m<int>\u001b[39m\u001b[23m    \u001b[3m\u001b[38;5;246m<int>\u001b[39m\u001b[23m          \u001b[3m\u001b[38;5;246m<int>\u001b[39m\u001b[23m     \u001b[3m\u001b[38;5;246m<dbl>\u001b[39m\u001b[23m    \u001b[3m\u001b[38;5;246m<int>\u001b[39m\u001b[23m          \u001b[3m\u001b[38;5;246m<int>\u001b[39m\u001b[23m     \u001b[3m\u001b[38;5;246m<dbl>\u001b[39m\u001b[23m \u001b[3m\u001b[38;5;246m<chr>\u001b[39m\u001b[23m    \u001b[3m\u001b[38;5;246m<int>\u001b[39m\u001b[23m\n",
       "\u001b[38;5;250m 1\u001b[39m  \u001b[4m2\u001b[24m013     1     1      517            515         2      830            819        11 UA        \u001b[4m1\u001b[24m545\n",
       "\u001b[38;5;250m 2\u001b[39m  \u001b[4m2\u001b[24m013     1     1      533            529         4      850            830        20 UA        \u001b[4m1\u001b[24m714\n",
       "\u001b[38;5;250m 3\u001b[39m  \u001b[4m2\u001b[24m013     1     1      542            540         2      923            850        33 AA        \u001b[4m1\u001b[24m141\n",
       "\u001b[38;5;250m 4\u001b[39m  \u001b[4m2\u001b[24m013     1     1      544            545        -\u001b[31m1\u001b[39m     \u001b[4m1\u001b[24m004           \u001b[4m1\u001b[24m022       -\u001b[31m18\u001b[39m B6         725\n",
       "\u001b[38;5;250m 5\u001b[39m  \u001b[4m2\u001b[24m013     1     1      554            600        -\u001b[31m6\u001b[39m      812            837       -\u001b[31m25\u001b[39m DL         461\n",
       "\u001b[38;5;250m 6\u001b[39m  \u001b[4m2\u001b[24m013     1     1      554            558        -\u001b[31m4\u001b[39m      740            728        12 UA        \u001b[4m1\u001b[24m696\n",
       "\u001b[38;5;250m 7\u001b[39m  \u001b[4m2\u001b[24m013     1     1      555            600        -\u001b[31m5\u001b[39m      913            854        19 B6         507\n",
       "\u001b[38;5;250m 8\u001b[39m  \u001b[4m2\u001b[24m013     1     1      557            600        -\u001b[31m3\u001b[39m      709            723       -\u001b[31m14\u001b[39m EV        \u001b[4m5\u001b[24m708\n",
       "\u001b[38;5;250m 9\u001b[39m  \u001b[4m2\u001b[24m013     1     1      557            600        -\u001b[31m3\u001b[39m      838            846        -\u001b[31m8\u001b[39m B6          79\n",
       "\u001b[38;5;250m10\u001b[39m  \u001b[4m2\u001b[24m013     1     1      558            600        -\u001b[31m2\u001b[39m      753            745         8 AA         301\n",
       "\u001b[38;5;246m# ℹ 336,766 more rows\u001b[39m\n",
       "\u001b[38;5;246m# ℹ 8 more variables: tailnum <chr>, origin <chr>, dest <chr>, air_time <dbl>, distance <dbl>,\u001b[39m\n",
       "\u001b[38;5;246m#   hour <dbl>, minute <dbl>, time_hour <dttm>\u001b[39m\n",
       "\u001b[38;5;246m# ℹ Use `print(n = ...)` to see more rows\u001b[39m"
      ]
     },
     "execution_count": null,
     "metadata": {},
     "output_type": "execute_result"
    }
   ],
   "source": [
    "daily |> \n",
    "  ungroup()"
   ]
  },
  {
   "cell_type": "markdown",
   "metadata": {},
   "source": [
    "# Data tidying"
   ]
  },
  {
   "cell_type": "markdown",
   "metadata": {},
   "source": [
    "## Tidy data"
   ]
  },
  {
   "cell_type": "code",
   "execution_count": 74,
   "metadata": {
    "vscode": {
     "languageId": "r"
    }
   },
   "outputs": [
    {
     "data": {
      "text/plain": [
       "\u001b[38;5;246m# A tibble: 6 × 4\u001b[39m\n",
       "  country      year  cases population\n",
       "  \u001b[3m\u001b[38;5;246m<chr>\u001b[39m\u001b[23m       \u001b[3m\u001b[38;5;246m<dbl>\u001b[39m\u001b[23m  \u001b[3m\u001b[38;5;246m<dbl>\u001b[39m\u001b[23m      \u001b[3m\u001b[38;5;246m<dbl>\u001b[39m\u001b[23m\n",
       "\u001b[38;5;250m1\u001b[39m Afghanistan  \u001b[4m1\u001b[24m999    745   19\u001b[4m9\u001b[24m\u001b[4m8\u001b[24m\u001b[4m7\u001b[24m071\n",
       "\u001b[38;5;250m2\u001b[39m Afghanistan  \u001b[4m2\u001b[24m000   \u001b[4m2\u001b[24m666   20\u001b[4m5\u001b[24m\u001b[4m9\u001b[24m\u001b[4m5\u001b[24m360\n",
       "\u001b[38;5;250m3\u001b[39m Brazil       \u001b[4m1\u001b[24m999  \u001b[4m3\u001b[24m\u001b[4m7\u001b[24m737  172\u001b[4m0\u001b[24m\u001b[4m0\u001b[24m\u001b[4m6\u001b[24m362\n",
       "\u001b[38;5;250m4\u001b[39m Brazil       \u001b[4m2\u001b[24m000  \u001b[4m8\u001b[24m\u001b[4m0\u001b[24m488  174\u001b[4m5\u001b[24m\u001b[4m0\u001b[24m\u001b[4m4\u001b[24m898\n",
       "\u001b[38;5;250m5\u001b[39m China        \u001b[4m1\u001b[24m999 \u001b[4m2\u001b[24m\u001b[4m1\u001b[24m\u001b[4m2\u001b[24m258 \u001b[4m1\u001b[24m272\u001b[4m9\u001b[24m\u001b[4m1\u001b[24m\u001b[4m5\u001b[24m272\n",
       "\u001b[38;5;250m6\u001b[39m China        \u001b[4m2\u001b[24m000 \u001b[4m2\u001b[24m\u001b[4m1\u001b[24m\u001b[4m3\u001b[24m766 \u001b[4m1\u001b[24m280\u001b[4m4\u001b[24m\u001b[4m2\u001b[24m\u001b[4m8\u001b[24m583"
      ]
     },
     "execution_count": null,
     "metadata": {},
     "output_type": "execute_result"
    }
   ],
   "source": [
    "table1"
   ]
  },
  {
   "cell_type": "code",
   "execution_count": 75,
   "metadata": {
    "vscode": {
     "languageId": "r"
    }
   },
   "outputs": [
    {
     "data": {
      "text/plain": [
       "\u001b[38;5;246m# A tibble: 3 × 2\u001b[39m\n",
       "  country     total_cases\n",
       "  \u001b[3m\u001b[38;5;246m<chr>\u001b[39m\u001b[23m             \u001b[3m\u001b[38;5;246m<dbl>\u001b[39m\u001b[23m\n",
       "\u001b[38;5;250m1\u001b[39m Afghanistan        \u001b[4m3\u001b[24m411\n",
       "\u001b[38;5;250m2\u001b[39m Brazil           \u001b[4m1\u001b[24m\u001b[4m1\u001b[24m\u001b[4m8\u001b[24m225\n",
       "\u001b[38;5;250m3\u001b[39m China            \u001b[4m4\u001b[24m\u001b[4m2\u001b[24m\u001b[4m6\u001b[24m024"
      ]
     },
     "execution_count": null,
     "metadata": {},
     "output_type": "execute_result"
    }
   ],
   "source": [
    "table1 |> \n",
    "  group_by(country) |> \n",
    "  summarize(\n",
    "    total_cases = sum(cases)\n",
    "  )"
   ]
  },
  {
   "cell_type": "code",
   "execution_count": 76,
   "metadata": {
    "vscode": {
     "languageId": "r"
    }
   },
   "outputs": [
    {
     "name": "stdout",
     "output_type": "stream",
     "text": [
      "\u001b[1m\u001b[22m`summarise()` has grouped output by 'country'. You can override using the `.groups` argument.\n"
     ]
    },
    {
     "data": {
      "text/plain": [
       "\u001b[38;5;246m# A tibble: 6 × 3\u001b[39m\n",
       "\u001b[38;5;246m# Groups:   country [3]\u001b[39m\n",
       "  country      year population\n",
       "  \u001b[3m\u001b[38;5;246m<chr>\u001b[39m\u001b[23m       \u001b[3m\u001b[38;5;246m<dbl>\u001b[39m\u001b[23m      \u001b[3m\u001b[38;5;246m<dbl>\u001b[39m\u001b[23m\n",
       "\u001b[38;5;250m1\u001b[39m Afghanistan  \u001b[4m1\u001b[24m999   19\u001b[4m9\u001b[24m\u001b[4m8\u001b[24m\u001b[4m7\u001b[24m071\n",
       "\u001b[38;5;250m2\u001b[39m Afghanistan  \u001b[4m2\u001b[24m000   20\u001b[4m5\u001b[24m\u001b[4m9\u001b[24m\u001b[4m5\u001b[24m360\n",
       "\u001b[38;5;250m3\u001b[39m Brazil       \u001b[4m1\u001b[24m999  172\u001b[4m0\u001b[24m\u001b[4m0\u001b[24m\u001b[4m6\u001b[24m362\n",
       "\u001b[38;5;250m4\u001b[39m Brazil       \u001b[4m2\u001b[24m000  174\u001b[4m5\u001b[24m\u001b[4m0\u001b[24m\u001b[4m4\u001b[24m898\n",
       "\u001b[38;5;250m5\u001b[39m China        \u001b[4m1\u001b[24m999 \u001b[4m1\u001b[24m272\u001b[4m9\u001b[24m\u001b[4m1\u001b[24m\u001b[4m5\u001b[24m272\n",
       "\u001b[38;5;250m6\u001b[39m China        \u001b[4m2\u001b[24m000 \u001b[4m1\u001b[24m280\u001b[4m4\u001b[24m\u001b[4m2\u001b[24m\u001b[4m8\u001b[24m583"
      ]
     },
     "execution_count": null,
     "metadata": {},
     "output_type": "execute_result"
    }
   ],
   "source": [
    "table1 |> \n",
    "  group_by(country, year) |> \n",
    "  summarize(\n",
    "    population = population\n",
    "  )"
   ]
  },
  {
   "cell_type": "code",
   "execution_count": 77,
   "metadata": {
    "vscode": {
     "languageId": "r"
    }
   },
   "outputs": [
    {
     "data": {
      "text/plain": [
       "\u001b[38;5;246m# A tibble: 6 × 5\u001b[39m\n",
       "\u001b[38;5;246m# Groups:   country [3]\u001b[39m\n",
       "  country      year  cases population case_rates\n",
       "  \u001b[3m\u001b[38;5;246m<chr>\u001b[39m\u001b[23m       \u001b[3m\u001b[38;5;246m<dbl>\u001b[39m\u001b[23m  \u001b[3m\u001b[38;5;246m<dbl>\u001b[39m\u001b[23m      \u001b[3m\u001b[38;5;246m<dbl>\u001b[39m\u001b[23m      \u001b[3m\u001b[38;5;246m<dbl>\u001b[39m\u001b[23m\n",
       "\u001b[38;5;250m1\u001b[39m Afghanistan  \u001b[4m1\u001b[24m999    745   19\u001b[4m9\u001b[24m\u001b[4m8\u001b[24m\u001b[4m7\u001b[24m071      0.373\n",
       "\u001b[38;5;250m2\u001b[39m Afghanistan  \u001b[4m2\u001b[24m000   \u001b[4m2\u001b[24m666   20\u001b[4m5\u001b[24m\u001b[4m9\u001b[24m\u001b[4m5\u001b[24m360      1.29 \n",
       "\u001b[38;5;250m3\u001b[39m Brazil       \u001b[4m1\u001b[24m999  \u001b[4m3\u001b[24m\u001b[4m7\u001b[24m737  172\u001b[4m0\u001b[24m\u001b[4m0\u001b[24m\u001b[4m6\u001b[24m362      2.19 \n",
       "\u001b[38;5;250m4\u001b[39m Brazil       \u001b[4m2\u001b[24m000  \u001b[4m8\u001b[24m\u001b[4m0\u001b[24m488  174\u001b[4m5\u001b[24m\u001b[4m0\u001b[24m\u001b[4m4\u001b[24m898      4.61 \n",
       "\u001b[38;5;250m5\u001b[39m China        \u001b[4m1\u001b[24m999 \u001b[4m2\u001b[24m\u001b[4m1\u001b[24m\u001b[4m2\u001b[24m258 \u001b[4m1\u001b[24m272\u001b[4m9\u001b[24m\u001b[4m1\u001b[24m\u001b[4m5\u001b[24m272      1.67 \n",
       "\u001b[38;5;250m6\u001b[39m China        \u001b[4m2\u001b[24m000 \u001b[4m2\u001b[24m\u001b[4m1\u001b[24m\u001b[4m3\u001b[24m766 \u001b[4m1\u001b[24m280\u001b[4m4\u001b[24m\u001b[4m2\u001b[24m\u001b[4m8\u001b[24m583      1.67 "
      ]
     },
     "execution_count": null,
     "metadata": {},
     "output_type": "execute_result"
    }
   ],
   "source": [
    "table1 |> \n",
    "  group_by(country) |> \n",
    "  mutate(\n",
    "    case_rates = cases / population * 10000\n",
    "  )"
   ]
  },
  {
   "cell_type": "markdown",
   "metadata": {},
   "source": [
    "## Lengthening data"
   ]
  },
  {
   "cell_type": "code",
   "execution_count": 78,
   "metadata": {
    "vscode": {
     "languageId": "r"
    }
   },
   "outputs": [
    {
     "data": {
      "text/plain": [
       "\u001b[38;5;246m# A tibble: 24,092 × 5\u001b[39m\n",
       "   artist track                   date.entered week   rank\n",
       "   \u001b[3m\u001b[38;5;246m<chr>\u001b[39m\u001b[23m  \u001b[3m\u001b[38;5;246m<chr>\u001b[39m\u001b[23m                   \u001b[3m\u001b[38;5;246m<date>\u001b[39m\u001b[23m       \u001b[3m\u001b[38;5;246m<chr>\u001b[39m\u001b[23m \u001b[3m\u001b[38;5;246m<dbl>\u001b[39m\u001b[23m\n",
       "\u001b[38;5;250m 1\u001b[39m 2 Pac  Baby Don't Cry (Keep... 2000-02-26   wk1      87\n",
       "\u001b[38;5;250m 2\u001b[39m 2 Pac  Baby Don't Cry (Keep... 2000-02-26   wk2      82\n",
       "\u001b[38;5;250m 3\u001b[39m 2 Pac  Baby Don't Cry (Keep... 2000-02-26   wk3      72\n",
       "\u001b[38;5;250m 4\u001b[39m 2 Pac  Baby Don't Cry (Keep... 2000-02-26   wk4      77\n",
       "\u001b[38;5;250m 5\u001b[39m 2 Pac  Baby Don't Cry (Keep... 2000-02-26   wk5      87\n",
       "\u001b[38;5;250m 6\u001b[39m 2 Pac  Baby Don't Cry (Keep... 2000-02-26   wk6      94\n",
       "\u001b[38;5;250m 7\u001b[39m 2 Pac  Baby Don't Cry (Keep... 2000-02-26   wk7      99\n",
       "\u001b[38;5;250m 8\u001b[39m 2 Pac  Baby Don't Cry (Keep... 2000-02-26   wk8      \u001b[31mNA\u001b[39m\n",
       "\u001b[38;5;250m 9\u001b[39m 2 Pac  Baby Don't Cry (Keep... 2000-02-26   wk9      \u001b[31mNA\u001b[39m\n",
       "\u001b[38;5;250m10\u001b[39m 2 Pac  Baby Don't Cry (Keep... 2000-02-26   wk10     \u001b[31mNA\u001b[39m\n",
       "\u001b[38;5;246m# ℹ 24,082 more rows\u001b[39m\n",
       "\u001b[38;5;246m# ℹ Use `print(n = ...)` to see more rows\u001b[39m"
      ]
     },
     "execution_count": null,
     "metadata": {},
     "output_type": "execute_result"
    }
   ],
   "source": [
    "billboard |> \n",
    "  pivot_longer(\n",
    "    cols = starts_with(\"wk\"),\n",
    "    names_to = \"week\",\n",
    "    values_to = \"rank\"\n",
    "  )"
   ]
  },
  {
   "cell_type": "code",
   "execution_count": 79,
   "metadata": {
    "vscode": {
     "languageId": "r"
    }
   },
   "outputs": [
    {
     "data": {
      "text/plain": [
       "\u001b[38;5;246m# A tibble: 5,307 × 5\u001b[39m\n",
       "   artist  track                   date.entered week   rank\n",
       "   \u001b[3m\u001b[38;5;246m<chr>\u001b[39m\u001b[23m   \u001b[3m\u001b[38;5;246m<chr>\u001b[39m\u001b[23m                   \u001b[3m\u001b[38;5;246m<date>\u001b[39m\u001b[23m       \u001b[3m\u001b[38;5;246m<chr>\u001b[39m\u001b[23m \u001b[3m\u001b[38;5;246m<dbl>\u001b[39m\u001b[23m\n",
       "\u001b[38;5;250m 1\u001b[39m 2 Pac   Baby Don't Cry (Keep... 2000-02-26   wk1      87\n",
       "\u001b[38;5;250m 2\u001b[39m 2 Pac   Baby Don't Cry (Keep... 2000-02-26   wk2      82\n",
       "\u001b[38;5;250m 3\u001b[39m 2 Pac   Baby Don't Cry (Keep... 2000-02-26   wk3      72\n",
       "\u001b[38;5;250m 4\u001b[39m 2 Pac   Baby Don't Cry (Keep... 2000-02-26   wk4      77\n",
       "\u001b[38;5;250m 5\u001b[39m 2 Pac   Baby Don't Cry (Keep... 2000-02-26   wk5      87\n",
       "\u001b[38;5;250m 6\u001b[39m 2 Pac   Baby Don't Cry (Keep... 2000-02-26   wk6      94\n",
       "\u001b[38;5;250m 7\u001b[39m 2 Pac   Baby Don't Cry (Keep... 2000-02-26   wk7      99\n",
       "\u001b[38;5;250m 8\u001b[39m 2Ge+her The Hardest Part Of ... 2000-09-02   wk1      91\n",
       "\u001b[38;5;250m 9\u001b[39m 2Ge+her The Hardest Part Of ... 2000-09-02   wk2      87\n",
       "\u001b[38;5;250m10\u001b[39m 2Ge+her The Hardest Part Of ... 2000-09-02   wk3      92\n",
       "\u001b[38;5;246m# ℹ 5,297 more rows\u001b[39m\n",
       "\u001b[38;5;246m# ℹ Use `print(n = ...)` to see more rows\u001b[39m"
      ]
     },
     "execution_count": null,
     "metadata": {},
     "output_type": "execute_result"
    }
   ],
   "source": [
    "billboard |> \n",
    "  pivot_longer(\n",
    "    cols = starts_with(\"wk\"), \n",
    "    names_to = \"week\", \n",
    "    values_to = \"rank\",\n",
    "    values_drop_na = TRUE\n",
    "  )"
   ]
  },
  {
   "cell_type": "code",
   "execution_count": 81,
   "metadata": {
    "vscode": {
     "languageId": "r"
    }
   },
   "outputs": [
    {
     "data": {
      "text/plain": [
       "\u001b[38;5;246m# A tibble: 5,307 × 5\u001b[39m\n",
       "   artist  track                   date.entered  week  rank\n",
       "   \u001b[3m\u001b[38;5;246m<chr>\u001b[39m\u001b[23m   \u001b[3m\u001b[38;5;246m<chr>\u001b[39m\u001b[23m                   \u001b[3m\u001b[38;5;246m<date>\u001b[39m\u001b[23m       \u001b[3m\u001b[38;5;246m<dbl>\u001b[39m\u001b[23m \u001b[3m\u001b[38;5;246m<dbl>\u001b[39m\u001b[23m\n",
       "\u001b[38;5;250m 1\u001b[39m 2 Pac   Baby Don't Cry (Keep... 2000-02-26       1    87\n",
       "\u001b[38;5;250m 2\u001b[39m 2 Pac   Baby Don't Cry (Keep... 2000-02-26       2    82\n",
       "\u001b[38;5;250m 3\u001b[39m 2 Pac   Baby Don't Cry (Keep... 2000-02-26       3    72\n",
       "\u001b[38;5;250m 4\u001b[39m 2 Pac   Baby Don't Cry (Keep... 2000-02-26       4    77\n",
       "\u001b[38;5;250m 5\u001b[39m 2 Pac   Baby Don't Cry (Keep... 2000-02-26       5    87\n",
       "\u001b[38;5;250m 6\u001b[39m 2 Pac   Baby Don't Cry (Keep... 2000-02-26       6    94\n",
       "\u001b[38;5;250m 7\u001b[39m 2 Pac   Baby Don't Cry (Keep... 2000-02-26       7    99\n",
       "\u001b[38;5;250m 8\u001b[39m 2Ge+her The Hardest Part Of ... 2000-09-02       1    91\n",
       "\u001b[38;5;250m 9\u001b[39m 2Ge+her The Hardest Part Of ... 2000-09-02       2    87\n",
       "\u001b[38;5;250m10\u001b[39m 2Ge+her The Hardest Part Of ... 2000-09-02       3    92\n",
       "\u001b[38;5;246m# ℹ 5,297 more rows\u001b[39m\n",
       "\u001b[38;5;246m# ℹ Use `print(n = ...)` to see more rows\u001b[39m"
      ]
     },
     "execution_count": null,
     "metadata": {},
     "output_type": "execute_result"
    }
   ],
   "source": [
    "billboard_longer <- billboard |> \n",
    "  pivot_longer(\n",
    "    cols = starts_with(\"wk\"),\n",
    "    names_to = \"week\",\n",
    "    values_to = \"rank\",\n",
    "    values_drop_na = TRUE\n",
    "  ) |> \n",
    "  mutate(\n",
    "    week = parse_number(week)\n",
    "  )\n",
    "billboard_longer"
   ]
  },
  {
   "cell_type": "code",
   "execution_count": 82,
   "metadata": {
    "vscode": {
     "languageId": "r"
    }
   },
   "outputs": [
    {
     "data": {
      "image/png": "[encoded data removed]"
     },
     "metadata": {},
     "output_type": "display_data"
    }
   ],
   "source": [
    "billboard_longer |> \n",
    "  ggplot(aes(x = week, y = rank, group = track)) + \n",
    "  geom_line(alpha = 0.25) + \n",
    "  scale_y_reverse()"
   ]
  },
  {
   "cell_type": "code",
   "execution_count": 83,
   "metadata": {
    "vscode": {
     "languageId": "r"
    }
   },
   "outputs": [],
   "source": [
    "df <- tribble(\n",
    "  ~id,  ~bp1, ~bp2,\n",
    "   \"A\",  100,  120,\n",
    "   \"B\",  140,  115,\n",
    "   \"C\",  120,  125\n",
    ")"
   ]
  },
  {
   "cell_type": "code",
   "execution_count": 84,
   "metadata": {
    "vscode": {
     "languageId": "r"
    }
   },
   "outputs": [
    {
     "data": {
      "text/plain": [
       "\u001b[38;5;246m# A tibble: 6 × 3\u001b[39m\n",
       "  id    measurement value\n",
       "  \u001b[3m\u001b[38;5;246m<chr>\u001b[39m\u001b[23m \u001b[3m\u001b[38;5;246m<chr>\u001b[39m\u001b[23m       \u001b[3m\u001b[38;5;246m<dbl>\u001b[39m\u001b[23m\n",
       "\u001b[38;5;250m1\u001b[39m A     bp1           100\n",
       "\u001b[38;5;250m2\u001b[39m A     bp2           120\n",
       "\u001b[38;5;250m3\u001b[39m B     bp1           140\n",
       "\u001b[38;5;250m4\u001b[39m B     bp2           115\n",
       "\u001b[38;5;250m5\u001b[39m C     bp1           120\n",
       "\u001b[38;5;250m6\u001b[39m C     bp2           125"
      ]
     },
     "execution_count": null,
     "metadata": {},
     "output_type": "execute_result"
    }
   ],
   "source": [
    "df |> \n",
    "  pivot_longer(\n",
    "    cols = bp1:bp2,\n",
    "    names_to = \"measurement\",\n",
    "    values_to = \"value\"\n",
    "  )"
   ]
  },
  {
   "cell_type": "code",
   "execution_count": 85,
   "metadata": {
    "vscode": {
     "languageId": "r"
    }
   },
   "outputs": [
    {
     "data": {
      "text/plain": [
       "\u001b[38;5;246m# A tibble: 7,240 × 58\u001b[39m\n",
       "   country      year sp_m_014 sp_m_1524 sp_m_2534 sp_m_3544 sp_m_4554 sp_m_5564 sp_m_65 sp_f_014 sp_f_1524\n",
       "   \u001b[3m\u001b[38;5;246m<chr>\u001b[39m\u001b[23m       \u001b[3m\u001b[38;5;246m<dbl>\u001b[39m\u001b[23m    \u001b[3m\u001b[38;5;246m<dbl>\u001b[39m\u001b[23m     \u001b[3m\u001b[38;5;246m<dbl>\u001b[39m\u001b[23m     \u001b[3m\u001b[38;5;246m<dbl>\u001b[39m\u001b[23m     \u001b[3m\u001b[38;5;246m<dbl>\u001b[39m\u001b[23m     \u001b[3m\u001b[38;5;246m<dbl>\u001b[39m\u001b[23m     \u001b[3m\u001b[38;5;246m<dbl>\u001b[39m\u001b[23m   \u001b[3m\u001b[38;5;246m<dbl>\u001b[39m\u001b[23m    \u001b[3m\u001b[38;5;246m<dbl>\u001b[39m\u001b[23m     \u001b[3m\u001b[38;5;246m<dbl>\u001b[39m\u001b[23m\n",
       "\u001b[38;5;250m 1\u001b[39m Afghanistan  \u001b[4m1\u001b[24m980       \u001b[31mNA\u001b[39m        \u001b[31mNA\u001b[39m        \u001b[31mNA\u001b[39m        \u001b[31mNA\u001b[39m        \u001b[31mNA\u001b[39m        \u001b[31mNA\u001b[39m      \u001b[31mNA\u001b[39m       \u001b[31mNA\u001b[39m        \u001b[31mNA\u001b[39m\n",
       "\u001b[38;5;250m 2\u001b[39m Afghanistan  \u001b[4m1\u001b[24m981       \u001b[31mNA\u001b[39m        \u001b[31mNA\u001b[39m        \u001b[31mNA\u001b[39m        \u001b[31mNA\u001b[39m        \u001b[31mNA\u001b[39m        \u001b[31mNA\u001b[39m      \u001b[31mNA\u001b[39m       \u001b[31mNA\u001b[39m        \u001b[31mNA\u001b[39m\n",
       "\u001b[38;5;250m 3\u001b[39m Afghanistan  \u001b[4m1\u001b[24m982       \u001b[31mNA\u001b[39m        \u001b[31mNA\u001b[39m        \u001b[31mNA\u001b[39m        \u001b[31mNA\u001b[39m        \u001b[31mNA\u001b[39m        \u001b[31mNA\u001b[39m      \u001b[31mNA\u001b[39m       \u001b[31mNA\u001b[39m        \u001b[31mNA\u001b[39m\n",
       "\u001b[38;5;250m 4\u001b[39m Afghanistan  \u001b[4m1\u001b[24m983       \u001b[31mNA\u001b[39m        \u001b[31mNA\u001b[39m        \u001b[31mNA\u001b[39m        \u001b[31mNA\u001b[39m        \u001b[31mNA\u001b[39m        \u001b[31mNA\u001b[39m      \u001b[31mNA\u001b[39m       \u001b[31mNA\u001b[39m        \u001b[31mNA\u001b[39m\n",
       "\u001b[38;5;250m 5\u001b[39m Afghanistan  \u001b[4m1\u001b[24m984       \u001b[31mNA\u001b[39m        \u001b[31mNA\u001b[39m        \u001b[31mNA\u001b[39m        \u001b[31mNA\u001b[39m        \u001b[31mNA\u001b[39m        \u001b[31mNA\u001b[39m      \u001b[31mNA\u001b[39m       \u001b[31mNA\u001b[39m        \u001b[31mNA\u001b[39m\n",
       "\u001b[38;5;250m 6\u001b[39m Afghanistan  \u001b[4m1\u001b[24m985       \u001b[31mNA\u001b[39m        \u001b[31mNA\u001b[39m        \u001b[31mNA\u001b[39m        \u001b[31mNA\u001b[39m        \u001b[31mNA\u001b[39m        \u001b[31mNA\u001b[39m      \u001b[31mNA\u001b[39m       \u001b[31mNA\u001b[39m        \u001b[31mNA\u001b[39m\n",
       "\u001b[38;5;250m 7\u001b[39m Afghanistan  \u001b[4m1\u001b[24m986       \u001b[31mNA\u001b[39m        \u001b[31mNA\u001b[39m        \u001b[31mNA\u001b[39m        \u001b[31mNA\u001b[39m        \u001b[31mNA\u001b[39m        \u001b[31mNA\u001b[39m      \u001b[31mNA\u001b[39m       \u001b[31mNA\u001b[39m        \u001b[31mNA\u001b[39m\n",
       "\u001b[38;5;250m 8\u001b[39m Afghanistan  \u001b[4m1\u001b[24m987       \u001b[31mNA\u001b[39m        \u001b[31mNA\u001b[39m        \u001b[31mNA\u001b[39m        \u001b[31mNA\u001b[39m        \u001b[31mNA\u001b[39m        \u001b[31mNA\u001b[39m      \u001b[31mNA\u001b[39m       \u001b[31mNA\u001b[39m        \u001b[31mNA\u001b[39m\n",
       "\u001b[38;5;250m 9\u001b[39m Afghanistan  \u001b[4m1\u001b[24m988       \u001b[31mNA\u001b[39m        \u001b[31mNA\u001b[39m        \u001b[31mNA\u001b[39m        \u001b[31mNA\u001b[39m        \u001b[31mNA\u001b[39m        \u001b[31mNA\u001b[39m      \u001b[31mNA\u001b[39m       \u001b[31mNA\u001b[39m        \u001b[31mNA\u001b[39m\n",
       "\u001b[38;5;250m10\u001b[39m Afghanistan  \u001b[4m1\u001b[24m989       \u001b[31mNA\u001b[39m        \u001b[31mNA\u001b[39m        \u001b[31mNA\u001b[39m        \u001b[31mNA\u001b[39m        \u001b[31mNA\u001b[39m        \u001b[31mNA\u001b[39m      \u001b[31mNA\u001b[39m       \u001b[31mNA\u001b[39m        \u001b[31mNA\u001b[39m\n",
       "\u001b[38;5;246m# ℹ 7,230 more rows\u001b[39m\n",
       "\u001b[38;5;246m# ℹ 47 more variables: sp_f_2534 <dbl>, sp_f_3544 <dbl>, sp_f_4554 <dbl>, sp_f_5564 <dbl>, sp_f_65 <dbl>,\u001b[39m\n",
       "\u001b[38;5;246m#   sn_m_014 <dbl>, sn_m_1524 <dbl>, sn_m_2534 <dbl>, sn_m_3544 <dbl>, sn_m_4554 <dbl>, sn_m_5564 <dbl>,\u001b[39m\n",
       "\u001b[38;5;246m#   sn_m_65 <dbl>, sn_f_014 <dbl>, sn_f_1524 <dbl>, sn_f_2534 <dbl>, sn_f_3544 <dbl>, sn_f_4554 <dbl>,\u001b[39m\n",
       "\u001b[38;5;246m#   sn_f_5564 <dbl>, sn_f_65 <dbl>, ep_m_014 <dbl>, ep_m_1524 <dbl>, ep_m_2534 <dbl>, ep_m_3544 <dbl>,\u001b[39m\n",
       "\u001b[38;5;246m#   ep_m_4554 <dbl>, ep_m_5564 <dbl>, ep_m_65 <dbl>, ep_f_014 <dbl>, ep_f_1524 <dbl>, ep_f_2534 <dbl>,\u001b[39m\n",
       "\u001b[38;5;246m#   ep_f_3544 <dbl>, ep_f_4554 <dbl>, ep_f_5564 <dbl>, ep_f_65 <dbl>, rel_m_014 <dbl>, …\u001b[39m\n",
       "\u001b[38;5;246m# ℹ Use `print(n = ...)` to see more rows\u001b[39m"
      ]
     },
     "execution_count": null,
     "metadata": {},
     "output_type": "execute_result"
    }
   ],
   "source": [
    "who2"
   ]
  },
  {
   "cell_type": "code",
   "execution_count": 86,
   "metadata": {
    "vscode": {
     "languageId": "r"
    }
   },
   "outputs": [
    {
     "data": {
      "text/plain": [
       "\u001b[38;5;246m# A tibble: 405,440 × 6\u001b[39m\n",
       "   country      year diagnosis gender age   count\n",
       "   \u001b[3m\u001b[38;5;246m<chr>\u001b[39m\u001b[23m       \u001b[3m\u001b[38;5;246m<dbl>\u001b[39m\u001b[23m \u001b[3m\u001b[38;5;246m<chr>\u001b[39m\u001b[23m     \u001b[3m\u001b[38;5;246m<chr>\u001b[39m\u001b[23m  \u001b[3m\u001b[38;5;246m<chr>\u001b[39m\u001b[23m \u001b[3m\u001b[38;5;246m<dbl>\u001b[39m\u001b[23m\n",
       "\u001b[38;5;250m 1\u001b[39m Afghanistan  \u001b[4m1\u001b[24m980 sp        m      014      \u001b[31mNA\u001b[39m\n",
       "\u001b[38;5;250m 2\u001b[39m Afghanistan  \u001b[4m1\u001b[24m980 sp        m      1524     \u001b[31mNA\u001b[39m\n",
       "\u001b[38;5;250m 3\u001b[39m Afghanistan  \u001b[4m1\u001b[24m980 sp        m      2534     \u001b[31mNA\u001b[39m\n",
       "\u001b[38;5;250m 4\u001b[39m Afghanistan  \u001b[4m1\u001b[24m980 sp        m      3544     \u001b[31mNA\u001b[39m\n",
       "\u001b[38;5;250m 5\u001b[39m Afghanistan  \u001b[4m1\u001b[24m980 sp        m      4554     \u001b[31mNA\u001b[39m\n",
       "\u001b[38;5;250m 6\u001b[39m Afghanistan  \u001b[4m1\u001b[24m980 sp        m      5564     \u001b[31mNA\u001b[39m\n",
       "\u001b[38;5;250m 7\u001b[39m Afghanistan  \u001b[4m1\u001b[24m980 sp        m      65       \u001b[31mNA\u001b[39m\n",
       "\u001b[38;5;250m 8\u001b[39m Afghanistan  \u001b[4m1\u001b[24m980 sp        f      014      \u001b[31mNA\u001b[39m\n",
       "\u001b[38;5;250m 9\u001b[39m Afghanistan  \u001b[4m1\u001b[24m980 sp        f      1524     \u001b[31mNA\u001b[39m\n",
       "\u001b[38;5;250m10\u001b[39m Afghanistan  \u001b[4m1\u001b[24m980 sp        f      2534     \u001b[31mNA\u001b[39m\n",
       "\u001b[38;5;246m# ℹ 405,430 more rows\u001b[39m\n",
       "\u001b[38;5;246m# ℹ Use `print(n = ...)` to see more rows\u001b[39m"
      ]
     },
     "execution_count": null,
     "metadata": {},
     "output_type": "execute_result"
    }
   ],
   "source": [
    "who2 |> \n",
    "  pivot_longer(\n",
    "    cols = !(country:year),\n",
    "    names_to = c(\"diagnosis\", \"gender\", \"age\"),\n",
    "    names_sep = \"_\",\n",
    "    values_to = \"count\"\n",
    "  )"
   ]
  },
  {
   "cell_type": "code",
   "execution_count": 87,
   "metadata": {
    "vscode": {
     "languageId": "r"
    }
   },
   "outputs": [
    {
     "data": {
      "text/plain": [
       "\u001b[38;5;246m# A tibble: 9 × 4\u001b[39m\n",
       "  family child  dob        name  \n",
       "   \u001b[3m\u001b[38;5;246m<int>\u001b[39m\u001b[23m \u001b[3m\u001b[38;5;246m<chr>\u001b[39m\u001b[23m  \u001b[3m\u001b[38;5;246m<date>\u001b[39m\u001b[23m     \u001b[3m\u001b[38;5;246m<chr>\u001b[39m\u001b[23m \n",
       "\u001b[38;5;250m1\u001b[39m      1 child1 1998-11-26 Susan \n",
       "\u001b[38;5;250m2\u001b[39m      1 child2 2000-01-29 Jose  \n",
       "\u001b[38;5;250m3\u001b[39m      2 child1 1996-06-22 Mark  \n",
       "\u001b[38;5;250m4\u001b[39m      3 child1 2002-07-11 Sam   \n",
       "\u001b[38;5;250m5\u001b[39m      3 child2 2004-04-05 Seth  \n",
       "\u001b[38;5;250m6\u001b[39m      4 child1 2004-10-10 Craig \n",
       "\u001b[38;5;250m7\u001b[39m      4 child2 2009-08-27 Khai  \n",
       "\u001b[38;5;250m8\u001b[39m      5 child1 2000-12-05 Parker\n",
       "\u001b[38;5;250m9\u001b[39m      5 child2 2005-02-28 Gracie"
      ]
     },
     "execution_count": null,
     "metadata": {},
     "output_type": "execute_result"
    }
   ],
   "source": [
    "household |> \n",
    "  pivot_longer(\n",
    "    cols = !family, \n",
    "    names_to = c(\".value\", \"child\"), \n",
    "    names_sep = \"_\", \n",
    "    values_drop_na = TRUE\n",
    "  )"
   ]
  },
  {
   "cell_type": "markdown",
   "metadata": {},
   "source": [
    "## Widening data"
   ]
  },
  {
   "cell_type": "code",
   "execution_count": 91,
   "metadata": {
    "vscode": {
     "languageId": "r"
    }
   },
   "outputs": [
    {
     "data": {
      "text/plain": [
       "\u001b[38;5;246m# A tibble: 500 × 5\u001b[39m\n",
       "   org_pac_id org_nm                               measure_cd   measure_title                     prf_rate\n",
       "   \u001b[3m\u001b[38;5;246m<chr>\u001b[39m\u001b[23m      \u001b[3m\u001b[38;5;246m<chr>\u001b[39m\u001b[23m                                \u001b[3m\u001b[38;5;246m<chr>\u001b[39m\u001b[23m        \u001b[3m\u001b[38;5;246m<chr>\u001b[39m\u001b[23m                                \u001b[3m\u001b[38;5;246m<dbl>\u001b[39m\u001b[23m\n",
       "\u001b[38;5;250m 1\u001b[39m 0446157747 USC CARE MEDICAL GROUP INC           CAHPS_GRP_1  CAHPS for MIPS SSM: Getting Time…       63\n",
       "\u001b[38;5;250m 2\u001b[39m 0446157747 USC CARE MEDICAL GROUP INC           CAHPS_GRP_2  CAHPS for MIPS SSM: How Well Pro…       87\n",
       "\u001b[38;5;250m 3\u001b[39m 0446157747 USC CARE MEDICAL GROUP INC           CAHPS_GRP_3  CAHPS for MIPS SSM: Patient's Ra…       86\n",
       "\u001b[38;5;250m 4\u001b[39m 0446157747 USC CARE MEDICAL GROUP INC           CAHPS_GRP_5  CAHPS for MIPS SSM: Health Promo…       57\n",
       "\u001b[38;5;250m 5\u001b[39m 0446157747 USC CARE MEDICAL GROUP INC           CAHPS_GRP_8  CAHPS for MIPS SSM: Courteous an…       85\n",
       "\u001b[38;5;250m 6\u001b[39m 0446157747 USC CARE MEDICAL GROUP INC           CAHPS_GRP_12 CAHPS for MIPS SSM: Stewardship …       24\n",
       "\u001b[38;5;250m 7\u001b[39m 0446162697 ASSOCIATION OF UNIVERSITY PHYSICIANS CAHPS_GRP_1  CAHPS for MIPS SSM: Getting Time…       59\n",
       "\u001b[38;5;250m 8\u001b[39m 0446162697 ASSOCIATION OF UNIVERSITY PHYSICIANS CAHPS_GRP_2  CAHPS for MIPS SSM: How Well Pro…       85\n",
       "\u001b[38;5;250m 9\u001b[39m 0446162697 ASSOCIATION OF UNIVERSITY PHYSICIANS CAHPS_GRP_3  CAHPS for MIPS SSM: Patient's Ra…       83\n",
       "\u001b[38;5;250m10\u001b[39m 0446162697 ASSOCIATION OF UNIVERSITY PHYSICIANS CAHPS_GRP_5  CAHPS for MIPS SSM: Health Promo…       63\n",
       "\u001b[38;5;246m# ℹ 490 more rows\u001b[39m\n",
       "\u001b[38;5;246m# ℹ Use `print(n = ...)` to see more rows\u001b[39m"
      ]
     },
     "execution_count": null,
     "metadata": {},
     "output_type": "execute_result"
    }
   ],
   "source": [
    "cms_patient_experience"
   ]
  },
  {
   "cell_type": "code",
   "execution_count": 92,
   "metadata": {
    "vscode": {
     "languageId": "r"
    }
   },
   "outputs": [
    {
     "data": {
      "text/plain": [
       "\u001b[38;5;246m# A tibble: 6 × 2\u001b[39m\n",
       "  measure_cd   measure_title                                                         \n",
       "  \u001b[3m\u001b[38;5;246m<chr>\u001b[39m\u001b[23m        \u001b[3m\u001b[38;5;246m<chr>\u001b[39m\u001b[23m                                                                 \n",
       "\u001b[38;5;250m1\u001b[39m CAHPS_GRP_1  CAHPS for MIPS SSM: Getting Timely Care, Appointments, and Information\n",
       "\u001b[38;5;250m2\u001b[39m CAHPS_GRP_2  CAHPS for MIPS SSM: How Well Providers Communicate                    \n",
       "\u001b[38;5;250m3\u001b[39m CAHPS_GRP_3  CAHPS for MIPS SSM: Patient's Rating of Provider                      \n",
       "\u001b[38;5;250m4\u001b[39m CAHPS_GRP_5  CAHPS for MIPS SSM: Health Promotion and Education                    \n",
       "\u001b[38;5;250m5\u001b[39m CAHPS_GRP_8  CAHPS for MIPS SSM: Courteous and Helpful Office Staff                \n",
       "\u001b[38;5;250m6\u001b[39m CAHPS_GRP_12 CAHPS for MIPS SSM: Stewardship of Patient Resources                  "
      ]
     },
     "execution_count": null,
     "metadata": {},
     "output_type": "execute_result"
    }
   ],
   "source": [
    "cms_patient_experience |> \n",
    "  distinct(measure_cd, measure_title)"
   ]
  },
  {
   "cell_type": "code",
   "execution_count": 93,
   "metadata": {
    "vscode": {
     "languageId": "r"
    }
   },
   "outputs": [
    {
     "data": {
      "text/plain": [
       "\u001b[38;5;246m# A tibble: 500 × 9\u001b[39m\n",
       "   org_pac_id org_nm             measure_title CAHPS_GRP_1 CAHPS_GRP_2 CAHPS_GRP_3 CAHPS_GRP_5 CAHPS_GRP_8\n",
       "   \u001b[3m\u001b[38;5;246m<chr>\u001b[39m\u001b[23m      \u001b[3m\u001b[38;5;246m<chr>\u001b[39m\u001b[23m              \u001b[3m\u001b[38;5;246m<chr>\u001b[39m\u001b[23m               \u001b[3m\u001b[38;5;246m<dbl>\u001b[39m\u001b[23m       \u001b[3m\u001b[38;5;246m<dbl>\u001b[39m\u001b[23m       \u001b[3m\u001b[38;5;246m<dbl>\u001b[39m\u001b[23m       \u001b[3m\u001b[38;5;246m<dbl>\u001b[39m\u001b[23m       \u001b[3m\u001b[38;5;246m<dbl>\u001b[39m\u001b[23m\n",
       "\u001b[38;5;250m 1\u001b[39m 0446157747 USC CARE MEDICAL … CAHPS for MI…          63          \u001b[31mNA\u001b[39m          \u001b[31mNA\u001b[39m          \u001b[31mNA\u001b[39m          \u001b[31mNA\u001b[39m\n",
       "\u001b[38;5;250m 2\u001b[39m 0446157747 USC CARE MEDICAL … CAHPS for MI…          \u001b[31mNA\u001b[39m          87          \u001b[31mNA\u001b[39m          \u001b[31mNA\u001b[39m          \u001b[31mNA\u001b[39m\n",
       "\u001b[38;5;250m 3\u001b[39m 0446157747 USC CARE MEDICAL … CAHPS for MI…          \u001b[31mNA\u001b[39m          \u001b[31mNA\u001b[39m          86          \u001b[31mNA\u001b[39m          \u001b[31mNA\u001b[39m\n",
       "\u001b[38;5;250m 4\u001b[39m 0446157747 USC CARE MEDICAL … CAHPS for MI…          \u001b[31mNA\u001b[39m          \u001b[31mNA\u001b[39m          \u001b[31mNA\u001b[39m          57          \u001b[31mNA\u001b[39m\n",
       "\u001b[38;5;250m 5\u001b[39m 0446157747 USC CARE MEDICAL … CAHPS for MI…          \u001b[31mNA\u001b[39m          \u001b[31mNA\u001b[39m          \u001b[31mNA\u001b[39m          \u001b[31mNA\u001b[39m          85\n",
       "\u001b[38;5;250m 6\u001b[39m 0446157747 USC CARE MEDICAL … CAHPS for MI…          \u001b[31mNA\u001b[39m          \u001b[31mNA\u001b[39m          \u001b[31mNA\u001b[39m          \u001b[31mNA\u001b[39m          \u001b[31mNA\u001b[39m\n",
       "\u001b[38;5;250m 7\u001b[39m 0446162697 ASSOCIATION OF UN… CAHPS for MI…          59          \u001b[31mNA\u001b[39m          \u001b[31mNA\u001b[39m          \u001b[31mNA\u001b[39m          \u001b[31mNA\u001b[39m\n",
       "\u001b[38;5;250m 8\u001b[39m 0446162697 ASSOCIATION OF UN… CAHPS for MI…          \u001b[31mNA\u001b[39m          85          \u001b[31mNA\u001b[39m          \u001b[31mNA\u001b[39m          \u001b[31mNA\u001b[39m\n",
       "\u001b[38;5;250m 9\u001b[39m 0446162697 ASSOCIATION OF UN… CAHPS for MI…          \u001b[31mNA\u001b[39m          \u001b[31mNA\u001b[39m          83          \u001b[31mNA\u001b[39m          \u001b[31mNA\u001b[39m\n",
       "\u001b[38;5;250m10\u001b[39m 0446162697 ASSOCIATION OF UN… CAHPS for MI…          \u001b[31mNA\u001b[39m          \u001b[31mNA\u001b[39m          \u001b[31mNA\u001b[39m          63          \u001b[31mNA\u001b[39m\n",
       "\u001b[38;5;246m# ℹ 490 more rows\u001b[39m\n",
       "\u001b[38;5;246m# ℹ 1 more variable: CAHPS_GRP_12 <dbl>\u001b[39m\n",
       "\u001b[38;5;246m# ℹ Use `print(n = ...)` to see more rows\u001b[39m"
      ]
     },
     "execution_count": null,
     "metadata": {},
     "output_type": "execute_result"
    }
   ],
   "source": [
    "cms_patient_experience |> \n",
    "  pivot_wider(\n",
    "    names_from = measure_cd,\n",
    "    values_from = prf_rate\n",
    "  )"
   ]
  },
  {
   "cell_type": "code",
   "execution_count": 94,
   "metadata": {
    "vscode": {
     "languageId": "r"
    }
   },
   "outputs": [
    {
     "data": {
      "text/plain": [
       "\u001b[38;5;246m# A tibble: 95 × 8\u001b[39m\n",
       "   org_pac_id org_nm              CAHPS_GRP_1 CAHPS_GRP_2 CAHPS_GRP_3 CAHPS_GRP_5 CAHPS_GRP_8 CAHPS_GRP_12\n",
       "   \u001b[3m\u001b[38;5;246m<chr>\u001b[39m\u001b[23m      \u001b[3m\u001b[38;5;246m<chr>\u001b[39m\u001b[23m                     \u001b[3m\u001b[38;5;246m<dbl>\u001b[39m\u001b[23m       \u001b[3m\u001b[38;5;246m<dbl>\u001b[39m\u001b[23m       \u001b[3m\u001b[38;5;246m<dbl>\u001b[39m\u001b[23m       \u001b[3m\u001b[38;5;246m<dbl>\u001b[39m\u001b[23m       \u001b[3m\u001b[38;5;246m<dbl>\u001b[39m\u001b[23m        \u001b[3m\u001b[38;5;246m<dbl>\u001b[39m\u001b[23m\n",
       "\u001b[38;5;250m 1\u001b[39m 0446157747 USC CARE MEDICAL G…          63          87          86          57          85           24\n",
       "\u001b[38;5;250m 2\u001b[39m 0446162697 ASSOCIATION OF UNI…          59          85          83          63          88           22\n",
       "\u001b[38;5;250m 3\u001b[39m 0547164295 BEAVER MEDICAL GRO…          49          \u001b[31mNA\u001b[39m          75          44          73           12\n",
       "\u001b[38;5;250m 4\u001b[39m 0749333730 CAPE PHYSICIANS AS…          67          84          85          65          82           24\n",
       "\u001b[38;5;250m 5\u001b[39m 0840104360 ALLIANCE PHYSICIAN…          66          87          87          64          87           28\n",
       "\u001b[38;5;250m 6\u001b[39m 0840109864 REX HOSPITAL INC             73          87          84          67          91           30\n",
       "\u001b[38;5;250m 7\u001b[39m 0840513552 SCL HEALTH MEDICAL…          58          83          76          58          78           26\n",
       "\u001b[38;5;250m 8\u001b[39m 0941545784 GRITMAN MEDICAL CE…          46          86          81          54          \u001b[31mNA\u001b[39m           25\n",
       "\u001b[38;5;250m 9\u001b[39m 1052612785 COMMUNITY MEDICAL …          65          84          80          58          87           29\n",
       "\u001b[38;5;250m10\u001b[39m 1254237779 OUR LADY OF LOURDE…          61          \u001b[31mNA\u001b[39m          \u001b[31mNA\u001b[39m          65          \u001b[31mNA\u001b[39m           17\n",
       "\u001b[38;5;246m# ℹ 85 more rows\u001b[39m\n",
       "\u001b[38;5;246m# ℹ Use `print(n = ...)` to see more rows\u001b[39m"
      ]
     },
     "execution_count": null,
     "metadata": {},
     "output_type": "execute_result"
    }
   ],
   "source": [
    "cms_patient_experience |> \n",
    "  pivot_wider(\n",
    "    id_cols = starts_with(\"org\"),\n",
    "    names_from = measure_cd,\n",
    "    values_from = prf_rate\n",
    "  )"
   ]
  },
  {
   "cell_type": "code",
   "execution_count": 95,
   "metadata": {
    "vscode": {
     "languageId": "r"
    }
   },
   "outputs": [],
   "source": [
    "df <- tribble(\n",
    "  ~id, ~measurement, ~value,\n",
    "  \"A\",        \"bp1\",    100,\n",
    "  \"B\",        \"bp1\",    140,\n",
    "  \"B\",        \"bp2\",    115, \n",
    "  \"A\",        \"bp2\",    120,\n",
    "  \"A\",        \"bp3\",    105\n",
    ")"
   ]
  },
  {
   "cell_type": "code",
   "execution_count": 96,
   "metadata": {
    "vscode": {
     "languageId": "r"
    }
   },
   "outputs": [
    {
     "data": {
      "text/plain": [
       "\u001b[38;5;246m# A tibble: 2 × 4\u001b[39m\n",
       "  id      bp1   bp2   bp3\n",
       "  \u001b[3m\u001b[38;5;246m<chr>\u001b[39m\u001b[23m \u001b[3m\u001b[38;5;246m<dbl>\u001b[39m\u001b[23m \u001b[3m\u001b[38;5;246m<dbl>\u001b[39m\u001b[23m \u001b[3m\u001b[38;5;246m<dbl>\u001b[39m\u001b[23m\n",
       "\u001b[38;5;250m1\u001b[39m A       100   120   105\n",
       "\u001b[38;5;250m2\u001b[39m B       140   115    \u001b[31mNA\u001b[39m"
      ]
     },
     "execution_count": null,
     "metadata": {},
     "output_type": "execute_result"
    }
   ],
   "source": [
    "df |> \n",
    "  pivot_wider(\n",
    "    names_from = measurement,\n",
    "    values_from = value\n",
    "  )"
   ]
  },
  {
   "cell_type": "markdown",
   "metadata": {},
   "source": [
    "# Data import"
   ]
  },
  {
   "cell_type": "markdown",
   "metadata": {},
   "source": [
    "## Reading data from a file"
   ]
  },
  {
   "cell_type": "code",
   "execution_count": 111,
   "metadata": {
    "vscode": {
     "languageId": "r"
    }
   },
   "outputs": [
    {
     "name": "stdout",
     "output_type": "stream",
     "text": [
      "\u001b[1mRows: \u001b[22m\u001b[34m6\u001b[39m \u001b[1mColumns: \u001b[22m\u001b[34m5\u001b[39m\n",
      "\u001b[36m──\u001b[39m \u001b[1mColumn specification\u001b[22m \u001b[36m──────────────────────────────────────────────────────────────────────────────────\u001b[39m\n",
      "\u001b[1mDelimiter:\u001b[22m \",\"\n",
      "\u001b[31mchr\u001b[39m (4): Full Name, favourite.food, mealPlan, AGE\n",
      "\u001b[32mdbl\u001b[39m (1): Student ID\n",
      "\n",
      "\u001b[36mℹ\u001b[39m Use `spec()` to retrieve the full column specification for this data.\n",
      "\u001b[36mℹ\u001b[39m Specify the column types or set `show_col_types = FALSE` to quiet this message.\n"
     ]
    },
    {
     "data": {
      "text/plain": [
       "\u001b[38;5;246m# A tibble: 6 × 5\u001b[39m\n",
       "  `Student ID` `Full Name`      favourite.food     mealPlan            AGE  \n",
       "         \u001b[3m\u001b[38;5;246m<dbl>\u001b[39m\u001b[23m \u001b[3m\u001b[38;5;246m<chr>\u001b[39m\u001b[23m            \u001b[3m\u001b[38;5;246m<chr>\u001b[39m\u001b[23m              \u001b[3m\u001b[38;5;246m<chr>\u001b[39m\u001b[23m               \u001b[3m\u001b[38;5;246m<chr>\u001b[39m\u001b[23m\n",
       "\u001b[38;5;250m1\u001b[39m            1 Sunil Huffmann   Strawberry yoghurt Lunch only          4    \n",
       "\u001b[38;5;250m2\u001b[39m            2 Barclay Lynn     French fries       Lunch only          5    \n",
       "\u001b[38;5;250m3\u001b[39m            3 Jayendra Lyne    N/A                Breakfast and lunch 7    \n",
       "\u001b[38;5;250m4\u001b[39m            4 Leon Rossini     Anchovies          Lunch only          \u001b[31mNA\u001b[39m   \n",
       "\u001b[38;5;250m5\u001b[39m            5 Chidiegwu Dunkel Pizza              Breakfast and lunch five \n",
       "\u001b[38;5;250m6\u001b[39m            6 Güvenç Attila    Ice cream          Lunch only          6    "
      ]
     },
     "execution_count": null,
     "metadata": {},
     "output_type": "execute_result"
    }
   ],
   "source": [
    "students <- read_csv(\"data/students.csv\")\n",
    "students"
   ]
  },
  {
   "cell_type": "code",
   "execution_count": 100,
   "metadata": {
    "vscode": {
     "languageId": "r"
    }
   },
   "outputs": [
    {
     "name": "stderr",
     "output_type": "stream",
     "text": [
      "警告信息:\n",
      "Failed to open 'https://pos.it/r4ds-students-csv': Failed to connect to raw.githubusercontent.com port 443 after 2 ms: Could not connect to server \n"
     ]
    },
    {
     "ename": "",
     "evalue": "\u001b[1m\u001b[33mError\u001b[39m in `open.connection()`:\u001b[22m\n\u001b[33m!\u001b[39m 无法打开链结",
     "output_type": "error",
     "traceback": [
      "\u001b[1m\u001b[33mError\u001b[39m in `open.connection()`:\u001b[22m\n",
      "\u001b[33m!\u001b[39m 无法打开链结\n",
      "\u001b[90m    \u001b[39m▆\n",
      "\u001b[90m 1. \u001b[39m├─\u001b[1mreadr\u001b[22m::read_csv(\"https://pos.it/r4ds-students-csv\")\n",
      "\u001b[90m 2. \u001b[39m│ └─\u001b[1mvroom\u001b[22m::vroom(...)\n",
      "\u001b[90m 3. \u001b[39m│   └─vroom:::vroom_(...)\n",
      "\u001b[90m 4. \u001b[39m├─\u001b[1mbase\u001b[22m (local) `<fn>`(`<curl>`, \"rb\")\n",
      "\u001b[90m 5. \u001b[39m└─base::open.connection(`<curl>`, \"rb\")"
     ]
    }
   ],
   "source": [
    "students <- read_csv(\"https://pos.it/r4ds-students-csv\")\n",
    "students"
   ]
  },
  {
   "cell_type": "code",
   "execution_count": 103,
   "metadata": {
    "vscode": {
     "languageId": "r"
    }
   },
   "outputs": [
    {
     "name": "stdout",
     "output_type": "stream",
     "text": [
      "\u001b[1mRows: \u001b[22m\u001b[34m6\u001b[39m \u001b[1mColumns: \u001b[22m\u001b[34m5\u001b[39m\n",
      "\u001b[36m──\u001b[39m \u001b[1mColumn specification\u001b[22m \u001b[36m──────────────────────────────────────────────────────────────────────────────────\u001b[39m\n",
      "\u001b[1mDelimiter:\u001b[22m \",\"\n",
      "\u001b[31mchr\u001b[39m (4): Full Name, favourite.food, mealPlan, AGE\n",
      "\u001b[32mdbl\u001b[39m (1): Student ID\n",
      "\n",
      "\u001b[36mℹ\u001b[39m Use `spec()` to retrieve the full column specification for this data.\n",
      "\u001b[36mℹ\u001b[39m Specify the column types or set `show_col_types = FALSE` to quiet this message.\n"
     ]
    },
    {
     "data": {
      "text/plain": [
       "\u001b[38;5;246m# A tibble: 6 × 5\u001b[39m\n",
       "  `Student ID` `Full Name`      favourite.food     mealPlan            AGE  \n",
       "         \u001b[3m\u001b[38;5;246m<dbl>\u001b[39m\u001b[23m \u001b[3m\u001b[38;5;246m<chr>\u001b[39m\u001b[23m            \u001b[3m\u001b[38;5;246m<chr>\u001b[39m\u001b[23m              \u001b[3m\u001b[38;5;246m<chr>\u001b[39m\u001b[23m               \u001b[3m\u001b[38;5;246m<chr>\u001b[39m\u001b[23m\n",
       "\u001b[38;5;250m1\u001b[39m            1 Sunil Huffmann   Strawberry yoghurt Lunch only          4    \n",
       "\u001b[38;5;250m2\u001b[39m            2 Barclay Lynn     French fries       Lunch only          5    \n",
       "\u001b[38;5;250m3\u001b[39m            3 Jayendra Lyne    \u001b[31mNA\u001b[39m                 Breakfast and lunch 7    \n",
       "\u001b[38;5;250m4\u001b[39m            4 Leon Rossini     Anchovies          Lunch only          \u001b[31mNA\u001b[39m   \n",
       "\u001b[38;5;250m5\u001b[39m            5 Chidiegwu Dunkel Pizza              Breakfast and lunch five \n",
       "\u001b[38;5;250m6\u001b[39m            6 Güvenç Attila    Ice cream          Lunch only          6    "
      ]
     },
     "execution_count": null,
     "metadata": {},
     "output_type": "execute_result"
    }
   ],
   "source": [
    "# 缺失值设定\n",
    "students <- read_csv(\"data/students.csv\", na = c(\"N/A\", \"\"))\n",
    "students"
   ]
  },
  {
   "cell_type": "code",
   "execution_count": 104,
   "metadata": {
    "vscode": {
     "languageId": "r"
    }
   },
   "outputs": [
    {
     "data": {
      "text/plain": [
       "\u001b[38;5;246m# A tibble: 6 × 5\u001b[39m\n",
       "  student_id full_name        favourite.food     mealPlan            AGE  \n",
       "       \u001b[3m\u001b[38;5;246m<dbl>\u001b[39m\u001b[23m \u001b[3m\u001b[38;5;246m<chr>\u001b[39m\u001b[23m            \u001b[3m\u001b[38;5;246m<chr>\u001b[39m\u001b[23m              \u001b[3m\u001b[38;5;246m<chr>\u001b[39m\u001b[23m               \u001b[3m\u001b[38;5;246m<chr>\u001b[39m\u001b[23m\n",
       "\u001b[38;5;250m1\u001b[39m          1 Sunil Huffmann   Strawberry yoghurt Lunch only          4    \n",
       "\u001b[38;5;250m2\u001b[39m          2 Barclay Lynn     French fries       Lunch only          5    \n",
       "\u001b[38;5;250m3\u001b[39m          3 Jayendra Lyne    \u001b[31mNA\u001b[39m                 Breakfast and lunch 7    \n",
       "\u001b[38;5;250m4\u001b[39m          4 Leon Rossini     Anchovies          Lunch only          \u001b[31mNA\u001b[39m   \n",
       "\u001b[38;5;250m5\u001b[39m          5 Chidiegwu Dunkel Pizza              Breakfast and lunch five \n",
       "\u001b[38;5;250m6\u001b[39m          6 Güvenç Attila    Ice cream          Lunch only          6    "
      ]
     },
     "execution_count": null,
     "metadata": {},
     "output_type": "execute_result"
    }
   ],
   "source": [
    "students |> \n",
    "  rename(\n",
    "    student_id = `Student ID`,\n",
    "    full_name = `Full Name`\n",
    "  )"
   ]
  },
  {
   "cell_type": "code",
   "execution_count": 105,
   "metadata": {
    "vscode": {
     "languageId": "r"
    }
   },
   "outputs": [
    {
     "name": "stdout",
     "output_type": "stream",
     "text": [
      "还安装依赖关系‘snakecase’\n",
      "\n"
     ]
    },
    {
     "name": "stderr",
     "output_type": "stream",
     "text": [
      "试开URL’https://cran.rstudio.com/bin/macosx/big-sur-arm64/contrib/4.4/snakecase_0.11.1.tgz'\n",
      "Content type 'application/x-gzip' length 160610 bytes (156 KB)\n",
      "==================================================\n",
      "downloaded 156 KB\n",
      "\n",
      "试开URL’https://cran.rstudio.com/bin/macosx/big-sur-arm64/contrib/4.4/janitor_2.2.1.tgz'\n",
      "Content type 'application/x-gzip' length 286262 bytes (279 KB)\n",
      "==================================================\n",
      "downloaded 279 KB\n",
      "\n"
     ]
    },
    {
     "name": "stdout",
     "output_type": "stream",
     "text": [
      "\n",
      "下载的二进制程序包在\n",
      "\t/var/folders/fv/c0dh9y6s7638rh5fdr3lgcmr0000gn/T//Rtmp5aJdsR/downloaded_packages里\n"
     ]
    }
   ],
   "source": [
    "install.packages(\"janitor\")"
   ]
  },
  {
   "cell_type": "code",
   "execution_count": 106,
   "metadata": {
    "vscode": {
     "languageId": "r"
    }
   },
   "outputs": [
    {
     "name": "stdout",
     "output_type": "stream",
     "text": [
      "\n",
      "载入程序包：‘janitor’\n",
      "\n",
      "The following objects are masked from ‘package:stats’:\n",
      "\n",
      "    chisq.test, fisher.test\n",
      "\n"
     ]
    },
    {
     "data": {
      "text/plain": [
       "\u001b[38;5;246m# A tibble: 6 × 5\u001b[39m\n",
       "  student_id full_name        favourite_food     meal_plan           age  \n",
       "       \u001b[3m\u001b[38;5;246m<dbl>\u001b[39m\u001b[23m \u001b[3m\u001b[38;5;246m<chr>\u001b[39m\u001b[23m            \u001b[3m\u001b[38;5;246m<chr>\u001b[39m\u001b[23m              \u001b[3m\u001b[38;5;246m<chr>\u001b[39m\u001b[23m               \u001b[3m\u001b[38;5;246m<chr>\u001b[39m\u001b[23m\n",
       "\u001b[38;5;250m1\u001b[39m          1 Sunil Huffmann   Strawberry yoghurt Lunch only          4    \n",
       "\u001b[38;5;250m2\u001b[39m          2 Barclay Lynn     French fries       Lunch only          5    \n",
       "\u001b[38;5;250m3\u001b[39m          3 Jayendra Lyne    \u001b[31mNA\u001b[39m                 Breakfast and lunch 7    \n",
       "\u001b[38;5;250m4\u001b[39m          4 Leon Rossini     Anchovies          Lunch only          \u001b[31mNA\u001b[39m   \n",
       "\u001b[38;5;250m5\u001b[39m          5 Chidiegwu Dunkel Pizza              Breakfast and lunch five \n",
       "\u001b[38;5;250m6\u001b[39m          6 Güvenç Attila    Ice cream          Lunch only          6    "
      ]
     },
     "execution_count": null,
     "metadata": {},
     "output_type": "execute_result"
    }
   ],
   "source": [
    "library(janitor)\n",
    "students |> \n",
    "  janitor::clean_names()"
   ]
  },
  {
   "cell_type": "code",
   "execution_count": 108,
   "metadata": {
    "vscode": {
     "languageId": "r"
    }
   },
   "outputs": [
    {
     "data": {
      "text/plain": [
       "\u001b[38;5;246m# A tibble: 6 × 5\u001b[39m\n",
       "  student_id full_name        favourite_food     meal_plan           age  \n",
       "       \u001b[3m\u001b[38;5;246m<dbl>\u001b[39m\u001b[23m \u001b[3m\u001b[38;5;246m<chr>\u001b[39m\u001b[23m            \u001b[3m\u001b[38;5;246m<chr>\u001b[39m\u001b[23m              \u001b[3m\u001b[38;5;246m<fct>\u001b[39m\u001b[23m               \u001b[3m\u001b[38;5;246m<chr>\u001b[39m\u001b[23m\n",
       "\u001b[38;5;250m1\u001b[39m          1 Sunil Huffmann   Strawberry yoghurt Lunch only          4    \n",
       "\u001b[38;5;250m2\u001b[39m          2 Barclay Lynn     French fries       Lunch only          5    \n",
       "\u001b[38;5;250m3\u001b[39m          3 Jayendra Lyne    \u001b[31mNA\u001b[39m                 Breakfast and lunch 7    \n",
       "\u001b[38;5;250m4\u001b[39m          4 Leon Rossini     Anchovies          Lunch only          \u001b[31mNA\u001b[39m   \n",
       "\u001b[38;5;250m5\u001b[39m          5 Chidiegwu Dunkel Pizza              Breakfast and lunch five \n",
       "\u001b[38;5;250m6\u001b[39m          6 Güvenç Attila    Ice cream          Lunch only          6    "
      ]
     },
     "execution_count": null,
     "metadata": {},
     "output_type": "execute_result"
    }
   ],
   "source": [
    "students |> \n",
    "  janitor::clean_names() |> \n",
    "  mutate(meal_plan = factor(meal_plan))"
   ]
  },
  {
   "cell_type": "code",
   "execution_count": 112,
   "metadata": {
    "vscode": {
     "languageId": "r"
    }
   },
   "outputs": [],
   "source": [
    "students <- students |> \n",
    "  janitor::clean_names() |> \n",
    "  mutate(\n",
    "    meal_plan = factor(meal_plan),\n",
    "    age = parse_number(if_else(age == \"five\", \"5\", age))\n",
    "  )"
   ]
  },
  {
   "cell_type": "code",
   "execution_count": 113,
   "metadata": {
    "vscode": {
     "languageId": "r"
    }
   },
   "outputs": [
    {
     "data": {
      "text/plain": [
       "\u001b[38;5;246m# A tibble: 6 × 5\u001b[39m\n",
       "  student_id full_name        favourite_food     meal_plan             age\n",
       "       \u001b[3m\u001b[38;5;246m<dbl>\u001b[39m\u001b[23m \u001b[3m\u001b[38;5;246m<chr>\u001b[39m\u001b[23m            \u001b[3m\u001b[38;5;246m<chr>\u001b[39m\u001b[23m              \u001b[3m\u001b[38;5;246m<fct>\u001b[39m\u001b[23m               \u001b[3m\u001b[38;5;246m<dbl>\u001b[39m\u001b[23m\n",
       "\u001b[38;5;250m1\u001b[39m          1 Sunil Huffmann   Strawberry yoghurt Lunch only              4\n",
       "\u001b[38;5;250m2\u001b[39m          2 Barclay Lynn     French fries       Lunch only              5\n",
       "\u001b[38;5;250m3\u001b[39m          3 Jayendra Lyne    N/A                Breakfast and lunch     7\n",
       "\u001b[38;5;250m4\u001b[39m          4 Leon Rossini     Anchovies          Lunch only             \u001b[31mNA\u001b[39m\n",
       "\u001b[38;5;250m5\u001b[39m          5 Chidiegwu Dunkel Pizza              Breakfast and lunch     5\n",
       "\u001b[38;5;250m6\u001b[39m          6 Güvenç Attila    Ice cream          Lunch only              6"
      ]
     },
     "execution_count": null,
     "metadata": {},
     "output_type": "execute_result"
    }
   ],
   "source": [
    "students"
   ]
  },
  {
   "cell_type": "code",
   "execution_count": 114,
   "metadata": {
    "vscode": {
     "languageId": "r"
    }
   },
   "outputs": [
    {
     "name": "stdout",
     "output_type": "stream",
     "text": [
      "\u001b[1mRows: \u001b[22m\u001b[34m1\u001b[39m \u001b[1mColumns: \u001b[22m\u001b[34m3\u001b[39m\n",
      "\u001b[36m──\u001b[39m \u001b[1mColumn specification\u001b[22m \u001b[36m──────────────────────────────────────────────────────────────────────────────────\u001b[39m\n",
      "\u001b[1mDelimiter:\u001b[22m \",\"\n",
      "\u001b[32mdbl\u001b[39m (3): x, y, z\n",
      "\n",
      "\u001b[36mℹ\u001b[39m Use `spec()` to retrieve the full column specification for this data.\n",
      "\u001b[36mℹ\u001b[39m Specify the column types or set `show_col_types = FALSE` to quiet this message.\n"
     ]
    },
    {
     "data": {
      "text/plain": [
       "\u001b[38;5;246m# A tibble: 1 × 3\u001b[39m\n",
       "      x     y     z\n",
       "  \u001b[3m\u001b[38;5;246m<dbl>\u001b[39m\u001b[23m \u001b[3m\u001b[38;5;246m<dbl>\u001b[39m\u001b[23m \u001b[3m\u001b[38;5;246m<dbl>\u001b[39m\u001b[23m\n",
       "\u001b[38;5;250m1\u001b[39m     1     2     3"
      ]
     },
     "execution_count": null,
     "metadata": {},
     "output_type": "execute_result"
    }
   ],
   "source": [
    "read_csv(\n",
    "  \"The first line of metadata\n",
    "  The second line of metadata\n",
    "  x,y,z\n",
    "  1,2,3\",\n",
    "  skip = 2\n",
    "  )"
   ]
  },
  {
   "cell_type": "code",
   "execution_count": 115,
   "metadata": {
    "vscode": {
     "languageId": "r"
    }
   },
   "outputs": [
    {
     "name": "stdout",
     "output_type": "stream",
     "text": [
      "\u001b[1mRows: \u001b[22m\u001b[34m1\u001b[39m \u001b[1mColumns: \u001b[22m\u001b[34m3\u001b[39m\n",
      "\u001b[36m──\u001b[39m \u001b[1mColumn specification\u001b[22m \u001b[36m──────────────────────────────────────────────────────────────────────────────────\u001b[39m\n",
      "\u001b[1mDelimiter:\u001b[22m \",\"\n",
      "\u001b[32mdbl\u001b[39m (3): x, y, z\n",
      "\n",
      "\u001b[36mℹ\u001b[39m Use `spec()` to retrieve the full column specification for this data.\n",
      "\u001b[36mℹ\u001b[39m Specify the column types or set `show_col_types = FALSE` to quiet this message.\n"
     ]
    },
    {
     "data": {
      "text/plain": [
       "\u001b[38;5;246m# A tibble: 1 × 3\u001b[39m\n",
       "      x     y     z\n",
       "  \u001b[3m\u001b[38;5;246m<dbl>\u001b[39m\u001b[23m \u001b[3m\u001b[38;5;246m<dbl>\u001b[39m\u001b[23m \u001b[3m\u001b[38;5;246m<dbl>\u001b[39m\u001b[23m\n",
       "\u001b[38;5;250m1\u001b[39m     1     2     3"
      ]
     },
     "execution_count": null,
     "metadata": {},
     "output_type": "execute_result"
    }
   ],
   "source": [
    "read_csv(\n",
    "  \"# A comment I want to skip\n",
    "  x,y,z\n",
    "  1,2,3\",\n",
    "  comment = \"#\"\n",
    "  )"
   ]
  },
  {
   "cell_type": "code",
   "execution_count": 116,
   "metadata": {
    "vscode": {
     "languageId": "r"
    }
   },
   "outputs": [
    {
     "name": "stdout",
     "output_type": "stream",
     "text": [
      "\u001b[1mRows: \u001b[22m\u001b[34m2\u001b[39m \u001b[1mColumns: \u001b[22m\u001b[34m3\u001b[39m\n",
      "\u001b[36m──\u001b[39m \u001b[1mColumn specification\u001b[22m \u001b[36m──────────────────────────────────────────────────────────────────────────────────\u001b[39m\n",
      "\u001b[1mDelimiter:\u001b[22m \",\"\n",
      "\u001b[32mdbl\u001b[39m (3): X1, X2, X3\n",
      "\n",
      "\u001b[36mℹ\u001b[39m Use `spec()` to retrieve the full column specification for this data.\n",
      "\u001b[36mℹ\u001b[39m Specify the column types or set `show_col_types = FALSE` to quiet this message.\n"
     ]
    },
    {
     "data": {
      "text/plain": [
       "\u001b[38;5;246m# A tibble: 2 × 3\u001b[39m\n",
       "     X1    X2    X3\n",
       "  \u001b[3m\u001b[38;5;246m<dbl>\u001b[39m\u001b[23m \u001b[3m\u001b[38;5;246m<dbl>\u001b[39m\u001b[23m \u001b[3m\u001b[38;5;246m<dbl>\u001b[39m\u001b[23m\n",
       "\u001b[38;5;250m1\u001b[39m     1     2     3\n",
       "\u001b[38;5;250m2\u001b[39m     4     5     6"
      ]
     },
     "execution_count": null,
     "metadata": {},
     "output_type": "execute_result"
    }
   ],
   "source": [
    "read_csv(\n",
    "  \"1,2,3\n",
    "  4,5,6\",\n",
    "  col_names = FALSE\n",
    ")"
   ]
  },
  {
   "cell_type": "code",
   "execution_count": 118,
   "metadata": {
    "vscode": {
     "languageId": "r"
    }
   },
   "outputs": [
    {
     "name": "stdout",
     "output_type": "stream",
     "text": [
      "\u001b[1mRows: \u001b[22m\u001b[34m2\u001b[39m \u001b[1mColumns: \u001b[22m\u001b[34m3\u001b[39m\n",
      "\u001b[36m──\u001b[39m \u001b[1mColumn specification\u001b[22m \u001b[36m──────────────────────────────────────────────────────────────────────────────────\u001b[39m\n",
      "\u001b[1mDelimiter:\u001b[22m \",\"\n",
      "\u001b[32mdbl\u001b[39m (3): x, y, z\n",
      "\n",
      "\u001b[36mℹ\u001b[39m Use `spec()` to retrieve the full column specification for this data.\n",
      "\u001b[36mℹ\u001b[39m Specify the column types or set `show_col_types = FALSE` to quiet this message.\n"
     ]
    },
    {
     "data": {
      "text/plain": [
       "\u001b[38;5;246m# A tibble: 2 × 3\u001b[39m\n",
       "      x     y     z\n",
       "  \u001b[3m\u001b[38;5;246m<dbl>\u001b[39m\u001b[23m \u001b[3m\u001b[38;5;246m<dbl>\u001b[39m\u001b[23m \u001b[3m\u001b[38;5;246m<dbl>\u001b[39m\u001b[23m\n",
       "\u001b[38;5;250m1\u001b[39m     1     2     3\n",
       "\u001b[38;5;250m2\u001b[39m     4     5     6"
      ]
     },
     "execution_count": null,
     "metadata": {},
     "output_type": "execute_result"
    }
   ],
   "source": [
    "read_csv(\n",
    "  \"1,2,3\n",
    "  4,5,6\",\n",
    "  col_names = c(\"x\", \"y\", \"z\")\n",
    ")"
   ]
  },
  {
   "cell_type": "markdown",
   "metadata": {},
   "source": [
    "## Controlling column types"
   ]
  },
  {
   "cell_type": "code",
   "execution_count": 119,
   "metadata": {
    "vscode": {
     "languageId": "r"
    }
   },
   "outputs": [],
   "source": [
    "simple_csv <- \"\n",
    "  x\n",
    "  10\n",
    "  .\n",
    "  20\n",
    "  30\""
   ]
  },
  {
   "cell_type": "code",
   "execution_count": 120,
   "metadata": {
    "vscode": {
     "languageId": "r"
    }
   },
   "outputs": [
    {
     "name": "stderr",
     "output_type": "stream",
     "text": [
      "警告信息:\n",
      "\u001b[1m\u001b[22mOne or more parsing issues, call `problems()` on your data frame for details, e.g.:\n",
      "  dat <- vroom(...)\n",
      "  problems(dat) \n"
     ]
    }
   ],
   "source": [
    "df <- read_csv(\n",
    "  simple_csv, \n",
    "  col_types = list(x = col_double())\n",
    ")"
   ]
  },
  {
   "cell_type": "code",
   "execution_count": 121,
   "metadata": {
    "vscode": {
     "languageId": "r"
    }
   },
   "outputs": [
    {
     "data": {
      "text/plain": [
       "\u001b[38;5;246m# A tibble: 1 × 5\u001b[39m\n",
       "    row   col expected actual file                                                                        \n",
       "  \u001b[3m\u001b[38;5;246m<int>\u001b[39m\u001b[23m \u001b[3m\u001b[38;5;246m<int>\u001b[39m\u001b[23m \u001b[3m\u001b[38;5;246m<chr>\u001b[39m\u001b[23m    \u001b[3m\u001b[38;5;246m<chr>\u001b[39m\u001b[23m  \u001b[3m\u001b[38;5;246m<chr>\u001b[39m\u001b[23m                                                                       \n",
       "\u001b[38;5;250m1\u001b[39m     3     1 a double .      /private/var/folders/fv/c0dh9y6s7638rh5fdr3lgcmr0000gn/T/Rtmp5aJdsR/filefda…"
      ]
     },
     "execution_count": null,
     "metadata": {},
     "output_type": "execute_result"
    }
   ],
   "source": [
    "problems(df)"
   ]
  },
  {
   "cell_type": "code",
   "execution_count": 122,
   "metadata": {
    "vscode": {
     "languageId": "r"
    }
   },
   "outputs": [
    {
     "data": {
      "text/plain": [
       "\u001b[38;5;246m# A tibble: 1 × 3\u001b[39m\n",
       "  x     y     z    \n",
       "  \u001b[3m\u001b[38;5;246m<chr>\u001b[39m\u001b[23m \u001b[3m\u001b[38;5;246m<chr>\u001b[39m\u001b[23m \u001b[3m\u001b[38;5;246m<chr>\u001b[39m\u001b[23m\n",
       "\u001b[38;5;250m1\u001b[39m 1     2     3    "
      ]
     },
     "execution_count": null,
     "metadata": {},
     "output_type": "execute_result"
    }
   ],
   "source": [
    "another_csv <- \"\n",
    "x,y,z\n",
    "1,2,3\"\n",
    "\n",
    "read_csv(\n",
    "  another_csv, \n",
    "  col_types = cols(.default = col_character())\n",
    ")"
   ]
  },
  {
   "cell_type": "code",
   "execution_count": 123,
   "metadata": {
    "vscode": {
     "languageId": "r"
    }
   },
   "outputs": [
    {
     "data": {
      "text/plain": [
       "\u001b[38;5;246m# A tibble: 1 × 1\u001b[39m\n",
       "  x    \n",
       "  \u001b[3m\u001b[38;5;246m<chr>\u001b[39m\u001b[23m\n",
       "\u001b[38;5;250m1\u001b[39m 1    "
      ]
     },
     "execution_count": null,
     "metadata": {},
     "output_type": "execute_result"
    }
   ],
   "source": [
    "read_csv(\n",
    "  another_csv,\n",
    "  col_types = cols_only(x = col_character())\n",
    ")"
   ]
  },
  {
   "cell_type": "markdown",
   "metadata": {},
   "source": [
    "## Reading data from multiple files"
   ]
  },
  {
   "cell_type": "markdown",
   "metadata": {},
   "source": []
  }
 ],
 "metadata": {
  "language_info": {
   "name": "plaintext"
  }
 },
 "nbformat": 4,
 "nbformat_minor": 2
}

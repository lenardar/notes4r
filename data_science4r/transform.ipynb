{
 "cells": [
  {
   "cell_type": "markdown",
   "metadata": {},
   "source": [
    "# Logical vectors"
   ]
  },
  {
   "cell_type": "markdown",
   "metadata": {},
   "source": [
    "## Comparisions"
   ]
  },
  {
   "cell_type": "code",
   "execution_count": 1,
   "metadata": {
    "vscode": {
     "languageId": "r"
    }
   },
   "outputs": [
    {
     "name": "stdout",
     "output_type": "stream",
     "text": [
      "── \u001b[1mAttaching core tidyverse packages\u001b[22m ────────────────────────────────────────────────── tidyverse 2.0.0 ──\n",
      "\u001b[32m✔\u001b[39m \u001b[34mdplyr    \u001b[39m 1.1.4     \u001b[32m✔\u001b[39m \u001b[34mreadr    \u001b[39m 2.1.5\n",
      "\u001b[32m✔\u001b[39m \u001b[34mforcats  \u001b[39m 1.0.0     \u001b[32m✔\u001b[39m \u001b[34mstringr  \u001b[39m 1.5.1\n",
      "\u001b[32m✔\u001b[39m \u001b[34mggplot2  \u001b[39m 3.5.1     \u001b[32m✔\u001b[39m \u001b[34mtibble   \u001b[39m 3.2.1\n",
      "\u001b[32m✔\u001b[39m \u001b[34mlubridate\u001b[39m 1.9.4     \u001b[32m✔\u001b[39m \u001b[34mtidyr    \u001b[39m 1.3.1\n",
      "\u001b[32m✔\u001b[39m \u001b[34mpurrr    \u001b[39m 1.0.2     \n",
      "── \u001b[1mConflicts\u001b[22m ──────────────────────────────────────────────────────────────────── tidyverse_conflicts() ──\n",
      "\u001b[31m✖\u001b[39m \u001b[34mdplyr\u001b[39m::\u001b[32mfilter()\u001b[39m masks \u001b[34mstats\u001b[39m::filter()\n",
      "\u001b[31m✖\u001b[39m \u001b[34mdplyr\u001b[39m::\u001b[32mlag()\u001b[39m    masks \u001b[34mstats\u001b[39m::lag()\n",
      "\u001b[36mℹ\u001b[39m Use the \u001b]8;;http://conflicted.r-lib.org/\u0007conflicted package\u001b]8;;\u0007 to force all conflicts to become errors\n"
     ]
    }
   ],
   "source": [
    "library(tidyverse)\n",
    "library(nycflights13)"
   ]
  },
  {
   "cell_type": "markdown",
   "metadata": {},
   "source": [
    "## Summaries"
   ]
  },
  {
   "cell_type": "code",
   "execution_count": 2,
   "metadata": {
    "vscode": {
     "languageId": "r"
    }
   },
   "outputs": [
    {
     "data": {
      "text/plain": [
       "\u001b[38;5;246m# A tibble: 365 × 5\u001b[39m\n",
       "    year month   day proportion_delayed count_long_delay\n",
       "   \u001b[3m\u001b[38;5;246m<int>\u001b[39m\u001b[23m \u001b[3m\u001b[38;5;246m<int>\u001b[39m\u001b[23m \u001b[3m\u001b[38;5;246m<int>\u001b[39m\u001b[23m              \u001b[3m\u001b[38;5;246m<dbl>\u001b[39m\u001b[23m            \u001b[3m\u001b[38;5;246m<int>\u001b[39m\u001b[23m\n",
       "\u001b[38;5;250m 1\u001b[39m  \u001b[4m2\u001b[24m013     1     1              0.939                3\n",
       "\u001b[38;5;250m 2\u001b[39m  \u001b[4m2\u001b[24m013     1     2              0.914                3\n",
       "\u001b[38;5;250m 3\u001b[39m  \u001b[4m2\u001b[24m013     1     3              0.941                0\n",
       "\u001b[38;5;250m 4\u001b[39m  \u001b[4m2\u001b[24m013     1     4              0.953                0\n",
       "\u001b[38;5;250m 5\u001b[39m  \u001b[4m2\u001b[24m013     1     5              0.964                1\n",
       "\u001b[38;5;250m 6\u001b[39m  \u001b[4m2\u001b[24m013     1     6              0.959                0\n",
       "\u001b[38;5;250m 7\u001b[39m  \u001b[4m2\u001b[24m013     1     7              0.956                1\n",
       "\u001b[38;5;250m 8\u001b[39m  \u001b[4m2\u001b[24m013     1     8              0.975                0\n",
       "\u001b[38;5;250m 9\u001b[39m  \u001b[4m2\u001b[24m013     1     9              0.986                1\n",
       "\u001b[38;5;250m10\u001b[39m  \u001b[4m2\u001b[24m013     1    10              0.977                2\n",
       "\u001b[38;5;246m# ℹ 355 more rows\u001b[39m\n",
       "\u001b[38;5;246m# ℹ Use `print(n = ...)` to see more rows\u001b[39m"
      ]
     },
     "execution_count": null,
     "metadata": {},
     "output_type": "execute_result"
    }
   ],
   "source": [
    "flights |> \n",
    "  group_by(year, month, day) |> \n",
    "  summarize(\n",
    "    proportion_delayed = mean(dep_delay <= 60, na.rm = TRUE),\n",
    "    count_long_delay = sum(arr_delay >= 300, na.rm = TRUE),\n",
    "    .groups = \"drop\"\n",
    "  )"
   ]
  },
  {
   "cell_type": "markdown",
   "metadata": {},
   "source": [
    "## Conditional transformations"
   ]
  },
  {
   "cell_type": "code",
   "execution_count": 3,
   "metadata": {
    "vscode": {
     "languageId": "r"
    }
   },
   "outputs": [],
   "source": [
    "x <- c(-3:3, NA)"
   ]
  },
  {
   "cell_type": "code",
   "execution_count": 4,
   "metadata": {
    "vscode": {
     "languageId": "r"
    }
   },
   "outputs": [
    {
     "data": {
      "text/plain": [
       "[1] \"-ve\" \"-ve\" \"-ve\" \"0\"   \"+ve\" \"+ve\" \"+ve\" \"???\""
      ]
     },
     "execution_count": null,
     "metadata": {},
     "output_type": "execute_result"
    }
   ],
   "source": [
    "case_when(\n",
    "  x == 0 ~ \"0\",\n",
    "  x < 0  ~ \"-ve\",\n",
    "  x > 0  ~ \"+ve\",\n",
    "  is.na(x) ~ \"???\"\n",
    ")"
   ]
  },
  {
   "cell_type": "markdown",
   "metadata": {},
   "source": [
    "# Numbers"
   ]
  },
  {
   "cell_type": "markdown",
   "metadata": {},
   "source": [
    "## Making numbers"
   ]
  },
  {
   "cell_type": "code",
   "execution_count": 5,
   "metadata": {
    "vscode": {
     "languageId": "r"
    }
   },
   "outputs": [
    {
     "data": {
      "text/plain": [
       "[1]    1.2    5.6 1000.0"
      ]
     },
     "execution_count": null,
     "metadata": {},
     "output_type": "execute_result"
    }
   ],
   "source": [
    "x <- c(\"1.2\", \"5.6\", \"1e3\")\n",
    "parse_double(x)"
   ]
  },
  {
   "cell_type": "code",
   "execution_count": null,
   "metadata": {
    "vscode": {
     "languageId": "r"
    }
   },
   "outputs": [
    {
     "name": "stderr",
     "output_type": "stream",
     "text": [
      "警告: 3 parsing failures.\n",
      "row col               expected    actual\n",
      "  1  -- a double               $1,234   \n",
      "  2  -- a double               USD 3,513\n",
      "  3  -- no trailing characters 59%      \n",
      "\n"
     ]
    },
    {
     "data": {
      "text/plain": [
       "[1] NA NA NA\n",
       "attr(,\"problems\")\n",
       "\u001b[38;5;246m# A tibble: 3 × 4\u001b[39m\n",
       "    row   col expected               actual   \n",
       "  \u001b[3m\u001b[38;5;246m<int>\u001b[39m\u001b[23m \u001b[3m\u001b[38;5;246m<int>\u001b[39m\u001b[23m \u001b[3m\u001b[38;5;246m<chr>\u001b[39m\u001b[23m                  \u001b[3m\u001b[38;5;246m<chr>\u001b[39m\u001b[23m    \n",
       "\u001b[38;5;250m1\u001b[39m     1    \u001b[31mNA\u001b[39m a double               $1,234   \n",
       "\u001b[38;5;250m2\u001b[39m     2    \u001b[31mNA\u001b[39m a double               USD 3,513\n",
       "\u001b[38;5;250m3\u001b[39m     3    \u001b[31mNA\u001b[39m no trailing characters 59%      "
      ]
     },
     "execution_count": null,
     "metadata": {},
     "output_type": "execute_result"
    }
   ],
   "source": [
    "x <- c(\"$1,234\", \"USD 3,513\", \"59%\")\n",
    "parse_double(x)"
   ]
  },
  {
   "cell_type": "code",
   "execution_count": 7,
   "metadata": {
    "vscode": {
     "languageId": "r"
    }
   },
   "outputs": [
    {
     "data": {
      "text/plain": [
       "[1] 1234 3513   59"
      ]
     },
     "execution_count": null,
     "metadata": {},
     "output_type": "execute_result"
    }
   ],
   "source": [
    "parse_number(x)"
   ]
  },
  {
   "cell_type": "markdown",
   "metadata": {},
   "source": [
    "## Counts"
   ]
  },
  {
   "cell_type": "code",
   "execution_count": 9,
   "metadata": {
    "vscode": {
     "languageId": "r"
    }
   },
   "outputs": [
    {
     "data": {
      "text/plain": [
       "\u001b[38;5;246m# A tibble: 105 × 2\u001b[39m\n",
       "   dest      n\n",
       "   \u001b[3m\u001b[38;5;246m<chr>\u001b[39m\u001b[23m \u001b[3m\u001b[38;5;246m<int>\u001b[39m\u001b[23m\n",
       "\u001b[38;5;250m 1\u001b[39m ABQ     254\n",
       "\u001b[38;5;250m 2\u001b[39m ACK     265\n",
       "\u001b[38;5;250m 3\u001b[39m ALB     439\n",
       "\u001b[38;5;250m 4\u001b[39m ANC       8\n",
       "\u001b[38;5;250m 5\u001b[39m ATL   \u001b[4m1\u001b[24m\u001b[4m7\u001b[24m215\n",
       "\u001b[38;5;250m 6\u001b[39m AUS    \u001b[4m2\u001b[24m439\n",
       "\u001b[38;5;250m 7\u001b[39m AVL     275\n",
       "\u001b[38;5;250m 8\u001b[39m BDL     443\n",
       "\u001b[38;5;250m 9\u001b[39m BGR     375\n",
       "\u001b[38;5;250m10\u001b[39m BHM     297\n",
       "\u001b[38;5;246m# ℹ 95 more rows\u001b[39m\n",
       "\u001b[38;5;246m# ℹ Use `print(n = ...)` to see more rows\u001b[39m"
      ]
     },
     "execution_count": null,
     "metadata": {},
     "output_type": "execute_result"
    }
   ],
   "source": [
    "flights |> \n",
    "  count(dest)"
   ]
  },
  {
   "cell_type": "code",
   "execution_count": 10,
   "metadata": {
    "vscode": {
     "languageId": "r"
    }
   },
   "outputs": [
    {
     "data": {
      "text/plain": [
       "\u001b[38;5;246m# A tibble: 105 × 3\u001b[39m\n",
       "   dest      n delay\n",
       "   \u001b[3m\u001b[38;5;246m<chr>\u001b[39m\u001b[23m \u001b[3m\u001b[38;5;246m<int>\u001b[39m\u001b[23m \u001b[3m\u001b[38;5;246m<dbl>\u001b[39m\u001b[23m\n",
       "\u001b[38;5;250m 1\u001b[39m ABQ     254  4.38\n",
       "\u001b[38;5;250m 2\u001b[39m ACK     265  4.85\n",
       "\u001b[38;5;250m 3\u001b[39m ALB     439 14.4 \n",
       "\u001b[38;5;250m 4\u001b[39m ANC       8 -\u001b[31m2\u001b[39m\u001b[31m.\u001b[39m\u001b[31m5\u001b[39m \n",
       "\u001b[38;5;250m 5\u001b[39m ATL   \u001b[4m1\u001b[24m\u001b[4m7\u001b[24m215 11.3 \n",
       "\u001b[38;5;250m 6\u001b[39m AUS    \u001b[4m2\u001b[24m439  6.02\n",
       "\u001b[38;5;250m 7\u001b[39m AVL     275  8.00\n",
       "\u001b[38;5;250m 8\u001b[39m BDL     443  7.05\n",
       "\u001b[38;5;250m 9\u001b[39m BGR     375  8.03\n",
       "\u001b[38;5;250m10\u001b[39m BHM     297 16.9 \n",
       "\u001b[38;5;246m# ℹ 95 more rows\u001b[39m\n",
       "\u001b[38;5;246m# ℹ Use `print(n = ...)` to see more rows\u001b[39m"
      ]
     },
     "execution_count": null,
     "metadata": {},
     "output_type": "execute_result"
    }
   ],
   "source": [
    "flights |> \n",
    "  group_by(dest) |> \n",
    "  summarize(\n",
    "    n = n(),\n",
    "    delay = mean(arr_delay, na.rm = TRUE)\n",
    "  )"
   ]
  },
  {
   "cell_type": "code",
   "execution_count": 11,
   "metadata": {
    "vscode": {
     "languageId": "r"
    }
   },
   "outputs": [
    {
     "data": {
      "text/plain": [
       "\u001b[38;5;246m# A tibble: 4,044 × 2\u001b[39m\n",
       "   tailnum  miles\n",
       "   \u001b[3m\u001b[38;5;246m<chr>\u001b[39m\u001b[23m    \u001b[3m\u001b[38;5;246m<dbl>\u001b[39m\u001b[23m\n",
       "\u001b[38;5;250m 1\u001b[39m D942DN    \u001b[4m3\u001b[24m418\n",
       "\u001b[38;5;250m 2\u001b[39m N0EGMQ  \u001b[4m2\u001b[24m\u001b[4m5\u001b[24m\u001b[4m0\u001b[24m866\n",
       "\u001b[38;5;250m 3\u001b[39m N10156  \u001b[4m1\u001b[24m\u001b[4m1\u001b[24m\u001b[4m5\u001b[24m966\n",
       "\u001b[38;5;250m 4\u001b[39m N102UW   \u001b[4m2\u001b[24m\u001b[4m5\u001b[24m722\n",
       "\u001b[38;5;250m 5\u001b[39m N103US   \u001b[4m2\u001b[24m\u001b[4m4\u001b[24m619\n",
       "\u001b[38;5;250m 6\u001b[39m N104UW   \u001b[4m2\u001b[24m\u001b[4m5\u001b[24m157\n",
       "\u001b[38;5;250m 7\u001b[39m N10575  \u001b[4m1\u001b[24m\u001b[4m5\u001b[24m\u001b[4m0\u001b[24m194\n",
       "\u001b[38;5;250m 8\u001b[39m N105UW   \u001b[4m2\u001b[24m\u001b[4m3\u001b[24m618\n",
       "\u001b[38;5;250m 9\u001b[39m N107US   \u001b[4m2\u001b[24m\u001b[4m1\u001b[24m677\n",
       "\u001b[38;5;250m10\u001b[39m N108UW   \u001b[4m3\u001b[24m\u001b[4m2\u001b[24m070\n",
       "\u001b[38;5;246m# ℹ 4,034 more rows\u001b[39m\n",
       "\u001b[38;5;246m# ℹ Use `print(n = ...)` to see more rows\u001b[39m"
      ]
     },
     "execution_count": null,
     "metadata": {},
     "output_type": "execute_result"
    }
   ],
   "source": [
    "flights |> \n",
    "  group_by(tailnum) |> \n",
    "  summarize(miles = sum(distance))"
   ]
  },
  {
   "cell_type": "code",
   "execution_count": 12,
   "metadata": {
    "vscode": {
     "languageId": "r"
    }
   },
   "outputs": [
    {
     "data": {
      "text/plain": [
       "\u001b[38;5;246m# A tibble: 4,044 × 2\u001b[39m\n",
       "   tailnum      n\n",
       "   \u001b[3m\u001b[38;5;246m<chr>\u001b[39m\u001b[23m    \u001b[3m\u001b[38;5;246m<dbl>\u001b[39m\u001b[23m\n",
       "\u001b[38;5;250m 1\u001b[39m D942DN    \u001b[4m3\u001b[24m418\n",
       "\u001b[38;5;250m 2\u001b[39m N0EGMQ  \u001b[4m2\u001b[24m\u001b[4m5\u001b[24m\u001b[4m0\u001b[24m866\n",
       "\u001b[38;5;250m 3\u001b[39m N10156  \u001b[4m1\u001b[24m\u001b[4m1\u001b[24m\u001b[4m5\u001b[24m966\n",
       "\u001b[38;5;250m 4\u001b[39m N102UW   \u001b[4m2\u001b[24m\u001b[4m5\u001b[24m722\n",
       "\u001b[38;5;250m 5\u001b[39m N103US   \u001b[4m2\u001b[24m\u001b[4m4\u001b[24m619\n",
       "\u001b[38;5;250m 6\u001b[39m N104UW   \u001b[4m2\u001b[24m\u001b[4m5\u001b[24m157\n",
       "\u001b[38;5;250m 7\u001b[39m N10575  \u001b[4m1\u001b[24m\u001b[4m5\u001b[24m\u001b[4m0\u001b[24m194\n",
       "\u001b[38;5;250m 8\u001b[39m N105UW   \u001b[4m2\u001b[24m\u001b[4m3\u001b[24m618\n",
       "\u001b[38;5;250m 9\u001b[39m N107US   \u001b[4m2\u001b[24m\u001b[4m1\u001b[24m677\n",
       "\u001b[38;5;250m10\u001b[39m N108UW   \u001b[4m3\u001b[24m\u001b[4m2\u001b[24m070\n",
       "\u001b[38;5;246m# ℹ 4,034 more rows\u001b[39m\n",
       "\u001b[38;5;246m# ℹ Use `print(n = ...)` to see more rows\u001b[39m"
      ]
     },
     "execution_count": null,
     "metadata": {},
     "output_type": "execute_result"
    }
   ],
   "source": [
    "flights |> count(tailnum, wt = distance)"
   ]
  },
  {
   "cell_type": "markdown",
   "metadata": {},
   "source": [
    "## Numeric transformations"
   ]
  },
  {
   "cell_type": "code",
   "execution_count": 2,
   "metadata": {
    "vscode": {
     "languageId": "r"
    }
   },
   "outputs": [
    {
     "name": "stdout",
     "output_type": "stream",
     "text": [
      "── \u001b[1mAttaching core tidyverse packages\u001b[22m ────────────────────────────────────────────────── tidyverse 2.0.0 ──\n",
      "\u001b[32m✔\u001b[39m \u001b[34mdplyr    \u001b[39m 1.1.4     \u001b[32m✔\u001b[39m \u001b[34mreadr    \u001b[39m 2.1.5\n",
      "\u001b[32m✔\u001b[39m \u001b[34mforcats  \u001b[39m 1.0.0     \u001b[32m✔\u001b[39m \u001b[34mstringr  \u001b[39m 1.5.1\n",
      "\u001b[32m✔\u001b[39m \u001b[34mggplot2  \u001b[39m 3.5.1     \u001b[32m✔\u001b[39m \u001b[34mtibble   \u001b[39m 3.2.1\n",
      "\u001b[32m✔\u001b[39m \u001b[34mlubridate\u001b[39m 1.9.4     \u001b[32m✔\u001b[39m \u001b[34mtidyr    \u001b[39m 1.3.1\n",
      "\u001b[32m✔\u001b[39m \u001b[34mpurrr    \u001b[39m 1.0.2     \n",
      "── \u001b[1mConflicts\u001b[22m ──────────────────────────────────────────────────────────────────── tidyverse_conflicts() ──\n",
      "\u001b[31m✖\u001b[39m \u001b[34mdplyr\u001b[39m::\u001b[32mfilter()\u001b[39m masks \u001b[34mstats\u001b[39m::filter()\n",
      "\u001b[31m✖\u001b[39m \u001b[34mdplyr\u001b[39m::\u001b[32mlag()\u001b[39m    masks \u001b[34mstats\u001b[39m::lag()\n",
      "\u001b[36mℹ\u001b[39m Use the \u001b]8;;http://conflicted.r-lib.org/\u0007conflicted package\u001b]8;;\u0007 to force all conflicts to become errors\n"
     ]
    }
   ],
   "source": [
    "library(tidyverse)\n",
    "df <- tribble(\n",
    "  ~x, ~y,\n",
    "  1,  3,\n",
    "  5,  2,\n",
    "  7, NA,\n",
    "  )"
   ]
  },
  {
   "cell_type": "code",
   "execution_count": 3,
   "metadata": {
    "vscode": {
     "languageId": "r"
    }
   },
   "outputs": [
    {
     "data": {
      "text/plain": [
       "\u001b[38;5;246m# A tibble: 3 × 2\u001b[39m\n",
       "      x     y\n",
       "  \u001b[3m\u001b[38;5;246m<dbl>\u001b[39m\u001b[23m \u001b[3m\u001b[38;5;246m<dbl>\u001b[39m\u001b[23m\n",
       "\u001b[38;5;250m1\u001b[39m     1     3\n",
       "\u001b[38;5;250m2\u001b[39m     5     2\n",
       "\u001b[38;5;250m3\u001b[39m     7    \u001b[31mNA\u001b[39m"
      ]
     },
     "execution_count": null,
     "metadata": {},
     "output_type": "execute_result"
    }
   ],
   "source": [
    "df"
   ]
  },
  {
   "cell_type": "code",
   "execution_count": 4,
   "metadata": {
    "vscode": {
     "languageId": "r"
    }
   },
   "outputs": [
    {
     "data": {
      "text/plain": [
       "\u001b[38;5;246m# A tibble: 3 × 4\u001b[39m\n",
       "      x     y   min   max\n",
       "  \u001b[3m\u001b[38;5;246m<dbl>\u001b[39m\u001b[23m \u001b[3m\u001b[38;5;246m<dbl>\u001b[39m\u001b[23m \u001b[3m\u001b[38;5;246m<dbl>\u001b[39m\u001b[23m \u001b[3m\u001b[38;5;246m<dbl>\u001b[39m\u001b[23m\n",
       "\u001b[38;5;250m1\u001b[39m     1     3     1     3\n",
       "\u001b[38;5;250m2\u001b[39m     5     2     2     5\n",
       "\u001b[38;5;250m3\u001b[39m     7    \u001b[31mNA\u001b[39m     7     7"
      ]
     },
     "execution_count": null,
     "metadata": {},
     "output_type": "execute_result"
    }
   ],
   "source": [
    "df |> \n",
    "  mutate(\n",
    "    min = pmin(x, y, na.rm = TRUE),\n",
    "    max = pmax(x, y, na.rm = TRUE)\n",
    "  )"
   ]
  },
  {
   "cell_type": "code",
   "execution_count": 5,
   "metadata": {
    "vscode": {
     "languageId": "r"
    }
   },
   "outputs": [
    {
     "data": {
      "text/plain": [
       "[1] (0,5]   (0,5]   (0,5]   (5,10]  (10,15] (15,20]\n",
       "Levels: (0,5] (5,10] (10,15] (15,20]"
      ]
     },
     "execution_count": null,
     "metadata": {},
     "output_type": "execute_result"
    }
   ],
   "source": [
    "x <- c(1, 2, 5, 10, 15, 20)\n",
    "cut(x, breaks = c(0, 5, 10, 15, 20))"
   ]
  },
  {
   "cell_type": "code",
   "execution_count": 7,
   "metadata": {
    "vscode": {
     "languageId": "r"
    }
   },
   "outputs": [
    {
     "data": {
      "text/plain": [
       "[1] q1 q1 q1 q2 q3 q4\n",
       "Levels: q1 q2 q3 q4"
      ]
     },
     "execution_count": null,
     "metadata": {},
     "output_type": "execute_result"
    }
   ],
   "source": [
    "cut(\n",
    "  x,\n",
    "  breaks = c(0, 5, 10, 15, 20),\n",
    "  labels = c(\"q1\", \"q2\", \"q3\", \"q4\")\n",
    ")"
   ]
  },
  {
   "cell_type": "code",
   "execution_count": 8,
   "metadata": {
    "vscode": {
     "languageId": "r"
    }
   },
   "outputs": [
    {
     "data": {
      "text/plain": [
       "[1] <NA>   <NA>   (0,5]  (5,10] <NA>  \n",
       "Levels: (0,5] (5,10] (10,15] (15,20]"
      ]
     },
     "execution_count": null,
     "metadata": {},
     "output_type": "execute_result"
    }
   ],
   "source": [
    "y <- c(NA, -10, 5, 10, 100)\n",
    "cut(\n",
    "  y,\n",
    "  breaks = c(0, 5, 10, 15, 20)\n",
    ")"
   ]
  },
  {
   "cell_type": "code",
   "execution_count": 9,
   "metadata": {
    "vscode": {
     "languageId": "r"
    }
   },
   "outputs": [
    {
     "data": {
      "text/plain": [
       " [1]  1  3  6 10 15 21 28 36 45 55"
      ]
     },
     "execution_count": null,
     "metadata": {},
     "output_type": "execute_result"
    }
   ],
   "source": [
    "x <- 1:10\n",
    "cumsum(x)"
   ]
  },
  {
   "cell_type": "code",
   "execution_count": 10,
   "metadata": {
    "vscode": {
     "languageId": "r"
    }
   },
   "outputs": [
    {
     "data": {
      "text/plain": [
       "[1]  1  2  2  4  5 NA"
      ]
     },
     "execution_count": null,
     "metadata": {},
     "output_type": "execute_result"
    }
   ],
   "source": [
    "x <- c(1, 2, 2, 3 ,4, NA)\n",
    "min_rank(x)"
   ]
  },
  {
   "cell_type": "code",
   "execution_count": 12,
   "metadata": {
    "vscode": {
     "languageId": "r"
    }
   },
   "outputs": [
    {
     "data": {
      "text/plain": [
       "[1] -1 -2 -2 -3 -4 NA"
      ]
     },
     "execution_count": null,
     "metadata": {},
     "output_type": "execute_result"
    }
   ],
   "source": [
    "desc(x)"
   ]
  },
  {
   "cell_type": "code",
   "execution_count": 11,
   "metadata": {
    "vscode": {
     "languageId": "r"
    }
   },
   "outputs": [
    {
     "data": {
      "text/plain": [
       "[1]  5  3  3  2  1 NA"
      ]
     },
     "execution_count": null,
     "metadata": {},
     "output_type": "execute_result"
    }
   ],
   "source": [
    "min_rank(desc(x))"
   ]
  },
  {
   "cell_type": "code",
   "execution_count": 13,
   "metadata": {
    "vscode": {
     "languageId": "r"
    }
   },
   "outputs": [],
   "source": [
    "x <- c(2, 5, 11, 11, 19, 35)"
   ]
  },
  {
   "cell_type": "code",
   "execution_count": 14,
   "metadata": {
    "vscode": {
     "languageId": "r"
    }
   },
   "outputs": [
    {
     "data": {
      "text/plain": [
       "[1] NA  2  5 11 11 19"
      ]
     },
     "execution_count": null,
     "metadata": {},
     "output_type": "execute_result"
    }
   ],
   "source": [
    "lag(x)"
   ]
  },
  {
   "cell_type": "code",
   "execution_count": 15,
   "metadata": {
    "vscode": {
     "languageId": "r"
    }
   },
   "outputs": [
    {
     "data": {
      "text/plain": [
       "[1]  5 11 11 19 35 NA"
      ]
     },
     "execution_count": null,
     "metadata": {},
     "output_type": "execute_result"
    }
   ],
   "source": [
    "lead(x)"
   ]
  },
  {
   "cell_type": "markdown",
   "metadata": {},
   "source": [
    "## Numeric summaries"
   ]
  },
  {
   "cell_type": "code",
   "execution_count": 16,
   "metadata": {
    "vscode": {
     "languageId": "r"
    }
   },
   "outputs": [],
   "source": [
    "library(nycflights13)"
   ]
  },
  {
   "cell_type": "code",
   "execution_count": 17,
   "metadata": {
    "vscode": {
     "languageId": "r"
    }
   },
   "outputs": [
    {
     "name": "stdout",
     "output_type": "stream",
     "text": [
      "\u001b[1m\u001b[22m`summarise()` has grouped output by 'origin'. You can override using the `.groups` argument.\n"
     ]
    },
    {
     "data": {
      "text/plain": [
       "\u001b[38;5;246m# A tibble: 224 × 5\u001b[39m\n",
       "\u001b[38;5;246m# Groups:   origin [3]\u001b[39m\n",
       "   origin dest  distance_iqr     n .group\n",
       "   \u001b[3m\u001b[38;5;246m<chr>\u001b[39m\u001b[23m  \u001b[3m\u001b[38;5;246m<chr>\u001b[39m\u001b[23m        \u001b[3m\u001b[38;5;246m<dbl>\u001b[39m\u001b[23m \u001b[3m\u001b[38;5;246m<int>\u001b[39m\u001b[23m \u001b[3m\u001b[38;5;246m<chr>\u001b[39m\u001b[23m \n",
       "\u001b[38;5;250m 1\u001b[39m EWR    ALB              0   439 drop  \n",
       "\u001b[38;5;250m 2\u001b[39m EWR    ANC              0     8 drop  \n",
       "\u001b[38;5;250m 3\u001b[39m EWR    ATL              0  \u001b[4m5\u001b[24m022 drop  \n",
       "\u001b[38;5;250m 4\u001b[39m EWR    AUS              0   968 drop  \n",
       "\u001b[38;5;250m 5\u001b[39m EWR    AVL              0   265 drop  \n",
       "\u001b[38;5;250m 6\u001b[39m EWR    BDL              0   443 drop  \n",
       "\u001b[38;5;250m 7\u001b[39m EWR    BNA              0  \u001b[4m2\u001b[24m336 drop  \n",
       "\u001b[38;5;250m 8\u001b[39m EWR    BOS              0  \u001b[4m5\u001b[24m327 drop  \n",
       "\u001b[38;5;250m 9\u001b[39m EWR    BQN              0   297 drop  \n",
       "\u001b[38;5;250m10\u001b[39m EWR    BTV              0   931 drop  \n",
       "\u001b[38;5;246m# ℹ 214 more rows\u001b[39m\n",
       "\u001b[38;5;246m# ℹ Use `print(n = ...)` to see more rows\u001b[39m"
      ]
     },
     "execution_count": null,
     "metadata": {},
     "output_type": "execute_result"
    }
   ],
   "source": [
    "flights |> \n",
    "  group_by(origin, dest) |> \n",
    "summarize(\n",
    "  distance_iqr = IQR(distance),\n",
    "  n = n(),\n",
    "  .group = \"drop\"\n",
    ")"
   ]
  },
  {
   "cell_type": "markdown",
   "metadata": {},
   "source": [
    "# Strings"
   ]
  },
  {
   "cell_type": "code",
   "execution_count": 18,
   "metadata": {
    "vscode": {
     "languageId": "r"
    }
   },
   "outputs": [
    {
     "name": "stderr",
     "output_type": "stream",
     "text": [
      "试开URL’https://cran.rstudio.com/bin/macosx/big-sur-arm64/contrib/4.4/babynames_1.0.1.tgz'\n",
      "Content type 'application/x-gzip' length 5533286 bytes (5.3 MB)\n",
      "==================================================\n",
      "downloaded 5.3 MB\n",
      "\n"
     ]
    },
    {
     "name": "stdout",
     "output_type": "stream",
     "text": [
      "\n",
      "下载的二进制程序包在\n",
      "\t/var/folders/fv/c0dh9y6s7638rh5fdr3lgcmr0000gn/T//RtmpiKiA0a/downloaded_packages里\n"
     ]
    }
   ],
   "source": [
    "install.packages(\"babynames\")"
   ]
  },
  {
   "cell_type": "code",
   "execution_count": 19,
   "metadata": {
    "vscode": {
     "languageId": "r"
    }
   },
   "outputs": [],
   "source": [
    "library(tidyverse)\n",
    "library(babynames)"
   ]
  },
  {
   "cell_type": "markdown",
   "metadata": {},
   "source": [
    "## Creating a string"
   ]
  },
  {
   "cell_type": "code",
   "execution_count": 22,
   "metadata": {
    "vscode": {
     "languageId": "r"
    }
   },
   "outputs": [
    {
     "data": {
      "text/plain": [
       "\u001b[90m[1] │\u001b[39m double_quote <- \"\\\"\" # or '\"'\n",
       "    \u001b[90m│\u001b[39m single_quote <- '\\'' # or \"'\""
      ]
     },
     "execution_count": null,
     "metadata": {},
     "output_type": "execute_result"
    }
   ],
   "source": [
    "tricky <- r\"(double_quote <- \"\\\"\" # or '\"'\n",
    "single_quote <- '\\'' # or \"'\")\"\n",
    "str_view(tricky)"
   ]
  },
  {
   "cell_type": "markdown",
   "metadata": {},
   "source": [
    "## Creating many strings from data"
   ]
  },
  {
   "cell_type": "code",
   "execution_count": 23,
   "metadata": {
    "vscode": {
     "languageId": "r"
    }
   },
   "outputs": [
    {
     "data": {
      "text/plain": [
       "[1] \"xy1\""
      ]
     },
     "execution_count": null,
     "metadata": {},
     "output_type": "execute_result"
    }
   ],
   "source": [
    "str_c(\"x\", \"y\", \"1\")"
   ]
  },
  {
   "cell_type": "code",
   "execution_count": 24,
   "metadata": {
    "vscode": {
     "languageId": "r"
    }
   },
   "outputs": [
    {
     "data": {
      "text/plain": [
       "[1] \"x\" \"y\" \"z\""
      ]
     },
     "execution_count": null,
     "metadata": {},
     "output_type": "execute_result"
    }
   ],
   "source": [
    "x <- c(\"x\", \"y\", \"z\")\n",
    "str_c(x)"
   ]
  },
  {
   "cell_type": "markdown",
   "metadata": {},
   "source": [
    "## Extracting data from strings"
   ]
  },
  {
   "cell_type": "code",
   "execution_count": 25,
   "metadata": {
    "vscode": {
     "languageId": "r"
    }
   },
   "outputs": [],
   "source": [
    "df1 <- tibble(x = c(\"a,b,c\", \"d,e\", \"f\"))"
   ]
  },
  {
   "cell_type": "code",
   "execution_count": 26,
   "metadata": {
    "vscode": {
     "languageId": "r"
    }
   },
   "outputs": [
    {
     "data": {
      "text/plain": [
       "\u001b[38;5;246m# A tibble: 3 × 1\u001b[39m\n",
       "  x    \n",
       "  \u001b[3m\u001b[38;5;246m<chr>\u001b[39m\u001b[23m\n",
       "\u001b[38;5;250m1\u001b[39m a,b,c\n",
       "\u001b[38;5;250m2\u001b[39m d,e  \n",
       "\u001b[38;5;250m3\u001b[39m f    "
      ]
     },
     "execution_count": null,
     "metadata": {},
     "output_type": "execute_result"
    }
   ],
   "source": [
    "df1"
   ]
  },
  {
   "cell_type": "code",
   "execution_count": 27,
   "metadata": {
    "vscode": {
     "languageId": "r"
    }
   },
   "outputs": [
    {
     "data": {
      "text/plain": [
       "\u001b[38;5;246m# A tibble: 6 × 1\u001b[39m\n",
       "  x    \n",
       "  \u001b[3m\u001b[38;5;246m<chr>\u001b[39m\u001b[23m\n",
       "\u001b[38;5;250m1\u001b[39m a    \n",
       "\u001b[38;5;250m2\u001b[39m b    \n",
       "\u001b[38;5;250m3\u001b[39m c    \n",
       "\u001b[38;5;250m4\u001b[39m d    \n",
       "\u001b[38;5;250m5\u001b[39m e    \n",
       "\u001b[38;5;250m6\u001b[39m f    "
      ]
     },
     "execution_count": null,
     "metadata": {},
     "output_type": "execute_result"
    }
   ],
   "source": [
    "df1 |> \n",
    "  separate_longer_delim(x, delim = \",\")"
   ]
  },
  {
   "cell_type": "code",
   "execution_count": 28,
   "metadata": {
    "vscode": {
     "languageId": "r"
    }
   },
   "outputs": [
    {
     "data": {
      "text/plain": [
       "\u001b[38;5;246m# A tibble: 6 × 2\u001b[39m\n",
       "  x     y    \n",
       "  \u001b[3m\u001b[38;5;246m<chr>\u001b[39m\u001b[23m \u001b[3m\u001b[38;5;246m<chr>\u001b[39m\u001b[23m\n",
       "\u001b[38;5;250m1\u001b[39m a     q1   \n",
       "\u001b[38;5;250m2\u001b[39m b     q1   \n",
       "\u001b[38;5;250m3\u001b[39m c     q1   \n",
       "\u001b[38;5;250m4\u001b[39m d     q2   \n",
       "\u001b[38;5;250m5\u001b[39m e     q2   \n",
       "\u001b[38;5;250m6\u001b[39m f     q3   "
      ]
     },
     "execution_count": null,
     "metadata": {},
     "output_type": "execute_result"
    }
   ],
   "source": [
    "df1 |> \n",
    "  mutate(y = c(\"q1\", \"q2\", \"q3\")) |> \n",
    "  separate_longer_delim(x, delim = \",\")"
   ]
  },
  {
   "cell_type": "code",
   "execution_count": 31,
   "metadata": {
    "vscode": {
     "languageId": "r"
    }
   },
   "outputs": [
    {
     "data": {
      "text/plain": [
       "\u001b[38;5;246m# A tibble: 3 × 1\u001b[39m\n",
       "  x         \n",
       "  \u001b[3m\u001b[38;5;246m<chr>\u001b[39m\u001b[23m     \n",
       "\u001b[38;5;250m1\u001b[39m a10.1.2022\n",
       "\u001b[38;5;250m2\u001b[39m b10.2.2011\n",
       "\u001b[38;5;250m3\u001b[39m e15.1.2015"
      ]
     },
     "execution_count": null,
     "metadata": {},
     "output_type": "execute_result"
    }
   ],
   "source": [
    "df3 <- tibble(x = c(\"a10.1.2022\", \"b10.2.2011\", \"e15.1.2015\"))\n",
    "df3"
   ]
  },
  {
   "cell_type": "code",
   "execution_count": 32,
   "metadata": {
    "vscode": {
     "languageId": "r"
    }
   },
   "outputs": [
    {
     "data": {
      "text/plain": [
       "\u001b[38;5;246m# A tibble: 3 × 3\u001b[39m\n",
       "  code  edition year \n",
       "  \u001b[3m\u001b[38;5;246m<chr>\u001b[39m\u001b[23m \u001b[3m\u001b[38;5;246m<chr>\u001b[39m\u001b[23m   \u001b[3m\u001b[38;5;246m<chr>\u001b[39m\u001b[23m\n",
       "\u001b[38;5;250m1\u001b[39m a10   1       2022 \n",
       "\u001b[38;5;250m2\u001b[39m b10   2       2011 \n",
       "\u001b[38;5;250m3\u001b[39m e15   1       2015 "
      ]
     },
     "execution_count": null,
     "metadata": {},
     "output_type": "execute_result"
    }
   ],
   "source": [
    "df3 |> \n",
    "  separate_wider_delim(\n",
    "    x,\n",
    "    delim = \".\",\n",
    "    names = c(\"code\", \"edition\", \"year\")\n",
    "  )"
   ]
  },
  {
   "cell_type": "code",
   "execution_count": 33,
   "metadata": {
    "vscode": {
     "languageId": "r"
    }
   },
   "outputs": [
    {
     "data": {
      "text/plain": [
       "\u001b[38;5;246m# A tibble: 3 × 2\u001b[39m\n",
       "  code  year \n",
       "  \u001b[3m\u001b[38;5;246m<chr>\u001b[39m\u001b[23m \u001b[3m\u001b[38;5;246m<chr>\u001b[39m\u001b[23m\n",
       "\u001b[38;5;250m1\u001b[39m a10   2022 \n",
       "\u001b[38;5;250m2\u001b[39m b10   2011 \n",
       "\u001b[38;5;250m3\u001b[39m e15   2015 "
      ]
     },
     "execution_count": null,
     "metadata": {},
     "output_type": "execute_result"
    }
   ],
   "source": [
    "df3 |> \n",
    "  separate_wider_delim(\n",
    "    x,\n",
    "    delim = \".\",\n",
    "    names = c(\"code\", NA, \"year\")\n",
    "  )"
   ]
  },
  {
   "cell_type": "code",
   "execution_count": 34,
   "metadata": {
    "vscode": {
     "languageId": "r"
    }
   },
   "outputs": [
    {
     "data": {
      "text/plain": [
       "\u001b[38;5;246m# A tibble: 3 × 1\u001b[39m\n",
       "  x       \n",
       "  \u001b[3m\u001b[38;5;246m<chr>\u001b[39m\u001b[23m   \n",
       "\u001b[38;5;250m1\u001b[39m 202215TX\n",
       "\u001b[38;5;250m2\u001b[39m 202122LA\n",
       "\u001b[38;5;250m3\u001b[39m 202325CA"
      ]
     },
     "execution_count": null,
     "metadata": {},
     "output_type": "execute_result"
    }
   ],
   "source": [
    "df4 <- tibble(x = c(\"202215TX\", \"202122LA\", \"202325CA\")) \n",
    "df4"
   ]
  },
  {
   "cell_type": "code",
   "execution_count": 35,
   "metadata": {
    "vscode": {
     "languageId": "r"
    }
   },
   "outputs": [
    {
     "data": {
      "text/plain": [
       "\u001b[38;5;246m# A tibble: 3 × 3\u001b[39m\n",
       "  year  age   state\n",
       "  \u001b[3m\u001b[38;5;246m<chr>\u001b[39m\u001b[23m \u001b[3m\u001b[38;5;246m<chr>\u001b[39m\u001b[23m \u001b[3m\u001b[38;5;246m<chr>\u001b[39m\u001b[23m\n",
       "\u001b[38;5;250m1\u001b[39m 2022  15    TX   \n",
       "\u001b[38;5;250m2\u001b[39m 2021  22    LA   \n",
       "\u001b[38;5;250m3\u001b[39m 2023  25    CA   "
      ]
     },
     "execution_count": null,
     "metadata": {},
     "output_type": "execute_result"
    }
   ],
   "source": [
    "df4 |> \n",
    "  separate_wider_position(\n",
    "    x,\n",
    "    widths = c(year = 4, age = 2, state = 2)\n",
    "  )"
   ]
  },
  {
   "cell_type": "code",
   "execution_count": 39,
   "metadata": {
    "vscode": {
     "languageId": "r"
    }
   },
   "outputs": [
    {
     "data": {
      "text/plain": [
       "\u001b[38;5;246m# A tibble: 3 × 2\u001b[39m\n",
       "  year  state\n",
       "  \u001b[3m\u001b[38;5;246m<chr>\u001b[39m\u001b[23m \u001b[3m\u001b[38;5;246m<chr>\u001b[39m\u001b[23m\n",
       "\u001b[38;5;250m1\u001b[39m 2022  TX   \n",
       "\u001b[38;5;250m2\u001b[39m 2021  LA   \n",
       "\u001b[38;5;250m3\u001b[39m 2023  CA   "
      ]
     },
     "execution_count": null,
     "metadata": {},
     "output_type": "execute_result"
    }
   ],
   "source": [
    "df4 |> \n",
    "  separate_wider_position(\n",
    "    x,\n",
    "    widths = c(year = 4, 2, state = 2)\n",
    "  )"
   ]
  },
  {
   "cell_type": "markdown",
   "metadata": {},
   "source": [
    "## Letters"
   ]
  },
  {
   "cell_type": "code",
   "execution_count": 40,
   "metadata": {
    "vscode": {
     "languageId": "r"
    }
   },
   "outputs": [
    {
     "data": {
      "text/plain": [
       "\u001b[38;5;246m# A tibble: 1,924,665 × 5\u001b[39m\n",
       "    year sex   name          n   prop\n",
       "   \u001b[3m\u001b[38;5;246m<dbl>\u001b[39m\u001b[23m \u001b[3m\u001b[38;5;246m<chr>\u001b[39m\u001b[23m \u001b[3m\u001b[38;5;246m<chr>\u001b[39m\u001b[23m     \u001b[3m\u001b[38;5;246m<int>\u001b[39m\u001b[23m  \u001b[3m\u001b[38;5;246m<dbl>\u001b[39m\u001b[23m\n",
       "\u001b[38;5;250m 1\u001b[39m  \u001b[4m1\u001b[24m880 F     Mary       \u001b[4m7\u001b[24m065 0.072\u001b[4m4\u001b[24m\n",
       "\u001b[38;5;250m 2\u001b[39m  \u001b[4m1\u001b[24m880 F     Anna       \u001b[4m2\u001b[24m604 0.026\u001b[4m7\u001b[24m\n",
       "\u001b[38;5;250m 3\u001b[39m  \u001b[4m1\u001b[24m880 F     Emma       \u001b[4m2\u001b[24m003 0.020\u001b[4m5\u001b[24m\n",
       "\u001b[38;5;250m 4\u001b[39m  \u001b[4m1\u001b[24m880 F     Elizabeth  \u001b[4m1\u001b[24m939 0.019\u001b[4m9\u001b[24m\n",
       "\u001b[38;5;250m 5\u001b[39m  \u001b[4m1\u001b[24m880 F     Minnie     \u001b[4m1\u001b[24m746 0.017\u001b[4m9\u001b[24m\n",
       "\u001b[38;5;250m 6\u001b[39m  \u001b[4m1\u001b[24m880 F     Margaret   \u001b[4m1\u001b[24m578 0.016\u001b[4m2\u001b[24m\n",
       "\u001b[38;5;250m 7\u001b[39m  \u001b[4m1\u001b[24m880 F     Ida        \u001b[4m1\u001b[24m472 0.015\u001b[4m1\u001b[24m\n",
       "\u001b[38;5;250m 8\u001b[39m  \u001b[4m1\u001b[24m880 F     Alice      \u001b[4m1\u001b[24m414 0.014\u001b[4m5\u001b[24m\n",
       "\u001b[38;5;250m 9\u001b[39m  \u001b[4m1\u001b[24m880 F     Bertha     \u001b[4m1\u001b[24m320 0.013\u001b[4m5\u001b[24m\n",
       "\u001b[38;5;250m10\u001b[39m  \u001b[4m1\u001b[24m880 F     Sarah      \u001b[4m1\u001b[24m288 0.013\u001b[4m2\u001b[24m\n",
       "\u001b[38;5;246m# ℹ 1,924,655 more rows\u001b[39m\n",
       "\u001b[38;5;246m# ℹ Use `print(n = ...)` to see more rows\u001b[39m"
      ]
     },
     "execution_count": null,
     "metadata": {},
     "output_type": "execute_result"
    }
   ],
   "source": [
    "babynames"
   ]
  },
  {
   "cell_type": "code",
   "execution_count": 41,
   "metadata": {
    "vscode": {
     "languageId": "r"
    }
   },
   "outputs": [],
   "source": [
    "x <- c(\"Apple\", \"Banana\", \"Pear\")"
   ]
  },
  {
   "cell_type": "code",
   "execution_count": 43,
   "metadata": {
    "vscode": {
     "languageId": "r"
    }
   },
   "outputs": [
    {
     "data": {
      "text/plain": [
       "[1] \"App\" \"Ban\" \"Pea\""
      ]
     },
     "execution_count": null,
     "metadata": {},
     "output_type": "execute_result"
    }
   ],
   "source": [
    "str_sub(x, start = 1, end = 3)"
   ]
  },
  {
   "cell_type": "code",
   "execution_count": 44,
   "metadata": {
    "vscode": {
     "languageId": "r"
    }
   },
   "outputs": [
    {
     "data": {
      "text/plain": [
       "[1] 48 61 64 6c 65 79"
      ]
     },
     "execution_count": null,
     "metadata": {},
     "output_type": "execute_result"
    }
   ],
   "source": [
    "charToRaw(\"Hadley\")"
   ]
  },
  {
   "cell_type": "markdown",
   "metadata": {},
   "source": [
    "# Locale-dependent functions"
   ]
  },
  {
   "cell_type": "markdown",
   "metadata": {},
   "source": [
    "## Regular expressions"
   ]
  },
  {
   "cell_type": "code",
   "execution_count": 45,
   "metadata": {
    "vscode": {
     "languageId": "r"
    }
   },
   "outputs": [
    {
     "data": {
      "text/plain": [
       " [1] \"apple\"             \"apricot\"           \"avocado\"           \"banana\"            \"bell pepper\"      \n",
       " [6] \"bilberry\"          \"blackberry\"        \"blackcurrant\"      \"blood orange\"      \"blueberry\"        \n",
       "[11] \"boysenberry\"       \"breadfruit\"        \"canary melon\"      \"cantaloupe\"        \"cherimoya\"        \n",
       "[16] \"cherry\"            \"chili pepper\"      \"clementine\"        \"cloudberry\"        \"coconut\"          \n",
       "[21] \"cranberry\"         \"cucumber\"          \"currant\"           \"damson\"            \"date\"             \n",
       "[26] \"dragonfruit\"       \"durian\"            \"eggplant\"          \"elderberry\"        \"feijoa\"           \n",
       "[31] \"fig\"               \"goji berry\"        \"gooseberry\"        \"grape\"             \"grapefruit\"       \n",
       "[36] \"guava\"             \"honeydew\"          \"huckleberry\"       \"jackfruit\"         \"jambul\"           \n",
       "[41] \"jujube\"            \"kiwi fruit\"        \"kumquat\"           \"lemon\"             \"lime\"             \n",
       "[46] \"loquat\"            \"lychee\"            \"mandarine\"         \"mango\"             \"mulberry\"         \n",
       "[51] \"nectarine\"         \"nut\"               \"olive\"             \"orange\"            \"pamelo\"           \n",
       "[56] \"papaya\"            \"passionfruit\"      \"peach\"             \"pear\"              \"persimmon\"        \n",
       "[61] \"physalis\"          \"pineapple\"         \"plum\"              \"pomegranate\"       \"pomelo\"           \n",
       "[66] \"purple mangosteen\" \"quince\"            \"raisin\"            \"rambutan\"          \"raspberry\"        \n",
       "[71] \"redcurrant\"        \"rock melon\"        \"salal berry\"       \"satsuma\"           \"star fruit\"       \n",
       "[76] \"strawberry\"        \"tamarillo\"         \"tangerine\"         \"ugli fruit\"        \"watermelon\"       "
      ]
     },
     "execution_count": null,
     "metadata": {},
     "output_type": "execute_result"
    }
   ],
   "source": [
    "fruit"
   ]
  },
  {
   "cell_type": "code",
   "execution_count": 46,
   "metadata": {
    "vscode": {
     "languageId": "r"
    }
   },
   "outputs": [
    {
     "data": {
      "text/plain": [
       "\u001b[90m [6] │\u001b[39m bil\u001b[36m<berry>\u001b[39m\n",
       "\u001b[90m [7] │\u001b[39m black\u001b[36m<berry>\u001b[39m\n",
       "\u001b[90m[10] │\u001b[39m blue\u001b[36m<berry>\u001b[39m\n",
       "\u001b[90m[11] │\u001b[39m boysen\u001b[36m<berry>\u001b[39m\n",
       "\u001b[90m[19] │\u001b[39m cloud\u001b[36m<berry>\u001b[39m\n",
       "\u001b[90m[21] │\u001b[39m cran\u001b[36m<berry>\u001b[39m\n",
       "\u001b[90m[29] │\u001b[39m elder\u001b[36m<berry>\u001b[39m\n",
       "\u001b[90m[32] │\u001b[39m goji \u001b[36m<berry>\u001b[39m\n",
       "\u001b[90m[33] │\u001b[39m goose\u001b[36m<berry>\u001b[39m\n",
       "\u001b[90m[38] │\u001b[39m huckle\u001b[36m<berry>\u001b[39m\n",
       "\u001b[90m[50] │\u001b[39m mul\u001b[36m<berry>\u001b[39m\n",
       "\u001b[90m[70] │\u001b[39m rasp\u001b[36m<berry>\u001b[39m\n",
       "\u001b[90m[73] │\u001b[39m salal \u001b[36m<berry>\u001b[39m\n",
       "\u001b[90m[76] │\u001b[39m straw\u001b[36m<berry>\u001b[39m"
      ]
     },
     "execution_count": null,
     "metadata": {},
     "output_type": "execute_result"
    }
   ],
   "source": [
    "str_view(fruit, \"berry\")"
   ]
  },
  {
   "cell_type": "markdown",
   "metadata": {},
   "source": [
    "## Extract variables"
   ]
  },
  {
   "cell_type": "code",
   "execution_count": 47,
   "metadata": {
    "vscode": {
     "languageId": "r"
    }
   },
   "outputs": [],
   "source": [
    "df <- tribble(\n",
    "  ~str,\n",
    "  \"<Sheryl>-F_34\",\n",
    "  \"<Kisha>-F_45\", \n",
    "  \"<Brandon>-N_33\",\n",
    "  \"<Sharon>-F_38\", \n",
    "  \"<Penny>-F_58\",\n",
    "  \"<Justin>-M_41\", \n",
    "  \"<Patricia>-F_84\", \n",
    ")"
   ]
  },
  {
   "cell_type": "code",
   "execution_count": 48,
   "metadata": {
    "vscode": {
     "languageId": "r"
    }
   },
   "outputs": [
    {
     "data": {
      "text/plain": [
       "\u001b[38;5;246m# A tibble: 7 × 1\u001b[39m\n",
       "  str            \n",
       "  \u001b[3m\u001b[38;5;246m<chr>\u001b[39m\u001b[23m          \n",
       "\u001b[38;5;250m1\u001b[39m <Sheryl>-F_34  \n",
       "\u001b[38;5;250m2\u001b[39m <Kisha>-F_45   \n",
       "\u001b[38;5;250m3\u001b[39m <Brandon>-N_33 \n",
       "\u001b[38;5;250m4\u001b[39m <Sharon>-F_38  \n",
       "\u001b[38;5;250m5\u001b[39m <Penny>-F_58   \n",
       "\u001b[38;5;250m6\u001b[39m <Justin>-M_41  \n",
       "\u001b[38;5;250m7\u001b[39m <Patricia>-F_84"
      ]
     },
     "execution_count": null,
     "metadata": {},
     "output_type": "execute_result"
    }
   ],
   "source": [
    "df"
   ]
  },
  {
   "cell_type": "code",
   "execution_count": null,
   "metadata": {
    "vscode": {
     "languageId": "r"
    }
   },
   "outputs": [],
   "source": [
    "dot <- \"\\\\.\""
   ]
  },
  {
   "cell_type": "code",
   "execution_count": 50,
   "metadata": {
    "vscode": {
     "languageId": "r"
    }
   },
   "outputs": [
    {
     "data": {
      "text/plain": [
       "\u001b[90m[2] │\u001b[39m \u001b[36m<a.c>\u001b[39m"
      ]
     },
     "execution_count": null,
     "metadata": {},
     "output_type": "execute_result"
    }
   ],
   "source": [
    "str_view(c(\"abc\", \"a.c\", \"bef\"), \"a\\\\.c\")"
   ]
  },
  {
   "cell_type": "code",
   "execution_count": 51,
   "metadata": {
    "vscode": {
     "languageId": "r"
    }
   },
   "outputs": [
    {
     "data": {
      "text/plain": [
       "\u001b[90m[2] │\u001b[39m \u001b[36m<a.c>\u001b[39m"
      ]
     },
     "execution_count": null,
     "metadata": {},
     "output_type": "execute_result"
    }
   ],
   "source": [
    "str_view(c(\"abc\", \"a.c\", \"bef\"), r\"{a\\.c}\")"
   ]
  },
  {
   "cell_type": "code",
   "execution_count": 52,
   "metadata": {
    "vscode": {
     "languageId": "r"
    }
   },
   "outputs": [
    {
     "data": {
      "text/plain": [
       "\u001b[90m[1] │\u001b[39m a\\b"
      ]
     },
     "execution_count": null,
     "metadata": {},
     "output_type": "execute_result"
    }
   ],
   "source": [
    "x <- \"a\\\\b\"\n",
    "str_view(x)"
   ]
  },
  {
   "cell_type": "code",
   "execution_count": 53,
   "metadata": {
    "vscode": {
     "languageId": "r"
    }
   },
   "outputs": [
    {
     "data": {
      "text/plain": [
       "\u001b[90m[1] │\u001b[39m a\u001b[36m<\\>\u001b[39mb"
      ]
     },
     "execution_count": null,
     "metadata": {},
     "output_type": "execute_result"
    }
   ],
   "source": [
    "str_view(x, \"\\\\\\\\\")"
   ]
  },
  {
   "cell_type": "code",
   "execution_count": 54,
   "metadata": {
    "vscode": {
     "languageId": "r"
    }
   },
   "outputs": [
    {
     "data": {
      "text/plain": [
       "\u001b[90m[1] │\u001b[39m a\u001b[36m<\\>\u001b[39mb"
      ]
     },
     "execution_count": null,
     "metadata": {},
     "output_type": "execute_result"
    }
   ],
   "source": [
    "str_view(x, r\"{\\\\}\")"
   ]
  },
  {
   "cell_type": "code",
   "execution_count": 55,
   "metadata": {
    "vscode": {
     "languageId": "r"
    }
   },
   "outputs": [
    {
     "data": {
      "text/plain": [
       "\u001b[90m[1] │\u001b[39m \u001b[36m<abb>\u001b[39m\n",
       "\u001b[90m[2] │\u001b[39m \u001b[36m<ab>\u001b[39m\u001b[36m<ab>\u001b[39m"
      ]
     },
     "execution_count": null,
     "metadata": {},
     "output_type": "execute_result"
    }
   ],
   "source": [
    "x <- c(\"abb\", \"abab\")\n",
    "str_view(x, \"ab+\")"
   ]
  },
  {
   "cell_type": "markdown",
   "metadata": {},
   "source": [
    "## Pattern control"
   ]
  },
  {
   "cell_type": "code",
   "execution_count": null,
   "metadata": {
    "vscode": {
     "languageId": "r"
    }
   },
   "outputs": [],
   "source": []
  },
  {
   "cell_type": "markdown",
   "metadata": {},
   "source": [
    "# Factors"
   ]
  },
  {
   "cell_type": "code",
   "execution_count": 57,
   "metadata": {
    "vscode": {
     "languageId": "r"
    }
   },
   "outputs": [
    {
     "data": {
      "text/plain": [
       "\u001b[38;5;246m# A tibble: 21,483 × 9\u001b[39m\n",
       "    year marital         age race  rincome        partyid            relig              denom      tvhours\n",
       "   \u001b[3m\u001b[38;5;246m<int>\u001b[39m\u001b[23m \u001b[3m\u001b[38;5;246m<fct>\u001b[39m\u001b[23m         \u001b[3m\u001b[38;5;246m<int>\u001b[39m\u001b[23m \u001b[3m\u001b[38;5;246m<fct>\u001b[39m\u001b[23m \u001b[3m\u001b[38;5;246m<fct>\u001b[39m\u001b[23m          \u001b[3m\u001b[38;5;246m<fct>\u001b[39m\u001b[23m              \u001b[3m\u001b[38;5;246m<fct>\u001b[39m\u001b[23m              \u001b[3m\u001b[38;5;246m<fct>\u001b[39m\u001b[23m        \u001b[3m\u001b[38;5;246m<int>\u001b[39m\u001b[23m\n",
       "\u001b[38;5;250m 1\u001b[39m  \u001b[4m2\u001b[24m000 Never married    26 White $8000 to 9999  Ind,near rep       Protestant         Southern …      12\n",
       "\u001b[38;5;250m 2\u001b[39m  \u001b[4m2\u001b[24m000 Divorced         48 White $8000 to 9999  Not str republican Protestant         Baptist-d…      \u001b[31mNA\u001b[39m\n",
       "\u001b[38;5;250m 3\u001b[39m  \u001b[4m2\u001b[24m000 Widowed          67 White Not applicable Independent        Protestant         No denomi…       2\n",
       "\u001b[38;5;250m 4\u001b[39m  \u001b[4m2\u001b[24m000 Never married    39 White Not applicable Ind,near rep       Orthodox-christian Not appli…       4\n",
       "\u001b[38;5;250m 5\u001b[39m  \u001b[4m2\u001b[24m000 Divorced         25 White Not applicable Not str democrat   None               Not appli…       1\n",
       "\u001b[38;5;250m 6\u001b[39m  \u001b[4m2\u001b[24m000 Married          25 White $20000 - 24999 Strong democrat    Protestant         Southern …      \u001b[31mNA\u001b[39m\n",
       "\u001b[38;5;250m 7\u001b[39m  \u001b[4m2\u001b[24m000 Never married    36 White $25000 or more Not str republican Christian          Not appli…       3\n",
       "\u001b[38;5;250m 8\u001b[39m  \u001b[4m2\u001b[24m000 Divorced         44 White $7000 to 7999  Ind,near dem       Protestant         Lutheran-…      \u001b[31mNA\u001b[39m\n",
       "\u001b[38;5;250m 9\u001b[39m  \u001b[4m2\u001b[24m000 Married          44 White $25000 or more Not str democrat   Protestant         Other            0\n",
       "\u001b[38;5;250m10\u001b[39m  \u001b[4m2\u001b[24m000 Married          47 White $25000 or more Strong republican  Protestant         Southern …       3\n",
       "\u001b[38;5;246m# ℹ 21,473 more rows\u001b[39m\n",
       "\u001b[38;5;246m# ℹ Use `print(n = ...)` to see more rows\u001b[39m"
      ]
     },
     "execution_count": null,
     "metadata": {},
     "output_type": "execute_result"
    }
   ],
   "source": [
    "gss_cat"
   ]
  },
  {
   "cell_type": "code",
   "execution_count": 58,
   "metadata": {
    "vscode": {
     "languageId": "r"
    }
   },
   "outputs": [
    {
     "data": {
      "text/plain": [
       "   [1] Never married Divorced      Widowed       Never married Divorced      Married       Never married\n",
       "   [8] Divorced      Married       Married       Married       Married       Married       Married      \n",
       "  [15] Divorced      Married       Widowed       Never married Married       Married       Married      \n",
       "  [22] Married       Never married Widowed       Widowed       Widowed       Widowed       Widowed      \n",
       "  [29] Divorced      Widowed       Widowed       Married       Married       Never married Married      \n",
       "  [36] Never married Never married Never married Never married Never married Married       Married      \n",
       "  [43] Divorced      Never married Never married Never married Married       Married       Married      \n",
       "  [50] Married       Never married Married       Married       Married       Married       Divorced     \n",
       "  [57] Divorced      Divorced      Never married Never married Married       Married       Never married\n",
       "  [64] Divorced      Never married Widowed       Divorced      Married       Never married Never married\n",
       "  [71] Widowed       Widowed       Widowed       Widowed       Widowed       Never married Widowed      \n",
       "  [78] Never married Married       Never married Married       Married       Widowed       Married      \n",
       "  [85] Married       Divorced      Never married Separated     Never married Widowed       Widowed      \n",
       "  [92] Married       Divorced      Never married Never married Never married Married       Married      \n",
       "  [99] Widowed       Divorced      Married       Married       Married       Married       Widowed      \n",
       " [106] Married       Divorced      Divorced      Married       Never married Married       Married      \n",
       " [113] Separated     Married       Never married Divorced      Divorced      Separated     Married      \n",
       " [120] Widowed       Separated     Divorced      Married       Divorced      Never married Divorced     \n",
       " [127] Divorced      Married       Never married Never married Never married Married       Married      \n",
       " [134] Divorced      Widowed       Never married Widowed       Divorced      Separated     Widowed      \n",
       " [141] Never married Widowed       Widowed       Widowed       Widowed       Never married Never married\n",
       " [148] Never married Never married Never married Never married Never married Married       Married      \n",
       " [155] Separated     Never married Widowed       Widowed       Married       Married       Married      \n",
       " [162] Married       Married       Never married Married       Divorced      Never married Married      \n",
       " [169] Married       Married       Never married Never married Married       Married       Married      \n",
       " [176] Married       Married       Married       Married       Married       Married       Widowed      \n",
       " [183] Widowed       Married       Married       Married       Divorced      Married       Married      \n",
       " [190] Never married Never married Never married Divorced      Never married Never married Married      \n",
       " [197] Never married Separated     Never married Never married Divorced      Widowed       Separated    \n",
       " [204] Married       Married       Separated     Divorced      Divorced      Never married Married      \n",
       " [211] Married       Married       Married       Married       Never married Never married Never married\n",
       " [218] Married       Married       Separated     Married       Never married Married       Never married\n",
       " [225] Divorced      Never married Never married Never married Married       Married       Never married\n",
       " [232] Married       Widowed       Married       Never married Divorced      Married       Separated    \n",
       " [239] Married       Married       Married       Widowed       Married       Widowed       Married      \n",
       " [246] Never married Married       Married       Married       Widowed       Married       Married      \n",
       " [253] Married       Divorced      Never married Married       Married       Divorced      Married      \n",
       " [260] Never married Separated     Divorced      Widowed       Married       Separated     Widowed      \n",
       " [267] Married       Never married Never married Married       Married       Never married Never married\n",
       " [274] Never married Divorced      Widowed       Separated     Divorced      Widowed       Never married\n",
       " [281] Never married Never married Married       Married       Never married Never married Never married\n",
       " [288] Divorced      Never married Divorced      Married       Never married Separated     Separated    \n",
       " [295] Never married Married       Never married Divorced      Never married Never married Never married\n",
       " [302] Never married Divorced      Divorced      Married       Married       Married       Married      \n",
       " [309] Married       Divorced      Married       Married       Married       Never married Married      \n",
       " [316] Never married Never married Married       Married       Married       Divorced      Never married\n",
       " [323] Never married Married       Married       Married       Never married Never married Never married\n",
       " [330] Married       Widowed       Married       Married       Widowed       Married       Married      \n",
       " [337] Married       Never married Never married Married       Married       Married       Married      \n",
       " [344] Married       Never married Married       Married       Never married Never married Widowed      \n",
       " [351] Married       Married       Married       Never married Married       Married       Never married\n",
       " [358] Married       Divorced      Married       Married       Separated     Never married Never married\n",
       " [365] Married       Married       Divorced      Married       Married       Never married Never married\n",
       " [372] Never married Never married Divorced      Married       Married       Divorced      Never married\n",
       " [379] Never married Married       Never married Widowed       Married       Married       Divorced     \n",
       " [386] Married       Married       Separated     Married       Married       Married       Widowed      \n",
       " [393] Divorced      Married       Married       Married       Divorced      Married       Divorced     \n",
       " [400] Never married Married       Married       Never married Separated     Separated     Never married\n",
       " [407] Divorced      Married       Married       Married       Married       Married       Never married\n",
       " [414] Married       Married       Married       Married       Never married Married       Married      \n",
       " [421] Married       Married       Divorced      Divorced      Married       Married       Married      \n",
       " [428] Married       Never married Married       Never married Married       Never married Divorced     \n",
       " [435] Divorced      Divorced      Never married Married       Separated     Divorced      Widowed      \n",
       " [442] Divorced      Divorced      Never married Divorced      Widowed       Divorced      Divorced     \n",
       " [449] Divorced      Never married Divorced      Widowed       Widowed       Married       Married      \n",
       " [456] Never married Never married Never married Married       Married       Married       Widowed      \n",
       " [463] Divorced      Never married Married       Married       Married       Never married Married      \n",
       " [470] Married       Married       Widowed       Never married Married       Divorced      Divorced     \n",
       " [477] Married       Widowed       Married       Married       Married       Married       Married      \n",
       " [484] Never married Divorced      Married       Never married Separated     Widowed       Divorced     \n",
       " [491] Married       Married       Never married Separated     Never married Married       Married      \n",
       " [498] Married       Married       Never married Married       Married       Never married Divorced     \n",
       " [505] Married       Married       Married       Never married Never married Never married Never married\n",
       " [512] Never married Never married Never married Never married Never married Never married Married      \n",
       " [519] Separated     Married       Never married Divorced      Married       Widowed       Married      \n",
       " [526] Never married Married       Married       Never married Widowed       Never married Never married\n",
       " [533] Married       Married       Separated     Never married Never married Married       Married      \n",
       " [540] Married       Married       Divorced      Married       Married       Married       Married      \n",
       " [547] Married       Widowed       Separated     Separated     Never married Widowed       Widowed      \n",
       " [554] Divorced      Never married Separated     Divorced      Never married Never married Never married\n",
       " [561] Married       Married       Never married Married       Married       Married       Divorced     \n",
       " [568] Married       Married       Never married Married       Married       Divorced      Never married\n",
       " [575] Married       Married       Married       Never married Married       Never married Never married\n",
       " [582] Married       Married       Separated     Never married Never married Widowed       Married      \n",
       " [589] Married       Divorced      Married       Married       Married       Married       Married      \n",
       " [596] Married       Married       Widowed       Never married Divorced      Married       Married      \n",
       " [603] Married       Never married Never married Never married Never married Never married Never married\n",
       " [610] Married       Married       Never married Married       Married       Married       Married      \n",
       " [617] Never married Separated     Married       Never married Never married Married       Married      \n",
       " [624] Never married Married       Never married Divorced      Married       Divorced      Widowed      \n",
       " [631] Married       Never married Married       Never married Separated     Divorced      Never married\n",
       " [638] Widowed       Separated     Married       Never married Married       Never married Never married\n",
       " [645] Never married Divorced      Divorced      Never married Never married Married       Divorced     \n",
       " [652] Never married Married       Married       Widowed       Never married Separated     Divorced     \n",
       " [659] Divorced      Divorced      Never married Married       Divorced      Married       Separated    \n",
       " [666] Never married Married       Married       Married       Married       Married       Married      \n",
       " [673] Married       Never married Widowed       Never married Never married Divorced      Never married\n",
       " [680] Married       Never married Never married Married       Married       Married       Married      \n",
       " [687] Married       Never married Divorced      Separated     Divorced      Married       Married      \n",
       " [694] Married       Married       Married       Married       Married       Married       Never married\n",
       " [701] Divorced      Married       Divorced      Never married Never married Never married Never married\n",
       " [708] Widowed       Married       Married       Never married Never married Married       Divorced     \n",
       " [715] Married       Married       Married       Widowed       Never married Never married Divorced     \n",
       " [722] Married       Married       Married       Divorced      Divorced      Married       Widowed      \n",
       " [729] Never married Widowed       Married       Widowed       Divorced      Married       Married      \n",
       " [736] Widowed       Widowed       Divorced      Separated     Widowed       Married       Married      \n",
       " [743] Married       Never married Married       Married       Married       Married       Married      \n",
       " [750] Married       Married       Married       Married       Married       Married       Married      \n",
       " [757] Never married Never married Married       Divorced      Married       Married       Never married\n",
       " [764] Never married Widowed       Married       Widowed       Married       Married       Never married\n",
       " [771] Never married Never married Divorced      Divorced      Never married Divorced      Never married\n",
       " [778] Never married Never married Married       Divorced      Married       Widowed       Married      \n",
       " [785] Married       Never married Married       Divorced      Divorced      Never married Never married\n",
       " [792] Divorced      Divorced      Married       Married       Never married Married       Separated    \n",
       " [799] Married       Married       Married       Never married Never married Married       Married      \n",
       " [806] Married       Never married Widowed       Widowed       Widowed       Widowed       Married      \n",
       " [813] Married       Widowed       Married       Married       Never married Widowed       Widowed      \n",
       " [820] Never married Divorced      Divorced      Married       Divorced      Separated     Married      \n",
       " [827] Married       Widowed       Never married Married       Never married Married       Married      \n",
       " [834] Never married Married       Married       Married       Widowed       Married       Widowed      \n",
       " [841] Married       Never married Separated     Widowed       Married       Widowed       Never married\n",
       " [848] Widowed       Widowed       Widowed       Married       Married       Widowed       Separated    \n",
       " [855] Married       Married       Separated     Married       Widowed       Married       Divorced     \n",
       " [862] Never married Widowed       Never married Never married Divorced      Married       Never married\n",
       " [869] Married       Divorced      Married       Married       Never married Divorced      Never married\n",
       " [876] Divorced      Widowed       Divorced      Married       Divorced      Divorced      Widowed      \n",
       " [883] Widowed       Never married Married       Divorced      Married       Married       Divorced     \n",
       " [890] Married       Widowed       Married       Married       Married       Married       Married      \n",
       " [897] Married       Married       Married       Married       Never married Married       Never married\n",
       " [904] Divorced      Married       Widowed       Divorced      Divorced      Married       Divorced     \n",
       " [911] Married       Married       Never married Divorced      Separated     Married       Never married\n",
       " [918] Divorced      Never married Never married Widowed       Never married Married       Married      \n",
       " [925] Divorced      Separated     Separated     Married       Divorced      Divorced      Married      \n",
       " [932] Divorced      Married       Divorced      Never married Divorced      Divorced      Never married\n",
       " [939] Never married Never married Married       Widowed       Married       Married       Divorced     \n",
       " [946] Married       Divorced      Divorced      Married       Married       Married       Married      \n",
       " [953] Never married Divorced      Divorced      Never married Separated     Never married Married      \n",
       " [960] Married       Married       Married       Married       Never married Married       Never married\n",
       " [967] Married       Divorced      Married       Married       Never married Never married Married      \n",
       " [974] Divorced      Widowed       Divorced      Never married Married       Married       Divorced     \n",
       " [981] Married       Never married Never married Never married Separated     Never married Divorced     \n",
       " [988] Married       Divorced      Married       Married       Married       Married       Married      \n",
       " [995] Married       Married       Never married Married       Married       Married      \n",
       " [ reached getOption(\"max.print\") -- omitted 20483 entries ]\n",
       "Levels: No answer Never married Separated Divorced Widowed Married"
      ]
     },
     "execution_count": null,
     "metadata": {},
     "output_type": "execute_result"
    }
   ],
   "source": [
    "gss_cat$marital"
   ]
  },
  {
   "cell_type": "code",
   "execution_count": 59,
   "metadata": {
    "vscode": {
     "languageId": "r"
    }
   },
   "outputs": [
    {
     "data": {
      "text/plain": [
       "[1] \"factor\""
      ]
     },
     "execution_count": null,
     "metadata": {},
     "output_type": "execute_result"
    }
   ],
   "source": [
    "class(gss_cat$marital)"
   ]
  },
  {
   "cell_type": "code",
   "execution_count": 61,
   "metadata": {
    "vscode": {
     "languageId": "r"
    }
   },
   "outputs": [
    {
     "data": {
      "text/plain": [
       "[1] \"No answer\"     \"Never married\" \"Separated\"     \"Divorced\"      \"Widowed\"       \"Married\"      "
      ]
     },
     "execution_count": null,
     "metadata": {},
     "output_type": "execute_result"
    }
   ],
   "source": [
    "levels(gss_cat$marital)"
   ]
  },
  {
   "cell_type": "markdown",
   "metadata": {},
   "source": [
    "## Modifying factor order"
   ]
  },
  {
   "cell_type": "code",
   "execution_count": 63,
   "metadata": {
    "vscode": {
     "languageId": "r"
    }
   },
   "outputs": [],
   "source": [
    "relig_summary <- gss_cat |>\n",
    "group_by(relig) |>\n",
    "summarize(\n",
    "tvhours = mean(tvhours, na.rm = TRUE),\n",
    "n = n()\n",
    ")"
   ]
  },
  {
   "cell_type": "code",
   "execution_count": 64,
   "metadata": {
    "vscode": {
     "languageId": "r"
    }
   },
   "outputs": [
    {
     "data": {
      "text/plain": [
       "\u001b[38;5;246m# A tibble: 15 × 3\u001b[39m\n",
       "   relig                   tvhours     n\n",
       "   \u001b[3m\u001b[38;5;246m<fct>\u001b[39m\u001b[23m                     \u001b[3m\u001b[38;5;246m<dbl>\u001b[39m\u001b[23m \u001b[3m\u001b[38;5;246m<int>\u001b[39m\u001b[23m\n",
       "\u001b[38;5;250m 1\u001b[39m No answer                  2.72    93\n",
       "\u001b[38;5;250m 2\u001b[39m Don't know                 4.62    15\n",
       "\u001b[38;5;250m 3\u001b[39m Inter-nondenominational    2.87   109\n",
       "\u001b[38;5;250m 4\u001b[39m Native american            3.46    23\n",
       "\u001b[38;5;250m 5\u001b[39m Christian                  2.79   689\n",
       "\u001b[38;5;250m 6\u001b[39m Orthodox-christian         2.42    95\n",
       "\u001b[38;5;250m 7\u001b[39m Moslem/islam               2.44   104\n",
       "\u001b[38;5;250m 8\u001b[39m Other eastern              1.67    32\n",
       "\u001b[38;5;250m 9\u001b[39m Hinduism                   1.89    71\n",
       "\u001b[38;5;250m10\u001b[39m Buddhism                   2.38   147\n",
       "\u001b[38;5;250m11\u001b[39m Other                      2.73   224\n",
       "\u001b[38;5;250m12\u001b[39m None                       2.71  \u001b[4m3\u001b[24m523\n",
       "\u001b[38;5;250m13\u001b[39m Jewish                     2.52   388\n",
       "\u001b[38;5;250m14\u001b[39m Catholic                   2.96  \u001b[4m5\u001b[24m124\n",
       "\u001b[38;5;250m15\u001b[39m Protestant                 3.15 \u001b[4m1\u001b[24m\u001b[4m0\u001b[24m846"
      ]
     },
     "execution_count": null,
     "metadata": {},
     "output_type": "execute_result"
    }
   ],
   "source": [
    "relig_summary"
   ]
  },
  {
   "cell_type": "markdown",
   "metadata": {},
   "source": [
    "## Modifying factor levels"
   ]
  },
  {
   "cell_type": "code",
   "execution_count": 66,
   "metadata": {
    "vscode": {
     "languageId": "r"
    }
   },
   "outputs": [
    {
     "data": {
      "text/plain": [
       "[1] a b c\n",
       "Levels: a < b < c"
      ]
     },
     "execution_count": null,
     "metadata": {},
     "output_type": "execute_result"
    }
   ],
   "source": [
    "ordered(c(\"a\", \"b\", \"c\"))"
   ]
  },
  {
   "cell_type": "code",
   "execution_count": 67,
   "metadata": {
    "vscode": {
     "languageId": "r"
    }
   },
   "outputs": [
    {
     "data": {
      "text/plain": [
       "[1] a b c\n",
       "Levels: b c a"
      ]
     },
     "execution_count": null,
     "metadata": {},
     "output_type": "execute_result"
    }
   ],
   "source": [
    "fct_relevel(c(\"a\", \"b\", \"c\"), c(\"b\", \"c\", \"a\"))"
   ]
  },
  {
   "cell_type": "markdown",
   "metadata": {},
   "source": [
    "# Dates and times"
   ]
  },
  {
   "cell_type": "code",
   "execution_count": 1,
   "metadata": {
    "vscode": {
     "languageId": "r"
    }
   },
   "outputs": [
    {
     "name": "stdout",
     "output_type": "stream",
     "text": [
      "── \u001b[1mAttaching core tidyverse packages\u001b[22m ────────────────────────────────────────────────── tidyverse 2.0.0 ──\n",
      "\u001b[32m✔\u001b[39m \u001b[34mdplyr    \u001b[39m 1.1.4     \u001b[32m✔\u001b[39m \u001b[34mreadr    \u001b[39m 2.1.5\n",
      "\u001b[32m✔\u001b[39m \u001b[34mforcats  \u001b[39m 1.0.0     \u001b[32m✔\u001b[39m \u001b[34mstringr  \u001b[39m 1.5.1\n",
      "\u001b[32m✔\u001b[39m \u001b[34mggplot2  \u001b[39m 3.5.1     \u001b[32m✔\u001b[39m \u001b[34mtibble   \u001b[39m 3.2.1\n",
      "\u001b[32m✔\u001b[39m \u001b[34mlubridate\u001b[39m 1.9.4     \u001b[32m✔\u001b[39m \u001b[34mtidyr    \u001b[39m 1.3.1\n",
      "\u001b[32m✔\u001b[39m \u001b[34mpurrr    \u001b[39m 1.0.2     \n",
      "── \u001b[1mConflicts\u001b[22m ──────────────────────────────────────────────────────────────────── tidyverse_conflicts() ──\n",
      "\u001b[31m✖\u001b[39m \u001b[34mdplyr\u001b[39m::\u001b[32mfilter()\u001b[39m masks \u001b[34mstats\u001b[39m::filter()\n",
      "\u001b[31m✖\u001b[39m \u001b[34mdplyr\u001b[39m::\u001b[32mlag()\u001b[39m    masks \u001b[34mstats\u001b[39m::lag()\n",
      "\u001b[36mℹ\u001b[39m Use the \u001b]8;;http://conflicted.r-lib.org/\u0007conflicted package\u001b]8;;\u0007 to force all conflicts to become errors\n"
     ]
    }
   ],
   "source": [
    "library(tidyverse)\n",
    "library(nycflights13)"
   ]
  },
  {
   "cell_type": "markdown",
   "metadata": {},
   "source": [
    "## Creating date/times"
   ]
  },
  {
   "cell_type": "code",
   "execution_count": 2,
   "metadata": {
    "vscode": {
     "languageId": "r"
    }
   },
   "outputs": [
    {
     "data": {
      "text/plain": [
       "[1] \"2025-02-12\""
      ]
     },
     "execution_count": null,
     "metadata": {},
     "output_type": "execute_result"
    }
   ],
   "source": [
    "today()"
   ]
  },
  {
   "cell_type": "code",
   "execution_count": 3,
   "metadata": {
    "vscode": {
     "languageId": "r"
    }
   },
   "outputs": [
    {
     "data": {
      "text/plain": [
       "[1] \"2025-02-12 09:15:17 CST\""
      ]
     },
     "execution_count": null,
     "metadata": {},
     "output_type": "execute_result"
    }
   ],
   "source": [
    "now()"
   ]
  },
  {
   "cell_type": "code",
   "execution_count": 4,
   "metadata": {
    "vscode": {
     "languageId": "r"
    }
   },
   "outputs": [
    {
     "data": {
      "text/plain": [
       "[1] \"2024-09-01\""
      ]
     },
     "execution_count": null,
     "metadata": {},
     "output_type": "execute_result"
    }
   ],
   "source": [
    "dmy(\"1-09-24\")"
   ]
  },
  {
   "cell_type": "code",
   "execution_count": 5,
   "metadata": {
    "vscode": {
     "languageId": "r"
    }
   },
   "outputs": [
    {
     "data": {
      "text/plain": [
       "[1] \"2024-09-01\""
      ]
     },
     "execution_count": null,
     "metadata": {},
     "output_type": "execute_result"
    }
   ],
   "source": [
    "dmy(\"1 Sep 24\")"
   ]
  },
  {
   "cell_type": "code",
   "execution_count": 6,
   "metadata": {
    "vscode": {
     "languageId": "r"
    }
   },
   "outputs": [],
   "source": [
    "date1 <- mdy_hm(\"01/31/2017 08:01\")"
   ]
  },
  {
   "cell_type": "code",
   "execution_count": 7,
   "metadata": {
    "vscode": {
     "languageId": "r"
    }
   },
   "outputs": [
    {
     "data": {
      "text/plain": [
       "[1] \"2017-01-31 08:01:00 UTC\""
      ]
     },
     "execution_count": null,
     "metadata": {},
     "output_type": "execute_result"
    }
   ],
   "source": [
    "date1"
   ]
  },
  {
   "cell_type": "code",
   "execution_count": 14,
   "metadata": {
    "vscode": {
     "languageId": "r"
    }
   },
   "outputs": [
    {
     "data": {
      "text/plain": [
       "[1] \"2017-01-01 UTC\""
      ]
     },
     "execution_count": null,
     "metadata": {},
     "output_type": "execute_result"
    }
   ],
   "source": [
    "floor_date(date1, \"year\")"
   ]
  },
  {
   "cell_type": "code",
   "execution_count": 9,
   "metadata": {
    "vscode": {
     "languageId": "r"
    }
   },
   "outputs": [
    {
     "data": {
      "text/plain": [
       "[1] \"2017-01-31 08:01:00 UTC\""
      ]
     },
     "execution_count": null,
     "metadata": {},
     "output_type": "execute_result"
    }
   ],
   "source": [
    "round_date(date1)"
   ]
  },
  {
   "cell_type": "code",
   "execution_count": 10,
   "metadata": {
    "vscode": {
     "languageId": "r"
    }
   },
   "outputs": [
    {
     "data": {
      "text/plain": [
       "[1] \"2017-01-31 08:01:00 UTC\""
      ]
     },
     "execution_count": null,
     "metadata": {},
     "output_type": "execute_result"
    }
   ],
   "source": [
    "ceiling_date(date1)"
   ]
  },
  {
   "cell_type": "markdown",
   "metadata": {},
   "source": [
    "## Time spans"
   ]
  },
  {
   "cell_type": "code",
   "execution_count": 15,
   "metadata": {
    "vscode": {
     "languageId": "r"
    }
   },
   "outputs": [
    {
     "data": {
      "text/plain": [
       "[1] \"18s\""
      ]
     },
     "execution_count": null,
     "metadata": {},
     "output_type": "execute_result"
    }
   ],
   "source": [
    "dseconds(18)"
   ]
  },
  {
   "cell_type": "code",
   "execution_count": 16,
   "metadata": {
    "vscode": {
     "languageId": "r"
    }
   },
   "outputs": [
    {
     "data": {
      "text/plain": [
       "[1] \"600s (~10 minutes)\""
      ]
     },
     "execution_count": null,
     "metadata": {},
     "output_type": "execute_result"
    }
   ],
   "source": [
    "dminutes(10)"
   ]
  },
  {
   "cell_type": "code",
   "execution_count": 17,
   "metadata": {
    "vscode": {
     "languageId": "r"
    }
   },
   "outputs": [
    {
     "data": {
      "text/plain": [
       "[1] \"43200s (~12 hours)\" \"86400s (~1 days)\"  "
      ]
     },
     "execution_count": null,
     "metadata": {},
     "output_type": "execute_result"
    }
   ],
   "source": [
    "dhours(c(12, 24))"
   ]
  },
  {
   "cell_type": "code",
   "execution_count": 18,
   "metadata": {
    "vscode": {
     "languageId": "r"
    }
   },
   "outputs": [
    {
     "data": {
      "text/plain": [
       "[1] \"172800s (~2 days)\""
      ]
     },
     "execution_count": null,
     "metadata": {},
     "output_type": "execute_result"
    }
   ],
   "source": [
    "ddays(2)"
   ]
  },
  {
   "cell_type": "code",
   "execution_count": 19,
   "metadata": {
    "vscode": {
     "languageId": "r"
    }
   },
   "outputs": [
    {
     "data": {
      "text/plain": [
       "[1] \"1814400s (~3 weeks)\""
      ]
     },
     "execution_count": null,
     "metadata": {},
     "output_type": "execute_result"
    }
   ],
   "source": [
    "dweeks(3)"
   ]
  },
  {
   "cell_type": "code",
   "execution_count": 20,
   "metadata": {
    "vscode": {
     "languageId": "r"
    }
   },
   "outputs": [
    {
     "data": {
      "text/plain": [
       "[1] \"31557600s (~1 years)\""
      ]
     },
     "execution_count": null,
     "metadata": {},
     "output_type": "execute_result"
    }
   ],
   "source": [
    "dyears(1)"
   ]
  },
  {
   "cell_type": "markdown",
   "metadata": {},
   "source": [
    "## Time zones"
   ]
  },
  {
   "cell_type": "code",
   "execution_count": 21,
   "metadata": {
    "vscode": {
     "languageId": "r"
    }
   },
   "outputs": [
    {
     "data": {
      "text/plain": [
       "[1] \"Asia/Shanghai\""
      ]
     },
     "execution_count": null,
     "metadata": {},
     "output_type": "execute_result"
    }
   ],
   "source": [
    "Sys.timezone()"
   ]
  },
  {
   "cell_type": "code",
   "execution_count": 23,
   "metadata": {
    "vscode": {
     "languageId": "r"
    }
   },
   "outputs": [
    {
     "data": {
      "text/plain": [
       "[1] \"2024-06-01 12:00:00 EDT\""
      ]
     },
     "execution_count": null,
     "metadata": {},
     "output_type": "execute_result"
    }
   ],
   "source": [
    "x1 <- ymd_hms(\"2024-06-01 12:00:00\", tz = \"America/New_York\")\n",
    "x1"
   ]
  },
  {
   "cell_type": "code",
   "execution_count": 24,
   "metadata": {
    "vscode": {
     "languageId": "r"
    }
   },
   "outputs": [
    {
     "data": {
      "text/plain": [
       "[1] \"2024-06-01 12:00:00 CST\""
      ]
     },
     "execution_count": null,
     "metadata": {},
     "output_type": "execute_result"
    }
   ],
   "source": [
    "x1 <- ymd_hms(\"2024-06-01 12:00:00\", tz = \"Asia/Shanghai\")\n",
    "x1"
   ]
  },
  {
   "cell_type": "markdown",
   "metadata": {},
   "source": [
    "# Missing values"
   ]
  },
  {
   "cell_type": "markdown",
   "metadata": {},
   "source": [
    "## Explicit missing values"
   ]
  },
  {
   "cell_type": "code",
   "execution_count": 25,
   "metadata": {
    "vscode": {
     "languageId": "r"
    }
   },
   "outputs": [],
   "source": [
    "treatment <- tribble(\n",
    "  ~person,           ~treatment, ~response,\n",
    "  \"Derrick Whitmore\", 1,         7,\n",
    "  NA,                 2,         10,\n",
    "  NA,                 3,         NA,\n",
    "  \"Katherine Burke\",  1,         4\n",
    ")"
   ]
  },
  {
   "cell_type": "code",
   "execution_count": 26,
   "metadata": {
    "vscode": {
     "languageId": "r"
    }
   },
   "outputs": [
    {
     "data": {
      "text/plain": [
       "\u001b[38;5;246m# A tibble: 4 × 3\u001b[39m\n",
       "  person           treatment response\n",
       "  \u001b[3m\u001b[38;5;246m<chr>\u001b[39m\u001b[23m                \u001b[3m\u001b[38;5;246m<dbl>\u001b[39m\u001b[23m    \u001b[3m\u001b[38;5;246m<dbl>\u001b[39m\u001b[23m\n",
       "\u001b[38;5;250m1\u001b[39m Derrick Whitmore         1        7\n",
       "\u001b[38;5;250m2\u001b[39m \u001b[31mNA\u001b[39m                       2       10\n",
       "\u001b[38;5;250m3\u001b[39m \u001b[31mNA\u001b[39m                       3       \u001b[31mNA\u001b[39m\n",
       "\u001b[38;5;250m4\u001b[39m Katherine Burke          1        4"
      ]
     },
     "execution_count": null,
     "metadata": {},
     "output_type": "execute_result"
    }
   ],
   "source": [
    "treatment"
   ]
  },
  {
   "cell_type": "code",
   "execution_count": 27,
   "metadata": {
    "vscode": {
     "languageId": "r"
    }
   },
   "outputs": [
    {
     "data": {
      "text/plain": [
       "\u001b[38;5;246m# A tibble: 4 × 3\u001b[39m\n",
       "  person           treatment response\n",
       "  \u001b[3m\u001b[38;5;246m<chr>\u001b[39m\u001b[23m                \u001b[3m\u001b[38;5;246m<dbl>\u001b[39m\u001b[23m    \u001b[3m\u001b[38;5;246m<dbl>\u001b[39m\u001b[23m\n",
       "\u001b[38;5;250m1\u001b[39m Derrick Whitmore         1        7\n",
       "\u001b[38;5;250m2\u001b[39m Derrick Whitmore         2       10\n",
       "\u001b[38;5;250m3\u001b[39m Derrick Whitmore         3       10\n",
       "\u001b[38;5;250m4\u001b[39m Katherine Burke          1        4"
      ]
     },
     "execution_count": null,
     "metadata": {},
     "output_type": "execute_result"
    }
   ],
   "source": [
    "treatment |> \n",
    "  fill(everything())"
   ]
  },
  {
   "cell_type": "code",
   "execution_count": 28,
   "metadata": {
    "vscode": {
     "languageId": "r"
    }
   },
   "outputs": [],
   "source": [
    "x <- c(1, 4, 5, 7, NA)"
   ]
  },
  {
   "cell_type": "code",
   "execution_count": 29,
   "metadata": {
    "vscode": {
     "languageId": "r"
    }
   },
   "outputs": [
    {
     "data": {
      "text/plain": [
       "[1] 1 4 5 7 0"
      ]
     },
     "execution_count": null,
     "metadata": {},
     "output_type": "execute_result"
    }
   ],
   "source": [
    "coalesce(x, 0)"
   ]
  },
  {
   "cell_type": "code",
   "execution_count": 30,
   "metadata": {
    "vscode": {
     "languageId": "r"
    }
   },
   "outputs": [],
   "source": [
    "x <- c(1, 4, 5, 7, -99)"
   ]
  },
  {
   "cell_type": "code",
   "execution_count": 32,
   "metadata": {
    "vscode": {
     "languageId": "r"
    }
   },
   "outputs": [
    {
     "data": {
      "text/plain": [
       "[1]  1  4  5  7 NA"
      ]
     },
     "execution_count": null,
     "metadata": {},
     "output_type": "execute_result"
    }
   ],
   "source": [
    "na_if(x, -99)"
   ]
  },
  {
   "cell_type": "markdown",
   "metadata": {},
   "source": [
    "## Implicit missing values"
   ]
  },
  {
   "cell_type": "code",
   "execution_count": 33,
   "metadata": {
    "vscode": {
     "languageId": "r"
    }
   },
   "outputs": [],
   "source": [
    "stocks <- tibble(\n",
    "  year  = c(2020, 2020, 2020, 2020, 2021, 2021, 2021),\n",
    "  qtr   = c(   1,    2,    3,    4,    2,    3,    4),\n",
    "  price = c(1.88, 0.59, 0.35,   NA, 0.92, 0.17, 2.66)\n",
    ")"
   ]
  },
  {
   "cell_type": "code",
   "execution_count": 34,
   "metadata": {
    "vscode": {
     "languageId": "r"
    }
   },
   "outputs": [
    {
     "data": {
      "text/plain": [
       "\u001b[38;5;246m# A tibble: 7 × 3\u001b[39m\n",
       "   year   qtr price\n",
       "  \u001b[3m\u001b[38;5;246m<dbl>\u001b[39m\u001b[23m \u001b[3m\u001b[38;5;246m<dbl>\u001b[39m\u001b[23m \u001b[3m\u001b[38;5;246m<dbl>\u001b[39m\u001b[23m\n",
       "\u001b[38;5;250m1\u001b[39m  \u001b[4m2\u001b[24m020     1  1.88\n",
       "\u001b[38;5;250m2\u001b[39m  \u001b[4m2\u001b[24m020     2  0.59\n",
       "\u001b[38;5;250m3\u001b[39m  \u001b[4m2\u001b[24m020     3  0.35\n",
       "\u001b[38;5;250m4\u001b[39m  \u001b[4m2\u001b[24m020     4 \u001b[31mNA\u001b[39m   \n",
       "\u001b[38;5;250m5\u001b[39m  \u001b[4m2\u001b[24m021     2  0.92\n",
       "\u001b[38;5;250m6\u001b[39m  \u001b[4m2\u001b[24m021     3  0.17\n",
       "\u001b[38;5;250m7\u001b[39m  \u001b[4m2\u001b[24m021     4  2.66"
      ]
     },
     "execution_count": null,
     "metadata": {},
     "output_type": "execute_result"
    }
   ],
   "source": [
    "stocks"
   ]
  },
  {
   "cell_type": "code",
   "execution_count": 35,
   "metadata": {
    "vscode": {
     "languageId": "r"
    }
   },
   "outputs": [
    {
     "data": {
      "text/plain": [
       "\u001b[38;5;246m# A tibble: 2 × 5\u001b[39m\n",
       "   year   `1`   `2`   `3`   `4`\n",
       "  \u001b[3m\u001b[38;5;246m<dbl>\u001b[39m\u001b[23m \u001b[3m\u001b[38;5;246m<dbl>\u001b[39m\u001b[23m \u001b[3m\u001b[38;5;246m<dbl>\u001b[39m\u001b[23m \u001b[3m\u001b[38;5;246m<dbl>\u001b[39m\u001b[23m \u001b[3m\u001b[38;5;246m<dbl>\u001b[39m\u001b[23m\n",
       "\u001b[38;5;250m1\u001b[39m  \u001b[4m2\u001b[24m020  1.88  0.59  0.35 \u001b[31mNA\u001b[39m   \n",
       "\u001b[38;5;250m2\u001b[39m  \u001b[4m2\u001b[24m021 \u001b[31mNA\u001b[39m     0.92  0.17  2.66"
      ]
     },
     "execution_count": null,
     "metadata": {},
     "output_type": "execute_result"
    }
   ],
   "source": [
    "stocks |> \n",
    "  pivot_wider(\n",
    "    names_from = qtr,\n",
    "    values_from = price\n",
    "  )"
   ]
  },
  {
   "cell_type": "code",
   "execution_count": 36,
   "metadata": {
    "vscode": {
     "languageId": "r"
    }
   },
   "outputs": [
    {
     "data": {
      "text/plain": [
       "\u001b[38;5;246m# A tibble: 8 × 3\u001b[39m\n",
       "   year   qtr price\n",
       "  \u001b[3m\u001b[38;5;246m<dbl>\u001b[39m\u001b[23m \u001b[3m\u001b[38;5;246m<dbl>\u001b[39m\u001b[23m \u001b[3m\u001b[38;5;246m<dbl>\u001b[39m\u001b[23m\n",
       "\u001b[38;5;250m1\u001b[39m  \u001b[4m2\u001b[24m020     1  1.88\n",
       "\u001b[38;5;250m2\u001b[39m  \u001b[4m2\u001b[24m020     2  0.59\n",
       "\u001b[38;5;250m3\u001b[39m  \u001b[4m2\u001b[24m020     3  0.35\n",
       "\u001b[38;5;250m4\u001b[39m  \u001b[4m2\u001b[24m020     4 \u001b[31mNA\u001b[39m   \n",
       "\u001b[38;5;250m5\u001b[39m  \u001b[4m2\u001b[24m021     1 \u001b[31mNA\u001b[39m   \n",
       "\u001b[38;5;250m6\u001b[39m  \u001b[4m2\u001b[24m021     2  0.92\n",
       "\u001b[38;5;250m7\u001b[39m  \u001b[4m2\u001b[24m021     3  0.17\n",
       "\u001b[38;5;250m8\u001b[39m  \u001b[4m2\u001b[24m021     4  2.66"
      ]
     },
     "execution_count": null,
     "metadata": {},
     "output_type": "execute_result"
    }
   ],
   "source": [
    "stocks |> \n",
    "  complete(year, qtr)"
   ]
  },
  {
   "cell_type": "markdown",
   "metadata": {},
   "source": [
    "## Factors and empty groups"
   ]
  },
  {
   "cell_type": "code",
   "execution_count": 38,
   "metadata": {
    "vscode": {
     "languageId": "r"
    }
   },
   "outputs": [],
   "source": [
    "health <- tibble(\n",
    "  name   = c(\"Ikaia\", \"Oletta\", \"Leriah\", \"Dashay\", \"Tresaun\"),\n",
    "  smoker = factor(c(\"no\", \"no\", \"no\", \"no\", \"no\"), levels = c(\"yes\", \"no\")),\n",
    "  age    = c(34, 88, 75, 47, 56),\n",
    ")"
   ]
  },
  {
   "cell_type": "code",
   "execution_count": 39,
   "metadata": {
    "vscode": {
     "languageId": "r"
    }
   },
   "outputs": [
    {
     "data": {
      "text/plain": [
       "\u001b[38;5;246m# A tibble: 5 × 3\u001b[39m\n",
       "  name    smoker   age\n",
       "  \u001b[3m\u001b[38;5;246m<chr>\u001b[39m\u001b[23m   \u001b[3m\u001b[38;5;246m<fct>\u001b[39m\u001b[23m  \u001b[3m\u001b[38;5;246m<dbl>\u001b[39m\u001b[23m\n",
       "\u001b[38;5;250m1\u001b[39m Ikaia   no        34\n",
       "\u001b[38;5;250m2\u001b[39m Oletta  no        88\n",
       "\u001b[38;5;250m3\u001b[39m Leriah  no        75\n",
       "\u001b[38;5;250m4\u001b[39m Dashay  no        47\n",
       "\u001b[38;5;250m5\u001b[39m Tresaun no        56"
      ]
     },
     "execution_count": null,
     "metadata": {},
     "output_type": "execute_result"
    }
   ],
   "source": [
    "health"
   ]
  },
  {
   "cell_type": "code",
   "execution_count": 40,
   "metadata": {
    "vscode": {
     "languageId": "r"
    }
   },
   "outputs": [
    {
     "data": {
      "text/plain": [
       "\u001b[38;5;246m# A tibble: 1 × 2\u001b[39m\n",
       "  smoker     n\n",
       "  \u001b[3m\u001b[38;5;246m<fct>\u001b[39m\u001b[23m  \u001b[3m\u001b[38;5;246m<int>\u001b[39m\u001b[23m\n",
       "\u001b[38;5;250m1\u001b[39m no         5"
      ]
     },
     "execution_count": null,
     "metadata": {},
     "output_type": "execute_result"
    }
   ],
   "source": [
    "health |> count(smoker)"
   ]
  },
  {
   "cell_type": "markdown",
   "metadata": {},
   "source": [
    "# Joins"
   ]
  },
  {
   "cell_type": "markdown",
   "metadata": {},
   "source": [
    "## Keys"
   ]
  },
  {
   "cell_type": "code",
   "execution_count": 41,
   "metadata": {
    "vscode": {
     "languageId": "r"
    }
   },
   "outputs": [
    {
     "data": {
      "text/plain": [
       "\u001b[38;5;246m# A tibble: 3,322 × 9\u001b[39m\n",
       "   tailnum  year type                    manufacturer     model     engines seats speed engine   \n",
       "   \u001b[3m\u001b[38;5;246m<chr>\u001b[39m\u001b[23m   \u001b[3m\u001b[38;5;246m<int>\u001b[39m\u001b[23m \u001b[3m\u001b[38;5;246m<chr>\u001b[39m\u001b[23m                   \u001b[3m\u001b[38;5;246m<chr>\u001b[39m\u001b[23m            \u001b[3m\u001b[38;5;246m<chr>\u001b[39m\u001b[23m       \u001b[3m\u001b[38;5;246m<int>\u001b[39m\u001b[23m \u001b[3m\u001b[38;5;246m<int>\u001b[39m\u001b[23m \u001b[3m\u001b[38;5;246m<int>\u001b[39m\u001b[23m \u001b[3m\u001b[38;5;246m<chr>\u001b[39m\u001b[23m    \n",
       "\u001b[38;5;250m 1\u001b[39m N10156   \u001b[4m2\u001b[24m004 Fixed wing multi engine EMBRAER          EMB-145XR       2    55    \u001b[31mNA\u001b[39m Turbo-fan\n",
       "\u001b[38;5;250m 2\u001b[39m N102UW   \u001b[4m1\u001b[24m998 Fixed wing multi engine AIRBUS INDUSTRIE A320-214        2   182    \u001b[31mNA\u001b[39m Turbo-fan\n",
       "\u001b[38;5;250m 3\u001b[39m N103US   \u001b[4m1\u001b[24m999 Fixed wing multi engine AIRBUS INDUSTRIE A320-214        2   182    \u001b[31mNA\u001b[39m Turbo-fan\n",
       "\u001b[38;5;250m 4\u001b[39m N104UW   \u001b[4m1\u001b[24m999 Fixed wing multi engine AIRBUS INDUSTRIE A320-214        2   182    \u001b[31mNA\u001b[39m Turbo-fan\n",
       "\u001b[38;5;250m 5\u001b[39m N10575   \u001b[4m2\u001b[24m002 Fixed wing multi engine EMBRAER          EMB-145LR       2    55    \u001b[31mNA\u001b[39m Turbo-fan\n",
       "\u001b[38;5;250m 6\u001b[39m N105UW   \u001b[4m1\u001b[24m999 Fixed wing multi engine AIRBUS INDUSTRIE A320-214        2   182    \u001b[31mNA\u001b[39m Turbo-fan\n",
       "\u001b[38;5;250m 7\u001b[39m N107US   \u001b[4m1\u001b[24m999 Fixed wing multi engine AIRBUS INDUSTRIE A320-214        2   182    \u001b[31mNA\u001b[39m Turbo-fan\n",
       "\u001b[38;5;250m 8\u001b[39m N108UW   \u001b[4m1\u001b[24m999 Fixed wing multi engine AIRBUS INDUSTRIE A320-214        2   182    \u001b[31mNA\u001b[39m Turbo-fan\n",
       "\u001b[38;5;250m 9\u001b[39m N109UW   \u001b[4m1\u001b[24m999 Fixed wing multi engine AIRBUS INDUSTRIE A320-214        2   182    \u001b[31mNA\u001b[39m Turbo-fan\n",
       "\u001b[38;5;250m10\u001b[39m N110UW   \u001b[4m1\u001b[24m999 Fixed wing multi engine AIRBUS INDUSTRIE A320-214        2   182    \u001b[31mNA\u001b[39m Turbo-fan\n",
       "\u001b[38;5;246m# ℹ 3,312 more rows\u001b[39m\n",
       "\u001b[38;5;246m# ℹ Use `print(n = ...)` to see more rows\u001b[39m"
      ]
     },
     "execution_count": null,
     "metadata": {},
     "output_type": "execute_result"
    }
   ],
   "source": [
    "planes"
   ]
  },
  {
   "cell_type": "code",
   "execution_count": 42,
   "metadata": {
    "vscode": {
     "languageId": "r"
    }
   },
   "outputs": [
    {
     "data": {
      "text/plain": [
       "\u001b[38;5;246m# A tibble: 3,322 × 2\u001b[39m\n",
       "   tailnum     n\n",
       "   \u001b[3m\u001b[38;5;246m<chr>\u001b[39m\u001b[23m   \u001b[3m\u001b[38;5;246m<int>\u001b[39m\u001b[23m\n",
       "\u001b[38;5;250m 1\u001b[39m N10156      1\n",
       "\u001b[38;5;250m 2\u001b[39m N102UW      1\n",
       "\u001b[38;5;250m 3\u001b[39m N103US      1\n",
       "\u001b[38;5;250m 4\u001b[39m N104UW      1\n",
       "\u001b[38;5;250m 5\u001b[39m N10575      1\n",
       "\u001b[38;5;250m 6\u001b[39m N105UW      1\n",
       "\u001b[38;5;250m 7\u001b[39m N107US      1\n",
       "\u001b[38;5;250m 8\u001b[39m N108UW      1\n",
       "\u001b[38;5;250m 9\u001b[39m N109UW      1\n",
       "\u001b[38;5;250m10\u001b[39m N110UW      1\n",
       "\u001b[38;5;246m# ℹ 3,312 more rows\u001b[39m\n",
       "\u001b[38;5;246m# ℹ Use `print(n = ...)` to see more rows\u001b[39m"
      ]
     },
     "execution_count": null,
     "metadata": {},
     "output_type": "execute_result"
    }
   ],
   "source": [
    "planes |> \n",
    "  count(tailnum)"
   ]
  },
  {
   "cell_type": "code",
   "execution_count": 43,
   "metadata": {
    "vscode": {
     "languageId": "r"
    }
   },
   "outputs": [
    {
     "data": {
      "text/plain": [
       "\u001b[38;5;246m# A tibble: 0 × 2\u001b[39m\n",
       "\u001b[38;5;246m# ℹ 2 variables: tailnum <chr>, n <int>\u001b[39m"
      ]
     },
     "execution_count": null,
     "metadata": {},
     "output_type": "execute_result"
    }
   ],
   "source": [
    "planes |> \n",
    "  count(tailnum) |> \n",
    "  filter(n > 1)"
   ]
  },
  {
   "cell_type": "markdown",
   "metadata": {},
   "source": [
    "## Basic joins"
   ]
  },
  {
   "cell_type": "code",
   "execution_count": 44,
   "metadata": {
    "vscode": {
     "languageId": "r"
    }
   },
   "outputs": [
    {
     "data": {
      "text/plain": [
       "\u001b[38;5;246m# A tibble: 336,776 × 6\u001b[39m\n",
       "    year time_hour           origin dest  tailnum carrier\n",
       "   \u001b[3m\u001b[38;5;246m<int>\u001b[39m\u001b[23m \u001b[3m\u001b[38;5;246m<dttm>\u001b[39m\u001b[23m              \u001b[3m\u001b[38;5;246m<chr>\u001b[39m\u001b[23m  \u001b[3m\u001b[38;5;246m<chr>\u001b[39m\u001b[23m \u001b[3m\u001b[38;5;246m<chr>\u001b[39m\u001b[23m   \u001b[3m\u001b[38;5;246m<chr>\u001b[39m\u001b[23m  \n",
       "\u001b[38;5;250m 1\u001b[39m  \u001b[4m2\u001b[24m013 2013-01-01 \u001b[38;5;246m05:00:00\u001b[39m EWR    IAH   N14228  UA     \n",
       "\u001b[38;5;250m 2\u001b[39m  \u001b[4m2\u001b[24m013 2013-01-01 \u001b[38;5;246m05:00:00\u001b[39m LGA    IAH   N24211  UA     \n",
       "\u001b[38;5;250m 3\u001b[39m  \u001b[4m2\u001b[24m013 2013-01-01 \u001b[38;5;246m05:00:00\u001b[39m JFK    MIA   N619AA  AA     \n",
       "\u001b[38;5;250m 4\u001b[39m  \u001b[4m2\u001b[24m013 2013-01-01 \u001b[38;5;246m05:00:00\u001b[39m JFK    BQN   N804JB  B6     \n",
       "\u001b[38;5;250m 5\u001b[39m  \u001b[4m2\u001b[24m013 2013-01-01 \u001b[38;5;246m06:00:00\u001b[39m LGA    ATL   N668DN  DL     \n",
       "\u001b[38;5;250m 6\u001b[39m  \u001b[4m2\u001b[24m013 2013-01-01 \u001b[38;5;246m05:00:00\u001b[39m EWR    ORD   N39463  UA     \n",
       "\u001b[38;5;250m 7\u001b[39m  \u001b[4m2\u001b[24m013 2013-01-01 \u001b[38;5;246m06:00:00\u001b[39m EWR    FLL   N516JB  B6     \n",
       "\u001b[38;5;250m 8\u001b[39m  \u001b[4m2\u001b[24m013 2013-01-01 \u001b[38;5;246m06:00:00\u001b[39m LGA    IAD   N829AS  EV     \n",
       "\u001b[38;5;250m 9\u001b[39m  \u001b[4m2\u001b[24m013 2013-01-01 \u001b[38;5;246m06:00:00\u001b[39m JFK    MCO   N593JB  B6     \n",
       "\u001b[38;5;250m10\u001b[39m  \u001b[4m2\u001b[24m013 2013-01-01 \u001b[38;5;246m06:00:00\u001b[39m LGA    ORD   N3ALAA  AA     \n",
       "\u001b[38;5;246m# ℹ 336,766 more rows\u001b[39m\n",
       "\u001b[38;5;246m# ℹ Use `print(n = ...)` to see more rows\u001b[39m"
      ]
     },
     "execution_count": null,
     "metadata": {},
     "output_type": "execute_result"
    }
   ],
   "source": [
    "flights2 <- flights |> \n",
    "  select(year, time_hour, origin, dest, tailnum, carrier)\n",
    "flights2"
   ]
  },
  {
   "cell_type": "code",
   "execution_count": 46,
   "metadata": {
    "vscode": {
     "languageId": "r"
    }
   },
   "outputs": [
    {
     "data": {
      "text/plain": [
       "\u001b[38;5;246m# A tibble: 16 × 2\u001b[39m\n",
       "   carrier name                       \n",
       "   \u001b[3m\u001b[38;5;246m<chr>\u001b[39m\u001b[23m   \u001b[3m\u001b[38;5;246m<chr>\u001b[39m\u001b[23m                      \n",
       "\u001b[38;5;250m 1\u001b[39m 9E      Endeavor Air Inc.          \n",
       "\u001b[38;5;250m 2\u001b[39m AA      American Airlines Inc.     \n",
       "\u001b[38;5;250m 3\u001b[39m AS      Alaska Airlines Inc.       \n",
       "\u001b[38;5;250m 4\u001b[39m B6      JetBlue Airways            \n",
       "\u001b[38;5;250m 5\u001b[39m DL      Delta Air Lines Inc.       \n",
       "\u001b[38;5;250m 6\u001b[39m EV      ExpressJet Airlines Inc.   \n",
       "\u001b[38;5;250m 7\u001b[39m F9      Frontier Airlines Inc.     \n",
       "\u001b[38;5;250m 8\u001b[39m FL      AirTran Airways Corporation\n",
       "\u001b[38;5;250m 9\u001b[39m HA      Hawaiian Airlines Inc.     \n",
       "\u001b[38;5;250m10\u001b[39m MQ      Envoy Air                  \n",
       "\u001b[38;5;250m11\u001b[39m OO      SkyWest Airlines Inc.      \n",
       "\u001b[38;5;250m12\u001b[39m UA      United Air Lines Inc.      \n",
       "\u001b[38;5;250m13\u001b[39m US      US Airways Inc.            \n",
       "\u001b[38;5;250m14\u001b[39m VX      Virgin America             \n",
       "\u001b[38;5;250m15\u001b[39m WN      Southwest Airlines Co.     \n",
       "\u001b[38;5;250m16\u001b[39m YV      Mesa Airlines Inc.         "
      ]
     },
     "execution_count": null,
     "metadata": {},
     "output_type": "execute_result"
    }
   ],
   "source": [
    "airlines"
   ]
  },
  {
   "cell_type": "code",
   "execution_count": 45,
   "metadata": {
    "vscode": {
     "languageId": "r"
    }
   },
   "outputs": [
    {
     "name": "stdout",
     "output_type": "stream",
     "text": [
      "\u001b[1m\u001b[22mJoining with `by = join_by(carrier)`\n"
     ]
    },
    {
     "data": {
      "text/plain": [
       "\u001b[38;5;246m# A tibble: 336,776 × 7\u001b[39m\n",
       "    year time_hour           origin dest  tailnum carrier name                    \n",
       "   \u001b[3m\u001b[38;5;246m<int>\u001b[39m\u001b[23m \u001b[3m\u001b[38;5;246m<dttm>\u001b[39m\u001b[23m              \u001b[3m\u001b[38;5;246m<chr>\u001b[39m\u001b[23m  \u001b[3m\u001b[38;5;246m<chr>\u001b[39m\u001b[23m \u001b[3m\u001b[38;5;246m<chr>\u001b[39m\u001b[23m   \u001b[3m\u001b[38;5;246m<chr>\u001b[39m\u001b[23m   \u001b[3m\u001b[38;5;246m<chr>\u001b[39m\u001b[23m                   \n",
       "\u001b[38;5;250m 1\u001b[39m  \u001b[4m2\u001b[24m013 2013-01-01 \u001b[38;5;246m05:00:00\u001b[39m EWR    IAH   N14228  UA      United Air Lines Inc.   \n",
       "\u001b[38;5;250m 2\u001b[39m  \u001b[4m2\u001b[24m013 2013-01-01 \u001b[38;5;246m05:00:00\u001b[39m LGA    IAH   N24211  UA      United Air Lines Inc.   \n",
       "\u001b[38;5;250m 3\u001b[39m  \u001b[4m2\u001b[24m013 2013-01-01 \u001b[38;5;246m05:00:00\u001b[39m JFK    MIA   N619AA  AA      American Airlines Inc.  \n",
       "\u001b[38;5;250m 4\u001b[39m  \u001b[4m2\u001b[24m013 2013-01-01 \u001b[38;5;246m05:00:00\u001b[39m JFK    BQN   N804JB  B6      JetBlue Airways         \n",
       "\u001b[38;5;250m 5\u001b[39m  \u001b[4m2\u001b[24m013 2013-01-01 \u001b[38;5;246m06:00:00\u001b[39m LGA    ATL   N668DN  DL      Delta Air Lines Inc.    \n",
       "\u001b[38;5;250m 6\u001b[39m  \u001b[4m2\u001b[24m013 2013-01-01 \u001b[38;5;246m05:00:00\u001b[39m EWR    ORD   N39463  UA      United Air Lines Inc.   \n",
       "\u001b[38;5;250m 7\u001b[39m  \u001b[4m2\u001b[24m013 2013-01-01 \u001b[38;5;246m06:00:00\u001b[39m EWR    FLL   N516JB  B6      JetBlue Airways         \n",
       "\u001b[38;5;250m 8\u001b[39m  \u001b[4m2\u001b[24m013 2013-01-01 \u001b[38;5;246m06:00:00\u001b[39m LGA    IAD   N829AS  EV      ExpressJet Airlines Inc.\n",
       "\u001b[38;5;250m 9\u001b[39m  \u001b[4m2\u001b[24m013 2013-01-01 \u001b[38;5;246m06:00:00\u001b[39m JFK    MCO   N593JB  B6      JetBlue Airways         \n",
       "\u001b[38;5;250m10\u001b[39m  \u001b[4m2\u001b[24m013 2013-01-01 \u001b[38;5;246m06:00:00\u001b[39m LGA    ORD   N3ALAA  AA      American Airlines Inc.  \n",
       "\u001b[38;5;246m# ℹ 336,766 more rows\u001b[39m\n",
       "\u001b[38;5;246m# ℹ Use `print(n = ...)` to see more rows\u001b[39m"
      ]
     },
     "execution_count": null,
     "metadata": {},
     "output_type": "execute_result"
    }
   ],
   "source": [
    "flights2 |> \n",
    "  left_join(airlines)"
   ]
  },
  {
   "cell_type": "code",
   "execution_count": 47,
   "metadata": {
    "vscode": {
     "languageId": "r"
    }
   },
   "outputs": [
    {
     "data": {
      "text/plain": [
       "\u001b[38;5;246m# A tibble: 1 × 6\u001b[39m\n",
       "    min  mean median   max     n n_miss\n",
       "  \u001b[3m\u001b[38;5;246m<dbl>\u001b[39m\u001b[23m \u001b[3m\u001b[38;5;246m<dbl>\u001b[39m\u001b[23m  \u001b[3m\u001b[38;5;246m<dbl>\u001b[39m\u001b[23m \u001b[3m\u001b[38;5;246m<dbl>\u001b[39m\u001b[23m \u001b[3m\u001b[38;5;246m<int>\u001b[39m\u001b[23m  \u001b[3m\u001b[38;5;246m<int>\u001b[39m\u001b[23m\n",
       "\u001b[38;5;250m1\u001b[39m   0.2 0.798    0.7  5.01 \u001b[4m5\u001b[24m\u001b[4m3\u001b[24m940      0"
      ]
     },
     "execution_count": null,
     "metadata": {},
     "output_type": "execute_result"
    }
   ],
   "source": [
    "summary6 <- function(data, var) {\n",
    "  data |> summarize(\n",
    "  min = min({{ var }}, na.rm = TRUE),\n",
    "  mean = mean({{ var }}, na.rm = TRUE),\n",
    "  median = median({{ var }}, na.rm = TRUE),\n",
    "  max = max({{ var }}, na.rm = TRUE),\n",
    "  n = n(),\n",
    "  n_miss = sum(is.na({{ var }})),\n",
    "  .groups = \"drop\"\n",
    "  )\n",
    "  }\n",
    "  diamonds |> summary6(carat)"
   ]
  },
  {
   "cell_type": "code",
   "execution_count": 48,
   "metadata": {
    "vscode": {
     "languageId": "r"
    }
   },
   "outputs": [
    {
     "ename": "",
     "evalue": "\u001b[1m\u001b[33mError\u001b[39m in `summarize()`:\u001b[22m\n\u001b[1m\u001b[22m\u001b[36mℹ\u001b[39m In argument: `min = min(var, na.rm = TRUE)`.\n\u001b[1mCaused by error:\u001b[22m\n\u001b[33m!\u001b[39m 找不到对象'carat'",
     "output_type": "error",
     "traceback": [
      "\u001b[1m\u001b[33mError\u001b[39m in `summarize()`:\u001b[22m\n",
      "\u001b[1m\u001b[22m\u001b[36mℹ\u001b[39m In argument: `min = min(var, na.rm = TRUE)`.\n",
      "\u001b[1mCaused by error:\u001b[22m\n",
      "\u001b[33m!\u001b[39m 找不到对象'carat'\n",
      "\u001b[90m     \u001b[39m▆\n",
      "\u001b[90m  1. \u001b[39m├─\u001b[1mglobal\u001b[22m summary6(diamonds, carat)\n",
      "\u001b[90m  2. \u001b[39m│ ├─\u001b[1mdplyr\u001b[22m::summarize(...)\n",
      "\u001b[90m  3. \u001b[39m│ └─\u001b[1m\u001b[94mdplyr:::summarise.data.frame(\u001b[39m\u001b[22m...\u001b[1m\u001b[94m)\u001b[39m\u001b[22m\n",
      "\u001b[90m  4. \u001b[39m│   └─dplyr:::summarise_cols(.data, dplyr_quosures(...), by, \"summarise\")\n",
      "\u001b[90m  5. \u001b[39m│     ├─\u001b[1mbase\u001b[22m::withCallingHandlers(...)\n",
      "\u001b[90m  6. \u001b[39m│     └─\u001b[1mdplyr\u001b[22m:::map(quosures, summarise_eval_one, mask = mask)\n",
      "\u001b[90m  7. \u001b[39m│       └─\u001b[1mbase\u001b[22m::lapply(.x, .f, ...)\n",
      "\u001b[90m  8. \u001b[39m│         └─\u001b[1mdplyr\u001b[22m (local) FUN(X[[i]], ...)\n",
      "\u001b[90m  9. \u001b[39m│           └─mask$eval_all_summarise(quo)\n",
      "\u001b[90m 10. \u001b[39m│             └─\u001b[1mdplyr\u001b[22m (local) eval()\n",
      "\u001b[90m 11. \u001b[39m└─\u001b[1mbase\u001b[22m::.handleSimpleError(`<fn>`, \"找不到对象'carat'\", base::quote(NULL))\n",
      "\u001b[90m 12. \u001b[39m  └─\u001b[1mdplyr\u001b[22m (local) h(simpleError(msg, call))\n",
      "\u001b[90m 13. \u001b[39m    └─dplyr (local) handler(cnd)\n",
      "\u001b[90m 14. \u001b[39m      └─\u001b[1mrlang\u001b[22m::abort(message, class = error_class, parent = parent, call = error_call)"
     ]
    }
   ],
   "source": [
    "summary6 <- function(data, var) {\n",
    "  data |> summarize(\n",
    "  min = min(var, na.rm = TRUE),\n",
    "  mean = mean({{ var }}, na.rm = TRUE),\n",
    "  median = median({{ var }}, na.rm = TRUE),\n",
    "  max = max({{ var }}, na.rm = TRUE),\n",
    "  n = n(),\n",
    "  n_miss = sum(is.na({{ var }})),\n",
    "  .groups = \"drop\"\n",
    "  )\n",
    "  }\n",
    "  diamonds |> summary6(carat)"
   ]
  }
 ],
 "metadata": {
  "language_info": {
   "name": "plaintext"
  }
 },
 "nbformat": 4,
 "nbformat_minor": 2
}

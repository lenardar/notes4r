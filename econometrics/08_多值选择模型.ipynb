{
 "cells": [
  {
   "cell_type": "markdown",
   "metadata": {},
   "source": [
    "使用R语言实现多值选择模型"
   ]
  },
  {
   "cell_type": "code",
   "execution_count": 4,
   "metadata": {
    "vscode": {
     "languageId": "r"
    }
   },
   "outputs": [
    {
     "name": "stdout",
     "output_type": "stream",
     "text": [
      "── \u001b[1mAttaching core tidyverse packages\u001b[22m ──────────────────────── tidyverse 2.0.0 ──\n",
      "\u001b[32m✔\u001b[39m \u001b[34mdplyr    \u001b[39m 1.1.4     \u001b[32m✔\u001b[39m \u001b[34mreadr    \u001b[39m 2.1.5\n",
      "\u001b[32m✔\u001b[39m \u001b[34mforcats  \u001b[39m 1.0.0     \u001b[32m✔\u001b[39m \u001b[34mstringr  \u001b[39m 1.5.1\n",
      "\u001b[32m✔\u001b[39m \u001b[34mggplot2  \u001b[39m 3.5.1     \u001b[32m✔\u001b[39m \u001b[34mtibble   \u001b[39m 3.2.1\n",
      "\u001b[32m✔\u001b[39m \u001b[34mlubridate\u001b[39m 1.9.4     \u001b[32m✔\u001b[39m \u001b[34mtidyr    \u001b[39m 1.3.1\n",
      "\u001b[32m✔\u001b[39m \u001b[34mpurrr    \u001b[39m 1.0.2     \n",
      "── \u001b[1mConflicts\u001b[22m ────────────────────────────────────────── tidyverse_conflicts() ──\n",
      "\u001b[31m✖\u001b[39m \u001b[34mdplyr\u001b[39m::\u001b[32mfilter()\u001b[39m masks \u001b[34mdfidx\u001b[39m::filter(), \u001b[34mstats\u001b[39m::filter()\n",
      "\u001b[31m✖\u001b[39m \u001b[34mdplyr\u001b[39m::\u001b[32mlag()\u001b[39m    masks \u001b[34mstats\u001b[39m::lag()\n",
      "\u001b[36mℹ\u001b[39m Use the \u001b]8;;http://conflicted.r-lib.org/\u0007conflicted package\u001b]8;;\u0007 to force all conflicts to become errors\n"
     ]
    },
    {
     "data": {
      "text/plain": [
       "\u001b[38;5;246m# A tibble: 200 × 5\u001b[39m\n",
       "      id female     ice_cream      video puzzle\n",
       "   \u001b[3m\u001b[38;5;246m<dbl>\u001b[39m\u001b[23m \u001b[3m\u001b[38;5;246m<dbl+lbl>\u001b[39m\u001b[23m  \u001b[3m\u001b[38;5;246m<dbl+lbl>\u001b[39m\u001b[23m      \u001b[3m\u001b[38;5;246m<dbl>\u001b[39m\u001b[23m  \u001b[3m\u001b[38;5;246m<dbl>\u001b[39m\u001b[23m\n",
       "\u001b[38;5;250m 1\u001b[39m    70 0\u001b[38;5;246m [male]\u001b[39m   1\u001b[38;5;246m [chocolate]\u001b[39m     47     57\n",
       "\u001b[38;5;250m 2\u001b[39m   121 1\u001b[38;5;246m [female]\u001b[39m 2\u001b[38;5;246m [vanilla]\u001b[39m       63     61\n",
       "\u001b[38;5;250m 3\u001b[39m    86 0\u001b[38;5;246m [male]\u001b[39m   3\u001b[38;5;246m [strawberry]\u001b[39m    58     31\n",
       "\u001b[38;5;250m 4\u001b[39m   141 0\u001b[38;5;246m [male]\u001b[39m   3\u001b[38;5;246m [strawberry]\u001b[39m    53     56\n",
       "\u001b[38;5;250m 5\u001b[39m   172 0\u001b[38;5;246m [male]\u001b[39m   2\u001b[38;5;246m [vanilla]\u001b[39m       53     61\n",
       "\u001b[38;5;250m 6\u001b[39m   113 0\u001b[38;5;246m [male]\u001b[39m   2\u001b[38;5;246m [vanilla]\u001b[39m       63     61\n",
       "\u001b[38;5;250m 7\u001b[39m    50 0\u001b[38;5;246m [male]\u001b[39m   2\u001b[38;5;246m [vanilla]\u001b[39m       53     61\n",
       "\u001b[38;5;250m 8\u001b[39m    11 0\u001b[38;5;246m [male]\u001b[39m   2\u001b[38;5;246m [vanilla]\u001b[39m       39     36\n",
       "\u001b[38;5;250m 9\u001b[39m    84 0\u001b[38;5;246m [male]\u001b[39m   2\u001b[38;5;246m [vanilla]\u001b[39m       58     51\n",
       "\u001b[38;5;250m10\u001b[39m    48 0\u001b[38;5;246m [male]\u001b[39m   2\u001b[38;5;246m [vanilla]\u001b[39m       50     51\n",
       "\u001b[38;5;246m# ℹ 190 more rows\u001b[39m\n",
       "\u001b[38;5;246m# ℹ Use `print(n = ...)` to see more rows\u001b[39m"
      ]
     },
     "execution_count": null,
     "metadata": {},
     "output_type": "execute_result"
    }
   ],
   "source": [
    "# 导入数据集\n",
    "library(haven)\n",
    "library(tidyverse)\n",
    "\n",
    "mlogit <- read_dta('stata_data/mlogit.dta')\n",
    "mlogit"
   ]
  },
  {
   "cell_type": "code",
   "execution_count": 62,
   "metadata": {
    "vscode": {
     "languageId": "r"
    }
   },
   "outputs": [
    {
     "data": {
      "text/plain": [
       "\u001b[38;5;246m# A tibble: 600 × 6\u001b[39m\n",
       "\u001b[38;5;246m# Index:    200 (id) x 3 (alt)\u001b[39m\n",
       "\u001b[38;5;246m# Balanced: yes\u001b[39m\n",
       "   idx   ice_cream     choice female     video puzzle\n",
       "   \u001b[3m\u001b[38;5;246m<idx>\u001b[39m\u001b[23m \u001b[3m\u001b[38;5;246m<dbl+lbl>\u001b[39m\u001b[23m      \u001b[3m\u001b[38;5;246m<dbl>\u001b[39m\u001b[23m \u001b[3m\u001b[38;5;246m<dbl+lbl>\u001b[39m\u001b[23m  \u001b[3m\u001b[38;5;246m<dbl>\u001b[39m\u001b[23m  \u001b[3m\u001b[38;5;246m<dbl>\u001b[39m\u001b[23m\n",
       "\u001b[38;5;250m 1\u001b[39m 1:1   1\u001b[38;5;246m [chocolate]\u001b[39m      1 1\u001b[38;5;246m [female]\u001b[39m    39     41\n",
       "\u001b[38;5;250m 2\u001b[39m 1:2   1\u001b[38;5;246m [chocolate]\u001b[39m      0 1\u001b[38;5;246m [female]\u001b[39m    39     41\n",
       "\u001b[38;5;250m 3\u001b[39m 1:3   1\u001b[38;5;246m [chocolate]\u001b[39m      0 1\u001b[38;5;246m [female]\u001b[39m    39     41\n",
       "\u001b[38;5;250m 4\u001b[39m 2:1   2\u001b[38;5;246m [vanilla]\u001b[39m        0 1\u001b[38;5;246m [female]\u001b[39m    42     41\n",
       "\u001b[38;5;250m 5\u001b[39m 2:2   2\u001b[38;5;246m [vanilla]\u001b[39m        1 1\u001b[38;5;246m [female]\u001b[39m    42     41\n",
       "\u001b[38;5;250m 6\u001b[39m 2:3   2\u001b[38;5;246m [vanilla]\u001b[39m        0 1\u001b[38;5;246m [female]\u001b[39m    42     41\n",
       "\u001b[38;5;250m 7\u001b[39m 3:1   1\u001b[38;5;246m [chocolate]\u001b[39m      1 0\u001b[38;5;246m [male]\u001b[39m      63     56\n",
       "\u001b[38;5;250m 8\u001b[39m 3:2   1\u001b[38;5;246m [chocolate]\u001b[39m      0 0\u001b[38;5;246m [male]\u001b[39m      63     56\n",
       "\u001b[38;5;250m 9\u001b[39m 3:3   1\u001b[38;5;246m [chocolate]\u001b[39m      0 0\u001b[38;5;246m [male]\u001b[39m      63     56\n",
       "\u001b[38;5;250m10\u001b[39m 4:1   1\u001b[38;5;246m [chocolate]\u001b[39m      1 1\u001b[38;5;246m [female]\u001b[39m    39     51\n",
       "\u001b[38;5;246m# ℹ 590 more rows\u001b[39m\n",
       "\u001b[38;5;246m# ℹ Use `print(n = ...)` to see more rows\u001b[39m"
      ]
     },
     "execution_count": null,
     "metadata": {},
     "output_type": "execute_result"
    }
   ],
   "source": [
    "mlogit_idx <- mlogit |> \n",
    "  expand_grid(alt = c(1, 2, 3)) |> \n",
    "  mutate(\n",
    "    choice = if_else(alt == ice_cream, 1, 0)\n",
    "  ) |> \n",
    "  relocate(alt, .after = id) |> \n",
    "  relocate(female, .after = ice_cream) |> \n",
    "  relocate(choice, .after = ice_cream) |> \n",
    "  dfidx(\n",
    "    idx = c(\"id\", \"alt\")\n",
    "  )\n",
    "\n",
    "mlogit_idx"
   ]
  },
  {
   "cell_type": "code",
   "execution_count": 73,
   "metadata": {
    "vscode": {
     "languageId": "r"
    }
   },
   "outputs": [
    {
     "data": {
      "text/plain": [
       "\n",
       "Call:\n",
       "mlogit(formula = choice ~ 0 | female + video + puzzle, data = mlogit_idx, \n",
       "    reflevel = 1, method = \"nr\")\n",
       "\n",
       "Frequencies of alternatives:choice\n",
       "    1     2     3 \n",
       "0.235 0.475 0.290 \n",
       "\n",
       "nr method\n",
       "5 iterations, 0h:0m:0s \n",
       "g'(-H)^-1g = 2.64E-05 \n",
       "successive function values within tolerance limits \n",
       "\n",
       "Coefficients :\n",
       "               Estimate Std. Error z-value  Pr(>|z|)    \n",
       "(Intercept):2 -1.912254   1.127256 -1.6964 0.0898140 .  \n",
       "(Intercept):3 -5.969578   1.437546 -4.1526 3.287e-05 ***\n",
       "female:2      -0.816620   0.390981 -2.0886 0.0367400 *  \n",
       "female:3      -0.849482   0.448212 -1.8953 0.0580570 .  \n",
       "video:2        0.023565   0.020975  1.1235 0.2612330    \n",
       "video:3        0.046487   0.025100  1.8521 0.0640176 .  \n",
       "puzzle:2       0.038924   0.019517  1.9944 0.0461055 *  \n",
       "puzzle:3       0.081928   0.023834  3.4375 0.0005872 ***\n",
       "---\n",
       "Signif. codes:  0 ‘***’ 0.001 ‘**’ 0.01 ‘*’ 0.05 ‘.’ 0.1 ‘ ’ 1\n",
       "\n",
       "Log-Likelihood: -194.03\n",
       "McFadden R^2:  0.078581 \n",
       "Likelihood ratio test : chisq = 33.095 (p.value = 1.0052e-05)"
      ]
     },
     "execution_count": null,
     "metadata": {},
     "output_type": "execute_result"
    }
   ],
   "source": [
    "fit_mlogit <- mlogit(\n",
    "  choice ~ 0 | female + video + puzzle,\n",
    "  data = mlogit_idx,\n",
    "  reflevel = 1  # 指定参考组\n",
    ")\n",
    "\n",
    "summary(fit_mlogit)"
   ]
  },
  {
   "cell_type": "code",
   "execution_count": 72,
   "metadata": {
    "vscode": {
     "languageId": "r"
    }
   },
   "outputs": [
    {
     "data": {
      "text/plain": [
       "\n",
       "Call:\n",
       "mlogit(formula = choice ~ 0 | female + video + puzzle, data = mlogit_idx, \n",
       "    reflevel = 1, probit = TRUE)\n",
       "\n",
       "Frequencies of alternatives:choice\n",
       "    1     2     3 \n",
       "0.235 0.475 0.290 \n",
       "\n",
       "bfgs method\n",
       "40 iterations, 0h:0m:3s \n",
       "g'(-H)^-1g = 9.45E-08 \n",
       "gradient close to zero \n",
       "\n",
       "Coefficients :\n",
       "                Estimate Std. Error z-value Pr(>|z|)  \n",
       "(Intercept):2  -1.208479   1.095679 -1.1030   0.2700  \n",
       "(Intercept):3 -10.363668  39.327822 -0.2635   0.7921  \n",
       "female:2       -0.513220   0.262189 -1.9574   0.0503 .\n",
       "female:3       -0.846756   1.946420 -0.4350   0.6635  \n",
       "video:2         0.012256   0.015594  0.7859   0.4319  \n",
       "video:3         0.064677   0.221979  0.2914   0.7708  \n",
       "puzzle:2        0.027317   0.022312  1.2243   0.2208  \n",
       "puzzle:3        0.119920   0.401844  0.2984   0.7654  \n",
       "2.3             0.811869   4.648165  0.1747   0.8613  \n",
       "3.3             3.217398  12.957392  0.2483   0.8039  \n",
       "---\n",
       "Signif. codes:  0 ‘***’ 0.001 ‘**’ 0.01 ‘*’ 0.05 ‘.’ 0.1 ‘ ’ 1\n",
       "\n",
       "Log-Likelihood: -193.83\n",
       "McFadden R^2:  0.079556 \n",
       "Likelihood ratio test : chisq = 33.506 (p.value = 4.9907e-05)"
      ]
     },
     "execution_count": null,
     "metadata": {},
     "output_type": "execute_result"
    }
   ],
   "source": [
    "fit_mlogit <- mlogit(\n",
    "  choice ~ 0 | female + video + puzzle,\n",
    "  data = mlogit_idx,\n",
    "  reflevel = 1,  # 指定参考组\n",
    "  probit = TRUE\n",
    ")\n",
    "\n",
    "summary(fit_mlogit)"
   ]
  },
  {
   "cell_type": "code",
   "execution_count": null,
   "metadata": {
    "vscode": {
     "languageId": "r"
    }
   },
   "outputs": [],
   "source": []
  },
  {
   "cell_type": "markdown",
   "metadata": {},
   "source": [
    "# 多项Logit模型"
   ]
  },
  {
   "cell_type": "code",
   "execution_count": null,
   "metadata": {
    "vscode": {
     "languageId": "r"
    }
   },
   "outputs": [
    {
     "name": "stdout",
     "output_type": "stream",
     "text": [
      "# weights:  15 (8 variable)\n",
      "initial  value 219.722458 \n",
      "iter  10 value 194.078046\n",
      "final  value 194.034851 \n",
      "converged\n"
     ]
    },
    {
     "name": "stderr",
     "output_type": "stream",
     "text": [
      "警告信息:\n",
      "In model.matrix.default(Terms, m, contrasts) :\n",
      "  non-list contrasts argument ignored\n"
     ]
    },
    {
     "data": {
      "text/plain": [
       "Call:\n",
       "multinom(formula = ice_cream ~ female + video + puzzle, data = mlogit, \n",
       "    contrasts = \"vanilla\")\n",
       "\n",
       "Coefficients:\n",
       "  (Intercept)     female      video     puzzle\n",
       "2   -1.912305 -0.8166207 0.02356541 0.03892473\n",
       "3   -5.969577 -0.8494647 0.04648473 0.08192982\n",
       "\n",
       "Std. Errors:\n",
       "  (Intercept)    female      video     puzzle\n",
       "2    1.127259 0.3909821 0.02097473 0.01951656\n",
       "3    1.437546 0.4482127 0.02510004 0.02383389\n",
       "\n",
       "Residual Deviance: 388.0697 \n",
       "AIC: 404.0697 "
      ]
     },
     "execution_count": null,
     "metadata": {},
     "output_type": "execute_result"
    }
   ],
   "source": [
    "library(nnet)\n",
    "\n",
    "fit_mlogit <- multinom(\n",
    "  ice_cream ~ female + video + puzzle,\n",
    "  data = mlogit,\n",
    ")\n",
    "\n",
    "summary(fit_mlogit)"
   ]
  },
  {
   "cell_type": "code",
   "execution_count": 20,
   "metadata": {
    "vscode": {
     "languageId": "r"
    }
   },
   "outputs": [
    {
     "data": {
      "text/plain": [
       ", , 2\n",
       "\n",
       "                    2.5 %      97.5 %\n",
       "(Intercept) -4.1216923355  0.29708277\n",
       "female      -1.5829316096 -0.05030985\n",
       "video       -0.0175443071  0.06467513\n",
       "puzzle       0.0006729767  0.07717649\n",
       "\n",
       ", , 3\n",
       "\n",
       "                  2.5 %      97.5 %\n",
       "(Intercept) -8.78711492 -3.15203940\n",
       "female      -1.72794551  0.02901607\n",
       "video       -0.00271045  0.09567991\n",
       "puzzle       0.03521626  0.12864339\n"
      ]
     },
     "execution_count": null,
     "metadata": {},
     "output_type": "execute_result"
    }
   ],
   "source": [
    "confint(fit_mlogit)"
   ]
  },
  {
   "cell_type": "code",
   "execution_count": 21,
   "metadata": {
    "vscode": {
     "languageId": "r"
    }
   },
   "outputs": [
    {
     "data": {
      "text/plain": [
       "                      OR      2.5 % 97.5 %         p    \n",
       "2/(Intercept) 0.14773949 0.01621705 1.3459  0.089806 .  \n",
       "2/female      0.44192251 0.20537214 0.9509  0.036740 *  \n",
       "2/video       1.02384527 0.98260870 1.0668  0.261219    \n",
       "2/puzzle      1.03969222 1.00067320 1.0802  0.046103 *  \n",
       "3/(Intercept) 0.00255532 0.00015269 0.0428 3.287e-05 ***\n",
       "3/female      0.42764378 0.17764901 1.0294  0.058062 .  \n",
       "3/video       1.04758208 0.99729322 1.1004  0.064029 .  \n",
       "3/puzzle      1.08537964 1.03584369 1.1373  0.000587 ***\n",
       "---\n",
       "Signif. codes:  0 ‘***’ 0.001 ‘**’ 0.01 ‘*’ 0.05 ‘.’ 0.1 ‘ ’ 1"
      ]
     },
     "execution_count": null,
     "metadata": {},
     "output_type": "execute_result"
    }
   ],
   "source": [
    "library(questionr)\n",
    "odds.ratio(fit_mlogit)"
   ]
  },
  {
   "cell_type": "code",
   "execution_count": 45,
   "metadata": {
    "vscode": {
     "languageId": "r"
    }
   },
   "outputs": [
    {
     "ename": "",
     "evalue": "\u001b[1m\u001b[33mError\u001b[39m:\u001b[22m\n\u001b[33m!\u001b[39m 找不到对象'ice_cream'",
     "output_type": "error",
     "traceback": [
      "\u001b[1m\u001b[33mError\u001b[39m:\u001b[22m\n",
      "\u001b[33m!\u001b[39m 找不到对象'ice_cream'\n",
      "\u001b[90m    \u001b[39m▆\n",
      "\u001b[90m 1. \u001b[39m└─\u001b[1mmlogit\u001b[22m::mlogit.data(...)"
     ]
    }
   ],
   "source": [
    "mlogit_data <- mlogit.data(\n",
    "  data = mlogit,\n",
    "  alt.var = ice_cream,\n",
    "  shape = \"short\",\n",
    "  id.var = id,\n",
    ")"
   ]
  },
  {
   "cell_type": "code",
   "execution_count": null,
   "metadata": {
    "vscode": {
     "languageId": "r"
    }
   },
   "outputs": [
    {
     "ename": "",
     "evalue": "\u001b[1m\u001b[33mError\u001b[39m:\u001b[22m\n\u001b[33m!\u001b[39m 意外的',' 于\n\"  mutate(\n    choice = if_else(alt == ,\"",
     "output_type": "error",
     "traceback": [
      "\u001b[1m\u001b[33mError\u001b[39m:\u001b[22m\n",
      "\u001b[33m!\u001b[39m 意外的',' 于\n",
      "\"  mutate(\n",
      "    choice = if_else(alt == ,\""
     ]
    }
   ],
   "source": [
    "# 再使用mlogit包实现\n"
   ]
  },
  {
   "cell_type": "markdown",
   "metadata": {},
   "source": [
    "# 多项Probit模型"
   ]
  },
  {
   "cell_type": "code",
   "execution_count": 24,
   "metadata": {
    "vscode": {
     "languageId": "r"
    }
   },
   "outputs": [
    {
     "data": {
      "text/plain": [
       "   case   alt choice dist   cost ivt ovt freq income urban noalt\n",
       "1     1 train      0   83  28.25  50  66    4     45     0     2\n",
       "2     1   car      1   83  15.77  61   0    0     45     0     2\n",
       "3     2 train      0   83  28.25  50  66    4     25     0     2\n",
       "4     2   car      1   83  15.77  61   0    0     25     0     2\n",
       "5     3 train      0   83  28.25  50  66    4     70     0     2\n",
       "6     3   car      1   83  15.77  61   0    0     70     0     2\n",
       "7     4 train      0   83  28.25  50  66    4     70     0     2\n",
       "8     4   car      1   83  15.77  61   0    0     70     0     2\n",
       "9     5 train      0   83  28.25  50  66    4     55     0     2\n",
       "10    5   car      1   83  15.77  61   0    0     55     0     2\n",
       "11    6 train      0   83  28.25  50  66    4     70     0     2\n",
       "12    6   car      1   83  15.77  61   0    0     70     0     2\n",
       "13    7 train      0   83  28.25  50  66    4     15     0     2\n",
       "14    7   car      1   83  15.77  61   0    0     15     0     2\n",
       "15    8 train      0   83  28.25  50  66    4     15     0     2\n",
       "16    8   car      1   83  15.77  61   0    0     15     0     2\n",
       "17    9 train      0   83  28.25  50  66    4     35     0     2\n",
       "18    9   car      1   83  15.77  61   0    0     35     0     2\n",
       "19   10 train      0   83  28.25  50  66    4     25     0     2\n",
       "20   10   car      1   83  15.77  61   0    0     25     0     2\n",
       "21   11 train      0  105  31.25  50  74    4     35     0     2\n",
       "22   11   car      1  105  19.95  79   0    0     35     0     2\n",
       "23   12 train      0  105  31.25  50  74    4     70     0     2\n",
       "24   12   car      1  105  19.95  79   0    0     70     0     2\n",
       "25   13 train      0  105  31.25  50  74    4     70     0     2\n",
       "26   13   car      1  105  19.95  79   0    0     70     0     2\n",
       "27   14 train      0  154  45.65 117 109    4     70     0     2\n",
       "28   14   car      1  154  29.26 119   0    0     70     0     2\n",
       "29   15 train      0  154  45.65 117 109    4     35     0     2\n",
       "30   15   car      1  154  29.26 119   0    0     35     0     2\n",
       "31   16 train      0  154  45.65 117 109    4     70     0     2\n",
       "32   16   car      1  154  29.26 119   0    0     70     0     2\n",
       "33   17 train      0  186  45.65 117 109    4     45     0     2\n",
       "34   17   car      1  186  35.34 146   0    0     45     0     2\n",
       "35   18 train      0  204  43.40 117  74    4     35     0     3\n",
       "36   18   bus      0  204  19.87 149  89    8     35     0     3\n",
       "37   18   car      1  204  38.76 137   0    0     35     0     3\n",
       "38   19 train      0  282  50.65 174  99    4     45     0     3\n",
       "39   19   air      0  282 164.20  56 149    9     45     0     3\n",
       "40   19   car      1  282  53.58 186   0    0     45     0     3\n",
       "41   20 train      1  345  66.65 209  94    4     70     0     3\n",
       "42   20   air      0  345 159.50  56 139    9     70     0     3\n",
       "43   20   car      0  345  65.55 226   0    0     70     0     3\n",
       "44   21 train      0  345  66.65 209  94    4     35     0     3\n",
       "45   21   air      0  345 159.50  56 139    9     35     0     3\n",
       "46   21   car      1  345  65.55 226   0    0     35     0     3\n",
       "47   22 train      0  345  66.65 209  94    4     45     0     3\n",
       "48   22   air      0  345 159.50  56 139    9     45     0     3\n",
       "49   22   car      1  345  65.55 226   0    0     45     0     3\n",
       "50   23 train      0  345  66.65 209  94    4     35     0     3\n",
       "51   23   air      0  345 159.50  56 139    9     35     0     3\n",
       "52   23   car      1  345  65.55 226   0    0     35     0     3\n",
       "53   24 train      0  345  66.65 209  94    4     45     0     3\n",
       "54   24   air      0  345 159.50  56 139    9     45     0     3\n",
       "55   24   car      1  345  65.55 226   0    0     45     0     3\n",
       "56   25 train      0  345  66.65 209  94    4     70     0     3\n",
       "57   25   air      0  345 159.50  56 139    9     70     0     3\n",
       "58   25   car      1  345  65.55 226   0    0     70     0     3\n",
       "59   26 train      0  345  66.65 209  94    4     55     0     3\n",
       "60   26   air      0  345 159.50  56 139    9     55     0     3\n",
       "61   26   car      1  345  65.55 226   0    0     55     0     3\n",
       "62   27 train      0  364  68.65 209 104    4     70     0     3\n",
       "63   27   air      0  364 174.20  56 144    9     70     0     3\n",
       "64   27   car      1  364  69.16 237   0    0     70     0     3\n",
       "65   28 train      0  192  43.65 117  84    4     35     0     3\n",
       "66   28   bus      0  192  19.87 149  63    8     35     0     3\n",
       "67   28   car      1  192  36.48 129   0    0     35     0     3\n",
       "68   29 train      1  188  40.15 117  64    4     45     0     3\n",
       "69   29   bus      0  188  19.37 149  58    8     45     0     3\n",
       "70   29   car      0  188  35.72 131   0    0     45     0     3\n",
       "71   30 train      1  188  40.15 117  64    4     15     0     3\n",
       "72   30   bus      0  188  19.37 149  58    8     15     0     3\n",
       "73   30   car      0  188  35.72 131   0    0     15     0     3\n",
       "74   31 train      1  188  40.15 117  64    4     70     0     3\n",
       "75   31   bus      0  188  19.37 149  58    8     70     0     3\n",
       "76   31   car      0  188  35.72 131   0    0     70     0     3\n",
       "77   32 train      1  188  40.15 117  64    4     35     0     3\n",
       "78   32   bus      0  188  19.37 149  58    8     35     0     3\n",
       "79   32   car      0  188  35.72 131   0    0     35     0     3\n",
       "80   33 train      1  188  40.15 117  64    4     70     0     3\n",
       "81   33   bus      0  188  19.37 149  58    8     70     0     3\n",
       "82   33   car      0  188  35.72 131   0    0     70     0     3\n",
       "83   34 train      1  188  40.15 117  64    4     70     0     3\n",
       "84   34   bus      0  188  19.37 149  58    8     70     0     3\n",
       "85   34   car      0  188  35.72 131   0    0     70     0     3\n",
       "86   35 train      1  188  40.15 117  64    4     70     0     3\n",
       "87   35   bus      0  188  19.37 149  58    8     70     0     3\n",
       "88   35   car      0  188  35.72 131   0    0     70     0     3\n",
       "89   36 train      1  188  40.15 117  64    4     45     0     3\n",
       "90   36   bus      0  188  19.37 149  58    8     45     0     3\n",
       " [ reached 'max' / getOption(\"max.print\") -- omitted 15430 rows ]"
      ]
     },
     "execution_count": null,
     "metadata": {},
     "output_type": "execute_result"
    }
   ],
   "source": [
    "library(mlogit)\n",
    "data(\"ModeCanada\", package = \"mlogit\")\n",
    "\n",
    "ModeCanada"
   ]
  },
  {
   "cell_type": "code",
   "execution_count": null,
   "metadata": {
    "vscode": {
     "languageId": "r"
    }
   },
   "outputs": [],
   "source": []
  },
  {
   "cell_type": "markdown",
   "metadata": {},
   "source": [
    "# 条件Logit模型"
   ]
  },
  {
   "cell_type": "code",
   "execution_count": null,
   "metadata": {
    "vscode": {
     "languageId": "r"
    }
   },
   "outputs": [
    {
     "data": {
      "text/plain": [
       ", , 2\n",
       "\n",
       "                    2.5 %      97.5 %\n",
       "(Intercept) -4.1216923355  0.29708277\n",
       "female      -1.5829316096 -0.05030985\n",
       "video       -0.0175443071  0.06467513\n",
       "puzzle       0.0006729767  0.07717649\n",
       "\n",
       ", , 3\n",
       "\n",
       "                  2.5 %      97.5 %\n",
       "(Intercept) -8.78711492 -3.15203940\n",
       "female      -1.72794551  0.02901607\n",
       "video       -0.00271045  0.09567991\n",
       "puzzle       0.03521626  0.12864339\n"
      ]
     },
     "execution_count": null,
     "metadata": {},
     "output_type": "execute_result"
    }
   ],
   "source": []
  },
  {
   "cell_type": "code",
   "execution_count": 47,
   "metadata": {
    "vscode": {
     "languageId": "r"
    }
   },
   "outputs": [],
   "source": [
    "library(tidyverse)"
   ]
  },
  {
   "cell_type": "code",
   "execution_count": 50,
   "metadata": {
    "vscode": {
     "languageId": "r"
    }
   },
   "outputs": [
    {
     "name": "stdout",
     "output_type": "stream",
     "text": [
      "Rows: 2,929\n",
      "Columns: 11\n",
      "$ id        \u001b[3m\u001b[38;5;246m<int>\u001b[39m\u001b[23m 1, 1, 1, 1, 1, 1, 1, 1, 1, 1, 2, 2, 2, 2, 2, 2, 2, 2, 2, 2, …\n",
      "$ choiceid  \u001b[3m\u001b[38;5;246m<int>\u001b[39m\u001b[23m 1, 2, 3, 4, 5, 6, 7, 8, 9, 10, 1, 2, 3, 4, 5, 6, 7, 8, 9, 10…\n",
      "$ choice    \u001b[3m\u001b[38;5;246m<fct>\u001b[39m\u001b[23m A, A, A, B, B, B, B, B, A, A, A, A, B, B, B, B, A, B, B, A, …\n",
      "$ price_A   \u001b[3m\u001b[38;5;246m<dbl>\u001b[39m\u001b[23m 2400, 2400, 2400, 4000, 2400, 4000, 2400, 2400, 4000, 2400, …\n",
      "$ time_A    \u001b[3m\u001b[38;5;246m<dbl>\u001b[39m\u001b[23m 150, 150, 115, 130, 150, 115, 150, 115, 115, 150, 108, 93, 1…\n",
      "$ change_A  \u001b[3m\u001b[38;5;246m<dbl>\u001b[39m\u001b[23m 0, 0, 0, 0, 0, 0, 0, 0, 0, 0, 0, 0, 0, 0, 0, 0, 0, 0, 0, 0, …\n",
      "$ comfort_A \u001b[3m\u001b[38;5;246m<dbl>\u001b[39m\u001b[23m 1, 1, 1, 1, 1, 0, 1, 1, 0, 1, 0, 1, 0, 1, 1, 0, 0, 0, 1, 1, …\n",
      "$ price_B   \u001b[3m\u001b[38;5;246m<dbl>\u001b[39m\u001b[23m 4000, 3200, 4000, 3200, 3200, 2400, 3200, 3200, 3200, 4000, …\n",
      "$ time_B    \u001b[3m\u001b[38;5;246m<dbl>\u001b[39m\u001b[23m 150, 130, 115, 150, 150, 130, 115, 150, 130, 115, 121, 93, 9…\n",
      "$ change_B  \u001b[3m\u001b[38;5;246m<dbl>\u001b[39m\u001b[23m 0, 0, 0, 0, 0, 0, 0, 0, 0, 0, 0, 0, 0, 0, 0, 0, 0, 0, 0, 0, …\n",
      "$ comfort_B \u001b[3m\u001b[38;5;246m<dbl>\u001b[39m\u001b[23m 1, 1, 0, 0, 0, 0, 1, 0, 1, 0, 1, 0, 1, 1, 0, 0, 0, 1, 1, 0, …\n"
     ]
    }
   ],
   "source": [
    "data(\"Train\", package = \"mlogit\")\n",
    "glimpse(Train)"
   ]
  }
 ],
 "metadata": {
  "language_info": {
   "name": "plaintext"
  }
 },
 "nbformat": 4,
 "nbformat_minor": 2
}

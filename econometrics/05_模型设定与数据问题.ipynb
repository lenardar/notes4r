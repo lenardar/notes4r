{
 "cells": [
  {
   "cell_type": "markdown",
   "metadata": {},
   "source": [
    "# 无关变量"
   ]
  },
  {
   "cell_type": "code",
   "execution_count": 3,
   "metadata": {
    "vscode": {
     "languageId": "r"
    }
   },
   "outputs": [
    {
     "name": "stdout",
     "output_type": "stream",
     "text": [
      "── \u001b[1mAttaching core tidyverse packages\u001b[22m ──────────────────────── tidyverse 2.0.0 ──\n",
      "\u001b[32m✔\u001b[39m \u001b[34mdplyr    \u001b[39m 1.1.4     \u001b[32m✔\u001b[39m \u001b[34mreadr    \u001b[39m 2.1.5\n",
      "\u001b[32m✔\u001b[39m \u001b[34mforcats  \u001b[39m 1.0.0     \u001b[32m✔\u001b[39m \u001b[34mstringr  \u001b[39m 1.5.1\n",
      "\u001b[32m✔\u001b[39m \u001b[34mggplot2  \u001b[39m 3.5.1     \u001b[32m✔\u001b[39m \u001b[34mtibble   \u001b[39m 3.2.1\n",
      "\u001b[32m✔\u001b[39m \u001b[34mlubridate\u001b[39m 1.9.4     \u001b[32m✔\u001b[39m \u001b[34mtidyr    \u001b[39m 1.3.1\n",
      "\u001b[32m✔\u001b[39m \u001b[34mpurrr    \u001b[39m 1.0.2     \n",
      "── \u001b[1mConflicts\u001b[22m ────────────────────────────────────────── tidyverse_conflicts() ──\n",
      "\u001b[31m✖\u001b[39m \u001b[34mdplyr\u001b[39m::\u001b[32mfilter()\u001b[39m masks \u001b[34mstats\u001b[39m::filter()\n",
      "\u001b[31m✖\u001b[39m \u001b[34mdplyr\u001b[39m::\u001b[32mlag()\u001b[39m    masks \u001b[34mstats\u001b[39m::lag()\n",
      "\u001b[36mℹ\u001b[39m Use the \u001b]8;;http://conflicted.r-lib.org/\u0007conflicted package\u001b]8;;\u0007 to force all conflicts to become errors\n"
     ]
    }
   ],
   "source": [
    "library(tidyverse)"
   ]
  },
  {
   "cell_type": "code",
   "execution_count": 2,
   "metadata": {
    "vscode": {
     "languageId": "r"
    }
   },
   "outputs": [],
   "source": [
    "library(haven)\n",
    "icecream <- read_dta(\"stata_data/icecream.dta\")"
   ]
  },
  {
   "cell_type": "code",
   "execution_count": 2,
   "metadata": {
    "vscode": {
     "languageId": "r"
    }
   },
   "outputs": [
    {
     "data": {
      "text/plain": [
       "\u001b[38;5;246m# A tibble: 30 × 6\u001b[39m\n",
       "    time consumption price income  temp temp100\n",
       "   \u001b[3m\u001b[38;5;246m<dbl>\u001b[39m\u001b[23m       \u001b[3m\u001b[38;5;246m<dbl>\u001b[39m\u001b[23m \u001b[3m\u001b[38;5;246m<dbl>\u001b[39m\u001b[23m  \u001b[3m\u001b[38;5;246m<dbl>\u001b[39m\u001b[23m \u001b[3m\u001b[38;5;246m<dbl>\u001b[39m\u001b[23m   \u001b[3m\u001b[38;5;246m<dbl>\u001b[39m\u001b[23m\n",
       "\u001b[38;5;250m 1\u001b[39m     1       0.386 0.270     78    41   0.410\n",
       "\u001b[38;5;250m 2\u001b[39m     2       0.374 0.282     79    56   0.560\n",
       "\u001b[38;5;250m 3\u001b[39m     3       0.393 0.277     81    63   0.630\n",
       "\u001b[38;5;250m 4\u001b[39m     4       0.425 0.280     80    68   0.680\n",
       "\u001b[38;5;250m 5\u001b[39m     5       0.406 0.272     76    69   0.690\n",
       "\u001b[38;5;250m 6\u001b[39m     6       0.344 0.262     78    65   0.650\n",
       "\u001b[38;5;250m 7\u001b[39m     7       0.327 0.275     82    61   0.610\n",
       "\u001b[38;5;250m 8\u001b[39m     8       0.288 0.267     79    47   0.470\n",
       "\u001b[38;5;250m 9\u001b[39m     9       0.269 0.265     76    32   0.320\n",
       "\u001b[38;5;250m10\u001b[39m    10       0.256 0.277     79    24   0.240\n",
       "\u001b[38;5;246m# ℹ 20 more rows\u001b[39m\n",
       "\u001b[38;5;246m# ℹ Use `print(n = ...)` to see more rows\u001b[39m"
      ]
     },
     "execution_count": null,
     "metadata": {},
     "output_type": "execute_result"
    }
   ],
   "source": [
    "icecream"
   ]
  },
  {
   "cell_type": "code",
   "execution_count": 12,
   "metadata": {
    "vscode": {
     "languageId": "r"
    }
   },
   "outputs": [
    {
     "data": {
      "text/plain": [
       "\n",
       "Call:\n",
       "lm(formula = consumption ~ price + income + temp, data = icecream)\n",
       "\n",
       "Residuals:\n",
       "      Min        1Q    Median        3Q       Max \n",
       "-0.065302 -0.011873  0.002737  0.015953  0.078986 \n",
       "\n",
       "Coefficients:\n",
       "              Estimate Std. Error t value Pr(>|t|)    \n",
       "(Intercept)  0.1973149  0.2702161   0.730  0.47179    \n",
       "price       -1.0444131  0.8343570  -1.252  0.22180    \n",
       "income       0.0033078  0.0011714   2.824  0.00899 ** \n",
       "temp         0.0034584  0.0004455   7.762  3.1e-08 ***\n",
       "---\n",
       "Signif. codes:  0 ‘***’ 0.001 ‘**’ 0.01 ‘*’ 0.05 ‘.’ 0.1 ‘ ’ 1\n",
       "\n",
       "Residual standard error: 0.03683 on 26 degrees of freedom\n",
       "Multiple R-squared:  0.719,\tAdjusted R-squared:  0.6866 \n",
       "F-statistic: 22.17 on 3 and 26 DF,  p-value: 2.451e-07\n"
      ]
     },
     "execution_count": null,
     "metadata": {},
     "output_type": "execute_result"
    }
   ],
   "source": [
    "fit <- lm(consumption ~ price + income + temp, data = icecream)\n",
    "summary(fit)"
   ]
  },
  {
   "cell_type": "code",
   "execution_count": 13,
   "metadata": {
    "vscode": {
     "languageId": "r"
    }
   },
   "outputs": [
    {
     "data": {
      "text/plain": [
       "\u001b[38;5;246m# A tibble: 30 × 7\u001b[39m\n",
       "    time consumption price income  temp temp100     rand\n",
       "   \u001b[3m\u001b[38;5;246m<dbl>\u001b[39m\u001b[23m       \u001b[3m\u001b[38;5;246m<dbl>\u001b[39m\u001b[23m \u001b[3m\u001b[38;5;246m<dbl>\u001b[39m\u001b[23m  \u001b[3m\u001b[38;5;246m<dbl>\u001b[39m\u001b[23m \u001b[3m\u001b[38;5;246m<dbl>\u001b[39m\u001b[23m   \u001b[3m\u001b[38;5;246m<dbl>\u001b[39m\u001b[23m    \u001b[3m\u001b[38;5;246m<dbl>\u001b[39m\u001b[23m\n",
       "\u001b[38;5;250m 1\u001b[39m     1       0.386 0.270     78    41   0.410  1.92   \n",
       "\u001b[38;5;250m 2\u001b[39m     2       0.374 0.282     79    56   0.560  1.75   \n",
       "\u001b[38;5;250m 3\u001b[39m     3       0.393 0.277     81    63   0.630 -\u001b[31m0\u001b[39m\u001b[31m.\u001b[39m\u001b[31m0\u001b[39m\u001b[31m45\u001b[4m8\u001b[24m\u001b[39m \n",
       "\u001b[38;5;250m 4\u001b[39m     4       0.425 0.280     80    68   0.680 -\u001b[31m1\u001b[39m\u001b[31m.\u001b[39m\u001b[31m22\u001b[39m   \n",
       "\u001b[38;5;250m 5\u001b[39m     5       0.406 0.272     76    69   0.690  0.129  \n",
       "\u001b[38;5;250m 6\u001b[39m     6       0.344 0.262     78    65   0.650 -\u001b[31m0\u001b[39m\u001b[31m.\u001b[39m\u001b[31m317\u001b[39m  \n",
       "\u001b[38;5;250m 7\u001b[39m     7       0.327 0.275     82    61   0.610  0.001\u001b[4m9\u001b[24m\u001b[4m7\u001b[24m\n",
       "\u001b[38;5;250m 8\u001b[39m     8       0.288 0.267     79    47   0.470 -\u001b[31m0\u001b[39m\u001b[31m.\u001b[39m\u001b[31m171\u001b[39m  \n",
       "\u001b[38;5;250m 9\u001b[39m     9       0.269 0.265     76    32   0.320  1.11   \n",
       "\u001b[38;5;250m10\u001b[39m    10       0.256 0.277     79    24   0.240  0.921  \n",
       "\u001b[38;5;246m# ℹ 20 more rows\u001b[39m\n",
       "\u001b[38;5;246m# ℹ Use `print(n = ...)` to see more rows\u001b[39m"
      ]
     },
     "execution_count": null,
     "metadata": {},
     "output_type": "execute_result"
    }
   ],
   "source": [
    "icecream <- icecream |> \n",
    "  mutate(rand = rnorm(nrow(icecream)))\n",
    "icecream"
   ]
  },
  {
   "cell_type": "code",
   "execution_count": 14,
   "metadata": {
    "vscode": {
     "languageId": "r"
    }
   },
   "outputs": [
    {
     "data": {
      "text/plain": [
       "\n",
       "Call:\n",
       "lm(formula = consumption ~ price + income + temp + rand, data = icecream)\n",
       "\n",
       "Residuals:\n",
       "      Min        1Q    Median        3Q       Max \n",
       "-0.065071 -0.013337  0.000234  0.017895  0.080351 \n",
       "\n",
       "Coefficients:\n",
       "              Estimate Std. Error t value Pr(>|t|)    \n",
       "(Intercept)  0.1738708  0.2783214   0.625  0.53782    \n",
       "price       -1.0123894  0.8492515  -1.192  0.24442    \n",
       "income       0.0034537  0.0012251   2.819  0.00928 ** \n",
       "temp         0.0034983  0.0004593   7.616 5.69e-08 ***\n",
       "rand         0.0035692  0.0072340   0.493  0.62604    \n",
       "---\n",
       "Signif. codes:  0 ‘***’ 0.001 ‘**’ 0.01 ‘*’ 0.05 ‘.’ 0.1 ‘ ’ 1\n",
       "\n",
       "Residual standard error: 0.03738 on 25 degrees of freedom\n",
       "Multiple R-squared:  0.7217,\tAdjusted R-squared:  0.6772 \n",
       "F-statistic: 16.21 on 4 and 25 DF,  p-value: 1.141e-06\n"
      ]
     },
     "execution_count": null,
     "metadata": {},
     "output_type": "execute_result"
    }
   ],
   "source": [
    "fit_rand <- lm(consumption ~ price + income + temp + rand, data = icecream)\n",
    "summary(fit_rand)"
   ]
  },
  {
   "cell_type": "markdown",
   "metadata": {},
   "source": [
    "# 建模策略"
   ]
  },
  {
   "cell_type": "code",
   "execution_count": null,
   "metadata": {
    "vscode": {
     "languageId": "r"
    }
   },
   "outputs": [
    {
     "data": {
      "text/plain": [
       "[1] 0.6865701"
      ]
     },
     "execution_count": null,
     "metadata": {},
     "output_type": "execute_result"
    }
   ],
   "source": [
    "# 校正可决系数\n",
    "library(haven)\n",
    "icecream <- read_dta(\"stata_data/icecream.dta\")\n",
    "\n",
    "fit <- lm(consumption ~ price + income + temp, data = icecream)\n",
    "result <- summary(fit)\n",
    "result$adj.r.squared"
   ]
  },
  {
   "cell_type": "code",
   "execution_count": 3,
   "metadata": {
    "vscode": {
     "languageId": "r"
    }
   },
   "outputs": [
    {
     "data": {
      "text/plain": [
       "[1] -107.2389"
      ]
     },
     "execution_count": null,
     "metadata": {},
     "output_type": "execute_result"
    }
   ],
   "source": [
    "# 计算AIC法则\n",
    "AIC(fit)"
   ]
  },
  {
   "cell_type": "code",
   "execution_count": 4,
   "metadata": {
    "vscode": {
     "languageId": "r"
    }
   },
   "outputs": [
    {
     "data": {
      "text/plain": [
       "[1] -100.2329"
      ]
     },
     "execution_count": null,
     "metadata": {},
     "output_type": "execute_result"
    }
   ],
   "source": [
    "# 计算BIC法则\n",
    "BIC(fit)"
   ]
  },
  {
   "cell_type": "markdown",
   "metadata": {},
   "source": [
    "# 检验函数形式"
   ]
  },
  {
   "cell_type": "code",
   "execution_count": null,
   "metadata": {
    "vscode": {
     "languageId": "r"
    }
   },
   "outputs": [
    {
     "data": {
      "text/plain": [
       "\n",
       "\tRESET test\n",
       "\n",
       "data:  fit\n",
       "RESET = 4.8233, df1 = 2, df2 = 24, p-value = 0.01735\n"
      ]
     },
     "execution_count": null,
     "metadata": {},
     "output_type": "execute_result"
    }
   ],
   "source": [
    "# reset检验\n",
    "# 使用拟合值验证高次项\n",
    "library(lmtest)\n",
    "resettest(fit, power = 2:3, type = \"fitted\")"
   ]
  },
  {
   "cell_type": "code",
   "execution_count": 9,
   "metadata": {
    "vscode": {
     "languageId": "r"
    }
   },
   "outputs": [
    {
     "data": {
      "text/plain": [
       "\n",
       "\tRESET test\n",
       "\n",
       "data:  fit\n",
       "RESET = 1.4272, df1 = 6, df2 = 20, p-value = 0.2533\n"
      ]
     },
     "execution_count": null,
     "metadata": {},
     "output_type": "execute_result"
    }
   ],
   "source": [
    "# reset检验\n",
    "# 使用原始值验证高次项\n",
    "library(lmtest)\n",
    "resettest(fit, power = 2:3, type = \"regressor\")"
   ]
  },
  {
   "cell_type": "code",
   "execution_count": 11,
   "metadata": {
    "vscode": {
     "languageId": "r"
    }
   },
   "outputs": [
    {
     "name": "stdout",
     "output_type": "stream",
     "text": [
      "还安装依赖关系‘viridis’, ‘TH.data’, ‘checkmate’, ‘Hmisc’, ‘polspline’, ‘multcomp’, ‘htmlTable’\n",
      "\n"
     ]
    },
    {
     "name": "stderr",
     "output_type": "stream",
     "text": [
      "试开URL’https://cran.rstudio.com/bin/macosx/big-sur-arm64/contrib/4.4/viridis_0.6.5.tgz'\n",
      "Content type 'application/x-gzip' length 3016921 bytes (2.9 MB)\n",
      "==================================================\n",
      "downloaded 2.9 MB\n",
      "\n",
      "试开URL’https://cran.rstudio.com/bin/macosx/big-sur-arm64/contrib/4.4/TH.data_1.1-3.tgz'\n",
      "Content type 'application/x-gzip' length 8743264 bytes (8.3 MB)\n",
      "==================================================\n",
      "downloaded 8.3 MB\n",
      "\n",
      "试开URL’https://cran.rstudio.com/bin/macosx/big-sur-arm64/contrib/4.4/checkmate_2.3.2.tgz'\n",
      "Content type 'application/x-gzip' length 778249 bytes (760 KB)\n",
      "==================================================\n",
      "downloaded 760 KB\n",
      "\n",
      "试开URL’https://cran.rstudio.com/bin/macosx/big-sur-arm64/contrib/4.4/Hmisc_5.2-2.tgz'\n",
      "Content type 'application/x-gzip' length 3603982 bytes (3.4 MB)\n",
      "==================================================\n",
      "downloaded 3.4 MB\n",
      "\n",
      "试开URL’https://cran.rstudio.com/bin/macosx/big-sur-arm64/contrib/4.4/polspline_1.1.25.tgz'\n",
      "Content type 'application/x-gzip' length 851757 bytes (831 KB)\n",
      "==================================================\n",
      "downloaded 831 KB\n",
      "\n",
      "试开URL’https://cran.rstudio.com/bin/macosx/big-sur-arm64/contrib/4.4/multcomp_1.4-28.tgz'\n",
      "Content type 'application/x-gzip' length 722794 bytes (705 KB)\n",
      "==================================================\n",
      "downloaded 705 KB\n",
      "\n",
      "试开URL’https://cran.rstudio.com/bin/macosx/big-sur-arm64/contrib/4.4/htmlTable_2.4.3.tgz'\n",
      "Content type 'application/x-gzip' length 422165 bytes (412 KB)\n",
      "==================================================\n",
      "downloaded 412 KB\n",
      "\n",
      "试开URL’https://cran.rstudio.com/bin/macosx/big-sur-arm64/contrib/4.4/rms_7.0-0.tgz'\n",
      "Content type 'application/x-gzip' length 2335022 bytes (2.2 MB)\n",
      "==================================================\n",
      "downloaded 2.2 MB\n",
      "\n"
     ]
    },
    {
     "name": "stdout",
     "output_type": "stream",
     "text": [
      "\n",
      "下载的二进制程序包在\n",
      "\t/var/folders/fv/c0dh9y6s7638rh5fdr3lgcmr0000gn/T//Rtmp0DxM5B/downloaded_packages里\n"
     ]
    }
   ],
   "source": [
    "install.packages(\"rms\")"
   ]
  },
  {
   "cell_type": "code",
   "execution_count": 3,
   "metadata": {
    "vscode": {
     "languageId": "r"
    }
   },
   "outputs": [
    {
     "data": {
      "text/plain": [
       "\n",
       "Call:\n",
       "lm(formula = y ~ y_predict + y2_predict, data = data_linktest)\n",
       "\n",
       "Residuals:\n",
       "      Min        1Q    Median        3Q       Max \n",
       "-0.060120 -0.023319  0.003376  0.022588  0.076538 \n",
       "\n",
       "Coefficients:\n",
       "            Estimate Std. Error t value Pr(>|t|)  \n",
       "(Intercept)   0.5462     0.2549   2.143   0.0413 *\n",
       "y_predict    -2.1368     1.4496  -1.474   0.1520  \n",
       "y2_predict    4.3970     2.0260   2.170   0.0389 *\n",
       "---\n",
       "Signif. codes:  0 ‘***’ 0.001 ‘**’ 0.01 ‘*’ 0.05 ‘.’ 0.1 ‘ ’ 1\n",
       "\n",
       "Residual standard error: 0.03335 on 27 degrees of freedom\n",
       "Multiple R-squared:  0.7607,\tAdjusted R-squared:  0.743 \n",
       "F-statistic: 42.92 on 2 and 27 DF,  p-value: 4.12e-09\n"
      ]
     },
     "execution_count": null,
     "metadata": {},
     "output_type": "execute_result"
    }
   ],
   "source": [
    "# link检验\n",
    "\n",
    "fit <- lm(consumption ~ price + income + temp, data = icecream)\n",
    "\n",
    "y <- icecream$consumption\n",
    "y_predict <- predict(fit)\n",
    "y2_predict <- y_predict^2\n",
    "\n",
    "data_linktest <- data.frame(\n",
    "  y,\n",
    "  y_predict,\n",
    "  y2_predict\n",
    ")\n",
    "\n",
    "fit_lintest <- lm(y ~ y_predict + y2_predict, data = data_linktest)\n",
    "summary(fit_lintest)"
   ]
  },
  {
   "cell_type": "markdown",
   "metadata": {},
   "source": [
    "# 多重共线性"
   ]
  },
  {
   "cell_type": "code",
   "execution_count": 4,
   "metadata": {
    "vscode": {
     "languageId": "r"
    }
   },
   "outputs": [
    {
     "name": "stdout",
     "output_type": "stream",
     "text": [
      "载入需要的程序包：carData\n"
     ]
    },
    {
     "data": {
      "text/plain": [
       "   price   income     temp \n",
       "1.035673 1.144186 1.144367 "
      ]
     },
     "execution_count": null,
     "metadata": {},
     "output_type": "execute_result"
    }
   ],
   "source": [
    "library(car)\n",
    "vif(fit)"
   ]
  },
  {
   "cell_type": "markdown",
   "metadata": {},
   "source": [
    "# 极端数据"
   ]
  },
  {
   "cell_type": "code",
   "execution_count": 5,
   "metadata": {
    "vscode": {
     "languageId": "r"
    }
   },
   "outputs": [
    {
     "data": {
      "text/plain": [
       "         1          2          3          4          5          6          7 \n",
       "0.12663076 0.08059341 0.06372776 0.09826028 0.12759171 0.17922541 0.05270983 \n",
       "         8          9         10         11         12         13         14 \n",
       "0.11573995 0.27792269 0.18988683 0.12711786 0.13331832 0.08111934 0.10912500 \n",
       "        15         16         17         18         19         20         21 \n",
       "0.03996077 0.13613931 0.11947612 0.11683206 0.08156753 0.06024495 0.17423322 \n",
       "        22         23         24         25         26         27         28 \n",
       "0.11305892 0.12595829 0.16345791 0.17689614 0.19726551 0.15260999 0.20095839 \n",
       "        29         30 \n",
       "0.14028080 0.23809093 "
      ]
     },
     "execution_count": null,
     "metadata": {},
     "output_type": "execute_result"
    }
   ],
   "source": [
    "# 计算模型杠杆值\n",
    "hatvalues(fit)"
   ]
  },
  {
   "cell_type": "markdown",
   "metadata": {},
   "source": [
    "# 虚拟变量"
   ]
  },
  {
   "cell_type": "code",
   "execution_count": 8,
   "metadata": {
    "vscode": {
     "languageId": "r"
    }
   },
   "outputs": [],
   "source": [
    "library(haven)\n",
    "nerlove <- read_dta(\"stata_data/nerlove.dta\")"
   ]
  },
  {
   "cell_type": "code",
   "execution_count": 9,
   "metadata": {
    "vscode": {
     "languageId": "r"
    }
   },
   "outputs": [
    {
     "data": {
      "text/plain": [
       "\u001b[38;5;246m# A tibble: 145 × 10\u001b[39m\n",
       "       tc     q    pl    pf    pk    lntc   lnq  lnpf  lnpk  lnpl\n",
       "    \u001b[3m\u001b[38;5;246m<dbl>\u001b[39m\u001b[23m \u001b[3m\u001b[38;5;246m<dbl>\u001b[39m\u001b[23m \u001b[3m\u001b[38;5;246m<dbl>\u001b[39m\u001b[23m \u001b[3m\u001b[38;5;246m<dbl>\u001b[39m\u001b[23m \u001b[3m\u001b[38;5;246m<dbl>\u001b[39m\u001b[23m   \u001b[3m\u001b[38;5;246m<dbl>\u001b[39m\u001b[23m \u001b[3m\u001b[38;5;246m<dbl>\u001b[39m\u001b[23m \u001b[3m\u001b[38;5;246m<dbl>\u001b[39m\u001b[23m \u001b[3m\u001b[38;5;246m<dbl>\u001b[39m\u001b[23m \u001b[3m\u001b[38;5;246m<dbl>\u001b[39m\u001b[23m\n",
       "\u001b[38;5;250m 1\u001b[39m 0.082\u001b[4m0\u001b[24m     2  2.10  17.9   183 -\u001b[31m2\u001b[39m\u001b[31m.\u001b[39m\u001b[31m50\u001b[39m   0.693  2.88  5.21 0.742\n",
       "\u001b[38;5;250m 2\u001b[39m 0.661      3  2.10  35.1   174 -\u001b[31m0\u001b[39m\u001b[31m.\u001b[39m\u001b[31m414\u001b[39m  1.10   3.56  5.16 0.742\n",
       "\u001b[38;5;250m 3\u001b[39m 0.990      4  2.10  35.1   171 -\u001b[31m0\u001b[39m\u001b[31m.\u001b[39m\u001b[31m0\u001b[39m\u001b[31m10\u001b[4m1\u001b[24m\u001b[39m 1.39   3.56  5.14 0.742\n",
       "\u001b[38;5;250m 4\u001b[39m 0.315      4  1.80  32.2   166 -\u001b[31m1\u001b[39m\u001b[31m.\u001b[39m\u001b[31m16\u001b[39m   1.39   3.47  5.11 0.588\n",
       "\u001b[38;5;250m 5\u001b[39m 0.197      5  2.10  28.6   233 -\u001b[31m1\u001b[39m\u001b[31m.\u001b[39m\u001b[31m62\u001b[39m   1.61   3.35  5.45 0.742\n",
       "\u001b[38;5;250m 6\u001b[39m 0.098\u001b[4m0\u001b[24m     9  2.10  28.6   195 -\u001b[31m2\u001b[39m\u001b[31m.\u001b[39m\u001b[31m32\u001b[39m   2.20   3.35  5.27 0.742\n",
       "\u001b[38;5;250m 7\u001b[39m 0.949     11  2     35.5   206 -\u001b[31m0\u001b[39m\u001b[31m.\u001b[39m\u001b[31m0\u001b[39m\u001b[31m52\u001b[4m3\u001b[24m\u001b[39m 2.40   3.57  5.33 0.693\n",
       "\u001b[38;5;250m 8\u001b[39m 0.675     13  2.10  35.1   150 -\u001b[31m0\u001b[39m\u001b[31m.\u001b[39m\u001b[31m393\u001b[39m  2.56   3.56  5.01 0.742\n",
       "\u001b[38;5;250m 9\u001b[39m 0.525     13  2.20  29.1   155 -\u001b[31m0\u001b[39m\u001b[31m.\u001b[39m\u001b[31m644\u001b[39m  2.56   3.37  5.04 0.788\n",
       "\u001b[38;5;250m10\u001b[39m 0.501     22  1.70  15     188 -\u001b[31m0\u001b[39m\u001b[31m.\u001b[39m\u001b[31m691\u001b[39m  3.09   2.71  5.24 0.531\n",
       "\u001b[38;5;246m# ℹ 135 more rows\u001b[39m\n",
       "\u001b[38;5;246m# ℹ Use `print(n = ...)` to see more rows\u001b[39m"
      ]
     },
     "execution_count": null,
     "metadata": {},
     "output_type": "execute_result"
    }
   ],
   "source": [
    "nerlove"
   ]
  },
  {
   "cell_type": "code",
   "execution_count": 11,
   "metadata": {
    "vscode": {
     "languageId": "r"
    }
   },
   "outputs": [
    {
     "name": "stdout",
     "output_type": "stream",
     "text": [
      "── \u001b[1mAttaching core tidyverse packages\u001b[22m ──────────────────────── tidyverse 2.0.0 ──\n",
      "\u001b[32m✔\u001b[39m \u001b[34mdplyr    \u001b[39m 1.1.4     \u001b[32m✔\u001b[39m \u001b[34mreadr    \u001b[39m 2.1.5\n",
      "\u001b[32m✔\u001b[39m \u001b[34mforcats  \u001b[39m 1.0.0     \u001b[32m✔\u001b[39m \u001b[34mstringr  \u001b[39m 1.5.1\n",
      "\u001b[32m✔\u001b[39m \u001b[34mggplot2  \u001b[39m 3.5.1     \u001b[32m✔\u001b[39m \u001b[34mtibble   \u001b[39m 3.2.1\n",
      "\u001b[32m✔\u001b[39m \u001b[34mlubridate\u001b[39m 1.9.4     \u001b[32m✔\u001b[39m \u001b[34mtidyr    \u001b[39m 1.3.1\n",
      "\u001b[32m✔\u001b[39m \u001b[34mpurrr    \u001b[39m 1.0.2     \n",
      "── \u001b[1mConflicts\u001b[22m ────────────────────────────────────────── tidyverse_conflicts() ──\n",
      "\u001b[31m✖\u001b[39m \u001b[34mdplyr\u001b[39m::\u001b[32mfilter()\u001b[39m masks \u001b[34mstats\u001b[39m::filter()\n",
      "\u001b[31m✖\u001b[39m \u001b[34mdplyr\u001b[39m::\u001b[32mlag()\u001b[39m    masks \u001b[34mstats\u001b[39m::lag()\n",
      "\u001b[31m✖\u001b[39m \u001b[34mdplyr\u001b[39m::\u001b[32mrecode()\u001b[39m masks \u001b[34mcar\u001b[39m::recode()\n",
      "\u001b[31m✖\u001b[39m \u001b[34mpurrr\u001b[39m::\u001b[32msome()\u001b[39m   masks \u001b[34mcar\u001b[39m::some()\n",
      "\u001b[36mℹ\u001b[39m Use the \u001b]8;;http://conflicted.r-lib.org/\u0007conflicted package\u001b]8;;\u0007 to force all conflicts to become errors\n"
     ]
    }
   ],
   "source": [
    "library(tidyverse)"
   ]
  },
  {
   "cell_type": "code",
   "execution_count": 12,
   "metadata": {
    "vscode": {
     "languageId": "r"
    }
   },
   "outputs": [
    {
     "data": {
      "text/plain": [
       "\u001b[38;5;246m# A tibble: 145 × 11\u001b[39m\n",
       "       tc     q    pl    pf    pk    lntc   lnq  lnpf  lnpk  lnpl tc_higher\n",
       "    \u001b[3m\u001b[38;5;246m<dbl>\u001b[39m\u001b[23m \u001b[3m\u001b[38;5;246m<dbl>\u001b[39m\u001b[23m \u001b[3m\u001b[38;5;246m<dbl>\u001b[39m\u001b[23m \u001b[3m\u001b[38;5;246m<dbl>\u001b[39m\u001b[23m \u001b[3m\u001b[38;5;246m<dbl>\u001b[39m\u001b[23m   \u001b[3m\u001b[38;5;246m<dbl>\u001b[39m\u001b[23m \u001b[3m\u001b[38;5;246m<dbl>\u001b[39m\u001b[23m \u001b[3m\u001b[38;5;246m<dbl>\u001b[39m\u001b[23m \u001b[3m\u001b[38;5;246m<dbl>\u001b[39m\u001b[23m \u001b[3m\u001b[38;5;246m<dbl>\u001b[39m\u001b[23m     \u001b[3m\u001b[38;5;246m<dbl>\u001b[39m\u001b[23m\n",
       "\u001b[38;5;250m 1\u001b[39m 0.082\u001b[4m0\u001b[24m     2  2.10  17.9   183 -\u001b[31m2\u001b[39m\u001b[31m.\u001b[39m\u001b[31m50\u001b[39m   0.693  2.88  5.21 0.742         0\n",
       "\u001b[38;5;250m 2\u001b[39m 0.661      3  2.10  35.1   174 -\u001b[31m0\u001b[39m\u001b[31m.\u001b[39m\u001b[31m414\u001b[39m  1.10   3.56  5.16 0.742         1\n",
       "\u001b[38;5;250m 3\u001b[39m 0.990      4  2.10  35.1   171 -\u001b[31m0\u001b[39m\u001b[31m.\u001b[39m\u001b[31m0\u001b[39m\u001b[31m10\u001b[4m1\u001b[24m\u001b[39m 1.39   3.56  5.14 0.742         1\n",
       "\u001b[38;5;250m 4\u001b[39m 0.315      4  1.80  32.2   166 -\u001b[31m1\u001b[39m\u001b[31m.\u001b[39m\u001b[31m16\u001b[39m   1.39   3.47  5.11 0.588         0\n",
       "\u001b[38;5;250m 5\u001b[39m 0.197      5  2.10  28.6   233 -\u001b[31m1\u001b[39m\u001b[31m.\u001b[39m\u001b[31m62\u001b[39m   1.61   3.35  5.45 0.742         0\n",
       "\u001b[38;5;250m 6\u001b[39m 0.098\u001b[4m0\u001b[24m     9  2.10  28.6   195 -\u001b[31m2\u001b[39m\u001b[31m.\u001b[39m\u001b[31m32\u001b[39m   2.20   3.35  5.27 0.742         0\n",
       "\u001b[38;5;250m 7\u001b[39m 0.949     11  2     35.5   206 -\u001b[31m0\u001b[39m\u001b[31m.\u001b[39m\u001b[31m0\u001b[39m\u001b[31m52\u001b[4m3\u001b[24m\u001b[39m 2.40   3.57  5.33 0.693         1\n",
       "\u001b[38;5;250m 8\u001b[39m 0.675     13  2.10  35.1   150 -\u001b[31m0\u001b[39m\u001b[31m.\u001b[39m\u001b[31m393\u001b[39m  2.56   3.56  5.01 0.742         1\n",
       "\u001b[38;5;250m 9\u001b[39m 0.525     13  2.20  29.1   155 -\u001b[31m0\u001b[39m\u001b[31m.\u001b[39m\u001b[31m644\u001b[39m  2.56   3.37  5.04 0.788         1\n",
       "\u001b[38;5;250m10\u001b[39m 0.501     22  1.70  15     188 -\u001b[31m0\u001b[39m\u001b[31m.\u001b[39m\u001b[31m691\u001b[39m  3.09   2.71  5.24 0.531         1\n",
       "\u001b[38;5;246m# ℹ 135 more rows\u001b[39m\n",
       "\u001b[38;5;246m# ℹ Use `print(n = ...)` to see more rows\u001b[39m"
      ]
     },
     "execution_count": null,
     "metadata": {},
     "output_type": "execute_result"
    }
   ],
   "source": [
    "nerlove |> \n",
    "  mutate(\n",
    "    tc_higher = if_else(tc >= 0.5, 1, 0)\n",
    "  )"
   ]
  },
  {
   "cell_type": "markdown",
   "metadata": {},
   "source": [
    "# 线性插值"
   ]
  },
  {
   "cell_type": "code",
   "execution_count": 17,
   "metadata": {
    "vscode": {
     "languageId": "r"
    }
   },
   "outputs": [],
   "source": [
    "consumption_china <- read_dta(\"stata_data/consumption_china.dta\")"
   ]
  },
  {
   "cell_type": "code",
   "execution_count": 18,
   "metadata": {
    "vscode": {
     "languageId": "r"
    }
   },
   "outputs": [
    {
     "data": {
      "text/plain": [
       "\u001b[38;5;246m# A tibble: 29 × 3\u001b[39m\n",
       "    year     c     y\n",
       "   \u001b[3m\u001b[38;5;246m<dbl>\u001b[39m\u001b[23m \u001b[3m\u001b[38;5;246m<dbl>\u001b[39m\u001b[23m \u001b[3m\u001b[38;5;246m<dbl>\u001b[39m\u001b[23m\n",
       "\u001b[38;5;250m 1\u001b[39m  \u001b[4m1\u001b[24m978   184   381\n",
       "\u001b[38;5;250m 2\u001b[39m  \u001b[4m1\u001b[24m979   208   419\n",
       "\u001b[38;5;250m 3\u001b[39m  \u001b[4m1\u001b[24m980   238   463\n",
       "\u001b[38;5;250m 4\u001b[39m  \u001b[4m1\u001b[24m981   264   492\n",
       "\u001b[38;5;250m 5\u001b[39m  \u001b[4m1\u001b[24m982   288   528\n",
       "\u001b[38;5;250m 6\u001b[39m  \u001b[4m1\u001b[24m983   316   583\n",
       "\u001b[38;5;250m 7\u001b[39m  \u001b[4m1\u001b[24m984   361   695\n",
       "\u001b[38;5;250m 8\u001b[39m  \u001b[4m1\u001b[24m985   446   858\n",
       "\u001b[38;5;250m 9\u001b[39m  \u001b[4m1\u001b[24m986   497   963\n",
       "\u001b[38;5;250m10\u001b[39m  \u001b[4m1\u001b[24m987   565  \u001b[4m1\u001b[24m112\n",
       "\u001b[38;5;246m# ℹ 19 more rows\u001b[39m\n",
       "\u001b[38;5;246m# ℹ Use `print(n = ...)` to see more rows\u001b[39m"
      ]
     },
     "execution_count": null,
     "metadata": {},
     "output_type": "execute_result"
    }
   ],
   "source": [
    "consumption_china"
   ]
  },
  {
   "cell_type": "code",
   "execution_count": 24,
   "metadata": {
    "vscode": {
     "languageId": "r"
    }
   },
   "outputs": [],
   "source": [
    "consumption_china_na <- consumption_china |> \n",
    "  mutate(\n",
    "    year1 = if_else(year == 1980 | year == 1990 | year == 2000, NA, year)\n",
    "  )"
   ]
  },
  {
   "cell_type": "code",
   "execution_count": 25,
   "metadata": {
    "vscode": {
     "languageId": "r"
    }
   },
   "outputs": [
    {
     "data": {
      "text/plain": [
       "\u001b[38;5;246m# A tibble: 29 × 4\u001b[39m\n",
       "    year     c     y year1\n",
       "   \u001b[3m\u001b[38;5;246m<dbl>\u001b[39m\u001b[23m \u001b[3m\u001b[38;5;246m<dbl>\u001b[39m\u001b[23m \u001b[3m\u001b[38;5;246m<dbl>\u001b[39m\u001b[23m \u001b[3m\u001b[38;5;246m<dbl>\u001b[39m\u001b[23m\n",
       "\u001b[38;5;250m 1\u001b[39m  \u001b[4m1\u001b[24m978   184   381  \u001b[4m1\u001b[24m978\n",
       "\u001b[38;5;250m 2\u001b[39m  \u001b[4m1\u001b[24m979   208   419  \u001b[4m1\u001b[24m979\n",
       "\u001b[38;5;250m 3\u001b[39m  \u001b[4m1\u001b[24m980   238   463    \u001b[31mNA\u001b[39m\n",
       "\u001b[38;5;250m 4\u001b[39m  \u001b[4m1\u001b[24m981   264   492  \u001b[4m1\u001b[24m981\n",
       "\u001b[38;5;250m 5\u001b[39m  \u001b[4m1\u001b[24m982   288   528  \u001b[4m1\u001b[24m982\n",
       "\u001b[38;5;250m 6\u001b[39m  \u001b[4m1\u001b[24m983   316   583  \u001b[4m1\u001b[24m983\n",
       "\u001b[38;5;250m 7\u001b[39m  \u001b[4m1\u001b[24m984   361   695  \u001b[4m1\u001b[24m984\n",
       "\u001b[38;5;250m 8\u001b[39m  \u001b[4m1\u001b[24m985   446   858  \u001b[4m1\u001b[24m985\n",
       "\u001b[38;5;250m 9\u001b[39m  \u001b[4m1\u001b[24m986   497   963  \u001b[4m1\u001b[24m986\n",
       "\u001b[38;5;250m10\u001b[39m  \u001b[4m1\u001b[24m987   565  \u001b[4m1\u001b[24m112  \u001b[4m1\u001b[24m987\n",
       "\u001b[38;5;246m# ℹ 19 more rows\u001b[39m\n",
       "\u001b[38;5;246m# ℹ Use `print(n = ...)` to see more rows\u001b[39m"
      ]
     },
     "execution_count": null,
     "metadata": {},
     "output_type": "execute_result"
    }
   ],
   "source": [
    "consumption_china_na"
   ]
  },
  {
   "cell_type": "code",
   "execution_count": 27,
   "metadata": {
    "vscode": {
     "languageId": "r"
    }
   },
   "outputs": [
    {
     "name": "stderr",
     "output_type": "stream",
     "text": [
      "警告信息:\n",
      "\u001b[1m\u001b[22mThere was 1 warning in `mutate()`.\n",
      "\u001b[1m\u001b[22m\u001b[36mℹ\u001b[39m In argument: `if_else(...)`.\n",
      "Caused by warning in `year[row_number() - 1] + year[row_number() + 1]`:\n",
      "\u001b[33m!\u001b[39m 长的对象长度不是短的对象长度的整倍数 \n"
     ]
    }
   ],
   "source": [
    "consumption_china_na_fill <- consumption_china_na |> \n",
    "  mutate(\n",
    "    if_else(\n",
    "      is.na(year),\n",
    "      0.5 * (year[row_number()-1] + year[row_number()+1]),\n",
    "      year\n",
    "    )\n",
    "  )"
   ]
  },
  {
   "cell_type": "code",
   "execution_count": 29,
   "metadata": {
    "vscode": {
     "languageId": "r"
    }
   },
   "outputs": [
    {
     "name": "stdout",
     "output_type": "stream",
     "text": [
      "\u001b[38;5;246m# A tibble: 29 × 5\u001b[39m\n",
      "    year     c     y year1 `if_else(...)`\n",
      "   \u001b[3m\u001b[38;5;246m<dbl>\u001b[39m\u001b[23m \u001b[3m\u001b[38;5;246m<dbl>\u001b[39m\u001b[23m \u001b[3m\u001b[38;5;246m<dbl>\u001b[39m\u001b[23m \u001b[3m\u001b[38;5;246m<dbl>\u001b[39m\u001b[23m          \u001b[3m\u001b[38;5;246m<dbl>\u001b[39m\u001b[23m\n",
      "\u001b[38;5;250m 1\u001b[39m  \u001b[4m1\u001b[24m978   184   381  \u001b[4m1\u001b[24m978           \u001b[4m1\u001b[24m978\n",
      "\u001b[38;5;250m 2\u001b[39m  \u001b[4m1\u001b[24m979   208   419  \u001b[4m1\u001b[24m979           \u001b[4m1\u001b[24m979\n",
      "\u001b[38;5;250m 3\u001b[39m  \u001b[4m1\u001b[24m980   238   463    \u001b[31mNA\u001b[39m           \u001b[4m1\u001b[24m980\n",
      "\u001b[38;5;250m 4\u001b[39m  \u001b[4m1\u001b[24m981   264   492  \u001b[4m1\u001b[24m981           \u001b[4m1\u001b[24m981\n",
      "\u001b[38;5;250m 5\u001b[39m  \u001b[4m1\u001b[24m982   288   528  \u001b[4m1\u001b[24m982           \u001b[4m1\u001b[24m982\n",
      "\u001b[38;5;250m 6\u001b[39m  \u001b[4m1\u001b[24m983   316   583  \u001b[4m1\u001b[24m983           \u001b[4m1\u001b[24m983\n",
      "\u001b[38;5;250m 7\u001b[39m  \u001b[4m1\u001b[24m984   361   695  \u001b[4m1\u001b[24m984           \u001b[4m1\u001b[24m984\n",
      "\u001b[38;5;250m 8\u001b[39m  \u001b[4m1\u001b[24m985   446   858  \u001b[4m1\u001b[24m985           \u001b[4m1\u001b[24m985\n",
      "\u001b[38;5;250m 9\u001b[39m  \u001b[4m1\u001b[24m986   497   963  \u001b[4m1\u001b[24m986           \u001b[4m1\u001b[24m986\n",
      "\u001b[38;5;250m10\u001b[39m  \u001b[4m1\u001b[24m987   565  \u001b[4m1\u001b[24m112  \u001b[4m1\u001b[24m987           \u001b[4m1\u001b[24m987\n",
      "\u001b[38;5;250m11\u001b[39m  \u001b[4m1\u001b[24m988   714  \u001b[4m1\u001b[24m366  \u001b[4m1\u001b[24m988           \u001b[4m1\u001b[24m988\n",
      "\u001b[38;5;250m12\u001b[39m  \u001b[4m1\u001b[24m989   788  \u001b[4m1\u001b[24m519  \u001b[4m1\u001b[24m989           \u001b[4m1\u001b[24m989\n",
      "\u001b[38;5;250m13\u001b[39m  \u001b[4m1\u001b[24m990   833  \u001b[4m1\u001b[24m644    \u001b[31mNA\u001b[39m           \u001b[4m1\u001b[24m990\n",
      "\u001b[38;5;250m14\u001b[39m  \u001b[4m1\u001b[24m991   932  \u001b[4m1\u001b[24m893  \u001b[4m1\u001b[24m991           \u001b[4m1\u001b[24m991\n",
      "\u001b[38;5;250m15\u001b[39m  \u001b[4m1\u001b[24m992  \u001b[4m1\u001b[24m116  \u001b[4m2\u001b[24m311  \u001b[4m1\u001b[24m992           \u001b[4m1\u001b[24m992\n",
      "\u001b[38;5;250m16\u001b[39m  \u001b[4m1\u001b[24m993  \u001b[4m1\u001b[24m393  \u001b[4m2\u001b[24m998  \u001b[4m1\u001b[24m993           \u001b[4m1\u001b[24m993\n",
      "\u001b[38;5;250m17\u001b[39m  \u001b[4m1\u001b[24m994  \u001b[4m1\u001b[24m833  \u001b[4m4\u001b[24m044  \u001b[4m1\u001b[24m994           \u001b[4m1\u001b[24m994\n",
      "\u001b[38;5;250m18\u001b[39m  \u001b[4m1\u001b[24m995  \u001b[4m2\u001b[24m355  \u001b[4m5\u001b[24m046  \u001b[4m1\u001b[24m995           \u001b[4m1\u001b[24m995\n",
      "\u001b[38;5;250m19\u001b[39m  \u001b[4m1\u001b[24m996  \u001b[4m2\u001b[24m789  \u001b[4m5\u001b[24m846  \u001b[4m1\u001b[24m996           \u001b[4m1\u001b[24m996\n",
      "\u001b[38;5;250m20\u001b[39m  \u001b[4m1\u001b[24m997  \u001b[4m3\u001b[24m002  \u001b[4m6\u001b[24m420  \u001b[4m1\u001b[24m997           \u001b[4m1\u001b[24m997\n",
      "\u001b[38;5;250m21\u001b[39m  \u001b[4m1\u001b[24m998  \u001b[4m3\u001b[24m159  \u001b[4m6\u001b[24m796  \u001b[4m1\u001b[24m998           \u001b[4m1\u001b[24m998\n",
      "\u001b[38;5;250m22\u001b[39m  \u001b[4m1\u001b[24m999  \u001b[4m3\u001b[24m346  \u001b[4m7\u001b[24m159  \u001b[4m1\u001b[24m999           \u001b[4m1\u001b[24m999\n",
      "\u001b[38;5;250m23\u001b[39m  \u001b[4m2\u001b[24m000  \u001b[4m3\u001b[24m632  \u001b[4m7\u001b[24m858    \u001b[31mNA\u001b[39m           \u001b[4m2\u001b[24m000\n",
      "\u001b[38;5;250m24\u001b[39m  \u001b[4m2\u001b[24m001  \u001b[4m3\u001b[24m869  \u001b[4m8\u001b[24m622  \u001b[4m2\u001b[24m001           \u001b[4m2\u001b[24m001\n",
      "\u001b[38;5;250m25\u001b[39m  \u001b[4m2\u001b[24m002  \u001b[4m4\u001b[24m106  \u001b[4m9\u001b[24m398  \u001b[4m2\u001b[24m002           \u001b[4m2\u001b[24m002\n",
      "\u001b[38;5;250m26\u001b[39m  \u001b[4m2\u001b[24m003  \u001b[4m4\u001b[24m411 \u001b[4m1\u001b[24m\u001b[4m0\u001b[24m542  \u001b[4m2\u001b[24m003           \u001b[4m2\u001b[24m003\n",
      "\u001b[38;5;250m27\u001b[39m  \u001b[4m2\u001b[24m004  \u001b[4m4\u001b[24m925 \u001b[4m1\u001b[24m\u001b[4m2\u001b[24m336  \u001b[4m2\u001b[24m004           \u001b[4m2\u001b[24m004\n",
      "\u001b[38;5;250m28\u001b[39m  \u001b[4m2\u001b[24m005  \u001b[4m5\u001b[24m463 \u001b[4m1\u001b[24m\u001b[4m4\u001b[24m053  \u001b[4m2\u001b[24m005           \u001b[4m2\u001b[24m005\n",
      "\u001b[38;5;250m29\u001b[39m  \u001b[4m2\u001b[24m006  \u001b[4m6\u001b[24m138 \u001b[4m1\u001b[24m\u001b[4m6\u001b[24m165  \u001b[4m2\u001b[24m006           \u001b[4m2\u001b[24m006\n"
     ]
    }
   ],
   "source": [
    "print(consumption_china_na_fill, n = Inf)"
   ]
  }
 ],
 "metadata": {
  "language_info": {
   "name": "plaintext"
  }
 },
 "nbformat": 4,
 "nbformat_minor": 2
}

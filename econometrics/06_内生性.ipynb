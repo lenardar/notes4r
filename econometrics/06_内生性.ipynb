{
 "cells": [
  {
   "cell_type": "code",
   "execution_count": 1,
   "metadata": {
    "vscode": {
     "languageId": "r"
    }
   },
   "outputs": [],
   "source": [
    "# 先导入数据集grilic.dta\n",
    "library(haven)\n",
    "grilic <- read_dta(\"stata_data/grilic.dta\")"
   ]
  },
  {
   "cell_type": "code",
   "execution_count": 2,
   "metadata": {
    "vscode": {
     "languageId": "r"
    }
   },
   "outputs": [
    {
     "data": {
      "text/plain": [
       "\u001b[38;5;246m# A tibble: 758 × 20\u001b[39m\n",
       "     rns rns80   mrt mrt80  smsa smsa80   med    iq   kww  year   age age80\n",
       "   \u001b[3m\u001b[38;5;246m<dbl>\u001b[39m\u001b[23m \u001b[3m\u001b[38;5;246m<dbl>\u001b[39m\u001b[23m \u001b[3m\u001b[38;5;246m<dbl>\u001b[39m\u001b[23m \u001b[3m\u001b[38;5;246m<dbl>\u001b[39m\u001b[23m \u001b[3m\u001b[38;5;246m<dbl>\u001b[39m\u001b[23m  \u001b[3m\u001b[38;5;246m<dbl>\u001b[39m\u001b[23m \u001b[3m\u001b[38;5;246m<dbl>\u001b[39m\u001b[23m \u001b[3m\u001b[38;5;246m<dbl>\u001b[39m\u001b[23m \u001b[3m\u001b[38;5;246m<dbl>\u001b[39m\u001b[23m \u001b[3m\u001b[38;5;246m<dbl>\u001b[39m\u001b[23m \u001b[3m\u001b[38;5;246m<dbl>\u001b[39m\u001b[23m \u001b[3m\u001b[38;5;246m<dbl>\u001b[39m\u001b[23m\n",
       "\u001b[38;5;250m 1\u001b[39m     0     0     0     1     1      1     8    93    35    68    19    31\n",
       "\u001b[38;5;250m 2\u001b[39m     0     0     0     1     1      1    14   119    41    66    23    37\n",
       "\u001b[38;5;250m 3\u001b[39m     0     0     0     1     1      1    14   108    46    67    20    33\n",
       "\u001b[38;5;250m 4\u001b[39m     0     0     0     1     1      1    12    96    32    66    18    32\n",
       "\u001b[38;5;250m 5\u001b[39m     0     0     1     1     1      1     6    74    27    73    26    34\n",
       "\u001b[38;5;250m 6\u001b[39m     0     0     0     0     1      1     8    91    24    66    16    30\n",
       "\u001b[38;5;250m 7\u001b[39m     0     0     1     1     1      1     8   114    50    73    30    38\n",
       "\u001b[38;5;250m 8\u001b[39m     0     0     1     1     0      0    14   111    37    67    23    36\n",
       "\u001b[38;5;250m 9\u001b[39m     0     0     1     1     1      1    12    95    44    66    22    36\n",
       "\u001b[38;5;250m10\u001b[39m     0     0     1     1     0      0    13   132    44    73    30    38\n",
       "\u001b[38;5;246m# ℹ 748 more rows\u001b[39m\n",
       "\u001b[38;5;246m# ℹ 8 more variables: s <dbl>, s80 <dbl>, expr <dbl>, expr80 <dbl>,\u001b[39m\n",
       "\u001b[38;5;246m#   tenure <dbl>, tenure80 <dbl>, lw <dbl>, lw80 <dbl>\u001b[39m\n",
       "\u001b[38;5;246m# ℹ Use `print(n = ...)` to see more rows\u001b[39m"
      ]
     },
     "execution_count": null,
     "metadata": {},
     "output_type": "execute_result"
    }
   ],
   "source": [
    "grilic "
   ]
  },
  {
   "cell_type": "code",
   "execution_count": 5,
   "metadata": {
    "vscode": {
     "languageId": "r"
    }
   },
   "outputs": [
    {
     "name": "stdout",
     "output_type": "stream",
     "text": [
      "── \u001b[1mAttaching core tidyverse packages\u001b[22m ──────────────────────── tidyverse 2.0.0 ──\n",
      "\u001b[32m✔\u001b[39m \u001b[34mdplyr    \u001b[39m 1.1.4     \u001b[32m✔\u001b[39m \u001b[34mreadr    \u001b[39m 2.1.5\n",
      "\u001b[32m✔\u001b[39m \u001b[34mforcats  \u001b[39m 1.0.0     \u001b[32m✔\u001b[39m \u001b[34mstringr  \u001b[39m 1.5.1\n",
      "\u001b[32m✔\u001b[39m \u001b[34mggplot2  \u001b[39m 3.5.1     \u001b[32m✔\u001b[39m \u001b[34mtibble   \u001b[39m 3.2.1\n",
      "\u001b[32m✔\u001b[39m \u001b[34mlubridate\u001b[39m 1.9.4     \u001b[32m✔\u001b[39m \u001b[34mtidyr    \u001b[39m 1.3.1\n",
      "\u001b[32m✔\u001b[39m \u001b[34mpurrr    \u001b[39m 1.0.2     \n",
      "── \u001b[1mConflicts\u001b[22m ────────────────────────────────────────── tidyverse_conflicts() ──\n",
      "\u001b[31m✖\u001b[39m \u001b[34mdplyr\u001b[39m::\u001b[32mfilter()\u001b[39m masks \u001b[34mstats\u001b[39m::filter()\n",
      "\u001b[31m✖\u001b[39m \u001b[34mdplyr\u001b[39m::\u001b[32mlag()\u001b[39m    masks \u001b[34mstats\u001b[39m::lag()\n",
      "\u001b[36mℹ\u001b[39m Use the \u001b]8;;http://conflicted.r-lib.org/\u0007conflicted package\u001b]8;;\u0007 to force all conflicts to become errors\n"
     ]
    }
   ],
   "source": [
    "library(tidyverse)"
   ]
  },
  {
   "cell_type": "code",
   "execution_count": 6,
   "metadata": {
    "vscode": {
     "languageId": "r"
    }
   },
   "outputs": [
    {
     "data": {
      "text/plain": [
       "      rns             rns80             mrt             mrt80       \n",
       " Min.   :0.0000   Min.   :0.0000   Min.   :0.0000   Min.   :0.0000  \n",
       " 1st Qu.:0.0000   1st Qu.:0.0000   1st Qu.:0.0000   1st Qu.:1.0000  \n",
       " Median :0.0000   Median :0.0000   Median :1.0000   Median :1.0000  \n",
       " Mean   :0.2691   Mean   :0.2929   Mean   :0.5145   Mean   :0.8984  \n",
       " 3rd Qu.:1.0000   3rd Qu.:1.0000   3rd Qu.:1.0000   3rd Qu.:1.0000  \n",
       " Max.   :1.0000   Max.   :1.0000   Max.   :1.0000   Max.   :1.0000  \n",
       "      smsa            smsa80            med              iq        \n",
       " Min.   :0.0000   Min.   :0.0000   Min.   : 0.00   Min.   : 54.00  \n",
       " 1st Qu.:0.0000   1st Qu.:0.0000   1st Qu.: 9.00   1st Qu.: 95.25  \n",
       " Median :1.0000   Median :1.0000   Median :12.00   Median :104.00  \n",
       " Mean   :0.7045   Mean   :0.7124   Mean   :10.91   Mean   :103.86  \n",
       " 3rd Qu.:1.0000   3rd Qu.:1.0000   3rd Qu.:12.00   3rd Qu.:113.75  \n",
       " Max.   :1.0000   Max.   :1.0000   Max.   :18.00   Max.   :145.00  \n",
       "      kww             year            age            age80      \n",
       " Min.   :12.00   Min.   :66.00   Min.   :16.00   Min.   :28.00  \n",
       " 1st Qu.:32.00   1st Qu.:66.00   1st Qu.:20.00   1st Qu.:30.00  \n",
       " Median :37.00   Median :69.00   Median :22.00   Median :33.00  \n",
       " Mean   :36.57   Mean   :69.03   Mean   :21.84   Mean   :33.01  \n",
       " 3rd Qu.:41.00   3rd Qu.:71.00   3rd Qu.:24.00   3rd Qu.:36.00  \n",
       " Max.   :56.00   Max.   :73.00   Max.   :30.00   Max.   :38.00  \n",
       "       s              s80             expr             expr80      \n",
       " Min.   : 9.00   Min.   : 9.00   Min.   : 0.0000   Min.   : 0.692  \n",
       " 1st Qu.:12.00   1st Qu.:12.00   1st Qu.: 0.2815   1st Qu.: 8.388  \n",
       " Median :12.00   Median :13.00   Median : 0.9600   Median :11.059  \n",
       " Mean   :13.41   Mean   :13.71   Mean   : 1.7354   Mean   :11.394  \n",
       " 3rd Qu.:16.00   3rd Qu.:16.00   3rd Qu.: 2.4400   3rd Qu.:14.671  \n",
       " Max.   :18.00   Max.   :18.00   Max.   :11.4440   Max.   :22.045  \n",
       "     tenure          tenure80            lw             lw80      \n",
       " Min.   : 0.000   Min.   : 0.000   Min.   :4.605   Min.   :4.749  \n",
       " 1st Qu.: 1.000   1st Qu.: 3.000   1st Qu.:5.380   1st Qu.:6.571  \n",
       " Median : 1.000   Median : 7.000   Median :5.684   Median :6.854  \n",
       " Mean   : 1.831   Mean   : 7.363   Mean   :5.687   Mean   :6.827  \n",
       " 3rd Qu.: 2.000   3rd Qu.:11.000   3rd Qu.:5.991   3rd Qu.:7.092  \n",
       " Max.   :10.000   Max.   :22.000   Max.   :7.051   Max.   :8.032  "
      ]
     },
     "execution_count": null,
     "metadata": {},
     "output_type": "execute_result"
    }
   ],
   "source": [
    "summary(grilic)"
   ]
  },
  {
   "cell_type": "markdown",
   "metadata": {},
   "source": [
    "# 普通OLS"
   ]
  },
  {
   "cell_type": "markdown",
   "metadata": {},
   "source": [
    "先考虑用普通ols，看看效果："
   ]
  },
  {
   "cell_type": "code",
   "execution_count": 12,
   "metadata": {
    "vscode": {
     "languageId": "r"
    }
   },
   "outputs": [
    {
     "data": {
      "text/plain": [
       "\n",
       "Call:\n",
       "lm(formula = lw ~ s + expr + tenure + rns + smsa, data = grilic)\n",
       "\n",
       "Residuals:\n",
       "     Min       1Q   Median       3Q      Max \n",
       "-1.11684 -0.22626 -0.01511  0.23103  1.23738 \n",
       "\n",
       "Coefficients:\n",
       "             Estimate Std. Error t value Pr(>|t|)    \n",
       "(Intercept)  4.103675   0.085097  48.223  < 2e-16 ***\n",
       "s            0.102643   0.005849  17.549  < 2e-16 ***\n",
       "expr         0.038119   0.006327   6.025 2.65e-09 ***\n",
       "tenure       0.035615   0.007742   4.600 4.96e-06 ***\n",
       "rns         -0.084080   0.028797  -2.920  0.00361 ** \n",
       "smsa         0.139667   0.028082   4.974 8.15e-07 ***\n",
       "---\n",
       "Signif. codes:  0 ‘***’ 0.001 ‘**’ 0.01 ‘*’ 0.05 ‘.’ 0.1 ‘ ’ 1\n",
       "\n",
       "Residual standard error: 0.3464 on 752 degrees of freedom\n",
       "Multiple R-squared:  0.3521,\tAdjusted R-squared:  0.3478 \n",
       "F-statistic: 81.75 on 5 and 752 DF,  p-value: < 2.2e-16\n"
      ]
     },
     "execution_count": null,
     "metadata": {},
     "output_type": "execute_result"
    }
   ],
   "source": [
    "# 先进行普通OLS，作为对比\n",
    "fit <- lm(lw ~ s + expr + tenure + rns + smsa, data = grilic)\n",
    "result <- summary(fit)\n",
    "summary(fit)"
   ]
  },
  {
   "cell_type": "code",
   "execution_count": 13,
   "metadata": {
    "vscode": {
     "languageId": "r"
    }
   },
   "outputs": [
    {
     "data": {
      "text/plain": [
       "\n",
       "t test of coefficients:\n",
       "\n",
       "              Estimate Std. Error t value  Pr(>|t|)    \n",
       "(Intercept)  4.1036750  0.0873188 46.9965 < 2.2e-16 ***\n",
       "s            0.1026430  0.0061852 16.5948 < 2.2e-16 ***\n",
       "expr         0.0381189  0.0065882  5.7860 1.058e-08 ***\n",
       "tenure       0.0356146  0.0079671  4.4702 9.019e-06 ***\n",
       "rns         -0.0840797  0.0294158 -2.8583  0.004377 ** \n",
       "smsa         0.1396666  0.0279447  4.9980 7.213e-07 ***\n",
       "---\n",
       "Signif. codes:  0 ‘***’ 0.001 ‘**’ 0.01 ‘*’ 0.05 ‘.’ 0.1 ‘ ’ 1\n"
      ]
     },
     "execution_count": null,
     "metadata": {},
     "output_type": "execute_result"
    }
   ],
   "source": [
    "library(sandwich)\n",
    "robust_se <- vcovHC(fit, type = \"HC\")\n",
    "\n",
    "library(lmtest)\n",
    "coeftest(fit, vcov = robust_se)"
   ]
  },
  {
   "cell_type": "markdown",
   "metadata": {},
   "source": [
    "教育回报率过高，考虑是不是有内生性的问题。"
   ]
  },
  {
   "cell_type": "markdown",
   "metadata": {},
   "source": [
    "下面考虑引入能力的代理变量iq进行回归，相当于加入遗漏变量："
   ]
  },
  {
   "cell_type": "code",
   "execution_count": 14,
   "metadata": {
    "vscode": {
     "languageId": "r"
    }
   },
   "outputs": [
    {
     "data": {
      "text/plain": [
       "\n",
       "Call:\n",
       "lm(formula = lw ~ s + expr + tenure + rns + smsa + iq, data = grilic)\n",
       "\n",
       "Residuals:\n",
       "     Min       1Q   Median       3Q      Max \n",
       "-1.16056 -0.21786 -0.00622  0.22771  1.20580 \n",
       "\n",
       "Coefficients:\n",
       "             Estimate Std. Error t value Pr(>|t|)    \n",
       "(Intercept)  3.895172   0.109110  35.699  < 2e-16 ***\n",
       "s            0.092787   0.006666  13.920  < 2e-16 ***\n",
       "expr         0.039344   0.006306   6.239 7.33e-10 ***\n",
       "tenure       0.034209   0.007715   4.434 1.06e-05 ***\n",
       "rns         -0.074532   0.028815  -2.587  0.00988 ** \n",
       "smsa         0.136737   0.027948   4.893 1.22e-06 ***\n",
       "iq           0.003279   0.001083   3.028  0.00255 ** \n",
       "---\n",
       "Signif. codes:  0 ‘***’ 0.001 ‘**’ 0.01 ‘*’ 0.05 ‘.’ 0.1 ‘ ’ 1\n",
       "\n",
       "Residual standard error: 0.3445 on 751 degrees of freedom\n",
       "Multiple R-squared:   0.36,\tAdjusted R-squared:  0.3548 \n",
       "F-statistic: 70.39 on 6 and 751 DF,  p-value: < 2.2e-16\n"
      ]
     },
     "execution_count": null,
     "metadata": {},
     "output_type": "execute_result"
    }
   ],
   "source": [
    "# 加入替代变量iq\n",
    "fit <- lm(lw ~ s + expr + tenure + rns + smsa + iq, data = grilic)\n",
    "result <- summary(fit)\n",
    "summary(fit)"
   ]
  },
  {
   "cell_type": "code",
   "execution_count": 15,
   "metadata": {
    "vscode": {
     "languageId": "r"
    }
   },
   "outputs": [
    {
     "data": {
      "text/plain": [
       "\n",
       "t test of coefficients:\n",
       "\n",
       "              Estimate Std. Error t value  Pr(>|t|)    \n",
       "(Intercept)  3.8951718  0.1153921 33.7560 < 2.2e-16 ***\n",
       "s            0.0927874  0.0069440 13.3623 < 2.2e-16 ***\n",
       "expr         0.0393443  0.0066295  5.9347 4.494e-09 ***\n",
       "tenure       0.0342090  0.0078591  4.3528 1.531e-05 ***\n",
       "rns         -0.0745325  0.0298385 -2.4979  0.012707 *  \n",
       "smsa         0.1367369  0.0276426  4.9466 9.325e-07 ***\n",
       "iq           0.0032792  0.0011269  2.9099  0.003722 ** \n",
       "---\n",
       "Signif. codes:  0 ‘***’ 0.001 ‘**’ 0.01 ‘*’ 0.05 ‘.’ 0.1 ‘ ’ 1\n"
      ]
     },
     "execution_count": null,
     "metadata": {},
     "output_type": "execute_result"
    }
   ],
   "source": [
    "library(sandwich)\n",
    "robust_se <- vcovHC(fit, type = \"HC\")\n",
    "\n",
    "library(lmtest)\n",
    "coeftest(fit, vcov = robust_se)"
   ]
  },
  {
   "cell_type": "markdown",
   "metadata": {},
   "source": [
    "# 2SLS"
   ]
  },
  {
   "cell_type": "code",
   "execution_count": 16,
   "metadata": {
    "vscode": {
     "languageId": "r"
    }
   },
   "outputs": [
    {
     "name": "stderr",
     "output_type": "stream",
     "text": [
      "试开URL’https://cran.rstudio.com/bin/macosx/big-sur-arm64/contrib/4.4/ivreg_0.6-5.tgz'\n",
      "Content type 'application/x-gzip' length 1220021 bytes (1.2 MB)\n",
      "==================================================\n",
      "downloaded 1.2 MB\n",
      "\n"
     ]
    },
    {
     "name": "stdout",
     "output_type": "stream",
     "text": [
      "\n",
      "下载的二进制程序包在\n",
      "\t/var/folders/fv/c0dh9y6s7638rh5fdr3lgcmr0000gn/T//RtmpnjHIuj/downloaded_packages里\n"
     ]
    }
   ],
   "source": [
    "install.packages(\"ivreg\")"
   ]
  },
  {
   "cell_type": "code",
   "execution_count": 19,
   "metadata": {
    "vscode": {
     "languageId": "r"
    }
   },
   "outputs": [
    {
     "data": {
      "text/plain": [
       "\n",
       "Call:\n",
       "ivreg(formula = lw ~ iq + s + expr + tenure + rns + smsa | s + \n",
       "    med + kww + mrt + age + expr + tenure + rns + smsa, data = grilic)\n",
       "\n",
       "Residuals:\n",
       "       Min         1Q     Median         3Q        Max \n",
       "-1.3825405 -0.2437078  0.0009735  0.2514625  1.4609417 \n",
       "\n",
       "Coefficients:\n",
       "             Estimate Std. Error t value Pr(>|t|)    \n",
       "(Intercept)  4.837875   0.346424  13.965  < 2e-16 ***\n",
       "iq          -0.011547   0.005241  -2.203 0.027889 *  \n",
       "s            0.137348   0.017042   8.059 3.02e-15 ***\n",
       "expr         0.033804   0.007302   4.630 4.32e-06 ***\n",
       "tenure       0.040564   0.008896   4.560 5.98e-06 ***\n",
       "rns         -0.117698   0.035468  -3.318 0.000949 ***\n",
       "smsa         0.149983   0.031572   4.751 2.43e-06 ***\n",
       "\n",
       "Diagnostic tests:\n",
       "                 df1 df2 statistic  p-value    \n",
       "Weak instruments   4 748     10.54 2.61e-08 ***\n",
       "Wu-Hausman         1 750     10.70  0.00112 ** \n",
       "Sargan             3  NA     61.14 3.36e-13 ***\n",
       "---\n",
       "Signif. codes:  0 ‘***’ 0.001 ‘**’ 0.01 ‘*’ 0.05 ‘.’ 0.1 ‘ ’ 1\n",
       "\n",
       "Residual standard error: 0.3851 on 751 degrees of freedom\n",
       "Multiple R-Squared: 0.2002,\tAdjusted R-squared: 0.1938 \n",
       "Wald test: 55.92 on 6 and 751 DF,  p-value: < 2.2e-16 \n"
      ]
     },
     "execution_count": null,
     "metadata": {},
     "output_type": "execute_result"
    }
   ],
   "source": [
    "library(ivreg)\n",
    "\n",
    "fit_iv <- ivreg(\n",
    "  lw ~ iq+s+expr+tenure+rns+smsa | s+ med+ kww+mrt+age+expr+tenure+rns+smsa,\n",
    "  data = grilic\n",
    ")\n",
    "summary(fit_iv)"
   ]
  },
  {
   "cell_type": "code",
   "execution_count": 22,
   "metadata": {
    "vscode": {
     "languageId": "r"
    }
   },
   "outputs": [
    {
     "name": "stdout",
     "output_type": "stream",
     "text": [
      "还安装依赖关系‘reshape2’\n",
      "\n"
     ]
    },
    {
     "name": "stderr",
     "output_type": "stream",
     "text": [
      "试开URL’https://cran.rstudio.com/bin/macosx/big-sur-arm64/contrib/4.4/reshape2_1.4.4.tgz'\n",
      "Content type 'application/x-gzip' length 332089 bytes (324 KB)\n",
      "==================================================\n",
      "downloaded 324 KB\n",
      "\n",
      "试开URL’https://cran.rstudio.com/bin/macosx/big-sur-arm64/contrib/4.4/ivmodel_1.9.1.tgz'\n",
      "Content type 'application/x-gzip' length 423381 bytes (413 KB)\n",
      "==================================================\n",
      "downloaded 413 KB\n",
      "\n"
     ]
    },
    {
     "name": "stdout",
     "output_type": "stream",
     "text": [
      "\n",
      "下载的二进制程序包在\n",
      "\t/var/folders/fv/c0dh9y6s7638rh5fdr3lgcmr0000gn/T//RtmpnjHIuj/downloaded_packages里\n"
     ]
    }
   ],
   "source": [
    "install.packages(\"ivmodel\")"
   ]
  },
  {
   "cell_type": "code",
   "execution_count": 23,
   "metadata": {
    "vscode": {
     "languageId": "r"
    }
   },
   "outputs": [],
   "source": [
    "library(ivmodel)"
   ]
  },
  {
   "cell_type": "code",
   "execution_count": 24,
   "metadata": {
    "vscode": {
     "languageId": "r"
    }
   },
   "outputs": [
    {
     "name": "stdout",
     "output_type": "stream",
     "text": [
      "载入需要的程序包：car\n",
      "载入需要的程序包：carData\n",
      "\n",
      "载入程序包：‘car’\n",
      "\n",
      "The following object is masked from ‘package:dplyr’:\n",
      "\n",
      "    recode\n",
      "\n",
      "The following object is masked from ‘package:purrr’:\n",
      "\n",
      "    some\n",
      "\n",
      "载入需要的程序包：survival\n",
      "Registered S3 methods overwritten by 'AER':\n",
      "  method              from \n",
      "  print.ivreg         ivreg\n",
      "  print.summary.ivreg ivreg\n",
      "  summary.ivreg       ivreg\n",
      "  vcov.ivreg          ivreg\n",
      "  bread.ivreg         ivreg\n",
      "  estfun.ivreg        ivreg\n",
      "  hatvalues.ivreg     ivreg\n",
      "  predict.ivreg       ivreg\n",
      "  anova.ivreg         ivreg\n",
      "  terms.ivreg         ivreg\n",
      "  model.matrix.ivreg  ivreg\n",
      "  update.ivreg        ivreg\n",
      "\n",
      "载入程序包：‘AER’\n",
      "\n",
      "The following objects are masked from ‘package:ivreg’:\n",
      "\n",
      "    ivreg, ivreg.fit\n",
      "\n"
     ]
    }
   ],
   "source": [
    "library(AER)"
   ]
  },
  {
   "cell_type": "code",
   "execution_count": 57,
   "metadata": {
    "vscode": {
     "languageId": "r"
    }
   },
   "outputs": [
    {
     "name": "stderr",
     "output_type": "stream",
     "text": [
      "警告信息:\n",
      "1: In lm.fit(z, x, ...) :\n",
      " extra argument ‘methods’ will be disregarded \n",
      "2: In lm.fit(xz, y, offset = offset, ...) :\n",
      " extra argument ‘methods’ will be disregarded \n"
     ]
    },
    {
     "data": {
      "text/plain": [
       "\n",
       "Call:\n",
       "AER::ivreg(formula = lw ~ iq + s + expr + tenure + rns + smsa | \n",
       "    s + med + kww + mrt + age + expr + tenure + rns + smsa, data = grilic, \n",
       "    methods = \"MM\")\n",
       "\n",
       "Residuals:\n",
       "       Min         1Q     Median         3Q        Max \n",
       "-1.3825405 -0.2437078  0.0009735  0.2514625  1.4609417 \n",
       "\n",
       "Coefficients:\n",
       "             Estimate Std. Error t value Pr(>|t|)    \n",
       "(Intercept)  4.837875   0.346424  13.965  < 2e-16 ***\n",
       "iq          -0.011547   0.005241  -2.203 0.027889 *  \n",
       "s            0.137348   0.017042   8.059 3.02e-15 ***\n",
       "expr         0.033804   0.007302   4.630 4.32e-06 ***\n",
       "tenure       0.040564   0.008896   4.560 5.98e-06 ***\n",
       "rns         -0.117698   0.035468  -3.318 0.000949 ***\n",
       "smsa         0.149983   0.031572   4.751 2.43e-06 ***\n",
       "\n",
       "Diagnostic tests:\n",
       "                 df1 df2 statistic  p-value    \n",
       "Weak instruments   4 748     10.54 2.61e-08 ***\n",
       "Wu-Hausman         1 750     10.70  0.00112 ** \n",
       "Sargan             3  NA     61.14 3.36e-13 ***\n",
       "---\n",
       "Signif. codes:  0 ‘***’ 0.001 ‘**’ 0.01 ‘*’ 0.05 ‘.’ 0.1 ‘ ’ 1\n",
       "\n",
       "Residual standard error: 0.3851 on 751 degrees of freedom\n",
       "Multiple R-Squared: 0.2002,\tAdjusted R-squared: 0.1938 \n",
       "Wald test: 55.92 on 6 and 751 DF,  p-value: < 2.2e-16 \n"
      ]
     },
     "execution_count": null,
     "metadata": {},
     "output_type": "execute_result"
    }
   ],
   "source": [
    "fit_iv <- AER::ivreg(\n",
    "  lw ~ iq+s+expr+tenure+rns+smsa | s+ med+ kww+mrt+age+expr+tenure+rns+smsa,\n",
    "  data = grilic,\n",
    "  methods = \"MM\"\n",
    ")\n",
    "summary(fit_iv, diagnostics = TRUE)"
   ]
  },
  {
   "cell_type": "code",
   "execution_count": 31,
   "metadata": {
    "vscode": {
     "languageId": "r"
    }
   },
   "outputs": [],
   "source": [
    "result <- summary(fit_iv, diagnostics =TRUE)"
   ]
  },
  {
   "cell_type": "code",
   "execution_count": 32,
   "metadata": {
    "vscode": {
     "languageId": "r"
    }
   },
   "outputs": [
    {
     "data": {
      "text/plain": [
       "                 df1 df2 statistic      p-value\n",
       "Weak instruments   4 748  10.53826 2.608750e-08\n",
       "Wu-Hausman         1 750  10.69904 1.120907e-03\n",
       "Sargan             3  NA  61.13660 3.360347e-13"
      ]
     },
     "execution_count": null,
     "metadata": {},
     "output_type": "execute_result"
    }
   ],
   "source": [
    "result$diagnostics"
   ]
  },
  {
   "cell_type": "markdown",
   "metadata": {},
   "source": [
    "# GMM"
   ]
  },
  {
   "cell_type": "code",
   "execution_count": 60,
   "metadata": {
    "vscode": {
     "languageId": "r"
    }
   },
   "outputs": [
    {
     "data": {
      "text/plain": [
       "\n",
       "Call:\n",
       "ivreg(formula = lw ~ iq + s + expr + tenure + rns + smsa | s + \n",
       "    med + kww + mrt + age + expr + tenure + rns + smsa, data = grilic, \n",
       "    method = \"qr\")\n",
       "\n",
       "Residuals:\n",
       "       Min         1Q     Median         3Q        Max \n",
       "-1.3825405 -0.2437078  0.0009735  0.2514625  1.4609417 \n",
       "\n",
       "Coefficients:\n",
       "             Estimate Std. Error t value Pr(>|t|)    \n",
       "(Intercept)  4.837875   0.346424  13.965  < 2e-16 ***\n",
       "iq          -0.011547   0.005241  -2.203 0.027889 *  \n",
       "s            0.137348   0.017042   8.059 3.02e-15 ***\n",
       "expr         0.033804   0.007302   4.630 4.32e-06 ***\n",
       "tenure       0.040564   0.008896   4.560 5.98e-06 ***\n",
       "rns         -0.117698   0.035468  -3.318 0.000949 ***\n",
       "smsa         0.149983   0.031572   4.751 2.43e-06 ***\n",
       "---\n",
       "Signif. codes:  0 ‘***’ 0.001 ‘**’ 0.01 ‘*’ 0.05 ‘.’ 0.1 ‘ ’ 1\n",
       "\n",
       "Residual standard error: 0.3851 on 751 degrees of freedom\n",
       "Multiple R-Squared: 0.2002,\tAdjusted R-squared: 0.1938 \n",
       "Wald test: 55.92 on 6 and 751 DF,  p-value: < 2.2e-16 \n"
      ]
     },
     "execution_count": null,
     "metadata": {},
     "output_type": "execute_result"
    }
   ],
   "source": [
    "library(ivreg)\n",
    "\n",
    "fit_iv <- ivreg(\n",
    "  lw ~ iq+s+expr+tenure+rns+smsa | s+ med+ kww+mrt+age+expr+tenure+rns+smsa,\n",
    "  data = grilic\n",
    ")\n",
    "summary(fit_iv)"
   ]
  },
  {
   "cell_type": "code",
   "execution_count": 36,
   "metadata": {
    "vscode": {
     "languageId": "r"
    }
   },
   "outputs": [
    {
     "name": "stderr",
     "output_type": "stream",
     "text": [
      "试开URL’https://cran.rstudio.com/bin/macosx/big-sur-arm64/contrib/4.4/gmm_1.8.tgz'\n",
      "Content type 'application/x-gzip' length 1438237 bytes (1.4 MB)\n",
      "==================================================\n",
      "downloaded 1.4 MB\n",
      "\n"
     ]
    },
    {
     "name": "stdout",
     "output_type": "stream",
     "text": [
      "\n",
      "下载的二进制程序包在\n",
      "\t/var/folders/fv/c0dh9y6s7638rh5fdr3lgcmr0000gn/T//RtmpnjHIuj/downloaded_packages里\n"
     ]
    }
   ],
   "source": [
    "install.packages(\"gmm\")"
   ]
  },
  {
   "cell_type": "code",
   "execution_count": 61,
   "metadata": {
    "vscode": {
     "languageId": "r"
    }
   },
   "outputs": [
    {
     "ename": "",
     "evalue": "\u001b[1m\u001b[33mError\u001b[39m in `z %*% t(e)`:\u001b[22m\n\u001b[33m!\u001b[39m 非整合参数",
     "output_type": "error",
     "traceback": [
      "\u001b[1m\u001b[33mError\u001b[39m in `z %*% t(e)`:\u001b[22m\n",
      "\u001b[33m!\u001b[39m 非整合参数\n",
      "\u001b[90m    \u001b[39m▆\n",
      "\u001b[90m 1. \u001b[39m└─\u001b[1mgmm\u001b[22m::gmm(g = g, x = grilic, t0 = init_theta, type = \"twoStep\")\n",
      "\u001b[90m 2. \u001b[39m  ├─gmm:::getModel(all_args, ...)\n",
      "\u001b[90m 3. \u001b[39m  └─gmm::getModel.baseGmm(all_args, ...)\n",
      "\u001b[90m 4. \u001b[39m    ├─\u001b[1mbase\u001b[22m::NCOL(gt <- object$g(object$t0, object$x))\n",
      "\u001b[90m 5. \u001b[39m    └─object$g(object$t0, object$x)"
     ]
    }
   ],
   "source": [
    "# 使用广义矩估计\n",
    "library(gmm)\n",
    "\n",
    "# 定义矩条件函数\n",
    "g <- function(theta, data) {\n",
    "  y <- data$lw\n",
    "  x <- cbind(\n",
    "    1, data$s, data$iq, data$expr, data$tenure,\n",
    "    data$rns, data$smsa\n",
    "  ) # 内生和外生变量\n",
    "  z <- cbind(\n",
    "    data$s, data$med, data$kww, data$mrt, data$age,\n",
    "    data$expr, data$tenure, data$rns, data$smsa\n",
    "  ) # 工具变量\n",
    "  \n",
    "  beta <- theta[1:7] # 参数向量\n",
    "  e <- y - x %*% beta # 残差\n",
    "  \n",
    "  g <- z %*% t(e) # 矩条件\n",
    "  \n",
    "  return(as.vector(g))\n",
    "}\n",
    "\n",
    "# 使用0作为初始猜测\n",
    "init_theta <- coef(\n",
    "  lm(lw ~ s + iq + expr + tenure + rns + smsa, data = grilic)\n",
    ")\n",
    "\n",
    "# 执行gmm\n",
    "gmm <- gmm(\n",
    "  g = g,\n",
    "  x = grilic,\n",
    "  t0 = init_theta,\n",
    "  type = \"twoStep\" # 可以选择 \"twoStep\", \"iterative\", 或 \"cue\"\n",
    "  )\n",
    "  # 查看结果\n",
    "  summary(gmm)"
   ]
  },
  {
   "cell_type": "code",
   "execution_count": 56,
   "metadata": {
    "vscode": {
     "languageId": "r"
    }
   },
   "outputs": [
    {
     "ename": "",
     "evalue": "\u001b[1m\u001b[33mError\u001b[39m in `e * z`:\u001b[22m\n\u001b[33m!\u001b[39m 非整合陈列",
     "output_type": "error",
     "traceback": [
      "\u001b[1m\u001b[33mError\u001b[39m in `e * z`:\u001b[22m\n",
      "\u001b[33m!\u001b[39m 非整合陈列\n",
      "\u001b[90m    \u001b[39m▆\n",
      "\u001b[90m 1. \u001b[39m└─\u001b[1mgmm\u001b[22m::gmm(...)\n",
      "\u001b[90m 2. \u001b[39m  ├─gmm:::getModel(all_args, ...)\n",
      "\u001b[90m 3. \u001b[39m  └─gmm::getModel.baseGmm(all_args, ...)\n",
      "\u001b[90m 4. \u001b[39m    ├─\u001b[1mbase\u001b[22m::NCOL(gt <- object$g(object$t0, object$x))\n",
      "\u001b[90m 5. \u001b[39m    └─object$g(object$t0, object$x)"
     ]
    }
   ],
   "source": [
    "library(gmm)\n",
    "\n",
    "# 定义正确的矩条件函数\n",
    "g <- function(theta, data) {\n",
    "  # 提取变量\n",
    "  y <- data$lw\n",
    "  # 解释变量矩阵 (包括截距项)\n",
    "  x <- with(data, cbind(1, s, iq, expr, tenure, rns, smsa))  # 假设iq是内生变量\n",
    "  # 工具变量矩阵 (所有外生变量 + 工具变量，排除内生变量)\n",
    "  z <- with(data, cbind(1, s, med, kww, mrt, age, expr, tenure, rns, smsa))  # 确保外生\n",
    "  \n",
    "  # 提取参数\n",
    "  beta <- theta[1:ncol(x)]  # 参数与x的列数一致\n",
    "  \n",
    "  # 计算残差\n",
    "  e <- y - x %*% beta\n",
    "  \n",
    "  # 矩条件：每个观测的 e_i * z_i，返回 n × q 矩阵\n",
    "  return(e * z)\n",
    "}\n",
    "\n",
    "# 设置初始值（需与参数数量一致）\n",
    "init_theta <- rep(0, 7)  # 初始化为0向量，或使用OLS结果\n",
    "# 若用OLS初始值：\n",
    "# init_theta <- coef(lm(lw ~ s + iq + expr + tenure + rns + smsa, data = grilic))\n",
    "\n",
    "# 执行GMM估计\n",
    "gmm_fit <- gmm(\n",
    "  g = g,\n",
    "  x = grilic,  # 确保数据框名称正确\n",
    "  t0 = init_theta,\n",
    "  type = \"twoStep\",  # 推荐使用两步GMM\n",
    "  # 可选：添加优化控制参数\n",
    "  control = list(maxit = 1000, reltol = 1e-6)\n",
    ")\n",
    "\n",
    "# 查看结果\n",
    "summary(gmm_fit)"
   ]
  },
  {
   "cell_type": "code",
   "execution_count": 47,
   "metadata": {
    "vscode": {
     "languageId": "r"
    }
   },
   "outputs": [
    {
     "name": "stdout",
     "output_type": "stream",
     "text": [
      "还安装依赖关系‘miscTools’, ‘bdsmatrix’, ‘collapse’, ‘maxLik’\n",
      "\n"
     ]
    },
    {
     "name": "stderr",
     "output_type": "stream",
     "text": [
      "试开URL’https://cran.rstudio.com/bin/macosx/big-sur-arm64/contrib/4.4/miscTools_0.6-28.tgz'\n",
      "Content type 'application/x-gzip' length 89857 bytes (87 KB)\n",
      "==================================================\n",
      "downloaded 87 KB\n",
      "\n",
      "试开URL’https://cran.rstudio.com/bin/macosx/big-sur-arm64/contrib/4.4/bdsmatrix_1.3-7.tgz'\n",
      "Content type 'application/x-gzip' length 319669 bytes (312 KB)\n",
      "==================================================\n",
      "downloaded 312 KB\n",
      "\n",
      "试开URL’https://cran.rstudio.com/bin/macosx/big-sur-arm64/contrib/4.4/collapse_2.0.19.tgz'\n",
      "Content type 'application/x-gzip' length 7998817 bytes (7.6 MB)\n",
      "===============================================\n",
      "downloaded 7.2 MB\n",
      "\n",
      "Error in download.file(url, destfile, method, mode = \"wb\", ...) : \n",
      "  download from 'https://cran.rstudio.com/bin/macosx/big-sur-arm64/contrib/4.4/collapse_2.0.19.tgz' failed\n",
      "此外: 警告信息:\n",
      "1: In download.file(url, destfile, method, mode = \"wb\", ...) :\n",
      "  downloaded length 7593842 != reported length 7998817\n",
      "2: In download.file(url, destfile, method, mode = \"wb\", ...) :\n",
      "  URL 'https://cran.rstudio.com/bin/macosx/big-sur-arm64/contrib/4.4/collapse_2.0.19.tgz': Timeout of 60 seconds was reached\n",
      "download.packages(pkgs, destdir = tmpd, available = available, 里有警告:\n",
      "  下载程序包‘collapse’时出了问题\n",
      "试开URL’https://cran.rstudio.com/bin/macosx/big-sur-arm64/contrib/4.4/maxLik_1.5-2.1.tgz'\n",
      "Content type 'application/x-gzip' length 1099194 bytes (1.0 MB)\n",
      "==================================================\n",
      "downloaded 1.0 MB\n",
      "\n",
      "试开URL’https://cran.rstudio.com/bin/macosx/big-sur-arm64/contrib/4.4/plm_2.6-5.tgz'\n",
      "Content type 'application/x-gzip' length 1867137 bytes (1.8 MB)\n",
      "==================================================\n",
      "downloaded 1.8 MB\n",
      "\n"
     ]
    },
    {
     "name": "stdout",
     "output_type": "stream",
     "text": [
      "\n",
      "下载的二进制程序包在\n",
      "\t/var/folders/fv/c0dh9y6s7638rh5fdr3lgcmr0000gn/T//RtmpnjHIuj/downloaded_packages里\n"
     ]
    }
   ],
   "source": [
    "install.packages(\"plm\")"
   ]
  },
  {
   "cell_type": "code",
   "execution_count": 50,
   "metadata": {
    "vscode": {
     "languageId": "r"
    }
   },
   "outputs": [
    {
     "name": "stdout",
     "output_type": "stream",
     "text": [
      "\n",
      "载入程序包：‘plm’\n",
      "\n",
      "The following objects are masked from ‘package:dplyr’:\n",
      "\n",
      "    between, lag, lead\n",
      "\n"
     ]
    }
   ],
   "source": [
    "library(plm)"
   ]
  },
  {
   "cell_type": "code",
   "execution_count": 51,
   "metadata": {
    "vscode": {
     "languageId": "r"
    }
   },
   "outputs": [],
   "source": [
    "help(plm)"
   ]
  },
  {
   "cell_type": "code",
   "execution_count": 67,
   "metadata": {
    "vscode": {
     "languageId": "r"
    }
   },
   "outputs": [
    {
     "name": "stderr",
     "output_type": "stream",
     "text": [
      "警告信息:\n",
      "In FinRes.baseGmm.res(z, Model_info) :\n",
      "  The covariance matrix of the coefficients is singular\n"
     ]
    }
   ],
   "source": [
    "library(gmm)\n",
    "\n",
    "# 假设 grilic 数据集已经加载\n",
    "# 定义自变量矩阵 X 和工具变量矩阵 Z\n",
    "X <- cbind(\n",
    "  1, grilic$iq, grilic$s, grilic$expr, grilic$tenure, \n",
    "  grilic$rns, grilic$smsa\n",
    ")  # 自变量矩阵 X\n",
    "Z <- cbind(\n",
    "  grilic$s, grilic$med, grilic$kww, grilic$mrt, grilic$age, \n",
    "  grilic$expr, grilic$tenure, grilic$rns, grilic$smsa\n",
    ")  # 工具变量矩阵 Z\n",
    "lw <- grilic$lw  # 因变量\n",
    "\n",
    "# 定义 GMM 矩条件函数\n",
    "gmm_model <- function(theta, data) {\n",
    "  # 提取数据\n",
    "  X <- data$X\n",
    "  Z <- data$Z\n",
    "  lw <- data$lw\n",
    "  \n",
    "  # 计算残差\n",
    "  epsilon <- lw - X %*% theta  # 残差计算: lw - X * beta\n",
    "  \n",
    "  # 计算矩条件: Z' * epsilon\n",
    "  moment_conditions <- t(Z) %*% epsilon\n",
    "  \n",
    "  return(moment_conditions)\n",
    "}\n",
    "\n",
    "# 使用 gmm 包进行估计\n",
    "# t0 是初始参数估计值，这里设为零向量\n",
    "fit_gmm <- gmm(gmm_model, x = list(X = X, Z = Z, lw = lw), t0 = rep(0, ncol(X)))\n",
    "\n",
    "# 输出标准 GMM 结果\n",
    "summary(fit_gmm)\n"
   ]
  },
  {
   "cell_type": "code",
   "execution_count": 64,
   "metadata": {
    "vscode": {
     "languageId": "r"
    }
   },
   "outputs": [
    {
     "data": {
      "text/plain": [
       "\u001b[38;5;246m# A tibble: 758 × 20\u001b[39m\n",
       "     rns rns80   mrt mrt80  smsa smsa80   med    iq   kww  year   age age80\n",
       "   \u001b[3m\u001b[38;5;246m<dbl>\u001b[39m\u001b[23m \u001b[3m\u001b[38;5;246m<dbl>\u001b[39m\u001b[23m \u001b[3m\u001b[38;5;246m<dbl>\u001b[39m\u001b[23m \u001b[3m\u001b[38;5;246m<dbl>\u001b[39m\u001b[23m \u001b[3m\u001b[38;5;246m<dbl>\u001b[39m\u001b[23m  \u001b[3m\u001b[38;5;246m<dbl>\u001b[39m\u001b[23m \u001b[3m\u001b[38;5;246m<dbl>\u001b[39m\u001b[23m \u001b[3m\u001b[38;5;246m<dbl>\u001b[39m\u001b[23m \u001b[3m\u001b[38;5;246m<dbl>\u001b[39m\u001b[23m \u001b[3m\u001b[38;5;246m<dbl>\u001b[39m\u001b[23m \u001b[3m\u001b[38;5;246m<dbl>\u001b[39m\u001b[23m \u001b[3m\u001b[38;5;246m<dbl>\u001b[39m\u001b[23m\n",
       "\u001b[38;5;250m 1\u001b[39m     0     0     0     1     1      1     8    93    35    68    19    31\n",
       "\u001b[38;5;250m 2\u001b[39m     0     0     0     1     1      1    14   119    41    66    23    37\n",
       "\u001b[38;5;250m 3\u001b[39m     0     0     0     1     1      1    14   108    46    67    20    33\n",
       "\u001b[38;5;250m 4\u001b[39m     0     0     0     1     1      1    12    96    32    66    18    32\n",
       "\u001b[38;5;250m 5\u001b[39m     0     0     1     1     1      1     6    74    27    73    26    34\n",
       "\u001b[38;5;250m 6\u001b[39m     0     0     0     0     1      1     8    91    24    66    16    30\n",
       "\u001b[38;5;250m 7\u001b[39m     0     0     1     1     1      1     8   114    50    73    30    38\n",
       "\u001b[38;5;250m 8\u001b[39m     0     0     1     1     0      0    14   111    37    67    23    36\n",
       "\u001b[38;5;250m 9\u001b[39m     0     0     1     1     1      1    12    95    44    66    22    36\n",
       "\u001b[38;5;250m10\u001b[39m     0     0     1     1     0      0    13   132    44    73    30    38\n",
       "\u001b[38;5;246m# ℹ 748 more rows\u001b[39m\n",
       "\u001b[38;5;246m# ℹ 8 more variables: s <dbl>, s80 <dbl>, expr <dbl>, expr80 <dbl>,\u001b[39m\n",
       "\u001b[38;5;246m#   tenure <dbl>, tenure80 <dbl>, lw <dbl>, lw80 <dbl>\u001b[39m\n",
       "\u001b[38;5;246m# ℹ Use `print(n = ...)` to see more rows\u001b[39m"
      ]
     },
     "execution_count": null,
     "metadata": {},
     "output_type": "execute_result"
    }
   ],
   "source": [
    "grilic"
   ]
  },
  {
   "cell_type": "code",
   "execution_count": 70,
   "metadata": {
    "vscode": {
     "languageId": "r"
    }
   },
   "outputs": [
    {
     "ename": "",
     "evalue": "\u001b[1m\u001b[33mError\u001b[39m in `Z %*% epsilon`:\u001b[22m\n\u001b[33m!\u001b[39m 非整合参数",
     "output_type": "error",
     "traceback": [
      "\u001b[1m\u001b[33mError\u001b[39m in `Z %*% epsilon`:\u001b[22m\n",
      "\u001b[33m!\u001b[39m 非整合参数\n",
      "\u001b[90m    \u001b[39m▆\n",
      "\u001b[90m 1. \u001b[39m└─\u001b[1mgmm\u001b[22m::gmm(gmm_model, x = gmm_data, t0 = beta_ivreg)\n",
      "\u001b[90m 2. \u001b[39m  ├─gmm:::getModel(all_args, ...)\n",
      "\u001b[90m 3. \u001b[39m  └─gmm::getModel.baseGmm(all_args, ...)\n",
      "\u001b[90m 4. \u001b[39m    ├─\u001b[1mbase\u001b[22m::NCOL(gt <- object$g(object$t0, object$x))\n",
      "\u001b[90m 5. \u001b[39m    └─object$g(object$t0, object$x)"
     ]
    }
   ],
   "source": [
    "library(gmm)\n",
    "library(AER)\n",
    "\n",
    "# 示例数据集 grilic 已经加载，假设包含变量 lw, iq, s, expr, tenure, rns, smsa, med, kww, mrt, age\n",
    "\n",
    "# 使用 ivreg 估计 OLS 工具变量回归模型\n",
    "ivreg_fit <- ivreg(lw ~ iq + s + expr + tenure + rns + smsa | s + med + kww + mrt + age + expr + tenure + rns + smsa, data = grilic)\n",
    "\n",
    "# 提取 ivreg 结果中的系数作为初始估计\n",
    "beta_ivreg <- coef(ivreg_fit)\n",
    "\n",
    "# 定义 GMM 矩条件函数\n",
    "gmm_model <- function(theta, data) {\n",
    "  # 提取数据\n",
    "  X <- data$X\n",
    "  Z <- data$Z\n",
    "  lw <- data$lw\n",
    "  \n",
    "  # 计算残差\n",
    "  epsilon <- lw - X %*% theta  # 残差计算: lw - X * beta\n",
    "  \n",
    "  # 计算矩条件: Z' * epsilon\n",
    "  moment_conditions <- Z %*% epsilon\n",
    "  \n",
    "  return(moment_conditions)\n",
    "}\n",
    "\n",
    "# 准备 GMM 数据（自变量 X 和工具变量 Z）\n",
    "X <- cbind(1, grilic$iq, grilic$s, grilic$expr, grilic$tenure, grilic$rns, grilic$smsa)  # 自变量矩阵 X\n",
    "Z <- cbind(grilic$s, grilic$med, grilic$kww, grilic$mrt, grilic$age, grilic$expr, grilic$tenure, grilic$rns, grilic$smsa)  # 工具变量矩阵 Z\n",
    "lw <- grilic$lw  # 因变量\n",
    "\n",
    "# 将数据传递给 GMM\n",
    "gmm_data <- list(X = X, Z = Z, lw = lw)\n",
    "\n",
    "# 使用 GMM 方法进行估计\n",
    "fit_gmm <- gmm(gmm_model, x = gmm_data, t0 = beta_ivreg)\n",
    "\n",
    "# 输出 GMM 结果\n",
    "summary(fit_gmm)"
   ]
  },
  {
   "cell_type": "code",
   "execution_count": 72,
   "metadata": {
    "vscode": {
     "languageId": "r"
    }
   },
   "outputs": [
    {
     "name": "stderr",
     "output_type": "stream",
     "text": [
      "警告信息:\n",
      "In FinRes.baseGmm.res(z, Model_info) :\n",
      "  The covariance matrix of the coefficients is singular\n"
     ]
    },
    {
     "data": {
      "text/plain": [
       "\n",
       "Call:\n",
       "gmm(g = g, x = grilic, t0 = init_theta, type = \"twoStep\")\n",
       "\n",
       "\n",
       "Method:  twoStep \n",
       "\n",
       "Kernel:  Quadratic Spectral(with bw =  0.65032 )\n",
       "\n",
       "Coefficients:\n",
       "             Estimate    Std. Error  t value     Pr(>|t|)  \n",
       "(Intercept)   3.9109801         Inf   0.0000000   1.0000000\n",
       "s             0.0910978         Inf   0.0000000   1.0000000\n",
       "iq            0.0026866         Inf   0.0000000   1.0000000\n",
       "expr          0.0570079         Inf   0.0000000   1.0000000\n",
       "tenure        0.0339528         Inf   0.0000000   1.0000000\n",
       "rns          -0.0095459         Inf   0.0000000   1.0000000\n",
       "smsa          0.1692517         Inf   0.0000000   1.0000000\n",
       "\n",
       "J-Test: degrees of freedom is -6 \n",
       "                J-test                P-value             \n",
       "Test E(g)=0:    2.08055235121342e-08  *******             \n",
       "\n",
       "Initial values of the coefficients\n",
       " (Intercept)            s           iq         expr       tenure          rns \n",
       " 3.910980111  0.091097767  0.002686621  0.057007851  0.033952826 -0.009545867 \n",
       "        smsa \n",
       " 0.169251657 \n",
       "\n",
       "#############\n",
       "Information related to the numerical optimization\n",
       "Convergence code =  0 \n",
       "Function eval. =  284 \n",
       "Gradian eval. =  NA "
      ]
     },
     "execution_count": null,
     "metadata": {},
     "output_type": "execute_result"
    }
   ],
   "source": [
    "library(gmm)\n",
    "\n",
    "# 定义矩条件函数\n",
    "g <- function(theta, data) {\n",
    "  y <- data$lw\n",
    "  x <- cbind(1, data$s, data$iq, data$expr, data$tenure, data$rns, data$smsa) # 内生和外生变量\n",
    "  z <- cbind(data$s, data$med, data$kww, data$expr, data$tenure, data$rns, data$smsa) # 工具变量\n",
    "  \n",
    "  beta <- theta[1:7] # 参数向量\n",
    "  e <- as.vector(y - x %*% beta) # 计算残差\n",
    "  \n",
    "  g <- as.vector(t(z) %*% e) # 使用矩阵乘法计算矩条件，并将其转换为向量\n",
    "  return(g)\n",
    "}\n",
    "\n",
    "# 提供初始参数猜测值\n",
    "init_theta <- coef(lm(lw ~ s + iq + expr + tenure + rns + smsa, data = grilic))\n",
    "\n",
    "# 执行 GMM 估计\n",
    "res_gmm <- gmm(\n",
    "  g = g,\n",
    "  x = grilic,\n",
    "  t0 = init_theta,\n",
    "  type = \"twoStep\" # 可以选择 \"twoStep\", \"iterative\", 或 \"cue\"\n",
    ")\n",
    "\n",
    "# 查看结果\n",
    "summary(res_gmm)"
   ]
  },
  {
   "cell_type": "code",
   "execution_count": 73,
   "metadata": {
    "vscode": {
     "languageId": "r"
    }
   },
   "outputs": [
    {
     "name": "stderr",
     "output_type": "stream",
     "text": [
      "警告信息:\n",
      "In ar.ols(x, aic = aic, order.max = order.max, na.action = na.action,  :\n",
      "  model order:  1 singularities in the computation of the projection matrix results are only valid up to model order 0\n"
     ]
    },
    {
     "ename": "",
     "evalue": "\u001b[1m\u001b[33mError\u001b[39m in `AllArg$bw()`:\u001b[22m\n\u001b[33m!\u001b[39m Cannot compute bandwidth because AR(1) approximation failed for estimating functions of: ",
     "output_type": "error",
     "traceback": [
      "\u001b[1m\u001b[33mError\u001b[39m in `AllArg$bw()`:\u001b[22m\n",
      "\u001b[33m!\u001b[39m Cannot compute bandwidth because AR(1) approximation failed for estimating functions of: \n",
      "\u001b[90m    \u001b[39m▆\n",
      "\u001b[90m 1. \u001b[39m└─\u001b[1mgmm\u001b[22m::gmm(g = g, x = grilic, t0 = init_theta, type = \"twoStep\")\n",
      "\u001b[90m 2. \u001b[39m  ├─gmm:::momentEstim(Model_info, ...)\n",
      "\u001b[90m 3. \u001b[39m  └─gmm::momentEstim.baseGmm.twoStep(Model_info, ...)\n",
      "\u001b[90m 4. \u001b[39m    └─gmm:::.weightFct(res$par, P$x, P$vcov)\n",
      "\u001b[90m 5. \u001b[39m      └─gmm:::.myKernHAC(gt, obj)\n",
      "\u001b[90m 6. \u001b[39m        └─AllArg$bw(...)"
     ]
    }
   ],
   "source": [
    "# 定义矩条件函数\n",
    "g <- function(theta, data) {\n",
    "  y <- data$lw\n",
    "  x <- cbind(1, data$s, data$iq, data$expr, data$tenure, data$rns, data$smsa) # 内生和外生变量\n",
    "  z <- cbind(data$s, data$med, data$kww) # 工具变量\n",
    "  \n",
    "  beta <- theta[1:7] # 参数向量\n",
    "  e <- as.vector(y - x %*% beta) # 计算残差\n",
    "  \n",
    "  g <- as.vector(crossprod(z, e)) # 使用crossprod计算矩条件，并将其转换为向量\n",
    "  return(g)\n",
    "}\n",
    "\n",
    "# 提供初始参数猜测值\n",
    "init_theta <- coef(lm(lw ~ s + iq + expr + tenure + rns + smsa, data = grilic))\n",
    "\n",
    "# 执行 GMM 估计\n",
    "res_gmm <- gmm(\n",
    "  g = g,\n",
    "  x = grilic,\n",
    "  t0 = init_theta,\n",
    "  type = \"twoStep\" # 可以选择 \"twoStep\", \"iterative\", 或 \"cue\"\n",
    ")\n",
    "\n",
    "# 查看结果\n",
    "summary(res_gmm)"
   ]
  },
  {
   "cell_type": "code",
   "execution_count": 75,
   "metadata": {
    "vscode": {
     "languageId": "r"
    }
   },
   "outputs": [
    {
     "ename": "",
     "evalue": "\u001b[1m\u001b[33mError\u001b[39m in `data$lw`:\u001b[22m\n\u001b[33m!\u001b[39m 类别为'closure'的对象不可以取子集",
     "output_type": "error",
     "traceback": [
      "\u001b[1m\u001b[33mError\u001b[39m in `data$lw`:\u001b[22m\n",
      "\u001b[33m!\u001b[39m 类别为'closure'的对象不可以取子集\n",
      "\u001b[90m    \u001b[39m▆\n",
      "\u001b[90m 1. \u001b[39m└─\u001b[1mgmm\u001b[22m::gmm(model_gmm, x = data, t0 = initial_theta)\n",
      "\u001b[90m 2. \u001b[39m  ├─gmm:::getModel(all_args, ...)\n",
      "\u001b[90m 3. \u001b[39m  └─gmm::getModel.baseGmm(all_args, ...)\n",
      "\u001b[90m 4. \u001b[39m    ├─\u001b[1mbase\u001b[22m::NCOL(gt <- object$g(object$t0, object$x))\n",
      "\u001b[90m 5. \u001b[39m    └─object$g(object$t0, object$x)"
     ]
    }
   ],
   "source": [
    "# 定义目标函数\n",
    "model_gmm <- function(theta, data) {\n",
    "  # 设定回归方程：y = X * beta + epsilon\n",
    "  lw <- data$lw\n",
    "  s <- data$s\n",
    "  expr <- data$expr\n",
    "  tenure <- data$tenure\n",
    "  rns <- data$rns\n",
    "  smsa <- data$smsa\n",
    "  iq <- data$iq\n",
    "  med <- data$med\n",
    "  kww <- data$kww\n",
    "  \n",
    "  # X是自变量，y是因变量\n",
    "  X <- cbind(s, expr, tenure, rns, smsa)\n",
    "  Z <- cbind(med, kww)  # 工具变量\n",
    "  \n",
    "  # 模型中使用工具变量的回归：计算残差\n",
    "  residuals <- lw - X %*% theta\n",
    "  \n",
    "  # GMM目标函数：工具变量和残差的矩阵乘积\n",
    "  moment_conditions <- colSums(Z * residuals)\n",
    "  return(moment_conditions)\n",
    "}\n",
    "\n",
    "# GMM估计\n",
    "initial_theta <- rep(0, 5)  # 初始参数值\n",
    "gmm_result <- gmm(model_gmm, x = data, t0 = initial_theta)\n",
    "\n",
    "# 查看结果\n",
    "summary(gmm_result)\n"
   ]
  }
 ],
 "metadata": {
  "language_info": {
   "name": "plaintext"
  }
 },
 "nbformat": 4,
 "nbformat_minor": 2
}

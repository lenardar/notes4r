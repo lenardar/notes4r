{
 "cells": [
  {
   "cell_type": "markdown",
   "metadata": {},
   "source": [
    "实现R语言排序与计数模型。"
   ]
  },
  {
   "cell_type": "markdown",
   "metadata": {},
   "source": [
    "# 排序模型"
   ]
  },
  {
   "cell_type": "code",
   "execution_count": 25,
   "metadata": {
    "vscode": {
     "languageId": "r"
    }
   },
   "outputs": [
    {
     "name": "stdout",
     "output_type": "stream",
     "text": [
      "Rows: 98\n",
      "Columns: 38\n",
      "$ s77       \u001b[3m\u001b[38;5;246m<dbl>\u001b[39m\u001b[23m 420042, 2112845, 17519000, 368584, 28188, 280440, 488647, 15…\n",
      "$ s78       \u001b[3m\u001b[38;5;246m<dbl>\u001b[39m\u001b[23m 494414, 2331470, 19654000, 395675, 48432, 300807, 568606, 17…\n",
      "$ s79       \u001b[3m\u001b[38;5;246m<dbl>\u001b[39m\u001b[23m 591930, 2542105, 22461000, 471539, 103004, 343180, 663348, 1…\n",
      "$ s80       \u001b[3m\u001b[38;5;246m<dbl>\u001b[39m\u001b[23m 695580, 2970960, 24959000, 509057, 191086, 348491, 721200, 2…\n",
      "$ s81       \u001b[3m\u001b[38;5;246m<dbl>\u001b[39m\u001b[23m 702212, 3377564, 27240000, 606870, 270706, 362873, 832721, 2…\n",
      "$ s82       \u001b[3m\u001b[38;5;246m<dbl>\u001b[39m\u001b[23m 595830, 2774725, 26500000, 603437, 328185, 315275, 735344, 2…\n",
      "$ s83       \u001b[3m\u001b[38;5;246m<dbl>\u001b[39m\u001b[23m 619179, 2274075, 26797000, 533102, 400032, 352437, 746984, 2…\n",
      "$ b77       \u001b[3m\u001b[38;5;246m<dbl>\u001b[39m\u001b[23m 0.95, 0.90, 1.10, 1.20, 2.00, 1.10, 0.80, 1.00, 1.20, 1.05, …\n",
      "$ b78       \u001b[3m\u001b[38;5;246m<dbl>\u001b[39m\u001b[23m 1.00, 0.90, 1.10, 1.20, 2.00, 1.10, 0.80, 1.00, 1.25, 1.10, …\n",
      "$ b79       \u001b[3m\u001b[38;5;246m<dbl>\u001b[39m\u001b[23m 0.95, 0.95, 1.10, 1.15, 2.00, 1.00, 0.85, 1.00, 1.25, 1.10, …\n",
      "$ b80       \u001b[3m\u001b[38;5;246m<dbl>\u001b[39m\u001b[23m 1.00, 0.90, 1.10, 1.15, 2.00, 1.05, 0.95, 0.95, 1.15, 0.95, …\n",
      "$ b81       \u001b[3m\u001b[38;5;246m<dbl>\u001b[39m\u001b[23m 1.00, 0.95, 1.00, 1.05, 1.70, 0.80, 1.00, 0.85, 1.05, 0.90, …\n",
      "$ b82       \u001b[3m\u001b[38;5;246m<dbl>\u001b[39m\u001b[23m 1.00, 0.90, 0.95, 0.85, 1.65, 0.85, 0.90, 0.85, 0.95, 0.80, …\n",
      "$ b83       \u001b[3m\u001b[38;5;246m<dbl>\u001b[39m\u001b[23m 0.95, 0.95, 0.95, 0.95, 1.65, 0.80, 0.80, 0.80, 0.95, 0.85, …\n",
      "$ is77      \u001b[3m\u001b[38;5;246m<dbl>\u001b[39m\u001b[23m 10.072564, 13.010325, 11.764370, 18.396349, 10.586065, 5.876…\n",
      "$ is78      \u001b[3m\u001b[38;5;246m<dbl>\u001b[39m\u001b[23m 10.741201, 12.693880, 11.946678, 14.982246, 20.160225, 6.423…\n",
      "$ is79      \u001b[3m\u001b[38;5;246m<dbl>\u001b[39m\u001b[23m 9.954556, 12.812295, 11.985219, 12.273216, 23.661217, 6.9115…\n",
      "$ is80      \u001b[3m\u001b[38;5;246m<dbl>\u001b[39m\u001b[23m 9.007447, 11.959030, 11.162306, 11.444298, 22.009462, 6.0621…\n",
      "$ is81      \u001b[3m\u001b[38;5;246m<dbl>\u001b[39m\u001b[23m 7.864434, 12.516328, 11.068282, 13.773955, 22.626760, 6.3749…\n",
      "$ is82      \u001b[3m\u001b[38;5;246m<dbl>\u001b[39m\u001b[23m 5.3474984, 5.7004929, 11.5509434, 9.9181852, 15.8739738, 3.5…\n",
      "$ is83      \u001b[3m\u001b[38;5;246m<dbl>\u001b[39m\u001b[23m 8.523383, 1.730154, 12.684256, 1.751822, 14.386849, 5.007420…\n",
      "$ ia77      \u001b[3m\u001b[38;5;246m<dbl>\u001b[39m\u001b[23m 16.608438, 15.223508, 15.047091, 21.924248, 10.202058, 10.33…\n",
      "$ ia78      \u001b[3m\u001b[38;5;246m<dbl>\u001b[39m\u001b[23m 16.925623, 14.820323, 15.615855, 16.949535, 19.881088, 11.06…\n",
      "$ ia79      \u001b[3m\u001b[38;5;246m<dbl>\u001b[39m\u001b[23m 15.084081, 15.302597, 16.173998, 15.691947, 28.053778, 12.72…\n",
      "$ ia80      \u001b[3m\u001b[38;5;246m<dbl>\u001b[39m\u001b[23m 14.881902, 14.060967, 15.050511, 13.864152, 25.155813, 11.04…\n",
      "$ ia81      \u001b[3m\u001b[38;5;246m<dbl>\u001b[39m\u001b[23m 14.078278, 15.785480, 14.396906, 17.288521, 26.804720, 11.49…\n",
      "$ ia82      \u001b[3m\u001b[38;5;246m<dbl>\u001b[39m\u001b[23m 9.1412210, 6.5072541, 14.1614618, 12.9470634, 19.0034294, 6.…\n",
      "$ ia83      \u001b[3m\u001b[38;5;246m<dbl>\u001b[39m\u001b[23m 14.369850, 1.702389, 14.595500, 2.156928, 16.481808, 8.56624…\n",
      "$ r77       \u001b[3m\u001b[38;5;246m<dbl>\u001b[39m\u001b[23m 4.000000, 3.000000, 1.000000, 0.000000, 0.000000, 6.000000, …\n",
      "$ r78       \u001b[3m\u001b[38;5;246m<dbl>\u001b[39m\u001b[23m 4.000000, 3.000000, 1.000000, 0.000000, 0.000000, 6.000000, …\n",
      "$ r79       \u001b[3m\u001b[38;5;246m<dbl>\u001b[39m\u001b[23m 4.000000, 3.000000, 1.000000, 0.000000, 0.000000, 6.000000, …\n",
      "$ r80       \u001b[3m\u001b[38;5;246m<dbl>\u001b[39m\u001b[23m 4.000000, 3.000000, 1.000000, 0.000000, 0.000000, 6.000000, …\n",
      "$ r81       \u001b[3m\u001b[38;5;246m<dbl>\u001b[39m\u001b[23m 4.000000, 3.000000, 1.000000, 0.000000, 0.000000, 6.000000, …\n",
      "$ r82       \u001b[3m\u001b[38;5;246m<dbl>\u001b[39m\u001b[23m 4.000000, 3.000000, 1.000000, 0.000000, 0.000000, 6.000000, …\n",
      "$ r83       \u001b[3m\u001b[38;5;246m<dbl>\u001b[39m\u001b[23m 4.000000, 3.000000, 1.000000, 0.000000, 0.000000, 0.000000, …\n",
      "$ rating83  \u001b[3m\u001b[38;5;246m<dbl>\u001b[39m\u001b[23m 4, 3, 1, 0, 0, 0, 3, 0, 3, 2, 4, 2, 0, 6, 3, 4, 2, 3, 3, 4, …\n",
      "$ rating83c \u001b[3m\u001b[38;5;246m<dbl+lbl>\u001b[39m\u001b[23m 2, 3, 4, 5, 5, 5, 3, 5, 3, 4, 2, 4, 5, 2, 3, 2, 4, 3, 3,…\n",
      "$ dia       \u001b[3m\u001b[38;5;246m<dbl>\u001b[39m\u001b[23m 5.2286291, -4.8048654, 0.4340382, -10.7901363, -2.5216217, 2…\n"
     ]
    }
   ],
   "source": [
    "# 导入数据集\n",
    "library(haven)\n",
    "panel84extract <- read_dta(\"stata_data/panel84extract.dta\")\n",
    "panel84extract |> \n",
    "  glimpse()"
   ]
  },
  {
   "cell_type": "code",
   "execution_count": 5,
   "metadata": {
    "vscode": {
     "languageId": "r"
    }
   },
   "outputs": [
    {
     "name": "stdout",
     "output_type": "stream",
     "text": [
      "── \u001b[1mAttaching core tidyverse packages\u001b[22m ──────────────────────── tidyverse 2.0.0 ──\n",
      "\u001b[32m✔\u001b[39m \u001b[34mdplyr    \u001b[39m 1.1.4     \u001b[32m✔\u001b[39m \u001b[34mreadr    \u001b[39m 2.1.5\n",
      "\u001b[32m✔\u001b[39m \u001b[34mforcats  \u001b[39m 1.0.0     \u001b[32m✔\u001b[39m \u001b[34mstringr  \u001b[39m 1.5.1\n",
      "\u001b[32m✔\u001b[39m \u001b[34mggplot2  \u001b[39m 3.5.1     \u001b[32m✔\u001b[39m \u001b[34mtibble   \u001b[39m 3.2.1\n",
      "\u001b[32m✔\u001b[39m \u001b[34mlubridate\u001b[39m 1.9.4     \u001b[32m✔\u001b[39m \u001b[34mtidyr    \u001b[39m 1.3.1\n",
      "\u001b[32m✔\u001b[39m \u001b[34mpurrr    \u001b[39m 1.0.2     \n",
      "── \u001b[1mConflicts\u001b[22m ────────────────────────────────────────── tidyverse_conflicts() ──\n",
      "\u001b[31m✖\u001b[39m \u001b[34mdplyr\u001b[39m::\u001b[32mfilter()\u001b[39m masks \u001b[34mstats\u001b[39m::filter()\n",
      "\u001b[31m✖\u001b[39m \u001b[34mdplyr\u001b[39m::\u001b[32mlag()\u001b[39m    masks \u001b[34mstats\u001b[39m::lag()\n",
      "\u001b[31m✖\u001b[39m \u001b[34mdplyr\u001b[39m::\u001b[32mselect()\u001b[39m masks \u001b[34mMASS\u001b[39m::select()\n",
      "\u001b[36mℹ\u001b[39m Use the \u001b]8;;http://conflicted.r-lib.org/\u0007conflicted package\u001b]8;;\u0007 to force all conflicts to become errors\n"
     ]
    }
   ],
   "source": [
    "library(tidyverse)"
   ]
  },
  {
   "cell_type": "code",
   "execution_count": 23,
   "metadata": {
    "vscode": {
     "languageId": "r"
    }
   },
   "outputs": [
    {
     "data": {
      "text/plain": [
       "\u001b[38;5;246m# A tibble: 4 × 1\u001b[39m\n",
       "  rating83c \n",
       "  \u001b[3m\u001b[38;5;246m<dbl+lbl>\u001b[39m\u001b[23m \n",
       "\u001b[38;5;250m1\u001b[39m 2\u001b[38;5;246m [BA_B_C]\u001b[39m\n",
       "\u001b[38;5;250m2\u001b[39m 3\u001b[38;5;246m [BAA]\u001b[39m   \n",
       "\u001b[38;5;250m3\u001b[39m 4\u001b[38;5;246m [AA_A]\u001b[39m  \n",
       "\u001b[38;5;250m4\u001b[39m 5\u001b[38;5;246m [AAA]\u001b[39m   "
      ]
     },
     "execution_count": null,
     "metadata": {},
     "output_type": "execute_result"
    }
   ],
   "source": [
    "panel84extract |> \n",
    "  distinct(rating83c)"
   ]
  },
  {
   "cell_type": "code",
   "execution_count": 27,
   "metadata": {
    "vscode": {
     "languageId": "r"
    }
   },
   "outputs": [],
   "source": [
    "# 因变量转化为有序因子\n",
    "panel84extract <- panel84extract |> \n",
    "  mutate(\n",
    "    rating83c = ordered(rating83c, levels = c(2, 3, 4 ,5))\n",
    "  )"
   ]
  },
  {
   "cell_type": "code",
   "execution_count": 28,
   "metadata": {
    "vscode": {
     "languageId": "r"
    }
   },
   "outputs": [
    {
     "name": "stdout",
     "output_type": "stream",
     "text": [
      "\n",
      "Re-fitting to get Hessian\n",
      "\n"
     ]
    },
    {
     "data": {
      "text/plain": [
       "Call:\n",
       "polr(formula = rating83c ~ ia83 + dia, data = panel84extract, \n",
       "    method = \"probit\")\n",
       "\n",
       "Coefficients:\n",
       "        Value Std. Error t value\n",
       "ia83  0.05125    0.01673   3.064\n",
       "dia  -0.04961    0.02544  -1.950\n",
       "\n",
       "Intercepts:\n",
       "    Value   Std. Error t value\n",
       "2|3 -0.1877  0.2048    -0.9165\n",
       "3|4  0.6345  0.2157     2.9415\n",
       "4|5  1.0645  0.2232     4.7696\n",
       "\n",
       "Residual Deviance: 255.7551 \n",
       "AIC: 265.7551 "
      ]
     },
     "execution_count": null,
     "metadata": {},
     "output_type": "execute_result"
    }
   ],
   "source": [
    "library(MASS)\n",
    "\n",
    "fit_oprobit <- polr(\n",
    "  rating83c ~ ia83 + dia,\n",
    "  data = panel84extract,\n",
    "  method = \"probit\"\n",
    ")\n",
    "\n",
    "summary(fit_oprobit)"
   ]
  },
  {
   "cell_type": "code",
   "execution_count": null,
   "metadata": {
    "vscode": {
     "languageId": "r"
    }
   },
   "outputs": [
    {
     "name": "stdout",
     "output_type": "stream",
     "text": [
      "Waiting for profiling to be done...\n",
      "\n",
      "Re-fitting to get Hessian\n",
      "\n"
     ]
    },
    {
     "data": {
      "text/plain": [
       "           2.5 %       97.5 %\n",
       "ia83  0.01865660 0.0842657673\n",
       "dia  -0.09964345 0.0001242498"
      ]
     },
     "execution_count": null,
     "metadata": {},
     "output_type": "execute_result"
    }
   ],
   "source": [
    "# 输出置信区间\n",
    "confint(fit_oprobit)"
   ]
  },
  {
   "cell_type": "code",
   "execution_count": 35,
   "metadata": {
    "vscode": {
     "languageId": "r"
    }
   },
   "outputs": [
    {
     "data": {
      "text/plain": [
       "            2         3          4          5\n",
       "1  0.25308014 0.3094463 0.15901938 0.27845416\n",
       "2  0.30384972 0.3174310 0.14873791 0.22998139\n",
       "3  0.18029263 0.2830388 0.16899367 0.36767489\n",
       "4  0.20225825 0.2932035 0.16681547 0.33772277\n",
       "5  0.12352282 0.2451581 0.16904771 0.46227134\n",
       "6  0.30597296 0.3176115 0.14827080 0.22814478\n",
       "7  0.21056564 0.2965136 0.16577487 0.32714584\n",
       "8  0.14009186 0.2582272 0.17010432 0.43157666\n",
       "9  0.30785109 0.3177616 0.14785559 0.22653175\n",
       "10 0.08534926 0.2065803 0.16122532 0.54684515\n",
       "11 0.26101181 0.3111878 0.15754442 0.27025596\n",
       "12 0.31962162 0.3185025 0.14521239 0.21666352\n",
       "13 0.13595659 0.2551403 0.16994084 0.43896223\n",
       "14 0.33022512 0.3188833 0.14277582 0.20811573\n",
       "15 0.32209485 0.3186152 0.14464852 0.21464145\n",
       "16 0.40543154 0.3145859 0.12444180 0.15554071\n",
       "17 0.11758378 0.2399921 0.16838334 0.47404082\n",
       "18 0.38815926 0.3165820 0.12877359 0.16648514\n",
       "19 0.28625501 0.3154827 0.15250743 0.24575488\n",
       "20 0.45067112 0.3068154 0.11291734 0.12959613\n",
       "21 0.20731736 0.2952524 0.16619452 0.33123572\n",
       "22 0.40126584 0.3151186 0.12549112 0.15812441\n",
       "23 0.32381753 0.3186850 0.14425413 0.21324329\n",
       "24 0.09113749 0.2133361 0.16304268 0.53248370\n",
       "25 0.23934140 0.3059539 0.16143083 0.29327389\n",
       "26 0.23819997 0.3056356 0.16162231 0.29454213\n",
       "27 0.31299919 0.3181277 0.14670801 0.22216513\n",
       "28 0.19166510 0.2885672 0.16797739 0.35179029\n",
       "29 0.08281176 0.2034979 0.16033784 0.55335246\n",
       "30 0.34161015 0.3190017 0.14010810 0.19928007\n",
       "31 0.03282816 0.1213786 0.12389343 0.72189984\n",
       "32 0.24803427 0.3082352 0.15992713 0.28380340\n",
       "33 0.33665358 0.3189864 0.14127566 0.20308435\n",
       "34 0.22780914 0.3025310 0.16329716 0.30636272\n",
       "35 0.22298073 0.3009578 0.16403099 0.31203046\n",
       "36 0.13656284 0.2555999 0.16996872 0.43786856\n",
       "37 0.27796761 0.3142745 0.15421376 0.25354410\n",
       "38 0.13901879 0.2574368 0.17006784 0.43347655\n",
       "39 0.30493144 0.3175244 0.14850024 0.22904396\n",
       "40 0.28287725 0.3150134 0.15320864 0.24890074\n",
       "41 0.56991799 0.2710324 0.08246606 0.07658354\n",
       "42 0.46604209 0.3033917 0.10897022 0.12159603\n",
       "43 0.32196008 0.3186094 0.14467932 0.21475118\n",
       "44 0.13850719 0.2570574 0.17004899 0.43438640\n",
       "45 0.19915873 0.2918962 0.16717541 0.34176963\n",
       "46 0.37494002 0.3177215 0.13205000 0.17528850\n",
       "47 0.14316806 0.2604522 0.17018660 0.42619312\n",
       "48 0.28212479 0.3149045 0.15336379 0.24960691\n",
       "49 0.21393266 0.2977772 0.16532332 0.32296686\n",
       "50 0.36053388 0.3185627 0.13557296 0.18533044\n",
       "51 0.30992811 0.3179172 0.14739424 0.22476042\n",
       "52 0.14367632 0.2608141 0.17019708 0.42531248\n",
       "53 0.27434999 0.3136865 0.15494321 0.25702033\n",
       "54 0.26181191 0.3113527 0.15739253 0.26944286\n",
       "55 0.32269593 0.3186404 0.14451106 0.21415265\n",
       "56 0.30122019 0.3171915 0.14931295 0.23227540\n",
       "57 0.08158833 0.2019844 0.15988886 0.55653846\n",
       "58 0.12305905 0.2447644 0.16900172 0.46317486\n",
       "59 0.12949848 0.2500911 0.16955609 0.45085432\n",
       "60 0.34633979 0.3189651 0.13898569 0.19570947\n",
       "61 0.39753912 0.3155678 0.12642751 0.16046556\n",
       "62 0.31881030 0.3184623 0.14539674 0.21733066\n",
       "63 0.17691216 0.2812794 0.16924487 0.37256354\n",
       "64 0.13126341 0.2514994 0.16967758 0.44755959\n",
       "65 0.33337205 0.3189457 0.14204350 0.20563880\n",
       "66 0.29613493 0.3166774 0.15041378 0.23677386\n",
       "67 0.66985182 0.2266216 0.05818183 0.04534470\n",
       "68 0.46892325 0.3027079 0.10822970 0.12013916\n",
       "69 0.16143023 0.2724946 0.17005866 0.39601654\n",
       "70 0.07914795 0.1989102 0.15895048 0.56299138\n",
       "71 0.29031525 0.3160055 0.15165451 0.24202478\n",
       "72 0.17773895 0.2817148 0.16918571 0.37136054\n",
       "73 0.16304572 0.2734693 0.17000146 0.39348351\n",
       "74 0.33115927 0.3189042 0.14255885 0.20737765\n",
       "75 0.23125366 0.3036020 0.16275599 0.30238830\n",
       "76 0.21380408 0.2977297 0.16534087 0.32312534\n",
       "77 0.12844026 0.2492362 0.16947713 0.45284637\n",
       "78 0.26778511 0.3125226 0.15624148 0.26345083\n",
       "79 0.29707622 0.3167777 0.15021116 0.23593494\n",
       "80 0.15094612 0.2658183 0.17025489 0.41298067\n",
       "81 0.20348737 0.2937109 0.16666836 0.33613337\n",
       "82 0.41860327 0.3126930 0.12110785 0.14759585\n",
       "83 0.24566576 0.3076383 0.16034458 0.28635132\n",
       "84 0.26229318 0.3114509 0.15730090 0.26895497\n",
       "85 0.23822269 0.3056420 0.16161852 0.29451683\n",
       "86 0.24500069 0.3074674 0.16046078 0.28707108\n",
       "87 0.22929072 0.3029968 0.16306615 0.30464628\n",
       "88 0.31344422 0.3181562 0.14660817 0.22179138\n",
       "89 0.30391347 0.3174366 0.14872392 0.22992604\n",
       "90 0.41266330 0.3135855 0.12261416 0.15113704\n",
       "91 0.51036825 0.2914680 0.09758493 0.10057879\n",
       "92 0.24881496 0.3084279 0.15978831 0.28296880\n",
       "93 0.46115599 0.3045212 0.11022570 0.12409715\n",
       "94 0.22762546 0.3024727 0.16332561 0.30657625\n",
       "95 0.29181563 0.3161874 0.15133665 0.24066036\n",
       "96 0.34015191 0.3190029 0.14045254 0.20039261\n",
       "97 0.20275166 0.2934079 0.16675671 0.33708369\n",
       "98 0.35791988 0.3186692 0.13620612 0.18720481"
      ]
     },
     "execution_count": null,
     "metadata": {},
     "output_type": "execute_result"
    }
   ],
   "source": [
    "# 输出预测值\n",
    "predict(fit_oprobit, type = \"p\")"
   ]
  },
  {
   "cell_type": "code",
   "execution_count": 37,
   "metadata": {
    "vscode": {
     "languageId": "r"
    }
   },
   "outputs": [
    {
     "name": "stdout",
     "output_type": "stream",
     "text": [
      "\n",
      "Re-fitting to get Hessian\n",
      "\n"
     ]
    },
    {
     "data": {
      "text/plain": [
       "Call:\n",
       "polr(formula = rating83c ~ ia83 + dia, data = panel84extract, \n",
       "    method = \"logistic\")\n",
       "\n",
       "Coefficients:\n",
       "        Value Std. Error t value\n",
       "ia83  0.09392    0.02962   3.171\n",
       "dia  -0.08669    0.04498  -1.927\n",
       "\n",
       "Intercepts:\n",
       "    Value   Std. Error t value\n",
       "2|3 -0.1853  0.3571    -0.5188\n",
       "3|4  1.1857  0.3882     3.0544\n",
       "4|5  1.9084  0.4165     4.5822\n",
       "\n",
       "Residual Deviance: 254.5429 \n",
       "AIC: 264.5429 "
      ]
     },
     "execution_count": null,
     "metadata": {},
     "output_type": "execute_result"
    }
   ],
   "source": [
    "library(MASS)\n",
    "\n",
    "fit_oprobit <- polr(\n",
    "  rating83c ~ ia83 + dia,\n",
    "  data = panel84extract,\n",
    "  method = \"logistic\"\n",
    ")\n",
    "\n",
    "summary(fit_oprobit)"
   ]
  },
  {
   "cell_type": "markdown",
   "metadata": {},
   "source": [
    "# 泊松回归"
   ]
  },
  {
   "cell_type": "code",
   "execution_count": 38,
   "metadata": {
    "vscode": {
     "languageId": "r"
    }
   },
   "outputs": [
    {
     "data": {
      "text/plain": [
       "\u001b[38;5;246m# A tibble: 2,725 × 16\u001b[39m\n",
       "   narr86 nfarr86 nparr86  pcnv avgsen tottime ptime86 qemp86  inc86 durat black\n",
       "    \u001b[3m\u001b[38;5;246m<dbl>\u001b[39m\u001b[23m   \u001b[3m\u001b[38;5;246m<dbl>\u001b[39m\u001b[23m   \u001b[3m\u001b[38;5;246m<dbl>\u001b[39m\u001b[23m \u001b[3m\u001b[38;5;246m<dbl>\u001b[39m\u001b[23m  \u001b[3m\u001b[38;5;246m<dbl>\u001b[39m\u001b[23m   \u001b[3m\u001b[38;5;246m<dbl>\u001b[39m\u001b[23m   \u001b[3m\u001b[38;5;246m<dbl>\u001b[39m\u001b[23m  \u001b[3m\u001b[38;5;246m<dbl>\u001b[39m\u001b[23m  \u001b[3m\u001b[38;5;246m<dbl>\u001b[39m\u001b[23m \u001b[3m\u001b[38;5;246m<dbl>\u001b[39m\u001b[23m \u001b[3m\u001b[38;5;246m<dbl>\u001b[39m\u001b[23m\n",
       "\u001b[38;5;250m 1\u001b[39m      0       0       0 0.380   17.6    35.2      12      0  0       0       0\n",
       "\u001b[38;5;250m 2\u001b[39m      2       2       0 0.440    0       0         0      1  0.800   0       0\n",
       "\u001b[38;5;250m 3\u001b[39m      1       1       0 0.330   22.8    22.8       0      0  0      11       1\n",
       "\u001b[38;5;250m 4\u001b[39m      2       2       1 0.25     0       0         5      2  8.80    0       0\n",
       "\u001b[38;5;250m 5\u001b[39m      1       1       0 0        0       0         0      2  8.10    1       0\n",
       "\u001b[38;5;250m 6\u001b[39m      0       0       0 1        0       0         0      4 97.6     0       0\n",
       "\u001b[38;5;250m 7\u001b[39m      2       2       1 0.440    0       0         0      0  0       1       1\n",
       "\u001b[38;5;250m 8\u001b[39m      5       3       5 0.75     0       0         0      0  0       3       0\n",
       "\u001b[38;5;250m 9\u001b[39m      0       0       0 0.330   10.9    21.8       9      0  0      19.3     1\n",
       "\u001b[38;5;250m10\u001b[39m      0       0       0 0.230    0       0         0      3 16.7     0       0\n",
       "\u001b[38;5;246m# ℹ 2,715 more rows\u001b[39m\n",
       "\u001b[38;5;246m# ℹ 5 more variables: hispan <dbl>, born60 <dbl>, pcnvsq <dbl>, pt86sq <dbl>,\u001b[39m\n",
       "\u001b[38;5;246m#   inc86sq <dbl>\u001b[39m\n",
       "\u001b[38;5;246m# ℹ Use `print(n = ...)` to see more rows\u001b[39m"
      ]
     },
     "execution_count": null,
     "metadata": {},
     "output_type": "execute_result"
    }
   ],
   "source": [
    "# 导入数据集\n",
    "library(haven)\n",
    "CRIME1 <- read_dta(\"stata_data/CRIME1.DTA\")\n",
    "CRIME1"
   ]
  },
  {
   "cell_type": "code",
   "execution_count": 39,
   "metadata": {
    "vscode": {
     "languageId": "r"
    }
   },
   "outputs": [
    {
     "data": {
      "image/png": "[encoded data removed]"
     },
     "metadata": {},
     "output_type": "display_data"
    }
   ],
   "source": [
    "hist(CRIME1$narr86)"
   ]
  },
  {
   "cell_type": "code",
   "execution_count": 42,
   "metadata": {
    "vscode": {
     "languageId": "r"
    }
   },
   "outputs": [
    {
     "data": {
      "text/plain": [
       "\n",
       "Call:\n",
       "glm(formula = narr86 ~ pcnv + avgsen + tottime + ptime86 + qemp86 + \n",
       "    inc86 + black + hispan + born60, family = poisson(link = \"log\"), \n",
       "    data = CRIME1)\n",
       "\n",
       "Coefficients:\n",
       "             Estimate Std. Error z value Pr(>|z|)    \n",
       "(Intercept) -0.599589   0.067250  -8.916  < 2e-16 ***\n",
       "pcnv        -0.401571   0.084971  -4.726 2.29e-06 ***\n",
       "avgsen      -0.023772   0.019946  -1.192   0.2333    \n",
       "tottime      0.024490   0.014750   1.660   0.0969 .  \n",
       "ptime86     -0.098558   0.020695  -4.763 1.91e-06 ***\n",
       "qemp86      -0.038019   0.029024  -1.310   0.1902    \n",
       "inc86       -0.008081   0.001041  -7.762 8.34e-15 ***\n",
       "black        0.660838   0.073834   8.950  < 2e-16 ***\n",
       "hispan       0.499813   0.073927   6.761 1.37e-11 ***\n",
       "born60      -0.051029   0.064052  -0.797   0.4256    \n",
       "---\n",
       "Signif. codes:  0 ‘***’ 0.001 ‘**’ 0.01 ‘*’ 0.05 ‘.’ 0.1 ‘ ’ 1\n",
       "\n",
       "(Dispersion parameter for poisson family taken to be 1)\n",
       "\n",
       "    Null deviance: 3208.5  on 2724  degrees of freedom\n",
       "Residual deviance: 2822.2  on 2715  degrees of freedom\n",
       "AIC: 4517.5\n",
       "\n",
       "Number of Fisher Scoring iterations: 6\n"
      ]
     },
     "execution_count": null,
     "metadata": {},
     "output_type": "execute_result"
    }
   ],
   "source": [
    "# 进行泊松回归\n",
    "fit_possion <- glm(\n",
    "  narr86 ~ pcnv + avgsen + tottime + ptime86 + qemp86 + inc86 + black + hispan + born60,\n",
    "  data = CRIME1,\n",
    "  family = poisson(link = \"log\")\n",
    ")\n",
    "\n",
    "summary(fit_possion)"
   ]
  },
  {
   "cell_type": "code",
   "execution_count": 46,
   "metadata": {
    "vscode": {
     "languageId": "r"
    }
   },
   "outputs": [
    {
     "data": {
      "text/plain": [
       "\n",
       "z test of coefficients:\n",
       "\n",
       "              Estimate Std. Error z value  Pr(>|z|)    \n",
       "(Intercept) -0.5995888  0.0894943 -6.6997 2.088e-11 ***\n",
       "pcnv        -0.4015713  0.1013294 -3.9630 7.401e-05 ***\n",
       "avgsen      -0.0237723  0.0236469 -1.0053    0.3148    \n",
       "tottime      0.0244904  0.0205362  1.1925    0.2330    \n",
       "ptime86     -0.0985584  0.0223404 -4.4117 1.026e-05 ***\n",
       "qemp86      -0.0380187  0.0342074 -1.1114    0.2664    \n",
       "inc86       -0.0080807  0.0012296 -6.5717 4.975e-11 ***\n",
       "black        0.6608376  0.0996219  6.6335 3.279e-11 ***\n",
       "hispan       0.4998133  0.0925404  5.4010 6.626e-08 ***\n",
       "born60      -0.0510286  0.0812747 -0.6279    0.5301    \n",
       "---\n",
       "Signif. codes:  0 ‘***’ 0.001 ‘**’ 0.01 ‘*’ 0.05 ‘.’ 0.1 ‘ ’ 1\n"
      ]
     },
     "execution_count": null,
     "metadata": {},
     "output_type": "execute_result"
    }
   ],
   "source": [
    "# 使用稳健标准误\n",
    "library(sandwich)\n",
    "robust_se <- vcovHC(fit_possion, type = \"HC1\")\n",
    "\n",
    "library(lmtest)\n",
    "coeftest(fit_possion, robust_se)"
   ]
  },
  {
   "cell_type": "code",
   "execution_count": null,
   "metadata": {
    "vscode": {
     "languageId": "r"
    }
   },
   "outputs": [],
   "source": []
  }
 ],
 "metadata": {
  "language_info": {
   "name": "plaintext"
  }
 },
 "nbformat": 4,
 "nbformat_minor": 2
}

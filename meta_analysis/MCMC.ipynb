{
 "cells": [
  {
   "cell_type": "markdown",
   "metadata": {},
   "source": [
    "此处学习 MCMC 法，使用 Gibbs 采样法实现。"
   ]
  },
  {
   "cell_type": "markdown",
   "metadata": {},
   "source": [
    "# 正态分布"
   ]
  },
  {
   "cell_type": "code",
   "execution_count": 3,
   "metadata": {
    "vscode": {
     "languageId": "r"
    }
   },
   "outputs": [],
   "source": [
    "# 给出观测值和其他参数，更新参数mu\n",
    "update_mu <- function(X, sigma2, prior){\n",
    "  # X是样本数据，sigma2是上一步迭代中的sigma，prior是超参数的先验值\n",
    "  n = length(X)\n",
    "  sumX = sum(X)\n",
    "  tmp = 1 / (n/sigma2 + 1/prior[2]) # 计算mu的后验分布方差\n",
    "  mu_n = (sumX/sigma2 + prior[1]/prior[2]) * tmp # 计算mu的后验分布均值\n",
    "  sigma_n = sqrt(tmp) # mu的后验分布标准差\n",
    "  # 返回一个从mu的后验分布中的抽样值作为mu的更新值\n",
    "  return(rnorm(1, mu_n, sigma_n))\n",
    "}"
   ]
  },
  {
   "cell_type": "code",
   "execution_count": 4,
   "metadata": {
    "vscode": {
     "languageId": "r"
    }
   },
   "outputs": [],
   "source": [
    "# 给出观测值和其他参数，更新参数sigma2\n",
    "update_sigma2 <- function(X, mu, prior){\n",
    "  # X是样本数据，mu是上一步迭代中的mu，prior是超参数的先验值\n",
    "  n = length(X)\n",
    "  shape = 0.5*n +prior[1]  # sigma2的后验分布形状参数\n",
    "  scale = sum((X-mu)^2)\n",
    "  scale = scale/2 + prior[2]  # sigma2的后验分布尺度参数\n",
    "  # 返回一个从sigma2的后验分布中的抽样值即为sigma2的更新值\n",
    "  return(1/rgamma(1, shape, scale))\n",
    "}"
   ]
  },
  {
   "cell_type": "code",
   "execution_count": 5,
   "metadata": {
    "vscode": {
     "languageId": "r"
    }
   },
   "outputs": [],
   "source": [
    "MCMC_Gaussian <- function(X, n_sample, burn_in, thin, init, prior_mu, prior_sigma){\n",
    "  # X是输入数据\n",
    "  # n_sample是采样数量\n",
    "  # brun_in是燃烧期，MCMC法需要抛弃最开始的样本\n",
    "  # thin是保存的间隔数，因为原理是马氏链，相邻样本是相关的\n",
    "  # init是参数初始值\n",
    "  # prior_mu是mu的先验分布中的超参数值\n",
    "  # prior_sigma是sigma2 的先验分布中的超参数值\n",
    "\n",
    "  # 预先生成向量，加快代码速度\n",
    "  mu_sample = rep(0, n_sample)\n",
    "  sigma2_sample = rep(0, n_sample)\n",
    "\n",
    "  # 赋予初值\n",
    "  mu = init[1]\n",
    "  sigma2 = init[2]\n",
    "\n",
    "  # 燃烧期\n",
    "  # 区分燃烧期和采样期，加快代码运行速度\n",
    "  for (i in 1:burn_in){\n",
    "    # 反复更新采样后验均值和方差\n",
    "    mu = update_mu(X, sigma2, prior_mu)\n",
    "    sigma2 = update_sigma2(X, mu, prior_sigma)\n",
    "\n",
    "    # 检查采样间隔，thin不能小于 1\n",
    "    if (thin < 1) thin = 1\n",
    "\n",
    "    # 开始采样\n",
    "    for (i in 1:n_sample){\n",
    "      for (j in 1:thin){\n",
    "        mu = update_mu(X, sigma2, prior_mu)\n",
    "        sigma2 = update_sigma2(X, mu, prior_sigma)\n",
    "      }\n",
    "      mu_sample[i] = mu\n",
    "      sigma2_sample[i] = sigma2\n",
    "    }\n",
    "\n",
    "    # 输出列表\n",
    "    # out[[1]]是mu的模拟值\n",
    "    # out[[2]]是sigma2 的模拟值\n",
    "    out = list(mu = mu_sample, sigma2 = sigma2_sample)\n",
    "    return(out)\n",
    "  }\n",
    "}"
   ]
  },
  {
   "cell_type": "code",
   "execution_count": 12,
   "metadata": {
    "vscode": {
     "languageId": "r"
    }
   },
   "outputs": [],
   "source": [
    "# 设置种子，便于复现\n",
    "set.seed(1234)\n",
    "\n",
    "#模拟从一个均值为1，方差为4的正态分布中抽样\n",
    "a = rnorm(5000,1,2)  \n",
    "res = MCMC_Gaussian(\n",
    "  a,\n",
    "  n_sample = 100000,\n",
    "  burn_in = 20000,\n",
    "  thin = 10,\n",
    "  init = c(10, 10),\n",
    "  prior_mu = c(0, 100),\n",
    "  prior_sigma = c(1, 1)\n",
    ")\n",
    "#返回结果res为一个列表"
   ]
  },
  {
   "cell_type": "code",
   "execution_count": 19,
   "metadata": {
    "vscode": {
     "languageId": "r"
    }
   },
   "outputs": [
    {
     "data": {
      "text/plain": [
       "[1] 0.9873263"
      ]
     },
     "execution_count": null,
     "metadata": {},
     "output_type": "execute_result"
    }
   ],
   "source": [
    "mean(res[[1]])"
   ]
  },
  {
   "cell_type": "code",
   "execution_count": 18,
   "metadata": {
    "vscode": {
     "languageId": "r"
    }
   },
   "outputs": [
    {
     "data": {
      "text/plain": [
       "[1] 3.931305"
      ]
     },
     "execution_count": null,
     "metadata": {},
     "output_type": "execute_result"
    }
   ],
   "source": [
    "mean(res[[2]])"
   ]
  }
 ],
 "metadata": {
  "language_info": {
   "name": "plaintext"
  }
 },
 "nbformat": 4,
 "nbformat_minor": 2
}

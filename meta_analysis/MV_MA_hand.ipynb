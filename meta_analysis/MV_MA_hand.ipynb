{
 "cells": [
  {
   "cell_type": "markdown",
   "metadata": {},
   "source": [
    "多变量Meta分析，不多说手搓！"
   ]
  },
  {
   "cell_type": "code",
   "execution_count": 1,
   "metadata": {
    "vscode": {
     "languageId": "r"
    }
   },
   "outputs": [
    {
     "name": "stderr",
     "output_type": "stream",
     "text": [
      "Loading required package: rjags\n",
      "\n",
      "Loading required package: coda\n",
      "\n",
      "Linked to JAGS 4.3.2\n",
      "\n",
      "Loaded modules: basemod,bugs\n",
      "\n",
      "\n",
      "Attaching package: 'R2jags'\n",
      "\n",
      "\n",
      "The following object is masked from 'package:coda':\n",
      "\n",
      "    traceplot\n",
      "\n",
      "\n"
     ]
    }
   ],
   "source": [
    "# 导入必要的包\n",
    "library(R2jags)"
   ]
  },
  {
   "cell_type": "markdown",
   "metadata": {},
   "source": [
    "## 研究内相关性已知-随机效应模型"
   ]
  },
  {
   "cell_type": "code",
   "execution_count": 49,
   "metadata": {
    "vscode": {
     "languageId": "r"
    }
   },
   "outputs": [],
   "source": [
    "# 录入数据\n",
    "fulldata <- list(\n",
    "  n = 5,  # 研究数量\n",
    "  p = 2,  # 结局数量\n",
    "  y1 = c(0.47, 0.2, 0.4, 0.26, 0.56),  # PD组均数\n",
    "  y2 = c(-0.32, -0.6, -0.12, -0.31, -0.39),  # AL组均数\n",
    "  s1 = c(0.0075, 0.0057, 0.0021, 0.0029, 0.0148),  # PD组方差\n",
    "  s2 = c(0.0077, 0.0008, 0.0014, 0.0015, 0.0304),  # AL组方差\n",
    "  s12 = c(0.003, 0.0009, 0.0007, 0.0009, 0.0072)  # PD组和AL组的协方差\n",
    ")"
   ]
  },
  {
   "cell_type": "code",
   "execution_count": 18,
   "metadata": {
    "vscode": {
     "languageId": "r"
    }
   },
   "outputs": [],
   "source": [
    "# 设置汇报参数\n",
    "params <- c(\"mean[1]\", \"mean[2]\", \"tau2[1]\", \"tau2[2]\")"
   ]
  },
  {
   "cell_type": "code",
   "execution_count": 55,
   "metadata": {
    "vscode": {
     "languageId": "r"
    }
   },
   "outputs": [],
   "source": [
    "# 构建模型\n",
    "model <- function() {\n",
    "  # 第一层模型构建，真实效应到观察效应\n",
    "  for (i in 1:n){\n",
    "    # 先抽取y1\n",
    "    w1[i] <- 1 / s1[i]\n",
    "    y1[i] ~ dnorm(m[i, 1], w1[i])  # m[i, 1]是未知参数\n",
    "\n",
    "    # 再抽取y2，条件分布y2|y1\n",
    "    rho[i] <- s12[i] / sqrt(s1[i] * s2[i])\n",
    "    m_y[i] <- m[i, 2] +\n",
    "              rho[i] * sqrt(s2[i]) / sqrt(s1[i]) * (y1[i] - m[i, 1])  # m[i, 2]是未知参数\n",
    "    var_y[i] <- s2[i] * (1 - rho[i]^2)\n",
    "    w2[i] <- 1 / var_y[i]\n",
    "    y2[i] ~ dnorm(m_y[i], w2[i])\n",
    "  }\n",
    "\n",
    "  # 第二层模型构建，真实效应抽样\n",
    "  for (i in 1:n) {\n",
    "    # 先抽取m[i, 1]\n",
    "\n",
    "    m[i, 1] ~ dnorm(mean[1], w[1])\n",
    "\n",
    "    # 再抽取m[i, 2]\n",
    "    m_m[i] <- mean[2] + rho_tau * sqrt(tau2[2]) / sqrt(tau2[1]) * (m[i, 1] - mean[1])\n",
    "    m[i, 2] ~ dnorm(m_m[i], w_m)\n",
    "  }\n",
    "  # 方差不需要循环建模\n",
    "  var_m <- tau2[2] * (1 - rho_tau^2)\n",
    "  w_m <- 1 / var_m\n",
    "\n",
    "  # 第三层模型构建，先验层\n",
    "  # rho_tau先验分布\n",
    "  a ~ dunif(0, 3.14)\n",
    "  rho_tau <- cos(a)\n",
    "\n",
    "  # mean先验分布\n",
    "  for (j in 1:p) {\n",
    "    mean[j] ~ dnorm(0, 0.001)\n",
    "  }\n",
    "\n",
    "  # tau2先验分布\n",
    "  for (j in 1:p) {\n",
    "    w[j] ~ dunif(0, 100)\n",
    "    tau2[j] <- 1 / w[j]\n",
    "  }\n",
    "}"
   ]
  },
  {
   "cell_type": "code",
   "execution_count": 56,
   "metadata": {
    "vscode": {
     "languageId": "r"
    }
   },
   "outputs": [
    {
     "name": "stdout",
     "output_type": "stream",
     "text": [
      "Compiling model graph\n",
      "   Resolving undeclared variables\n",
      "   Allocating nodes\n",
      "Graph information:\n",
      "   Observed stochastic nodes: 10\n",
      "   Unobserved stochastic nodes: 15\n",
      "   Total graph size: 149\n",
      "\n",
      "Initializing model\n",
      "\n"
     ]
    }
   ],
   "source": [
    "# 设置种子\n",
    "set.seed(12345)\n",
    "\n",
    "# 运行模型\n",
    "result <- jags(\n",
    "  data = fulldata,\n",
    "  inits = NULL,\n",
    "  parameters.to.save = params,\n",
    "  n.chains = 3,\n",
    "  n.iter = 50000,\n",
    "  n.burnin = 20000,\n",
    "  n.thin = 20,\n",
    "  model.file = model\n",
    ")"
   ]
  },
  {
   "cell_type": "code",
   "execution_count": 57,
   "metadata": {
    "vscode": {
     "languageId": "r"
    }
   },
   "outputs": [
    {
     "name": "stdout",
     "output_type": "stream",
     "text": [
      "Inference for Bugs model at \"/var/folders/fv/c0dh9y6s7638rh5fdr3lgcmr0000gn/T//RtmpMIING4/model5e153a3b37a.txt\", fit using jags,\n",
      " 3 chains, each with 50000 iterations (first 20000 discarded), n.thin = 20\n",
      " n.sims = 4500 iterations saved. Running time = 1.328 secs\n",
      "         mu.vect sd.vect    2.5%     25%     50%     75%   97.5%  Rhat n.eff\n",
      "mean[1]    0.359   0.073   0.216   0.313   0.358   0.404   0.504 1.001  4500\n",
      "mean[2]   -0.341   0.094  -0.533  -0.398  -0.341  -0.283  -0.151 1.001  2600\n",
      "tau2[1]    0.021   0.016   0.010   0.012   0.015   0.023   0.059 1.001  4500\n",
      "tau2[2]    0.038   0.037   0.011   0.019   0.028   0.043   0.131 1.002  2200\n",
      "deviance -27.008   4.416 -33.979 -30.300 -27.557 -24.464 -16.999 1.001  4500\n",
      "\n",
      "For each parameter, n.eff is a crude measure of effective sample size,\n",
      "and Rhat is the potential scale reduction factor (at convergence, Rhat=1).\n",
      "\n",
      "DIC info (using the rule: pV = var(deviance)/2)\n",
      "pV = 9.8 and DIC = -17.3\n",
      "DIC is an estimate of expected predictive error (lower deviance is better).\n"
     ]
    }
   ],
   "source": [
    "print(result)"
   ]
  },
  {
   "cell_type": "markdown",
   "metadata": {},
   "source": [
    "# 研究内相关性已知-固定效应模型"
   ]
  },
  {
   "cell_type": "code",
   "execution_count": 58,
   "metadata": {
    "vscode": {
     "languageId": "r"
    }
   },
   "outputs": [
    {
     "name": "stdout",
     "output_type": "stream",
     "text": [
      "Compiling model graph\n",
      "   Resolving undeclared variables\n",
      "   Allocating nodes\n",
      "Graph information:\n",
      "   Observed stochastic nodes: 10\n",
      "   Unobserved stochastic nodes: 2\n",
      "   Total graph size: 108\n",
      "\n",
      "Initializing model\n",
      "\n"
     ]
    },
    {
     "name": "stderr",
     "output_type": "stream",
     "text": [
      "Warning message in FUN(X[[i]], ...):\n",
      "\"Failed to set trace monitor for tau2[1]\n",
      "Variable tau2 not found\n",
      "\"\n",
      "Warning message in FUN(X[[i]], ...):\n",
      "\"Failed to set trace monitor for tau2[2]\n",
      "Variable tau2 not found\n",
      "\"\n"
     ]
    },
    {
     "name": "stdout",
     "output_type": "stream",
     "text": [
      "Inference for Bugs model at \"/var/folders/fv/c0dh9y6s7638rh5fdr3lgcmr0000gn/T//RtmpMIING4/model5e1522b7bb2f.txt\", fit using jags,\n",
      " 3 chains, each with 50000 iterations (first 20000 discarded), n.thin = 20\n",
      " n.sims = 4500 iterations saved. Running time = 0.596 secs\n",
      "         mu.vect sd.vect   2.5%    25%    50%    75%  97.5%  Rhat n.eff\n",
      "mean[1]    0.307   0.029  0.252  0.289  0.307  0.326  0.365 1.001  4500\n",
      "mean[2]   -0.394   0.019 -0.431 -0.406 -0.394 -0.381 -0.358 1.001  4500\n",
      "deviance  92.880   2.039 90.926 91.442 92.245 93.674 98.488 1.001  4500\n",
      "\n",
      "For each parameter, n.eff is a crude measure of effective sample size,\n",
      "and Rhat is the potential scale reduction factor (at convergence, Rhat=1).\n",
      "\n",
      "DIC info (using the rule: pV = var(deviance)/2)\n",
      "pV = 2.1 and DIC = 95.0\n",
      "DIC is an estimate of expected predictive error (lower deviance is better).\n"
     ]
    }
   ],
   "source": [
    "# 导入必要的包\n",
    "library(R2jags)\n",
    "\n",
    "# 录入数据\n",
    "fulldata <- list(\n",
    "  n = 5,  # 研究数量\n",
    "  p = 2,  # 结局数量\n",
    "  y1 = c(0.47, 0.2, 0.4, 0.26, 0.56),  # PD组均数\n",
    "  y2 = c(-0.32, -0.6, -0.12, -0.31, -0.39),  # AL组均数\n",
    "  s1 = c(0.0075, 0.0057, 0.0021, 0.0029, 0.0148),  # PD组方差\n",
    "  s2 = c(0.0077, 0.0008, 0.0014, 0.0015, 0.0304),  # AL组方差\n",
    "  s12 = c(0.003, 0.0009, 0.0007, 0.0009, 0.0072)  # PD组和AL组的协方差\n",
    ")\n",
    "\n",
    "# 设置汇报参数\n",
    "params <- c(\"mean[1]\", \"mean[2]\", \"tau2[1]\", \"tau2[2]\")\n",
    "\n",
    "# 构建模型，固定效应模型\n",
    "model <- function() {\n",
    "  # 第一层模型构建，真实效应到观察效应\n",
    "  for (i in 1:n){\n",
    "    # 先抽取y1\n",
    "    w1[i] <- 1 / s1[i]\n",
    "    y1[i] ~ dnorm(mean[1], w1[i])\n",
    "\n",
    "    # 再抽取y2，条件分布y2|y1\n",
    "    rho[i] <- s12[i] / sqrt(s1[i] * s2[i])\n",
    "    m_y[i] <- mean[2] +\n",
    "              rho[i] * sqrt(s2[i]) / sqrt(s1[i]) * (y1[i] - mean[1])\n",
    "    var_y[i] <- s2[i] * (1 - rho[i]^2)\n",
    "    w2[i] <- 1 / var_y[i]\n",
    "    y2[i] ~ dnorm(m_y[i], w2[i])\n",
    "  }\n",
    "\n",
    "  # 先验层\n",
    "  for (i in 1:p) {\n",
    "    mean[i] ~ dnorm(0, 0.001)\n",
    "  }\n",
    "}\n",
    "\n",
    "# 设置种子\n",
    "set.seed(12345)\n",
    "\n",
    "# 运行模型\n",
    "result <- jags(\n",
    "  data = fulldata,\n",
    "  inits = NULL,\n",
    "  parameters.to.save = params,\n",
    "  n.chains = 3,\n",
    "  n.iter = 50000,\n",
    "  n.burnin = 20000,\n",
    "  n.thin = 20,\n",
    "  model.file = model\n",
    ")\n",
    "\n",
    "print(result)"
   ]
  },
  {
   "cell_type": "markdown",
   "metadata": {},
   "source": [
    "# 研究内相关性未知"
   ]
  },
  {
   "cell_type": "code",
   "execution_count": 61,
   "metadata": {
    "vscode": {
     "languageId": "r"
    }
   },
   "outputs": [
    {
     "name": "stdout",
     "output_type": "stream",
     "text": [
      "Compiling model graph\n",
      "   Resolving undeclared variables\n",
      "   Allocating nodes\n",
      "Graph information:\n",
      "   Observed stochastic nodes: 10\n",
      "   Unobserved stochastic nodes: 20\n",
      "   Total graph size: 134\n",
      "\n",
      "Initializing model\n",
      "\n",
      "Inference for Bugs model at \"/var/folders/fv/c0dh9y6s7638rh5fdr3lgcmr0000gn/T//RtmpMIING4/model5e153a7cf0d0.txt\", fit using jags,\n",
      " 3 chains, each with 50000 iterations (first 20000 discarded), n.thin = 20\n",
      " n.sims = 4500 iterations saved. Running time = 1.626 secs\n",
      "         mu.vect sd.vect    2.5%     25%     50%     75%   97.5%  Rhat n.eff\n",
      "mean[1]    0.361   0.074   0.222   0.313   0.359   0.407   0.515 1.001  4500\n",
      "mean[2]   -0.347   0.094  -0.532  -0.405  -0.346  -0.291  -0.163 1.001  4500\n",
      "tau2[1]    0.021   0.019   0.010   0.012   0.016   0.024   0.063 1.001  4500\n",
      "tau2[2]    0.039   0.077   0.011   0.019   0.028   0.044   0.121 1.001  4500\n",
      "deviance -29.216   4.893 -37.413 -32.722 -29.725 -26.148 -18.563 1.001  2400\n",
      "\n",
      "For each parameter, n.eff is a crude measure of effective sample size,\n",
      "and Rhat is the potential scale reduction factor (at convergence, Rhat=1).\n",
      "\n",
      "DIC info (using the rule: pV = var(deviance)/2)\n",
      "pV = 12.0 and DIC = -17.3\n",
      "DIC is an estimate of expected predictive error (lower deviance is better).\n"
     ]
    }
   ],
   "source": [
    "# 导入必要的包\n",
    "library(R2jags)\n",
    "\n",
    "# 录入数据\n",
    "fulldata <- list(\n",
    "  n = 5,  # 研究数量\n",
    "  p = 2,  # 结局数量\n",
    "  y1 = c(0.47, 0.2, 0.4, 0.26, 0.56),  # PD组均数\n",
    "  y2 = c(-0.32, -0.6, -0.12, -0.31, -0.39),  # AL组均数\n",
    "  s1 = c(0.0075, 0.0057, 0.0021, 0.0029, 0.0148),  # PD组方差\n",
    "  s2 = c(0.0077, 0.0008, 0.0014, 0.0015, 0.0304)  # AL组方差\n",
    ")\n",
    "\n",
    "# 设置汇报参数\n",
    "params <- c(\"mean[1]\", \"mean[2]\", \"tau2[1]\", \"tau2[2]\")\n",
    "\n",
    "# 构建模型，相关性未知rho是变量\n",
    "# 构建模型\n",
    "model <- function() {\n",
    "  # 第一层模型构建，真实效应到观察效应\n",
    "  # 抽取rho\n",
    "  for (i in 1:n){\n",
    "    rho[i] ~ dunif(0, 1)\n",
    "  }\n",
    "\n",
    "  for (i in 1:n){\n",
    "    # 先抽取y1\n",
    "    w1[i] <- 1 / s1[i]\n",
    "    y1[i] ~ dnorm(m[i, 1], w1[i])  # m[i, 1]是未知参数\n",
    "\n",
    "    # 再抽取y2，条件分布y2|y1\n",
    "    m_y[i] <- m[i, 2] +\n",
    "              rho[i] * sqrt(s2[i]) / sqrt(s1[i]) * (y1[i] - m[i, 1])  # m[i, 2]是未知参数\n",
    "    var_y[i] <- s2[i] * (1 - rho[i]^2)\n",
    "    w2[i] <- 1 / var_y[i]\n",
    "    y2[i] ~ dnorm(m_y[i], w2[i])\n",
    "  }\n",
    "\n",
    "  # 第二层模型构建，真实效应抽样\n",
    "  for (i in 1:n) {\n",
    "    # 先抽取m[i, 1]\n",
    "\n",
    "    m[i, 1] ~ dnorm(mean[1], w[1])\n",
    "\n",
    "    # 再抽取m[i, 2]\n",
    "    m_m[i] <- mean[2] + rho_tau * sqrt(tau2[2]) / sqrt(tau2[1]) * (m[i, 1] - mean[1])\n",
    "    m[i, 2] ~ dnorm(m_m[i], w_m)\n",
    "  }\n",
    "  # 方差不需要循环建模\n",
    "  var_m <- tau2[2] * (1 - rho_tau^2)\n",
    "  w_m <- 1 / var_m\n",
    "\n",
    "  # 第三层模型构建，先验层\n",
    "  # rho_tau先验分布\n",
    "  a ~ dunif(0, 3.14)\n",
    "  rho_tau <- cos(a)\n",
    "\n",
    "  # mean先验分布\n",
    "  for (j in 1:p) {\n",
    "    mean[j] ~ dnorm(0, 0.001)\n",
    "  }\n",
    "\n",
    "  # tau2先验分布\n",
    "  for (j in 1:p) {\n",
    "    w[j] ~ dunif(0, 100)\n",
    "    tau2[j] <- 1 / w[j]\n",
    "  }\n",
    "}\n",
    "\n",
    "# 设置种子\n",
    "set.seed(12345)\n",
    "\n",
    "# 运行模型\n",
    "result <- jags(\n",
    "  data = fulldata,\n",
    "  inits = NULL,\n",
    "  parameters.to.save = params,\n",
    "  n.chains = 3,\n",
    "  n.iter = 50000,\n",
    "  n.burnin = 20000,\n",
    "  n.thin = 20,\n",
    "  model.file = model\n",
    ")\n",
    "\n",
    "print(result)"
   ]
  },
  {
   "cell_type": "markdown",
   "metadata": {},
   "source": [
    "# Riley的全相关模型"
   ]
  }
 ],
 "metadata": {
  "kernelspec": {
   "display_name": "R",
   "language": "R",
   "name": "ir"
  },
  "language_info": {
   "codemirror_mode": "r",
   "file_extension": ".r",
   "mimetype": "text/x-r-source",
   "name": "R",
   "pygments_lexer": "r",
   "version": "4.4.2"
  }
 },
 "nbformat": 4,
 "nbformat_minor": 2
}

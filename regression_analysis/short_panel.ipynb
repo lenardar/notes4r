{
 "cells": [
  {
   "cell_type": "markdown",
   "metadata": {},
   "source": [
    "学习使用R语言进行短面板数据分析。"
   ]
  },
  {
   "cell_type": "code",
   "execution_count": 54,
   "metadata": {
    "vscode": {
     "languageId": "r"
    }
   },
   "outputs": [],
   "source": [
    "library(plm)\n",
    "library(tidyverse)\n",
    "library(broom)"
   ]
  },
  {
   "cell_type": "code",
   "execution_count": 55,
   "metadata": {
    "vscode": {
     "languageId": "r"
    }
   },
   "outputs": [
    {
     "name": "stdout",
     "output_type": "stream",
     "text": [
      "Rows: 336\n",
      "Columns: 54\n",
      "$ state      \u001b[3m\u001b[90m<fct>\u001b[39m\u001b[23m AL, AL, AL, AL, AL, AL, AL, AZ, AZ, AZ, AZ, AZ, AZ, AZ, AR,~\n",
      "$ year       \u001b[3m\u001b[90m<int>\u001b[39m\u001b[23m 1982, 1983, 1984, 1985, 1986, 1987, 1988, 1982, 1983, 1984,~\n",
      "$ spircons   \u001b[3m\u001b[90m<dbl>\u001b[39m\u001b[23m 1.37, 1.36, 1.32, 1.28, 1.23, 1.18, 1.17, 1.97, 1.90, 2.14,~\n",
      "$ unrate     \u001b[3m\u001b[90m<dbl>\u001b[39m\u001b[23m 14.4, 13.7, 11.1, 8.9, 9.8, 7.8, 7.2, 9.9, 9.1, 5.0, 6.5, 6~\n",
      "$ perinc     \u001b[3m\u001b[90m<dbl>\u001b[39m\u001b[23m 10544.15, 10732.80, 11108.79, 11332.63, 11661.51, 11944.00,~\n",
      "$ emppop     \u001b[3m\u001b[90m<dbl>\u001b[39m\u001b[23m 50.69204, 52.14703, 54.16809, 55.27114, 56.51450, 57.50988,~\n",
      "$ beertax    \u001b[3m\u001b[90m<dbl>\u001b[39m\u001b[23m 1.53937948, 1.78899074, 1.71428561, 1.65254235, 1.60990703,~\n",
      "$ sobapt     \u001b[3m\u001b[90m<dbl>\u001b[39m\u001b[23m 30.3557, 30.3336, 30.3115, 30.2895, 30.2674, 30.2453, 30.22~\n",
      "$ mormon     \u001b[3m\u001b[90m<dbl>\u001b[39m\u001b[23m 0.32829, 0.34341, 0.35924, 0.37579, 0.39311, 0.41123, 0.430~\n",
      "$ mlda       \u001b[3m\u001b[90m<dbl>\u001b[39m\u001b[23m 19.00, 19.00, 19.00, 19.67, 21.00, 21.00, 21.00, 19.00, 19.~\n",
      "$ dry        \u001b[3m\u001b[90m<dbl>\u001b[39m\u001b[23m 25.0063, 22.9942, 24.0426, 23.6339, 23.4647, 23.7924, 23.79~\n",
      "$ yngdrv     \u001b[3m\u001b[90m<dbl>\u001b[39m\u001b[23m 0.211572, 0.210768, 0.211484, 0.211140, 0.213400, 0.215527,~\n",
      "$ vmiles     \u001b[3m\u001b[90m<dbl>\u001b[39m\u001b[23m 7233.887, 7836.348, 8262.990, 8726.917, 8952.854, 9166.302,~\n",
      "$ breath     \u001b[3m\u001b[90m<int>\u001b[39m\u001b[23m 0, 0, 0, 0, 0, 0, 0, 0, 0, 0, 0, 0, 0, 0, 0, 0, 0, 0, 0, 0,~\n",
      "$ jaild      \u001b[3m\u001b[90m<int>\u001b[39m\u001b[23m 0, 0, 0, 0, 0, 0, 0, 1, 1, 1, 1, 1, 1, 1, 0, 0, 0, 0, 0, 0,~\n",
      "$ comserd    \u001b[3m\u001b[90m<int>\u001b[39m\u001b[23m 0, 0, 0, 0, 0, 0, 0, 1, 1, 1, 1, 1, 1, 1, 0, 0, 0, 0, 0, 0,~\n",
      "$ allmort    \u001b[3m\u001b[90m<int>\u001b[39m\u001b[23m 839, 930, 932, 882, 1081, 1110, 1023, 724, 675, 869, 893, 1~\n",
      "$ mrall      \u001b[3m\u001b[90m<dbl>\u001b[39m\u001b[23m 0.000212836, 0.000234848, 0.000233643, 0.000219348, 0.00026~\n",
      "$ allnite    \u001b[3m\u001b[90m<int>\u001b[39m\u001b[23m 146, 154, 165, 146, 172, 181, 139, 131, 112, 149, 150, 173,~\n",
      "$ mralln     \u001b[3m\u001b[90m<dbl>\u001b[39m\u001b[23m 3.70370e-05, 3.88889e-05, 4.13638e-05, 3.63094e-05, 4.24691~\n",
      "$ allsvn     \u001b[3m\u001b[90m<int>\u001b[39m\u001b[23m 99, 98, 94, 98, 119, 114, 89, 76, 60, 81, 75, 85, 87, 67, 6~\n",
      "$ a1517      \u001b[3m\u001b[90m<int>\u001b[39m\u001b[23m 53, 71, 49, 66, 82, 94, 66, 40, 40, 51, 48, 72, 50, 54, 36,~\n",
      "$ mra1517    \u001b[3m\u001b[90m<dbl>\u001b[39m\u001b[23m 0.000253589, 0.000351485, 0.000248731, 0.000338462, 0.00040~\n",
      "$ a1517n     \u001b[3m\u001b[90m<int>\u001b[39m\u001b[23m 9, 8, 7, 9, 10, 11, 8, 7, 7, 8, 11, 19, 16, 14, 5, 2, 2, 7,~\n",
      "$ mra1517n   \u001b[3m\u001b[90m<dbl>\u001b[39m\u001b[23m 0.000043062, 0.000039604, 0.000035533, 0.000046154, 0.00004~\n",
      "$ a1820      \u001b[3m\u001b[90m<int>\u001b[39m\u001b[23m 99, 108, 103, 100, 120, 127, 105, 81, 83, 118, 100, 104, 99~\n",
      "$ a1820n     \u001b[3m\u001b[90m<int>\u001b[39m\u001b[23m 34, 26, 25, 23, 23, 31, 24, 16, 19, 34, 26, 30, 25, 14, 24,~\n",
      "$ mra1820    \u001b[3m\u001b[90m<dbl>\u001b[39m\u001b[23m 0.0004468448, 0.0004928683, 0.0004752587, 0.0004665288, 0.0~\n",
      "$ mra1820n   \u001b[3m\u001b[90m<dbl>\u001b[39m\u001b[23m 0.0001534618, 0.0001186535, 0.0001153540, 0.0001073016, 0.0~\n",
      "$ a2124      \u001b[3m\u001b[90m<int>\u001b[39m\u001b[23m 120, 124, 118, 114, 119, 138, 123, 96, 80, 123, 121, 130, 1~\n",
      "$ mra2124    \u001b[3m\u001b[90m<dbl>\u001b[39m\u001b[23m 0.000413793, 0.000427586, 0.000409722, 0.000401408, 0.00045~\n",
      "$ a2124n     \u001b[3m\u001b[90m<int>\u001b[39m\u001b[23m 32, 35, 34, 45, 29, 30, 25, 36, 17, 33, 30, 25, 34, 31, 18,~\n",
      "$ mra2124n   \u001b[3m\u001b[90m<dbl>\u001b[39m\u001b[23m 0.000110345, 0.000120690, 0.000118056, 0.000158451, 0.00011~\n",
      "$ aidall     \u001b[3m\u001b[90m<dbl>\u001b[39m\u001b[23m 309.438, 341.834, 304.872, 276.742, 360.716, 368.421, 298.3~\n",
      "$ mraidall   \u001b[3m\u001b[90m<dbl>\u001b[39m\u001b[23m 0.000078498, 0.000086322, 0.000076428, 0.000068824, 0.00008~\n",
      "$ pop        \u001b[3m\u001b[90m<dbl>\u001b[39m\u001b[23m 3942002, 3960008, 3988992, 4021008, 4049994, 4082999, 41019~\n",
      "$ pop1517    \u001b[3m\u001b[90m<dbl>\u001b[39m\u001b[23m 208999.6, 202000.1, 197000.0, 194999.7, 203999.9, 204999.8,~\n",
      "$ pop1820    \u001b[3m\u001b[90m<dbl>\u001b[39m\u001b[23m 221553.4, 219125.5, 216724.1, 214349.0, 212000.0, 208998.5,~\n",
      "$ pop2124    \u001b[3m\u001b[90m<dbl>\u001b[39m\u001b[23m 290000.1, 290000.2, 288000.2, 284000.3, 263000.3, 258999.8,~\n",
      "$ miles      \u001b[3m\u001b[90m<dbl>\u001b[39m\u001b[23m 28516, 31032, 32961, 35091, 36259, 37426, 39684, 19729, 196~\n",
      "$ unus       \u001b[3m\u001b[90m<dbl>\u001b[39m\u001b[23m 9.7, 9.6, 7.5, 7.2, 7.0, 6.2, 5.5, 9.7, 9.6, 7.5, 7.2, 7.0,~\n",
      "$ epopus     \u001b[3m\u001b[90m<dbl>\u001b[39m\u001b[23m 57.8, 57.9, 59.5, 60.1, 60.7, 61.5, 62.3, 57.8, 57.9, 59.5,~\n",
      "$ gspch      \u001b[3m\u001b[90m<dbl>\u001b[39m\u001b[23m -0.022124760, 0.046558253, 0.062797837, 0.027489973, 0.0321~\n",
      "$ stabrv     \u001b[3m\u001b[90m<chr>\u001b[39m\u001b[23m \"AL\", \"AL\", \"AL\", \"AL\", \"AL\", \"AL\", \"AL\", \"AZ\", \"AZ\", \"AZ\",~\n",
      "$ region     \u001b[3m\u001b[90m<chr>\u001b[39m\u001b[23m \"S\", \"S\", \"S\", \"S\", \"S\", \"S\", \"S\", \"W\", \"W\", \"W\", \"W\", \"W\",~\n",
      "$ reg        \u001b[3m\u001b[90m<fct>\u001b[39m\u001b[23m S, S, S, S, S, S, S, W, W, W, W, W, W, W, S, S, S, S, S, S,~\n",
      "$ fatal      \u001b[3m\u001b[90m<dbl>\u001b[39m\u001b[23m 2.12836, 2.34848, 2.33643, 2.19348, 2.66914, 2.71859, 2.493~\n",
      "$ fatal1517  \u001b[3m\u001b[90m<dbl>\u001b[39m\u001b[23m 2.53589, 3.51485, 2.48731, 3.38462, 4.01961, 4.58537, 3.283~\n",
      "$ fatal1820  \u001b[3m\u001b[90m<dbl>\u001b[39m\u001b[23m 4.468448, 4.928683, 4.752586, 4.665288, 5.660377, 6.076600,~\n",
      "$ fatal2124  \u001b[3m\u001b[90m<dbl>\u001b[39m\u001b[23m 4.13793, 4.27586, 4.09722, 4.01408, 4.52471, 5.32819, 4.676~\n",
      "$ fatal1517n \u001b[3m\u001b[90m<dbl>\u001b[39m\u001b[23m 0.43062, 0.39604, 0.35533, 0.46154, 0.49020, 0.53659, 0.398~\n",
      "$ fatal1820n \u001b[3m\u001b[90m<dbl>\u001b[39m\u001b[23m 1.534618, 1.186535, 1.153540, 1.073016, 1.084906, 1.483250,~\n",
      "$ fatal2124n \u001b[3m\u001b[90m<dbl>\u001b[39m\u001b[23m 1.10345, 1.20690, 1.18056, 1.58451, 1.10266, 1.15830, 0.950~\n",
      "$ perinck    \u001b[3m\u001b[90m<dbl>\u001b[39m\u001b[23m 10.54415, 10.73280, 11.10879, 11.33263, 11.66151, 11.94400,~\n"
     ]
    }
   ],
   "source": [
    "# 导入数据集\n",
    "library(foreign)\n",
    "traffic <- read.dta(\"./data/traffic.dta\")\n",
    "\n",
    "glimpse(traffic)"
   ]
  },
  {
   "cell_type": "markdown",
   "metadata": {},
   "source": [
    "# 混合回归"
   ]
  },
  {
   "cell_type": "code",
   "execution_count": 9,
   "metadata": {
    "vscode": {
     "languageId": "r"
    }
   },
   "outputs": [
    {
     "data": {
      "text/html": [
       "<table class=\"dataframe\">\n",
       "<caption>A tibble: 5 x 5</caption>\n",
       "<thead>\n",
       "\t<tr><th scope=col>term</th><th scope=col>estimate</th><th scope=col>std.error</th><th scope=col>statistic</th><th scope=col>p.value</th></tr>\n",
       "\t<tr><th scope=col>&lt;chr&gt;</th><th scope=col>&lt;dbl&gt;</th><th scope=col>&lt;dbl&gt;</th><th scope=col>&lt;dbl&gt;</th><th scope=col>&lt;dbl&gt;</th></tr>\n",
       "</thead>\n",
       "<tbody>\n",
       "\t<tr><td>(Intercept)</td><td> 4.11867355</td><td>0.29699504</td><td>13.867819</td><td>8.568174e-35</td></tr>\n",
       "\t<tr><td>beertax    </td><td> 0.09719970</td><td>0.06155179</td><td> 1.579153</td><td>1.152561e-01</td></tr>\n",
       "\t<tr><td>spircons   </td><td> 0.16234707</td><td>0.04324656</td><td> 3.753988</td><td>2.055204e-04</td></tr>\n",
       "\t<tr><td>unrate     </td><td>-0.02910139</td><td>0.01271565</td><td>-2.288628</td><td>2.273061e-02</td></tr>\n",
       "\t<tr><td>perinck    </td><td>-0.15842906</td><td>0.01698686</td><td>-9.326566</td><td>1.611358e-18</td></tr>\n",
       "</tbody>\n",
       "</table>\n"
      ],
      "text/latex": [
       "A tibble: 5 x 5\n",
       "\\begin{tabular}{lllll}\n",
       " term & estimate & std.error & statistic & p.value\\\\\n",
       " <chr> & <dbl> & <dbl> & <dbl> & <dbl>\\\\\n",
       "\\hline\n",
       "\t (Intercept) &  4.11867355 & 0.29699504 & 13.867819 & 8.568174e-35\\\\\n",
       "\t beertax     &  0.09719970 & 0.06155179 &  1.579153 & 1.152561e-01\\\\\n",
       "\t spircons    &  0.16234707 & 0.04324656 &  3.753988 & 2.055204e-04\\\\\n",
       "\t unrate      & -0.02910139 & 0.01271565 & -2.288628 & 2.273061e-02\\\\\n",
       "\t perinck     & -0.15842906 & 0.01698686 & -9.326566 & 1.611358e-18\\\\\n",
       "\\end{tabular}\n"
      ],
      "text/markdown": [
       "\n",
       "A tibble: 5 x 5\n",
       "\n",
       "| term &lt;chr&gt; | estimate &lt;dbl&gt; | std.error &lt;dbl&gt; | statistic &lt;dbl&gt; | p.value &lt;dbl&gt; |\n",
       "|---|---|---|---|---|\n",
       "| (Intercept) |  4.11867355 | 0.29699504 | 13.867819 | 8.568174e-35 |\n",
       "| beertax     |  0.09719970 | 0.06155179 |  1.579153 | 1.152561e-01 |\n",
       "| spircons    |  0.16234707 | 0.04324656 |  3.753988 | 2.055204e-04 |\n",
       "| unrate      | -0.02910139 | 0.01271565 | -2.288628 | 2.273061e-02 |\n",
       "| perinck     | -0.15842906 | 0.01698686 | -9.326566 | 1.611358e-18 |\n",
       "\n"
      ],
      "text/plain": [
       "  term        estimate    std.error  statistic p.value     \n",
       "1 (Intercept)  4.11867355 0.29699504 13.867819 8.568174e-35\n",
       "2 beertax      0.09719970 0.06155179  1.579153 1.152561e-01\n",
       "3 spircons     0.16234707 0.04324656  3.753988 2.055204e-04\n",
       "4 unrate      -0.02910139 0.01271565 -2.288628 2.273061e-02\n",
       "5 perinck     -0.15842906 0.01698686 -9.326566 1.611358e-18"
      ]
     },
     "metadata": {},
     "output_type": "display_data"
    }
   ],
   "source": [
    "# 混合回归\n",
    "fit_pooled <- plm(\n",
    "  fatal ~ beertax + spircons + unrate + perinck,\n",
    "  data = traffic,\n",
    "  index = c(\"state\", \"year\"),\n",
    "  model = \"pooling\"\n",
    ")\n",
    "\n",
    "tidy(fit_pooled)"
   ]
  },
  {
   "cell_type": "code",
   "execution_count": 11,
   "metadata": {
    "vscode": {
     "languageId": "r"
    }
   },
   "outputs": [
    {
     "data": {
      "text/html": [
       "<table class=\"dataframe\">\n",
       "<caption>A tibble: 5 x 5</caption>\n",
       "<thead>\n",
       "\t<tr><th scope=col>term</th><th scope=col>estimate</th><th scope=col>std.error</th><th scope=col>statistic</th><th scope=col>p.value</th></tr>\n",
       "\t<tr><th scope=col>&lt;chr&gt;</th><th scope=col>&lt;dbl&gt;</th><th scope=col>&lt;dbl&gt;</th><th scope=col>&lt;dbl&gt;</th><th scope=col>&lt;dbl&gt;</th></tr>\n",
       "</thead>\n",
       "<tbody>\n",
       "\t<tr><td>(Intercept)</td><td> 4.11867355</td><td>0.67657457</td><td> 6.0875382</td><td>3.174120e-09</td></tr>\n",
       "\t<tr><td>beertax    </td><td> 0.09719970</td><td>0.11688401</td><td> 0.8315911</td><td>4.062393e-01</td></tr>\n",
       "\t<tr><td>spircons   </td><td> 0.16234707</td><td>0.10709883</td><td> 1.5158622</td><td>1.305086e-01</td></tr>\n",
       "\t<tr><td>unrate     </td><td>-0.02910139</td><td>0.02086869</td><td>-1.3945000</td><td>1.641019e-01</td></tr>\n",
       "\t<tr><td>perinck    </td><td>-0.15842906</td><td>0.03714042</td><td>-4.2656775</td><td>2.604208e-05</td></tr>\n",
       "</tbody>\n",
       "</table>\n"
      ],
      "text/latex": [
       "A tibble: 5 x 5\n",
       "\\begin{tabular}{lllll}\n",
       " term & estimate & std.error & statistic & p.value\\\\\n",
       " <chr> & <dbl> & <dbl> & <dbl> & <dbl>\\\\\n",
       "\\hline\n",
       "\t (Intercept) &  4.11867355 & 0.67657457 &  6.0875382 & 3.174120e-09\\\\\n",
       "\t beertax     &  0.09719970 & 0.11688401 &  0.8315911 & 4.062393e-01\\\\\n",
       "\t spircons    &  0.16234707 & 0.10709883 &  1.5158622 & 1.305086e-01\\\\\n",
       "\t unrate      & -0.02910139 & 0.02086869 & -1.3945000 & 1.641019e-01\\\\\n",
       "\t perinck     & -0.15842906 & 0.03714042 & -4.2656775 & 2.604208e-05\\\\\n",
       "\\end{tabular}\n"
      ],
      "text/markdown": [
       "\n",
       "A tibble: 5 x 5\n",
       "\n",
       "| term &lt;chr&gt; | estimate &lt;dbl&gt; | std.error &lt;dbl&gt; | statistic &lt;dbl&gt; | p.value &lt;dbl&gt; |\n",
       "|---|---|---|---|---|\n",
       "| (Intercept) |  4.11867355 | 0.67657457 |  6.0875382 | 3.174120e-09 |\n",
       "| beertax     |  0.09719970 | 0.11688401 |  0.8315911 | 4.062393e-01 |\n",
       "| spircons    |  0.16234707 | 0.10709883 |  1.5158622 | 1.305086e-01 |\n",
       "| unrate      | -0.02910139 | 0.02086869 | -1.3945000 | 1.641019e-01 |\n",
       "| perinck     | -0.15842906 | 0.03714042 | -4.2656775 | 2.604208e-05 |\n",
       "\n"
      ],
      "text/plain": [
       "  term        estimate    std.error  statistic  p.value     \n",
       "1 (Intercept)  4.11867355 0.67657457  6.0875382 3.174120e-09\n",
       "2 beertax      0.09719970 0.11688401  0.8315911 4.062393e-01\n",
       "3 spircons     0.16234707 0.10709883  1.5158622 1.305086e-01\n",
       "4 unrate      -0.02910139 0.02086869 -1.3945000 1.641019e-01\n",
       "5 perinck     -0.15842906 0.03714042 -4.2656775 2.604208e-05"
      ]
     },
     "metadata": {},
     "output_type": "display_data"
    }
   ],
   "source": [
    "# 手动实现混合回归\n",
    "fit_pooled_manual <- lm(\n",
    "  fatal ~ beertax + spircons + unrate + perinck,\n",
    "  data = traffic\n",
    ")\n",
    "\n",
    "# 使用聚类稳健标准误\n",
    "library(sandwich)\n",
    "library(lmtest)\n",
    "CL <- vcovCL(fit_pooled_manual, cluster = ~ state)\n",
    "coeftest(fit_pooled_manual, vcov = CL) %>% tidy()"
   ]
  },
  {
   "cell_type": "markdown",
   "metadata": {},
   "source": [
    "# 固定效应模型"
   ]
  },
  {
   "cell_type": "markdown",
   "metadata": {},
   "source": [
    "## FE估计量"
   ]
  },
  {
   "cell_type": "code",
   "execution_count": 31,
   "metadata": {
    "vscode": {
     "languageId": "r"
    }
   },
   "outputs": [
    {
     "data": {
      "text/html": [
       "<table class=\"dataframe\">\n",
       "<caption>A tibble: 4 x 5</caption>\n",
       "<thead>\n",
       "\t<tr><th scope=col>term</th><th scope=col>estimate</th><th scope=col>std.error</th><th scope=col>statistic</th><th scope=col>p.value</th></tr>\n",
       "\t<tr><th scope=col>&lt;chr&gt;</th><th scope=col>&lt;dbl&gt;</th><th scope=col>&lt;dbl&gt;</th><th scope=col>&lt;dbl&gt;</th><th scope=col>&lt;dbl&gt;</th></tr>\n",
       "</thead>\n",
       "<tbody>\n",
       "\t<tr><td>beertax </td><td>-0.48407277</td><td>0.162510555</td><td>-2.978716</td><td>0.003144553108913118125850028</td></tr>\n",
       "\t<tr><td>spircons</td><td> 0.81696515</td><td>0.079211792</td><td>10.313681</td><td>0.000000000000000000002160191</td></tr>\n",
       "\t<tr><td>unrate  </td><td>-0.02904993</td><td>0.009027433</td><td>-3.217962</td><td>0.001440572574984777011464221</td></tr>\n",
       "\t<tr><td>perinck </td><td> 0.10471027</td><td>0.020598576</td><td> 5.083374</td><td>0.000000673787616515460399257</td></tr>\n",
       "</tbody>\n",
       "</table>\n"
      ],
      "text/latex": [
       "A tibble: 4 x 5\n",
       "\\begin{tabular}{lllll}\n",
       " term & estimate & std.error & statistic & p.value\\\\\n",
       " <chr> & <dbl> & <dbl> & <dbl> & <dbl>\\\\\n",
       "\\hline\n",
       "\t beertax  & -0.48407277 & 0.162510555 & -2.978716 & 0.003144553108913118125850028\\\\\n",
       "\t spircons &  0.81696515 & 0.079211792 & 10.313681 & 0.000000000000000000002160191\\\\\n",
       "\t unrate   & -0.02904993 & 0.009027433 & -3.217962 & 0.001440572574984777011464221\\\\\n",
       "\t perinck  &  0.10471027 & 0.020598576 &  5.083374 & 0.000000673787616515460399257\\\\\n",
       "\\end{tabular}\n"
      ],
      "text/markdown": [
       "\n",
       "A tibble: 4 x 5\n",
       "\n",
       "| term &lt;chr&gt; | estimate &lt;dbl&gt; | std.error &lt;dbl&gt; | statistic &lt;dbl&gt; | p.value &lt;dbl&gt; |\n",
       "|---|---|---|---|---|\n",
       "| beertax  | -0.48407277 | 0.162510555 | -2.978716 | 0.003144553108913118125850028 |\n",
       "| spircons |  0.81696515 | 0.079211792 | 10.313681 | 0.000000000000000000002160191 |\n",
       "| unrate   | -0.02904993 | 0.009027433 | -3.217962 | 0.001440572574984777011464221 |\n",
       "| perinck  |  0.10471027 | 0.020598576 |  5.083374 | 0.000000673787616515460399257 |\n",
       "\n"
      ],
      "text/plain": [
       "  term     estimate    std.error   statistic p.value                      \n",
       "1 beertax  -0.48407277 0.162510555 -2.978716 0.003144553108913118125850028\n",
       "2 spircons  0.81696515 0.079211792 10.313681 0.000000000000000000002160191\n",
       "3 unrate   -0.02904993 0.009027433 -3.217962 0.001440572574984777011464221\n",
       "4 perinck   0.10471027 0.020598576  5.083374 0.000000673787616515460399257"
      ]
     },
     "metadata": {},
     "output_type": "display_data"
    }
   ],
   "source": [
    "# 混合回归\n",
    "pdata_traffic <- pdata.frame(traffic, index = c(\"state\", \"year\"))\n",
    "fit_fe <- plm(\n",
    "  fatal ~ beertax + spircons + unrate + perinck,\n",
    "  data = pdata_traffic,\n",
    "  model = \"within\"\n",
    ")\n",
    "\n",
    "tidy(fit_fe)"
   ]
  },
  {
   "cell_type": "code",
   "execution_count": 44,
   "metadata": {
    "vscode": {
     "languageId": "r"
    }
   },
   "outputs": [
    {
     "data": {
      "text/plain": [
       "Oneway (individual) effect Within Model\n",
       "\n",
       "Call:\n",
       "plm(formula = fatal ~ beertax + spircons + unrate + perinck, \n",
       "    data = pdata_traffic, model = \"within\")\n",
       "\n",
       "Balanced Panel: n = 48, T = 7, N = 336\n",
       "\n",
       "Residuals:\n",
       "       Min.     1st Qu.      Median     3rd Qu.        Max. \n",
       "-0.44378892 -0.07922880  0.00078846  0.06761301  0.56861719 \n",
       "\n",
       "Coefficients:\n",
       "           Estimate Std. Error t-value              Pr(>|t|)    \n",
       "beertax  -0.4840728  0.1625106 -2.9787              0.003145 ** \n",
       "spircons  0.8169652  0.0792118 10.3137 < 0.00000000000000022 ***\n",
       "unrate   -0.0290499  0.0090274 -3.2180              0.001441 ** \n",
       "perinck   0.1047103  0.0205986  5.0834          0.0000006738 ***\n",
       "---\n",
       "Signif. codes:  0 '***' 0.001 '**' 0.01 '*' 0.05 '.' 0.1 ' ' 1\n",
       "\n",
       "Total Sum of Squares:    10.785\n",
       "Residual Sum of Squares: 6.9816\n",
       "R-Squared:      0.35265\n",
       "Adj. R-Squared: 0.2364\n",
       "F-statistic: 38.6774 on 4 and 284 DF, p-value: < 0.000000000000000222"
      ]
     },
     "metadata": {},
     "output_type": "display_data"
    }
   ],
   "source": [
    "summary(fit_fe)"
   ]
  },
  {
   "cell_type": "code",
   "execution_count": 57,
   "metadata": {
    "vscode": {
     "languageId": "r"
    }
   },
   "outputs": [
    {
     "data": {
      "text/html": [
       "<style>\n",
       ".dl-inline {width: auto; margin:0; padding: 0}\n",
       ".dl-inline>dt, .dl-inline>dd {float: none; width: auto; display: inline-block}\n",
       ".dl-inline>dt::after {content: \":\\0020\"; padding-right: .5ex}\n",
       ".dl-inline>dt:not(:first-of-type) {padding-left: .5ex}\n",
       "</style><dl class=dl-inline><dt>AL</dt><dd>1.26922628942329</dd><dt>AZ</dt><dd>0.12313718412479</dd><dt>AR</dt><dd>0.926946047532544</dd><dt>CA</dt><dd>-1.20968014921364</dd><dt>CO</dt><dd>-1.08978995974781</dd><dt>CT</dt><dd>-2.2482390948105</dd><dt>DE</dt><dd>-1.35259301563614</dd><dt>FL</dt><dd>-0.214828893316512</dd><dt>GA</dt><dd>0.849895196994895</dd><dt>ID</dt><dd>0.793980284442169</dd><dt>IL</dt><dd>-1.39339338237963</dd><dt>IN</dt><dd>-0.282001319697734</dd><dt>IA</dt><dd>-0.242856440168703</dd><dt>KS</dt><dd>-0.156068327384935</dd><dt>KY</dt><dd>0.260490451773681</dd><dt>LA</dt><dd>0.278783392070493</dd><dt>ME</dt><dd>-0.45973074721792</dd><dt>MD</dt><dd>-1.70257959734582</dd><dt>MA</dt><dd>-2.27293011697288</dd><dt>MI</dt><dd>-0.769796057464905</dd><dt>MN</dt><dd>-1.45747577025097</dd><dt>MS</dt><dd>1.43156013493837</dd><dt>MO</dt><dd>-0.203824760039576</dd><dt>MT</dt><dd>0.668828128502403</dd><dt>NE</dt><dd>-0.543657755618129</dd><dt>NV</dt><dd>-2.16457840597139</dd><dt>NH</dt><dd>-2.95751010334801</dd><dt>NJ</dt><dd>-2.15577623195139</dd><dt>NM</dt><dd>1.72296646998715</dd><dt>NY</dt><dd>-1.87708597922981</dd><dt>NC</dt><dd>0.630466958223962</dd><dt>ND</dt><dd>-0.854888342819172</dd><dt>OH</dt><dd>-0.420526216908067</dd><dt>OK</dt><dd>0.58494100050044</dd><dt>OR</dt><dd>-0.118839856249211</dd><dt>PA</dt><dd>-0.651213235911488</dd><dt>RI</dt><dd>-1.82801052439387</dd><dt>SC</dt><dd>1.24403119569766</dd><dt>SD</dt><dd>-0.0765470891155342</dd><dt>TN</dt><dd>0.48846224061384</dd><dt>TX</dt><dd>0.1521221163751</dd><dt>UT</dt><dd>0.502897698433054</dd><dt>VT</dt><dd>-0.5750795031923</dd><dt>VA</dt><dd>-0.622678022623649</dd><dt>WA</dt><dd>-0.906985299315267</dd><dt>WV</dt><dd>1.05500563484361</dd><dt>WI</dt><dd>-1.14703361673492</dd><dt>WY</dt><dd>0.550872911949948</dd></dl>\n"
      ],
      "text/latex": [
       "\\begin{description*}\n",
       "\\item[AL] 1.26922628942329\n",
       "\\item[AZ] 0.12313718412479\n",
       "\\item[AR] 0.926946047532544\n",
       "\\item[CA] -1.20968014921364\n",
       "\\item[CO] -1.08978995974781\n",
       "\\item[CT] -2.2482390948105\n",
       "\\item[DE] -1.35259301563614\n",
       "\\item[FL] -0.214828893316512\n",
       "\\item[GA] 0.849895196994895\n",
       "\\item[ID] 0.793980284442169\n",
       "\\item[IL] -1.39339338237963\n",
       "\\item[IN] -0.282001319697734\n",
       "\\item[IA] -0.242856440168703\n",
       "\\item[KS] -0.156068327384935\n",
       "\\item[KY] 0.260490451773681\n",
       "\\item[LA] 0.278783392070493\n",
       "\\item[ME] -0.45973074721792\n",
       "\\item[MD] -1.70257959734582\n",
       "\\item[MA] -2.27293011697288\n",
       "\\item[MI] -0.769796057464905\n",
       "\\item[MN] -1.45747577025097\n",
       "\\item[MS] 1.43156013493837\n",
       "\\item[MO] -0.203824760039576\n",
       "\\item[MT] 0.668828128502403\n",
       "\\item[NE] -0.543657755618129\n",
       "\\item[NV] -2.16457840597139\n",
       "\\item[NH] -2.95751010334801\n",
       "\\item[NJ] -2.15577623195139\n",
       "\\item[NM] 1.72296646998715\n",
       "\\item[NY] -1.87708597922981\n",
       "\\item[NC] 0.630466958223962\n",
       "\\item[ND] -0.854888342819172\n",
       "\\item[OH] -0.420526216908067\n",
       "\\item[OK] 0.58494100050044\n",
       "\\item[OR] -0.118839856249211\n",
       "\\item[PA] -0.651213235911488\n",
       "\\item[RI] -1.82801052439387\n",
       "\\item[SC] 1.24403119569766\n",
       "\\item[SD] -0.0765470891155342\n",
       "\\item[TN] 0.48846224061384\n",
       "\\item[TX] 0.1521221163751\n",
       "\\item[UT] 0.502897698433054\n",
       "\\item[VT] -0.5750795031923\n",
       "\\item[VA] -0.622678022623649\n",
       "\\item[WA] -0.906985299315267\n",
       "\\item[WV] 1.05500563484361\n",
       "\\item[WI] -1.14703361673492\n",
       "\\item[WY] 0.550872911949948\n",
       "\\end{description*}\n"
      ],
      "text/markdown": [
       "AL\n",
       ":   1.26922628942329AZ\n",
       ":   0.12313718412479AR\n",
       ":   0.926946047532544CA\n",
       ":   -1.20968014921364CO\n",
       ":   -1.08978995974781CT\n",
       ":   -2.2482390948105DE\n",
       ":   -1.35259301563614FL\n",
       ":   -0.214828893316512GA\n",
       ":   0.849895196994895ID\n",
       ":   0.793980284442169IL\n",
       ":   -1.39339338237963IN\n",
       ":   -0.282001319697734IA\n",
       ":   -0.242856440168703KS\n",
       ":   -0.156068327384935KY\n",
       ":   0.260490451773681LA\n",
       ":   0.278783392070493ME\n",
       ":   -0.45973074721792MD\n",
       ":   -1.70257959734582MA\n",
       ":   -2.27293011697288MI\n",
       ":   -0.769796057464905MN\n",
       ":   -1.45747577025097MS\n",
       ":   1.43156013493837MO\n",
       ":   -0.203824760039576MT\n",
       ":   0.668828128502403NE\n",
       ":   -0.543657755618129NV\n",
       ":   -2.16457840597139NH\n",
       ":   -2.95751010334801NJ\n",
       ":   -2.15577623195139NM\n",
       ":   1.72296646998715NY\n",
       ":   -1.87708597922981NC\n",
       ":   0.630466958223962ND\n",
       ":   -0.854888342819172OH\n",
       ":   -0.420526216908067OK\n",
       ":   0.58494100050044OR\n",
       ":   -0.118839856249211PA\n",
       ":   -0.651213235911488RI\n",
       ":   -1.82801052439387SC\n",
       ":   1.24403119569766SD\n",
       ":   -0.0765470891155342TN\n",
       ":   0.48846224061384TX\n",
       ":   0.1521221163751UT\n",
       ":   0.502897698433054VT\n",
       ":   -0.5750795031923VA\n",
       ":   -0.622678022623649WA\n",
       ":   -0.906985299315267WV\n",
       ":   1.05500563484361WI\n",
       ":   -1.14703361673492WY\n",
       ":   0.550872911949948\n",
       "\n"
      ],
      "text/plain": [
       "       AL        AZ        AR        CA        CO        CT        DE        FL \n",
       " 1.269226  0.123137  0.926946 -1.209680 -1.089790 -2.248239 -1.352593 -0.214829 \n",
       "       GA        ID        IL        IN        IA        KS        KY        LA \n",
       " 0.849895  0.793980 -1.393393 -0.282001 -0.242856 -0.156068  0.260490  0.278783 \n",
       "       ME        MD        MA        MI        MN        MS        MO        MT \n",
       "-0.459731 -1.702580 -2.272930 -0.769796 -1.457476  1.431560 -0.203825  0.668828 \n",
       "       NE        NV        NH        NJ        NM        NY        NC        ND \n",
       "-0.543658 -2.164578 -2.957510 -2.155776  1.722966 -1.877086  0.630467 -0.854888 \n",
       "       OH        OK        OR        PA        RI        SC        SD        TN \n",
       "-0.420526  0.584941 -0.118840 -0.651213 -1.828011  1.244031 -0.076547  0.488462 \n",
       "       TX        UT        VT        VA        WA        WV        WI        WY \n",
       " 0.152122  0.502898 -0.575080 -0.622678 -0.906985  1.055006 -1.147034  0.550873 "
      ]
     },
     "metadata": {},
     "output_type": "display_data"
    }
   ],
   "source": [
    "fixef(fit_fe)"
   ]
  },
  {
   "cell_type": "code",
   "execution_count": 32,
   "metadata": {
    "vscode": {
     "languageId": "r"
    }
   },
   "outputs": [
    {
     "ename": "ERROR",
     "evalue": "Error in UseMethod(\"estfun\"): no applicable method for 'estfun' applied to an object of class \"c('plm', 'panelmodel')\"\n",
     "output_type": "error",
     "traceback": [
      "Error in UseMethod(\"estfun\"): no applicable method for 'estfun' applied to an object of class \"c('plm', 'panelmodel')\"\nTraceback:\n",
      "1. meatCL(x, cluster = cluster, type = type, ...)",
      "2. estfun(x, ...)",
      "3. .handleSimpleError(function (cnd) \n . {\n .     watcher$capture_plot_and_output()\n .     cnd <- sanitize_call(cnd)\n .     watcher$push(cnd)\n .     switch(on_error, continue = invokeRestart(\"eval_continue\"), \n .         stop = invokeRestart(\"eval_stop\"), error = NULL)\n . }, \"no applicable method for 'estfun' applied to an object of class \\\"c('plm', 'panelmodel')\\\"\", \n .     base::quote(UseMethod(\"estfun\")))"
     ]
    }
   ],
   "source": [
    "# 使用聚类稳健标准误\n",
    "CL <- vcovCL(fit_fe, cluster = ~ state)\n",
    "coeftest(fit_fe, vcov = CL) %>% tidy()"
   ]
  },
  {
   "cell_type": "markdown",
   "metadata": {},
   "source": [
    "我们发现一件非常要命的事情，{plm}包无法使用{sandwich}和{lmtest}包进行聚类稳健把标准误检验。\n",
    "\n",
    "但是个体不同时期的数据不太可能认为不存在自相关，因此我们下面手动实现FE估计量："
   ]
  },
  {
   "cell_type": "code",
   "execution_count": 46,
   "metadata": {
    "vscode": {
     "languageId": "r"
    }
   },
   "outputs": [
    {
     "data": {
      "text/html": [
       "<table class=\"dataframe\">\n",
       "<caption>A tibble: 5 x 5</caption>\n",
       "<thead>\n",
       "\t<tr><th scope=col>term</th><th scope=col>estimate</th><th scope=col>std.error</th><th scope=col>statistic</th><th scope=col>p.value</th></tr>\n",
       "\t<tr><th scope=col>&lt;chr&gt;</th><th scope=col>&lt;dbl&gt;</th><th scope=col>&lt;dbl&gt;</th><th scope=col>&lt;dbl&gt;</th><th scope=col>&lt;dbl&gt;</th></tr>\n",
       "</thead>\n",
       "<tbody>\n",
       "\t<tr><td>(Intercept)</td><td> 0.00000000</td><td>0.00000000</td><td> 1.051193</td><td>0.29393661</td></tr>\n",
       "\t<tr><td>beertax    </td><td>-0.48407277</td><td>0.22187542</td><td>-2.181732</td><td>0.02983231</td></tr>\n",
       "\t<tr><td>spircons   </td><td> 0.81696515</td><td>0.12726271</td><td> 6.419517</td><td>0.00000000</td></tr>\n",
       "\t<tr><td>unrate     </td><td>-0.02904993</td><td>0.00945812</td><td>-3.071428</td><td>0.00230694</td></tr>\n",
       "\t<tr><td>perinck    </td><td> 0.10471027</td><td>0.03414550</td><td> 3.066591</td><td>0.00234353</td></tr>\n",
       "</tbody>\n",
       "</table>\n"
      ],
      "text/latex": [
       "A tibble: 5 x 5\n",
       "\\begin{tabular}{lllll}\n",
       " term & estimate & std.error & statistic & p.value\\\\\n",
       " <chr> & <dbl> & <dbl> & <dbl> & <dbl>\\\\\n",
       "\\hline\n",
       "\t (Intercept) &  0.00000000 & 0.00000000 &  1.051193 & 0.29393661\\\\\n",
       "\t beertax     & -0.48407277 & 0.22187542 & -2.181732 & 0.02983231\\\\\n",
       "\t spircons    &  0.81696515 & 0.12726271 &  6.419517 & 0.00000000\\\\\n",
       "\t unrate      & -0.02904993 & 0.00945812 & -3.071428 & 0.00230694\\\\\n",
       "\t perinck     &  0.10471027 & 0.03414550 &  3.066591 & 0.00234353\\\\\n",
       "\\end{tabular}\n"
      ],
      "text/markdown": [
       "\n",
       "A tibble: 5 x 5\n",
       "\n",
       "| term &lt;chr&gt; | estimate &lt;dbl&gt; | std.error &lt;dbl&gt; | statistic &lt;dbl&gt; | p.value &lt;dbl&gt; |\n",
       "|---|---|---|---|---|\n",
       "| (Intercept) |  0.00000000 | 0.00000000 |  1.051193 | 0.29393661 |\n",
       "| beertax     | -0.48407277 | 0.22187542 | -2.181732 | 0.02983231 |\n",
       "| spircons    |  0.81696515 | 0.12726271 |  6.419517 | 0.00000000 |\n",
       "| unrate      | -0.02904993 | 0.00945812 | -3.071428 | 0.00230694 |\n",
       "| perinck     |  0.10471027 | 0.03414550 |  3.066591 | 0.00234353 |\n",
       "\n"
      ],
      "text/plain": [
       "  term        estimate    std.error  statistic p.value   \n",
       "1 (Intercept)  0.00000000 0.00000000  1.051193 0.29393661\n",
       "2 beertax     -0.48407277 0.22187542 -2.181732 0.02983231\n",
       "3 spircons     0.81696515 0.12726271  6.419517 0.00000000\n",
       "4 unrate      -0.02904993 0.00945812 -3.071428 0.00230694\n",
       "5 perinck      0.10471027 0.03414550  3.066591 0.00234353"
      ]
     },
     "metadata": {},
     "output_type": "display_data"
    }
   ],
   "source": [
    "# 手动计算组内离差\n",
    "traffic_fe <- traffic %>% \n",
    "  select(state, year, fatal, beertax, spircons, unrate, perinck) %>% \n",
    "  group_by(state) %>% \n",
    "  mutate(\n",
    "    fatal = fatal - mean(fatal),\n",
    "    beertax = beertax - mean(beertax),\n",
    "    spircons = spircons - mean(spircons),\n",
    "    unrate = unrate - mean(unrate),\n",
    "    perinck = perinck - mean(perinck)\n",
    "  ) %>%\n",
    "  ungroup()\n",
    "\n",
    "# 拟合FE模型\n",
    "fit_fe_manual <- lm(\n",
    "  fatal ~ beertax + spircons + unrate + perinck,  # 注意这里\n",
    "  data = traffic_fe\n",
    ")\n",
    "\n",
    "# 使用聚类稳健标准误\n",
    "# 不用科学计数法\n",
    "options(scipen = 999)\n",
    "CL_fe <- vcovCL(fit_fe_manual, cluster = ~ state)\n",
    "coeftest(fit_fe_manual, vcov = CL_fe) %>% round(digits = 8) %>% tidy()"
   ]
  },
  {
   "cell_type": "markdown",
   "metadata": {},
   "source": [
    "其实从公式来看，回归公式应该不包括截距项，虽然Stata的结果包含截距项，但是我认为R包的做法是正确的，因此下面的代码去掉截距项进行回归："
   ]
  },
  {
   "cell_type": "code",
   "execution_count": 47,
   "metadata": {
    "vscode": {
     "languageId": "r"
    }
   },
   "outputs": [
    {
     "data": {
      "text/html": [
       "<table class=\"dataframe\">\n",
       "<caption>A tibble: 4 x 5</caption>\n",
       "<thead>\n",
       "\t<tr><th scope=col>term</th><th scope=col>estimate</th><th scope=col>std.error</th><th scope=col>statistic</th><th scope=col>p.value</th></tr>\n",
       "\t<tr><th scope=col>&lt;chr&gt;</th><th scope=col>&lt;dbl&gt;</th><th scope=col>&lt;dbl&gt;</th><th scope=col>&lt;dbl&gt;</th><th scope=col>&lt;dbl&gt;</th></tr>\n",
       "</thead>\n",
       "<tbody>\n",
       "\t<tr><td>beertax </td><td>-0.48407277</td><td>0.22154102</td><td>-2.185025</td><td>0.02958566</td></tr>\n",
       "\t<tr><td>spircons</td><td> 0.81696515</td><td>0.12707090</td><td> 6.429207</td><td>0.00000000</td></tr>\n",
       "\t<tr><td>unrate  </td><td>-0.02904993</td><td>0.00944386</td><td>-3.076064</td><td>0.00227182</td></tr>\n",
       "\t<tr><td>perinck </td><td> 0.10471027</td><td>0.03409404</td><td> 3.071220</td><td>0.00230796</td></tr>\n",
       "</tbody>\n",
       "</table>\n"
      ],
      "text/latex": [
       "A tibble: 4 x 5\n",
       "\\begin{tabular}{lllll}\n",
       " term & estimate & std.error & statistic & p.value\\\\\n",
       " <chr> & <dbl> & <dbl> & <dbl> & <dbl>\\\\\n",
       "\\hline\n",
       "\t beertax  & -0.48407277 & 0.22154102 & -2.185025 & 0.02958566\\\\\n",
       "\t spircons &  0.81696515 & 0.12707090 &  6.429207 & 0.00000000\\\\\n",
       "\t unrate   & -0.02904993 & 0.00944386 & -3.076064 & 0.00227182\\\\\n",
       "\t perinck  &  0.10471027 & 0.03409404 &  3.071220 & 0.00230796\\\\\n",
       "\\end{tabular}\n"
      ],
      "text/markdown": [
       "\n",
       "A tibble: 4 x 5\n",
       "\n",
       "| term &lt;chr&gt; | estimate &lt;dbl&gt; | std.error &lt;dbl&gt; | statistic &lt;dbl&gt; | p.value &lt;dbl&gt; |\n",
       "|---|---|---|---|---|\n",
       "| beertax  | -0.48407277 | 0.22154102 | -2.185025 | 0.02958566 |\n",
       "| spircons |  0.81696515 | 0.12707090 |  6.429207 | 0.00000000 |\n",
       "| unrate   | -0.02904993 | 0.00944386 | -3.076064 | 0.00227182 |\n",
       "| perinck  |  0.10471027 | 0.03409404 |  3.071220 | 0.00230796 |\n",
       "\n"
      ],
      "text/plain": [
       "  term     estimate    std.error  statistic p.value   \n",
       "1 beertax  -0.48407277 0.22154102 -2.185025 0.02958566\n",
       "2 spircons  0.81696515 0.12707090  6.429207 0.00000000\n",
       "3 unrate   -0.02904993 0.00944386 -3.076064 0.00227182\n",
       "4 perinck   0.10471027 0.03409404  3.071220 0.00230796"
      ]
     },
     "metadata": {},
     "output_type": "display_data"
    }
   ],
   "source": [
    "# 手动计算组内离差\n",
    "traffic_fe <- traffic %>% \n",
    "  select(state, year, fatal, beertax, spircons, unrate, perinck) %>% \n",
    "  group_by(state) %>% \n",
    "  mutate(\n",
    "    fatal = fatal - mean(fatal),\n",
    "    beertax = beertax - mean(beertax),\n",
    "    spircons = spircons - mean(spircons),\n",
    "    unrate = unrate - mean(unrate),\n",
    "    perinck = perinck - mean(perinck)\n",
    "  ) %>%\n",
    "  ungroup()\n",
    "\n",
    "# 拟合FE模型\n",
    "fit_fe_manual <- lm(\n",
    "  fatal ~ beertax + spircons + unrate + perinck -1,  # 不应该包含截距项\n",
    "  data = traffic_fe\n",
    ")\n",
    "\n",
    "# 使用聚类稳健标准误\n",
    "# 不用科学计数法\n",
    "options(scipen = 999)\n",
    "CL_fe <- vcovCL(fit_fe_manual, cluster = ~ state)\n",
    "coeftest(fit_fe_manual, vcov = CL_fe) %>% round(digits = 8) %>% tidy()"
   ]
  },
  {
   "cell_type": "markdown",
   "metadata": {},
   "source": [
    "## LSDV法"
   ]
  },
  {
   "cell_type": "code",
   "execution_count": 56,
   "metadata": {
    "vscode": {
     "languageId": "r"
    }
   },
   "outputs": [
    {
     "data": {
      "text/html": [
       "<table class=\"dataframe\">\n",
       "<caption>A tibble: 4 x 5</caption>\n",
       "<thead>\n",
       "\t<tr><th scope=col>term</th><th scope=col>estimate</th><th scope=col>std.error</th><th scope=col>statistic</th><th scope=col>p.value</th></tr>\n",
       "\t<tr><th scope=col>&lt;chr&gt;</th><th scope=col>&lt;dbl&gt;</th><th scope=col>&lt;dbl&gt;</th><th scope=col>&lt;dbl&gt;</th><th scope=col>&lt;dbl&gt;</th></tr>\n",
       "</thead>\n",
       "<tbody>\n",
       "\t<tr><td>beertax </td><td>-0.48407277</td><td>0.2395323</td><td>-2.020908</td><td>0.04422739</td></tr>\n",
       "\t<tr><td>spircons</td><td> 0.81696515</td><td>0.1373903</td><td> 5.946310</td><td>0.00000001</td></tr>\n",
       "\t<tr><td>unrate  </td><td>-0.02904993</td><td>0.0102108</td><td>-2.845021</td><td>0.00476393</td></tr>\n",
       "\t<tr><td>perinck </td><td> 0.10471027</td><td>0.0368628</td><td> 2.840541</td><td>0.00482947</td></tr>\n",
       "</tbody>\n",
       "</table>\n"
      ],
      "text/latex": [
       "A tibble: 4 x 5\n",
       "\\begin{tabular}{lllll}\n",
       " term & estimate & std.error & statistic & p.value\\\\\n",
       " <chr> & <dbl> & <dbl> & <dbl> & <dbl>\\\\\n",
       "\\hline\n",
       "\t beertax  & -0.48407277 & 0.2395323 & -2.020908 & 0.04422739\\\\\n",
       "\t spircons &  0.81696515 & 0.1373903 &  5.946310 & 0.00000001\\\\\n",
       "\t unrate   & -0.02904993 & 0.0102108 & -2.845021 & 0.00476393\\\\\n",
       "\t perinck  &  0.10471027 & 0.0368628 &  2.840541 & 0.00482947\\\\\n",
       "\\end{tabular}\n"
      ],
      "text/markdown": [
       "\n",
       "A tibble: 4 x 5\n",
       "\n",
       "| term &lt;chr&gt; | estimate &lt;dbl&gt; | std.error &lt;dbl&gt; | statistic &lt;dbl&gt; | p.value &lt;dbl&gt; |\n",
       "|---|---|---|---|---|\n",
       "| beertax  | -0.48407277 | 0.2395323 | -2.020908 | 0.04422739 |\n",
       "| spircons |  0.81696515 | 0.1373903 |  5.946310 | 0.00000001 |\n",
       "| unrate   | -0.02904993 | 0.0102108 | -2.845021 | 0.00476393 |\n",
       "| perinck  |  0.10471027 | 0.0368628 |  2.840541 | 0.00482947 |\n",
       "\n"
      ],
      "text/plain": [
       "  term     estimate    std.error statistic p.value   \n",
       "1 beertax  -0.48407277 0.2395323 -2.020908 0.04422739\n",
       "2 spircons  0.81696515 0.1373903  5.946310 0.00000001\n",
       "3 unrate   -0.02904993 0.0102108 -2.845021 0.00476393\n",
       "4 perinck   0.10471027 0.0368628  2.840541 0.00482947"
      ]
     },
     "metadata": {},
     "output_type": "display_data"
    }
   ],
   "source": [
    "# 创建虚拟变量\n",
    "traffic_LSDV <- traffic %>% \n",
    "  select(state, year, fatal, beertax, spircons, unrate, perinck) %>% \n",
    "  mutate(value = 1, state_temp = state) %>% \n",
    "  pivot_wider(\n",
    "    names_from = state_temp,\n",
    "    values_from = value,\n",
    "    values_fill = 0,\n",
    "    names_prefix = \"state_\"\n",
    "  )\n",
    "\n",
    "# 去掉最后一列，防止共线性\n",
    "# 去掉最后一列，防止共线性\n",
    "# 去掉最后一列，防止共线性\n",
    "traffic_LSDV <- traffic_LSDV[, -ncol(traffic_LSDV)]\n",
    "\n",
    "# 拟合LSDV模型\n",
    "fit_LSDV <- lm(\n",
    "  fatal ~ . - year,\n",
    "  data = traffic_LSDV\n",
    ")\n",
    "\n",
    "# 使用聚类稳健标准误\n",
    "CL_LSDV <- vcovCL(fit_LSDV, cluster = ~ state)\n",
    "coeftest(fit_LSDV, vcov = CL_LSDV) %>% round(digits = 8) %>% tidy() %>% tail(4)"
   ]
  },
  {
   "cell_type": "markdown",
   "metadata": {},
   "source": [
    "## 混合回归还是FE"
   ]
  },
  {
   "cell_type": "code",
   "execution_count": 64,
   "metadata": {
    "vscode": {
     "languageId": "r"
    }
   },
   "outputs": [
    {
     "data": {
      "text/html": [
       "<table class=\"dataframe\">\n",
       "<caption>A tibble: 1 x 2</caption>\n",
       "<thead>\n",
       "\t<tr><th scope=col>p</th><th scope=col>n</th></tr>\n",
       "\t<tr><th scope=col>&lt;dbl&gt;</th><th scope=col>&lt;int&gt;</th></tr>\n",
       "</thead>\n",
       "<tbody>\n",
       "\t<tr><td>38</td><td>47</td></tr>\n",
       "</tbody>\n",
       "</table>\n"
      ],
      "text/latex": [
       "A tibble: 1 x 2\n",
       "\\begin{tabular}{ll}\n",
       " p & n\\\\\n",
       " <dbl> & <int>\\\\\n",
       "\\hline\n",
       "\t 38 & 47\\\\\n",
       "\\end{tabular}\n"
      ],
      "text/markdown": [
       "\n",
       "A tibble: 1 x 2\n",
       "\n",
       "| p &lt;dbl&gt; | n &lt;int&gt; |\n",
       "|---|---|\n",
       "| 38 | 47 |\n",
       "\n"
      ],
      "text/plain": [
       "  p  n \n",
       "1 38 47"
      ]
     },
     "metadata": {},
     "output_type": "display_data"
    }
   ],
   "source": [
    "# 创建虚拟变量\n",
    "traffic_LSDV <- traffic %>% \n",
    "  select(state, year, fatal, beertax, spircons, unrate, perinck) %>% \n",
    "  mutate(value = 1, state_temp = state) %>% \n",
    "  pivot_wider(\n",
    "    names_from = state_temp,\n",
    "    values_from = value,\n",
    "    values_fill = 0,\n",
    "    names_prefix = \"state_\"\n",
    "  )\n",
    "\n",
    "# 去掉最后一列，防止共线性\n",
    "# 去掉最后一列，防止共线性\n",
    "# 去掉最后一列，防止共线性\n",
    "traffic_LSDV <- traffic_LSDV[, -ncol(traffic_LSDV)]\n",
    "\n",
    "# 拟合LSDV模型\n",
    "fit_LSDV <- lm(\n",
    "  fatal ~ . - year,\n",
    "  data = traffic_LSDV\n",
    ")\n",
    "\n",
    "# 使用聚类稳健标准误\n",
    "CL_LSDV <- vcovCL(fit_LSDV, cluster = ~ state)\n",
    "coeftest(fit_LSDV, vcov = CL_LSDV) %>% \n",
    "  round(digits = 8) %>% \n",
    "  tidy() %>%\n",
    "  # 提取state开头的行\n",
    "  filter(str_detect(term, \"^state\")) %>%\n",
    "  mutate(p = ifelse(p.value < 0.05, 1, 0)) %>% \n",
    "  summarise(p = sum(p), n = n())"
   ]
  },
  {
   "cell_type": "markdown",
   "metadata": {},
   "source": [
    "# 双向固定效应"
   ]
  },
  {
   "cell_type": "markdown",
   "metadata": {},
   "source": [
    "## 离差法"
   ]
  },
  {
   "cell_type": "code",
   "execution_count": 68,
   "metadata": {
    "vscode": {
     "languageId": "r"
    }
   },
   "outputs": [
    {
     "data": {
      "text/html": [
       "<style>\n",
       ".list-inline {list-style: none; margin:0; padding: 0}\n",
       ".list-inline>li {display: inline-block}\n",
       ".list-inline>li:not(:last-child)::after {content: \"\\00b7\"; padding: 0 .5ex}\n",
       "</style>\n",
       "<ol class=list-inline><li>1982</li><li>1983</li><li>1984</li><li>1985</li><li>1986</li><li>1987</li><li>1988</li></ol>\n"
      ],
      "text/latex": [
       "\\begin{enumerate*}\n",
       "\\item 1982\n",
       "\\item 1983\n",
       "\\item 1984\n",
       "\\item 1985\n",
       "\\item 1986\n",
       "\\item 1987\n",
       "\\item 1988\n",
       "\\end{enumerate*}\n"
      ],
      "text/markdown": [
       "1. 1982\n",
       "2. 1983\n",
       "3. 1984\n",
       "4. 1985\n",
       "5. 1986\n",
       "6. 1987\n",
       "7. 1988\n",
       "\n",
       "\n"
      ],
      "text/plain": [
       "[1] 1982 1983 1984 1985 1986 1987 1988"
      ]
     },
     "metadata": {},
     "output_type": "display_data"
    }
   ],
   "source": [
    "# 先看一下时间有哪些取值\n",
    "unique(traffic$year)"
   ]
  },
  {
   "cell_type": "code",
   "execution_count": 70,
   "metadata": {
    "vscode": {
     "languageId": "r"
    }
   },
   "outputs": [
    {
     "data": {
      "text/html": [
       "<table class=\"dataframe\">\n",
       "<caption>A tibble: 4 x 5</caption>\n",
       "<thead>\n",
       "\t<tr><th scope=col>term</th><th scope=col>estimate</th><th scope=col>std.error</th><th scope=col>statistic</th><th scope=col>p.value</th></tr>\n",
       "\t<tr><th scope=col>&lt;chr&gt;</th><th scope=col>&lt;dbl&gt;</th><th scope=col>&lt;dbl&gt;</th><th scope=col>&lt;dbl&gt;</th><th scope=col>&lt;dbl&gt;</th></tr>\n",
       "</thead>\n",
       "<tbody>\n",
       "\t<tr><td>beertax </td><td>-0.43471948</td><td>0.15395637</td><td>-2.823654</td><td>0.005091254325576436</td></tr>\n",
       "\t<tr><td>spircons</td><td> 0.80585700</td><td>0.11264255</td><td> 7.154108</td><td>0.000000000007488275</td></tr>\n",
       "\t<tr><td>unrate  </td><td>-0.05490839</td><td>0.01034183</td><td>-5.309351</td><td>0.000000225407319360</td></tr>\n",
       "\t<tr><td>perinck </td><td> 0.08826358</td><td>0.01999880</td><td> 4.413443</td><td>0.000014572099610144</td></tr>\n",
       "</tbody>\n",
       "</table>\n"
      ],
      "text/latex": [
       "A tibble: 4 x 5\n",
       "\\begin{tabular}{lllll}\n",
       " term & estimate & std.error & statistic & p.value\\\\\n",
       " <chr> & <dbl> & <dbl> & <dbl> & <dbl>\\\\\n",
       "\\hline\n",
       "\t beertax  & -0.43471948 & 0.15395637 & -2.823654 & 0.005091254325576436\\\\\n",
       "\t spircons &  0.80585700 & 0.11264255 &  7.154108 & 0.000000000007488275\\\\\n",
       "\t unrate   & -0.05490839 & 0.01034183 & -5.309351 & 0.000000225407319360\\\\\n",
       "\t perinck  &  0.08826358 & 0.01999880 &  4.413443 & 0.000014572099610144\\\\\n",
       "\\end{tabular}\n"
      ],
      "text/markdown": [
       "\n",
       "A tibble: 4 x 5\n",
       "\n",
       "| term &lt;chr&gt; | estimate &lt;dbl&gt; | std.error &lt;dbl&gt; | statistic &lt;dbl&gt; | p.value &lt;dbl&gt; |\n",
       "|---|---|---|---|---|\n",
       "| beertax  | -0.43471948 | 0.15395637 | -2.823654 | 0.005091254325576436 |\n",
       "| spircons |  0.80585700 | 0.11264255 |  7.154108 | 0.000000000007488275 |\n",
       "| unrate   | -0.05490839 | 0.01034183 | -5.309351 | 0.000000225407319360 |\n",
       "| perinck  |  0.08826358 | 0.01999880 |  4.413443 | 0.000014572099610144 |\n",
       "\n"
      ],
      "text/plain": [
       "  term     estimate    std.error  statistic p.value             \n",
       "1 beertax  -0.43471948 0.15395637 -2.823654 0.005091254325576436\n",
       "2 spircons  0.80585700 0.11264255  7.154108 0.000000000007488275\n",
       "3 unrate   -0.05490839 0.01034183 -5.309351 0.000000225407319360\n",
       "4 perinck   0.08826358 0.01999880  4.413443 0.000014572099610144"
      ]
     },
     "metadata": {},
     "output_type": "display_data"
    }
   ],
   "source": [
    "fit_twfe <- plm(\n",
    "  fatal ~ beertax + spircons + unrate + perinck,\n",
    "  data = pdata_traffic,\n",
    "  model = \"within\",\n",
    "  effect = \"twoways\"\n",
    ")\n",
    "\n",
    "tidy(fit_twfe)"
   ]
  },
  {
   "cell_type": "code",
   "execution_count": 71,
   "metadata": {
    "vscode": {
     "languageId": "r"
    }
   },
   "outputs": [
    {
     "ename": "ERROR",
     "evalue": "Error in UseMethod(\"estfun\"): no applicable method for 'estfun' applied to an object of class \"c('plm', 'panelmodel')\"\n",
     "output_type": "error",
     "traceback": [
      "Error in UseMethod(\"estfun\"): no applicable method for 'estfun' applied to an object of class \"c('plm', 'panelmodel')\"\nTraceback:\n",
      "1. meatCL(x, cluster = cluster, type = type, ...)",
      "2. estfun(x, ...)",
      "3. .handleSimpleError(function (cnd) \n . {\n .     watcher$capture_plot_and_output()\n .     cnd <- sanitize_call(cnd)\n .     watcher$push(cnd)\n .     switch(on_error, continue = invokeRestart(\"eval_continue\"), \n .         stop = invokeRestart(\"eval_stop\"), error = NULL)\n . }, \"no applicable method for 'estfun' applied to an object of class \\\"c('plm', 'panelmodel')\\\"\", \n .     base::quote(UseMethod(\"estfun\")))"
     ]
    }
   ],
   "source": [
    "# 使用聚类稳健标准误\n",
    "CL_twfe <- vcovCL(fit_twfe, cluster = ~ state)\n",
    "coeftest(fit_twfe, vcov = CL_twfe) %>% round(digits = 8) %>% tidy()"
   ]
  },
  {
   "cell_type": "markdown",
   "metadata": {},
   "source": [
    "老问题，无法直接用稳健标准误，我们手动实现："
   ]
  },
  {
   "cell_type": "code",
   "execution_count": 88,
   "metadata": {
    "vscode": {
     "languageId": "r"
    }
   },
   "outputs": [
    {
     "data": {
      "text/html": [
       "<table class=\"dataframe\">\n",
       "<caption>A tibble: 4 x 5</caption>\n",
       "<thead>\n",
       "\t<tr><th scope=col>term</th><th scope=col>estimate</th><th scope=col>std.error</th><th scope=col>statistic</th><th scope=col>p.value</th></tr>\n",
       "\t<tr><th scope=col>&lt;chr&gt;</th><th scope=col>&lt;dbl&gt;</th><th scope=col>&lt;dbl&gt;</th><th scope=col>&lt;dbl&gt;</th><th scope=col>&lt;dbl&gt;</th></tr>\n",
       "</thead>\n",
       "<tbody>\n",
       "\t<tr><td>beertax </td><td>-0.43471948</td><td>0.24168861</td><td>-1.798676</td><td>0.07297812798079582</td></tr>\n",
       "\t<tr><td>spircons</td><td> 0.80585700</td><td>0.11487817</td><td> 7.014884</td><td>0.00000000001297631</td></tr>\n",
       "\t<tr><td>unrate  </td><td>-0.05490839</td><td>0.01163832</td><td>-4.717896</td><td>0.00000351639292400</td></tr>\n",
       "\t<tr><td>perinck </td><td> 0.08826358</td><td>0.03195484</td><td> 2.762135</td><td>0.00606220760300582</td></tr>\n",
       "</tbody>\n",
       "</table>\n"
      ],
      "text/latex": [
       "A tibble: 4 x 5\n",
       "\\begin{tabular}{lllll}\n",
       " term & estimate & std.error & statistic & p.value\\\\\n",
       " <chr> & <dbl> & <dbl> & <dbl> & <dbl>\\\\\n",
       "\\hline\n",
       "\t beertax  & -0.43471948 & 0.24168861 & -1.798676 & 0.07297812798079582\\\\\n",
       "\t spircons &  0.80585700 & 0.11487817 &  7.014884 & 0.00000000001297631\\\\\n",
       "\t unrate   & -0.05490839 & 0.01163832 & -4.717896 & 0.00000351639292400\\\\\n",
       "\t perinck  &  0.08826358 & 0.03195484 &  2.762135 & 0.00606220760300582\\\\\n",
       "\\end{tabular}\n"
      ],
      "text/markdown": [
       "\n",
       "A tibble: 4 x 5\n",
       "\n",
       "| term &lt;chr&gt; | estimate &lt;dbl&gt; | std.error &lt;dbl&gt; | statistic &lt;dbl&gt; | p.value &lt;dbl&gt; |\n",
       "|---|---|---|---|---|\n",
       "| beertax  | -0.43471948 | 0.24168861 | -1.798676 | 0.07297812798079582 |\n",
       "| spircons |  0.80585700 | 0.11487817 |  7.014884 | 0.00000000001297631 |\n",
       "| unrate   | -0.05490839 | 0.01163832 | -4.717896 | 0.00000351639292400 |\n",
       "| perinck  |  0.08826358 | 0.03195484 |  2.762135 | 0.00606220760300582 |\n",
       "\n"
      ],
      "text/plain": [
       "  term     estimate    std.error  statistic p.value            \n",
       "1 beertax  -0.43471948 0.24168861 -1.798676 0.07297812798079582\n",
       "2 spircons  0.80585700 0.11487817  7.014884 0.00000000001297631\n",
       "3 unrate   -0.05490839 0.01163832 -4.717896 0.00000351639292400\n",
       "4 perinck   0.08826358 0.03195484  2.762135 0.00606220760300582"
      ]
     },
     "metadata": {},
     "output_type": "display_data"
    }
   ],
   "source": [
    "# 手动实现双向固定效应\n",
    "traffic_fe <- traffic %>% \n",
    "  select(state, year, fatal, beertax, spircons, unrate, perinck) %>% \n",
    "  group_by(state) %>% \n",
    "  mutate(\n",
    "    fatal_state = mean(fatal),\n",
    "    beertax_state = mean(beertax),\n",
    "    spircons_state = mean(spircons),\n",
    "    unrate_state = mean(unrate),\n",
    "    perinck_state = mean(perinck)\n",
    "  ) %>%\n",
    "  ungroup() %>%\n",
    "  group_by(year) %>%\n",
    "  mutate(\n",
    "    fatal_year = mean(fatal),\n",
    "    beertax_year = mean(beertax),\n",
    "    spircons_year = mean(spircons),\n",
    "    unrate_year = mean(unrate),\n",
    "    perinck_year = mean(perinck)\n",
    "  ) %>%\n",
    "  ungroup() %>%\n",
    "  mutate(\n",
    "    fatal = fatal - fatal_state - fatal_year + mean(fatal),\n",
    "    beertax = beertax - beertax_state - beertax_year + mean(beertax),\n",
    "    spircons = spircons - spircons_state - spircons_year + mean(spircons),\n",
    "    unrate = unrate - unrate_state - unrate_year + mean(unrate),\n",
    "    perinck = perinck - perinck_state - perinck_year + mean(perinck)\n",
    "  )\n",
    "\n",
    "# 拟合TWFE模型\n",
    "fit_twfe_manual <- lm(\n",
    "  fatal ~ beertax + spircons + unrate + perinck -1,  # 不应该包含截距项\n",
    "  data = traffic_fe\n",
    ")\n",
    "\n",
    "# 使用聚类稳健标准误\n",
    "CL_twfe_manual <- vcovCL(fit_twfe_manual, cluster = ~ state)\n",
    "coeftest(fit_twfe_manual, vcov = CL_twfe_manual) %>% tidy()"
   ]
  },
  {
   "cell_type": "markdown",
   "metadata": {},
   "source": [
    "## LSDV法"
   ]
  },
  {
   "cell_type": "code",
   "execution_count": 82,
   "metadata": {
    "vscode": {
     "languageId": "r"
    }
   },
   "outputs": [
    {
     "data": {
      "text/html": [
       "<table class=\"dataframe\">\n",
       "<caption>A tibble: 6 x 5</caption>\n",
       "<thead>\n",
       "\t<tr><th scope=col>term</th><th scope=col>estimate</th><th scope=col>std.error</th><th scope=col>statistic</th><th scope=col>p.value</th></tr>\n",
       "\t<tr><th scope=col>&lt;chr&gt;</th><th scope=col>&lt;dbl&gt;</th><th scope=col>&lt;dbl&gt;</th><th scope=col>&lt;dbl&gt;</th><th scope=col>&lt;dbl&gt;</th></tr>\n",
       "</thead>\n",
       "<tbody>\n",
       "\t<tr><td>(Intercept)</td><td> 0.94669881</td><td>0.63426240</td><td> 1.492598</td><td>0.13667641</td></tr>\n",
       "\t<tr><td>beertax    </td><td>-0.43471948</td><td>0.26412094</td><td>-1.645911</td><td>0.10091219</td></tr>\n",
       "\t<tr><td>spircons   </td><td> 0.80585700</td><td>0.12554059</td><td> 6.419095</td><td>0.00000000</td></tr>\n",
       "\t<tr><td>unrate     </td><td>-0.05490839</td><td>0.01271853</td><td>-4.317195</td><td>0.00002200</td></tr>\n",
       "\t<tr><td>perinck    </td><td> 0.08826358</td><td>0.03492073</td><td> 2.527541</td><td>0.01204089</td></tr>\n",
       "\t<tr><td>state_AL   </td><td> 0.67943936</td><td>0.42350477</td><td> 1.604325</td><td>0.10977782</td></tr>\n",
       "</tbody>\n",
       "</table>\n"
      ],
      "text/latex": [
       "A tibble: 6 x 5\n",
       "\\begin{tabular}{lllll}\n",
       " term & estimate & std.error & statistic & p.value\\\\\n",
       " <chr> & <dbl> & <dbl> & <dbl> & <dbl>\\\\\n",
       "\\hline\n",
       "\t (Intercept) &  0.94669881 & 0.63426240 &  1.492598 & 0.13667641\\\\\n",
       "\t beertax     & -0.43471948 & 0.26412094 & -1.645911 & 0.10091219\\\\\n",
       "\t spircons    &  0.80585700 & 0.12554059 &  6.419095 & 0.00000000\\\\\n",
       "\t unrate      & -0.05490839 & 0.01271853 & -4.317195 & 0.00002200\\\\\n",
       "\t perinck     &  0.08826358 & 0.03492073 &  2.527541 & 0.01204089\\\\\n",
       "\t state\\_AL    &  0.67943936 & 0.42350477 &  1.604325 & 0.10977782\\\\\n",
       "\\end{tabular}\n"
      ],
      "text/markdown": [
       "\n",
       "A tibble: 6 x 5\n",
       "\n",
       "| term &lt;chr&gt; | estimate &lt;dbl&gt; | std.error &lt;dbl&gt; | statistic &lt;dbl&gt; | p.value &lt;dbl&gt; |\n",
       "|---|---|---|---|---|\n",
       "| (Intercept) |  0.94669881 | 0.63426240 |  1.492598 | 0.13667641 |\n",
       "| beertax     | -0.43471948 | 0.26412094 | -1.645911 | 0.10091219 |\n",
       "| spircons    |  0.80585700 | 0.12554059 |  6.419095 | 0.00000000 |\n",
       "| unrate      | -0.05490839 | 0.01271853 | -4.317195 | 0.00002200 |\n",
       "| perinck     |  0.08826358 | 0.03492073 |  2.527541 | 0.01204089 |\n",
       "| state_AL    |  0.67943936 | 0.42350477 |  1.604325 | 0.10977782 |\n",
       "\n"
      ],
      "text/plain": [
       "  term        estimate    std.error  statistic p.value   \n",
       "1 (Intercept)  0.94669881 0.63426240  1.492598 0.13667641\n",
       "2 beertax     -0.43471948 0.26412094 -1.645911 0.10091219\n",
       "3 spircons     0.80585700 0.12554059  6.419095 0.00000000\n",
       "4 unrate      -0.05490839 0.01271853 -4.317195 0.00002200\n",
       "5 perinck      0.08826358 0.03492073  2.527541 0.01204089\n",
       "6 state_AL     0.67943936 0.42350477  1.604325 0.10977782"
      ]
     },
     "metadata": {},
     "output_type": "display_data"
    }
   ],
   "source": [
    "# 手动实现双向固定效应LSDV法\n",
    "# 创建state虚拟变量\n",
    "traffic_twfe_LSDV <- traffic %>% \n",
    "  select(state, year, fatal, beertax, spircons, unrate, perinck) %>% \n",
    "  mutate(value = 1, state_temp = state) %>% \n",
    "  pivot_wider(\n",
    "    names_from = state_temp,\n",
    "    values_from = value,\n",
    "    values_fill = 0,\n",
    "    names_prefix = \"state_\"\n",
    "  )\n",
    "traffic_twfe_LSDV <- traffic_twfe_LSDV[-ncol(traffic_twfe_LSDV)] # 去掉最后一列，防止共线性\n",
    "\n",
    "# 创建year虚拟变量\n",
    "traffic_twfe_LSDV <- traffic_twfe_LSDV %>% \n",
    "  mutate(value = 1, year_temp = year) %>% \n",
    "  pivot_wider(\n",
    "    names_from = year_temp,\n",
    "    values_from = value,\n",
    "    values_fill = 0,\n",
    "    names_prefix = \"year_\"\n",
    "  )\n",
    "traffic_twfe_LSDV <- traffic_twfe_LSDV[-ncol(traffic_twfe_LSDV)] # 去掉最后一列，防止共线性\n",
    "\n",
    "# 拟合TWFE LSDV模型\n",
    "fit_twfe_LSDV <- lm(\n",
    "  fatal ~ . - year -state,\n",
    "  data = traffic_twfe_LSDV\n",
    ")\n",
    "\n",
    "# 使用聚类稳健标准误\n",
    "CL_twfe_LSDV <- vcovCL(fit_twfe_LSDV, cluster = ~ state)\n",
    "coeftest(fit_twfe_LSDV, vcov = CL_twfe_LSDV) %>% \n",
    "  round(digits = 8) %>% \n",
    "  tidy() %>%\n",
    "  head()"
   ]
  },
  {
   "cell_type": "markdown",
   "metadata": {},
   "source": [
    "# 差分估计量"
   ]
  },
  {
   "cell_type": "code",
   "execution_count": 91,
   "metadata": {
    "vscode": {
     "languageId": "r"
    }
   },
   "outputs": [
    {
     "data": {
      "text/html": [
       "<table class=\"dataframe\">\n",
       "<caption>A tibble: 5 x 5</caption>\n",
       "<thead>\n",
       "\t<tr><th scope=col>term</th><th scope=col>estimate</th><th scope=col>std.error</th><th scope=col>statistic</th><th scope=col>p.value</th></tr>\n",
       "\t<tr><th scope=col>&lt;chr&gt;</th><th scope=col>&lt;dbl&gt;</th><th scope=col>&lt;dbl&gt;</th><th scope=col>&lt;dbl&gt;</th><th scope=col>&lt;dbl&gt;</th></tr>\n",
       "</thead>\n",
       "<tbody>\n",
       "\t<tr><td>(Intercept)</td><td>-0.044226639</td><td>0.01970730</td><td>-2.2441754</td><td>0.02559407804</td></tr>\n",
       "\t<tr><td>beertax    </td><td> 0.049569298</td><td>0.27263488</td><td> 0.1818157</td><td>0.85585753130</td></tr>\n",
       "\t<tr><td>spircons   </td><td> 0.316266950</td><td>0.16759422</td><td> 1.8870994</td><td>0.06017030763</td></tr>\n",
       "\t<tr><td>unrate     </td><td>-0.002437778</td><td>0.01190617</td><td>-0.2047492</td><td>0.83791526412</td></tr>\n",
       "\t<tr><td>perinck    </td><td> 0.184922993</td><td>0.04170962</td><td> 4.4335818</td><td>0.00001327425</td></tr>\n",
       "</tbody>\n",
       "</table>\n"
      ],
      "text/latex": [
       "A tibble: 5 x 5\n",
       "\\begin{tabular}{lllll}\n",
       " term & estimate & std.error & statistic & p.value\\\\\n",
       " <chr> & <dbl> & <dbl> & <dbl> & <dbl>\\\\\n",
       "\\hline\n",
       "\t (Intercept) & -0.044226639 & 0.01970730 & -2.2441754 & 0.02559407804\\\\\n",
       "\t beertax     &  0.049569298 & 0.27263488 &  0.1818157 & 0.85585753130\\\\\n",
       "\t spircons    &  0.316266950 & 0.16759422 &  1.8870994 & 0.06017030763\\\\\n",
       "\t unrate      & -0.002437778 & 0.01190617 & -0.2047492 & 0.83791526412\\\\\n",
       "\t perinck     &  0.184922993 & 0.04170962 &  4.4335818 & 0.00001327425\\\\\n",
       "\\end{tabular}\n"
      ],
      "text/markdown": [
       "\n",
       "A tibble: 5 x 5\n",
       "\n",
       "| term &lt;chr&gt; | estimate &lt;dbl&gt; | std.error &lt;dbl&gt; | statistic &lt;dbl&gt; | p.value &lt;dbl&gt; |\n",
       "|---|---|---|---|---|\n",
       "| (Intercept) | -0.044226639 | 0.01970730 | -2.2441754 | 0.02559407804 |\n",
       "| beertax     |  0.049569298 | 0.27263488 |  0.1818157 | 0.85585753130 |\n",
       "| spircons    |  0.316266950 | 0.16759422 |  1.8870994 | 0.06017030763 |\n",
       "| unrate      | -0.002437778 | 0.01190617 | -0.2047492 | 0.83791526412 |\n",
       "| perinck     |  0.184922993 | 0.04170962 |  4.4335818 | 0.00001327425 |\n",
       "\n"
      ],
      "text/plain": [
       "  term        estimate     std.error  statistic  p.value      \n",
       "1 (Intercept) -0.044226639 0.01970730 -2.2441754 0.02559407804\n",
       "2 beertax      0.049569298 0.27263488  0.1818157 0.85585753130\n",
       "3 spircons     0.316266950 0.16759422  1.8870994 0.06017030763\n",
       "4 unrate      -0.002437778 0.01190617 -0.2047492 0.83791526412\n",
       "5 perinck      0.184922993 0.04170962  4.4335818 0.00001327425"
      ]
     },
     "metadata": {},
     "output_type": "display_data"
    }
   ],
   "source": [
    "# 差分估计量\n",
    "fit_fd <- plm(\n",
    "  fatal ~ beertax + spircons + unrate + perinck,\n",
    "  data = pdata_traffic,\n",
    "  model = \"fd\"\n",
    ")\n",
    "\n",
    "tidy(fit_fd)"
   ]
  },
  {
   "cell_type": "markdown",
   "metadata": {},
   "source": [
    "不会默认去掉截距项，因此需要我们主动设定："
   ]
  },
  {
   "cell_type": "code",
   "execution_count": 94,
   "metadata": {
    "vscode": {
     "languageId": "r"
    }
   },
   "outputs": [
    {
     "data": {
      "text/html": [
       "<table class=\"dataframe\">\n",
       "<caption>A tibble: 4 x 5</caption>\n",
       "<thead>\n",
       "\t<tr><th scope=col>term</th><th scope=col>estimate</th><th scope=col>std.error</th><th scope=col>statistic</th><th scope=col>p.value</th></tr>\n",
       "\t<tr><th scope=col>&lt;chr&gt;</th><th scope=col>&lt;dbl&gt;</th><th scope=col>&lt;dbl&gt;</th><th scope=col>&lt;dbl&gt;</th><th scope=col>&lt;dbl&gt;</th></tr>\n",
       "</thead>\n",
       "<tbody>\n",
       "\t<tr><td>beertax </td><td>0.118770149</td><td>0.27280363</td><td>0.4353686</td><td>0.6636255513</td></tr>\n",
       "\t<tr><td>spircons</td><td>0.523584049</td><td>0.14082489</td><td>3.7179796</td><td>0.0002419129</td></tr>\n",
       "\t<tr><td>unrate  </td><td>0.003398955</td><td>0.01170090</td><td>0.2904866</td><td>0.7716559762</td></tr>\n",
       "\t<tr><td>perinck </td><td>0.141798111</td><td>0.03728137</td><td>3.8034575</td><td>0.0001747144</td></tr>\n",
       "</tbody>\n",
       "</table>\n"
      ],
      "text/latex": [
       "A tibble: 4 x 5\n",
       "\\begin{tabular}{lllll}\n",
       " term & estimate & std.error & statistic & p.value\\\\\n",
       " <chr> & <dbl> & <dbl> & <dbl> & <dbl>\\\\\n",
       "\\hline\n",
       "\t beertax  & 0.118770149 & 0.27280363 & 0.4353686 & 0.6636255513\\\\\n",
       "\t spircons & 0.523584049 & 0.14082489 & 3.7179796 & 0.0002419129\\\\\n",
       "\t unrate   & 0.003398955 & 0.01170090 & 0.2904866 & 0.7716559762\\\\\n",
       "\t perinck  & 0.141798111 & 0.03728137 & 3.8034575 & 0.0001747144\\\\\n",
       "\\end{tabular}\n"
      ],
      "text/markdown": [
       "\n",
       "A tibble: 4 x 5\n",
       "\n",
       "| term &lt;chr&gt; | estimate &lt;dbl&gt; | std.error &lt;dbl&gt; | statistic &lt;dbl&gt; | p.value &lt;dbl&gt; |\n",
       "|---|---|---|---|---|\n",
       "| beertax  | 0.118770149 | 0.27280363 | 0.4353686 | 0.6636255513 |\n",
       "| spircons | 0.523584049 | 0.14082489 | 3.7179796 | 0.0002419129 |\n",
       "| unrate   | 0.003398955 | 0.01170090 | 0.2904866 | 0.7716559762 |\n",
       "| perinck  | 0.141798111 | 0.03728137 | 3.8034575 | 0.0001747144 |\n",
       "\n"
      ],
      "text/plain": [
       "  term     estimate    std.error  statistic p.value     \n",
       "1 beertax  0.118770149 0.27280363 0.4353686 0.6636255513\n",
       "2 spircons 0.523584049 0.14082489 3.7179796 0.0002419129\n",
       "3 unrate   0.003398955 0.01170090 0.2904866 0.7716559762\n",
       "4 perinck  0.141798111 0.03728137 3.8034575 0.0001747144"
      ]
     },
     "metadata": {},
     "output_type": "display_data"
    }
   ],
   "source": [
    "# 差分估计量\n",
    "fit_fd <- plm(\n",
    "  fatal ~ beertax + spircons + unrate + perinck -1,  # 去掉截距项\n",
    "  data = pdata_traffic,\n",
    "  model = \"fd\"\n",
    ")\n",
    "\n",
    "tidy(fit_fd)"
   ]
  },
  {
   "cell_type": "code",
   "execution_count": 95,
   "metadata": {
    "vscode": {
     "languageId": "r"
    }
   },
   "outputs": [
    {
     "ename": "ERROR",
     "evalue": "Error in UseMethod(\"estfun\"): no applicable method for 'estfun' applied to an object of class \"c('plm', 'panelmodel')\"\n",
     "output_type": "error",
     "traceback": [
      "Error in UseMethod(\"estfun\"): no applicable method for 'estfun' applied to an object of class \"c('plm', 'panelmodel')\"\nTraceback:\n",
      "1. meatCL(x, cluster = cluster, type = type, ...)",
      "2. estfun(x, ...)",
      "3. .handleSimpleError(function (cnd) \n . {\n .     watcher$capture_plot_and_output()\n .     cnd <- sanitize_call(cnd)\n .     watcher$push(cnd)\n .     switch(on_error, continue = invokeRestart(\"eval_continue\"), \n .         stop = invokeRestart(\"eval_stop\"), error = NULL)\n . }, \"no applicable method for 'estfun' applied to an object of class \\\"c('plm', 'panelmodel')\\\"\", \n .     base::quote(UseMethod(\"estfun\")))"
     ]
    }
   ],
   "source": [
    "# 使用聚类稳健标准误\n",
    "CL_fd <- vcovCL(fit_fd, cluster = ~ state)\n",
    "coeftest(fit_fd, vcov = CL_fd) %>% round(digits = 8) %>% tidy()"
   ]
  },
  {
   "cell_type": "code",
   "execution_count": 98,
   "metadata": {
    "vscode": {
     "languageId": "r"
    }
   },
   "outputs": [
    {
     "data": {
      "text/html": [
       "<table class=\"dataframe\">\n",
       "<caption>A tibble: 4 x 5</caption>\n",
       "<thead>\n",
       "\t<tr><th scope=col>term</th><th scope=col>estimate</th><th scope=col>std.error</th><th scope=col>statistic</th><th scope=col>p.value</th></tr>\n",
       "\t<tr><th scope=col>&lt;chr&gt;</th><th scope=col>&lt;dbl&gt;</th><th scope=col>&lt;dbl&gt;</th><th scope=col>&lt;dbl&gt;</th><th scope=col>&lt;dbl&gt;</th></tr>\n",
       "</thead>\n",
       "<tbody>\n",
       "\t<tr><td>beertax </td><td>0.11877015</td><td>0.22768748</td><td>0.5216367</td><td>0.60232985</td></tr>\n",
       "\t<tr><td>spircons</td><td>0.52358405</td><td>0.16331353</td><td>3.2060054</td><td>0.00149958</td></tr>\n",
       "\t<tr><td>unrate  </td><td>0.00339895</td><td>0.01189030</td><td>0.2858595</td><td>0.77519416</td></tr>\n",
       "\t<tr><td>perinck </td><td>0.14179811</td><td>0.04686992</td><td>3.0253540</td><td>0.00271080</td></tr>\n",
       "</tbody>\n",
       "</table>\n"
      ],
      "text/latex": [
       "A tibble: 4 x 5\n",
       "\\begin{tabular}{lllll}\n",
       " term & estimate & std.error & statistic & p.value\\\\\n",
       " <chr> & <dbl> & <dbl> & <dbl> & <dbl>\\\\\n",
       "\\hline\n",
       "\t beertax  & 0.11877015 & 0.22768748 & 0.5216367 & 0.60232985\\\\\n",
       "\t spircons & 0.52358405 & 0.16331353 & 3.2060054 & 0.00149958\\\\\n",
       "\t unrate   & 0.00339895 & 0.01189030 & 0.2858595 & 0.77519416\\\\\n",
       "\t perinck  & 0.14179811 & 0.04686992 & 3.0253540 & 0.00271080\\\\\n",
       "\\end{tabular}\n"
      ],
      "text/markdown": [
       "\n",
       "A tibble: 4 x 5\n",
       "\n",
       "| term &lt;chr&gt; | estimate &lt;dbl&gt; | std.error &lt;dbl&gt; | statistic &lt;dbl&gt; | p.value &lt;dbl&gt; |\n",
       "|---|---|---|---|---|\n",
       "| beertax  | 0.11877015 | 0.22768748 | 0.5216367 | 0.60232985 |\n",
       "| spircons | 0.52358405 | 0.16331353 | 3.2060054 | 0.00149958 |\n",
       "| unrate   | 0.00339895 | 0.01189030 | 0.2858595 | 0.77519416 |\n",
       "| perinck  | 0.14179811 | 0.04686992 | 3.0253540 | 0.00271080 |\n",
       "\n"
      ],
      "text/plain": [
       "  term     estimate   std.error  statistic p.value   \n",
       "1 beertax  0.11877015 0.22768748 0.5216367 0.60232985\n",
       "2 spircons 0.52358405 0.16331353 3.2060054 0.00149958\n",
       "3 unrate   0.00339895 0.01189030 0.2858595 0.77519416\n",
       "4 perinck  0.14179811 0.04686992 3.0253540 0.00271080"
      ]
     },
     "metadata": {},
     "output_type": "display_data"
    }
   ],
   "source": [
    "# 手动估计FD估计量\n",
    "# 差分\n",
    "traffic_fd <- traffic %>% \n",
    "  select(state, year, fatal, beertax, spircons, unrate, perinck) %>% \n",
    "  group_by(state) %>%\n",
    "  mutate(across(\n",
    "    .cols = c(fatal, beertax, spircons, unrate, perinck),\n",
    "    .fns = ~ .x - lag(.x)\n",
    "  )) %>%\n",
    "  ungroup() %>%\n",
    "  filter(!is.na(fatal))\n",
    "\n",
    "# 拟合FD模型\n",
    "fit_fd_manual <- lm(\n",
    "  fatal ~ beertax + spircons + unrate + perinck -1,  # 去掉截距项\n",
    "  data = traffic_fd\n",
    ")\n",
    "\n",
    "# 使用聚类稳健标准误\n",
    "CL_fd_manual <- vcovCL(fit_fd_manual, cluster = ~ state)\n",
    "coeftest(fit_fd_manual, vcov = CL_fd_manual) %>% round(digits = 8) %>% tidy()"
   ]
  },
  {
   "cell_type": "markdown",
   "metadata": {},
   "source": [
    "# 随机效应模型"
   ]
  },
  {
   "cell_type": "code",
   "execution_count": 17,
   "metadata": {
    "vscode": {
     "languageId": "r"
    }
   },
   "outputs": [
    {
     "data": {
      "text/html": [
       "<table class=\"dataframe\">\n",
       "<caption>A tibble: 5 x 5</caption>\n",
       "<thead>\n",
       "\t<tr><th scope=col>term</th><th scope=col>estimate</th><th scope=col>std.error</th><th scope=col>statistic</th><th scope=col>p.value</th></tr>\n",
       "\t<tr><th scope=col>&lt;chr&gt;</th><th scope=col>&lt;dbl&gt;</th><th scope=col>&lt;dbl&gt;</th><th scope=col>&lt;dbl&gt;</th><th scope=col>&lt;dbl&gt;</th></tr>\n",
       "</thead>\n",
       "<tbody>\n",
       "\t<tr><td>(Intercept)</td><td> 2.00197349</td><td>0.38112466</td><td> 5.2528049</td><td>1.498002e-07</td></tr>\n",
       "\t<tr><td>beertax    </td><td> 0.04427676</td><td>0.12046126</td><td> 0.3675601</td><td>7.132013e-01</td></tr>\n",
       "\t<tr><td>spircons   </td><td> 0.30247114</td><td>0.06429535</td><td> 4.7044012</td><td>2.546121e-06</td></tr>\n",
       "\t<tr><td>unrate     </td><td>-0.04913810</td><td>0.00981968</td><td>-5.0040432</td><td>5.614018e-07</td></tr>\n",
       "\t<tr><td>perinck    </td><td>-0.01107273</td><td>0.01947461</td><td>-0.5685727</td><td>5.696462e-01</td></tr>\n",
       "</tbody>\n",
       "</table>\n"
      ],
      "text/latex": [
       "A tibble: 5 x 5\n",
       "\\begin{tabular}{lllll}\n",
       " term & estimate & std.error & statistic & p.value\\\\\n",
       " <chr> & <dbl> & <dbl> & <dbl> & <dbl>\\\\\n",
       "\\hline\n",
       "\t (Intercept) &  2.00197349 & 0.38112466 &  5.2528049 & 1.498002e-07\\\\\n",
       "\t beertax     &  0.04427676 & 0.12046126 &  0.3675601 & 7.132013e-01\\\\\n",
       "\t spircons    &  0.30247114 & 0.06429535 &  4.7044012 & 2.546121e-06\\\\\n",
       "\t unrate      & -0.04913810 & 0.00981968 & -5.0040432 & 5.614018e-07\\\\\n",
       "\t perinck     & -0.01107273 & 0.01947461 & -0.5685727 & 5.696462e-01\\\\\n",
       "\\end{tabular}\n"
      ],
      "text/markdown": [
       "\n",
       "A tibble: 5 x 5\n",
       "\n",
       "| term &lt;chr&gt; | estimate &lt;dbl&gt; | std.error &lt;dbl&gt; | statistic &lt;dbl&gt; | p.value &lt;dbl&gt; |\n",
       "|---|---|---|---|---|\n",
       "| (Intercept) |  2.00197349 | 0.38112466 |  5.2528049 | 1.498002e-07 |\n",
       "| beertax     |  0.04427676 | 0.12046126 |  0.3675601 | 7.132013e-01 |\n",
       "| spircons    |  0.30247114 | 0.06429535 |  4.7044012 | 2.546121e-06 |\n",
       "| unrate      | -0.04913810 | 0.00981968 | -5.0040432 | 5.614018e-07 |\n",
       "| perinck     | -0.01107273 | 0.01947461 | -0.5685727 | 5.696462e-01 |\n",
       "\n"
      ],
      "text/plain": [
       "  term        estimate    std.error  statistic  p.value     \n",
       "1 (Intercept)  2.00197349 0.38112466  5.2528049 1.498002e-07\n",
       "2 beertax      0.04427676 0.12046126  0.3675601 7.132013e-01\n",
       "3 spircons     0.30247114 0.06429535  4.7044012 2.546121e-06\n",
       "4 unrate      -0.04913810 0.00981968 -5.0040432 5.614018e-07\n",
       "5 perinck     -0.01107273 0.01947461 -0.5685727 5.696462e-01"
      ]
     },
     "metadata": {},
     "output_type": "display_data"
    }
   ],
   "source": [
    "# 实现随机效应模型\n",
    "pdata_traffic <- pdata.frame(traffic, index = c(\"state\", \"year\"))\n",
    "fit_re <- plm(\n",
    "  fatal ~ beertax + spircons + unrate + perinck,\n",
    "  data = pdata_traffic,\n",
    "  model = \"random\"\n",
    ")\n",
    "\n",
    "tidy(fit_re)"
   ]
  },
  {
   "cell_type": "code",
   "execution_count": 33,
   "metadata": {
    "vscode": {
     "languageId": "r"
    }
   },
   "outputs": [
    {
     "data": {
      "text/html": [
       "<table class=\"dataframe\">\n",
       "<caption>A tibble: 5 x 5</caption>\n",
       "<thead>\n",
       "\t<tr><th scope=col>term</th><th scope=col>estimate</th><th scope=col>std.error</th><th scope=col>statistic</th><th scope=col>p.value</th></tr>\n",
       "\t<tr><th scope=col>&lt;chr&gt;</th><th scope=col>&lt;dbl&gt;</th><th scope=col>&lt;dbl&gt;</th><th scope=col>&lt;dbl&gt;</th><th scope=col>&lt;dbl&gt;</th></tr>\n",
       "</thead>\n",
       "<tbody>\n",
       "\t<tr><td>(Intercept)</td><td> 2.00197349</td><td>0.51408083</td><td> 3.8942776</td><td>0.00011916</td></tr>\n",
       "\t<tr><td>beertax    </td><td> 0.04427676</td><td>0.12621489</td><td> 0.3508045</td><td>0.72595815</td></tr>\n",
       "\t<tr><td>spircons   </td><td> 0.30247114</td><td>0.10627590</td><td> 2.8460935</td><td>0.00470191</td></tr>\n",
       "\t<tr><td>unrate     </td><td>-0.04913810</td><td>0.00890361</td><td>-5.5188982</td><td>0.00000007</td></tr>\n",
       "\t<tr><td>perinck    </td><td>-0.01107273</td><td>0.02453987</td><td>-0.4512140</td><td>0.65213081</td></tr>\n",
       "</tbody>\n",
       "</table>\n"
      ],
      "text/latex": [
       "A tibble: 5 x 5\n",
       "\\begin{tabular}{lllll}\n",
       " term & estimate & std.error & statistic & p.value\\\\\n",
       " <chr> & <dbl> & <dbl> & <dbl> & <dbl>\\\\\n",
       "\\hline\n",
       "\t (Intercept) &  2.00197349 & 0.51408083 &  3.8942776 & 0.00011916\\\\\n",
       "\t beertax     &  0.04427676 & 0.12621489 &  0.3508045 & 0.72595815\\\\\n",
       "\t spircons    &  0.30247114 & 0.10627590 &  2.8460935 & 0.00470191\\\\\n",
       "\t unrate      & -0.04913810 & 0.00890361 & -5.5188982 & 0.00000007\\\\\n",
       "\t perinck     & -0.01107273 & 0.02453987 & -0.4512140 & 0.65213081\\\\\n",
       "\\end{tabular}\n"
      ],
      "text/markdown": [
       "\n",
       "A tibble: 5 x 5\n",
       "\n",
       "| term &lt;chr&gt; | estimate &lt;dbl&gt; | std.error &lt;dbl&gt; | statistic &lt;dbl&gt; | p.value &lt;dbl&gt; |\n",
       "|---|---|---|---|---|\n",
       "| (Intercept) |  2.00197349 | 0.51408083 |  3.8942776 | 0.00011916 |\n",
       "| beertax     |  0.04427676 | 0.12621489 |  0.3508045 | 0.72595815 |\n",
       "| spircons    |  0.30247114 | 0.10627590 |  2.8460935 | 0.00470191 |\n",
       "| unrate      | -0.04913810 | 0.00890361 | -5.5188982 | 0.00000007 |\n",
       "| perinck     | -0.01107273 | 0.02453987 | -0.4512140 | 0.65213081 |\n",
       "\n"
      ],
      "text/plain": [
       "  term        estimate    std.error  statistic  p.value   \n",
       "1 (Intercept)  2.00197349 0.51408083  3.8942776 0.00011916\n",
       "2 beertax      0.04427676 0.12621489  0.3508045 0.72595815\n",
       "3 spircons     0.30247114 0.10627590  2.8460935 0.00470191\n",
       "4 unrate      -0.04913810 0.00890361 -5.5188982 0.00000007\n",
       "5 perinck     -0.01107273 0.02453987 -0.4512140 0.65213081"
      ]
     },
     "metadata": {},
     "output_type": "display_data"
    }
   ],
   "source": [
    "# 使用聚类稳健标准误\n",
    "library(lmtest)\n",
    "coeftest(fit_re, vcov = vcovHC) %>% round(digits = 8) %>% tidy()"
   ]
  },
  {
   "cell_type": "markdown",
   "metadata": {},
   "source": [
    "老问题，无法直接用聚类稳健标准误，考虑手动实现："
   ]
  },
  {
   "cell_type": "markdown",
   "metadata": {},
   "source": [
    "我们先用BE结合FE的方法实现。"
   ]
  },
  {
   "cell_type": "code",
   "execution_count": null,
   "metadata": {
    "vscode": {
     "languageId": "r"
    }
   },
   "outputs": [
    {
     "data": {
      "text/html": [
       "<table class=\"dataframe\">\n",
       "<caption>A tibble: 5 x 5</caption>\n",
       "<thead>\n",
       "\t<tr><th scope=col>term</th><th scope=col>estimate</th><th scope=col>std.error</th><th scope=col>statistic</th><th scope=col>p.value</th></tr>\n",
       "\t<tr><th scope=col>&lt;chr&gt;</th><th scope=col>&lt;dbl&gt;</th><th scope=col>&lt;dbl&gt;</th><th scope=col>&lt;dbl&gt;</th><th scope=col>&lt;dbl&gt;</th></tr>\n",
       "</thead>\n",
       "<tbody>\n",
       "\t<tr><td>(Intercept)</td><td> 0.28183657</td><td>0.07357843</td><td> 3.8304237</td><td>0.00015302</td></tr>\n",
       "\t<tr><td>beertax    </td><td> 0.04427676</td><td>0.12831892</td><td> 0.3450525</td><td>0.73027410</td></tr>\n",
       "\t<tr><td>spircons   </td><td> 0.30247114</td><td>0.10804754</td><td> 2.7994265</td><td>0.00541970</td></tr>\n",
       "\t<tr><td>unrate     </td><td>-0.04913810</td><td>0.00905203</td><td>-5.4284055</td><td>0.00000011</td></tr>\n",
       "\t<tr><td>perinck    </td><td>-0.01107273</td><td>0.02494896</td><td>-0.4438155</td><td>0.65746598</td></tr>\n",
       "</tbody>\n",
       "</table>\n"
      ],
      "text/latex": [
       "A tibble: 5 x 5\n",
       "\\begin{tabular}{lllll}\n",
       " term & estimate & std.error & statistic & p.value\\\\\n",
       " <chr> & <dbl> & <dbl> & <dbl> & <dbl>\\\\\n",
       "\\hline\n",
       "\t (Intercept) &  0.28183657 & 0.07357843 &  3.8304237 & 0.00015302\\\\\n",
       "\t beertax     &  0.04427676 & 0.12831892 &  0.3450525 & 0.73027410\\\\\n",
       "\t spircons    &  0.30247114 & 0.10804754 &  2.7994265 & 0.00541970\\\\\n",
       "\t unrate      & -0.04913810 & 0.00905203 & -5.4284055 & 0.00000011\\\\\n",
       "\t perinck     & -0.01107273 & 0.02494896 & -0.4438155 & 0.65746598\\\\\n",
       "\\end{tabular}\n"
      ],
      "text/markdown": [
       "\n",
       "A tibble: 5 x 5\n",
       "\n",
       "| term &lt;chr&gt; | estimate &lt;dbl&gt; | std.error &lt;dbl&gt; | statistic &lt;dbl&gt; | p.value &lt;dbl&gt; |\n",
       "|---|---|---|---|---|\n",
       "| (Intercept) |  0.28183657 | 0.07357843 |  3.8304237 | 0.00015302 |\n",
       "| beertax     |  0.04427676 | 0.12831892 |  0.3450525 | 0.73027410 |\n",
       "| spircons    |  0.30247114 | 0.10804754 |  2.7994265 | 0.00541970 |\n",
       "| unrate      | -0.04913810 | 0.00905203 | -5.4284055 | 0.00000011 |\n",
       "| perinck     | -0.01107273 | 0.02494896 | -0.4438155 | 0.65746598 |\n",
       "\n"
      ],
      "text/plain": [
       "  term        estimate    std.error  statistic  p.value   \n",
       "1 (Intercept)  0.28183657 0.07357843  3.8304237 0.00015302\n",
       "2 beertax      0.04427676 0.12831892  0.3450525 0.73027410\n",
       "3 spircons     0.30247114 0.10804754  2.7994265 0.00541970\n",
       "4 unrate      -0.04913810 0.00905203 -5.4284055 0.00000011\n",
       "5 perinck     -0.01107273 0.02494896 -0.4438155 0.65746598"
      ]
     },
     "metadata": {},
     "output_type": "display_data"
    }
   ],
   "source": [
    "# 手动实现随机效应模型\n",
    "T <- length(unique(traffic$year))\n",
    "N <- length(unique(traffic$state))\n",
    "# 估计扰动项\n",
    "fit_fe <- plm(\n",
    "  fatal ~ beertax + spircons + unrate + perinck,\n",
    "  data = pdata_traffic,\n",
    "  model = \"within\"\n",
    ")\n",
    "# e2的方差考虑调整自由度，修正完毕\n",
    "e2 <- sum(residuals(fit_fe)^2) /\n",
    "      (nrow(traffic) - length(fit_fe$coefficients) - N)\n",
    "\n",
    "# 估计随机效应与扰动项\n",
    "fit_be <- plm(\n",
    "  fatal ~ beertax + spircons + unrate + perinck,\n",
    "  data = pdata_traffic,\n",
    "  model = \"between\"\n",
    ")\n",
    "# 得到u2+e2/T\n",
    "u2_plus_e2 <- sum(residuals(fit_be)^2) / (N - length(fit_be$coefficients))\n",
    "\n",
    "# 估计theta\n",
    "u2 <- u2_plus_e2 - e2 / T\n",
    "theta <- 1 - sqrt(e2 / (T * u2 + e2))\n",
    "\n",
    "# 计算差值\n",
    "traffic_re_manual <- traffic %>%\n",
    "  group_by(state) %>%\n",
    "  mutate(\n",
    "    across(\n",
    "      .cols = c(fatal, beertax, spircons, unrate, perinck),\n",
    "      .fns = ~ .x - theta * mean(.x)\n",
    "    )\n",
    "  ) %>%\n",
    "  ungroup()\n",
    "\n",
    "# 拟合RE模型\n",
    "fit_re_manual <- lm(\n",
    "  fatal ~ beertax + spircons + unrate + perinck,\n",
    "  data = traffic_re_manual\n",
    ")\n",
    "\n",
    "# 使用聚类稳健标准误\n",
    "CL_re_manual <- vcovCL(fit_re_manual, cluster = ~ state)\n",
    "coeftest(fit_re_manual, vcov = CL_re_manual) %>% round(digits = 8) %>% tidy()"
   ]
  },
  {
   "cell_type": "markdown",
   "metadata": {},
   "source": [
    "再用OLS结合FE实现一遍。"
   ]
  },
  {
   "cell_type": "code",
   "execution_count": 53,
   "metadata": {
    "vscode": {
     "languageId": "r"
    }
   },
   "outputs": [
    {
     "data": {
      "text/html": [
       "<table class=\"dataframe\">\n",
       "<caption>A tibble: 5 x 5</caption>\n",
       "<thead>\n",
       "\t<tr><th scope=col>term</th><th scope=col>estimate</th><th scope=col>std.error</th><th scope=col>statistic</th><th scope=col>p.value</th></tr>\n",
       "\t<tr><th scope=col>&lt;chr&gt;</th><th scope=col>&lt;dbl&gt;</th><th scope=col>&lt;dbl&gt;</th><th scope=col>&lt;dbl&gt;</th><th scope=col>&lt;dbl&gt;</th></tr>\n",
       "</thead>\n",
       "<tbody>\n",
       "\t<tr><td>(Intercept)</td><td> 1.24455736</td><td>0.16216231</td><td> 7.6747633</td><td>0.00000000</td></tr>\n",
       "\t<tr><td>beertax    </td><td> 0.13791530</td><td>0.10601330</td><td> 1.3009246</td><td>0.19418917</td></tr>\n",
       "\t<tr><td>spircons   </td><td> 0.08714016</td><td>0.10044609</td><td> 0.8675316</td><td>0.38627930</td></tr>\n",
       "\t<tr><td>unrate     </td><td>-0.05988748</td><td>0.01131262</td><td>-5.2938658</td><td>0.00000022</td></tr>\n",
       "\t<tr><td>perinck    </td><td>-0.09642134</td><td>0.02222958</td><td>-4.3375247</td><td>0.00001916</td></tr>\n",
       "</tbody>\n",
       "</table>\n"
      ],
      "text/latex": [
       "A tibble: 5 x 5\n",
       "\\begin{tabular}{lllll}\n",
       " term & estimate & std.error & statistic & p.value\\\\\n",
       " <chr> & <dbl> & <dbl> & <dbl> & <dbl>\\\\\n",
       "\\hline\n",
       "\t (Intercept) &  1.24455736 & 0.16216231 &  7.6747633 & 0.00000000\\\\\n",
       "\t beertax     &  0.13791530 & 0.10601330 &  1.3009246 & 0.19418917\\\\\n",
       "\t spircons    &  0.08714016 & 0.10044609 &  0.8675316 & 0.38627930\\\\\n",
       "\t unrate      & -0.05988748 & 0.01131262 & -5.2938658 & 0.00000022\\\\\n",
       "\t perinck     & -0.09642134 & 0.02222958 & -4.3375247 & 0.00001916\\\\\n",
       "\\end{tabular}\n"
      ],
      "text/markdown": [
       "\n",
       "A tibble: 5 x 5\n",
       "\n",
       "| term &lt;chr&gt; | estimate &lt;dbl&gt; | std.error &lt;dbl&gt; | statistic &lt;dbl&gt; | p.value &lt;dbl&gt; |\n",
       "|---|---|---|---|---|\n",
       "| (Intercept) |  1.24455736 | 0.16216231 |  7.6747633 | 0.00000000 |\n",
       "| beertax     |  0.13791530 | 0.10601330 |  1.3009246 | 0.19418917 |\n",
       "| spircons    |  0.08714016 | 0.10044609 |  0.8675316 | 0.38627930 |\n",
       "| unrate      | -0.05988748 | 0.01131262 | -5.2938658 | 0.00000022 |\n",
       "| perinck     | -0.09642134 | 0.02222958 | -4.3375247 | 0.00001916 |\n",
       "\n"
      ],
      "text/plain": [
       "  term        estimate    std.error  statistic  p.value   \n",
       "1 (Intercept)  1.24455736 0.16216231  7.6747633 0.00000000\n",
       "2 beertax      0.13791530 0.10601330  1.3009246 0.19418917\n",
       "3 spircons     0.08714016 0.10044609  0.8675316 0.38627930\n",
       "4 unrate      -0.05988748 0.01131262 -5.2938658 0.00000022\n",
       "5 perinck     -0.09642134 0.02222958 -4.3375247 0.00001916"
      ]
     },
     "metadata": {},
     "output_type": "display_data"
    }
   ],
   "source": [
    "# 手动实现随机效应模型\n",
    "T <- length(unique(traffic$year))\n",
    "N <- length(unique(traffic$state))\n",
    "# 估计扰动项\n",
    "fit_fe <- plm(\n",
    "  fatal ~ beertax + spircons + unrate + perinck,\n",
    "  data = pdata_traffic,\n",
    "  model = \"within\"\n",
    ")\n",
    "# 得到e2\n",
    "e2 <- sum(residuals(fit_fe)^2) /\n",
    "      (nrow(traffic) - length(fit_fe$coefficients) - N)\n",
    "\n",
    "# 估计随机效应与扰动项\n",
    "fit_ols <- lm(\n",
    "  fatal ~ beertax + spircons + unrate + perinck,\n",
    "  data = traffic\n",
    ")\n",
    "# 得到u2+e2\n",
    "u2_plus_e2 <- sum(residuals(fit_ols)^2) / (nrow(traffic) - length(fit_ols$coefficients))\n",
    "\n",
    "# 估计theta\n",
    "u2 <- u2_plus_e2 - e2\n",
    "theta <- 1 - sqrt(e2 / u2)\n",
    "\n",
    "# 计算差值\n",
    "# 计算差值\n",
    "traffic_re_manual <- traffic %>%\n",
    "  group_by(state) %>%\n",
    "  mutate(\n",
    "    across(\n",
    "      .cols = c(fatal, beertax, spircons, unrate, perinck),\n",
    "      .fns = ~ .x - theta * mean(.x)\n",
    "    )\n",
    "  ) %>%\n",
    "  ungroup()\n",
    "\n",
    "# 拟合RE模型\n",
    "fit_re_manual <- lm(\n",
    "  fatal ~ beertax + spircons + unrate + perinck,\n",
    "  data = traffic_re_manual\n",
    ")\n",
    "\n",
    "# 使用聚类稳健标准误\n",
    "CL_re_manual <- vcovCL(fit_re_manual, cluster = ~ state)\n",
    "coeftest(fit_re_manual, vcov = CL_re_manual) %>% round(digits = 8) %>% tidy()"
   ]
  },
  {
   "cell_type": "code",
   "execution_count": 150,
   "metadata": {
    "vscode": {
     "languageId": "r"
    }
   },
   "outputs": [
    {
     "data": {
      "text/plain": [
       "                  var std.dev share\n",
       "idiosyncratic 0.02458 0.15679 0.124\n",
       "individual    0.17369 0.41676 0.876\n",
       "theta: 0.8592"
      ]
     },
     "metadata": {},
     "output_type": "display_data"
    }
   ],
   "source": [
    "ercomp(\n",
    "  fatal ~ beertax + spircons + unrate + perinck,\n",
    "  data = traffic,\n",
    "  index = c(\"state\", \"year\"),\n",
    "  method = \"swar\"\n",
    ")"
   ]
  },
  {
   "cell_type": "markdown",
   "metadata": {},
   "source": [
    "# 组间估计量"
   ]
  },
  {
   "cell_type": "code",
   "execution_count": 56,
   "metadata": {
    "vscode": {
     "languageId": "r"
    }
   },
   "outputs": [
    {
     "data": {
      "text/html": [
       "<table class=\"dataframe\">\n",
       "<caption>A tibble: 5 x 5</caption>\n",
       "<thead>\n",
       "\t<tr><th scope=col>term</th><th scope=col>estimate</th><th scope=col>std.error</th><th scope=col>statistic</th><th scope=col>p.value</th></tr>\n",
       "\t<tr><th scope=col>&lt;chr&gt;</th><th scope=col>&lt;dbl&gt;</th><th scope=col>&lt;dbl&gt;</th><th scope=col>&lt;dbl&gt;</th><th scope=col>&lt;dbl&gt;</th></tr>\n",
       "</thead>\n",
       "<tbody>\n",
       "\t<tr><td>(Intercept)</td><td> 3.79634303</td><td>0.75020251</td><td> 5.0604243</td><td>8.303145e-06</td></tr>\n",
       "\t<tr><td>beertax    </td><td> 0.07403619</td><td>0.14563334</td><td> 0.5083739</td><td>6.137895e-01</td></tr>\n",
       "\t<tr><td>spircons   </td><td> 0.29975174</td><td>0.11281346</td><td> 2.6570566</td><td>1.101864e-02</td></tr>\n",
       "\t<tr><td>unrate     </td><td> 0.03223326</td><td>0.03800499</td><td> 0.8481324</td><td>4.010609e-01</td></tr>\n",
       "\t<tr><td>perinck    </td><td>-0.18417475</td><td>0.04222407</td><td>-4.3618429</td><td>7.923493e-05</td></tr>\n",
       "</tbody>\n",
       "</table>\n"
      ],
      "text/latex": [
       "A tibble: 5 x 5\n",
       "\\begin{tabular}{lllll}\n",
       " term & estimate & std.error & statistic & p.value\\\\\n",
       " <chr> & <dbl> & <dbl> & <dbl> & <dbl>\\\\\n",
       "\\hline\n",
       "\t (Intercept) &  3.79634303 & 0.75020251 &  5.0604243 & 8.303145e-06\\\\\n",
       "\t beertax     &  0.07403619 & 0.14563334 &  0.5083739 & 6.137895e-01\\\\\n",
       "\t spircons    &  0.29975174 & 0.11281346 &  2.6570566 & 1.101864e-02\\\\\n",
       "\t unrate      &  0.03223326 & 0.03800499 &  0.8481324 & 4.010609e-01\\\\\n",
       "\t perinck     & -0.18417475 & 0.04222407 & -4.3618429 & 7.923493e-05\\\\\n",
       "\\end{tabular}\n"
      ],
      "text/markdown": [
       "\n",
       "A tibble: 5 x 5\n",
       "\n",
       "| term &lt;chr&gt; | estimate &lt;dbl&gt; | std.error &lt;dbl&gt; | statistic &lt;dbl&gt; | p.value &lt;dbl&gt; |\n",
       "|---|---|---|---|---|\n",
       "| (Intercept) |  3.79634303 | 0.75020251 |  5.0604243 | 8.303145e-06 |\n",
       "| beertax     |  0.07403619 | 0.14563334 |  0.5083739 | 6.137895e-01 |\n",
       "| spircons    |  0.29975174 | 0.11281346 |  2.6570566 | 1.101864e-02 |\n",
       "| unrate      |  0.03223326 | 0.03800499 |  0.8481324 | 4.010609e-01 |\n",
       "| perinck     | -0.18417475 | 0.04222407 | -4.3618429 | 7.923493e-05 |\n",
       "\n"
      ],
      "text/plain": [
       "  term        estimate    std.error  statistic  p.value     \n",
       "1 (Intercept)  3.79634303 0.75020251  5.0604243 8.303145e-06\n",
       "2 beertax      0.07403619 0.14563334  0.5083739 6.137895e-01\n",
       "3 spircons     0.29975174 0.11281346  2.6570566 1.101864e-02\n",
       "4 unrate       0.03223326 0.03800499  0.8481324 4.010609e-01\n",
       "5 perinck     -0.18417475 0.04222407 -4.3618429 7.923493e-05"
      ]
     },
     "metadata": {},
     "output_type": "display_data"
    }
   ],
   "source": [
    "# 组间估计量\n",
    "fit_between <- plm(\n",
    "  fatal ~ beertax + spircons + unrate + perinck,\n",
    "  data = pdata_traffic,\n",
    "  model = \"between\"\n",
    ")\n",
    "\n",
    "tidy(fit_between)"
   ]
  },
  {
   "cell_type": "markdown",
   "metadata": {},
   "source": [
    "# 豪斯曼检验"
   ]
  },
  {
   "cell_type": "code",
   "execution_count": 57,
   "metadata": {
    "vscode": {
     "languageId": "r"
    }
   },
   "outputs": [
    {
     "data": {
      "text/plain": [
       "\n",
       "\tHausman Test\n",
       "\n",
       "data:  fatal ~ beertax + spircons + unrate + perinck\n",
       "chisq = 130.93, df = 4, p-value < 2.2e-16\n",
       "alternative hypothesis: one model is inconsistent\n"
      ]
     },
     "metadata": {},
     "output_type": "display_data"
    }
   ],
   "source": [
    "phtest(fit_fe, fit_re)"
   ]
  },
  {
   "cell_type": "code",
   "execution_count": 60,
   "metadata": {
    "vscode": {
     "languageId": "r"
    }
   },
   "outputs": [
    {
     "data": {
      "text/plain": [
       "\n",
       "\tHausman Test\n",
       "\n",
       "data:  fatal ~ beertax + spircons + unrate + perinck\n",
       "chisq = 130.93, df = 4, p-value < 2.2e-16\n",
       "alternative hypothesis: one model is inconsistent\n"
      ]
     },
     "metadata": {},
     "output_type": "display_data"
    }
   ],
   "source": [
    "library(plm)\n",
    "library(sandwich)\n",
    "\n",
    "phtest(fit_fe, fit_re, vcov = function(x) vcovHC(x, type = \"HC1\"))"
   ]
  },
  {
   "cell_type": "code",
   "execution_count": 63,
   "metadata": {
    "vscode": {
     "languageId": "r"
    }
   },
   "outputs": [
    {
     "data": {
      "text/plain": [
       "\n",
       "\tHausman Test\n",
       "\n",
       "data:  fatal ~ beertax + spircons + unrate + perinck\n",
       "chisq = 130.93, df = 4, p-value < 2.2e-16\n",
       "alternative hypothesis: one model is inconsistent\n"
      ]
     },
     "metadata": {},
     "output_type": "display_data"
    }
   ],
   "source": [
    "# 使用聚类稳健标准误\n",
    "library(lmtest)\n",
    "phtest(fit_fe, fit_re, vcov = function(x) vcovCL(x, cluster = ~ state))"
   ]
  },
  {
   "cell_type": "code",
   "execution_count": 73,
   "metadata": {
    "vscode": {
     "languageId": "r"
    }
   },
   "outputs": [
    {
     "data": {
      "text/html": [
       "<table class=\"dataframe\">\n",
       "<caption>A tibble: 9 x 5</caption>\n",
       "<thead>\n",
       "\t<tr><th scope=col>term</th><th scope=col>estimate</th><th scope=col>std.error</th><th scope=col>statistic</th><th scope=col>p.value</th></tr>\n",
       "\t<tr><th scope=col>&lt;chr&gt;</th><th scope=col>&lt;dbl&gt;</th><th scope=col>&lt;dbl&gt;</th><th scope=col>&lt;dbl&gt;</th><th scope=col>&lt;dbl&gt;</th></tr>\n",
       "</thead>\n",
       "<tbody>\n",
       "\t<tr><td>(Intercept)   </td><td> 0.53444678</td><td>0.10299814</td><td> 5.1888974</td><td>0.00000037</td></tr>\n",
       "\t<tr><td>beertax       </td><td> 0.07403619</td><td>0.12199449</td><td> 0.6068815</td><td>0.54435071</td></tr>\n",
       "\t<tr><td>spircons      </td><td> 0.29975174</td><td>0.09356142</td><td> 3.2037962</td><td>0.00148987</td></tr>\n",
       "\t<tr><td>unrate        </td><td> 0.03223326</td><td>0.03001884</td><td> 1.0737678</td><td>0.28371846</td></tr>\n",
       "\t<tr><td>perinck       </td><td>-0.18417475</td><td>0.04105139</td><td>-4.4864435</td><td>0.00001004</td></tr>\n",
       "\t<tr><td>beertax_gamma </td><td>-0.55810896</td><td>0.25930126</td><td>-2.1523573</td><td>0.03210066</td></tr>\n",
       "\t<tr><td>spircons_gamma</td><td> 0.51721342</td><td>0.16525684</td><td> 3.1297549</td><td>0.00190716</td></tr>\n",
       "\t<tr><td>unrate_gamma  </td><td>-0.06128320</td><td>0.03205472</td><td>-1.9118305</td><td>0.05677169</td></tr>\n",
       "\t<tr><td>perinck_gamma </td><td> 0.28888502</td><td>0.06342260</td><td> 4.5549226</td><td>0.00000741</td></tr>\n",
       "</tbody>\n",
       "</table>\n"
      ],
      "text/latex": [
       "A tibble: 9 x 5\n",
       "\\begin{tabular}{lllll}\n",
       " term & estimate & std.error & statistic & p.value\\\\\n",
       " <chr> & <dbl> & <dbl> & <dbl> & <dbl>\\\\\n",
       "\\hline\n",
       "\t (Intercept)    &  0.53444678 & 0.10299814 &  5.1888974 & 0.00000037\\\\\n",
       "\t beertax        &  0.07403619 & 0.12199449 &  0.6068815 & 0.54435071\\\\\n",
       "\t spircons       &  0.29975174 & 0.09356142 &  3.2037962 & 0.00148987\\\\\n",
       "\t unrate         &  0.03223326 & 0.03001884 &  1.0737678 & 0.28371846\\\\\n",
       "\t perinck        & -0.18417475 & 0.04105139 & -4.4864435 & 0.00001004\\\\\n",
       "\t beertax\\_gamma  & -0.55810896 & 0.25930126 & -2.1523573 & 0.03210066\\\\\n",
       "\t spircons\\_gamma &  0.51721342 & 0.16525684 &  3.1297549 & 0.00190716\\\\\n",
       "\t unrate\\_gamma   & -0.06128320 & 0.03205472 & -1.9118305 & 0.05677169\\\\\n",
       "\t perinck\\_gamma  &  0.28888502 & 0.06342260 &  4.5549226 & 0.00000741\\\\\n",
       "\\end{tabular}\n"
      ],
      "text/markdown": [
       "\n",
       "A tibble: 9 x 5\n",
       "\n",
       "| term &lt;chr&gt; | estimate &lt;dbl&gt; | std.error &lt;dbl&gt; | statistic &lt;dbl&gt; | p.value &lt;dbl&gt; |\n",
       "|---|---|---|---|---|\n",
       "| (Intercept)    |  0.53444678 | 0.10299814 |  5.1888974 | 0.00000037 |\n",
       "| beertax        |  0.07403619 | 0.12199449 |  0.6068815 | 0.54435071 |\n",
       "| spircons       |  0.29975174 | 0.09356142 |  3.2037962 | 0.00148987 |\n",
       "| unrate         |  0.03223326 | 0.03001884 |  1.0737678 | 0.28371846 |\n",
       "| perinck        | -0.18417475 | 0.04105139 | -4.4864435 | 0.00001004 |\n",
       "| beertax_gamma  | -0.55810896 | 0.25930126 | -2.1523573 | 0.03210066 |\n",
       "| spircons_gamma |  0.51721342 | 0.16525684 |  3.1297549 | 0.00190716 |\n",
       "| unrate_gamma   | -0.06128320 | 0.03205472 | -1.9118305 | 0.05677169 |\n",
       "| perinck_gamma  |  0.28888502 | 0.06342260 |  4.5549226 | 0.00000741 |\n",
       "\n"
      ],
      "text/plain": [
       "  term           estimate    std.error  statistic  p.value   \n",
       "1 (Intercept)     0.53444678 0.10299814  5.1888974 0.00000037\n",
       "2 beertax         0.07403619 0.12199449  0.6068815 0.54435071\n",
       "3 spircons        0.29975174 0.09356142  3.2037962 0.00148987\n",
       "4 unrate          0.03223326 0.03001884  1.0737678 0.28371846\n",
       "5 perinck        -0.18417475 0.04105139 -4.4864435 0.00001004\n",
       "6 beertax_gamma  -0.55810896 0.25930126 -2.1523573 0.03210066\n",
       "7 spircons_gamma  0.51721342 0.16525684  3.1297549 0.00190716\n",
       "8 unrate_gamma   -0.06128320 0.03205472 -1.9118305 0.05677169\n",
       "9 perinck_gamma   0.28888502 0.06342260  4.5549226 0.00000741"
      ]
     },
     "metadata": {},
     "output_type": "display_data"
    }
   ],
   "source": [
    "# 辅助回归替代豪斯曼检验\n",
    "T <- length(unique(traffic$year))\n",
    "N <- length(unique(traffic$state))\n",
    "\n",
    "# 添加变量-均值项，命名格式为变量_gamma\n",
    "traffic_re_manual <- traffic %>%\n",
    "  group_by(state) %>%\n",
    "  mutate(\n",
    "    across(\n",
    "      .cols = c(beertax, spircons, unrate, perinck),\n",
    "      .fns = ~ .x - mean(.x),\n",
    "      .names = \"{col}_gamma\"\n",
    "    )\n",
    "  ) %>%\n",
    "  ungroup()\n",
    "\n",
    "# 估计扰动项\n",
    "fit_fe <- plm(\n",
    "  fatal ~ beertax + spircons + unrate + perinck,\n",
    "  data = pdata_traffic,\n",
    "  index = c(\"state\", \"year\"),\n",
    "  model = \"within\"\n",
    ")\n",
    "\n",
    "# 得到e2\n",
    "e2 <- sum(residuals(fit_fe)^2) /\n",
    "      (nrow(traffic) - length(fit_fe$coefficients) - N)\n",
    "\n",
    "# 估计随机效应与扰动项\n",
    "fit_be <- plm(\n",
    "  fatal ~ beertax + spircons + unrate + perinck,\n",
    "  data = pdata_traffic,\n",
    "  index = c(\"state\", \"year\"),\n",
    "  model = \"between\"\n",
    ")\n",
    "# 得到u2+e2/T\n",
    "u2_plus_e2 <- sum(residuals(fit_be)^2) / (N - length(fit_be$coefficients))\n",
    "\n",
    "# 估计theta\n",
    "u2 <- u2_plus_e2 - e2 / T\n",
    "theta <- 1 - sqrt(e2 / (T * u2 + e2))\n",
    "\n",
    "# 计算差值\n",
    "traffic_re_manual <- traffic_re_manual %>%\n",
    "  group_by(state) %>%\n",
    "  mutate(\n",
    "    across(\n",
    "      .cols = c(fatal, beertax, spircons, unrate, perinck),\n",
    "      .fns = ~ .x - theta * mean(.x)\n",
    "    )\n",
    "  ) %>%\n",
    "  ungroup()\n",
    "\n",
    "# 拟合RE模型\n",
    "fit_re_manual <- lm(\n",
    "  fatal ~ beertax + spircons + unrate + perinck +\n",
    "          beertax_gamma + spircons_gamma + unrate_gamma + perinck_gamma,\n",
    "  data = traffic_re_manual\n",
    ")\n",
    "\n",
    "# 使用聚类稳健标准误\n",
    "CL_re_manual <- vcovCL(fit_re_manual, cluster = ~ state)\n",
    "coeftest(fit_re_manual, vcov = CL_re_manual) %>% round(digits = 8) %>% tidy()"
   ]
  },
  {
   "cell_type": "code",
   "execution_count": 79,
   "metadata": {
    "vscode": {
     "languageId": "r"
    }
   },
   "outputs": [
    {
     "data": {
      "text/html": [
       "<table class=\"dataframe\">\n",
       "<caption>A anova: 2 x 4</caption>\n",
       "<thead>\n",
       "\t<tr><th></th><th scope=col>Res.Df</th><th scope=col>Df</th><th scope=col>Chisq</th><th scope=col>Pr(&gt;Chisq)</th></tr>\n",
       "\t<tr><th></th><th scope=col>&lt;dbl&gt;</th><th scope=col>&lt;dbl&gt;</th><th scope=col>&lt;dbl&gt;</th><th scope=col>&lt;dbl&gt;</th></tr>\n",
       "</thead>\n",
       "<tbody>\n",
       "\t<tr><th scope=row>1</th><td>331</td><td>NA</td><td>      NA</td><td>          NA</td></tr>\n",
       "\t<tr><th scope=row>2</th><td>327</td><td> 4</td><td>63.42695</td><td>5.517458e-13</td></tr>\n",
       "</tbody>\n",
       "</table>\n"
      ],
      "text/latex": [
       "A anova: 2 x 4\n",
       "\\begin{tabular}{r|llll}\n",
       "  & Res.Df & Df & Chisq & Pr(>Chisq)\\\\\n",
       "  & <dbl> & <dbl> & <dbl> & <dbl>\\\\\n",
       "\\hline\n",
       "\t1 & 331 & NA &       NA &           NA\\\\\n",
       "\t2 & 327 &  4 & 63.42695 & 5.517458e-13\\\\\n",
       "\\end{tabular}\n"
      ],
      "text/markdown": [
       "\n",
       "A anova: 2 x 4\n",
       "\n",
       "| <!--/--> | Res.Df &lt;dbl&gt; | Df &lt;dbl&gt; | Chisq &lt;dbl&gt; | Pr(&gt;Chisq) &lt;dbl&gt; |\n",
       "|---|---|---|---|---|\n",
       "| 1 | 331 | NA |       NA |           NA |\n",
       "| 2 | 327 |  4 | 63.42695 | 5.517458e-13 |\n",
       "\n"
      ],
      "text/plain": [
       "  Res.Df Df Chisq    Pr(>Chisq)  \n",
       "1 331    NA       NA           NA\n",
       "2 327     4 63.42695 5.517458e-13"
      ]
     },
     "metadata": {},
     "output_type": "display_data"
    }
   ],
   "source": [
    "# 看_gamma结尾系数是否同时为0\n",
    "library(car)\n",
    "linearHypothesis(\n",
    "  fit_re_manual,\n",
    "  c(\"beertax_gamma = 0\", \"spircons_gamma = 0\", \"unrate_gamma = 0\", \"perinck_gamma = 0\"),\n",
    "  vcov = CL_re_manual,\n",
    "  test = \"Chisq\"\n",
    ")"
   ]
  }
 ],
 "metadata": {
  "kernelspec": {
   "display_name": "R",
   "language": "R",
   "name": "ir"
  },
  "language_info": {
   "codemirror_mode": "r",
   "file_extension": ".r",
   "mimetype": "text/x-r-source",
   "name": "R",
   "pygments_lexer": "r",
   "version": "4.4.2"
  }
 },
 "nbformat": 4,
 "nbformat_minor": 2
}

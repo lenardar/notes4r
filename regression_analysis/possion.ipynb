{
 "cells": [
  {
   "cell_type": "code",
   "execution_count": null,
   "id": "7c3a1f34",
   "metadata": {
    "vscode": {
     "languageId": "r"
    }
   },
   "outputs": [
    {
     "name": "stderr",
     "output_type": "stream",
     "text": [
      "-- \u001b[1mAttaching core tidyverse packages\u001b[22m ------------------------ tidyverse 2.0.0 --\n",
      "\u001b[32mv\u001b[39m \u001b[34mdplyr    \u001b[39m 1.1.4     \u001b[32mv\u001b[39m \u001b[34mreadr    \u001b[39m 2.1.5\n",
      "\u001b[32mv\u001b[39m \u001b[34mforcats  \u001b[39m 1.0.0     \u001b[32mv\u001b[39m \u001b[34mstringr  \u001b[39m 1.5.1\n",
      "\u001b[32mv\u001b[39m \u001b[34mggplot2  \u001b[39m 3.5.2     \u001b[32mv\u001b[39m \u001b[34mtibble   \u001b[39m 3.2.1\n",
      "\u001b[32mv\u001b[39m \u001b[34mlubridate\u001b[39m 1.9.4     \u001b[32mv\u001b[39m \u001b[34mtidyr    \u001b[39m 1.3.1\n",
      "\u001b[32mv\u001b[39m \u001b[34mpurrr    \u001b[39m 1.0.4     \n",
      "-- \u001b[1mConflicts\u001b[22m ------------------------------------------ tidyverse_conflicts() --\n",
      "\u001b[31mx\u001b[39m \u001b[34mdplyr\u001b[39m::\u001b[32mfilter()\u001b[39m masks \u001b[34mstats\u001b[39m::filter()\n",
      "\u001b[31mx\u001b[39m \u001b[34mdplyr\u001b[39m::\u001b[32mlag()\u001b[39m    masks \u001b[34mstats\u001b[39m::lag()\n",
      "\u001b[36mi\u001b[39m Use the conflicted package (\u001b[3m\u001b[34m<http://conflicted.r-lib.org/>\u001b[39m\u001b[23m) to force all conflicts to become errors\n",
      "\u001b[1mRows: \u001b[22m\u001b[34m39\u001b[39m \u001b[1mColumns: \u001b[22m\u001b[34m4\u001b[39m\n",
      "\u001b[36m--\u001b[39m \u001b[1mColumn specification\u001b[22m \u001b[36m--------------------------------------------------------\u001b[39m\n",
      "\u001b[1mDelimiter:\u001b[22m \",\"\n",
      "\u001b[32mdbl\u001b[39m (4): ID, tea, smoke, beat\n",
      "\n",
      "\u001b[36mi\u001b[39m Use `spec()` to retrieve the full column specification for this data.\n",
      "\u001b[36mi\u001b[39m Specify the column types or set `show_col_types = FALSE` to quiet this message.\n"
     ]
    },
    {
     "data": {
      "text/html": [
       "<table class=\"dataframe\">\n",
       "<caption>A tibble: 6 x 4</caption>\n",
       "<thead>\n",
       "\t<tr><th scope=col>ID</th><th scope=col>tea</th><th scope=col>smoke</th><th scope=col>beat</th></tr>\n",
       "\t<tr><th scope=col>&lt;dbl&gt;</th><th scope=col>&lt;dbl&gt;</th><th scope=col>&lt;dbl&gt;</th><th scope=col>&lt;dbl&gt;</th></tr>\n",
       "</thead>\n",
       "<tbody>\n",
       "\t<tr><td>1</td><td>1</td><td>1</td><td>13</td></tr>\n",
       "\t<tr><td>2</td><td>0</td><td>1</td><td> 7</td></tr>\n",
       "\t<tr><td>3</td><td>0</td><td>0</td><td> 2</td></tr>\n",
       "\t<tr><td>4</td><td>1</td><td>1</td><td> 9</td></tr>\n",
       "\t<tr><td>5</td><td>0</td><td>0</td><td> 2</td></tr>\n",
       "\t<tr><td>6</td><td>1</td><td>1</td><td>12</td></tr>\n",
       "</tbody>\n",
       "</table>\n"
      ],
      "text/latex": [
       "A tibble: 6 x 4\n",
       "\\begin{tabular}{llll}\n",
       " ID & tea & smoke & beat\\\\\n",
       " <dbl> & <dbl> & <dbl> & <dbl>\\\\\n",
       "\\hline\n",
       "\t 1 & 1 & 1 & 13\\\\\n",
       "\t 2 & 0 & 1 &  7\\\\\n",
       "\t 3 & 0 & 0 &  2\\\\\n",
       "\t 4 & 1 & 1 &  9\\\\\n",
       "\t 5 & 0 & 0 &  2\\\\\n",
       "\t 6 & 1 & 1 & 12\\\\\n",
       "\\end{tabular}\n"
      ],
      "text/markdown": [
       "\n",
       "A tibble: 6 x 4\n",
       "\n",
       "| ID &lt;dbl&gt; | tea &lt;dbl&gt; | smoke &lt;dbl&gt; | beat &lt;dbl&gt; |\n",
       "|---|---|---|---|\n",
       "| 1 | 1 | 1 | 13 |\n",
       "| 2 | 0 | 1 |  7 |\n",
       "| 3 | 0 | 0 |  2 |\n",
       "| 4 | 1 | 1 |  9 |\n",
       "| 5 | 0 | 0 |  2 |\n",
       "| 6 | 1 | 1 | 12 |\n",
       "\n"
      ],
      "text/plain": [
       "  ID tea smoke beat\n",
       "1 1  1   1     13  \n",
       "2 2  0   1      7  \n",
       "3 3  0   0      2  \n",
       "4 4  1   1      9  \n",
       "5 5  0   0      2  \n",
       "6 6  1   1     12  "
      ]
     },
     "metadata": {},
     "output_type": "display_data"
    }
   ],
   "source": [
    "library(tidyverse)\n",
    "data <- read_csv(\"./data/possion.csv\")\n",
    "head(data)\n",
    "\n",
    "# ID tea smoke beat\n",
    "# 1 1  1   1     13  \n",
    "# 2 2  0   1      7  \n",
    "# 3 3  0   0      2  \n",
    "# 4 4  1   1      9  \n",
    "# 5 5  0   0      2  \n",
    "# 6 6  1   1     12"
   ]
  },
  {
   "cell_type": "code",
   "execution_count": null,
   "id": "d6fb1cc0",
   "metadata": {
    "vscode": {
     "languageId": "r"
    }
   },
   "outputs": [
    {
     "name": "stdout",
     "output_type": "stream",
     "text": [
      "Rows: 39\n",
      "Columns: 4\n",
      "$ ID    \u001b[3m\u001b[90m<dbl>\u001b[39m\u001b[23m 1, 2, 3, 4, 5, 6, 7, 8, 9, 10, 11, 12, 13, 14, 15, 16, 17, 18, 1~\n",
      "$ tea   \u001b[3m\u001b[90m<dbl>\u001b[39m\u001b[23m 1, 0, 0, 1, 0, 1, 1, 0, 1, 0, 0, 1, 0, 1, 0, 1, 0, 0, 1, 1, 1, 0~\n",
      "$ smoke \u001b[3m\u001b[90m<dbl>\u001b[39m\u001b[23m 1, 1, 0, 1, 0, 1, 0, 1, 0, 1, 0, 0, 1, 1, 1, 1, 1, 0, 1, 0, 1, 0~\n",
      "$ beat  \u001b[3m\u001b[90m<dbl>\u001b[39m\u001b[23m 13, 7, 2, 9, 2, 12, 6, 10, 4, 7, 1, 8, 6, 17, 5, 12, 9, 7, 8, 5,~\n"
     ]
    }
   ],
   "source": [
    "data %>% glimpse()"
   ]
  },
  {
   "cell_type": "code",
   "execution_count": null,
   "id": "fdb2471e",
   "metadata": {
    "vscode": {
     "languageId": "r"
    }
   },
   "outputs": [
    {
     "data": {
      "text/plain": [
       "\n",
       "+-------+--------+--------------+------+------+-----+--------+------+---------------------------------------------------------------+\n",
       "|       | Unique | Missing Pct. | Mean | SD   | Min | Median | Max  | Histogram                                                     |\n",
       "+=======+========+==============+======+======+=====+========+======+===============================================================+\n",
       "| ID    | 39     | 0            | 20.0 | 11.4 | 1.0 | 20.0   | 39.0 | ![](tinytable_assets/idkh0cc0znu2b62jsedmkw.png){ height=16 } |\n",
       "+-------+--------+--------------+------+------+-----+--------+------+---------------------------------------------------------------+\n",
       "| tea   | 2      | 0            | 0.5  | 0.5  | 0.0 | 0.0    | 1.0  | ![](tinytable_assets/idgr2le5rg82100tt3yy07.png){ height=16 } |\n",
       "+-------+--------+--------------+------+------+-----+--------+------+---------------------------------------------------------------+\n",
       "| smoke | 2      | 0            | 0.6  | 0.5  | 0.0 | 1.0    | 1.0  | ![](tinytable_assets/idc5bsq55kveuqx8a9atj0.png){ height=16 } |\n",
       "+-------+--------+--------------+------+------+-----+--------+------+---------------------------------------------------------------+\n",
       "| beat  | 14     | 0            | 7.3  | 3.3  | 1.0 | 7.0    | 17.0 | ![](tinytable_assets/idw3b7nwm1jevidh0jibxv.png){ height=16 } |\n",
       "+-------+--------+--------------+------+------+-----+--------+------+---------------------------------------------------------------+ "
      ]
     },
     "metadata": {},
     "output_type": "display_data"
    }
   ],
   "source": [
    "library(modelsummary)\n",
    "datasummary_skim(data)\n",
    "\n",
    "# +-------+--------+--------------+------+------+-----+--------+------+---------------------------------------------------------------+\n",
    "# |       | Unique | Missing Pct. | Mean | SD   | Min | Median | Max  | Histogram                                                     |\n",
    "# +=======+========+==============+======+======+=====+========+======+===============================================================+\n",
    "# | ID    | 39     | 0            | 20.0 | 11.4 | 1.0 | 20.0   | 39.0 | ![](tinytable_assets/idkh0cc0znu2b62jsedmkw.png){ height=16 } |\n",
    "# +-------+--------+--------------+------+------+-----+--------+------+---------------------------------------------------------------+\n",
    "# | tea   | 2      | 0            | 0.5  | 0.5  | 0.0 | 0.0    | 1.0  | ![](tinytable_assets/idgr2le5rg82100tt3yy07.png){ height=16 } |\n",
    "# +-------+--------+--------------+------+------+-----+--------+------+---------------------------------------------------------------+\n",
    "# | smoke | 2      | 0            | 0.6  | 0.5  | 0.0 | 1.0    | 1.0  | ![](tinytable_assets/idc5bsq55kveuqx8a9atj0.png){ height=16 } |\n",
    "# +-------+--------+--------------+------+------+-----+--------+------+---------------------------------------------------------------+\n",
    "# | beat  | 14     | 0            | 7.3  | 3.3  | 1.0 | 7.0    | 17.0 | ![](tinytable_assets/idw3b7nwm1jevidh0jibxv.png){ height=16 } |\n",
    "# +-------+--------+--------------+------+------+-----+--------+------+---------------------------------------------------------------+"
   ]
  },
  {
   "cell_type": "code",
   "execution_count": 5,
   "id": "8f1a71d4",
   "metadata": {
    "vscode": {
     "languageId": "r"
    }
   },
   "outputs": [
    {
     "data": {
      "image/png": "[encoded data removed]",
      "text/plain": [
       "plot without title"
      ]
     },
     "metadata": {
      "image/png": {
       "height": 420,
       "width": 420
      }
     },
     "output_type": "display_data"
    }
   ],
   "source": [
    "boxplot(data$beat)"
   ]
  },
  {
   "cell_type": "code",
   "execution_count": null,
   "id": "9f855e66",
   "metadata": {
    "vscode": {
     "languageId": "r"
    }
   },
   "outputs": [
    {
     "data": {
      "text/plain": [
       "\n",
       "Call:\n",
       "glm(formula = beat ~ tea + smoke, family = poisson(), data = data)\n",
       "\n",
       "Coefficients:\n",
       "            Estimate Std. Error z value Pr(>|z|)    \n",
       "(Intercept)   1.3319     0.1422   9.366  < 2e-16 ***\n",
       "tea           0.4231     0.1204   3.513 0.000442 ***\n",
       "smoke         0.6084     0.1397   4.355 1.33e-05 ***\n",
       "---\n",
       "Signif. codes:  0 '***' 0.001 '**' 0.01 '*' 0.05 '.' 0.1 ' ' 1\n",
       "\n",
       "(Dispersion parameter for poisson family taken to be 1)\n",
       "\n",
       "    Null deviance: 57.996  on 38  degrees of freedom\n",
       "Residual deviance: 25.112  on 36  degrees of freedom\n",
       "AIC: 176.77\n",
       "\n",
       "Number of Fisher Scoring iterations: 4\n"
      ]
     },
     "metadata": {},
     "output_type": "display_data"
    },
    {
     "data": {
      "text/html": [
       "0.697545339426321"
      ],
      "text/latex": [
       "0.697545339426321"
      ],
      "text/markdown": [
       "0.697545339426321"
      ],
      "text/plain": [
       "[1] 0.6975453"
      ]
     },
     "metadata": {},
     "output_type": "display_data"
    }
   ],
   "source": [
    "# 使用 data 而不是 mydata，并优化代码格式\n",
    "fit1 <- glm(\n",
    "  beat ~ tea + smoke,\n",
    "  data = data,\n",
    "  family = poisson()\n",
    ")  # 建立 Poisson 回归模型\n",
    "summary(fit1)  # 查看回归模型参数\n",
    "\n",
    "# 计算残差偏差与残差自由度的比值\n",
    "c <- deviance(fit1) / df.residual(fit1)\n",
    "c  # 输出比值\n",
    "\n",
    "# [1] 0.6975453"
   ]
  },
  {
   "cell_type": "code",
   "execution_count": null,
   "id": "c63a5fd6",
   "metadata": {
    "vscode": {
     "languageId": "r"
    }
   },
   "outputs": [
    {
     "data": {
      "text/html": [
       "<style>\n",
       ".dl-inline {width: auto; margin:0; padding: 0}\n",
       ".dl-inline>dt, .dl-inline>dd {float: none; width: auto; display: inline-block}\n",
       ".dl-inline>dt::after {content: \":\\0020\"; padding-right: .5ex}\n",
       ".dl-inline>dt:not(:first-of-type) {padding-left: .5ex}\n",
       "</style><dl class=dl-inline><dt>tea</dt><dd>1.00036855683673</dd><dt>smoke</dt><dd>1.00036855683673</dd></dl>\n"
      ],
      "text/latex": [
       "\\begin{description*}\n",
       "\\item[tea] 1.00036855683673\n",
       "\\item[smoke] 1.00036855683673\n",
       "\\end{description*}\n"
      ],
      "text/markdown": [
       "tea\n",
       ":   1.00036855683673smoke\n",
       ":   1.00036855683673\n",
       "\n"
      ],
      "text/plain": [
       "     tea    smoke \n",
       "1.000369 1.000369 "
      ]
     },
     "metadata": {},
     "output_type": "display_data"
    }
   ],
   "source": [
    "library(car) #加载car包\n",
    "fit2 <- lm(beat ~ tea + smoke, data = data) #建立回归模型\n",
    "vif(fit2) #计算VIF\n",
    "\n",
    "# # tea    smoke \n",
    "# 1.000369 1.000369"
   ]
  },
  {
   "cell_type": "code",
   "execution_count": null,
   "id": "838dfc66",
   "metadata": {
    "vscode": {
     "languageId": "r"
    }
   },
   "outputs": [
    {
     "data": {
      "text/plain": [
       "\n",
       "Call:\n",
       "glm(formula = beat ~ tea + smoke, family = poisson(), data = data)\n",
       "\n",
       "Coefficients:\n",
       "            Estimate Std. Error z value Pr(>|z|)    \n",
       "(Intercept)   1.3319     0.1422   9.366  < 2e-16 ***\n",
       "tea           0.4231     0.1204   3.513 0.000442 ***\n",
       "smoke         0.6084     0.1397   4.355 1.33e-05 ***\n",
       "---\n",
       "Signif. codes:  0 '***' 0.001 '**' 0.01 '*' 0.05 '.' 0.1 ' ' 1\n",
       "\n",
       "(Dispersion parameter for poisson family taken to be 1)\n",
       "\n",
       "    Null deviance: 57.996  on 38  degrees of freedom\n",
       "Residual deviance: 25.112  on 36  degrees of freedom\n",
       "AIC: 176.77\n",
       "\n",
       "Number of Fisher Scoring iterations: 4\n"
      ]
     },
     "metadata": {},
     "output_type": "display_data"
    },
    {
     "name": "stderr",
     "output_type": "stream",
     "text": [
      "Waiting for profiling to be done...\n",
      "\n"
     ]
    },
    {
     "data": {
      "text/html": [
       "<table class=\"dataframe\">\n",
       "<caption>A matrix: 3 x 2 of type dbl</caption>\n",
       "<thead>\n",
       "\t<tr><th></th><th scope=col>2.5 %</th><th scope=col>97.5 %</th></tr>\n",
       "</thead>\n",
       "<tbody>\n",
       "\t<tr><th scope=row>(Intercept)</th><td>1.0438101</td><td>1.6017535</td></tr>\n",
       "\t<tr><th scope=row>tea</th><td>0.1884714</td><td>0.6611047</td></tr>\n",
       "\t<tr><th scope=row>smoke</th><td>0.3407066</td><td>0.8892835</td></tr>\n",
       "</tbody>\n",
       "</table>\n"
      ],
      "text/latex": [
       "A matrix: 3 x 2 of type dbl\n",
       "\\begin{tabular}{r|ll}\n",
       "  & 2.5 \\% & 97.5 \\%\\\\\n",
       "\\hline\n",
       "\t(Intercept) & 1.0438101 & 1.6017535\\\\\n",
       "\ttea & 0.1884714 & 0.6611047\\\\\n",
       "\tsmoke & 0.3407066 & 0.8892835\\\\\n",
       "\\end{tabular}\n"
      ],
      "text/markdown": [
       "\n",
       "A matrix: 3 x 2 of type dbl\n",
       "\n",
       "| <!--/--> | 2.5 % | 97.5 % |\n",
       "|---|---|---|\n",
       "| (Intercept) | 1.0438101 | 1.6017535 |\n",
       "| tea | 0.1884714 | 0.6611047 |\n",
       "| smoke | 0.3407066 | 0.8892835 |\n",
       "\n"
      ],
      "text/plain": [
       "            2.5 %     97.5 %   \n",
       "(Intercept) 1.0438101 1.6017535\n",
       "tea         0.1884714 0.6611047\n",
       "smoke       0.3407066 0.8892835"
      ]
     },
     "metadata": {},
     "output_type": "display_data"
    },
    {
     "data": {
      "text/html": [
       "<style>\n",
       ".dl-inline {width: auto; margin:0; padding: 0}\n",
       ".dl-inline>dt, .dl-inline>dd {float: none; width: auto; display: inline-block}\n",
       ".dl-inline>dt::after {content: \":\\0020\"; padding-right: .5ex}\n",
       ".dl-inline>dt:not(:first-of-type) {padding-left: .5ex}\n",
       "</style><dl class=dl-inline><dt>(Intercept)</dt><dd>3.78808256969139</dd><dt>tea</dt><dd>1.52672120938512</dd><dt>smoke</dt><dd>1.83741064344527</dd></dl>\n"
      ],
      "text/latex": [
       "\\begin{description*}\n",
       "\\item[(Intercept)] 3.78808256969139\n",
       "\\item[tea] 1.52672120938512\n",
       "\\item[smoke] 1.83741064344527\n",
       "\\end{description*}\n"
      ],
      "text/markdown": [
       "(Intercept)\n",
       ":   3.78808256969139tea\n",
       ":   1.52672120938512smoke\n",
       ":   1.83741064344527\n",
       "\n"
      ],
      "text/plain": [
       "(Intercept)         tea       smoke \n",
       "   3.788083    1.526721    1.837411 "
      ]
     },
     "metadata": {},
     "output_type": "display_data"
    },
    {
     "name": "stderr",
     "output_type": "stream",
     "text": [
      "Waiting for profiling to be done...\n",
      "\n"
     ]
    },
    {
     "data": {
      "text/html": [
       "<table class=\"dataframe\">\n",
       "<caption>A matrix: 3 x 2 of type dbl</caption>\n",
       "<thead>\n",
       "\t<tr><th></th><th scope=col>2.5 %</th><th scope=col>97.5 %</th></tr>\n",
       "</thead>\n",
       "<tbody>\n",
       "\t<tr><th scope=row>(Intercept)</th><td>2.840017</td><td>4.961725</td></tr>\n",
       "\t<tr><th scope=row>tea</th><td>1.207403</td><td>1.936931</td></tr>\n",
       "\t<tr><th scope=row>smoke</th><td>1.405941</td><td>2.433385</td></tr>\n",
       "</tbody>\n",
       "</table>\n"
      ],
      "text/latex": [
       "A matrix: 3 x 2 of type dbl\n",
       "\\begin{tabular}{r|ll}\n",
       "  & 2.5 \\% & 97.5 \\%\\\\\n",
       "\\hline\n",
       "\t(Intercept) & 2.840017 & 4.961725\\\\\n",
       "\ttea & 1.207403 & 1.936931\\\\\n",
       "\tsmoke & 1.405941 & 2.433385\\\\\n",
       "\\end{tabular}\n"
      ],
      "text/markdown": [
       "\n",
       "A matrix: 3 x 2 of type dbl\n",
       "\n",
       "| <!--/--> | 2.5 % | 97.5 % |\n",
       "|---|---|---|\n",
       "| (Intercept) | 2.840017 | 4.961725 |\n",
       "| tea | 1.207403 | 1.936931 |\n",
       "| smoke | 1.405941 | 2.433385 |\n",
       "\n"
      ],
      "text/plain": [
       "            2.5 %    97.5 %  \n",
       "(Intercept) 2.840017 4.961725\n",
       "tea         1.207403 1.936931\n",
       "smoke       1.405941 2.433385"
      ]
     },
     "metadata": {},
     "output_type": "display_data"
    }
   ],
   "source": [
    "# 使用 data 而不是 mydata，并优化代码格式\n",
    "fit <- glm(\n",
    "  beat ~ tea + smoke,\n",
    "  data = data,\n",
    "  family = poisson()\n",
    ")  # 建立 Poisson 回归模型\n",
    "\n",
    "summary(fit)                # 查看回归模型参数\n",
    "confint(fit)                # 计算系数的95%置信区间\n",
    "exp(coef(fit))              # 计算IRR\n",
    "exp(confint(fit))           # 计算IRR的95%置信区间\n",
    "\n",
    "# Call:\n",
    "# glm(formula = beat ~ tea + smoke, family = poisson(), data = data)\n",
    "\n",
    "# Coefficients:\n",
    "#             Estimate Std. Error z value Pr(>|z|)    \n",
    "# (Intercept)   1.3319     0.1422   9.366  < 2e-16 ***\n",
    "# tea           0.4231     0.1204   3.513 0.000442 ***\n",
    "# smoke         0.6084     0.1397   4.355 1.33e-05 ***\n",
    "# ---\n",
    "# Signif. codes:  0 '***' 0.001 '**' 0.01 '*' 0.05 '.' 0.1 ' ' 1\n",
    "\n",
    "# (Dispersion parameter for poisson family taken to be 1)\n",
    "\n",
    "#     Null deviance: 57.996  on 38  degrees of freedom\n",
    "# Residual deviance: 25.112  on 36  degrees of freedom\n",
    "# AIC: 176.77\n",
    "\n",
    "# Number of Fisher Scoring iterations: 4\n",
    "\n",
    "# 2.5 %     97.5 %   \n",
    "# (Intercept) 1.0438101 1.6017535\n",
    "# tea         0.1884714 0.6611047\n",
    "# smoke       0.3407066 0.8892835\n",
    "\n",
    "# (Intercept)         tea       smoke \n",
    "#    3.788083    1.526721    1.837411\n",
    "\n",
    "# 2.5 %    97.5 %  \n",
    "# (Intercept) 2.840017 4.961725\n",
    "# tea         1.207403 1.936931\n",
    "# smoke       1.405941 2.433385"
   ]
  },
  {
   "cell_type": "code",
   "execution_count": 10,
   "id": "930cfc6d",
   "metadata": {
    "vscode": {
     "languageId": "r"
    }
   },
   "outputs": [
    {
     "data": {
      "text/html": [
       "<style>\n",
       ".dl-inline {width: auto; margin:0; padding: 0}\n",
       ".dl-inline>dt, .dl-inline>dd {float: none; width: auto; display: inline-block}\n",
       ".dl-inline>dt::after {content: \":\\0020\"; padding-right: .5ex}\n",
       ".dl-inline>dt:not(:first-of-type) {padding-left: .5ex}\n",
       "</style><dl class=dl-inline><dt>1</dt><dd>0.0155625266196973</dd><dt>2</dt><dd>5.76748796154525e-06</dd><dt>3</dt><dd>0.0252734051590442</dd><dt>4</dt><dd>0.0073063945558306</dd><dt>5</dt><dd>0.0252734051590442</dd><dt>6</dt><dd>0.00521183350853029</dd><dt>7</dt><dd>0.000331786137086649</dd><dt>8</dt><dd>0.0337499834475</dd><dt>9</dt><dd>0.0224799864944404</dd><dt>10</dt><dd>5.76748796154525e-06</dd><dt>11</dt><dd>0.061446886608882</dd><dt>12</dt><dd>0.034731267900773</dd><dt>13</dt><dd>0.00336807854720235</dd><dt>14</dt><dd>0.112209699699034</dd><dt>15</dt><dd>0.01403558112932</dd><dt>16</dt><dd>0.00521183350853029</dd><dt>17</dt><dd>0.0151967199381104</dd><dt>18</dt><dd>0.0815487605596976</dd><dt>19</dt><dd>0.0190534616985312</dd><dt>20</dt><dd>0.00433742605063353</dd><dt>21</dt><dd>0.00108376747659695</dd><dt>22</dt><dd>0.0386746544595879</dd><dt>23</dt><dd>0.000385580460830174</dd><dt>24</dt><dd>0.000354994789337031</dd><dt>25</dt><dd>0.0320082752343144</dd><dt>26</dt><dd>0.01403558112932</dd><dt>27</dt><dd>0.00108376747659695</dd><dt>28</dt><dd>0.0151967199381104</dd><dt>29</dt><dd>5.76748796154525e-06</dd><dt>30</dt><dd>0.034731267900773</dd><dt>31</dt><dd>0.0073063945558306</dd><dt>32</dt><dd>0.000331786137086649</dd><dt>33</dt><dd>0.0116100658694677</dd><dt>34</dt><dd>0.0073063945558306</dd><dt>35</dt><dd>5.76748796154525e-06</dd><dt>36</dt><dd>0.01403558112932</dd><dt>37</dt><dd>0.0547594674685074</dd><dt>38</dt><dd>0.0190534616985312</dd><dt>39</dt><dd>0.0151967199381104</dd></dl>\n"
      ],
      "text/latex": [
       "\\begin{description*}\n",
       "\\item[1] 0.0155625266196973\n",
       "\\item[2] 5.76748796154525e-06\n",
       "\\item[3] 0.0252734051590442\n",
       "\\item[4] 0.0073063945558306\n",
       "\\item[5] 0.0252734051590442\n",
       "\\item[6] 0.00521183350853029\n",
       "\\item[7] 0.000331786137086649\n",
       "\\item[8] 0.0337499834475\n",
       "\\item[9] 0.0224799864944404\n",
       "\\item[10] 5.76748796154525e-06\n",
       "\\item[11] 0.061446886608882\n",
       "\\item[12] 0.034731267900773\n",
       "\\item[13] 0.00336807854720235\n",
       "\\item[14] 0.112209699699034\n",
       "\\item[15] 0.01403558112932\n",
       "\\item[16] 0.00521183350853029\n",
       "\\item[17] 0.0151967199381104\n",
       "\\item[18] 0.0815487605596976\n",
       "\\item[19] 0.0190534616985312\n",
       "\\item[20] 0.00433742605063353\n",
       "\\item[21] 0.00108376747659695\n",
       "\\item[22] 0.0386746544595879\n",
       "\\item[23] 0.000385580460830174\n",
       "\\item[24] 0.000354994789337031\n",
       "\\item[25] 0.0320082752343144\n",
       "\\item[26] 0.01403558112932\n",
       "\\item[27] 0.00108376747659695\n",
       "\\item[28] 0.0151967199381104\n",
       "\\item[29] 5.76748796154525e-06\n",
       "\\item[30] 0.034731267900773\n",
       "\\item[31] 0.0073063945558306\n",
       "\\item[32] 0.000331786137086649\n",
       "\\item[33] 0.0116100658694677\n",
       "\\item[34] 0.0073063945558306\n",
       "\\item[35] 5.76748796154525e-06\n",
       "\\item[36] 0.01403558112932\n",
       "\\item[37] 0.0547594674685074\n",
       "\\item[38] 0.0190534616985312\n",
       "\\item[39] 0.0151967199381104\n",
       "\\end{description*}\n"
      ],
      "text/markdown": [
       "1\n",
       ":   0.01556252661969732\n",
       ":   5.76748796154525e-063\n",
       ":   0.02527340515904424\n",
       ":   0.00730639455583065\n",
       ":   0.02527340515904426\n",
       ":   0.005211833508530297\n",
       ":   0.0003317861370866498\n",
       ":   0.03374998344759\n",
       ":   0.022479986494440410\n",
       ":   5.76748796154525e-0611\n",
       ":   0.06144688660888212\n",
       ":   0.03473126790077313\n",
       ":   0.0033680785472023514\n",
       ":   0.11220969969903415\n",
       ":   0.0140355811293216\n",
       ":   0.0052118335085302917\n",
       ":   0.015196719938110418\n",
       ":   0.081548760559697619\n",
       ":   0.019053461698531220\n",
       ":   0.0043374260506335321\n",
       ":   0.0010837674765969522\n",
       ":   0.038674654459587923\n",
       ":   0.00038558046083017424\n",
       ":   0.00035499478933703125\n",
       ":   0.032008275234314426\n",
       ":   0.0140355811293227\n",
       ":   0.0010837674765969528\n",
       ":   0.015196719938110429\n",
       ":   5.76748796154525e-0630\n",
       ":   0.03473126790077331\n",
       ":   0.007306394555830632\n",
       ":   0.00033178613708664933\n",
       ":   0.011610065869467734\n",
       ":   0.007306394555830635\n",
       ":   5.76748796154525e-0636\n",
       ":   0.0140355811293237\n",
       ":   0.054759467468507438\n",
       ":   0.019053461698531239\n",
       ":   0.0151967199381104\n",
       "\n"
      ],
      "text/plain": [
       "           1            2            3            4            5            6 \n",
       "1.556253e-02 5.767488e-06 2.527341e-02 7.306395e-03 2.527341e-02 5.211834e-03 \n",
       "           7            8            9           10           11           12 \n",
       "3.317861e-04 3.374998e-02 2.247999e-02 5.767488e-06 6.144689e-02 3.473127e-02 \n",
       "          13           14           15           16           17           18 \n",
       "3.368079e-03 1.122097e-01 1.403558e-02 5.211834e-03 1.519672e-02 8.154876e-02 \n",
       "          19           20           21           22           23           24 \n",
       "1.905346e-02 4.337426e-03 1.083767e-03 3.867465e-02 3.855805e-04 3.549948e-04 \n",
       "          25           26           27           28           29           30 \n",
       "3.200828e-02 1.403558e-02 1.083767e-03 1.519672e-02 5.767488e-06 3.473127e-02 \n",
       "          31           32           33           34           35           36 \n",
       "7.306395e-03 3.317861e-04 1.161007e-02 7.306395e-03 5.767488e-06 1.403558e-02 \n",
       "          37           38           39 \n",
       "5.475947e-02 1.905346e-02 1.519672e-02 "
      ]
     },
     "metadata": {},
     "output_type": "display_data"
    }
   ],
   "source": [
    "# cook距离\n",
    "library(car)\n",
    "cooks.distance(fit)  # 计算Cook's距离"
   ]
  },
  {
   "cell_type": "code",
   "execution_count": null,
   "id": "5be75c20",
   "metadata": {
    "vscode": {
     "languageId": "r"
    }
   },
   "outputs": [],
   "source": []
  }
 ],
 "metadata": {
  "kernelspec": {
   "display_name": "R",
   "language": "R",
   "name": "ir"
  },
  "language_info": {
   "codemirror_mode": "r",
   "file_extension": ".r",
   "mimetype": "text/x-r-source",
   "name": "R",
   "pygments_lexer": "r",
   "version": "4.4.2"
  }
 },
 "nbformat": 4,
 "nbformat_minor": 5
}

{
 "cells": [
  {
   "cell_type": "code",
   "execution_count": null,
   "id": "f7e4b811",
   "metadata": {
    "vscode": {
     "languageId": "r"
    }
   },
   "outputs": [
    {
     "name": "stderr",
     "output_type": "stream",
     "text": [
      "-- \u001b[1mAttaching core tidyverse packages\u001b[22m ------------------------ tidyverse 2.0.0 --\n",
      "\u001b[32mv\u001b[39m \u001b[34mdplyr    \u001b[39m 1.1.4     \u001b[32mv\u001b[39m \u001b[34mreadr    \u001b[39m 2.1.5\n",
      "\u001b[32mv\u001b[39m \u001b[34mforcats  \u001b[39m 1.0.0     \u001b[32mv\u001b[39m \u001b[34mstringr  \u001b[39m 1.5.1\n",
      "\u001b[32mv\u001b[39m \u001b[34mggplot2  \u001b[39m 3.5.2     \u001b[32mv\u001b[39m \u001b[34mtibble   \u001b[39m 3.2.1\n",
      "\u001b[32mv\u001b[39m \u001b[34mlubridate\u001b[39m 1.9.4     \u001b[32mv\u001b[39m \u001b[34mtidyr    \u001b[39m 1.3.1\n",
      "\u001b[32mv\u001b[39m \u001b[34mpurrr    \u001b[39m 1.0.4     \n",
      "-- \u001b[1mConflicts\u001b[22m ------------------------------------------ tidyverse_conflicts() --\n",
      "\u001b[31mx\u001b[39m \u001b[34mdplyr\u001b[39m::\u001b[32mfilter()\u001b[39m masks \u001b[34mstats\u001b[39m::filter()\n",
      "\u001b[31mx\u001b[39m \u001b[34mdplyr\u001b[39m::\u001b[32mlag()\u001b[39m    masks \u001b[34mstats\u001b[39m::lag()\n",
      "\u001b[36mi\u001b[39m Use the conflicted package (\u001b[3m\u001b[34m<http://conflicted.r-lib.org/>\u001b[39m\u001b[23m) to force all conflicts to become errors\n",
      "\u001b[1mRows: \u001b[22m\u001b[34m146\u001b[39m \u001b[1mColumns: \u001b[22m\u001b[34m5\u001b[39m\n",
      "\u001b[36m--\u001b[39m \u001b[1mColumn specification\u001b[22m \u001b[36m--------------------------------------------------------\u001b[39m\n",
      "\u001b[1mDelimiter:\u001b[22m \",\"\n",
      "\u001b[32mdbl\u001b[39m (5): Race, Sex, Age, Study, Days\n",
      "\n",
      "\u001b[36mi\u001b[39m Use `spec()` to retrieve the full column specification for this data.\n",
      "\u001b[36mi\u001b[39m Specify the column types or set `show_col_types = FALSE` to quiet this message.\n"
     ]
    },
    {
     "data": {
      "text/html": [
       "<table class=\"dataframe\">\n",
       "<caption>A tibble: 6 x 5</caption>\n",
       "<thead>\n",
       "\t<tr><th scope=col>Race</th><th scope=col>Sex</th><th scope=col>Age</th><th scope=col>Study</th><th scope=col>Days</th></tr>\n",
       "\t<tr><th scope=col>&lt;dbl&gt;</th><th scope=col>&lt;dbl&gt;</th><th scope=col>&lt;dbl&gt;</th><th scope=col>&lt;dbl&gt;</th><th scope=col>&lt;dbl&gt;</th></tr>\n",
       "</thead>\n",
       "<tbody>\n",
       "\t<tr><td>1</td><td>1</td><td>4</td><td>2</td><td> 2</td></tr>\n",
       "\t<tr><td>1</td><td>1</td><td>4</td><td>2</td><td>11</td></tr>\n",
       "\t<tr><td>1</td><td>1</td><td>4</td><td>2</td><td>14</td></tr>\n",
       "\t<tr><td>1</td><td>1</td><td>4</td><td>1</td><td> 5</td></tr>\n",
       "\t<tr><td>1</td><td>1</td><td>4</td><td>1</td><td> 5</td></tr>\n",
       "\t<tr><td>1</td><td>1</td><td>4</td><td>1</td><td>13</td></tr>\n",
       "</tbody>\n",
       "</table>\n"
      ],
      "text/latex": [
       "A tibble: 6 x 5\n",
       "\\begin{tabular}{lllll}\n",
       " Race & Sex & Age & Study & Days\\\\\n",
       " <dbl> & <dbl> & <dbl> & <dbl> & <dbl>\\\\\n",
       "\\hline\n",
       "\t 1 & 1 & 4 & 2 &  2\\\\\n",
       "\t 1 & 1 & 4 & 2 & 11\\\\\n",
       "\t 1 & 1 & 4 & 2 & 14\\\\\n",
       "\t 1 & 1 & 4 & 1 &  5\\\\\n",
       "\t 1 & 1 & 4 & 1 &  5\\\\\n",
       "\t 1 & 1 & 4 & 1 & 13\\\\\n",
       "\\end{tabular}\n"
      ],
      "text/markdown": [
       "\n",
       "A tibble: 6 x 5\n",
       "\n",
       "| Race &lt;dbl&gt; | Sex &lt;dbl&gt; | Age &lt;dbl&gt; | Study &lt;dbl&gt; | Days &lt;dbl&gt; |\n",
       "|---|---|---|---|---|\n",
       "| 1 | 1 | 4 | 2 |  2 |\n",
       "| 1 | 1 | 4 | 2 | 11 |\n",
       "| 1 | 1 | 4 | 2 | 14 |\n",
       "| 1 | 1 | 4 | 1 |  5 |\n",
       "| 1 | 1 | 4 | 1 |  5 |\n",
       "| 1 | 1 | 4 | 1 | 13 |\n",
       "\n"
      ],
      "text/plain": [
       "  Race Sex Age Study Days\n",
       "1 1    1   4   2      2  \n",
       "2 1    1   4   2     11  \n",
       "3 1    1   4   2     14  \n",
       "4 1    1   4   1      5  \n",
       "5 1    1   4   1      5  \n",
       "6 1    1   4   1     13  "
      ]
     },
     "metadata": {},
     "output_type": "display_data"
    }
   ],
   "source": [
    "library(tidyverse)\n",
    "data <- read_csv(\"./data/nb.csv\")\n",
    "head(data)\n",
    "\n",
    "# Race Sex Age Study Days\n",
    "# 1 1    1   4   2      2  \n",
    "# 2 1    1   4   2     11  \n",
    "# 3 1    1   4   2     14  \n",
    "# 4 1    1   4   1      5  \n",
    "# 5 1    1   4   1      5  \n",
    "# 6 1    1   4   1     13"
   ]
  },
  {
   "cell_type": "code",
   "execution_count": 2,
   "id": "2d6f3294",
   "metadata": {
    "vscode": {
     "languageId": "r"
    }
   },
   "outputs": [
    {
     "name": "stdout",
     "output_type": "stream",
     "text": [
      "Rows: 146\n",
      "Columns: 5\n",
      "$ Race  \u001b[3m\u001b[90m<dbl>\u001b[39m\u001b[23m 1, 1, 1, 1, 1, 1, 1, 1, 1, 1, 1, 1, 1, 1, 1, 1, 1, 1, 1, 1, 1, 1~\n",
      "$ Sex   \u001b[3m\u001b[90m<dbl>\u001b[39m\u001b[23m 1, 1, 1, 1, 1, 1, 1, 1, 1, 1, 1, 1, 1, 1, 1, 1, 1, 1, 1, 1, 1, 1~\n",
      "$ Age   \u001b[3m\u001b[90m<dbl>\u001b[39m\u001b[23m 4, 4, 4, 4, 4, 4, 4, 4, 3, 3, 3, 3, 3, 2, 2, 2, 2, 2, 2, 2, 2, 2~\n",
      "$ Study \u001b[3m\u001b[90m<dbl>\u001b[39m\u001b[23m 2, 2, 2, 1, 1, 1, 1, 1, 2, 2, 2, 1, 1, 2, 2, 2, 2, 1, 1, 1, 1, 1~\n",
      "$ Days  \u001b[3m\u001b[90m<dbl>\u001b[39m\u001b[23m 2, 11, 14, 5, 5, 13, 20, 22, 6, 6, 15, 7, 14, 6, 32, 53, 57, 14,~\n"
     ]
    }
   ],
   "source": [
    "data %>% glimpse()"
   ]
  },
  {
   "cell_type": "code",
   "execution_count": null,
   "id": "aaf399ed",
   "metadata": {
    "vscode": {
     "languageId": "r"
    }
   },
   "outputs": [
    {
     "data": {
      "text/plain": [
       "\n",
       "Call:\n",
       "glm(formula = Days ~ Race + Sex + Age + Study, family = poisson(), \n",
       "    data = data)\n",
       "\n",
       "Coefficients:\n",
       "            Estimate Std. Error z value Pr(>|z|)    \n",
       "(Intercept)  4.06088    0.10431  38.931  < 2e-16 ***\n",
       "Race        -0.55117    0.04184 -13.174  < 2e-16 ***\n",
       "Sex         -0.22562    0.04159  -5.425 5.81e-08 ***\n",
       "Age         -0.20947    0.02182  -9.598  < 2e-16 ***\n",
       "Study        0.26616    0.04457   5.971 2.35e-09 ***\n",
       "---\n",
       "Signif. codes:  0 '***' 0.001 '**' 0.01 '*' 0.05 '.' 0.1 ' ' 1\n",
       "\n",
       "(Dispersion parameter for poisson family taken to be 1)\n",
       "\n",
       "    Null deviance: 2073.5  on 145  degrees of freedom\n",
       "Residual deviance: 1768.6  on 141  degrees of freedom\n",
       "AIC: 2367.1\n",
       "\n",
       "Number of Fisher Scoring iterations: 5\n"
      ]
     },
     "metadata": {},
     "output_type": "display_data"
    }
   ],
   "source": [
    "fit <- glm(Days ~ Race + Sex + Age + Study, data = data, family = poisson())\n",
    "summary(fit)\n",
    "\n",
    "# Call:\n",
    "# glm(formula = Days ~ Race + Sex + Age + Study, family = poisson(), \n",
    "#     data = data)\n",
    "\n",
    "# Coefficients:\n",
    "#             Estimate Std. Error z value Pr(>|z|)    \n",
    "# (Intercept)  4.06088    0.10431  38.931  < 2e-16 ***\n",
    "# Race        -0.55117    0.04184 -13.174  < 2e-16 ***\n",
    "# Sex         -0.22562    0.04159  -5.425 5.81e-08 ***\n",
    "# Age         -0.20947    0.02182  -9.598  < 2e-16 ***\n",
    "# Study        0.26616    0.04457   5.971 2.35e-09 ***\n",
    "# ---\n",
    "# Signif. codes:  0 '***' 0.001 '**' 0.01 '*' 0.05 '.' 0.1 ' ' 1\n",
    "\n",
    "# (Dispersion parameter for poisson family taken to be 1)\n",
    "\n",
    "#     Null deviance: 2073.5  on 145  degrees of freedom\n",
    "# Residual deviance: 1768.6  on 141  degrees of freedom\n",
    "# AIC: 2367.1\n",
    "\n",
    "# Number of Fisher Scoring iterations: 5"
   ]
  },
  {
   "cell_type": "code",
   "execution_count": null,
   "id": "cb2da970",
   "metadata": {
    "vscode": {
     "languageId": "r"
    }
   },
   "outputs": [
    {
     "name": "stdout",
     "output_type": "stream",
     "text": [
      "[1] 12.54358\n"
     ]
    }
   ],
   "source": [
    "# 计算并输出残差偏差与残差自由度的比值\n",
    "c <- deviance(fit) / df.residual(fit)\n",
    "print(c)\n",
    "\n",
    "# [1] 12.54358"
   ]
  },
  {
   "cell_type": "code",
   "execution_count": null,
   "id": "9e0c0f57",
   "metadata": {
    "vscode": {
     "languageId": "r"
    }
   },
   "outputs": [
    {
     "data": {
      "text/html": [
       "<table class=\"dataframe\">\n",
       "<caption>A matrix: 4 x 3 of type dbl</caption>\n",
       "<thead>\n",
       "\t<tr><th></th><th scope=col>GVIF</th><th scope=col>Df</th><th scope=col>GVIF^(1/(2*Df))</th></tr>\n",
       "</thead>\n",
       "<tbody>\n",
       "\t<tr><th scope=row>Race</th><td>1.003266</td><td>1</td><td>1.001631</td></tr>\n",
       "\t<tr><th scope=row>Sex</th><td>1.082560</td><td>1</td><td>1.040462</td></tr>\n",
       "\t<tr><th scope=row>as.factor(Age)</th><td>1.498316</td><td>3</td><td>1.069713</td></tr>\n",
       "\t<tr><th scope=row>Study</th><td>1.441403</td><td>1</td><td>1.200585</td></tr>\n",
       "</tbody>\n",
       "</table>\n"
      ],
      "text/latex": [
       "A matrix: 4 x 3 of type dbl\n",
       "\\begin{tabular}{r|lll}\n",
       "  & GVIF & Df & GVIF\\textasciicircum{}(1/(2*Df))\\\\\n",
       "\\hline\n",
       "\tRace & 1.003266 & 1 & 1.001631\\\\\n",
       "\tSex & 1.082560 & 1 & 1.040462\\\\\n",
       "\tas.factor(Age) & 1.498316 & 3 & 1.069713\\\\\n",
       "\tStudy & 1.441403 & 1 & 1.200585\\\\\n",
       "\\end{tabular}\n"
      ],
      "text/markdown": [
       "\n",
       "A matrix: 4 x 3 of type dbl\n",
       "\n",
       "| <!--/--> | GVIF | Df | GVIF^(1/(2*Df)) |\n",
       "|---|---|---|---|\n",
       "| Race | 1.003266 | 1 | 1.001631 |\n",
       "| Sex | 1.082560 | 1 | 1.040462 |\n",
       "| as.factor(Age) | 1.498316 | 3 | 1.069713 |\n",
       "| Study | 1.441403 | 1 | 1.200585 |\n",
       "\n"
      ],
      "text/plain": [
       "               GVIF     Df GVIF^(1/(2*Df))\n",
       "Race           1.003266 1  1.001631       \n",
       "Sex            1.082560 1  1.040462       \n",
       "as.factor(Age) 1.498316 3  1.069713       \n",
       "Study          1.441403 1  1.200585       "
      ]
     },
     "metadata": {},
     "output_type": "display_data"
    }
   ],
   "source": [
    "library(car)\n",
    "\n",
    "# 使用已有的数据变量 data\n",
    "lm_nb <- lm(Days ~ Race + Sex + as.factor(Age) + Study, data = data)\n",
    "vif(lm_nb)\n",
    "\n",
    "# GVIF     Df GVIF^(1/(2*Df))\n",
    "# Race           1.003266 1  1.001631       \n",
    "# Sex            1.082560 1  1.040462       \n",
    "# as.factor(Age) 1.498316 3  1.069713       \n",
    "# Study          1.441403 1  1.200585"
   ]
  },
  {
   "cell_type": "code",
   "execution_count": null,
   "id": "80a50e38",
   "metadata": {
    "vscode": {
     "languageId": "r"
    }
   },
   "outputs": [
    {
     "data": {
      "text/plain": [
       "\n",
       "Call:\n",
       "glm.nb(formula = Days ~ Race + Sex + Study + as.factor(Age), \n",
       "    data = data, init.theta = 1.274892646, link = log)\n",
       "\n",
       "Coefficients:\n",
       "                Estimate Std. Error z value Pr(>|z|)    \n",
       "(Intercept)      3.69338    0.40518   9.115  < 2e-16 ***\n",
       "Race            -0.56937    0.15333  -3.713 0.000205 ***\n",
       "Sex             -0.08232    0.15992  -0.515 0.606710    \n",
       "Study            0.29211    0.18647   1.566 0.117236    \n",
       "as.factor(Age)2 -0.26882    0.24458  -1.099 0.271712    \n",
       "as.factor(Age)3 -0.80533    0.24570  -3.278 0.001046 ** \n",
       "as.factor(Age)4 -0.35690    0.24832  -1.437 0.150651    \n",
       "---\n",
       "Signif. codes:  0 '***' 0.001 '**' 0.01 '*' 0.05 '.' 0.1 ' ' 1\n",
       "\n",
       "(Dispersion parameter for Negative Binomial(1.2749) family taken to be 1)\n",
       "\n",
       "    Null deviance: 195.29  on 145  degrees of freedom\n",
       "Residual deviance: 167.95  on 139  degrees of freedom\n",
       "AIC: 1109.2\n",
       "\n",
       "Number of Fisher Scoring iterations: 1\n",
       "\n",
       "\n",
       "              Theta:  1.275 \n",
       "          Std. Err.:  0.161 \n",
       "\n",
       " 2 x log-likelihood:  -1093.151 "
      ]
     },
     "metadata": {},
     "output_type": "display_data"
    },
    {
     "name": "stdout",
     "output_type": "stream",
     "text": [
      "    (Intercept)            Race             Sex           Study as.factor(Age)2 \n",
      "     40.1805904       0.5658809       0.9209770       1.3392492       0.7642802 \n",
      "as.factor(Age)3 as.factor(Age)4 \n",
      "      0.4469408       0.6998418 \n"
     ]
    },
    {
     "name": "stderr",
     "output_type": "stream",
     "text": [
      "Waiting for profiling to be done...\n",
      "\n"
     ]
    },
    {
     "name": "stdout",
     "output_type": "stream",
     "text": [
      "                     2.5 %     97.5 %\n",
      "(Intercept)     17.5837815 94.3107759\n",
      "Race             0.4149887  0.7703865\n",
      "Sex              0.6662722  1.2717032\n",
      "Study            0.9335814  1.9148134\n",
      "as.factor(Age)2  0.4687987  1.2470891\n",
      "as.factor(Age)3  0.2752117  0.7249134\n",
      "as.factor(Age)4  0.4324548  1.1407420\n"
     ]
    }
   ],
   "source": [
    "library(MASS)\n",
    "\n",
    "# 使用已有的数据变量 data\n",
    "fit_nb <- glm.nb(Days ~ Race + Sex + Study + as.factor(Age), data = data)\n",
    "\n",
    "# 输出模型结果\n",
    "summary(fit_nb)\n",
    "\n",
    "# 计算IRR值\n",
    "irr <- exp(coef(fit_nb))\n",
    "print(irr)\n",
    "\n",
    "# 计算IRR值的95%置信区间\n",
    "irr_ci <- exp(confint(fit_nb))\n",
    "print(irr_ci)\n",
    "\n",
    "# Call:\n",
    "# glm.nb(formula = Days ~ Race + Sex + Study + as.factor(Age), \n",
    "#     data = data, init.theta = 1.274892646, link = log)\n",
    "\n",
    "# Coefficients:\n",
    "#                 Estimate Std. Error z value Pr(>|z|)    \n",
    "# (Intercept)      3.69338    0.40518   9.115  < 2e-16 ***\n",
    "# Race            -0.56937    0.15333  -3.713 0.000205 ***\n",
    "# Sex             -0.08232    0.15992  -0.515 0.606710    \n",
    "# Study            0.29211    0.18647   1.566 0.117236    \n",
    "# as.factor(Age)2 -0.26882    0.24458  -1.099 0.271712    \n",
    "# as.factor(Age)3 -0.80533    0.24570  -3.278 0.001046 ** \n",
    "# as.factor(Age)4 -0.35690    0.24832  -1.437 0.150651    \n",
    "# ---\n",
    "# Signif. codes:  0 '***' 0.001 '**' 0.01 '*' 0.05 '.' 0.1 ' ' 1\n",
    "\n",
    "# (Dispersion parameter for Negative Binomial(1.2749) family taken to be 1)\n",
    "\n",
    "#     Null deviance: 195.29  on 145  degrees of freedom\n",
    "# Residual deviance: 167.95  on 139  degrees of freedom\n",
    "# AIC: 1109.2\n",
    "\n",
    "# Number of Fisher Scoring iterations: 1\n",
    "\n",
    "\n",
    "#               Theta:  1.275 \n",
    "#           Std. Err.:  0.161 \n",
    "\n",
    "#  2 x log-likelihood:  -1093.151\n",
    "\n",
    "#  (Intercept)            Race             Sex           Study as.factor(Age)2 \n",
    "#      40.1805904       0.5658809       0.9209770       1.3392492       0.7642802 \n",
    "# as.factor(Age)3 as.factor(Age)4 \n",
    "#       0.4469408       0.6998418 \n",
    "# Waiting for profiling to be done...\n",
    "\n",
    "#                      2.5 %     97.5 %\n",
    "# (Intercept)     17.5837815 94.3107759\n",
    "# Race             0.4149887  0.7703865\n",
    "# Sex              0.6662722  1.2717032\n",
    "# Study            0.9335814  1.9148134\n",
    "# as.factor(Age)2  0.4687987  1.2470891\n",
    "# as.factor(Age)3  0.2752117  0.7249134\n",
    "# as.factor(Age)4  0.4324548  1.1407420"
   ]
  },
  {
   "cell_type": "code",
   "execution_count": null,
   "id": "727a63af",
   "metadata": {
    "vscode": {
     "languageId": "r"
    }
   },
   "outputs": [
    {
     "data": {
      "text/html": [
       "<table class=\"dataframe\">\n",
       "<caption>A anova: 2 x 5</caption>\n",
       "<thead>\n",
       "\t<tr><th></th><th scope=col>#Df</th><th scope=col>LogLik</th><th scope=col>Df</th><th scope=col>Chisq</th><th scope=col>Pr(&gt;Chisq)</th></tr>\n",
       "\t<tr><th></th><th scope=col>&lt;dbl&gt;</th><th scope=col>&lt;dbl&gt;</th><th scope=col>&lt;dbl&gt;</th><th scope=col>&lt;dbl&gt;</th><th scope=col>&lt;dbl&gt;</th></tr>\n",
       "</thead>\n",
       "<tbody>\n",
       "\t<tr><th scope=row>1</th><td>7</td><td>-1142.5918</td><td>NA</td><td>      NA</td><td>           NA</td></tr>\n",
       "\t<tr><th scope=row>2</th><td>8</td><td> -546.5755</td><td> 1</td><td>1192.033</td><td>3.287302e-261</td></tr>\n",
       "</tbody>\n",
       "</table>\n"
      ],
      "text/latex": [
       "A anova: 2 x 5\n",
       "\\begin{tabular}{r|lllll}\n",
       "  & \\#Df & LogLik & Df & Chisq & Pr(>Chisq)\\\\\n",
       "  & <dbl> & <dbl> & <dbl> & <dbl> & <dbl>\\\\\n",
       "\\hline\n",
       "\t1 & 7 & -1142.5918 & NA &       NA &            NA\\\\\n",
       "\t2 & 8 &  -546.5755 &  1 & 1192.033 & 3.287302e-261\\\\\n",
       "\\end{tabular}\n"
      ],
      "text/markdown": [
       "\n",
       "A anova: 2 x 5\n",
       "\n",
       "| <!--/--> | #Df &lt;dbl&gt; | LogLik &lt;dbl&gt; | Df &lt;dbl&gt; | Chisq &lt;dbl&gt; | Pr(&gt;Chisq) &lt;dbl&gt; |\n",
       "|---|---|---|---|---|---|\n",
       "| 1 | 7 | -1142.5918 | NA |       NA |            NA |\n",
       "| 2 | 8 |  -546.5755 |  1 | 1192.033 | 3.287302e-261 |\n",
       "\n"
      ],
      "text/plain": [
       "  #Df LogLik     Df Chisq    Pr(>Chisq)   \n",
       "1 7   -1142.5918 NA       NA            NA\n",
       "2 8    -546.5755  1 1192.033 3.287302e-261"
      ]
     },
     "metadata": {},
     "output_type": "display_data"
    }
   ],
   "source": [
    "# LR检验\n",
    "fit_poisson <- glm(\n",
    "  Days ~ Race + Sex + as.factor(Age) + Study,\n",
    "  data = data,\n",
    "  family = poisson()\n",
    ")\n",
    "library(lmtest)\n",
    "lrtest(fit_poisson, fit_nb)\n",
    "\n",
    "# #Df LogLik     Df Chisq    Pr(>Chisq)   \n",
    "# 1 7   -1142.5918 NA       NA            NA\n",
    "# 2 8    -546.5755  1 1192.033 3.287302e-261"
   ]
  },
  {
   "cell_type": "code",
   "execution_count": null,
   "id": "baf01b2e",
   "metadata": {
    "vscode": {
     "languageId": "r"
    }
   },
   "outputs": [],
   "source": []
  }
 ],
 "metadata": {
  "kernelspec": {
   "display_name": "R",
   "language": "R",
   "name": "ir"
  },
  "language_info": {
   "codemirror_mode": "r",
   "file_extension": ".r",
   "mimetype": "text/x-r-source",
   "name": "R",
   "pygments_lexer": "r",
   "version": "4.4.2"
  }
 },
 "nbformat": 4,
 "nbformat_minor": 5
}

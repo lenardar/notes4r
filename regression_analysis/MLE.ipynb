{
 "cells": [
  {
   "cell_type": "markdown",
   "id": "d817f52d",
   "metadata": {},
   "source": [
    "使用R语言学习MLE，光会调包不行，要懂统计也要会Code。"
   ]
  },
  {
   "cell_type": "code",
   "execution_count": 4,
   "id": "1715e662",
   "metadata": {
    "vscode": {
     "languageId": "r"
    }
   },
   "outputs": [],
   "source": [
    "rosen <- function(x) {\n",
    "  100 * (x[2] - x[1]^2)^2 + (1 - x[1])^2\n",
    "}\n",
    "\n",
    "result <- optim(c(-1.2, 1), rosen, hessian = TRUE)"
   ]
  },
  {
   "cell_type": "code",
   "execution_count": 5,
   "id": "4300cceb",
   "metadata": {
    "vscode": {
     "languageId": "r"
    }
   },
   "outputs": [
    {
     "data": {
      "text/plain": [
       "            Length Class  Mode   \n",
       "par         2      -none- numeric\n",
       "value       1      -none- numeric\n",
       "counts      2      -none- numeric\n",
       "convergence 1      -none- numeric\n",
       "message     0      -none- NULL   \n",
       "hessian     4      -none- numeric"
      ]
     },
     "metadata": {},
     "output_type": "display_data"
    }
   ],
   "source": [
    "summary(result)"
   ]
  },
  {
   "cell_type": "code",
   "execution_count": 3,
   "id": "cff972bf",
   "metadata": {
    "vscode": {
     "languageId": "r"
    }
   },
   "outputs": [
    {
     "data": {
      "text/html": [
       "<style>\n",
       ".list-inline {list-style: none; margin:0; padding: 0}\n",
       ".list-inline>li {display: inline-block}\n",
       ".list-inline>li:not(:last-child)::after {content: \"\\00b7\"; padding: 0 .5ex}\n",
       "</style>\n",
       "<ol class=list-inline><li>1.00026013872567</li><li>1.00050599930377</li></ol>\n"
      ],
      "text/latex": [
       "\\begin{enumerate*}\n",
       "\\item 1.00026013872567\n",
       "\\item 1.00050599930377\n",
       "\\end{enumerate*}\n"
      ],
      "text/markdown": [
       "1. 1.00026013872567\n",
       "2. 1.00050599930377\n",
       "\n",
       "\n"
      ],
      "text/plain": [
       "[1] 1.000260 1.000506"
      ]
     },
     "metadata": {},
     "output_type": "display_data"
    },
    {
     "data": {
      "text/html": [
       "8.82524109672275e-08"
      ],
      "text/latex": [
       "8.82524109672275e-08"
      ],
      "text/markdown": [
       "8.82524109672275e-08"
      ],
      "text/plain": [
       "[1] 8.825241e-08"
      ]
     },
     "metadata": {},
     "output_type": "display_data"
    }
   ],
   "source": [
    "result$par\n",
    "result$value"
   ]
  },
  {
   "cell_type": "code",
   "execution_count": 6,
   "id": "eb067c44",
   "metadata": {
    "vscode": {
     "languageId": "r"
    }
   },
   "outputs": [
    {
     "data": {
      "text/html": [
       "<table class=\"dataframe\">\n",
       "<caption>A matrix: 2 x 2 of type dbl</caption>\n",
       "<tbody>\n",
       "\t<tr><td> 802.4228</td><td>-400.1041</td></tr>\n",
       "\t<tr><td>-400.1041</td><td> 200.0000</td></tr>\n",
       "</tbody>\n",
       "</table>\n"
      ],
      "text/latex": [
       "A matrix: 2 x 2 of type dbl\n",
       "\\begin{tabular}{ll}\n",
       "\t  802.4228 & -400.1041\\\\\n",
       "\t -400.1041 &  200.0000\\\\\n",
       "\\end{tabular}\n"
      ],
      "text/markdown": [
       "\n",
       "A matrix: 2 x 2 of type dbl\n",
       "\n",
       "|  802.4228 | -400.1041 |\n",
       "| -400.1041 |  200.0000 |\n",
       "\n"
      ],
      "text/plain": [
       "     [,1]      [,2]     \n",
       "[1,]  802.4228 -400.1041\n",
       "[2,] -400.1041  200.0000"
      ]
     },
     "metadata": {},
     "output_type": "display_data"
    }
   ],
   "source": [
    "result$hessian"
   ]
  },
  {
   "cell_type": "code",
   "execution_count": 7,
   "id": "68285e04",
   "metadata": {
    "vscode": {
     "languageId": "r"
    }
   },
   "outputs": [
    {
     "name": "stderr",
     "output_type": "stream",
     "text": [
      "Loading required package: miscTools\n",
      "\n",
      "\n",
      "Please cite the 'maxLik' package as:\n",
      "Henningsen, Arne and Toomet, Ott (2011). maxLik: A package for maximum likelihood estimation in R. Computational Statistics 26(3), 443-458. DOI 10.1007/s00180-010-0217-1.\n",
      "\n",
      "If you have questions, suggestions, or comments regarding the 'maxLik' package, please use a forum or 'tracker' at maxLik's R-Forge site:\n",
      "https://r-forge.r-project.org/projects/maxlik/\n",
      "\n"
     ]
    }
   ],
   "source": [
    "library(maxLik)"
   ]
  },
  {
   "cell_type": "code",
   "execution_count": 52,
   "id": "def4c81a",
   "metadata": {
    "vscode": {
     "languageId": "r"
    }
   },
   "outputs": [
    {
     "name": "stderr",
     "output_type": "stream",
     "text": [
      "Warning message in dnorm(x, mean = mu, sd = sigma, log = TRUE):\n",
      "\"NaNs produced\"\n",
      "Warning message in dnorm(x, mean = mu, sd = sigma, log = TRUE):\n",
      "\"NaNs produced\"\n",
      "Warning message in dnorm(x, mean = mu, sd = sigma, log = TRUE):\n",
      "\"NaNs produced\"\n",
      "Warning message in dnorm(x, mean = mu, sd = sigma, log = TRUE):\n",
      "\"NaNs produced\"\n",
      "Warning message in dnorm(x, mean = mu, sd = sigma, log = TRUE):\n",
      "\"NaNs produced\"\n",
      "Warning message in dnorm(x, mean = mu, sd = sigma, log = TRUE):\n",
      "\"NaNs produced\"\n",
      "Warning message in dnorm(x, mean = mu, sd = sigma, log = TRUE):\n",
      "\"NaNs produced\"\n",
      "Warning message in dnorm(x, mean = mu, sd = sigma, log = TRUE):\n",
      "\"NaNs produced\"\n",
      "Warning message in dnorm(x, mean = mu, sd = sigma, log = TRUE):\n",
      "\"NaNs produced\"\n",
      "Warning message in dnorm(x, mean = mu, sd = sigma, log = TRUE):\n",
      "\"NaNs produced\"\n",
      "Warning message in dnorm(x, mean = mu, sd = sigma, log = TRUE):\n",
      "\"NaNs produced\"\n",
      "Warning message in dnorm(x, mean = mu, sd = sigma, log = TRUE):\n",
      "\"NaNs produced\"\n",
      "Warning message in dnorm(x, mean = mu, sd = sigma, log = TRUE):\n",
      "\"NaNs produced\"\n",
      "Warning message in dnorm(x, mean = mu, sd = sigma, log = TRUE):\n",
      "\"NaNs produced\"\n",
      "Warning message in dnorm(x, mean = mu, sd = sigma, log = TRUE):\n",
      "\"NaNs produced\"\n",
      "Warning message in dnorm(x, mean = mu, sd = sigma, log = TRUE):\n",
      "\"NaNs produced\"\n",
      "Warning message in dnorm(x, mean = mu, sd = sigma, log = TRUE):\n",
      "\"NaNs produced\"\n",
      "Warning message in dnorm(x, mean = mu, sd = sigma, log = TRUE):\n",
      "\"NaNs produced\"\n",
      "Warning message in dnorm(x, mean = mu, sd = sigma, log = TRUE):\n",
      "\"NaNs produced\"\n",
      "Warning message in dnorm(x, mean = mu, sd = sigma, log = TRUE):\n",
      "\"NaNs produced\"\n",
      "Warning message in dnorm(x, mean = mu, sd = sigma, log = TRUE):\n",
      "\"NaNs produced\"\n"
     ]
    },
    {
     "name": "stdout",
     "output_type": "stream",
     "text": [
      "--------------\n",
      "successive function values within relative tolerance limit (reltol) \n",
      "10  iterations\n",
      "estimate: 4.982859 1.881598 \n",
      "Function value: -410.212 \n"
     ]
    },
    {
     "data": {
      "text/plain": [
       "--------------------------------------------\n",
       "Maximum Likelihood estimation\n",
       "Newton-Raphson maximisation, 10 iterations\n",
       "Return code 8: successive function values within relative tolerance limit (reltol)\n",
       "Log-Likelihood: -410.212 \n",
       "2  free parameters\n",
       "Estimates:\n",
       "      Estimate Std. error t value Pr(> t)    \n",
       "mu     4.98286    0.13337   37.36  <2e-16 ***\n",
       "sigma  1.88160    0.09391   20.04  <2e-16 ***\n",
       "---\n",
       "Signif. codes:  0 '***' 0.001 '**' 0.01 '*' 0.05 '.' 0.1 ' ' 1\n",
       "--------------------------------------------"
      ]
     },
     "metadata": {},
     "output_type": "display_data"
    }
   ],
   "source": [
    "set.seed(123)\n",
    "x <- rnorm(200, mean = 5, sd = 2)  # 真正的参数是 mu = 5, sigma = 2\n",
    "N <- length(x)\n",
    "\n",
    "# 定义对数似然函数\n",
    "loglik <- function(param) {\n",
    "  mu <- param[1]\n",
    "  sigma <- param[2]\n",
    "  # 使用 dnorm 的 log=TRUE 参数计算每个观测的 log-likelihood\n",
    "  sum(dnorm(x, mean = mu, sd = sigma, log = TRUE))\n",
    "}\n",
    "\n",
    "# 使用 maxLik 进行估计\n",
    "library(maxLik)\n",
    "result <- maxLik(logLik = loglik,\n",
    "                 start = c(mu = 0, sigma = 1),\n",
    "                 control = list(iterlim = 3000, printLevel = 1))\n",
    "\n",
    "# 输出结果\n",
    "summary(result)"
   ]
  },
  {
   "cell_type": "code",
   "execution_count": 53,
   "id": "be679759",
   "metadata": {
    "vscode": {
     "languageId": "r"
    }
   },
   "outputs": [
    {
     "data": {
      "text/html": [
       "<style>\n",
       ".dl-inline {width: auto; margin:0; padding: 0}\n",
       ".dl-inline>dt, .dl-inline>dd {float: none; width: auto; display: inline-block}\n",
       ".dl-inline>dt::after {content: \":\\0020\"; padding-right: .5ex}\n",
       ".dl-inline>dt:not(:first-of-type) {padding-left: .5ex}\n",
       "</style><dl class=dl-inline><dt>mu</dt><dd>4.98285880971894</dd><dt>sigma</dt><dd>1.88159788747492</dd></dl>\n"
      ],
      "text/latex": [
       "\\begin{description*}\n",
       "\\item[mu] 4.98285880971894\n",
       "\\item[sigma] 1.88159788747492\n",
       "\\end{description*}\n"
      ],
      "text/markdown": [
       "mu\n",
       ":   4.98285880971894sigma\n",
       ":   1.88159788747492\n",
       "\n"
      ],
      "text/plain": [
       "      mu    sigma \n",
       "4.982859 1.881598 "
      ]
     },
     "metadata": {},
     "output_type": "display_data"
    }
   ],
   "source": [
    "coef(result)"
   ]
  },
  {
   "cell_type": "code",
   "execution_count": 56,
   "id": "0d48c93c",
   "metadata": {
    "vscode": {
     "languageId": "r"
    }
   },
   "outputs": [
    {
     "data": {
      "text/html": [
       "-410.211994817592"
      ],
      "text/latex": [
       "-410.211994817592"
      ],
      "text/markdown": [
       "-410.211994817592"
      ],
      "text/plain": [
       "[1] -410.212\n",
       "attr(,\"df\")\n",
       "[1] 2"
      ]
     },
     "metadata": {},
     "output_type": "display_data"
    }
   ],
   "source": [
    "logLik(result)"
   ]
  },
  {
   "cell_type": "code",
   "execution_count": 57,
   "id": "e6438b5b",
   "metadata": {
    "vscode": {
     "languageId": "r"
    }
   },
   "outputs": [
    {
     "data": {
      "text/html": [
       "824.423989635185"
      ],
      "text/latex": [
       "824.423989635185"
      ],
      "text/markdown": [
       "824.423989635185"
      ],
      "text/plain": [
       "[1] 824.424\n",
       "attr(,\"df\")\n",
       "[1] 2"
      ]
     },
     "metadata": {},
     "output_type": "display_data"
    }
   ],
   "source": [
    "AIC(result)"
   ]
  },
  {
   "cell_type": "code",
   "execution_count": 58,
   "id": "d164cbc4",
   "metadata": {
    "vscode": {
     "languageId": "r"
    }
   },
   "outputs": [
    {
     "data": {
      "text/html": [
       "<table class=\"dataframe\">\n",
       "<caption>A matrix: 2 x 2 of type dbl</caption>\n",
       "<thead>\n",
       "\t<tr><th></th><th scope=col>mu</th><th scope=col>sigma</th></tr>\n",
       "</thead>\n",
       "<tbody>\n",
       "\t<tr><th scope=row>mu</th><td> 1.778793e-02</td><td>-2.674877e-05</td></tr>\n",
       "\t<tr><th scope=row>sigma</th><td>-2.674877e-05</td><td> 8.818179e-03</td></tr>\n",
       "</tbody>\n",
       "</table>\n"
      ],
      "text/latex": [
       "A matrix: 2 x 2 of type dbl\n",
       "\\begin{tabular}{r|ll}\n",
       "  & mu & sigma\\\\\n",
       "\\hline\n",
       "\tmu &  1.778793e-02 & -2.674877e-05\\\\\n",
       "\tsigma & -2.674877e-05 &  8.818179e-03\\\\\n",
       "\\end{tabular}\n"
      ],
      "text/markdown": [
       "\n",
       "A matrix: 2 x 2 of type dbl\n",
       "\n",
       "| <!--/--> | mu | sigma |\n",
       "|---|---|---|\n",
       "| mu |  1.778793e-02 | -2.674877e-05 |\n",
       "| sigma | -2.674877e-05 |  8.818179e-03 |\n",
       "\n"
      ],
      "text/plain": [
       "      mu            sigma        \n",
       "mu     1.778793e-02 -2.674877e-05\n",
       "sigma -2.674877e-05  8.818179e-03"
      ]
     },
     "metadata": {},
     "output_type": "display_data"
    }
   ],
   "source": [
    "vcov(result)"
   ]
  },
  {
   "cell_type": "code",
   "execution_count": 59,
   "id": "dc67ddcb",
   "metadata": {
    "vscode": {
     "languageId": "r"
    }
   },
   "outputs": [
    {
     "data": {
      "text/html": [
       "<table class=\"dataframe\">\n",
       "<caption>A matrix: 2 x 2 of type dbl</caption>\n",
       "<thead>\n",
       "\t<tr><th></th><th scope=col>mu</th><th scope=col>sigma</th></tr>\n",
       "</thead>\n",
       "<tbody>\n",
       "\t<tr><th scope=row>mu</th><td>-56.2181413</td><td>  -0.1705303</td></tr>\n",
       "\t<tr><th scope=row>sigma</th><td> -0.1705303</td><td>-113.4026206</td></tr>\n",
       "</tbody>\n",
       "</table>\n"
      ],
      "text/latex": [
       "A matrix: 2 x 2 of type dbl\n",
       "\\begin{tabular}{r|ll}\n",
       "  & mu & sigma\\\\\n",
       "\\hline\n",
       "\tmu & -56.2181413 &   -0.1705303\\\\\n",
       "\tsigma &  -0.1705303 & -113.4026206\\\\\n",
       "\\end{tabular}\n"
      ],
      "text/markdown": [
       "\n",
       "A matrix: 2 x 2 of type dbl\n",
       "\n",
       "| <!--/--> | mu | sigma |\n",
       "|---|---|---|\n",
       "| mu | -56.2181413 |   -0.1705303 |\n",
       "| sigma |  -0.1705303 | -113.4026206 |\n",
       "\n"
      ],
      "text/plain": [
       "      mu          sigma       \n",
       "mu    -56.2181413   -0.1705303\n",
       "sigma  -0.1705303 -113.4026206"
      ]
     },
     "metadata": {},
     "output_type": "display_data"
    }
   ],
   "source": [
    "result$hessian"
   ]
  },
  {
   "cell_type": "code",
   "execution_count": 64,
   "id": "ff5ab8b2",
   "metadata": {
    "vscode": {
     "languageId": "r"
    }
   },
   "outputs": [
    {
     "name": "stdout",
     "output_type": "stream",
     "text": [
      "--------------\n",
      "gradient close to zero (gradtol) \n",
      "7  iterations\n",
      "estimate: 1.897197 2.947528 -0.03982402 \n",
      "Function value: -137.9115 \n"
     ]
    },
    {
     "data": {
      "text/html": [
       "<table class=\"dataframe\">\n",
       "<caption>A tibble: 3 x 5</caption>\n",
       "<thead>\n",
       "\t<tr><th scope=col>term</th><th scope=col>estimate</th><th scope=col>std.error</th><th scope=col>statistic</th><th scope=col>p.value</th></tr>\n",
       "\t<tr><th scope=col>&lt;chr&gt;</th><th scope=col>&lt;dbl&gt;</th><th scope=col>&lt;dbl&gt;</th><th scope=col>&lt;dbl&gt;</th><th scope=col>&lt;dbl&gt;</th></tr>\n",
       "</thead>\n",
       "<tbody>\n",
       "\t<tr><td>beta0    </td><td> 1.89719695</td><td>0.09655366</td><td>19.6491464</td><td> 5.879330e-86</td></tr>\n",
       "\t<tr><td>beta1    </td><td> 2.94752839</td><td>0.10588322</td><td>27.8375401</td><td>1.524523e-170</td></tr>\n",
       "\t<tr><td>log_sigma</td><td>-0.03982402</td><td>0.07073017</td><td>-0.5630415</td><td> 5.734066e-01</td></tr>\n",
       "</tbody>\n",
       "</table>\n"
      ],
      "text/latex": [
       "A tibble: 3 x 5\n",
       "\\begin{tabular}{lllll}\n",
       " term & estimate & std.error & statistic & p.value\\\\\n",
       " <chr> & <dbl> & <dbl> & <dbl> & <dbl>\\\\\n",
       "\\hline\n",
       "\t beta0     &  1.89719695 & 0.09655366 & 19.6491464 &  5.879330e-86\\\\\n",
       "\t beta1     &  2.94752839 & 0.10588322 & 27.8375401 & 1.524523e-170\\\\\n",
       "\t log\\_sigma & -0.03982402 & 0.07073017 & -0.5630415 &  5.734066e-01\\\\\n",
       "\\end{tabular}\n"
      ],
      "text/markdown": [
       "\n",
       "A tibble: 3 x 5\n",
       "\n",
       "| term &lt;chr&gt; | estimate &lt;dbl&gt; | std.error &lt;dbl&gt; | statistic &lt;dbl&gt; | p.value &lt;dbl&gt; |\n",
       "|---|---|---|---|---|\n",
       "| beta0     |  1.89719695 | 0.09655366 | 19.6491464 |  5.879330e-86 |\n",
       "| beta1     |  2.94752839 | 0.10588322 | 27.8375401 | 1.524523e-170 |\n",
       "| log_sigma | -0.03982402 | 0.07073017 | -0.5630415 |  5.734066e-01 |\n",
       "\n"
      ],
      "text/plain": [
       "  term      estimate    std.error  statistic  p.value      \n",
       "1 beta0      1.89719695 0.09655366 19.6491464  5.879330e-86\n",
       "2 beta1      2.94752839 0.10588322 27.8375401 1.524523e-170\n",
       "3 log_sigma -0.03982402 0.07073017 -0.5630415  5.734066e-01"
      ]
     },
     "metadata": {},
     "output_type": "display_data"
    }
   ],
   "source": [
    "# 线性回归的MLE\n",
    "# 生成数据\n",
    "set.seed(123)\n",
    "n <- 100\n",
    "x <- rnorm(n)\n",
    "y <- 2 + 3 * x + rnorm(n)\n",
    "data <- data.frame(x = x, y = y)\n",
    "\n",
    "# 定义对数似然函数\n",
    "loglik <- function(param) {\n",
    "  beta0 <- param[1]\n",
    "  beta1 <- param[2]\n",
    "  sigma <- exp(param[3])  # 确保 sigma 是正的\n",
    "  # 使用 dnorm 的 log=TRUE 参数计算每个观测的 log-likelihood\n",
    "  sum(dnorm(data$y, mean = beta0 + beta1 * data$x, sd = sigma, log = TRUE))\n",
    "}\n",
    "# 使用 maxLik 进行估计\n",
    "result <- maxLik(logLik = loglik,\n",
    "                 start = c(beta0 = 0, beta1 = 0, log_sigma = 0),\n",
    "                 control = list(iterlim = 3000, printLevel = 1))\n",
    "# 输出结果\n",
    "library(broom)\n",
    "tidy(result)"
   ]
  },
  {
   "cell_type": "code",
   "execution_count": 65,
   "id": "7ae056bf",
   "metadata": {
    "vscode": {
     "languageId": "r"
    }
   },
   "outputs": [
    {
     "data": {
      "text/html": [
       "<table class=\"dataframe\">\n",
       "<caption>A tibble: 2 x 5</caption>\n",
       "<thead>\n",
       "\t<tr><th scope=col>term</th><th scope=col>estimate</th><th scope=col>std.error</th><th scope=col>statistic</th><th scope=col>p.value</th></tr>\n",
       "\t<tr><th scope=col>&lt;chr&gt;</th><th scope=col>&lt;dbl&gt;</th><th scope=col>&lt;dbl&gt;</th><th scope=col>&lt;dbl&gt;</th><th scope=col>&lt;dbl&gt;</th></tr>\n",
       "</thead>\n",
       "<tbody>\n",
       "\t<tr><td>(Intercept)</td><td>1.897197</td><td>0.09755118</td><td>19.44822</td><td>2.046638e-35</td></tr>\n",
       "\t<tr><td>x          </td><td>2.947528</td><td>0.10687862</td><td>27.57828</td><td>5.575170e-48</td></tr>\n",
       "</tbody>\n",
       "</table>\n"
      ],
      "text/latex": [
       "A tibble: 2 x 5\n",
       "\\begin{tabular}{lllll}\n",
       " term & estimate & std.error & statistic & p.value\\\\\n",
       " <chr> & <dbl> & <dbl> & <dbl> & <dbl>\\\\\n",
       "\\hline\n",
       "\t (Intercept) & 1.897197 & 0.09755118 & 19.44822 & 2.046638e-35\\\\\n",
       "\t x           & 2.947528 & 0.10687862 & 27.57828 & 5.575170e-48\\\\\n",
       "\\end{tabular}\n"
      ],
      "text/markdown": [
       "\n",
       "A tibble: 2 x 5\n",
       "\n",
       "| term &lt;chr&gt; | estimate &lt;dbl&gt; | std.error &lt;dbl&gt; | statistic &lt;dbl&gt; | p.value &lt;dbl&gt; |\n",
       "|---|---|---|---|---|\n",
       "| (Intercept) | 1.897197 | 0.09755118 | 19.44822 | 2.046638e-35 |\n",
       "| x           | 2.947528 | 0.10687862 | 27.57828 | 5.575170e-48 |\n",
       "\n"
      ],
      "text/plain": [
       "  term        estimate std.error  statistic p.value     \n",
       "1 (Intercept) 1.897197 0.09755118 19.44822  2.046638e-35\n",
       "2 x           2.947528 0.10687862 27.57828  5.575170e-48"
      ]
     },
     "metadata": {},
     "output_type": "display_data"
    }
   ],
   "source": [
    "# 使用glm作为对比\n",
    "result_glm <- glm(y ~ x, data = data)\n",
    "tidy(result_glm)"
   ]
  }
 ],
 "metadata": {
  "kernelspec": {
   "display_name": "R",
   "language": "R",
   "name": "ir"
  },
  "language_info": {
   "codemirror_mode": "r",
   "file_extension": ".r",
   "mimetype": "text/x-r-source",
   "name": "R",
   "pygments_lexer": "r",
   "version": "4.4.2"
  }
 },
 "nbformat": 4,
 "nbformat_minor": 5
}

{
 "cells": [
  {
   "cell_type": "markdown",
   "id": "8eac991f",
   "metadata": {},
   "source": [
    "测试线性混合效应模型。"
   ]
  },
  {
   "cell_type": "code",
   "execution_count": 1,
   "id": "af1d746a",
   "metadata": {
    "vscode": {
     "languageId": "r"
    }
   },
   "outputs": [
    {
     "data": {
      "text/html": [
       "<table class=\"dataframe\">\n",
       "<caption>A data.frame: 6 x 8</caption>\n",
       "<thead>\n",
       "\t<tr><th scope=col>i</th><th scope=col>j</th><th scope=col>g2</th><th scope=col>g1</th><th scope=col>y</th><th scope=col>b2</th><th scope=col>b1</th><th scope=col>eps</th></tr>\n",
       "\t<tr><th scope=col>&lt;fct&gt;</th><th scope=col>&lt;fct&gt;</th><th scope=col>&lt;fct&gt;</th><th scope=col>&lt;fct&gt;</th><th scope=col>&lt;dbl&gt;</th><th scope=col>&lt;dbl&gt;</th><th scope=col>&lt;dbl&gt;</th><th scope=col>&lt;dbl&gt;</th></tr>\n",
       "</thead>\n",
       "<tbody>\n",
       "\t<tr><td>1</td><td>1</td><td>a</td><td>A</td><td>10.251368</td><td> 2.071718</td><td>-2.233387</td><td> 0.41303677</td></tr>\n",
       "\t<tr><td>1</td><td>2</td><td>b</td><td>A</td><td> 6.262446</td><td>-1.992034</td><td>-2.233387</td><td> 0.48786752</td></tr>\n",
       "\t<tr><td>1</td><td>3</td><td>c</td><td>A</td><td> 3.194801</td><td>-4.519488</td><td>-2.233387</td><td>-0.05232492</td></tr>\n",
       "\t<tr><td>2</td><td>1</td><td>a</td><td>B</td><td>10.719548</td><td> 2.071718</td><td>-1.381016</td><td> 0.02884648</td></tr>\n",
       "\t<tr><td>2</td><td>2</td><td>b</td><td>B</td><td> 6.779392</td><td>-1.992034</td><td>-1.381016</td><td> 0.15244283</td></tr>\n",
       "\t<tr><td>2</td><td>3</td><td>c</td><td>B</td><td> 3.973049</td><td>-4.519488</td><td>-1.381016</td><td>-0.12644697</td></tr>\n",
       "</tbody>\n",
       "</table>\n"
      ],
      "text/latex": [
       "A data.frame: 6 x 8\n",
       "\\begin{tabular}{llllllll}\n",
       " i & j & g2 & g1 & y & b2 & b1 & eps\\\\\n",
       " <fct> & <fct> & <fct> & <fct> & <dbl> & <dbl> & <dbl> & <dbl>\\\\\n",
       "\\hline\n",
       "\t 1 & 1 & a & A & 10.251368 &  2.071718 & -2.233387 &  0.41303677\\\\\n",
       "\t 1 & 2 & b & A &  6.262446 & -1.992034 & -2.233387 &  0.48786752\\\\\n",
       "\t 1 & 3 & c & A &  3.194801 & -4.519488 & -2.233387 & -0.05232492\\\\\n",
       "\t 2 & 1 & a & B & 10.719548 &  2.071718 & -1.381016 &  0.02884648\\\\\n",
       "\t 2 & 2 & b & B &  6.779392 & -1.992034 & -1.381016 &  0.15244283\\\\\n",
       "\t 2 & 3 & c & B &  3.973049 & -4.519488 & -1.381016 & -0.12644697\\\\\n",
       "\\end{tabular}\n"
      ],
      "text/markdown": [
       "\n",
       "A data.frame: 6 x 8\n",
       "\n",
       "| i &lt;fct&gt; | j &lt;fct&gt; | g2 &lt;fct&gt; | g1 &lt;fct&gt; | y &lt;dbl&gt; | b2 &lt;dbl&gt; | b1 &lt;dbl&gt; | eps &lt;dbl&gt; |\n",
       "|---|---|---|---|---|---|---|---|\n",
       "| 1 | 1 | a | A | 10.251368 |  2.071718 | -2.233387 |  0.41303677 |\n",
       "| 1 | 2 | b | A |  6.262446 | -1.992034 | -2.233387 |  0.48786752 |\n",
       "| 1 | 3 | c | A |  3.194801 | -4.519488 | -2.233387 | -0.05232492 |\n",
       "| 2 | 1 | a | B | 10.719548 |  2.071718 | -1.381016 |  0.02884648 |\n",
       "| 2 | 2 | b | B |  6.779392 | -1.992034 | -1.381016 |  0.15244283 |\n",
       "| 2 | 3 | c | B |  3.973049 | -4.519488 | -1.381016 | -0.12644697 |\n",
       "\n"
      ],
      "text/plain": [
       "  i j g2 g1 y         b2        b1        eps        \n",
       "1 1 1 a  A  10.251368  2.071718 -2.233387  0.41303677\n",
       "2 1 2 b  A   6.262446 -1.992034 -2.233387  0.48786752\n",
       "3 1 3 c  A   3.194801 -4.519488 -2.233387 -0.05232492\n",
       "4 2 1 a  B  10.719548  2.071718 -1.381016  0.02884648\n",
       "5 2 2 b  B   6.779392 -1.992034 -1.381016  0.15244283\n",
       "6 2 3 c  B   3.973049 -4.519488 -1.381016 -0.12644697"
      ]
     },
     "metadata": {},
     "output_type": "display_data"
    }
   ],
   "source": [
    "# 设置因子水平数\n",
    "n1 <- 2  # g1\n",
    "n2 <- 3  # g2\n",
    "\n",
    "# 创建因子索引\n",
    "i <- gl(n1, n2)\n",
    "j <- gl(n2, 1, n1 * n2)\n",
    "\n",
    "# 随机效应\n",
    "b1x <- rnorm(n1, mean = 0, sd = 1)\n",
    "b2x <- rnorm(n2, mean = 0, sd = 2)\n",
    "\n",
    "# 初始数据框\n",
    "dt0 <- data.frame(i = i, j = j)\n",
    "\n",
    "# 生成最终数据框\n",
    "dtc <- within(dt0, {\n",
    "  eps <- rnorm(nrow(dt0), mean = 0, sd = 0.2)\n",
    "  b1 <- b1x[i]\n",
    "  b2 <- b2x[j]\n",
    "  y <- 10 + b1 + b2 + eps\n",
    "  g1 <- factor(LETTERS[i])\n",
    "  g2 <- factor(j, labels = letters[1:n2])\n",
    "})\n",
    "\n",
    "dtc"
   ]
  },
  {
   "cell_type": "code",
   "execution_count": 38,
   "id": "b1a1fed4",
   "metadata": {
    "vscode": {
     "languageId": "r"
    }
   },
   "outputs": [
    {
     "ename": "ERROR",
     "evalue": "Error in library(lme4.0): there is no package called 'lme4.0'\n",
     "output_type": "error",
     "traceback": [
      "Error in library(lme4.0): there is no package called 'lme4.0'\nTraceback:\n",
      "1. stop(packageNotFoundError(package, lib.loc, sys.call()))"
     ]
    }
   ],
   "source": [
    "library(lme4.0)\n",
    "fit <- lmer(y ~ 1 + (1 | g1) + (1 | g2), data = dtc)\n",
    "summary(fit)"
   ]
  },
  {
   "cell_type": "code",
   "execution_count": null,
   "id": "eee02a39",
   "metadata": {
    "vscode": {
     "languageId": "r"
    }
   },
   "outputs": [
    {
     "data": {
      "text/html": [
       "-14.831811808616"
      ],
      "text/latex": [
       "-14.831811808616"
      ],
      "text/markdown": [
       "-14.831811808616"
      ],
      "text/plain": [
       "[1] -14.83181"
      ]
     },
     "metadata": {},
     "output_type": "display_data"
    }
   ],
   "source": [
    "library(nlmeU)\n",
    "library(nlme)\n",
    "# 使用nlmeU包进行模型拟合\n",
    "fit <- lme(y ~ 1, random = ~ 1 | g1, data = dtc)\n",
    "logLik1(fit, dt1 = dtc)"
   ]
  },
  {
   "cell_type": "code",
   "execution_count": 26,
   "id": "ded3173f",
   "metadata": {
    "vscode": {
     "languageId": "r"
    }
   },
   "outputs": [
    {
     "data": {
      "text/html": [
       "<style>\n",
       ".dl-inline {width: auto; margin:0; padding: 0}\n",
       ".dl-inline>dt, .dl-inline>dd {float: none; width: auto; display: inline-block}\n",
       ".dl-inline>dt::after {content: \":\\0020\"; padding-right: .5ex}\n",
       ".dl-inline>dt:not(:first-of-type) {padding-left: .5ex}\n",
       "</style><dl class=dl-inline><dt>1</dt><dd>1.21662326234135</dd><dt>2</dt><dd>0.311656940845731</dd><dt>3</dt><dd>4.59718982070834</dd><dt>4</dt><dd>1.03492570057642</dd><dt>5</dt><dd>0.320770434839611</dd><dt>6</dt><dd>4.27048799780697</dd></dl>\n"
      ],
      "text/latex": [
       "\\begin{description*}\n",
       "\\item[1] 1.21662326234135\n",
       "\\item[2] 0.311656940845731\n",
       "\\item[3] 4.59718982070834\n",
       "\\item[4] 1.03492570057642\n",
       "\\item[5] 0.320770434839611\n",
       "\\item[6] 4.27048799780697\n",
       "\\end{description*}\n"
      ],
      "text/markdown": [
       "1\n",
       ":   1.216623262341352\n",
       ":   0.3116569408457313\n",
       ":   4.597189820708344\n",
       ":   1.034925700576425\n",
       ":   0.3207704348396116\n",
       ":   4.27048799780697\n",
       "\n"
      ],
      "text/plain": [
       "        1         2         3         4         5         6 \n",
       "1.2166233 0.3116569 4.5971898 1.0349257 0.3207704 4.2704880 "
      ]
     },
     "metadata": {},
     "output_type": "display_data"
    }
   ],
   "source": [
    "library(car)\n",
    "cooks.distance(fit)"
   ]
  },
  {
   "cell_type": "code",
   "execution_count": 47,
   "id": "461fdd9a",
   "metadata": {
    "vscode": {
     "languageId": "r"
    }
   },
   "outputs": [
    {
     "data": {
      "text/plain": [
       "Linear mixed model fit by REML. t-tests use Satterthwaite's method [\n",
       "lmerModLmerTest]\n",
       "Formula: y ~ 1 + (1 | g1) + (1 | g2)\n",
       "   Data: dtc\n",
       "\n",
       "REML criterion at convergence: 13.1\n",
       "\n",
       "Scaled residuals: \n",
       "     Min       1Q   Median       3Q      Max \n",
       "-0.89069 -0.37577 -0.00168  0.40163  0.85846 \n",
       "\n",
       "Random effects:\n",
       " Groups   Name        Variance Std.Dev.\n",
       " g2       (Intercept) 11.9888  3.4625  \n",
       " g1       (Intercept)  0.1681  0.4100  \n",
       " Residual              0.0139  0.1179  \n",
       "Number of obs: 6, groups:  g2, 3; g1, 2\n",
       "\n",
       "Fixed effects:\n",
       "            Estimate Std. Error    df t value Pr(>|t|)  \n",
       "(Intercept)    6.863      2.021 2.083   3.397   0.0726 .\n",
       "---\n",
       "Signif. codes:  0 '***' 0.001 '**' 0.01 '*' 0.05 '.' 0.1 ' ' 1"
      ]
     },
     "metadata": {},
     "output_type": "display_data"
    }
   ],
   "source": [
    "library(lmerTest)\n",
    "# 进行检验\n",
    "fit <- lmer(y ~ 1 + (1 | g1) + (1 | g2), data = dtc)\n",
    "summary(fit)"
   ]
  },
  {
   "cell_type": "code",
   "execution_count": 49,
   "id": "7e051742",
   "metadata": {
    "vscode": {
     "languageId": "r"
    }
   },
   "outputs": [
    {
     "ename": "ERROR",
     "evalue": "Error in object$coefficients: object of type 'closure' is not subsettable\n",
     "output_type": "error",
     "traceback": [
      "Error in object$coefficients: object of type 'closure' is not subsettable\nTraceback:\n",
      "1. confint.default(intervals)",
      "2. coef(object)",
      "3. coef.default(object)"
     ]
    }
   ],
   "source": [
    "confint(intervals)"
   ]
  },
  {
   "cell_type": "code",
   "execution_count": 37,
   "id": "b22c0121",
   "metadata": {
    "vscode": {
     "languageId": "r"
    }
   },
   "outputs": [
    {
     "name": "stdout",
     "output_type": "stream",
     "text": [
      "Type III Analysis of Variance Table with Satterthwaite's method\n",
      "     Sum Sq Mean Sq NumDF DenDF F value Pr(>F)\n"
     ]
    }
   ],
   "source": [
    "library(tidyverse)\n",
    "anova(fit) %>% print()"
   ]
  },
  {
   "cell_type": "code",
   "execution_count": 39,
   "id": "68815e68",
   "metadata": {
    "vscode": {
     "languageId": "r"
    }
   },
   "outputs": [
    {
     "name": "stdout",
     "output_type": "stream",
     "text": [
      "F-test with Kenward-Roger approximation; time: 0.05 sec\n",
      "large : Reaction ~ Days + (1 + Days | Subject)\n",
      "small : Reaction ~ 1 + (1 + Days | Subject)\n",
      "         stat    ndf    ddf F.scaling   p.value    \n",
      "Ftest  45.853  1.000 17.000         1 3.264e-06 ***\n",
      "FtestU 45.853  1.000 17.000           3.264e-06 ***\n",
      "---\n",
      "Signif. codes:  0 '***' 0.001 '**' 0.01 '*' 0.05 '.' 0.1 ' ' 1\n"
     ]
    },
    {
     "name": "stderr",
     "output_type": "stream",
     "text": [
      "Warning message in checkConv(attr(opt, \"derivs\"), opt$par, ctrl = control$checkConv, :\n",
      "\"Model failed to converge with max|grad| = 0.00667686 (tol = 0.002, component 1)\"\n",
      "Warning message in checkConv(attr(opt, \"derivs\"), opt$par, ctrl = control$checkConv, :\n",
      "\"Model failed to converge with max|grad| = 0.00616354 (tol = 0.002, component 1)\"\n",
      "Warning message in checkConv(attr(opt, \"derivs\"), opt$par, ctrl = control$checkConv, :\n",
      "\"Model failed to converge with max|grad| = 0.00249764 (tol = 0.002, component 1)\"\n",
      "Warning message in checkConv(attr(opt, \"derivs\"), opt$par, ctrl = control$checkConv, :\n",
      "\"Model failed to converge with max|grad| = 0.00206685 (tol = 0.002, component 1)\"\n",
      "Warning message in checkConv(attr(opt, \"derivs\"), opt$par, ctrl = control$checkConv, :\n",
      "\"Model failed to converge with max|grad| = 0.0031531 (tol = 0.002, component 1)\"\n",
      "Warning message in checkConv(attr(opt, \"derivs\"), opt$par, ctrl = control$checkConv, :\n",
      "\"Model failed to converge with max|grad| = 0.00329668 (tol = 0.002, component 1)\"\n"
     ]
    },
    {
     "data": {
      "text/plain": [
       "Bootstrap test; time: 2.68 sec; samples: 200; extremes: 0;\n",
       "large : Reaction ~ Days + (1 + Days | Subject)\n",
       "Reaction ~ 1 + (1 + Days | Subject)\n",
       "           stat     df    ddf   p.value    \n",
       "LRT      23.537  1.000        1.226e-06 ***\n",
       "PBtest   23.537                0.004975 ** \n",
       "Gamma    23.537               1.763e-05 ***\n",
       "Bartlett 21.414  1.000        3.701e-06 ***\n",
       "F        23.537  1.000 22.175 7.402e-05 ***\n",
       "---\n",
       "Signif. codes:  0 '***' 0.001 '**' 0.01 '*' 0.05 '.' 0.1 ' ' 1\n"
      ]
     },
     "metadata": {},
     "output_type": "display_data"
    }
   ],
   "source": [
    "# 安装（如果尚未安装）\n",
    "# install.packages(\"pbkrtest\")\n",
    "\n",
    "library(pbkrtest)\n",
    "\n",
    "# 注意：为了进行比较，模型必须是用lmer()拟合的\n",
    "# full_model 和 null_model 来自上一步，但用REML拟合也可以\n",
    "full_model_reml <- lmer(Reaction ~ Days + (1 + Days | Subject), data = sleepstudy)\n",
    "null_model_reml <- lmer(Reaction ~ 1 + (1 + Days | Subject), data = sleepstudy)\n",
    "\n",
    "\n",
    "# 方法A: Kenward-Roger F检验 (一种改进的F检验近似)\n",
    "KR_test <- KRmodcomp(full_model_reml, null_model_reml)\n",
    "summary(KR_test)\n",
    "\n",
    "# 方法B: 参数化自举法 (Parametric Bootstrap)\n",
    "# nsim设置了模拟次数，实际应用中建议至少1000次，这里为了速度设为200\n",
    "PB_test <- PBmodcomp(full_model_reml, null_model_reml, nsim = 200)\n",
    "summary(PB_test)"
   ]
  },
  {
   "cell_type": "code",
   "execution_count": 40,
   "id": "909013d4",
   "metadata": {
    "vscode": {
     "languageId": "r"
    }
   },
   "outputs": [
    {
     "data": {
      "text/html": [
       "<table class=\"dataframe\">\n",
       "<caption>A anova: 2 x 8</caption>\n",
       "<thead>\n",
       "\t<tr><th></th><th scope=col>npar</th><th scope=col>AIC</th><th scope=col>BIC</th><th scope=col>logLik</th><th scope=col>deviance</th><th scope=col>Chisq</th><th scope=col>Df</th><th scope=col>Pr(&gt;Chisq)</th></tr>\n",
       "\t<tr><th></th><th scope=col>&lt;dbl&gt;</th><th scope=col>&lt;dbl&gt;</th><th scope=col>&lt;dbl&gt;</th><th scope=col>&lt;dbl&gt;</th><th scope=col>&lt;dbl&gt;</th><th scope=col>&lt;dbl&gt;</th><th scope=col>&lt;dbl&gt;</th><th scope=col>&lt;dbl&gt;</th></tr>\n",
       "</thead>\n",
       "<tbody>\n",
       "\t<tr><th scope=row>null_model</th><td>5</td><td>1785.476</td><td>1801.441</td><td>-887.7379</td><td>1775.476</td><td>      NA</td><td>NA</td><td>         NA</td></tr>\n",
       "\t<tr><th scope=row>full_model</th><td>6</td><td>1763.939</td><td>1783.097</td><td>-875.9697</td><td>1751.939</td><td>23.53654</td><td> 1</td><td>1.22564e-06</td></tr>\n",
       "</tbody>\n",
       "</table>\n"
      ],
      "text/latex": [
       "A anova: 2 x 8\n",
       "\\begin{tabular}{r|llllllll}\n",
       "  & npar & AIC & BIC & logLik & deviance & Chisq & Df & Pr(>Chisq)\\\\\n",
       "  & <dbl> & <dbl> & <dbl> & <dbl> & <dbl> & <dbl> & <dbl> & <dbl>\\\\\n",
       "\\hline\n",
       "\tnull\\_model & 5 & 1785.476 & 1801.441 & -887.7379 & 1775.476 &       NA & NA &          NA\\\\\n",
       "\tfull\\_model & 6 & 1763.939 & 1783.097 & -875.9697 & 1751.939 & 23.53654 &  1 & 1.22564e-06\\\\\n",
       "\\end{tabular}\n"
      ],
      "text/markdown": [
       "\n",
       "A anova: 2 x 8\n",
       "\n",
       "| <!--/--> | npar &lt;dbl&gt; | AIC &lt;dbl&gt; | BIC &lt;dbl&gt; | logLik &lt;dbl&gt; | deviance &lt;dbl&gt; | Chisq &lt;dbl&gt; | Df &lt;dbl&gt; | Pr(&gt;Chisq) &lt;dbl&gt; |\n",
       "|---|---|---|---|---|---|---|---|---|\n",
       "| null_model | 5 | 1785.476 | 1801.441 | -887.7379 | 1775.476 |       NA | NA |          NA |\n",
       "| full_model | 6 | 1763.939 | 1783.097 | -875.9697 | 1751.939 | 23.53654 |  1 | 1.22564e-06 |\n",
       "\n"
      ],
      "text/plain": [
       "           npar AIC      BIC      logLik    deviance Chisq    Df Pr(>Chisq) \n",
       "null_model 5    1785.476 1801.441 -887.7379 1775.476       NA NA          NA\n",
       "full_model 6    1763.939 1783.097 -875.9697 1751.939 23.53654  1 1.22564e-06"
      ]
     },
     "metadata": {},
     "output_type": "display_data"
    }
   ],
   "source": [
    "# 完整模型 (包含Days)，使用ML估计\n",
    "full_model <- lmer(Reaction ~ Days + (1 + Days | Subject), data = sleepstudy, REML = FALSE)\n",
    "\n",
    "# 零模型 (不包含Days)，也使用ML估计\n",
    "null_model <- lmer(Reaction ~ 1 + (1 + Days | Subject), data = sleepstudy, REML = FALSE)\n",
    "\n",
    "# 使用anova()函数比较两个模型\n",
    "anova(null_model, full_model)"
   ]
  },
  {
   "cell_type": "code",
   "execution_count": 46,
   "id": "a83967c6",
   "metadata": {
    "vscode": {
     "languageId": "r"
    }
   },
   "outputs": [
    {
     "name": "stderr",
     "output_type": "stream",
     "text": [
      "refitting model(s) with ML (instead of REML)\n",
      "\n"
     ]
    },
    {
     "name": "stdout",
     "output_type": "stream",
     "text": [
      "Data: sleepstudy\n",
      "Models:\n",
      "reduced_model: Reaction ~ Days + (1 | Subject)\n",
      "full_model: Reaction ~ Days + (1 + Days | Subject)\n",
      "              npar    AIC    BIC  logLik deviance  Chisq Df Pr(>Chisq)    \n",
      "reduced_model    4 1802.1 1814.8 -897.04   1794.1                         \n",
      "full_model       6 1763.9 1783.1 -875.97   1751.9 42.139  2  7.072e-10 ***\n",
      "---\n",
      "Signif. codes:  0 '***' 0.001 '**' 0.01 '*' 0.05 '.' 0.1 ' ' 1\n"
     ]
    }
   ],
   "source": [
    "library(lme4)\n",
    "library(lmerTest) # 加载lmerTest以便summary能显示p值，但对本例的LR检验无直接影响\n",
    "\n",
    "# 完整模型：随机截距 + 随机斜率\n",
    "full_model <- lmer(Reaction ~ Days + (1 + Days | Subject), data = sleepstudy, REML = TRUE)\n",
    "\n",
    "# 简化模型：只有随机截距\n",
    "reduced_model <- lmer(Reaction ~ Days + (1 | Subject), data = sleepstudy, REML = TRUE)\n",
    "\n",
    "# 安装（如果尚未安装）\n",
    "# install.packages(\"RLRsim\")\n",
    "library(RLRsim)\n",
    "\n",
    "# 使用 exactRLRT 进行精确的限制性似然比检验\n",
    "test_result <- anova(reduced_model, full_model)\n",
    "\n",
    "print(test_result)"
   ]
  },
  {
   "cell_type": "code",
   "execution_count": null,
   "id": "764584de",
   "metadata": {
    "vscode": {
     "languageId": "r"
    }
   },
   "outputs": [],
   "source": []
  },
  {
   "cell_type": "code",
   "execution_count": null,
   "id": "6f10b4d1",
   "metadata": {
    "vscode": {
     "languageId": "r"
    }
   },
   "outputs": [],
   "source": []
  }
 ],
 "metadata": {
  "kernelspec": {
   "display_name": "R",
   "language": "R",
   "name": "ir"
  },
  "language_info": {
   "codemirror_mode": "r",
   "file_extension": ".r",
   "mimetype": "text/x-r-source",
   "name": "R",
   "pygments_lexer": "r",
   "version": "4.4.2"
  }
 },
 "nbformat": 4,
 "nbformat_minor": 5
}

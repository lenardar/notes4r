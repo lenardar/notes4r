{
 "cells": [
  {
   "cell_type": "code",
   "execution_count": 18,
   "id": "4bbc9a2f",
   "metadata": {
    "vscode": {
     "languageId": "r"
    }
   },
   "outputs": [
    {
     "name": "stderr",
     "output_type": "stream",
     "text": [
      "\u001b[1mRows: \u001b[22m\u001b[34m192\u001b[39m \u001b[1mColumns: \u001b[22m\u001b[34m4\u001b[39m\n",
      "\u001b[36m--\u001b[39m \u001b[1mColumn specification\u001b[22m \u001b[36m--------------------------------------------------------\u001b[39m\n",
      "\u001b[1mDelimiter:\u001b[22m \",\"\n",
      "\u001b[32mdbl\u001b[39m (4): Gender, Age, Income, Stage\n",
      "\n",
      "\u001b[36mi\u001b[39m Use `spec()` to retrieve the full column specification for this data.\n",
      "\u001b[36mi\u001b[39m Specify the column types or set `show_col_types = FALSE` to quiet this message.\n"
     ]
    },
    {
     "data": {
      "text/html": [
       "<table class=\"dataframe\">\n",
       "<caption>A tibble: 6 x 4</caption>\n",
       "<thead>\n",
       "\t<tr><th scope=col>Gender</th><th scope=col>Age</th><th scope=col>Income</th><th scope=col>Stage</th></tr>\n",
       "\t<tr><th scope=col>&lt;dbl&gt;</th><th scope=col>&lt;dbl&gt;</th><th scope=col>&lt;dbl&gt;</th><th scope=col>&lt;dbl&gt;</th></tr>\n",
       "</thead>\n",
       "<tbody>\n",
       "\t<tr><td>1</td><td>60</td><td>3</td><td>3</td></tr>\n",
       "\t<tr><td>0</td><td>53</td><td>3</td><td>2</td></tr>\n",
       "\t<tr><td>1</td><td>66</td><td>1</td><td>1</td></tr>\n",
       "\t<tr><td>0</td><td>77</td><td>3</td><td>3</td></tr>\n",
       "\t<tr><td>0</td><td>63</td><td>2</td><td>2</td></tr>\n",
       "\t<tr><td>0</td><td>72</td><td>3</td><td>1</td></tr>\n",
       "</tbody>\n",
       "</table>\n"
      ],
      "text/latex": [
       "A tibble: 6 x 4\n",
       "\\begin{tabular}{llll}\n",
       " Gender & Age & Income & Stage\\\\\n",
       " <dbl> & <dbl> & <dbl> & <dbl>\\\\\n",
       "\\hline\n",
       "\t 1 & 60 & 3 & 3\\\\\n",
       "\t 0 & 53 & 3 & 2\\\\\n",
       "\t 1 & 66 & 1 & 1\\\\\n",
       "\t 0 & 77 & 3 & 3\\\\\n",
       "\t 0 & 63 & 2 & 2\\\\\n",
       "\t 0 & 72 & 3 & 1\\\\\n",
       "\\end{tabular}\n"
      ],
      "text/markdown": [
       "\n",
       "A tibble: 6 x 4\n",
       "\n",
       "| Gender &lt;dbl&gt; | Age &lt;dbl&gt; | Income &lt;dbl&gt; | Stage &lt;dbl&gt; |\n",
       "|---|---|---|---|\n",
       "| 1 | 60 | 3 | 3 |\n",
       "| 0 | 53 | 3 | 2 |\n",
       "| 1 | 66 | 1 | 1 |\n",
       "| 0 | 77 | 3 | 3 |\n",
       "| 0 | 63 | 2 | 2 |\n",
       "| 0 | 72 | 3 | 1 |\n",
       "\n"
      ],
      "text/plain": [
       "  Gender Age Income Stage\n",
       "1 1      60  3      3    \n",
       "2 0      53  3      2    \n",
       "3 1      66  1      1    \n",
       "4 0      77  3      3    \n",
       "5 0      63  2      2    \n",
       "6 0      72  3      1    "
      ]
     },
     "metadata": {},
     "output_type": "display_data"
    }
   ],
   "source": [
    "library(tidyverse)\n",
    "data <- read_csv(\"./data/ologit.csv\")\n",
    "head(data)\n",
    "\n",
    "# Gender Age Income Stage\n",
    "# 1 1      60  3      3    \n",
    "# 2 0      53  3      2    \n",
    "# 3 1      66  1      1    \n",
    "# 4 0      77  3      3    \n",
    "# 5 0      63  2      2    \n",
    "# 6 0      72  3      1"
   ]
  },
  {
   "cell_type": "code",
   "execution_count": 19,
   "id": "99a39adb",
   "metadata": {
    "vscode": {
     "languageId": "r"
    }
   },
   "outputs": [
    {
     "name": "stdout",
     "output_type": "stream",
     "text": [
      "Rows: 192\n",
      "Columns: 4\n",
      "$ Gender \u001b[3m\u001b[90m<dbl>\u001b[39m\u001b[23m 1, 0, 1, 0, 0, 0, 1, 0, 1, 0, 1, 1, 1, 0, 1, 1, 0, 1, 0, 1, 1, ~\n",
      "$ Age    \u001b[3m\u001b[90m<dbl>\u001b[39m\u001b[23m 60, 53, 66, 77, 63, 72, 56, 65, 68, 65, 53, 53, 54, 54, 54, 56,~\n",
      "$ Income \u001b[3m\u001b[90m<dbl>\u001b[39m\u001b[23m 3, 3, 1, 3, 2, 3, 1, 2, 2, 3, 1, 1, 1, 3, 1, 2, 1, 2, 2, 1, 1, ~\n",
      "$ Stage  \u001b[3m\u001b[90m<dbl>\u001b[39m\u001b[23m 3, 2, 1, 3, 2, 1, 0, 2, 2, 2, 0, 1, 0, 0, 0, 2, 0, 1, 1, 1, 1, ~\n"
     ]
    }
   ],
   "source": [
    "data %>% glimpse()"
   ]
  },
  {
   "cell_type": "code",
   "execution_count": 20,
   "id": "b511e7a1",
   "metadata": {
    "vscode": {
     "languageId": "r"
    }
   },
   "outputs": [
    {
     "name": "stdout",
     "output_type": "stream",
     "text": [
      "-- Data Summary ------------------------\n",
      "                           Values    \n",
      "Name                       Piped data\n",
      "Number of rows             192       \n",
      "Number of columns          4         \n",
      "_______________________              \n",
      "Column type frequency:               \n",
      "  factor                   3         \n",
      "  numeric                  1         \n",
      "________________________             \n",
      "Group variables            None      \n",
      "\n",
      "-- Variable type: factor -------------------------------------------------------\n",
      "  skim_variable n_missing complete_rate ordered n_unique\n",
      "\u001b[90m1\u001b[39m Gender                0             1 FALSE          2\n",
      "\u001b[90m2\u001b[39m Income                0             1 FALSE          3\n",
      "\u001b[90m3\u001b[39m Stage                 0             1 FALSE          4\n",
      "  top_counts                \n",
      "\u001b[90m1\u001b[39m 0: 106, 1: 86             \n",
      "\u001b[90m2\u001b[39m 2: 76, 3: 62, 1: 54       \n",
      "\u001b[90m3\u001b[39m 2: 89, 1: 46, 3: 34, 0: 23\n",
      "\n",
      "-- Variable type: numeric ------------------------------------------------------\n",
      "  skim_variable n_missing complete_rate mean   sd p0 p25 p50 p75 p100\n",
      "\u001b[90m1\u001b[39m Age                   0             1 66.7 5.38 53  63  67  70   84\n",
      "  hist                            \n",
      "\u001b[90m1\u001b[39m \u001b[90m\"\u001b[39m\\u2582\\u2586\\u2587\\u2583\\u2581\u001b[90m\"\u001b[39m\n"
     ]
    }
   ],
   "source": [
    "library(skimr)\n",
    "data %>% mutate(\n",
    "  Gender = factor(Gender),\n",
    "  Stage = factor(Stage),\n",
    "  Income = factor(Income)\n",
    ") %>%\n",
    "  skim() %>%\n",
    "  print()"
   ]
  },
  {
   "cell_type": "code",
   "execution_count": null,
   "id": "fc7379b5",
   "metadata": {
    "vscode": {
     "languageId": "r"
    }
   },
   "outputs": [
    {
     "name": "stdout",
     "output_type": "stream",
     "text": [
      "-- Data Summary ------------------------\n",
      "                           Values  \n",
      "Name                       data_pre\n",
      "Number of rows             192     \n",
      "Number of columns          4       \n",
      "_______________________            \n",
      "Column type frequency:             \n",
      "  factor                   3       \n",
      "  numeric                  1       \n",
      "________________________           \n",
      "Group variables            None    \n",
      "\n",
      "-- Variable type: factor -------------------------------------------------------\n",
      "  skim_variable n_missing complete_rate ordered n_unique\n",
      "\u001b[90m1\u001b[39m Gender                0             1 FALSE          2\n",
      "\u001b[90m2\u001b[39m Income                0             1 FALSE          3\n",
      "\u001b[90m3\u001b[39m Stage                 0             1 TRUE           4\n",
      "  top_counts                     \n",
      "\u001b[90m1\u001b[39m Fem: 106, Mal: 86              \n",
      "\u001b[90m2\u001b[39m Med: 76, Hig: 62, Low: 54      \n",
      "\u001b[90m3\u001b[39m IV: 89, III: 46, V: 34, I-I: 23\n",
      "\n",
      "-- Variable type: numeric ------------------------------------------------------\n",
      "  skim_variable n_missing complete_rate mean   sd p0 p25 p50 p75 p100\n",
      "\u001b[90m1\u001b[39m Age                   0             1 66.7 5.38 53  63  67  70   84\n",
      "  hist                            \n",
      "\u001b[90m1\u001b[39m \u001b[90m\"\u001b[39m\\u2582\\u2586\\u2587\\u2583\\u2581\u001b[90m\"\u001b[39m\n"
     ]
    }
   ],
   "source": [
    "data_pre <- data %>%\n",
    "  mutate(\n",
    "    Stage = factor(\n",
    "      Stage,\n",
    "      levels = c(0, 1, 2, 3),\n",
    "      labels = c(\"I-II\", \"III\", \"IV\", \"V\"),\n",
    "      ordered = TRUE\n",
    "    ),\n",
    "    Gender = factor(\n",
    "      Gender,\n",
    "      levels = c(0, 1),\n",
    "      labels = c(\"Female\", \"Male\")\n",
    "    ),\n",
    "    Income = factor(\n",
    "      Income,\n",
    "      levels = c(1, 2, 3),\n",
    "      labels = c(\"Low\", \"Medium\", \"High\")\n",
    "    )\n",
    "  )\n",
    "skim(data_pre) %>% print()"
   ]
  },
  {
   "cell_type": "code",
   "execution_count": null,
   "id": "1f4641d6",
   "metadata": {
    "vscode": {
     "languageId": "r"
    }
   },
   "outputs": [
    {
     "name": "stdout",
     "output_type": "stream",
     "text": [
      "-------------------------------------------- \n",
      "Test for\tX2\tdf\tprobability \n",
      "-------------------------------------------- \n",
      "Omnibus\t\t3.67\t8\t0.89\n",
      "GenderMale\t1.42\t2\t0.49\n",
      "Age\t\t1.78\t2\t0.41\n",
      "IncomeMedium\t0.06\t2\t0.97\n",
      "IncomeHigh\t0.26\t2\t0.88\n",
      "-------------------------------------------- \n",
      "\n",
      "H0: Parallel Regression Assumption holds\n"
     ]
    }
   ],
   "source": [
    "# 使用brant检验\n",
    "library(brant)\n",
    "library(MASS)\n",
    "brant(polr(Stage ~ Gender + Age + Income, data = data_pre))\n",
    "\n",
    "# -------------------------------------------- \n",
    "# Test for\tX2\tdf\tprobability \n",
    "# -------------------------------------------- \n",
    "# Omnibus\t\t3.67\t8\t0.89\n",
    "# GenderMale\t1.42\t2\t0.49\n",
    "# Age\t\t1.78\t2\t0.41\n",
    "# IncomeMedium\t0.06\t2\t0.97\n",
    "# IncomeHigh\t0.26\t2\t0.88\n",
    "# -------------------------------------------- \n",
    "\n",
    "# H0: Parallel Regression Assumption holds"
   ]
  },
  {
   "cell_type": "code",
   "execution_count": null,
   "id": "2297b0cb",
   "metadata": {
    "vscode": {
     "languageId": "r"
    }
   },
   "outputs": [
    {
     "data": {
      "text/plain": [
       "Likelihood ratio test\n",
       "\n",
       "Model 1: Stage ~ Income + Age + Gender\n",
       "Model 2: Stage ~ Income + Age + Gender\n",
       "  #Df  LogLik Df Chisq Pr(>Chisq)\n",
       "1 564 -226.00                    \n",
       "2 570 -227.45  6 2.891     0.8224"
      ]
     },
     "metadata": {},
     "output_type": "display_data"
    }
   ],
   "source": [
    "# 使用LR检验\n",
    "library(lmtest)\n",
    "library(VGAM)\n",
    "\n",
    "# 拟合符合平行性假设的模型\n",
    "om1 <- vglm(\n",
    "  Stage ~ Income + Age + Gender,\n",
    "  data = data,\n",
    "  family = cumulative(parallel = TRUE)\n",
    ")\n",
    "\n",
    "# 拟合不符合平行性假设的模型\n",
    "om2 <- vglm(\n",
    "  Stage ~ Income + Age + Gender,\n",
    "  data = data,\n",
    "  family = cumulative(parallel = FALSE)\n",
    ")\n",
    "\n",
    "# 计算两种模型拟合结果是否一致\n",
    "lrtest(om2, om1)\n",
    "\n",
    "# Likelihood ratio test\n",
    "\n",
    "# Model 1: Stage ~ Income + Age + Gender\n",
    "# Model 2: Stage ~ Income + Age + Gender\n",
    "#   #Df  LogLik Df Chisq Pr(>Chisq)\n",
    "# 1 564 -226.00                    \n",
    "# 2 570 -227.45  6 2.891     0.8224"
   ]
  },
  {
   "cell_type": "code",
   "execution_count": 35,
   "id": "db8a7384",
   "metadata": {
    "vscode": {
     "languageId": "r"
    }
   },
   "outputs": [
    {
     "name": "stderr",
     "output_type": "stream",
     "text": [
      "\n",
      "Re-fitting to get Hessian\n",
      "\n",
      "\n"
     ]
    },
    {
     "data": {
      "text/plain": [
       "Call:\n",
       "polr(formula = Stage ~ Gender + Age + Income, data = data_pre)\n",
       "\n",
       "Coefficients:\n",
       "               Value Std. Error t value\n",
       "GenderMale   -0.2297    0.27540 -0.8342\n",
       "Age           0.1112    0.02743  4.0533\n",
       "IncomeMedium  1.1909    0.34341  3.4679\n",
       "IncomeHigh    0.8738    0.35997  2.4274\n",
       "\n",
       "Intercepts:\n",
       "         Value   Std. Error t value\n",
       "I-II|III  5.7885  1.7946     3.2256\n",
       "III|IV    7.4302  1.8266     4.0678\n",
       "IV|V      9.8215  1.8840     5.2130\n",
       "\n",
       "Residual Deviance: 447.6524 \n",
       "AIC: 461.6524 "
      ]
     },
     "metadata": {},
     "output_type": "display_data"
    }
   ],
   "source": [
    "fit <- polr(Stage ~ Gender + Age + Income, data = data_pre)\n",
    "summary(fit)"
   ]
  },
  {
   "cell_type": "code",
   "execution_count": null,
   "id": "0bf33d7b",
   "metadata": {
    "vscode": {
     "languageId": "r"
    }
   },
   "outputs": [
    {
     "name": "stdout",
     "output_type": "stream",
     "text": [
      "[1] \"Gender\"\n"
     ]
    },
    {
     "name": "stderr",
     "output_type": "stream",
     "text": [
      "\n",
      "Re-fitting to get Hessian\n",
      "\n",
      "\n"
     ]
    },
    {
     "name": "stdout",
     "output_type": "stream",
     "text": [
      "\u001b[90m# A tibble: 4 x 5\u001b[39m\n",
      "  term                     estimate std.error statistic coef.type  \n",
      "  \u001b[3m\u001b[90m<chr>\u001b[39m\u001b[23m                       \u001b[3m\u001b[90m<dbl>\u001b[39m\u001b[23m     \u001b[3m\u001b[90m<dbl>\u001b[39m\u001b[23m     \u001b[3m\u001b[90m<dbl>\u001b[39m\u001b[23m \u001b[3m\u001b[90m<chr>\u001b[39m\u001b[23m      \n",
      "\u001b[90m1\u001b[39m data_pre[[col_name]]Male   -\u001b[31m0\u001b[39m\u001b[31m.\u001b[39m\u001b[31m420\u001b[39m     0.271     -\u001b[31m1\u001b[39m\u001b[31m.\u001b[39m\u001b[31m55\u001b[39m coefficient\n",
      "\u001b[90m2\u001b[39m I-II|III                   -\u001b[31m2\u001b[39m\u001b[31m.\u001b[39m\u001b[31m20\u001b[39m      0.260     -\u001b[31m8\u001b[39m\u001b[31m.\u001b[39m\u001b[31m44\u001b[39m scale      \n",
      "\u001b[90m3\u001b[39m III|IV                     -\u001b[31m0\u001b[39m\u001b[31m.\u001b[39m\u001b[31m763\u001b[39m     0.194     -\u001b[31m3\u001b[39m\u001b[31m.\u001b[39m\u001b[31m93\u001b[39m scale      \n",
      "\u001b[90m4\u001b[39m IV|V                        1.37      0.216      6.33 scale      \n",
      "[1] \"Age\"\n"
     ]
    },
    {
     "name": "stderr",
     "output_type": "stream",
     "text": [
      "\n",
      "Re-fitting to get Hessian\n",
      "\n",
      "\n"
     ]
    },
    {
     "name": "stdout",
     "output_type": "stream",
     "text": [
      "\u001b[90m# A tibble: 4 x 5\u001b[39m\n",
      "  term                 estimate std.error statistic coef.type  \n",
      "  \u001b[3m\u001b[90m<chr>\u001b[39m\u001b[23m                   \u001b[3m\u001b[90m<dbl>\u001b[39m\u001b[23m     \u001b[3m\u001b[90m<dbl>\u001b[39m\u001b[23m     \u001b[3m\u001b[90m<dbl>\u001b[39m\u001b[23m \u001b[3m\u001b[90m<chr>\u001b[39m\u001b[23m      \n",
      "\u001b[90m1\u001b[39m data_pre[[col_name]]    0.125    0.026\u001b[4m9\u001b[24m      4.65 coefficient\n",
      "\u001b[90m2\u001b[39m I-II|III                6.18     1.75        3.52 scale      \n",
      "\u001b[90m3\u001b[39m III|IV                  7.73     1.79        4.33 scale      \n",
      "\u001b[90m4\u001b[39m IV|V                   10.0      1.85        5.43 scale      \n",
      "[1] \"Income\"\n"
     ]
    },
    {
     "name": "stderr",
     "output_type": "stream",
     "text": [
      "\n",
      "Re-fitting to get Hessian\n",
      "\n",
      "\n"
     ]
    },
    {
     "name": "stdout",
     "output_type": "stream",
     "text": [
      "\u001b[90m# A tibble: 5 x 5\u001b[39m\n",
      "  term                       estimate std.error statistic coef.type  \n",
      "  \u001b[3m\u001b[90m<chr>\u001b[39m\u001b[23m                         \u001b[3m\u001b[90m<dbl>\u001b[39m\u001b[23m     \u001b[3m\u001b[90m<dbl>\u001b[39m\u001b[23m     \u001b[3m\u001b[90m<dbl>\u001b[39m\u001b[23m \u001b[3m\u001b[90m<chr>\u001b[39m\u001b[23m      \n",
      "\u001b[90m1\u001b[39m data_pre[[col_name]]Medium    1.34      0.341      3.94 coefficient\n",
      "\u001b[90m2\u001b[39m data_pre[[col_name]]High      1.13      0.354      3.20 coefficient\n",
      "\u001b[90m3\u001b[39m I-II|III                     -\u001b[31m1\u001b[39m\u001b[31m.\u001b[39m\u001b[31m23\u001b[39m      0.284     -\u001b[31m4\u001b[39m\u001b[31m.\u001b[39m\u001b[31m32\u001b[39m scale      \n",
      "\u001b[90m4\u001b[39m III|IV                        0.284     0.258      1.10 scale      \n",
      "\u001b[90m5\u001b[39m IV|V                          2.53      0.317      7.99 scale      \n",
      "  col_name      p_value  keep\n",
      "1   Gender 1.210195e-01 FALSE\n",
      "2      Age 3.354322e-06  TRUE\n",
      "3   Income 8.305579e-05  TRUE\n"
     ]
    }
   ],
   "source": [
    "# 以单因素分析为基础\n",
    "library(broom)\n",
    "df_select <- data.frame(\n",
    "  col_name = character(),\n",
    "  p_value = numeric(),\n",
    "  keep = logical(),\n",
    "  stringsAsFactors = FALSE\n",
    ")\n",
    "p_limit <- 0.05\n",
    "for (i in 1:(ncol(data_pre) - 1)) {\n",
    "  col_name <- names(data_pre)[i]\n",
    "  print(col_name)\n",
    "\n",
    "  # 使用polr函数进行有序逻辑回归\n",
    "  model <- polr(Stage ~ data_pre[[col_name]], data = data_pre)\n",
    "\n",
    "  # 打印模型摘要\n",
    "  tidy_model <- tidy(model)\n",
    "  print(tidy_model)\n",
    "\n",
    "  # polr输出没有p.value，需用z值计算p值\n",
    "  # 只选第一个自变量（第二行），计算p值\n",
    "  z_val <- tidy_model$statistic[1]\n",
    "  p_value <- 2 * (1 - pnorm(abs(z_val)))\n",
    "\n",
    "  keep <- p_value < p_limit\n",
    "\n",
    "  df_select <- rbind(df_select, data.frame(\n",
    "    col_name = col_name,\n",
    "    p_value = p_value,\n",
    "    keep = keep,\n",
    "    stringsAsFactors = FALSE\n",
    "  ))\n",
    "}\n",
    "\n",
    "print(df_select)\n",
    "\n",
    "  # col_name      p_value  keep\n",
    "# 1   Gender 1.210195e-01 FALSE\n",
    "# 2      Age 3.354322e-06  TRUE\n",
    "# 3   Income 8.305579e-05  TRUE"
   ]
  },
  {
   "cell_type": "code",
   "execution_count": null,
   "id": "329474cf",
   "metadata": {
    "vscode": {
     "languageId": "r"
    }
   },
   "outputs": [
    {
     "name": "stderr",
     "output_type": "stream",
     "text": [
      "\n",
      "Re-fitting to get Hessian\n",
      "\n",
      "\n"
     ]
    },
    {
     "data": {
      "text/html": [
       "<table class=\"dataframe\">\n",
       "<caption>A matrix: 2 x 3 of type dbl</caption>\n",
       "<thead>\n",
       "\t<tr><th></th><th scope=col>GVIF</th><th scope=col>Df</th><th scope=col>GVIF^(1/(2*Df))</th></tr>\n",
       "</thead>\n",
       "<tbody>\n",
       "\t<tr><th scope=row>Age</th><td>1.023471</td><td>1</td><td>1.011667</td></tr>\n",
       "\t<tr><th scope=row>Income</th><td>1.023471</td><td>2</td><td>1.005817</td></tr>\n",
       "</tbody>\n",
       "</table>\n"
      ],
      "text/latex": [
       "A matrix: 2 x 3 of type dbl\n",
       "\\begin{tabular}{r|lll}\n",
       "  & GVIF & Df & GVIF\\textasciicircum{}(1/(2*Df))\\\\\n",
       "\\hline\n",
       "\tAge & 1.023471 & 1 & 1.011667\\\\\n",
       "\tIncome & 1.023471 & 2 & 1.005817\\\\\n",
       "\\end{tabular}\n"
      ],
      "text/markdown": [
       "\n",
       "A matrix: 2 x 3 of type dbl\n",
       "\n",
       "| <!--/--> | GVIF | Df | GVIF^(1/(2*Df)) |\n",
       "|---|---|---|---|\n",
       "| Age | 1.023471 | 1 | 1.011667 |\n",
       "| Income | 1.023471 | 2 | 1.005817 |\n",
       "\n"
      ],
      "text/plain": [
       "       GVIF     Df GVIF^(1/(2*Df))\n",
       "Age    1.023471 1  1.011667       \n",
       "Income 1.023471 2  1.005817       "
      ]
     },
     "metadata": {},
     "output_type": "display_data"
    }
   ],
   "source": [
    "fit <- polr(Stage ~ Age + Income, data = data_pre)\n",
    "library(car)\n",
    "vif(fit)\n",
    "\n",
    "# GVIF     Df GVIF^(1/(2*Df))\n",
    "# Age    1.023471 1  1.011667       \n",
    "# Income 1.023471 2  1.005817"
   ]
  },
  {
   "cell_type": "code",
   "execution_count": 41,
   "id": "195a6368",
   "metadata": {
    "vscode": {
     "languageId": "r"
    }
   },
   "outputs": [
    {
     "ename": "ERROR",
     "evalue": "Error in UseMethod(\"cooks.distance\"): no applicable method for 'cooks.distance' applied to an object of class \"polr\"\n",
     "output_type": "error",
     "traceback": [
      "Error in UseMethod(\"cooks.distance\"): no applicable method for 'cooks.distance' applied to an object of class \"polr\"\nTraceback:\n",
      "1. .handleSimpleError(function (cnd) \n . {\n .     watcher$capture_plot_and_output()\n .     cnd <- sanitize_call(cnd)\n .     watcher$push(cnd)\n .     switch(on_error, continue = invokeRestart(\"eval_continue\"), \n .         stop = invokeRestart(\"eval_stop\"), error = NULL)\n . }, \"no applicable method for 'cooks.distance' applied to an object of class \\\"polr\\\"\", \n .     base::quote(UseMethod(\"cooks.distance\")))"
     ]
    }
   ],
   "source": [
    "# 计算 Cook 距离\n",
    "cook <- cooks.distance(fit)\n",
    "\n",
    "# 显示 Cook 距离 > 0.5 的个案编号和 Cook 值\n",
    "outliers <- which(cook > 0.5)\n",
    "cook_outliers <- cook[outliers]\n",
    "print(data.frame(case = outliers, cook_distance = cook_outliers))\n",
    "\n",
    "# 显示最大 Cook 距离\n",
    "cat(\"Max Cook Distance:\", max(cook), \"\\n\")"
   ]
  },
  {
   "cell_type": "code",
   "execution_count": null,
   "id": "0328bece",
   "metadata": {
    "vscode": {
     "languageId": "r"
    }
   },
   "outputs": [
    {
     "name": "stderr",
     "output_type": "stream",
     "text": [
      "\n",
      "Re-fitting to get Hessian\n",
      "\n",
      "\n"
     ]
    },
    {
     "name": "stdout",
     "output_type": "stream",
     "text": [
      "\u001b[90m# A tibble: 7 x 6\u001b[39m\n",
      "  term              estimate std.error statistic coef.type    p_value\n",
      "  \u001b[3m\u001b[90m<chr>\u001b[39m\u001b[23m                \u001b[3m\u001b[90m<dbl>\u001b[39m\u001b[23m     \u001b[3m\u001b[90m<dbl>\u001b[39m\u001b[23m     \u001b[3m\u001b[90m<dbl>\u001b[39m\u001b[23m \u001b[3m\u001b[90m<chr>\u001b[39m\u001b[23m          \u001b[3m\u001b[90m<dbl>\u001b[39m\u001b[23m\n",
      "\u001b[90m1\u001b[39m Age                  4.48    0.114       39.4  coefficient 0       \n",
      "\u001b[90m2\u001b[39m I(Age * log(Age))   -\u001b[31m0\u001b[39m\u001b[31m.\u001b[39m\u001b[31m840\u001b[39m   0.027\u001b[4m2\u001b[24m     -\u001b[31m30\u001b[39m\u001b[31m.\u001b[39m\u001b[31m9\u001b[39m  coefficient 0       \n",
      "\u001b[90m3\u001b[39m IncomeMedium         1.17    0.344        3.41 coefficient 0.000\u001b[4m6\u001b[24m\u001b[4m5\u001b[24m\u001b[4m5\u001b[24m\n",
      "\u001b[90m4\u001b[39m IncomeHigh           0.901   0.362        2.49 coefficient 0.012\u001b[4m8\u001b[24m  \n",
      "\u001b[90m5\u001b[39m I-II|III            61.3     0.009\u001b[4m5\u001b[24m\u001b[4m9\u001b[24m   \u001b[4m6\u001b[24m392.   scale       0       \n",
      "\u001b[90m6\u001b[39m III|IV              63.0     0.233      270.   scale       0       \n",
      "\u001b[90m7\u001b[39m IV|V                65.4     0.313      209.   scale       0       \n"
     ]
    }
   ],
   "source": [
    "# Box-Tidwell 检验\n",
    "fit_age <- polr(Stage ~ Age + I(Age * log(Age)) + Income, data = data_pre)\n",
    "# 手动计算p值\n",
    "result_age <- tidy(fit_age)\n",
    "result_age <- result_age %>%\n",
    "  mutate(p_value = 2 * (1 - pnorm(abs(statistic))))\n",
    "print(result_age)"
   ]
  },
  {
   "cell_type": "code",
   "execution_count": null,
   "id": "dcf09884",
   "metadata": {
    "vscode": {
     "languageId": "r"
    }
   },
   "outputs": [
    {
     "name": "stderr",
     "output_type": "stream",
     "text": [
      "\n",
      "Re-fitting to get Hessian\n",
      "\n",
      "\n"
     ]
    },
    {
     "data": {
      "text/plain": [
       "Call:\n",
       "polr(formula = Stage ~ Age + Income, data = data_pre)\n",
       "\n",
       "Coefficients:\n",
       "              Value Std. Error t value\n",
       "Age          0.1134     0.0273   4.155\n",
       "IncomeMedium 1.2004     0.3432   3.498\n",
       "IncomeHigh   0.8894     0.3597   2.473\n",
       "\n",
       "Intercepts:\n",
       "         Value   Std. Error t value\n",
       "I-II|III  6.0594  1.7650     3.4330\n",
       "III|IV    7.6918  1.7995     4.2745\n",
       "IV|V     10.0810  1.8591     5.4225\n",
       "\n",
       "Residual Deviance: 448.3491 \n",
       "AIC: 460.3491 "
      ]
     },
     "metadata": {},
     "output_type": "display_data"
    }
   ],
   "source": [
    "fit <- polr(Stage ~ Age + Income, data = data_pre)\n",
    "summary(fit)\n",
    "\n",
    "# Call:\n",
    "# polr(formula = Stage ~ Age + Income, data = data_pre)\n",
    "\n",
    "# Coefficients:\n",
    "#               Value Std. Error t value\n",
    "# Age          0.1134     0.0273   4.155\n",
    "# IncomeMedium 1.2004     0.3432   3.498\n",
    "# IncomeHigh   0.8894     0.3597   2.473\n",
    "\n",
    "# Intercepts:\n",
    "#          Value   Std. Error t value\n",
    "# I-II|III  6.0594  1.7650     3.4330\n",
    "# III|IV    7.6918  1.7995     4.2745\n",
    "# IV|V     10.0810  1.8591     5.4225\n",
    "\n",
    "# Residual Deviance: 448.3491 \n",
    "# AIC: 460.3491"
   ]
  },
  {
   "cell_type": "code",
   "execution_count": null,
   "id": "8d3bc427",
   "metadata": {
    "vscode": {
     "languageId": "r"
    }
   },
   "outputs": [
    {
     "name": "stderr",
     "output_type": "stream",
     "text": [
      "Waiting for profiling to be done...\n",
      "\n",
      "\n",
      "Re-fitting to get Hessian\n",
      "\n",
      "\n"
     ]
    },
    {
     "data": {
      "text/html": [
       "<table class=\"dataframe\">\n",
       "<caption>A matrix: 3 x 2 of type dbl</caption>\n",
       "<thead>\n",
       "\t<tr><th></th><th scope=col>2.5 %</th><th scope=col>97.5 %</th></tr>\n",
       "</thead>\n",
       "<tbody>\n",
       "\t<tr><th scope=row>Age</th><td>0.0605485</td><td>0.1678252</td></tr>\n",
       "\t<tr><th scope=row>IncomeMedium</th><td>0.5339424</td><td>1.8814674</td></tr>\n",
       "\t<tr><th scope=row>IncomeHigh</th><td>0.1889152</td><td>1.6013124</td></tr>\n",
       "</tbody>\n",
       "</table>\n"
      ],
      "text/latex": [
       "A matrix: 3 x 2 of type dbl\n",
       "\\begin{tabular}{r|ll}\n",
       "  & 2.5 \\% & 97.5 \\%\\\\\n",
       "\\hline\n",
       "\tAge & 0.0605485 & 0.1678252\\\\\n",
       "\tIncomeMedium & 0.5339424 & 1.8814674\\\\\n",
       "\tIncomeHigh & 0.1889152 & 1.6013124\\\\\n",
       "\\end{tabular}\n"
      ],
      "text/markdown": [
       "\n",
       "A matrix: 3 x 2 of type dbl\n",
       "\n",
       "| <!--/--> | 2.5 % | 97.5 % |\n",
       "|---|---|---|\n",
       "| Age | 0.0605485 | 0.1678252 |\n",
       "| IncomeMedium | 0.5339424 | 1.8814674 |\n",
       "| IncomeHigh | 0.1889152 | 1.6013124 |\n",
       "\n"
      ],
      "text/plain": [
       "             2.5 %     97.5 %   \n",
       "Age          0.0605485 0.1678252\n",
       "IncomeMedium 0.5339424 1.8814674\n",
       "IncomeHigh   0.1889152 1.6013124"
      ]
     },
     "metadata": {},
     "output_type": "display_data"
    }
   ],
   "source": [
    "confint(fit)\n",
    "\n",
    "# 2.5 %     97.5 %   \n",
    "# Age          0.0605485 0.1678252\n",
    "# IncomeMedium 0.5339424 1.8814674\n",
    "# IncomeHigh   0.1889152 1.6013124"
   ]
  },
  {
   "cell_type": "code",
   "execution_count": null,
   "id": "9943486d",
   "metadata": {
    "vscode": {
     "languageId": "r"
    }
   },
   "outputs": [
    {
     "data": {
      "text/html": [
       "<table class=\"dataframe\">\n",
       "<caption>A anova: 3 x 4</caption>\n",
       "<thead>\n",
       "\t<tr><th></th><th scope=col>Df</th><th scope=col>AIC</th><th scope=col>LRT</th><th scope=col>Pr(&gt;Chi)</th></tr>\n",
       "\t<tr><th></th><th scope=col>&lt;dbl&gt;</th><th scope=col>&lt;dbl&gt;</th><th scope=col>&lt;dbl&gt;</th><th scope=col>&lt;dbl&gt;</th></tr>\n",
       "</thead>\n",
       "<tbody>\n",
       "\t<tr><th scope=row>&lt;none&gt;</th><td>NA</td><td>460.3491</td><td>      NA</td><td>          NA</td></tr>\n",
       "\t<tr><th scope=row>Age</th><td> 1</td><td>476.2535</td><td>17.90441</td><td>2.322824e-05</td></tr>\n",
       "\t<tr><th scope=row>Income</th><td> 2</td><td>469.2724</td><td>12.92330</td><td>1.562213e-03</td></tr>\n",
       "</tbody>\n",
       "</table>\n"
      ],
      "text/latex": [
       "A anova: 3 x 4\n",
       "\\begin{tabular}{r|llll}\n",
       "  & Df & AIC & LRT & Pr(>Chi)\\\\\n",
       "  & <dbl> & <dbl> & <dbl> & <dbl>\\\\\n",
       "\\hline\n",
       "\t<none> & NA & 460.3491 &       NA &           NA\\\\\n",
       "\tAge &  1 & 476.2535 & 17.90441 & 2.322824e-05\\\\\n",
       "\tIncome &  2 & 469.2724 & 12.92330 & 1.562213e-03\\\\\n",
       "\\end{tabular}\n"
      ],
      "text/markdown": [
       "\n",
       "A anova: 3 x 4\n",
       "\n",
       "| <!--/--> | Df &lt;dbl&gt; | AIC &lt;dbl&gt; | LRT &lt;dbl&gt; | Pr(&gt;Chi) &lt;dbl&gt; |\n",
       "|---|---|---|---|---|\n",
       "| &lt;none&gt; | NA | 460.3491 |       NA |           NA |\n",
       "| Age |  1 | 476.2535 | 17.90441 | 2.322824e-05 |\n",
       "| Income |  2 | 469.2724 | 12.92330 | 1.562213e-03 |\n",
       "\n"
      ],
      "text/plain": [
       "       Df AIC      LRT      Pr(>Chi)    \n",
       "<none> NA 460.3491       NA           NA\n",
       "Age     1 476.2535 17.90441 2.322824e-05\n",
       "Income  2 469.2724 12.92330 1.562213e-03"
      ]
     },
     "metadata": {},
     "output_type": "display_data"
    }
   ],
   "source": [
    "drop1(fit, test = \"Chisq\")\n",
    "\n",
    "# Df AIC      LRT      Pr(>Chi)    \n",
    "# <none> NA 460.3491       NA           NA\n",
    "# Age     1 476.2535 17.90441 2.322824e-05\n",
    "# Income  2 469.2724 12.92330 1.562213e-03"
   ]
  },
  {
   "cell_type": "code",
   "execution_count": null,
   "id": "19d7c63e",
   "metadata": {
    "vscode": {
     "languageId": "r"
    }
   },
   "outputs": [
    {
     "name": "stderr",
     "output_type": "stream",
     "text": [
      "\n",
      "Re-fitting to get Hessian\n",
      "\n",
      "\n"
     ]
    },
    {
     "name": "stdout",
     "output_type": "stream",
     "text": [
      "\u001b[90m# A tibble: 6 x 6\u001b[39m\n",
      "  term         estimate std.error statistic coef.type        p_value\n",
      "  \u001b[3m\u001b[90m<chr>\u001b[39m\u001b[23m           \u001b[3m\u001b[90m<dbl>\u001b[39m\u001b[23m     \u001b[3m\u001b[90m<dbl>\u001b[39m\u001b[23m     \u001b[3m\u001b[90m<dbl>\u001b[39m\u001b[23m \u001b[3m\u001b[90m<chr>\u001b[39m\u001b[23m              \u001b[3m\u001b[90m<dbl>\u001b[39m\u001b[23m\n",
      "\u001b[90m1\u001b[39m Age             0.113    0.027\u001b[4m3\u001b[24m      4.16 coefficient 0.000\u001b[4m0\u001b[24m\u001b[4m3\u001b[24m\u001b[4m2\u001b[24m5   \n",
      "\u001b[90m2\u001b[39m IncomeMedium    1.20     0.343       3.50 coefficient 0.000\u001b[4m4\u001b[24m\u001b[4m6\u001b[24m\u001b[4m9\u001b[24m    \n",
      "\u001b[90m3\u001b[39m IncomeHigh      0.889    0.360       2.47 coefficient 0.013\u001b[4m4\u001b[24m      \n",
      "\u001b[90m4\u001b[39m I-II|III        6.06     1.77        3.43 scale       0.000\u001b[4m5\u001b[24m\u001b[4m9\u001b[24m\u001b[4m7\u001b[24m    \n",
      "\u001b[90m5\u001b[39m III|IV          7.69     1.80        4.27 scale       0.000\u001b[4m0\u001b[24m\u001b[4m1\u001b[24m\u001b[4m9\u001b[24m2   \n",
      "\u001b[90m6\u001b[39m IV|V           10.1      1.86        5.42 scale       0.000\u001b[4m0\u001b[24m\u001b[4m0\u001b[24m\u001b[4m0\u001b[24m058\u001b[4m8\u001b[24m\n"
     ]
    }
   ],
   "source": [
    "# 计算p值\n",
    "library(broom)\n",
    "result <- tidy(fit)\n",
    "result <- result %>%\n",
    "  mutate(p_value = 2 * (1 - pnorm(abs(statistic))))\n",
    "print(result)"
   ]
  },
  {
   "cell_type": "code",
   "execution_count": null,
   "id": "c9996d39",
   "metadata": {
    "vscode": {
     "languageId": "r"
    }
   },
   "outputs": [
    {
     "name": "stdout",
     "output_type": "stream",
     "text": [
      "         Age IncomeMedium   IncomeHigh \n",
      "    1.120123     3.321463     2.433658 \n"
     ]
    },
    {
     "name": "stderr",
     "output_type": "stream",
     "text": [
      "Waiting for profiling to be done...\n",
      "\n",
      "\n",
      "Re-fitting to get Hessian\n",
      "\n",
      "\n"
     ]
    },
    {
     "name": "stdout",
     "output_type": "stream",
     "text": [
      "                2.5 %   97.5 %\n",
      "Age          1.062419 1.182730\n",
      "IncomeMedium 1.705643 6.563129\n",
      "IncomeHigh   1.207939 4.959537\n"
     ]
    }
   ],
   "source": [
    "print(exp(coef(fit)))\n",
    "print(exp(confint(fit)))\n",
    "\n",
    "# Age IncomeMedium   IncomeHigh \n",
    "#     1.120123     3.321463     2.433658 \n",
    "# Waiting for profiling to be done...\n",
    "\n",
    "\n",
    "# Re-fitting to get Hessian\n",
    "\n",
    "\n",
    "#                 2.5 %   97.5 %\n",
    "# Age          1.062419 1.182730\n",
    "# IncomeMedium 1.705643 6.563129\n",
    "# IncomeHigh   1.207939 4.959537"
   ]
  },
  {
   "cell_type": "code",
   "execution_count": null,
   "id": "846ece9a",
   "metadata": {
    "vscode": {
     "languageId": "r"
    }
   },
   "outputs": [
    {
     "name": "stdout",
     "output_type": "stream",
     "text": [
      "Likelihood Ratio Statistic: 35.29161 \n",
      "p-value: 1.057113e-07 \n",
      "The model is statistically significant.\n"
     ]
    }
   ],
   "source": [
    "# 手动构造似然比检验\n",
    "# 计算对数似然值\n",
    "loglik_full <- logLik(fit)\n",
    "\n",
    "# 计算空模型的对数似然值\n",
    "fit_null <- polr(Stage ~ 1, data = data_pre)\n",
    "loglik_null <- logLik(fit_null)\n",
    "\n",
    "# 计算似然比检验的统计量\n",
    "lr_statistic <- -2 * (loglik_null - loglik_full)\n",
    "\n",
    "# 计算p值\n",
    "p_value <- pchisq(lr_statistic, df = ncol(data) - 1, lower.tail = FALSE)\n",
    "\n",
    "cat(\"Likelihood Ratio Statistic:\", lr_statistic, \"\\n\")\n",
    "cat(\"p-value:\", p_value, \"\\n\")\n",
    "\n",
    "if (p_value < 0.05) {\n",
    "  cat(\"The model is statistically significant.\\n\")\n",
    "} else {\n",
    "  cat(\"The model is not statistically significant.\\n\")\n",
    "}\n",
    "\n",
    "# Likelihood Ratio Statistic: 35.29161 \n",
    "# p-value: 1.057113e-07 \n",
    "# The model is statistically significant."
   ]
  },
  {
   "cell_type": "code",
   "execution_count": null,
   "id": "b767fbe7",
   "metadata": {
    "vscode": {
     "languageId": "r"
    }
   },
   "outputs": [
    {
     "name": "stdout",
     "output_type": "stream",
     "text": [
      "-------------------------------------------- \n",
      "Test for\tX2\tdf\tprobability \n",
      "-------------------------------------------- \n",
      "Omnibus\t\t2.24\t6\t0.9\n",
      "Age\t\t1.94\t2\t0.38\n",
      "IncomeMedium\t0.06\t2\t0.97\n",
      "IncomeHigh\t0.19\t2\t0.91\n",
      "-------------------------------------------- \n",
      "\n",
      "H0: Parallel Regression Assumption holds\n"
     ]
    }
   ],
   "source": [
    "fit <- polr(Stage ~ Age + Income, data = data_pre, method = \"probit\")\n",
    "brant(fit)\n",
    "\n",
    "# -------------------------------------------- \n",
    "# Test for\tX2\tdf\tprobability \n",
    "# -------------------------------------------- \n",
    "# Omnibus\t\t2.24\t6\t0.9\n",
    "# Age\t\t1.94\t2\t0.38\n",
    "# IncomeMedium\t0.06\t2\t0.97\n",
    "# IncomeHigh\t0.19\t2\t0.91\n",
    "# -------------------------------------------- \n",
    "\n",
    "# H0: Parallel Regression Assumption holds"
   ]
  },
  {
   "cell_type": "code",
   "execution_count": null,
   "id": "64dbcf81",
   "metadata": {
    "vscode": {
     "languageId": "r"
    }
   },
   "outputs": [
    {
     "data": {
      "text/plain": [
       "Likelihood ratio test\n",
       "\n",
       "Model 1: Stage ~ Income + Age + Gender\n",
       "Model 2: Stage ~ Income + Age + Gender\n",
       "  #Df  LogLik Df Chisq Pr(>Chisq)\n",
       "1 564 -226.00                    \n",
       "2 570 -227.45  6 2.891     0.8224"
      ]
     },
     "metadata": {},
     "output_type": "display_data"
    }
   ],
   "source": [
    "# 测试LR检验\n",
    "library(lmtest)\n",
    "library(VGAM)\n",
    "# 拟合符合平行性假设的模型\n",
    "om1 <- vglm(\n",
    "  Stage ~ Income + Age + Gender,\n",
    "  data = data,\n",
    "  family = cumulative(parallel = TRUE),\n",
    "  link = \"probitlink\"\n",
    ")\n",
    "# 拟合不符合平行性假设的模型\n",
    "om2 <- vglm(\n",
    "  Stage ~ Income + Age + Gender,\n",
    "  data = data,\n",
    "  family = cumulative(parallel = FALSE),\n",
    "  link = \"probitlink\"\n",
    ")\n",
    "# 计算两种模型拟合结果是否一致\n",
    "lrtest(om2, om1)\n",
    "\n",
    "# Likelihood ratio test\n",
    "\n",
    "# Model 1: Stage ~ Income + Age + Gender\n",
    "# Model 2: Stage ~ Income + Age + Gender\n",
    "#   #Df  LogLik Df Chisq Pr(>Chisq)\n",
    "# 1 564 -226.00                    \n",
    "# 2 570 -227.45  6 2.891     0.8224"
   ]
  },
  {
   "cell_type": "code",
   "execution_count": null,
   "id": "d99e47a2",
   "metadata": {
    "vscode": {
     "languageId": "r"
    }
   },
   "outputs": [
    {
     "name": "stdout",
     "output_type": "stream",
     "text": [
      "[1] \"Gender\"\n"
     ]
    },
    {
     "name": "stderr",
     "output_type": "stream",
     "text": [
      "\n",
      "Re-fitting to get Hessian\n",
      "\n",
      "\n"
     ]
    },
    {
     "name": "stdout",
     "output_type": "stream",
     "text": [
      "\u001b[90m# A tibble: 4 x 5\u001b[39m\n",
      "  term                     estimate std.error statistic coef.type  \n",
      "  \u001b[3m\u001b[90m<chr>\u001b[39m\u001b[23m                       \u001b[3m\u001b[90m<dbl>\u001b[39m\u001b[23m     \u001b[3m\u001b[90m<dbl>\u001b[39m\u001b[23m     \u001b[3m\u001b[90m<dbl>\u001b[39m\u001b[23m \u001b[3m\u001b[90m<chr>\u001b[39m\u001b[23m      \n",
      "\u001b[90m1\u001b[39m data_pre[[col_name]]Male   -\u001b[31m0\u001b[39m\u001b[31m.\u001b[39m\u001b[31m236\u001b[39m     0.156     -\u001b[31m1\u001b[39m\u001b[31m.\u001b[39m\u001b[31m51\u001b[39m coefficient\n",
      "\u001b[90m2\u001b[39m I-II|III                   -\u001b[31m1\u001b[39m\u001b[31m.\u001b[39m\u001b[31m29\u001b[39m      0.141     -\u001b[31m9\u001b[39m\u001b[31m.\u001b[39m\u001b[31m17\u001b[39m scale      \n",
      "\u001b[90m3\u001b[39m III|IV                     -\u001b[31m0\u001b[39m\u001b[31m.\u001b[39m\u001b[31m466\u001b[39m     0.117     -\u001b[31m4\u001b[39m\u001b[31m.\u001b[39m\u001b[31m00\u001b[39m scale      \n",
      "\u001b[90m4\u001b[39m IV|V                        0.827     0.125      6.63 scale      \n",
      "[1] \"Age\"\n"
     ]
    },
    {
     "name": "stderr",
     "output_type": "stream",
     "text": [
      "\n",
      "Re-fitting to get Hessian\n",
      "\n",
      "\n"
     ]
    },
    {
     "name": "stdout",
     "output_type": "stream",
     "text": [
      "\u001b[90m# A tibble: 4 x 5\u001b[39m\n",
      "  term                 estimate std.error statistic coef.type  \n",
      "  \u001b[3m\u001b[90m<chr>\u001b[39m\u001b[23m                   \u001b[3m\u001b[90m<dbl>\u001b[39m\u001b[23m     \u001b[3m\u001b[90m<dbl>\u001b[39m\u001b[23m     \u001b[3m\u001b[90m<dbl>\u001b[39m\u001b[23m \u001b[3m\u001b[90m<chr>\u001b[39m\u001b[23m      \n",
      "\u001b[90m1\u001b[39m data_pre[[col_name]]   0.067\u001b[4m7\u001b[24m    0.015\u001b[4m2\u001b[24m      4.46 coefficient\n",
      "\u001b[90m2\u001b[39m I-II|III               3.26      1.00        3.26 scale      \n",
      "\u001b[90m3\u001b[39m III|IV                 4.14      1.01        4.09 scale      \n",
      "\u001b[90m4\u001b[39m IV|V                   5.50      1.03        5.33 scale      \n",
      "[1] \"Income\"\n"
     ]
    },
    {
     "name": "stderr",
     "output_type": "stream",
     "text": [
      "\n",
      "Re-fitting to get Hessian\n",
      "\n",
      "\n"
     ]
    },
    {
     "name": "stdout",
     "output_type": "stream",
     "text": [
      "\u001b[90m# A tibble: 5 x 5\u001b[39m\n",
      "  term                       estimate std.error statistic coef.type  \n",
      "  \u001b[3m\u001b[90m<chr>\u001b[39m\u001b[23m                         \u001b[3m\u001b[90m<dbl>\u001b[39m\u001b[23m     \u001b[3m\u001b[90m<dbl>\u001b[39m\u001b[23m     \u001b[3m\u001b[90m<dbl>\u001b[39m\u001b[23m \u001b[3m\u001b[90m<chr>\u001b[39m\u001b[23m      \n",
      "\u001b[90m1\u001b[39m data_pre[[col_name]]Medium    0.770     0.196     3.93  coefficient\n",
      "\u001b[90m2\u001b[39m data_pre[[col_name]]High      0.647     0.203     3.19  coefficient\n",
      "\u001b[90m3\u001b[39m I-II|III                     -\u001b[31m0\u001b[39m\u001b[31m.\u001b[39m\u001b[31m728\u001b[39m     0.163    -\u001b[31m4\u001b[39m\u001b[31m.\u001b[39m\u001b[31m47\u001b[39m  scale      \n",
      "\u001b[90m4\u001b[39m III|IV                        0.138     0.155     0.892 scale      \n",
      "\u001b[90m5\u001b[39m IV|V                          1.49      0.177     8.40  scale      \n",
      "  col_name      p_value  keep\n",
      "1   Gender 1.304453e-01 FALSE\n",
      "2      Age 8.065292e-06  TRUE\n",
      "3   Income 8.362519e-05  TRUE\n"
     ]
    }
   ],
   "source": [
    "# 以单因素分析为基础\n",
    "library(broom)\n",
    "df_select <- data.frame(\n",
    "  col_name = character(),\n",
    "  p_value = numeric(),\n",
    "  keep = logical(),\n",
    "  stringsAsFactors = FALSE\n",
    ")\n",
    "p_limit <- 0.05\n",
    "for (i in 1:(ncol(data_pre) - 1)) {\n",
    "  col_name <- names(data_pre)[i]\n",
    "  print(col_name)\n",
    "\n",
    "  # 使用polr函数进行有序逻辑回归\n",
    "  model <- polr(\n",
    "    Stage ~ data_pre[[col_name]],\n",
    "    data = data_pre,\n",
    "    method = \"probit\"\n",
    "  )\n",
    "\n",
    "  # 打印模型摘要\n",
    "  tidy_model <- tidy(model)\n",
    "  print(tidy_model)\n",
    "\n",
    "  # polr输出没有p.value，需用z值计算p值\n",
    "  # 只选第一个自变量（第二行），计算p值\n",
    "  z_val <- tidy_model$statistic[1]\n",
    "  p_value <- 2 * (1 - pnorm(abs(z_val)))\n",
    "\n",
    "  keep <- p_value < p_limit\n",
    "\n",
    "  df_select <- rbind(df_select, data.frame(\n",
    "    col_name = col_name,\n",
    "    p_value = p_value,\n",
    "    keep = keep,\n",
    "    stringsAsFactors = FALSE\n",
    "  ))\n",
    "}\n",
    "\n",
    "print(df_select)\n",
    "\n",
    "#   col_name      p_value  keep\n",
    "# 1   Gender 1.304453e-01 FALSE\n",
    "# 2      Age 8.065292e-06  TRUE\n",
    "# 3   Income 8.362519e-05  TRUE"
   ]
  },
  {
   "cell_type": "code",
   "execution_count": null,
   "id": "3464bd1e",
   "metadata": {
    "vscode": {
     "languageId": "r"
    }
   },
   "outputs": [
    {
     "name": "stderr",
     "output_type": "stream",
     "text": [
      "\n",
      "Re-fitting to get Hessian\n",
      "\n",
      "\n"
     ]
    },
    {
     "data": {
      "text/html": [
       "<table class=\"dataframe\">\n",
       "<caption>A matrix: 2 x 3 of type dbl</caption>\n",
       "<thead>\n",
       "\t<tr><th></th><th scope=col>GVIF</th><th scope=col>Df</th><th scope=col>GVIF^(1/(2*Df))</th></tr>\n",
       "</thead>\n",
       "<tbody>\n",
       "\t<tr><th scope=row>Age</th><td>1.010366</td><td>1</td><td>1.005169</td></tr>\n",
       "\t<tr><th scope=row>Income</th><td>1.010366</td><td>2</td><td>1.002581</td></tr>\n",
       "</tbody>\n",
       "</table>\n"
      ],
      "text/latex": [
       "A matrix: 2 x 3 of type dbl\n",
       "\\begin{tabular}{r|lll}\n",
       "  & GVIF & Df & GVIF\\textasciicircum{}(1/(2*Df))\\\\\n",
       "\\hline\n",
       "\tAge & 1.010366 & 1 & 1.005169\\\\\n",
       "\tIncome & 1.010366 & 2 & 1.002581\\\\\n",
       "\\end{tabular}\n"
      ],
      "text/markdown": [
       "\n",
       "A matrix: 2 x 3 of type dbl\n",
       "\n",
       "| <!--/--> | GVIF | Df | GVIF^(1/(2*Df)) |\n",
       "|---|---|---|---|\n",
       "| Age | 1.010366 | 1 | 1.005169 |\n",
       "| Income | 1.010366 | 2 | 1.002581 |\n",
       "\n"
      ],
      "text/plain": [
       "       GVIF     Df GVIF^(1/(2*Df))\n",
       "Age    1.010366 1  1.005169       \n",
       "Income 1.010366 2  1.002581       "
      ]
     },
     "metadata": {},
     "output_type": "display_data"
    }
   ],
   "source": [
    "fit <- polr(Stage ~ Age + Income, data = data_pre, method = \"probit\")\n",
    "library(car)\n",
    "vif(fit)\n",
    "\n",
    "# GVIF     Df GVIF^(1/(2*Df))\n",
    "# Age    1.010366 1  1.005169       \n",
    "# Income 1.010366 2  1.002581"
   ]
  },
  {
   "cell_type": "code",
   "execution_count": null,
   "id": "32af69d4",
   "metadata": {
    "vscode": {
     "languageId": "r"
    }
   },
   "outputs": [
    {
     "name": "stderr",
     "output_type": "stream",
     "text": [
      "\n",
      "Re-fitting to get Hessian\n",
      "\n",
      "\n"
     ]
    },
    {
     "name": "stdout",
     "output_type": "stream",
     "text": [
      "\u001b[90m# A tibble: 7 x 6\u001b[39m\n",
      "  term              estimate std.error statistic coef.type    p_value\n",
      "  \u001b[3m\u001b[90m<chr>\u001b[39m\u001b[23m                \u001b[3m\u001b[90m<dbl>\u001b[39m\u001b[23m     \u001b[3m\u001b[90m<dbl>\u001b[39m\u001b[23m     \u001b[3m\u001b[90m<dbl>\u001b[39m\u001b[23m \u001b[3m\u001b[90m<chr>\u001b[39m\u001b[23m          \u001b[3m\u001b[90m<dbl>\u001b[39m\u001b[23m\n",
      "\u001b[90m1\u001b[39m Age                  2.72    0.064\u001b[4m1\u001b[24m      42.4  coefficient 0       \n",
      "\u001b[90m2\u001b[39m I(Age * log(Age))   -\u001b[31m0\u001b[39m\u001b[31m.\u001b[39m\u001b[31m512\u001b[39m   0.015\u001b[4m3\u001b[24m     -\u001b[31m33\u001b[39m\u001b[31m.\u001b[39m\u001b[31m5\u001b[39m  coefficient 0       \n",
      "\u001b[90m3\u001b[39m IncomeMedium         0.677   0.198        3.41 coefficient 0.000\u001b[4m6\u001b[24m\u001b[4m4\u001b[24m\u001b[4m0\u001b[24m\n",
      "\u001b[90m4\u001b[39m IncomeHigh           0.556   0.206        2.69 coefficient 0.007\u001b[4m0\u001b[24m\u001b[4m5\u001b[24m \n",
      "\u001b[90m5\u001b[39m I-II|III            37.0     0.005\u001b[4m2\u001b[24m\u001b[4m7\u001b[24m   \u001b[4m7\u001b[24m026.   scale       0       \n",
      "\u001b[90m6\u001b[39m III|IV              38.0     0.125      304.   scale       0       \n",
      "\u001b[90m7\u001b[39m IV|V                39.4     0.164      240.   scale       0       \n"
     ]
    }
   ],
   "source": [
    "# Box-Tidwell 检验\n",
    "fit_age <- polr(\n",
    "  Stage ~ Age + I(Age * log(Age)) + Income,\n",
    "  data = data_pre,\n",
    "  method = \"probit\"\n",
    ")\n",
    "# 手动计算p值\n",
    "result_age <- tidy(fit_age)\n",
    "result_age <- result_age %>%\n",
    "  mutate(p_value = 2 * (1 - pnorm(abs(statistic))))\n",
    "print(result_age)"
   ]
  },
  {
   "cell_type": "code",
   "execution_count": null,
   "id": "8b7a5f5d",
   "metadata": {
    "vscode": {
     "languageId": "r"
    }
   },
   "outputs": [
    {
     "name": "stderr",
     "output_type": "stream",
     "text": [
      "\n",
      "Re-fitting to get Hessian\n",
      "\n",
      "\n"
     ]
    },
    {
     "data": {
      "text/plain": [
       "Call:\n",
       "polr(formula = Stage ~ Age + Income, data = data_pre, method = \"probit\")\n",
       "\n",
       "Coefficients:\n",
       "              Value Std. Error t value\n",
       "Age          0.0623    0.01538   4.049\n",
       "IncomeMedium 0.7009    0.19784   3.543\n",
       "IncomeHigh   0.5549    0.20574   2.697\n",
       "\n",
       "Intercepts:\n",
       "         Value  Std. Error t value\n",
       "I-II|III 3.3012 1.0093     3.2706 \n",
       "III|IV   4.2263 1.0227     4.1324 \n",
       "IV|V     5.6403 1.0436     5.4049 \n",
       "\n",
       "Residual Deviance: 449.9679 \n",
       "AIC: 461.9679 "
      ]
     },
     "metadata": {},
     "output_type": "display_data"
    }
   ],
   "source": [
    "fit <- polr(\n",
    "  Stage ~ Age + Income,\n",
    "  data = data_pre,\n",
    "  method = \"probit\"\n",
    ")\n",
    "summary(fit)\n",
    "\n",
    "# Call:\n",
    "# polr(formula = Stage ~ Age + Income, data = data_pre, method = \"probit\")\n",
    "\n",
    "# Coefficients:\n",
    "#               Value Std. Error t value\n",
    "# Age          0.0623    0.01538   4.049\n",
    "# IncomeMedium 0.7009    0.19784   3.543\n",
    "# IncomeHigh   0.5549    0.20574   2.697\n",
    "\n",
    "# Intercepts:\n",
    "#          Value  Std. Error t value\n",
    "# I-II|III 3.3012 1.0093     3.2706 \n",
    "# III|IV   4.2263 1.0227     4.1324 \n",
    "# IV|V     5.6403 1.0436     5.4049 \n",
    "\n",
    "# Residual Deviance: 449.9679 \n",
    "# AIC: 461.9679"
   ]
  },
  {
   "cell_type": "code",
   "execution_count": null,
   "id": "8d9e67fe",
   "metadata": {
    "vscode": {
     "languageId": "r"
    }
   },
   "outputs": [
    {
     "name": "stderr",
     "output_type": "stream",
     "text": [
      "Waiting for profiling to be done...\n",
      "\n",
      "\n",
      "Re-fitting to get Hessian\n",
      "\n",
      "\n"
     ]
    },
    {
     "data": {
      "text/html": [
       "<table class=\"dataframe\">\n",
       "<caption>A matrix: 3 x 2 of type dbl</caption>\n",
       "<thead>\n",
       "\t<tr><th></th><th scope=col>2.5 %</th><th scope=col>97.5 %</th></tr>\n",
       "</thead>\n",
       "<tbody>\n",
       "\t<tr><th scope=row>Age</th><td>0.03228059</td><td>0.09260261</td></tr>\n",
       "\t<tr><th scope=row>IncomeMedium</th><td>0.31406588</td><td>1.08969115</td></tr>\n",
       "\t<tr><th scope=row>IncomeHigh</th><td>0.15238435</td><td>0.95896150</td></tr>\n",
       "</tbody>\n",
       "</table>\n"
      ],
      "text/latex": [
       "A matrix: 3 x 2 of type dbl\n",
       "\\begin{tabular}{r|ll}\n",
       "  & 2.5 \\% & 97.5 \\%\\\\\n",
       "\\hline\n",
       "\tAge & 0.03228059 & 0.09260261\\\\\n",
       "\tIncomeMedium & 0.31406588 & 1.08969115\\\\\n",
       "\tIncomeHigh & 0.15238435 & 0.95896150\\\\\n",
       "\\end{tabular}\n"
      ],
      "text/markdown": [
       "\n",
       "A matrix: 3 x 2 of type dbl\n",
       "\n",
       "| <!--/--> | 2.5 % | 97.5 % |\n",
       "|---|---|---|\n",
       "| Age | 0.03228059 | 0.09260261 |\n",
       "| IncomeMedium | 0.31406588 | 1.08969115 |\n",
       "| IncomeHigh | 0.15238435 | 0.95896150 |\n",
       "\n"
      ],
      "text/plain": [
       "             2.5 %      97.5 %    \n",
       "Age          0.03228059 0.09260261\n",
       "IncomeMedium 0.31406588 1.08969115\n",
       "IncomeHigh   0.15238435 0.95896150"
      ]
     },
     "metadata": {},
     "output_type": "display_data"
    }
   ],
   "source": [
    "confint(fit)\n",
    "\n",
    "# 2.5 %      97.5 %    \n",
    "# Age          0.03228059 0.09260261\n",
    "# IncomeMedium 0.31406588 1.08969115\n",
    "# IncomeHigh   0.15238435 0.95896150"
   ]
  },
  {
   "cell_type": "code",
   "execution_count": null,
   "id": "87fea5cc",
   "metadata": {
    "vscode": {
     "languageId": "r"
    }
   },
   "outputs": [
    {
     "data": {
      "text/html": [
       "<table class=\"dataframe\">\n",
       "<caption>A anova: 3 x 4</caption>\n",
       "<thead>\n",
       "\t<tr><th></th><th scope=col>Df</th><th scope=col>AIC</th><th scope=col>LRT</th><th scope=col>Pr(&gt;Chi)</th></tr>\n",
       "\t<tr><th></th><th scope=col>&lt;dbl&gt;</th><th scope=col>&lt;dbl&gt;</th><th scope=col>&lt;dbl&gt;</th><th scope=col>&lt;dbl&gt;</th></tr>\n",
       "</thead>\n",
       "<tbody>\n",
       "\t<tr><th scope=row>&lt;none&gt;</th><td>NA</td><td>461.9679</td><td>      NA</td><td>          NA</td></tr>\n",
       "\t<tr><th scope=row>Age</th><td> 1</td><td>476.6574</td><td>16.68958</td><td>4.402205e-05</td></tr>\n",
       "\t<tr><th scope=row>Income</th><td> 2</td><td>471.2978</td><td>13.32992</td><td>1.274809e-03</td></tr>\n",
       "</tbody>\n",
       "</table>\n"
      ],
      "text/latex": [
       "A anova: 3 x 4\n",
       "\\begin{tabular}{r|llll}\n",
       "  & Df & AIC & LRT & Pr(>Chi)\\\\\n",
       "  & <dbl> & <dbl> & <dbl> & <dbl>\\\\\n",
       "\\hline\n",
       "\t<none> & NA & 461.9679 &       NA &           NA\\\\\n",
       "\tAge &  1 & 476.6574 & 16.68958 & 4.402205e-05\\\\\n",
       "\tIncome &  2 & 471.2978 & 13.32992 & 1.274809e-03\\\\\n",
       "\\end{tabular}\n"
      ],
      "text/markdown": [
       "\n",
       "A anova: 3 x 4\n",
       "\n",
       "| <!--/--> | Df &lt;dbl&gt; | AIC &lt;dbl&gt; | LRT &lt;dbl&gt; | Pr(&gt;Chi) &lt;dbl&gt; |\n",
       "|---|---|---|---|---|\n",
       "| &lt;none&gt; | NA | 461.9679 |       NA |           NA |\n",
       "| Age |  1 | 476.6574 | 16.68958 | 4.402205e-05 |\n",
       "| Income |  2 | 471.2978 | 13.32992 | 1.274809e-03 |\n",
       "\n"
      ],
      "text/plain": [
       "       Df AIC      LRT      Pr(>Chi)    \n",
       "<none> NA 461.9679       NA           NA\n",
       "Age     1 476.6574 16.68958 4.402205e-05\n",
       "Income  2 471.2978 13.32992 1.274809e-03"
      ]
     },
     "metadata": {},
     "output_type": "display_data"
    }
   ],
   "source": [
    "drop1(fit, test = \"Chisq\")\n",
    "\n",
    "# Df AIC      LRT      Pr(>Chi)    \n",
    "# <none> NA 461.9679       NA           NA\n",
    "# Age     1 476.6574 16.68958 4.402205e-05\n",
    "# Income  2 471.2978 13.32992 1.274809e-03"
   ]
  },
  {
   "cell_type": "code",
   "execution_count": null,
   "id": "ca144efb",
   "metadata": {
    "vscode": {
     "languageId": "r"
    }
   },
   "outputs": [
    {
     "name": "stderr",
     "output_type": "stream",
     "text": [
      "\n",
      "Re-fitting to get Hessian\n",
      "\n",
      "\n"
     ]
    },
    {
     "name": "stdout",
     "output_type": "stream",
     "text": [
      "\u001b[90m# A tibble: 6 x 6\u001b[39m\n",
      "  term         estimate std.error statistic coef.type        p_value\n",
      "  \u001b[3m\u001b[90m<chr>\u001b[39m\u001b[23m           \u001b[3m\u001b[90m<dbl>\u001b[39m\u001b[23m     \u001b[3m\u001b[90m<dbl>\u001b[39m\u001b[23m     \u001b[3m\u001b[90m<dbl>\u001b[39m\u001b[23m \u001b[3m\u001b[90m<chr>\u001b[39m\u001b[23m              \u001b[3m\u001b[90m<dbl>\u001b[39m\u001b[23m\n",
      "\u001b[90m1\u001b[39m Age            0.062\u001b[4m3\u001b[24m    0.015\u001b[4m4\u001b[24m      4.05 coefficient 0.000\u001b[4m0\u001b[24m\u001b[4m5\u001b[24m\u001b[4m1\u001b[24m4   \n",
      "\u001b[90m2\u001b[39m IncomeMedium   0.701     0.198       3.54 coefficient 0.000\u001b[4m3\u001b[24m\u001b[4m9\u001b[24m\u001b[4m6\u001b[24m    \n",
      "\u001b[90m3\u001b[39m IncomeHigh     0.555     0.206       2.70 coefficient 0.006\u001b[4m9\u001b[24m\u001b[4m9\u001b[24m     \n",
      "\u001b[90m4\u001b[39m I-II|III       3.30      1.01        3.27 scale       0.001\u001b[4m0\u001b[24m\u001b[4m7\u001b[24m     \n",
      "\u001b[90m5\u001b[39m III|IV         4.23      1.02        4.13 scale       0.000\u001b[4m0\u001b[24m\u001b[4m3\u001b[24m\u001b[4m5\u001b[24m9   \n",
      "\u001b[90m6\u001b[39m IV|V           5.64      1.04        5.40 scale       0.000\u001b[4m0\u001b[24m\u001b[4m0\u001b[24m\u001b[4m0\u001b[24m064\u001b[4m9\u001b[24m\n"
     ]
    }
   ],
   "source": [
    "# 计算p值\n",
    "library(broom)\n",
    "result <- tidy(fit)\n",
    "result <- result %>%\n",
    "  mutate(p_value = 2 * (1 - pnorm(abs(statistic))))\n",
    "print(result)"
   ]
  },
  {
   "cell_type": "code",
   "execution_count": null,
   "id": "d26f6024",
   "metadata": {
    "vscode": {
     "languageId": "r"
    }
   },
   "outputs": [
    {
     "name": "stdout",
     "output_type": "stream",
     "text": [
      "Likelihood Ratio Statistic: 33.67286 \n",
      "p-value: 2.322623e-07 \n",
      "The model is statistically significant.\n"
     ]
    }
   ],
   "source": [
    "# 手动构造似然比检验\n",
    "# 计算对数似然值\n",
    "loglik_full <- logLik(fit)\n",
    "\n",
    "# 计算空模型的对数似然值\n",
    "fit_null <- polr(Stage ~ 1, data = data_pre, method = \"probit\")\n",
    "loglik_null <- logLik(fit_null)\n",
    "\n",
    "# 计算似然比检验的统计量\n",
    "lr_statistic <- -2 * (loglik_null - loglik_full)\n",
    "\n",
    "# 计算p值\n",
    "p_value <- pchisq(lr_statistic, df = ncol(data) - 1, lower.tail = FALSE)\n",
    "\n",
    "cat(\"Likelihood Ratio Statistic:\", lr_statistic, \"\\n\")\n",
    "cat(\"p-value:\", p_value, \"\\n\")\n",
    "\n",
    "if (p_value < 0.05) {\n",
    "  cat(\"The model is statistically significant.\\n\")\n",
    "} else {\n",
    "  cat(\"The model is not statistically significant.\\n\")\n",
    "}\n",
    "\n",
    "# Likelihood Ratio Statistic: 33.67286 \n",
    "# p-value: 2.322623e-07 \n",
    "# The model is statistically significant."
   ]
  },
  {
   "cell_type": "code",
   "execution_count": null,
   "id": "e588c1fb",
   "metadata": {
    "vscode": {
     "languageId": "r"
    }
   },
   "outputs": [],
   "source": []
  }
 ],
 "metadata": {
  "kernelspec": {
   "display_name": "R",
   "language": "R",
   "name": "ir"
  },
  "language_info": {
   "codemirror_mode": "r",
   "file_extension": ".r",
   "mimetype": "text/x-r-source",
   "name": "R",
   "pygments_lexer": "r",
   "version": "4.4.2"
  }
 },
 "nbformat": 4,
 "nbformat_minor": 5
}

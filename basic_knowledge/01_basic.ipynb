{
 "cells": [
  {
   "cell_type": "markdown",
   "metadata": {},
   "source": [
    "# 数据类型"
   ]
  },
  {
   "cell_type": "markdown",
   "metadata": {},
   "source": [
    "## 原子矢量\n",
    "这是R语言中最基本的数据类型，单个数字，可以组成其他数据类型。"
   ]
  },
  {
   "cell_type": "code",
   "execution_count": 1,
   "metadata": {
    "vscode": {
     "languageId": "r"
    }
   },
   "outputs": [
    {
     "name": "stdout",
     "output_type": "stream",
     "text": [
      "[1] \"logical\"\n",
      "[1] TRUE\n"
     ]
    }
   ],
   "source": [
    "# Logical类型\n",
    "v <- TRUE\n",
    "print(class(v))\n",
    "print(v)"
   ]
  },
  {
   "cell_type": "code",
   "execution_count": 2,
   "metadata": {
    "vscode": {
     "languageId": "r"
    }
   },
   "outputs": [
    {
     "name": "stdout",
     "output_type": "stream",
     "text": [
      "[1] \"numeric\"\n",
      "[1] 23.5\n"
     ]
    }
   ],
   "source": [
    "# Numeric类型\n",
    "v <- 23.5\n",
    "print(class(v))\n",
    "print(v)"
   ]
  },
  {
   "cell_type": "code",
   "execution_count": 8,
   "metadata": {
    "vscode": {
     "languageId": "r"
    }
   },
   "outputs": [
    {
     "name": "stdout",
     "output_type": "stream",
     "text": [
      "[1] \"integer\"\n",
      "[1] 2\n"
     ]
    }
   ],
   "source": [
    "# Interger类型\n",
    "v <- 2L\n",
    "print(class(v))\n",
    "print(v)"
   ]
  },
  {
   "cell_type": "code",
   "execution_count": 9,
   "metadata": {
    "vscode": {
     "languageId": "r"
    }
   },
   "outputs": [
    {
     "name": "stdout",
     "output_type": "stream",
     "text": [
      "[1] \"complex\"\n",
      "[1] 1+2i\n"
     ]
    }
   ],
   "source": [
    "# Complex类型\n",
    "v <- 1+2i\n",
    "print(class(v))\n",
    "print(v)"
   ]
  },
  {
   "cell_type": "code",
   "execution_count": 10,
   "metadata": {
    "vscode": {
     "languageId": "r"
    }
   },
   "outputs": [
    {
     "name": "stdout",
     "output_type": "stream",
     "text": [
      "[1] \"character\"\n",
      "[1] \"True\"\n"
     ]
    }
   ],
   "source": [
    "# Character类型\n",
    "v <- \"True\"\n",
    "print(class(v))\n",
    "print(v)"
   ]
  },
  {
   "cell_type": "code",
   "execution_count": 12,
   "metadata": {
    "vscode": {
     "languageId": "r"
    }
   },
   "outputs": [
    {
     "name": "stdout",
     "output_type": "stream",
     "text": [
      "[1] \"raw\"\n",
      "[1] 48 65 6c 6c 6f\n"
     ]
    }
   ],
   "source": [
    "# Raw类型\n",
    "v <- charToRaw('Hello')\n",
    "print(class(v))\n",
    "print(v)"
   ]
  },
  {
   "cell_type": "markdown",
   "metadata": {},
   "source": [
    "## 向量\n"
   ]
  },
  {
   "cell_type": "markdown",
   "metadata": {},
   "source": [
    "向量是用于存储数值型、字符型或逻辑型数据的一维数组。执行组合功能的函数 c()可用来创建向量。\n",
    "<br>\n",
    "单个向量中的数据必须拥有相同的类型或模式（数值型、字符型或逻辑型）。同一向量中无法混杂不同模式的数据。"
   ]
  },
  {
   "cell_type": "code",
   "execution_count": 13,
   "metadata": {
    "vscode": {
     "languageId": "r"
    }
   },
   "outputs": [
    {
     "name": "stdout",
     "output_type": "stream",
     "text": [
      "[1] 1 2 3 4\n"
     ]
    }
   ],
   "source": [
    "a <- c(1, 2, 3, 4)\n",
    "print(a)"
   ]
  },
  {
   "cell_type": "code",
   "execution_count": 44,
   "metadata": {
    "vscode": {
     "languageId": "r"
    }
   },
   "outputs": [
    {
     "name": "stdout",
     "output_type": "stream",
     "text": [
      "[1] \"numeric\"\n"
     ]
    }
   ],
   "source": [
    "# 看下向量类型是什么\n",
    "print(class(a))"
   ]
  },
  {
   "cell_type": "code",
   "execution_count": 45,
   "metadata": {
    "vscode": {
     "languageId": "r"
    }
   },
   "outputs": [
    {
     "name": "stdout",
     "output_type": "stream",
     "text": [
      "[1] \"a\" \"b\" \"c\"\n",
      "[1] \"character\"\n"
     ]
    }
   ],
   "source": [
    "a <- c('a', 'b', 'c')\n",
    "print(a)\n",
    "print(class(a))"
   ]
  },
  {
   "cell_type": "code",
   "execution_count": 46,
   "metadata": {
    "vscode": {
     "languageId": "r"
    }
   },
   "outputs": [
    {
     "name": "stdout",
     "output_type": "stream",
     "text": [
      "[1]  TRUE FALSE  TRUE  TRUE\n",
      "[1] \"logical\"\n"
     ]
    }
   ],
   "source": [
    "a <- c(TRUE, FALSE, TRUE, TRUE)\n",
    "print(a)\n",
    "print(class(a))"
   ]
  },
  {
   "cell_type": "markdown",
   "metadata": {},
   "source": [
    "如果元素混合会转化为统一的元素，比如我们下面尝试一下："
   ]
  },
  {
   "cell_type": "code",
   "execution_count": 17,
   "metadata": {
    "vscode": {
     "languageId": "r"
    }
   },
   "outputs": [
    {
     "name": "stdout",
     "output_type": "stream",
     "text": [
      "[1] \"1\"    \"2\"    \"3\"    \"4\"    \"abc\"  \"TRUE\"\n"
     ]
    }
   ],
   "source": [
    "a <-  c(1, 2, 3, 4, \"abc\", TRUE)\n",
    "print(a)"
   ]
  },
  {
   "cell_type": "code",
   "execution_count": 3,
   "metadata": {
    "vscode": {
     "languageId": "r"
    }
   },
   "outputs": [
    {
     "name": "stdout",
     "output_type": "stream",
     "text": [
      "[1] 1 2 3 1\n"
     ]
    }
   ],
   "source": [
    "a <-  c(1, 2, 3, TRUE)\n",
    "print(a)"
   ]
  },
  {
   "cell_type": "markdown",
   "metadata": {},
   "source": [
    "下面探索向量元素的访问方式："
   ]
  },
  {
   "cell_type": "code",
   "execution_count": 21,
   "metadata": {
    "vscode": {
     "languageId": "r"
    }
   },
   "outputs": [
    {
     "data": {
      "text/plain": [
       "[1] 1"
      ]
     },
     "execution_count": null,
     "metadata": {},
     "output_type": "execute_result"
    }
   ],
   "source": [
    "# 访问单个元素\n",
    "v <- c(1, 2, 3, 4, 5)\n",
    "# 索引是从1开始的，而不是python中的0\n",
    "v[1]"
   ]
  },
  {
   "cell_type": "code",
   "execution_count": 22,
   "metadata": {
    "vscode": {
     "languageId": "r"
    }
   },
   "outputs": [
    {
     "data": {
      "text/plain": [
       "numeric(0)"
      ]
     },
     "execution_count": null,
     "metadata": {},
     "output_type": "execute_result"
    }
   ],
   "source": [
    "# 试试看索引0\n",
    "v[0]"
   ]
  },
  {
   "cell_type": "code",
   "execution_count": 24,
   "metadata": {
    "vscode": {
     "languageId": "r"
    }
   },
   "outputs": [
    {
     "data": {
      "text/plain": [
       "[1] 2 3 4 5"
      ]
     },
     "execution_count": null,
     "metadata": {},
     "output_type": "execute_result"
    }
   ],
   "source": [
    "# 试试看负索引\n",
    "# 负索引相当于挖去对应的正索引元素\n",
    "v[-1]"
   ]
  },
  {
   "cell_type": "code",
   "execution_count": 26,
   "metadata": {
    "vscode": {
     "languageId": "r"
    }
   },
   "outputs": [
    {
     "data": {
      "text/plain": [
       "[1] 1 3 5"
      ]
     },
     "execution_count": null,
     "metadata": {},
     "output_type": "execute_result"
    }
   ],
   "source": [
    "# 选择若干个元素\n",
    "v[c(1,3,5)]"
   ]
  },
  {
   "cell_type": "code",
   "execution_count": 27,
   "metadata": {
    "vscode": {
     "languageId": "r"
    }
   },
   "outputs": [
    {
     "data": {
      "text/plain": [
       "[1] 1 2 3"
      ]
     },
     "execution_count": null,
     "metadata": {},
     "output_type": "execute_result"
    }
   ],
   "source": [
    "# 切片语法\n",
    "v[1:3]"
   ]
  },
  {
   "cell_type": "code",
   "execution_count": 28,
   "metadata": {
    "vscode": {
     "languageId": "r"
    }
   },
   "outputs": [
    {
     "data": {
      "text/plain": [
       "[1] 2 3 4"
      ]
     },
     "execution_count": null,
     "metadata": {},
     "output_type": "execute_result"
    }
   ],
   "source": [
    "v[2:4]"
   ]
  },
  {
   "cell_type": "markdown",
   "metadata": {},
   "source": [
    "## 矩阵"
   ]
  },
  {
   "cell_type": "markdown",
   "metadata": {},
   "source": [
    "矩阵是一个二维数组，只是每个元素都拥有相同的模式（数值型、字符型或逻辑型）。"
   ]
  },
  {
   "cell_type": "markdown",
   "metadata": {
    "vscode": {
     "languageId": "r"
    }
   },
   "source": [
    "格式如下：\n",
    "``` r\n",
    "myymatrix ＜- matrix(vector, nrow=number_of_rows, ncol=number_of_columns,\n",
    "  byrow=logical_value, dimnames=list(\n",
    "    char_vector_rownames, char_vector_colnames))\n",
    "```"
   ]
  },
  {
   "cell_type": "markdown",
   "metadata": {},
   "source": [
    "选项 byrow 则表明矩阵应当按行填充（byrow=TRUE）还是按列填充（byrow=FALSE），默认情况下按列填充。"
   ]
  },
  {
   "cell_type": "markdown",
   "metadata": {},
   "source": [
    "选项 dimnames 包含了可选的、以字符型向量表示的行名和列名。"
   ]
  },
  {
   "cell_type": "code",
   "execution_count": 31,
   "metadata": {
    "vscode": {
     "languageId": "r"
    }
   },
   "outputs": [
    {
     "data": {
      "text/plain": [
       "     [,1] [,2] [,3] [,4]\n",
       "[1,]    1    6   11   16\n",
       "[2,]    2    7   12   17\n",
       "[3,]    3    8   13   18\n",
       "[4,]    4    9   14   19\n",
       "[5,]    5   10   15   20"
      ]
     },
     "execution_count": null,
     "metadata": {},
     "output_type": "execute_result"
    }
   ],
   "source": [
    "# 创建一个5乘4的矩阵\n",
    "mat <- matrix(1:20, nrow=5, ncol=4)\n",
    "# 默认按列填充，所以第一列是1-5，而不是第一行是1-5\n",
    "mat"
   ]
  },
  {
   "cell_type": "code",
   "execution_count": 43,
   "metadata": {
    "vscode": {
     "languageId": "r"
    }
   },
   "outputs": [
    {
     "name": "stdout",
     "output_type": "stream",
     "text": [
      "[1] \"matrix\" \"array\" \n"
     ]
    }
   ],
   "source": [
    "# 看下矩阵是什么类型的\n",
    "print(class(mat))"
   ]
  },
  {
   "cell_type": "code",
   "execution_count": 33,
   "metadata": {
    "vscode": {
     "languageId": "r"
    }
   },
   "outputs": [
    {
     "data": {
      "text/plain": [
       "  C D\n",
       "A 4 5\n",
       "B 6 7"
      ]
     },
     "execution_count": null,
     "metadata": {},
     "output_type": "execute_result"
    }
   ],
   "source": [
    "# 创建一个2乘2的矩阵\n",
    "# 指定行名和列名\n",
    "# 指定按行填充\n",
    "data <- 4:7\n",
    "row <- c(\"A\", \"B\")\n",
    "col <- c(\"C\", \"D\")\n",
    "mat <- matrix(data, nrow=2, ncol=2, byrow=TRUE, dimnames=list(row, col))\n",
    "mat"
   ]
  },
  {
   "cell_type": "markdown",
   "metadata": {
    "vscode": {
     "languageId": "r"
    }
   },
   "source": [
    "下面探索一下矩阵的元素访问方式："
   ]
  },
  {
   "cell_type": "code",
   "execution_count": 36,
   "metadata": {
    "vscode": {
     "languageId": "r"
    }
   },
   "outputs": [
    {
     "data": {
      "text/plain": [
       "[1] 4"
      ]
     },
     "execution_count": null,
     "metadata": {},
     "output_type": "execute_result"
    }
   ],
   "source": [
    "# 访问单个元素\n",
    "# 输入单个索引相当于访问访问构成矩阵的向量\n",
    "mat[1]"
   ]
  },
  {
   "cell_type": "code",
   "execution_count": 35,
   "metadata": {
    "vscode": {
     "languageId": "r"
    }
   },
   "outputs": [
    {
     "data": {
      "text/plain": [
       "[1] 5"
      ]
     },
     "execution_count": null,
     "metadata": {},
     "output_type": "execute_result"
    }
   ],
   "source": [
    "# 因为原向量中索引为3的元素是5，所以矩阵中索引为3的元素是5\n",
    "mat[3]"
   ]
  },
  {
   "cell_type": "code",
   "execution_count": 37,
   "metadata": {
    "vscode": {
     "languageId": "r"
    }
   },
   "outputs": [
    {
     "data": {
      "text/plain": [
       "[1] 5"
      ]
     },
     "execution_count": null,
     "metadata": {},
     "output_type": "execute_result"
    }
   ],
   "source": [
    "# 两个索引访问\n",
    "# 先行再列\n",
    "mat[1, 2]"
   ]
  },
  {
   "cell_type": "code",
   "execution_count": 38,
   "metadata": {
    "vscode": {
     "languageId": "r"
    }
   },
   "outputs": [
    {
     "data": {
      "text/plain": [
       "[1] 6"
      ]
     },
     "execution_count": null,
     "metadata": {},
     "output_type": "execute_result"
    }
   ],
   "source": [
    "# 再测试一下\n",
    "mat[2, 1]"
   ]
  },
  {
   "cell_type": "code",
   "execution_count": 39,
   "metadata": {
    "vscode": {
     "languageId": "r"
    }
   },
   "outputs": [
    {
     "data": {
      "text/plain": [
       "C D \n",
       "4 5 "
      ]
     },
     "execution_count": null,
     "metadata": {},
     "output_type": "execute_result"
    }
   ],
   "source": [
    "# 访问一行\n",
    "mat[1, ]"
   ]
  },
  {
   "cell_type": "code",
   "execution_count": 40,
   "metadata": {
    "vscode": {
     "languageId": "r"
    }
   },
   "outputs": [
    {
     "data": {
      "text/plain": [
       "A B \n",
       "4 6 "
      ]
     },
     "execution_count": null,
     "metadata": {},
     "output_type": "execute_result"
    }
   ],
   "source": [
    "# 访问一列\n",
    "mat[, 1]"
   ]
  },
  {
   "cell_type": "code",
   "execution_count": 42,
   "metadata": {
    "vscode": {
     "languageId": "r"
    }
   },
   "outputs": [
    {
     "name": "stdout",
     "output_type": "stream",
     "text": [
      "[1] \"integer\"\n",
      "[1] \"integer\"\n"
     ]
    }
   ],
   "source": [
    "# 探索一下访问到的行列的元素\n",
    "print(class(mat[1, ]))\n",
    "print(class(mat[, 1]))"
   ]
  },
  {
   "cell_type": "code",
   "execution_count": 49,
   "metadata": {
    "vscode": {
     "languageId": "r"
    }
   },
   "outputs": [
    {
     "data": {
      "text/plain": [
       "C D \n",
       "4 5 "
      ]
     },
     "execution_count": null,
     "metadata": {},
     "output_type": "execute_result"
    }
   ],
   "source": [
    "# 选取同一行的若干元素\n",
    "mat[1, c(1,2)]"
   ]
  },
  {
   "cell_type": "markdown",
   "metadata": {},
   "source": [
    "## 数组"
   ]
  },
  {
   "cell_type": "markdown",
   "metadata": {},
   "source": [
    "数组（array）与矩阵类似，但是维度可以大于 2。数组可通过 array 函数创建。"
   ]
  },
  {
   "cell_type": "markdown",
   "metadata": {},
   "source": [
    "格式如下：\n",
    "``` r\n",
    "myarray ＜- array(vector, dimensions, dimnames)\n",
    "```"
   ]
  },
  {
   "cell_type": "markdown",
   "metadata": {},
   "source": [
    "vector 包含了数组中的数据，dimensions 是一个数值型向量，给出了各个维度下标的最大值，而 dimnames 是可选的、各维度名称标签的列表。"
   ]
  },
  {
   "cell_type": "code",
   "execution_count": 55,
   "metadata": {
    "vscode": {
     "languageId": "r"
    }
   },
   "outputs": [
    {
     "data": {
      "text/plain": [
       ", , A\n",
       "\n",
       "  x y z\n",
       "a 1 4 7\n",
       "b 2 5 8\n",
       "c 3 6 9\n",
       "\n",
       ", , B\n",
       "\n",
       "   x  y  z\n",
       "a 10 13 16\n",
       "b 11 14 17\n",
       "c 12 15 18\n",
       "\n",
       ", , C\n",
       "\n",
       "   x  y  z\n",
       "a 19 22 25\n",
       "b 20 23 26\n",
       "c 21 24 27\n",
       "\n",
       ", , D\n",
       "\n",
       "   x  y  z\n",
       "a 28 31 34\n",
       "b 29 32 35\n",
       "c 30 33 36\n"
      ]
     },
     "execution_count": null,
     "metadata": {},
     "output_type": "execute_result"
    }
   ],
   "source": [
    "# 创建一个array\n",
    "# 指定dim名称\n",
    "dim1 <- c(\"a\", \"b\", \"c\")\n",
    "dim2 <- c(\"x\", \"y\", \"z\")\n",
    "dim3 <- c(\"A\", \"B\", \"C\", \"D\")\n",
    "arr <- array(1:36, dim=c(3, 3, 4), dimnames=list(dim1, dim2, dim3))\n",
    "arr"
   ]
  },
  {
   "cell_type": "markdown",
   "metadata": {},
   "source": [
    "这里各维度数量，名字数量都需要一一对应，不然会报错。"
   ]
  },
  {
   "cell_type": "markdown",
   "metadata": {},
   "source": [
    "## 数据框"
   ]
  },
  {
   "cell_type": "markdown",
   "metadata": {},
   "source": [
    "由于不同的列可以包含不同模式（数值型、字符型等）的数据，数据框的概念较矩阵来说更为一般。"
   ]
  },
  {
   "cell_type": "markdown",
   "metadata": {},
   "source": [
    "格式如下：\n",
    "``` r\n",
    "mydata ＜- data.frame(col1, col2, col3, ...)\n",
    "```"
   ]
  },
  {
   "cell_type": "markdown",
   "metadata": {},
   "source": [
    "下面创建一个DataFrame"
   ]
  },
  {
   "cell_type": "code",
   "execution_count": 90,
   "metadata": {
    "vscode": {
     "languageId": "r"
    }
   },
   "outputs": [
    {
     "data": {
      "text/plain": [
       "    company revenue profit\n",
       "1     Apple   274.5   57.2\n",
       "2    Google   161.8   18.5\n",
       "3  Facebook    70.7   10.2\n",
       "4    Amazon   107.0    3.0\n",
       "5 Microsoft   125.8   16.6"
      ]
     },
     "execution_count": null,
     "metadata": {},
     "output_type": "execute_result"
    }
   ],
   "source": [
    "company <- c(\"Apple\", \"Google\", \"Facebook\", \"Amazon\", \"Microsoft\")\n",
    "revenue <- c(274.5, 161.8, 70.7, 107.0, 125.8)\n",
    "profit <- c(57.2, 18.5, 10.2, 3.0, 16.6)\n",
    "df <-  data.frame(company, revenue, profit)\n",
    "# 可以注意到，列名是对应的向量名称，不需要我们指定\n",
    "df"
   ]
  },
  {
   "cell_type": "markdown",
   "metadata": {},
   "source": [
    "下面是用names()函数修改DataFrame的列名"
   ]
  },
  {
   "cell_type": "code",
   "execution_count": 91,
   "metadata": {
    "vscode": {
     "languageId": "r"
    }
   },
   "outputs": [
    {
     "data": {
      "text/plain": [
       "        com   rev  pro\n",
       "1     Apple 274.5 57.2\n",
       "2    Google 161.8 18.5\n",
       "3  Facebook  70.7 10.2\n",
       "4    Amazon 107.0  3.0\n",
       "5 Microsoft 125.8 16.6"
      ]
     },
     "execution_count": null,
     "metadata": {},
     "output_type": "execute_result"
    }
   ],
   "source": [
    "names(df) <-  c('com', 'rev', 'pro')\n",
    "df"
   ]
  },
  {
   "cell_type": "markdown",
   "metadata": {},
   "source": [
    "下面探索一下访问数据框元素的方法"
   ]
  },
  {
   "cell_type": "code",
   "execution_count": 65,
   "metadata": {
    "vscode": {
     "languageId": "r"
    }
   },
   "outputs": [
    {
     "name": "stdout",
     "output_type": "stream",
     "text": [
      "[1] 274.5\n"
     ]
    }
   ],
   "source": [
    "# 访问单个元素\n",
    "print(df[1, 2])"
   ]
  },
  {
   "cell_type": "code",
   "execution_count": 66,
   "metadata": {
    "vscode": {
     "languageId": "r"
    }
   },
   "outputs": [
    {
     "name": "stdout",
     "output_type": "stream",
     "text": [
      "    com   rev  pro\n",
      "1 Apple 274.5 57.2\n",
      "[1] \"data.frame\"\n"
     ]
    }
   ],
   "source": [
    "# 访问某一行\n",
    "print(df[1,])\n",
    "# 类型是dataframe，有意思，相当于是一个观测\n",
    "print(class(df[1,]))"
   ]
  },
  {
   "cell_type": "code",
   "execution_count": 68,
   "metadata": {
    "vscode": {
     "languageId": "r"
    }
   },
   "outputs": [
    {
     "name": "stdout",
     "output_type": "stream",
     "text": [
      "[1] \"Apple\"     \"Google\"    \"Facebook\"  \"Amazon\"    \"Microsoft\"\n",
      "[1] \"character\"\n"
     ]
    }
   ],
   "source": [
    "# 访问某一列\n",
    "print(df[, 1])\n",
    "# 类型是向量\n",
    "print(class(df[, 1]))"
   ]
  },
  {
   "cell_type": "code",
   "execution_count": 69,
   "metadata": {
    "vscode": {
     "languageId": "r"
    }
   },
   "outputs": [
    {
     "name": "stdout",
     "output_type": "stream",
     "text": [
      "[1] \"numeric\"\n"
     ]
    }
   ],
   "source": [
    "# 再试一下\n",
    "print(class(df[, 2]))"
   ]
  },
  {
   "cell_type": "code",
   "execution_count": 64,
   "metadata": {
    "vscode": {
     "languageId": "r"
    }
   },
   "outputs": [
    {
     "name": "stdout",
     "output_type": "stream",
     "text": [
      "    rev\n",
      "1 274.5\n",
      "2 161.8\n",
      "3  70.7\n",
      "4 107.0\n",
      "5 125.8\n",
      "[1] \"data.frame\"\n"
     ]
    }
   ],
   "source": [
    "# 似乎不加逗号也可直接访问列，但是结果似乎dataframe\n",
    "print(df[2])\n",
    "print(class(df[2]))"
   ]
  },
  {
   "cell_type": "code",
   "execution_count": 70,
   "metadata": {
    "vscode": {
     "languageId": "r"
    }
   },
   "outputs": [
    {
     "data": {
      "text/plain": [
       "[1] 274.5 161.8  70.7 107.0 125.8"
      ]
     },
     "execution_count": null,
     "metadata": {},
     "output_type": "execute_result"
    }
   ],
   "source": [
    "# 使用$符号选择列，$后面是列名\n",
    "df$rev"
   ]
  },
  {
   "cell_type": "code",
   "execution_count": 71,
   "metadata": {
    "vscode": {
     "languageId": "r"
    }
   },
   "outputs": [
    {
     "data": {
      "text/plain": [
       "       com   rev  pro\n",
       "1    Apple 274.5 57.2\n",
       "2   Google 161.8 18.5\n",
       "3 Facebook  70.7 10.2"
      ]
     },
     "execution_count": null,
     "metadata": {},
     "output_type": "execute_result"
    }
   ],
   "source": [
    "# 选择多行\n",
    "df[1:3,]"
   ]
  },
  {
   "cell_type": "code",
   "execution_count": 72,
   "metadata": {
    "vscode": {
     "languageId": "r"
    }
   },
   "outputs": [
    {
     "data": {
      "text/plain": [
       "        com   rev  pro\n",
       "1     Apple 274.5 57.2\n",
       "3  Facebook  70.7 10.2\n",
       "5 Microsoft 125.8 16.6"
      ]
     },
     "execution_count": null,
     "metadata": {},
     "output_type": "execute_result"
    }
   ],
   "source": [
    "# 选择多行\n",
    "df[c(1, 3, 5),]"
   ]
  },
  {
   "cell_type": "code",
   "execution_count": 73,
   "metadata": {
    "vscode": {
     "languageId": "r"
    }
   },
   "outputs": [
    {
     "data": {
      "text/plain": [
       "        com  pro\n",
       "1     Apple 57.2\n",
       "2    Google 18.5\n",
       "3  Facebook 10.2\n",
       "4    Amazon  3.0\n",
       "5 Microsoft 16.6"
      ]
     },
     "execution_count": null,
     "metadata": {},
     "output_type": "execute_result"
    }
   ],
   "source": [
    "# 使用列名选择多列\n",
    "df[, c('com', 'pro')]"
   ]
  },
  {
   "cell_type": "code",
   "execution_count": 74,
   "metadata": {
    "vscode": {
     "languageId": "r"
    }
   },
   "outputs": [
    {
     "data": {
      "text/plain": [
       "        com  pro\n",
       "1     Apple 57.2\n",
       "2    Google 18.5\n",
       "3  Facebook 10.2\n",
       "4    Amazon  3.0\n",
       "5 Microsoft 16.6"
      ]
     },
     "execution_count": null,
     "metadata": {},
     "output_type": "execute_result"
    }
   ],
   "source": [
    "# 使用列名选择多列，可以省略逗号\n",
    "df[c('com', 'pro')]"
   ]
  },
  {
   "cell_type": "code",
   "execution_count": 75,
   "metadata": {
    "vscode": {
     "languageId": "r"
    }
   },
   "outputs": [
    {
     "data": {
      "text/plain": [
       "        com   rev\n",
       "1     Apple 274.5\n",
       "2    Google 161.8\n",
       "3  Facebook  70.7\n",
       "4    Amazon 107.0\n",
       "5 Microsoft 125.8"
      ]
     },
     "execution_count": null,
     "metadata": {},
     "output_type": "execute_result"
    }
   ],
   "source": [
    "# 使用切片选择多列\n",
    "df[1:2]"
   ]
  },
  {
   "cell_type": "code",
   "execution_count": 76,
   "metadata": {
    "vscode": {
     "languageId": "r"
    }
   },
   "outputs": [
    {
     "data": {
      "text/plain": [
       "        com  pro\n",
       "1     Apple 57.2\n",
       "2    Google 18.5\n",
       "3  Facebook 10.2\n",
       "4    Amazon  3.0\n",
       "5 Microsoft 16.6"
      ]
     },
     "execution_count": null,
     "metadata": {},
     "output_type": "execute_result"
    }
   ],
   "source": [
    "df[c(1, 3)]"
   ]
  },
  {
   "cell_type": "code",
   "execution_count": 92,
   "metadata": {
    "vscode": {
     "languageId": "r"
    }
   },
   "outputs": [
    {
     "data": {
      "text/plain": [
       "        com  pro\n",
       "1     Apple 57.2\n",
       "3  Facebook 10.2\n",
       "5 Microsoft 16.6"
      ]
     },
     "execution_count": null,
     "metadata": {},
     "output_type": "execute_result"
    }
   ],
   "source": [
    "# 网格引用\n",
    "df[c(1, 3, 5), c(1, 3)]"
   ]
  },
  {
   "cell_type": "markdown",
   "metadata": {},
   "source": [
    "使用 $ 生成列联表"
   ]
  },
  {
   "cell_type": "code",
   "execution_count": 77,
   "metadata": {
    "vscode": {
     "languageId": "r"
    }
   },
   "outputs": [
    {
     "data": {
      "text/plain": [
       "           \n",
       "            70.7 107 125.8 161.8 274.5\n",
       "  Amazon       0   1     0     0     0\n",
       "  Apple        0   0     0     0     1\n",
       "  Facebook     1   0     0     0     0\n",
       "  Google       0   0     0     1     0\n",
       "  Microsoft    0   0     1     0     0"
      ]
     },
     "execution_count": null,
     "metadata": {},
     "output_type": "execute_result"
    }
   ],
   "source": [
    "table(df$com, df$rev)"
   ]
  },
  {
   "cell_type": "markdown",
   "metadata": {},
   "source": [
    "一些应用"
   ]
  },
  {
   "cell_type": "code",
   "execution_count": 79,
   "metadata": {
    "vscode": {
     "languageId": "r"
    }
   },
   "outputs": [
    {
     "data": {
      "text/plain": [
       "   Min. 1st Qu.  Median    Mean 3rd Qu.    Max. \n",
       "   70.7   107.0   125.8   148.0   161.8   274.5 "
      ]
     },
     "execution_count": null,
     "metadata": {},
     "output_type": "execute_result"
    }
   ],
   "source": [
    "# 描述性统计\n",
    "summary(df$rev)"
   ]
  },
  {
   "cell_type": "code",
   "execution_count": 82,
   "metadata": {
    "vscode": {
     "languageId": "r"
    }
   },
   "outputs": [
    {
     "data": {
      "image/png": "[encoded data removed]"
     },
     "metadata": {},
     "output_type": "display_data"
    }
   ],
   "source": [
    "# 生成简易图表\n",
    "plot(mtcars$mpg, mtcars$disp)"
   ]
  },
  {
   "cell_type": "markdown",
   "metadata": {},
   "source": [
    "在 R 中，**实例标识符（case identifier）** 可通过数据框操作函数中的 rowname 选项指定。"
   ]
  },
  {
   "cell_type": "code",
   "execution_count": 84,
   "metadata": {
    "vscode": {
     "languageId": "r"
    }
   },
   "outputs": [
    {
     "data": {
      "text/plain": [
       "          revenue profit\n",
       "Apple       274.5   57.2\n",
       "Google      161.8   18.5\n",
       "Facebook     70.7   10.2\n",
       "Amazon      107.0    3.0\n",
       "Microsoft   125.8   16.6"
      ]
     },
     "execution_count": null,
     "metadata": {},
     "output_type": "execute_result"
    }
   ],
   "source": [
    "company <- c(\"Apple\", \"Google\", \"Facebook\", \"Amazon\", \"Microsoft\")\n",
    "revenue <- c(274.5, 161.8, 70.7, 107.0, 125.8)\n",
    "profit <- c(57.2, 18.5, 10.2, 3.0, 16.6)\n",
    "df <-  data.frame(revenue, profit, row.names=company)\n",
    "df"
   ]
  },
  {
   "cell_type": "code",
   "execution_count": 86,
   "metadata": {
    "vscode": {
     "languageId": "r"
    }
   },
   "outputs": [
    {
     "data": {
      "text/plain": [
       "       revenue profit\n",
       "Apple    274.5   57.2\n",
       "Amazon   107.0    3.0"
      ]
     },
     "execution_count": null,
     "metadata": {},
     "output_type": "execute_result"
    }
   ],
   "source": [
    "# 测试一下能不能用名字访问行\n",
    "df[c('Apple', 'Amazon'), ]"
   ]
  },
  {
   "cell_type": "markdown",
   "metadata": {},
   "source": [
    "## 因子"
   ]
  },
  {
   "cell_type": "markdown",
   "metadata": {},
   "source": [
    "变量可归结为**名义型**、**有序型**或**连续型**变量。名义型变量是没有顺序之分的类别变量。"
   ]
  },
  {
   "cell_type": "markdown",
   "metadata": {},
   "source": [
    "糖尿病类型 Diabetes（Type1、Type2）是名义型变量的一例。即使在数据中 Type1 编码为 1 而 Type2 编码为 2，这也并不意味着二者是有序的。"
   ]
  },
  {
   "cell_type": "markdown",
   "metadata": {},
   "source": [
    "病情 Status（poor、improved、excellent）是顺序型变量的一个上佳示例。我们明白，病情为 poor（较差）病人的状态不如 improved（病情好转）的病人，但并不知道相差多少。"
   ]
  },
  {
   "cell_type": "markdown",
   "metadata": {},
   "source": [
    "连续型变量可以呈现为某个范围内的任意值，并同时表示了顺序和数量。年龄 Age 就是一个连续型变量，它能够表示像 14.5 或 22.8 这样的值以及其间的其他任意值。"
   ]
  },
  {
   "cell_type": "markdown",
   "metadata": {},
   "source": [
    "类别（名义型）变量和有序类别（有序型）变量在 R 中称为**因子（factor）** 。"
   ]
  },
  {
   "cell_type": "markdown",
   "metadata": {},
   "source": [
    "函数 factor()以一个整数向量的形式存储类别值，整数的取值范围是[1...k]（其中 k 是名义型变量中唯一值的个数），同时一个由字符串（原始值）组成的内部向量将映射到这些整数上。"
   ]
  },
  {
   "cell_type": "code",
   "execution_count": 93,
   "metadata": {
    "vscode": {
     "languageId": "r"
    }
   },
   "outputs": [
    {
     "data": {
      "text/plain": [
       "[1] \"Type1\" \"Type2\" \"Type1\" \"Type1\""
      ]
     },
     "execution_count": null,
     "metadata": {},
     "output_type": "execute_result"
    }
   ],
   "source": [
    "diabetes <- c(\"Type1\", \"Type2\", \"Type1\", \"Type1\")\n",
    "diabetes"
   ]
  },
  {
   "cell_type": "markdown",
   "metadata": {},
   "source": [
    "语句 `diabetes ＜- factor(diabetes)` 将此向量存储为(1, 2, 1, 1)，并在内部将其关联为 1=Type1 和 2=Type2（具体赋值根据字母顺序而定）。针对向量 diabetes 进行的任何分析都会将其作为名义型变量对待，并自动选择适合这一测量尺度的统计方法。"
   ]
  },
  {
   "cell_type": "code",
   "execution_count": 94,
   "metadata": {
    "vscode": {
     "languageId": "r"
    }
   },
   "outputs": [
    {
     "data": {
      "text/plain": [
       "[1] Type1 Type2 Type1 Type1\n",
       "Levels: Type1 Type2"
      ]
     },
     "execution_count": null,
     "metadata": {},
     "output_type": "execute_result"
    }
   ],
   "source": [
    "# 转化为因子\n",
    "diabetes <-  factor(diabetes)\n",
    "diabetes"
   ]
  },
  {
   "cell_type": "markdown",
   "metadata": {},
   "source": [
    "要表示有序型变量，需要为函数 factor()指定参数 `ordered=TRUE`。"
   ]
  },
  {
   "cell_type": "code",
   "execution_count": 95,
   "metadata": {
    "vscode": {
     "languageId": "r"
    }
   },
   "outputs": [
    {
     "data": {
      "text/plain": [
       "[1] \"Poor\"      \"Improved\"  \"Excellent\" \"Poor\"     "
      ]
     },
     "execution_count": null,
     "metadata": {},
     "output_type": "execute_result"
    }
   ],
   "source": [
    "status <- c(\"Poor\", \"Improved\", \"Excellent\", \"Poor\")\n",
    "status"
   ]
  },
  {
   "cell_type": "code",
   "execution_count": 96,
   "metadata": {
    "vscode": {
     "languageId": "r"
    }
   },
   "outputs": [
    {
     "data": {
      "text/plain": [
       "[1] Poor      Improved  Excellent Poor     \n",
       "Levels: Excellent < Improved < Poor"
      ]
     },
     "execution_count": null,
     "metadata": {},
     "output_type": "execute_result"
    }
   ],
   "source": [
    "# 转化为因子\n",
    "status <-  factor(status, ordered=TRUE)\n",
    "status"
   ]
  },
  {
   "cell_type": "markdown",
   "metadata": {
    "vscode": {
     "languageId": "r"
    }
   },
   "source": [
    "语句 `status ＜- factor(status, ordered=TRUE)` 会将向量编码为(3, 2, 1, 3)，并在内部将这些值关联为 1=Excellent、2=Improved 以及 3=Poor。另外，针对此向量进行的任何分析都会将其作为有序型变量对待，并自动选择合适的统计方法。"
   ]
  },
  {
   "cell_type": "markdown",
   "metadata": {},
   "source": [
    "你可以通过指定 `levels` 选项来覆盖默认排序。(如果不指定排序，默认按字母排序，会导致水平与逻辑不符，比如 good、medium、bad，那么按字母顺序排序和实际的程度并不一致）"
   ]
  },
  {
   "cell_type": "code",
   "execution_count": 97,
   "metadata": {
    "vscode": {
     "languageId": "r"
    }
   },
   "outputs": [
    {
     "data": {
      "text/plain": [
       "[1] Poor      Improved  Excellent Poor     \n",
       "Levels: Poor < Improved < Excellent"
      ]
     },
     "execution_count": null,
     "metadata": {},
     "output_type": "execute_result"
    }
   ],
   "source": [
    "status <- factor(status, ordered=TRUE, levels=c(\"Poor\", \"Improved\", \"Excellent\"))\n",
    "status"
   ]
  },
  {
   "cell_type": "code",
   "execution_count": 99,
   "metadata": {
    "vscode": {
     "languageId": "r"
    }
   },
   "outputs": [
    {
     "data": {
      "text/plain": [
       "  patientID age diagdata status\n",
       "1         1  25    Type1   Poor\n",
       "2         2  34    Type2   Good\n",
       "3         3  28    Type1 Medium\n",
       "4         4  52    Type1   Good"
      ]
     },
     "execution_count": null,
     "metadata": {},
     "output_type": "execute_result"
    }
   ],
   "source": [
    "# 下面创建一个包含因子的dataframe\n",
    "patientID <- c(1, 2, 3, 4)\n",
    "age <- c(25, 34, 28, 52)\n",
    "diabetes <- c(\"Type1\", \"Type2\", \"Type1\", \"Type1\")\n",
    "status <- c(\"Poor\", \"Good\", \"Medium\", \"Good\")\n",
    "diagdata <- factor(diabetes)  \n",
    "status <- factor(status, order = TRUE, levels = c(\"Poor\", \"Medium\", \"Good\"))\n",
    "patientdata <- data.frame(patientID, age, diagdata, status)\n",
    "patientdata"
   ]
  },
  {
   "cell_type": "code",
   "execution_count": 100,
   "metadata": {
    "vscode": {
     "languageId": "r"
    }
   },
   "outputs": [
    {
     "data": {
      "text/plain": [
       "   patientID         age         diagdata    status \n",
       " Min.   :1.00   Min.   :25.00   Type1:3   Poor  :1  \n",
       " 1st Qu.:1.75   1st Qu.:27.25   Type2:1   Medium:1  \n",
       " Median :2.50   Median :31.00             Good  :2  \n",
       " Mean   :2.50   Mean   :34.75                       \n",
       " 3rd Qu.:3.25   3rd Qu.:38.50                       \n",
       " Max.   :4.00   Max.   :52.00                       "
      ]
     },
     "execution_count": null,
     "metadata": {},
     "output_type": "execute_result"
    }
   ],
   "source": [
    "# 看一下统计摘要\n",
    "# 因子和向量的不太一样\n",
    "summary(patientdata)"
   ]
  },
  {
   "cell_type": "markdown",
   "metadata": {},
   "source": [
    "## 列表"
   ]
  },
  {
   "cell_type": "markdown",
   "metadata": {},
   "source": [
    "列表（list）是 R 的数据类型中最为复杂的一种。一般来说，列表就是一些对象（或成分，component）的有序集合。列表允许你整合若干（可能无关的）对象到单个对象名下。例如，某个列表中可能是若干向量、矩阵、数据框，甚至其他列表的组合。可以使用函数 `list()` 创建列表。\n"
   ]
  },
  {
   "cell_type": "markdown",
   "metadata": {},
   "source": [
    "格式如下：\n",
    "``` r\n",
    "mylist <- list(obj1, obj2, ...)\n",
    "```"
   ]
  },
  {
   "cell_type": "markdown",
   "metadata": {},
   "source": [
    "其中的对象可以是目前为止讲到的任何结构。你还可以为列表中的对象命名："
   ]
  },
  {
   "cell_type": "markdown",
   "metadata": {},
   "source": [
    "``` r\n",
    "mylist <- list(name1=obj1, name2=obj2, ...)\n",
    "```"
   ]
  },
  {
   "cell_type": "code",
   "execution_count": 102,
   "metadata": {
    "vscode": {
     "languageId": "r"
    }
   },
   "outputs": [
    {
     "data": {
      "text/plain": [
       "$title\n",
       "[1] \"My First List\"\n",
       "\n",
       "$ages\n",
       "[1] 25 26 18 39\n",
       "\n",
       "[[3]]\n",
       "     [,1] [,2] [,3] [,4] [,5]\n",
       "[1,]    1    3    5    7    9\n",
       "[2,]    2    4    6    8   10\n",
       "\n",
       "$names\n",
       "[1] \"one\"   \"two\"   \"three\"\n"
      ]
     },
     "execution_count": null,
     "metadata": {},
     "output_type": "execute_result"
    }
   ],
   "source": [
    "# 创建一个列表\n",
    "g <- \"My First List\"\n",
    "h <- c(25, 26, 18, 39)\n",
    "j <- matrix(1:10, nrow = 2)\n",
    "k <- c(\"one\", \"two\", \"three\")\n",
    "mylist <- list(title = g, ages = h, j, names = k)\n",
    "mylist"
   ]
  },
  {
   "cell_type": "markdown",
   "metadata": {},
   "source": [
    "可以通过在双重方括号中指明代表某个成分的数字或名称来访问列表中的元素。"
   ]
  },
  {
   "cell_type": "code",
   "execution_count": 105,
   "metadata": {
    "vscode": {
     "languageId": "r"
    }
   },
   "outputs": [
    {
     "data": {
      "text/plain": [
       "[1] \"My First List\""
      ]
     },
     "execution_count": null,
     "metadata": {},
     "output_type": "execute_result"
    }
   ],
   "source": [
    "mylist[[1]]"
   ]
  },
  {
   "cell_type": "code",
   "execution_count": 103,
   "metadata": {
    "vscode": {
     "languageId": "r"
    }
   },
   "outputs": [
    {
     "data": {
      "text/plain": [
       "[1] 25 26 18 39"
      ]
     },
     "execution_count": null,
     "metadata": {},
     "output_type": "execute_result"
    }
   ],
   "source": [
    "mylist[[2]]"
   ]
  },
  {
   "cell_type": "code",
   "execution_count": 104,
   "metadata": {
    "vscode": {
     "languageId": "r"
    }
   },
   "outputs": [
    {
     "data": {
      "text/plain": [
       "     [,1] [,2] [,3] [,4] [,5]\n",
       "[1,]    1    3    5    7    9\n",
       "[2,]    2    4    6    8   10"
      ]
     },
     "execution_count": null,
     "metadata": {},
     "output_type": "execute_result"
    }
   ],
   "source": [
    "mylist[[3]]"
   ]
  },
  {
   "cell_type": "code",
   "execution_count": 106,
   "metadata": {
    "vscode": {
     "languageId": "r"
    }
   },
   "outputs": [
    {
     "data": {
      "text/plain": [
       "[1] \"one\"   \"two\"   \"three\""
      ]
     },
     "execution_count": null,
     "metadata": {},
     "output_type": "execute_result"
    }
   ],
   "source": [
    "mylist[[4]]"
   ]
  },
  {
   "cell_type": "code",
   "execution_count": 107,
   "metadata": {
    "vscode": {
     "languageId": "r"
    }
   },
   "outputs": [
    {
     "data": {
      "text/plain": [
       "[1] 18"
      ]
     },
     "execution_count": null,
     "metadata": {},
     "output_type": "execute_result"
    }
   ],
   "source": [
    "# 访问列表元素的元素\n",
    "mylist[[2]][3]"
   ]
  },
  {
   "cell_type": "code",
   "execution_count": 109,
   "metadata": {
    "vscode": {
     "languageId": "r"
    }
   },
   "outputs": [
    {
     "data": {
      "text/plain": [
       "[1] 3"
      ]
     },
     "execution_count": null,
     "metadata": {},
     "output_type": "execute_result"
    }
   ],
   "source": [
    "mylist[[3]][1, 2]"
   ]
  },
  {
   "cell_type": "markdown",
   "metadata": {},
   "source": [
    "对于命名成分，mylist$ages 也可以正常运行"
   ]
  },
  {
   "cell_type": "code",
   "execution_count": 110,
   "metadata": {
    "vscode": {
     "languageId": "r"
    }
   },
   "outputs": [
    {
     "data": {
      "text/plain": [
       "[1] 25 26 18 39"
      ]
     },
     "execution_count": null,
     "metadata": {},
     "output_type": "execute_result"
    }
   ],
   "source": [
    "mylist$age"
   ]
  },
  {
   "cell_type": "code",
   "execution_count": 111,
   "metadata": {
    "vscode": {
     "languageId": "r"
    }
   },
   "outputs": [
    {
     "data": {
      "text/plain": [
       "[1] \"one\"   \"two\"   \"three\""
      ]
     },
     "execution_count": null,
     "metadata": {},
     "output_type": "execute_result"
    }
   ],
   "source": [
    "mylist$names"
   ]
  },
  {
   "cell_type": "markdown",
   "metadata": {},
   "source": [
    "# 运算符"
   ]
  },
  {
   "cell_type": "markdown",
   "metadata": {},
   "source": [
    "## 算术运算符"
   ]
  },
  {
   "cell_type": "code",
   "execution_count": 112,
   "metadata": {
    "vscode": {
     "languageId": "r"
    }
   },
   "outputs": [
    {
     "data": {
      "text/plain": [
       "[1] 2"
      ]
     },
     "execution_count": null,
     "metadata": {},
     "output_type": "execute_result"
    }
   ],
   "source": [
    "1+1"
   ]
  },
  {
   "cell_type": "code",
   "execution_count": 113,
   "metadata": {
    "vscode": {
     "languageId": "r"
    }
   },
   "outputs": [
    {
     "data": {
      "text/plain": [
       "[1] -1"
      ]
     },
     "execution_count": null,
     "metadata": {},
     "output_type": "execute_result"
    }
   ],
   "source": [
    "1-2"
   ]
  },
  {
   "cell_type": "code",
   "execution_count": 114,
   "metadata": {
    "vscode": {
     "languageId": "r"
    }
   },
   "outputs": [
    {
     "data": {
      "text/plain": [
       "[1] 2"
      ]
     },
     "execution_count": null,
     "metadata": {},
     "output_type": "execute_result"
    }
   ],
   "source": [
    "1*2"
   ]
  },
  {
   "cell_type": "code",
   "execution_count": 116,
   "metadata": {
    "vscode": {
     "languageId": "r"
    }
   },
   "outputs": [
    {
     "data": {
      "text/plain": [
       "[1] 0.5"
      ]
     },
     "execution_count": null,
     "metadata": {},
     "output_type": "execute_result"
    }
   ],
   "source": [
    "1/2"
   ]
  },
  {
   "cell_type": "markdown",
   "metadata": {},
   "source": [
    "%%运算符：给出第一个向量和第二个向量的余数"
   ]
  },
  {
   "cell_type": "code",
   "execution_count": 120,
   "metadata": {
    "vscode": {
     "languageId": "r"
    }
   },
   "outputs": [
    {
     "data": {
      "text/plain": [
       "[1] 0 1 2 1 0"
      ]
     },
     "execution_count": null,
     "metadata": {},
     "output_type": "execute_result"
    }
   ],
   "source": [
    "# 前一向量的元素与后一向量相同索引的元素求余数\n",
    "6:10 %% 1:5"
   ]
  },
  {
   "cell_type": "code",
   "execution_count": 121,
   "metadata": {
    "vscode": {
     "languageId": "r"
    }
   },
   "outputs": [
    {
     "data": {
      "text/plain": [
       "[1] 0 0 1 0 1 1"
      ]
     },
     "execution_count": null,
     "metadata": {},
     "output_type": "execute_result"
    }
   ],
   "source": [
    "# 有广播机制，即使长度不同，只要长度是整数倍数，也可以进行求余\n",
    "# 广播其实压抑所有运算都有，这里测试一下\n",
    "5:10 %% 1:3"
   ]
  },
  {
   "cell_type": "markdown",
   "metadata": {},
   "source": [
    "## 关系运算符"
   ]
  },
  {
   "cell_type": "code",
   "execution_count": 122,
   "metadata": {
    "vscode": {
     "languageId": "r"
    }
   },
   "outputs": [
    {
     "data": {
      "text/plain": [
       "[1] FALSE"
      ]
     },
     "execution_count": null,
     "metadata": {},
     "output_type": "execute_result"
    }
   ],
   "source": [
    "1 > 2"
   ]
  },
  {
   "cell_type": "code",
   "execution_count": 123,
   "metadata": {
    "vscode": {
     "languageId": "r"
    }
   },
   "outputs": [
    {
     "data": {
      "text/plain": [
       "[1] TRUE"
      ]
     },
     "execution_count": null,
     "metadata": {},
     "output_type": "execute_result"
    }
   ],
   "source": [
    "1 < 2"
   ]
  },
  {
   "cell_type": "code",
   "execution_count": 124,
   "metadata": {
    "vscode": {
     "languageId": "r"
    }
   },
   "outputs": [
    {
     "data": {
      "text/plain": [
       "[1] FALSE"
      ]
     },
     "execution_count": null,
     "metadata": {},
     "output_type": "execute_result"
    }
   ],
   "source": [
    "1 == 2"
   ]
  },
  {
   "cell_type": "code",
   "execution_count": 125,
   "metadata": {
    "vscode": {
     "languageId": "r"
    }
   },
   "outputs": [
    {
     "data": {
      "text/plain": [
       "[1] FALSE"
      ]
     },
     "execution_count": null,
     "metadata": {},
     "output_type": "execute_result"
    }
   ],
   "source": [
    "1 >= 2"
   ]
  },
  {
   "cell_type": "code",
   "execution_count": 126,
   "metadata": {
    "vscode": {
     "languageId": "r"
    }
   },
   "outputs": [
    {
     "data": {
      "text/plain": [
       "[1] TRUE"
      ]
     },
     "execution_count": null,
     "metadata": {},
     "output_type": "execute_result"
    }
   ],
   "source": [
    "1 <= 2"
   ]
  },
  {
   "cell_type": "code",
   "execution_count": 127,
   "metadata": {
    "vscode": {
     "languageId": "r"
    }
   },
   "outputs": [
    {
     "data": {
      "text/plain": [
       "[1] TRUE"
      ]
     },
     "execution_count": null,
     "metadata": {},
     "output_type": "execute_result"
    }
   ],
   "source": [
    "1 != 2"
   ]
  },
  {
   "cell_type": "markdown",
   "metadata": {},
   "source": [
    "## 逻辑运算符"
   ]
  },
  {
   "cell_type": "markdown",
   "metadata": {},
   "source": [
    "&：它称为按元素逻辑与运算符。它将第一个向量的每个元素与第二个向量的对应元素组合在一起，如果两个元素均为 TRUE，则输出为 TRUE。"
   ]
  },
  {
   "cell_type": "code",
   "execution_count": 128,
   "metadata": {
    "vscode": {
     "languageId": "r"
    }
   },
   "outputs": [
    {
     "data": {
      "text/plain": [
       "[1] FALSE"
      ]
     },
     "execution_count": null,
     "metadata": {},
     "output_type": "execute_result"
    }
   ],
   "source": [
    "1 & 0"
   ]
  },
  {
   "cell_type": "code",
   "execution_count": 131,
   "metadata": {
    "vscode": {
     "languageId": "r"
    }
   },
   "outputs": [
    {
     "data": {
      "text/plain": [
       "[1]  TRUE FALSE FALSE FALSE"
      ]
     },
     "execution_count": null,
     "metadata": {},
     "output_type": "execute_result"
    }
   ],
   "source": [
    "a <- c(1, 1, 0, 0)\n",
    "b <- c(1, 0, 1, 0)\n",
    "a & b"
   ]
  },
  {
   "cell_type": "markdown",
   "metadata": {},
   "source": [
    "|：它称为按元素逻辑或运算符。它将第一个向量的每个元素与第二个向量的对应元素合并，如果其中一个为 TRUE，则输出为 TRUE。"
   ]
  },
  {
   "cell_type": "code",
   "execution_count": 129,
   "metadata": {
    "vscode": {
     "languageId": "r"
    }
   },
   "outputs": [
    {
     "data": {
      "text/plain": [
       "[1] TRUE"
      ]
     },
     "execution_count": null,
     "metadata": {},
     "output_type": "execute_result"
    }
   ],
   "source": [
    "1 | 0"
   ]
  },
  {
   "cell_type": "code",
   "execution_count": 132,
   "metadata": {
    "vscode": {
     "languageId": "r"
    }
   },
   "outputs": [
    {
     "data": {
      "text/plain": [
       "[1]  TRUE  TRUE  TRUE FALSE"
      ]
     },
     "execution_count": null,
     "metadata": {},
     "output_type": "execute_result"
    }
   ],
   "source": [
    "a <- c(1, 1, 0, 0)\n",
    "b <- c(1, 0, 1, 0)\n",
    "a | b"
   ]
  },
  {
   "cell_type": "markdown",
   "metadata": {},
   "source": [
    "！：它称为逻辑非运算符。取向量的每个元素，并给出相反的逻辑值。"
   ]
  },
  {
   "cell_type": "code",
   "execution_count": 130,
   "metadata": {
    "vscode": {
     "languageId": "r"
    }
   },
   "outputs": [
    {
     "data": {
      "text/plain": [
       "[1] TRUE"
      ]
     },
     "execution_count": null,
     "metadata": {},
     "output_type": "execute_result"
    }
   ],
   "source": [
    "!0"
   ]
  },
  {
   "cell_type": "code",
   "execution_count": 133,
   "metadata": {
    "vscode": {
     "languageId": "r"
    }
   },
   "outputs": [
    {
     "data": {
      "text/plain": [
       "[1] FALSE  TRUE"
      ]
     },
     "execution_count": null,
     "metadata": {},
     "output_type": "execute_result"
    }
   ],
   "source": [
    "c <-  c(1, 0)\n",
    "!c"
   ]
  },
  {
   "cell_type": "markdown",
   "metadata": {
    "vscode": {
     "languageId": "r"
    }
   },
   "source": [
    "&&：称为逻辑 AND 运算符。取两个向量的第一个元素，并且仅当两个都为 TRUE 时才给出 TRUE。"
   ]
  },
  {
   "cell_type": "code",
   "execution_count": 137,
   "metadata": {
    "vscode": {
     "languageId": "r"
    }
   },
   "outputs": [
    {
     "data": {
      "text/plain": [
       "[1] TRUE"
      ]
     },
     "execution_count": null,
     "metadata": {},
     "output_type": "execute_result"
    }
   ],
   "source": [
    "# 其实就是只能比较两个值，如果用向量进行比较会报错\n",
    "a <- 1\n",
    "b <- 1\n",
    "a && b"
   ]
  },
  {
   "cell_type": "code",
   "execution_count": 138,
   "metadata": {
    "vscode": {
     "languageId": "r"
    }
   },
   "outputs": [
    {
     "data": {
      "text/plain": [
       "[1] FALSE"
      ]
     },
     "execution_count": null,
     "metadata": {},
     "output_type": "execute_result"
    }
   ],
   "source": [
    "a <- 1\n",
    "b <- 0\n",
    "a && b"
   ]
  },
  {
   "cell_type": "markdown",
   "metadata": {},
   "source": [
    "||：称为逻辑 OR 运算符。取两个向量的第一个元素，如果其中一个为 TRUE，则给出 TRUE。"
   ]
  },
  {
   "cell_type": "code",
   "execution_count": 140,
   "metadata": {
    "vscode": {
     "languageId": "r"
    }
   },
   "outputs": [
    {
     "data": {
      "text/plain": [
       "[1] TRUE"
      ]
     },
     "execution_count": null,
     "metadata": {},
     "output_type": "execute_result"
    }
   ],
   "source": [
    "a <- 1\n",
    "b <- 1\n",
    "a || b"
   ]
  },
  {
   "cell_type": "code",
   "execution_count": 141,
   "metadata": {
    "vscode": {
     "languageId": "r"
    }
   },
   "outputs": [
    {
     "data": {
      "text/plain": [
       "[1] FALSE"
      ]
     },
     "execution_count": null,
     "metadata": {},
     "output_type": "execute_result"
    }
   ],
   "source": [
    "a <- 0\n",
    "b <- 0\n",
    "a && b"
   ]
  },
  {
   "cell_type": "markdown",
   "metadata": {},
   "source": [
    "## 赋值运算符"
   ]
  },
  {
   "cell_type": "markdown",
   "metadata": {},
   "source": [
    "其实到这里已经用了好久了，就是=,->,<-"
   ]
  },
  {
   "cell_type": "markdown",
   "metadata": {},
   "source": [
    "笑死了，这个就没必要演示了"
   ]
  },
  {
   "cell_type": "markdown",
   "metadata": {},
   "source": [
    "## 杂项运算符"
   ]
  },
  {
   "cell_type": "markdown",
   "metadata": {},
   "source": [
    "“：”：冒号运算符。它为向量按顺序创建一系列数字。"
   ]
  },
  {
   "cell_type": "code",
   "execution_count": 142,
   "metadata": {
    "vscode": {
     "languageId": "r"
    }
   },
   "outputs": [
    {
     "data": {
      "text/plain": [
       "[1] 1 2 3 4 5"
      ]
     },
     "execution_count": null,
     "metadata": {},
     "output_type": "execute_result"
    }
   ],
   "source": [
    "1:5"
   ]
  },
  {
   "cell_type": "markdown",
   "metadata": {},
   "source": [
    "%in%：该运算符用于识别元素是否属于向量。"
   ]
  },
  {
   "cell_type": "code",
   "execution_count": 143,
   "metadata": {
    "vscode": {
     "languageId": "r"
    }
   },
   "outputs": [
    {
     "data": {
      "text/plain": [
       "[1] TRUE"
      ]
     },
     "execution_count": null,
     "metadata": {},
     "output_type": "execute_result"
    }
   ],
   "source": [
    "2 %in% 1:5"
   ]
  },
  {
   "cell_type": "code",
   "execution_count": 144,
   "metadata": {
    "vscode": {
     "languageId": "r"
    }
   },
   "outputs": [
    {
     "data": {
      "text/plain": [
       "[1] FALSE"
      ]
     },
     "execution_count": null,
     "metadata": {},
     "output_type": "execute_result"
    }
   ],
   "source": [
    "6 %in% 1:5"
   ]
  },
  {
   "cell_type": "markdown",
   "metadata": {},
   "source": [
    "%*%：该运算符用于将矩阵与其转置相乘。"
   ]
  },
  {
   "cell_type": "code",
   "execution_count": 147,
   "metadata": {
    "vscode": {
     "languageId": "r"
    }
   },
   "outputs": [
    {
     "name": "stdout",
     "output_type": "stream",
     "text": [
      "     [,1] [,2]\n",
      "[1,]    1    0\n",
      "[2,]    0    1\n",
      "     [,1] [,2]\n",
      "[1,]    1    3\n",
      "[2,]    2    4\n"
     ]
    }
   ],
   "source": [
    "mat1 <- matrix(c(1,0,0,1), nrow=2, ncol=2)\n",
    "mat2 <- matrix(1:4, nrow=2, ncol=2)\n",
    "print(mat1)\n",
    "print(mat2)"
   ]
  },
  {
   "cell_type": "code",
   "execution_count": 148,
   "metadata": {
    "vscode": {
     "languageId": "r"
    }
   },
   "outputs": [
    {
     "data": {
      "text/plain": [
       "     [,1] [,2]\n",
       "[1,]    1    0\n",
       "[2,]    0    4"
      ]
     },
     "execution_count": null,
     "metadata": {},
     "output_type": "execute_result"
    }
   ],
   "source": [
    "mat1 * mat2"
   ]
  },
  {
   "cell_type": "code",
   "execution_count": 149,
   "metadata": {
    "vscode": {
     "languageId": "r"
    }
   },
   "outputs": [
    {
     "data": {
      "text/plain": [
       "     [,1] [,2]\n",
       "[1,]    1    3\n",
       "[2,]    2    4"
      ]
     },
     "execution_count": null,
     "metadata": {},
     "output_type": "execute_result"
    }
   ],
   "source": [
    "mat1 %*% mat2"
   ]
  },
  {
   "cell_type": "code",
   "execution_count": 150,
   "metadata": {
    "vscode": {
     "languageId": "r"
    }
   },
   "outputs": [
    {
     "data": {
      "text/plain": [
       "     [,1] [,2]\n",
       "[1,]    1    3\n",
       "[2,]    2    4"
      ]
     },
     "execution_count": null,
     "metadata": {},
     "output_type": "execute_result"
    }
   ],
   "source": [
    "mat2 %*% mat1"
   ]
  },
  {
   "cell_type": "markdown",
   "metadata": {},
   "source": [
    "# 流程控制"
   ]
  },
  {
   "cell_type": "markdown",
   "metadata": {},
   "source": [
    "## if语句"
   ]
  },
  {
   "cell_type": "markdown",
   "metadata": {},
   "source": [
    "基本语法如下：\n",
    "``` r\n",
    " if(boolean_expression) {\n",
    "   // statement(s) will execute if the boolean expression is true.\n",
    "}\n",
    "```"
   ]
  },
  {
   "cell_type": "code",
   "execution_count": 152,
   "metadata": {
    "vscode": {
     "languageId": "r"
    }
   },
   "outputs": [
    {
     "name": "stdout",
     "output_type": "stream",
     "text": [
      "[1] \"Hello World\"\n"
     ]
    }
   ],
   "source": [
    "if (1) {\n",
    "    print(\"Hello World\")\n",
    "}"
   ]
  },
  {
   "cell_type": "code",
   "execution_count": 153,
   "metadata": {
    "vscode": {
     "languageId": "r"
    }
   },
   "outputs": [],
   "source": [
    "if (0) {\n",
    "  print(\"hello\")\n",
    "}"
   ]
  },
  {
   "cell_type": "markdown",
   "metadata": {},
   "source": [
    "## if ... else 语句"
   ]
  },
  {
   "cell_type": "markdown",
   "metadata": {},
   "source": [
    "基本语法如下：\n",
    "``` r\n",
    "if(boolean_expression) {\n",
    "   // statement(s) will execute if the boolean expression is true.\n",
    "} else {\n",
    "   // statement(s) will execute if the boolean expression is false.\n",
    "}\n",
    "```"
   ]
  },
  {
   "cell_type": "code",
   "execution_count": 156,
   "metadata": {
    "vscode": {
     "languageId": "r"
    }
   },
   "outputs": [
    {
     "name": "stdout",
     "output_type": "stream",
     "text": [
      "[1] \"hello\"\n"
     ]
    }
   ],
   "source": [
    "# else要求一定在{后面，单独起一行会报错\n",
    "if (1) {\n",
    "  print(\"hello\")\n",
    "} else {\n",
    "  print(\"world\")\n",
    "}"
   ]
  },
  {
   "cell_type": "markdown",
   "metadata": {},
   "source": [
    "## if ... else if ... else 语句"
   ]
  },
  {
   "cell_type": "markdown",
   "metadata": {},
   "source": [
    "一个 **if** 语句可以跟着一个 **else if**，**else** 语句，使用 **if... else if** 语句可这是为了测试各种条件非常有用的。\n",
    "\n",
    "使用 **if，else if，else** 语句时，要牢记几点。\n",
    "\n",
    "* **if** 可以有零或一个 **else**，它必须出现在任何的 **if else** 之后。\n",
    "* **if** 可以具有零个或多个 **else if**，并且它们必须排在 **else** 之前。\n",
    "* 一旦 **else if** 测试为 true，就不会在对后面的 **else if** 和 **else** 进行测试。"
   ]
  },
  {
   "cell_type": "markdown",
   "metadata": {},
   "source": [
    "基本语法如下：\n",
    "``` r\n",
    "if(boolean_expression 1) {\n",
    "   // Executes when the boolean expression 1 is true.\n",
    "} else if( boolean_expression 2) {\n",
    "   // Executes when the boolean expression 2 is true.\n",
    "} else if( boolean_expression 3) {\n",
    "   // Executes when the boolean expression 3 is true.\n",
    "} else {\n",
    "   // executes when none of the above condition is true.\n",
    "}\n",
    "```"
   ]
  },
  {
   "cell_type": "code",
   "execution_count": 157,
   "metadata": {
    "vscode": {
     "languageId": "r"
    }
   },
   "outputs": [
    {
     "name": "stdout",
     "output_type": "stream",
     "text": [
      "[1] \"truth is found the second time\"\n"
     ]
    }
   ],
   "source": [
    "x <- c(\"what\",\"is\",\"truth\")\n",
    "\n",
    "if(\"Truth\" %in% x) {\n",
    "   print(\"Truth is found the first time\")\n",
    "} else if (\"truth\" %in% x) {\n",
    "   print(\"truth is found the second time\")\n",
    "} else {\n",
    "   print(\"No truth found\")\n",
    "}"
   ]
  },
  {
   "cell_type": "markdown",
   "metadata": {},
   "source": [
    "## switch 语句"
   ]
  },
  {
   "cell_type": "markdown",
   "metadata": {},
   "source": [
    "**switch** 语句允许一个变量来针对值的列表平等进行测试。每个值称为一个 case，并针对每种情况检查要打开的变量。\n",
    "\n",
    "* 如果 expression 的值不是字符串，则将其强制为整数。\n",
    "* switch 内可以有任意数量的 case 语句。每个案例后面都跟要比较的值和一个冒号。\n",
    "* 如果整数的值在 1 到 nargs()-1（最大参数个数）之间，则将评估 case 条件的相应元素并返回结果。\n",
    "* 如果 expression 计算为字符串，则该字符串（完全）与元素名称匹配。\n",
    "* 如果有多个匹配项，则返回第一个匹配元素。\n",
    "* 没有默认参数可用。\n",
    "* 在不匹配的情况下，如果存在...的未命名元素，则返回其值。（如果有多个这样的参数，则返回错误。）"
   ]
  },
  {
   "cell_type": "markdown",
   "metadata": {},
   "source": [
    "基本语法如下：\n",
    "``` r\n",
    "switch(expression, case1, case2, case3....)\n",
    "```"
   ]
  },
  {
   "cell_type": "code",
   "execution_count": 158,
   "metadata": {
    "vscode": {
     "languageId": "r"
    }
   },
   "outputs": [
    {
     "name": "stdout",
     "output_type": "stream",
     "text": [
      "[1] \"second\"\n"
     ]
    }
   ],
   "source": [
    "x <- switch(\n",
    "  2,\n",
    "  \"first\",\n",
    "  \"second\",\n",
    "  \"third\",\n",
    "  \"fourth\"\n",
    ")\n",
    "print(x)"
   ]
  },
  {
   "cell_type": "code",
   "execution_count": 159,
   "metadata": {
    "vscode": {
     "languageId": "r"
    }
   },
   "outputs": [
    {
     "name": "stdout",
     "output_type": "stream",
     "text": [
      "[1] \"fourth\"\n"
     ]
    }
   ],
   "source": [
    "x <- switch(\n",
    "  4,\n",
    "  \"first\",\n",
    "  \"second\",\n",
    "  \"third\",\n",
    "  \"fourth\"\n",
    ")\n",
    "print(x)"
   ]
  },
  {
   "cell_type": "markdown",
   "metadata": {},
   "source": [
    "# 循环"
   ]
  },
  {
   "cell_type": "markdown",
   "metadata": {},
   "source": [
    "**循环**在某些情况下，需要多次执行一个代码块。通常，语句是按顺序执行的。首先执行函数中的第一条语句，然后执行第二条，依此类推。"
   ]
  },
  {
   "cell_type": "markdown",
   "metadata": {},
   "source": [
    "## repeat 循环"
   ]
  },
  {
   "cell_type": "markdown",
   "metadata": {},
   "source": [
    "**repeat 循环** 一次又一次地执行相同的代码，直到满足停止条件。"
   ]
  },
  {
   "cell_type": "markdown",
   "metadata": {},
   "source": [
    "基本格式如下：\n",
    "``` r\n",
    "repeat { \n",
    "   commands \n",
    "   if(condition) {\n",
    "      break\n",
    "   }\n",
    "}\n",
    "```"
   ]
  },
  {
   "cell_type": "code",
   "execution_count": 160,
   "metadata": {
    "vscode": {
     "languageId": "r"
    }
   },
   "outputs": [
    {
     "name": "stdout",
     "output_type": "stream",
     "text": [
      "[1] \"Yuanshen\" \"Qidong\"  \n",
      "[1] \"Yuanshen\" \"Qidong\"  \n",
      "[1] \"Yuanshen\" \"Qidong\"  \n",
      "[1] \"Yuanshen\" \"Qidong\"  \n",
      "[1] \"Yuanshen\" \"Qidong\"  \n",
      "[1] \"Yuanshen\" \"Qidong\"  \n",
      "[1] \"Yuanshen\" \"Qidong\"  \n",
      "[1] \"Yuanshen\" \"Qidong\"  \n",
      "[1] \"Yuanshen\" \"Qidong\"  \n",
      "[1] \"Yuanshen\" \"Qidong\"  \n"
     ]
    }
   ],
   "source": [
    "v = c(\"Yuanshen\", \"Qidong\")\n",
    "epoch = 1\n",
    "\n",
    "repeat {\n",
    "  print(v)\n",
    "  \n",
    "  epoch = epoch + 1\n",
    "  if (epoch > 10) {\n",
    "    break\n",
    "  }\n",
    "}"
   ]
  },
  {
   "cell_type": "markdown",
   "metadata": {},
   "source": [
    "## while 循环"
   ]
  },
  {
   "cell_type": "markdown",
   "metadata": {},
   "source": [
    "**while 循环** 循环一次又一次执行相同的代码，直到满足停止条件为止。"
   ]
  },
  {
   "cell_type": "markdown",
   "metadata": {},
   "source": [
    "基本格式如下：\n",
    "``` r\n",
    "while (test_expression) {\n",
    "   statement\n",
    "}\n",
    "```"
   ]
  },
  {
   "cell_type": "markdown",
   "metadata": {},
   "source": [
    "while 循环的关键是循环可能永远不会运行。当条件被测试并且结果为 false 时，将跳过循环主体，并执行 while 循环之后的第一条语句。"
   ]
  },
  {
   "cell_type": "code",
   "execution_count": 161,
   "metadata": {
    "vscode": {
     "languageId": "r"
    }
   },
   "outputs": [
    {
     "name": "stdout",
     "output_type": "stream",
     "text": [
      "[1] \"Yuanshen\" \"Qidong\"  \n",
      "[1] \"Yuanshen\" \"Qidong\"  \n",
      "[1] \"Yuanshen\" \"Qidong\"  \n",
      "[1] \"Yuanshen\" \"Qidong\"  \n",
      "[1] \"Yuanshen\" \"Qidong\"  \n",
      "[1] \"Yuanshen\" \"Qidong\"  \n",
      "[1] \"Yuanshen\" \"Qidong\"  \n",
      "[1] \"Yuanshen\" \"Qidong\"  \n",
      "[1] \"Yuanshen\" \"Qidong\"  \n"
     ]
    }
   ],
   "source": [
    "v = c(\"Yuanshen\", \"Qidong\")\n",
    "epoch = 1\n",
    "\n",
    "while (epoch < 10) {\n",
    "  print(v)\n",
    "  epoch = epoch + 1\n",
    "}"
   ]
  },
  {
   "cell_type": "markdown",
   "metadata": {},
   "source": [
    "## for 循环"
   ]
  },
  {
   "cell_type": "markdown",
   "metadata": {},
   "source": [
    "**for 循环** 是重复控制结构，这样就有效地编写一个循环，需要执行的特定次数。"
   ]
  },
  {
   "cell_type": "markdown",
   "metadata": {},
   "source": [
    "基本结构如下：\n",
    "``` r\n",
    "for (value in vector) {\n",
    "   statements\n",
    "}\n",
    "```"
   ]
  },
  {
   "cell_type": "code",
   "execution_count": 162,
   "metadata": {
    "vscode": {
     "languageId": "r"
    }
   },
   "outputs": [
    {
     "name": "stdout",
     "output_type": "stream",
     "text": [
      "[1] 1\n",
      "[1] 2\n",
      "[1] 3\n",
      "[1] 4\n"
     ]
    }
   ],
   "source": [
    "v <- 1:4\n",
    "for ( i in v) {\n",
    "  print(i)\n",
    "}"
   ]
  },
  {
   "cell_type": "markdown",
   "metadata": {},
   "source": [
    "## break 语句"
   ]
  },
  {
   "cell_type": "markdown",
   "metadata": {},
   "source": [
    "R 编程语言中的 break 语句具有以下两种用法\n",
    "\n",
    "* 当在循环内遇到 break 语句时，循环立即终止，程序控制在循环后的下一条语句处恢复。\n",
    "* 它可用于终止 switch 语句中的个案。"
   ]
  },
  {
   "cell_type": "code",
   "execution_count": 163,
   "metadata": {
    "vscode": {
     "languageId": "r"
    }
   },
   "outputs": [
    {
     "name": "stdout",
     "output_type": "stream",
     "text": [
      "[1] \"Hello\" \"loop\" \n",
      "[1] \"Hello\" \"loop\" \n",
      "[1] \"Hello\" \"loop\" \n",
      "[1] \"Hello\" \"loop\" \n"
     ]
    }
   ],
   "source": [
    "v <- c(\"Hello\",\"loop\")\n",
    "cnt <- 2\n",
    "\n",
    "repeat {\n",
    "   print(v)\n",
    "   cnt <- cnt + 1\n",
    "      \n",
    "   if(cnt > 5) {\n",
    "      break\n",
    "   }\n",
    "}"
   ]
  },
  {
   "cell_type": "markdown",
   "metadata": {},
   "source": [
    "## next 语句"
   ]
  },
  {
   "cell_type": "markdown",
   "metadata": {},
   "source": [
    "遇到 next 时，R 分析器将跳过进一步的评估，并开始循环的下一个迭代。"
   ]
  },
  {
   "cell_type": "code",
   "execution_count": 164,
   "metadata": {
    "vscode": {
     "languageId": "r"
    }
   },
   "outputs": [
    {
     "name": "stdout",
     "output_type": "stream",
     "text": [
      "[1] \"A\"\n",
      "[1] \"B\"\n",
      "[1] \"C\"\n",
      "[1] \"E\"\n",
      "[1] \"F\"\n"
     ]
    }
   ],
   "source": [
    "v <- LETTERS[1:6]\n",
    "for ( i in v) {\n",
    "   \n",
    "   if (i == \"D\") {\n",
    "      next\n",
    "   }\n",
    "   print(i)\n",
    "}"
   ]
  },
  {
   "cell_type": "markdown",
   "metadata": {},
   "source": [
    "# 函数"
   ]
  },
  {
   "cell_type": "markdown",
   "metadata": {},
   "source": [
    "## 函数定义"
   ]
  },
  {
   "cell_type": "markdown",
   "metadata": {},
   "source": [
    "通过使用关键字 function 创建 R 函数。R 函数定义的基本语法如下：\n",
    "``` r\n",
    "function_name <- function(arg_1, arg_2, ...) {\n",
    "   Function body \n",
    "}\n",
    "```"
   ]
  },
  {
   "cell_type": "markdown",
   "metadata": {},
   "source": [
    "## 函数构成"
   ]
  },
  {
   "cell_type": "markdown",
   "metadata": {},
   "source": [
    "* **函数名称**-这是函数的实际名称。它以该名称作为对象存储在 R 环境中。\n",
    "* **参数**-参数是一个占位符。调用函数时，将一个值传递给参数。参数是可选的；也就是说，一个函数可能不包含任何参数。另外，参数可以具有默认值。\n",
    "* **函数体**-函数体包含定义函数函数的语句集合。\n",
    "* **返回值**-函数的返回值是函数主体中要评估的最后一个表达式。"
   ]
  },
  {
   "cell_type": "markdown",
   "metadata": {},
   "source": [
    "## 内置函数"
   ]
  },
  {
   "cell_type": "markdown",
   "metadata": {},
   "source": [
    "**eq()** ，**mean()** ，**max()** ，**sum（x）** 和 **paste（...）**"
   ]
  },
  {
   "cell_type": "markdown",
   "metadata": {},
   "source": [
    "## 用户自定义函数"
   ]
  },
  {
   "cell_type": "code",
   "execution_count": 165,
   "metadata": {
    "vscode": {
     "languageId": "r"
    }
   },
   "outputs": [
    {
     "name": "stdout",
     "output_type": "stream",
     "text": [
      "[1] 1\n",
      "[1] 4\n",
      "[1] 9\n",
      "[1] 16\n",
      "[1] 25\n",
      "[1] 36\n"
     ]
    }
   ],
   "source": [
    "# Create a function to print squares of numbers in sequence.\n",
    "new.function <- function(a) {\n",
    "  for(i in 1:a) {\n",
    "     b <- i^2\n",
    "     print(b)\n",
    "  }\n",
    "}\n",
    "\n",
    "# Call the function new.function supplying 6 as an argument.\n",
    "new.function(6)"
   ]
  },
  {
   "cell_type": "markdown",
   "metadata": {},
   "source": [
    "# 字符串"
   ]
  },
  {
   "cell_type": "markdown",
   "metadata": {},
   "source": [
    "**字符串**在 R 中的一对单引号或双引号中写入的任何值都被视为字符串。在内部，R 将每个字符串存储在双引号中，即使使用单引号创建它们也是如此。"
   ]
  },
  {
   "cell_type": "markdown",
   "metadata": {},
   "source": [
    "## 构建规则"
   ]
  },
  {
   "cell_type": "markdown",
   "metadata": {},
   "source": [
    "* 字符串开头和结尾的引号应均为双引号或均为单引号。他们不能混在一起。\n",
    "* 可以将双引号插入到以单引号开头和结尾的字符串中。\n",
    "* 可以将单引号插入以双引号开头和结尾的字符串中。\n",
    "* 不能将双引号插入以双引号开头和结尾的字符串中。\n",
    "* 不能将单引号插入以单引号开头和结尾的字符串中。"
   ]
  },
  {
   "cell_type": "code",
   "execution_count": 166,
   "metadata": {
    "vscode": {
     "languageId": "r"
    }
   },
   "outputs": [
    {
     "name": "stdout",
     "output_type": "stream",
     "text": [
      "[1] \"Start and end with single quote\"\n",
      "[1] \"Start and end with double quotes\"\n",
      "[1] \"single quote ' in between double quotes\"\n",
      "[1] \"Double quotes \\\" in between single quote\"\n"
     ]
    }
   ],
   "source": [
    "a <- 'Start and end with single quote'\n",
    "print(a)\n",
    "\n",
    "b <- \"Start and end with double quotes\"\n",
    "print(b)\n",
    "\n",
    "c <- \"single quote ' in between double quotes\"\n",
    "print(c)\n",
    "\n",
    "d <- 'Double quotes \" in between single quote'\n",
    "print(d)"
   ]
  },
  {
   "cell_type": "markdown",
   "metadata": {},
   "source": [
    "## 连接字符串"
   ]
  },
  {
   "cell_type": "markdown",
   "metadata": {},
   "source": [
    "R 中的许多字符串都使用 paste（）函数进行组合。可以将任意数量的参数组合在一起。\n",
    "\n",
    "```r\n",
    "paste(..., sep = \" \", collapse = NULL)\n",
    "```\n",
    "\n",
    "* ...表示要组合的任意数量的参数。\n",
    "* sep 表示参数之间的任何分隔符。它是可选的。\n",
    "* collapse 用于消除两个字符串之间的空间。但不是一个字符串的两个单词内的空格。"
   ]
  },
  {
   "cell_type": "code",
   "execution_count": 171,
   "metadata": {
    "vscode": {
     "languageId": "r"
    }
   },
   "outputs": [
    {
     "name": "stdout",
     "output_type": "stream",
     "text": [
      "[1] \"Hello How are you? \"\n",
      "[1] \"Hello-How-are you? \"\n"
     ]
    }
   ],
   "source": [
    "a <- \"Hello\"\n",
    "b <- 'How'\n",
    "c <- \"are you? \"\n",
    "\n",
    "print(paste(a,b,c))\n",
    "\n",
    "print(paste(a,b,c, sep = \"-\"))"
   ]
  },
  {
   "cell_type": "code",
   "execution_count": 174,
   "metadata": {
    "vscode": {
     "languageId": "r"
    }
   },
   "outputs": [
    {
     "name": "stdout",
     "output_type": "stream",
     "text": [
      "[1] \"A-1B-2C-3\"\n",
      "[1] \"A-1+B-2+C-3\"\n"
     ]
    }
   ],
   "source": [
    "# 重点探索一下collapse\n",
    "# 向量成对时，sep是不同向量相同索引之间的间隔，collapse是所有向量相同索引之间的间隔\n",
    "a <- c(\"A\", \"B\", \"C\")\n",
    "b <-  c(1, 2, 3)\n",
    "print(paste(a, b, sep=\"-\", collapse=\"\"))\n",
    "print(paste(a, b, sep=\"-\", collapse=\"+\"))"
   ]
  },
  {
   "cell_type": "markdown",
   "metadata": {},
   "source": [
    "## 格式化数字和字符串"
   ]
  },
  {
   "cell_type": "markdown",
   "metadata": {},
   "source": [
    "可以使用 format（）函数将数字和字符串格式化为特定样式。\n",
    "\n",
    "```r\n",
    "format(x, digits, nsmall, scientific, width, justify = c(\"left\", \"right\", \"centre\", \"none\")) \n",
    "```\n",
    "\n",
    "* x 是向量输入。\n",
    "* digits 是显示的总位数。\n",
    "* nsmall 是小数点右边的最小位数。\n",
    "* scientific 设置为 TRUE 以显示科学计数法。\n",
    "* width 表示在开始时用空格填充要显示的最小宽度。\n",
    "* justify 是字符串在左，右或中心的显示。"
   ]
  },
  {
   "cell_type": "code",
   "execution_count": 175,
   "metadata": {
    "vscode": {
     "languageId": "r"
    }
   },
   "outputs": [
    {
     "name": "stdout",
     "output_type": "stream",
     "text": [
      "[1] \"23.1234568\"\n",
      "[1] \"6.000000e+00\" \"1.314521e+01\"\n",
      "[1] \"23.47000\"\n",
      "[1] \"6\"\n",
      "[1] \"  13.7\"\n",
      "[1] \"Hello   \"\n",
      "[1] \" Hello  \"\n"
     ]
    }
   ],
   "source": [
    "# Total number of digits displayed. Last digit rounded off.\n",
    "result <- format(23.123456789, digits = 9)\n",
    "print(result)\n",
    "\n",
    "# Display numbers in scientific notation.\n",
    "result <- format(c(6, 13.14521), scientific = TRUE)\n",
    "print(result)\n",
    "\n",
    "# The minimum number of digits to the right of the decimal point.\n",
    "result <- format(23.47, nsmall = 5)\n",
    "print(result)\n",
    "\n",
    "# Format treats everything as a string.\n",
    "result <- format(6)\n",
    "print(result)\n",
    "\n",
    "# Numbers are padded with blank in the beginning for width.\n",
    "result <- format(13.7, width = 6)\n",
    "print(result)\n",
    "\n",
    "# Left justify strings.\n",
    "result <- format(\"Hello\", width = 8, justify = \"l\")\n",
    "print(result)\n",
    "\n",
    "# Justfy string with center.\n",
    "result <- format(\"Hello\", width = 8, justify = \"c\")\n",
    "print(result)"
   ]
  },
  {
   "cell_type": "markdown",
   "metadata": {},
   "source": [
    "## 计算字符串中的字符数"
   ]
  },
  {
   "cell_type": "markdown",
   "metadata": {},
   "source": [
    "nchar()计算字符串中包含空格的字符数。"
   ]
  },
  {
   "cell_type": "code",
   "execution_count": 176,
   "metadata": {
    "vscode": {
     "languageId": "r"
    }
   },
   "outputs": [
    {
     "name": "stdout",
     "output_type": "stream",
     "text": [
      "[1] 30\n"
     ]
    }
   ],
   "source": [
    "result <- nchar(\"Count the number of characters\")\n",
    "print(result)"
   ]
  },
  {
   "cell_type": "markdown",
   "metadata": {},
   "source": [
    "## 更改大小写"
   ]
  },
  {
   "cell_type": "code",
   "execution_count": 177,
   "metadata": {
    "vscode": {
     "languageId": "r"
    }
   },
   "outputs": [
    {
     "name": "stdout",
     "output_type": "stream",
     "text": [
      "[1] \"CHANGING TO UPPER\"\n",
      "[1] \"changing to lower\"\n"
     ]
    }
   ],
   "source": [
    "# Changing to Upper case.\n",
    "result <- toupper(\"Changing To Upper\")\n",
    "print(result)\n",
    "\n",
    "# Changing to lower case.\n",
    "result <- tolower(\"Changing To Lower\")\n",
    "print(result)"
   ]
  },
  {
   "cell_type": "markdown",
   "metadata": {},
   "source": [
    "## 提取字符串的一部分"
   ]
  },
  {
   "cell_type": "markdown",
   "metadata": {},
   "source": [
    "substring()提取字符串的一部分。\n",
    "\n",
    "```r\n",
    "substring(x,first,last)\n",
    "```\n",
    "\n",
    "* x 是字符向量输入。\n",
    "* first 是要提取的第一个字符的位置。\n",
    "* last 是要提取的最后一个字符的位置。"
   ]
  },
  {
   "cell_type": "code",
   "execution_count": 178,
   "metadata": {
    "vscode": {
     "languageId": "r"
    }
   },
   "outputs": [
    {
     "name": "stdout",
     "output_type": "stream",
     "text": [
      "[1] \"act\"\n"
     ]
    }
   ],
   "source": [
    "# Extract characters from 5th to 7th position.\n",
    "result <- substring(\"Extract\", 5, 7)\n",
    "print(result)"
   ]
  },
  {
   "cell_type": "markdown",
   "metadata": {},
   "source": [
    "# Vector"
   ]
  },
  {
   "cell_type": "markdown",
   "metadata": {},
   "source": [
    "**向量**是最基本的 R 数据对象，原子向量有六种类型。它们是逻辑，整数，双精度，复数，字符和原始。"
   ]
  },
  {
   "cell_type": "markdown",
   "metadata": {},
   "source": [
    "## 向量创建"
   ]
  },
  {
   "cell_type": "markdown",
   "metadata": {},
   "source": [
    "### 单元素向量"
   ]
  },
  {
   "cell_type": "markdown",
   "metadata": {},
   "source": [
    "即使仅在 R 中写入一个值，它也将成为长度为 1 的向量，并且属于上述向量类型之一。"
   ]
  },
  {
   "cell_type": "code",
   "execution_count": 179,
   "metadata": {
    "vscode": {
     "languageId": "r"
    }
   },
   "outputs": [
    {
     "name": "stdout",
     "output_type": "stream",
     "text": [
      "[1] \"abc\"\n",
      "[1] 12.5\n",
      "[1] 63\n",
      "[1] TRUE\n",
      "[1] 2+3i\n",
      "[1] 68 65 6c 6c 6f\n"
     ]
    }
   ],
   "source": [
    "# Atomic vector of type character.\n",
    "print(\"abc\");\n",
    "\n",
    "# Atomic vector of type double.\n",
    "print(12.5)\n",
    "\n",
    "# Atomic vector of type integer.\n",
    "print(63L)\n",
    "\n",
    "# Atomic vector of type logical.\n",
    "print(TRUE)\n",
    "\n",
    "# Atomic vector of type complex.\n",
    "print(2+3i)\n",
    "\n",
    "# Atomic vector of type raw.\n",
    "print(charToRaw('hello'))"
   ]
  },
  {
   "cell_type": "markdown",
   "metadata": {},
   "source": [
    "### 冒号运算符"
   ]
  },
  {
   "cell_type": "code",
   "execution_count": 180,
   "metadata": {
    "vscode": {
     "languageId": "r"
    }
   },
   "outputs": [
    {
     "name": "stdout",
     "output_type": "stream",
     "text": [
      "[1]  5  6  7  8  9 10 11 12 13\n",
      "[1]  6.6  7.6  8.6  9.6 10.6 11.6 12.6\n",
      "[1]  3.8  4.8  5.8  6.8  7.8  8.8  9.8 10.8\n"
     ]
    }
   ],
   "source": [
    "# Creating a sequence from 5 to 13.\n",
    "v <- 5:13\n",
    "print(v)\n",
    "\n",
    "# Creating a sequence from 6.6 to 12.6.\n",
    "v <- 6.6:12.6\n",
    "print(v)\n",
    "\n",
    "# If the final element specified does not belong to the sequence then it is discarded.\n",
    "v <- 3.8:11.4\n",
    "print(v)"
   ]
  },
  {
   "cell_type": "markdown",
   "metadata": {},
   "source": [
    "### 序列（seq.）运算符"
   ]
  },
  {
   "cell_type": "code",
   "execution_count": 181,
   "metadata": {
    "vscode": {
     "languageId": "r"
    }
   },
   "outputs": [
    {
     "name": "stdout",
     "output_type": "stream",
     "text": [
      " [1] 5.0 5.4 5.8 6.2 6.6 7.0 7.4 7.8 8.2 8.6 9.0\n"
     ]
    }
   ],
   "source": [
    "# Create vector with elements from 5 to 9 incrementing by 0.4. \n",
    "print(seq(5, 9, by = 0.4))"
   ]
  },
  {
   "cell_type": "code",
   "execution_count": 183,
   "metadata": {
    "vscode": {
     "languageId": "r"
    }
   },
   "outputs": [
    {
     "data": {
      "text/plain": [
       " [1] 5.0 5.3 5.6 5.9 6.2 6.5 6.8 7.1 7.4 7.7 8.0 8.3 8.6 8.9"
      ]
     },
     "execution_count": null,
     "metadata": {},
     "output_type": "execute_result"
    }
   ],
   "source": [
    "# 间隔不是by的整数倍也没事\n",
    "seq(5, 9, by=0.3)"
   ]
  },
  {
   "cell_type": "markdown",
   "metadata": {},
   "source": [
    "### c() 函数"
   ]
  },
  {
   "cell_type": "code",
   "execution_count": 184,
   "metadata": {
    "vscode": {
     "languageId": "r"
    }
   },
   "outputs": [
    {
     "name": "stdout",
     "output_type": "stream",
     "text": [
      "[1] \"apple\" \"red\"   \"5\"     \"TRUE\" \n"
     ]
    }
   ],
   "source": [
    "# The logical and numeric values are converted to characters.\n",
    "s <- c('apple','red',5,TRUE)\n",
    "print(s)"
   ]
  },
  {
   "cell_type": "markdown",
   "metadata": {},
   "source": [
    "## 访问向量元素"
   ]
  },
  {
   "cell_type": "markdown",
   "metadata": {},
   "source": [
    "向量的元素可使用索引访问。的括号[]被用于索引。索引从位置 1 开始。如果索引中的值为负，则该元素将从结果中删除。TRUE，FALSE 或 0 和 1 也可以用于索引。"
   ]
  },
  {
   "cell_type": "code",
   "execution_count": 185,
   "metadata": {
    "vscode": {
     "languageId": "r"
    }
   },
   "outputs": [
    {
     "name": "stdout",
     "output_type": "stream",
     "text": [
      "[1] \"Mon\" \"Tue\" \"Fri\"\n",
      "[1] \"Sun\" \"Fri\"\n",
      "[1] \"Sun\" \"Tue\" \"Wed\" \"Fri\" \"Sat\"\n",
      "[1] \"Sun\"\n"
     ]
    }
   ],
   "source": [
    "# Accessing vector elements using position.\n",
    "t <- c(\"Sun\",\"Mon\",\"Tue\",\"Wed\",\"Thurs\",\"Fri\",\"Sat\")\n",
    "u <- t[c(2,3,6)]\n",
    "print(u)\n",
    "\n",
    "# Accessing vector elements using logical indexing.\n",
    "v <- t[c(TRUE,FALSE,FALSE,FALSE,FALSE,TRUE,FALSE)]\n",
    "print(v)\n",
    "\n",
    "# Accessing vector elements using negative indexing.\n",
    "x <- t[c(-2,-5)]\n",
    "print(x)\n",
    "\n",
    "# Accessing vector elements using 0/1 indexing.\n",
    "y <- t[c(0,0,0,0,0,0,1)]\n",
    "print(y)"
   ]
  },
  {
   "cell_type": "markdown",
   "metadata": {},
   "source": [
    "## 向量操纵"
   ]
  },
  {
   "cell_type": "markdown",
   "metadata": {},
   "source": [
    "### 向量算术"
   ]
  },
  {
   "cell_type": "code",
   "execution_count": 186,
   "metadata": {
    "vscode": {
     "languageId": "r"
    }
   },
   "outputs": [
    {
     "name": "stdout",
     "output_type": "stream",
     "text": [
      "[1]  7 19  4 13  1 13\n",
      "[1] -1 -3  4 -3 -1  9\n",
      "[1] 12 88  0 40  0 22\n",
      "[1] 0.7500000 0.7272727       Inf 0.6250000 0.0000000 5.5000000\n"
     ]
    }
   ],
   "source": [
    "# Create two vectors.\n",
    "v1 <- c(3,8,4,5,0,11)\n",
    "v2 <- c(4,11,0,8,1,2)\n",
    "\n",
    "# Vector addition.\n",
    "add.result <- v1+v2\n",
    "print(add.result)\n",
    "\n",
    "# Vector subtraction.\n",
    "sub.result <- v1-v2\n",
    "print(sub.result)\n",
    "\n",
    "# Vector multiplication.\n",
    "multi.result <- v1*v2\n",
    "print(multi.result)\n",
    "\n",
    "# Vector division.\n",
    "divi.result <- v1/v2\n",
    "print(divi.result)"
   ]
  },
  {
   "cell_type": "markdown",
   "metadata": {},
   "source": [
    "### 向量回收"
   ]
  },
  {
   "cell_type": "markdown",
   "metadata": {},
   "source": [
    "类似于 numpy 的广播机制\n",
    "\n",
    "如果我们对两个不等长的向量应用算术运算，则较短向量的元素将被回收以完成运算。"
   ]
  },
  {
   "cell_type": "code",
   "execution_count": 187,
   "metadata": {
    "vscode": {
     "languageId": "r"
    }
   },
   "outputs": [
    {
     "name": "stdout",
     "output_type": "stream",
     "text": [
      "[1]  7 19  8 16  4 22\n",
      "[1] -1 -3  0 -6 -4  0\n"
     ]
    }
   ],
   "source": [
    "v1 <- c(3,8,4,5,0,11)\n",
    "v2 <- c(4,11)\n",
    "# V2 becomes c(4,11,4,11,4,11)\n",
    "\n",
    "add.result <- v1+v2\n",
    "print(add.result)\n",
    "\n",
    "sub.result <- v1-v2\n",
    "print(sub.result)"
   ]
  },
  {
   "cell_type": "markdown",
   "metadata": {},
   "source": [
    "### 向量元素排序"
   ]
  },
  {
   "cell_type": "code",
   "execution_count": 188,
   "metadata": {
    "vscode": {
     "languageId": "r"
    }
   },
   "outputs": [
    {
     "name": "stdout",
     "output_type": "stream",
     "text": [
      "[1]  -9   0   3   4   5   8  11 304\n",
      "[1] 304  11   8   5   4   3   0  -9\n",
      "[1] \"Blue\"   \"Red\"    \"violet\" \"yellow\"\n",
      "[1] \"yellow\" \"violet\" \"Red\"    \"Blue\"  \n"
     ]
    }
   ],
   "source": [
    "v <- c(3,8,4,5,0,11, -9, 304)\n",
    "\n",
    "# Sort the elements of the vector.\n",
    "sort.result <- sort(v)\n",
    "print(sort.result)\n",
    "\n",
    "# Sort the elements in the reverse order.\n",
    "revsort.result <- sort(v, decreasing = TRUE)\n",
    "print(revsort.result)\n",
    "\n",
    "# Sorting character vectors.\n",
    "v <- c(\"Red\",\"Blue\",\"yellow\",\"violet\")\n",
    "sort.result <- sort(v)\n",
    "print(sort.result)\n",
    "\n",
    "# Sorting character vectors in reverse order.\n",
    "revsort.result <- sort(v, decreasing = TRUE)\n",
    "print(revsort.result)"
   ]
  },
  {
   "cell_type": "markdown",
   "metadata": {},
   "source": [
    "# 矩阵"
   ]
  },
  {
   "cell_type": "markdown",
   "metadata": {},
   "source": [
    "## 矩阵"
   ]
  },
  {
   "cell_type": "markdown",
   "metadata": {},
   "source": [
    "**矩阵**是 R 对象，其中元素以二维矩形布局排列。它们包含相同原子类型的元素。尽管我们可以创建仅包含字符或仅包含逻辑值的矩阵，但是它们的用处不大。我们使用包含数值元素的矩阵进行数学计算。使用 matrix()函数创建一个矩阵。\n",
    "\n",
    "```r\n",
    "matrix(data, nrow, ncol, byrow, dimnames)\n",
    "```\n",
    "\n",
    "* **data** - 是输入向量，它成为矩阵的数据元素。\n",
    "* **nrow** - 是要创建的行数。\n",
    "* **ncol** - 是要创建的列数。\n",
    "* **byrow** - 是合乎逻辑的行。如果为 TRUE，则输入矢量元素按行排列。\n",
    "* **dimname** - 是分配给行和列的名称。"
   ]
  },
  {
   "cell_type": "code",
   "execution_count": 189,
   "metadata": {
    "vscode": {
     "languageId": "r"
    }
   },
   "outputs": [
    {
     "name": "stdout",
     "output_type": "stream",
     "text": [
      "     [,1] [,2] [,3]\n",
      "[1,]    3    4    5\n",
      "[2,]    6    7    8\n",
      "[3,]    9   10   11\n",
      "[4,]   12   13   14\n",
      "     [,1] [,2] [,3]\n",
      "[1,]    3    7   11\n",
      "[2,]    4    8   12\n",
      "[3,]    5    9   13\n",
      "[4,]    6   10   14\n",
      "     col1 col2 col3\n",
      "row1    3    4    5\n",
      "row2    6    7    8\n",
      "row3    9   10   11\n",
      "row4   12   13   14\n"
     ]
    }
   ],
   "source": [
    "# Elements are arranged sequentially by row.\n",
    "M <- matrix(c(3:14), nrow = 4, byrow = TRUE)\n",
    "print(M)\n",
    "\n",
    "# Elements are arranged sequentially by column.\n",
    "N <- matrix(c(3:14), nrow = 4, byrow = FALSE)\n",
    "print(N)\n",
    "\n",
    "# Define the column and row names.\n",
    "rownames = c(\"row1\", \"row2\", \"row3\", \"row4\")\n",
    "colnames = c(\"col1\", \"col2\", \"col3\")\n",
    "\n",
    "P <- matrix(c(3:14), nrow = 4, byrow = TRUE, dimnames = list(rownames, colnames))\n",
    "print(P)"
   ]
  },
  {
   "cell_type": "markdown",
   "metadata": {},
   "source": [
    "## 访问矩阵元素"
   ]
  },
  {
   "cell_type": "markdown",
   "metadata": {},
   "source": [
    "可以通过使用元素的列索引和行索引来访问矩阵的元素。"
   ]
  },
  {
   "cell_type": "code",
   "execution_count": 190,
   "metadata": {
    "vscode": {
     "languageId": "r"
    }
   },
   "outputs": [
    {
     "name": "stdout",
     "output_type": "stream",
     "text": [
      "     col1 col2 col3\n",
      "row1    3    4    5\n",
      "row2    6    7    8\n",
      "row3    9   10   11\n",
      "row4   12   13   14\n",
      "[1] 5\n",
      "[1] 13\n",
      "col1 col2 col3 \n",
      "   6    7    8 \n",
      "row1 row2 row3 row4 \n",
      "   5    8   11   14 \n"
     ]
    }
   ],
   "source": [
    "# Define the column and row names.\n",
    "rownames = c(\"row1\", \"row2\", \"row3\", \"row4\")\n",
    "colnames = c(\"col1\", \"col2\", \"col3\")\n",
    "\n",
    "# Create the matrix.\n",
    "P <- matrix(c(3:14), nrow = 4, byrow = TRUE, dimnames = list(rownames, colnames))\n",
    "\n",
    "print(P)\n",
    "\n",
    "# Access the element at 3rd column and 1st row.\n",
    "print(P[1,3])\n",
    "\n",
    "# Access the element at 2nd column and 4th row.\n",
    "print(P[4,2])\n",
    "\n",
    "# Access only the  2nd row.\n",
    "print(P[2,])\n",
    "\n",
    "# Access only the 3rd column.\n",
    "print(P[,3])"
   ]
  },
  {
   "cell_type": "markdown",
   "metadata": {},
   "source": [
    "## 矩阵计算"
   ]
  },
  {
   "cell_type": "markdown",
   "metadata": {},
   "source": [
    "### 矩阵加减法"
   ]
  },
  {
   "cell_type": "code",
   "execution_count": 191,
   "metadata": {
    "vscode": {
     "languageId": "r"
    }
   },
   "outputs": [
    {
     "name": "stdout",
     "output_type": "stream",
     "text": [
      "     [,1] [,2] [,3]\n",
      "[1,]    3   -1    2\n",
      "[2,]    9    4    6\n",
      "     [,1] [,2] [,3]\n",
      "[1,]    5    0    3\n",
      "[2,]    2    9    4\n",
      "Result of addition \n",
      "     [,1] [,2] [,3]\n",
      "[1,]    8   -1    5\n",
      "[2,]   11   13   10\n",
      "Result of subtraction \n",
      "     [,1] [,2] [,3]\n",
      "[1,]   -2   -1   -1\n",
      "[2,]    7   -5    2\n"
     ]
    }
   ],
   "source": [
    "# Create two 2x3 matrices.\n",
    "matrix1 <- matrix(c(3, 9, -1, 4, 2, 6), nrow = 2)\n",
    "print(matrix1)\n",
    "\n",
    "matrix2 <- matrix(c(5, 2, 0, 9, 3, 4), nrow = 2)\n",
    "print(matrix2)\n",
    "\n",
    "# Add the matrices.\n",
    "result <- matrix1 + matrix2\n",
    "cat(\"Result of addition\",\"\\n\")\n",
    "print(result)\n",
    "\n",
    "# Subtract the matrices\n",
    "result <- matrix1 - matrix2\n",
    "cat(\"Result of subtraction\",\"\\n\")\n",
    "print(result)"
   ]
  },
  {
   "cell_type": "markdown",
   "metadata": {},
   "source": [
    "### 矩阵乘法与减法"
   ]
  },
  {
   "cell_type": "code",
   "execution_count": 193,
   "metadata": {
    "vscode": {
     "languageId": "r"
    }
   },
   "outputs": [
    {
     "name": "stdout",
     "output_type": "stream",
     "text": [
      "     [,1] [,2] [,3]\n",
      "[1,]    3   -1    2\n",
      "[2,]    9    4    6\n",
      "     [,1] [,2] [,3]\n",
      "[1,]    5    0    3\n",
      "[2,]    2    9    4\n",
      "Result of multiplication \n",
      "     [,1] [,2] [,3]\n",
      "[1,]   15    0    6\n",
      "[2,]   18   36   24\n",
      "Result of division \n",
      "     [,1]      [,2]      [,3]\n",
      "[1,]  0.6      -Inf 0.6666667\n",
      "[2,]  4.5 0.4444444 1.5000000\n"
     ]
    }
   ],
   "source": [
    "# Create two 2x3 matrices.\n",
    "matrix1 <- matrix(c(3, 9, -1, 4, 2, 6), nrow = 2)\n",
    "print(matrix1)\n",
    "\n",
    "matrix2 <- matrix(c(5, 2, 0, 9, 3, 4), nrow = 2)\n",
    "print(matrix2)\n",
    "\n",
    "# Multiply the matrices.\n",
    "result <- matrix1 * matrix2\n",
    "cat(\"Result of multiplication\",\"\\n\")\n",
    "print(result)\n",
    "\n",
    "# Divide the matrices\n",
    "result <- matrix1 / matrix2\n",
    "cat(\"Result of division\",\"\\n\")\n",
    "print(result)"
   ]
  },
  {
   "cell_type": "markdown",
   "metadata": {},
   "source": [
    "# 数组"
   ]
  },
  {
   "cell_type": "markdown",
   "metadata": {},
   "source": [
    "## 数组"
   ]
  },
  {
   "cell_type": "markdown",
   "metadata": {},
   "source": [
    "**数组**数组是 R 个数据对象，可以存储二维以上的数据。例如-如果我们创建维度为（2、3、4）的数组，则它将创建 4 个矩形矩阵，每个矩阵有 2 行 3 列。数组只能存储数据类型。使用 array（）函数创建一个数组。它以向量为输入，并使用 dim 参数中的值创建一个数组。"
   ]
  },
  {
   "cell_type": "code",
   "execution_count": 194,
   "metadata": {
    "vscode": {
     "languageId": "r"
    }
   },
   "outputs": [
    {
     "name": "stdout",
     "output_type": "stream",
     "text": [
      ", , 1\n",
      "\n",
      "     [,1] [,2] [,3]\n",
      "[1,]    5    5   10\n",
      "[2,]    9    9   11\n",
      "[3,]    3    3   12\n",
      "\n",
      ", , 2\n",
      "\n",
      "     [,1] [,2] [,3]\n",
      "[1,]   13   10   13\n",
      "[2,]   14   11   14\n",
      "[3,]   15   12   15\n",
      "\n"
     ]
    }
   ],
   "source": [
    "# Create two vectors of different lengths.\n",
    "vector1 <- c(5,9,3, 5,9,3)\n",
    "vector2 <- c(10,11,12,13,14,15, 10,11,12,13,14,15)\n",
    "\n",
    "# Take these vectors as input to the array.\n",
    "result <- array(c(vector1,vector2),dim = c(3,3,2))\n",
    "print(result)"
   ]
  },
  {
   "cell_type": "markdown",
   "metadata": {},
   "source": [
    "## 命名行与列"
   ]
  },
  {
   "cell_type": "markdown",
   "metadata": {},
   "source": [
    "我们可以使用 dimnames 参数为数组中的行，列和矩阵命名。"
   ]
  },
  {
   "cell_type": "code",
   "execution_count": 195,
   "metadata": {
    "vscode": {
     "languageId": "r"
    }
   },
   "outputs": [
    {
     "name": "stdout",
     "output_type": "stream",
     "text": [
      ", , Matrix1\n",
      "\n",
      "     COL1 COL2 COL3\n",
      "ROW1    5   10   13\n",
      "ROW2    9   11   14\n",
      "ROW3    3   12   15\n",
      "\n",
      ", , Matrix2\n",
      "\n",
      "     COL1 COL2 COL3\n",
      "ROW1    5   10   13\n",
      "ROW2    9   11   14\n",
      "ROW3    3   12   15\n",
      "\n"
     ]
    }
   ],
   "source": [
    "# Create two vectors of different lengths.\n",
    "vector1 <- c(5,9,3)\n",
    "vector2 <- c(10,11,12,13,14,15)\n",
    "column.names <- c(\"COL1\",\"COL2\",\"COL3\")\n",
    "row.names <- c(\"ROW1\",\"ROW2\",\"ROW3\")\n",
    "array.names <- c(\"Matrix1\",\"Matrix2\")\n",
    "\n",
    "# Take these vectors as input to the array.\n",
    "result <- array(c(vector1,vector2),dim = c(3,3,2),dimnames = list(row.names,column.names,\n",
    "   array.names))\n",
    "print(result)"
   ]
  },
  {
   "cell_type": "markdown",
   "metadata": {},
   "source": [
    "## 访问数组元素"
   ]
  },
  {
   "cell_type": "code",
   "execution_count": 196,
   "metadata": {
    "vscode": {
     "languageId": "r"
    }
   },
   "outputs": [
    {
     "name": "stdout",
     "output_type": "stream",
     "text": [
      "COL1 COL2 COL3 \n",
      "   3   12   15 \n",
      "[1] 13\n",
      "     COL1 COL2 COL3\n",
      "ROW1    5   10   13\n",
      "ROW2    9   11   14\n",
      "ROW3    3   12   15\n"
     ]
    }
   ],
   "source": [
    "# Create two vectors of different lengths.\n",
    "vector1 <- c(5,9,3)\n",
    "vector2 <- c(10,11,12,13,14,15)\n",
    "column.names <- c(\"COL1\",\"COL2\",\"COL3\")\n",
    "row.names <- c(\"ROW1\",\"ROW2\",\"ROW3\")\n",
    "array.names <- c(\"Matrix1\",\"Matrix2\")\n",
    "\n",
    "# Take these vectors as input to the array.\n",
    "result <- array(c(vector1,vector2),dim = c(3,3,2),dimnames = list(row.names,\n",
    "   column.names, array.names))\n",
    "\n",
    "# Print the third row of the second array of the array.\n",
    "print(result[3,,2])\n",
    "\n",
    "# Print the element in the 1st row and 3rd column of the 1st array.\n",
    "print(result[1,3,1])\n",
    "\n",
    "# Print the 2nd Matrix.\n",
    "print(result[,,2])"
   ]
  },
  {
   "cell_type": "markdown",
   "metadata": {},
   "source": [
    "## 操纵数组元素"
   ]
  },
  {
   "cell_type": "markdown",
   "metadata": {},
   "source": [
    "由于数组是由多维组成的矩阵，因此对数组元素的操作是通过访问矩阵的元素来执行的。"
   ]
  },
  {
   "cell_type": "code",
   "execution_count": 197,
   "metadata": {
    "vscode": {
     "languageId": "r"
    }
   },
   "outputs": [
    {
     "name": "stdout",
     "output_type": "stream",
     "text": [
      "     [,1] [,2] [,3]\n",
      "[1,]   10   20   26\n",
      "[2,]   18   22   28\n",
      "[3,]    6   24   30\n"
     ]
    }
   ],
   "source": [
    "# Create two vectors of different lengths.\n",
    "vector1 <- c(5,9,3)\n",
    "vector2 <- c(10,11,12,13,14,15)\n",
    "\n",
    "# Take these vectors as input to the array.\n",
    "array1 <- array(c(vector1,vector2),dim = c(3,3,2))\n",
    "\n",
    "# Create two vectors of different lengths.\n",
    "vector3 <- c(9,1,0)\n",
    "vector4 <- c(6,0,11,3,14,1,2,6,9)\n",
    "array2 <- array(c(vector1,vector2),dim = c(3,3,2))\n",
    "\n",
    "# create matrices from these arrays.\n",
    "matrix1 <- array1[,,2]\n",
    "matrix2 <- array2[,,2]\n",
    "\n",
    "# Add the matrices.\n",
    "result <- matrix1+matrix2\n",
    "print(result)"
   ]
  },
  {
   "cell_type": "markdown",
   "metadata": {},
   "source": [
    "## 跨数组元素的计算"
   ]
  },
  {
   "cell_type": "markdown",
   "metadata": {},
   "source": [
    "```r\n",
    "apply(x, margin, fun)\n",
    "```\n",
    "\n",
    "* **x** - 是一个数组。\n",
    "* **margin** - 是使用的数据集的名称。\n",
    "* **fun** - 是要应用于数组元素的函数。"
   ]
  },
  {
   "cell_type": "code",
   "execution_count": 198,
   "metadata": {
    "vscode": {
     "languageId": "r"
    }
   },
   "outputs": [
    {
     "data": {
      "text/plain": [
       ", , 1\n",
       "\n",
       "     [,1] [,2] [,3]\n",
       "[1,]    5   10   13\n",
       "[2,]    9   11   14\n",
       "[3,]    3   12   15\n",
       "\n",
       ", , 2\n",
       "\n",
       "     [,1] [,2] [,3]\n",
       "[1,]    5   10   13\n",
       "[2,]    9   11   14\n",
       "[3,]    3   12   15\n"
      ]
     },
     "execution_count": null,
     "metadata": {},
     "output_type": "execute_result"
    }
   ],
   "source": [
    "# Create two vectors of different lengths.\n",
    "vector1 <- c(5,9,3)\n",
    "vector2 <- c(10,11,12,13,14,15)\n",
    "\n",
    "# Take these vectors as input to the array.\n",
    "new.array <- array(c(vector1,vector2),dim = c(3,3,2))\n",
    "\n",
    "new.array"
   ]
  },
  {
   "cell_type": "code",
   "execution_count": 200,
   "metadata": {
    "vscode": {
     "languageId": "r"
    }
   },
   "outputs": [
    {
     "data": {
      "text/plain": [
       "[1] 56 68 60"
      ]
     },
     "execution_count": null,
     "metadata": {},
     "output_type": "execute_result"
    }
   ],
   "source": [
    "# Use apply to calculate the sum of the rows across all the matrices.\n",
    "# 相当于计算每一个矩阵的相同行的和\n",
    "result <- apply(new.array, c(1), sum)\n",
    "result"
   ]
  },
  {
   "cell_type": "code",
   "execution_count": 201,
   "metadata": {
    "vscode": {
     "languageId": "r"
    }
   },
   "outputs": [
    {
     "data": {
      "text/plain": [
       "[1] 34 66 84"
      ]
     },
     "execution_count": null,
     "metadata": {},
     "output_type": "execute_result"
    }
   ],
   "source": [
    "# Use apply to calculate the sum of the rows across all the matrices.\n",
    "# 相当于计算每一个矩阵相同的列\n",
    "result <- apply(new.array, c(2), sum)\n",
    "result"
   ]
  },
  {
   "cell_type": "code",
   "execution_count": 202,
   "metadata": {
    "vscode": {
     "languageId": "r"
    }
   },
   "outputs": [
    {
     "data": {
      "text/plain": [
       "     [,1] [,2] [,3]\n",
       "[1,]   10   20   26\n",
       "[2,]   18   22   28\n",
       "[3,]    6   24   30"
      ]
     },
     "execution_count": null,
     "metadata": {},
     "output_type": "execute_result"
    }
   ],
   "source": [
    "# 相当于每个矩阵相应元素计算\n",
    "result <-  apply(new.array, c(1, 2), sum)\n",
    "result"
   ]
  },
  {
   "cell_type": "markdown",
   "metadata": {},
   "source": [
    "# 列表"
   ]
  },
  {
   "cell_type": "markdown",
   "metadata": {},
   "source": [
    "## 列表"
   ]
  },
  {
   "cell_type": "markdown",
   "metadata": {},
   "source": [
    "列表是 R 对象，其中包含不同类型的元素，例如-数字，字符串，向量和其中的另一个列表。列表还可以包含矩阵或函数作为其元素。列表是使用 list()函数创建的。"
   ]
  },
  {
   "cell_type": "markdown",
   "metadata": {},
   "source": [
    "## 建立列表"
   ]
  },
  {
   "cell_type": "code",
   "execution_count": 203,
   "metadata": {
    "vscode": {
     "languageId": "r"
    }
   },
   "outputs": [
    {
     "name": "stdout",
     "output_type": "stream",
     "text": [
      "[[1]]\n",
      "[1] \"Red\"\n",
      "\n",
      "[[2]]\n",
      "[1] \"Green\"\n",
      "\n",
      "[[3]]\n",
      "[1] 21 32 11\n",
      "\n",
      "[[4]]\n",
      "[1] TRUE\n",
      "\n",
      "[[5]]\n",
      "[1] 51.23\n",
      "\n",
      "[[6]]\n",
      "[1] 119.1\n",
      "\n"
     ]
    }
   ],
   "source": [
    "# Create a list containing strings, numbers, vectors and a logical\n",
    "# values.\n",
    "list_data <- list(\"Red\", \"Green\", c(21,32,11), TRUE, 51.23, 119.1)\n",
    "print(list_data)"
   ]
  },
  {
   "cell_type": "markdown",
   "metadata": {},
   "source": [
    "## 命名列表元素"
   ]
  },
  {
   "cell_type": "markdown",
   "metadata": {},
   "source": [
    "可以为列表元素指定名称，并可以使用这些名称进行访问。"
   ]
  },
  {
   "cell_type": "code",
   "execution_count": 204,
   "metadata": {
    "vscode": {
     "languageId": "r"
    }
   },
   "outputs": [
    {
     "name": "stdout",
     "output_type": "stream",
     "text": [
      "$`1st Quarter`\n",
      "[1] \"Jan\" \"Feb\" \"Mar\"\n",
      "\n",
      "$A_Matrix\n",
      "     [,1] [,2] [,3]\n",
      "[1,]    3    5   -2\n",
      "[2,]    9    1    8\n",
      "\n",
      "$`A Inner list`\n",
      "$`A Inner list`[[1]]\n",
      "[1] \"green\"\n",
      "\n",
      "$`A Inner list`[[2]]\n",
      "[1] 12.3\n",
      "\n",
      "\n"
     ]
    }
   ],
   "source": [
    "# Create a list containing a vector, a matrix and a list.\n",
    "list_data <- list(c(\"Jan\",\"Feb\",\"Mar\"), matrix(c(3,9,5,1,-2,8), nrow = 2),\n",
    "   list(\"green\",12.3))\n",
    "\n",
    "# Give names to the elements in the list.\n",
    "names(list_data) <- c(\"1st Quarter\", \"A_Matrix\", \"A Inner list\")\n",
    "\n",
    "# Show the list.\n",
    "print(list_data)"
   ]
  },
  {
   "cell_type": "markdown",
   "metadata": {},
   "source": [
    "## 访问列表元素"
   ]
  },
  {
   "cell_type": "markdown",
   "metadata": {},
   "source": [
    "列表中的元素可以通过列表中元素的索引进行访问。对于命名列表，也可以使用名称进行访问。"
   ]
  },
  {
   "cell_type": "code",
   "execution_count": 205,
   "metadata": {
    "vscode": {
     "languageId": "r"
    }
   },
   "outputs": [
    {
     "name": "stdout",
     "output_type": "stream",
     "text": [
      "$`1st Quarter`\n",
      "[1] \"Jan\" \"Feb\" \"Mar\"\n",
      "\n",
      "$`A Inner list`\n",
      "$`A Inner list`[[1]]\n",
      "[1] \"green\"\n",
      "\n",
      "$`A Inner list`[[2]]\n",
      "[1] 12.3\n",
      "\n",
      "\n",
      "     [,1] [,2] [,3]\n",
      "[1,]    3    5   -2\n",
      "[2,]    9    1    8\n"
     ]
    }
   ],
   "source": [
    "# Create a list containing a vector, a matrix and a list.\n",
    "list_data <- list(c(\"Jan\",\"Feb\",\"Mar\"), matrix(c(3,9,5,1,-2,8), nrow = 2),\n",
    "   list(\"green\",12.3))\n",
    "\n",
    "# Give names to the elements in the list.\n",
    "names(list_data) <- c(\"1st Quarter\", \"A_Matrix\", \"A Inner list\")\n",
    "\n",
    "# Access the first element of the list.\n",
    "print(list_data[1])\n",
    "\n",
    "# Access the thrid element. As it is also a list, all its elements will be printed.\n",
    "print(list_data[3])\n",
    "\n",
    "# Access the list element using the name of the element.\n",
    "print(list_data$A_Matrix)"
   ]
  },
  {
   "cell_type": "code",
   "execution_count": 212,
   "metadata": {
    "vscode": {
     "languageId": "r"
    }
   },
   "outputs": [
    {
     "name": "stdout",
     "output_type": "stream",
     "text": [
      "[1] \"list\"\n",
      "[1] \"character\"\n",
      "[1] \"list\"\n"
     ]
    }
   ],
   "source": [
    "# 注意到使用[]引用获得的还是列表，用[[]]或者$得到的才是原来的元素\n",
    "print(class(list_data[1]))\n",
    "print(class(list_data[[1]]))\n",
    "print(class(list_data$`A Inner list`))"
   ]
  },
  {
   "cell_type": "markdown",
   "metadata": {},
   "source": [
    "## 操纵列表元素"
   ]
  },
  {
   "cell_type": "code",
   "execution_count": 214,
   "metadata": {
    "vscode": {
     "languageId": "r"
    }
   },
   "outputs": [
    {
     "data": {
      "text/plain": [
       "$`1st Quarter`\n",
       "[1] \"Jan\" \"Feb\" \"Mar\"\n",
       "\n",
       "$A_Matrix\n",
       "     [,1] [,2] [,3]\n",
       "[1,]    3    5   -2\n",
       "[2,]    9    1    8\n",
       "\n",
       "$`A Inner list`\n",
       "$`A Inner list`[[1]]\n",
       "[1] \"green\"\n",
       "\n",
       "$`A Inner list`[[2]]\n",
       "[1] 12.3\n",
       "\n"
      ]
     },
     "execution_count": null,
     "metadata": {},
     "output_type": "execute_result"
    }
   ],
   "source": [
    "# Create a list containing a vector, a matrix and a list.\n",
    "list_data <- list(c(\"Jan\",\"Feb\",\"Mar\"), matrix(c(3,9,5,1,-2,8), nrow = 2),\n",
    "   list(\"green\",12.3))\n",
    "\n",
    "# Give names to the elements in the list.\n",
    "names(list_data) <- c(\"1st Quarter\", \"A_Matrix\", \"A Inner list\")\n",
    "\n",
    "list_data"
   ]
  },
  {
   "cell_type": "code",
   "execution_count": 216,
   "metadata": {
    "vscode": {
     "languageId": "r"
    }
   },
   "outputs": [
    {
     "data": {
      "text/plain": [
       "$`1st Quarter`\n",
       "[1] \"Jan\" \"Feb\" \"Mar\"\n",
       "\n",
       "$A_Matrix\n",
       "     [,1] [,2] [,3]\n",
       "[1,]    3    5   -2\n",
       "[2,]    9    1    8\n",
       "\n",
       "$`A Inner list`\n",
       "$`A Inner list`[[1]]\n",
       "[1] \"green\"\n",
       "\n",
       "$`A Inner list`[[2]]\n",
       "[1] 12.3\n",
       "\n",
       "\n",
       "[[4]]\n",
       "[1] \"Test\"\n"
      ]
     },
     "execution_count": null,
     "metadata": {},
     "output_type": "execute_result"
    }
   ],
   "source": [
    "# 增加元素\n",
    "list_data[4] <- \"Test\"\n",
    "list_data"
   ]
  },
  {
   "cell_type": "code",
   "execution_count": 218,
   "metadata": {
    "vscode": {
     "languageId": "r"
    }
   },
   "outputs": [
    {
     "data": {
      "text/plain": [
       "$`1st Quarter`\n",
       "[1] \"Jan\" \"Feb\" \"Mar\"\n",
       "\n",
       "$A_Matrix\n",
       "     [,1] [,2] [,3]\n",
       "[1,]    3    5   -2\n",
       "[2,]    9    1    8\n",
       "\n",
       "$`A Inner list`\n",
       "$`A Inner list`[[1]]\n",
       "[1] \"green\"\n",
       "\n",
       "$`A Inner list`[[2]]\n",
       "[1] 12.3\n",
       "\n",
       "\n",
       "[[4]]\n",
       "[1] \"Test1\"\n"
      ]
     },
     "execution_count": null,
     "metadata": {},
     "output_type": "execute_result"
    }
   ],
   "source": [
    "# 这里测试了一下，用[]和[[]]的效果是一样的\n",
    "list_data[[4]] <- \"Test1\"\n",
    "list_data"
   ]
  },
  {
   "cell_type": "code",
   "execution_count": 219,
   "metadata": {
    "vscode": {
     "languageId": "r"
    }
   },
   "outputs": [
    {
     "data": {
      "text/plain": [
       "$`1st Quarter`\n",
       "[1] \"Jan\" \"Feb\" \"Mar\"\n",
       "\n",
       "$A_Matrix\n",
       "     [,1] [,2] [,3]\n",
       "[1,]    3    5   -2\n",
       "[2,]    9    1    8\n",
       "\n",
       "$`A Inner list`\n",
       "$`A Inner list`[[1]]\n",
       "[1] \"green\"\n",
       "\n",
       "$`A Inner list`[[2]]\n",
       "[1] 12.3\n",
       "\n"
      ]
     },
     "execution_count": null,
     "metadata": {},
     "output_type": "execute_result"
    }
   ],
   "source": [
    "# 删除元素\n",
    "list_data[4] <- NULL\n",
    "list_data"
   ]
  },
  {
   "cell_type": "markdown",
   "metadata": {},
   "source": [
    "## 合并列表"
   ]
  },
  {
   "cell_type": "markdown",
   "metadata": {},
   "source": [
    "通过将所有列表放在一个 list（）函数中，可以将许多列表合并为一个列表。"
   ]
  },
  {
   "cell_type": "code",
   "execution_count": 220,
   "metadata": {
    "vscode": {
     "languageId": "r"
    }
   },
   "outputs": [
    {
     "name": "stdout",
     "output_type": "stream",
     "text": [
      "[[1]]\n",
      "[1] 1\n",
      "\n",
      "[[2]]\n",
      "[1] 2\n",
      "\n",
      "[[3]]\n",
      "[1] 3\n",
      "\n",
      "[[4]]\n",
      "[1] \"Sun\"\n",
      "\n",
      "[[5]]\n",
      "[1] \"Mon\"\n",
      "\n",
      "[[6]]\n",
      "[1] \"Tue\"\n",
      "\n"
     ]
    }
   ],
   "source": [
    "# Create two lists.\n",
    "list1 <- list(1,2,3)\n",
    "list2 <- list(\"Sun\",\"Mon\",\"Tue\")\n",
    "\n",
    "# Merge the two lists.\n",
    "merged.list <- c(list1,list2)\n",
    "\n",
    "# Print the merged list.\n",
    "print(merged.list)"
   ]
  },
  {
   "cell_type": "markdown",
   "metadata": {},
   "source": [
    "## 将列表转化为向量"
   ]
  },
  {
   "cell_type": "markdown",
   "metadata": {},
   "source": [
    "列表可以转换为向量，以便向量的元素可以用于进一步的操作。将列表转换为向量后，即可对向量执行**所有算术运算**。要进行此转换，我们使用 unlist()函数。它以列表作为输入并产生向量。"
   ]
  },
  {
   "cell_type": "code",
   "execution_count": 221,
   "metadata": {
    "vscode": {
     "languageId": "r"
    }
   },
   "outputs": [
    {
     "name": "stdout",
     "output_type": "stream",
     "text": [
      "[[1]]\n",
      "[1] 1 2 3 4 5\n",
      "\n",
      "[[1]]\n",
      "[1] 10 11 12 13 14\n",
      "\n",
      "[1] 1 2 3 4 5\n",
      "[1] 10 11 12 13 14\n",
      "[1] 11 13 15 17 19\n"
     ]
    }
   ],
   "source": [
    "# Create lists.\n",
    "list1 <- list(1:5)\n",
    "print(list1)\n",
    "\n",
    "list2 <-list(10:14)\n",
    "print(list2)\n",
    "\n",
    "# Convert the lists to vectors.\n",
    "v1 <- unlist(list1)\n",
    "v2 <- unlist(list2)\n",
    "\n",
    "print(v1)\n",
    "print(v2)\n",
    "\n",
    "# Now add the vectors\n",
    "result <- v1+v2\n",
    "print(result)"
   ]
  },
  {
   "cell_type": "markdown",
   "metadata": {},
   "source": [
    "# 因子"
   ]
  },
  {
   "cell_type": "markdown",
   "metadata": {},
   "source": [
    "**因子**是用于对数据进行分类并将其存储为级别的数据对象。它们可以存储字符串和整数。它们在唯一值数量有限的列中很有用。像“男”，“女”和“真”，“假”等。"
   ]
  },
  {
   "cell_type": "markdown",
   "metadata": {},
   "source": [
    "## DataFrame 中的因子"
   ]
  },
  {
   "cell_type": "code",
   "execution_count": 9,
   "metadata": {
    "vscode": {
     "languageId": "r"
    }
   },
   "outputs": [
    {
     "name": "stdout",
     "output_type": "stream",
     "text": [
      "  height weight gender\n",
      "1    132     48   male\n",
      "2    151     49   male\n",
      "3    162     66 female\n",
      "4    139     53 female\n",
      "5    166     67   male\n",
      "6    147     52 female\n",
      "7    122     40   male\n",
      "[1] FALSE\n",
      "[1] \"male\"   \"male\"   \"female\" \"female\" \"male\"   \"female\" \"male\"  \n"
     ]
    }
   ],
   "source": [
    "# Create the vectors for data frame.\n",
    "height <- c(132,151,162,139,166,147,122)\n",
    "weight <- c(48,49,66,53,67,52,40)\n",
    "gender <- c(\"male\",\"male\",\"female\",\"female\",\"male\",\"female\",\"male\")\n",
    "\n",
    "# Create the data frame.\n",
    "input_data <- data.frame(height,weight,gender)\n",
    "print(input_data)\n",
    "\n",
    "# Test if the gender column is a factor.\n",
    "print(is.factor(input_data$gender))\n",
    "\n",
    "# Print the gender column so see the levels.\n",
    "print(input_data$gender)"
   ]
  },
  {
   "cell_type": "code",
   "execution_count": 4,
   "metadata": {
    "vscode": {
     "languageId": "r"
    }
   },
   "outputs": [
    {
     "name": "stdout",
     "output_type": "stream",
     "text": [
      "  height\n",
      "1    132\n",
      "2    151\n",
      "3    162\n",
      "4    139\n",
      "5    166\n",
      "6    147\n",
      "7    122\n",
      "[1] \"data.frame\"\n"
     ]
    }
   ],
   "source": [
    "print(input_data[1])\n",
    "print(class(input_data[1]))"
   ]
  },
  {
   "cell_type": "code",
   "execution_count": 5,
   "metadata": {
    "vscode": {
     "languageId": "r"
    }
   },
   "outputs": [
    {
     "name": "stdout",
     "output_type": "stream",
     "text": [
      "[1] 132 151 162 139 166 147 122\n",
      "[1] \"numeric\"\n"
     ]
    }
   ],
   "source": [
    "print(input_data[[1]])\n",
    "print(class(input_data[[1]]))"
   ]
  },
  {
   "cell_type": "markdown",
   "metadata": {},
   "source": [
    "## 更改级别顺序"
   ]
  },
  {
   "cell_type": "markdown",
   "metadata": {},
   "source": [
    "可以通过以新的级别顺序再次应用因子函数来更改因子中级别的顺序。"
   ]
  },
  {
   "cell_type": "code",
   "execution_count": 10,
   "metadata": {
    "vscode": {
     "languageId": "r"
    }
   },
   "outputs": [
    {
     "name": "stdout",
     "output_type": "stream",
     "text": [
      " [1] East  West  East  North North East  West  West  West  East  North\n",
      "Levels: East North West\n",
      " [1] East  West  East  North North East  West  West  West  East  North\n",
      "Levels: East West North\n"
     ]
    }
   ],
   "source": [
    "data <- c(\"East\",\"West\",\"East\",\"North\",\"North\",\"East\",\"West\",\n",
    "   \"West\",\"West\",\"East\",\"North\")\n",
    "# Create the factors\n",
    "factor_data <- factor(data)\n",
    "print(factor_data)\n",
    "\n",
    "# Apply the factor function with required order of the level.\n",
    "new_order_data <- factor(factor_data,levels = c(\"East\",\"West\",\"North\"))\n",
    "print(new_order_data)"
   ]
  },
  {
   "cell_type": "markdown",
   "metadata": {},
   "source": [
    "## 产生因子水平"
   ]
  },
  {
   "cell_type": "markdown",
   "metadata": {},
   "source": [
    "我们可以使用 **gl()** 函数生成因子水平。它以两个整数作为输入，指示每个级别多少个级别和多少次。\n",
    "\n",
    "```r\n",
    "gl(n, k, labels)\n",
    "```\n",
    "\n",
    "* **n** - 是给出级别数的整数。\n",
    "* **k** - 是给出复制次数的整数。\n",
    "* **labels** - 是结果因子水平的标签向量。"
   ]
  },
  {
   "cell_type": "code",
   "execution_count": 2,
   "metadata": {
    "vscode": {
     "languageId": "r"
    }
   },
   "outputs": [
    {
     "data": {
      "text/plain": [
       " [1] bad    bad    bad    bad    medium medium medium medium good   good   good   good  \n",
       "Levels: bad medium good"
      ]
     },
     "execution_count": null,
     "metadata": {},
     "output_type": "execute_result"
    }
   ],
   "source": [
    "fac <-  gl(3, 4, labels=c('bad', 'medium', 'good'))\n",
    "fac"
   ]
  },
  {
   "cell_type": "markdown",
   "metadata": {},
   "source": [
    "# DataFrame"
   ]
  },
  {
   "cell_type": "markdown",
   "metadata": {},
   "source": [
    "## DataFrame"
   ]
  },
  {
   "cell_type": "markdown",
   "metadata": {},
   "source": [
    "DataFrame 是表或二维数组状结构，其中每一列包含一个变量的值，每一行包含来自每一列的一组值。\n",
    "\n",
    "* 列名应为非空。\n",
    "* 行名应该是唯一的。\n",
    "* 存储在数据帧中的数据可以是数字，因子或字符类型。\n",
    "* 每列应包含相同数量的数据项。"
   ]
  },
  {
   "cell_type": "markdown",
   "metadata": {},
   "source": [
    "## 创建 DataFrame"
   ]
  },
  {
   "cell_type": "code",
   "execution_count": 3,
   "metadata": {
    "vscode": {
     "languageId": "r"
    }
   },
   "outputs": [
    {
     "name": "stdout",
     "output_type": "stream",
     "text": [
      "  emp_id emp_name salary start_date\n",
      "1      1     Rick 623.30 2019-01-01\n",
      "2      2      Dan 515.20 2020-09-23\n",
      "3      3 Michelle 611.00 2014-11-15\n",
      "4      4     Ryan 729.00 2014-05-11\n",
      "5      5     Gary 843.25 2015-03-27\n"
     ]
    }
   ],
   "source": [
    "# Create the data frame.\n",
    "emp.data <- data.frame(\n",
    "  emp_id = c (1:5), \n",
    "  emp_name = c(\"Rick\",\"Dan\",\"Michelle\",\"Ryan\",\"Gary\"),\n",
    "  salary = c(623.3,515.2,611.0,729.0,843.25), \n",
    "  \n",
    "  start_date = as.Date(c(\"2019-01-01\", \"2020-09-23\", \"2014-11-15\", \"2014-05-11\",\n",
    "     \"2015-03-27\")),\n",
    "  stringsAsFactors = FALSE\n",
    ")\n",
    "# Print the data frame.               \n",
    "print(emp.data) "
   ]
  },
  {
   "cell_type": "markdown",
   "metadata": {},
   "source": [
    "## 获取 DataFrame 结构"
   ]
  },
  {
   "cell_type": "markdown",
   "metadata": {},
   "source": [
    "通过使用 str（）函数可以看到 DataFrame 的结构。"
   ]
  },
  {
   "cell_type": "code",
   "execution_count": 4,
   "metadata": {
    "vscode": {
     "languageId": "r"
    }
   },
   "outputs": [
    {
     "name": "stdout",
     "output_type": "stream",
     "text": [
      "'data.frame':\t5 obs. of  4 variables:\n",
      " $ emp_id    : int  1 2 3 4 5\n",
      " $ emp_name  : chr  \"Rick\" \"Dan\" \"Michelle\" \"Ryan\" ...\n",
      " $ salary    : num  623 515 611 729 843\n",
      " $ start_date: Date, format: \"2019-01-01\" \"2020-09-23\" \"2014-11-15\" \"2014-05-11\" ...\n"
     ]
    }
   ],
   "source": [
    "# Create the data frame.\n",
    "emp.data <- data.frame(\n",
    "  emp_id = c (1:5), \n",
    "  emp_name = c(\"Rick\",\"Dan\",\"Michelle\",\"Ryan\",\"Gary\"),\n",
    "  salary = c(623.3,515.2,611.0,729.0,843.25), \n",
    "  \n",
    "  start_date = as.Date(c(\"2019-01-01\", \"2020-09-23\", \"2014-11-15\", \"2014-05-11\",\n",
    "     \"2015-03-27\")),\n",
    "  stringsAsFactors = FALSE\n",
    ")\n",
    "# Get the structure of the data frame.\n",
    "str(emp.data)"
   ]
  },
  {
   "cell_type": "markdown",
   "metadata": {},
   "source": [
    "## 数据摘要"
   ]
  },
  {
   "cell_type": "markdown",
   "metadata": {},
   "source": [
    "统计摘要和数据性质可以通过应用 summary（）函数获得。"
   ]
  },
  {
   "cell_type": "code",
   "execution_count": 5,
   "metadata": {
    "vscode": {
     "languageId": "r"
    }
   },
   "outputs": [
    {
     "name": "stdout",
     "output_type": "stream",
     "text": [
      "     emp_id    emp_name             salary        start_date        \n",
      " Min.   :1   Length:5           Min.   :515.2   Min.   :2014-05-11  \n",
      " 1st Qu.:2   Class :character   1st Qu.:611.0   1st Qu.:2014-11-15  \n",
      " Median :3   Mode  :character   Median :623.3   Median :2015-03-27  \n",
      " Mean   :3                      Mean   :664.4   Mean   :2016-11-02  \n",
      " 3rd Qu.:4                      3rd Qu.:729.0   3rd Qu.:2019-01-01  \n",
      " Max.   :5                      Max.   :843.2   Max.   :2020-09-23  \n"
     ]
    }
   ],
   "source": [
    "# Create the data frame.\n",
    "emp.data <- data.frame(\n",
    "  emp_id = c (1:5), \n",
    "  emp_name = c(\"Rick\",\"Dan\",\"Michelle\",\"Ryan\",\"Gary\"),\n",
    "  salary = c(623.3,515.2,611.0,729.0,843.25), \n",
    "  \n",
    "  start_date = as.Date(c(\"2019-01-01\", \"2020-09-23\", \"2014-11-15\", \"2014-05-11\",\n",
    "     \"2015-03-27\")),\n",
    "  stringsAsFactors = FALSE\n",
    ")\n",
    "# Print the summary.\n",
    "print(summary(emp.data))"
   ]
  },
  {
   "cell_type": "markdown",
   "metadata": {},
   "source": [
    "## 从 DataFrame 中提取数据"
   ]
  },
  {
   "cell_type": "markdown",
   "metadata": {},
   "source": [
    "使用列名从数据帧中提取特定的列。"
   ]
  },
  {
   "cell_type": "code",
   "execution_count": 6,
   "metadata": {
    "vscode": {
     "languageId": "r"
    }
   },
   "outputs": [
    {
     "name": "stdout",
     "output_type": "stream",
     "text": [
      "  emp.data.emp_name emp.data.salary\n",
      "1              Rick          623.30\n",
      "2               Dan          515.20\n",
      "3          Michelle          611.00\n",
      "4              Ryan          729.00\n",
      "5              Gary          843.25\n"
     ]
    }
   ],
   "source": [
    "# Create the data frame.\n",
    "emp.data <- data.frame(\n",
    "  emp_id = c (1:5),\n",
    "  emp_name = c(\"Rick\",\"Dan\",\"Michelle\",\"Ryan\",\"Gary\"),\n",
    "  salary = c(623.3,515.2,611.0,729.0,843.25),\n",
    "  \n",
    "  start_date = as.Date(c(\"2019-01-01\",\"2020-09-23\",\"2014-11-15\",\"2014-05-11\",\n",
    "     \"2015-03-27\")),\n",
    "  stringsAsFactors = FALSE\n",
    ")\n",
    "# Extract Specific columns.\n",
    "result <- data.frame(emp.data$emp_name,emp.data$salary)\n",
    "print(result)"
   ]
  },
  {
   "cell_type": "markdown",
   "metadata": {},
   "source": [
    "提取前两行，然后提取所有列"
   ]
  },
  {
   "cell_type": "code",
   "execution_count": 7,
   "metadata": {
    "vscode": {
     "languageId": "r"
    }
   },
   "outputs": [
    {
     "name": "stdout",
     "output_type": "stream",
     "text": [
      "  emp_id emp_name salary start_date\n",
      "1      1     Rick  623.3 2019-01-01\n",
      "2      2      Dan  515.2 2020-09-23\n"
     ]
    }
   ],
   "source": [
    "# Create the data frame.\n",
    "emp.data <- data.frame(\n",
    "  emp_id = c (1:5),\n",
    "  emp_name = c(\"Rick\",\"Dan\",\"Michelle\",\"Ryan\",\"Gary\"),\n",
    "  salary = c(623.3,515.2,611.0,729.0,843.25),\n",
    "  \n",
    "  start_date = as.Date(c(\"2019-01-01\", \"2020-09-23\", \"2014-11-15\", \"2014-05-11\",\n",
    "     \"2015-03-27\")),\n",
    "  stringsAsFactors = FALSE\n",
    ")\n",
    "# Extract first two rows.\n",
    "result <- emp.data[1:2,]\n",
    "print(result)"
   ]
  },
  {
   "cell_type": "markdown",
   "metadata": {},
   "source": [
    "提取 3 和 5 行与 2 和 4 列"
   ]
  },
  {
   "cell_type": "code",
   "execution_count": 8,
   "metadata": {
    "vscode": {
     "languageId": "r"
    }
   },
   "outputs": [
    {
     "name": "stdout",
     "output_type": "stream",
     "text": [
      "  emp_name start_date\n",
      "3 Michelle 2014-11-15\n",
      "5     Gary 2015-03-27\n"
     ]
    }
   ],
   "source": [
    "# Create the data frame.\n",
    "emp.data <- data.frame(\n",
    "  emp_id = c (1:5), \n",
    "  emp_name = c(\"Rick\",\"Dan\",\"Michelle\",\"Ryan\",\"Gary\"),\n",
    "  salary = c(623.3,515.2,611.0,729.0,843.25), \n",
    "  \n",
    "       start_date = as.Date(c(\"2019-01-01\", \"2020-09-23\", \"2014-11-15\", \"2014-05-11\",\n",
    "     \"2015-03-27\")),\n",
    "  stringsAsFactors = FALSE\n",
    ")\n",
    "\n",
    "# Extract 3rd and 5th row with 2nd and 4th column.\n",
    "result <- emp.data[c(3,5),c(2,4)]\n",
    "print(result)"
   ]
  },
  {
   "cell_type": "markdown",
   "metadata": {},
   "source": [
    "## 拓展 DataFrame"
   ]
  },
  {
   "cell_type": "markdown",
   "metadata": {},
   "source": [
    "**添加列**\n",
    "\n",
    "只需使用新的列名添加列向量即可。"
   ]
  },
  {
   "cell_type": "code",
   "execution_count": 9,
   "metadata": {
    "vscode": {
     "languageId": "r"
    }
   },
   "outputs": [
    {
     "name": "stdout",
     "output_type": "stream",
     "text": [
      "  emp_id emp_name salary start_date       dept\n",
      "1      1     Rick 623.30 2019-01-01         IT\n",
      "2      2      Dan 515.20 2020-09-23 Operations\n",
      "3      3 Michelle 611.00 2014-11-15         IT\n",
      "4      4     Ryan 729.00 2014-05-11         HR\n",
      "5      5     Gary 843.25 2015-03-27    Finance\n"
     ]
    }
   ],
   "source": [
    "# Create the data frame.\n",
    "emp.data <- data.frame(\n",
    "  emp_id = c (1:5), \n",
    "  emp_name = c(\"Rick\",\"Dan\",\"Michelle\",\"Ryan\",\"Gary\"),\n",
    "  salary = c(623.3,515.2,611.0,729.0,843.25), \n",
    "  \n",
    "  start_date = as.Date(c(\"2019-01-01\", \"2020-09-23\", \"2014-11-15\", \"2014-05-11\",\n",
    "     \"2015-03-27\")),\n",
    "  stringsAsFactors = FALSE\n",
    ")\n",
    "\n",
    "# Add the \"dept\" coulmn.\n",
    "emp.data$dept <- c(\"IT\",\"Operations\",\"IT\",\"HR\",\"Finance\")\n",
    "v <- emp.data\n",
    "print(v)"
   ]
  },
  {
   "cell_type": "code",
   "execution_count": 10,
   "metadata": {
    "vscode": {
     "languageId": "r"
    }
   },
   "outputs": [
    {
     "data": {
      "text/plain": [
       "  emp_id emp_name salary start_date       dept yuanshen\n",
       "1      1     Rick 623.30 2019-01-01         IT        1\n",
       "2      2      Dan 515.20 2020-09-23 Operations        2\n",
       "3      3 Michelle 611.00 2014-11-15         IT        3\n",
       "4      4     Ryan 729.00 2014-05-11         HR        4\n",
       "5      5     Gary 843.25 2015-03-27    Finance        5"
      ]
     },
     "execution_count": null,
     "metadata": {},
     "output_type": "execute_result"
    }
   ],
   "source": [
    "emp.data$yuanshen <-  1:5\n",
    "emp.data"
   ]
  },
  {
   "cell_type": "markdown",
   "metadata": {},
   "source": [
    "**添加行**\n",
    "\n",
    "要将更多行永久添加到现有数据帧，我们需要以与现有数据帧相同的结构引入新行，并使用 rbind（）函数。在下面的示例中，我们使用新行创建一个数据帧，并将其与现有数据帧合并以创建最终数据帧。"
   ]
  },
  {
   "cell_type": "code",
   "execution_count": 11,
   "metadata": {
    "vscode": {
     "languageId": "r"
    }
   },
   "outputs": [
    {
     "data": {
      "text/plain": [
       "  emp_id emp_name salary start_date       dept\n",
       "1      1     Rick 623.30 2019-01-01         IT\n",
       "2      2      Dan 515.20 2020-09-23 Operations\n",
       "3      3 Michelle 611.00 2014-11-15         IT\n",
       "4      4     Ryan 729.00 2014-05-11         HR\n",
       "5      5     Gary 843.25 2015-03-27    Finance"
      ]
     },
     "execution_count": null,
     "metadata": {},
     "output_type": "execute_result"
    }
   ],
   "source": [
    "# Create the first data frame.\n",
    "emp.data <- data.frame(\n",
    "  emp_id = c (1:5), \n",
    "  emp_name = c(\"Rick\",\"Dan\",\"Michelle\",\"Ryan\",\"Gary\"),\n",
    "  salary = c(623.3,515.2,611.0,729.0,843.25), \n",
    "  \n",
    "  start_date = as.Date(c(\"2019-01-01\", \"2020-09-23\", \"2014-11-15\", \"2014-05-11\",\n",
    "     \"2015-03-27\")),\n",
    "  dept = c(\"IT\",\"Operations\",\"IT\",\"HR\",\"Finance\"),\n",
    "  stringsAsFactors = FALSE\n",
    ")\n",
    "\n",
    "emp.data"
   ]
  },
  {
   "cell_type": "code",
   "execution_count": 12,
   "metadata": {
    "vscode": {
     "languageId": "r"
    }
   },
   "outputs": [
    {
     "data": {
      "text/plain": [
       "  emp_id emp_name salary start_date       dept\n",
       "1      6    Rasmi  578.0 2020-05-21         IT\n",
       "2      7   Pranab  722.5 2020-07-30 Operations\n",
       "3      8    Tusar  632.8 2014-06-17   Fianance"
      ]
     },
     "execution_count": null,
     "metadata": {},
     "output_type": "execute_result"
    }
   ],
   "source": [
    "# Create the second data frame\n",
    "emp.newdata <-       data.frame(\n",
    "  emp_id = c (6:8), \n",
    "  emp_name = c(\"Rasmi\",\"Pranab\",\"Tusar\"),\n",
    "  salary = c(578.0,722.5,632.8), \n",
    "  start_date = as.Date(c(\"2020-05-21\",\"2020-07-30\",\"2014-06-17\")),\n",
    "  dept = c(\"IT\",\"Operations\",\"Fianance\"),\n",
    "  stringsAsFactors = FALSE\n",
    ")\n",
    "emp.newdata"
   ]
  },
  {
   "cell_type": "code",
   "execution_count": 13,
   "metadata": {
    "vscode": {
     "languageId": "r"
    }
   },
   "outputs": [
    {
     "name": "stdout",
     "output_type": "stream",
     "text": [
      "  emp_id emp_name salary start_date       dept\n",
      "1      1     Rick 623.30 2019-01-01         IT\n",
      "2      2      Dan 515.20 2020-09-23 Operations\n",
      "3      3 Michelle 611.00 2014-11-15         IT\n",
      "4      4     Ryan 729.00 2014-05-11         HR\n",
      "5      5     Gary 843.25 2015-03-27    Finance\n",
      "6      6    Rasmi 578.00 2020-05-21         IT\n",
      "7      7   Pranab 722.50 2020-07-30 Operations\n",
      "8      8    Tusar 632.80 2014-06-17   Fianance\n"
     ]
    }
   ],
   "source": [
    "# Bind the two data frames.\n",
    "emp.finaldata <- rbind(emp.data,emp.newdata)\n",
    "print(emp.finaldata)"
   ]
  },
  {
   "cell_type": "markdown",
   "metadata": {},
   "source": [
    "# 数据重塑"
   ]
  },
  {
   "cell_type": "markdown",
   "metadata": {},
   "source": [
    "**数据重塑**是关于改变数据组织成行和列的方式。大多数时候，R 中的数据处理都是通过将输入数据作为 DataFrame 来完成的。从 DataFrame 的行和列中提取数据很容易，但是在某些情况下，我们需要的 DataFrame 格式与接收数据的格式不同。R 具有许多功能，可将 DataFrame 中的行拆分，合并和更改为列，反之亦然。"
   ]
  },
  {
   "cell_type": "markdown",
   "metadata": {},
   "source": [
    "## 连接 DataFrame 的行与列"
   ]
  },
  {
   "cell_type": "markdown",
   "metadata": {},
   "source": [
    "可以使用 cbind（）函数将多个向量连接起来以创建数据帧。\n",
    "\n",
    "使用 rbind（）函数合并两个数据帧。"
   ]
  },
  {
   "cell_type": "code",
   "execution_count": 14,
   "metadata": {
    "vscode": {
     "languageId": "r"
    }
   },
   "outputs": [
    {
     "name": "stdout",
     "output_type": "stream",
     "text": [
      "# # # # The First data frame\n",
      "     city       state zipcode\n",
      "[1,] \"Tampa\"    \"FL\"  \"33602\"\n",
      "[2,] \"Seattle\"  \"WA\"  \"98104\"\n",
      "[3,] \"Hartford\" \"CT\"  \"6161\" \n",
      "[4,] \"Denver\"   \"CO\"  \"80294\"\n"
     ]
    }
   ],
   "source": [
    "# Create vector objects.\n",
    "city <- c(\"Tampa\",\"Seattle\",\"Hartford\",\"Denver\")\n",
    "state <- c(\"FL\",\"WA\",\"CT\",\"CO\")\n",
    "zipcode <- c(33602,98104,06161,80294)\n",
    "\n",
    "# Combine above three vectors into one data frame.\n",
    "addresses <- cbind(city,state,zipcode)\n",
    "\n",
    "# Print a header.\n",
    "cat(\"# # # # The First data frame\\n\") \n",
    "\n",
    "# Print the data frame.\n",
    "print(addresses)"
   ]
  },
  {
   "cell_type": "code",
   "execution_count": 16,
   "metadata": {
    "vscode": {
     "languageId": "r"
    }
   },
   "outputs": [
    {
     "name": "stdout",
     "output_type": "stream",
     "text": [
      "# # # The Second data frame\n",
      "       city state zipcode\n",
      "1     Lowry    CO   80230\n",
      "2 Charlotte    FL   33949\n"
     ]
    }
   ],
   "source": [
    "# Create another data frame with similar columns\n",
    "new.address <- data.frame(\n",
    "  city = c(\"Lowry\",\"Charlotte\"),\n",
    "  state = c(\"CO\",\"FL\"),\n",
    "  zipcode = c(\"80230\",\"33949\"),\n",
    "  stringsAsFactors = FALSE\n",
    ")\n",
    "\n",
    "# Print a header.\n",
    "cat(\"# # # The Second data frame\\n\") \n",
    "\n",
    "# Print the data frame.\n",
    "print(new.address)"
   ]
  },
  {
   "cell_type": "code",
   "execution_count": 17,
   "metadata": {
    "vscode": {
     "languageId": "r"
    }
   },
   "outputs": [
    {
     "name": "stdout",
     "output_type": "stream",
     "text": [
      "# # # The combined data frame\n",
      "       city state zipcode\n",
      "1     Tampa    FL   33602\n",
      "2   Seattle    WA   98104\n",
      "3  Hartford    CT    6161\n",
      "4    Denver    CO   80294\n",
      "5     Lowry    CO   80230\n",
      "6 Charlotte    FL   33949\n"
     ]
    }
   ],
   "source": [
    "# Combine rows form both the data frames.\n",
    "all.addresses <- rbind(addresses,new.address)\n",
    "\n",
    "# Print a header.\n",
    "cat(\"# # # The combined data frame\\n\") \n",
    "\n",
    "# Print the result.\n",
    "print(all.addresses)"
   ]
  },
  {
   "cell_type": "markdown",
   "metadata": {},
   "source": [
    "## 合并 DataFrame"
   ]
  },
  {
   "cell_type": "markdown",
   "metadata": {},
   "source": [
    "可以使用 merge（）函数合并两个数据帧。数据帧必须具有发生合并的相同列名。\n",
    "\n",
    "在下面的示例中，我们考虑库名称“MASS”中可获得的有关 Pima USA Women 中糖尿病的数据集。我们根据血压（“bp”）和体重指数（“bmi”）的值合并两个数据集。选择这两列进行合并时，两个数据集中这两个变量的值匹配的记录将合并在一起以形成一个数据帧。"
   ]
  },
  {
   "cell_type": "markdown",
   "metadata": {},
   "source": [
    "x: 第一个数据框.\n",
    "\n",
    "y: 第二个数据框.\n",
    "\n",
    "by, by.x, by.y: 指定两个数据框中匹配列名称。缺省使用两个数据框中相同列名称。\n",
    "\n",
    "all, all.x, all.y: 指定合并类型的逻辑值。缺省为false，all=FALSE (仅返回匹配的行)."
   ]
  },
  {
   "cell_type": "markdown",
   "metadata": {},
   "source": [
    "merge() 函数支持4种类型数据合并:\n",
    "\n",
    "Natural join: 仅返回两数据框中匹配的数据框行，参数为：all=FALSE.\n",
    "\n",
    "Full outer join: 返回两数据框中所有行， 参数为： all=TRUE.\n",
    "\n",
    "Left outer join: 返回x数据框中所有行以及和y数据框中匹配的行，参数为： all.x=TRUE.\n",
    "\n",
    "Right outer join: 返回y数据框中所有行以及和x数据框匹配的行，参数为： all.y=TRUE."
   ]
  },
  {
   "cell_type": "code",
   "execution_count": 20,
   "metadata": {
    "vscode": {
     "languageId": "r"
    }
   },
   "outputs": [
    {
     "data": {
      "text/plain": [
       "    npreg glu  bp skin  bmi   ped age type\n",
       "1       6 148  72   35 33.6 0.627  50  Yes\n",
       "2       1  85  66   29 26.6 0.351  31   No\n",
       "3       1  89  66   23 28.1 0.167  21   No\n",
       "4       3  78  50   32 31.0 0.248  26  Yes\n",
       "5       2 197  70   45 30.5 0.158  53  Yes\n",
       "6       5 166  72   19 25.8 0.587  51  Yes\n",
       "7       0 118  84   47 45.8 0.551  31  Yes\n",
       "8       1 103  30   38 43.3 0.183  33   No\n",
       "9       3 126  88   41 39.3 0.704  27   No\n",
       "10      9 119  80   35 29.0 0.263  29  Yes\n",
       "11      1  97  66   15 23.2 0.487  22   No\n",
       "12      5 109  75   26 36.0 0.546  60   No\n",
       "13      3  88  58   11 24.8 0.267  22   No\n",
       "14     10 122  78   31 27.6 0.512  45   No\n",
       "15      4 103  60   33 24.0 0.966  33   No\n",
       "16      9 102  76   37 32.9 0.665  46  Yes\n",
       "17      2  90  68   42 38.2 0.503  27  Yes\n",
       "18      4 111  72   47 37.1 1.390  56  Yes\n",
       "19      3 180  64   25 34.0 0.271  26   No\n",
       "20      7 106  92   18 22.7 0.235  48   No\n",
       "21      9 171 110   24 45.4 0.721  54  Yes\n",
       "22      0 180  66   39 42.0 1.893  25  Yes\n",
       "23      2  71  70   27 28.0 0.586  22   No\n",
       "24      1 103  80   11 19.4 0.491  22   No\n",
       "25      1 101  50   15 24.2 0.526  26   No\n",
       "26      5  88  66   21 24.4 0.342  30   No\n",
       "27      7 150  66   42 34.7 0.718  42   No\n",
       "28      1  73  50   10 23.0 0.248  21   No\n",
       "29      0 105  64   41 41.5 0.173  22   No\n",
       "30      5  99  74   27 29.0 0.203  32   No\n",
       "31      0 109  88   30 32.5 0.855  38  Yes\n",
       "32      1  95  66   13 19.6 0.334  25   No\n",
       "33      4 146  85   27 28.9 0.189  27   No\n",
       "34      2 100  66   20 32.9 0.867  28  Yes\n",
       "35      4 129  86   20 35.1 0.231  23   No\n",
       "36      5  95  72   33 37.7 0.370  27   No\n",
       "37      2 112  66   22 25.0 0.307  24   No\n",
       "38      3 113  44   13 22.4 0.140  22   No\n",
       "39      7  83  78   26 29.3 0.767  36   No\n",
       "40      0 101  65   28 24.6 0.237  22   No\n",
       "41     13 106  72   54 36.6 0.178  45   No\n",
       "42      2 100  68   25 38.5 0.324  26   No\n",
       "43     15 136  70   32 37.1 0.153  43  Yes\n",
       "44      4 123  80   15 32.0 0.443  34   No\n",
       "45      7  81  78   40 46.7 0.261  42   No\n",
       "46      2  92  62   28 31.6 0.130  24   No\n",
       "47      6  93  50   30 28.7 0.356  23   No\n",
       "48      1 122  90   51 49.7 0.325  31  Yes\n",
       "49      1  81  72   18 26.6 0.283  24   No\n",
       "50      1 126  56   29 28.7 0.801  21   No\n",
       "51      4 144  58   28 29.5 0.287  37   No\n",
       "52      1  89  76   34 31.2 0.192  23   No\n",
       "53      7 160  54   32 30.5 0.588  39  Yes\n",
       "54      4  97  60   23 28.2 0.443  22   No\n",
       "55      0 162  76   56 53.2 0.759  25  Yes\n",
       "56      2 107  74   30 33.6 0.404  23   No\n",
       "57      1  88  30   42 55.0 0.496  26  Yes\n",
       "58      1 117  88   24 34.5 0.403  40  Yes\n",
       "59      4 173  70   14 29.7 0.361  33  Yes\n",
       "60      3 170  64   37 34.5 0.356  30  Yes\n",
       "61      8  84  74   31 38.3 0.457  39   No\n",
       "62      0 100  70   26 30.8 0.597  21   No\n",
       "63      0  93  60   25 28.7 0.532  22   No\n",
       "64      5 106  82   30 39.5 0.286  38   No\n",
       "65      2 108  52   26 32.5 0.318  22   No\n",
       "66      2 106  64   35 30.5 1.400  34   No\n",
       "67      2  90  70   17 27.3 0.085  22   No\n",
       "68      9 156  86   28 34.3 1.189  42  Yes\n",
       "69      1 153  82   42 40.6 0.687  23   No\n",
       "70      7 152  88   44 50.0 0.337  36  Yes\n",
       "71      2  88  74   19 29.0 0.229  22   No\n",
       "72     17 163  72   41 40.9 0.817  47  Yes\n",
       "73      4 151  90   38 29.7 0.294  36   No\n",
       "74      7 102  74   40 37.2 0.204  45   No\n",
       "75      0 114  80   34 44.2 0.167  27   No\n",
       "76      6 104  74   18 29.9 0.722  41  Yes\n",
       "77      2  75  64   24 29.7 0.370  33   No\n",
       "78      8 179  72   42 32.7 0.719  36  Yes\n",
       "79      0 129 110   46 67.1 0.319  26  Yes\n",
       "80      1 128  98   41 32.0 1.321  33  Yes\n",
       "81      8 109  76   39 27.9 0.640  31  Yes\n",
       "82      4 109  64   44 34.8 0.905  26  Yes\n",
       "83      0 113  80   16 31.0 0.874  21   No\n",
       "84      0 108  68   20 27.3 0.787  32   No\n",
       "85      5 111  72   28 23.9 0.407  27   No\n",
       "86      8 196  76   29 37.5 0.605  57  Yes\n",
       "87      2  81  60   22 27.7 0.290  25   No\n",
       "88      0 147  85   54 42.8 0.375  24   No\n",
       "89      5 109  62   41 35.8 0.514  25  Yes\n",
       "90      6 125  68   30 30.0 0.464  32   No\n",
       "91      5  85  74   22 29.0 1.224  32  Yes\n",
       "92      7 142  60   33 28.8 0.687  61   No\n",
       "93      1 100  66   15 23.6 0.666  26   No\n",
       "94      1  87  78   27 34.6 0.101  22   No\n",
       "95      3 162  52   38 37.2 0.652  24  Yes\n",
       "96      4 197  70   39 36.7 2.329  31   No\n",
       "97      0 117  80   31 45.2 0.089  24   No\n",
       "98      6 134  80   37 46.2 0.238  46  Yes\n",
       "99      3  74  68   28 29.7 0.293  23   No\n",
       "100     7 181  84   21 35.9 0.586  51  Yes\n",
       "101     0 179  90   27 44.1 0.686  23  Yes\n",
       "102     1  91  64   24 29.2 0.192  21   No\n",
       "103     4  91  70   32 33.1 0.446  22   No\n",
       "104     6 119  50   22 27.1 1.318  33  Yes\n",
       "105     2 146  76   35 38.2 0.329  29   No\n",
       "106     9 184  85   15 30.0 1.213  49  Yes\n",
       "107     0 165  90   33 52.3 0.427  23   No\n",
       "108     9 124  70   33 35.4 0.282  34   No\n",
       "109     1 111  86   19 30.1 0.143  23   No\n",
       "110     2  90  80   14 24.4 0.249  24   No\n",
       "111     1 113  64   35 33.6 0.543  21  Yes\n",
       "112     3 111  56   39 30.1 0.557  30   No\n",
       "113    11 155  76   28 33.3 1.353  51  Yes\n",
       "114     4  95  70   32 32.1 0.612  24   No\n",
       "115     5  96  74   18 33.6 0.997  43   No\n",
       "116     2 128  64   42 40.0 1.101  24   No\n",
       "117    10 101  86   37 45.6 1.136  38  Yes\n",
       "118     2 108  62   32 25.2 0.128  21   No\n",
       "119     2 100  70   52 40.5 0.677  25   No\n",
       "120     7 106  60   24 26.5 0.296  29  Yes\n",
       "121     0 104  64   23 27.8 0.454  23   No\n",
       "122     2 108  62   10 25.3 0.881  22   No\n",
       "123     7 133  88   15 32.4 0.262  37   No\n",
       "124     7 136  74   26 26.0 0.647  51   No\n",
       "125     1 119  86   39 45.6 0.808  29  Yes\n",
       " [ reached 'max' / getOption(\"max.print\") -- omitted 207 rows ]"
      ]
     },
     "execution_count": null,
     "metadata": {},
     "output_type": "execute_result"
    }
   ],
   "source": [
    "library(MASS)\n",
    "Pima.te"
   ]
  },
  {
   "cell_type": "code",
   "execution_count": 21,
   "metadata": {
    "vscode": {
     "languageId": "r"
    }
   },
   "outputs": [
    {
     "data": {
      "text/plain": [
       "    npreg glu  bp skin  bmi   ped age type\n",
       "1       5  86  68   28 30.2 0.364  24   No\n",
       "2       7 195  70   33 25.1 0.163  55  Yes\n",
       "3       5  77  82   41 35.8 0.156  35   No\n",
       "4       0 165  76   43 47.9 0.259  26   No\n",
       "5       0 107  60   25 26.4 0.133  23   No\n",
       "6       5  97  76   27 35.6 0.378  52  Yes\n",
       "7       3  83  58   31 34.3 0.336  25   No\n",
       "8       1 193  50   16 25.9 0.655  24   No\n",
       "9       3 142  80   15 32.4 0.200  63   No\n",
       "10      2 128  78   37 43.3 1.224  31  Yes\n",
       "11      0 137  40   35 43.1 2.288  33  Yes\n",
       "12      9 154  78   30 30.9 0.164  45   No\n",
       "13      1 189  60   23 30.1 0.398  59  Yes\n",
       "14     12  92  62    7 27.6 0.926  44  Yes\n",
       "15      1  86  66   52 41.3 0.917  29   No\n",
       "16      4  99  76   15 23.2 0.223  21   No\n",
       "17      1 109  60    8 25.4 0.947  21   No\n",
       "18     11 143  94   33 36.6 0.254  51  Yes\n",
       "19      1 149  68   29 29.3 0.349  42  Yes\n",
       "20      0 139  62   17 22.1 0.207  21   No\n",
       "21      2  99  70   16 20.4 0.235  27   No\n",
       "22      1 100  66   29 32.0 0.444  42   No\n",
       "23      4  83  86   19 29.3 0.317  34   No\n",
       "24      0 101  64   17 21.0 0.252  21   No\n",
       "25      1  87  68   34 37.6 0.401  24   No\n",
       "26      9 164  84   21 30.8 0.831  32  Yes\n",
       "27      1  99  58   10 25.4 0.551  21   No\n",
       "28      0 140  65   26 42.6 0.431  24  Yes\n",
       "29      5 108  72   43 36.1 0.263  33   No\n",
       "30      2 110  74   29 32.4 0.698  27   No\n",
       "31      1  79  60   42 43.5 0.678  23   No\n",
       "32      3 148  66   25 32.5 0.256  22   No\n",
       "33      0 121  66   30 34.3 0.203  33  Yes\n",
       "34      3 158  64   13 31.2 0.295  24   No\n",
       "35      2 105  80   45 33.7 0.711  29  Yes\n",
       "36     13 145  82   19 22.2 0.245  57   No\n",
       "37      1  79  80   25 25.4 0.583  22   No\n",
       "38      1  71  48   18 20.4 0.323  22   No\n",
       "39      0 102  86   17 29.3 0.695  27   No\n",
       "40      0 119  66   27 38.8 0.259  22   No\n",
       "41      8 176  90   34 33.7 0.467  58  Yes\n",
       "42      1  97  68   21 27.2 1.095  22   No\n",
       "43      4 129  60   12 27.5 0.527  31   No\n",
       "44      1  97  64   19 18.2 0.299  21   No\n",
       "45      0  86  68   32 35.8 0.238  25   No\n",
       "46      2 125  60   20 33.8 0.088  31   No\n",
       "47      5 123  74   40 34.1 0.269  28   No\n",
       "48      2  92  76   20 24.2 1.698  28   No\n",
       "49      3 171  72   33 33.3 0.199  24  Yes\n",
       "50      1 199  76   43 42.9 1.394  22  Yes\n",
       "51      3 116  74   15 26.3 0.107  24   No\n",
       "52      2  83  66   23 32.2 0.497  22   No\n",
       "53      8 154  78   32 32.4 0.443  45  Yes\n",
       "54      1 114  66   36 38.1 0.289  21   No\n",
       "55      1 106  70   28 34.2 0.142  22   No\n",
       "56      4 127  88   11 34.5 0.598  28   No\n",
       "57      1 124  74   36 27.8 0.100  30   No\n",
       "58      1 109  38   18 23.1 0.407  26   No\n",
       "59      2 123  48   32 42.1 0.520  26   No\n",
       "60      8 167 106   46 37.6 0.165  43  Yes\n",
       "61      7 184  84   33 35.5 0.355  41  Yes\n",
       "62      1  96  64   27 33.2 0.289  21   No\n",
       "63     10 129  76   28 35.9 0.280  39   No\n",
       "64      6  92  62   32 32.0 0.085  46   No\n",
       "65      6 109  60   27 25.0 0.206  27   No\n",
       "66      5 139  80   35 31.6 0.361  25  Yes\n",
       "67      6 134  70   23 35.4 0.542  29  Yes\n",
       "68      3 106  54   21 30.9 0.292  24   No\n",
       "69      0 131  66   40 34.3 0.196  22  Yes\n",
       "70      0 135  94   46 40.6 0.284  26   No\n",
       "71      5 158  84   41 39.4 0.395  29  Yes\n",
       "72      3 112  74   30 31.6 0.197  25  Yes\n",
       "73      8 181  68   36 30.1 0.615  60  Yes\n",
       "74      2 121  70   32 39.1 0.886  23   No\n",
       "75      1 168  88   29 35.0 0.905  52  Yes\n",
       "76      1 144  82   46 46.1 0.335  46  Yes\n",
       "77      2 101  58   17 24.2 0.614  23   No\n",
       "78      2  96  68   13 21.1 0.647  26   No\n",
       "79      3 107  62   13 22.9 0.678  23  Yes\n",
       "80     12 121  78   17 26.5 0.259  62   No\n",
       "81      2 100  64   23 29.7 0.368  21   No\n",
       "82      4 154  72   29 31.3 0.338  37   No\n",
       "83      6 125  78   31 27.6 0.565  49  Yes\n",
       "84     10 125  70   26 31.1 0.205  41  Yes\n",
       "85      2 122  76   27 35.9 0.483  26   No\n",
       "86      2 114  68   22 28.7 0.092  25   No\n",
       "87      1 115  70   30 34.6 0.529  32  Yes\n",
       "88      7 114  76   17 23.8 0.466  31   No\n",
       "89      2 115  64   22 30.8 0.421  21   No\n",
       "90      1 130  60   23 28.6 0.692  21   No\n",
       "91      1  79  75   30 32.0 0.396  22   No\n",
       "92      4 112  78   40 39.4 0.236  38   No\n",
       "93      7 150  78   29 35.2 0.692  54  Yes\n",
       "94      1  91  54   25 25.2 0.234  23   No\n",
       "95      1 100  72   12 25.3 0.658  28   No\n",
       "96     12 140  82   43 39.2 0.528  58  Yes\n",
       "97      4 110  76   20 28.4 0.118  27   No\n",
       "98      2  94  76   18 31.6 0.649  23   No\n",
       "99      2  84  50   23 30.4 0.968  21   No\n",
       "100    10 148  84   48 37.6 1.001  51  Yes\n",
       "101     3  61  82   28 34.4 0.243  46   No\n",
       "102     4 117  62   12 29.7 0.380  30  Yes\n",
       "103     3  99  80   11 19.3 0.284  30   No\n",
       "104     3  80  82   31 34.2 1.292  27  Yes\n",
       "105     4 154  62   31 32.8 0.237  23   No\n",
       "106     6 103  72   32 37.7 0.324  55   No\n",
       "107     6 111  64   39 34.2 0.260  24   No\n",
       "108     0 124  70   20 27.4 0.254  36  Yes\n",
       "109     1 143  74   22 26.2 0.256  21   No\n",
       "110     1  81  74   41 46.3 1.096  32   No\n",
       "111     4 189 110   31 28.5 0.680  37   No\n",
       "112     4 116  72   12 22.1 0.463  37   No\n",
       "113     7 103  66   32 39.1 0.344  31  Yes\n",
       "114     8 124  76   24 28.7 0.687  52  Yes\n",
       "115     1  71  78   50 33.2 0.422  21   No\n",
       "116     0 137  84   27 27.3 0.231  59   No\n",
       "117     9 112  82   32 34.2 0.260  36  Yes\n",
       "118     4 148  60   27 30.9 0.150  29  Yes\n",
       "119     1 136  74   50 37.4 0.399  24   No\n",
       "120     9 145  80   46 37.9 0.637  40  Yes\n",
       "121     1  93  56   11 22.5 0.417  22   No\n",
       "122     1 107  72   30 30.8 0.821  24   No\n",
       "123    12 151  70   40 41.8 0.742  38  Yes\n",
       "124     1  97  70   40 38.1 0.218  30   No\n",
       "125     5 144  82   26 32.0 0.452  58  Yes\n",
       " [ reached 'max' / getOption(\"max.print\") -- omitted 75 rows ]"
      ]
     },
     "execution_count": null,
     "metadata": {},
     "output_type": "execute_result"
    }
   ],
   "source": [
    "Pima.tr"
   ]
  },
  {
   "cell_type": "code",
   "execution_count": 24,
   "metadata": {
    "vscode": {
     "languageId": "r"
    }
   },
   "outputs": [
    {
     "name": "stdout",
     "output_type": "stream",
     "text": [
      "   bp  bmi npreg.x glu.x skin.x ped.x age.x type.x npreg.y glu.y skin.y ped.y age.y type.y\n",
      "1  60 33.8       1   117     23 0.466    27     No       2   125     20 0.088    31     No\n",
      "2  64 29.7       2    75     24 0.370    33     No       2   100     23 0.368    21     No\n",
      "3  64 31.2       5   189     33 0.583    29    Yes       3   158     13 0.295    24     No\n",
      "4  64 33.2       4   117     27 0.230    24     No       1    96     27 0.289    21     No\n",
      "5  66 38.1       3   115     39 0.150    28     No       1   114     36 0.289    21     No\n",
      "6  68 38.5       2   100     25 0.324    26     No       7   129     49 0.439    43    Yes\n",
      "7  70 27.4       1   116     28 0.204    21     No       0   124     20 0.254    36    Yes\n",
      "8  70 33.1       4    91     32 0.446    22     No       9   123     44 0.374    40     No\n",
      "9  70 35.4       9   124     33 0.282    34     No       6   134     23 0.542    29    Yes\n",
      "10 72 25.6       1   157     21 0.123    24     No       4    99     17 0.294    28     No\n",
      "11 72 37.7       5    95     33 0.370    27     No       6   103     32 0.324    55     No\n",
      "12 74 25.9       9   134     33 0.460    81     No       8   126     38 0.162    39     No\n",
      "13 74 25.9       1    95     21 0.673    36     No       8   126     38 0.162    39     No\n",
      "14 78 27.6       5    88     30 0.258    37     No       6   125     31 0.565    49    Yes\n",
      "15 78 27.6      10   122     31 0.512    45     No       6   125     31 0.565    49    Yes\n",
      "16 78 39.4       2   112     50 0.175    24     No       4   112     40 0.236    38     No\n",
      "17 88 34.5       1   117     24 0.403    40    Yes       4   127     11 0.598    28     No\n"
     ]
    },
    {
     "data": {
      "text/plain": [
       "[1] 17"
      ]
     },
     "execution_count": null,
     "metadata": {},
     "output_type": "execute_result"
    }
   ],
   "source": [
    "merged.Pima <- merge(x = Pima.te, y = Pima.tr ,\n",
    "   by.x = c(\"bp\", \"bmi\"),\n",
    "   by.y = c(\"bp\", \"bmi\")\n",
    ")\n",
    "print(merged.Pima)\n",
    "nrow(merged.Pima)"
   ]
  },
  {
   "cell_type": "markdown",
   "metadata": {},
   "source": [
    "## 熔铸"
   ]
  },
  {
   "cell_type": "markdown",
   "metadata": {},
   "source": [
    "R 编程最有趣的方面之一是分多个步骤更改数据的形状以获得所需的形状。用于执行此操作的函数称为 melt（）和 cast（）。\n",
    "\n",
    "我们考虑存在于名为“MASS”的库中的称为 ships 的数据集。"
   ]
  },
  {
   "cell_type": "code",
   "execution_count": 3,
   "metadata": {
    "vscode": {
     "languageId": "r"
    }
   },
   "outputs": [
    {
     "name": "stdout",
     "output_type": "stream",
     "text": [
      "   type year period service incidents\n",
      "1     A   60     60     127         0\n",
      "2     A   60     75      63         0\n",
      "3     A   65     60    1095         3\n",
      "4     A   65     75    1095         4\n",
      "5     A   70     60    1512         6\n",
      "6     A   70     75    3353        18\n",
      "7     A   75     60       0         0\n",
      "8     A   75     75    2244        11\n",
      "9     B   60     60   44882        39\n",
      "10    B   60     75   17176        29\n",
      "11    B   65     60   28609        58\n",
      "12    B   65     75   20370        53\n",
      "13    B   70     60    7064        12\n",
      "14    B   70     75   13099        44\n",
      "15    B   75     60       0         0\n",
      "16    B   75     75    7117        18\n",
      "17    C   60     60    1179         1\n",
      "18    C   60     75     552         1\n",
      "19    C   65     60     781         0\n",
      "20    C   65     75     676         1\n",
      "21    C   70     60     783         6\n",
      "22    C   70     75    1948         2\n",
      "23    C   75     60       0         0\n",
      "24    C   75     75     274         1\n",
      "25    D   60     60     251         0\n",
      "26    D   60     75     105         0\n",
      "27    D   65     60     288         0\n",
      "28    D   65     75     192         0\n",
      "29    D   70     60     349         2\n",
      "30    D   70     75    1208        11\n",
      "31    D   75     60       0         0\n",
      "32    D   75     75    2051         4\n",
      "33    E   60     60      45         0\n",
      "34    E   60     75       0         0\n",
      "35    E   65     60     789         7\n",
      "36    E   65     75     437         7\n",
      "37    E   70     60    1157         5\n",
      "38    E   70     75    2161        12\n",
      "39    E   75     60       0         0\n",
      "40    E   75     75     542         1\n"
     ]
    }
   ],
   "source": [
    "library(MASS)\n",
    "print(ships)"
   ]
  },
  {
   "cell_type": "markdown",
   "metadata": {},
   "source": [
    "### 融化数据"
   ]
  },
  {
   "cell_type": "markdown",
   "metadata": {},
   "source": [
    "现在，我们将数据融为一体，将类型和年份以外的所有列转换为多行。"
   ]
  },
  {
   "cell_type": "code",
   "execution_count": 5,
   "metadata": {
    "vscode": {
     "languageId": "r"
    }
   },
   "outputs": [
    {
     "name": "stderr",
     "output_type": "stream",
     "text": [
      "警告信息:\n",
      "程序包‘reshape2’是用R版本4.4.2 来建造的 \n"
     ]
    },
    {
     "name": "stdout",
     "output_type": "stream",
     "text": [
      "    type year  variable value\n",
      "1      A   60    period    60\n",
      "2      A   60    period    75\n",
      "3      A   65    period    60\n",
      "4      A   65    period    75\n",
      "5      A   70    period    60\n",
      "6      A   70    period    75\n",
      "7      A   75    period    60\n",
      "8      A   75    period    75\n",
      "9      B   60    period    60\n",
      "10     B   60    period    75\n",
      "11     B   65    period    60\n",
      "12     B   65    period    75\n",
      "13     B   70    period    60\n",
      "14     B   70    period    75\n",
      "15     B   75    period    60\n",
      "16     B   75    period    75\n",
      "17     C   60    period    60\n",
      "18     C   60    period    75\n",
      "19     C   65    period    60\n",
      "20     C   65    period    75\n",
      "21     C   70    period    60\n",
      "22     C   70    period    75\n",
      "23     C   75    period    60\n",
      "24     C   75    period    75\n",
      "25     D   60    period    60\n",
      "26     D   60    period    75\n",
      "27     D   65    period    60\n",
      "28     D   65    period    75\n",
      "29     D   70    period    60\n",
      "30     D   70    period    75\n",
      "31     D   75    period    60\n",
      "32     D   75    period    75\n",
      "33     E   60    period    60\n",
      "34     E   60    period    75\n",
      "35     E   65    period    60\n",
      "36     E   65    period    75\n",
      "37     E   70    period    60\n",
      "38     E   70    period    75\n",
      "39     E   75    period    60\n",
      "40     E   75    period    75\n",
      "41     A   60   service   127\n",
      "42     A   60   service    63\n",
      "43     A   65   service  1095\n",
      "44     A   65   service  1095\n",
      "45     A   70   service  1512\n",
      "46     A   70   service  3353\n",
      "47     A   75   service     0\n",
      "48     A   75   service  2244\n",
      "49     B   60   service 44882\n",
      "50     B   60   service 17176\n",
      "51     B   65   service 28609\n",
      "52     B   65   service 20370\n",
      "53     B   70   service  7064\n",
      "54     B   70   service 13099\n",
      "55     B   75   service     0\n",
      "56     B   75   service  7117\n",
      "57     C   60   service  1179\n",
      "58     C   60   service   552\n",
      "59     C   65   service   781\n",
      "60     C   65   service   676\n",
      "61     C   70   service   783\n",
      "62     C   70   service  1948\n",
      "63     C   75   service     0\n",
      "64     C   75   service   274\n",
      "65     D   60   service   251\n",
      "66     D   60   service   105\n",
      "67     D   65   service   288\n",
      "68     D   65   service   192\n",
      "69     D   70   service   349\n",
      "70     D   70   service  1208\n",
      "71     D   75   service     0\n",
      "72     D   75   service  2051\n",
      "73     E   60   service    45\n",
      "74     E   60   service     0\n",
      "75     E   65   service   789\n",
      "76     E   65   service   437\n",
      "77     E   70   service  1157\n",
      "78     E   70   service  2161\n",
      "79     E   75   service     0\n",
      "80     E   75   service   542\n",
      "81     A   60 incidents     0\n",
      "82     A   60 incidents     0\n",
      "83     A   65 incidents     3\n",
      "84     A   65 incidents     4\n",
      "85     A   70 incidents     6\n",
      "86     A   70 incidents    18\n",
      "87     A   75 incidents     0\n",
      "88     A   75 incidents    11\n",
      "89     B   60 incidents    39\n",
      "90     B   60 incidents    29\n",
      "91     B   65 incidents    58\n",
      "92     B   65 incidents    53\n",
      "93     B   70 incidents    12\n",
      "94     B   70 incidents    44\n",
      "95     B   75 incidents     0\n",
      "96     B   75 incidents    18\n",
      "97     C   60 incidents     1\n",
      "98     C   60 incidents     1\n",
      "99     C   65 incidents     0\n",
      "100    C   65 incidents     1\n",
      "101    C   70 incidents     6\n",
      "102    C   70 incidents     2\n",
      "103    C   75 incidents     0\n",
      "104    C   75 incidents     1\n",
      "105    D   60 incidents     0\n",
      "106    D   60 incidents     0\n",
      "107    D   65 incidents     0\n",
      "108    D   65 incidents     0\n",
      "109    D   70 incidents     2\n",
      "110    D   70 incidents    11\n",
      "111    D   75 incidents     0\n",
      "112    D   75 incidents     4\n",
      "113    E   60 incidents     0\n",
      "114    E   60 incidents     0\n",
      "115    E   65 incidents     7\n",
      "116    E   65 incidents     7\n",
      "117    E   70 incidents     5\n",
      "118    E   70 incidents    12\n",
      "119    E   75 incidents     0\n",
      "120    E   75 incidents     1\n"
     ]
    }
   ],
   "source": [
    "library(reshape2)\n",
    "molten.ships <- melt(ships, id = c(\"type\",\"year\"))\n",
    "print(molten.ships)"
   ]
  },
  {
   "cell_type": "markdown",
   "metadata": {},
   "source": [
    "### 投放熔火数据"
   ]
  },
  {
   "cell_type": "code",
   "execution_count": 11,
   "metadata": {
    "vscode": {
     "languageId": "r"
    }
   },
   "outputs": [
    {
     "name": "stdout",
     "output_type": "stream",
     "text": [
      "   type year period service incidents\n",
      "1     A   60    135     190         0\n",
      "2     A   65    135    2190         7\n",
      "3     A   70    135    4865        24\n",
      "4     A   75    135    2244        11\n",
      "5     B   60    135   62058        68\n",
      "6     B   65    135   48979       111\n",
      "7     B   70    135   20163        56\n",
      "8     B   75    135    7117        18\n",
      "9     C   60    135    1731         2\n",
      "10    C   65    135    1457         1\n",
      "11    C   70    135    2731         8\n",
      "12    C   75    135     274         1\n",
      "13    D   60    135     356         0\n",
      "14    D   65    135     480         0\n",
      "15    D   70    135    1557        13\n",
      "16    D   75    135    2051         4\n",
      "17    E   60    135      45         0\n",
      "18    E   65    135    1226        14\n",
      "19    E   70    135    3318        17\n",
      "20    E   75    135     542         1\n"
     ]
    }
   ],
   "source": [
    "library(reshape2)\n",
    "recasted.ship <- dcast(molten.ships, type+year~variable,sum)\n",
    "print(recasted.ship)"
   ]
  },
  {
   "cell_type": "code",
   "execution_count": 12,
   "metadata": {
    "vscode": {
     "languageId": "r"
    }
   },
   "outputs": [
    {
     "name": "stdout",
     "output_type": "stream",
     "text": [
      "  type period service incidents\n",
      "1    A    540    9489        42\n",
      "2    B    540  138317       253\n",
      "3    C    540    6193        12\n",
      "4    D    540    4444        17\n",
      "5    E    540    5131        32\n"
     ]
    }
   ],
   "source": [
    "recasted.ship <- dcast(molten.ships, type~variable,sum)\n",
    "print(recasted.ship)"
   ]
  }
 ],
 "metadata": {
  "kernelspec": {
   "display_name": "R",
   "language": "R",
   "name": "ir"
  },
  "language_info": {
   "codemirror_mode": "r",
   "file_extension": ".r",
   "mimetype": "text/x-r-source",
   "name": "R",
   "pygments_lexer": "r",
   "version": "4.4.2"
  }
 },
 "nbformat": 4,
 "nbformat_minor": 2
}

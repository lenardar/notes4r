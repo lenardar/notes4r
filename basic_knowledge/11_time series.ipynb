{
 "cells": [
  {
   "cell_type": "markdown",
   "metadata": {},
   "source": [
    "学习R语言时间序列分析。"
   ]
  },
  {
   "cell_type": "markdown",
   "metadata": {},
   "source": [
    "# 在R中生成时序对象"
   ]
  },
  {
   "cell_type": "code",
   "execution_count": 5,
   "metadata": {
    "vscode": {
     "languageId": "r"
    }
   },
   "outputs": [
    {
     "data": {
      "text/html": [
       "<table class=\"dataframe\">\n",
       "<caption>A Time Series: 2 × 12</caption>\n",
       "<thead>\n",
       "\t<tr><th></th><th scope=col>Jan</th><th scope=col>Feb</th><th scope=col>Mar</th><th scope=col>Apr</th><th scope=col>May</th><th scope=col>Jun</th><th scope=col>Jul</th><th scope=col>Aug</th><th scope=col>Sep</th><th scope=col>Oct</th><th scope=col>Nov</th><th scope=col>Dec</th></tr>\n",
       "</thead>\n",
       "<tbody>\n",
       "\t<tr><th scope=row>2003</th><td>18</td><td>33</td><td>41</td><td> 7</td><td>34</td><td>35</td><td>24</td><td>25</td><td>24</td><td>21</td><td>25</td><td>20</td></tr>\n",
       "\t<tr><th scope=row>2004</th><td>22</td><td>31</td><td>40</td><td>29</td><td>25</td><td>21</td><td>22</td><td>54</td><td>31</td><td>25</td><td>26</td><td>35</td></tr>\n",
       "</tbody>\n",
       "</table>\n"
      ],
      "text/latex": [
       "A Time Series: 2 × 12\n",
       "\\begin{tabular}{r|llllllllllll}\n",
       "  & Jan & Feb & Mar & Apr & May & Jun & Jul & Aug & Sep & Oct & Nov & Dec\\\\\n",
       "\\hline\n",
       "\t2003 & 18 & 33 & 41 &  7 & 34 & 35 & 24 & 25 & 24 & 21 & 25 & 20\\\\\n",
       "\t2004 & 22 & 31 & 40 & 29 & 25 & 21 & 22 & 54 & 31 & 25 & 26 & 35\\\\\n",
       "\\end{tabular}\n"
      ],
      "text/markdown": [
       "\n",
       "A Time Series: 2 × 12\n",
       "\n",
       "| <!--/--> | Jan | Feb | Mar | Apr | May | Jun | Jul | Aug | Sep | Oct | Nov | Dec |\n",
       "|---|---|---|---|---|---|---|---|---|---|---|---|---|\n",
       "| 2003 | 18 | 33 | 41 |  7 | 34 | 35 | 24 | 25 | 24 | 21 | 25 | 20 |\n",
       "| 2004 | 22 | 31 | 40 | 29 | 25 | 21 | 22 | 54 | 31 | 25 | 26 | 35 |\n",
       "\n"
      ],
      "text/plain": [
       "     Jan Feb Mar Apr May Jun Jul Aug Sep Oct Nov Dec\n",
       "2003 18  33  41   7  34  35  24  25  24  21  25  20 \n",
       "2004 22  31  40  29  25  21  22  54  31  25  26  35 "
      ]
     },
     "metadata": {},
     "output_type": "display_data"
    }
   ],
   "source": [
    "sales <- c(\n",
    "    18, 33, 41, 7, 34, 35,\n",
    "    24, 25, 24, 21, 25, 20,\n",
    "    22, 31, 40, 29, 25, 21,\n",
    "    22, 54, 31, 25, 26, 35\n",
    ")\n",
    "\n",
    "tssales <- ts(sales, start=c(2003, 1), frequency=12)\n",
    "tssales"
   ]
  },
  {
   "cell_type": "code",
   "execution_count": 6,
   "metadata": {
    "vscode": {
     "languageId": "r"
    }
   },
   "outputs": [
    {
     "data": {
      "image/png": "[encoded data removed]",
      "text/plain": [
       "plot without title"
      ]
     },
     "metadata": {
      "image/png": {
       "height": 420,
       "width": 420
      }
     },
     "output_type": "display_data"
    }
   ],
   "source": [
    "plot(tssales)"
   ]
  },
  {
   "cell_type": "code",
   "execution_count": 7,
   "metadata": {
    "vscode": {
     "languageId": "r"
    }
   },
   "outputs": [
    {
     "data": {
      "text/html": [
       "<style>\n",
       ".list-inline {list-style: none; margin:0; padding: 0}\n",
       ".list-inline>li {display: inline-block}\n",
       ".list-inline>li:not(:last-child)::after {content: \"\\00b7\"; padding: 0 .5ex}\n",
       "</style>\n",
       "<ol class=list-inline><li>2003</li><li>1</li></ol>\n"
      ],
      "text/latex": [
       "\\begin{enumerate*}\n",
       "\\item 2003\n",
       "\\item 1\n",
       "\\end{enumerate*}\n"
      ],
      "text/markdown": [
       "1. 2003\n",
       "2. 1\n",
       "\n",
       "\n"
      ],
      "text/plain": [
       "[1] 2003    1"
      ]
     },
     "metadata": {},
     "output_type": "display_data"
    }
   ],
   "source": [
    "start(tssales)"
   ]
  },
  {
   "cell_type": "code",
   "execution_count": 8,
   "metadata": {
    "vscode": {
     "languageId": "r"
    }
   },
   "outputs": [
    {
     "data": {
      "text/html": [
       "<style>\n",
       ".list-inline {list-style: none; margin:0; padding: 0}\n",
       ".list-inline>li {display: inline-block}\n",
       ".list-inline>li:not(:last-child)::after {content: \"\\00b7\"; padding: 0 .5ex}\n",
       "</style>\n",
       "<ol class=list-inline><li>2004</li><li>12</li></ol>\n"
      ],
      "text/latex": [
       "\\begin{enumerate*}\n",
       "\\item 2004\n",
       "\\item 12\n",
       "\\end{enumerate*}\n"
      ],
      "text/markdown": [
       "1. 2004\n",
       "2. 12\n",
       "\n",
       "\n"
      ],
      "text/plain": [
       "[1] 2004   12"
      ]
     },
     "metadata": {},
     "output_type": "display_data"
    }
   ],
   "source": [
    "end(tssales)"
   ]
  },
  {
   "cell_type": "code",
   "execution_count": 9,
   "metadata": {
    "vscode": {
     "languageId": "r"
    }
   },
   "outputs": [
    {
     "data": {
      "text/html": [
       "12"
      ],
      "text/latex": [
       "12"
      ],
      "text/markdown": [
       "12"
      ],
      "text/plain": [
       "[1] 12"
      ]
     },
     "metadata": {},
     "output_type": "display_data"
    }
   ],
   "source": [
    "frequency(tssales)"
   ]
  },
  {
   "cell_type": "code",
   "execution_count": 10,
   "metadata": {
    "vscode": {
     "languageId": "r"
    }
   },
   "outputs": [
    {
     "data": {
      "text/html": [
       "<table class=\"dataframe\">\n",
       "<caption>A Time Series: 2 × 12</caption>\n",
       "<thead>\n",
       "\t<tr><th></th><th scope=col>Jan</th><th scope=col>Feb</th><th scope=col>Mar</th><th scope=col>Apr</th><th scope=col>May</th><th scope=col>Jun</th><th scope=col>Jul</th><th scope=col>Aug</th><th scope=col>Sep</th><th scope=col>Oct</th><th scope=col>Nov</th><th scope=col>Dec</th></tr>\n",
       "</thead>\n",
       "<tbody>\n",
       "\t<tr><th scope=row>2003</th><td>  </td><td>  </td><td>  </td><td>  </td><td>34</td><td>35</td><td>24</td><td>25</td><td>24</td><td>21</td><td>25</td><td>20</td></tr>\n",
       "\t<tr><th scope=row>2004</th><td>22</td><td>31</td><td>40</td><td>29</td><td>25</td><td>21</td><td>  </td><td>  </td><td>  </td><td>  </td><td>  </td><td>  </td></tr>\n",
       "</tbody>\n",
       "</table>\n"
      ],
      "text/latex": [
       "A Time Series: 2 × 12\n",
       "\\begin{tabular}{r|llllllllllll}\n",
       "  & Jan & Feb & Mar & Apr & May & Jun & Jul & Aug & Sep & Oct & Nov & Dec\\\\\n",
       "\\hline\n",
       "\t2003 &    &    &    &    & 34 & 35 & 24 & 25 & 24 & 21 & 25 & 20\\\\\n",
       "\t2004 & 22 & 31 & 40 & 29 & 25 & 21 &    &    &    &    &    &   \\\\\n",
       "\\end{tabular}\n"
      ],
      "text/markdown": [
       "\n",
       "A Time Series: 2 × 12\n",
       "\n",
       "| <!--/--> | Jan | Feb | Mar | Apr | May | Jun | Jul | Aug | Sep | Oct | Nov | Dec |\n",
       "|---|---|---|---|---|---|---|---|---|---|---|---|---|\n",
       "| 2003 | <!----> | <!----> | <!----> | <!----> | 34 | 35 | 24 | 25 | 24 | 21 | 25 | 20 |\n",
       "| 2004 | 22 | 31 | 40 | 29 | 25 | 21 | <!----> | <!----> | <!----> | <!----> | <!----> | <!----> |\n",
       "\n"
      ],
      "text/plain": [
       "     Jan Feb Mar Apr May Jun Jul Aug Sep Oct Nov Dec\n",
       "2003                 34  35  24  25  24  21  25  20 \n",
       "2004 22  31  40  29  25  21                         "
      ]
     },
     "metadata": {},
     "output_type": "display_data"
    }
   ],
   "source": [
    "tssales.subset <- window(tssales, start=c(2003, 5), end=c(2004, 6))\n",
    "tssales.subset"
   ]
  },
  {
   "cell_type": "markdown",
   "metadata": {},
   "source": [
    "# 时序的平滑化和季节性分解"
   ]
  },
  {
   "cell_type": "markdown",
   "metadata": {},
   "source": [
    "## 通过简单移动平均进行平滑处理"
   ]
  },
  {
   "cell_type": "code",
   "execution_count": 11,
   "metadata": {
    "vscode": {
     "languageId": "r"
    }
   },
   "outputs": [
    {
     "name": "stderr",
     "output_type": "stream",
     "text": [
      "Warning message:\n",
      "\"package 'forecast' is in use and will not be installed\"\n"
     ]
    }
   ],
   "source": [
    "install.packages(\"forecast\")"
   ]
  },
  {
   "cell_type": "code",
   "execution_count": 12,
   "metadata": {
    "vscode": {
     "languageId": "r"
    }
   },
   "outputs": [
    {
     "data": {
      "image/png": "[encoded data removed]",
      "text/plain": [
       "Plot with title \"Simple Moving Average (k=15)\""
      ]
     },
     "metadata": {
      "image/png": {
       "height": 420,
       "width": 420
      }
     },
     "output_type": "display_data"
    }
   ],
   "source": [
    "library(forecast)\n",
    "opar <- par(no.readonly=TRUE)\n",
    "par(mfrow=c(2, 2))\n",
    "ylim <- c(min(Nile), max(Nile))\n",
    "plot(Nile, main=\"Raw Time Series\")\n",
    "plot(ma(Nile, order=3), main=\"Simple Moving Average (k=3)\", ylim=ylim)\n",
    "plot(ma(Nile, order=7), main=\"Simple Moving Average (k=7)\", ylim=ylim)\n",
    "plot(ma(Nile, order=15), main=\"Simple Moving Average (k=15)\", ylim=ylim)\n",
    "par(opar)"
   ]
  },
  {
   "cell_type": "markdown",
   "metadata": {},
   "source": [
    "## 季节性分解"
   ]
  },
  {
   "cell_type": "code",
   "execution_count": 13,
   "metadata": {
    "vscode": {
     "languageId": "r"
    }
   },
   "outputs": [
    {
     "data": {
      "image/png": "[encoded data removed]",
      "text/plain": [
       "plot without title"
      ]
     },
     "metadata": {
      "image/png": {
       "height": 420,
       "width": 420
      }
     },
     "output_type": "display_data"
    }
   ],
   "source": [
    "plot(AirPassengers)"
   ]
  },
  {
   "cell_type": "code",
   "execution_count": 14,
   "metadata": {
    "vscode": {
     "languageId": "r"
    }
   },
   "outputs": [
    {
     "data": {
      "image/png": "[encoded data removed]",
      "text/plain": [
       "plot without title"
      ]
     },
     "metadata": {
      "image/png": {
       "height": 420,
       "width": 420
      }
     },
     "output_type": "display_data"
    }
   ],
   "source": [
    "lAirPassengers <- log(AirPassengers)\n",
    "plot(lAirPassengers)"
   ]
  },
  {
   "cell_type": "code",
   "execution_count": 15,
   "metadata": {
    "vscode": {
     "languageId": "r"
    }
   },
   "outputs": [
    {
     "data": {
      "image/png": "[encoded data removed]",
      "text/plain": [
       "plot without title"
      ]
     },
     "metadata": {
      "image/png": {
       "height": 420,
       "width": 420
      }
     },
     "output_type": "display_data"
    }
   ],
   "source": [
    "fit <- stl(lAirPassengers, s.window=\"period\")\n",
    "plot(fit)"
   ]
  },
  {
   "cell_type": "code",
   "execution_count": 16,
   "metadata": {
    "vscode": {
     "languageId": "r"
    }
   },
   "outputs": [
    {
     "data": {
      "text/html": [
       "<table class=\"dataframe\">\n",
       "<caption>A Time Series: 144 × 3</caption>\n",
       "<thead>\n",
       "\t<tr><th></th><th scope=col>seasonal</th><th scope=col>trend</th><th scope=col>remainder</th></tr>\n",
       "</thead>\n",
       "<tbody>\n",
       "\t<tr><th scope=row>Jan 1949</th><td>-0.09164042</td><td>4.829389</td><td>-0.0192493585</td></tr>\n",
       "\t<tr><th scope=row>Feb 1949</th><td>-0.11402828</td><td>4.830368</td><td> 0.0543447685</td></tr>\n",
       "\t<tr><th scope=row>Mar 1949</th><td> 0.01586585</td><td>4.831348</td><td> 0.0355884457</td></tr>\n",
       "\t<tr><th scope=row>Apr 1949</th><td>-0.01402759</td><td>4.833377</td><td> 0.0404632511</td></tr>\n",
       "\t<tr><th scope=row>May 1949</th><td>-0.01502478</td><td>4.835406</td><td>-0.0245905300</td></tr>\n",
       "\t<tr><th scope=row>Jun 1949</th><td> 0.10978976</td><td>4.838166</td><td>-0.0426814256</td></tr>\n",
       "\t<tr><th scope=row>Jul 1949</th><td> 0.21640041</td><td>4.840927</td><td>-0.0601151688</td></tr>\n",
       "\t<tr><th scope=row>Aug 1949</th><td> 0.20960587</td><td>4.843469</td><td>-0.0558624690</td></tr>\n",
       "\t<tr><th scope=row>Sep 1949</th><td> 0.06747156</td><td>4.846011</td><td>-0.0008273977</td></tr>\n",
       "\t<tr><th scope=row>Oct 1949</th><td>-0.07024836</td><td>4.850883</td><td>-0.0015112948</td></tr>\n",
       "\t<tr><th scope=row>Nov 1949</th><td>-0.21352774</td><td>4.855756</td><td> 0.0021630667</td></tr>\n",
       "\t<tr><th scope=row>Dec 1949</th><td>-0.10063625</td><td>4.864586</td><td> 0.0067346600</td></tr>\n",
       "\t<tr><th scope=row>Jan 1950</th><td>-0.09164042</td><td>4.873417</td><td>-0.0368443057</td></tr>\n",
       "\t<tr><th scope=row>Feb 1950</th><td>-0.11402828</td><td>4.883282</td><td> 0.0670284530</td></tr>\n",
       "\t<tr><th scope=row>Mar 1950</th><td> 0.01586585</td><td>4.893147</td><td> 0.0397474219</td></tr>\n",
       "\t<tr><th scope=row>Apr 1950</th><td>-0.01402759</td><td>4.903156</td><td> 0.0161459950</td></tr>\n",
       "\t<tr><th scope=row>May 1950</th><td>-0.01502478</td><td>4.913166</td><td>-0.0698276070</td></tr>\n",
       "\t<tr><th scope=row>Jun 1950</th><td> 0.10978976</td><td>4.925404</td><td>-0.0312477713</td></tr>\n",
       "\t<tr><th scope=row>Jul 1950</th><td> 0.21640041</td><td>4.937643</td><td>-0.0182444833</td></tr>\n",
       "\t<tr><th scope=row>Aug 1950</th><td> 0.20960587</td><td>4.954420</td><td>-0.0282273969</td></tr>\n",
       "\t<tr><th scope=row>Sep 1950</th><td> 0.06747156</td><td>4.971197</td><td> 0.0239260449</td></tr>\n",
       "\t<tr><th scope=row>Oct 1950</th><td>-0.07024836</td><td>4.991662</td><td>-0.0310647612</td></tr>\n",
       "\t<tr><th scope=row>Nov 1950</th><td>-0.21352774</td><td>5.012127</td><td>-0.0624008823</td></tr>\n",
       "\t<tr><th scope=row>Dec 1950</th><td>-0.10063625</td><td>5.031094</td><td> 0.0111846224</td></tr>\n",
       "\t<tr><th scope=row>Jan 1951</th><td>-0.09164042</td><td>5.050061</td><td> 0.0183131352</td></tr>\n",
       "\t<tr><th scope=row>Feb 1951</th><td>-0.11402828</td><td>5.065044</td><td> 0.0596196836</td></tr>\n",
       "\t<tr><th scope=row>Mar 1951</th><td> 0.01586585</td><td>5.080027</td><td> 0.0858909418</td></tr>\n",
       "\t<tr><th scope=row>Apr 1951</th><td>-0.01402759</td><td>5.093932</td><td> 0.0138460280</td></tr>\n",
       "\t<tr><th scope=row>May 1951</th><td>-0.01502478</td><td>5.107837</td><td> 0.0546824937</td></tr>\n",
       "\t<tr><th scope=row>Jun 1951</th><td> 0.10978976</td><td>5.121064</td><td>-0.0490698826</td></tr>\n",
       "\t<tr><th scope=row>Jul 1951</th><td> 0.21640041</td><td>5.134291</td><td>-0.0573861680</td></tr>\n",
       "\t<tr><th scope=row>Aug 1951</th><td> 0.20960587</td><td>5.146131</td><td>-0.0624323009</td></tr>\n",
       "\t<tr><th scope=row>Sep 1951</th><td> 0.06747156</td><td>5.157972</td><td>-0.0105077415</td></tr>\n",
       "\t<tr><th scope=row>Oct 1951</th><td>-0.07024836</td><td>5.169854</td><td>-0.0120089320</td></tr>\n",
       "\t<tr><th scope=row>Nov 1951</th><td>-0.21352774</td><td>5.181735</td><td> 0.0153990463</td></tr>\n",
       "\t<tr><th scope=row>Dec 1951</th><td>-0.10063625</td><td>5.194803</td><td> 0.0178207135</td></tr>\n",
       "\t<tr><th scope=row>Jan 1952</th><td>-0.09164042</td><td>5.207871</td><td> 0.0254326447</td></tr>\n",
       "\t<tr><th scope=row>Feb 1952</th><td>-0.11402828</td><td>5.220493</td><td> 0.0864920261</td></tr>\n",
       "\t<tr><th scope=row>Mar 1952</th><td> 0.01586585</td><td>5.233115</td><td> 0.0137094563</td></tr>\n",
       "\t<tr><th scope=row>Apr 1952</th><td>-0.01402759</td><td>5.244400</td><td>-0.0318757882</td></tr>\n",
       "\t<tr><th scope=row>May 1952</th><td>-0.01502478</td><td>5.255686</td><td>-0.0311749995</td></tr>\n",
       "\t<tr><th scope=row>Jun 1952</th><td> 0.10978976</td><td>5.266916</td><td> 0.0077889001</td></tr>\n",
       "\t<tr><th scope=row>Jul 1952</th><td> 0.21640041</td><td>5.278147</td><td>-0.0564679741</td></tr>\n",
       "\t<tr><th scope=row>Aug 1952</th><td> 0.20960587</td><td>5.291899</td><td>-0.0125671875</td></tr>\n",
       "\t<tr><th scope=row>Sep 1952</th><td> 0.06747156</td><td>5.305651</td><td>-0.0307885329</td></tr>\n",
       "\t<tr><th scope=row>Oct 1952</th><td>-0.07024836</td><td>5.323035</td><td>-0.0005129219</td></tr>\n",
       "\t<tr><th scope=row>Nov 1952</th><td>-0.21352774</td><td>5.340418</td><td> 0.0206040218</td></tr>\n",
       "\t<tr><th scope=row>Dec 1952</th><td>-0.10063625</td><td>5.355790</td><td> 0.0127045234</td></tr>\n",
       "\t<tr><th scope=row>Jan 1953</th><td>-0.09164042</td><td>5.371162</td><td>-0.0014064946</td></tr>\n",
       "\t<tr><th scope=row>Feb 1953</th><td>-0.11402828</td><td>5.381701</td><td> 0.0104415885</td></tr>\n",
       "\t<tr><th scope=row>Mar 1953</th><td> 0.01586585</td><td>5.392241</td><td> 0.0557248228</td></tr>\n",
       "\t<tr><th scope=row>Apr 1953</th><td>-0.01402759</td><td>5.398479</td><td> 0.0751345805</td></tr>\n",
       "\t<tr><th scope=row>May 1953</th><td>-0.01502478</td><td>5.404716</td><td> 0.0440308724</td></tr>\n",
       "\t<tr><th scope=row>Jun 1953</th><td> 0.10978976</td><td>5.406792</td><td>-0.0235205660</td></tr>\n",
       "\t<tr><th scope=row>Jul 1953</th><td> 0.21640041</td><td>5.408869</td><td>-0.0493198945</td></tr>\n",
       "\t<tr><th scope=row>Aug 1953</th><td> 0.20960587</td><td>5.407808</td><td>-0.0116118099</td></tr>\n",
       "\t<tr><th scope=row>Sep 1953</th><td> 0.06747156</td><td>5.406747</td><td>-0.0061588541</td></tr>\n",
       "\t<tr><th scope=row>Oct 1953</th><td>-0.07024836</td><td>5.407020</td><td> 0.0150868577</td></tr>\n",
       "\t<tr><th scope=row>Nov 1953</th><td>-0.21352774</td><td>5.407292</td><td>-0.0008072455</td></tr>\n",
       "\t<tr><th scope=row>Dec 1953</th><td>-0.10063625</td><td>5.412628</td><td>-0.0086865700</td></tr>\n",
       "\t<tr><th scope=row>Jan 1954</th><td>-0.09164042</td><td>5.417964</td><td>-0.0082032035</td></tr>\n",
       "\t<tr><th scope=row>Feb 1954</th><td>-0.11402828</td><td>5.425823</td><td>-0.0753528534</td></tr>\n",
       "\t<tr><th scope=row>Mar 1954</th><td> 0.01586585</td><td>5.433683</td><td> 0.0100370842</td></tr>\n",
       "\t<tr><th scope=row>Apr 1954</th><td>-0.01402759</td><td>5.442676</td><td>-0.0036988730</td></tr>\n",
       "\t<tr><th scope=row>May 1954</th><td>-0.01502478</td><td>5.451670</td><td> 0.0186755182</td></tr>\n",
       "\t<tr><th scope=row>Jun 1954</th><td> 0.10978976</td><td>5.463574</td><td> 0.0025856037</td></tr>\n",
       "\t<tr><th scope=row>Jul 1954</th><td> 0.21640041</td><td>5.475477</td><td> 0.0185495056</td></tr>\n",
       "\t<tr><th scope=row>Aug 1954</th><td> 0.20960587</td><td>5.488954</td><td>-0.0183873611</td></tr>\n",
       "\t<tr><th scope=row>Sep 1954</th><td> 0.06747156</td><td>5.502431</td><td>-0.0130746073</td></tr>\n",
       "\t<tr><th scope=row>Oct 1954</th><td>-0.07024836</td><td>5.515678</td><td>-0.0117077856</td></tr>\n",
       "\t<tr><th scope=row>Nov 1954</th><td>-0.21352774</td><td>5.528925</td><td>-0.0021914704</td></tr>\n",
       "\t<tr><th scope=row>Dec 1954</th><td>-0.10063625</td><td>5.543178</td><td>-0.0088199260</td></tr>\n",
       "\t<tr><th scope=row>Jan 1955</th><td>-0.09164042</td><td>5.557431</td><td> 0.0231469788</td></tr>\n",
       "\t<tr><th scope=row>Feb 1955</th><td>-0.11402828</td><td>5.572621</td><td>-0.0075538774</td></tr>\n",
       "\t<tr><th scope=row>Mar 1955</th><td> 0.01586585</td><td>5.587810</td><td>-0.0164272509</td></tr>\n",
       "\t<tr><th scope=row>Apr 1955</th><td>-0.01402759</td><td>5.602576</td><td> 0.0061625730</td></tr>\n",
       "\t<tr><th scope=row>May 1955</th><td>-0.01502478</td><td>5.617343</td><td>-0.0038959909</td></tr>\n",
       "\t<tr><th scope=row>Jun 1955</th><td> 0.10978976</td><td>5.631685</td><td> 0.0110981305</td></tr>\n",
       "\t<tr><th scope=row>Jul 1955</th><td> 0.21640041</td><td>5.646027</td><td> 0.0347266908</td></tr>\n",
       "\t<tr><th scope=row>Aug 1955</th><td> 0.20960587</td><td>5.660026</td><td>-0.0203074185</td></tr>\n",
       "\t<tr><th scope=row>Sep 1955</th><td> 0.06747156</td><td>5.674026</td><td> 0.0015057273</td></tr>\n",
       "\t<tr><th scope=row>Oct 1955</th><td>-0.07024836</td><td>5.687411</td><td>-0.0040342159</td></tr>\n",
       "\t<tr><th scope=row>Nov 1955</th><td>-0.21352774</td><td>5.700795</td><td>-0.0192075831</td></tr>\n",
       "\t<tr><th scope=row>Dec 1955</th><td>-0.10063625</td><td>5.713683</td><td> 0.0145740752</td></tr>\n",
       "\t<tr><th scope=row>Jan 1956</th><td>-0.09164042</td><td>5.726571</td><td> 0.0140435478</td></tr>\n",
       "\t<tr><th scope=row>Feb 1956</th><td>-0.11402828</td><td>5.738688</td><td>-0.0006422520</td></tr>\n",
       "\t<tr><th scope=row>Mar 1956</th><td> 0.01586585</td><td>5.750805</td><td>-0.0077690470</td></tr>\n",
       "\t<tr><th scope=row>Apr 1956</th><td>-0.01402759</td><td>5.761271</td><td>-0.0010403672</td></tr>\n",
       "\t<tr><th scope=row>May 1956</th><td>-0.01502478</td><td>5.771737</td><td> 0.0053388421</td></tr>\n",
       "\t<tr><th scope=row>Jun 1956</th><td> 0.10978976</td><td>5.780581</td><td> 0.0338845974</td></tr>\n",
       "\t<tr><th scope=row>Jul 1956</th><td> 0.21640041</td><td>5.789426</td><td> 0.0176216235</td></tr>\n",
       "\t<tr><th scope=row>Aug 1956</th><td> 0.20960587</td><td>5.797448</td><td>-0.0031667752</td></tr>\n",
       "\t<tr><th scope=row>Sep 1956</th><td> 0.06747156</td><td>5.805470</td><td>-0.0008241663</td></tr>\n",
       "\t<tr><th scope=row>Oct 1956</th><td>-0.07024836</td><td>5.813734</td><td>-0.0199006689</td></tr>\n",
       "\t<tr><th scope=row>Nov 1956</th><td>-0.21352774</td><td>5.821998</td><td>-0.0063513051</td></tr>\n",
       "\t<tr><th scope=row>Dec 1956</th><td>-0.10063625</td><td>5.831654</td><td>-0.0074325201</td></tr>\n",
       "\t<tr><th scope=row>Jan 1957</th><td>-0.09164042</td><td>5.841310</td><td> 0.0029031831</td></tr>\n",
       "\t<tr><th scope=row>Feb 1957</th><td>-0.11402828</td><td>5.852625</td><td>-0.0314869189</td></tr>\n",
       "\t<tr><th scope=row>Mar 1957</th><td> 0.01586585</td><td>5.863941</td><td>-0.0048761755</td></tr>\n",
       "\t<tr><th scope=row>Apr 1957</th><td>-0.01402759</td><td>5.875005</td><td>-0.0087747176</td></tr>\n",
       "\t<tr><th scope=row>May 1957</th><td>-0.01502478</td><td>5.886069</td><td> 0.0010740550</td></tr>\n",
       "\t<tr><th scope=row>Jun 1957</th><td> 0.10978976</td><td>5.894711</td><td> 0.0405045167</td></tr>\n",
       "\t<tr><th scope=row>Jul 1957</th><td> 0.21640041</td><td>5.903354</td><td> 0.0222834352</td></tr>\n",
       "\t<tr><th scope=row>Aug 1957</th><td> 0.20960587</td><td>5.907786</td><td> 0.0289376116</td></tr>\n",
       "\t<tr><th scope=row>Sep 1957</th><td> 0.06747156</td><td>5.912218</td><td> 0.0217253156</td></tr>\n",
       "\t<tr><th scope=row>Oct 1957</th><td>-0.07024836</td><td>5.912909</td><td> 0.0066639927</td></tr>\n",
       "\t<tr><th scope=row>Nov 1957</th><td>-0.21352774</td><td>5.913600</td><td> 0.0202392244</td></tr>\n",
       "\t<tr><th scope=row>Dec 1957</th><td>-0.10063625</td><td>5.914570</td><td> 0.0031777723</td></tr>\n",
       "\t<tr><th scope=row>Jan 1958</th><td>-0.09164042</td><td>5.915539</td><td> 0.0050470568</td></tr>\n",
       "\t<tr><th scope=row>Feb 1958</th><td>-0.11402828</td><td>5.918512</td><td>-0.0424324225</td></tr>\n",
       "\t<tr><th scope=row>Mar 1958</th><td> 0.01586585</td><td>5.921485</td><td>-0.0457068326</td></tr>\n",
       "\t<tr><th scope=row>Apr 1958</th><td>-0.01402759</td><td>5.924977</td><td>-0.0587474166</td></tr>\n",
       "\t<tr><th scope=row>May 1958</th><td>-0.01502478</td><td>5.928470</td><td>-0.0190421600</td></tr>\n",
       "\t<tr><th scope=row>Jun 1958</th><td> 0.10978976</td><td>5.932704</td><td> 0.0328523706</td></tr>\n",
       "\t<tr><th scope=row>Jul 1958</th><td> 0.21640041</td><td>5.936938</td><td> 0.0431056910</td></tr>\n",
       "\t<tr><th scope=row>Aug 1958</th><td> 0.20960587</td><td>5.943328</td><td> 0.0716243517</td></tr>\n",
       "\t<tr><th scope=row>Sep 1958</th><td> 0.06747156</td><td>5.949718</td><td>-0.0157750808</td></tr>\n",
       "\t<tr><th scope=row>Oct 1958</th><td>-0.07024836</td><td>5.957409</td><td>-0.0038387222</td></tr>\n",
       "\t<tr><th scope=row>Nov 1958</th><td>-0.21352774</td><td>5.965101</td><td>-0.0150005051</td></tr>\n",
       "\t<tr><th scope=row>Dec 1958</th><td>-0.10063625</td><td>5.973333</td><td>-0.0526139823</td></tr>\n",
       "\t<tr><th scope=row>Jan 1959</th><td>-0.09164042</td><td>5.981566</td><td>-0.0038213288</td></tr>\n",
       "\t<tr><th scope=row>Feb 1959</th><td>-0.11402828</td><td>5.992040</td><td>-0.0432006658</td></tr>\n",
       "\t<tr><th scope=row>Mar 1959</th><td> 0.01586585</td><td>6.002514</td><td>-0.0120262807</td></tr>\n",
       "\t<tr><th scope=row>Apr 1959</th><td>-0.01402759</td><td>6.015640</td><td>-0.0201986959</td></tr>\n",
       "\t<tr><th scope=row>May 1959</th><td>-0.01502478</td><td>6.028767</td><td> 0.0265120912</td></tr>\n",
       "\t<tr><th scope=row>Jun 1959</th><td> 0.10978976</td><td>6.042198</td><td> 0.0049914005</td></tr>\n",
       "\t<tr><th scope=row>Jul 1959</th><td> 0.21640041</td><td>6.055628</td><td> 0.0342466268</td></tr>\n",
       "\t<tr><th scope=row>Aug 1959</th><td> 0.20960587</td><td>6.065881</td><td> 0.0506625860</td></tr>\n",
       "\t<tr><th scope=row>Sep 1959</th><td> 0.06747156</td><td>6.076134</td><td>-0.0058783006</td></tr>\n",
       "\t<tr><th scope=row>Oct 1959</th><td>-0.07024836</td><td>6.084145</td><td>-0.0050832771</td></tr>\n",
       "\t<tr><th scope=row>Nov 1959</th><td>-0.21352774</td><td>6.092156</td><td> 0.0130161013</td></tr>\n",
       "\t<tr><th scope=row>Dec 1959</th><td>-0.10063625</td><td>6.100500</td><td> 0.0040231864</td></tr>\n",
       "\t<tr><th scope=row>Jan 1960</th><td>-0.09164042</td><td>6.108844</td><td> 0.0158822334</td></tr>\n",
       "\t<tr><th scope=row>Feb 1960</th><td>-0.11402828</td><td>6.117934</td><td>-0.0351985510</td></tr>\n",
       "\t<tr><th scope=row>Mar 1960</th><td> 0.01586585</td><td>6.127024</td><td>-0.1050193083</td></tr>\n",
       "\t<tr><th scope=row>Apr 1960</th><td>-0.01402759</td><td>6.135814</td><td> 0.0116112609</td></tr>\n",
       "\t<tr><th scope=row>May 1960</th><td>-0.01502478</td><td>6.144604</td><td> 0.0273994037</td></tr>\n",
       "\t<tr><th scope=row>Jun 1960</th><td> 0.10978976</td><td>6.152986</td><td> 0.0194908174</td></tr>\n",
       "\t<tr><th scope=row>Jul 1960</th><td> 0.21640041</td><td>6.161368</td><td> 0.0551717057</td></tr>\n",
       "\t<tr><th scope=row>Aug 1960</th><td> 0.20960587</td><td>6.170124</td><td> 0.0271500533</td></tr>\n",
       "\t<tr><th scope=row>Sep 1960</th><td> 0.06747156</td><td>6.178880</td><td>-0.0158702714</td></tr>\n",
       "\t<tr><th scope=row>Oct 1960</th><td>-0.07024836</td><td>6.187594</td><td> 0.0160525773</td></tr>\n",
       "\t<tr><th scope=row>Nov 1960</th><td>-0.21352774</td><td>6.196307</td><td>-0.0166330133</td></tr>\n",
       "\t<tr><th scope=row>Dec 1960</th><td>-0.10063625</td><td>6.204752</td><td>-0.0356905175</td></tr>\n",
       "</tbody>\n",
       "</table>\n"
      ],
      "text/latex": [
       "A Time Series: 144 × 3\n",
       "\\begin{tabular}{r|lll}\n",
       "  & seasonal & trend & remainder\\\\\n",
       "\\hline\n",
       "\tJan 1949 & -0.09164042 & 4.829389 & -0.0192493585\\\\\n",
       "\tFeb 1949 & -0.11402828 & 4.830368 &  0.0543447685\\\\\n",
       "\tMar 1949 &  0.01586585 & 4.831348 &  0.0355884457\\\\\n",
       "\tApr 1949 & -0.01402759 & 4.833377 &  0.0404632511\\\\\n",
       "\tMay 1949 & -0.01502478 & 4.835406 & -0.0245905300\\\\\n",
       "\tJun 1949 &  0.10978976 & 4.838166 & -0.0426814256\\\\\n",
       "\tJul 1949 &  0.21640041 & 4.840927 & -0.0601151688\\\\\n",
       "\tAug 1949 &  0.20960587 & 4.843469 & -0.0558624690\\\\\n",
       "\tSep 1949 &  0.06747156 & 4.846011 & -0.0008273977\\\\\n",
       "\tOct 1949 & -0.07024836 & 4.850883 & -0.0015112948\\\\\n",
       "\tNov 1949 & -0.21352774 & 4.855756 &  0.0021630667\\\\\n",
       "\tDec 1949 & -0.10063625 & 4.864586 &  0.0067346600\\\\\n",
       "\tJan 1950 & -0.09164042 & 4.873417 & -0.0368443057\\\\\n",
       "\tFeb 1950 & -0.11402828 & 4.883282 &  0.0670284530\\\\\n",
       "\tMar 1950 &  0.01586585 & 4.893147 &  0.0397474219\\\\\n",
       "\tApr 1950 & -0.01402759 & 4.903156 &  0.0161459950\\\\\n",
       "\tMay 1950 & -0.01502478 & 4.913166 & -0.0698276070\\\\\n",
       "\tJun 1950 &  0.10978976 & 4.925404 & -0.0312477713\\\\\n",
       "\tJul 1950 &  0.21640041 & 4.937643 & -0.0182444833\\\\\n",
       "\tAug 1950 &  0.20960587 & 4.954420 & -0.0282273969\\\\\n",
       "\tSep 1950 &  0.06747156 & 4.971197 &  0.0239260449\\\\\n",
       "\tOct 1950 & -0.07024836 & 4.991662 & -0.0310647612\\\\\n",
       "\tNov 1950 & -0.21352774 & 5.012127 & -0.0624008823\\\\\n",
       "\tDec 1950 & -0.10063625 & 5.031094 &  0.0111846224\\\\\n",
       "\tJan 1951 & -0.09164042 & 5.050061 &  0.0183131352\\\\\n",
       "\tFeb 1951 & -0.11402828 & 5.065044 &  0.0596196836\\\\\n",
       "\tMar 1951 &  0.01586585 & 5.080027 &  0.0858909418\\\\\n",
       "\tApr 1951 & -0.01402759 & 5.093932 &  0.0138460280\\\\\n",
       "\tMay 1951 & -0.01502478 & 5.107837 &  0.0546824937\\\\\n",
       "\tJun 1951 &  0.10978976 & 5.121064 & -0.0490698826\\\\\n",
       "\tJul 1951 &  0.21640041 & 5.134291 & -0.0573861680\\\\\n",
       "\tAug 1951 &  0.20960587 & 5.146131 & -0.0624323009\\\\\n",
       "\tSep 1951 &  0.06747156 & 5.157972 & -0.0105077415\\\\\n",
       "\tOct 1951 & -0.07024836 & 5.169854 & -0.0120089320\\\\\n",
       "\tNov 1951 & -0.21352774 & 5.181735 &  0.0153990463\\\\\n",
       "\tDec 1951 & -0.10063625 & 5.194803 &  0.0178207135\\\\\n",
       "\tJan 1952 & -0.09164042 & 5.207871 &  0.0254326447\\\\\n",
       "\tFeb 1952 & -0.11402828 & 5.220493 &  0.0864920261\\\\\n",
       "\tMar 1952 &  0.01586585 & 5.233115 &  0.0137094563\\\\\n",
       "\tApr 1952 & -0.01402759 & 5.244400 & -0.0318757882\\\\\n",
       "\tMay 1952 & -0.01502478 & 5.255686 & -0.0311749995\\\\\n",
       "\tJun 1952 &  0.10978976 & 5.266916 &  0.0077889001\\\\\n",
       "\tJul 1952 &  0.21640041 & 5.278147 & -0.0564679741\\\\\n",
       "\tAug 1952 &  0.20960587 & 5.291899 & -0.0125671875\\\\\n",
       "\tSep 1952 &  0.06747156 & 5.305651 & -0.0307885329\\\\\n",
       "\tOct 1952 & -0.07024836 & 5.323035 & -0.0005129219\\\\\n",
       "\tNov 1952 & -0.21352774 & 5.340418 &  0.0206040218\\\\\n",
       "\tDec 1952 & -0.10063625 & 5.355790 &  0.0127045234\\\\\n",
       "\tJan 1953 & -0.09164042 & 5.371162 & -0.0014064946\\\\\n",
       "\tFeb 1953 & -0.11402828 & 5.381701 &  0.0104415885\\\\\n",
       "\tMar 1953 &  0.01586585 & 5.392241 &  0.0557248228\\\\\n",
       "\tApr 1953 & -0.01402759 & 5.398479 &  0.0751345805\\\\\n",
       "\tMay 1953 & -0.01502478 & 5.404716 &  0.0440308724\\\\\n",
       "\tJun 1953 &  0.10978976 & 5.406792 & -0.0235205660\\\\\n",
       "\tJul 1953 &  0.21640041 & 5.408869 & -0.0493198945\\\\\n",
       "\tAug 1953 &  0.20960587 & 5.407808 & -0.0116118099\\\\\n",
       "\tSep 1953 &  0.06747156 & 5.406747 & -0.0061588541\\\\\n",
       "\tOct 1953 & -0.07024836 & 5.407020 &  0.0150868577\\\\\n",
       "\tNov 1953 & -0.21352774 & 5.407292 & -0.0008072455\\\\\n",
       "\tDec 1953 & -0.10063625 & 5.412628 & -0.0086865700\\\\\n",
       "\tJan 1954 & -0.09164042 & 5.417964 & -0.0082032035\\\\\n",
       "\tFeb 1954 & -0.11402828 & 5.425823 & -0.0753528534\\\\\n",
       "\tMar 1954 &  0.01586585 & 5.433683 &  0.0100370842\\\\\n",
       "\tApr 1954 & -0.01402759 & 5.442676 & -0.0036988730\\\\\n",
       "\tMay 1954 & -0.01502478 & 5.451670 &  0.0186755182\\\\\n",
       "\tJun 1954 &  0.10978976 & 5.463574 &  0.0025856037\\\\\n",
       "\tJul 1954 &  0.21640041 & 5.475477 &  0.0185495056\\\\\n",
       "\tAug 1954 &  0.20960587 & 5.488954 & -0.0183873611\\\\\n",
       "\tSep 1954 &  0.06747156 & 5.502431 & -0.0130746073\\\\\n",
       "\tOct 1954 & -0.07024836 & 5.515678 & -0.0117077856\\\\\n",
       "\tNov 1954 & -0.21352774 & 5.528925 & -0.0021914704\\\\\n",
       "\tDec 1954 & -0.10063625 & 5.543178 & -0.0088199260\\\\\n",
       "\tJan 1955 & -0.09164042 & 5.557431 &  0.0231469788\\\\\n",
       "\tFeb 1955 & -0.11402828 & 5.572621 & -0.0075538774\\\\\n",
       "\tMar 1955 &  0.01586585 & 5.587810 & -0.0164272509\\\\\n",
       "\tApr 1955 & -0.01402759 & 5.602576 &  0.0061625730\\\\\n",
       "\tMay 1955 & -0.01502478 & 5.617343 & -0.0038959909\\\\\n",
       "\tJun 1955 &  0.10978976 & 5.631685 &  0.0110981305\\\\\n",
       "\tJul 1955 &  0.21640041 & 5.646027 &  0.0347266908\\\\\n",
       "\tAug 1955 &  0.20960587 & 5.660026 & -0.0203074185\\\\\n",
       "\tSep 1955 &  0.06747156 & 5.674026 &  0.0015057273\\\\\n",
       "\tOct 1955 & -0.07024836 & 5.687411 & -0.0040342159\\\\\n",
       "\tNov 1955 & -0.21352774 & 5.700795 & -0.0192075831\\\\\n",
       "\tDec 1955 & -0.10063625 & 5.713683 &  0.0145740752\\\\\n",
       "\tJan 1956 & -0.09164042 & 5.726571 &  0.0140435478\\\\\n",
       "\tFeb 1956 & -0.11402828 & 5.738688 & -0.0006422520\\\\\n",
       "\tMar 1956 &  0.01586585 & 5.750805 & -0.0077690470\\\\\n",
       "\tApr 1956 & -0.01402759 & 5.761271 & -0.0010403672\\\\\n",
       "\tMay 1956 & -0.01502478 & 5.771737 &  0.0053388421\\\\\n",
       "\tJun 1956 &  0.10978976 & 5.780581 &  0.0338845974\\\\\n",
       "\tJul 1956 &  0.21640041 & 5.789426 &  0.0176216235\\\\\n",
       "\tAug 1956 &  0.20960587 & 5.797448 & -0.0031667752\\\\\n",
       "\tSep 1956 &  0.06747156 & 5.805470 & -0.0008241663\\\\\n",
       "\tOct 1956 & -0.07024836 & 5.813734 & -0.0199006689\\\\\n",
       "\tNov 1956 & -0.21352774 & 5.821998 & -0.0063513051\\\\\n",
       "\tDec 1956 & -0.10063625 & 5.831654 & -0.0074325201\\\\\n",
       "\tJan 1957 & -0.09164042 & 5.841310 &  0.0029031831\\\\\n",
       "\tFeb 1957 & -0.11402828 & 5.852625 & -0.0314869189\\\\\n",
       "\tMar 1957 &  0.01586585 & 5.863941 & -0.0048761755\\\\\n",
       "\tApr 1957 & -0.01402759 & 5.875005 & -0.0087747176\\\\\n",
       "\tMay 1957 & -0.01502478 & 5.886069 &  0.0010740550\\\\\n",
       "\tJun 1957 &  0.10978976 & 5.894711 &  0.0405045167\\\\\n",
       "\tJul 1957 &  0.21640041 & 5.903354 &  0.0222834352\\\\\n",
       "\tAug 1957 &  0.20960587 & 5.907786 &  0.0289376116\\\\\n",
       "\tSep 1957 &  0.06747156 & 5.912218 &  0.0217253156\\\\\n",
       "\tOct 1957 & -0.07024836 & 5.912909 &  0.0066639927\\\\\n",
       "\tNov 1957 & -0.21352774 & 5.913600 &  0.0202392244\\\\\n",
       "\tDec 1957 & -0.10063625 & 5.914570 &  0.0031777723\\\\\n",
       "\tJan 1958 & -0.09164042 & 5.915539 &  0.0050470568\\\\\n",
       "\tFeb 1958 & -0.11402828 & 5.918512 & -0.0424324225\\\\\n",
       "\tMar 1958 &  0.01586585 & 5.921485 & -0.0457068326\\\\\n",
       "\tApr 1958 & -0.01402759 & 5.924977 & -0.0587474166\\\\\n",
       "\tMay 1958 & -0.01502478 & 5.928470 & -0.0190421600\\\\\n",
       "\tJun 1958 &  0.10978976 & 5.932704 &  0.0328523706\\\\\n",
       "\tJul 1958 &  0.21640041 & 5.936938 &  0.0431056910\\\\\n",
       "\tAug 1958 &  0.20960587 & 5.943328 &  0.0716243517\\\\\n",
       "\tSep 1958 &  0.06747156 & 5.949718 & -0.0157750808\\\\\n",
       "\tOct 1958 & -0.07024836 & 5.957409 & -0.0038387222\\\\\n",
       "\tNov 1958 & -0.21352774 & 5.965101 & -0.0150005051\\\\\n",
       "\tDec 1958 & -0.10063625 & 5.973333 & -0.0526139823\\\\\n",
       "\tJan 1959 & -0.09164042 & 5.981566 & -0.0038213288\\\\\n",
       "\tFeb 1959 & -0.11402828 & 5.992040 & -0.0432006658\\\\\n",
       "\tMar 1959 &  0.01586585 & 6.002514 & -0.0120262807\\\\\n",
       "\tApr 1959 & -0.01402759 & 6.015640 & -0.0201986959\\\\\n",
       "\tMay 1959 & -0.01502478 & 6.028767 &  0.0265120912\\\\\n",
       "\tJun 1959 &  0.10978976 & 6.042198 &  0.0049914005\\\\\n",
       "\tJul 1959 &  0.21640041 & 6.055628 &  0.0342466268\\\\\n",
       "\tAug 1959 &  0.20960587 & 6.065881 &  0.0506625860\\\\\n",
       "\tSep 1959 &  0.06747156 & 6.076134 & -0.0058783006\\\\\n",
       "\tOct 1959 & -0.07024836 & 6.084145 & -0.0050832771\\\\\n",
       "\tNov 1959 & -0.21352774 & 6.092156 &  0.0130161013\\\\\n",
       "\tDec 1959 & -0.10063625 & 6.100500 &  0.0040231864\\\\\n",
       "\tJan 1960 & -0.09164042 & 6.108844 &  0.0158822334\\\\\n",
       "\tFeb 1960 & -0.11402828 & 6.117934 & -0.0351985510\\\\\n",
       "\tMar 1960 &  0.01586585 & 6.127024 & -0.1050193083\\\\\n",
       "\tApr 1960 & -0.01402759 & 6.135814 &  0.0116112609\\\\\n",
       "\tMay 1960 & -0.01502478 & 6.144604 &  0.0273994037\\\\\n",
       "\tJun 1960 &  0.10978976 & 6.152986 &  0.0194908174\\\\\n",
       "\tJul 1960 &  0.21640041 & 6.161368 &  0.0551717057\\\\\n",
       "\tAug 1960 &  0.20960587 & 6.170124 &  0.0271500533\\\\\n",
       "\tSep 1960 &  0.06747156 & 6.178880 & -0.0158702714\\\\\n",
       "\tOct 1960 & -0.07024836 & 6.187594 &  0.0160525773\\\\\n",
       "\tNov 1960 & -0.21352774 & 6.196307 & -0.0166330133\\\\\n",
       "\tDec 1960 & -0.10063625 & 6.204752 & -0.0356905175\\\\\n",
       "\\end{tabular}\n"
      ],
      "text/markdown": [
       "\n",
       "A Time Series: 144 × 3\n",
       "\n",
       "| <!--/--> | seasonal | trend | remainder |\n",
       "|---|---|---|---|\n",
       "| Jan 1949 | -0.09164042 | 4.829389 | -0.0192493585 |\n",
       "| Feb 1949 | -0.11402828 | 4.830368 |  0.0543447685 |\n",
       "| Mar 1949 |  0.01586585 | 4.831348 |  0.0355884457 |\n",
       "| Apr 1949 | -0.01402759 | 4.833377 |  0.0404632511 |\n",
       "| May 1949 | -0.01502478 | 4.835406 | -0.0245905300 |\n",
       "| Jun 1949 |  0.10978976 | 4.838166 | -0.0426814256 |\n",
       "| Jul 1949 |  0.21640041 | 4.840927 | -0.0601151688 |\n",
       "| Aug 1949 |  0.20960587 | 4.843469 | -0.0558624690 |\n",
       "| Sep 1949 |  0.06747156 | 4.846011 | -0.0008273977 |\n",
       "| Oct 1949 | -0.07024836 | 4.850883 | -0.0015112948 |\n",
       "| Nov 1949 | -0.21352774 | 4.855756 |  0.0021630667 |\n",
       "| Dec 1949 | -0.10063625 | 4.864586 |  0.0067346600 |\n",
       "| Jan 1950 | -0.09164042 | 4.873417 | -0.0368443057 |\n",
       "| Feb 1950 | -0.11402828 | 4.883282 |  0.0670284530 |\n",
       "| Mar 1950 |  0.01586585 | 4.893147 |  0.0397474219 |\n",
       "| Apr 1950 | -0.01402759 | 4.903156 |  0.0161459950 |\n",
       "| May 1950 | -0.01502478 | 4.913166 | -0.0698276070 |\n",
       "| Jun 1950 |  0.10978976 | 4.925404 | -0.0312477713 |\n",
       "| Jul 1950 |  0.21640041 | 4.937643 | -0.0182444833 |\n",
       "| Aug 1950 |  0.20960587 | 4.954420 | -0.0282273969 |\n",
       "| Sep 1950 |  0.06747156 | 4.971197 |  0.0239260449 |\n",
       "| Oct 1950 | -0.07024836 | 4.991662 | -0.0310647612 |\n",
       "| Nov 1950 | -0.21352774 | 5.012127 | -0.0624008823 |\n",
       "| Dec 1950 | -0.10063625 | 5.031094 |  0.0111846224 |\n",
       "| Jan 1951 | -0.09164042 | 5.050061 |  0.0183131352 |\n",
       "| Feb 1951 | -0.11402828 | 5.065044 |  0.0596196836 |\n",
       "| Mar 1951 |  0.01586585 | 5.080027 |  0.0858909418 |\n",
       "| Apr 1951 | -0.01402759 | 5.093932 |  0.0138460280 |\n",
       "| May 1951 | -0.01502478 | 5.107837 |  0.0546824937 |\n",
       "| Jun 1951 |  0.10978976 | 5.121064 | -0.0490698826 |\n",
       "| Jul 1951 |  0.21640041 | 5.134291 | -0.0573861680 |\n",
       "| Aug 1951 |  0.20960587 | 5.146131 | -0.0624323009 |\n",
       "| Sep 1951 |  0.06747156 | 5.157972 | -0.0105077415 |\n",
       "| Oct 1951 | -0.07024836 | 5.169854 | -0.0120089320 |\n",
       "| Nov 1951 | -0.21352774 | 5.181735 |  0.0153990463 |\n",
       "| Dec 1951 | -0.10063625 | 5.194803 |  0.0178207135 |\n",
       "| Jan 1952 | -0.09164042 | 5.207871 |  0.0254326447 |\n",
       "| Feb 1952 | -0.11402828 | 5.220493 |  0.0864920261 |\n",
       "| Mar 1952 |  0.01586585 | 5.233115 |  0.0137094563 |\n",
       "| Apr 1952 | -0.01402759 | 5.244400 | -0.0318757882 |\n",
       "| May 1952 | -0.01502478 | 5.255686 | -0.0311749995 |\n",
       "| Jun 1952 |  0.10978976 | 5.266916 |  0.0077889001 |\n",
       "| Jul 1952 |  0.21640041 | 5.278147 | -0.0564679741 |\n",
       "| Aug 1952 |  0.20960587 | 5.291899 | -0.0125671875 |\n",
       "| Sep 1952 |  0.06747156 | 5.305651 | -0.0307885329 |\n",
       "| Oct 1952 | -0.07024836 | 5.323035 | -0.0005129219 |\n",
       "| Nov 1952 | -0.21352774 | 5.340418 |  0.0206040218 |\n",
       "| Dec 1952 | -0.10063625 | 5.355790 |  0.0127045234 |\n",
       "| Jan 1953 | -0.09164042 | 5.371162 | -0.0014064946 |\n",
       "| Feb 1953 | -0.11402828 | 5.381701 |  0.0104415885 |\n",
       "| Mar 1953 |  0.01586585 | 5.392241 |  0.0557248228 |\n",
       "| Apr 1953 | -0.01402759 | 5.398479 |  0.0751345805 |\n",
       "| May 1953 | -0.01502478 | 5.404716 |  0.0440308724 |\n",
       "| Jun 1953 |  0.10978976 | 5.406792 | -0.0235205660 |\n",
       "| Jul 1953 |  0.21640041 | 5.408869 | -0.0493198945 |\n",
       "| Aug 1953 |  0.20960587 | 5.407808 | -0.0116118099 |\n",
       "| Sep 1953 |  0.06747156 | 5.406747 | -0.0061588541 |\n",
       "| Oct 1953 | -0.07024836 | 5.407020 |  0.0150868577 |\n",
       "| Nov 1953 | -0.21352774 | 5.407292 | -0.0008072455 |\n",
       "| Dec 1953 | -0.10063625 | 5.412628 | -0.0086865700 |\n",
       "| Jan 1954 | -0.09164042 | 5.417964 | -0.0082032035 |\n",
       "| Feb 1954 | -0.11402828 | 5.425823 | -0.0753528534 |\n",
       "| Mar 1954 |  0.01586585 | 5.433683 |  0.0100370842 |\n",
       "| Apr 1954 | -0.01402759 | 5.442676 | -0.0036988730 |\n",
       "| May 1954 | -0.01502478 | 5.451670 |  0.0186755182 |\n",
       "| Jun 1954 |  0.10978976 | 5.463574 |  0.0025856037 |\n",
       "| Jul 1954 |  0.21640041 | 5.475477 |  0.0185495056 |\n",
       "| Aug 1954 |  0.20960587 | 5.488954 | -0.0183873611 |\n",
       "| Sep 1954 |  0.06747156 | 5.502431 | -0.0130746073 |\n",
       "| Oct 1954 | -0.07024836 | 5.515678 | -0.0117077856 |\n",
       "| Nov 1954 | -0.21352774 | 5.528925 | -0.0021914704 |\n",
       "| Dec 1954 | -0.10063625 | 5.543178 | -0.0088199260 |\n",
       "| Jan 1955 | -0.09164042 | 5.557431 |  0.0231469788 |\n",
       "| Feb 1955 | -0.11402828 | 5.572621 | -0.0075538774 |\n",
       "| Mar 1955 |  0.01586585 | 5.587810 | -0.0164272509 |\n",
       "| Apr 1955 | -0.01402759 | 5.602576 |  0.0061625730 |\n",
       "| May 1955 | -0.01502478 | 5.617343 | -0.0038959909 |\n",
       "| Jun 1955 |  0.10978976 | 5.631685 |  0.0110981305 |\n",
       "| Jul 1955 |  0.21640041 | 5.646027 |  0.0347266908 |\n",
       "| Aug 1955 |  0.20960587 | 5.660026 | -0.0203074185 |\n",
       "| Sep 1955 |  0.06747156 | 5.674026 |  0.0015057273 |\n",
       "| Oct 1955 | -0.07024836 | 5.687411 | -0.0040342159 |\n",
       "| Nov 1955 | -0.21352774 | 5.700795 | -0.0192075831 |\n",
       "| Dec 1955 | -0.10063625 | 5.713683 |  0.0145740752 |\n",
       "| Jan 1956 | -0.09164042 | 5.726571 |  0.0140435478 |\n",
       "| Feb 1956 | -0.11402828 | 5.738688 | -0.0006422520 |\n",
       "| Mar 1956 |  0.01586585 | 5.750805 | -0.0077690470 |\n",
       "| Apr 1956 | -0.01402759 | 5.761271 | -0.0010403672 |\n",
       "| May 1956 | -0.01502478 | 5.771737 |  0.0053388421 |\n",
       "| Jun 1956 |  0.10978976 | 5.780581 |  0.0338845974 |\n",
       "| Jul 1956 |  0.21640041 | 5.789426 |  0.0176216235 |\n",
       "| Aug 1956 |  0.20960587 | 5.797448 | -0.0031667752 |\n",
       "| Sep 1956 |  0.06747156 | 5.805470 | -0.0008241663 |\n",
       "| Oct 1956 | -0.07024836 | 5.813734 | -0.0199006689 |\n",
       "| Nov 1956 | -0.21352774 | 5.821998 | -0.0063513051 |\n",
       "| Dec 1956 | -0.10063625 | 5.831654 | -0.0074325201 |\n",
       "| Jan 1957 | -0.09164042 | 5.841310 |  0.0029031831 |\n",
       "| Feb 1957 | -0.11402828 | 5.852625 | -0.0314869189 |\n",
       "| Mar 1957 |  0.01586585 | 5.863941 | -0.0048761755 |\n",
       "| Apr 1957 | -0.01402759 | 5.875005 | -0.0087747176 |\n",
       "| May 1957 | -0.01502478 | 5.886069 |  0.0010740550 |\n",
       "| Jun 1957 |  0.10978976 | 5.894711 |  0.0405045167 |\n",
       "| Jul 1957 |  0.21640041 | 5.903354 |  0.0222834352 |\n",
       "| Aug 1957 |  0.20960587 | 5.907786 |  0.0289376116 |\n",
       "| Sep 1957 |  0.06747156 | 5.912218 |  0.0217253156 |\n",
       "| Oct 1957 | -0.07024836 | 5.912909 |  0.0066639927 |\n",
       "| Nov 1957 | -0.21352774 | 5.913600 |  0.0202392244 |\n",
       "| Dec 1957 | -0.10063625 | 5.914570 |  0.0031777723 |\n",
       "| Jan 1958 | -0.09164042 | 5.915539 |  0.0050470568 |\n",
       "| Feb 1958 | -0.11402828 | 5.918512 | -0.0424324225 |\n",
       "| Mar 1958 |  0.01586585 | 5.921485 | -0.0457068326 |\n",
       "| Apr 1958 | -0.01402759 | 5.924977 | -0.0587474166 |\n",
       "| May 1958 | -0.01502478 | 5.928470 | -0.0190421600 |\n",
       "| Jun 1958 |  0.10978976 | 5.932704 |  0.0328523706 |\n",
       "| Jul 1958 |  0.21640041 | 5.936938 |  0.0431056910 |\n",
       "| Aug 1958 |  0.20960587 | 5.943328 |  0.0716243517 |\n",
       "| Sep 1958 |  0.06747156 | 5.949718 | -0.0157750808 |\n",
       "| Oct 1958 | -0.07024836 | 5.957409 | -0.0038387222 |\n",
       "| Nov 1958 | -0.21352774 | 5.965101 | -0.0150005051 |\n",
       "| Dec 1958 | -0.10063625 | 5.973333 | -0.0526139823 |\n",
       "| Jan 1959 | -0.09164042 | 5.981566 | -0.0038213288 |\n",
       "| Feb 1959 | -0.11402828 | 5.992040 | -0.0432006658 |\n",
       "| Mar 1959 |  0.01586585 | 6.002514 | -0.0120262807 |\n",
       "| Apr 1959 | -0.01402759 | 6.015640 | -0.0201986959 |\n",
       "| May 1959 | -0.01502478 | 6.028767 |  0.0265120912 |\n",
       "| Jun 1959 |  0.10978976 | 6.042198 |  0.0049914005 |\n",
       "| Jul 1959 |  0.21640041 | 6.055628 |  0.0342466268 |\n",
       "| Aug 1959 |  0.20960587 | 6.065881 |  0.0506625860 |\n",
       "| Sep 1959 |  0.06747156 | 6.076134 | -0.0058783006 |\n",
       "| Oct 1959 | -0.07024836 | 6.084145 | -0.0050832771 |\n",
       "| Nov 1959 | -0.21352774 | 6.092156 |  0.0130161013 |\n",
       "| Dec 1959 | -0.10063625 | 6.100500 |  0.0040231864 |\n",
       "| Jan 1960 | -0.09164042 | 6.108844 |  0.0158822334 |\n",
       "| Feb 1960 | -0.11402828 | 6.117934 | -0.0351985510 |\n",
       "| Mar 1960 |  0.01586585 | 6.127024 | -0.1050193083 |\n",
       "| Apr 1960 | -0.01402759 | 6.135814 |  0.0116112609 |\n",
       "| May 1960 | -0.01502478 | 6.144604 |  0.0273994037 |\n",
       "| Jun 1960 |  0.10978976 | 6.152986 |  0.0194908174 |\n",
       "| Jul 1960 |  0.21640041 | 6.161368 |  0.0551717057 |\n",
       "| Aug 1960 |  0.20960587 | 6.170124 |  0.0271500533 |\n",
       "| Sep 1960 |  0.06747156 | 6.178880 | -0.0158702714 |\n",
       "| Oct 1960 | -0.07024836 | 6.187594 |  0.0160525773 |\n",
       "| Nov 1960 | -0.21352774 | 6.196307 | -0.0166330133 |\n",
       "| Dec 1960 | -0.10063625 | 6.204752 | -0.0356905175 |\n",
       "\n"
      ],
      "text/plain": [
       "         seasonal    trend    remainder    \n",
       "Jan 1949 -0.09164042 4.829389 -0.0192493585\n",
       "Feb 1949 -0.11402828 4.830368  0.0543447685\n",
       "Mar 1949  0.01586585 4.831348  0.0355884457\n",
       "Apr 1949 -0.01402759 4.833377  0.0404632511\n",
       "May 1949 -0.01502478 4.835406 -0.0245905300\n",
       "Jun 1949  0.10978976 4.838166 -0.0426814256\n",
       "Jul 1949  0.21640041 4.840927 -0.0601151688\n",
       "Aug 1949  0.20960587 4.843469 -0.0558624690\n",
       "Sep 1949  0.06747156 4.846011 -0.0008273977\n",
       "Oct 1949 -0.07024836 4.850883 -0.0015112948\n",
       "Nov 1949 -0.21352774 4.855756  0.0021630667\n",
       "Dec 1949 -0.10063625 4.864586  0.0067346600\n",
       "Jan 1950 -0.09164042 4.873417 -0.0368443057\n",
       "Feb 1950 -0.11402828 4.883282  0.0670284530\n",
       "Mar 1950  0.01586585 4.893147  0.0397474219\n",
       "Apr 1950 -0.01402759 4.903156  0.0161459950\n",
       "May 1950 -0.01502478 4.913166 -0.0698276070\n",
       "Jun 1950  0.10978976 4.925404 -0.0312477713\n",
       "Jul 1950  0.21640041 4.937643 -0.0182444833\n",
       "Aug 1950  0.20960587 4.954420 -0.0282273969\n",
       "Sep 1950  0.06747156 4.971197  0.0239260449\n",
       "Oct 1950 -0.07024836 4.991662 -0.0310647612\n",
       "Nov 1950 -0.21352774 5.012127 -0.0624008823\n",
       "Dec 1950 -0.10063625 5.031094  0.0111846224\n",
       "Jan 1951 -0.09164042 5.050061  0.0183131352\n",
       "Feb 1951 -0.11402828 5.065044  0.0596196836\n",
       "Mar 1951  0.01586585 5.080027  0.0858909418\n",
       "Apr 1951 -0.01402759 5.093932  0.0138460280\n",
       "May 1951 -0.01502478 5.107837  0.0546824937\n",
       "Jun 1951  0.10978976 5.121064 -0.0490698826\n",
       "Jul 1951  0.21640041 5.134291 -0.0573861680\n",
       "Aug 1951  0.20960587 5.146131 -0.0624323009\n",
       "Sep 1951  0.06747156 5.157972 -0.0105077415\n",
       "Oct 1951 -0.07024836 5.169854 -0.0120089320\n",
       "Nov 1951 -0.21352774 5.181735  0.0153990463\n",
       "Dec 1951 -0.10063625 5.194803  0.0178207135\n",
       "Jan 1952 -0.09164042 5.207871  0.0254326447\n",
       "Feb 1952 -0.11402828 5.220493  0.0864920261\n",
       "Mar 1952  0.01586585 5.233115  0.0137094563\n",
       "Apr 1952 -0.01402759 5.244400 -0.0318757882\n",
       "May 1952 -0.01502478 5.255686 -0.0311749995\n",
       "Jun 1952  0.10978976 5.266916  0.0077889001\n",
       "Jul 1952  0.21640041 5.278147 -0.0564679741\n",
       "Aug 1952  0.20960587 5.291899 -0.0125671875\n",
       "Sep 1952  0.06747156 5.305651 -0.0307885329\n",
       "Oct 1952 -0.07024836 5.323035 -0.0005129219\n",
       "Nov 1952 -0.21352774 5.340418  0.0206040218\n",
       "Dec 1952 -0.10063625 5.355790  0.0127045234\n",
       "Jan 1953 -0.09164042 5.371162 -0.0014064946\n",
       "Feb 1953 -0.11402828 5.381701  0.0104415885\n",
       "Mar 1953  0.01586585 5.392241  0.0557248228\n",
       "Apr 1953 -0.01402759 5.398479  0.0751345805\n",
       "May 1953 -0.01502478 5.404716  0.0440308724\n",
       "Jun 1953  0.10978976 5.406792 -0.0235205660\n",
       "Jul 1953  0.21640041 5.408869 -0.0493198945\n",
       "Aug 1953  0.20960587 5.407808 -0.0116118099\n",
       "Sep 1953  0.06747156 5.406747 -0.0061588541\n",
       "Oct 1953 -0.07024836 5.407020  0.0150868577\n",
       "Nov 1953 -0.21352774 5.407292 -0.0008072455\n",
       "Dec 1953 -0.10063625 5.412628 -0.0086865700\n",
       "Jan 1954 -0.09164042 5.417964 -0.0082032035\n",
       "Feb 1954 -0.11402828 5.425823 -0.0753528534\n",
       "Mar 1954  0.01586585 5.433683  0.0100370842\n",
       "Apr 1954 -0.01402759 5.442676 -0.0036988730\n",
       "May 1954 -0.01502478 5.451670  0.0186755182\n",
       "Jun 1954  0.10978976 5.463574  0.0025856037\n",
       "Jul 1954  0.21640041 5.475477  0.0185495056\n",
       "Aug 1954  0.20960587 5.488954 -0.0183873611\n",
       "Sep 1954  0.06747156 5.502431 -0.0130746073\n",
       "Oct 1954 -0.07024836 5.515678 -0.0117077856\n",
       "Nov 1954 -0.21352774 5.528925 -0.0021914704\n",
       "Dec 1954 -0.10063625 5.543178 -0.0088199260\n",
       "Jan 1955 -0.09164042 5.557431  0.0231469788\n",
       "Feb 1955 -0.11402828 5.572621 -0.0075538774\n",
       "Mar 1955  0.01586585 5.587810 -0.0164272509\n",
       "Apr 1955 -0.01402759 5.602576  0.0061625730\n",
       "May 1955 -0.01502478 5.617343 -0.0038959909\n",
       "Jun 1955  0.10978976 5.631685  0.0110981305\n",
       "Jul 1955  0.21640041 5.646027  0.0347266908\n",
       "Aug 1955  0.20960587 5.660026 -0.0203074185\n",
       "Sep 1955  0.06747156 5.674026  0.0015057273\n",
       "Oct 1955 -0.07024836 5.687411 -0.0040342159\n",
       "Nov 1955 -0.21352774 5.700795 -0.0192075831\n",
       "Dec 1955 -0.10063625 5.713683  0.0145740752\n",
       "Jan 1956 -0.09164042 5.726571  0.0140435478\n",
       "Feb 1956 -0.11402828 5.738688 -0.0006422520\n",
       "Mar 1956  0.01586585 5.750805 -0.0077690470\n",
       "Apr 1956 -0.01402759 5.761271 -0.0010403672\n",
       "May 1956 -0.01502478 5.771737  0.0053388421\n",
       "Jun 1956  0.10978976 5.780581  0.0338845974\n",
       "Jul 1956  0.21640041 5.789426  0.0176216235\n",
       "Aug 1956  0.20960587 5.797448 -0.0031667752\n",
       "Sep 1956  0.06747156 5.805470 -0.0008241663\n",
       "Oct 1956 -0.07024836 5.813734 -0.0199006689\n",
       "Nov 1956 -0.21352774 5.821998 -0.0063513051\n",
       "Dec 1956 -0.10063625 5.831654 -0.0074325201\n",
       "Jan 1957 -0.09164042 5.841310  0.0029031831\n",
       "Feb 1957 -0.11402828 5.852625 -0.0314869189\n",
       "Mar 1957  0.01586585 5.863941 -0.0048761755\n",
       "Apr 1957 -0.01402759 5.875005 -0.0087747176\n",
       "May 1957 -0.01502478 5.886069  0.0010740550\n",
       "Jun 1957  0.10978976 5.894711  0.0405045167\n",
       "Jul 1957  0.21640041 5.903354  0.0222834352\n",
       "Aug 1957  0.20960587 5.907786  0.0289376116\n",
       "Sep 1957  0.06747156 5.912218  0.0217253156\n",
       "Oct 1957 -0.07024836 5.912909  0.0066639927\n",
       "Nov 1957 -0.21352774 5.913600  0.0202392244\n",
       "Dec 1957 -0.10063625 5.914570  0.0031777723\n",
       "Jan 1958 -0.09164042 5.915539  0.0050470568\n",
       "Feb 1958 -0.11402828 5.918512 -0.0424324225\n",
       "Mar 1958  0.01586585 5.921485 -0.0457068326\n",
       "Apr 1958 -0.01402759 5.924977 -0.0587474166\n",
       "May 1958 -0.01502478 5.928470 -0.0190421600\n",
       "Jun 1958  0.10978976 5.932704  0.0328523706\n",
       "Jul 1958  0.21640041 5.936938  0.0431056910\n",
       "Aug 1958  0.20960587 5.943328  0.0716243517\n",
       "Sep 1958  0.06747156 5.949718 -0.0157750808\n",
       "Oct 1958 -0.07024836 5.957409 -0.0038387222\n",
       "Nov 1958 -0.21352774 5.965101 -0.0150005051\n",
       "Dec 1958 -0.10063625 5.973333 -0.0526139823\n",
       "Jan 1959 -0.09164042 5.981566 -0.0038213288\n",
       "Feb 1959 -0.11402828 5.992040 -0.0432006658\n",
       "Mar 1959  0.01586585 6.002514 -0.0120262807\n",
       "Apr 1959 -0.01402759 6.015640 -0.0201986959\n",
       "May 1959 -0.01502478 6.028767  0.0265120912\n",
       "Jun 1959  0.10978976 6.042198  0.0049914005\n",
       "Jul 1959  0.21640041 6.055628  0.0342466268\n",
       "Aug 1959  0.20960587 6.065881  0.0506625860\n",
       "Sep 1959  0.06747156 6.076134 -0.0058783006\n",
       "Oct 1959 -0.07024836 6.084145 -0.0050832771\n",
       "Nov 1959 -0.21352774 6.092156  0.0130161013\n",
       "Dec 1959 -0.10063625 6.100500  0.0040231864\n",
       "Jan 1960 -0.09164042 6.108844  0.0158822334\n",
       "Feb 1960 -0.11402828 6.117934 -0.0351985510\n",
       "Mar 1960  0.01586585 6.127024 -0.1050193083\n",
       "Apr 1960 -0.01402759 6.135814  0.0116112609\n",
       "May 1960 -0.01502478 6.144604  0.0273994037\n",
       "Jun 1960  0.10978976 6.152986  0.0194908174\n",
       "Jul 1960  0.21640041 6.161368  0.0551717057\n",
       "Aug 1960  0.20960587 6.170124  0.0271500533\n",
       "Sep 1960  0.06747156 6.178880 -0.0158702714\n",
       "Oct 1960 -0.07024836 6.187594  0.0160525773\n",
       "Nov 1960 -0.21352774 6.196307 -0.0166330133\n",
       "Dec 1960 -0.10063625 6.204752 -0.0356905175"
      ]
     },
     "metadata": {},
     "output_type": "display_data"
    }
   ],
   "source": [
    "fit$time.series"
   ]
  },
  {
   "cell_type": "code",
   "execution_count": 17,
   "metadata": {
    "vscode": {
     "languageId": "r"
    }
   },
   "outputs": [
    {
     "data": {
      "text/html": [
       "<table class=\"dataframe\">\n",
       "<caption>A Time Series: 144 × 3</caption>\n",
       "<thead>\n",
       "\t<tr><th></th><th scope=col>seasonal</th><th scope=col>trend</th><th scope=col>remainder</th></tr>\n",
       "</thead>\n",
       "<tbody>\n",
       "\t<tr><th scope=row>Jan 1949</th><td>0.9124332</td><td>125.1344</td><td>0.9809347</td></tr>\n",
       "\t<tr><th scope=row>Feb 1949</th><td>0.8922327</td><td>125.2571</td><td>1.0558486</td></tr>\n",
       "\t<tr><th scope=row>Mar 1949</th><td>1.0159924</td><td>125.3798</td><td>1.0362293</td></tr>\n",
       "\t<tr><th scope=row>Apr 1949</th><td>0.9860703</td><td>125.6345</td><td>1.0412930</td></tr>\n",
       "\t<tr><th scope=row>May 1949</th><td>0.9850875</td><td>125.8897</td><td>0.9757094</td></tr>\n",
       "\t<tr><th scope=row>Jun 1949</th><td>1.1160434</td><td>126.2377</td><td>0.9582166</td></tr>\n",
       "\t<tr><th scope=row>Jul 1949</th><td>1.2415994</td><td>126.5866</td><td>0.9416561</td></tr>\n",
       "\t<tr><th scope=row>Aug 1949</th><td>1.2331919</td><td>126.9088</td><td>0.9456692</td></tr>\n",
       "\t<tr><th scope=row>Sep 1949</th><td>1.0697998</td><td>127.2318</td><td>0.9991729</td></tr>\n",
       "\t<tr><th scope=row>Oct 1949</th><td>0.9321623</td><td>127.8533</td><td>0.9984898</td></tr>\n",
       "\t<tr><th scope=row>Nov 1949</th><td>0.8077298</td><td>128.4777</td><td>1.0021654</td></tr>\n",
       "\t<tr><th scope=row>Dec 1949</th><td>0.9042619</td><td>129.6173</td><td>1.0067574</td></tr>\n",
       "\t<tr><th scope=row>Jan 1950</th><td>0.9124332</td><td>130.7670</td><td>0.9638262</td></tr>\n",
       "\t<tr><th scope=row>Feb 1950</th><td>0.8922327</td><td>132.0634</td><td>1.0693259</td></tr>\n",
       "\t<tr><th scope=row>Mar 1950</th><td>1.0159924</td><td>133.3726</td><td>1.0405479</td></tr>\n",
       "\t<tr><th scope=row>Apr 1950</th><td>0.9860703</td><td>134.7143</td><td>1.0162770</td></tr>\n",
       "\t<tr><th scope=row>May 1950</th><td>0.9850875</td><td>136.0695</td><td>0.9325546</td></tr>\n",
       "\t<tr><th scope=row>Jun 1950</th><td>1.1160434</td><td>137.7450</td><td>0.9692354</td></tr>\n",
       "\t<tr><th scope=row>Jul 1950</th><td>1.2415994</td><td>139.4411</td><td>0.9819209</td></tr>\n",
       "\t<tr><th scope=row>Aug 1950</th><td>1.2331919</td><td>141.8003</td><td>0.9721673</td></tr>\n",
       "\t<tr><th scope=row>Sep 1950</th><td>1.0697998</td><td>144.1995</td><td>1.0242146</td></tr>\n",
       "\t<tr><th scope=row>Oct 1950</th><td>0.9321623</td><td>147.1809</td><td>0.9694128</td></tr>\n",
       "\t<tr><th scope=row>Nov 1950</th><td>0.8077298</td><td>150.2239</td><td>0.9395062</td></tr>\n",
       "\t<tr><th scope=row>Dec 1950</th><td>0.9042619</td><td>153.1004</td><td>1.0112474</td></tr>\n",
       "\t<tr><th scope=row>Jan 1951</th><td>0.9124332</td><td>156.0320</td><td>1.0184818</td></tr>\n",
       "\t<tr><th scope=row>Feb 1951</th><td>0.8922327</td><td>158.3874</td><td>1.0614328</td></tr>\n",
       "\t<tr><th scope=row>Mar 1951</th><td>1.0159924</td><td>160.7784</td><td>1.0896875</td></tr>\n",
       "\t<tr><th scope=row>Apr 1951</th><td>0.9860703</td><td>163.0296</td><td>1.0139423</td></tr>\n",
       "\t<tr><th scope=row>May 1951</th><td>0.9850875</td><td>165.3124</td><td>1.0562052</td></tr>\n",
       "\t<tr><th scope=row>Jun 1951</th><td>1.1160434</td><td>167.5135</td><td>0.9521146</td></tr>\n",
       "\t<tr><th scope=row>Jul 1951</th><td>1.2415994</td><td>169.7439</td><td>0.9442294</td></tr>\n",
       "\t<tr><th scope=row>Aug 1951</th><td>1.2331919</td><td>171.7657</td><td>0.9394767</td></tr>\n",
       "\t<tr><th scope=row>Sep 1951</th><td>1.0697998</td><td>173.8116</td><td>0.9895473</td></tr>\n",
       "\t<tr><th scope=row>Oct 1951</th><td>0.9321623</td><td>175.8891</td><td>0.9880629</td></tr>\n",
       "\t<tr><th scope=row>Nov 1951</th><td>0.8077298</td><td>177.9914</td><td>1.0155182</td></tr>\n",
       "\t<tr><th scope=row>Dec 1951</th><td>0.9042619</td><td>180.3327</td><td>1.0179804</td></tr>\n",
       "\t<tr><th scope=row>Jan 1952</th><td>0.9124332</td><td>182.7047</td><td>1.0257588</td></tr>\n",
       "\t<tr><th scope=row>Feb 1952</th><td>0.8922327</td><td>185.0254</td><td>1.0903427</td></tr>\n",
       "\t<tr><th scope=row>Mar 1952</th><td>1.0159924</td><td>187.3755</td><td>1.0138039</td></tr>\n",
       "\t<tr><th scope=row>Apr 1952</th><td>0.9860703</td><td>189.5022</td><td>0.9686269</td></tr>\n",
       "\t<tr><th scope=row>May 1952</th><td>0.9850875</td><td>191.6529</td><td>0.9693059</td></tr>\n",
       "\t<tr><th scope=row>Jun 1952</th><td>1.1160434</td><td>193.8174</td><td>1.0078193</td></tr>\n",
       "\t<tr><th scope=row>Jul 1952</th><td>1.2415994</td><td>196.0063</td><td>0.9450968</td></tr>\n",
       "\t<tr><th scope=row>Aug 1952</th><td>1.2331919</td><td>198.7204</td><td>0.9875114</td></tr>\n",
       "\t<tr><th scope=row>Sep 1952</th><td>1.0697998</td><td>201.4722</td><td>0.9696806</td></tr>\n",
       "\t<tr><th scope=row>Oct 1952</th><td>0.9321623</td><td>205.0051</td><td>0.9994872</td></tr>\n",
       "\t<tr><th scope=row>Nov 1952</th><td>0.8077298</td><td>208.5999</td><td>1.0208178</td></tr>\n",
       "\t<tr><th scope=row>Dec 1952</th><td>0.9042619</td><td>211.8312</td><td>1.0127856</td></tr>\n",
       "\t<tr><th scope=row>Jan 1953</th><td>0.9124332</td><td>215.1126</td><td>0.9985945</td></tr>\n",
       "\t<tr><th scope=row>Feb 1953</th><td>0.8922327</td><td>217.3918</td><td>1.0104963</td></tr>\n",
       "\t<tr><th scope=row>Mar 1953</th><td>1.0159924</td><td>219.6952</td><td>1.0573067</td></tr>\n",
       "\t<tr><th scope=row>Apr 1953</th><td>0.9860703</td><td>221.0698</td><td>1.0780292</td></tr>\n",
       "\t<tr><th scope=row>May 1953</th><td>0.9850875</td><td>222.4530</td><td>1.0450146</td></tr>\n",
       "\t<tr><th scope=row>Jun 1953</th><td>1.1160434</td><td>222.9154</td><td>0.9767539</td></tr>\n",
       "\t<tr><th scope=row>Jul 1953</th><td>1.2415994</td><td>223.3787</td><td>0.9518766</td></tr>\n",
       "\t<tr><th scope=row>Aug 1953</th><td>1.2331919</td><td>223.1419</td><td>0.9884553</td></tr>\n",
       "\t<tr><th scope=row>Sep 1953</th><td>1.0697998</td><td>222.9054</td><td>0.9938601</td></tr>\n",
       "\t<tr><th scope=row>Oct 1953</th><td>0.9321623</td><td>222.9661</td><td>1.0152012</td></tr>\n",
       "\t<tr><th scope=row>Nov 1953</th><td>0.8077298</td><td>223.0268</td><td>0.9991931</td></tr>\n",
       "\t<tr><th scope=row>Dec 1953</th><td>0.9042619</td><td>224.2200</td><td>0.9913510</td></tr>\n",
       "\t<tr><th scope=row>Jan 1954</th><td>0.9124332</td><td>225.4196</td><td>0.9918304</td></tr>\n",
       "\t<tr><th scope=row>Feb 1954</th><td>0.8922327</td><td>227.1983</td><td>0.9274162</td></tr>\n",
       "\t<tr><th scope=row>Mar 1954</th><td>1.0159924</td><td>228.9910</td><td>1.0100876</td></tr>\n",
       "\t<tr><th scope=row>Apr 1954</th><td>0.9860703</td><td>231.0598</td><td>0.9963080</td></tr>\n",
       "\t<tr><th scope=row>May 1954</th><td>0.9850875</td><td>233.1473</td><td>1.0188510</td></tr>\n",
       "\t<tr><th scope=row>Jun 1954</th><td>1.1160434</td><td>235.9391</td><td>1.0025889</td></tr>\n",
       "\t<tr><th scope=row>Jul 1954</th><td>1.2415994</td><td>238.7644</td><td>1.0187226</td></tr>\n",
       "\t<tr><th scope=row>Aug 1954</th><td>1.2331919</td><td>242.0040</td><td>0.9817807</td></tr>\n",
       "\t<tr><th scope=row>Sep 1954</th><td>1.0697998</td><td>245.2875</td><td>0.9870105</td></tr>\n",
       "\t<tr><th scope=row>Oct 1954</th><td>0.9321623</td><td>248.5585</td><td>0.9883605</td></tr>\n",
       "\t<tr><th scope=row>Nov 1954</th><td>0.8077298</td><td>251.8730</td><td>0.9978109</td></tr>\n",
       "\t<tr><th scope=row>Dec 1954</th><td>0.9042619</td><td>255.4887</td><td>0.9912189</td></tr>\n",
       "\t<tr><th scope=row>Jan 1955</th><td>0.9124332</td><td>259.1563</td><td>1.0234169</td></tr>\n",
       "\t<tr><th scope=row>Feb 1955</th><td>0.8922327</td><td>263.1227</td><td>0.9924746</td></tr>\n",
       "\t<tr><th scope=row>Mar 1955</th><td>1.0159924</td><td>267.1499</td><td>0.9837069</td></tr>\n",
       "\t<tr><th scope=row>Apr 1955</th><td>0.9860703</td><td>271.1240</td><td>1.0061816</td></tr>\n",
       "\t<tr><th scope=row>May 1955</th><td>0.9850875</td><td>275.1572</td><td>0.9961116</td></tr>\n",
       "\t<tr><th scope=row>Jun 1955</th><td>1.1160434</td><td>279.1320</td><td>1.0111599</td></tr>\n",
       "\t<tr><th scope=row>Jul 1955</th><td>1.2415994</td><td>283.1642</td><td>1.0353367</td></tr>\n",
       "\t<tr><th scope=row>Aug 1955</th><td>1.2331919</td><td>287.1562</td><td>0.9798974</td></tr>\n",
       "\t<tr><th scope=row>Sep 1955</th><td>1.0697998</td><td>291.2045</td><td>1.0015069</td></tr>\n",
       "\t<tr><th scope=row>Oct 1955</th><td>0.9321623</td><td>295.1284</td><td>0.9959739</td></tr>\n",
       "\t<tr><th scope=row>Nov 1955</th><td>0.8077298</td><td>299.1052</td><td>0.9809757</td></tr>\n",
       "\t<tr><th scope=row>Dec 1955</th><td>0.9042619</td><td>302.9850</td><td>1.0146808</td></tr>\n",
       "\t<tr><th scope=row>Jan 1956</th><td>0.9124332</td><td>306.9151</td><td>1.0141426</td></tr>\n",
       "\t<tr><th scope=row>Feb 1956</th><td>0.8922327</td><td>310.6566</td><td>0.9993580</td></tr>\n",
       "\t<tr><th scope=row>Mar 1956</th><td>1.0159924</td><td>314.4437</td><td>0.9922611</td></tr>\n",
       "\t<tr><th scope=row>Apr 1956</th><td>0.9860703</td><td>317.7520</td><td>0.9989602</td></tr>\n",
       "\t<tr><th scope=row>May 1956</th><td>0.9850875</td><td>321.0951</td><td>1.0053531</td></tr>\n",
       "\t<tr><th scope=row>Jun 1956</th><td>1.1160434</td><td>323.9475</td><td>1.0344652</td></tr>\n",
       "\t<tr><th scope=row>Jul 1956</th><td>1.2415994</td><td>326.8252</td><td>1.0177778</td></tr>\n",
       "\t<tr><th scope=row>Aug 1956</th><td>1.2331919</td><td>329.4577</td><td>0.9968382</td></tr>\n",
       "\t<tr><th scope=row>Sep 1956</th><td>1.0697998</td><td>332.1114</td><td>0.9991762</td></tr>\n",
       "\t<tr><th scope=row>Oct 1956</th><td>0.9321623</td><td>334.8672</td><td>0.9802960</td></tr>\n",
       "\t<tr><th scope=row>Nov 1956</th><td>0.8077298</td><td>337.6460</td><td>0.9936688</td></tr>\n",
       "\t<tr><th scope=row>Dec 1956</th><td>0.9042619</td><td>340.9221</td><td>0.9925950</td></tr>\n",
       "\t<tr><th scope=row>Jan 1957</th><td>0.9124332</td><td>344.2299</td><td>1.0029074</td></tr>\n",
       "\t<tr><th scope=row>Feb 1957</th><td>0.8922327</td><td>348.1472</td><td>0.9690036</td></tr>\n",
       "\t<tr><th scope=row>Mar 1957</th><td>1.0159924</td><td>352.1091</td><td>0.9951357</td></tr>\n",
       "\t<tr><th scope=row>Apr 1957</th><td>0.9860703</td><td>356.0264</td><td>0.9912637</td></tr>\n",
       "\t<tr><th scope=row>May 1957</th><td>0.9850875</td><td>359.9872</td><td>1.0010746</td></tr>\n",
       "\t<tr><th scope=row>Jun 1957</th><td>1.1160434</td><td>363.1119</td><td>1.0413360</td></tr>\n",
       "\t<tr><th scope=row>Jul 1957</th><td>1.2415994</td><td>366.2637</td><td>1.0225336</td></tr>\n",
       "\t<tr><th scope=row>Aug 1957</th><td>1.2331919</td><td>367.8907</td><td>1.0293604</td></tr>\n",
       "\t<tr><th scope=row>Sep 1957</th><td>1.0697998</td><td>369.5249</td><td>1.0219630</td></tr>\n",
       "\t<tr><th scope=row>Oct 1957</th><td>0.9321623</td><td>369.7803</td><td>1.0066862</td></tr>\n",
       "\t<tr><th scope=row>Nov 1957</th><td>0.8077298</td><td>370.0360</td><td>1.0204454</td></tr>\n",
       "\t<tr><th scope=row>Dec 1957</th><td>0.9042619</td><td>370.3949</td><td>1.0031828</td></tr>\n",
       "\t<tr><th scope=row>Jan 1958</th><td>0.9124332</td><td>370.7541</td><td>1.0050598</td></tr>\n",
       "\t<tr><th scope=row>Feb 1958</th><td>0.8922327</td><td>371.8580</td><td>0.9584552</td></tr>\n",
       "\t<tr><th scope=row>Mar 1958</th><td>1.0159924</td><td>372.9652</td><td>0.9553220</td></tr>\n",
       "\t<tr><th scope=row>Apr 1958</th><td>0.9860703</td><td>374.2700</td><td>0.9429449</td></tr>\n",
       "\t<tr><th scope=row>May 1958</th><td>0.9850875</td><td>375.5794</td><td>0.9811380</td></tr>\n",
       "\t<tr><th scope=row>Jun 1958</th><td>1.1160434</td><td>377.1730</td><td>1.0333980</td></tr>\n",
       "\t<tr><th scope=row>Jul 1958</th><td>1.2415994</td><td>378.7734</td><td>1.0440482</td></tr>\n",
       "\t<tr><th scope=row>Aug 1958</th><td>1.2331919</td><td>381.2015</td><td>1.0742517</td></tr>\n",
       "\t<tr><th scope=row>Sep 1958</th><td>1.0697998</td><td>383.6453</td><td>0.9843487</td></tr>\n",
       "\t<tr><th scope=row>Oct 1958</th><td>0.9321623</td><td>386.6073</td><td>0.9961686</td></tr>\n",
       "\t<tr><th scope=row>Nov 1958</th><td>0.8077298</td><td>389.5922</td><td>0.9851114</td></tr>\n",
       "\t<tr><th scope=row>Dec 1958</th><td>0.9042619</td><td>392.8128</td><td>0.9487462</td></tr>\n",
       "\t<tr><th scope=row>Jan 1959</th><td>0.9124332</td><td>396.0600</td><td>0.9961860</td></tr>\n",
       "\t<tr><th scope=row>Feb 1959</th><td>0.8922327</td><td>400.2301</td><td>0.9577192</td></tr>\n",
       "\t<tr><th scope=row>Mar 1959</th><td>1.0159924</td><td>404.4441</td><td>0.9880457</td></tr>\n",
       "\t<tr><th scope=row>Apr 1959</th><td>0.9860703</td><td>409.7882</td><td>0.9800039</td></tr>\n",
       "\t<tr><th scope=row>May 1959</th><td>0.9850875</td><td>415.2029</td><td>1.0268667</td></tr>\n",
       "\t<tr><th scope=row>Jun 1959</th><td>1.1160434</td><td>420.8169</td><td>1.0050039</td></tr>\n",
       "\t<tr><th scope=row>Jul 1959</th><td>1.2415994</td><td>426.5068</td><td>1.0348398</td></tr>\n",
       "\t<tr><th scope=row>Aug 1959</th><td>1.2331919</td><td>430.9021</td><td>1.0519679</td></tr>\n",
       "\t<tr><th scope=row>Sep 1959</th><td>1.0697998</td><td>435.3428</td><td>0.9941389</td></tr>\n",
       "\t<tr><th scope=row>Oct 1959</th><td>0.9321623</td><td>438.8444</td><td>0.9949296</td></tr>\n",
       "\t<tr><th scope=row>Nov 1959</th><td>0.8077298</td><td>442.3741</td><td>1.0131012</td></tr>\n",
       "\t<tr><th scope=row>Dec 1959</th><td>0.9042619</td><td>446.0808</td><td>1.0040313</td></tr>\n",
       "\t<tr><th scope=row>Jan 1960</th><td>0.9124332</td><td>449.8186</td><td>1.0160090</td></tr>\n",
       "\t<tr><th scope=row>Feb 1960</th><td>0.8922327</td><td>453.9261</td><td>0.9654137</td></tr>\n",
       "\t<tr><th scope=row>Mar 1960</th><td>1.0159924</td><td>458.0711</td><td>0.9003071</td></tr>\n",
       "\t<tr><th scope=row>Apr 1960</th><td>0.9860703</td><td>462.1153</td><td>1.0116789</td></tr>\n",
       "\t<tr><th scope=row>May 1960</th><td>0.9850875</td><td>466.1952</td><td>1.0277782</td></tr>\n",
       "\t<tr><th scope=row>Jun 1960</th><td>1.1160434</td><td>470.1191</td><td>1.0196820</td></tr>\n",
       "\t<tr><th scope=row>Jul 1960</th><td>1.2415994</td><td>474.0762</td><td>1.0567220</td></tr>\n",
       "\t<tr><th scope=row>Aug 1960</th><td>1.2331919</td><td>478.2454</td><td>1.0275220</td></tr>\n",
       "\t<tr><th scope=row>Sep 1960</th><td>1.0697998</td><td>482.4514</td><td>0.9842550</td></tr>\n",
       "\t<tr><th scope=row>Oct 1960</th><td>0.9321623</td><td>486.6737</td><td>1.0161821</td></tr>\n",
       "\t<tr><th scope=row>Nov 1960</th><td>0.8077298</td><td>490.9329</td><td>0.9835046</td></tr>\n",
       "\t<tr><th scope=row>Dec 1960</th><td>0.9042619</td><td>495.0963</td><td>0.9649389</td></tr>\n",
       "</tbody>\n",
       "</table>\n"
      ],
      "text/latex": [
       "A Time Series: 144 × 3\n",
       "\\begin{tabular}{r|lll}\n",
       "  & seasonal & trend & remainder\\\\\n",
       "\\hline\n",
       "\tJan 1949 & 0.9124332 & 125.1344 & 0.9809347\\\\\n",
       "\tFeb 1949 & 0.8922327 & 125.2571 & 1.0558486\\\\\n",
       "\tMar 1949 & 1.0159924 & 125.3798 & 1.0362293\\\\\n",
       "\tApr 1949 & 0.9860703 & 125.6345 & 1.0412930\\\\\n",
       "\tMay 1949 & 0.9850875 & 125.8897 & 0.9757094\\\\\n",
       "\tJun 1949 & 1.1160434 & 126.2377 & 0.9582166\\\\\n",
       "\tJul 1949 & 1.2415994 & 126.5866 & 0.9416561\\\\\n",
       "\tAug 1949 & 1.2331919 & 126.9088 & 0.9456692\\\\\n",
       "\tSep 1949 & 1.0697998 & 127.2318 & 0.9991729\\\\\n",
       "\tOct 1949 & 0.9321623 & 127.8533 & 0.9984898\\\\\n",
       "\tNov 1949 & 0.8077298 & 128.4777 & 1.0021654\\\\\n",
       "\tDec 1949 & 0.9042619 & 129.6173 & 1.0067574\\\\\n",
       "\tJan 1950 & 0.9124332 & 130.7670 & 0.9638262\\\\\n",
       "\tFeb 1950 & 0.8922327 & 132.0634 & 1.0693259\\\\\n",
       "\tMar 1950 & 1.0159924 & 133.3726 & 1.0405479\\\\\n",
       "\tApr 1950 & 0.9860703 & 134.7143 & 1.0162770\\\\\n",
       "\tMay 1950 & 0.9850875 & 136.0695 & 0.9325546\\\\\n",
       "\tJun 1950 & 1.1160434 & 137.7450 & 0.9692354\\\\\n",
       "\tJul 1950 & 1.2415994 & 139.4411 & 0.9819209\\\\\n",
       "\tAug 1950 & 1.2331919 & 141.8003 & 0.9721673\\\\\n",
       "\tSep 1950 & 1.0697998 & 144.1995 & 1.0242146\\\\\n",
       "\tOct 1950 & 0.9321623 & 147.1809 & 0.9694128\\\\\n",
       "\tNov 1950 & 0.8077298 & 150.2239 & 0.9395062\\\\\n",
       "\tDec 1950 & 0.9042619 & 153.1004 & 1.0112474\\\\\n",
       "\tJan 1951 & 0.9124332 & 156.0320 & 1.0184818\\\\\n",
       "\tFeb 1951 & 0.8922327 & 158.3874 & 1.0614328\\\\\n",
       "\tMar 1951 & 1.0159924 & 160.7784 & 1.0896875\\\\\n",
       "\tApr 1951 & 0.9860703 & 163.0296 & 1.0139423\\\\\n",
       "\tMay 1951 & 0.9850875 & 165.3124 & 1.0562052\\\\\n",
       "\tJun 1951 & 1.1160434 & 167.5135 & 0.9521146\\\\\n",
       "\tJul 1951 & 1.2415994 & 169.7439 & 0.9442294\\\\\n",
       "\tAug 1951 & 1.2331919 & 171.7657 & 0.9394767\\\\\n",
       "\tSep 1951 & 1.0697998 & 173.8116 & 0.9895473\\\\\n",
       "\tOct 1951 & 0.9321623 & 175.8891 & 0.9880629\\\\\n",
       "\tNov 1951 & 0.8077298 & 177.9914 & 1.0155182\\\\\n",
       "\tDec 1951 & 0.9042619 & 180.3327 & 1.0179804\\\\\n",
       "\tJan 1952 & 0.9124332 & 182.7047 & 1.0257588\\\\\n",
       "\tFeb 1952 & 0.8922327 & 185.0254 & 1.0903427\\\\\n",
       "\tMar 1952 & 1.0159924 & 187.3755 & 1.0138039\\\\\n",
       "\tApr 1952 & 0.9860703 & 189.5022 & 0.9686269\\\\\n",
       "\tMay 1952 & 0.9850875 & 191.6529 & 0.9693059\\\\\n",
       "\tJun 1952 & 1.1160434 & 193.8174 & 1.0078193\\\\\n",
       "\tJul 1952 & 1.2415994 & 196.0063 & 0.9450968\\\\\n",
       "\tAug 1952 & 1.2331919 & 198.7204 & 0.9875114\\\\\n",
       "\tSep 1952 & 1.0697998 & 201.4722 & 0.9696806\\\\\n",
       "\tOct 1952 & 0.9321623 & 205.0051 & 0.9994872\\\\\n",
       "\tNov 1952 & 0.8077298 & 208.5999 & 1.0208178\\\\\n",
       "\tDec 1952 & 0.9042619 & 211.8312 & 1.0127856\\\\\n",
       "\tJan 1953 & 0.9124332 & 215.1126 & 0.9985945\\\\\n",
       "\tFeb 1953 & 0.8922327 & 217.3918 & 1.0104963\\\\\n",
       "\tMar 1953 & 1.0159924 & 219.6952 & 1.0573067\\\\\n",
       "\tApr 1953 & 0.9860703 & 221.0698 & 1.0780292\\\\\n",
       "\tMay 1953 & 0.9850875 & 222.4530 & 1.0450146\\\\\n",
       "\tJun 1953 & 1.1160434 & 222.9154 & 0.9767539\\\\\n",
       "\tJul 1953 & 1.2415994 & 223.3787 & 0.9518766\\\\\n",
       "\tAug 1953 & 1.2331919 & 223.1419 & 0.9884553\\\\\n",
       "\tSep 1953 & 1.0697998 & 222.9054 & 0.9938601\\\\\n",
       "\tOct 1953 & 0.9321623 & 222.9661 & 1.0152012\\\\\n",
       "\tNov 1953 & 0.8077298 & 223.0268 & 0.9991931\\\\\n",
       "\tDec 1953 & 0.9042619 & 224.2200 & 0.9913510\\\\\n",
       "\tJan 1954 & 0.9124332 & 225.4196 & 0.9918304\\\\\n",
       "\tFeb 1954 & 0.8922327 & 227.1983 & 0.9274162\\\\\n",
       "\tMar 1954 & 1.0159924 & 228.9910 & 1.0100876\\\\\n",
       "\tApr 1954 & 0.9860703 & 231.0598 & 0.9963080\\\\\n",
       "\tMay 1954 & 0.9850875 & 233.1473 & 1.0188510\\\\\n",
       "\tJun 1954 & 1.1160434 & 235.9391 & 1.0025889\\\\\n",
       "\tJul 1954 & 1.2415994 & 238.7644 & 1.0187226\\\\\n",
       "\tAug 1954 & 1.2331919 & 242.0040 & 0.9817807\\\\\n",
       "\tSep 1954 & 1.0697998 & 245.2875 & 0.9870105\\\\\n",
       "\tOct 1954 & 0.9321623 & 248.5585 & 0.9883605\\\\\n",
       "\tNov 1954 & 0.8077298 & 251.8730 & 0.9978109\\\\\n",
       "\tDec 1954 & 0.9042619 & 255.4887 & 0.9912189\\\\\n",
       "\tJan 1955 & 0.9124332 & 259.1563 & 1.0234169\\\\\n",
       "\tFeb 1955 & 0.8922327 & 263.1227 & 0.9924746\\\\\n",
       "\tMar 1955 & 1.0159924 & 267.1499 & 0.9837069\\\\\n",
       "\tApr 1955 & 0.9860703 & 271.1240 & 1.0061816\\\\\n",
       "\tMay 1955 & 0.9850875 & 275.1572 & 0.9961116\\\\\n",
       "\tJun 1955 & 1.1160434 & 279.1320 & 1.0111599\\\\\n",
       "\tJul 1955 & 1.2415994 & 283.1642 & 1.0353367\\\\\n",
       "\tAug 1955 & 1.2331919 & 287.1562 & 0.9798974\\\\\n",
       "\tSep 1955 & 1.0697998 & 291.2045 & 1.0015069\\\\\n",
       "\tOct 1955 & 0.9321623 & 295.1284 & 0.9959739\\\\\n",
       "\tNov 1955 & 0.8077298 & 299.1052 & 0.9809757\\\\\n",
       "\tDec 1955 & 0.9042619 & 302.9850 & 1.0146808\\\\\n",
       "\tJan 1956 & 0.9124332 & 306.9151 & 1.0141426\\\\\n",
       "\tFeb 1956 & 0.8922327 & 310.6566 & 0.9993580\\\\\n",
       "\tMar 1956 & 1.0159924 & 314.4437 & 0.9922611\\\\\n",
       "\tApr 1956 & 0.9860703 & 317.7520 & 0.9989602\\\\\n",
       "\tMay 1956 & 0.9850875 & 321.0951 & 1.0053531\\\\\n",
       "\tJun 1956 & 1.1160434 & 323.9475 & 1.0344652\\\\\n",
       "\tJul 1956 & 1.2415994 & 326.8252 & 1.0177778\\\\\n",
       "\tAug 1956 & 1.2331919 & 329.4577 & 0.9968382\\\\\n",
       "\tSep 1956 & 1.0697998 & 332.1114 & 0.9991762\\\\\n",
       "\tOct 1956 & 0.9321623 & 334.8672 & 0.9802960\\\\\n",
       "\tNov 1956 & 0.8077298 & 337.6460 & 0.9936688\\\\\n",
       "\tDec 1956 & 0.9042619 & 340.9221 & 0.9925950\\\\\n",
       "\tJan 1957 & 0.9124332 & 344.2299 & 1.0029074\\\\\n",
       "\tFeb 1957 & 0.8922327 & 348.1472 & 0.9690036\\\\\n",
       "\tMar 1957 & 1.0159924 & 352.1091 & 0.9951357\\\\\n",
       "\tApr 1957 & 0.9860703 & 356.0264 & 0.9912637\\\\\n",
       "\tMay 1957 & 0.9850875 & 359.9872 & 1.0010746\\\\\n",
       "\tJun 1957 & 1.1160434 & 363.1119 & 1.0413360\\\\\n",
       "\tJul 1957 & 1.2415994 & 366.2637 & 1.0225336\\\\\n",
       "\tAug 1957 & 1.2331919 & 367.8907 & 1.0293604\\\\\n",
       "\tSep 1957 & 1.0697998 & 369.5249 & 1.0219630\\\\\n",
       "\tOct 1957 & 0.9321623 & 369.7803 & 1.0066862\\\\\n",
       "\tNov 1957 & 0.8077298 & 370.0360 & 1.0204454\\\\\n",
       "\tDec 1957 & 0.9042619 & 370.3949 & 1.0031828\\\\\n",
       "\tJan 1958 & 0.9124332 & 370.7541 & 1.0050598\\\\\n",
       "\tFeb 1958 & 0.8922327 & 371.8580 & 0.9584552\\\\\n",
       "\tMar 1958 & 1.0159924 & 372.9652 & 0.9553220\\\\\n",
       "\tApr 1958 & 0.9860703 & 374.2700 & 0.9429449\\\\\n",
       "\tMay 1958 & 0.9850875 & 375.5794 & 0.9811380\\\\\n",
       "\tJun 1958 & 1.1160434 & 377.1730 & 1.0333980\\\\\n",
       "\tJul 1958 & 1.2415994 & 378.7734 & 1.0440482\\\\\n",
       "\tAug 1958 & 1.2331919 & 381.2015 & 1.0742517\\\\\n",
       "\tSep 1958 & 1.0697998 & 383.6453 & 0.9843487\\\\\n",
       "\tOct 1958 & 0.9321623 & 386.6073 & 0.9961686\\\\\n",
       "\tNov 1958 & 0.8077298 & 389.5922 & 0.9851114\\\\\n",
       "\tDec 1958 & 0.9042619 & 392.8128 & 0.9487462\\\\\n",
       "\tJan 1959 & 0.9124332 & 396.0600 & 0.9961860\\\\\n",
       "\tFeb 1959 & 0.8922327 & 400.2301 & 0.9577192\\\\\n",
       "\tMar 1959 & 1.0159924 & 404.4441 & 0.9880457\\\\\n",
       "\tApr 1959 & 0.9860703 & 409.7882 & 0.9800039\\\\\n",
       "\tMay 1959 & 0.9850875 & 415.2029 & 1.0268667\\\\\n",
       "\tJun 1959 & 1.1160434 & 420.8169 & 1.0050039\\\\\n",
       "\tJul 1959 & 1.2415994 & 426.5068 & 1.0348398\\\\\n",
       "\tAug 1959 & 1.2331919 & 430.9021 & 1.0519679\\\\\n",
       "\tSep 1959 & 1.0697998 & 435.3428 & 0.9941389\\\\\n",
       "\tOct 1959 & 0.9321623 & 438.8444 & 0.9949296\\\\\n",
       "\tNov 1959 & 0.8077298 & 442.3741 & 1.0131012\\\\\n",
       "\tDec 1959 & 0.9042619 & 446.0808 & 1.0040313\\\\\n",
       "\tJan 1960 & 0.9124332 & 449.8186 & 1.0160090\\\\\n",
       "\tFeb 1960 & 0.8922327 & 453.9261 & 0.9654137\\\\\n",
       "\tMar 1960 & 1.0159924 & 458.0711 & 0.9003071\\\\\n",
       "\tApr 1960 & 0.9860703 & 462.1153 & 1.0116789\\\\\n",
       "\tMay 1960 & 0.9850875 & 466.1952 & 1.0277782\\\\\n",
       "\tJun 1960 & 1.1160434 & 470.1191 & 1.0196820\\\\\n",
       "\tJul 1960 & 1.2415994 & 474.0762 & 1.0567220\\\\\n",
       "\tAug 1960 & 1.2331919 & 478.2454 & 1.0275220\\\\\n",
       "\tSep 1960 & 1.0697998 & 482.4514 & 0.9842550\\\\\n",
       "\tOct 1960 & 0.9321623 & 486.6737 & 1.0161821\\\\\n",
       "\tNov 1960 & 0.8077298 & 490.9329 & 0.9835046\\\\\n",
       "\tDec 1960 & 0.9042619 & 495.0963 & 0.9649389\\\\\n",
       "\\end{tabular}\n"
      ],
      "text/markdown": [
       "\n",
       "A Time Series: 144 × 3\n",
       "\n",
       "| <!--/--> | seasonal | trend | remainder |\n",
       "|---|---|---|---|\n",
       "| Jan 1949 | 0.9124332 | 125.1344 | 0.9809347 |\n",
       "| Feb 1949 | 0.8922327 | 125.2571 | 1.0558486 |\n",
       "| Mar 1949 | 1.0159924 | 125.3798 | 1.0362293 |\n",
       "| Apr 1949 | 0.9860703 | 125.6345 | 1.0412930 |\n",
       "| May 1949 | 0.9850875 | 125.8897 | 0.9757094 |\n",
       "| Jun 1949 | 1.1160434 | 126.2377 | 0.9582166 |\n",
       "| Jul 1949 | 1.2415994 | 126.5866 | 0.9416561 |\n",
       "| Aug 1949 | 1.2331919 | 126.9088 | 0.9456692 |\n",
       "| Sep 1949 | 1.0697998 | 127.2318 | 0.9991729 |\n",
       "| Oct 1949 | 0.9321623 | 127.8533 | 0.9984898 |\n",
       "| Nov 1949 | 0.8077298 | 128.4777 | 1.0021654 |\n",
       "| Dec 1949 | 0.9042619 | 129.6173 | 1.0067574 |\n",
       "| Jan 1950 | 0.9124332 | 130.7670 | 0.9638262 |\n",
       "| Feb 1950 | 0.8922327 | 132.0634 | 1.0693259 |\n",
       "| Mar 1950 | 1.0159924 | 133.3726 | 1.0405479 |\n",
       "| Apr 1950 | 0.9860703 | 134.7143 | 1.0162770 |\n",
       "| May 1950 | 0.9850875 | 136.0695 | 0.9325546 |\n",
       "| Jun 1950 | 1.1160434 | 137.7450 | 0.9692354 |\n",
       "| Jul 1950 | 1.2415994 | 139.4411 | 0.9819209 |\n",
       "| Aug 1950 | 1.2331919 | 141.8003 | 0.9721673 |\n",
       "| Sep 1950 | 1.0697998 | 144.1995 | 1.0242146 |\n",
       "| Oct 1950 | 0.9321623 | 147.1809 | 0.9694128 |\n",
       "| Nov 1950 | 0.8077298 | 150.2239 | 0.9395062 |\n",
       "| Dec 1950 | 0.9042619 | 153.1004 | 1.0112474 |\n",
       "| Jan 1951 | 0.9124332 | 156.0320 | 1.0184818 |\n",
       "| Feb 1951 | 0.8922327 | 158.3874 | 1.0614328 |\n",
       "| Mar 1951 | 1.0159924 | 160.7784 | 1.0896875 |\n",
       "| Apr 1951 | 0.9860703 | 163.0296 | 1.0139423 |\n",
       "| May 1951 | 0.9850875 | 165.3124 | 1.0562052 |\n",
       "| Jun 1951 | 1.1160434 | 167.5135 | 0.9521146 |\n",
       "| Jul 1951 | 1.2415994 | 169.7439 | 0.9442294 |\n",
       "| Aug 1951 | 1.2331919 | 171.7657 | 0.9394767 |\n",
       "| Sep 1951 | 1.0697998 | 173.8116 | 0.9895473 |\n",
       "| Oct 1951 | 0.9321623 | 175.8891 | 0.9880629 |\n",
       "| Nov 1951 | 0.8077298 | 177.9914 | 1.0155182 |\n",
       "| Dec 1951 | 0.9042619 | 180.3327 | 1.0179804 |\n",
       "| Jan 1952 | 0.9124332 | 182.7047 | 1.0257588 |\n",
       "| Feb 1952 | 0.8922327 | 185.0254 | 1.0903427 |\n",
       "| Mar 1952 | 1.0159924 | 187.3755 | 1.0138039 |\n",
       "| Apr 1952 | 0.9860703 | 189.5022 | 0.9686269 |\n",
       "| May 1952 | 0.9850875 | 191.6529 | 0.9693059 |\n",
       "| Jun 1952 | 1.1160434 | 193.8174 | 1.0078193 |\n",
       "| Jul 1952 | 1.2415994 | 196.0063 | 0.9450968 |\n",
       "| Aug 1952 | 1.2331919 | 198.7204 | 0.9875114 |\n",
       "| Sep 1952 | 1.0697998 | 201.4722 | 0.9696806 |\n",
       "| Oct 1952 | 0.9321623 | 205.0051 | 0.9994872 |\n",
       "| Nov 1952 | 0.8077298 | 208.5999 | 1.0208178 |\n",
       "| Dec 1952 | 0.9042619 | 211.8312 | 1.0127856 |\n",
       "| Jan 1953 | 0.9124332 | 215.1126 | 0.9985945 |\n",
       "| Feb 1953 | 0.8922327 | 217.3918 | 1.0104963 |\n",
       "| Mar 1953 | 1.0159924 | 219.6952 | 1.0573067 |\n",
       "| Apr 1953 | 0.9860703 | 221.0698 | 1.0780292 |\n",
       "| May 1953 | 0.9850875 | 222.4530 | 1.0450146 |\n",
       "| Jun 1953 | 1.1160434 | 222.9154 | 0.9767539 |\n",
       "| Jul 1953 | 1.2415994 | 223.3787 | 0.9518766 |\n",
       "| Aug 1953 | 1.2331919 | 223.1419 | 0.9884553 |\n",
       "| Sep 1953 | 1.0697998 | 222.9054 | 0.9938601 |\n",
       "| Oct 1953 | 0.9321623 | 222.9661 | 1.0152012 |\n",
       "| Nov 1953 | 0.8077298 | 223.0268 | 0.9991931 |\n",
       "| Dec 1953 | 0.9042619 | 224.2200 | 0.9913510 |\n",
       "| Jan 1954 | 0.9124332 | 225.4196 | 0.9918304 |\n",
       "| Feb 1954 | 0.8922327 | 227.1983 | 0.9274162 |\n",
       "| Mar 1954 | 1.0159924 | 228.9910 | 1.0100876 |\n",
       "| Apr 1954 | 0.9860703 | 231.0598 | 0.9963080 |\n",
       "| May 1954 | 0.9850875 | 233.1473 | 1.0188510 |\n",
       "| Jun 1954 | 1.1160434 | 235.9391 | 1.0025889 |\n",
       "| Jul 1954 | 1.2415994 | 238.7644 | 1.0187226 |\n",
       "| Aug 1954 | 1.2331919 | 242.0040 | 0.9817807 |\n",
       "| Sep 1954 | 1.0697998 | 245.2875 | 0.9870105 |\n",
       "| Oct 1954 | 0.9321623 | 248.5585 | 0.9883605 |\n",
       "| Nov 1954 | 0.8077298 | 251.8730 | 0.9978109 |\n",
       "| Dec 1954 | 0.9042619 | 255.4887 | 0.9912189 |\n",
       "| Jan 1955 | 0.9124332 | 259.1563 | 1.0234169 |\n",
       "| Feb 1955 | 0.8922327 | 263.1227 | 0.9924746 |\n",
       "| Mar 1955 | 1.0159924 | 267.1499 | 0.9837069 |\n",
       "| Apr 1955 | 0.9860703 | 271.1240 | 1.0061816 |\n",
       "| May 1955 | 0.9850875 | 275.1572 | 0.9961116 |\n",
       "| Jun 1955 | 1.1160434 | 279.1320 | 1.0111599 |\n",
       "| Jul 1955 | 1.2415994 | 283.1642 | 1.0353367 |\n",
       "| Aug 1955 | 1.2331919 | 287.1562 | 0.9798974 |\n",
       "| Sep 1955 | 1.0697998 | 291.2045 | 1.0015069 |\n",
       "| Oct 1955 | 0.9321623 | 295.1284 | 0.9959739 |\n",
       "| Nov 1955 | 0.8077298 | 299.1052 | 0.9809757 |\n",
       "| Dec 1955 | 0.9042619 | 302.9850 | 1.0146808 |\n",
       "| Jan 1956 | 0.9124332 | 306.9151 | 1.0141426 |\n",
       "| Feb 1956 | 0.8922327 | 310.6566 | 0.9993580 |\n",
       "| Mar 1956 | 1.0159924 | 314.4437 | 0.9922611 |\n",
       "| Apr 1956 | 0.9860703 | 317.7520 | 0.9989602 |\n",
       "| May 1956 | 0.9850875 | 321.0951 | 1.0053531 |\n",
       "| Jun 1956 | 1.1160434 | 323.9475 | 1.0344652 |\n",
       "| Jul 1956 | 1.2415994 | 326.8252 | 1.0177778 |\n",
       "| Aug 1956 | 1.2331919 | 329.4577 | 0.9968382 |\n",
       "| Sep 1956 | 1.0697998 | 332.1114 | 0.9991762 |\n",
       "| Oct 1956 | 0.9321623 | 334.8672 | 0.9802960 |\n",
       "| Nov 1956 | 0.8077298 | 337.6460 | 0.9936688 |\n",
       "| Dec 1956 | 0.9042619 | 340.9221 | 0.9925950 |\n",
       "| Jan 1957 | 0.9124332 | 344.2299 | 1.0029074 |\n",
       "| Feb 1957 | 0.8922327 | 348.1472 | 0.9690036 |\n",
       "| Mar 1957 | 1.0159924 | 352.1091 | 0.9951357 |\n",
       "| Apr 1957 | 0.9860703 | 356.0264 | 0.9912637 |\n",
       "| May 1957 | 0.9850875 | 359.9872 | 1.0010746 |\n",
       "| Jun 1957 | 1.1160434 | 363.1119 | 1.0413360 |\n",
       "| Jul 1957 | 1.2415994 | 366.2637 | 1.0225336 |\n",
       "| Aug 1957 | 1.2331919 | 367.8907 | 1.0293604 |\n",
       "| Sep 1957 | 1.0697998 | 369.5249 | 1.0219630 |\n",
       "| Oct 1957 | 0.9321623 | 369.7803 | 1.0066862 |\n",
       "| Nov 1957 | 0.8077298 | 370.0360 | 1.0204454 |\n",
       "| Dec 1957 | 0.9042619 | 370.3949 | 1.0031828 |\n",
       "| Jan 1958 | 0.9124332 | 370.7541 | 1.0050598 |\n",
       "| Feb 1958 | 0.8922327 | 371.8580 | 0.9584552 |\n",
       "| Mar 1958 | 1.0159924 | 372.9652 | 0.9553220 |\n",
       "| Apr 1958 | 0.9860703 | 374.2700 | 0.9429449 |\n",
       "| May 1958 | 0.9850875 | 375.5794 | 0.9811380 |\n",
       "| Jun 1958 | 1.1160434 | 377.1730 | 1.0333980 |\n",
       "| Jul 1958 | 1.2415994 | 378.7734 | 1.0440482 |\n",
       "| Aug 1958 | 1.2331919 | 381.2015 | 1.0742517 |\n",
       "| Sep 1958 | 1.0697998 | 383.6453 | 0.9843487 |\n",
       "| Oct 1958 | 0.9321623 | 386.6073 | 0.9961686 |\n",
       "| Nov 1958 | 0.8077298 | 389.5922 | 0.9851114 |\n",
       "| Dec 1958 | 0.9042619 | 392.8128 | 0.9487462 |\n",
       "| Jan 1959 | 0.9124332 | 396.0600 | 0.9961860 |\n",
       "| Feb 1959 | 0.8922327 | 400.2301 | 0.9577192 |\n",
       "| Mar 1959 | 1.0159924 | 404.4441 | 0.9880457 |\n",
       "| Apr 1959 | 0.9860703 | 409.7882 | 0.9800039 |\n",
       "| May 1959 | 0.9850875 | 415.2029 | 1.0268667 |\n",
       "| Jun 1959 | 1.1160434 | 420.8169 | 1.0050039 |\n",
       "| Jul 1959 | 1.2415994 | 426.5068 | 1.0348398 |\n",
       "| Aug 1959 | 1.2331919 | 430.9021 | 1.0519679 |\n",
       "| Sep 1959 | 1.0697998 | 435.3428 | 0.9941389 |\n",
       "| Oct 1959 | 0.9321623 | 438.8444 | 0.9949296 |\n",
       "| Nov 1959 | 0.8077298 | 442.3741 | 1.0131012 |\n",
       "| Dec 1959 | 0.9042619 | 446.0808 | 1.0040313 |\n",
       "| Jan 1960 | 0.9124332 | 449.8186 | 1.0160090 |\n",
       "| Feb 1960 | 0.8922327 | 453.9261 | 0.9654137 |\n",
       "| Mar 1960 | 1.0159924 | 458.0711 | 0.9003071 |\n",
       "| Apr 1960 | 0.9860703 | 462.1153 | 1.0116789 |\n",
       "| May 1960 | 0.9850875 | 466.1952 | 1.0277782 |\n",
       "| Jun 1960 | 1.1160434 | 470.1191 | 1.0196820 |\n",
       "| Jul 1960 | 1.2415994 | 474.0762 | 1.0567220 |\n",
       "| Aug 1960 | 1.2331919 | 478.2454 | 1.0275220 |\n",
       "| Sep 1960 | 1.0697998 | 482.4514 | 0.9842550 |\n",
       "| Oct 1960 | 0.9321623 | 486.6737 | 1.0161821 |\n",
       "| Nov 1960 | 0.8077298 | 490.9329 | 0.9835046 |\n",
       "| Dec 1960 | 0.9042619 | 495.0963 | 0.9649389 |\n",
       "\n"
      ],
      "text/plain": [
       "         seasonal  trend    remainder\n",
       "Jan 1949 0.9124332 125.1344 0.9809347\n",
       "Feb 1949 0.8922327 125.2571 1.0558486\n",
       "Mar 1949 1.0159924 125.3798 1.0362293\n",
       "Apr 1949 0.9860703 125.6345 1.0412930\n",
       "May 1949 0.9850875 125.8897 0.9757094\n",
       "Jun 1949 1.1160434 126.2377 0.9582166\n",
       "Jul 1949 1.2415994 126.5866 0.9416561\n",
       "Aug 1949 1.2331919 126.9088 0.9456692\n",
       "Sep 1949 1.0697998 127.2318 0.9991729\n",
       "Oct 1949 0.9321623 127.8533 0.9984898\n",
       "Nov 1949 0.8077298 128.4777 1.0021654\n",
       "Dec 1949 0.9042619 129.6173 1.0067574\n",
       "Jan 1950 0.9124332 130.7670 0.9638262\n",
       "Feb 1950 0.8922327 132.0634 1.0693259\n",
       "Mar 1950 1.0159924 133.3726 1.0405479\n",
       "Apr 1950 0.9860703 134.7143 1.0162770\n",
       "May 1950 0.9850875 136.0695 0.9325546\n",
       "Jun 1950 1.1160434 137.7450 0.9692354\n",
       "Jul 1950 1.2415994 139.4411 0.9819209\n",
       "Aug 1950 1.2331919 141.8003 0.9721673\n",
       "Sep 1950 1.0697998 144.1995 1.0242146\n",
       "Oct 1950 0.9321623 147.1809 0.9694128\n",
       "Nov 1950 0.8077298 150.2239 0.9395062\n",
       "Dec 1950 0.9042619 153.1004 1.0112474\n",
       "Jan 1951 0.9124332 156.0320 1.0184818\n",
       "Feb 1951 0.8922327 158.3874 1.0614328\n",
       "Mar 1951 1.0159924 160.7784 1.0896875\n",
       "Apr 1951 0.9860703 163.0296 1.0139423\n",
       "May 1951 0.9850875 165.3124 1.0562052\n",
       "Jun 1951 1.1160434 167.5135 0.9521146\n",
       "Jul 1951 1.2415994 169.7439 0.9442294\n",
       "Aug 1951 1.2331919 171.7657 0.9394767\n",
       "Sep 1951 1.0697998 173.8116 0.9895473\n",
       "Oct 1951 0.9321623 175.8891 0.9880629\n",
       "Nov 1951 0.8077298 177.9914 1.0155182\n",
       "Dec 1951 0.9042619 180.3327 1.0179804\n",
       "Jan 1952 0.9124332 182.7047 1.0257588\n",
       "Feb 1952 0.8922327 185.0254 1.0903427\n",
       "Mar 1952 1.0159924 187.3755 1.0138039\n",
       "Apr 1952 0.9860703 189.5022 0.9686269\n",
       "May 1952 0.9850875 191.6529 0.9693059\n",
       "Jun 1952 1.1160434 193.8174 1.0078193\n",
       "Jul 1952 1.2415994 196.0063 0.9450968\n",
       "Aug 1952 1.2331919 198.7204 0.9875114\n",
       "Sep 1952 1.0697998 201.4722 0.9696806\n",
       "Oct 1952 0.9321623 205.0051 0.9994872\n",
       "Nov 1952 0.8077298 208.5999 1.0208178\n",
       "Dec 1952 0.9042619 211.8312 1.0127856\n",
       "Jan 1953 0.9124332 215.1126 0.9985945\n",
       "Feb 1953 0.8922327 217.3918 1.0104963\n",
       "Mar 1953 1.0159924 219.6952 1.0573067\n",
       "Apr 1953 0.9860703 221.0698 1.0780292\n",
       "May 1953 0.9850875 222.4530 1.0450146\n",
       "Jun 1953 1.1160434 222.9154 0.9767539\n",
       "Jul 1953 1.2415994 223.3787 0.9518766\n",
       "Aug 1953 1.2331919 223.1419 0.9884553\n",
       "Sep 1953 1.0697998 222.9054 0.9938601\n",
       "Oct 1953 0.9321623 222.9661 1.0152012\n",
       "Nov 1953 0.8077298 223.0268 0.9991931\n",
       "Dec 1953 0.9042619 224.2200 0.9913510\n",
       "Jan 1954 0.9124332 225.4196 0.9918304\n",
       "Feb 1954 0.8922327 227.1983 0.9274162\n",
       "Mar 1954 1.0159924 228.9910 1.0100876\n",
       "Apr 1954 0.9860703 231.0598 0.9963080\n",
       "May 1954 0.9850875 233.1473 1.0188510\n",
       "Jun 1954 1.1160434 235.9391 1.0025889\n",
       "Jul 1954 1.2415994 238.7644 1.0187226\n",
       "Aug 1954 1.2331919 242.0040 0.9817807\n",
       "Sep 1954 1.0697998 245.2875 0.9870105\n",
       "Oct 1954 0.9321623 248.5585 0.9883605\n",
       "Nov 1954 0.8077298 251.8730 0.9978109\n",
       "Dec 1954 0.9042619 255.4887 0.9912189\n",
       "Jan 1955 0.9124332 259.1563 1.0234169\n",
       "Feb 1955 0.8922327 263.1227 0.9924746\n",
       "Mar 1955 1.0159924 267.1499 0.9837069\n",
       "Apr 1955 0.9860703 271.1240 1.0061816\n",
       "May 1955 0.9850875 275.1572 0.9961116\n",
       "Jun 1955 1.1160434 279.1320 1.0111599\n",
       "Jul 1955 1.2415994 283.1642 1.0353367\n",
       "Aug 1955 1.2331919 287.1562 0.9798974\n",
       "Sep 1955 1.0697998 291.2045 1.0015069\n",
       "Oct 1955 0.9321623 295.1284 0.9959739\n",
       "Nov 1955 0.8077298 299.1052 0.9809757\n",
       "Dec 1955 0.9042619 302.9850 1.0146808\n",
       "Jan 1956 0.9124332 306.9151 1.0141426\n",
       "Feb 1956 0.8922327 310.6566 0.9993580\n",
       "Mar 1956 1.0159924 314.4437 0.9922611\n",
       "Apr 1956 0.9860703 317.7520 0.9989602\n",
       "May 1956 0.9850875 321.0951 1.0053531\n",
       "Jun 1956 1.1160434 323.9475 1.0344652\n",
       "Jul 1956 1.2415994 326.8252 1.0177778\n",
       "Aug 1956 1.2331919 329.4577 0.9968382\n",
       "Sep 1956 1.0697998 332.1114 0.9991762\n",
       "Oct 1956 0.9321623 334.8672 0.9802960\n",
       "Nov 1956 0.8077298 337.6460 0.9936688\n",
       "Dec 1956 0.9042619 340.9221 0.9925950\n",
       "Jan 1957 0.9124332 344.2299 1.0029074\n",
       "Feb 1957 0.8922327 348.1472 0.9690036\n",
       "Mar 1957 1.0159924 352.1091 0.9951357\n",
       "Apr 1957 0.9860703 356.0264 0.9912637\n",
       "May 1957 0.9850875 359.9872 1.0010746\n",
       "Jun 1957 1.1160434 363.1119 1.0413360\n",
       "Jul 1957 1.2415994 366.2637 1.0225336\n",
       "Aug 1957 1.2331919 367.8907 1.0293604\n",
       "Sep 1957 1.0697998 369.5249 1.0219630\n",
       "Oct 1957 0.9321623 369.7803 1.0066862\n",
       "Nov 1957 0.8077298 370.0360 1.0204454\n",
       "Dec 1957 0.9042619 370.3949 1.0031828\n",
       "Jan 1958 0.9124332 370.7541 1.0050598\n",
       "Feb 1958 0.8922327 371.8580 0.9584552\n",
       "Mar 1958 1.0159924 372.9652 0.9553220\n",
       "Apr 1958 0.9860703 374.2700 0.9429449\n",
       "May 1958 0.9850875 375.5794 0.9811380\n",
       "Jun 1958 1.1160434 377.1730 1.0333980\n",
       "Jul 1958 1.2415994 378.7734 1.0440482\n",
       "Aug 1958 1.2331919 381.2015 1.0742517\n",
       "Sep 1958 1.0697998 383.6453 0.9843487\n",
       "Oct 1958 0.9321623 386.6073 0.9961686\n",
       "Nov 1958 0.8077298 389.5922 0.9851114\n",
       "Dec 1958 0.9042619 392.8128 0.9487462\n",
       "Jan 1959 0.9124332 396.0600 0.9961860\n",
       "Feb 1959 0.8922327 400.2301 0.9577192\n",
       "Mar 1959 1.0159924 404.4441 0.9880457\n",
       "Apr 1959 0.9860703 409.7882 0.9800039\n",
       "May 1959 0.9850875 415.2029 1.0268667\n",
       "Jun 1959 1.1160434 420.8169 1.0050039\n",
       "Jul 1959 1.2415994 426.5068 1.0348398\n",
       "Aug 1959 1.2331919 430.9021 1.0519679\n",
       "Sep 1959 1.0697998 435.3428 0.9941389\n",
       "Oct 1959 0.9321623 438.8444 0.9949296\n",
       "Nov 1959 0.8077298 442.3741 1.0131012\n",
       "Dec 1959 0.9042619 446.0808 1.0040313\n",
       "Jan 1960 0.9124332 449.8186 1.0160090\n",
       "Feb 1960 0.8922327 453.9261 0.9654137\n",
       "Mar 1960 1.0159924 458.0711 0.9003071\n",
       "Apr 1960 0.9860703 462.1153 1.0116789\n",
       "May 1960 0.9850875 466.1952 1.0277782\n",
       "Jun 1960 1.1160434 470.1191 1.0196820\n",
       "Jul 1960 1.2415994 474.0762 1.0567220\n",
       "Aug 1960 1.2331919 478.2454 1.0275220\n",
       "Sep 1960 1.0697998 482.4514 0.9842550\n",
       "Oct 1960 0.9321623 486.6737 1.0161821\n",
       "Nov 1960 0.8077298 490.9329 0.9835046\n",
       "Dec 1960 0.9042619 495.0963 0.9649389"
      ]
     },
     "metadata": {},
     "output_type": "display_data"
    }
   ],
   "source": [
    "exp(fit$time.series)"
   ]
  },
  {
   "cell_type": "code",
   "execution_count": 18,
   "metadata": {
    "vscode": {
     "languageId": "r"
    }
   },
   "outputs": [
    {
     "data": {
      "image/png": "[encoded data removed]",
      "text/plain": [
       "Plot with title \"\""
      ]
     },
     "metadata": {
      "image/png": {
       "height": 420,
       "width": 420
      }
     },
     "output_type": "display_data"
    }
   ],
   "source": [
    "opar <- par(no.readonly=TRUE)\n",
    "par(mfrow=c(2, 1))\n",
    "library(forecast)\n",
    "monthplot(AirPassengers,xlab=\"\", ylab=\"\")\n",
    "seasonplot(AirPassengers,year.labels=TRUE,main=\"\")\n",
    "par(opar)"
   ]
  },
  {
   "cell_type": "markdown",
   "metadata": {},
   "source": [
    "# 指数预测模型"
   ]
  },
  {
   "cell_type": "markdown",
   "metadata": {},
   "source": [
    "## 单指数平滑"
   ]
  },
  {
   "cell_type": "code",
   "execution_count": 19,
   "metadata": {
    "vscode": {
     "languageId": "r"
    }
   },
   "outputs": [
    {
     "data": {
      "image/png": "[encoded data removed]",
      "text/plain": [
       "plot without title"
      ]
     },
     "metadata": {
      "image/png": {
       "height": 420,
       "width": 420
      }
     },
     "output_type": "display_data"
    }
   ],
   "source": [
    "plot(nhtemp)"
   ]
  },
  {
   "cell_type": "code",
   "execution_count": 20,
   "metadata": {
    "vscode": {
     "languageId": "r"
    }
   },
   "outputs": [
    {
     "data": {
      "text/plain": [
       "ETS(A,N,N) \n",
       "\n",
       "Call:\n",
       "ets(y = nhtemp, model = \"ANN\")\n",
       "\n",
       "  Smoothing parameters:\n",
       "    alpha = 0.1819 \n",
       "\n",
       "  Initial states:\n",
       "    l = 50.2762 \n",
       "\n",
       "  sigma:  1.1455\n",
       "\n",
       "     AIC     AICc      BIC \n",
       "265.9298 266.3584 272.2129 "
      ]
     },
     "metadata": {},
     "output_type": "display_data"
    }
   ],
   "source": [
    "library(forecast)\n",
    "\n",
    "# 拟合模型\n",
    "fit <- ets(nhtemp, model=\"ANN\")\n",
    "fit"
   ]
  },
  {
   "cell_type": "code",
   "execution_count": 21,
   "metadata": {
    "vscode": {
     "languageId": "r"
    }
   },
   "outputs": [
    {
     "data": {
      "text/plain": [
       "     Point Forecast    Lo 80    Hi 80    Lo 95    Hi 95\n",
       "1972       51.87031 50.40226 53.33835 49.62512 54.11549"
      ]
     },
     "metadata": {},
     "output_type": "display_data"
    },
    {
     "data": {
      "image/png": "[encoded data removed]",
      "text/plain": [
       "Plot with title \"New Haven Temperature Forecast\""
      ]
     },
     "metadata": {
      "image/png": {
       "height": 420,
       "width": 420
      }
     },
     "output_type": "display_data"
    }
   ],
   "source": [
    "# 向前预测一步\n",
    "forecast(fit, 1)\n",
    "plot(\n",
    "    x = forecast(fit, 1), \n",
    "    xlab=\"Year\",\n",
    "    ylab=expression(paste(\"Temperature (\", degree*F, \")\",)),\n",
    "    main=\"New Haven Temperature Forecast\"\n",
    "    )"
   ]
  },
  {
   "cell_type": "code",
   "execution_count": 22,
   "metadata": {
    "vscode": {
     "languageId": "r"
    }
   },
   "outputs": [
    {
     "data": {
      "text/html": [
       "<table class=\"dataframe\">\n",
       "<caption>A matrix: 1 × 7 of type dbl</caption>\n",
       "<thead>\n",
       "\t<tr><th></th><th scope=col>ME</th><th scope=col>RMSE</th><th scope=col>MAE</th><th scope=col>MPE</th><th scope=col>MAPE</th><th scope=col>MASE</th><th scope=col>ACF1</th></tr>\n",
       "</thead>\n",
       "<tbody>\n",
       "\t<tr><th scope=row>Training set</th><td>0.1460657</td><td>1.126268</td><td>0.8951225</td><td>0.2419373</td><td>1.7489</td><td>0.7512408</td><td>-0.006441923</td></tr>\n",
       "</tbody>\n",
       "</table>\n"
      ],
      "text/latex": [
       "A matrix: 1 × 7 of type dbl\n",
       "\\begin{tabular}{r|lllllll}\n",
       "  & ME & RMSE & MAE & MPE & MAPE & MASE & ACF1\\\\\n",
       "\\hline\n",
       "\tTraining set & 0.1460657 & 1.126268 & 0.8951225 & 0.2419373 & 1.7489 & 0.7512408 & -0.006441923\\\\\n",
       "\\end{tabular}\n"
      ],
      "text/markdown": [
       "\n",
       "A matrix: 1 × 7 of type dbl\n",
       "\n",
       "| <!--/--> | ME | RMSE | MAE | MPE | MAPE | MASE | ACF1 |\n",
       "|---|---|---|---|---|---|---|---|\n",
       "| Training set | 0.1460657 | 1.126268 | 0.8951225 | 0.2419373 | 1.7489 | 0.7512408 | -0.006441923 |\n",
       "\n"
      ],
      "text/plain": [
       "             ME        RMSE     MAE       MPE       MAPE   MASE     \n",
       "Training set 0.1460657 1.126268 0.8951225 0.2419373 1.7489 0.7512408\n",
       "             ACF1        \n",
       "Training set -0.006441923"
      ]
     },
     "metadata": {},
     "output_type": "display_data"
    }
   ],
   "source": [
    "# 得到准确性度量\n",
    "accuracy(fit)"
   ]
  },
  {
   "cell_type": "markdown",
   "metadata": {},
   "source": [
    "## Holt指数平滑和Holt-Winters指数平滑"
   ]
  },
  {
   "cell_type": "code",
   "execution_count": 1,
   "metadata": {
    "vscode": {
     "languageId": "r"
    }
   },
   "outputs": [
    {
     "name": "stderr",
     "output_type": "stream",
     "text": [
      "Registered S3 method overwritten by 'quantmod':\n",
      "  method            from\n",
      "  as.zoo.data.frame zoo \n",
      "\n"
     ]
    },
    {
     "data": {
      "text/plain": [
       "ETS(A,A,A) \n",
       "\n",
       "Call:\n",
       "ets(y = log(AirPassengers), model = \"AAA\")\n",
       "\n",
       "  Smoothing parameters:\n",
       "    alpha = 0.6975 \n",
       "    beta  = 0.0031 \n",
       "    gamma = 1e-04 \n",
       "\n",
       "  Initial states:\n",
       "    l = 4.7925 \n",
       "    b = 0.0111 \n",
       "    s = -0.1045 -0.2206 -0.0787 0.0562 0.2049 0.2149\n",
       "           0.1146 -0.0081 -0.0059 0.0225 -0.1113 -0.0841\n",
       "\n",
       "  sigma:  0.0383\n",
       "\n",
       "      AIC      AICc       BIC \n",
       "-207.1694 -202.3123 -156.6826 "
      ]
     },
     "metadata": {},
     "output_type": "display_data"
    }
   ],
   "source": [
    "library(forecast)\n",
    "fit <- ets(log(AirPassengers), model=\"AAA\")\n",
    "fit"
   ]
  },
  {
   "cell_type": "code",
   "execution_count": 2,
   "metadata": {
    "vscode": {
     "languageId": "r"
    }
   },
   "outputs": [
    {
     "data": {
      "text/plain": [
       "         Point Forecast    Lo 80    Hi 80    Lo 95    Hi 95\n",
       "Jan 1961       6.109335 6.060306 6.158365 6.034351 6.184319\n",
       "Feb 1961       6.092542 6.032679 6.152405 6.000989 6.184094\n",
       "Mar 1961       6.236626 6.167535 6.305718 6.130960 6.342292\n",
       "Apr 1961       6.218531 6.141239 6.295823 6.100323 6.336738\n",
       "May 1961       6.226734 6.141971 6.311498 6.097100 6.356369"
      ]
     },
     "metadata": {},
     "output_type": "display_data"
    }
   ],
   "source": [
    "# 预测未来值\n",
    "pred <- forecast(fit, 5)\n",
    "pred"
   ]
  },
  {
   "cell_type": "code",
   "execution_count": 3,
   "metadata": {
    "vscode": {
     "languageId": "r"
    }
   },
   "outputs": [
    {
     "data": {
      "image/png": "[encoded data removed]",
      "text/plain": [
       "Plot with title \"Forecast for Air Travel\""
      ]
     },
     "metadata": {
      "image/png": {
       "height": 420,
       "width": 420
      }
     },
     "output_type": "display_data"
    }
   ],
   "source": [
    "plot(\n",
    "    pred,\n",
    "    main=\"Forecast for Air Travel\",\n",
    "    ylab=\"Log(AirPassengers)\",\n",
    "    xlab=\"Time\"\n",
    ")"
   ]
  },
  {
   "cell_type": "code",
   "execution_count": 4,
   "metadata": {
    "vscode": {
     "languageId": "r"
    }
   },
   "outputs": [
    {
     "data": {
      "text/html": [
       "<table class=\"dataframe\">\n",
       "<caption>A Time Series: 5 × 5</caption>\n",
       "<thead>\n",
       "\t<tr><th></th><th scope=col>mean</th><th scope=col>Lo80</th><th scope=col>Lo95</th><th scope=col>Hi80</th><th scope=col>Hi95</th></tr>\n",
       "</thead>\n",
       "<tbody>\n",
       "\t<tr><th scope=row>Jan 1961</th><td>450.0395</td><td>428.5065</td><td>417.5279</td><td>472.6544</td><td>485.0826</td></tr>\n",
       "\t<tr><th scope=row>Feb 1961</th><td>442.5448</td><td>416.8301</td><td>403.8280</td><td>469.8459</td><td>484.9735</td></tr>\n",
       "\t<tr><th scope=row>Mar 1961</th><td>511.1312</td><td>477.0088</td><td>459.8775</td><td>547.6945</td><td>568.0971</td></tr>\n",
       "\t<tr><th scope=row>Apr 1961</th><td>501.9652</td><td>464.6289</td><td>446.0019</td><td>542.3017</td><td>564.9506</td></tr>\n",
       "\t<tr><th scope=row>May 1961</th><td>506.1001</td><td>464.9691</td><td>444.5667</td><td>550.8694</td><td>576.1504</td></tr>\n",
       "</tbody>\n",
       "</table>\n"
      ],
      "text/latex": [
       "A Time Series: 5 × 5\n",
       "\\begin{tabular}{r|lllll}\n",
       "  & mean & Lo80 & Lo95 & Hi80 & Hi95\\\\\n",
       "\\hline\n",
       "\tJan 1961 & 450.0395 & 428.5065 & 417.5279 & 472.6544 & 485.0826\\\\\n",
       "\tFeb 1961 & 442.5448 & 416.8301 & 403.8280 & 469.8459 & 484.9735\\\\\n",
       "\tMar 1961 & 511.1312 & 477.0088 & 459.8775 & 547.6945 & 568.0971\\\\\n",
       "\tApr 1961 & 501.9652 & 464.6289 & 446.0019 & 542.3017 & 564.9506\\\\\n",
       "\tMay 1961 & 506.1001 & 464.9691 & 444.5667 & 550.8694 & 576.1504\\\\\n",
       "\\end{tabular}\n"
      ],
      "text/markdown": [
       "\n",
       "A Time Series: 5 × 5\n",
       "\n",
       "| <!--/--> | mean | Lo80 | Lo95 | Hi80 | Hi95 |\n",
       "|---|---|---|---|---|---|\n",
       "| Jan 1961 | 450.0395 | 428.5065 | 417.5279 | 472.6544 | 485.0826 |\n",
       "| Feb 1961 | 442.5448 | 416.8301 | 403.8280 | 469.8459 | 484.9735 |\n",
       "| Mar 1961 | 511.1312 | 477.0088 | 459.8775 | 547.6945 | 568.0971 |\n",
       "| Apr 1961 | 501.9652 | 464.6289 | 446.0019 | 542.3017 | 564.9506 |\n",
       "| May 1961 | 506.1001 | 464.9691 | 444.5667 | 550.8694 | 576.1504 |\n",
       "\n"
      ],
      "text/plain": [
       "         mean     Lo80     Lo95     Hi80     Hi95    \n",
       "Jan 1961 450.0395 428.5065 417.5279 472.6544 485.0826\n",
       "Feb 1961 442.5448 416.8301 403.8280 469.8459 484.9735\n",
       "Mar 1961 511.1312 477.0088 459.8775 547.6945 568.0971\n",
       "Apr 1961 501.9652 464.6289 446.0019 542.3017 564.9506\n",
       "May 1961 506.1001 464.9691 444.5667 550.8694 576.1504"
      ]
     },
     "metadata": {},
     "output_type": "display_data"
    }
   ],
   "source": [
    "pred$mean <- exp(pred$mean)\n",
    "pred$lower <- exp(pred$lower)\n",
    "pred$upper <- exp(pred$upper)\n",
    "\n",
    "p <- cbind(pred$mean, pred$lower, pred$upper)\n",
    "dimnames(p)[[2]]  <- c(\"mean\", \"Lo80\", \"Lo95\", \"Hi80\", \"Hi95\")\n",
    "p"
   ]
  },
  {
   "cell_type": "markdown",
   "metadata": {},
   "source": [
    "## ets()函数和自动预测"
   ]
  },
  {
   "cell_type": "code",
   "execution_count": 5,
   "metadata": {
    "vscode": {
     "languageId": "r"
    }
   },
   "outputs": [
    {
     "data": {
      "text/plain": [
       "ETS(M,A,A) \n",
       "\n",
       "Call:\n",
       "ets(y = JohnsonJohnson)\n",
       "\n",
       "  Smoothing parameters:\n",
       "    alpha = 0.2776 \n",
       "    beta  = 0.0636 \n",
       "    gamma = 0.5867 \n",
       "\n",
       "  Initial states:\n",
       "    l = 0.6276 \n",
       "    b = 0.0165 \n",
       "    s = -0.2293 0.1913 -0.0074 0.0454\n",
       "\n",
       "  sigma:  0.0921\n",
       "\n",
       "     AIC     AICc      BIC \n",
       "163.6392 166.0716 185.5165 "
      ]
     },
     "metadata": {},
     "output_type": "display_data"
    }
   ],
   "source": [
    "library(forecast)\n",
    "fit <- ets(JohnsonJohnson)\n",
    "fit"
   ]
  },
  {
   "cell_type": "code",
   "execution_count": 6,
   "metadata": {
    "vscode": {
     "languageId": "r"
    }
   },
   "outputs": [
    {
     "data": {
      "image/png": "[encoded data removed]",
      "text/plain": [
       "Plot with title \"Johnson & Johnson Quarterly Earnings\""
      ]
     },
     "metadata": {
      "image/png": {
       "height": 420,
       "width": 420
      }
     },
     "output_type": "display_data"
    }
   ],
   "source": [
    "plot(forecast(fit), main=\"Johnson & Johnson Quarterly Earnings\", xlab=\"Time\", flty=2)"
   ]
  },
  {
   "cell_type": "markdown",
   "metadata": {},
   "source": [
    "# ARIMA预测模型"
   ]
  },
  {
   "cell_type": "markdown",
   "metadata": {},
   "source": [
    "## ARMA和ARIMA模型"
   ]
  },
  {
   "cell_type": "markdown",
   "metadata": {},
   "source": [
    "### 验证序列的平稳性"
   ]
  },
  {
   "cell_type": "code",
   "execution_count": 8,
   "metadata": {
    "vscode": {
     "languageId": "r"
    }
   },
   "outputs": [
    {
     "data": {
      "image/png": "[encoded data removed]",
      "text/plain": [
       "plot without title"
      ]
     },
     "metadata": {
      "image/png": {
       "height": 420,
       "width": 420
      }
     },
     "output_type": "display_data"
    }
   ],
   "source": [
    "library(forecast)\n",
    "library(tseries)\n",
    "\n",
    "plot(Nile)"
   ]
  },
  {
   "cell_type": "code",
   "execution_count": 10,
   "metadata": {
    "vscode": {
     "languageId": "r"
    }
   },
   "outputs": [
    {
     "data": {
      "text/html": [
       "1"
      ],
      "text/latex": [
       "1"
      ],
      "text/markdown": [
       "1"
      ],
      "text/plain": [
       "[1] 1"
      ]
     },
     "metadata": {},
     "output_type": "display_data"
    }
   ],
   "source": [
    "ndiffs(Nile)"
   ]
  },
  {
   "cell_type": "code",
   "execution_count": 11,
   "metadata": {
    "vscode": {
     "languageId": "r"
    }
   },
   "outputs": [
    {
     "data": {
      "image/png": "[encoded data removed]",
      "text/plain": [
       "plot without title"
      ]
     },
     "metadata": {
      "image/png": {
       "height": 420,
       "width": 420
      }
     },
     "output_type": "display_data"
    }
   ],
   "source": [
    "dNile <- diff(Nile)\n",
    "plot(dNile)"
   ]
  },
  {
   "cell_type": "code",
   "execution_count": 12,
   "metadata": {
    "vscode": {
     "languageId": "r"
    }
   },
   "outputs": [
    {
     "name": "stderr",
     "output_type": "stream",
     "text": [
      "Warning message in adf.test(dNile):\n",
      "\"p-value smaller than printed p-value\"\n"
     ]
    },
    {
     "data": {
      "text/plain": [
       "\n",
       "\tAugmented Dickey-Fuller Test\n",
       "\n",
       "data:  dNile\n",
       "Dickey-Fuller = -6.5924, Lag order = 4, p-value = 0.01\n",
       "alternative hypothesis: stationary\n"
      ]
     },
     "metadata": {},
     "output_type": "display_data"
    }
   ],
   "source": [
    "adf.test(dNile)"
   ]
  },
  {
   "cell_type": "markdown",
   "metadata": {},
   "source": [
    "### 选择模型"
   ]
  },
  {
   "cell_type": "code",
   "execution_count": 13,
   "metadata": {
    "vscode": {
     "languageId": "r"
    }
   },
   "outputs": [
    {
     "data": {
      "image/png": "[encoded data removed]",
      "text/plain": [
       "Plot with title \"Series  dNile\""
      ]
     },
     "metadata": {
      "image/png": {
       "height": 420,
       "width": 420
      }
     },
     "output_type": "display_data"
    }
   ],
   "source": [
    "opar <- par(no.readonly=TRUE)\n",
    "par(mfrow=c(1, 2))\n",
    "Acf(dNile)\n",
    "Pacf(dNile)\n",
    "par(opar)"
   ]
  },
  {
   "cell_type": "markdown",
   "metadata": {},
   "source": [
    "### 拟合模型"
   ]
  },
  {
   "cell_type": "code",
   "execution_count": 14,
   "metadata": {
    "vscode": {
     "languageId": "r"
    }
   },
   "outputs": [
    {
     "data": {
      "text/plain": [
       "\n",
       "Call:\n",
       "arima(x = Nile, order = c(0, 1, 1))\n",
       "\n",
       "Coefficients:\n",
       "          ma1\n",
       "      -0.7329\n",
       "s.e.   0.1143\n",
       "\n",
       "sigma^2 estimated as 20600:  log likelihood = -632.55,  aic = 1269.09"
      ]
     },
     "metadata": {},
     "output_type": "display_data"
    }
   ],
   "source": [
    "library(forecast)\n",
    "fit <- arima(Nile, order=c(0, 1, 1))\n",
    "fit"
   ]
  },
  {
   "cell_type": "code",
   "execution_count": 15,
   "metadata": {
    "vscode": {
     "languageId": "r"
    }
   },
   "outputs": [
    {
     "data": {
      "text/html": [
       "<table class=\"dataframe\">\n",
       "<caption>A matrix: 1 × 7 of type dbl</caption>\n",
       "<thead>\n",
       "\t<tr><th></th><th scope=col>ME</th><th scope=col>RMSE</th><th scope=col>MAE</th><th scope=col>MPE</th><th scope=col>MAPE</th><th scope=col>MASE</th><th scope=col>ACF1</th></tr>\n",
       "</thead>\n",
       "<tbody>\n",
       "\t<tr><th scope=row>Training set</th><td>-11.9358</td><td>142.8071</td><td>112.1752</td><td>-3.574702</td><td>12.93594</td><td>0.841824</td><td>0.1153593</td></tr>\n",
       "</tbody>\n",
       "</table>\n"
      ],
      "text/latex": [
       "A matrix: 1 × 7 of type dbl\n",
       "\\begin{tabular}{r|lllllll}\n",
       "  & ME & RMSE & MAE & MPE & MAPE & MASE & ACF1\\\\\n",
       "\\hline\n",
       "\tTraining set & -11.9358 & 142.8071 & 112.1752 & -3.574702 & 12.93594 & 0.841824 & 0.1153593\\\\\n",
       "\\end{tabular}\n"
      ],
      "text/markdown": [
       "\n",
       "A matrix: 1 × 7 of type dbl\n",
       "\n",
       "| <!--/--> | ME | RMSE | MAE | MPE | MAPE | MASE | ACF1 |\n",
       "|---|---|---|---|---|---|---|---|\n",
       "| Training set | -11.9358 | 142.8071 | 112.1752 | -3.574702 | 12.93594 | 0.841824 | 0.1153593 |\n",
       "\n"
      ],
      "text/plain": [
       "             ME       RMSE     MAE      MPE       MAPE     MASE     ACF1     \n",
       "Training set -11.9358 142.8071 112.1752 -3.574702 12.93594 0.841824 0.1153593"
      ]
     },
     "metadata": {},
     "output_type": "display_data"
    }
   ],
   "source": [
    "accuracy(fit)"
   ]
  },
  {
   "cell_type": "markdown",
   "metadata": {},
   "source": [
    "### 模型评价"
   ]
  },
  {
   "cell_type": "code",
   "execution_count": 18,
   "metadata": {
    "vscode": {
     "languageId": "r"
    }
   },
   "outputs": [
    {
     "data": {
      "image/png": "[encoded data removed]",
      "text/plain": [
       "Plot with title \"Normal Q-Q Plot\""
      ]
     },
     "metadata": {
      "image/png": {
       "height": 420,
       "width": 420
      }
     },
     "output_type": "display_data"
    }
   ],
   "source": [
    "qqnorm(fit$residuals)\n",
    "qqline(fit$residuals)"
   ]
  },
  {
   "cell_type": "code",
   "execution_count": 19,
   "metadata": {
    "vscode": {
     "languageId": "r"
    }
   },
   "outputs": [
    {
     "data": {
      "text/plain": [
       "\n",
       "\tBox-Ljung test\n",
       "\n",
       "data:  fit$residuals\n",
       "X-squared = 1.3711, df = 1, p-value = 0.2416\n"
      ]
     },
     "metadata": {},
     "output_type": "display_data"
    }
   ],
   "source": [
    "Box.test(fit$residuals, type=\"Ljung-Box\")"
   ]
  },
  {
   "cell_type": "markdown",
   "metadata": {},
   "source": [
    "### 预测"
   ]
  },
  {
   "cell_type": "code",
   "execution_count": 20,
   "metadata": {
    "vscode": {
     "languageId": "r"
    }
   },
   "outputs": [
    {
     "data": {
      "text/plain": [
       "     Point Forecast    Lo 80    Hi 80    Lo 95    Hi 95\n",
       "1971       798.3673 614.4307 982.3040 517.0605 1079.674\n",
       "1972       798.3673 607.9845 988.7502 507.2019 1089.533\n",
       "1973       798.3673 601.7495 994.9851 497.6663 1099.068"
      ]
     },
     "metadata": {},
     "output_type": "display_data"
    }
   ],
   "source": [
    "forecast(fit, 3)"
   ]
  },
  {
   "cell_type": "code",
   "execution_count": 21,
   "metadata": {
    "vscode": {
     "languageId": "r"
    }
   },
   "outputs": [
    {
     "data": {
      "image/png": "[encoded data removed]",
      "text/plain": [
       "Plot with title \"Forecasts from ARIMA(0,1,1)\""
      ]
     },
     "metadata": {
      "image/png": {
       "height": 420,
       "width": 420
      }
     },
     "output_type": "display_data"
    }
   ],
   "source": [
    "plot(forecast(fit, 3), xlab=\"Year\", ylab=\"Annual Flow\")"
   ]
  },
  {
   "cell_type": "markdown",
   "metadata": {},
   "source": [
    "## ARIMA的自动预测"
   ]
  },
  {
   "cell_type": "code",
   "execution_count": 22,
   "metadata": {
    "vscode": {
     "languageId": "r"
    }
   },
   "outputs": [
    {
     "data": {
      "text/plain": [
       "Series: sunspots \n",
       "ARIMA(2,1,2) \n",
       "\n",
       "Coefficients:\n",
       "         ar1      ar2      ma1     ma2\n",
       "      1.3467  -0.3963  -1.7710  0.8103\n",
       "s.e.  0.0303   0.0287   0.0205  0.0194\n",
       "\n",
       "sigma^2 = 243.8:  log likelihood = -11745.5\n",
       "AIC=23500.99   AICc=23501.01   BIC=23530.71"
      ]
     },
     "metadata": {},
     "output_type": "display_data"
    }
   ],
   "source": [
    "library(forecast)\n",
    "fit <- auto.arima(sunspots)\n",
    "fit"
   ]
  },
  {
   "cell_type": "code",
   "execution_count": 23,
   "metadata": {
    "vscode": {
     "languageId": "r"
    }
   },
   "outputs": [
    {
     "data": {
      "text/plain": [
       "         Point Forecast    Lo 80    Hi 80    Lo 95    Hi 95\n",
       "Jan 1984       40.43784 20.42717 60.44850 9.834167 71.04150\n",
       "Feb 1984       41.35311 18.26341 64.44281 6.040458 76.66576\n",
       "Mar 1984       39.79670 15.23663 64.35677 2.235319 77.35808"
      ]
     },
     "metadata": {},
     "output_type": "display_data"
    }
   ],
   "source": [
    "forecast(fit, 3)"
   ]
  },
  {
   "cell_type": "code",
   "execution_count": 24,
   "metadata": {
    "vscode": {
     "languageId": "r"
    }
   },
   "outputs": [
    {
     "data": {
      "text/html": [
       "<table class=\"dataframe\">\n",
       "<caption>A matrix: 1 × 7 of type dbl</caption>\n",
       "<thead>\n",
       "\t<tr><th></th><th scope=col>ME</th><th scope=col>RMSE</th><th scope=col>MAE</th><th scope=col>MPE</th><th scope=col>MAPE</th><th scope=col>MASE</th><th scope=col>ACF1</th></tr>\n",
       "</thead>\n",
       "<tbody>\n",
       "\t<tr><th scope=row>Training set</th><td>-0.02672716</td><td>15.60055</td><td>11.02575</td><td>NaN</td><td>Inf</td><td>0.4775401</td><td>-0.01055012</td></tr>\n",
       "</tbody>\n",
       "</table>\n"
      ],
      "text/latex": [
       "A matrix: 1 × 7 of type dbl\n",
       "\\begin{tabular}{r|lllllll}\n",
       "  & ME & RMSE & MAE & MPE & MAPE & MASE & ACF1\\\\\n",
       "\\hline\n",
       "\tTraining set & -0.02672716 & 15.60055 & 11.02575 & NaN & Inf & 0.4775401 & -0.01055012\\\\\n",
       "\\end{tabular}\n"
      ],
      "text/markdown": [
       "\n",
       "A matrix: 1 × 7 of type dbl\n",
       "\n",
       "| <!--/--> | ME | RMSE | MAE | MPE | MAPE | MASE | ACF1 |\n",
       "|---|---|---|---|---|---|---|---|\n",
       "| Training set | -0.02672716 | 15.60055 | 11.02575 | NaN | Inf | 0.4775401 | -0.01055012 |\n",
       "\n"
      ],
      "text/plain": [
       "             ME          RMSE     MAE      MPE MAPE MASE      ACF1       \n",
       "Training set -0.02672716 15.60055 11.02575 NaN Inf  0.4775401 -0.01055012"
      ]
     },
     "metadata": {},
     "output_type": "display_data"
    }
   ],
   "source": [
    "accuracy(fit)"
   ]
  }
 ],
 "metadata": {
  "kernelspec": {
   "display_name": "R",
   "language": "R",
   "name": "ir"
  },
  "language_info": {
   "codemirror_mode": "r",
   "file_extension": ".r",
   "mimetype": "text/x-r-source",
   "name": "R",
   "pygments_lexer": "r",
   "version": "4.4.2"
  }
 },
 "nbformat": 4,
 "nbformat_minor": 2
}

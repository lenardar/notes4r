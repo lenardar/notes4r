{
 "cells": [
  {
   "cell_type": "markdown",
   "metadata": {},
   "source": [
    "学习R语言分类，其实是一些机器学习算法。"
   ]
  },
  {
   "cell_type": "code",
   "execution_count": 51,
   "metadata": {
    "vscode": {
     "languageId": "r"
    }
   },
   "outputs": [
    {
     "name": "stderr",
     "output_type": "stream",
     "text": [
      "Warning message:\n",
      "\"packages 'rpart', 'rpart.plot', 'party', 'randomForest' are in use and will not be installed\"\n"
     ]
    },
    {
     "name": "stdout",
     "output_type": "stream",
     "text": [
      "package 'e1071' successfully unpacked and MD5 sums checked\n",
      "\n",
      "The downloaded binary packages are in\n",
      "\tC:\\Users\\86151\\AppData\\Local\\Temp\\Rtmpaygbpj\\downloaded_packages\n"
     ]
    }
   ],
   "source": [
    "pkgs <- c(\"rpart\", \"rpart.plot\", \"party\", \"randomForest\", \"e1071\")\n",
    "install.packages(pkgs, depend=TRUE)"
   ]
  },
  {
   "cell_type": "markdown",
   "metadata": {},
   "source": [
    "# 数据准备"
   ]
  },
  {
   "cell_type": "code",
   "execution_count": 52,
   "metadata": {
    "vscode": {
     "languageId": "r"
    }
   },
   "outputs": [
    {
     "name": "stderr",
     "output_type": "stream",
     "text": [
      "Warning message:\n",
      "\"NAs introduced by coercion\"\n"
     ]
    },
    {
     "data": {
      "text/plain": [
       "\n",
       "   benign malignant \n",
       "      319       170 "
      ]
     },
     "metadata": {},
     "output_type": "display_data"
    },
    {
     "data": {
      "text/plain": [
       "\n",
       "   benign malignant \n",
       "      139        71 "
      ]
     },
     "metadata": {},
     "output_type": "display_data"
    }
   ],
   "source": [
    "# 下载数据\n",
    "loc <- \"http://archive.ics.uci.edu/ml/machine-learning-databases/\" \n",
    "ds <- \"breast-cancer-wisconsin/breast-cancer-wisconsin.data\" \n",
    "url <- paste(loc, ds, sep=\"\") \n",
    "breast <- read.table(url, sep=\",\", header=FALSE, na.strings=\"? \") \n",
    "names(breast) <- c(\"ID\", \"clumpThickness\", \"sizeUniformity\", \"shapeUniformity\", \n",
    "\"maginalAdhesion\", \"singleEpithelialCellSize\", \"bareNuclei\", \"blandChromatin\", \n",
    "\"normalNucleoli\", \"mitosis\", \"class\")\n",
    "\n",
    "# 转换数据\n",
    "df <- breast[, -1]\n",
    "df$class <- factor(df$class, levels=c(2, 4), labels=c(\"benign\", \"malignant\"))\n",
    "df$bareNuclei <- as.numeric(as.character(df$bareNuclei))\n",
    "\n",
    "# 拆分数据\n",
    "set.seed(1234)\n",
    "train <- sample(nrow(df), 0.7*nrow(df))\n",
    "df.train <- df[train, ]\n",
    "df.validate <- df[-train, ]\n",
    "table(df.train$class)\n",
    "table(df.validate$class)"
   ]
  },
  {
   "cell_type": "markdown",
   "metadata": {},
   "source": [
    "# 逻辑回归"
   ]
  },
  {
   "cell_type": "code",
   "execution_count": 53,
   "metadata": {
    "vscode": {
     "languageId": "r"
    }
   },
   "outputs": [
    {
     "data": {
      "text/plain": [
       "\n",
       "Call:\n",
       "glm(formula = class ~ ., family = binomial, data = df.train)\n",
       "\n",
       "Coefficients:\n",
       "                         Estimate Std. Error z value Pr(>|z|)    \n",
       "(Intercept)              -12.4412     2.0547  -6.055  1.4e-09 ***\n",
       "clumpThickness             0.7407     0.2262   3.275  0.00106 ** \n",
       "sizeUniformity            -0.0320     0.3399  -0.094  0.92500    \n",
       "shapeUniformity            0.2073     0.3715   0.558  0.57680    \n",
       "maginalAdhesion            0.5194     0.1708   3.041  0.00236 ** \n",
       "singleEpithelialCellSize  -0.3217     0.2613  -1.231  0.21831    \n",
       "bareNuclei                 0.5851     0.1881   3.111  0.00187 ** \n",
       "blandChromatin             0.8599     0.2923   2.942  0.00326 ** \n",
       "normalNucleoli             0.4036     0.1828   2.208  0.02725 *  \n",
       "mitosis                    0.8923     0.3552   2.512  0.01200 *  \n",
       "---\n",
       "Signif. codes:  0 '***' 0.001 '**' 0.01 '*' 0.05 '.' 0.1 ' ' 1\n",
       "\n",
       "(Dispersion parameter for binomial family taken to be 1)\n",
       "\n",
       "    Null deviance: 621.04  on 477  degrees of freedom\n",
       "Residual deviance:  52.39  on 468  degrees of freedom\n",
       "  (11 observations deleted due to missingness)\n",
       "AIC: 72.39\n",
       "\n",
       "Number of Fisher Scoring iterations: 9\n"
      ]
     },
     "metadata": {},
     "output_type": "display_data"
    }
   ],
   "source": [
    "# 拟合逻辑回归\n",
    "fit.logit <- glm(class~., data=df.train, family=binomial)\n",
    "\n",
    "# 检查模型\n",
    "summary(fit.logit)"
   ]
  },
  {
   "cell_type": "code",
   "execution_count": 54,
   "metadata": {
    "vscode": {
     "languageId": "r"
    }
   },
   "outputs": [
    {
     "data": {
      "text/plain": [
       "           Predicted\n",
       "Actual      benign malignant\n",
       "  benign       129         6\n",
       "  malignant      1        69"
      ]
     },
     "metadata": {},
     "output_type": "display_data"
    }
   ],
   "source": [
    "# 对训练集进行预测\n",
    "prob <- predict(fit.logit, df.validate, type=\"response\")\n",
    "\n",
    "# 转化为分类\n",
    "logit.pred <- factor(prob>.5, levels=c(FALSE, TRUE), labels=c(\"benign\", \"malignant\"))\n",
    "\n",
    "# 评估预测准确性\n",
    "logit.pref <- table(df.validate$class, logit.pred, dnn=c(\"Actual\", \"Predicted\"))\n",
    "logit.pref\n"
   ]
  },
  {
   "cell_type": "code",
   "execution_count": 55,
   "metadata": {
    "vscode": {
     "languageId": "r"
    }
   },
   "outputs": [
    {
     "name": "stdout",
     "output_type": "stream",
     "text": [
      "Start:  AIC=72.39\n",
      "class ~ clumpThickness + sizeUniformity + shapeUniformity + maginalAdhesion + \n",
      "    singleEpithelialCellSize + bareNuclei + blandChromatin + \n",
      "    normalNucleoli + mitosis\n",
      "\n",
      "                           Df Deviance    AIC\n",
      "- sizeUniformity            1   52.399 70.399\n",
      "- shapeUniformity           1   52.686 70.686\n",
      "- singleEpithelialCellSize  1   53.910 71.910\n",
      "<none>                          52.390 72.390\n",
      "- normalNucleoli            1   57.465 75.465\n",
      "- mitosis                   1   57.966 75.966\n",
      "- blandChromatin            1   62.856 80.856\n",
      "- maginalAdhesion           1   63.044 81.044\n",
      "- bareNuclei                1   64.982 82.982\n",
      "- clumpThickness            1   68.323 86.323\n",
      "\n",
      "Step:  AIC=70.4\n",
      "class ~ clumpThickness + shapeUniformity + maginalAdhesion + \n",
      "    singleEpithelialCellSize + bareNuclei + blandChromatin + \n",
      "    normalNucleoli + mitosis\n",
      "\n",
      "                           Df Deviance    AIC\n",
      "- shapeUniformity           1   52.876 68.876\n",
      "- singleEpithelialCellSize  1   53.918 69.918\n",
      "<none>                          52.399 70.399\n",
      "- normalNucleoli            1   57.916 73.916\n",
      "- mitosis                   1   58.024 74.024\n",
      "- blandChromatin            1   63.272 79.272\n",
      "- maginalAdhesion           1   63.735 79.735\n",
      "- bareNuclei                1   64.985 80.985\n",
      "- clumpThickness            1   68.728 84.728\n",
      "\n",
      "Step:  AIC=68.88\n",
      "class ~ clumpThickness + maginalAdhesion + singleEpithelialCellSize + \n",
      "    bareNuclei + blandChromatin + normalNucleoli + mitosis\n",
      "\n",
      "                           Df Deviance    AIC\n",
      "- singleEpithelialCellSize  1   54.154 68.154\n",
      "<none>                          52.876 68.876\n",
      "- mitosis                   1   59.402 73.402\n",
      "- normalNucleoli            1   60.929 74.929\n",
      "- blandChromatin            1   64.053 78.053\n",
      "- maginalAdhesion           1   64.995 78.995\n",
      "- bareNuclei                1   75.634 89.634\n",
      "- clumpThickness            1   76.942 90.942\n",
      "\n",
      "Step:  AIC=68.15\n",
      "class ~ clumpThickness + maginalAdhesion + bareNuclei + blandChromatin + \n",
      "    normalNucleoli + mitosis\n",
      "\n",
      "                  Df Deviance    AIC\n",
      "<none>                 54.154 68.154\n",
      "- mitosis          1   60.177 72.177\n",
      "- normalNucleoli   1   60.937 72.937\n",
      "- blandChromatin   1   64.056 76.056\n",
      "- maginalAdhesion  1   65.022 77.022\n",
      "- bareNuclei       1   76.417 88.417\n",
      "- clumpThickness   1   77.027 89.027\n"
     ]
    }
   ],
   "source": [
    "logit.fit.reduced <- step(fit.logit)"
   ]
  },
  {
   "cell_type": "markdown",
   "metadata": {},
   "source": [
    "# 决策树"
   ]
  },
  {
   "cell_type": "markdown",
   "metadata": {},
   "source": [
    "## 经典决策树"
   ]
  },
  {
   "cell_type": "code",
   "execution_count": 56,
   "metadata": {
    "vscode": {
     "languageId": "r"
    }
   },
   "outputs": [
    {
     "data": {
      "text/html": [
       "<table class=\"dataframe\">\n",
       "<caption>A matrix: 4 × 5 of type dbl</caption>\n",
       "<thead>\n",
       "\t<tr><th></th><th scope=col>CP</th><th scope=col>nsplit</th><th scope=col>rel error</th><th scope=col>xerror</th><th scope=col>xstd</th></tr>\n",
       "</thead>\n",
       "<tbody>\n",
       "\t<tr><th scope=row>1</th><td>0.81764706</td><td>0</td><td>1.00000000</td><td>1.0000000</td><td>0.06194645</td></tr>\n",
       "\t<tr><th scope=row>2</th><td>0.04117647</td><td>1</td><td>0.18235294</td><td>0.1823529</td><td>0.03169642</td></tr>\n",
       "\t<tr><th scope=row>3</th><td>0.01764706</td><td>3</td><td>0.10000000</td><td>0.1588235</td><td>0.02970979</td></tr>\n",
       "\t<tr><th scope=row>4</th><td>0.01000000</td><td>4</td><td>0.08235294</td><td>0.1235294</td><td>0.02637116</td></tr>\n",
       "</tbody>\n",
       "</table>\n"
      ],
      "text/latex": [
       "A matrix: 4 × 5 of type dbl\n",
       "\\begin{tabular}{r|lllll}\n",
       "  & CP & nsplit & rel error & xerror & xstd\\\\\n",
       "\\hline\n",
       "\t1 & 0.81764706 & 0 & 1.00000000 & 1.0000000 & 0.06194645\\\\\n",
       "\t2 & 0.04117647 & 1 & 0.18235294 & 0.1823529 & 0.03169642\\\\\n",
       "\t3 & 0.01764706 & 3 & 0.10000000 & 0.1588235 & 0.02970979\\\\\n",
       "\t4 & 0.01000000 & 4 & 0.08235294 & 0.1235294 & 0.02637116\\\\\n",
       "\\end{tabular}\n"
      ],
      "text/markdown": [
       "\n",
       "A matrix: 4 × 5 of type dbl\n",
       "\n",
       "| <!--/--> | CP | nsplit | rel error | xerror | xstd |\n",
       "|---|---|---|---|---|---|\n",
       "| 1 | 0.81764706 | 0 | 1.00000000 | 1.0000000 | 0.06194645 |\n",
       "| 2 | 0.04117647 | 1 | 0.18235294 | 0.1823529 | 0.03169642 |\n",
       "| 3 | 0.01764706 | 3 | 0.10000000 | 0.1588235 | 0.02970979 |\n",
       "| 4 | 0.01000000 | 4 | 0.08235294 | 0.1235294 | 0.02637116 |\n",
       "\n"
      ],
      "text/plain": [
       "  CP         nsplit rel error  xerror    xstd      \n",
       "1 0.81764706 0      1.00000000 1.0000000 0.06194645\n",
       "2 0.04117647 1      0.18235294 0.1823529 0.03169642\n",
       "3 0.01764706 3      0.10000000 0.1588235 0.02970979\n",
       "4 0.01000000 4      0.08235294 0.1235294 0.02637116"
      ]
     },
     "metadata": {},
     "output_type": "display_data"
    }
   ],
   "source": [
    "library(rpart)\n",
    "set.seed(1234)\n",
    "\n",
    "# 生成树\n",
    "dtree <- rpart(\n",
    "    class~.,\n",
    "    data=df.train,\n",
    "    method=\"class\",\n",
    "    parms=list(split=\"information\")\n",
    ")\n",
    "\n",
    "dtree$cptable"
   ]
  },
  {
   "cell_type": "code",
   "execution_count": 57,
   "metadata": {
    "vscode": {
     "languageId": "r"
    }
   },
   "outputs": [
    {
     "data": {
      "image/png": "[encoded data removed]",
      "text/plain": [
       "plot without title"
      ]
     },
     "metadata": {
      "image/png": {
       "height": 420,
       "width": 420
      }
     },
     "output_type": "display_data"
    }
   ],
   "source": [
    "plotcp(dtree)"
   ]
  },
  {
   "cell_type": "code",
   "execution_count": 58,
   "metadata": {
    "vscode": {
     "languageId": "r"
    }
   },
   "outputs": [],
   "source": [
    "dtree.pruned <- prune(dtree, cp=0.0176)"
   ]
  },
  {
   "cell_type": "code",
   "execution_count": 59,
   "metadata": {
    "vscode": {
     "languageId": "r"
    }
   },
   "outputs": [
    {
     "data": {
      "image/png": "[encoded data removed]",
      "text/plain": [
       "Plot with title \"Decision Tree\""
      ]
     },
     "metadata": {
      "image/png": {
       "height": 420,
       "width": 420
      }
     },
     "output_type": "display_data"
    }
   ],
   "source": [
    "library(rpart.plot)\n",
    "prp(dtree.pruned, type=2, extra=104, fallen.leaves=TRUE, main=\"Decision Tree\")"
   ]
  },
  {
   "cell_type": "code",
   "execution_count": 87,
   "metadata": {
    "vscode": {
     "languageId": "r"
    }
   },
   "outputs": [
    {
     "data": {
      "text/plain": [
       "           Predicted\n",
       "Actual      benign malignant\n",
       "  benign       129        10\n",
       "  malignant      2        69"
      ]
     },
     "metadata": {},
     "output_type": "display_data"
    }
   ],
   "source": [
    "dtree.pred <- predict(dtree.pruned, df.validate, type=\"class\")\n",
    "dtree.perf <- table(df.validate$class, dtree.pred, dnn=c(\"Actual\", \"Predicted\"))\n",
    "dtree.perf"
   ]
  },
  {
   "cell_type": "markdown",
   "metadata": {},
   "source": [
    "## 条件推断树"
   ]
  },
  {
   "cell_type": "code",
   "execution_count": 61,
   "metadata": {
    "vscode": {
     "languageId": "r"
    }
   },
   "outputs": [
    {
     "data": {
      "text/plain": [
       " clumpThickness   sizeUniformity   shapeUniformity  maginalAdhesion \n",
       " Min.   : 1.000   Min.   : 1.000   Min.   : 1.000   Min.   : 1.000  \n",
       " 1st Qu.: 2.000   1st Qu.: 1.000   1st Qu.: 1.000   1st Qu.: 1.000  \n",
       " Median : 4.000   Median : 1.000   Median : 2.000   Median : 1.000  \n",
       " Mean   : 4.448   Mean   : 3.106   Mean   : 3.217   Mean   : 2.744  \n",
       " 3rd Qu.: 6.000   3rd Qu.: 5.000   3rd Qu.: 5.000   3rd Qu.: 3.000  \n",
       " Max.   :10.000   Max.   :10.000   Max.   :10.000   Max.   :10.000  \n",
       "                                                                    \n",
       " singleEpithelialCellSize   bareNuclei     blandChromatin   normalNucleoli  \n",
       " Min.   : 1.000           Min.   : 1.000   Min.   : 1.000   Min.   : 1.000  \n",
       " 1st Qu.: 2.000           1st Qu.: 1.000   1st Qu.: 2.000   1st Qu.: 1.000  \n",
       " Median : 2.000           Median : 1.000   Median : 3.000   Median : 1.000  \n",
       " Mean   : 3.215           Mean   : 3.517   Mean   : 3.395   Mean   : 2.818  \n",
       " 3rd Qu.: 4.000           3rd Qu.: 5.750   3rd Qu.: 4.000   3rd Qu.: 3.000  \n",
       " Max.   :10.000           Max.   :10.000   Max.   :10.000   Max.   :10.000  \n",
       "                          NA's   :11                                        \n",
       "    mitosis             class    \n",
       " Min.   : 1.000   benign   :319  \n",
       " 1st Qu.: 1.000   malignant:170  \n",
       " Median : 1.000                  \n",
       " Mean   : 1.648                  \n",
       " 3rd Qu.: 1.000                  \n",
       " Max.   :10.000                  \n",
       "                                 "
      ]
     },
     "metadata": {},
     "output_type": "display_data"
    }
   ],
   "source": [
    "summary(df.train)"
   ]
  },
  {
   "cell_type": "code",
   "execution_count": 62,
   "metadata": {
    "vscode": {
     "languageId": "r"
    }
   },
   "outputs": [
    {
     "data": {
      "text/html": [
       "2"
      ],
      "text/latex": [
       "2"
      ],
      "text/markdown": [
       "2"
      ],
      "text/plain": [
       "[1] 2"
      ]
     },
     "metadata": {},
     "output_type": "display_data"
    }
   ],
   "source": [
    "nlevels(df.train$class)"
   ]
  },
  {
   "cell_type": "code",
   "execution_count": 63,
   "metadata": {
    "vscode": {
     "languageId": "r"
    }
   },
   "outputs": [
    {
     "name": "stdout",
     "output_type": "stream",
     "text": [
      "'data.frame':\t489 obs. of  10 variables:\n",
      " $ clumpThickness          : int  10 10 7 2 1 5 4 1 3 3 ...\n",
      " $ sizeUniformity          : int  4 3 1 1 2 1 1 1 2 1 ...\n",
      " $ shapeUniformity         : int  6 5 2 1 3 1 2 1 2 1 ...\n",
      " $ maginalAdhesion         : int  1 1 3 1 1 1 1 1 1 1 ...\n",
      " $ singleEpithelialCellSize: int  2 10 2 2 2 2 2 1 2 2 ...\n",
      " $ bareNuclei              : num  10 5 1 1 1 1 1 1 1 3 ...\n",
      " $ blandChromatin          : int  5 3 2 1 1 3 3 2 2 3 ...\n",
      " $ normalNucleoli          : int  3 10 1 1 1 1 1 1 3 1 ...\n",
      " $ mitosis                 : int  1 2 1 1 1 1 1 1 1 1 ...\n",
      " $ class                   : Factor w/ 2 levels \"benign\",\"malignant\": 2 2 1 1 1 1 1 1 1 1 ...\n"
     ]
    }
   ],
   "source": [
    "str(df.train)"
   ]
  },
  {
   "cell_type": "code",
   "execution_count": 64,
   "metadata": {
    "vscode": {
     "languageId": "r"
    }
   },
   "outputs": [
    {
     "data": {
      "text/html": [
       "<style>\n",
       ".list-inline {list-style: none; margin:0; padding: 0}\n",
       ".list-inline>li {display: inline-block}\n",
       ".list-inline>li:not(:last-child)::after {content: \"\\00b7\"; padding: 0 .5ex}\n",
       "</style>\n",
       "<ol class=list-inline><li>'clumpThickness'</li><li>'sizeUniformity'</li><li>'shapeUniformity'</li><li>'maginalAdhesion'</li><li>'singleEpithelialCellSize'</li><li>'bareNuclei'</li><li>'blandChromatin'</li><li>'normalNucleoli'</li><li>'mitosis'</li><li>'class'</li></ol>\n"
      ],
      "text/latex": [
       "\\begin{enumerate*}\n",
       "\\item 'clumpThickness'\n",
       "\\item 'sizeUniformity'\n",
       "\\item 'shapeUniformity'\n",
       "\\item 'maginalAdhesion'\n",
       "\\item 'singleEpithelialCellSize'\n",
       "\\item 'bareNuclei'\n",
       "\\item 'blandChromatin'\n",
       "\\item 'normalNucleoli'\n",
       "\\item 'mitosis'\n",
       "\\item 'class'\n",
       "\\end{enumerate*}\n"
      ],
      "text/markdown": [
       "1. 'clumpThickness'\n",
       "2. 'sizeUniformity'\n",
       "3. 'shapeUniformity'\n",
       "4. 'maginalAdhesion'\n",
       "5. 'singleEpithelialCellSize'\n",
       "6. 'bareNuclei'\n",
       "7. 'blandChromatin'\n",
       "8. 'normalNucleoli'\n",
       "9. 'mitosis'\n",
       "10. 'class'\n",
       "\n",
       "\n"
      ],
      "text/plain": [
       " [1] \"clumpThickness\"           \"sizeUniformity\"          \n",
       " [3] \"shapeUniformity\"          \"maginalAdhesion\"         \n",
       " [5] \"singleEpithelialCellSize\" \"bareNuclei\"              \n",
       " [7] \"blandChromatin\"           \"normalNucleoli\"          \n",
       " [9] \"mitosis\"                  \"class\"                   "
      ]
     },
     "metadata": {},
     "output_type": "display_data"
    }
   ],
   "source": [
    "colnames(df.train)"
   ]
  },
  {
   "cell_type": "code",
   "execution_count": 65,
   "metadata": {
    "vscode": {
     "languageId": "r"
    }
   },
   "outputs": [
    {
     "data": {
      "text/html": [
       "11"
      ],
      "text/latex": [
       "11"
      ],
      "text/markdown": [
       "11"
      ],
      "text/plain": [
       "[1] 11"
      ]
     },
     "metadata": {},
     "output_type": "display_data"
    }
   ],
   "source": [
    "sum(is.na(df.train))"
   ]
  },
  {
   "cell_type": "code",
   "execution_count": 66,
   "metadata": {
    "vscode": {
     "languageId": "r"
    }
   },
   "outputs": [
    {
     "data": {
      "image/png": "[encoded data removed]",
      "text/plain": [
       "plot without title"
      ]
     },
     "metadata": {
      "image/png": {
       "height": 420,
       "width": 420
      }
     },
     "output_type": "display_data"
    }
   ],
   "source": [
    "library(party)\n",
    "\n",
    "fit.ctree <- ctree(\n",
    "    class~.,\n",
    "    data=df.train\n",
    ")\n",
    "\n",
    "plot(fit.ctree, main=\"Conditional Inference Tree\")"
   ]
  },
  {
   "cell_type": "code",
   "execution_count": 69,
   "metadata": {
    "vscode": {
     "languageId": "r"
    }
   },
   "outputs": [
    {
     "data": {
      "text/plain": [
       "           Predicted\n",
       "Actual      benign malignant\n",
       "  benign       131         8\n",
       "  malignant      4        67"
      ]
     },
     "metadata": {},
     "output_type": "display_data"
    }
   ],
   "source": [
    "ctree.pred <- predict(fit.ctree, df.validate, type=\"response\")\n",
    "ctree.perf <- table(df.validate$class, ctree.pred, dnn=c(\"Actual\", \"Predicted\"))\n",
    "ctree.perf"
   ]
  },
  {
   "cell_type": "markdown",
   "metadata": {},
   "source": [
    "# 随机森林"
   ]
  },
  {
   "cell_type": "code",
   "execution_count": 67,
   "metadata": {
    "vscode": {
     "languageId": "r"
    }
   },
   "outputs": [
    {
     "name": "stdout",
     "output_type": "stream",
     "text": [
      "'data.frame':\t489 obs. of  10 variables:\n",
      " $ clumpThickness          : int  10 10 7 2 1 5 4 1 3 3 ...\n",
      " $ sizeUniformity          : int  4 3 1 1 2 1 1 1 2 1 ...\n",
      " $ shapeUniformity         : int  6 5 2 1 3 1 2 1 2 1 ...\n",
      " $ maginalAdhesion         : int  1 1 3 1 1 1 1 1 1 1 ...\n",
      " $ singleEpithelialCellSize: int  2 10 2 2 2 2 2 1 2 2 ...\n",
      " $ bareNuclei              : num  10 5 1 1 1 1 1 1 1 3 ...\n",
      " $ blandChromatin          : int  5 3 2 1 1 3 3 2 2 3 ...\n",
      " $ normalNucleoli          : int  3 10 1 1 1 1 1 1 3 1 ...\n",
      " $ mitosis                 : int  1 2 1 1 1 1 1 1 1 1 ...\n",
      " $ class                   : Factor w/ 2 levels \"benign\",\"malignant\": 2 2 1 1 1 1 1 1 1 1 ...\n"
     ]
    }
   ],
   "source": [
    "str(df.train)"
   ]
  },
  {
   "cell_type": "code",
   "execution_count": 68,
   "metadata": {
    "vscode": {
     "languageId": "r"
    }
   },
   "outputs": [
    {
     "data": {
      "text/plain": [
       "\n",
       "Call:\n",
       " randomForest(formula = class ~ ., data = df.train, importance = TRUE,      na.action = na.roughfix) \n",
       "               Type of random forest: classification\n",
       "                     Number of trees: 500\n",
       "No. of variables tried at each split: 3\n",
       "\n",
       "        OOB estimate of  error rate: 2.66%\n",
       "Confusion matrix:\n",
       "          benign malignant class.error\n",
       "benign       313         6  0.01880878\n",
       "malignant      7       163  0.04117647"
      ]
     },
     "metadata": {},
     "output_type": "display_data"
    }
   ],
   "source": [
    "library(randomForest)\n",
    "set.seed(1234)\n",
    "\n",
    "# 生成森林\n",
    "fit.forest <- randomForest(\n",
    "    class~.,\n",
    "    data=df.train,\n",
    "    na.action=na.roughfix,\n",
    "    importance=TRUE\n",
    ")\n",
    "\n",
    "fit.forest"
   ]
  },
  {
   "cell_type": "code",
   "execution_count": 71,
   "metadata": {
    "vscode": {
     "languageId": "r"
    }
   },
   "outputs": [
    {
     "data": {
      "text/html": [
       "<table class=\"dataframe\">\n",
       "<caption>A matrix: 9 × 1 of type dbl</caption>\n",
       "<thead>\n",
       "\t<tr><th></th><th scope=col>MeanDecreaseGini</th></tr>\n",
       "</thead>\n",
       "<tbody>\n",
       "\t<tr><th scope=row>clumpThickness</th><td>11.382432</td></tr>\n",
       "\t<tr><th scope=row>sizeUniformity</th><td>63.037519</td></tr>\n",
       "\t<tr><th scope=row>shapeUniformity</th><td>49.027649</td></tr>\n",
       "\t<tr><th scope=row>maginalAdhesion</th><td> 4.275345</td></tr>\n",
       "\t<tr><th scope=row>singleEpithelialCellSize</th><td>14.504981</td></tr>\n",
       "\t<tr><th scope=row>bareNuclei</th><td>42.736364</td></tr>\n",
       "\t<tr><th scope=row>blandChromatin</th><td>22.484755</td></tr>\n",
       "\t<tr><th scope=row>normalNucleoli</th><td>11.375285</td></tr>\n",
       "\t<tr><th scope=row>mitosis</th><td> 1.755382</td></tr>\n",
       "</tbody>\n",
       "</table>\n"
      ],
      "text/latex": [
       "A matrix: 9 × 1 of type dbl\n",
       "\\begin{tabular}{r|l}\n",
       "  & MeanDecreaseGini\\\\\n",
       "\\hline\n",
       "\tclumpThickness & 11.382432\\\\\n",
       "\tsizeUniformity & 63.037519\\\\\n",
       "\tshapeUniformity & 49.027649\\\\\n",
       "\tmaginalAdhesion &  4.275345\\\\\n",
       "\tsingleEpithelialCellSize & 14.504981\\\\\n",
       "\tbareNuclei & 42.736364\\\\\n",
       "\tblandChromatin & 22.484755\\\\\n",
       "\tnormalNucleoli & 11.375285\\\\\n",
       "\tmitosis &  1.755382\\\\\n",
       "\\end{tabular}\n"
      ],
      "text/markdown": [
       "\n",
       "A matrix: 9 × 1 of type dbl\n",
       "\n",
       "| <!--/--> | MeanDecreaseGini |\n",
       "|---|---|\n",
       "| clumpThickness | 11.382432 |\n",
       "| sizeUniformity | 63.037519 |\n",
       "| shapeUniformity | 49.027649 |\n",
       "| maginalAdhesion |  4.275345 |\n",
       "| singleEpithelialCellSize | 14.504981 |\n",
       "| bareNuclei | 42.736364 |\n",
       "| blandChromatin | 22.484755 |\n",
       "| normalNucleoli | 11.375285 |\n",
       "| mitosis |  1.755382 |\n",
       "\n"
      ],
      "text/plain": [
       "                         MeanDecreaseGini\n",
       "clumpThickness           11.382432       \n",
       "sizeUniformity           63.037519       \n",
       "shapeUniformity          49.027649       \n",
       "maginalAdhesion           4.275345       \n",
       "singleEpithelialCellSize 14.504981       \n",
       "bareNuclei               42.736364       \n",
       "blandChromatin           22.484755       \n",
       "normalNucleoli           11.375285       \n",
       "mitosis                   1.755382       "
      ]
     },
     "metadata": {},
     "output_type": "display_data"
    }
   ],
   "source": [
    "importance(fit.forest, type=2)"
   ]
  },
  {
   "cell_type": "code",
   "execution_count": 72,
   "metadata": {
    "vscode": {
     "languageId": "r"
    }
   },
   "outputs": [
    {
     "data": {
      "text/plain": [
       "           Predicted\n",
       "Actual      benign malignant\n",
       "  benign       128         7\n",
       "  malignant      2        68"
      ]
     },
     "metadata": {},
     "output_type": "display_data"
    }
   ],
   "source": [
    "forest.pred <- predict(fit.forest, df.validate)\n",
    "forest.perf <- table(df.validate$class, forest.pred, dnn=c(\"Actual\", \"Predicted\"))\n",
    "forest.perf"
   ]
  },
  {
   "cell_type": "markdown",
   "metadata": {},
   "source": [
    "# 支持向量机"
   ]
  },
  {
   "cell_type": "code",
   "execution_count": 74,
   "metadata": {
    "vscode": {
     "languageId": "r"
    }
   },
   "outputs": [
    {
     "data": {
      "text/plain": [
       "\n",
       "Call:\n",
       "svm(formula = class ~ ., data = df.train)\n",
       "\n",
       "\n",
       "Parameters:\n",
       "   SVM-Type:  C-classification \n",
       " SVM-Kernel:  radial \n",
       "       cost:  1 \n",
       "\n",
       "Number of Support Vectors:  74\n"
      ]
     },
     "metadata": {},
     "output_type": "display_data"
    }
   ],
   "source": [
    "library(e1071)\n",
    "set.seed(1234)\n",
    "\n",
    "# SVM\n",
    "fit.svm <- svm(class~., data=df.train)\n",
    "\n",
    "fit.svm"
   ]
  },
  {
   "cell_type": "code",
   "execution_count": 76,
   "metadata": {
    "vscode": {
     "languageId": "r"
    }
   },
   "outputs": [
    {
     "data": {
      "text/plain": [
       "           Predicted\n",
       "Actual      benign malignant\n",
       "  benign       126         9\n",
       "  malignant      0        70"
      ]
     },
     "metadata": {},
     "output_type": "display_data"
    }
   ],
   "source": [
    "svm.pred <- predict(fit.svm, na.omit(df.validate))\n",
    "svm.perf <- table(na.omit(df.validate)$class, svm.pred, dnn=c(\"Actual\", \"Predicted\"))\n",
    "svm.perf"
   ]
  },
  {
   "cell_type": "code",
   "execution_count": 77,
   "metadata": {
    "vscode": {
     "languageId": "r"
    }
   },
   "outputs": [
    {
     "data": {
      "text/plain": [
       "\n",
       "Parameter tuning of 'svm':\n",
       "\n",
       "- sampling method: 10-fold cross validation \n",
       "\n",
       "- best parameters:\n",
       " gamma cost\n",
       "  0.01    1\n",
       "\n",
       "- best performance: 0.02740302 \n"
      ]
     },
     "metadata": {},
     "output_type": "display_data"
    }
   ],
   "source": [
    "# 带RBF核的SVM模型\n",
    "set.seed(1234)\n",
    "tuned <- tune.svm(\n",
    "    class~.,\n",
    "    data=df.train,\n",
    "    gamma=10^(-6:1),\n",
    "    cost=10^(-10:10)\n",
    ")\n",
    "\n",
    "# 输出最优模型\n",
    "tuned"
   ]
  },
  {
   "cell_type": "code",
   "execution_count": 78,
   "metadata": {
    "vscode": {
     "languageId": "r"
    }
   },
   "outputs": [
    {
     "data": {
      "text/plain": [
       "           Predicted\n",
       "Actual      benign malignant\n",
       "  benign       127         8\n",
       "  malignant      0        70"
      ]
     },
     "metadata": {},
     "output_type": "display_data"
    }
   ],
   "source": [
    "fit.svm <- svm(class~., data=df.train, gamma=0.1, cost=1)\n",
    "svm.pred  <- predict(fit.svm, na.omit(df.validate))\n",
    "svm.perf <- table(na.omit(df.validate)$class, svm.pred, dnn=c(\"Actual\", \"Predicted\"))\n",
    "svm.perf"
   ]
  },
  {
   "cell_type": "markdown",
   "metadata": {},
   "source": [
    "# 选择预测效果最好的解"
   ]
  },
  {
   "cell_type": "code",
   "execution_count": 79,
   "metadata": {
    "vscode": {
     "languageId": "r"
    }
   },
   "outputs": [],
   "source": [
    "performance <- function(table, n=2){\n",
    "    if(!all(dim(table) == c(2, 2))){\n",
    "        stop(\"The table must be 2x2\")\n",
    "    }\n",
    "\n",
    "    # 得到频数\n",
    "    tn <- table[1, 1]\n",
    "    fp <- table[1, 2]\n",
    "    fn <- table[2, 1]\n",
    "    tp <- table[2, 2]\n",
    "    \n",
    "    # 计算统计量\n",
    "    sensitivity <- tp / (tp + fn)\n",
    "    specificity <- tn / (tn + fp)\n",
    "    ppp <- tp / (tp + fp)\n",
    "    npp <- tn / (tn + fn)\n",
    "\n",
    "    # 输出结果\n",
    "    result <- paste(\n",
    "        \"Sensitivity:\", round(sensitivity, n),\n",
    "        \"\\nSpecificity:\", round(specificity, n),\n",
    "        \"\\nPositive Predictive Value:\", round(ppp, n),\n",
    "        \"\\nNegative Predictive Value:\", round(npp, n)\n",
    "    )\n",
    "    cat(result)\n",
    "}"
   ]
  },
  {
   "cell_type": "code",
   "execution_count": 80,
   "metadata": {
    "vscode": {
     "languageId": "r"
    }
   },
   "outputs": [
    {
     "name": "stdout",
     "output_type": "stream",
     "text": [
      "Sensitivity: 0.99 \n",
      "Specificity: 0.96 \n",
      "Positive Predictive Value: 0.92 \n",
      "Negative Predictive Value: 0.99"
     ]
    }
   ],
   "source": [
    "performance(logit.pref)"
   ]
  },
  {
   "cell_type": "code",
   "execution_count": 88,
   "metadata": {
    "vscode": {
     "languageId": "r"
    }
   },
   "outputs": [
    {
     "name": "stdout",
     "output_type": "stream",
     "text": [
      "Sensitivity: 0.97 \n",
      "Specificity: 0.93 \n",
      "Positive Predictive Value: 0.87 \n",
      "Negative Predictive Value: 0.98"
     ]
    }
   ],
   "source": [
    "performance(dtree.perf)"
   ]
  },
  {
   "cell_type": "code",
   "execution_count": 89,
   "metadata": {
    "vscode": {
     "languageId": "r"
    }
   },
   "outputs": [
    {
     "name": "stdout",
     "output_type": "stream",
     "text": [
      "Sensitivity: 0.94 \n",
      "Specificity: 0.94 \n",
      "Positive Predictive Value: 0.89 \n",
      "Negative Predictive Value: 0.97"
     ]
    }
   ],
   "source": [
    "performance(ctree.perf)"
   ]
  },
  {
   "cell_type": "code",
   "execution_count": 90,
   "metadata": {
    "vscode": {
     "languageId": "r"
    }
   },
   "outputs": [
    {
     "name": "stdout",
     "output_type": "stream",
     "text": [
      "Sensitivity: 0.97 \n",
      "Specificity: 0.95 \n",
      "Positive Predictive Value: 0.91 \n",
      "Negative Predictive Value: 0.98"
     ]
    }
   ],
   "source": [
    "performance(forest.perf)"
   ]
  },
  {
   "cell_type": "code",
   "execution_count": 91,
   "metadata": {
    "vscode": {
     "languageId": "r"
    }
   },
   "outputs": [
    {
     "name": "stdout",
     "output_type": "stream",
     "text": [
      "Sensitivity: 1 \n",
      "Specificity: 0.94 \n",
      "Positive Predictive Value: 0.9 \n",
      "Negative Predictive Value: 1"
     ]
    }
   ],
   "source": [
    "performance(svm.perf)"
   ]
  },
  {
   "cell_type": "markdown",
   "metadata": {},
   "source": [
    "# 用rattle包进行数据挖掘"
   ]
  },
  {
   "cell_type": "code",
   "execution_count": 92,
   "metadata": {
    "vscode": {
     "languageId": "r"
    }
   },
   "outputs": [
    {
     "name": "stdout",
     "output_type": "stream",
     "text": [
      "package 'rattle' successfully unpacked and MD5 sums checked\n",
      "\n",
      "The downloaded binary packages are in\n",
      "\tC:\\Users\\86151\\AppData\\Local\\Temp\\Rtmpaygbpj\\downloaded_packages\n"
     ]
    }
   ],
   "source": [
    "install.packages(\"rattle\")"
   ]
  },
  {
   "cell_type": "code",
   "execution_count": 95,
   "metadata": {
    "vscode": {
     "languageId": "r"
    }
   },
   "outputs": [
    {
     "name": "stderr",
     "output_type": "stream",
     "text": [
      "Warning message:\n",
      "\"package 'RGtk2' is not available for this version of R\n",
      "\n",
      "A version of this package for your version of R might be available elsewhere,\n",
      "see the ideas at\n",
      "https://cran.r-project.org/doc/manuals/r-patched/R-admin.html#Installing-packages\"\n"
     ]
    }
   ],
   "source": [
    "install.packages(\"RGtk2\")"
   ]
  },
  {
   "cell_type": "code",
   "execution_count": 96,
   "metadata": {
    "vscode": {
     "languageId": "r"
    }
   },
   "outputs": [
    {
     "ename": "ERROR",
     "evalue": "Error in rattle(): \nThe RGtk2 package is not available but is required. \nPlease install the package using, for example: \n\n  install.packages(\"RGtk2\")\n\n\n",
     "output_type": "error",
     "traceback": [
      "Error in rattle(): \nThe RGtk2 package is not available but is required. \nPlease install the package using, for example: \n\n  install.packages(\"RGtk2\")\n\n\nTraceback:\n",
      "1. stop(Rtxt(\"\\nThe RGtk2 package is not available but is required.\", \n .     \"\\nPlease install the package using, for example:\", \"\\n\\n  install.packages(\\\"RGtk2\\\")\\n\\n\"))",
      "2. .handleSimpleError(function (cnd) \n . {\n .     watcher$capture_plot_and_output()\n .     cnd <- sanitize_call(cnd)\n .     watcher$push(cnd)\n .     switch(on_error, continue = invokeRestart(\"eval_continue\"), \n .         stop = invokeRestart(\"eval_stop\"), error = NULL)\n . }, \"\\nThe RGtk2 package is not available but is required. \\nPlease install the package using, for example: \\n\\n  install.packages(\\\"RGtk2\\\")\\n\\n\", \n .     base::quote(rattle()))"
     ]
    }
   ],
   "source": [
    "library(rattle)\n",
    "rattle()"
   ]
  }
 ],
 "metadata": {
  "kernelspec": {
   "display_name": "R",
   "language": "R",
   "name": "ir"
  },
  "language_info": {
   "codemirror_mode": "r",
   "file_extension": ".r",
   "mimetype": "text/x-r-source",
   "name": "R",
   "pygments_lexer": "r",
   "version": "4.4.2"
  }
 },
 "nbformat": 4,
 "nbformat_minor": 2
}

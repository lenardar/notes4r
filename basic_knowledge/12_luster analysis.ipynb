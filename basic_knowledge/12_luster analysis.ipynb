{
 "cells": [
  {
   "cell_type": "markdown",
   "metadata": {},
   "source": [
    "学习R语言聚类分析。"
   ]
  },
  {
   "cell_type": "code",
   "execution_count": 1,
   "metadata": {
    "vscode": {
     "languageId": "r"
    }
   },
   "outputs": [
    {
     "name": "stdout",
     "output_type": "stream",
     "text": [
      "package 'cluster' successfully unpacked and MD5 sums checked\n",
      "\n",
      "The downloaded binary packages are in\n",
      "\tC:\\Users\\86151\\AppData\\Local\\Temp\\Rtmp8Saa1o\\downloaded_packages\n"
     ]
    }
   ],
   "source": [
    "install.packages(\"cluster\")"
   ]
  },
  {
   "cell_type": "code",
   "execution_count": 2,
   "metadata": {
    "vscode": {
     "languageId": "r"
    }
   },
   "outputs": [
    {
     "name": "stdout",
     "output_type": "stream",
     "text": [
      "package 'NbClust' successfully unpacked and MD5 sums checked\n",
      "\n",
      "The downloaded binary packages are in\n",
      "\tC:\\Users\\86151\\AppData\\Local\\Temp\\Rtmp8Saa1o\\downloaded_packages\n"
     ]
    }
   ],
   "source": [
    "install.packages(\"NbClust\")"
   ]
  },
  {
   "cell_type": "code",
   "execution_count": 5,
   "metadata": {
    "vscode": {
     "languageId": "r"
    }
   },
   "outputs": [
    {
     "name": "stdout",
     "output_type": "stream",
     "text": [
      "package 'flexclust' successfully unpacked and MD5 sums checked\n",
      "\n",
      "The downloaded binary packages are in\n",
      "\tC:\\Users\\86151\\AppData\\Local\\Temp\\Rtmp8Saa1o\\downloaded_packages\n"
     ]
    }
   ],
   "source": [
    "install.packages(\"flexclust\")"
   ]
  },
  {
   "cell_type": "code",
   "execution_count": 7,
   "metadata": {
    "vscode": {
     "languageId": "r"
    }
   },
   "outputs": [
    {
     "name": "stderr",
     "output_type": "stream",
     "text": [
      "also installing the dependencies 'timeSeries', 'gss', 'stabledist', 'fBasics', 'cubature', 'sn'\n",
      "\n",
      "\n"
     ]
    },
    {
     "name": "stdout",
     "output_type": "stream",
     "text": [
      "package 'timeSeries' successfully unpacked and MD5 sums checked\n",
      "package 'gss' successfully unpacked and MD5 sums checked\n",
      "package 'stabledist' successfully unpacked and MD5 sums checked\n",
      "package 'fBasics' successfully unpacked and MD5 sums checked\n",
      "package 'cubature' successfully unpacked and MD5 sums checked\n",
      "package 'sn' successfully unpacked and MD5 sums checked\n",
      "package 'fMultivar' successfully unpacked and MD5 sums checked\n",
      "\n",
      "The downloaded binary packages are in\n",
      "\tC:\\Users\\86151\\AppData\\Local\\Temp\\Rtmp8Saa1o\\downloaded_packages\n"
     ]
    }
   ],
   "source": [
    "install.packages(\"fMultivar\")"
   ]
  },
  {
   "cell_type": "code",
   "execution_count": 8,
   "metadata": {
    "vscode": {
     "languageId": "r"
    }
   },
   "outputs": [
    {
     "name": "stdout",
     "output_type": "stream",
     "text": [
      "package 'ggplot2' successfully unpacked and MD5 sums checked\n",
      "\n",
      "The downloaded binary packages are in\n",
      "\tC:\\Users\\86151\\AppData\\Local\\Temp\\Rtmp8Saa1o\\downloaded_packages\n"
     ]
    }
   ],
   "source": [
    "install.packages(\"ggplot2\")"
   ]
  },
  {
   "cell_type": "code",
   "execution_count": 9,
   "metadata": {
    "vscode": {
     "languageId": "r"
    }
   },
   "outputs": [
    {
     "name": "stderr",
     "output_type": "stream",
     "text": [
      "also installing the dependencies 'XML', 'rpart.plot'\n",
      "\n",
      "\n"
     ]
    },
    {
     "name": "stdout",
     "output_type": "stream",
     "text": [
      "package 'XML' successfully unpacked and MD5 sums checked\n",
      "package 'rpart.plot' successfully unpacked and MD5 sums checked\n",
      "package 'rattle' successfully unpacked and MD5 sums checked\n",
      "\n",
      "The downloaded binary packages are in\n",
      "\tC:\\Users\\86151\\AppData\\Local\\Temp\\Rtmp8Saa1o\\downloaded_packages\n"
     ]
    }
   ],
   "source": [
    "install.packages(\"rattle\")"
   ]
  },
  {
   "cell_type": "markdown",
   "metadata": {},
   "source": [
    "# 计算距离"
   ]
  },
  {
   "cell_type": "code",
   "execution_count": 11,
   "metadata": {
    "vscode": {
     "languageId": "r"
    }
   },
   "outputs": [
    {
     "data": {
      "text/html": [
       "<table class=\"dataframe\">\n",
       "<caption>A data.frame: 4 × 5</caption>\n",
       "<thead>\n",
       "\t<tr><th></th><th scope=col>energy</th><th scope=col>protein</th><th scope=col>fat</th><th scope=col>calcium</th><th scope=col>iron</th></tr>\n",
       "\t<tr><th></th><th scope=col>&lt;int&gt;</th><th scope=col>&lt;int&gt;</th><th scope=col>&lt;int&gt;</th><th scope=col>&lt;int&gt;</th><th scope=col>&lt;dbl&gt;</th></tr>\n",
       "</thead>\n",
       "<tbody>\n",
       "\t<tr><th scope=row>BEEF BRAISED</th><td>340</td><td>20</td><td>28</td><td>9</td><td>2.6</td></tr>\n",
       "\t<tr><th scope=row>HAMBURGER</th><td>245</td><td>21</td><td>17</td><td>9</td><td>2.7</td></tr>\n",
       "\t<tr><th scope=row>BEEF ROAST</th><td>420</td><td>15</td><td>39</td><td>7</td><td>2.0</td></tr>\n",
       "\t<tr><th scope=row>BEEF STEAK</th><td>375</td><td>19</td><td>32</td><td>9</td><td>2.6</td></tr>\n",
       "</tbody>\n",
       "</table>\n"
      ],
      "text/latex": [
       "A data.frame: 4 × 5\n",
       "\\begin{tabular}{r|lllll}\n",
       "  & energy & protein & fat & calcium & iron\\\\\n",
       "  & <int> & <int> & <int> & <int> & <dbl>\\\\\n",
       "\\hline\n",
       "\tBEEF BRAISED & 340 & 20 & 28 & 9 & 2.6\\\\\n",
       "\tHAMBURGER & 245 & 21 & 17 & 9 & 2.7\\\\\n",
       "\tBEEF ROAST & 420 & 15 & 39 & 7 & 2.0\\\\\n",
       "\tBEEF STEAK & 375 & 19 & 32 & 9 & 2.6\\\\\n",
       "\\end{tabular}\n"
      ],
      "text/markdown": [
       "\n",
       "A data.frame: 4 × 5\n",
       "\n",
       "| <!--/--> | energy &lt;int&gt; | protein &lt;int&gt; | fat &lt;int&gt; | calcium &lt;int&gt; | iron &lt;dbl&gt; |\n",
       "|---|---|---|---|---|---|\n",
       "| BEEF BRAISED | 340 | 20 | 28 | 9 | 2.6 |\n",
       "| HAMBURGER | 245 | 21 | 17 | 9 | 2.7 |\n",
       "| BEEF ROAST | 420 | 15 | 39 | 7 | 2.0 |\n",
       "| BEEF STEAK | 375 | 19 | 32 | 9 | 2.6 |\n",
       "\n"
      ],
      "text/plain": [
       "             energy protein fat calcium iron\n",
       "BEEF BRAISED 340    20      28  9       2.6 \n",
       "HAMBURGER    245    21      17  9       2.7 \n",
       "BEEF ROAST   420    15      39  7       2.0 \n",
       "BEEF STEAK   375    19      32  9       2.6 "
      ]
     },
     "metadata": {},
     "output_type": "display_data"
    }
   ],
   "source": [
    "data(nutrient, package=\"flexclust\")\n",
    "head(nutrient, 4)"
   ]
  },
  {
   "cell_type": "code",
   "execution_count": 12,
   "metadata": {
    "vscode": {
     "languageId": "r"
    }
   },
   "outputs": [
    {
     "data": {
      "text/html": [
       "<table class=\"dataframe\">\n",
       "<caption>A matrix: 4 × 4 of type dbl</caption>\n",
       "<thead>\n",
       "\t<tr><th></th><th scope=col>BEEF BRAISED</th><th scope=col>HAMBURGER</th><th scope=col>BEEF ROAST</th><th scope=col>BEEF STEAK</th></tr>\n",
       "</thead>\n",
       "<tbody>\n",
       "\t<tr><th scope=row>BEEF BRAISED</th><td> 0.00000</td><td> 95.6400</td><td> 80.93429</td><td> 35.24202</td></tr>\n",
       "\t<tr><th scope=row>HAMBURGER</th><td>95.64000</td><td>  0.0000</td><td>176.49218</td><td>130.87784</td></tr>\n",
       "\t<tr><th scope=row>BEEF ROAST</th><td>80.93429</td><td>176.4922</td><td>  0.00000</td><td> 45.76418</td></tr>\n",
       "\t<tr><th scope=row>BEEF STEAK</th><td>35.24202</td><td>130.8778</td><td> 45.76418</td><td>  0.00000</td></tr>\n",
       "</tbody>\n",
       "</table>\n"
      ],
      "text/latex": [
       "A matrix: 4 × 4 of type dbl\n",
       "\\begin{tabular}{r|llll}\n",
       "  & BEEF BRAISED & HAMBURGER & BEEF ROAST & BEEF STEAK\\\\\n",
       "\\hline\n",
       "\tBEEF BRAISED &  0.00000 &  95.6400 &  80.93429 &  35.24202\\\\\n",
       "\tHAMBURGER & 95.64000 &   0.0000 & 176.49218 & 130.87784\\\\\n",
       "\tBEEF ROAST & 80.93429 & 176.4922 &   0.00000 &  45.76418\\\\\n",
       "\tBEEF STEAK & 35.24202 & 130.8778 &  45.76418 &   0.00000\\\\\n",
       "\\end{tabular}\n"
      ],
      "text/markdown": [
       "\n",
       "A matrix: 4 × 4 of type dbl\n",
       "\n",
       "| <!--/--> | BEEF BRAISED | HAMBURGER | BEEF ROAST | BEEF STEAK |\n",
       "|---|---|---|---|---|\n",
       "| BEEF BRAISED |  0.00000 |  95.6400 |  80.93429 |  35.24202 |\n",
       "| HAMBURGER | 95.64000 |   0.0000 | 176.49218 | 130.87784 |\n",
       "| BEEF ROAST | 80.93429 | 176.4922 |   0.00000 |  45.76418 |\n",
       "| BEEF STEAK | 35.24202 | 130.8778 |  45.76418 |   0.00000 |\n",
       "\n"
      ],
      "text/plain": [
       "             BEEF BRAISED HAMBURGER BEEF ROAST BEEF STEAK\n",
       "BEEF BRAISED  0.00000      95.6400   80.93429   35.24202 \n",
       "HAMBURGER    95.64000       0.0000  176.49218  130.87784 \n",
       "BEEF ROAST   80.93429     176.4922    0.00000   45.76418 \n",
       "BEEF STEAK   35.24202     130.8778   45.76418    0.00000 "
      ]
     },
     "metadata": {},
     "output_type": "display_data"
    }
   ],
   "source": [
    "d <- dist(nutrient)\n",
    "as.matrix(d)[1:4, 1:4]"
   ]
  },
  {
   "cell_type": "markdown",
   "metadata": {},
   "source": [
    "# 层次聚类分析"
   ]
  },
  {
   "cell_type": "code",
   "execution_count": 15,
   "metadata": {
    "vscode": {
     "languageId": "r"
    }
   },
   "outputs": [
    {
     "data": {
      "image/png": "[encoded data removed]",
      "text/plain": [
       "Plot with title \"Average Linkage\""
      ]
     },
     "metadata": {
      "image/png": {
       "height": 420,
       "width": 420
      }
     },
     "output_type": "display_data"
    }
   ],
   "source": [
    "data(nutrient, package=\"flexclust\")\n",
    "row.names(nutrient) <- tolower(rownames(nutrient))\n",
    "nutrient.scaled <- scale(nutrient)\n",
    "d <- dist(nutrient.scaled)\n",
    "fit.average <- hclust(d, method=\"average\")\n",
    "plot(fit.average, main=\"Average Linkage\", hang=-1, cex=.8)"
   ]
  },
  {
   "cell_type": "code",
   "execution_count": 18,
   "metadata": {
    "vscode": {
     "languageId": "r"
    }
   },
   "outputs": [
    {
     "name": "stderr",
     "output_type": "stream",
     "text": [
      "Warning message in pf(beale, pp, df2):\n",
      "\"NaNs produced\"\n",
      "Warning message in pf(beale, pp, df2):\n",
      "\"NaNs produced\"\n"
     ]
    },
    {
     "name": "stdout",
     "output_type": "stream",
     "text": [
      "*** : The Hubert index is a graphical method of determining the number of clusters.\n",
      "                In the plot of Hubert index, we seek a significant knee that corresponds to a \n",
      "                significant increase of the value of the measure i.e the significant peak in Hubert\n",
      "                index second differences plot. \n",
      " \n"
     ]
    },
    {
     "data": {
      "image/png": "[encoded data removed]",
      "text/plain": [
       "plot without title"
      ]
     },
     "metadata": {
      "image/png": {
       "height": 420,
       "width": 420
      }
     },
     "output_type": "display_data"
    },
    {
     "name": "stdout",
     "output_type": "stream",
     "text": [
      "*** : The D index is a graphical method of determining the number of clusters. \n",
      "                In the plot of D index, we seek a significant knee (the significant peak in Dindex\n",
      "                second differences plot) that corresponds to a significant increase of the value of\n",
      "                the measure. \n",
      " \n",
      "******************************************************************* \n",
      "* Among all indices:                                                \n",
      "* 4 proposed 2 as the best number of clusters \n",
      "* 4 proposed 3 as the best number of clusters \n",
      "* 2 proposed 4 as the best number of clusters \n",
      "* 4 proposed 5 as the best number of clusters \n",
      "* 1 proposed 9 as the best number of clusters \n",
      "* 1 proposed 10 as the best number of clusters \n",
      "* 2 proposed 13 as the best number of clusters \n",
      "* 1 proposed 14 as the best number of clusters \n",
      "* 4 proposed 15 as the best number of clusters \n",
      "\n",
      "                   ***** Conclusion *****                            \n",
      " \n",
      "* According to the majority rule, the best number of clusters is  2 \n",
      " \n",
      " \n",
      "******************************************************************* \n"
     ]
    },
    {
     "data": {
      "text/plain": [
       "\n",
       " 0  1  2  3  4  5  9 10 13 14 15 \n",
       " 2  1  4  4  2  4  1  1  2  1  4 "
      ]
     },
     "metadata": {},
     "output_type": "display_data"
    },
    {
     "data": {
      "image/png": "[encoded data removed]",
      "text/plain": [
       "plot without title"
      ]
     },
     "metadata": {
      "image/png": {
       "height": 420,
       "width": 420
      }
     },
     "output_type": "display_data"
    }
   ],
   "source": [
    "# 选择聚类的个数\n",
    "library(NbClust)\n",
    "devAskNewPage(ask=TRUE)\n",
    "nc <- NbClust(nutrient.scaled, distance=\"euclidean\", min.nc=2, max.nc=15, method=\"average\")\n",
    "table(nc$Best.n[1,])"
   ]
  },
  {
   "cell_type": "code",
   "execution_count": 19,
   "metadata": {
    "vscode": {
     "languageId": "r"
    }
   },
   "outputs": [
    {
     "data": {
      "image/png": "[encoded data removed]",
      "text/plain": [
       "Plot with title \"Number of Clusters Chosen by 26 Criteria\""
      ]
     },
     "metadata": {
      "image/png": {
       "height": 420,
       "width": 420
      }
     },
     "output_type": "display_data"
    }
   ],
   "source": [
    "barplot(\n",
    "    table(nc$Best.n[1,]), \n",
    "    xlab=\"Number of Clusters\", \n",
    "    ylab=\"Number of Criteria\", \n",
    "    main=\"Number of Clusters Chosen by 26 Criteria\"\n",
    "    )"
   ]
  },
  {
   "cell_type": "code",
   "execution_count": 20,
   "metadata": {
    "vscode": {
     "languageId": "r"
    }
   },
   "outputs": [
    {
     "data": {
      "text/plain": [
       "clusters\n",
       " 1  2  3  4  5 \n",
       " 7 16  1  2  1 "
      ]
     },
     "metadata": {},
     "output_type": "display_data"
    }
   ],
   "source": [
    "# 获取最终聚类方案\n",
    "# 分为5类\n",
    "clusters <- cutree(fit.average, k=5)\n",
    "table(clusters)"
   ]
  },
  {
   "cell_type": "code",
   "execution_count": 21,
   "metadata": {
    "vscode": {
     "languageId": "r"
    }
   },
   "outputs": [
    {
     "data": {
      "text/html": [
       "<table class=\"dataframe\">\n",
       "<caption>A data.frame: 5 × 6</caption>\n",
       "<thead>\n",
       "\t<tr><th scope=col>cluster</th><th scope=col>energy</th><th scope=col>protein</th><th scope=col>fat</th><th scope=col>calcium</th><th scope=col>iron</th></tr>\n",
       "\t<tr><th scope=col>&lt;int&gt;</th><th scope=col>&lt;dbl&gt;</th><th scope=col>&lt;dbl&gt;</th><th scope=col>&lt;dbl&gt;</th><th scope=col>&lt;dbl&gt;</th><th scope=col>&lt;dbl&gt;</th></tr>\n",
       "</thead>\n",
       "<tbody>\n",
       "\t<tr><td>1</td><td>340.0</td><td>19</td><td>29</td><td>  9</td><td>2.50</td></tr>\n",
       "\t<tr><td>2</td><td>170.0</td><td>20</td><td> 8</td><td> 13</td><td>1.45</td></tr>\n",
       "\t<tr><td>3</td><td>160.0</td><td>26</td><td> 5</td><td> 14</td><td>5.90</td></tr>\n",
       "\t<tr><td>4</td><td> 57.5</td><td> 9</td><td> 1</td><td> 78</td><td>5.70</td></tr>\n",
       "\t<tr><td>5</td><td>180.0</td><td>22</td><td> 9</td><td>367</td><td>2.50</td></tr>\n",
       "</tbody>\n",
       "</table>\n"
      ],
      "text/latex": [
       "A data.frame: 5 × 6\n",
       "\\begin{tabular}{llllll}\n",
       " cluster & energy & protein & fat & calcium & iron\\\\\n",
       " <int> & <dbl> & <dbl> & <dbl> & <dbl> & <dbl>\\\\\n",
       "\\hline\n",
       "\t 1 & 340.0 & 19 & 29 &   9 & 2.50\\\\\n",
       "\t 2 & 170.0 & 20 &  8 &  13 & 1.45\\\\\n",
       "\t 3 & 160.0 & 26 &  5 &  14 & 5.90\\\\\n",
       "\t 4 &  57.5 &  9 &  1 &  78 & 5.70\\\\\n",
       "\t 5 & 180.0 & 22 &  9 & 367 & 2.50\\\\\n",
       "\\end{tabular}\n"
      ],
      "text/markdown": [
       "\n",
       "A data.frame: 5 × 6\n",
       "\n",
       "| cluster &lt;int&gt; | energy &lt;dbl&gt; | protein &lt;dbl&gt; | fat &lt;dbl&gt; | calcium &lt;dbl&gt; | iron &lt;dbl&gt; |\n",
       "|---|---|---|---|---|---|\n",
       "| 1 | 340.0 | 19 | 29 |   9 | 2.50 |\n",
       "| 2 | 170.0 | 20 |  8 |  13 | 1.45 |\n",
       "| 3 | 160.0 | 26 |  5 |  14 | 5.90 |\n",
       "| 4 |  57.5 |  9 |  1 |  78 | 5.70 |\n",
       "| 5 | 180.0 | 22 |  9 | 367 | 2.50 |\n",
       "\n"
      ],
      "text/plain": [
       "  cluster energy protein fat calcium iron\n",
       "1 1       340.0  19      29    9     2.50\n",
       "2 2       170.0  20       8   13     1.45\n",
       "3 3       160.0  26       5   14     5.90\n",
       "4 4        57.5   9       1   78     5.70\n",
       "5 5       180.0  22       9  367     2.50"
      ]
     },
     "metadata": {},
     "output_type": "display_data"
    }
   ],
   "source": [
    "# 描述聚类\n",
    "aggregate(x = nutrient, by = list(cluster = clusters), FUN = median)"
   ]
  },
  {
   "cell_type": "code",
   "execution_count": 22,
   "metadata": {
    "vscode": {
     "languageId": "r"
    }
   },
   "outputs": [
    {
     "data": {
      "text/html": [
       "<table class=\"dataframe\">\n",
       "<caption>A data.frame: 5 × 6</caption>\n",
       "<thead>\n",
       "\t<tr><th scope=col>cluster</th><th scope=col>energy</th><th scope=col>protein</th><th scope=col>fat</th><th scope=col>calcium</th><th scope=col>iron</th></tr>\n",
       "\t<tr><th scope=col>&lt;int&gt;</th><th scope=col>&lt;dbl&gt;</th><th scope=col>&lt;dbl&gt;</th><th scope=col>&lt;dbl&gt;</th><th scope=col>&lt;dbl&gt;</th><th scope=col>&lt;dbl&gt;</th></tr>\n",
       "</thead>\n",
       "<tbody>\n",
       "\t<tr><td>1</td><td> 1.3101024</td><td> 0.0000000</td><td> 1.3785620</td><td>-0.4480464</td><td> 0.08110456</td></tr>\n",
       "\t<tr><td>2</td><td>-0.3696099</td><td> 0.2352002</td><td>-0.4869384</td><td>-0.3967868</td><td>-0.63743114</td></tr>\n",
       "\t<tr><td>3</td><td>-0.4684165</td><td> 1.6464016</td><td>-0.7534384</td><td>-0.3839719</td><td> 2.40779157</td></tr>\n",
       "\t<tr><td>4</td><td>-1.4811842</td><td>-2.3520023</td><td>-1.1087718</td><td> 0.4361807</td><td> 2.27092763</td></tr>\n",
       "\t<tr><td>5</td><td>-0.2708033</td><td> 0.7056007</td><td>-0.3981050</td><td> 4.1396825</td><td> 0.08110456</td></tr>\n",
       "</tbody>\n",
       "</table>\n"
      ],
      "text/latex": [
       "A data.frame: 5 × 6\n",
       "\\begin{tabular}{llllll}\n",
       " cluster & energy & protein & fat & calcium & iron\\\\\n",
       " <int> & <dbl> & <dbl> & <dbl> & <dbl> & <dbl>\\\\\n",
       "\\hline\n",
       "\t 1 &  1.3101024 &  0.0000000 &  1.3785620 & -0.4480464 &  0.08110456\\\\\n",
       "\t 2 & -0.3696099 &  0.2352002 & -0.4869384 & -0.3967868 & -0.63743114\\\\\n",
       "\t 3 & -0.4684165 &  1.6464016 & -0.7534384 & -0.3839719 &  2.40779157\\\\\n",
       "\t 4 & -1.4811842 & -2.3520023 & -1.1087718 &  0.4361807 &  2.27092763\\\\\n",
       "\t 5 & -0.2708033 &  0.7056007 & -0.3981050 &  4.1396825 &  0.08110456\\\\\n",
       "\\end{tabular}\n"
      ],
      "text/markdown": [
       "\n",
       "A data.frame: 5 × 6\n",
       "\n",
       "| cluster &lt;int&gt; | energy &lt;dbl&gt; | protein &lt;dbl&gt; | fat &lt;dbl&gt; | calcium &lt;dbl&gt; | iron &lt;dbl&gt; |\n",
       "|---|---|---|---|---|---|\n",
       "| 1 |  1.3101024 |  0.0000000 |  1.3785620 | -0.4480464 |  0.08110456 |\n",
       "| 2 | -0.3696099 |  0.2352002 | -0.4869384 | -0.3967868 | -0.63743114 |\n",
       "| 3 | -0.4684165 |  1.6464016 | -0.7534384 | -0.3839719 |  2.40779157 |\n",
       "| 4 | -1.4811842 | -2.3520023 | -1.1087718 |  0.4361807 |  2.27092763 |\n",
       "| 5 | -0.2708033 |  0.7056007 | -0.3981050 |  4.1396825 |  0.08110456 |\n",
       "\n"
      ],
      "text/plain": [
       "  cluster energy     protein    fat        calcium    iron       \n",
       "1 1        1.3101024  0.0000000  1.3785620 -0.4480464  0.08110456\n",
       "2 2       -0.3696099  0.2352002 -0.4869384 -0.3967868 -0.63743114\n",
       "3 3       -0.4684165  1.6464016 -0.7534384 -0.3839719  2.40779157\n",
       "4 4       -1.4811842 -2.3520023 -1.1087718  0.4361807  2.27092763\n",
       "5 5       -0.2708033  0.7056007 -0.3981050  4.1396825  0.08110456"
      ]
     },
     "metadata": {},
     "output_type": "display_data"
    }
   ],
   "source": [
    "aggregate(x = as.data.frame(nutrient.scaled), by = list(cluster = clusters), FUN = median)"
   ]
  },
  {
   "cell_type": "code",
   "execution_count": 24,
   "metadata": {
    "vscode": {
     "languageId": "r"
    }
   },
   "outputs": [
    {
     "data": {
      "text/html": [
       "<style>\n",
       ".list-inline {list-style: none; margin:0; padding: 0}\n",
       ".list-inline>li {display: inline-block}\n",
       ".list-inline>li:not(:last-child)::after {content: \"\\00b7\"; padding: 0 .5ex}\n",
       "</style>\n",
       "<ol class=list-inline><li>'matrix'</li><li>'array'</li></ol>\n"
      ],
      "text/latex": [
       "\\begin{enumerate*}\n",
       "\\item 'matrix'\n",
       "\\item 'array'\n",
       "\\end{enumerate*}\n"
      ],
      "text/markdown": [
       "1. 'matrix'\n",
       "2. 'array'\n",
       "\n",
       "\n"
      ],
      "text/plain": [
       "[1] \"matrix\" \"array\" "
      ]
     },
     "metadata": {},
     "output_type": "display_data"
    }
   ],
   "source": [
    "class(nutrient.scaled)"
   ]
  },
  {
   "cell_type": "code",
   "execution_count": 25,
   "metadata": {
    "vscode": {
     "languageId": "r"
    }
   },
   "outputs": [
    {
     "data": {
      "image/png": "[encoded data removed]",
      "text/plain": [
       "Plot with title \"Average Linkage\""
      ]
     },
     "metadata": {
      "image/png": {
       "height": 420,
       "width": 420
      }
     },
     "output_type": "display_data"
    }
   ],
   "source": [
    "# 结果绘图\n",
    "plot(x = fit.average, hang = -1, main = \"Average Linkage\")\n",
    "rect.hclust(fit.average, k = 5)"
   ]
  },
  {
   "cell_type": "markdown",
   "metadata": {},
   "source": [
    "# 划分聚类分析"
   ]
  },
  {
   "cell_type": "markdown",
   "metadata": {},
   "source": [
    "## K均值聚类"
   ]
  },
  {
   "cell_type": "code",
   "execution_count": 27,
   "metadata": {
    "vscode": {
     "languageId": "r"
    }
   },
   "outputs": [],
   "source": [
    "wssplot <- function(data, nc=15, seed=1234){\n",
    "   wss <- (nrow(data)-1)*sum(apply(data,2, var))\n",
    "   for (i in 2:nc){\n",
    "       set.seed(seed)\n",
    "       wss[i] <- sum(kmeans(data, centers=i)$withinss)\n",
    "    }\n",
    "    plot(\n",
    "        1:nc, wss, type=\"b\", xlab=\"Number of Clusters\",\n",
    "        ylab=\"Within groups sum of squares\"\n",
    "    )\n",
    "}"
   ]
  },
  {
   "cell_type": "code",
   "execution_count": 28,
   "metadata": {
    "vscode": {
     "languageId": "r"
    }
   },
   "outputs": [
    {
     "data": {
      "text/html": [
       "<table class=\"dataframe\">\n",
       "<caption>A data.frame: 6 × 14</caption>\n",
       "<thead>\n",
       "\t<tr><th></th><th scope=col>Type</th><th scope=col>Alcohol</th><th scope=col>Malic</th><th scope=col>Ash</th><th scope=col>Alcalinity</th><th scope=col>Magnesium</th><th scope=col>Phenols</th><th scope=col>Flavanoids</th><th scope=col>Nonflavanoids</th><th scope=col>Proanthocyanins</th><th scope=col>Color</th><th scope=col>Hue</th><th scope=col>Dilution</th><th scope=col>Proline</th></tr>\n",
       "\t<tr><th></th><th scope=col>&lt;fct&gt;</th><th scope=col>&lt;dbl&gt;</th><th scope=col>&lt;dbl&gt;</th><th scope=col>&lt;dbl&gt;</th><th scope=col>&lt;dbl&gt;</th><th scope=col>&lt;int&gt;</th><th scope=col>&lt;dbl&gt;</th><th scope=col>&lt;dbl&gt;</th><th scope=col>&lt;dbl&gt;</th><th scope=col>&lt;dbl&gt;</th><th scope=col>&lt;dbl&gt;</th><th scope=col>&lt;dbl&gt;</th><th scope=col>&lt;dbl&gt;</th><th scope=col>&lt;int&gt;</th></tr>\n",
       "</thead>\n",
       "<tbody>\n",
       "\t<tr><th scope=row>1</th><td>1</td><td>14.23</td><td>1.71</td><td>2.43</td><td>15.6</td><td>127</td><td>2.80</td><td>3.06</td><td>0.28</td><td>2.29</td><td>5.64</td><td>1.04</td><td>3.92</td><td>1065</td></tr>\n",
       "\t<tr><th scope=row>2</th><td>1</td><td>13.20</td><td>1.78</td><td>2.14</td><td>11.2</td><td>100</td><td>2.65</td><td>2.76</td><td>0.26</td><td>1.28</td><td>4.38</td><td>1.05</td><td>3.40</td><td>1050</td></tr>\n",
       "\t<tr><th scope=row>3</th><td>1</td><td>13.16</td><td>2.36</td><td>2.67</td><td>18.6</td><td>101</td><td>2.80</td><td>3.24</td><td>0.30</td><td>2.81</td><td>5.68</td><td>1.03</td><td>3.17</td><td>1185</td></tr>\n",
       "\t<tr><th scope=row>4</th><td>1</td><td>14.37</td><td>1.95</td><td>2.50</td><td>16.8</td><td>113</td><td>3.85</td><td>3.49</td><td>0.24</td><td>2.18</td><td>7.80</td><td>0.86</td><td>3.45</td><td>1480</td></tr>\n",
       "\t<tr><th scope=row>5</th><td>1</td><td>13.24</td><td>2.59</td><td>2.87</td><td>21.0</td><td>118</td><td>2.80</td><td>2.69</td><td>0.39</td><td>1.82</td><td>4.32</td><td>1.04</td><td>2.93</td><td> 735</td></tr>\n",
       "\t<tr><th scope=row>6</th><td>1</td><td>14.20</td><td>1.76</td><td>2.45</td><td>15.2</td><td>112</td><td>3.27</td><td>3.39</td><td>0.34</td><td>1.97</td><td>6.75</td><td>1.05</td><td>2.85</td><td>1450</td></tr>\n",
       "</tbody>\n",
       "</table>\n"
      ],
      "text/latex": [
       "A data.frame: 6 × 14\n",
       "\\begin{tabular}{r|llllllllllllll}\n",
       "  & Type & Alcohol & Malic & Ash & Alcalinity & Magnesium & Phenols & Flavanoids & Nonflavanoids & Proanthocyanins & Color & Hue & Dilution & Proline\\\\\n",
       "  & <fct> & <dbl> & <dbl> & <dbl> & <dbl> & <int> & <dbl> & <dbl> & <dbl> & <dbl> & <dbl> & <dbl> & <dbl> & <int>\\\\\n",
       "\\hline\n",
       "\t1 & 1 & 14.23 & 1.71 & 2.43 & 15.6 & 127 & 2.80 & 3.06 & 0.28 & 2.29 & 5.64 & 1.04 & 3.92 & 1065\\\\\n",
       "\t2 & 1 & 13.20 & 1.78 & 2.14 & 11.2 & 100 & 2.65 & 2.76 & 0.26 & 1.28 & 4.38 & 1.05 & 3.40 & 1050\\\\\n",
       "\t3 & 1 & 13.16 & 2.36 & 2.67 & 18.6 & 101 & 2.80 & 3.24 & 0.30 & 2.81 & 5.68 & 1.03 & 3.17 & 1185\\\\\n",
       "\t4 & 1 & 14.37 & 1.95 & 2.50 & 16.8 & 113 & 3.85 & 3.49 & 0.24 & 2.18 & 7.80 & 0.86 & 3.45 & 1480\\\\\n",
       "\t5 & 1 & 13.24 & 2.59 & 2.87 & 21.0 & 118 & 2.80 & 2.69 & 0.39 & 1.82 & 4.32 & 1.04 & 2.93 &  735\\\\\n",
       "\t6 & 1 & 14.20 & 1.76 & 2.45 & 15.2 & 112 & 3.27 & 3.39 & 0.34 & 1.97 & 6.75 & 1.05 & 2.85 & 1450\\\\\n",
       "\\end{tabular}\n"
      ],
      "text/markdown": [
       "\n",
       "A data.frame: 6 × 14\n",
       "\n",
       "| <!--/--> | Type &lt;fct&gt; | Alcohol &lt;dbl&gt; | Malic &lt;dbl&gt; | Ash &lt;dbl&gt; | Alcalinity &lt;dbl&gt; | Magnesium &lt;int&gt; | Phenols &lt;dbl&gt; | Flavanoids &lt;dbl&gt; | Nonflavanoids &lt;dbl&gt; | Proanthocyanins &lt;dbl&gt; | Color &lt;dbl&gt; | Hue &lt;dbl&gt; | Dilution &lt;dbl&gt; | Proline &lt;int&gt; |\n",
       "|---|---|---|---|---|---|---|---|---|---|---|---|---|---|---|\n",
       "| 1 | 1 | 14.23 | 1.71 | 2.43 | 15.6 | 127 | 2.80 | 3.06 | 0.28 | 2.29 | 5.64 | 1.04 | 3.92 | 1065 |\n",
       "| 2 | 1 | 13.20 | 1.78 | 2.14 | 11.2 | 100 | 2.65 | 2.76 | 0.26 | 1.28 | 4.38 | 1.05 | 3.40 | 1050 |\n",
       "| 3 | 1 | 13.16 | 2.36 | 2.67 | 18.6 | 101 | 2.80 | 3.24 | 0.30 | 2.81 | 5.68 | 1.03 | 3.17 | 1185 |\n",
       "| 4 | 1 | 14.37 | 1.95 | 2.50 | 16.8 | 113 | 3.85 | 3.49 | 0.24 | 2.18 | 7.80 | 0.86 | 3.45 | 1480 |\n",
       "| 5 | 1 | 13.24 | 2.59 | 2.87 | 21.0 | 118 | 2.80 | 2.69 | 0.39 | 1.82 | 4.32 | 1.04 | 2.93 |  735 |\n",
       "| 6 | 1 | 14.20 | 1.76 | 2.45 | 15.2 | 112 | 3.27 | 3.39 | 0.34 | 1.97 | 6.75 | 1.05 | 2.85 | 1450 |\n",
       "\n"
      ],
      "text/plain": [
       "  Type Alcohol Malic Ash  Alcalinity Magnesium Phenols Flavanoids Nonflavanoids\n",
       "1 1    14.23   1.71  2.43 15.6       127       2.80    3.06       0.28         \n",
       "2 1    13.20   1.78  2.14 11.2       100       2.65    2.76       0.26         \n",
       "3 1    13.16   2.36  2.67 18.6       101       2.80    3.24       0.30         \n",
       "4 1    14.37   1.95  2.50 16.8       113       3.85    3.49       0.24         \n",
       "5 1    13.24   2.59  2.87 21.0       118       2.80    2.69       0.39         \n",
       "6 1    14.20   1.76  2.45 15.2       112       3.27    3.39       0.34         \n",
       "  Proanthocyanins Color Hue  Dilution Proline\n",
       "1 2.29            5.64  1.04 3.92     1065   \n",
       "2 1.28            4.38  1.05 3.40     1050   \n",
       "3 2.81            5.68  1.03 3.17     1185   \n",
       "4 2.18            7.80  0.86 3.45     1480   \n",
       "5 1.82            4.32  1.04 2.93      735   \n",
       "6 1.97            6.75  1.05 2.85     1450   "
      ]
     },
     "metadata": {},
     "output_type": "display_data"
    }
   ],
   "source": [
    "# 查看一下wine数据集\n",
    "data(wine, package=\"rattle\")\n",
    "head(wine)"
   ]
  },
  {
   "cell_type": "code",
   "execution_count": 31,
   "metadata": {
    "vscode": {
     "languageId": "r"
    }
   },
   "outputs": [
    {
     "data": {
      "image/png": "[encoded data removed]",
      "text/plain": [
       "plot without title"
      ]
     },
     "metadata": {
      "image/png": {
       "height": 420,
       "width": 420
      }
     },
     "output_type": "display_data"
    }
   ],
   "source": [
    "# 标准化数据\n",
    "df <- scale(wine[-1])\n",
    "\n",
    "# 决定聚类的个数\n",
    "wssplot(df)"
   ]
  },
  {
   "cell_type": "code",
   "execution_count": 32,
   "metadata": {
    "vscode": {
     "languageId": "r"
    }
   },
   "outputs": [
    {
     "name": "stdout",
     "output_type": "stream",
     "text": [
      "*** : The Hubert index is a graphical method of determining the number of clusters.\n",
      "                In the plot of Hubert index, we seek a significant knee that corresponds to a \n",
      "                significant increase of the value of the measure i.e the significant peak in Hubert\n",
      "                index second differences plot. \n",
      " \n"
     ]
    },
    {
     "data": {
      "image/png": "[encoded data removed]",
      "text/plain": [
       "plot without title"
      ]
     },
     "metadata": {
      "image/png": {
       "height": 420,
       "width": 420
      }
     },
     "output_type": "display_data"
    },
    {
     "name": "stdout",
     "output_type": "stream",
     "text": [
      "*** : The D index is a graphical method of determining the number of clusters. \n",
      "                In the plot of D index, we seek a significant knee (the significant peak in Dindex\n",
      "                second differences plot) that corresponds to a significant increase of the value of\n",
      "                the measure. \n",
      " \n",
      "******************************************************************* \n",
      "* Among all indices:                                                \n",
      "* 2 proposed 2 as the best number of clusters \n",
      "* 19 proposed 3 as the best number of clusters \n",
      "* 1 proposed 14 as the best number of clusters \n",
      "* 1 proposed 15 as the best number of clusters \n",
      "\n",
      "                   ***** Conclusion *****                            \n",
      " \n",
      "* According to the majority rule, the best number of clusters is  3 \n",
      " \n",
      " \n",
      "******************************************************************* \n"
     ]
    },
    {
     "data": {
      "text/plain": [
       "\n",
       " 0  1  2  3 14 15 \n",
       " 2  1  2 19  1  1 "
      ]
     },
     "metadata": {},
     "output_type": "display_data"
    },
    {
     "data": {
      "image/png": "[encoded data removed]",
      "text/plain": [
       "plot without title"
      ]
     },
     "metadata": {
      "image/png": {
       "height": 420,
       "width": 420
      }
     },
     "output_type": "display_data"
    }
   ],
   "source": [
    "library(NbClust)\n",
    "set.seed(1234)\n",
    "devAskNewPage(ask=TRUE)\n",
    "nc <- NbClust(df, distance=\"euclidean\", min.nc=2, max.nc=15, method=\"kmeans\")\n",
    "table(nc$Best.n[1,])"
   ]
  },
  {
   "cell_type": "code",
   "execution_count": 35,
   "metadata": {
    "vscode": {
     "languageId": "r"
    }
   },
   "outputs": [
    {
     "data": {
      "image/png": "[encoded data removed]",
      "text/plain": [
       "Plot with title \"Number of Clusters Chosen by 26 Criteria\""
      ]
     },
     "metadata": {
      "image/png": {
       "height": 420,
       "width": 420
      }
     },
     "output_type": "display_data"
    }
   ],
   "source": [
    "barplot(\n",
    "    table(nc$Best.n[1,]),\n",
    "    xlab=\"Number of Clusters\",\n",
    "    ylab=\"Number of Criteria\",\n",
    "    main=\"Number of Clusters Chosen by 26 Criteria\"\n",
    ")"
   ]
  },
  {
   "cell_type": "code",
   "execution_count": 36,
   "metadata": {
    "vscode": {
     "languageId": "r"
    }
   },
   "outputs": [
    {
     "data": {
      "text/html": [
       "<style>\n",
       ".list-inline {list-style: none; margin:0; padding: 0}\n",
       ".list-inline>li {display: inline-block}\n",
       ".list-inline>li:not(:last-child)::after {content: \"\\00b7\"; padding: 0 .5ex}\n",
       "</style>\n",
       "<ol class=list-inline><li>62</li><li>65</li><li>51</li></ol>\n"
      ],
      "text/latex": [
       "\\begin{enumerate*}\n",
       "\\item 62\n",
       "\\item 65\n",
       "\\item 51\n",
       "\\end{enumerate*}\n"
      ],
      "text/markdown": [
       "1. 62\n",
       "2. 65\n",
       "3. 51\n",
       "\n",
       "\n"
      ],
      "text/plain": [
       "[1] 62 65 51"
      ]
     },
     "metadata": {},
     "output_type": "display_data"
    }
   ],
   "source": [
    "# 进行K均值聚类分析\n",
    "set.seed(1234)\n",
    "fit.km <- kmeans(df, 3, nstart=25)\n",
    "fit.km$size"
   ]
  },
  {
   "cell_type": "code",
   "execution_count": 37,
   "metadata": {
    "vscode": {
     "languageId": "r"
    }
   },
   "outputs": [
    {
     "data": {
      "text/html": [
       "<table class=\"dataframe\">\n",
       "<caption>A matrix: 3 × 13 of type dbl</caption>\n",
       "<thead>\n",
       "\t<tr><th></th><th scope=col>Alcohol</th><th scope=col>Malic</th><th scope=col>Ash</th><th scope=col>Alcalinity</th><th scope=col>Magnesium</th><th scope=col>Phenols</th><th scope=col>Flavanoids</th><th scope=col>Nonflavanoids</th><th scope=col>Proanthocyanins</th><th scope=col>Color</th><th scope=col>Hue</th><th scope=col>Dilution</th><th scope=col>Proline</th></tr>\n",
       "</thead>\n",
       "<tbody>\n",
       "\t<tr><th scope=row>1</th><td> 0.8328826</td><td>-0.3029551</td><td> 0.3636801</td><td>-0.6084749</td><td> 0.57596208</td><td> 0.88274724</td><td> 0.97506900</td><td>-0.56050853</td><td> 0.57865427</td><td> 0.1705823</td><td> 0.4726504</td><td> 0.7770551</td><td> 1.1220202</td></tr>\n",
       "\t<tr><th scope=row>2</th><td>-0.9234669</td><td>-0.3929331</td><td>-0.4931257</td><td> 0.1701220</td><td>-0.49032869</td><td>-0.07576891</td><td> 0.02075402</td><td>-0.03343924</td><td> 0.05810161</td><td>-0.8993770</td><td> 0.4605046</td><td> 0.2700025</td><td>-0.7517257</td></tr>\n",
       "\t<tr><th scope=row>3</th><td> 0.1644436</td><td> 0.8690954</td><td> 0.1863726</td><td> 0.5228924</td><td>-0.07526047</td><td>-0.97657548</td><td>-1.21182921</td><td> 0.72402116</td><td>-0.77751312</td><td> 0.9388902</td><td>-1.1615122</td><td>-1.2887761</td><td>-0.4059428</td></tr>\n",
       "</tbody>\n",
       "</table>\n"
      ],
      "text/latex": [
       "A matrix: 3 × 13 of type dbl\n",
       "\\begin{tabular}{r|lllllllllllll}\n",
       "  & Alcohol & Malic & Ash & Alcalinity & Magnesium & Phenols & Flavanoids & Nonflavanoids & Proanthocyanins & Color & Hue & Dilution & Proline\\\\\n",
       "\\hline\n",
       "\t1 &  0.8328826 & -0.3029551 &  0.3636801 & -0.6084749 &  0.57596208 &  0.88274724 &  0.97506900 & -0.56050853 &  0.57865427 &  0.1705823 &  0.4726504 &  0.7770551 &  1.1220202\\\\\n",
       "\t2 & -0.9234669 & -0.3929331 & -0.4931257 &  0.1701220 & -0.49032869 & -0.07576891 &  0.02075402 & -0.03343924 &  0.05810161 & -0.8993770 &  0.4605046 &  0.2700025 & -0.7517257\\\\\n",
       "\t3 &  0.1644436 &  0.8690954 &  0.1863726 &  0.5228924 & -0.07526047 & -0.97657548 & -1.21182921 &  0.72402116 & -0.77751312 &  0.9388902 & -1.1615122 & -1.2887761 & -0.4059428\\\\\n",
       "\\end{tabular}\n"
      ],
      "text/markdown": [
       "\n",
       "A matrix: 3 × 13 of type dbl\n",
       "\n",
       "| <!--/--> | Alcohol | Malic | Ash | Alcalinity | Magnesium | Phenols | Flavanoids | Nonflavanoids | Proanthocyanins | Color | Hue | Dilution | Proline |\n",
       "|---|---|---|---|---|---|---|---|---|---|---|---|---|---|\n",
       "| 1 |  0.8328826 | -0.3029551 |  0.3636801 | -0.6084749 |  0.57596208 |  0.88274724 |  0.97506900 | -0.56050853 |  0.57865427 |  0.1705823 |  0.4726504 |  0.7770551 |  1.1220202 |\n",
       "| 2 | -0.9234669 | -0.3929331 | -0.4931257 |  0.1701220 | -0.49032869 | -0.07576891 |  0.02075402 | -0.03343924 |  0.05810161 | -0.8993770 |  0.4605046 |  0.2700025 | -0.7517257 |\n",
       "| 3 |  0.1644436 |  0.8690954 |  0.1863726 |  0.5228924 | -0.07526047 | -0.97657548 | -1.21182921 |  0.72402116 | -0.77751312 |  0.9388902 | -1.1615122 | -1.2887761 | -0.4059428 |\n",
       "\n"
      ],
      "text/plain": [
       "  Alcohol    Malic      Ash        Alcalinity Magnesium   Phenols    \n",
       "1  0.8328826 -0.3029551  0.3636801 -0.6084749  0.57596208  0.88274724\n",
       "2 -0.9234669 -0.3929331 -0.4931257  0.1701220 -0.49032869 -0.07576891\n",
       "3  0.1644436  0.8690954  0.1863726  0.5228924 -0.07526047 -0.97657548\n",
       "  Flavanoids  Nonflavanoids Proanthocyanins Color      Hue        Dilution  \n",
       "1  0.97506900 -0.56050853    0.57865427      0.1705823  0.4726504  0.7770551\n",
       "2  0.02075402 -0.03343924    0.05810161     -0.8993770  0.4605046  0.2700025\n",
       "3 -1.21182921  0.72402116   -0.77751312      0.9388902 -1.1615122 -1.2887761\n",
       "  Proline   \n",
       "1  1.1220202\n",
       "2 -0.7517257\n",
       "3 -0.4059428"
      ]
     },
     "metadata": {},
     "output_type": "display_data"
    }
   ],
   "source": [
    "fit.km$centers"
   ]
  },
  {
   "cell_type": "code",
   "execution_count": 38,
   "metadata": {
    "vscode": {
     "languageId": "r"
    }
   },
   "outputs": [
    {
     "data": {
      "text/html": [
       "<table class=\"dataframe\">\n",
       "<caption>A data.frame: 3 × 14</caption>\n",
       "<thead>\n",
       "\t<tr><th scope=col>clusters</th><th scope=col>Alcohol</th><th scope=col>Malic</th><th scope=col>Ash</th><th scope=col>Alcalinity</th><th scope=col>Magnesium</th><th scope=col>Phenols</th><th scope=col>Flavanoids</th><th scope=col>Nonflavanoids</th><th scope=col>Proanthocyanins</th><th scope=col>Color</th><th scope=col>Hue</th><th scope=col>Dilution</th><th scope=col>Proline</th></tr>\n",
       "\t<tr><th scope=col>&lt;int&gt;</th><th scope=col>&lt;dbl&gt;</th><th scope=col>&lt;dbl&gt;</th><th scope=col>&lt;dbl&gt;</th><th scope=col>&lt;dbl&gt;</th><th scope=col>&lt;dbl&gt;</th><th scope=col>&lt;dbl&gt;</th><th scope=col>&lt;dbl&gt;</th><th scope=col>&lt;dbl&gt;</th><th scope=col>&lt;dbl&gt;</th><th scope=col>&lt;dbl&gt;</th><th scope=col>&lt;dbl&gt;</th><th scope=col>&lt;dbl&gt;</th><th scope=col>&lt;dbl&gt;</th></tr>\n",
       "</thead>\n",
       "<tbody>\n",
       "\t<tr><td>1</td><td>13.67677</td><td>1.997903</td><td>2.466290</td><td>17.46290</td><td>107.96774</td><td>2.847581</td><td>3.0032258</td><td>0.2920968</td><td>1.922097</td><td>5.453548</td><td>1.0654839</td><td>3.163387</td><td>1100.2258</td></tr>\n",
       "\t<tr><td>2</td><td>12.25092</td><td>1.897385</td><td>2.231231</td><td>20.06308</td><td> 92.73846</td><td>2.247692</td><td>2.0500000</td><td>0.3576923</td><td>1.624154</td><td>2.973077</td><td>1.0627077</td><td>2.803385</td><td> 510.1692</td></tr>\n",
       "\t<tr><td>3</td><td>13.13412</td><td>3.307255</td><td>2.417647</td><td>21.24118</td><td> 98.66667</td><td>1.683922</td><td>0.8188235</td><td>0.4519608</td><td>1.145882</td><td>7.234706</td><td>0.6919608</td><td>1.696667</td><td> 619.0588</td></tr>\n",
       "</tbody>\n",
       "</table>\n"
      ],
      "text/latex": [
       "A data.frame: 3 × 14\n",
       "\\begin{tabular}{llllllllllllll}\n",
       " clusters & Alcohol & Malic & Ash & Alcalinity & Magnesium & Phenols & Flavanoids & Nonflavanoids & Proanthocyanins & Color & Hue & Dilution & Proline\\\\\n",
       " <int> & <dbl> & <dbl> & <dbl> & <dbl> & <dbl> & <dbl> & <dbl> & <dbl> & <dbl> & <dbl> & <dbl> & <dbl> & <dbl>\\\\\n",
       "\\hline\n",
       "\t 1 & 13.67677 & 1.997903 & 2.466290 & 17.46290 & 107.96774 & 2.847581 & 3.0032258 & 0.2920968 & 1.922097 & 5.453548 & 1.0654839 & 3.163387 & 1100.2258\\\\\n",
       "\t 2 & 12.25092 & 1.897385 & 2.231231 & 20.06308 &  92.73846 & 2.247692 & 2.0500000 & 0.3576923 & 1.624154 & 2.973077 & 1.0627077 & 2.803385 &  510.1692\\\\\n",
       "\t 3 & 13.13412 & 3.307255 & 2.417647 & 21.24118 &  98.66667 & 1.683922 & 0.8188235 & 0.4519608 & 1.145882 & 7.234706 & 0.6919608 & 1.696667 &  619.0588\\\\\n",
       "\\end{tabular}\n"
      ],
      "text/markdown": [
       "\n",
       "A data.frame: 3 × 14\n",
       "\n",
       "| clusters &lt;int&gt; | Alcohol &lt;dbl&gt; | Malic &lt;dbl&gt; | Ash &lt;dbl&gt; | Alcalinity &lt;dbl&gt; | Magnesium &lt;dbl&gt; | Phenols &lt;dbl&gt; | Flavanoids &lt;dbl&gt; | Nonflavanoids &lt;dbl&gt; | Proanthocyanins &lt;dbl&gt; | Color &lt;dbl&gt; | Hue &lt;dbl&gt; | Dilution &lt;dbl&gt; | Proline &lt;dbl&gt; |\n",
       "|---|---|---|---|---|---|---|---|---|---|---|---|---|---|\n",
       "| 1 | 13.67677 | 1.997903 | 2.466290 | 17.46290 | 107.96774 | 2.847581 | 3.0032258 | 0.2920968 | 1.922097 | 5.453548 | 1.0654839 | 3.163387 | 1100.2258 |\n",
       "| 2 | 12.25092 | 1.897385 | 2.231231 | 20.06308 |  92.73846 | 2.247692 | 2.0500000 | 0.3576923 | 1.624154 | 2.973077 | 1.0627077 | 2.803385 |  510.1692 |\n",
       "| 3 | 13.13412 | 3.307255 | 2.417647 | 21.24118 |  98.66667 | 1.683922 | 0.8188235 | 0.4519608 | 1.145882 | 7.234706 | 0.6919608 | 1.696667 |  619.0588 |\n",
       "\n"
      ],
      "text/plain": [
       "  clusters Alcohol  Malic    Ash      Alcalinity Magnesium Phenols  Flavanoids\n",
       "1 1        13.67677 1.997903 2.466290 17.46290   107.96774 2.847581 3.0032258 \n",
       "2 2        12.25092 1.897385 2.231231 20.06308    92.73846 2.247692 2.0500000 \n",
       "3 3        13.13412 3.307255 2.417647 21.24118    98.66667 1.683922 0.8188235 \n",
       "  Nonflavanoids Proanthocyanins Color    Hue       Dilution Proline  \n",
       "1 0.2920968     1.922097        5.453548 1.0654839 3.163387 1100.2258\n",
       "2 0.3576923     1.624154        2.973077 1.0627077 2.803385  510.1692\n",
       "3 0.4519608     1.145882        7.234706 0.6919608 1.696667  619.0588"
      ]
     },
     "metadata": {},
     "output_type": "display_data"
    }
   ],
   "source": [
    "aggregate(wine[-1], by=list(clusters=fit.km$cluster), FUN=mean)"
   ]
  },
  {
   "cell_type": "code",
   "execution_count": 39,
   "metadata": {
    "vscode": {
     "languageId": "r"
    }
   },
   "outputs": [
    {
     "data": {
      "text/plain": [
       "   \n",
       "     1  2  3\n",
       "  1 59  0  0\n",
       "  2  3 65  3\n",
       "  3  0  0 48"
      ]
     },
     "metadata": {},
     "output_type": "display_data"
    }
   ],
   "source": [
    "ct.km <- table(wine$Type, fit.km$cluster)\n",
    "ct.km"
   ]
  },
  {
   "cell_type": "code",
   "execution_count": 40,
   "metadata": {
    "vscode": {
     "languageId": "r"
    }
   },
   "outputs": [
    {
     "name": "stderr",
     "output_type": "stream",
     "text": [
      "Loading required package: grid\n",
      "\n",
      "Loading required package: lattice\n",
      "\n",
      "Loading required package: modeltools\n",
      "\n",
      "Loading required package: stats4\n",
      "\n"
     ]
    },
    {
     "data": {
      "text/html": [
       "<strong>ARI:</strong> 0.897494981509321"
      ],
      "text/latex": [
       "\\textbf{ARI:} 0.897494981509321"
      ],
      "text/markdown": [
       "**ARI:** 0.897494981509321"
      ],
      "text/plain": [
       "     ARI \n",
       "0.897495 "
      ]
     },
     "metadata": {},
     "output_type": "display_data"
    }
   ],
   "source": [
    "library(flexclust)\n",
    "randIndex(ct.km)"
   ]
  },
  {
   "cell_type": "markdown",
   "metadata": {},
   "source": [
    "## 围绕中心点的划分"
   ]
  },
  {
   "cell_type": "code",
   "execution_count": 41,
   "metadata": {
    "vscode": {
     "languageId": "r"
    }
   },
   "outputs": [
    {
     "data": {
      "text/html": [
       "<table class=\"dataframe\">\n",
       "<caption>A matrix: 3 × 13 of type dbl</caption>\n",
       "<thead>\n",
       "\t<tr><th scope=col>Alcohol</th><th scope=col>Malic</th><th scope=col>Ash</th><th scope=col>Alcalinity</th><th scope=col>Magnesium</th><th scope=col>Phenols</th><th scope=col>Flavanoids</th><th scope=col>Nonflavanoids</th><th scope=col>Proanthocyanins</th><th scope=col>Color</th><th scope=col>Hue</th><th scope=col>Dilution</th><th scope=col>Proline</th></tr>\n",
       "</thead>\n",
       "<tbody>\n",
       "\t<tr><td>13.48</td><td>1.81</td><td>2.41</td><td>20.5</td><td>100</td><td>2.70</td><td>2.98</td><td>0.26</td><td>1.86</td><td>5.1</td><td>1.04</td><td>3.47</td><td>920</td></tr>\n",
       "\t<tr><td>12.25</td><td>1.73</td><td>2.12</td><td>19.0</td><td> 80</td><td>1.65</td><td>2.03</td><td>0.37</td><td>1.63</td><td>3.4</td><td>1.00</td><td>3.17</td><td>510</td></tr>\n",
       "\t<tr><td>13.40</td><td>3.91</td><td>2.48</td><td>23.0</td><td>102</td><td>1.80</td><td>0.75</td><td>0.43</td><td>1.41</td><td>7.3</td><td>0.70</td><td>1.56</td><td>750</td></tr>\n",
       "</tbody>\n",
       "</table>\n"
      ],
      "text/latex": [
       "A matrix: 3 × 13 of type dbl\n",
       "\\begin{tabular}{lllllllllllll}\n",
       " Alcohol & Malic & Ash & Alcalinity & Magnesium & Phenols & Flavanoids & Nonflavanoids & Proanthocyanins & Color & Hue & Dilution & Proline\\\\\n",
       "\\hline\n",
       "\t 13.48 & 1.81 & 2.41 & 20.5 & 100 & 2.70 & 2.98 & 0.26 & 1.86 & 5.1 & 1.04 & 3.47 & 920\\\\\n",
       "\t 12.25 & 1.73 & 2.12 & 19.0 &  80 & 1.65 & 2.03 & 0.37 & 1.63 & 3.4 & 1.00 & 3.17 & 510\\\\\n",
       "\t 13.40 & 3.91 & 2.48 & 23.0 & 102 & 1.80 & 0.75 & 0.43 & 1.41 & 7.3 & 0.70 & 1.56 & 750\\\\\n",
       "\\end{tabular}\n"
      ],
      "text/markdown": [
       "\n",
       "A matrix: 3 × 13 of type dbl\n",
       "\n",
       "| Alcohol | Malic | Ash | Alcalinity | Magnesium | Phenols | Flavanoids | Nonflavanoids | Proanthocyanins | Color | Hue | Dilution | Proline |\n",
       "|---|---|---|---|---|---|---|---|---|---|---|---|---|\n",
       "| 13.48 | 1.81 | 2.41 | 20.5 | 100 | 2.70 | 2.98 | 0.26 | 1.86 | 5.1 | 1.04 | 3.47 | 920 |\n",
       "| 12.25 | 1.73 | 2.12 | 19.0 |  80 | 1.65 | 2.03 | 0.37 | 1.63 | 3.4 | 1.00 | 3.17 | 510 |\n",
       "| 13.40 | 3.91 | 2.48 | 23.0 | 102 | 1.80 | 0.75 | 0.43 | 1.41 | 7.3 | 0.70 | 1.56 | 750 |\n",
       "\n"
      ],
      "text/plain": [
       "     Alcohol Malic Ash  Alcalinity Magnesium Phenols Flavanoids Nonflavanoids\n",
       "[1,] 13.48   1.81  2.41 20.5       100       2.70    2.98       0.26         \n",
       "[2,] 12.25   1.73  2.12 19.0        80       1.65    2.03       0.37         \n",
       "[3,] 13.40   3.91  2.48 23.0       102       1.80    0.75       0.43         \n",
       "     Proanthocyanins Color Hue  Dilution Proline\n",
       "[1,] 1.86            5.1   1.04 3.47     920    \n",
       "[2,] 1.63            3.4   1.00 3.17     510    \n",
       "[3,] 1.41            7.3   0.70 1.56     750    "
      ]
     },
     "metadata": {},
     "output_type": "display_data"
    }
   ],
   "source": [
    "library(cluster)\n",
    "set.seed(1234)\n",
    "fit.pam <- pam(wine[-1], k=3, stand=TRUE) # stand=TRUE表示标准化数据\n",
    "\n",
    "# 输出中心点\n",
    "fit.pam$medoids"
   ]
  },
  {
   "cell_type": "code",
   "execution_count": 42,
   "metadata": {
    "vscode": {
     "languageId": "r"
    }
   },
   "outputs": [
    {
     "data": {
      "image/png": "[encoded data removed]",
      "text/plain": [
       "Plot with title \"Bivariate Culter Plot\""
      ]
     },
     "metadata": {
      "image/png": {
       "height": 420,
       "width": 420
      }
     },
     "output_type": "display_data"
    }
   ],
   "source": [
    "# 画出聚类的方案\n",
    "clusplot(fit.pam, main=\"Bivariate Culter Plot\")"
   ]
  },
  {
   "cell_type": "code",
   "execution_count": 43,
   "metadata": {
    "vscode": {
     "languageId": "r"
    }
   },
   "outputs": [
    {
     "data": {
      "text/html": [
       "<strong>ARI:</strong> 0.69949573072056"
      ],
      "text/latex": [
       "\\textbf{ARI:} 0.69949573072056"
      ],
      "text/markdown": [
       "**ARI:** 0.69949573072056"
      ],
      "text/plain": [
       "      ARI \n",
       "0.6994957 "
      ]
     },
     "metadata": {},
     "output_type": "display_data"
    }
   ],
   "source": [
    "ct.pam <- table(wine$Type, fit.pam$clustering)\n",
    "randIndex(ct.pam)"
   ]
  },
  {
   "cell_type": "markdown",
   "metadata": {},
   "source": [
    "# 避免不存在的类"
   ]
  },
  {
   "cell_type": "code",
   "execution_count": 44,
   "metadata": {
    "vscode": {
     "languageId": "r"
    }
   },
   "outputs": [
    {
     "data": {
      "image/png": "[encoded data removed]",
      "text/plain": [
       "Plot with title \"Bivariate Normal Dostribution with rho=0.5\""
      ]
     },
     "metadata": {
      "image/png": {
       "height": 420,
       "width": 420
      }
     },
     "output_type": "display_data"
    }
   ],
   "source": [
    "library(fMultivar)\n",
    "set.seed(1234)\n",
    "df <- rnorm2d(1000, rho=.5)\n",
    "df <- as.data.frame(df)\n",
    "plot(df, main=\"Bivariate Normal Dostribution with rho=0.5\")"
   ]
  },
  {
   "cell_type": "code",
   "execution_count": 45,
   "metadata": {
    "vscode": {
     "languageId": "r"
    }
   },
   "outputs": [
    {
     "data": {
      "image/png": "[encoded data removed]",
      "text/plain": [
       "plot without title"
      ]
     },
     "metadata": {
      "image/png": {
       "height": 420,
       "width": 420
      }
     },
     "output_type": "display_data"
    }
   ],
   "source": [
    "wssplot(df)"
   ]
  },
  {
   "cell_type": "code",
   "execution_count": 48,
   "metadata": {
    "vscode": {
     "languageId": "r"
    }
   },
   "outputs": [
    {
     "name": "stdout",
     "output_type": "stream",
     "text": [
      "*** : The Hubert index is a graphical method of determining the number of clusters.\n",
      "                In the plot of Hubert index, we seek a significant knee that corresponds to a \n",
      "                significant increase of the value of the measure i.e the significant peak in Hubert\n",
      "                index second differences plot. \n",
      " \n"
     ]
    },
    {
     "data": {
      "image/png": "[encoded data removed]",
      "text/plain": [
       "plot without title"
      ]
     },
     "metadata": {
      "image/png": {
       "height": 420,
       "width": 420
      }
     },
     "output_type": "display_data"
    },
    {
     "name": "stdout",
     "output_type": "stream",
     "text": [
      "*** : The D index is a graphical method of determining the number of clusters. \n",
      "                In the plot of D index, we seek a significant knee (the significant peak in Dindex\n",
      "                second differences plot) that corresponds to a significant increase of the value of\n",
      "                the measure. \n",
      " \n",
      "******************************************************************* \n",
      "* Among all indices:                                                \n",
      "* 8 proposed 2 as the best number of clusters \n",
      "* 4 proposed 3 as the best number of clusters \n",
      "* 1 proposed 4 as the best number of clusters \n",
      "* 1 proposed 5 as the best number of clusters \n",
      "* 4 proposed 9 as the best number of clusters \n",
      "* 1 proposed 10 as the best number of clusters \n",
      "* 1 proposed 13 as the best number of clusters \n",
      "* 3 proposed 15 as the best number of clusters \n",
      "\n",
      "                   ***** Conclusion *****                            \n",
      " \n",
      "* According to the majority rule, the best number of clusters is  2 \n",
      " \n",
      " \n",
      "******************************************************************* \n"
     ]
    },
    {
     "data": {
      "image/png": "[encoded data removed]",
      "text/plain": [
       "plot without title"
      ]
     },
     "metadata": {
      "image/png": {
       "height": 420,
       "width": 420
      }
     },
     "output_type": "display_data"
    },
    {
     "data": {
      "image/png": "[encoded data removed]",
      "text/plain": [
       "Plot with title \"Number of Clusters Chosen by 26 Criteria\""
      ]
     },
     "metadata": {
      "image/png": {
       "height": 420,
       "width": 420
      }
     },
     "output_type": "display_data"
    }
   ],
   "source": [
    "library(NbClust)\n",
    "nc <- NbClust(df, min.nc=2, max.nc=15, method=\"kmeans\")\n",
    "barplot(\n",
    "    table(nc$Best.n[1,]),\n",
    "    xlab=\"Number of Clusters\",\n",
    "    ylab=\"Number of Criteria\",\n",
    "    main=\"Number of Clusters Chosen by 26 Criteria\"\n",
    ")"
   ]
  },
  {
   "cell_type": "code",
   "execution_count": 47,
   "metadata": {
    "vscode": {
     "languageId": "r"
    }
   },
   "outputs": [
    {
     "data": {
      "image/png": "[encoded data removed]",
      "text/plain": [
       "Plot with title \"Number of Clusters Chosen by 26 Criteria\""
      ]
     },
     "metadata": {
      "image/png": {
       "height": 420,
       "width": 420
      }
     },
     "output_type": "display_data"
    }
   ],
   "source": [
    "barplot(\n",
    "    table(nc$Best.n[1,]),\n",
    "    xlab=\"Number of Clusters\",\n",
    "    ylab=\"Number of Criteria\",\n",
    "    main=\"Number of Clusters Chosen by 26 Criteria\"\n",
    ")"
   ]
  },
  {
   "cell_type": "code",
   "execution_count": 51,
   "metadata": {
    "vscode": {
     "languageId": "r"
    }
   },
   "outputs": [
    {
     "data": {
      "image/png": "[encoded data removed]",
      "text/plain": [
       "plot without title"
      ]
     },
     "metadata": {
      "image/png": {
       "height": 420,
       "width": 420
      }
     },
     "output_type": "display_data"
    }
   ],
   "source": [
    "library(ggplot2)\n",
    "library(cluster)\n",
    "fit <- pam(df, k=2)\n",
    "df$clustering <- factor(fit$clustering)\n",
    "ggplot(\n",
    "    df, \n",
    "    aes(x=V1, y=V2, color=clustering, shape=clustering)\n",
    ")+geom_point()+ggtitle(\"PAM Clustering\")"
   ]
  },
  {
   "cell_type": "code",
   "execution_count": 52,
   "metadata": {
    "vscode": {
     "languageId": "r"
    }
   },
   "outputs": [
    {
     "data": {
      "image/png": "[encoded data removed]",
      "text/plain": [
       "plot without title"
      ]
     },
     "metadata": {
      "image/png": {
       "height": 420,
       "width": 420
      }
     },
     "output_type": "display_data"
    }
   ],
   "source": [
    "plot(nc$All.index[,4], type=\"o\", ylab=\"CCC\", xlab=\"Number of Clusters\", col=\"blue\")"
   ]
  }
 ],
 "metadata": {
  "kernelspec": {
   "display_name": "R",
   "language": "R",
   "name": "ir"
  },
  "language_info": {
   "codemirror_mode": "r",
   "file_extension": ".r",
   "mimetype": "text/x-r-source",
   "name": "R",
   "pygments_lexer": "r",
   "version": "4.4.2"
  }
 },
 "nbformat": 4,
 "nbformat_minor": 2
}

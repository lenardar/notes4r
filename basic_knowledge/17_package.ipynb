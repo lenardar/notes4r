{
 "cells": [
  {
   "cell_type": "markdown",
   "metadata": {},
   "source": [
    "学习R语言创建包。"
   ]
  },
  {
   "cell_type": "code",
   "execution_count": 2,
   "metadata": {
    "vscode": {
     "languageId": "r"
    }
   },
   "outputs": [],
   "source": [
    "pkg <- \"npar_1.0.tar.gz\"\n",
    "loc <- \"http://www.statmethods.net/RiA\"\n",
    "url <- paste(loc, pkg, sep=\"/\")\n",
    "download.file(url, pkg)\n",
    "install.packages(pkg, repos=NULL, type=\"source\")"
   ]
  },
  {
   "cell_type": "markdown",
   "metadata": {},
   "source": [
    "# 非参分析和npar包"
   ]
  },
  {
   "cell_type": "code",
   "execution_count": 4,
   "metadata": {
    "vscode": {
     "languageId": "r"
    }
   },
   "outputs": [
    {
     "data": {
      "image/png": "[encoded data removed]",
      "text/plain": [
       "Plot with title \"Histogram of life$hlef\""
      ]
     },
     "metadata": {
      "image/png": {
       "height": 420,
       "width": 420
      }
     },
     "output_type": "display_data"
    }
   ],
   "source": [
    "library(npar)\n",
    "hist(life$hlef, breaks=10)"
   ]
  },
  {
   "cell_type": "code",
   "execution_count": 6,
   "metadata": {
    "vscode": {
     "languageId": "r"
    }
   },
   "outputs": [
    {
     "data": {
      "image/png": "[encoded data removed]",
      "text/plain": [
       "plot without title"
      ]
     },
     "metadata": {
      "image/png": {
       "height": 420,
       "width": 420
      }
     },
     "output_type": "display_data"
    }
   ],
   "source": [
    "library(ggplot2)\n",
    "ggplot(data=life, aes(x=region, y=hlef))+\n",
    "    geom_point(size=3)"
   ]
  },
  {
   "cell_type": "code",
   "execution_count": 7,
   "metadata": {
    "vscode": {
     "languageId": "r"
    }
   },
   "outputs": [
    {
     "name": "stdout",
     "output_type": "stream",
     "text": [
      "data: hlef on region \n",
      "\n",
      "Omnibus Test\n",
      "Kruskal-Wallis chi-squared = 17.8749, df = 3, p-value = 0.0004668\n",
      "\n",
      "Descriptive Statistics\n",
      "         South North Central    West Northeast\n",
      "n      16.0000      12.00000 13.0000   9.00000\n",
      "median 13.0000      15.40000 15.6000  15.70000\n",
      "mad     1.4826       1.26021  0.7413   0.59304\n",
      "\n",
      "Multiple Comparisons (Wilcoxon Rank Sum Tests)\n",
      "Probability Adjustment = holm\n",
      "        Group.1       Group.2    W           p   \n",
      "1         South North Central 28.0 0.008583179 **\n",
      "2         South          West 27.0 0.004737844 **\n",
      "3         South     Northeast 17.0 0.008583179 **\n",
      "4 North Central          West 63.5 1.000000000   \n",
      "5 North Central     Northeast 42.0 1.000000000   \n",
      "6          West     Northeast 54.5 1.000000000   \n",
      "---\n",
      "Signif. codes:  0 '***' 0.001 '**' 0.01 '*' 0.05 '.' 0.1 ' ' 1\n"
     ]
    }
   ],
   "source": [
    "library(npar)\n",
    "results <- oneway(hlef~region, life)\n",
    "summary(results)"
   ]
  },
  {
   "cell_type": "code",
   "execution_count": 8,
   "metadata": {
    "vscode": {
     "languageId": "r"
    }
   },
   "outputs": [
    {
     "data": {
      "text/html": [
       "<table class=\"dataframe\">\n",
       "<caption>A data.frame: 50 × 4</caption>\n",
       "<thead>\n",
       "\t<tr><th scope=col>region</th><th scope=col>state</th><th scope=col>hlem</th><th scope=col>hlef</th></tr>\n",
       "\t<tr><th scope=col>&lt;fct&gt;</th><th scope=col>&lt;fct&gt;</th><th scope=col>&lt;dbl&gt;</th><th scope=col>&lt;dbl&gt;</th></tr>\n",
       "</thead>\n",
       "<tbody>\n",
       "\t<tr><td>North Central</td><td>IL</td><td>12.6</td><td>14.3</td></tr>\n",
       "\t<tr><td>North Central</td><td>IN</td><td>12.2</td><td>14.1</td></tr>\n",
       "\t<tr><td>North Central</td><td>IA</td><td>13.4</td><td>15.9</td></tr>\n",
       "\t<tr><td>North Central</td><td>KS</td><td>13.1</td><td>15.1</td></tr>\n",
       "\t<tr><td>North Central</td><td>MI</td><td>12.8</td><td>14.7</td></tr>\n",
       "\t<tr><td>North Central</td><td>MN</td><td>14.3</td><td>16.7</td></tr>\n",
       "\t<tr><td>North Central</td><td>MO</td><td>11.7</td><td>14.0</td></tr>\n",
       "\t<tr><td>North Central</td><td>NE</td><td>13.1</td><td>15.7</td></tr>\n",
       "\t<tr><td>North Central</td><td>ND</td><td>12.9</td><td>16.0</td></tr>\n",
       "\t<tr><td>North Central</td><td>OH</td><td>12.2</td><td>14.0</td></tr>\n",
       "\t<tr><td>North Central</td><td>SD</td><td>13.3</td><td>16.4</td></tr>\n",
       "\t<tr><td>North Central</td><td>WI</td><td>13.4</td><td>16.1</td></tr>\n",
       "\t<tr><td>Northeast    </td><td>CT</td><td>14.3</td><td>16.7</td></tr>\n",
       "\t<tr><td>Northeast    </td><td>ME</td><td>13.5</td><td>15.7</td></tr>\n",
       "\t<tr><td>Northeast    </td><td>MA</td><td>13.8</td><td>15.9</td></tr>\n",
       "\t<tr><td>Northeast    </td><td>NH</td><td>14.0</td><td>16.0</td></tr>\n",
       "\t<tr><td>Northeast    </td><td>NJ</td><td>12.9</td><td>14.8</td></tr>\n",
       "\t<tr><td>Northeast    </td><td>NY</td><td>13.6</td><td>15.3</td></tr>\n",
       "\t<tr><td>Northeast    </td><td>PA</td><td>12.8</td><td>14.8</td></tr>\n",
       "\t<tr><td>Northeast    </td><td>RI</td><td>13.1</td><td>15.6</td></tr>\n",
       "\t<tr><td>Northeast    </td><td>VT</td><td>13.9</td><td>16.2</td></tr>\n",
       "\t<tr><td>South        </td><td>AL</td><td>10.3</td><td>11.7</td></tr>\n",
       "\t<tr><td>South        </td><td>AR</td><td>11.6</td><td>12.7</td></tr>\n",
       "\t<tr><td>South        </td><td>DE</td><td>13.5</td><td>15.7</td></tr>\n",
       "\t<tr><td>South        </td><td>FL</td><td>14.3</td><td>16.4</td></tr>\n",
       "\t<tr><td>South        </td><td>GA</td><td>11.6</td><td>13.1</td></tr>\n",
       "\t<tr><td>South        </td><td>KY</td><td>10.2</td><td>11.6</td></tr>\n",
       "\t<tr><td>South        </td><td>LA</td><td>11.6</td><td>12.3</td></tr>\n",
       "\t<tr><td>South        </td><td>MD</td><td>13.3</td><td>15.3</td></tr>\n",
       "\t<tr><td>South        </td><td>MS</td><td>10.1</td><td>11.4</td></tr>\n",
       "\t<tr><td>South        </td><td>NC</td><td>11.7</td><td>13.5</td></tr>\n",
       "\t<tr><td>South        </td><td>OK</td><td>10.8</td><td>12.9</td></tr>\n",
       "\t<tr><td>South        </td><td>SC</td><td>12.0</td><td>13.6</td></tr>\n",
       "\t<tr><td>South        </td><td>TN</td><td>11.2</td><td>12.5</td></tr>\n",
       "\t<tr><td>South        </td><td>TX</td><td>12.2</td><td>13.4</td></tr>\n",
       "\t<tr><td>South        </td><td>VA</td><td>13.3</td><td>14.9</td></tr>\n",
       "\t<tr><td>South        </td><td>WV</td><td>10.3</td><td>11.6</td></tr>\n",
       "\t<tr><td>West         </td><td>AK</td><td>13.3</td><td>14.9</td></tr>\n",
       "\t<tr><td>West         </td><td>AZ</td><td>13.7</td><td>16.3</td></tr>\n",
       "\t<tr><td>West         </td><td>CA</td><td>13.8</td><td>15.5</td></tr>\n",
       "\t<tr><td>West         </td><td>CO</td><td>14.3</td><td>16.2</td></tr>\n",
       "\t<tr><td>West         </td><td>HI</td><td>15.0</td><td>17.3</td></tr>\n",
       "\t<tr><td>West         </td><td>ID</td><td>13.1</td><td>15.1</td></tr>\n",
       "\t<tr><td>West         </td><td>MT</td><td>13.4</td><td>15.6</td></tr>\n",
       "\t<tr><td>West         </td><td>NV</td><td>12.8</td><td>14.5</td></tr>\n",
       "\t<tr><td>West         </td><td>NM</td><td>13.1</td><td>14.7</td></tr>\n",
       "\t<tr><td>West         </td><td>OR</td><td>13.9</td><td>16.0</td></tr>\n",
       "\t<tr><td>West         </td><td>UT</td><td>14.3</td><td>15.7</td></tr>\n",
       "\t<tr><td>West         </td><td>WA</td><td>14.0</td><td>16.0</td></tr>\n",
       "\t<tr><td>West         </td><td>WY</td><td>13.7</td><td>15.2</td></tr>\n",
       "</tbody>\n",
       "</table>\n"
      ],
      "text/latex": [
       "A data.frame: 50 × 4\n",
       "\\begin{tabular}{llll}\n",
       " region & state & hlem & hlef\\\\\n",
       " <fct> & <fct> & <dbl> & <dbl>\\\\\n",
       "\\hline\n",
       "\t North Central & IL & 12.6 & 14.3\\\\\n",
       "\t North Central & IN & 12.2 & 14.1\\\\\n",
       "\t North Central & IA & 13.4 & 15.9\\\\\n",
       "\t North Central & KS & 13.1 & 15.1\\\\\n",
       "\t North Central & MI & 12.8 & 14.7\\\\\n",
       "\t North Central & MN & 14.3 & 16.7\\\\\n",
       "\t North Central & MO & 11.7 & 14.0\\\\\n",
       "\t North Central & NE & 13.1 & 15.7\\\\\n",
       "\t North Central & ND & 12.9 & 16.0\\\\\n",
       "\t North Central & OH & 12.2 & 14.0\\\\\n",
       "\t North Central & SD & 13.3 & 16.4\\\\\n",
       "\t North Central & WI & 13.4 & 16.1\\\\\n",
       "\t Northeast     & CT & 14.3 & 16.7\\\\\n",
       "\t Northeast     & ME & 13.5 & 15.7\\\\\n",
       "\t Northeast     & MA & 13.8 & 15.9\\\\\n",
       "\t Northeast     & NH & 14.0 & 16.0\\\\\n",
       "\t Northeast     & NJ & 12.9 & 14.8\\\\\n",
       "\t Northeast     & NY & 13.6 & 15.3\\\\\n",
       "\t Northeast     & PA & 12.8 & 14.8\\\\\n",
       "\t Northeast     & RI & 13.1 & 15.6\\\\\n",
       "\t Northeast     & VT & 13.9 & 16.2\\\\\n",
       "\t South         & AL & 10.3 & 11.7\\\\\n",
       "\t South         & AR & 11.6 & 12.7\\\\\n",
       "\t South         & DE & 13.5 & 15.7\\\\\n",
       "\t South         & FL & 14.3 & 16.4\\\\\n",
       "\t South         & GA & 11.6 & 13.1\\\\\n",
       "\t South         & KY & 10.2 & 11.6\\\\\n",
       "\t South         & LA & 11.6 & 12.3\\\\\n",
       "\t South         & MD & 13.3 & 15.3\\\\\n",
       "\t South         & MS & 10.1 & 11.4\\\\\n",
       "\t South         & NC & 11.7 & 13.5\\\\\n",
       "\t South         & OK & 10.8 & 12.9\\\\\n",
       "\t South         & SC & 12.0 & 13.6\\\\\n",
       "\t South         & TN & 11.2 & 12.5\\\\\n",
       "\t South         & TX & 12.2 & 13.4\\\\\n",
       "\t South         & VA & 13.3 & 14.9\\\\\n",
       "\t South         & WV & 10.3 & 11.6\\\\\n",
       "\t West          & AK & 13.3 & 14.9\\\\\n",
       "\t West          & AZ & 13.7 & 16.3\\\\\n",
       "\t West          & CA & 13.8 & 15.5\\\\\n",
       "\t West          & CO & 14.3 & 16.2\\\\\n",
       "\t West          & HI & 15.0 & 17.3\\\\\n",
       "\t West          & ID & 13.1 & 15.1\\\\\n",
       "\t West          & MT & 13.4 & 15.6\\\\\n",
       "\t West          & NV & 12.8 & 14.5\\\\\n",
       "\t West          & NM & 13.1 & 14.7\\\\\n",
       "\t West          & OR & 13.9 & 16.0\\\\\n",
       "\t West          & UT & 14.3 & 15.7\\\\\n",
       "\t West          & WA & 14.0 & 16.0\\\\\n",
       "\t West          & WY & 13.7 & 15.2\\\\\n",
       "\\end{tabular}\n"
      ],
      "text/markdown": [
       "\n",
       "A data.frame: 50 × 4\n",
       "\n",
       "| region &lt;fct&gt; | state &lt;fct&gt; | hlem &lt;dbl&gt; | hlef &lt;dbl&gt; |\n",
       "|---|---|---|---|\n",
       "| North Central | IL | 12.6 | 14.3 |\n",
       "| North Central | IN | 12.2 | 14.1 |\n",
       "| North Central | IA | 13.4 | 15.9 |\n",
       "| North Central | KS | 13.1 | 15.1 |\n",
       "| North Central | MI | 12.8 | 14.7 |\n",
       "| North Central | MN | 14.3 | 16.7 |\n",
       "| North Central | MO | 11.7 | 14.0 |\n",
       "| North Central | NE | 13.1 | 15.7 |\n",
       "| North Central | ND | 12.9 | 16.0 |\n",
       "| North Central | OH | 12.2 | 14.0 |\n",
       "| North Central | SD | 13.3 | 16.4 |\n",
       "| North Central | WI | 13.4 | 16.1 |\n",
       "| Northeast     | CT | 14.3 | 16.7 |\n",
       "| Northeast     | ME | 13.5 | 15.7 |\n",
       "| Northeast     | MA | 13.8 | 15.9 |\n",
       "| Northeast     | NH | 14.0 | 16.0 |\n",
       "| Northeast     | NJ | 12.9 | 14.8 |\n",
       "| Northeast     | NY | 13.6 | 15.3 |\n",
       "| Northeast     | PA | 12.8 | 14.8 |\n",
       "| Northeast     | RI | 13.1 | 15.6 |\n",
       "| Northeast     | VT | 13.9 | 16.2 |\n",
       "| South         | AL | 10.3 | 11.7 |\n",
       "| South         | AR | 11.6 | 12.7 |\n",
       "| South         | DE | 13.5 | 15.7 |\n",
       "| South         | FL | 14.3 | 16.4 |\n",
       "| South         | GA | 11.6 | 13.1 |\n",
       "| South         | KY | 10.2 | 11.6 |\n",
       "| South         | LA | 11.6 | 12.3 |\n",
       "| South         | MD | 13.3 | 15.3 |\n",
       "| South         | MS | 10.1 | 11.4 |\n",
       "| South         | NC | 11.7 | 13.5 |\n",
       "| South         | OK | 10.8 | 12.9 |\n",
       "| South         | SC | 12.0 | 13.6 |\n",
       "| South         | TN | 11.2 | 12.5 |\n",
       "| South         | TX | 12.2 | 13.4 |\n",
       "| South         | VA | 13.3 | 14.9 |\n",
       "| South         | WV | 10.3 | 11.6 |\n",
       "| West          | AK | 13.3 | 14.9 |\n",
       "| West          | AZ | 13.7 | 16.3 |\n",
       "| West          | CA | 13.8 | 15.5 |\n",
       "| West          | CO | 14.3 | 16.2 |\n",
       "| West          | HI | 15.0 | 17.3 |\n",
       "| West          | ID | 13.1 | 15.1 |\n",
       "| West          | MT | 13.4 | 15.6 |\n",
       "| West          | NV | 12.8 | 14.5 |\n",
       "| West          | NM | 13.1 | 14.7 |\n",
       "| West          | OR | 13.9 | 16.0 |\n",
       "| West          | UT | 14.3 | 15.7 |\n",
       "| West          | WA | 14.0 | 16.0 |\n",
       "| West          | WY | 13.7 | 15.2 |\n",
       "\n"
      ],
      "text/plain": [
       "   region        state hlem hlef\n",
       "1  North Central IL    12.6 14.3\n",
       "2  North Central IN    12.2 14.1\n",
       "3  North Central IA    13.4 15.9\n",
       "4  North Central KS    13.1 15.1\n",
       "5  North Central MI    12.8 14.7\n",
       "6  North Central MN    14.3 16.7\n",
       "7  North Central MO    11.7 14.0\n",
       "8  North Central NE    13.1 15.7\n",
       "9  North Central ND    12.9 16.0\n",
       "10 North Central OH    12.2 14.0\n",
       "11 North Central SD    13.3 16.4\n",
       "12 North Central WI    13.4 16.1\n",
       "13 Northeast     CT    14.3 16.7\n",
       "14 Northeast     ME    13.5 15.7\n",
       "15 Northeast     MA    13.8 15.9\n",
       "16 Northeast     NH    14.0 16.0\n",
       "17 Northeast     NJ    12.9 14.8\n",
       "18 Northeast     NY    13.6 15.3\n",
       "19 Northeast     PA    12.8 14.8\n",
       "20 Northeast     RI    13.1 15.6\n",
       "21 Northeast     VT    13.9 16.2\n",
       "22 South         AL    10.3 11.7\n",
       "23 South         AR    11.6 12.7\n",
       "24 South         DE    13.5 15.7\n",
       "25 South         FL    14.3 16.4\n",
       "26 South         GA    11.6 13.1\n",
       "27 South         KY    10.2 11.6\n",
       "28 South         LA    11.6 12.3\n",
       "29 South         MD    13.3 15.3\n",
       "30 South         MS    10.1 11.4\n",
       "31 South         NC    11.7 13.5\n",
       "32 South         OK    10.8 12.9\n",
       "33 South         SC    12.0 13.6\n",
       "34 South         TN    11.2 12.5\n",
       "35 South         TX    12.2 13.4\n",
       "36 South         VA    13.3 14.9\n",
       "37 South         WV    10.3 11.6\n",
       "38 West          AK    13.3 14.9\n",
       "39 West          AZ    13.7 16.3\n",
       "40 West          CA    13.8 15.5\n",
       "41 West          CO    14.3 16.2\n",
       "42 West          HI    15.0 17.3\n",
       "43 West          ID    13.1 15.1\n",
       "44 West          MT    13.4 15.6\n",
       "45 West          NV    12.8 14.5\n",
       "46 West          NM    13.1 14.7\n",
       "47 West          OR    13.9 16.0\n",
       "48 West          UT    14.3 15.7\n",
       "49 West          WA    14.0 16.0\n",
       "50 West          WY    13.7 15.2"
      ]
     },
     "metadata": {},
     "output_type": "display_data"
    }
   ],
   "source": [
    "life"
   ]
  },
  {
   "cell_type": "code",
   "execution_count": 12,
   "metadata": {
    "vscode": {
     "languageId": "r"
    }
   },
   "outputs": [
    {
     "name": "stderr",
     "output_type": "stream",
     "text": [
      "Warning message in check_encoding(self, private, NULL):\n",
      "\"Consider adding an Encoding field to DESCRIPTION,\n",
      "Non-ASCII character(s) in Package\"\n",
      "Warning message in check_encoding(self, private, NULL):\n",
      "\"Consider adding an Encoding field to DESCRIPTION,\n",
      "Non-ASCII character(s) in Package\"\n"
     ]
    },
    {
     "name": "stderr",
     "output_type": "stream",
     "text": [
      "Warning message in check_encoding(self, private, NULL):\n",
      "\"Consider adding an Encoding field to DESCRIPTION,\n",
      "Non-ASCII character(s) in Package\"\n",
      "\u001b[1m\u001b[22m\u001b[31m✖\u001b[39m roxygen2 requires \u001b[34m\"Encoding: UTF-8\"\u001b[39m\n",
      "\u001b[36mℹ\u001b[39m Current encoding is \u001b[34mNA\u001b[39m\n",
      "Warning message in check_encoding(self, private, NULL):\n",
      "\"Consider adding an Encoding field to DESCRIPTION,\n",
      "Non-ASCII character(s) in Package\"\n",
      "Warning message in check_encoding(self, private, NULL):\n",
      "\"Consider adding an Encoding field to DESCRIPTION,\n",
      "Non-ASCII character(s) in Package\"\n",
      "Warning message in check_encoding(self, private, NULL):\n",
      "\"Consider adding an Encoding field to DESCRIPTION,\n",
      "Non-ASCII character(s) in Package\"\n",
      "\u001b[1m\u001b[22m\u001b[36mℹ\u001b[39m Loading \u001b[34mnpar Type: Package Title: Nonparametric group comparisons Version:\u001b[39m\n",
      "  \u001b[34m1.0 Date: 2015-01-26 Author: Rob Kabacoff Maintainer: Robert Kabacoff\u001b[39m\n",
      "  \u001b[34m＜robk@statmethods.net＞ Description: This package assesses group differences\u001b[39m\n",
      "  \u001b[34musing nonparametric statistics. Currently a one-way layout is supported.\u001b[39m\n",
      "  \u001b[34mKruskal-Wallis test followed by pairwise Wilcoxon tests are provided.\u001b[39m\n",
      "  \u001b[34mp-values are adjusted for multiple comparisons using the p.adjust() function.\u001b[39m\n",
      "  \u001b[34mResults are plotted via annotated boxplots. LazyData: yes License: GPL-3\u001b[39m\n",
      "Warning message in check_encoding(self, private, NULL):\n",
      "\"Consider adding an Encoding field to DESCRIPTION,\n",
      "Non-ASCII character(s) in Package\"\n",
      "Warning message in check_encoding(self, private, NULL):\n",
      "\"Consider adding an Encoding field to DESCRIPTION,\n",
      "Non-ASCII character(s) in Package\"\n",
      "Warning message in check_encoding(self, private, NULL):\n",
      "\"Consider adding an Encoding field to DESCRIPTION,\n",
      "Non-ASCII character(s) in Package\"\n"
     ]
    },
    {
     "ename": "ERROR",
     "evalue": "Error in val %||% default: Field 'Version' not found\n",
     "output_type": "error",
     "traceback": [
      "Error in val %||% default: Field 'Version' not found\nTraceback:\n",
      "1. load_code(base_path)",
      "2. pkgload::load_all(path, helpers = FALSE, attach_testthat = FALSE)",
      "3. create_ns_env(path)",
      "4. pkg_version_raw(path)",
      "5. desc_desc_get_field(\"Version\", file = pkg_path(path))",
      "6. desc[[\"get_field\"]](key = key, default = default, trim_ws = trim_ws, \n .     squish_ws = squish_ws)",
      "7. idesc_get_field(self, private, key, default, trim_ws, squish_ws)",
      "8. val %||% default",
      "9. stop(\"Field '\", key, \"' not found\")",
      "10. .handleSimpleError(function (cnd) \n  . {\n  .     watcher$capture_plot_and_output()\n  .     cnd <- sanitize_call(cnd)\n  .     watcher$push(cnd)\n  .     switch(on_error, continue = invokeRestart(\"eval_continue\"), \n  .         stop = invokeRestart(\"eval_stop\"), error = NULL)\n  . }, \"Field 'Version' not found\", base::quote(val %||% default))"
     ]
    }
   ],
   "source": [
    "library(roxygen2)\n",
    "roxygenize(\"F:/test/npar\")"
   ]
  },
  {
   "cell_type": "code",
   "execution_count": 13,
   "metadata": {
    "vscode": {
     "languageId": "r"
    }
   },
   "outputs": [
    {
     "data": {
      "text/html": [
       "1"
      ],
      "text/latex": [
       "1"
      ],
      "text/markdown": [
       "1"
      ],
      "text/plain": [
       "[1] 1"
      ]
     },
     "metadata": {},
     "output_type": "display_data"
    }
   ],
   "source": [
    "system(\"R CMD build npar\")"
   ]
  }
 ],
 "metadata": {
  "kernelspec": {
   "display_name": "R",
   "language": "R",
   "name": "ir"
  },
  "language_info": {
   "codemirror_mode": "r",
   "file_extension": ".r",
   "mimetype": "text/x-r-source",
   "name": "R",
   "pygments_lexer": "r",
   "version": "4.4.2"
  }
 },
 "nbformat": 4,
 "nbformat_minor": 2
}

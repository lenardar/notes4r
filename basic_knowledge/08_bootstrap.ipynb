{
 "cells": [
  {
   "cell_type": "markdown",
   "metadata": {},
   "source": [
    "测试R语言重抽样和Bootstrap"
   ]
  },
  {
   "cell_type": "markdown",
   "metadata": {},
   "source": [
    "# coin包置换检验"
   ]
  },
  {
   "cell_type": "markdown",
   "metadata": {},
   "source": [
    "## 独立两样本和K样本检验"
   ]
  },
  {
   "cell_type": "code",
   "execution_count": 15,
   "metadata": {
    "vscode": {
     "languageId": "r"
    }
   },
   "outputs": [],
   "source": [
    "library(coin)\n",
    "score <- c(40, 57, 45, 55, 58, 57, 64, 55, 62, 65)\n",
    "treatment <- factor(c(rep(\"A\", 5), rep(\"B\", 5)))"
   ]
  },
  {
   "cell_type": "code",
   "execution_count": 16,
   "metadata": {
    "vscode": {
     "languageId": "r"
    }
   },
   "outputs": [],
   "source": [
    "mydata <- data.frame(treatment, score)"
   ]
  },
  {
   "cell_type": "code",
   "execution_count": 20,
   "metadata": {
    "vscode": {
     "languageId": "r"
    }
   },
   "outputs": [
    {
     "data": {
      "text/plain": [
       "\n",
       "\tTwo Sample t-test\n",
       "\n",
       "data:  score by treatment\n",
       "t = -2.345, df = 8, p-value = 0.04705\n",
       "alternative hypothesis: true difference in means between group A and group B is not equal to 0\n",
       "95 percent confidence interval:\n",
       " -19.0405455  -0.1594545\n",
       "sample estimates:\n",
       "mean in group A mean in group B \n",
       "           51.0            60.6 \n"
      ]
     },
     "metadata": {},
     "output_type": "display_data"
    }
   ],
   "source": [
    "# t检验\n",
    "t.test(\n",
    "  score~treatment,\n",
    "  data=mydata,\n",
    "  var.equal=TRUE\n",
    ")"
   ]
  },
  {
   "cell_type": "code",
   "execution_count": 23,
   "metadata": {
    "vscode": {
     "languageId": "r"
    }
   },
   "outputs": [
    {
     "data": {
      "text/plain": [
       "\n",
       "\tOne-way analysis of means (not assuming equal variances)\n",
       "\n",
       "data:  score and treatment\n",
       "F = 5.4988, num df = 1.0000, denom df = 6.1971, p-value = 0.05611\n"
      ]
     },
     "metadata": {},
     "output_type": "display_data"
    }
   ],
   "source": [
    "oneway.test(\n",
    "    score~treatment,\n",
    "    data=mydata,\n",
    ")"
   ]
  },
  {
   "cell_type": "code",
   "execution_count": 14,
   "metadata": {
    "vscode": {
     "languageId": "r"
    }
   },
   "outputs": [
    {
     "data": {
      "text/plain": [
       "\n",
       "\tWilcoxon rank sum exact test\n",
       "\n",
       "data:  Prob by So\n",
       "W = 81, p-value = 8.488e-05\n",
       "alternative hypothesis: true location shift is not equal to 0\n"
      ]
     },
     "metadata": {},
     "output_type": "display_data"
    }
   ],
   "source": [
    "library(MASS)\n",
    "UScrime  <- transform(\n",
    "    UScrime,\n",
    "    So=factor(So)\n",
    ")\n",
    "\n",
    "wilcox.test(\n",
    "    Prob~So,\n",
    "    data=UScrime,\n",
    "    distribution=\"exact\"\n",
    ")"
   ]
  },
  {
   "cell_type": "code",
   "execution_count": 27,
   "metadata": {
    "vscode": {
     "languageId": "r"
    }
   },
   "outputs": [
    {
     "data": {
      "text/plain": [
       "\n",
       "\tApproximative K-Sample Fisher-Pitman Permutation Test\n",
       "\n",
       "data:  response by\n",
       "\t trt (1time, 2times, 4times, drugD, drugE)\n",
       "chi-squared = 36.381, p-value < 1e-04\n"
      ]
     },
     "metadata": {},
     "output_type": "display_data"
    }
   ],
   "source": [
    "library(multcomp)\n",
    "set.seed(1234)\n",
    "\n",
    "oneway_test(\n",
    "    response~trt,\n",
    "    data=cholesterol,\n",
    "    distribution=approximate(nresample=9999)\n",
    ")"
   ]
  },
  {
   "cell_type": "markdown",
   "metadata": {},
   "source": [
    "## 联列表的独立性"
   ]
  },
  {
   "cell_type": "code",
   "execution_count": 29,
   "metadata": {
    "vscode": {
     "languageId": "r"
    }
   },
   "outputs": [
    {
     "name": "stderr",
     "output_type": "stream",
     "text": [
      "Loading required package: grid\n",
      "\n"
     ]
    }
   ],
   "source": [
    "library(coin)\n",
    "library(vcd)"
   ]
  },
  {
   "cell_type": "code",
   "execution_count": 31,
   "metadata": {
    "vscode": {
     "languageId": "r"
    }
   },
   "outputs": [
    {
     "data": {
      "text/html": [
       "<table class=\"dataframe\">\n",
       "<caption>A data.frame: 84 × 5</caption>\n",
       "<thead>\n",
       "\t<tr><th></th><th scope=col>ID</th><th scope=col>Treatment</th><th scope=col>Sex</th><th scope=col>Age</th><th scope=col>Improved</th></tr>\n",
       "\t<tr><th></th><th scope=col>&lt;int&gt;</th><th scope=col>&lt;fct&gt;</th><th scope=col>&lt;fct&gt;</th><th scope=col>&lt;int&gt;</th><th scope=col>&lt;fct&gt;</th></tr>\n",
       "</thead>\n",
       "<tbody>\n",
       "\t<tr><th scope=row>1</th><td>57</td><td>Treated</td><td>Male  </td><td>27</td><td>2</td></tr>\n",
       "\t<tr><th scope=row>2</th><td>46</td><td>Treated</td><td>Male  </td><td>29</td><td>1</td></tr>\n",
       "\t<tr><th scope=row>3</th><td>77</td><td>Treated</td><td>Male  </td><td>30</td><td>1</td></tr>\n",
       "\t<tr><th scope=row>4</th><td>17</td><td>Treated</td><td>Male  </td><td>32</td><td>3</td></tr>\n",
       "\t<tr><th scope=row>5</th><td>36</td><td>Treated</td><td>Male  </td><td>46</td><td>3</td></tr>\n",
       "\t<tr><th scope=row>6</th><td>23</td><td>Treated</td><td>Male  </td><td>58</td><td>3</td></tr>\n",
       "\t<tr><th scope=row>7</th><td>75</td><td>Treated</td><td>Male  </td><td>59</td><td>1</td></tr>\n",
       "\t<tr><th scope=row>8</th><td>39</td><td>Treated</td><td>Male  </td><td>59</td><td>3</td></tr>\n",
       "\t<tr><th scope=row>9</th><td>33</td><td>Treated</td><td>Male  </td><td>63</td><td>1</td></tr>\n",
       "\t<tr><th scope=row>10</th><td>55</td><td>Treated</td><td>Male  </td><td>63</td><td>1</td></tr>\n",
       "\t<tr><th scope=row>11</th><td>30</td><td>Treated</td><td>Male  </td><td>64</td><td>1</td></tr>\n",
       "\t<tr><th scope=row>12</th><td> 5</td><td>Treated</td><td>Male  </td><td>64</td><td>2</td></tr>\n",
       "\t<tr><th scope=row>13</th><td>63</td><td>Treated</td><td>Male  </td><td>69</td><td>1</td></tr>\n",
       "\t<tr><th scope=row>14</th><td>83</td><td>Treated</td><td>Male  </td><td>70</td><td>3</td></tr>\n",
       "\t<tr><th scope=row>15</th><td>66</td><td>Treated</td><td>Female</td><td>23</td><td>1</td></tr>\n",
       "\t<tr><th scope=row>16</th><td>40</td><td>Treated</td><td>Female</td><td>32</td><td>1</td></tr>\n",
       "\t<tr><th scope=row>17</th><td> 6</td><td>Treated</td><td>Female</td><td>37</td><td>2</td></tr>\n",
       "\t<tr><th scope=row>18</th><td> 7</td><td>Treated</td><td>Female</td><td>41</td><td>1</td></tr>\n",
       "\t<tr><th scope=row>19</th><td>72</td><td>Treated</td><td>Female</td><td>41</td><td>3</td></tr>\n",
       "\t<tr><th scope=row>20</th><td>37</td><td>Treated</td><td>Female</td><td>48</td><td>1</td></tr>\n",
       "\t<tr><th scope=row>21</th><td>82</td><td>Treated</td><td>Female</td><td>48</td><td>3</td></tr>\n",
       "\t<tr><th scope=row>22</th><td>53</td><td>Treated</td><td>Female</td><td>55</td><td>3</td></tr>\n",
       "\t<tr><th scope=row>23</th><td>79</td><td>Treated</td><td>Female</td><td>55</td><td>3</td></tr>\n",
       "\t<tr><th scope=row>24</th><td>26</td><td>Treated</td><td>Female</td><td>56</td><td>3</td></tr>\n",
       "\t<tr><th scope=row>25</th><td>28</td><td>Treated</td><td>Female</td><td>57</td><td>3</td></tr>\n",
       "\t<tr><th scope=row>26</th><td>60</td><td>Treated</td><td>Female</td><td>57</td><td>3</td></tr>\n",
       "\t<tr><th scope=row>27</th><td>22</td><td>Treated</td><td>Female</td><td>57</td><td>3</td></tr>\n",
       "\t<tr><th scope=row>28</th><td>27</td><td>Treated</td><td>Female</td><td>58</td><td>1</td></tr>\n",
       "\t<tr><th scope=row>29</th><td> 2</td><td>Treated</td><td>Female</td><td>59</td><td>3</td></tr>\n",
       "\t<tr><th scope=row>30</th><td>59</td><td>Treated</td><td>Female</td><td>59</td><td>3</td></tr>\n",
       "\t<tr><th scope=row>⋮</th><td>⋮</td><td>⋮</td><td>⋮</td><td>⋮</td><td>⋮</td></tr>\n",
       "\t<tr><th scope=row>55</th><td>29</td><td>Placebo</td><td>Female</td><td>30</td><td>1</td></tr>\n",
       "\t<tr><th scope=row>56</th><td>50</td><td>Placebo</td><td>Female</td><td>31</td><td>2</td></tr>\n",
       "\t<tr><th scope=row>57</th><td>38</td><td>Placebo</td><td>Female</td><td>32</td><td>1</td></tr>\n",
       "\t<tr><th scope=row>58</th><td>35</td><td>Placebo</td><td>Female</td><td>33</td><td>3</td></tr>\n",
       "\t<tr><th scope=row>59</th><td>51</td><td>Placebo</td><td>Female</td><td>37</td><td>1</td></tr>\n",
       "\t<tr><th scope=row>60</th><td>54</td><td>Placebo</td><td>Female</td><td>44</td><td>1</td></tr>\n",
       "\t<tr><th scope=row>61</th><td>76</td><td>Placebo</td><td>Female</td><td>45</td><td>1</td></tr>\n",
       "\t<tr><th scope=row>62</th><td>16</td><td>Placebo</td><td>Female</td><td>46</td><td>1</td></tr>\n",
       "\t<tr><th scope=row>63</th><td>69</td><td>Placebo</td><td>Female</td><td>48</td><td>1</td></tr>\n",
       "\t<tr><th scope=row>64</th><td>31</td><td>Placebo</td><td>Female</td><td>49</td><td>1</td></tr>\n",
       "\t<tr><th scope=row>65</th><td>20</td><td>Placebo</td><td>Female</td><td>51</td><td>1</td></tr>\n",
       "\t<tr><th scope=row>66</th><td>68</td><td>Placebo</td><td>Female</td><td>53</td><td>1</td></tr>\n",
       "\t<tr><th scope=row>67</th><td>81</td><td>Placebo</td><td>Female</td><td>54</td><td>1</td></tr>\n",
       "\t<tr><th scope=row>68</th><td> 4</td><td>Placebo</td><td>Female</td><td>54</td><td>1</td></tr>\n",
       "\t<tr><th scope=row>69</th><td>78</td><td>Placebo</td><td>Female</td><td>54</td><td>3</td></tr>\n",
       "\t<tr><th scope=row>70</th><td>70</td><td>Placebo</td><td>Female</td><td>55</td><td>3</td></tr>\n",
       "\t<tr><th scope=row>71</th><td>49</td><td>Placebo</td><td>Female</td><td>57</td><td>1</td></tr>\n",
       "\t<tr><th scope=row>72</th><td>10</td><td>Placebo</td><td>Female</td><td>57</td><td>2</td></tr>\n",
       "\t<tr><th scope=row>73</th><td>47</td><td>Placebo</td><td>Female</td><td>58</td><td>2</td></tr>\n",
       "\t<tr><th scope=row>74</th><td>44</td><td>Placebo</td><td>Female</td><td>59</td><td>2</td></tr>\n",
       "\t<tr><th scope=row>75</th><td>24</td><td>Placebo</td><td>Female</td><td>59</td><td>3</td></tr>\n",
       "\t<tr><th scope=row>76</th><td>48</td><td>Placebo</td><td>Female</td><td>61</td><td>1</td></tr>\n",
       "\t<tr><th scope=row>77</th><td>19</td><td>Placebo</td><td>Female</td><td>63</td><td>2</td></tr>\n",
       "\t<tr><th scope=row>78</th><td> 3</td><td>Placebo</td><td>Female</td><td>64</td><td>1</td></tr>\n",
       "\t<tr><th scope=row>79</th><td>67</td><td>Placebo</td><td>Female</td><td>65</td><td>3</td></tr>\n",
       "\t<tr><th scope=row>80</th><td>32</td><td>Placebo</td><td>Female</td><td>66</td><td>1</td></tr>\n",
       "\t<tr><th scope=row>81</th><td>42</td><td>Placebo</td><td>Female</td><td>66</td><td>1</td></tr>\n",
       "\t<tr><th scope=row>82</th><td>15</td><td>Placebo</td><td>Female</td><td>66</td><td>2</td></tr>\n",
       "\t<tr><th scope=row>83</th><td>71</td><td>Placebo</td><td>Female</td><td>68</td><td>2</td></tr>\n",
       "\t<tr><th scope=row>84</th><td> 1</td><td>Placebo</td><td>Female</td><td>74</td><td>3</td></tr>\n",
       "</tbody>\n",
       "</table>\n"
      ],
      "text/latex": [
       "A data.frame: 84 × 5\n",
       "\\begin{tabular}{r|lllll}\n",
       "  & ID & Treatment & Sex & Age & Improved\\\\\n",
       "  & <int> & <fct> & <fct> & <int> & <fct>\\\\\n",
       "\\hline\n",
       "\t1 & 57 & Treated & Male   & 27 & 2\\\\\n",
       "\t2 & 46 & Treated & Male   & 29 & 1\\\\\n",
       "\t3 & 77 & Treated & Male   & 30 & 1\\\\\n",
       "\t4 & 17 & Treated & Male   & 32 & 3\\\\\n",
       "\t5 & 36 & Treated & Male   & 46 & 3\\\\\n",
       "\t6 & 23 & Treated & Male   & 58 & 3\\\\\n",
       "\t7 & 75 & Treated & Male   & 59 & 1\\\\\n",
       "\t8 & 39 & Treated & Male   & 59 & 3\\\\\n",
       "\t9 & 33 & Treated & Male   & 63 & 1\\\\\n",
       "\t10 & 55 & Treated & Male   & 63 & 1\\\\\n",
       "\t11 & 30 & Treated & Male   & 64 & 1\\\\\n",
       "\t12 &  5 & Treated & Male   & 64 & 2\\\\\n",
       "\t13 & 63 & Treated & Male   & 69 & 1\\\\\n",
       "\t14 & 83 & Treated & Male   & 70 & 3\\\\\n",
       "\t15 & 66 & Treated & Female & 23 & 1\\\\\n",
       "\t16 & 40 & Treated & Female & 32 & 1\\\\\n",
       "\t17 &  6 & Treated & Female & 37 & 2\\\\\n",
       "\t18 &  7 & Treated & Female & 41 & 1\\\\\n",
       "\t19 & 72 & Treated & Female & 41 & 3\\\\\n",
       "\t20 & 37 & Treated & Female & 48 & 1\\\\\n",
       "\t21 & 82 & Treated & Female & 48 & 3\\\\\n",
       "\t22 & 53 & Treated & Female & 55 & 3\\\\\n",
       "\t23 & 79 & Treated & Female & 55 & 3\\\\\n",
       "\t24 & 26 & Treated & Female & 56 & 3\\\\\n",
       "\t25 & 28 & Treated & Female & 57 & 3\\\\\n",
       "\t26 & 60 & Treated & Female & 57 & 3\\\\\n",
       "\t27 & 22 & Treated & Female & 57 & 3\\\\\n",
       "\t28 & 27 & Treated & Female & 58 & 1\\\\\n",
       "\t29 &  2 & Treated & Female & 59 & 3\\\\\n",
       "\t30 & 59 & Treated & Female & 59 & 3\\\\\n",
       "\t⋮ & ⋮ & ⋮ & ⋮ & ⋮ & ⋮\\\\\n",
       "\t55 & 29 & Placebo & Female & 30 & 1\\\\\n",
       "\t56 & 50 & Placebo & Female & 31 & 2\\\\\n",
       "\t57 & 38 & Placebo & Female & 32 & 1\\\\\n",
       "\t58 & 35 & Placebo & Female & 33 & 3\\\\\n",
       "\t59 & 51 & Placebo & Female & 37 & 1\\\\\n",
       "\t60 & 54 & Placebo & Female & 44 & 1\\\\\n",
       "\t61 & 76 & Placebo & Female & 45 & 1\\\\\n",
       "\t62 & 16 & Placebo & Female & 46 & 1\\\\\n",
       "\t63 & 69 & Placebo & Female & 48 & 1\\\\\n",
       "\t64 & 31 & Placebo & Female & 49 & 1\\\\\n",
       "\t65 & 20 & Placebo & Female & 51 & 1\\\\\n",
       "\t66 & 68 & Placebo & Female & 53 & 1\\\\\n",
       "\t67 & 81 & Placebo & Female & 54 & 1\\\\\n",
       "\t68 &  4 & Placebo & Female & 54 & 1\\\\\n",
       "\t69 & 78 & Placebo & Female & 54 & 3\\\\\n",
       "\t70 & 70 & Placebo & Female & 55 & 3\\\\\n",
       "\t71 & 49 & Placebo & Female & 57 & 1\\\\\n",
       "\t72 & 10 & Placebo & Female & 57 & 2\\\\\n",
       "\t73 & 47 & Placebo & Female & 58 & 2\\\\\n",
       "\t74 & 44 & Placebo & Female & 59 & 2\\\\\n",
       "\t75 & 24 & Placebo & Female & 59 & 3\\\\\n",
       "\t76 & 48 & Placebo & Female & 61 & 1\\\\\n",
       "\t77 & 19 & Placebo & Female & 63 & 2\\\\\n",
       "\t78 &  3 & Placebo & Female & 64 & 1\\\\\n",
       "\t79 & 67 & Placebo & Female & 65 & 3\\\\\n",
       "\t80 & 32 & Placebo & Female & 66 & 1\\\\\n",
       "\t81 & 42 & Placebo & Female & 66 & 1\\\\\n",
       "\t82 & 15 & Placebo & Female & 66 & 2\\\\\n",
       "\t83 & 71 & Placebo & Female & 68 & 2\\\\\n",
       "\t84 &  1 & Placebo & Female & 74 & 3\\\\\n",
       "\\end{tabular}\n"
      ],
      "text/markdown": [
       "\n",
       "A data.frame: 84 × 5\n",
       "\n",
       "| <!--/--> | ID &lt;int&gt; | Treatment &lt;fct&gt; | Sex &lt;fct&gt; | Age &lt;int&gt; | Improved &lt;fct&gt; |\n",
       "|---|---|---|---|---|---|\n",
       "| 1 | 57 | Treated | Male   | 27 | 2 |\n",
       "| 2 | 46 | Treated | Male   | 29 | 1 |\n",
       "| 3 | 77 | Treated | Male   | 30 | 1 |\n",
       "| 4 | 17 | Treated | Male   | 32 | 3 |\n",
       "| 5 | 36 | Treated | Male   | 46 | 3 |\n",
       "| 6 | 23 | Treated | Male   | 58 | 3 |\n",
       "| 7 | 75 | Treated | Male   | 59 | 1 |\n",
       "| 8 | 39 | Treated | Male   | 59 | 3 |\n",
       "| 9 | 33 | Treated | Male   | 63 | 1 |\n",
       "| 10 | 55 | Treated | Male   | 63 | 1 |\n",
       "| 11 | 30 | Treated | Male   | 64 | 1 |\n",
       "| 12 |  5 | Treated | Male   | 64 | 2 |\n",
       "| 13 | 63 | Treated | Male   | 69 | 1 |\n",
       "| 14 | 83 | Treated | Male   | 70 | 3 |\n",
       "| 15 | 66 | Treated | Female | 23 | 1 |\n",
       "| 16 | 40 | Treated | Female | 32 | 1 |\n",
       "| 17 |  6 | Treated | Female | 37 | 2 |\n",
       "| 18 |  7 | Treated | Female | 41 | 1 |\n",
       "| 19 | 72 | Treated | Female | 41 | 3 |\n",
       "| 20 | 37 | Treated | Female | 48 | 1 |\n",
       "| 21 | 82 | Treated | Female | 48 | 3 |\n",
       "| 22 | 53 | Treated | Female | 55 | 3 |\n",
       "| 23 | 79 | Treated | Female | 55 | 3 |\n",
       "| 24 | 26 | Treated | Female | 56 | 3 |\n",
       "| 25 | 28 | Treated | Female | 57 | 3 |\n",
       "| 26 | 60 | Treated | Female | 57 | 3 |\n",
       "| 27 | 22 | Treated | Female | 57 | 3 |\n",
       "| 28 | 27 | Treated | Female | 58 | 1 |\n",
       "| 29 |  2 | Treated | Female | 59 | 3 |\n",
       "| 30 | 59 | Treated | Female | 59 | 3 |\n",
       "| ⋮ | ⋮ | ⋮ | ⋮ | ⋮ | ⋮ |\n",
       "| 55 | 29 | Placebo | Female | 30 | 1 |\n",
       "| 56 | 50 | Placebo | Female | 31 | 2 |\n",
       "| 57 | 38 | Placebo | Female | 32 | 1 |\n",
       "| 58 | 35 | Placebo | Female | 33 | 3 |\n",
       "| 59 | 51 | Placebo | Female | 37 | 1 |\n",
       "| 60 | 54 | Placebo | Female | 44 | 1 |\n",
       "| 61 | 76 | Placebo | Female | 45 | 1 |\n",
       "| 62 | 16 | Placebo | Female | 46 | 1 |\n",
       "| 63 | 69 | Placebo | Female | 48 | 1 |\n",
       "| 64 | 31 | Placebo | Female | 49 | 1 |\n",
       "| 65 | 20 | Placebo | Female | 51 | 1 |\n",
       "| 66 | 68 | Placebo | Female | 53 | 1 |\n",
       "| 67 | 81 | Placebo | Female | 54 | 1 |\n",
       "| 68 |  4 | Placebo | Female | 54 | 1 |\n",
       "| 69 | 78 | Placebo | Female | 54 | 3 |\n",
       "| 70 | 70 | Placebo | Female | 55 | 3 |\n",
       "| 71 | 49 | Placebo | Female | 57 | 1 |\n",
       "| 72 | 10 | Placebo | Female | 57 | 2 |\n",
       "| 73 | 47 | Placebo | Female | 58 | 2 |\n",
       "| 74 | 44 | Placebo | Female | 59 | 2 |\n",
       "| 75 | 24 | Placebo | Female | 59 | 3 |\n",
       "| 76 | 48 | Placebo | Female | 61 | 1 |\n",
       "| 77 | 19 | Placebo | Female | 63 | 2 |\n",
       "| 78 |  3 | Placebo | Female | 64 | 1 |\n",
       "| 79 | 67 | Placebo | Female | 65 | 3 |\n",
       "| 80 | 32 | Placebo | Female | 66 | 1 |\n",
       "| 81 | 42 | Placebo | Female | 66 | 1 |\n",
       "| 82 | 15 | Placebo | Female | 66 | 2 |\n",
       "| 83 | 71 | Placebo | Female | 68 | 2 |\n",
       "| 84 |  1 | Placebo | Female | 74 | 3 |\n",
       "\n"
      ],
      "text/plain": [
       "   ID Treatment Sex    Age Improved\n",
       "1  57 Treated   Male   27  2       \n",
       "2  46 Treated   Male   29  1       \n",
       "3  77 Treated   Male   30  1       \n",
       "4  17 Treated   Male   32  3       \n",
       "5  36 Treated   Male   46  3       \n",
       "6  23 Treated   Male   58  3       \n",
       "7  75 Treated   Male   59  1       \n",
       "8  39 Treated   Male   59  3       \n",
       "9  33 Treated   Male   63  1       \n",
       "10 55 Treated   Male   63  1       \n",
       "11 30 Treated   Male   64  1       \n",
       "12  5 Treated   Male   64  2       \n",
       "13 63 Treated   Male   69  1       \n",
       "14 83 Treated   Male   70  3       \n",
       "15 66 Treated   Female 23  1       \n",
       "16 40 Treated   Female 32  1       \n",
       "17  6 Treated   Female 37  2       \n",
       "18  7 Treated   Female 41  1       \n",
       "19 72 Treated   Female 41  3       \n",
       "20 37 Treated   Female 48  1       \n",
       "21 82 Treated   Female 48  3       \n",
       "22 53 Treated   Female 55  3       \n",
       "23 79 Treated   Female 55  3       \n",
       "24 26 Treated   Female 56  3       \n",
       "25 28 Treated   Female 57  3       \n",
       "26 60 Treated   Female 57  3       \n",
       "27 22 Treated   Female 57  3       \n",
       "28 27 Treated   Female 58  1       \n",
       "29  2 Treated   Female 59  3       \n",
       "30 59 Treated   Female 59  3       \n",
       "⋮  ⋮  ⋮         ⋮      ⋮   ⋮       \n",
       "55 29 Placebo   Female 30  1       \n",
       "56 50 Placebo   Female 31  2       \n",
       "57 38 Placebo   Female 32  1       \n",
       "58 35 Placebo   Female 33  3       \n",
       "59 51 Placebo   Female 37  1       \n",
       "60 54 Placebo   Female 44  1       \n",
       "61 76 Placebo   Female 45  1       \n",
       "62 16 Placebo   Female 46  1       \n",
       "63 69 Placebo   Female 48  1       \n",
       "64 31 Placebo   Female 49  1       \n",
       "65 20 Placebo   Female 51  1       \n",
       "66 68 Placebo   Female 53  1       \n",
       "67 81 Placebo   Female 54  1       \n",
       "68  4 Placebo   Female 54  1       \n",
       "69 78 Placebo   Female 54  3       \n",
       "70 70 Placebo   Female 55  3       \n",
       "71 49 Placebo   Female 57  1       \n",
       "72 10 Placebo   Female 57  2       \n",
       "73 47 Placebo   Female 58  2       \n",
       "74 44 Placebo   Female 59  2       \n",
       "75 24 Placebo   Female 59  3       \n",
       "76 48 Placebo   Female 61  1       \n",
       "77 19 Placebo   Female 63  2       \n",
       "78  3 Placebo   Female 64  1       \n",
       "79 67 Placebo   Female 65  3       \n",
       "80 32 Placebo   Female 66  1       \n",
       "81 42 Placebo   Female 66  1       \n",
       "82 15 Placebo   Female 66  2       \n",
       "83 71 Placebo   Female 68  2       \n",
       "84  1 Placebo   Female 74  3       "
      ]
     },
     "metadata": {},
     "output_type": "display_data"
    }
   ],
   "source": [
    "Arthritis  <- transform(\n",
    "    Arthritis,\n",
    "    Improved=factor(as.numeric(Improved))\n",
    ")\n",
    "\n",
    "Arthritis"
   ]
  },
  {
   "cell_type": "code",
   "execution_count": 32,
   "metadata": {
    "vscode": {
     "languageId": "r"
    }
   },
   "outputs": [
    {
     "data": {
      "text/plain": [
       "\n",
       "\tAsymptotic Pearson Chi-Squared Test\n",
       "\n",
       "data:  Treatment by Improved (1, 2, 3)\n",
       "chi-squared = 13.055, df = 2, p-value = 0.001463\n"
      ]
     },
     "metadata": {},
     "output_type": "display_data"
    }
   ],
   "source": [
    "set.seed(1234)\n",
    "chisq_test(Treatment~Improved, data=Arthritis)"
   ]
  },
  {
   "cell_type": "markdown",
   "metadata": {},
   "source": [
    "## 数值变量间的独立性"
   ]
  },
  {
   "cell_type": "code",
   "execution_count": 35,
   "metadata": {
    "vscode": {
     "languageId": "r"
    }
   },
   "outputs": [
    {
     "data": {
      "text/plain": [
       "\n",
       "\tAsymptotic Spearman Correlation Test\n",
       "\n",
       "data:  Illiteracy by Murder\n",
       "Z = 4.7065, p-value = 2.52e-06\n",
       "alternative hypothesis: true rho is not equal to 0\n"
      ]
     },
     "metadata": {},
     "output_type": "display_data"
    }
   ],
   "source": [
    "states <- as.data.frame(state.x77)\n",
    "set.seed(1234)\n",
    "spearman_test(Illiteracy~Murder, data=states)"
   ]
  },
  {
   "cell_type": "markdown",
   "metadata": {},
   "source": [
    "## 两样本和K样本相关性检验"
   ]
  },
  {
   "cell_type": "code",
   "execution_count": 36,
   "metadata": {
    "vscode": {
     "languageId": "r"
    }
   },
   "outputs": [
    {
     "data": {
      "text/plain": [
       "\n",
       "\tExact Wilcoxon-Pratt Signed-Rank Test\n",
       "\n",
       "data:  y by x (pos, neg) \n",
       "\t stratified by block\n",
       "Z = 5.9691, p-value = 1.421e-14\n",
       "alternative hypothesis: true mu is not equal to 0\n"
      ]
     },
     "metadata": {},
     "output_type": "display_data"
    }
   ],
   "source": [
    "library(coin)\n",
    "library(MASS)\n",
    "\n",
    "wilcoxsign_test(U1~U2, data=UScrime, distribution=\"exact\")"
   ]
  },
  {
   "cell_type": "markdown",
   "metadata": {},
   "source": [
    "# lmPerm包的置换检验"
   ]
  },
  {
   "cell_type": "markdown",
   "metadata": {},
   "source": [
    "## 简单回归和多项式回归"
   ]
  },
  {
   "cell_type": "code",
   "execution_count": 40,
   "metadata": {
    "vscode": {
     "languageId": "r"
    }
   },
   "outputs": [
    {
     "name": "stdout",
     "output_type": "stream",
     "text": [
      "[1] \"Settings:  unique SS : numeric variables centered\"\n"
     ]
    },
    {
     "data": {
      "text/plain": [
       "\n",
       "Call:\n",
       "lmp(formula = weight ~ height, data = women, perm = \"Prob\")\n",
       "\n",
       "Residuals:\n",
       "    Min      1Q  Median      3Q     Max \n",
       "-1.7333 -1.1333 -0.3833  0.7417  3.1167 \n",
       "\n",
       "Coefficients:\n",
       "             Estimate Std. Error t value Pr(>|t|)    \n",
       "(Intercept) 136.73333    0.39375  347.25  < 2e-16 ***\n",
       "height        3.45000    0.09114   37.85 1.09e-14 ***\n",
       "---\n",
       "Signif. codes:  0 '***' 0.001 '**' 0.01 '*' 0.05 '.' 0.1 ' ' 1\n",
       "\n",
       "Residual standard error: 1.525 on 13 degrees of freedom\n",
       "Multiple R-squared:  0.991,\tAdjusted R-squared:  0.9903 \n",
       "F-statistic:  1433 on 1 and 13 DF,  p-value: 1.091e-14\n"
      ]
     },
     "metadata": {},
     "output_type": "display_data"
    }
   ],
   "source": [
    "library(lmPerm)\n",
    "set.seed(1234)\n",
    "fit <- lmp(weight~height, data=women, perm=\"Prob\")\n",
    "summary(fit)"
   ]
  },
  {
   "cell_type": "code",
   "execution_count": 41,
   "metadata": {
    "vscode": {
     "languageId": "r"
    }
   },
   "outputs": [
    {
     "name": "stdout",
     "output_type": "stream",
     "text": [
      "[1] \"Settings:  unique SS : numeric variables centered\"\n"
     ]
    },
    {
     "data": {
      "text/plain": [
       "\n",
       "Call:\n",
       "lmp(formula = weight ~ height + I(height^2), data = women, perm = \"Prob\")\n",
       "\n",
       "Residuals:\n",
       "     Min       1Q   Median       3Q      Max \n",
       "-0.50941 -0.29611 -0.00941  0.28615  0.59706 \n",
       "\n",
       "Coefficients:\n",
       "             Estimate Std. Error  t value Pr(>|t|)    \n",
       "(Intercept) 136.73333    0.09917 1378.845  < 2e-16 ***\n",
       "height       -7.34832    0.77769   -9.449 6.58e-07 ***\n",
       "I(height^2)   0.08306    0.00598   13.891 9.32e-09 ***\n",
       "---\n",
       "Signif. codes:  0 '***' 0.001 '**' 0.01 '*' 0.05 '.' 0.1 ' ' 1\n",
       "\n",
       "Residual standard error: 0.3841 on 12 degrees of freedom\n",
       "Multiple R-squared:  0.9995,\tAdjusted R-squared:  0.9994 \n",
       "F-statistic: 1.139e+04 on 2 and 12 DF,  p-value: < 2.2e-16\n"
      ]
     },
     "metadata": {},
     "output_type": "display_data"
    }
   ],
   "source": [
    "library(lmPerm)\n",
    "set.seed(1234)\n",
    "fit <- lmp(weight~height+I(height^2), data=women, perm=\"Prob\")\n",
    "summary(fit)"
   ]
  },
  {
   "cell_type": "markdown",
   "metadata": {},
   "source": [
    "## 多元回归"
   ]
  },
  {
   "cell_type": "code",
   "execution_count": 42,
   "metadata": {
    "vscode": {
     "languageId": "r"
    }
   },
   "outputs": [
    {
     "name": "stdout",
     "output_type": "stream",
     "text": [
      "[1] \"Settings:  unique SS : numeric variables centered\"\n"
     ]
    },
    {
     "data": {
      "text/plain": [
       "\n",
       "Call:\n",
       "lmp(formula = Murder ~ Population + Illiteracy + Income + Frost, \n",
       "    data = states, perm = \"Prob\")\n",
       "\n",
       "Residuals:\n",
       "    Min      1Q  Median      3Q     Max \n",
       "-4.7960 -1.6495 -0.0811  1.4815  7.6210 \n",
       "\n",
       "Coefficients:\n",
       "             Estimate Std. Error t value Pr(>|t|)    \n",
       "(Intercept) 7.378e+00  3.585e-01  20.580  < 2e-16 ***\n",
       "Population  2.237e-04  9.052e-05   2.471   0.0173 *  \n",
       "Illiteracy  4.143e+00  8.744e-01   4.738 2.19e-05 ***\n",
       "Income      6.442e-05  6.837e-04   0.094   0.9253    \n",
       "Frost       5.813e-04  1.005e-02   0.058   0.9541    \n",
       "---\n",
       "Signif. codes:  0 '***' 0.001 '**' 0.01 '*' 0.05 '.' 0.1 ' ' 1\n",
       "\n",
       "Residual standard error: 2.535 on 45 degrees of freedom\n",
       "Multiple R-squared:  0.567,\tAdjusted R-squared:  0.5285 \n",
       "F-statistic: 14.73 on 4 and 45 DF,  p-value: 9.133e-08\n"
      ]
     },
     "metadata": {},
     "output_type": "display_data"
    }
   ],
   "source": [
    "library(lmPerm)\n",
    "\n",
    "set.seed(1234)\n",
    "\n",
    "states <- as.data.frame(state.x77)\n",
    "fit <- lmp(Murder~Population+Illiteracy+Income+Frost, data=states, perm=\"Prob\")\n",
    "summary(fit)"
   ]
  },
  {
   "cell_type": "markdown",
   "metadata": {},
   "source": [
    "## 单因素方差分析和协方差分析"
   ]
  },
  {
   "cell_type": "code",
   "execution_count": 43,
   "metadata": {
    "vscode": {
     "languageId": "r"
    }
   },
   "outputs": [
    {
     "name": "stdout",
     "output_type": "stream",
     "text": [
      "[1] \"Settings:  unique SS \"\n"
     ]
    },
    {
     "data": {
      "text/html": [
       "<table class=\"dataframe\">\n",
       "<caption>A anova: 2 × 5</caption>\n",
       "<thead>\n",
       "\t<tr><th></th><th scope=col>Df</th><th scope=col>Sum Sq</th><th scope=col>Mean Sq</th><th scope=col>F value</th><th scope=col>Pr(&gt;F)</th></tr>\n",
       "\t<tr><th></th><th scope=col>&lt;int&gt;</th><th scope=col>&lt;dbl&gt;</th><th scope=col>&lt;dbl&gt;</th><th scope=col>&lt;dbl&gt;</th><th scope=col>&lt;dbl&gt;</th></tr>\n",
       "</thead>\n",
       "<tbody>\n",
       "\t<tr><th scope=row>trt</th><td> 4</td><td>1351.3690</td><td>337.84225</td><td>32.43283</td><td>9.818516e-13</td></tr>\n",
       "\t<tr><th scope=row>Residuals</th><td>45</td><td> 468.7504</td><td> 10.41668</td><td>      NA</td><td>          NA</td></tr>\n",
       "</tbody>\n",
       "</table>\n"
      ],
      "text/latex": [
       "A anova: 2 × 5\n",
       "\\begin{tabular}{r|lllll}\n",
       "  & Df & Sum Sq & Mean Sq & F value & Pr(>F)\\\\\n",
       "  & <int> & <dbl> & <dbl> & <dbl> & <dbl>\\\\\n",
       "\\hline\n",
       "\ttrt &  4 & 1351.3690 & 337.84225 & 32.43283 & 9.818516e-13\\\\\n",
       "\tResiduals & 45 &  468.7504 &  10.41668 &       NA &           NA\\\\\n",
       "\\end{tabular}\n"
      ],
      "text/markdown": [
       "\n",
       "A anova: 2 × 5\n",
       "\n",
       "| <!--/--> | Df &lt;int&gt; | Sum Sq &lt;dbl&gt; | Mean Sq &lt;dbl&gt; | F value &lt;dbl&gt; | Pr(&gt;F) &lt;dbl&gt; |\n",
       "|---|---|---|---|---|---|\n",
       "| trt |  4 | 1351.3690 | 337.84225 | 32.43283 | 9.818516e-13 |\n",
       "| Residuals | 45 |  468.7504 |  10.41668 |       NA |           NA |\n",
       "\n"
      ],
      "text/plain": [
       "          Df Sum Sq    Mean Sq   F value  Pr(>F)      \n",
       "trt        4 1351.3690 337.84225 32.43283 9.818516e-13\n",
       "Residuals 45  468.7504  10.41668       NA           NA"
      ]
     },
     "metadata": {},
     "output_type": "display_data"
    }
   ],
   "source": [
    "library(lmPerm)\n",
    "library(multcomp)\n",
    "set.seed(1234)\n",
    "\n",
    "fit <- aovp(response~trt, data=cholesterol, perm=\"Prob\")\n",
    "anova(fit)"
   ]
  },
  {
   "cell_type": "code",
   "execution_count": 44,
   "metadata": {
    "vscode": {
     "languageId": "r"
    }
   },
   "outputs": [
    {
     "name": "stdout",
     "output_type": "stream",
     "text": [
      "[1] \"Settings:  unique SS : numeric variables centered\"\n"
     ]
    },
    {
     "data": {
      "text/html": [
       "<table class=\"dataframe\">\n",
       "<caption>A anova: 3 × 5</caption>\n",
       "<thead>\n",
       "\t<tr><th></th><th scope=col>Df</th><th scope=col>Sum Sq</th><th scope=col>Mean Sq</th><th scope=col>F value</th><th scope=col>Pr(&gt;F)</th></tr>\n",
       "\t<tr><th></th><th scope=col>&lt;int&gt;</th><th scope=col>&lt;dbl&gt;</th><th scope=col>&lt;dbl&gt;</th><th scope=col>&lt;dbl&gt;</th><th scope=col>&lt;dbl&gt;</th></tr>\n",
       "</thead>\n",
       "<tbody>\n",
       "\t<tr><th scope=row>gesttime</th><td> 1</td><td> 161.4931</td><td>161.49310</td><td>9.678882</td><td>0.002710403</td></tr>\n",
       "\t<tr><th scope=row>dose</th><td> 3</td><td> 137.1229</td><td> 45.70763</td><td>2.739428</td><td>0.049883011</td></tr>\n",
       "\t<tr><th scope=row>Residuals</th><td>69</td><td>1151.2718</td><td> 16.68510</td><td>      NA</td><td>         NA</td></tr>\n",
       "</tbody>\n",
       "</table>\n"
      ],
      "text/latex": [
       "A anova: 3 × 5\n",
       "\\begin{tabular}{r|lllll}\n",
       "  & Df & Sum Sq & Mean Sq & F value & Pr(>F)\\\\\n",
       "  & <int> & <dbl> & <dbl> & <dbl> & <dbl>\\\\\n",
       "\\hline\n",
       "\tgesttime &  1 &  161.4931 & 161.49310 & 9.678882 & 0.002710403\\\\\n",
       "\tdose &  3 &  137.1229 &  45.70763 & 2.739428 & 0.049883011\\\\\n",
       "\tResiduals & 69 & 1151.2718 &  16.68510 &       NA &          NA\\\\\n",
       "\\end{tabular}\n"
      ],
      "text/markdown": [
       "\n",
       "A anova: 3 × 5\n",
       "\n",
       "| <!--/--> | Df &lt;int&gt; | Sum Sq &lt;dbl&gt; | Mean Sq &lt;dbl&gt; | F value &lt;dbl&gt; | Pr(&gt;F) &lt;dbl&gt; |\n",
       "|---|---|---|---|---|---|\n",
       "| gesttime |  1 |  161.4931 | 161.49310 | 9.678882 | 0.002710403 |\n",
       "| dose |  3 |  137.1229 |  45.70763 | 2.739428 | 0.049883011 |\n",
       "| Residuals | 69 | 1151.2718 |  16.68510 |       NA |          NA |\n",
       "\n"
      ],
      "text/plain": [
       "          Df Sum Sq    Mean Sq   F value  Pr(>F)     \n",
       "gesttime   1  161.4931 161.49310 9.678882 0.002710403\n",
       "dose       3  137.1229  45.70763 2.739428 0.049883011\n",
       "Residuals 69 1151.2718  16.68510       NA          NA"
      ]
     },
     "metadata": {},
     "output_type": "display_data"
    }
   ],
   "source": [
    "library(lmPerm)\n",
    "set.seed(1234)\n",
    "\n",
    "fit <- aovp(weight~gesttime+dose, data=litter,perm=\"Prob\")\n",
    "anova(fit)"
   ]
  },
  {
   "cell_type": "markdown",
   "metadata": {},
   "source": [
    "## 双因素方差分析"
   ]
  },
  {
   "cell_type": "code",
   "execution_count": 45,
   "metadata": {
    "vscode": {
     "languageId": "r"
    }
   },
   "outputs": [
    {
     "name": "stdout",
     "output_type": "stream",
     "text": [
      "[1] \"Settings:  unique SS : numeric variables centered\"\n"
     ]
    },
    {
     "data": {
      "text/html": [
       "<table class=\"dataframe\">\n",
       "<caption>A anova: 4 × 5</caption>\n",
       "<thead>\n",
       "\t<tr><th></th><th scope=col>Df</th><th scope=col>Sum Sq</th><th scope=col>Mean Sq</th><th scope=col>F value</th><th scope=col>Pr(&gt;F)</th></tr>\n",
       "\t<tr><th></th><th scope=col>&lt;int&gt;</th><th scope=col>&lt;dbl&gt;</th><th scope=col>&lt;dbl&gt;</th><th scope=col>&lt;dbl&gt;</th><th scope=col>&lt;dbl&gt;</th></tr>\n",
       "</thead>\n",
       "<tbody>\n",
       "\t<tr><th scope=row>supp</th><td> 1</td><td> 205.35000</td><td> 205.35000</td><td> 12.317020</td><td>8.936452e-04</td></tr>\n",
       "\t<tr><th scope=row>dose</th><td> 1</td><td>2224.30430</td><td>2224.30430</td><td>133.415146</td><td>1.907985e-16</td></tr>\n",
       "\t<tr><th scope=row>supp:dose</th><td> 1</td><td>  88.92011</td><td>  88.92011</td><td>  5.333483</td><td>2.463136e-02</td></tr>\n",
       "\t<tr><th scope=row>Residuals</th><td>56</td><td> 933.63493</td><td>  16.67205</td><td>        NA</td><td>          NA</td></tr>\n",
       "</tbody>\n",
       "</table>\n"
      ],
      "text/latex": [
       "A anova: 4 × 5\n",
       "\\begin{tabular}{r|lllll}\n",
       "  & Df & Sum Sq & Mean Sq & F value & Pr(>F)\\\\\n",
       "  & <int> & <dbl> & <dbl> & <dbl> & <dbl>\\\\\n",
       "\\hline\n",
       "\tsupp &  1 &  205.35000 &  205.35000 &  12.317020 & 8.936452e-04\\\\\n",
       "\tdose &  1 & 2224.30430 & 2224.30430 & 133.415146 & 1.907985e-16\\\\\n",
       "\tsupp:dose &  1 &   88.92011 &   88.92011 &   5.333483 & 2.463136e-02\\\\\n",
       "\tResiduals & 56 &  933.63493 &   16.67205 &         NA &           NA\\\\\n",
       "\\end{tabular}\n"
      ],
      "text/markdown": [
       "\n",
       "A anova: 4 × 5\n",
       "\n",
       "| <!--/--> | Df &lt;int&gt; | Sum Sq &lt;dbl&gt; | Mean Sq &lt;dbl&gt; | F value &lt;dbl&gt; | Pr(&gt;F) &lt;dbl&gt; |\n",
       "|---|---|---|---|---|---|\n",
       "| supp |  1 |  205.35000 |  205.35000 |  12.317020 | 8.936452e-04 |\n",
       "| dose |  1 | 2224.30430 | 2224.30430 | 133.415146 | 1.907985e-16 |\n",
       "| supp:dose |  1 |   88.92011 |   88.92011 |   5.333483 | 2.463136e-02 |\n",
       "| Residuals | 56 |  933.63493 |   16.67205 |         NA |           NA |\n",
       "\n"
      ],
      "text/plain": [
       "          Df Sum Sq     Mean Sq    F value    Pr(>F)      \n",
       "supp       1  205.35000  205.35000  12.317020 8.936452e-04\n",
       "dose       1 2224.30430 2224.30430 133.415146 1.907985e-16\n",
       "supp:dose  1   88.92011   88.92011   5.333483 2.463136e-02\n",
       "Residuals 56  933.63493   16.67205         NA           NA"
      ]
     },
     "metadata": {},
     "output_type": "display_data"
    }
   ],
   "source": [
    "library(lmPerm)\n",
    "set.seed(1234)\n",
    "\n",
    "fit <- aovp(len~supp*dose, data=ToothGrowth, perm=\"Prob\")\n",
    "anova(fit)"
   ]
  },
  {
   "cell_type": "markdown",
   "metadata": {},
   "source": [
    "# Bootstrap"
   ]
  },
  {
   "cell_type": "markdown",
   "metadata": {},
   "source": [
    "## 单个统计量的自助法"
   ]
  },
  {
   "cell_type": "code",
   "execution_count": 46,
   "metadata": {
    "vscode": {
     "languageId": "r"
    }
   },
   "outputs": [
    {
     "name": "stdout",
     "output_type": "stream",
     "text": [
      "package 'boot' successfully unpacked and MD5 sums checked\n",
      "\n",
      "The downloaded binary packages are in\n",
      "\tC:\\Users\\86151\\AppData\\Local\\Temp\\RtmpMtShbt\\downloaded_packages\n"
     ]
    }
   ],
   "source": [
    "install.packages(\"boot\")"
   ]
  },
  {
   "cell_type": "code",
   "execution_count": 47,
   "metadata": {
    "vscode": {
     "languageId": "r"
    }
   },
   "outputs": [],
   "source": [
    "rsq <- function(formula, data, indices){\n",
    "    d <- data[indices,]\n",
    "    fit <- lm(formula, data=d)\n",
    "    return(summary(fit)$r.squared)\n",
    "}"
   ]
  },
  {
   "cell_type": "code",
   "execution_count": 48,
   "metadata": {
    "vscode": {
     "languageId": "r"
    }
   },
   "outputs": [
    {
     "name": "stderr",
     "output_type": "stream",
     "text": [
      "\n",
      "Attaching package: 'boot'\n",
      "\n",
      "\n",
      "The following object is masked from 'package:survival':\n",
      "\n",
      "    aml\n",
      "\n",
      "\n"
     ]
    }
   ],
   "source": [
    "library(boot)\n",
    "set.seed(1234)\n",
    "result <- boot(\n",
    "    data=mtcars,\n",
    "    statistic=rsq,\n",
    "    R=1000,\n",
    "    formula=mpg~wt+disp\n",
    ")"
   ]
  },
  {
   "cell_type": "code",
   "execution_count": 49,
   "metadata": {
    "vscode": {
     "languageId": "r"
    }
   },
   "outputs": [
    {
     "name": "stdout",
     "output_type": "stream",
     "text": [
      "\n",
      "ORDINARY NONPARAMETRIC BOOTSTRAP\n",
      "\n",
      "\n",
      "Call:\n",
      "boot(data = mtcars, statistic = rsq, R = 1000, formula = mpg ~ \n",
      "    wt + disp)\n",
      "\n",
      "\n",
      "Bootstrap Statistics :\n",
      "     original     bias    std. error\n",
      "t1* 0.7809306 0.01379126  0.05113904\n"
     ]
    }
   ],
   "source": [
    "print(result)"
   ]
  },
  {
   "cell_type": "code",
   "execution_count": 51,
   "metadata": {
    "vscode": {
     "languageId": "r"
    }
   },
   "outputs": [
    {
     "data": {
      "image/png": "[encoded data removed]",
      "text/plain": [
       "Plot with title \"Histogram of t\""
      ]
     },
     "metadata": {
      "image/png": {
       "height": 420,
       "width": 420
      }
     },
     "output_type": "display_data"
    }
   ],
   "source": [
    "plot(result)"
   ]
  },
  {
   "cell_type": "code",
   "execution_count": 52,
   "metadata": {
    "vscode": {
     "languageId": "r"
    }
   },
   "outputs": [
    {
     "data": {
      "text/plain": [
       "BOOTSTRAP CONFIDENCE INTERVAL CALCULATIONS\n",
       "Based on 1000 bootstrap replicates\n",
       "\n",
       "CALL : \n",
       "boot.ci(boot.out = result, type = c(\"perc\", \"bca\"))\n",
       "\n",
       "Intervals : \n",
       "Level     Percentile            BCa          \n",
       "95%   ( 0.6753,  0.8835 )   ( 0.6344,  0.8561 )  \n",
       "Calculations and Intervals on Original Scale\n",
       "Some BCa intervals may be unstable"
      ]
     },
     "metadata": {},
     "output_type": "display_data"
    }
   ],
   "source": [
    "boot.ci(result, type=c(\"perc\", \"bca\"))"
   ]
  },
  {
   "cell_type": "code",
   "execution_count": 53,
   "metadata": {
    "vscode": {
     "languageId": "r"
    }
   },
   "outputs": [
    {
     "name": "stderr",
     "output_type": "stream",
     "text": [
      "Warning message in boot.ci(result):\n",
      "\"bootstrap variances needed for studentized intervals\"\n"
     ]
    },
    {
     "data": {
      "text/plain": [
       "BOOTSTRAP CONFIDENCE INTERVAL CALCULATIONS\n",
       "Based on 1000 bootstrap replicates\n",
       "\n",
       "CALL : \n",
       "boot.ci(boot.out = result)\n",
       "\n",
       "Intervals : \n",
       "Level      Normal              Basic         \n",
       "95%   ( 0.6669,  0.8674 )   ( 0.6784,  0.8866 )  \n",
       "\n",
       "Level     Percentile            BCa          \n",
       "95%   ( 0.6753,  0.8835 )   ( 0.6344,  0.8561 )  \n",
       "Calculations and Intervals on Original Scale\n",
       "Some BCa intervals may be unstable"
      ]
     },
     "metadata": {},
     "output_type": "display_data"
    }
   ],
   "source": [
    "boot.ci(result)"
   ]
  },
  {
   "cell_type": "markdown",
   "metadata": {},
   "source": [
    "## 多个统计量的自助法"
   ]
  },
  {
   "cell_type": "code",
   "execution_count": 56,
   "metadata": {
    "vscode": {
     "languageId": "r"
    }
   },
   "outputs": [],
   "source": [
    "bs <- function(formula, data, indices){\n",
    "    d <- data[indices,]\n",
    "    fit <- lm(formula, data=d)\n",
    "    return(coef(fit))\n",
    "}"
   ]
  },
  {
   "cell_type": "code",
   "execution_count": 58,
   "metadata": {
    "vscode": {
     "languageId": "r"
    }
   },
   "outputs": [
    {
     "name": "stdout",
     "output_type": "stream",
     "text": [
      "\n",
      "ORDINARY NONPARAMETRIC BOOTSTRAP\n",
      "\n",
      "\n",
      "Call:\n",
      "boot(data = mtcars, statistic = bs, R = 1000, formula = mpg ~ \n",
      "    wt + disp)\n",
      "\n",
      "\n",
      "Bootstrap Statistics :\n",
      "       original        bias    std. error\n",
      "t1* 34.96055404  4.715497e-02 2.546106756\n",
      "t2* -3.35082533 -4.908125e-02 1.154800744\n",
      "t3* -0.01772474  6.230927e-05 0.008518022\n"
     ]
    }
   ],
   "source": [
    "library(boot)\n",
    "set.seed(1234)\n",
    "result <- boot(\n",
    "    data=mtcars,\n",
    "    statistic=bs,\n",
    "    R=1000,\n",
    "    formula=mpg~wt+disp\n",
    ")\n",
    "print(result)"
   ]
  },
  {
   "cell_type": "code",
   "execution_count": 59,
   "metadata": {
    "vscode": {
     "languageId": "r"
    }
   },
   "outputs": [
    {
     "data": {
      "image/png": "[encoded data removed]",
      "text/plain": [
       "Plot with title \"Histogram of t\""
      ]
     },
     "metadata": {
      "image/png": {
       "height": 420,
       "width": 420
      }
     },
     "output_type": "display_data"
    }
   ],
   "source": [
    "plot(result, index=2)"
   ]
  },
  {
   "cell_type": "code",
   "execution_count": 60,
   "metadata": {
    "vscode": {
     "languageId": "r"
    }
   },
   "outputs": [
    {
     "data": {
      "text/plain": [
       "BOOTSTRAP CONFIDENCE INTERVAL CALCULATIONS\n",
       "Based on 1000 bootstrap replicates\n",
       "\n",
       "CALL : \n",
       "boot.ci(boot.out = result, type = \"bca\", index = 2)\n",
       "\n",
       "Intervals : \n",
       "Level       BCa          \n",
       "95%   (-5.477, -0.937 )  \n",
       "Calculations and Intervals on Original Scale"
      ]
     },
     "metadata": {},
     "output_type": "display_data"
    }
   ],
   "source": [
    "boot.ci(result, type=\"bca\", index=2)"
   ]
  },
  {
   "cell_type": "code",
   "execution_count": 61,
   "metadata": {
    "vscode": {
     "languageId": "r"
    }
   },
   "outputs": [
    {
     "data": {
      "text/plain": [
       "BOOTSTRAP CONFIDENCE INTERVAL CALCULATIONS\n",
       "Based on 1000 bootstrap replicates\n",
       "\n",
       "CALL : \n",
       "boot.ci(boot.out = result, type = \"bca\", index = 3)\n",
       "\n",
       "Intervals : \n",
       "Level       BCa          \n",
       "95%   (-0.0334, -0.0011 )  \n",
       "Calculations and Intervals on Original Scale"
      ]
     },
     "metadata": {},
     "output_type": "display_data"
    }
   ],
   "source": [
    "boot.ci(result, type=\"bca\", index=3)"
   ]
  }
 ],
 "metadata": {
  "kernelspec": {
   "display_name": "R",
   "language": "R",
   "name": "ir"
  },
  "language_info": {
   "codemirror_mode": "r",
   "file_extension": ".r",
   "mimetype": "text/x-r-source",
   "name": "R",
   "pygments_lexer": "r",
   "version": "4.4.2"
  }
 },
 "nbformat": 4,
 "nbformat_minor": 2
}

{
 "cells": [
  {
   "cell_type": "markdown",
   "metadata": {},
   "source": [
    "学习R语言插补技术。"
   ]
  },
  {
   "cell_type": "code",
   "execution_count": 4,
   "metadata": {
    "vscode": {
     "languageId": "r"
    }
   },
   "outputs": [
    {
     "name": "stderr",
     "output_type": "stream",
     "text": [
      "also installing the dependencies 'bit', 'gtable', 'isoband', 'rbibutils', 'bit64', 'progress', 'cowplot', 'Deriv', 'ggplot2', 'modelr', 'microbenchmark', 'Rdpack', 'ucminf', 'vroom', 'tzdb', 'numDeriv', 'doBy', 'SparseM', 'MatrixModels', 'minqa', 'nloptr', 'reformulas', 'farver', 'labeling', 'munsell', 'RColorBrewer', 'viridisLite', 'zoo', 'iterators', 'ordinal', 'forcats', 'hms', 'readr', 'carData', 'abind', 'Formula', 'pbkrtest', 'quantreg', 'lme4', 'scales', 'DEoptimR', 'lmtest', 'proxy', 'RcppEigen', 'generics', 'tidyselect', 'foreach', 'shape', 'pan', 'jomo', 'haven', 'colorspace', 'car', 'robustbase', 'sp', 'vcd', 'e1071', 'laeken', 'ranger', 'data.table', 'broom', 'dplyr', 'glmnet', 'mitml', 'tidyr'\n",
      "\n",
      "\n"
     ]
    }
   ],
   "source": [
    "install.packages(c(\"VIM\", \"mice\"))"
   ]
  },
  {
   "cell_type": "markdown",
   "metadata": {},
   "source": [
    "# 识别缺失值"
   ]
  },
  {
   "cell_type": "code",
   "execution_count": 3,
   "metadata": {
    "vscode": {
     "languageId": "r"
    }
   },
   "outputs": [
    {
     "data": {
      "text/html": [
       "<style>\n",
       ".list-inline {list-style: none; margin:0; padding: 0}\n",
       ".list-inline>li {display: inline-block}\n",
       ".list-inline>li:not(:last-child)::after {content: \"\\00b7\"; padding: 0 .5ex}\n",
       "</style>\n",
       "<ol class=list-inline><li>TRUE</li><li>FALSE</li></ol>\n"
      ],
      "text/latex": [
       "\\begin{enumerate*}\n",
       "\\item TRUE\n",
       "\\item FALSE\n",
       "\\end{enumerate*}\n"
      ],
      "text/markdown": [
       "1. TRUE\n",
       "2. FALSE\n",
       "\n",
       "\n"
      ],
      "text/plain": [
       "[1]  TRUE FALSE"
      ]
     },
     "metadata": {},
     "output_type": "display_data"
    }
   ],
   "source": [
    "is.na(c(NA, 1))"
   ]
  },
  {
   "cell_type": "code",
   "execution_count": 5,
   "metadata": {
    "vscode": {
     "languageId": "r"
    }
   },
   "outputs": [
    {
     "data": {
      "text/html": [
       "<table class=\"dataframe\">\n",
       "<caption>A data.frame: 42 × 10</caption>\n",
       "<thead>\n",
       "\t<tr><th></th><th scope=col>BodyWgt</th><th scope=col>BrainWgt</th><th scope=col>NonD</th><th scope=col>Dream</th><th scope=col>Sleep</th><th scope=col>Span</th><th scope=col>Gest</th><th scope=col>Pred</th><th scope=col>Exp</th><th scope=col>Danger</th></tr>\n",
       "\t<tr><th></th><th scope=col>&lt;dbl&gt;</th><th scope=col>&lt;dbl&gt;</th><th scope=col>&lt;dbl&gt;</th><th scope=col>&lt;dbl&gt;</th><th scope=col>&lt;dbl&gt;</th><th scope=col>&lt;dbl&gt;</th><th scope=col>&lt;dbl&gt;</th><th scope=col>&lt;int&gt;</th><th scope=col>&lt;int&gt;</th><th scope=col>&lt;int&gt;</th></tr>\n",
       "</thead>\n",
       "<tbody>\n",
       "\t<tr><th scope=row>2</th><td>   1.000</td><td>   6.60</td><td> 6.3</td><td>2.0</td><td> 8.3</td><td>  4.5</td><td> 42.0</td><td>3</td><td>1</td><td>3</td></tr>\n",
       "\t<tr><th scope=row>5</th><td>2547.000</td><td>4603.00</td><td> 2.1</td><td>1.8</td><td> 3.9</td><td> 69.0</td><td>624.0</td><td>3</td><td>5</td><td>4</td></tr>\n",
       "\t<tr><th scope=row>6</th><td>  10.550</td><td> 179.50</td><td> 9.1</td><td>0.7</td><td> 9.8</td><td> 27.0</td><td>180.0</td><td>4</td><td>4</td><td>4</td></tr>\n",
       "\t<tr><th scope=row>7</th><td>   0.023</td><td>   0.30</td><td>15.8</td><td>3.9</td><td>19.7</td><td> 19.0</td><td> 35.0</td><td>1</td><td>1</td><td>1</td></tr>\n",
       "\t<tr><th scope=row>8</th><td> 160.000</td><td> 169.00</td><td> 5.2</td><td>1.0</td><td> 6.2</td><td> 30.4</td><td>392.0</td><td>4</td><td>5</td><td>4</td></tr>\n",
       "\t<tr><th scope=row>9</th><td>   3.300</td><td>  25.60</td><td>10.9</td><td>3.6</td><td>14.5</td><td> 28.0</td><td> 63.0</td><td>1</td><td>2</td><td>1</td></tr>\n",
       "\t<tr><th scope=row>10</th><td>  52.160</td><td> 440.00</td><td> 8.3</td><td>1.4</td><td> 9.7</td><td> 50.0</td><td>230.0</td><td>1</td><td>1</td><td>1</td></tr>\n",
       "\t<tr><th scope=row>11</th><td>   0.425</td><td>   6.40</td><td>11.0</td><td>1.5</td><td>12.5</td><td>  7.0</td><td>112.0</td><td>5</td><td>4</td><td>4</td></tr>\n",
       "\t<tr><th scope=row>12</th><td> 465.000</td><td> 423.00</td><td> 3.2</td><td>0.7</td><td> 3.9</td><td> 30.0</td><td>281.0</td><td>5</td><td>5</td><td>5</td></tr>\n",
       "\t<tr><th scope=row>15</th><td>   0.075</td><td>   1.20</td><td> 6.3</td><td>2.1</td><td> 8.4</td><td>  3.5</td><td> 42.0</td><td>1</td><td>1</td><td>1</td></tr>\n",
       "\t<tr><th scope=row>16</th><td>   3.000</td><td>  25.00</td><td> 8.6</td><td>0.0</td><td> 8.6</td><td> 50.0</td><td> 28.0</td><td>2</td><td>2</td><td>2</td></tr>\n",
       "\t<tr><th scope=row>17</th><td>   0.785</td><td>   3.50</td><td> 6.6</td><td>4.1</td><td>10.7</td><td>  6.0</td><td> 42.0</td><td>2</td><td>2</td><td>2</td></tr>\n",
       "\t<tr><th scope=row>18</th><td>   0.200</td><td>   5.00</td><td> 9.5</td><td>1.2</td><td>10.7</td><td> 10.4</td><td>120.0</td><td>2</td><td>2</td><td>2</td></tr>\n",
       "\t<tr><th scope=row>22</th><td>  27.660</td><td> 115.00</td><td> 3.3</td><td>0.5</td><td> 3.8</td><td> 20.0</td><td>148.0</td><td>5</td><td>5</td><td>5</td></tr>\n",
       "\t<tr><th scope=row>23</th><td>   0.120</td><td>   1.00</td><td>11.0</td><td>3.4</td><td>14.4</td><td>  3.9</td><td> 16.0</td><td>3</td><td>1</td><td>2</td></tr>\n",
       "\t<tr><th scope=row>25</th><td>  85.000</td><td> 325.00</td><td> 4.7</td><td>1.5</td><td> 6.2</td><td> 41.0</td><td>310.0</td><td>1</td><td>3</td><td>1</td></tr>\n",
       "\t<tr><th scope=row>27</th><td>   0.101</td><td>   4.00</td><td>10.4</td><td>3.4</td><td>13.8</td><td>  9.0</td><td> 28.0</td><td>5</td><td>1</td><td>3</td></tr>\n",
       "\t<tr><th scope=row>28</th><td>   1.040</td><td>   5.50</td><td> 7.4</td><td>0.8</td><td> 8.2</td><td>  7.6</td><td> 68.0</td><td>5</td><td>3</td><td>4</td></tr>\n",
       "\t<tr><th scope=row>29</th><td> 521.000</td><td> 655.00</td><td> 2.1</td><td>0.8</td><td> 2.9</td><td> 46.0</td><td>336.0</td><td>5</td><td>5</td><td>5</td></tr>\n",
       "\t<tr><th scope=row>32</th><td>   0.005</td><td>   0.14</td><td> 7.7</td><td>1.4</td><td> 9.1</td><td>  2.6</td><td> 21.5</td><td>5</td><td>2</td><td>4</td></tr>\n",
       "\t<tr><th scope=row>33</th><td>   0.010</td><td>   0.25</td><td>17.9</td><td>2.0</td><td>19.9</td><td> 24.0</td><td> 50.0</td><td>1</td><td>1</td><td>1</td></tr>\n",
       "\t<tr><th scope=row>34</th><td>  62.000</td><td>1320.00</td><td> 6.1</td><td>1.9</td><td> 8.0</td><td>100.0</td><td>267.0</td><td>1</td><td>1</td><td>1</td></tr>\n",
       "\t<tr><th scope=row>37</th><td>   0.023</td><td>   0.40</td><td>11.9</td><td>1.3</td><td>13.2</td><td>  3.2</td><td> 19.0</td><td>4</td><td>1</td><td>3</td></tr>\n",
       "\t<tr><th scope=row>38</th><td>   0.048</td><td>   0.33</td><td>10.8</td><td>2.0</td><td>12.8</td><td>  2.0</td><td> 30.0</td><td>4</td><td>1</td><td>3</td></tr>\n",
       "\t<tr><th scope=row>39</th><td>   1.700</td><td>   6.30</td><td>13.8</td><td>5.6</td><td>19.4</td><td>  5.0</td><td> 12.0</td><td>2</td><td>1</td><td>1</td></tr>\n",
       "\t<tr><th scope=row>40</th><td>   3.500</td><td>  10.80</td><td>14.3</td><td>3.1</td><td>17.4</td><td>  6.5</td><td>120.0</td><td>2</td><td>1</td><td>1</td></tr>\n",
       "\t<tr><th scope=row>42</th><td>   0.480</td><td>  15.50</td><td>15.2</td><td>1.8</td><td>17.0</td><td> 12.0</td><td>140.0</td><td>2</td><td>2</td><td>2</td></tr>\n",
       "\t<tr><th scope=row>43</th><td>  10.000</td><td> 115.00</td><td>10.0</td><td>0.9</td><td>10.9</td><td> 20.2</td><td>170.0</td><td>4</td><td>4</td><td>4</td></tr>\n",
       "\t<tr><th scope=row>44</th><td>   1.620</td><td>  11.40</td><td>11.9</td><td>1.8</td><td>13.7</td><td> 13.0</td><td> 17.0</td><td>2</td><td>1</td><td>2</td></tr>\n",
       "\t<tr><th scope=row>45</th><td> 192.000</td><td> 180.00</td><td> 6.5</td><td>1.9</td><td> 8.4</td><td> 27.0</td><td>115.0</td><td>4</td><td>4</td><td>4</td></tr>\n",
       "\t<tr><th scope=row>46</th><td>   2.500</td><td>  12.10</td><td> 7.5</td><td>0.9</td><td> 8.4</td><td> 18.0</td><td> 31.0</td><td>5</td><td>5</td><td>5</td></tr>\n",
       "\t<tr><th scope=row>48</th><td>   0.280</td><td>   1.90</td><td>10.6</td><td>2.6</td><td>13.2</td><td>  4.7</td><td> 21.0</td><td>3</td><td>1</td><td>3</td></tr>\n",
       "\t<tr><th scope=row>49</th><td>   4.235</td><td>  50.40</td><td> 7.4</td><td>2.4</td><td> 9.8</td><td>  9.8</td><td> 52.0</td><td>1</td><td>1</td><td>1</td></tr>\n",
       "\t<tr><th scope=row>50</th><td>   6.800</td><td> 179.00</td><td> 8.4</td><td>1.2</td><td> 9.6</td><td> 29.0</td><td>164.0</td><td>2</td><td>3</td><td>2</td></tr>\n",
       "\t<tr><th scope=row>51</th><td>   0.750</td><td>  12.30</td><td> 5.7</td><td>0.9</td><td> 6.6</td><td>  7.0</td><td>225.0</td><td>2</td><td>2</td><td>2</td></tr>\n",
       "\t<tr><th scope=row>52</th><td>   3.600</td><td>  21.00</td><td> 4.9</td><td>0.5</td><td> 5.4</td><td>  6.0</td><td>225.0</td><td>3</td><td>2</td><td>3</td></tr>\n",
       "\t<tr><th scope=row>54</th><td>  55.500</td><td> 175.00</td><td> 3.2</td><td>0.6</td><td> 3.8</td><td> 20.0</td><td>151.0</td><td>5</td><td>5</td><td>5</td></tr>\n",
       "\t<tr><th scope=row>57</th><td>   0.900</td><td>   2.60</td><td>11.0</td><td>2.3</td><td>13.3</td><td>  4.5</td><td> 60.0</td><td>2</td><td>1</td><td>2</td></tr>\n",
       "\t<tr><th scope=row>58</th><td>   2.000</td><td>  12.30</td><td> 4.9</td><td>0.5</td><td> 5.4</td><td>  7.5</td><td>200.0</td><td>3</td><td>1</td><td>3</td></tr>\n",
       "\t<tr><th scope=row>59</th><td>   0.104</td><td>   2.50</td><td>13.2</td><td>2.6</td><td>15.8</td><td>  2.3</td><td> 46.0</td><td>3</td><td>2</td><td>2</td></tr>\n",
       "\t<tr><th scope=row>60</th><td>   4.190</td><td>  58.00</td><td> 9.7</td><td>0.6</td><td>10.3</td><td> 24.0</td><td>210.0</td><td>4</td><td>3</td><td>4</td></tr>\n",
       "\t<tr><th scope=row>61</th><td>   3.500</td><td>   3.90</td><td>12.8</td><td>6.6</td><td>19.4</td><td>  3.0</td><td> 14.0</td><td>2</td><td>1</td><td>1</td></tr>\n",
       "</tbody>\n",
       "</table>\n"
      ],
      "text/latex": [
       "A data.frame: 42 × 10\n",
       "\\begin{tabular}{r|llllllllll}\n",
       "  & BodyWgt & BrainWgt & NonD & Dream & Sleep & Span & Gest & Pred & Exp & Danger\\\\\n",
       "  & <dbl> & <dbl> & <dbl> & <dbl> & <dbl> & <dbl> & <dbl> & <int> & <int> & <int>\\\\\n",
       "\\hline\n",
       "\t2 &    1.000 &    6.60 &  6.3 & 2.0 &  8.3 &   4.5 &  42.0 & 3 & 1 & 3\\\\\n",
       "\t5 & 2547.000 & 4603.00 &  2.1 & 1.8 &  3.9 &  69.0 & 624.0 & 3 & 5 & 4\\\\\n",
       "\t6 &   10.550 &  179.50 &  9.1 & 0.7 &  9.8 &  27.0 & 180.0 & 4 & 4 & 4\\\\\n",
       "\t7 &    0.023 &    0.30 & 15.8 & 3.9 & 19.7 &  19.0 &  35.0 & 1 & 1 & 1\\\\\n",
       "\t8 &  160.000 &  169.00 &  5.2 & 1.0 &  6.2 &  30.4 & 392.0 & 4 & 5 & 4\\\\\n",
       "\t9 &    3.300 &   25.60 & 10.9 & 3.6 & 14.5 &  28.0 &  63.0 & 1 & 2 & 1\\\\\n",
       "\t10 &   52.160 &  440.00 &  8.3 & 1.4 &  9.7 &  50.0 & 230.0 & 1 & 1 & 1\\\\\n",
       "\t11 &    0.425 &    6.40 & 11.0 & 1.5 & 12.5 &   7.0 & 112.0 & 5 & 4 & 4\\\\\n",
       "\t12 &  465.000 &  423.00 &  3.2 & 0.7 &  3.9 &  30.0 & 281.0 & 5 & 5 & 5\\\\\n",
       "\t15 &    0.075 &    1.20 &  6.3 & 2.1 &  8.4 &   3.5 &  42.0 & 1 & 1 & 1\\\\\n",
       "\t16 &    3.000 &   25.00 &  8.6 & 0.0 &  8.6 &  50.0 &  28.0 & 2 & 2 & 2\\\\\n",
       "\t17 &    0.785 &    3.50 &  6.6 & 4.1 & 10.7 &   6.0 &  42.0 & 2 & 2 & 2\\\\\n",
       "\t18 &    0.200 &    5.00 &  9.5 & 1.2 & 10.7 &  10.4 & 120.0 & 2 & 2 & 2\\\\\n",
       "\t22 &   27.660 &  115.00 &  3.3 & 0.5 &  3.8 &  20.0 & 148.0 & 5 & 5 & 5\\\\\n",
       "\t23 &    0.120 &    1.00 & 11.0 & 3.4 & 14.4 &   3.9 &  16.0 & 3 & 1 & 2\\\\\n",
       "\t25 &   85.000 &  325.00 &  4.7 & 1.5 &  6.2 &  41.0 & 310.0 & 1 & 3 & 1\\\\\n",
       "\t27 &    0.101 &    4.00 & 10.4 & 3.4 & 13.8 &   9.0 &  28.0 & 5 & 1 & 3\\\\\n",
       "\t28 &    1.040 &    5.50 &  7.4 & 0.8 &  8.2 &   7.6 &  68.0 & 5 & 3 & 4\\\\\n",
       "\t29 &  521.000 &  655.00 &  2.1 & 0.8 &  2.9 &  46.0 & 336.0 & 5 & 5 & 5\\\\\n",
       "\t32 &    0.005 &    0.14 &  7.7 & 1.4 &  9.1 &   2.6 &  21.5 & 5 & 2 & 4\\\\\n",
       "\t33 &    0.010 &    0.25 & 17.9 & 2.0 & 19.9 &  24.0 &  50.0 & 1 & 1 & 1\\\\\n",
       "\t34 &   62.000 & 1320.00 &  6.1 & 1.9 &  8.0 & 100.0 & 267.0 & 1 & 1 & 1\\\\\n",
       "\t37 &    0.023 &    0.40 & 11.9 & 1.3 & 13.2 &   3.2 &  19.0 & 4 & 1 & 3\\\\\n",
       "\t38 &    0.048 &    0.33 & 10.8 & 2.0 & 12.8 &   2.0 &  30.0 & 4 & 1 & 3\\\\\n",
       "\t39 &    1.700 &    6.30 & 13.8 & 5.6 & 19.4 &   5.0 &  12.0 & 2 & 1 & 1\\\\\n",
       "\t40 &    3.500 &   10.80 & 14.3 & 3.1 & 17.4 &   6.5 & 120.0 & 2 & 1 & 1\\\\\n",
       "\t42 &    0.480 &   15.50 & 15.2 & 1.8 & 17.0 &  12.0 & 140.0 & 2 & 2 & 2\\\\\n",
       "\t43 &   10.000 &  115.00 & 10.0 & 0.9 & 10.9 &  20.2 & 170.0 & 4 & 4 & 4\\\\\n",
       "\t44 &    1.620 &   11.40 & 11.9 & 1.8 & 13.7 &  13.0 &  17.0 & 2 & 1 & 2\\\\\n",
       "\t45 &  192.000 &  180.00 &  6.5 & 1.9 &  8.4 &  27.0 & 115.0 & 4 & 4 & 4\\\\\n",
       "\t46 &    2.500 &   12.10 &  7.5 & 0.9 &  8.4 &  18.0 &  31.0 & 5 & 5 & 5\\\\\n",
       "\t48 &    0.280 &    1.90 & 10.6 & 2.6 & 13.2 &   4.7 &  21.0 & 3 & 1 & 3\\\\\n",
       "\t49 &    4.235 &   50.40 &  7.4 & 2.4 &  9.8 &   9.8 &  52.0 & 1 & 1 & 1\\\\\n",
       "\t50 &    6.800 &  179.00 &  8.4 & 1.2 &  9.6 &  29.0 & 164.0 & 2 & 3 & 2\\\\\n",
       "\t51 &    0.750 &   12.30 &  5.7 & 0.9 &  6.6 &   7.0 & 225.0 & 2 & 2 & 2\\\\\n",
       "\t52 &    3.600 &   21.00 &  4.9 & 0.5 &  5.4 &   6.0 & 225.0 & 3 & 2 & 3\\\\\n",
       "\t54 &   55.500 &  175.00 &  3.2 & 0.6 &  3.8 &  20.0 & 151.0 & 5 & 5 & 5\\\\\n",
       "\t57 &    0.900 &    2.60 & 11.0 & 2.3 & 13.3 &   4.5 &  60.0 & 2 & 1 & 2\\\\\n",
       "\t58 &    2.000 &   12.30 &  4.9 & 0.5 &  5.4 &   7.5 & 200.0 & 3 & 1 & 3\\\\\n",
       "\t59 &    0.104 &    2.50 & 13.2 & 2.6 & 15.8 &   2.3 &  46.0 & 3 & 2 & 2\\\\\n",
       "\t60 &    4.190 &   58.00 &  9.7 & 0.6 & 10.3 &  24.0 & 210.0 & 4 & 3 & 4\\\\\n",
       "\t61 &    3.500 &    3.90 & 12.8 & 6.6 & 19.4 &   3.0 &  14.0 & 2 & 1 & 1\\\\\n",
       "\\end{tabular}\n"
      ],
      "text/markdown": [
       "\n",
       "A data.frame: 42 × 10\n",
       "\n",
       "| <!--/--> | BodyWgt &lt;dbl&gt; | BrainWgt &lt;dbl&gt; | NonD &lt;dbl&gt; | Dream &lt;dbl&gt; | Sleep &lt;dbl&gt; | Span &lt;dbl&gt; | Gest &lt;dbl&gt; | Pred &lt;int&gt; | Exp &lt;int&gt; | Danger &lt;int&gt; |\n",
       "|---|---|---|---|---|---|---|---|---|---|---|\n",
       "| 2 |    1.000 |    6.60 |  6.3 | 2.0 |  8.3 |   4.5 |  42.0 | 3 | 1 | 3 |\n",
       "| 5 | 2547.000 | 4603.00 |  2.1 | 1.8 |  3.9 |  69.0 | 624.0 | 3 | 5 | 4 |\n",
       "| 6 |   10.550 |  179.50 |  9.1 | 0.7 |  9.8 |  27.0 | 180.0 | 4 | 4 | 4 |\n",
       "| 7 |    0.023 |    0.30 | 15.8 | 3.9 | 19.7 |  19.0 |  35.0 | 1 | 1 | 1 |\n",
       "| 8 |  160.000 |  169.00 |  5.2 | 1.0 |  6.2 |  30.4 | 392.0 | 4 | 5 | 4 |\n",
       "| 9 |    3.300 |   25.60 | 10.9 | 3.6 | 14.5 |  28.0 |  63.0 | 1 | 2 | 1 |\n",
       "| 10 |   52.160 |  440.00 |  8.3 | 1.4 |  9.7 |  50.0 | 230.0 | 1 | 1 | 1 |\n",
       "| 11 |    0.425 |    6.40 | 11.0 | 1.5 | 12.5 |   7.0 | 112.0 | 5 | 4 | 4 |\n",
       "| 12 |  465.000 |  423.00 |  3.2 | 0.7 |  3.9 |  30.0 | 281.0 | 5 | 5 | 5 |\n",
       "| 15 |    0.075 |    1.20 |  6.3 | 2.1 |  8.4 |   3.5 |  42.0 | 1 | 1 | 1 |\n",
       "| 16 |    3.000 |   25.00 |  8.6 | 0.0 |  8.6 |  50.0 |  28.0 | 2 | 2 | 2 |\n",
       "| 17 |    0.785 |    3.50 |  6.6 | 4.1 | 10.7 |   6.0 |  42.0 | 2 | 2 | 2 |\n",
       "| 18 |    0.200 |    5.00 |  9.5 | 1.2 | 10.7 |  10.4 | 120.0 | 2 | 2 | 2 |\n",
       "| 22 |   27.660 |  115.00 |  3.3 | 0.5 |  3.8 |  20.0 | 148.0 | 5 | 5 | 5 |\n",
       "| 23 |    0.120 |    1.00 | 11.0 | 3.4 | 14.4 |   3.9 |  16.0 | 3 | 1 | 2 |\n",
       "| 25 |   85.000 |  325.00 |  4.7 | 1.5 |  6.2 |  41.0 | 310.0 | 1 | 3 | 1 |\n",
       "| 27 |    0.101 |    4.00 | 10.4 | 3.4 | 13.8 |   9.0 |  28.0 | 5 | 1 | 3 |\n",
       "| 28 |    1.040 |    5.50 |  7.4 | 0.8 |  8.2 |   7.6 |  68.0 | 5 | 3 | 4 |\n",
       "| 29 |  521.000 |  655.00 |  2.1 | 0.8 |  2.9 |  46.0 | 336.0 | 5 | 5 | 5 |\n",
       "| 32 |    0.005 |    0.14 |  7.7 | 1.4 |  9.1 |   2.6 |  21.5 | 5 | 2 | 4 |\n",
       "| 33 |    0.010 |    0.25 | 17.9 | 2.0 | 19.9 |  24.0 |  50.0 | 1 | 1 | 1 |\n",
       "| 34 |   62.000 | 1320.00 |  6.1 | 1.9 |  8.0 | 100.0 | 267.0 | 1 | 1 | 1 |\n",
       "| 37 |    0.023 |    0.40 | 11.9 | 1.3 | 13.2 |   3.2 |  19.0 | 4 | 1 | 3 |\n",
       "| 38 |    0.048 |    0.33 | 10.8 | 2.0 | 12.8 |   2.0 |  30.0 | 4 | 1 | 3 |\n",
       "| 39 |    1.700 |    6.30 | 13.8 | 5.6 | 19.4 |   5.0 |  12.0 | 2 | 1 | 1 |\n",
       "| 40 |    3.500 |   10.80 | 14.3 | 3.1 | 17.4 |   6.5 | 120.0 | 2 | 1 | 1 |\n",
       "| 42 |    0.480 |   15.50 | 15.2 | 1.8 | 17.0 |  12.0 | 140.0 | 2 | 2 | 2 |\n",
       "| 43 |   10.000 |  115.00 | 10.0 | 0.9 | 10.9 |  20.2 | 170.0 | 4 | 4 | 4 |\n",
       "| 44 |    1.620 |   11.40 | 11.9 | 1.8 | 13.7 |  13.0 |  17.0 | 2 | 1 | 2 |\n",
       "| 45 |  192.000 |  180.00 |  6.5 | 1.9 |  8.4 |  27.0 | 115.0 | 4 | 4 | 4 |\n",
       "| 46 |    2.500 |   12.10 |  7.5 | 0.9 |  8.4 |  18.0 |  31.0 | 5 | 5 | 5 |\n",
       "| 48 |    0.280 |    1.90 | 10.6 | 2.6 | 13.2 |   4.7 |  21.0 | 3 | 1 | 3 |\n",
       "| 49 |    4.235 |   50.40 |  7.4 | 2.4 |  9.8 |   9.8 |  52.0 | 1 | 1 | 1 |\n",
       "| 50 |    6.800 |  179.00 |  8.4 | 1.2 |  9.6 |  29.0 | 164.0 | 2 | 3 | 2 |\n",
       "| 51 |    0.750 |   12.30 |  5.7 | 0.9 |  6.6 |   7.0 | 225.0 | 2 | 2 | 2 |\n",
       "| 52 |    3.600 |   21.00 |  4.9 | 0.5 |  5.4 |   6.0 | 225.0 | 3 | 2 | 3 |\n",
       "| 54 |   55.500 |  175.00 |  3.2 | 0.6 |  3.8 |  20.0 | 151.0 | 5 | 5 | 5 |\n",
       "| 57 |    0.900 |    2.60 | 11.0 | 2.3 | 13.3 |   4.5 |  60.0 | 2 | 1 | 2 |\n",
       "| 58 |    2.000 |   12.30 |  4.9 | 0.5 |  5.4 |   7.5 | 200.0 | 3 | 1 | 3 |\n",
       "| 59 |    0.104 |    2.50 | 13.2 | 2.6 | 15.8 |   2.3 |  46.0 | 3 | 2 | 2 |\n",
       "| 60 |    4.190 |   58.00 |  9.7 | 0.6 | 10.3 |  24.0 | 210.0 | 4 | 3 | 4 |\n",
       "| 61 |    3.500 |    3.90 | 12.8 | 6.6 | 19.4 |   3.0 |  14.0 | 2 | 1 | 1 |\n",
       "\n"
      ],
      "text/plain": [
       "   BodyWgt  BrainWgt NonD Dream Sleep Span  Gest  Pred Exp Danger\n",
       "2     1.000    6.60   6.3 2.0    8.3    4.5  42.0 3    1   3     \n",
       "5  2547.000 4603.00   2.1 1.8    3.9   69.0 624.0 3    5   4     \n",
       "6    10.550  179.50   9.1 0.7    9.8   27.0 180.0 4    4   4     \n",
       "7     0.023    0.30  15.8 3.9   19.7   19.0  35.0 1    1   1     \n",
       "8   160.000  169.00   5.2 1.0    6.2   30.4 392.0 4    5   4     \n",
       "9     3.300   25.60  10.9 3.6   14.5   28.0  63.0 1    2   1     \n",
       "10   52.160  440.00   8.3 1.4    9.7   50.0 230.0 1    1   1     \n",
       "11    0.425    6.40  11.0 1.5   12.5    7.0 112.0 5    4   4     \n",
       "12  465.000  423.00   3.2 0.7    3.9   30.0 281.0 5    5   5     \n",
       "15    0.075    1.20   6.3 2.1    8.4    3.5  42.0 1    1   1     \n",
       "16    3.000   25.00   8.6 0.0    8.6   50.0  28.0 2    2   2     \n",
       "17    0.785    3.50   6.6 4.1   10.7    6.0  42.0 2    2   2     \n",
       "18    0.200    5.00   9.5 1.2   10.7   10.4 120.0 2    2   2     \n",
       "22   27.660  115.00   3.3 0.5    3.8   20.0 148.0 5    5   5     \n",
       "23    0.120    1.00  11.0 3.4   14.4    3.9  16.0 3    1   2     \n",
       "25   85.000  325.00   4.7 1.5    6.2   41.0 310.0 1    3   1     \n",
       "27    0.101    4.00  10.4 3.4   13.8    9.0  28.0 5    1   3     \n",
       "28    1.040    5.50   7.4 0.8    8.2    7.6  68.0 5    3   4     \n",
       "29  521.000  655.00   2.1 0.8    2.9   46.0 336.0 5    5   5     \n",
       "32    0.005    0.14   7.7 1.4    9.1    2.6  21.5 5    2   4     \n",
       "33    0.010    0.25  17.9 2.0   19.9   24.0  50.0 1    1   1     \n",
       "34   62.000 1320.00   6.1 1.9    8.0  100.0 267.0 1    1   1     \n",
       "37    0.023    0.40  11.9 1.3   13.2    3.2  19.0 4    1   3     \n",
       "38    0.048    0.33  10.8 2.0   12.8    2.0  30.0 4    1   3     \n",
       "39    1.700    6.30  13.8 5.6   19.4    5.0  12.0 2    1   1     \n",
       "40    3.500   10.80  14.3 3.1   17.4    6.5 120.0 2    1   1     \n",
       "42    0.480   15.50  15.2 1.8   17.0   12.0 140.0 2    2   2     \n",
       "43   10.000  115.00  10.0 0.9   10.9   20.2 170.0 4    4   4     \n",
       "44    1.620   11.40  11.9 1.8   13.7   13.0  17.0 2    1   2     \n",
       "45  192.000  180.00   6.5 1.9    8.4   27.0 115.0 4    4   4     \n",
       "46    2.500   12.10   7.5 0.9    8.4   18.0  31.0 5    5   5     \n",
       "48    0.280    1.90  10.6 2.6   13.2    4.7  21.0 3    1   3     \n",
       "49    4.235   50.40   7.4 2.4    9.8    9.8  52.0 1    1   1     \n",
       "50    6.800  179.00   8.4 1.2    9.6   29.0 164.0 2    3   2     \n",
       "51    0.750   12.30   5.7 0.9    6.6    7.0 225.0 2    2   2     \n",
       "52    3.600   21.00   4.9 0.5    5.4    6.0 225.0 3    2   3     \n",
       "54   55.500  175.00   3.2 0.6    3.8   20.0 151.0 5    5   5     \n",
       "57    0.900    2.60  11.0 2.3   13.3    4.5  60.0 2    1   2     \n",
       "58    2.000   12.30   4.9 0.5    5.4    7.5 200.0 3    1   3     \n",
       "59    0.104    2.50  13.2 2.6   15.8    2.3  46.0 3    2   2     \n",
       "60    4.190   58.00   9.7 0.6   10.3   24.0 210.0 4    3   4     \n",
       "61    3.500    3.90  12.8 6.6   19.4    3.0  14.0 2    1   1     "
      ]
     },
     "metadata": {},
     "output_type": "display_data"
    },
    {
     "data": {
      "text/html": [
       "<table class=\"dataframe\">\n",
       "<caption>A data.frame: 20 × 10</caption>\n",
       "<thead>\n",
       "\t<tr><th></th><th scope=col>BodyWgt</th><th scope=col>BrainWgt</th><th scope=col>NonD</th><th scope=col>Dream</th><th scope=col>Sleep</th><th scope=col>Span</th><th scope=col>Gest</th><th scope=col>Pred</th><th scope=col>Exp</th><th scope=col>Danger</th></tr>\n",
       "\t<tr><th></th><th scope=col>&lt;dbl&gt;</th><th scope=col>&lt;dbl&gt;</th><th scope=col>&lt;dbl&gt;</th><th scope=col>&lt;dbl&gt;</th><th scope=col>&lt;dbl&gt;</th><th scope=col>&lt;dbl&gt;</th><th scope=col>&lt;dbl&gt;</th><th scope=col>&lt;int&gt;</th><th scope=col>&lt;int&gt;</th><th scope=col>&lt;int&gt;</th></tr>\n",
       "</thead>\n",
       "<tbody>\n",
       "\t<tr><th scope=row>1</th><td>6654.000</td><td>5712.0</td><td>  NA</td><td> NA</td><td> 3.3</td><td>38.6</td><td>645</td><td>3</td><td>5</td><td>3</td></tr>\n",
       "\t<tr><th scope=row>3</th><td>   3.385</td><td>  44.5</td><td>  NA</td><td> NA</td><td>12.5</td><td>14.0</td><td> 60</td><td>1</td><td>1</td><td>1</td></tr>\n",
       "\t<tr><th scope=row>4</th><td>   0.920</td><td>   5.7</td><td>  NA</td><td> NA</td><td>16.5</td><td>  NA</td><td> 25</td><td>5</td><td>2</td><td>3</td></tr>\n",
       "\t<tr><th scope=row>13</th><td>   0.550</td><td>   2.4</td><td> 7.6</td><td>2.7</td><td>10.3</td><td>  NA</td><td> NA</td><td>2</td><td>1</td><td>2</td></tr>\n",
       "\t<tr><th scope=row>14</th><td> 187.100</td><td> 419.0</td><td>  NA</td><td> NA</td><td> 3.1</td><td>40.0</td><td>365</td><td>5</td><td>5</td><td>5</td></tr>\n",
       "\t<tr><th scope=row>19</th><td>   1.410</td><td>  17.5</td><td> 4.8</td><td>1.3</td><td> 6.1</td><td>34.0</td><td> NA</td><td>1</td><td>2</td><td>1</td></tr>\n",
       "\t<tr><th scope=row>20</th><td>  60.000</td><td>  81.0</td><td>12.0</td><td>6.1</td><td>18.1</td><td> 7.0</td><td> NA</td><td>1</td><td>1</td><td>1</td></tr>\n",
       "\t<tr><th scope=row>21</th><td> 529.000</td><td> 680.0</td><td>  NA</td><td>0.3</td><td>  NA</td><td>28.0</td><td>400</td><td>5</td><td>5</td><td>5</td></tr>\n",
       "\t<tr><th scope=row>24</th><td> 207.000</td><td> 406.0</td><td>  NA</td><td> NA</td><td>12.0</td><td>39.3</td><td>252</td><td>1</td><td>4</td><td>1</td></tr>\n",
       "\t<tr><th scope=row>26</th><td>  36.330</td><td> 119.5</td><td>  NA</td><td> NA</td><td>13.0</td><td>16.2</td><td> 63</td><td>1</td><td>1</td><td>1</td></tr>\n",
       "\t<tr><th scope=row>30</th><td> 100.000</td><td> 157.0</td><td>  NA</td><td> NA</td><td>10.8</td><td>22.4</td><td>100</td><td>1</td><td>1</td><td>1</td></tr>\n",
       "\t<tr><th scope=row>31</th><td>  35.000</td><td>  56.0</td><td>  NA</td><td> NA</td><td>  NA</td><td>16.3</td><td> 33</td><td>3</td><td>5</td><td>4</td></tr>\n",
       "\t<tr><th scope=row>35</th><td>   0.122</td><td>   3.0</td><td> 8.2</td><td>2.4</td><td>10.6</td><td>  NA</td><td> 30</td><td>2</td><td>1</td><td>1</td></tr>\n",
       "\t<tr><th scope=row>36</th><td>   1.350</td><td>   8.1</td><td> 8.4</td><td>2.8</td><td>11.2</td><td>  NA</td><td> 45</td><td>3</td><td>1</td><td>3</td></tr>\n",
       "\t<tr><th scope=row>41</th><td> 250.000</td><td> 490.0</td><td>  NA</td><td>1.0</td><td>  NA</td><td>23.6</td><td>440</td><td>5</td><td>5</td><td>5</td></tr>\n",
       "\t<tr><th scope=row>47</th><td>   4.288</td><td>  39.2</td><td>  NA</td><td> NA</td><td>12.5</td><td>13.7</td><td> 63</td><td>2</td><td>2</td><td>2</td></tr>\n",
       "\t<tr><th scope=row>53</th><td>  14.830</td><td>  98.2</td><td>  NA</td><td> NA</td><td> 2.6</td><td>17.0</td><td>150</td><td>5</td><td>5</td><td>5</td></tr>\n",
       "\t<tr><th scope=row>55</th><td>   1.400</td><td>  12.5</td><td>  NA</td><td> NA</td><td>11.0</td><td>12.7</td><td> 90</td><td>2</td><td>2</td><td>2</td></tr>\n",
       "\t<tr><th scope=row>56</th><td>   0.060</td><td>   1.0</td><td> 8.1</td><td>2.2</td><td>10.3</td><td> 3.5</td><td> NA</td><td>3</td><td>1</td><td>2</td></tr>\n",
       "\t<tr><th scope=row>62</th><td>   4.050</td><td>  17.0</td><td>  NA</td><td> NA</td><td>  NA</td><td>13.0</td><td> 38</td><td>3</td><td>1</td><td>1</td></tr>\n",
       "</tbody>\n",
       "</table>\n"
      ],
      "text/latex": [
       "A data.frame: 20 × 10\n",
       "\\begin{tabular}{r|llllllllll}\n",
       "  & BodyWgt & BrainWgt & NonD & Dream & Sleep & Span & Gest & Pred & Exp & Danger\\\\\n",
       "  & <dbl> & <dbl> & <dbl> & <dbl> & <dbl> & <dbl> & <dbl> & <int> & <int> & <int>\\\\\n",
       "\\hline\n",
       "\t1 & 6654.000 & 5712.0 &   NA &  NA &  3.3 & 38.6 & 645 & 3 & 5 & 3\\\\\n",
       "\t3 &    3.385 &   44.5 &   NA &  NA & 12.5 & 14.0 &  60 & 1 & 1 & 1\\\\\n",
       "\t4 &    0.920 &    5.7 &   NA &  NA & 16.5 &   NA &  25 & 5 & 2 & 3\\\\\n",
       "\t13 &    0.550 &    2.4 &  7.6 & 2.7 & 10.3 &   NA &  NA & 2 & 1 & 2\\\\\n",
       "\t14 &  187.100 &  419.0 &   NA &  NA &  3.1 & 40.0 & 365 & 5 & 5 & 5\\\\\n",
       "\t19 &    1.410 &   17.5 &  4.8 & 1.3 &  6.1 & 34.0 &  NA & 1 & 2 & 1\\\\\n",
       "\t20 &   60.000 &   81.0 & 12.0 & 6.1 & 18.1 &  7.0 &  NA & 1 & 1 & 1\\\\\n",
       "\t21 &  529.000 &  680.0 &   NA & 0.3 &   NA & 28.0 & 400 & 5 & 5 & 5\\\\\n",
       "\t24 &  207.000 &  406.0 &   NA &  NA & 12.0 & 39.3 & 252 & 1 & 4 & 1\\\\\n",
       "\t26 &   36.330 &  119.5 &   NA &  NA & 13.0 & 16.2 &  63 & 1 & 1 & 1\\\\\n",
       "\t30 &  100.000 &  157.0 &   NA &  NA & 10.8 & 22.4 & 100 & 1 & 1 & 1\\\\\n",
       "\t31 &   35.000 &   56.0 &   NA &  NA &   NA & 16.3 &  33 & 3 & 5 & 4\\\\\n",
       "\t35 &    0.122 &    3.0 &  8.2 & 2.4 & 10.6 &   NA &  30 & 2 & 1 & 1\\\\\n",
       "\t36 &    1.350 &    8.1 &  8.4 & 2.8 & 11.2 &   NA &  45 & 3 & 1 & 3\\\\\n",
       "\t41 &  250.000 &  490.0 &   NA & 1.0 &   NA & 23.6 & 440 & 5 & 5 & 5\\\\\n",
       "\t47 &    4.288 &   39.2 &   NA &  NA & 12.5 & 13.7 &  63 & 2 & 2 & 2\\\\\n",
       "\t53 &   14.830 &   98.2 &   NA &  NA &  2.6 & 17.0 & 150 & 5 & 5 & 5\\\\\n",
       "\t55 &    1.400 &   12.5 &   NA &  NA & 11.0 & 12.7 &  90 & 2 & 2 & 2\\\\\n",
       "\t56 &    0.060 &    1.0 &  8.1 & 2.2 & 10.3 &  3.5 &  NA & 3 & 1 & 2\\\\\n",
       "\t62 &    4.050 &   17.0 &   NA &  NA &   NA & 13.0 &  38 & 3 & 1 & 1\\\\\n",
       "\\end{tabular}\n"
      ],
      "text/markdown": [
       "\n",
       "A data.frame: 20 × 10\n",
       "\n",
       "| <!--/--> | BodyWgt &lt;dbl&gt; | BrainWgt &lt;dbl&gt; | NonD &lt;dbl&gt; | Dream &lt;dbl&gt; | Sleep &lt;dbl&gt; | Span &lt;dbl&gt; | Gest &lt;dbl&gt; | Pred &lt;int&gt; | Exp &lt;int&gt; | Danger &lt;int&gt; |\n",
       "|---|---|---|---|---|---|---|---|---|---|---|\n",
       "| 1 | 6654.000 | 5712.0 |   NA |  NA |  3.3 | 38.6 | 645 | 3 | 5 | 3 |\n",
       "| 3 |    3.385 |   44.5 |   NA |  NA | 12.5 | 14.0 |  60 | 1 | 1 | 1 |\n",
       "| 4 |    0.920 |    5.7 |   NA |  NA | 16.5 |   NA |  25 | 5 | 2 | 3 |\n",
       "| 13 |    0.550 |    2.4 |  7.6 | 2.7 | 10.3 |   NA |  NA | 2 | 1 | 2 |\n",
       "| 14 |  187.100 |  419.0 |   NA |  NA |  3.1 | 40.0 | 365 | 5 | 5 | 5 |\n",
       "| 19 |    1.410 |   17.5 |  4.8 | 1.3 |  6.1 | 34.0 |  NA | 1 | 2 | 1 |\n",
       "| 20 |   60.000 |   81.0 | 12.0 | 6.1 | 18.1 |  7.0 |  NA | 1 | 1 | 1 |\n",
       "| 21 |  529.000 |  680.0 |   NA | 0.3 |   NA | 28.0 | 400 | 5 | 5 | 5 |\n",
       "| 24 |  207.000 |  406.0 |   NA |  NA | 12.0 | 39.3 | 252 | 1 | 4 | 1 |\n",
       "| 26 |   36.330 |  119.5 |   NA |  NA | 13.0 | 16.2 |  63 | 1 | 1 | 1 |\n",
       "| 30 |  100.000 |  157.0 |   NA |  NA | 10.8 | 22.4 | 100 | 1 | 1 | 1 |\n",
       "| 31 |   35.000 |   56.0 |   NA |  NA |   NA | 16.3 |  33 | 3 | 5 | 4 |\n",
       "| 35 |    0.122 |    3.0 |  8.2 | 2.4 | 10.6 |   NA |  30 | 2 | 1 | 1 |\n",
       "| 36 |    1.350 |    8.1 |  8.4 | 2.8 | 11.2 |   NA |  45 | 3 | 1 | 3 |\n",
       "| 41 |  250.000 |  490.0 |   NA | 1.0 |   NA | 23.6 | 440 | 5 | 5 | 5 |\n",
       "| 47 |    4.288 |   39.2 |   NA |  NA | 12.5 | 13.7 |  63 | 2 | 2 | 2 |\n",
       "| 53 |   14.830 |   98.2 |   NA |  NA |  2.6 | 17.0 | 150 | 5 | 5 | 5 |\n",
       "| 55 |    1.400 |   12.5 |   NA |  NA | 11.0 | 12.7 |  90 | 2 | 2 | 2 |\n",
       "| 56 |    0.060 |    1.0 |  8.1 | 2.2 | 10.3 |  3.5 |  NA | 3 | 1 | 2 |\n",
       "| 62 |    4.050 |   17.0 |   NA |  NA |   NA | 13.0 |  38 | 3 | 1 | 1 |\n",
       "\n"
      ],
      "text/plain": [
       "   BodyWgt  BrainWgt NonD Dream Sleep Span Gest Pred Exp Danger\n",
       "1  6654.000 5712.0     NA  NA    3.3  38.6 645  3    5   3     \n",
       "3     3.385   44.5     NA  NA   12.5  14.0  60  1    1   1     \n",
       "4     0.920    5.7     NA  NA   16.5    NA  25  5    2   3     \n",
       "13    0.550    2.4    7.6 2.7   10.3    NA  NA  2    1   2     \n",
       "14  187.100  419.0     NA  NA    3.1  40.0 365  5    5   5     \n",
       "19    1.410   17.5    4.8 1.3    6.1  34.0  NA  1    2   1     \n",
       "20   60.000   81.0   12.0 6.1   18.1   7.0  NA  1    1   1     \n",
       "21  529.000  680.0     NA 0.3     NA  28.0 400  5    5   5     \n",
       "24  207.000  406.0     NA  NA   12.0  39.3 252  1    4   1     \n",
       "26   36.330  119.5     NA  NA   13.0  16.2  63  1    1   1     \n",
       "30  100.000  157.0     NA  NA   10.8  22.4 100  1    1   1     \n",
       "31   35.000   56.0     NA  NA     NA  16.3  33  3    5   4     \n",
       "35    0.122    3.0    8.2 2.4   10.6    NA  30  2    1   1     \n",
       "36    1.350    8.1    8.4 2.8   11.2    NA  45  3    1   3     \n",
       "41  250.000  490.0     NA 1.0     NA  23.6 440  5    5   5     \n",
       "47    4.288   39.2     NA  NA   12.5  13.7  63  2    2   2     \n",
       "53   14.830   98.2     NA  NA    2.6  17.0 150  5    5   5     \n",
       "55    1.400   12.5     NA  NA   11.0  12.7  90  2    2   2     \n",
       "56    0.060    1.0    8.1 2.2   10.3   3.5  NA  3    1   2     \n",
       "62    4.050   17.0     NA  NA     NA  13.0  38  3    1   1     "
      ]
     },
     "metadata": {},
     "output_type": "display_data"
    }
   ],
   "source": [
    "# 加载数据集\n",
    "data(sleep, package=\"VIM\")\n",
    "# 列出没有缺失值的行\n",
    "sleep[complete.cases(sleep),]\n",
    "# 列出有缺失值的行\n",
    "sleep[!complete.cases(sleep),]"
   ]
  },
  {
   "cell_type": "code",
   "execution_count": 7,
   "metadata": {
    "vscode": {
     "languageId": "r"
    }
   },
   "outputs": [
    {
     "data": {
      "text/html": [
       "12"
      ],
      "text/latex": [
       "12"
      ],
      "text/markdown": [
       "12"
      ],
      "text/plain": [
       "[1] 12"
      ]
     },
     "metadata": {},
     "output_type": "display_data"
    },
    {
     "data": {
      "text/html": [
       "0.193548387096774"
      ],
      "text/latex": [
       "0.193548387096774"
      ],
      "text/markdown": [
       "0.193548387096774"
      ],
      "text/plain": [
       "[1] 0.1935484"
      ]
     },
     "metadata": {},
     "output_type": "display_data"
    },
    {
     "data": {
      "text/html": [
       "0.32258064516129"
      ],
      "text/latex": [
       "0.32258064516129"
      ],
      "text/markdown": [
       "0.32258064516129"
      ],
      "text/plain": [
       "[1] 0.3225806"
      ]
     },
     "metadata": {},
     "output_type": "display_data"
    }
   ],
   "source": [
    "sum(is.na(sleep$Dream))\n",
    "\n",
    "mean(is.na(sleep$Dream))\n",
    "\n",
    "mean(!complete.cases(sleep))"
   ]
  },
  {
   "cell_type": "markdown",
   "metadata": {},
   "source": [
    "# 探索缺失值模式"
   ]
  },
  {
   "cell_type": "markdown",
   "metadata": {},
   "source": [
    "## 列表显示缺失值"
   ]
  },
  {
   "cell_type": "code",
   "execution_count": 8,
   "metadata": {
    "vscode": {
     "languageId": "r"
    }
   },
   "outputs": [
    {
     "name": "stderr",
     "output_type": "stream",
     "text": [
      "\n",
      "Attaching package: 'mice'\n",
      "\n",
      "\n",
      "The following object is masked from 'package:stats':\n",
      "\n",
      "    filter\n",
      "\n",
      "\n",
      "The following objects are masked from 'package:base':\n",
      "\n",
      "    cbind, rbind\n",
      "\n",
      "\n"
     ]
    },
    {
     "data": {
      "text/html": [
       "<table class=\"dataframe\">\n",
       "<caption>A matrix: 9 × 11 of type dbl</caption>\n",
       "<thead>\n",
       "\t<tr><th></th><th scope=col>BodyWgt</th><th scope=col>BrainWgt</th><th scope=col>Pred</th><th scope=col>Exp</th><th scope=col>Danger</th><th scope=col>Sleep</th><th scope=col>Span</th><th scope=col>Gest</th><th scope=col>Dream</th><th scope=col>NonD</th><th scope=col></th></tr>\n",
       "</thead>\n",
       "<tbody>\n",
       "\t<tr><th scope=row>42</th><td>1</td><td>1</td><td>1</td><td>1</td><td>1</td><td>1</td><td>1</td><td>1</td><td> 1</td><td> 1</td><td> 0</td></tr>\n",
       "\t<tr><th scope=row>9</th><td>1</td><td>1</td><td>1</td><td>1</td><td>1</td><td>1</td><td>1</td><td>1</td><td> 0</td><td> 0</td><td> 2</td></tr>\n",
       "\t<tr><th scope=row>3</th><td>1</td><td>1</td><td>1</td><td>1</td><td>1</td><td>1</td><td>1</td><td>0</td><td> 1</td><td> 1</td><td> 1</td></tr>\n",
       "\t<tr><th scope=row>2</th><td>1</td><td>1</td><td>1</td><td>1</td><td>1</td><td>1</td><td>0</td><td>1</td><td> 1</td><td> 1</td><td> 1</td></tr>\n",
       "\t<tr><th scope=row>1</th><td>1</td><td>1</td><td>1</td><td>1</td><td>1</td><td>1</td><td>0</td><td>1</td><td> 0</td><td> 0</td><td> 3</td></tr>\n",
       "\t<tr><th scope=row>1</th><td>1</td><td>1</td><td>1</td><td>1</td><td>1</td><td>1</td><td>0</td><td>0</td><td> 1</td><td> 1</td><td> 2</td></tr>\n",
       "\t<tr><th scope=row>2</th><td>1</td><td>1</td><td>1</td><td>1</td><td>1</td><td>0</td><td>1</td><td>1</td><td> 1</td><td> 0</td><td> 2</td></tr>\n",
       "\t<tr><th scope=row>2</th><td>1</td><td>1</td><td>1</td><td>1</td><td>1</td><td>0</td><td>1</td><td>1</td><td> 0</td><td> 0</td><td> 3</td></tr>\n",
       "\t<tr><th scope=row></th><td>0</td><td>0</td><td>0</td><td>0</td><td>0</td><td>4</td><td>4</td><td>4</td><td>12</td><td>14</td><td>38</td></tr>\n",
       "</tbody>\n",
       "</table>\n"
      ],
      "text/latex": [
       "A matrix: 9 × 11 of type dbl\n",
       "\\begin{tabular}{r|lllllllllll}\n",
       "  & BodyWgt & BrainWgt & Pred & Exp & Danger & Sleep & Span & Gest & Dream & NonD & \\\\\n",
       "\\hline\n",
       "\t42 & 1 & 1 & 1 & 1 & 1 & 1 & 1 & 1 &  1 &  1 &  0\\\\\n",
       "\t9 & 1 & 1 & 1 & 1 & 1 & 1 & 1 & 1 &  0 &  0 &  2\\\\\n",
       "\t3 & 1 & 1 & 1 & 1 & 1 & 1 & 1 & 0 &  1 &  1 &  1\\\\\n",
       "\t2 & 1 & 1 & 1 & 1 & 1 & 1 & 0 & 1 &  1 &  1 &  1\\\\\n",
       "\t1 & 1 & 1 & 1 & 1 & 1 & 1 & 0 & 1 &  0 &  0 &  3\\\\\n",
       "\t1 & 1 & 1 & 1 & 1 & 1 & 1 & 0 & 0 &  1 &  1 &  2\\\\\n",
       "\t2 & 1 & 1 & 1 & 1 & 1 & 0 & 1 & 1 &  1 &  0 &  2\\\\\n",
       "\t2 & 1 & 1 & 1 & 1 & 1 & 0 & 1 & 1 &  0 &  0 &  3\\\\\n",
       "\t & 0 & 0 & 0 & 0 & 0 & 4 & 4 & 4 & 12 & 14 & 38\\\\\n",
       "\\end{tabular}\n"
      ],
      "text/markdown": [
       "\n",
       "A matrix: 9 × 11 of type dbl\n",
       "\n",
       "| <!--/--> | BodyWgt | BrainWgt | Pred | Exp | Danger | Sleep | Span | Gest | Dream | NonD | <!----> |\n",
       "|---|---|---|---|---|---|---|---|---|---|---|---|\n",
       "| 42 | 1 | 1 | 1 | 1 | 1 | 1 | 1 | 1 |  1 |  1 |  0 |\n",
       "| 9 | 1 | 1 | 1 | 1 | 1 | 1 | 1 | 1 |  0 |  0 |  2 |\n",
       "| 3 | 1 | 1 | 1 | 1 | 1 | 1 | 1 | 0 |  1 |  1 |  1 |\n",
       "| 2 | 1 | 1 | 1 | 1 | 1 | 1 | 0 | 1 |  1 |  1 |  1 |\n",
       "| 1 | 1 | 1 | 1 | 1 | 1 | 1 | 0 | 1 |  0 |  0 |  3 |\n",
       "| 1 | 1 | 1 | 1 | 1 | 1 | 1 | 0 | 0 |  1 |  1 |  2 |\n",
       "| 2 | 1 | 1 | 1 | 1 | 1 | 0 | 1 | 1 |  1 |  0 |  2 |\n",
       "| 2 | 1 | 1 | 1 | 1 | 1 | 0 | 1 | 1 |  0 |  0 |  3 |\n",
       "| <!----> | 0 | 0 | 0 | 0 | 0 | 4 | 4 | 4 | 12 | 14 | 38 |\n",
       "\n"
      ],
      "text/plain": [
       "   BodyWgt BrainWgt Pred Exp Danger Sleep Span Gest Dream NonD   \n",
       "42 1       1        1    1   1      1     1    1     1     1    0\n",
       "9  1       1        1    1   1      1     1    1     0     0    2\n",
       "3  1       1        1    1   1      1     1    0     1     1    1\n",
       "2  1       1        1    1   1      1     0    1     1     1    1\n",
       "1  1       1        1    1   1      1     0    1     0     0    3\n",
       "1  1       1        1    1   1      1     0    0     1     1    2\n",
       "2  1       1        1    1   1      0     1    1     1     0    2\n",
       "2  1       1        1    1   1      0     1    1     0     0    3\n",
       "   0       0        0    0   0      4     4    4    12    14   38"
      ]
     },
     "metadata": {},
     "output_type": "display_data"
    },
    {
     "data": {
      "image/png": "[encoded data removed]",
      "text/plain": [
       "plot without title"
      ]
     },
     "metadata": {
      "image/png": {
       "height": 420,
       "width": 420
      }
     },
     "output_type": "display_data"
    }
   ],
   "source": [
    "library(mice)\n",
    "data(sleep, package=\"VIM\")\n",
    "md.pattern(sleep)"
   ]
  },
  {
   "cell_type": "markdown",
   "metadata": {},
   "source": [
    "## 图形探究缺失数据"
   ]
  },
  {
   "cell_type": "code",
   "execution_count": null,
   "metadata": {
    "vscode": {
     "languageId": "r"
    }
   },
   "outputs": [
    {
     "ename": "ERROR",
     "evalue": "Error in library(VIM): there is no package called 'VIM'\n",
     "output_type": "error",
     "traceback": [
      "Error in library(VIM): there is no package called 'VIM'\nTraceback:\n",
      "1. stop(packageNotFoundError(package, lib.loc, sys.call()))"
     ]
    }
   ],
   "source": [
    "\n",
    "library(VIM)\n",
    "aggr(sleep, prop=FALSE, numbers=TRUE)"
   ]
  },
  {
   "cell_type": "code",
   "execution_count": 10,
   "metadata": {
    "vscode": {
     "languageId": "r"
    }
   },
   "outputs": [
    {
     "data": {
      "image/png": "[encoded data removed]",
      "text/plain": [
       "plot without title"
      ]
     },
     "metadata": {
      "image/png": {
       "height": 420,
       "width": 420
      }
     },
     "output_type": "display_data"
    }
   ],
   "source": [
    "matrixplot(sleep)"
   ]
  },
  {
   "cell_type": "code",
   "execution_count": 11,
   "metadata": {
    "vscode": {
     "languageId": "r"
    }
   },
   "outputs": [
    {
     "data": {
      "image/png": "[encoded data removed]",
      "text/plain": [
       "plot without title"
      ]
     },
     "metadata": {
      "image/png": {
       "height": 420,
       "width": 420
      }
     },
     "output_type": "display_data"
    }
   ],
   "source": [
    "marginplot(\n",
    "    x = sleep[c(\"Gest\", \"Dream\")],\n",
    "    pch=c(20),\n",
    "    col=c(\"darkgrey\", \"red\", \"blue\")\n",
    ")"
   ]
  },
  {
   "cell_type": "markdown",
   "metadata": {},
   "source": [
    "## 用相关性探索缺失值"
   ]
  },
  {
   "cell_type": "code",
   "execution_count": 13,
   "metadata": {
    "vscode": {
     "languageId": "r"
    }
   },
   "outputs": [
    {
     "data": {
      "text/html": [
       "<table class=\"dataframe\">\n",
       "<caption>A data.frame: 5 × 10</caption>\n",
       "<thead>\n",
       "\t<tr><th></th><th scope=col>BodyWgt</th><th scope=col>BrainWgt</th><th scope=col>NonD</th><th scope=col>Dream</th><th scope=col>Sleep</th><th scope=col>Span</th><th scope=col>Gest</th><th scope=col>Pred</th><th scope=col>Exp</th><th scope=col>Danger</th></tr>\n",
       "\t<tr><th></th><th scope=col>&lt;dbl&gt;</th><th scope=col>&lt;dbl&gt;</th><th scope=col>&lt;dbl&gt;</th><th scope=col>&lt;dbl&gt;</th><th scope=col>&lt;dbl&gt;</th><th scope=col>&lt;dbl&gt;</th><th scope=col>&lt;dbl&gt;</th><th scope=col>&lt;int&gt;</th><th scope=col>&lt;int&gt;</th><th scope=col>&lt;int&gt;</th></tr>\n",
       "</thead>\n",
       "<tbody>\n",
       "\t<tr><th scope=row>1</th><td>6654.000</td><td>5712.0</td><td> NA</td><td> NA</td><td> 3.3</td><td>38.6</td><td>645</td><td>3</td><td>5</td><td>3</td></tr>\n",
       "\t<tr><th scope=row>2</th><td>   1.000</td><td>   6.6</td><td>6.3</td><td>2.0</td><td> 8.3</td><td> 4.5</td><td> 42</td><td>3</td><td>1</td><td>3</td></tr>\n",
       "\t<tr><th scope=row>3</th><td>   3.385</td><td>  44.5</td><td> NA</td><td> NA</td><td>12.5</td><td>14.0</td><td> 60</td><td>1</td><td>1</td><td>1</td></tr>\n",
       "\t<tr><th scope=row>4</th><td>   0.920</td><td>   5.7</td><td> NA</td><td> NA</td><td>16.5</td><td>  NA</td><td> 25</td><td>5</td><td>2</td><td>3</td></tr>\n",
       "\t<tr><th scope=row>5</th><td>2547.000</td><td>4603.0</td><td>2.1</td><td>1.8</td><td> 3.9</td><td>69.0</td><td>624</td><td>3</td><td>5</td><td>4</td></tr>\n",
       "</tbody>\n",
       "</table>\n"
      ],
      "text/latex": [
       "A data.frame: 5 × 10\n",
       "\\begin{tabular}{r|llllllllll}\n",
       "  & BodyWgt & BrainWgt & NonD & Dream & Sleep & Span & Gest & Pred & Exp & Danger\\\\\n",
       "  & <dbl> & <dbl> & <dbl> & <dbl> & <dbl> & <dbl> & <dbl> & <int> & <int> & <int>\\\\\n",
       "\\hline\n",
       "\t1 & 6654.000 & 5712.0 &  NA &  NA &  3.3 & 38.6 & 645 & 3 & 5 & 3\\\\\n",
       "\t2 &    1.000 &    6.6 & 6.3 & 2.0 &  8.3 &  4.5 &  42 & 3 & 1 & 3\\\\\n",
       "\t3 &    3.385 &   44.5 &  NA &  NA & 12.5 & 14.0 &  60 & 1 & 1 & 1\\\\\n",
       "\t4 &    0.920 &    5.7 &  NA &  NA & 16.5 &   NA &  25 & 5 & 2 & 3\\\\\n",
       "\t5 & 2547.000 & 4603.0 & 2.1 & 1.8 &  3.9 & 69.0 & 624 & 3 & 5 & 4\\\\\n",
       "\\end{tabular}\n"
      ],
      "text/markdown": [
       "\n",
       "A data.frame: 5 × 10\n",
       "\n",
       "| <!--/--> | BodyWgt &lt;dbl&gt; | BrainWgt &lt;dbl&gt; | NonD &lt;dbl&gt; | Dream &lt;dbl&gt; | Sleep &lt;dbl&gt; | Span &lt;dbl&gt; | Gest &lt;dbl&gt; | Pred &lt;int&gt; | Exp &lt;int&gt; | Danger &lt;int&gt; |\n",
       "|---|---|---|---|---|---|---|---|---|---|---|\n",
       "| 1 | 6654.000 | 5712.0 |  NA |  NA |  3.3 | 38.6 | 645 | 3 | 5 | 3 |\n",
       "| 2 |    1.000 |    6.6 | 6.3 | 2.0 |  8.3 |  4.5 |  42 | 3 | 1 | 3 |\n",
       "| 3 |    3.385 |   44.5 |  NA |  NA | 12.5 | 14.0 |  60 | 1 | 1 | 1 |\n",
       "| 4 |    0.920 |    5.7 |  NA |  NA | 16.5 |   NA |  25 | 5 | 2 | 3 |\n",
       "| 5 | 2547.000 | 4603.0 | 2.1 | 1.8 |  3.9 | 69.0 | 624 | 3 | 5 | 4 |\n",
       "\n"
      ],
      "text/plain": [
       "  BodyWgt  BrainWgt NonD Dream Sleep Span Gest Pred Exp Danger\n",
       "1 6654.000 5712.0    NA   NA    3.3  38.6 645  3    5   3     \n",
       "2    1.000    6.6   6.3  2.0    8.3   4.5  42  3    1   3     \n",
       "3    3.385   44.5    NA   NA   12.5  14.0  60  1    1   1     \n",
       "4    0.920    5.7    NA   NA   16.5    NA  25  5    2   3     \n",
       "5 2547.000 4603.0   2.1  1.8    3.9  69.0 624  3    5   4     "
      ]
     },
     "metadata": {},
     "output_type": "display_data"
    },
    {
     "data": {
      "text/html": [
       "<table class=\"dataframe\">\n",
       "<caption>A data.frame: 5 × 10</caption>\n",
       "<thead>\n",
       "\t<tr><th></th><th scope=col>BodyWgt</th><th scope=col>BrainWgt</th><th scope=col>NonD</th><th scope=col>Dream</th><th scope=col>Sleep</th><th scope=col>Span</th><th scope=col>Gest</th><th scope=col>Pred</th><th scope=col>Exp</th><th scope=col>Danger</th></tr>\n",
       "\t<tr><th></th><th scope=col>&lt;int&gt;</th><th scope=col>&lt;int&gt;</th><th scope=col>&lt;int&gt;</th><th scope=col>&lt;int&gt;</th><th scope=col>&lt;int&gt;</th><th scope=col>&lt;int&gt;</th><th scope=col>&lt;int&gt;</th><th scope=col>&lt;int&gt;</th><th scope=col>&lt;int&gt;</th><th scope=col>&lt;int&gt;</th></tr>\n",
       "</thead>\n",
       "<tbody>\n",
       "\t<tr><th scope=row>1</th><td>0</td><td>0</td><td>1</td><td>1</td><td>0</td><td>0</td><td>0</td><td>0</td><td>0</td><td>0</td></tr>\n",
       "\t<tr><th scope=row>2</th><td>0</td><td>0</td><td>0</td><td>0</td><td>0</td><td>0</td><td>0</td><td>0</td><td>0</td><td>0</td></tr>\n",
       "\t<tr><th scope=row>3</th><td>0</td><td>0</td><td>1</td><td>1</td><td>0</td><td>0</td><td>0</td><td>0</td><td>0</td><td>0</td></tr>\n",
       "\t<tr><th scope=row>4</th><td>0</td><td>0</td><td>1</td><td>1</td><td>0</td><td>1</td><td>0</td><td>0</td><td>0</td><td>0</td></tr>\n",
       "\t<tr><th scope=row>5</th><td>0</td><td>0</td><td>0</td><td>0</td><td>0</td><td>0</td><td>0</td><td>0</td><td>0</td><td>0</td></tr>\n",
       "</tbody>\n",
       "</table>\n"
      ],
      "text/latex": [
       "A data.frame: 5 × 10\n",
       "\\begin{tabular}{r|llllllllll}\n",
       "  & BodyWgt & BrainWgt & NonD & Dream & Sleep & Span & Gest & Pred & Exp & Danger\\\\\n",
       "  & <int> & <int> & <int> & <int> & <int> & <int> & <int> & <int> & <int> & <int>\\\\\n",
       "\\hline\n",
       "\t1 & 0 & 0 & 1 & 1 & 0 & 0 & 0 & 0 & 0 & 0\\\\\n",
       "\t2 & 0 & 0 & 0 & 0 & 0 & 0 & 0 & 0 & 0 & 0\\\\\n",
       "\t3 & 0 & 0 & 1 & 1 & 0 & 0 & 0 & 0 & 0 & 0\\\\\n",
       "\t4 & 0 & 0 & 1 & 1 & 0 & 1 & 0 & 0 & 0 & 0\\\\\n",
       "\t5 & 0 & 0 & 0 & 0 & 0 & 0 & 0 & 0 & 0 & 0\\\\\n",
       "\\end{tabular}\n"
      ],
      "text/markdown": [
       "\n",
       "A data.frame: 5 × 10\n",
       "\n",
       "| <!--/--> | BodyWgt &lt;int&gt; | BrainWgt &lt;int&gt; | NonD &lt;int&gt; | Dream &lt;int&gt; | Sleep &lt;int&gt; | Span &lt;int&gt; | Gest &lt;int&gt; | Pred &lt;int&gt; | Exp &lt;int&gt; | Danger &lt;int&gt; |\n",
       "|---|---|---|---|---|---|---|---|---|---|---|\n",
       "| 1 | 0 | 0 | 1 | 1 | 0 | 0 | 0 | 0 | 0 | 0 |\n",
       "| 2 | 0 | 0 | 0 | 0 | 0 | 0 | 0 | 0 | 0 | 0 |\n",
       "| 3 | 0 | 0 | 1 | 1 | 0 | 0 | 0 | 0 | 0 | 0 |\n",
       "| 4 | 0 | 0 | 1 | 1 | 0 | 1 | 0 | 0 | 0 | 0 |\n",
       "| 5 | 0 | 0 | 0 | 0 | 0 | 0 | 0 | 0 | 0 | 0 |\n",
       "\n"
      ],
      "text/plain": [
       "  BodyWgt BrainWgt NonD Dream Sleep Span Gest Pred Exp Danger\n",
       "1 0       0        1    1     0     0    0    0    0   0     \n",
       "2 0       0        0    0     0     0    0    0    0   0     \n",
       "3 0       0        1    1     0     0    0    0    0   0     \n",
       "4 0       0        1    1     0     1    0    0    0   0     \n",
       "5 0       0        0    0     0     0    0    0    0   0     "
      ]
     },
     "metadata": {},
     "output_type": "display_data"
    }
   ],
   "source": [
    "x <- as.data.frame(abs(is.na(sleep)))\n",
    "head(sleep, n=5)\n",
    "head(x, n=5)"
   ]
  },
  {
   "cell_type": "code",
   "execution_count": 14,
   "metadata": {
    "vscode": {
     "languageId": "r"
    }
   },
   "outputs": [],
   "source": [
    "y <- x[which(apply(x, 2, sum)>0)]"
   ]
  },
  {
   "cell_type": "code",
   "execution_count": 15,
   "metadata": {
    "vscode": {
     "languageId": "r"
    }
   },
   "outputs": [
    {
     "data": {
      "text/html": [
       "<table class=\"dataframe\">\n",
       "<caption>A matrix: 5 × 5 of type dbl</caption>\n",
       "<thead>\n",
       "\t<tr><th></th><th scope=col>NonD</th><th scope=col>Dream</th><th scope=col>Sleep</th><th scope=col>Span</th><th scope=col>Gest</th></tr>\n",
       "</thead>\n",
       "<tbody>\n",
       "\t<tr><th scope=row>NonD</th><td> 1.00000000</td><td> 0.90711474</td><td> 0.48626454</td><td> 0.01519577</td><td>-0.14182716</td></tr>\n",
       "\t<tr><th scope=row>Dream</th><td> 0.90711474</td><td> 1.00000000</td><td> 0.20370138</td><td> 0.03752394</td><td>-0.12865350</td></tr>\n",
       "\t<tr><th scope=row>Sleep</th><td> 0.48626454</td><td> 0.20370138</td><td> 1.00000000</td><td>-0.06896552</td><td>-0.06896552</td></tr>\n",
       "\t<tr><th scope=row>Span</th><td> 0.01519577</td><td> 0.03752394</td><td>-0.06896552</td><td> 1.00000000</td><td> 0.19827586</td></tr>\n",
       "\t<tr><th scope=row>Gest</th><td>-0.14182716</td><td>-0.12865350</td><td>-0.06896552</td><td> 0.19827586</td><td> 1.00000000</td></tr>\n",
       "</tbody>\n",
       "</table>\n"
      ],
      "text/latex": [
       "A matrix: 5 × 5 of type dbl\n",
       "\\begin{tabular}{r|lllll}\n",
       "  & NonD & Dream & Sleep & Span & Gest\\\\\n",
       "\\hline\n",
       "\tNonD &  1.00000000 &  0.90711474 &  0.48626454 &  0.01519577 & -0.14182716\\\\\n",
       "\tDream &  0.90711474 &  1.00000000 &  0.20370138 &  0.03752394 & -0.12865350\\\\\n",
       "\tSleep &  0.48626454 &  0.20370138 &  1.00000000 & -0.06896552 & -0.06896552\\\\\n",
       "\tSpan &  0.01519577 &  0.03752394 & -0.06896552 &  1.00000000 &  0.19827586\\\\\n",
       "\tGest & -0.14182716 & -0.12865350 & -0.06896552 &  0.19827586 &  1.00000000\\\\\n",
       "\\end{tabular}\n"
      ],
      "text/markdown": [
       "\n",
       "A matrix: 5 × 5 of type dbl\n",
       "\n",
       "| <!--/--> | NonD | Dream | Sleep | Span | Gest |\n",
       "|---|---|---|---|---|---|\n",
       "| NonD |  1.00000000 |  0.90711474 |  0.48626454 |  0.01519577 | -0.14182716 |\n",
       "| Dream |  0.90711474 |  1.00000000 |  0.20370138 |  0.03752394 | -0.12865350 |\n",
       "| Sleep |  0.48626454 |  0.20370138 |  1.00000000 | -0.06896552 | -0.06896552 |\n",
       "| Span |  0.01519577 |  0.03752394 | -0.06896552 |  1.00000000 |  0.19827586 |\n",
       "| Gest | -0.14182716 | -0.12865350 | -0.06896552 |  0.19827586 |  1.00000000 |\n",
       "\n"
      ],
      "text/plain": [
       "      NonD        Dream       Sleep       Span        Gest       \n",
       "NonD   1.00000000  0.90711474  0.48626454  0.01519577 -0.14182716\n",
       "Dream  0.90711474  1.00000000  0.20370138  0.03752394 -0.12865350\n",
       "Sleep  0.48626454  0.20370138  1.00000000 -0.06896552 -0.06896552\n",
       "Span   0.01519577  0.03752394 -0.06896552  1.00000000  0.19827586\n",
       "Gest  -0.14182716 -0.12865350 -0.06896552  0.19827586  1.00000000"
      ]
     },
     "metadata": {},
     "output_type": "display_data"
    }
   ],
   "source": [
    "cor(y)"
   ]
  },
  {
   "cell_type": "code",
   "execution_count": 16,
   "metadata": {
    "vscode": {
     "languageId": "r"
    }
   },
   "outputs": [
    {
     "name": "stderr",
     "output_type": "stream",
     "text": [
      "Warning message in cor(sleep, y, use = \"pairwise.complete.obs\"):\n",
      "\"the standard deviation is zero\"\n"
     ]
    },
    {
     "data": {
      "text/html": [
       "<table class=\"dataframe\">\n",
       "<caption>A matrix: 10 × 5 of type dbl</caption>\n",
       "<thead>\n",
       "\t<tr><th></th><th scope=col>NonD</th><th scope=col>Dream</th><th scope=col>Sleep</th><th scope=col>Span</th><th scope=col>Gest</th></tr>\n",
       "</thead>\n",
       "<tbody>\n",
       "\t<tr><th scope=row>BodyWgt</th><td> 0.22682614</td><td> 0.22259108</td><td> 0.001684992</td><td>-0.05831706</td><td>-0.05396818</td></tr>\n",
       "\t<tr><th scope=row>BrainWgt</th><td> 0.17945923</td><td> 0.16321105</td><td> 0.007859438</td><td>-0.07921370</td><td>-0.07332961</td></tr>\n",
       "\t<tr><th scope=row>NonD</th><td>         NA</td><td>         NA</td><td>          NA</td><td>-0.04314514</td><td>-0.04553485</td></tr>\n",
       "\t<tr><th scope=row>Dream</th><td>-0.18895206</td><td>         NA</td><td>-0.188952059</td><td> 0.11699247</td><td> 0.22774685</td></tr>\n",
       "\t<tr><th scope=row>Sleep</th><td>-0.08023157</td><td>-0.08023157</td><td>          NA</td><td> 0.09638044</td><td> 0.03976464</td></tr>\n",
       "\t<tr><th scope=row>Span</th><td> 0.08336361</td><td> 0.05981377</td><td> 0.005238852</td><td>         NA</td><td>-0.06527277</td></tr>\n",
       "\t<tr><th scope=row>Gest</th><td> 0.20239201</td><td> 0.05140232</td><td> 0.159701523</td><td>-0.17495305</td><td>         NA</td></tr>\n",
       "\t<tr><th scope=row>Pred</th><td> 0.04758438</td><td>-0.06834378</td><td> 0.202462711</td><td> 0.02313860</td><td>-0.20101655</td></tr>\n",
       "\t<tr><th scope=row>Exp</th><td> 0.24546836</td><td> 0.12740768</td><td> 0.260772984</td><td>-0.19291879</td><td>-0.19291879</td></tr>\n",
       "\t<tr><th scope=row>Danger</th><td> 0.06528387</td><td>-0.06724755</td><td> 0.208883617</td><td>-0.06666498</td><td>-0.20443928</td></tr>\n",
       "</tbody>\n",
       "</table>\n"
      ],
      "text/latex": [
       "A matrix: 10 × 5 of type dbl\n",
       "\\begin{tabular}{r|lllll}\n",
       "  & NonD & Dream & Sleep & Span & Gest\\\\\n",
       "\\hline\n",
       "\tBodyWgt &  0.22682614 &  0.22259108 &  0.001684992 & -0.05831706 & -0.05396818\\\\\n",
       "\tBrainWgt &  0.17945923 &  0.16321105 &  0.007859438 & -0.07921370 & -0.07332961\\\\\n",
       "\tNonD &          NA &          NA &           NA & -0.04314514 & -0.04553485\\\\\n",
       "\tDream & -0.18895206 &          NA & -0.188952059 &  0.11699247 &  0.22774685\\\\\n",
       "\tSleep & -0.08023157 & -0.08023157 &           NA &  0.09638044 &  0.03976464\\\\\n",
       "\tSpan &  0.08336361 &  0.05981377 &  0.005238852 &          NA & -0.06527277\\\\\n",
       "\tGest &  0.20239201 &  0.05140232 &  0.159701523 & -0.17495305 &          NA\\\\\n",
       "\tPred &  0.04758438 & -0.06834378 &  0.202462711 &  0.02313860 & -0.20101655\\\\\n",
       "\tExp &  0.24546836 &  0.12740768 &  0.260772984 & -0.19291879 & -0.19291879\\\\\n",
       "\tDanger &  0.06528387 & -0.06724755 &  0.208883617 & -0.06666498 & -0.20443928\\\\\n",
       "\\end{tabular}\n"
      ],
      "text/markdown": [
       "\n",
       "A matrix: 10 × 5 of type dbl\n",
       "\n",
       "| <!--/--> | NonD | Dream | Sleep | Span | Gest |\n",
       "|---|---|---|---|---|---|\n",
       "| BodyWgt |  0.22682614 |  0.22259108 |  0.001684992 | -0.05831706 | -0.05396818 |\n",
       "| BrainWgt |  0.17945923 |  0.16321105 |  0.007859438 | -0.07921370 | -0.07332961 |\n",
       "| NonD |          NA |          NA |           NA | -0.04314514 | -0.04553485 |\n",
       "| Dream | -0.18895206 |          NA | -0.188952059 |  0.11699247 |  0.22774685 |\n",
       "| Sleep | -0.08023157 | -0.08023157 |           NA |  0.09638044 |  0.03976464 |\n",
       "| Span |  0.08336361 |  0.05981377 |  0.005238852 |          NA | -0.06527277 |\n",
       "| Gest |  0.20239201 |  0.05140232 |  0.159701523 | -0.17495305 |          NA |\n",
       "| Pred |  0.04758438 | -0.06834378 |  0.202462711 |  0.02313860 | -0.20101655 |\n",
       "| Exp |  0.24546836 |  0.12740768 |  0.260772984 | -0.19291879 | -0.19291879 |\n",
       "| Danger |  0.06528387 | -0.06724755 |  0.208883617 | -0.06666498 | -0.20443928 |\n",
       "\n"
      ],
      "text/plain": [
       "         NonD        Dream       Sleep        Span        Gest       \n",
       "BodyWgt   0.22682614  0.22259108  0.001684992 -0.05831706 -0.05396818\n",
       "BrainWgt  0.17945923  0.16321105  0.007859438 -0.07921370 -0.07332961\n",
       "NonD              NA          NA           NA -0.04314514 -0.04553485\n",
       "Dream    -0.18895206          NA -0.188952059  0.11699247  0.22774685\n",
       "Sleep    -0.08023157 -0.08023157           NA  0.09638044  0.03976464\n",
       "Span      0.08336361  0.05981377  0.005238852          NA -0.06527277\n",
       "Gest      0.20239201  0.05140232  0.159701523 -0.17495305          NA\n",
       "Pred      0.04758438 -0.06834378  0.202462711  0.02313860 -0.20101655\n",
       "Exp       0.24546836  0.12740768  0.260772984 -0.19291879 -0.19291879\n",
       "Danger    0.06528387 -0.06724755  0.208883617 -0.06666498 -0.20443928"
      ]
     },
     "metadata": {},
     "output_type": "display_data"
    }
   ],
   "source": [
    "cor(sleep, y, use=\"pairwise.complete.obs\")"
   ]
  },
  {
   "cell_type": "markdown",
   "metadata": {},
   "source": [
    "# 完整实例分析（行删除）"
   ]
  },
  {
   "cell_type": "code",
   "execution_count": 18,
   "metadata": {
    "vscode": {
     "languageId": "r"
    }
   },
   "outputs": [
    {
     "data": {
      "text/html": [
       "<table class=\"dataframe\">\n",
       "<caption>A matrix: 10 × 10 of type dbl</caption>\n",
       "<thead>\n",
       "\t<tr><th></th><th scope=col>BodyWgt</th><th scope=col>BrainWgt</th><th scope=col>NonD</th><th scope=col>Dream</th><th scope=col>Sleep</th><th scope=col>Span</th><th scope=col>Gest</th><th scope=col>Pred</th><th scope=col>Exp</th><th scope=col>Danger</th></tr>\n",
       "</thead>\n",
       "<tbody>\n",
       "\t<tr><th scope=row>BodyWgt</th><td> 1.00</td><td> 0.96</td><td>-0.4</td><td>-0.07</td><td>-0.3</td><td> 0.47</td><td> 0.71</td><td> 0.10</td><td> 0.4</td><td> 0.26</td></tr>\n",
       "\t<tr><th scope=row>BrainWgt</th><td> 0.96</td><td> 1.00</td><td>-0.4</td><td>-0.07</td><td>-0.3</td><td> 0.63</td><td> 0.73</td><td>-0.02</td><td> 0.3</td><td> 0.15</td></tr>\n",
       "\t<tr><th scope=row>NonD</th><td>-0.39</td><td>-0.39</td><td> 1.0</td><td> 0.52</td><td> 1.0</td><td>-0.37</td><td>-0.61</td><td>-0.35</td><td>-0.6</td><td>-0.53</td></tr>\n",
       "\t<tr><th scope=row>Dream</th><td>-0.07</td><td>-0.07</td><td> 0.5</td><td> 1.00</td><td> 0.7</td><td>-0.27</td><td>-0.41</td><td>-0.40</td><td>-0.5</td><td>-0.57</td></tr>\n",
       "\t<tr><th scope=row>Sleep</th><td>-0.34</td><td>-0.34</td><td> 1.0</td><td> 0.72</td><td> 1.0</td><td>-0.38</td><td>-0.61</td><td>-0.40</td><td>-0.6</td><td>-0.60</td></tr>\n",
       "\t<tr><th scope=row>Span</th><td> 0.47</td><td> 0.63</td><td>-0.4</td><td>-0.27</td><td>-0.4</td><td> 1.00</td><td> 0.65</td><td>-0.17</td><td> 0.3</td><td> 0.01</td></tr>\n",
       "\t<tr><th scope=row>Gest</th><td> 0.71</td><td> 0.73</td><td>-0.6</td><td>-0.41</td><td>-0.6</td><td> 0.65</td><td> 1.00</td><td> 0.09</td><td> 0.6</td><td> 0.31</td></tr>\n",
       "\t<tr><th scope=row>Pred</th><td> 0.10</td><td>-0.02</td><td>-0.4</td><td>-0.40</td><td>-0.4</td><td>-0.17</td><td> 0.09</td><td> 1.00</td><td> 0.6</td><td> 0.93</td></tr>\n",
       "\t<tr><th scope=row>Exp</th><td> 0.41</td><td> 0.32</td><td>-0.6</td><td>-0.50</td><td>-0.6</td><td> 0.32</td><td> 0.57</td><td> 0.63</td><td> 1.0</td><td> 0.79</td></tr>\n",
       "\t<tr><th scope=row>Danger</th><td> 0.26</td><td> 0.15</td><td>-0.5</td><td>-0.57</td><td>-0.6</td><td> 0.01</td><td> 0.31</td><td> 0.93</td><td> 0.8</td><td> 1.00</td></tr>\n",
       "</tbody>\n",
       "</table>\n"
      ],
      "text/latex": [
       "A matrix: 10 × 10 of type dbl\n",
       "\\begin{tabular}{r|llllllllll}\n",
       "  & BodyWgt & BrainWgt & NonD & Dream & Sleep & Span & Gest & Pred & Exp & Danger\\\\\n",
       "\\hline\n",
       "\tBodyWgt &  1.00 &  0.96 & -0.4 & -0.07 & -0.3 &  0.47 &  0.71 &  0.10 &  0.4 &  0.26\\\\\n",
       "\tBrainWgt &  0.96 &  1.00 & -0.4 & -0.07 & -0.3 &  0.63 &  0.73 & -0.02 &  0.3 &  0.15\\\\\n",
       "\tNonD & -0.39 & -0.39 &  1.0 &  0.52 &  1.0 & -0.37 & -0.61 & -0.35 & -0.6 & -0.53\\\\\n",
       "\tDream & -0.07 & -0.07 &  0.5 &  1.00 &  0.7 & -0.27 & -0.41 & -0.40 & -0.5 & -0.57\\\\\n",
       "\tSleep & -0.34 & -0.34 &  1.0 &  0.72 &  1.0 & -0.38 & -0.61 & -0.40 & -0.6 & -0.60\\\\\n",
       "\tSpan &  0.47 &  0.63 & -0.4 & -0.27 & -0.4 &  1.00 &  0.65 & -0.17 &  0.3 &  0.01\\\\\n",
       "\tGest &  0.71 &  0.73 & -0.6 & -0.41 & -0.6 &  0.65 &  1.00 &  0.09 &  0.6 &  0.31\\\\\n",
       "\tPred &  0.10 & -0.02 & -0.4 & -0.40 & -0.4 & -0.17 &  0.09 &  1.00 &  0.6 &  0.93\\\\\n",
       "\tExp &  0.41 &  0.32 & -0.6 & -0.50 & -0.6 &  0.32 &  0.57 &  0.63 &  1.0 &  0.79\\\\\n",
       "\tDanger &  0.26 &  0.15 & -0.5 & -0.57 & -0.6 &  0.01 &  0.31 &  0.93 &  0.8 &  1.00\\\\\n",
       "\\end{tabular}\n"
      ],
      "text/markdown": [
       "\n",
       "A matrix: 10 × 10 of type dbl\n",
       "\n",
       "| <!--/--> | BodyWgt | BrainWgt | NonD | Dream | Sleep | Span | Gest | Pred | Exp | Danger |\n",
       "|---|---|---|---|---|---|---|---|---|---|---|\n",
       "| BodyWgt |  1.00 |  0.96 | -0.4 | -0.07 | -0.3 |  0.47 |  0.71 |  0.10 |  0.4 |  0.26 |\n",
       "| BrainWgt |  0.96 |  1.00 | -0.4 | -0.07 | -0.3 |  0.63 |  0.73 | -0.02 |  0.3 |  0.15 |\n",
       "| NonD | -0.39 | -0.39 |  1.0 |  0.52 |  1.0 | -0.37 | -0.61 | -0.35 | -0.6 | -0.53 |\n",
       "| Dream | -0.07 | -0.07 |  0.5 |  1.00 |  0.7 | -0.27 | -0.41 | -0.40 | -0.5 | -0.57 |\n",
       "| Sleep | -0.34 | -0.34 |  1.0 |  0.72 |  1.0 | -0.38 | -0.61 | -0.40 | -0.6 | -0.60 |\n",
       "| Span |  0.47 |  0.63 | -0.4 | -0.27 | -0.4 |  1.00 |  0.65 | -0.17 |  0.3 |  0.01 |\n",
       "| Gest |  0.71 |  0.73 | -0.6 | -0.41 | -0.6 |  0.65 |  1.00 |  0.09 |  0.6 |  0.31 |\n",
       "| Pred |  0.10 | -0.02 | -0.4 | -0.40 | -0.4 | -0.17 |  0.09 |  1.00 |  0.6 |  0.93 |\n",
       "| Exp |  0.41 |  0.32 | -0.6 | -0.50 | -0.6 |  0.32 |  0.57 |  0.63 |  1.0 |  0.79 |\n",
       "| Danger |  0.26 |  0.15 | -0.5 | -0.57 | -0.6 |  0.01 |  0.31 |  0.93 |  0.8 |  1.00 |\n",
       "\n"
      ],
      "text/plain": [
       "         BodyWgt BrainWgt NonD Dream Sleep Span  Gest  Pred  Exp  Danger\n",
       "BodyWgt   1.00    0.96    -0.4 -0.07 -0.3   0.47  0.71  0.10  0.4  0.26 \n",
       "BrainWgt  0.96    1.00    -0.4 -0.07 -0.3   0.63  0.73 -0.02  0.3  0.15 \n",
       "NonD     -0.39   -0.39     1.0  0.52  1.0  -0.37 -0.61 -0.35 -0.6 -0.53 \n",
       "Dream    -0.07   -0.07     0.5  1.00  0.7  -0.27 -0.41 -0.40 -0.5 -0.57 \n",
       "Sleep    -0.34   -0.34     1.0  0.72  1.0  -0.38 -0.61 -0.40 -0.6 -0.60 \n",
       "Span      0.47    0.63    -0.4 -0.27 -0.4   1.00  0.65 -0.17  0.3  0.01 \n",
       "Gest      0.71    0.73    -0.6 -0.41 -0.6   0.65  1.00  0.09  0.6  0.31 \n",
       "Pred      0.10   -0.02    -0.4 -0.40 -0.4  -0.17  0.09  1.00  0.6  0.93 \n",
       "Exp       0.41    0.32    -0.6 -0.50 -0.6   0.32  0.57  0.63  1.0  0.79 \n",
       "Danger    0.26    0.15    -0.5 -0.57 -0.6   0.01  0.31  0.93  0.8  1.00 "
      ]
     },
     "metadata": {},
     "output_type": "display_data"
    }
   ],
   "source": [
    "options(digits=1)\n",
    "cor(na.omit(sleep))"
   ]
  },
  {
   "cell_type": "markdown",
   "metadata": {},
   "source": [
    "# 多重插补"
   ]
  },
  {
   "cell_type": "code",
   "execution_count": 21,
   "metadata": {
    "vscode": {
     "languageId": "r"
    }
   },
   "outputs": [
    {
     "name": "stdout",
     "output_type": "stream",
     "text": [
      "\n",
      " iter imp variable\n",
      "  1   1  NonD  Dream  Sleep  Span  Gest\n",
      "  1   2  NonD  Dream  Sleep  Span  Gest\n",
      "  1   3  NonD  Dream  Sleep  Span  Gest\n",
      "  1   4  NonD  Dream  Sleep  Span  Gest\n",
      "  1   5  NonD  Dream  Sleep  Span  Gest\n",
      "  2   1  NonD  Dream  Sleep  Span  Gest\n",
      "  2   2  NonD  Dream  Sleep  Span  Gest\n",
      "  2   3  NonD  Dream  Sleep  Span  Gest\n",
      "  2   4  NonD  Dream  Sleep  Span  Gest\n",
      "  2   5  NonD  Dream  Sleep  Span  Gest\n",
      "  3   1  NonD  Dream  Sleep  Span  Gest\n",
      "  3   2  NonD  Dream  Sleep  Span  Gest\n",
      "  3   3  NonD  Dream  Sleep  Span  Gest\n",
      "  3   4  NonD  Dream  Sleep  Span  Gest\n",
      "  3   5  NonD  Dream  Sleep  Span  Gest\n",
      "  4   1  NonD  Dream  Sleep  Span  Gest\n",
      "  4   2  NonD  Dream  Sleep  Span  Gest\n",
      "  4   3  NonD  Dream  Sleep  Span  Gest\n",
      "  4   4  NonD  Dream  Sleep  Span  Gest\n",
      "  4   5  NonD  Dream  Sleep  Span  Gest\n",
      "  5   1  NonD  Dream  Sleep  Span  Gest\n",
      "  5   2  NonD  Dream  Sleep  Span  Gest\n",
      "  5   3  NonD  Dream  Sleep  Span  Gest\n",
      "  5   4  NonD  Dream  Sleep  Span  Gest\n",
      "  5   5  NonD  Dream  Sleep  Span  Gest\n"
     ]
    },
    {
     "name": "stderr",
     "output_type": "stream",
     "text": [
      "Warning message:\n",
      "\"Number of logged events: 2\"\n"
     ]
    },
    {
     "data": {
      "text/html": [
       "<table class=\"dataframe\">\n",
       "<caption>A mipo.summary: 3 × 6</caption>\n",
       "<thead>\n",
       "\t<tr><th scope=col>term</th><th scope=col>estimate</th><th scope=col>std.error</th><th scope=col>statistic</th><th scope=col>df</th><th scope=col>p.value</th></tr>\n",
       "\t<tr><th scope=col>&lt;fct&gt;</th><th scope=col>&lt;dbl&gt;</th><th scope=col>&lt;dbl&gt;</th><th scope=col>&lt;dbl&gt;</th><th scope=col>&lt;dbl&gt;</th><th scope=col>&lt;dbl&gt;</th></tr>\n",
       "</thead>\n",
       "<tbody>\n",
       "\t<tr><td>(Intercept)</td><td> 2.599</td><td>0.247</td><td>10.5</td><td>52</td><td>2e-14</td></tr>\n",
       "\t<tr><td>Span       </td><td>-0.005</td><td>0.012</td><td>-0.4</td><td>53</td><td>7e-01</td></tr>\n",
       "\t<tr><td>Gest       </td><td>-0.004</td><td>0.001</td><td>-2.7</td><td>48</td><td>9e-03</td></tr>\n",
       "</tbody>\n",
       "</table>\n"
      ],
      "text/latex": [
       "A mipo.summary: 3 × 6\n",
       "\\begin{tabular}{llllll}\n",
       " term & estimate & std.error & statistic & df & p.value\\\\\n",
       " <fct> & <dbl> & <dbl> & <dbl> & <dbl> & <dbl>\\\\\n",
       "\\hline\n",
       "\t (Intercept) &  2.599 & 0.247 & 10.5 & 52 & 2e-14\\\\\n",
       "\t Span        & -0.005 & 0.012 & -0.4 & 53 & 7e-01\\\\\n",
       "\t Gest        & -0.004 & 0.001 & -2.7 & 48 & 9e-03\\\\\n",
       "\\end{tabular}\n"
      ],
      "text/markdown": [
       "\n",
       "A mipo.summary: 3 × 6\n",
       "\n",
       "| term &lt;fct&gt; | estimate &lt;dbl&gt; | std.error &lt;dbl&gt; | statistic &lt;dbl&gt; | df &lt;dbl&gt; | p.value &lt;dbl&gt; |\n",
       "|---|---|---|---|---|---|\n",
       "| (Intercept) |  2.599 | 0.247 | 10.5 | 52 | 2e-14 |\n",
       "| Span        | -0.005 | 0.012 | -0.4 | 53 | 7e-01 |\n",
       "| Gest        | -0.004 | 0.001 | -2.7 | 48 | 9e-03 |\n",
       "\n"
      ],
      "text/plain": [
       "  term        estimate std.error statistic df p.value\n",
       "1 (Intercept)  2.599   0.247     10.5      52 2e-14  \n",
       "2 Span        -0.005   0.012     -0.4      53 7e-01  \n",
       "3 Gest        -0.004   0.001     -2.7      48 9e-03  "
      ]
     },
     "metadata": {},
     "output_type": "display_data"
    }
   ],
   "source": [
    "library(mice)\n",
    "data(sleep, package=\"VIM\")\n",
    "imp <- mice(sleep, seed=1234)\n",
    "fit <- with(imp, lm(Dream~Span+Gest))\n",
    "pooled <- pool(fit)\n",
    "summary(pooled)"
   ]
  },
  {
   "cell_type": "code",
   "execution_count": 22,
   "metadata": {
    "vscode": {
     "languageId": "r"
    }
   },
   "outputs": [
    {
     "data": {
      "text/plain": [
       "Class: mids\n",
       "Number of multiple imputations:  5 \n",
       "Imputation methods:\n",
       " BodyWgt BrainWgt     NonD    Dream    Sleep     Span     Gest     Pred \n",
       "      \"\"       \"\"    \"pmm\"    \"pmm\"    \"pmm\"    \"pmm\"    \"pmm\"       \"\" \n",
       "     Exp   Danger \n",
       "      \"\"       \"\" \n",
       "PredictorMatrix:\n",
       "         BodyWgt BrainWgt NonD Dream Sleep Span Gest Pred Exp Danger\n",
       "BodyWgt        0        1    1     1     1    1    1    1   1      1\n",
       "BrainWgt       1        0    1     1     1    1    1    1   1      1\n",
       "NonD           1        1    0     1     1    1    1    1   1      1\n",
       "Dream          1        1    1     0     1    1    1    1   1      1\n",
       "Sleep          1        1    1     1     0    1    1    1   1      1\n",
       "Span           1        1    1     1     1    0    1    1   1      1\n",
       "Number of logged events:  2 \n",
       "  it im  dep meth   out\n",
       "1  3  2 Span  pmm Sleep\n",
       "2  4  2 Span  pmm Sleep"
      ]
     },
     "metadata": {},
     "output_type": "display_data"
    }
   ],
   "source": [
    "imp"
   ]
  },
  {
   "cell_type": "code",
   "execution_count": 23,
   "metadata": {
    "vscode": {
     "languageId": "r"
    }
   },
   "outputs": [
    {
     "data": {
      "text/html": [
       "<table class=\"dataframe\">\n",
       "<caption>A data.frame: 12 × 5</caption>\n",
       "<thead>\n",
       "\t<tr><th></th><th scope=col>1</th><th scope=col>2</th><th scope=col>3</th><th scope=col>4</th><th scope=col>5</th></tr>\n",
       "\t<tr><th></th><th scope=col>&lt;dbl&gt;</th><th scope=col>&lt;dbl&gt;</th><th scope=col>&lt;dbl&gt;</th><th scope=col>&lt;dbl&gt;</th><th scope=col>&lt;dbl&gt;</th></tr>\n",
       "</thead>\n",
       "<tbody>\n",
       "\t<tr><th scope=row>1</th><td>0.5</td><td>1.4</td><td>0.5</td><td>0.5</td><td>0.6</td></tr>\n",
       "\t<tr><th scope=row>3</th><td>1.4</td><td>1.9</td><td>1.8</td><td>2.0</td><td>1.3</td></tr>\n",
       "\t<tr><th scope=row>4</th><td>2.7</td><td>3.4</td><td>3.1</td><td>4.1</td><td>2.7</td></tr>\n",
       "\t<tr><th scope=row>14</th><td>0.3</td><td>1.0</td><td>0.5</td><td>0.0</td><td>0.0</td></tr>\n",
       "\t<tr><th scope=row>24</th><td>3.6</td><td>1.0</td><td>1.4</td><td>1.2</td><td>1.4</td></tr>\n",
       "\t<tr><th scope=row>26</th><td>2.7</td><td>0.5</td><td>3.9</td><td>3.1</td><td>1.2</td></tr>\n",
       "\t<tr><th scope=row>30</th><td>2.2</td><td>0.6</td><td>2.7</td><td>2.4</td><td>3.4</td></tr>\n",
       "\t<tr><th scope=row>31</th><td>0.9</td><td>0.5</td><td>0.9</td><td>1.4</td><td>2.4</td></tr>\n",
       "\t<tr><th scope=row>47</th><td>1.3</td><td>3.1</td><td>1.8</td><td>2.8</td><td>3.9</td></tr>\n",
       "\t<tr><th scope=row>53</th><td>1.0</td><td>0.5</td><td>0.6</td><td>0.5</td><td>0.5</td></tr>\n",
       "\t<tr><th scope=row>55</th><td>2.6</td><td>3.4</td><td>2.4</td><td>2.0</td><td>0.5</td></tr>\n",
       "\t<tr><th scope=row>62</th><td>2.2</td><td>3.6</td><td>2.6</td><td>3.4</td><td>2.8</td></tr>\n",
       "</tbody>\n",
       "</table>\n"
      ],
      "text/latex": [
       "A data.frame: 12 × 5\n",
       "\\begin{tabular}{r|lllll}\n",
       "  & 1 & 2 & 3 & 4 & 5\\\\\n",
       "  & <dbl> & <dbl> & <dbl> & <dbl> & <dbl>\\\\\n",
       "\\hline\n",
       "\t1 & 0.5 & 1.4 & 0.5 & 0.5 & 0.6\\\\\n",
       "\t3 & 1.4 & 1.9 & 1.8 & 2.0 & 1.3\\\\\n",
       "\t4 & 2.7 & 3.4 & 3.1 & 4.1 & 2.7\\\\\n",
       "\t14 & 0.3 & 1.0 & 0.5 & 0.0 & 0.0\\\\\n",
       "\t24 & 3.6 & 1.0 & 1.4 & 1.2 & 1.4\\\\\n",
       "\t26 & 2.7 & 0.5 & 3.9 & 3.1 & 1.2\\\\\n",
       "\t30 & 2.2 & 0.6 & 2.7 & 2.4 & 3.4\\\\\n",
       "\t31 & 0.9 & 0.5 & 0.9 & 1.4 & 2.4\\\\\n",
       "\t47 & 1.3 & 3.1 & 1.8 & 2.8 & 3.9\\\\\n",
       "\t53 & 1.0 & 0.5 & 0.6 & 0.5 & 0.5\\\\\n",
       "\t55 & 2.6 & 3.4 & 2.4 & 2.0 & 0.5\\\\\n",
       "\t62 & 2.2 & 3.6 & 2.6 & 3.4 & 2.8\\\\\n",
       "\\end{tabular}\n"
      ],
      "text/markdown": [
       "\n",
       "A data.frame: 12 × 5\n",
       "\n",
       "| <!--/--> | 1 &lt;dbl&gt; | 2 &lt;dbl&gt; | 3 &lt;dbl&gt; | 4 &lt;dbl&gt; | 5 &lt;dbl&gt; |\n",
       "|---|---|---|---|---|---|\n",
       "| 1 | 0.5 | 1.4 | 0.5 | 0.5 | 0.6 |\n",
       "| 3 | 1.4 | 1.9 | 1.8 | 2.0 | 1.3 |\n",
       "| 4 | 2.7 | 3.4 | 3.1 | 4.1 | 2.7 |\n",
       "| 14 | 0.3 | 1.0 | 0.5 | 0.0 | 0.0 |\n",
       "| 24 | 3.6 | 1.0 | 1.4 | 1.2 | 1.4 |\n",
       "| 26 | 2.7 | 0.5 | 3.9 | 3.1 | 1.2 |\n",
       "| 30 | 2.2 | 0.6 | 2.7 | 2.4 | 3.4 |\n",
       "| 31 | 0.9 | 0.5 | 0.9 | 1.4 | 2.4 |\n",
       "| 47 | 1.3 | 3.1 | 1.8 | 2.8 | 3.9 |\n",
       "| 53 | 1.0 | 0.5 | 0.6 | 0.5 | 0.5 |\n",
       "| 55 | 2.6 | 3.4 | 2.4 | 2.0 | 0.5 |\n",
       "| 62 | 2.2 | 3.6 | 2.6 | 3.4 | 2.8 |\n",
       "\n"
      ],
      "text/plain": [
       "   1   2   3   4   5  \n",
       "1  0.5 1.4 0.5 0.5 0.6\n",
       "3  1.4 1.9 1.8 2.0 1.3\n",
       "4  2.7 3.4 3.1 4.1 2.7\n",
       "14 0.3 1.0 0.5 0.0 0.0\n",
       "24 3.6 1.0 1.4 1.2 1.4\n",
       "26 2.7 0.5 3.9 3.1 1.2\n",
       "30 2.2 0.6 2.7 2.4 3.4\n",
       "31 0.9 0.5 0.9 1.4 2.4\n",
       "47 1.3 3.1 1.8 2.8 3.9\n",
       "53 1.0 0.5 0.6 0.5 0.5\n",
       "55 2.6 3.4 2.4 2.0 0.5\n",
       "62 2.2 3.6 2.6 3.4 2.8"
      ]
     },
     "metadata": {},
     "output_type": "display_data"
    }
   ],
   "source": [
    "imp$imp$Dream"
   ]
  },
  {
   "cell_type": "code",
   "execution_count": 25,
   "metadata": {
    "vscode": {
     "languageId": "r"
    }
   },
   "outputs": [
    {
     "data": {
      "text/html": [
       "<table class=\"dataframe\">\n",
       "<caption>A data.frame: 62 × 10</caption>\n",
       "<thead>\n",
       "\t<tr><th scope=col>BodyWgt</th><th scope=col>BrainWgt</th><th scope=col>NonD</th><th scope=col>Dream</th><th scope=col>Sleep</th><th scope=col>Span</th><th scope=col>Gest</th><th scope=col>Pred</th><th scope=col>Exp</th><th scope=col>Danger</th></tr>\n",
       "\t<tr><th scope=col>&lt;dbl&gt;</th><th scope=col>&lt;dbl&gt;</th><th scope=col>&lt;dbl&gt;</th><th scope=col>&lt;dbl&gt;</th><th scope=col>&lt;dbl&gt;</th><th scope=col>&lt;dbl&gt;</th><th scope=col>&lt;dbl&gt;</th><th scope=col>&lt;int&gt;</th><th scope=col>&lt;int&gt;</th><th scope=col>&lt;int&gt;</th></tr>\n",
       "</thead>\n",
       "<tbody>\n",
       "\t<tr><td>7e+03</td><td>6e+03</td><td> 3</td><td>0.5</td><td> 3</td><td>39</td><td>645</td><td>3</td><td>5</td><td>3</td></tr>\n",
       "\t<tr><td>1e+00</td><td>7e+00</td><td> 6</td><td>2.0</td><td> 8</td><td> 4</td><td> 42</td><td>3</td><td>1</td><td>3</td></tr>\n",
       "\t<tr><td>3e+00</td><td>4e+01</td><td>11</td><td>1.8</td><td>12</td><td>14</td><td> 60</td><td>1</td><td>1</td><td>1</td></tr>\n",
       "\t<tr><td>9e-01</td><td>6e+00</td><td>13</td><td>3.1</td><td>16</td><td> 2</td><td> 25</td><td>5</td><td>2</td><td>3</td></tr>\n",
       "\t<tr><td>3e+03</td><td>5e+03</td><td> 2</td><td>1.8</td><td> 4</td><td>69</td><td>624</td><td>3</td><td>5</td><td>4</td></tr>\n",
       "\t<tr><td>1e+01</td><td>2e+02</td><td> 9</td><td>0.7</td><td>10</td><td>27</td><td>180</td><td>4</td><td>4</td><td>4</td></tr>\n",
       "\t<tr><td>2e-02</td><td>3e-01</td><td>16</td><td>3.9</td><td>20</td><td>19</td><td> 35</td><td>1</td><td>1</td><td>1</td></tr>\n",
       "\t<tr><td>2e+02</td><td>2e+02</td><td> 5</td><td>1.0</td><td> 6</td><td>30</td><td>392</td><td>4</td><td>5</td><td>4</td></tr>\n",
       "\t<tr><td>3e+00</td><td>3e+01</td><td>11</td><td>3.6</td><td>14</td><td>28</td><td> 63</td><td>1</td><td>2</td><td>1</td></tr>\n",
       "\t<tr><td>5e+01</td><td>4e+02</td><td> 8</td><td>1.4</td><td>10</td><td>50</td><td>230</td><td>1</td><td>1</td><td>1</td></tr>\n",
       "\t<tr><td>4e-01</td><td>6e+00</td><td>11</td><td>1.5</td><td>12</td><td> 7</td><td>112</td><td>5</td><td>4</td><td>4</td></tr>\n",
       "\t<tr><td>5e+02</td><td>4e+02</td><td> 3</td><td>0.7</td><td> 4</td><td>30</td><td>281</td><td>5</td><td>5</td><td>5</td></tr>\n",
       "\t<tr><td>6e-01</td><td>2e+00</td><td> 8</td><td>2.7</td><td>10</td><td> 4</td><td> 60</td><td>2</td><td>1</td><td>2</td></tr>\n",
       "\t<tr><td>2e+02</td><td>4e+02</td><td> 3</td><td>0.5</td><td> 3</td><td>40</td><td>365</td><td>5</td><td>5</td><td>5</td></tr>\n",
       "\t<tr><td>7e-02</td><td>1e+00</td><td> 6</td><td>2.1</td><td> 8</td><td> 4</td><td> 42</td><td>1</td><td>1</td><td>1</td></tr>\n",
       "\t<tr><td>3e+00</td><td>2e+01</td><td> 9</td><td>0.0</td><td> 9</td><td>50</td><td> 28</td><td>2</td><td>2</td><td>2</td></tr>\n",
       "\t<tr><td>8e-01</td><td>4e+00</td><td> 7</td><td>4.1</td><td>11</td><td> 6</td><td> 42</td><td>2</td><td>2</td><td>2</td></tr>\n",
       "\t<tr><td>2e-01</td><td>5e+00</td><td>10</td><td>1.2</td><td>11</td><td>10</td><td>120</td><td>2</td><td>2</td><td>2</td></tr>\n",
       "\t<tr><td>1e+00</td><td>2e+01</td><td> 5</td><td>1.3</td><td> 6</td><td>34</td><td>230</td><td>1</td><td>2</td><td>1</td></tr>\n",
       "\t<tr><td>6e+01</td><td>8e+01</td><td>12</td><td>6.1</td><td>18</td><td> 7</td><td> 14</td><td>1</td><td>1</td><td>1</td></tr>\n",
       "\t<tr><td>5e+02</td><td>7e+02</td><td>12</td><td>0.3</td><td>12</td><td>28</td><td>400</td><td>5</td><td>5</td><td>5</td></tr>\n",
       "\t<tr><td>3e+01</td><td>1e+02</td><td> 3</td><td>0.5</td><td> 4</td><td>20</td><td>148</td><td>5</td><td>5</td><td>5</td></tr>\n",
       "\t<tr><td>1e-01</td><td>1e+00</td><td>11</td><td>3.4</td><td>14</td><td> 4</td><td> 16</td><td>3</td><td>1</td><td>2</td></tr>\n",
       "\t<tr><td>2e+02</td><td>4e+02</td><td>11</td><td>1.4</td><td>12</td><td>39</td><td>252</td><td>1</td><td>4</td><td>1</td></tr>\n",
       "\t<tr><td>8e+01</td><td>3e+02</td><td> 5</td><td>1.5</td><td> 6</td><td>41</td><td>310</td><td>1</td><td>3</td><td>1</td></tr>\n",
       "\t<tr><td>4e+01</td><td>1e+02</td><td>10</td><td>3.9</td><td>13</td><td>16</td><td> 63</td><td>1</td><td>1</td><td>1</td></tr>\n",
       "\t<tr><td>1e-01</td><td>4e+00</td><td>10</td><td>3.4</td><td>14</td><td> 9</td><td> 28</td><td>5</td><td>1</td><td>3</td></tr>\n",
       "\t<tr><td>1e+00</td><td>6e+00</td><td> 7</td><td>0.8</td><td> 8</td><td> 8</td><td> 68</td><td>5</td><td>3</td><td>4</td></tr>\n",
       "\t<tr><td>5e+02</td><td>7e+02</td><td> 2</td><td>0.8</td><td> 3</td><td>46</td><td>336</td><td>5</td><td>5</td><td>5</td></tr>\n",
       "\t<tr><td>1e+02</td><td>2e+02</td><td> 8</td><td>2.7</td><td>11</td><td>22</td><td>100</td><td>1</td><td>1</td><td>1</td></tr>\n",
       "\t<tr><td>⋮</td><td>⋮</td><td>⋮</td><td>⋮</td><td>⋮</td><td>⋮</td><td>⋮</td><td>⋮</td><td>⋮</td><td>⋮</td></tr>\n",
       "\t<tr><td>1e-02</td><td>2e-01</td><td>18</td><td>2.0</td><td>20</td><td> 24</td><td> 50</td><td>1</td><td>1</td><td>1</td></tr>\n",
       "\t<tr><td>6e+01</td><td>1e+03</td><td> 6</td><td>1.9</td><td> 8</td><td>100</td><td>267</td><td>1</td><td>1</td><td>1</td></tr>\n",
       "\t<tr><td>1e-01</td><td>3e+00</td><td> 8</td><td>2.4</td><td>11</td><td>  4</td><td> 30</td><td>2</td><td>1</td><td>1</td></tr>\n",
       "\t<tr><td>1e+00</td><td>8e+00</td><td> 8</td><td>2.8</td><td>11</td><td>  5</td><td> 45</td><td>3</td><td>1</td><td>3</td></tr>\n",
       "\t<tr><td>2e-02</td><td>4e-01</td><td>12</td><td>1.3</td><td>13</td><td>  3</td><td> 19</td><td>4</td><td>1</td><td>3</td></tr>\n",
       "\t<tr><td>5e-02</td><td>3e-01</td><td>11</td><td>2.0</td><td>13</td><td>  2</td><td> 30</td><td>4</td><td>1</td><td>3</td></tr>\n",
       "\t<tr><td>2e+00</td><td>6e+00</td><td>14</td><td>5.6</td><td>19</td><td>  5</td><td> 12</td><td>2</td><td>1</td><td>1</td></tr>\n",
       "\t<tr><td>4e+00</td><td>1e+01</td><td>14</td><td>3.1</td><td>17</td><td>  6</td><td>120</td><td>2</td><td>1</td><td>1</td></tr>\n",
       "\t<tr><td>2e+02</td><td>5e+02</td><td>12</td><td>1.0</td><td>13</td><td> 24</td><td>440</td><td>5</td><td>5</td><td>5</td></tr>\n",
       "\t<tr><td>5e-01</td><td>2e+01</td><td>15</td><td>1.8</td><td>17</td><td> 12</td><td>140</td><td>2</td><td>2</td><td>2</td></tr>\n",
       "\t<tr><td>1e+01</td><td>1e+02</td><td>10</td><td>0.9</td><td>11</td><td> 20</td><td>170</td><td>4</td><td>4</td><td>4</td></tr>\n",
       "\t<tr><td>2e+00</td><td>1e+01</td><td>12</td><td>1.8</td><td>14</td><td> 13</td><td> 17</td><td>2</td><td>1</td><td>2</td></tr>\n",
       "\t<tr><td>2e+02</td><td>2e+02</td><td> 6</td><td>1.9</td><td> 8</td><td> 27</td><td>115</td><td>4</td><td>4</td><td>4</td></tr>\n",
       "\t<tr><td>2e+00</td><td>1e+01</td><td> 8</td><td>0.9</td><td> 8</td><td> 18</td><td> 31</td><td>5</td><td>5</td><td>5</td></tr>\n",
       "\t<tr><td>4e+00</td><td>4e+01</td><td>11</td><td>1.8</td><td>12</td><td> 14</td><td> 63</td><td>2</td><td>2</td><td>2</td></tr>\n",
       "\t<tr><td>3e-01</td><td>2e+00</td><td>11</td><td>2.6</td><td>13</td><td>  5</td><td> 21</td><td>3</td><td>1</td><td>3</td></tr>\n",
       "\t<tr><td>4e+00</td><td>5e+01</td><td> 7</td><td>2.4</td><td>10</td><td> 10</td><td> 52</td><td>1</td><td>1</td><td>1</td></tr>\n",
       "\t<tr><td>7e+00</td><td>2e+02</td><td> 8</td><td>1.2</td><td>10</td><td> 29</td><td>164</td><td>2</td><td>3</td><td>2</td></tr>\n",
       "\t<tr><td>8e-01</td><td>1e+01</td><td> 6</td><td>0.9</td><td> 7</td><td>  7</td><td>225</td><td>2</td><td>2</td><td>2</td></tr>\n",
       "\t<tr><td>4e+00</td><td>2e+01</td><td> 5</td><td>0.5</td><td> 5</td><td>  6</td><td>225</td><td>3</td><td>2</td><td>3</td></tr>\n",
       "\t<tr><td>1e+01</td><td>1e+02</td><td> 3</td><td>0.6</td><td> 3</td><td> 17</td><td>150</td><td>5</td><td>5</td><td>5</td></tr>\n",
       "\t<tr><td>6e+01</td><td>2e+02</td><td> 3</td><td>0.6</td><td> 4</td><td> 20</td><td>151</td><td>5</td><td>5</td><td>5</td></tr>\n",
       "\t<tr><td>1e+00</td><td>1e+01</td><td> 8</td><td>2.4</td><td>11</td><td> 13</td><td> 90</td><td>2</td><td>2</td><td>2</td></tr>\n",
       "\t<tr><td>6e-02</td><td>1e+00</td><td> 8</td><td>2.2</td><td>10</td><td>  4</td><td> 46</td><td>3</td><td>1</td><td>2</td></tr>\n",
       "\t<tr><td>9e-01</td><td>3e+00</td><td>11</td><td>2.3</td><td>13</td><td>  4</td><td> 60</td><td>2</td><td>1</td><td>2</td></tr>\n",
       "\t<tr><td>2e+00</td><td>1e+01</td><td> 5</td><td>0.5</td><td> 5</td><td>  8</td><td>200</td><td>3</td><td>1</td><td>3</td></tr>\n",
       "\t<tr><td>1e-01</td><td>2e+00</td><td>13</td><td>2.6</td><td>16</td><td>  2</td><td> 46</td><td>3</td><td>2</td><td>2</td></tr>\n",
       "\t<tr><td>4e+00</td><td>6e+01</td><td>10</td><td>0.6</td><td>10</td><td> 24</td><td>210</td><td>4</td><td>3</td><td>4</td></tr>\n",
       "\t<tr><td>4e+00</td><td>4e+00</td><td>13</td><td>6.6</td><td>19</td><td>  3</td><td> 14</td><td>2</td><td>1</td><td>1</td></tr>\n",
       "\t<tr><td>4e+00</td><td>2e+01</td><td> 8</td><td>2.6</td><td>10</td><td> 13</td><td> 38</td><td>3</td><td>1</td><td>1</td></tr>\n",
       "</tbody>\n",
       "</table>\n"
      ],
      "text/latex": [
       "A data.frame: 62 × 10\n",
       "\\begin{tabular}{llllllllll}\n",
       " BodyWgt & BrainWgt & NonD & Dream & Sleep & Span & Gest & Pred & Exp & Danger\\\\\n",
       " <dbl> & <dbl> & <dbl> & <dbl> & <dbl> & <dbl> & <dbl> & <int> & <int> & <int>\\\\\n",
       "\\hline\n",
       "\t 7e+03 & 6e+03 &  3 & 0.5 &  3 & 39 & 645 & 3 & 5 & 3\\\\\n",
       "\t 1e+00 & 7e+00 &  6 & 2.0 &  8 &  4 &  42 & 3 & 1 & 3\\\\\n",
       "\t 3e+00 & 4e+01 & 11 & 1.8 & 12 & 14 &  60 & 1 & 1 & 1\\\\\n",
       "\t 9e-01 & 6e+00 & 13 & 3.1 & 16 &  2 &  25 & 5 & 2 & 3\\\\\n",
       "\t 3e+03 & 5e+03 &  2 & 1.8 &  4 & 69 & 624 & 3 & 5 & 4\\\\\n",
       "\t 1e+01 & 2e+02 &  9 & 0.7 & 10 & 27 & 180 & 4 & 4 & 4\\\\\n",
       "\t 2e-02 & 3e-01 & 16 & 3.9 & 20 & 19 &  35 & 1 & 1 & 1\\\\\n",
       "\t 2e+02 & 2e+02 &  5 & 1.0 &  6 & 30 & 392 & 4 & 5 & 4\\\\\n",
       "\t 3e+00 & 3e+01 & 11 & 3.6 & 14 & 28 &  63 & 1 & 2 & 1\\\\\n",
       "\t 5e+01 & 4e+02 &  8 & 1.4 & 10 & 50 & 230 & 1 & 1 & 1\\\\\n",
       "\t 4e-01 & 6e+00 & 11 & 1.5 & 12 &  7 & 112 & 5 & 4 & 4\\\\\n",
       "\t 5e+02 & 4e+02 &  3 & 0.7 &  4 & 30 & 281 & 5 & 5 & 5\\\\\n",
       "\t 6e-01 & 2e+00 &  8 & 2.7 & 10 &  4 &  60 & 2 & 1 & 2\\\\\n",
       "\t 2e+02 & 4e+02 &  3 & 0.5 &  3 & 40 & 365 & 5 & 5 & 5\\\\\n",
       "\t 7e-02 & 1e+00 &  6 & 2.1 &  8 &  4 &  42 & 1 & 1 & 1\\\\\n",
       "\t 3e+00 & 2e+01 &  9 & 0.0 &  9 & 50 &  28 & 2 & 2 & 2\\\\\n",
       "\t 8e-01 & 4e+00 &  7 & 4.1 & 11 &  6 &  42 & 2 & 2 & 2\\\\\n",
       "\t 2e-01 & 5e+00 & 10 & 1.2 & 11 & 10 & 120 & 2 & 2 & 2\\\\\n",
       "\t 1e+00 & 2e+01 &  5 & 1.3 &  6 & 34 & 230 & 1 & 2 & 1\\\\\n",
       "\t 6e+01 & 8e+01 & 12 & 6.1 & 18 &  7 &  14 & 1 & 1 & 1\\\\\n",
       "\t 5e+02 & 7e+02 & 12 & 0.3 & 12 & 28 & 400 & 5 & 5 & 5\\\\\n",
       "\t 3e+01 & 1e+02 &  3 & 0.5 &  4 & 20 & 148 & 5 & 5 & 5\\\\\n",
       "\t 1e-01 & 1e+00 & 11 & 3.4 & 14 &  4 &  16 & 3 & 1 & 2\\\\\n",
       "\t 2e+02 & 4e+02 & 11 & 1.4 & 12 & 39 & 252 & 1 & 4 & 1\\\\\n",
       "\t 8e+01 & 3e+02 &  5 & 1.5 &  6 & 41 & 310 & 1 & 3 & 1\\\\\n",
       "\t 4e+01 & 1e+02 & 10 & 3.9 & 13 & 16 &  63 & 1 & 1 & 1\\\\\n",
       "\t 1e-01 & 4e+00 & 10 & 3.4 & 14 &  9 &  28 & 5 & 1 & 3\\\\\n",
       "\t 1e+00 & 6e+00 &  7 & 0.8 &  8 &  8 &  68 & 5 & 3 & 4\\\\\n",
       "\t 5e+02 & 7e+02 &  2 & 0.8 &  3 & 46 & 336 & 5 & 5 & 5\\\\\n",
       "\t 1e+02 & 2e+02 &  8 & 2.7 & 11 & 22 & 100 & 1 & 1 & 1\\\\\n",
       "\t ⋮ & ⋮ & ⋮ & ⋮ & ⋮ & ⋮ & ⋮ & ⋮ & ⋮ & ⋮\\\\\n",
       "\t 1e-02 & 2e-01 & 18 & 2.0 & 20 &  24 &  50 & 1 & 1 & 1\\\\\n",
       "\t 6e+01 & 1e+03 &  6 & 1.9 &  8 & 100 & 267 & 1 & 1 & 1\\\\\n",
       "\t 1e-01 & 3e+00 &  8 & 2.4 & 11 &   4 &  30 & 2 & 1 & 1\\\\\n",
       "\t 1e+00 & 8e+00 &  8 & 2.8 & 11 &   5 &  45 & 3 & 1 & 3\\\\\n",
       "\t 2e-02 & 4e-01 & 12 & 1.3 & 13 &   3 &  19 & 4 & 1 & 3\\\\\n",
       "\t 5e-02 & 3e-01 & 11 & 2.0 & 13 &   2 &  30 & 4 & 1 & 3\\\\\n",
       "\t 2e+00 & 6e+00 & 14 & 5.6 & 19 &   5 &  12 & 2 & 1 & 1\\\\\n",
       "\t 4e+00 & 1e+01 & 14 & 3.1 & 17 &   6 & 120 & 2 & 1 & 1\\\\\n",
       "\t 2e+02 & 5e+02 & 12 & 1.0 & 13 &  24 & 440 & 5 & 5 & 5\\\\\n",
       "\t 5e-01 & 2e+01 & 15 & 1.8 & 17 &  12 & 140 & 2 & 2 & 2\\\\\n",
       "\t 1e+01 & 1e+02 & 10 & 0.9 & 11 &  20 & 170 & 4 & 4 & 4\\\\\n",
       "\t 2e+00 & 1e+01 & 12 & 1.8 & 14 &  13 &  17 & 2 & 1 & 2\\\\\n",
       "\t 2e+02 & 2e+02 &  6 & 1.9 &  8 &  27 & 115 & 4 & 4 & 4\\\\\n",
       "\t 2e+00 & 1e+01 &  8 & 0.9 &  8 &  18 &  31 & 5 & 5 & 5\\\\\n",
       "\t 4e+00 & 4e+01 & 11 & 1.8 & 12 &  14 &  63 & 2 & 2 & 2\\\\\n",
       "\t 3e-01 & 2e+00 & 11 & 2.6 & 13 &   5 &  21 & 3 & 1 & 3\\\\\n",
       "\t 4e+00 & 5e+01 &  7 & 2.4 & 10 &  10 &  52 & 1 & 1 & 1\\\\\n",
       "\t 7e+00 & 2e+02 &  8 & 1.2 & 10 &  29 & 164 & 2 & 3 & 2\\\\\n",
       "\t 8e-01 & 1e+01 &  6 & 0.9 &  7 &   7 & 225 & 2 & 2 & 2\\\\\n",
       "\t 4e+00 & 2e+01 &  5 & 0.5 &  5 &   6 & 225 & 3 & 2 & 3\\\\\n",
       "\t 1e+01 & 1e+02 &  3 & 0.6 &  3 &  17 & 150 & 5 & 5 & 5\\\\\n",
       "\t 6e+01 & 2e+02 &  3 & 0.6 &  4 &  20 & 151 & 5 & 5 & 5\\\\\n",
       "\t 1e+00 & 1e+01 &  8 & 2.4 & 11 &  13 &  90 & 2 & 2 & 2\\\\\n",
       "\t 6e-02 & 1e+00 &  8 & 2.2 & 10 &   4 &  46 & 3 & 1 & 2\\\\\n",
       "\t 9e-01 & 3e+00 & 11 & 2.3 & 13 &   4 &  60 & 2 & 1 & 2\\\\\n",
       "\t 2e+00 & 1e+01 &  5 & 0.5 &  5 &   8 & 200 & 3 & 1 & 3\\\\\n",
       "\t 1e-01 & 2e+00 & 13 & 2.6 & 16 &   2 &  46 & 3 & 2 & 2\\\\\n",
       "\t 4e+00 & 6e+01 & 10 & 0.6 & 10 &  24 & 210 & 4 & 3 & 4\\\\\n",
       "\t 4e+00 & 4e+00 & 13 & 6.6 & 19 &   3 &  14 & 2 & 1 & 1\\\\\n",
       "\t 4e+00 & 2e+01 &  8 & 2.6 & 10 &  13 &  38 & 3 & 1 & 1\\\\\n",
       "\\end{tabular}\n"
      ],
      "text/markdown": [
       "\n",
       "A data.frame: 62 × 10\n",
       "\n",
       "| BodyWgt &lt;dbl&gt; | BrainWgt &lt;dbl&gt; | NonD &lt;dbl&gt; | Dream &lt;dbl&gt; | Sleep &lt;dbl&gt; | Span &lt;dbl&gt; | Gest &lt;dbl&gt; | Pred &lt;int&gt; | Exp &lt;int&gt; | Danger &lt;int&gt; |\n",
       "|---|---|---|---|---|---|---|---|---|---|\n",
       "| 7e+03 | 6e+03 |  3 | 0.5 |  3 | 39 | 645 | 3 | 5 | 3 |\n",
       "| 1e+00 | 7e+00 |  6 | 2.0 |  8 |  4 |  42 | 3 | 1 | 3 |\n",
       "| 3e+00 | 4e+01 | 11 | 1.8 | 12 | 14 |  60 | 1 | 1 | 1 |\n",
       "| 9e-01 | 6e+00 | 13 | 3.1 | 16 |  2 |  25 | 5 | 2 | 3 |\n",
       "| 3e+03 | 5e+03 |  2 | 1.8 |  4 | 69 | 624 | 3 | 5 | 4 |\n",
       "| 1e+01 | 2e+02 |  9 | 0.7 | 10 | 27 | 180 | 4 | 4 | 4 |\n",
       "| 2e-02 | 3e-01 | 16 | 3.9 | 20 | 19 |  35 | 1 | 1 | 1 |\n",
       "| 2e+02 | 2e+02 |  5 | 1.0 |  6 | 30 | 392 | 4 | 5 | 4 |\n",
       "| 3e+00 | 3e+01 | 11 | 3.6 | 14 | 28 |  63 | 1 | 2 | 1 |\n",
       "| 5e+01 | 4e+02 |  8 | 1.4 | 10 | 50 | 230 | 1 | 1 | 1 |\n",
       "| 4e-01 | 6e+00 | 11 | 1.5 | 12 |  7 | 112 | 5 | 4 | 4 |\n",
       "| 5e+02 | 4e+02 |  3 | 0.7 |  4 | 30 | 281 | 5 | 5 | 5 |\n",
       "| 6e-01 | 2e+00 |  8 | 2.7 | 10 |  4 |  60 | 2 | 1 | 2 |\n",
       "| 2e+02 | 4e+02 |  3 | 0.5 |  3 | 40 | 365 | 5 | 5 | 5 |\n",
       "| 7e-02 | 1e+00 |  6 | 2.1 |  8 |  4 |  42 | 1 | 1 | 1 |\n",
       "| 3e+00 | 2e+01 |  9 | 0.0 |  9 | 50 |  28 | 2 | 2 | 2 |\n",
       "| 8e-01 | 4e+00 |  7 | 4.1 | 11 |  6 |  42 | 2 | 2 | 2 |\n",
       "| 2e-01 | 5e+00 | 10 | 1.2 | 11 | 10 | 120 | 2 | 2 | 2 |\n",
       "| 1e+00 | 2e+01 |  5 | 1.3 |  6 | 34 | 230 | 1 | 2 | 1 |\n",
       "| 6e+01 | 8e+01 | 12 | 6.1 | 18 |  7 |  14 | 1 | 1 | 1 |\n",
       "| 5e+02 | 7e+02 | 12 | 0.3 | 12 | 28 | 400 | 5 | 5 | 5 |\n",
       "| 3e+01 | 1e+02 |  3 | 0.5 |  4 | 20 | 148 | 5 | 5 | 5 |\n",
       "| 1e-01 | 1e+00 | 11 | 3.4 | 14 |  4 |  16 | 3 | 1 | 2 |\n",
       "| 2e+02 | 4e+02 | 11 | 1.4 | 12 | 39 | 252 | 1 | 4 | 1 |\n",
       "| 8e+01 | 3e+02 |  5 | 1.5 |  6 | 41 | 310 | 1 | 3 | 1 |\n",
       "| 4e+01 | 1e+02 | 10 | 3.9 | 13 | 16 |  63 | 1 | 1 | 1 |\n",
       "| 1e-01 | 4e+00 | 10 | 3.4 | 14 |  9 |  28 | 5 | 1 | 3 |\n",
       "| 1e+00 | 6e+00 |  7 | 0.8 |  8 |  8 |  68 | 5 | 3 | 4 |\n",
       "| 5e+02 | 7e+02 |  2 | 0.8 |  3 | 46 | 336 | 5 | 5 | 5 |\n",
       "| 1e+02 | 2e+02 |  8 | 2.7 | 11 | 22 | 100 | 1 | 1 | 1 |\n",
       "| ⋮ | ⋮ | ⋮ | ⋮ | ⋮ | ⋮ | ⋮ | ⋮ | ⋮ | ⋮ |\n",
       "| 1e-02 | 2e-01 | 18 | 2.0 | 20 |  24 |  50 | 1 | 1 | 1 |\n",
       "| 6e+01 | 1e+03 |  6 | 1.9 |  8 | 100 | 267 | 1 | 1 | 1 |\n",
       "| 1e-01 | 3e+00 |  8 | 2.4 | 11 |   4 |  30 | 2 | 1 | 1 |\n",
       "| 1e+00 | 8e+00 |  8 | 2.8 | 11 |   5 |  45 | 3 | 1 | 3 |\n",
       "| 2e-02 | 4e-01 | 12 | 1.3 | 13 |   3 |  19 | 4 | 1 | 3 |\n",
       "| 5e-02 | 3e-01 | 11 | 2.0 | 13 |   2 |  30 | 4 | 1 | 3 |\n",
       "| 2e+00 | 6e+00 | 14 | 5.6 | 19 |   5 |  12 | 2 | 1 | 1 |\n",
       "| 4e+00 | 1e+01 | 14 | 3.1 | 17 |   6 | 120 | 2 | 1 | 1 |\n",
       "| 2e+02 | 5e+02 | 12 | 1.0 | 13 |  24 | 440 | 5 | 5 | 5 |\n",
       "| 5e-01 | 2e+01 | 15 | 1.8 | 17 |  12 | 140 | 2 | 2 | 2 |\n",
       "| 1e+01 | 1e+02 | 10 | 0.9 | 11 |  20 | 170 | 4 | 4 | 4 |\n",
       "| 2e+00 | 1e+01 | 12 | 1.8 | 14 |  13 |  17 | 2 | 1 | 2 |\n",
       "| 2e+02 | 2e+02 |  6 | 1.9 |  8 |  27 | 115 | 4 | 4 | 4 |\n",
       "| 2e+00 | 1e+01 |  8 | 0.9 |  8 |  18 |  31 | 5 | 5 | 5 |\n",
       "| 4e+00 | 4e+01 | 11 | 1.8 | 12 |  14 |  63 | 2 | 2 | 2 |\n",
       "| 3e-01 | 2e+00 | 11 | 2.6 | 13 |   5 |  21 | 3 | 1 | 3 |\n",
       "| 4e+00 | 5e+01 |  7 | 2.4 | 10 |  10 |  52 | 1 | 1 | 1 |\n",
       "| 7e+00 | 2e+02 |  8 | 1.2 | 10 |  29 | 164 | 2 | 3 | 2 |\n",
       "| 8e-01 | 1e+01 |  6 | 0.9 |  7 |   7 | 225 | 2 | 2 | 2 |\n",
       "| 4e+00 | 2e+01 |  5 | 0.5 |  5 |   6 | 225 | 3 | 2 | 3 |\n",
       "| 1e+01 | 1e+02 |  3 | 0.6 |  3 |  17 | 150 | 5 | 5 | 5 |\n",
       "| 6e+01 | 2e+02 |  3 | 0.6 |  4 |  20 | 151 | 5 | 5 | 5 |\n",
       "| 1e+00 | 1e+01 |  8 | 2.4 | 11 |  13 |  90 | 2 | 2 | 2 |\n",
       "| 6e-02 | 1e+00 |  8 | 2.2 | 10 |   4 |  46 | 3 | 1 | 2 |\n",
       "| 9e-01 | 3e+00 | 11 | 2.3 | 13 |   4 |  60 | 2 | 1 | 2 |\n",
       "| 2e+00 | 1e+01 |  5 | 0.5 |  5 |   8 | 200 | 3 | 1 | 3 |\n",
       "| 1e-01 | 2e+00 | 13 | 2.6 | 16 |   2 |  46 | 3 | 2 | 2 |\n",
       "| 4e+00 | 6e+01 | 10 | 0.6 | 10 |  24 | 210 | 4 | 3 | 4 |\n",
       "| 4e+00 | 4e+00 | 13 | 6.6 | 19 |   3 |  14 | 2 | 1 | 1 |\n",
       "| 4e+00 | 2e+01 |  8 | 2.6 | 10 |  13 |  38 | 3 | 1 | 1 |\n",
       "\n"
      ],
      "text/plain": [
       "   BodyWgt BrainWgt NonD Dream Sleep Span Gest Pred Exp Danger\n",
       "1  7e+03   6e+03     3   0.5    3    39   645  3    5   3     \n",
       "2  1e+00   7e+00     6   2.0    8     4    42  3    1   3     \n",
       "3  3e+00   4e+01    11   1.8   12    14    60  1    1   1     \n",
       "4  9e-01   6e+00    13   3.1   16     2    25  5    2   3     \n",
       "5  3e+03   5e+03     2   1.8    4    69   624  3    5   4     \n",
       "6  1e+01   2e+02     9   0.7   10    27   180  4    4   4     \n",
       "7  2e-02   3e-01    16   3.9   20    19    35  1    1   1     \n",
       "8  2e+02   2e+02     5   1.0    6    30   392  4    5   4     \n",
       "9  3e+00   3e+01    11   3.6   14    28    63  1    2   1     \n",
       "10 5e+01   4e+02     8   1.4   10    50   230  1    1   1     \n",
       "11 4e-01   6e+00    11   1.5   12     7   112  5    4   4     \n",
       "12 5e+02   4e+02     3   0.7    4    30   281  5    5   5     \n",
       "13 6e-01   2e+00     8   2.7   10     4    60  2    1   2     \n",
       "14 2e+02   4e+02     3   0.5    3    40   365  5    5   5     \n",
       "15 7e-02   1e+00     6   2.1    8     4    42  1    1   1     \n",
       "16 3e+00   2e+01     9   0.0    9    50    28  2    2   2     \n",
       "17 8e-01   4e+00     7   4.1   11     6    42  2    2   2     \n",
       "18 2e-01   5e+00    10   1.2   11    10   120  2    2   2     \n",
       "19 1e+00   2e+01     5   1.3    6    34   230  1    2   1     \n",
       "20 6e+01   8e+01    12   6.1   18     7    14  1    1   1     \n",
       "21 5e+02   7e+02    12   0.3   12    28   400  5    5   5     \n",
       "22 3e+01   1e+02     3   0.5    4    20   148  5    5   5     \n",
       "23 1e-01   1e+00    11   3.4   14     4    16  3    1   2     \n",
       "24 2e+02   4e+02    11   1.4   12    39   252  1    4   1     \n",
       "25 8e+01   3e+02     5   1.5    6    41   310  1    3   1     \n",
       "26 4e+01   1e+02    10   3.9   13    16    63  1    1   1     \n",
       "27 1e-01   4e+00    10   3.4   14     9    28  5    1   3     \n",
       "28 1e+00   6e+00     7   0.8    8     8    68  5    3   4     \n",
       "29 5e+02   7e+02     2   0.8    3    46   336  5    5   5     \n",
       "30 1e+02   2e+02     8   2.7   11    22   100  1    1   1     \n",
       "⋮  ⋮       ⋮        ⋮    ⋮     ⋮     ⋮    ⋮    ⋮    ⋮   ⋮     \n",
       "33 1e-02   2e-01    18   2.0   20     24   50  1    1   1     \n",
       "34 6e+01   1e+03     6   1.9    8    100  267  1    1   1     \n",
       "35 1e-01   3e+00     8   2.4   11      4   30  2    1   1     \n",
       "36 1e+00   8e+00     8   2.8   11      5   45  3    1   3     \n",
       "37 2e-02   4e-01    12   1.3   13      3   19  4    1   3     \n",
       "38 5e-02   3e-01    11   2.0   13      2   30  4    1   3     \n",
       "39 2e+00   6e+00    14   5.6   19      5   12  2    1   1     \n",
       "40 4e+00   1e+01    14   3.1   17      6  120  2    1   1     \n",
       "41 2e+02   5e+02    12   1.0   13     24  440  5    5   5     \n",
       "42 5e-01   2e+01    15   1.8   17     12  140  2    2   2     \n",
       "43 1e+01   1e+02    10   0.9   11     20  170  4    4   4     \n",
       "44 2e+00   1e+01    12   1.8   14     13   17  2    1   2     \n",
       "45 2e+02   2e+02     6   1.9    8     27  115  4    4   4     \n",
       "46 2e+00   1e+01     8   0.9    8     18   31  5    5   5     \n",
       "47 4e+00   4e+01    11   1.8   12     14   63  2    2   2     \n",
       "48 3e-01   2e+00    11   2.6   13      5   21  3    1   3     \n",
       "49 4e+00   5e+01     7   2.4   10     10   52  1    1   1     \n",
       "50 7e+00   2e+02     8   1.2   10     29  164  2    3   2     \n",
       "51 8e-01   1e+01     6   0.9    7      7  225  2    2   2     \n",
       "52 4e+00   2e+01     5   0.5    5      6  225  3    2   3     \n",
       "53 1e+01   1e+02     3   0.6    3     17  150  5    5   5     \n",
       "54 6e+01   2e+02     3   0.6    4     20  151  5    5   5     \n",
       "55 1e+00   1e+01     8   2.4   11     13   90  2    2   2     \n",
       "56 6e-02   1e+00     8   2.2   10      4   46  3    1   2     \n",
       "57 9e-01   3e+00    11   2.3   13      4   60  2    1   2     \n",
       "58 2e+00   1e+01     5   0.5    5      8  200  3    1   3     \n",
       "59 1e-01   2e+00    13   2.6   16      2   46  3    2   2     \n",
       "60 4e+00   6e+01    10   0.6   10     24  210  4    3   4     \n",
       "61 4e+00   4e+00    13   6.6   19      3   14  2    1   1     \n",
       "62 4e+00   2e+01     8   2.6   10     13   38  3    1   1     "
      ]
     },
     "metadata": {},
     "output_type": "display_data"
    }
   ],
   "source": [
    "dataset3 <- complete(imp, 3)\n",
    "dataset3"
   ]
  },
  {
   "cell_type": "markdown",
   "metadata": {},
   "source": [
    "# 处理缺失值的其他方法"
   ]
  },
  {
   "cell_type": "markdown",
   "metadata": {},
   "source": [
    "## 成对删除"
   ]
  },
  {
   "cell_type": "code",
   "execution_count": 26,
   "metadata": {
    "vscode": {
     "languageId": "r"
    }
   },
   "outputs": [
    {
     "data": {
      "text/html": [
       "<table class=\"dataframe\">\n",
       "<caption>A matrix: 10 × 10 of type dbl</caption>\n",
       "<thead>\n",
       "\t<tr><th></th><th scope=col>BodyWgt</th><th scope=col>BrainWgt</th><th scope=col>NonD</th><th scope=col>Dream</th><th scope=col>Sleep</th><th scope=col>Span</th><th scope=col>Gest</th><th scope=col>Pred</th><th scope=col>Exp</th><th scope=col>Danger</th></tr>\n",
       "</thead>\n",
       "<tbody>\n",
       "\t<tr><th scope=row>BodyWgt</th><td> 1.00</td><td> 0.93</td><td>-0.4</td><td>-0.1</td><td>-0.3</td><td> 0.30</td><td> 0.7</td><td> 0.06</td><td> 0.3</td><td> 0.13</td></tr>\n",
       "\t<tr><th scope=row>BrainWgt</th><td> 0.93</td><td> 1.00</td><td>-0.4</td><td>-0.1</td><td>-0.4</td><td> 0.51</td><td> 0.7</td><td> 0.03</td><td> 0.4</td><td> 0.15</td></tr>\n",
       "\t<tr><th scope=row>NonD</th><td>-0.38</td><td>-0.37</td><td> 1.0</td><td> 0.5</td><td> 1.0</td><td>-0.38</td><td>-0.6</td><td>-0.32</td><td>-0.5</td><td>-0.48</td></tr>\n",
       "\t<tr><th scope=row>Dream</th><td>-0.11</td><td>-0.11</td><td> 0.5</td><td> 1.0</td><td> 0.7</td><td>-0.30</td><td>-0.5</td><td>-0.45</td><td>-0.5</td><td>-0.58</td></tr>\n",
       "\t<tr><th scope=row>Sleep</th><td>-0.31</td><td>-0.36</td><td> 1.0</td><td> 0.7</td><td> 1.0</td><td>-0.41</td><td>-0.6</td><td>-0.40</td><td>-0.6</td><td>-0.59</td></tr>\n",
       "\t<tr><th scope=row>Span</th><td> 0.30</td><td> 0.51</td><td>-0.4</td><td>-0.3</td><td>-0.4</td><td> 1.00</td><td> 0.6</td><td>-0.10</td><td> 0.4</td><td> 0.06</td></tr>\n",
       "\t<tr><th scope=row>Gest</th><td> 0.65</td><td> 0.75</td><td>-0.6</td><td>-0.5</td><td>-0.6</td><td> 0.61</td><td> 1.0</td><td> 0.20</td><td> 0.6</td><td> 0.38</td></tr>\n",
       "\t<tr><th scope=row>Pred</th><td> 0.06</td><td> 0.03</td><td>-0.3</td><td>-0.4</td><td>-0.4</td><td>-0.10</td><td> 0.2</td><td> 1.00</td><td> 0.6</td><td> 0.92</td></tr>\n",
       "\t<tr><th scope=row>Exp</th><td> 0.34</td><td> 0.37</td><td>-0.5</td><td>-0.5</td><td>-0.6</td><td> 0.36</td><td> 0.6</td><td> 0.62</td><td> 1.0</td><td> 0.79</td></tr>\n",
       "\t<tr><th scope=row>Danger</th><td> 0.13</td><td> 0.15</td><td>-0.5</td><td>-0.6</td><td>-0.6</td><td> 0.06</td><td> 0.4</td><td> 0.92</td><td> 0.8</td><td> 1.00</td></tr>\n",
       "</tbody>\n",
       "</table>\n"
      ],
      "text/latex": [
       "A matrix: 10 × 10 of type dbl\n",
       "\\begin{tabular}{r|llllllllll}\n",
       "  & BodyWgt & BrainWgt & NonD & Dream & Sleep & Span & Gest & Pred & Exp & Danger\\\\\n",
       "\\hline\n",
       "\tBodyWgt &  1.00 &  0.93 & -0.4 & -0.1 & -0.3 &  0.30 &  0.7 &  0.06 &  0.3 &  0.13\\\\\n",
       "\tBrainWgt &  0.93 &  1.00 & -0.4 & -0.1 & -0.4 &  0.51 &  0.7 &  0.03 &  0.4 &  0.15\\\\\n",
       "\tNonD & -0.38 & -0.37 &  1.0 &  0.5 &  1.0 & -0.38 & -0.6 & -0.32 & -0.5 & -0.48\\\\\n",
       "\tDream & -0.11 & -0.11 &  0.5 &  1.0 &  0.7 & -0.30 & -0.5 & -0.45 & -0.5 & -0.58\\\\\n",
       "\tSleep & -0.31 & -0.36 &  1.0 &  0.7 &  1.0 & -0.41 & -0.6 & -0.40 & -0.6 & -0.59\\\\\n",
       "\tSpan &  0.30 &  0.51 & -0.4 & -0.3 & -0.4 &  1.00 &  0.6 & -0.10 &  0.4 &  0.06\\\\\n",
       "\tGest &  0.65 &  0.75 & -0.6 & -0.5 & -0.6 &  0.61 &  1.0 &  0.20 &  0.6 &  0.38\\\\\n",
       "\tPred &  0.06 &  0.03 & -0.3 & -0.4 & -0.4 & -0.10 &  0.2 &  1.00 &  0.6 &  0.92\\\\\n",
       "\tExp &  0.34 &  0.37 & -0.5 & -0.5 & -0.6 &  0.36 &  0.6 &  0.62 &  1.0 &  0.79\\\\\n",
       "\tDanger &  0.13 &  0.15 & -0.5 & -0.6 & -0.6 &  0.06 &  0.4 &  0.92 &  0.8 &  1.00\\\\\n",
       "\\end{tabular}\n"
      ],
      "text/markdown": [
       "\n",
       "A matrix: 10 × 10 of type dbl\n",
       "\n",
       "| <!--/--> | BodyWgt | BrainWgt | NonD | Dream | Sleep | Span | Gest | Pred | Exp | Danger |\n",
       "|---|---|---|---|---|---|---|---|---|---|---|\n",
       "| BodyWgt |  1.00 |  0.93 | -0.4 | -0.1 | -0.3 |  0.30 |  0.7 |  0.06 |  0.3 |  0.13 |\n",
       "| BrainWgt |  0.93 |  1.00 | -0.4 | -0.1 | -0.4 |  0.51 |  0.7 |  0.03 |  0.4 |  0.15 |\n",
       "| NonD | -0.38 | -0.37 |  1.0 |  0.5 |  1.0 | -0.38 | -0.6 | -0.32 | -0.5 | -0.48 |\n",
       "| Dream | -0.11 | -0.11 |  0.5 |  1.0 |  0.7 | -0.30 | -0.5 | -0.45 | -0.5 | -0.58 |\n",
       "| Sleep | -0.31 | -0.36 |  1.0 |  0.7 |  1.0 | -0.41 | -0.6 | -0.40 | -0.6 | -0.59 |\n",
       "| Span |  0.30 |  0.51 | -0.4 | -0.3 | -0.4 |  1.00 |  0.6 | -0.10 |  0.4 |  0.06 |\n",
       "| Gest |  0.65 |  0.75 | -0.6 | -0.5 | -0.6 |  0.61 |  1.0 |  0.20 |  0.6 |  0.38 |\n",
       "| Pred |  0.06 |  0.03 | -0.3 | -0.4 | -0.4 | -0.10 |  0.2 |  1.00 |  0.6 |  0.92 |\n",
       "| Exp |  0.34 |  0.37 | -0.5 | -0.5 | -0.6 |  0.36 |  0.6 |  0.62 |  1.0 |  0.79 |\n",
       "| Danger |  0.13 |  0.15 | -0.5 | -0.6 | -0.6 |  0.06 |  0.4 |  0.92 |  0.8 |  1.00 |\n",
       "\n"
      ],
      "text/plain": [
       "         BodyWgt BrainWgt NonD Dream Sleep Span  Gest Pred  Exp  Danger\n",
       "BodyWgt   1.00    0.93    -0.4 -0.1  -0.3   0.30  0.7  0.06  0.3  0.13 \n",
       "BrainWgt  0.93    1.00    -0.4 -0.1  -0.4   0.51  0.7  0.03  0.4  0.15 \n",
       "NonD     -0.38   -0.37     1.0  0.5   1.0  -0.38 -0.6 -0.32 -0.5 -0.48 \n",
       "Dream    -0.11   -0.11     0.5  1.0   0.7  -0.30 -0.5 -0.45 -0.5 -0.58 \n",
       "Sleep    -0.31   -0.36     1.0  0.7   1.0  -0.41 -0.6 -0.40 -0.6 -0.59 \n",
       "Span      0.30    0.51    -0.4 -0.3  -0.4   1.00  0.6 -0.10  0.4  0.06 \n",
       "Gest      0.65    0.75    -0.6 -0.5  -0.6   0.61  1.0  0.20  0.6  0.38 \n",
       "Pred      0.06    0.03    -0.3 -0.4  -0.4  -0.10  0.2  1.00  0.6  0.92 \n",
       "Exp       0.34    0.37    -0.5 -0.5  -0.6   0.36  0.6  0.62  1.0  0.79 \n",
       "Danger    0.13    0.15    -0.5 -0.6  -0.6   0.06  0.4  0.92  0.8  1.00 "
      ]
     },
     "metadata": {},
     "output_type": "display_data"
    }
   ],
   "source": [
    "cor(sleep, use=\"pairwise.complete.obs\")"
   ]
  },
  {
   "cell_type": "code",
   "execution_count": 1,
   "metadata": {
    "vscode": {
     "languageId": "r"
    }
   },
   "outputs": [
    {
     "data": {
      "text/plain": [
       "\n",
       "Call:\n",
       "lm(formula = y ~ x, data = df)\n",
       "\n",
       "Residuals:\n",
       "     Min       1Q   Median       3Q      Max \n",
       "-1.26180 -0.27651 -0.00617  0.21299  1.17437 \n",
       "\n",
       "Coefficients:\n",
       "            Estimate Std. Error t value Pr(>|t|)  \n",
       "(Intercept)  0.14181    0.43857   0.323    0.752  \n",
       "x           -0.02637    0.01211  -2.178    0.052 .\n",
       "---\n",
       "Signif. codes:  0 '***' 0.001 '**' 0.01 '*' 0.05 '.' 0.1 ' ' 1\n",
       "\n",
       "Residual standard error: 0.6057 on 11 degrees of freedom\n",
       "Multiple R-squared:  0.3013,\tAdjusted R-squared:  0.2378 \n",
       "F-statistic: 4.744 on 1 and 11 DF,  p-value: 0.05205\n"
      ]
     },
     "metadata": {},
     "output_type": "display_data"
    }
   ],
   "source": [
    "y  <- c(-1.621, -1.585, -1.442, -1.371, -1.348, -0.889, -0.786, -0.469, -0.339, -0.218, -0.017, 0.012, 0.446)\n",
    "x <- c(19, 55, 52, 42, 42, 44, 44, 27, 18, 13, 33, 13, 33)\n",
    "df <- data.frame(x, y)\n",
    "model  <- lm(y~x, data=df)\n",
    "summary(model)"
   ]
  },
  {
   "cell_type": "code",
   "execution_count": null,
   "metadata": {
    "vscode": {
     "languageId": "r"
    }
   },
   "outputs": [],
   "source": []
  }
 ],
 "metadata": {
  "kernelspec": {
   "display_name": "R",
   "language": "R",
   "name": "ir"
  },
  "language_info": {
   "codemirror_mode": "r",
   "file_extension": ".r",
   "mimetype": "text/x-r-source",
   "name": "R",
   "pygments_lexer": "r",
   "version": "4.4.2"
  }
 },
 "nbformat": 4,
 "nbformat_minor": 2
}

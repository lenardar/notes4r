{
 "cells": [
  {
   "cell_type": "markdown",
   "metadata": {},
   "source": [
    "学习一些R语言高级编程技术。"
   ]
  },
  {
   "cell_type": "markdown",
   "metadata": {},
   "source": [
    "# 面向对象的编程"
   ]
  },
  {
   "cell_type": "code",
   "execution_count": 1,
   "metadata": {
    "vscode": {
     "languageId": "r"
    }
   },
   "outputs": [
    {
     "data": {
      "text/plain": [
       "     height         weight     \n",
       " Min.   :58.0   Min.   :115.0  \n",
       " 1st Qu.:61.5   1st Qu.:124.5  \n",
       " Median :65.0   Median :135.0  \n",
       " Mean   :65.0   Mean   :136.7  \n",
       " 3rd Qu.:68.5   3rd Qu.:148.0  \n",
       " Max.   :72.0   Max.   :164.0  "
      ]
     },
     "metadata": {},
     "output_type": "display_data"
    }
   ],
   "source": [
    "summary(women)"
   ]
  },
  {
   "cell_type": "code",
   "execution_count": 2,
   "metadata": {
    "vscode": {
     "languageId": "r"
    }
   },
   "outputs": [
    {
     "data": {
      "text/plain": [
       "\n",
       "Call:\n",
       "lm(formula = weight ~ height, data = women)\n",
       "\n",
       "Residuals:\n",
       "    Min      1Q  Median      3Q     Max \n",
       "-1.7333 -1.1333 -0.3833  0.7417  3.1167 \n",
       "\n",
       "Coefficients:\n",
       "             Estimate Std. Error t value Pr(>|t|)    \n",
       "(Intercept) -87.51667    5.93694  -14.74 1.71e-09 ***\n",
       "height        3.45000    0.09114   37.85 1.09e-14 ***\n",
       "---\n",
       "Signif. codes:  0 '***' 0.001 '**' 0.01 '*' 0.05 '.' 0.1 ' ' 1\n",
       "\n",
       "Residual standard error: 1.525 on 13 degrees of freedom\n",
       "Multiple R-squared:  0.991,\tAdjusted R-squared:  0.9903 \n",
       "F-statistic:  1433 on 1 and 13 DF,  p-value: 1.091e-14\n"
      ]
     },
     "metadata": {},
     "output_type": "display_data"
    }
   ],
   "source": [
    "fit <- lm(weight~height, data=women)\n",
    "summary(fit)"
   ]
  },
  {
   "cell_type": "code",
   "execution_count": 3,
   "metadata": {
    "vscode": {
     "languageId": "r"
    }
   },
   "outputs": [
    {
     "data": {
      "text/html": [
       "<pre class=language-r><code>function (object, ...) \n",
       "UseMethod(\"summary\")</code></pre>"
      ],
      "text/latex": [
       "\\begin{minted}{r}\n",
       "function (object, ...) \n",
       "UseMethod(\"summary\")\n",
       "\\end{minted}"
      ],
      "text/markdown": [
       "```r\n",
       "function (object, ...) \n",
       "UseMethod(\"summary\")\n",
       "```"
      ],
      "text/plain": [
       "function (object, ...) \n",
       "UseMethod(\"summary\")\n",
       "<bytecode: 0x0000024cd9e19778>\n",
       "<environment: namespace:base>"
      ]
     },
     "metadata": {},
     "output_type": "display_data"
    }
   ],
   "source": [
    "summary"
   ]
  },
  {
   "cell_type": "code",
   "execution_count": 4,
   "metadata": {
    "vscode": {
     "languageId": "r"
    }
   },
   "outputs": [
    {
     "data": {
      "text/html": [
       "'data.frame'"
      ],
      "text/latex": [
       "'data.frame'"
      ],
      "text/markdown": [
       "'data.frame'"
      ],
      "text/plain": [
       "[1] \"data.frame\""
      ]
     },
     "metadata": {},
     "output_type": "display_data"
    }
   ],
   "source": [
    "class(women)"
   ]
  },
  {
   "cell_type": "code",
   "execution_count": 5,
   "metadata": {
    "vscode": {
     "languageId": "r"
    }
   },
   "outputs": [
    {
     "data": {
      "text/html": [
       "'lm'"
      ],
      "text/latex": [
       "'lm'"
      ],
      "text/markdown": [
       "'lm'"
      ],
      "text/plain": [
       "[1] \"lm\""
      ]
     },
     "metadata": {},
     "output_type": "display_data"
    }
   ],
   "source": [
    "class(fit)"
   ]
  },
  {
   "cell_type": "code",
   "execution_count": 6,
   "metadata": {
    "vscode": {
     "languageId": "r"
    }
   },
   "outputs": [
    {
     "data": {
      "text/plain": [
       " [1] summary.aov                         summary.aovlist*                   \n",
       " [3] summary.aspell*                     summary.check_packages_in_dir*     \n",
       " [5] summary.connection                  summary.data.frame                 \n",
       " [7] summary.Date                        summary.default                    \n",
       " [9] summary.ecdf*                       summary.factor                     \n",
       "[11] summary.glm                         summary.infl*                      \n",
       "[13] summary.lm                          summary.loess*                     \n",
       "[15] summary.manova                      summary.matrix                     \n",
       "[17] summary.mlm*                        summary.nls*                       \n",
       "[19] summary.packageStatus*              summary.POSIXct                    \n",
       "[21] summary.POSIXlt                     summary.ppr*                       \n",
       "[23] summary.prcomp*                     summary.princomp*                  \n",
       "[25] summary.proc_time                   summary.rlang:::list_of_conditions*\n",
       "[27] summary.rlang_error*                summary.rlang_message*             \n",
       "[29] summary.rlang_trace*                summary.rlang_warning*             \n",
       "[31] summary.srcfile                     summary.srcref                     \n",
       "[33] summary.stepfun                     summary.stl*                       \n",
       "[35] summary.table                       summary.tukeysmooth*               \n",
       "[37] summary.vctrs_sclr*                 summary.vctrs_vctr*                \n",
       "[39] summary.warnings                   \n",
       "see '?methods' for accessing help and source code"
      ]
     },
     "metadata": {},
     "output_type": "display_data"
    }
   ],
   "source": [
    "methods(summary)"
   ]
  },
  {
   "cell_type": "code",
   "execution_count": 1,
   "metadata": {
    "vscode": {
     "languageId": "r"
    }
   },
   "outputs": [
    {
     "name": "stdout",
     "output_type": "stream",
     "text": [
      "[1] \"method for class a\"\n",
      "[1] \"method for class b\"\n",
      "[1] \"default method\"\n",
      "[1] \"method for class a\"\n",
      "[1] \"method for class a\"\n"
     ]
    }
   ],
   "source": [
    "# 定义泛型函数\n",
    "mymethod <- function(x, ...) UseMethod(\"mymethod\")\n",
    "mymethod.default <- function(x, ...) print(\"default method\")\n",
    "mymethod.a <- function(x, ...) print(\"method for class a\")\n",
    "mymethod.b <- function(x, ...) print(\"method for class b\")\n",
    "\n",
    "# 给对象分配类\n",
    "x <- 1:5\n",
    "y <- 6:10\n",
    "z <- 11:15\n",
    "class(x) <- \"a\"\n",
    "class(y) <- \"b\"\n",
    "\n",
    "# 把泛型函数应用到对象上\n",
    "mymethod(x)\n",
    "mymethod(y)\n",
    "mymethod(z)\n",
    "\n",
    "# 将泛型函数应用到包含两个类的对象上\n",
    "class(z) <- c(\"a\", \"b\")\n",
    "mymethod(z)\n",
    "\n",
    "# 泛型函数没有默认为\"c\"的类\n",
    "class <- c(\"c\", \"a\", \"b\")\n",
    "mymethod(z)"
   ]
  },
  {
   "cell_type": "code",
   "execution_count": 2,
   "metadata": {
    "vscode": {
     "languageId": "r"
    }
   },
   "outputs": [
    {
     "ename": "ERROR",
     "evalue": "Error in if (p == 0) {: argument is of length zero\n",
     "output_type": "error",
     "traceback": [
      "Error in if (p == 0) {: argument is of length zero\nTraceback:\n",
      "1. summary.lm(women)",
      "2. .handleSimpleError(function (cnd) \n . {\n .     watcher$capture_plot_and_output()\n .     cnd <- sanitize_call(cnd)\n .     watcher$push(cnd)\n .     switch(on_error, continue = invokeRestart(\"eval_continue\"), \n .         stop = invokeRestart(\"eval_stop\"), error = NULL)\n . }, \"argument is of length zero\", base::quote(if (p == 0) {\n .     r <- z$residuals\n .     n <- length(r)\n .     w <- z$weights\n .     if (is.null(w)) {\n .         rss <- sum(r^2)\n .     }\n .     else {\n .         rss <- sum(w * r^2)\n .         r <- sqrt(w) * r\n .     }\n .     resvar <- rss/rdf\n .     ans <- z[c(\"call\", \"terms\", if (!is.null(z$weights)) \"weights\")]\n .     class(ans) <- \"summary.lm\"\n .     ans$aliased <- is.na(coef(object))\n .     ans$residuals <- r\n .     ans$df <- c(0L, n, length(ans$aliased))\n .     ans$coefficients <- matrix(NA_real_, 0L, 4L, dimnames = list(NULL, \n .         c(\"Estimate\", \"Std. Error\", \"t value\", \"Pr(>|t|)\")))\n .     ans$sigma <- sqrt(resvar)\n .     ans$r.squared <- ans$adj.r.squared <- 0\n .     ans$cov.unscaled <- matrix(NA_real_, 0L, 0L)\n .     if (correlation) \n .         ans$correlation <- ans$cov.unscaled\n .     return(ans)\n . }))"
     ]
    }
   ],
   "source": [
    "class(women) <- \"lm\"\n",
    "summary(women)"
   ]
  },
  {
   "cell_type": "markdown",
   "metadata": {},
   "source": [
    "# 编写有效的代码"
   ]
  },
  {
   "cell_type": "code",
   "execution_count": 10,
   "metadata": {
    "vscode": {
     "languageId": "r"
    }
   },
   "outputs": [],
   "source": [
    "set.seed(1234)\n",
    "mymatrix <- matrix(rnorm(10000000), ncol=10)"
   ]
  },
  {
   "cell_type": "code",
   "execution_count": 12,
   "metadata": {
    "vscode": {
     "languageId": "r"
    }
   },
   "outputs": [],
   "source": [
    "accum <- function(x){\n",
    "    sums <- numeric(ncol(x))\n",
    "    for (i in 1:col(x)){\n",
    "        for (j in 1:nrow(x)){\n",
    "            sums[i] <- sums[i] + x[j, i]\n",
    "        }\n",
    "    }\n",
    "}"
   ]
  },
  {
   "cell_type": "code",
   "execution_count": 13,
   "metadata": {
    "vscode": {
     "languageId": "r"
    }
   },
   "outputs": [
    {
     "name": "stderr",
     "output_type": "stream",
     "text": [
      "Warning message in 1:col(x):\n",
      "\"numerical expression has 10000000 elements: only the first used\"\n"
     ]
    },
    {
     "name": "stdout",
     "output_type": "stream",
     "text": [
      "   user  system elapsed \n",
      "   0.03    0.00    0.08 \n",
      "   user  system elapsed \n",
      "   0.00    0.00    0.01 \n"
     ]
    }
   ],
   "source": [
    "print(system.time(accum(mymatrix)))\n",
    "print(system.time(colSums(mymatrix)))"
   ]
  },
  {
   "cell_type": "code",
   "execution_count": 2,
   "metadata": {
    "vscode": {
     "languageId": "r"
    }
   },
   "outputs": [],
   "source": [
    "set.seed(1234)\n",
    "k <- 100000\n",
    "x <- rnorm(k)"
   ]
  },
  {
   "cell_type": "code",
   "execution_count": 3,
   "metadata": {
    "vscode": {
     "languageId": "r"
    }
   },
   "outputs": [
    {
     "data": {
      "text/plain": [
       "   user  system elapsed \n",
       "   0.00    0.00    0.02 "
      ]
     },
     "metadata": {},
     "output_type": "display_data"
    }
   ],
   "source": [
    "y <- 0\n",
    "system.time(\n",
    "    for (i in 1:length(x)) y[i]  <- x[i]^2\n",
    ")"
   ]
  },
  {
   "cell_type": "code",
   "execution_count": 5,
   "metadata": {
    "vscode": {
     "languageId": "r"
    }
   },
   "outputs": [
    {
     "data": {
      "text/plain": [
       "   user  system elapsed \n",
       "   0.00    0.00    0.02 "
      ]
     },
     "metadata": {},
     "output_type": "display_data"
    }
   ],
   "source": [
    "y <- numeric(length=k)\n",
    "system.time(\n",
    "    for (i in 1:k) y[i]  <- x[i]^2\n",
    ")"
   ]
  },
  {
   "cell_type": "code",
   "execution_count": 4,
   "metadata": {
    "vscode": {
     "languageId": "r"
    }
   },
   "outputs": [
    {
     "data": {
      "text/plain": [
       "   user  system elapsed \n",
       "      0       0       0 "
      ]
     },
     "metadata": {},
     "output_type": "display_data"
    }
   ],
   "source": [
    "y <- numeric(length=k)\n",
    "system.time(y <- x^2)"
   ]
  },
  {
   "cell_type": "code",
   "execution_count": 10,
   "metadata": {
    "vscode": {
     "languageId": "r"
    }
   },
   "outputs": [
    {
     "name": "stdout",
     "output_type": "stream",
     "text": [
      "package 'doParallel' successfully unpacked and MD5 sums checked\n",
      "\n",
      "The downloaded binary packages are in\n",
      "\tC:\\Users\\86151\\AppData\\Local\\Temp\\RtmpUN9I8M\\downloaded_packages\n"
     ]
    }
   ],
   "source": [
    "install.packages(\"doParallel\")"
   ]
  },
  {
   "cell_type": "code",
   "execution_count": 13,
   "metadata": {
    "vscode": {
     "languageId": "r"
    }
   },
   "outputs": [
    {
     "data": {
      "text/plain": [
       "   user  system elapsed \n",
       "   2.48    0.20    5.82 "
      ]
     },
     "metadata": {},
     "output_type": "display_data"
    },
    {
     "data": {
      "text/plain": [
       "   user  system elapsed \n",
       "   0.00    0.00    1.55 "
      ]
     },
     "metadata": {},
     "output_type": "display_data"
    }
   ],
   "source": [
    "# 加载包并登记内核数量\n",
    "library(foreach)\n",
    "library(doParallel)\n",
    "registerDoParallel(cores=6)\n",
    "\n",
    "# 定义函数\n",
    "eig <- function(n, p){\n",
    "    x <- matrix(rnorm(100000), ncol=100)\n",
    "    r <- cor(x)\n",
    "    eigen(r)$values\n",
    "}\n",
    "\n",
    "# 赋值\n",
    "n <- 1000000\n",
    "p <- 100\n",
    "k <- 500\n",
    "\n",
    "# 正常执行\n",
    "system.time(\n",
    "    x <- foreach(i=1:k, .combine=rbind) %do% eig(n, p)\n",
    ")\n",
    "\n",
    "# 并行执行\n",
    "system.time(\n",
    "    x <- foreach(i=1:k, .combine=rbind) %dopar% eig(n, p)\n",
    ")"
   ]
  },
  {
   "cell_type": "markdown",
   "metadata": {},
   "source": [
    "# 调试"
   ]
  },
  {
   "cell_type": "code",
   "execution_count": 14,
   "metadata": {
    "vscode": {
     "languageId": "r"
    }
   },
   "outputs": [
    {
     "ename": "ERROR",
     "evalue": "Error in `contrasts<-`(`*tmp*`, value = contr.funs[1 + isOF[nn]]): contrasts can be applied only to factors with 2 or more levels\n",
     "output_type": "error",
     "traceback": [
      "Error in `contrasts<-`(`*tmp*`, value = contr.funs[1 + isOF[nn]]): contrasts can be applied only to factors with 2 or more levels\nTraceback:\n",
      "1. eval(lmcall, parent.frame())",
      "2. eval(lmcall, parent.frame())",
      "3. stats::lm(formula = mpg ~ Transmission, data = mtcars, singular.ok = TRUE)",
      "4. model.matrix(mt, mf, contrasts)",
      "5. model.matrix.default(mt, mf, contrasts)",
      "6. `contrasts<-`(`*tmp*`, value = contr.funs[1 + isOF[nn]])",
      "7. stop(\"contrasts can be applied only to factors with 2 or more levels\")",
      "8. .handleSimpleError(function (cnd) \n . {\n .     watcher$capture_plot_and_output()\n .     cnd <- sanitize_call(cnd)\n .     watcher$push(cnd)\n .     switch(on_error, continue = invokeRestart(\"eval_continue\"), \n .         stop = invokeRestart(\"eval_stop\"), error = NULL)\n . }, \"contrasts can be applied only to factors with 2 or more levels\", \n .     base::quote(`contrasts<-`(`*tmp*`, value = contr.funs[1 + \n .         isOF[nn]])))"
     ]
    }
   ],
   "source": [
    "mtcars$Transmission  <- factor(mtcars$a, levels=c(1, 2), labels=c(\"auto\", \"manual\"))\n",
    "aov(mpg~Transmission, data=mtcars)"
   ]
  },
  {
   "cell_type": "code",
   "execution_count": 15,
   "metadata": {
    "vscode": {
     "languageId": "r"
    }
   },
   "outputs": [
    {
     "data": {
      "text/html": [
       "<table class=\"dataframe\">\n",
       "<caption>A data.frame: 6 × 2</caption>\n",
       "<thead>\n",
       "\t<tr><th></th><th scope=col>mpg</th><th scope=col>Transmission</th></tr>\n",
       "\t<tr><th></th><th scope=col>&lt;dbl&gt;</th><th scope=col>&lt;fct&gt;</th></tr>\n",
       "</thead>\n",
       "<tbody>\n",
       "\t<tr><th scope=row>Mazda RX4</th><td>21.0</td><td>auto</td></tr>\n",
       "\t<tr><th scope=row>Mazda RX4 Wag</th><td>21.0</td><td>auto</td></tr>\n",
       "\t<tr><th scope=row>Datsun 710</th><td>22.8</td><td>auto</td></tr>\n",
       "\t<tr><th scope=row>Hornet 4 Drive</th><td>21.4</td><td>NA  </td></tr>\n",
       "\t<tr><th scope=row>Hornet Sportabout</th><td>18.7</td><td>NA  </td></tr>\n",
       "\t<tr><th scope=row>Valiant</th><td>18.1</td><td>NA  </td></tr>\n",
       "</tbody>\n",
       "</table>\n"
      ],
      "text/latex": [
       "A data.frame: 6 × 2\n",
       "\\begin{tabular}{r|ll}\n",
       "  & mpg & Transmission\\\\\n",
       "  & <dbl> & <fct>\\\\\n",
       "\\hline\n",
       "\tMazda RX4 & 21.0 & auto\\\\\n",
       "\tMazda RX4 Wag & 21.0 & auto\\\\\n",
       "\tDatsun 710 & 22.8 & auto\\\\\n",
       "\tHornet 4 Drive & 21.4 & NA  \\\\\n",
       "\tHornet Sportabout & 18.7 & NA  \\\\\n",
       "\tValiant & 18.1 & NA  \\\\\n",
       "\\end{tabular}\n"
      ],
      "text/markdown": [
       "\n",
       "A data.frame: 6 × 2\n",
       "\n",
       "| <!--/--> | mpg &lt;dbl&gt; | Transmission &lt;fct&gt; |\n",
       "|---|---|---|\n",
       "| Mazda RX4 | 21.0 | auto |\n",
       "| Mazda RX4 Wag | 21.0 | auto |\n",
       "| Datsun 710 | 22.8 | auto |\n",
       "| Hornet 4 Drive | 21.4 | NA   |\n",
       "| Hornet Sportabout | 18.7 | NA   |\n",
       "| Valiant | 18.1 | NA   |\n",
       "\n"
      ],
      "text/plain": [
       "                  mpg  Transmission\n",
       "Mazda RX4         21.0 auto        \n",
       "Mazda RX4 Wag     21.0 auto        \n",
       "Datsun 710        22.8 auto        \n",
       "Hornet 4 Drive    21.4 NA          \n",
       "Hornet Sportabout 18.7 NA          \n",
       "Valiant           18.1 NA          "
      ]
     },
     "metadata": {},
     "output_type": "display_data"
    },
    {
     "data": {
      "text/plain": [
       "\n",
       "  auto manual \n",
       "    13      0 "
      ]
     },
     "metadata": {},
     "output_type": "display_data"
    }
   ],
   "source": [
    "head(mtcars[c(\"mpg\", \"Transmission\")])\n",
    "table(mtcars$Transmission)"
   ]
  },
  {
   "cell_type": "code",
   "execution_count": 16,
   "metadata": {
    "vscode": {
     "languageId": "r"
    }
   },
   "outputs": [
    {
     "data": {
      "text/html": [
       "<pre class=language-r><code>function (x, center = median(x), constant = 1.4826, na.rm = FALSE, \n",
       "<span style=white-space:pre-wrap>    low = FALSE, high = FALSE) </span>\n",
       "NULL</code></pre>"
      ],
      "text/latex": [
       "\\begin{minted}{r}\n",
       "function (x, center = median(x), constant = 1.4826, na.rm = FALSE, \n",
       "    low = FALSE, high = FALSE) \n",
       "NULL\n",
       "\\end{minted}"
      ],
      "text/markdown": [
       "```r\n",
       "function (x, center = median(x), constant = 1.4826, na.rm = FALSE, \n",
       "    low = FALSE, high = FALSE) \n",
       "NULL\n",
       "```"
      ],
      "text/plain": [
       "function (x, center = median(x), constant = 1.4826, na.rm = FALSE, \n",
       "    low = FALSE, high = FALSE) \n",
       "NULL"
      ]
     },
     "metadata": {},
     "output_type": "display_data"
    }
   ],
   "source": [
    "args(mad)"
   ]
  },
  {
   "cell_type": "code",
   "execution_count": 17,
   "metadata": {
    "vscode": {
     "languageId": "r"
    }
   },
   "outputs": [
    {
     "name": "stdout",
     "output_type": "stream",
     "text": [
      "debugging in: mad(1:10)\n",
      "debug: {\n",
      "    if (na.rm) \n",
      "        x <- x[!is.na(x)]\n",
      "    n <- length(x)\n",
      "    constant * if ((low || high) && n%%2 == 0) {\n",
      "        if (low && high) \n",
      "            stop(\"'low' and 'high' cannot be both TRUE\")\n",
      "        n2 <- n%/%2 + as.integer(high)\n",
      "        sort(abs(x - center), partial = n2)[n2]\n",
      "    }\n",
      "    else median(abs(x - center))\n",
      "}\n",
      "debug: if (na.rm) x <- x[!is.na(x)]\n",
      "debug: n <- length(x)\n",
      "debug: constant * if ((low || high) && n%%2 == 0) {\n",
      "    if (low && high) \n",
      "        stop(\"'low' and 'high' cannot be both TRUE\")\n",
      "    n2 <- n%/%2 + as.integer(high)\n",
      "    sort(abs(x - center), partial = n2)[n2]\n",
      "} else median(abs(x - center))\n",
      "debug: median(abs(x - center))\n",
      "exiting from: mad(1:10)\n"
     ]
    },
    {
     "data": {
      "text/html": [
       "3.7065"
      ],
      "text/latex": [
       "3.7065"
      ],
      "text/markdown": [
       "3.7065"
      ],
      "text/plain": [
       "[1] 3.7065"
      ]
     },
     "metadata": {},
     "output_type": "display_data"
    }
   ],
   "source": [
    "# 设置调试参数\n",
    "debug(mad)\n",
    "mad(1:10)"
   ]
  },
  {
   "cell_type": "code",
   "execution_count": null,
   "metadata": {
    "vscode": {
     "languageId": "r"
    }
   },
   "outputs": [
    {
     "ename": "ERROR",
     "evalue": "Error: object 'Browse' not found\n",
     "output_type": "error",
     "traceback": [
      "Error: object 'Browse' not found\nTraceback:\n"
     ]
    }
   ],
   "source": []
  }
 ],
 "metadata": {
  "kernelspec": {
   "display_name": "R",
   "language": "R",
   "name": "ir"
  },
  "language_info": {
   "codemirror_mode": "r",
   "file_extension": ".r",
   "mimetype": "text/x-r-source",
   "name": "R",
   "pygments_lexer": "r",
   "version": "4.4.2"
  }
 },
 "nbformat": 4,
 "nbformat_minor": 2
}

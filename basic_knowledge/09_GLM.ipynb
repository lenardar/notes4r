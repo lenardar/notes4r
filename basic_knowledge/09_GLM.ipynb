{
 "cells": [
  {
   "cell_type": "markdown",
   "metadata": {},
   "source": [
    "学习R语言广义线性模型GLM。"
   ]
  },
  {
   "cell_type": "markdown",
   "metadata": {},
   "source": [
    "# Logistic回归"
   ]
  },
  {
   "cell_type": "markdown",
   "metadata": {},
   "source": [
    "## Logistic回归"
   ]
  },
  {
   "cell_type": "code",
   "execution_count": 1,
   "metadata": {
    "vscode": {
     "languageId": "r"
    }
   },
   "outputs": [
    {
     "name": "stdout",
     "output_type": "stream",
     "text": [
      "package 'AER' successfully unpacked and MD5 sums checked\n",
      "\n",
      "The downloaded binary packages are in\n",
      "\tC:\\Users\\86151\\AppData\\Local\\Temp\\RtmpiOX7vg\\downloaded_packages\n"
     ]
    }
   ],
   "source": [
    "install.packages (\"AER\")"
   ]
  },
  {
   "cell_type": "code",
   "execution_count": 2,
   "metadata": {
    "vscode": {
     "languageId": "r"
    }
   },
   "outputs": [
    {
     "data": {
      "text/plain": [
       "    affairs          gender         age         yearsmarried    children \n",
       " Min.   : 0.000   female:315   Min.   :17.50   Min.   : 0.125   no :171  \n",
       " 1st Qu.: 0.000   male  :286   1st Qu.:27.00   1st Qu.: 4.000   yes:430  \n",
       " Median : 0.000                Median :32.00   Median : 7.000            \n",
       " Mean   : 1.456                Mean   :32.49   Mean   : 8.178            \n",
       " 3rd Qu.: 0.000                3rd Qu.:37.00   3rd Qu.:15.000            \n",
       " Max.   :12.000                Max.   :57.00   Max.   :15.000            \n",
       " religiousness     education       occupation        rating     \n",
       " Min.   :1.000   Min.   : 9.00   Min.   :1.000   Min.   :1.000  \n",
       " 1st Qu.:2.000   1st Qu.:14.00   1st Qu.:3.000   1st Qu.:3.000  \n",
       " Median :3.000   Median :16.00   Median :5.000   Median :4.000  \n",
       " Mean   :3.116   Mean   :16.17   Mean   :4.195   Mean   :3.932  \n",
       " 3rd Qu.:4.000   3rd Qu.:18.00   3rd Qu.:6.000   3rd Qu.:5.000  \n",
       " Max.   :5.000   Max.   :20.00   Max.   :7.000   Max.   :5.000  "
      ]
     },
     "metadata": {},
     "output_type": "display_data"
    }
   ],
   "source": [
    "data(Affairs, package = \"AER\")\n",
    "summary(Affairs)"
   ]
  },
  {
   "cell_type": "code",
   "execution_count": 11,
   "metadata": {
    "vscode": {
     "languageId": "r"
    }
   },
   "outputs": [
    {
     "data": {
      "text/plain": [
       "\n",
       " No Yes \n",
       "451 150 "
      ]
     },
     "metadata": {},
     "output_type": "display_data"
    }
   ],
   "source": [
    "Affairs$ynaffair[Affairs$affairs > 0] <- 1\n",
    "Affairs$ynaffair[Affairs$affairs == 0] <- 0\n",
    "\n",
    "Affairs$ynaffair <- factor(Affairs$ynaffair, levels=c(0, 1), labels = c(\"No\", \"Yes\"))\n",
    "table(Affairs$ynaffair)"
   ]
  },
  {
   "cell_type": "code",
   "execution_count": 12,
   "metadata": {
    "vscode": {
     "languageId": "r"
    }
   },
   "outputs": [
    {
     "data": {
      "text/plain": [
       "\n",
       "Call:\n",
       "glm(formula = ynaffair ~ gender + age + yearsmarried + children + \n",
       "    religiousness + education + occupation + rating, family = binomial(), \n",
       "    data = Affairs)\n",
       "\n",
       "Coefficients:\n",
       "              Estimate Std. Error z value Pr(>|z|)    \n",
       "(Intercept)    1.37726    0.88776   1.551 0.120807    \n",
       "gendermale     0.28029    0.23909   1.172 0.241083    \n",
       "age           -0.04426    0.01825  -2.425 0.015301 *  \n",
       "yearsmarried   0.09477    0.03221   2.942 0.003262 ** \n",
       "childrenyes    0.39767    0.29151   1.364 0.172508    \n",
       "religiousness -0.32472    0.08975  -3.618 0.000297 ***\n",
       "education      0.02105    0.05051   0.417 0.676851    \n",
       "occupation     0.03092    0.07178   0.431 0.666630    \n",
       "rating        -0.46845    0.09091  -5.153 2.56e-07 ***\n",
       "---\n",
       "Signif. codes:  0 '***' 0.001 '**' 0.01 '*' 0.05 '.' 0.1 ' ' 1\n",
       "\n",
       "(Dispersion parameter for binomial family taken to be 1)\n",
       "\n",
       "    Null deviance: 675.38  on 600  degrees of freedom\n",
       "Residual deviance: 609.51  on 592  degrees of freedom\n",
       "AIC: 627.51\n",
       "\n",
       "Number of Fisher Scoring iterations: 4\n"
      ]
     },
     "metadata": {},
     "output_type": "display_data"
    }
   ],
   "source": [
    "fit.full <- glm(\n",
    "    ynaffair~gender+age+yearsmarried+children+religiousness+education+occupation+rating,\n",
    "    data=Affairs,\n",
    "    family=binomial()\n",
    ")\n",
    "\n",
    "summary(fit.full)"
   ]
  },
  {
   "cell_type": "code",
   "execution_count": 13,
   "metadata": {
    "vscode": {
     "languageId": "r"
    }
   },
   "outputs": [
    {
     "data": {
      "text/plain": [
       "\n",
       "Call:\n",
       "glm(formula = ynaffair ~ age + yearsmarried + religiousness + \n",
       "    rating, family = binomial(), data = Affairs)\n",
       "\n",
       "Coefficients:\n",
       "              Estimate Std. Error z value Pr(>|z|)    \n",
       "(Intercept)    1.93083    0.61032   3.164 0.001558 ** \n",
       "age           -0.03527    0.01736  -2.032 0.042127 *  \n",
       "yearsmarried   0.10062    0.02921   3.445 0.000571 ***\n",
       "religiousness -0.32902    0.08945  -3.678 0.000235 ***\n",
       "rating        -0.46136    0.08884  -5.193 2.06e-07 ***\n",
       "---\n",
       "Signif. codes:  0 '***' 0.001 '**' 0.01 '*' 0.05 '.' 0.1 ' ' 1\n",
       "\n",
       "(Dispersion parameter for binomial family taken to be 1)\n",
       "\n",
       "    Null deviance: 675.38  on 600  degrees of freedom\n",
       "Residual deviance: 615.36  on 596  degrees of freedom\n",
       "AIC: 625.36\n",
       "\n",
       "Number of Fisher Scoring iterations: 4\n"
      ]
     },
     "metadata": {},
     "output_type": "display_data"
    }
   ],
   "source": [
    "fit.reduced <- glm(\n",
    "    ynaffair~age+yearsmarried+religiousness+rating,\n",
    "    data=Affairs,\n",
    "    family=binomial()\n",
    ")\n",
    "\n",
    "summary(fit.reduced)"
   ]
  },
  {
   "cell_type": "code",
   "execution_count": 14,
   "metadata": {
    "vscode": {
     "languageId": "r"
    }
   },
   "outputs": [
    {
     "data": {
      "text/html": [
       "<table class=\"dataframe\">\n",
       "<caption>A anova: 2 × 5</caption>\n",
       "<thead>\n",
       "\t<tr><th></th><th scope=col>Resid. Df</th><th scope=col>Resid. Dev</th><th scope=col>Df</th><th scope=col>Deviance</th><th scope=col>Pr(&gt;Chi)</th></tr>\n",
       "\t<tr><th></th><th scope=col>&lt;dbl&gt;</th><th scope=col>&lt;dbl&gt;</th><th scope=col>&lt;dbl&gt;</th><th scope=col>&lt;dbl&gt;</th><th scope=col>&lt;dbl&gt;</th></tr>\n",
       "</thead>\n",
       "<tbody>\n",
       "\t<tr><th scope=row>1</th><td>596</td><td>615.3578</td><td>NA</td><td>      NA</td><td>       NA</td></tr>\n",
       "\t<tr><th scope=row>2</th><td>592</td><td>609.5104</td><td> 4</td><td>5.847418</td><td>0.2108367</td></tr>\n",
       "</tbody>\n",
       "</table>\n"
      ],
      "text/latex": [
       "A anova: 2 × 5\n",
       "\\begin{tabular}{r|lllll}\n",
       "  & Resid. Df & Resid. Dev & Df & Deviance & Pr(>Chi)\\\\\n",
       "  & <dbl> & <dbl> & <dbl> & <dbl> & <dbl>\\\\\n",
       "\\hline\n",
       "\t1 & 596 & 615.3578 & NA &       NA &        NA\\\\\n",
       "\t2 & 592 & 609.5104 &  4 & 5.847418 & 0.2108367\\\\\n",
       "\\end{tabular}\n"
      ],
      "text/markdown": [
       "\n",
       "A anova: 2 × 5\n",
       "\n",
       "| <!--/--> | Resid. Df &lt;dbl&gt; | Resid. Dev &lt;dbl&gt; | Df &lt;dbl&gt; | Deviance &lt;dbl&gt; | Pr(&gt;Chi) &lt;dbl&gt; |\n",
       "|---|---|---|---|---|---|\n",
       "| 1 | 596 | 615.3578 | NA |       NA |        NA |\n",
       "| 2 | 592 | 609.5104 |  4 | 5.847418 | 0.2108367 |\n",
       "\n"
      ],
      "text/plain": [
       "  Resid. Df Resid. Dev Df Deviance Pr(>Chi) \n",
       "1 596       615.3578   NA       NA        NA\n",
       "2 592       609.5104    4 5.847418 0.2108367"
      ]
     },
     "metadata": {},
     "output_type": "display_data"
    }
   ],
   "source": [
    "anova(fit.reduced, fit.full, test=\"Chisq\")"
   ]
  },
  {
   "cell_type": "markdown",
   "metadata": {},
   "source": [
    "## 解释模型参数"
   ]
  },
  {
   "cell_type": "code",
   "execution_count": 15,
   "metadata": {
    "vscode": {
     "languageId": "r"
    }
   },
   "outputs": [
    {
     "data": {
      "text/html": [
       "<style>\n",
       ".dl-inline {width: auto; margin:0; padding: 0}\n",
       ".dl-inline>dt, .dl-inline>dd {float: none; width: auto; display: inline-block}\n",
       ".dl-inline>dt::after {content: \":\\0020\"; padding-right: .5ex}\n",
       ".dl-inline>dt:not(:first-of-type) {padding-left: .5ex}\n",
       "</style><dl class=dl-inline><dt>(Intercept)</dt><dd>1.93083017492467</dd><dt>age</dt><dd>-0.0352711169267396</dd><dt>yearsmarried</dt><dd>0.100622738089974</dd><dt>religiousness</dt><dd>-0.329023855056451</dd><dt>rating</dt><dd>-0.461361443466654</dd></dl>\n"
      ],
      "text/latex": [
       "\\begin{description*}\n",
       "\\item[(Intercept)] 1.93083017492467\n",
       "\\item[age] -0.0352711169267396\n",
       "\\item[yearsmarried] 0.100622738089974\n",
       "\\item[religiousness] -0.329023855056451\n",
       "\\item[rating] -0.461361443466654\n",
       "\\end{description*}\n"
      ],
      "text/markdown": [
       "(Intercept)\n",
       ":   1.93083017492467age\n",
       ":   -0.0352711169267396yearsmarried\n",
       ":   0.100622738089974religiousness\n",
       ":   -0.329023855056451rating\n",
       ":   -0.461361443466654\n",
       "\n"
      ],
      "text/plain": [
       "  (Intercept)           age  yearsmarried religiousness        rating \n",
       "   1.93083017   -0.03527112    0.10062274   -0.32902386   -0.46136144 "
      ]
     },
     "metadata": {},
     "output_type": "display_data"
    }
   ],
   "source": [
    "coef(fit.reduced)"
   ]
  },
  {
   "cell_type": "code",
   "execution_count": 16,
   "metadata": {
    "vscode": {
     "languageId": "r"
    }
   },
   "outputs": [
    {
     "data": {
      "text/html": [
       "<style>\n",
       ".dl-inline {width: auto; margin:0; padding: 0}\n",
       ".dl-inline>dt, .dl-inline>dd {float: none; width: auto; display: inline-block}\n",
       ".dl-inline>dt::after {content: \":\\0020\"; padding-right: .5ex}\n",
       ".dl-inline>dt:not(:first-of-type) {padding-left: .5ex}\n",
       "</style><dl class=dl-inline><dt>(Intercept)</dt><dd>6.8952321149764</dd><dt>age</dt><dd>0.965343659769578</dd><dt>yearsmarried</dt><dd>1.1058593644409</dd><dt>religiousness</dt><dd>0.719625849827046</dd><dt>rating</dt><dd>0.630424773297786</dd></dl>\n"
      ],
      "text/latex": [
       "\\begin{description*}\n",
       "\\item[(Intercept)] 6.8952321149764\n",
       "\\item[age] 0.965343659769578\n",
       "\\item[yearsmarried] 1.1058593644409\n",
       "\\item[religiousness] 0.719625849827046\n",
       "\\item[rating] 0.630424773297786\n",
       "\\end{description*}\n"
      ],
      "text/markdown": [
       "(Intercept)\n",
       ":   6.8952321149764age\n",
       ":   0.965343659769578yearsmarried\n",
       ":   1.1058593644409religiousness\n",
       ":   0.719625849827046rating\n",
       ":   0.630424773297786\n",
       "\n"
      ],
      "text/plain": [
       "  (Intercept)           age  yearsmarried religiousness        rating \n",
       "    6.8952321     0.9653437     1.1058594     0.7196258     0.6304248 "
      ]
     },
     "metadata": {},
     "output_type": "display_data"
    }
   ],
   "source": [
    "exp(coef(fit.reduced))"
   ]
  },
  {
   "cell_type": "code",
   "execution_count": 17,
   "metadata": {
    "vscode": {
     "languageId": "r"
    }
   },
   "outputs": [
    {
     "name": "stderr",
     "output_type": "stream",
     "text": [
      "Waiting for profiling to be done...\n",
      "\n"
     ]
    },
    {
     "data": {
      "text/html": [
       "<table class=\"dataframe\">\n",
       "<caption>A matrix: 5 × 2 of type dbl</caption>\n",
       "<thead>\n",
       "\t<tr><th></th><th scope=col>2.5 %</th><th scope=col>97.5 %</th></tr>\n",
       "</thead>\n",
       "<tbody>\n",
       "\t<tr><th scope=row>(Intercept)</th><td> 0.75404303</td><td> 3.150622807</td></tr>\n",
       "\t<tr><th scope=row>age</th><td>-0.07006400</td><td>-0.001854759</td></tr>\n",
       "\t<tr><th scope=row>yearsmarried</th><td> 0.04388142</td><td> 0.158562400</td></tr>\n",
       "\t<tr><th scope=row>religiousness</th><td>-0.50637196</td><td>-0.155156981</td></tr>\n",
       "\t<tr><th scope=row>rating</th><td>-0.63741235</td><td>-0.288566411</td></tr>\n",
       "</tbody>\n",
       "</table>\n"
      ],
      "text/latex": [
       "A matrix: 5 × 2 of type dbl\n",
       "\\begin{tabular}{r|ll}\n",
       "  & 2.5 \\% & 97.5 \\%\\\\\n",
       "\\hline\n",
       "\t(Intercept) &  0.75404303 &  3.150622807\\\\\n",
       "\tage & -0.07006400 & -0.001854759\\\\\n",
       "\tyearsmarried &  0.04388142 &  0.158562400\\\\\n",
       "\treligiousness & -0.50637196 & -0.155156981\\\\\n",
       "\trating & -0.63741235 & -0.288566411\\\\\n",
       "\\end{tabular}\n"
      ],
      "text/markdown": [
       "\n",
       "A matrix: 5 × 2 of type dbl\n",
       "\n",
       "| <!--/--> | 2.5 % | 97.5 % |\n",
       "|---|---|---|\n",
       "| (Intercept) |  0.75404303 |  3.150622807 |\n",
       "| age | -0.07006400 | -0.001854759 |\n",
       "| yearsmarried |  0.04388142 |  0.158562400 |\n",
       "| religiousness | -0.50637196 | -0.155156981 |\n",
       "| rating | -0.63741235 | -0.288566411 |\n",
       "\n"
      ],
      "text/plain": [
       "              2.5 %       97.5 %      \n",
       "(Intercept)    0.75404303  3.150622807\n",
       "age           -0.07006400 -0.001854759\n",
       "yearsmarried   0.04388142  0.158562400\n",
       "religiousness -0.50637196 -0.155156981\n",
       "rating        -0.63741235 -0.288566411"
      ]
     },
     "metadata": {},
     "output_type": "display_data"
    }
   ],
   "source": [
    "confint(fit.reduced)"
   ]
  },
  {
   "cell_type": "code",
   "execution_count": 21,
   "metadata": {
    "vscode": {
     "languageId": "r"
    }
   },
   "outputs": [
    {
     "name": "stderr",
     "output_type": "stream",
     "text": [
      "Waiting for profiling to be done...\n",
      "\n"
     ]
    },
    {
     "data": {
      "text/html": [
       "<table class=\"dataframe\">\n",
       "<caption>A matrix: 5 × 2 of type dbl</caption>\n",
       "<thead>\n",
       "\t<tr><th></th><th scope=col>2.5 %</th><th scope=col>97.5 %</th></tr>\n",
       "</thead>\n",
       "<tbody>\n",
       "\t<tr><th scope=row>(Intercept)</th><td>2.1255764</td><td>23.3506030</td></tr>\n",
       "\t<tr><th scope=row>age</th><td>0.9323342</td><td> 0.9981470</td></tr>\n",
       "\t<tr><th scope=row>yearsmarried</th><td>1.0448584</td><td> 1.1718250</td></tr>\n",
       "\t<tr><th scope=row>religiousness</th><td>0.6026782</td><td> 0.8562807</td></tr>\n",
       "\t<tr><th scope=row>rating</th><td>0.5286586</td><td> 0.7493370</td></tr>\n",
       "</tbody>\n",
       "</table>\n"
      ],
      "text/latex": [
       "A matrix: 5 × 2 of type dbl\n",
       "\\begin{tabular}{r|ll}\n",
       "  & 2.5 \\% & 97.5 \\%\\\\\n",
       "\\hline\n",
       "\t(Intercept) & 2.1255764 & 23.3506030\\\\\n",
       "\tage & 0.9323342 &  0.9981470\\\\\n",
       "\tyearsmarried & 1.0448584 &  1.1718250\\\\\n",
       "\treligiousness & 0.6026782 &  0.8562807\\\\\n",
       "\trating & 0.5286586 &  0.7493370\\\\\n",
       "\\end{tabular}\n"
      ],
      "text/markdown": [
       "\n",
       "A matrix: 5 × 2 of type dbl\n",
       "\n",
       "| <!--/--> | 2.5 % | 97.5 % |\n",
       "|---|---|---|\n",
       "| (Intercept) | 2.1255764 | 23.3506030 |\n",
       "| age | 0.9323342 |  0.9981470 |\n",
       "| yearsmarried | 1.0448584 |  1.1718250 |\n",
       "| religiousness | 0.6026782 |  0.8562807 |\n",
       "| rating | 0.5286586 |  0.7493370 |\n",
       "\n"
      ],
      "text/plain": [
       "              2.5 %     97.5 %    \n",
       "(Intercept)   2.1255764 23.3506030\n",
       "age           0.9323342  0.9981470\n",
       "yearsmarried  1.0448584  1.1718250\n",
       "religiousness 0.6026782  0.8562807\n",
       "rating        0.5286586  0.7493370"
      ]
     },
     "metadata": {},
     "output_type": "display_data"
    }
   ],
   "source": [
    "try <- exp(confint(fit.reduced))\n",
    "try"
   ]
  },
  {
   "cell_type": "markdown",
   "metadata": {},
   "source": [
    "## 评价预测变量对结果概率的影响"
   ]
  },
  {
   "cell_type": "code",
   "execution_count": 38,
   "metadata": {
    "vscode": {
     "languageId": "r"
    }
   },
   "outputs": [
    {
     "data": {
      "text/html": [
       "<table class=\"dataframe\">\n",
       "<caption>A data.frame: 5 × 4</caption>\n",
       "<thead>\n",
       "\t<tr><th scope=col>rating</th><th scope=col>age</th><th scope=col>yearsmarried</th><th scope=col>religiousness</th></tr>\n",
       "\t<tr><th scope=col>&lt;int&gt;</th><th scope=col>&lt;dbl&gt;</th><th scope=col>&lt;dbl&gt;</th><th scope=col>&lt;dbl&gt;</th></tr>\n",
       "</thead>\n",
       "<tbody>\n",
       "\t<tr><td>1</td><td>32.48752</td><td>8.177696</td><td>3.116473</td></tr>\n",
       "\t<tr><td>2</td><td>32.48752</td><td>8.177696</td><td>3.116473</td></tr>\n",
       "\t<tr><td>3</td><td>32.48752</td><td>8.177696</td><td>3.116473</td></tr>\n",
       "\t<tr><td>4</td><td>32.48752</td><td>8.177696</td><td>3.116473</td></tr>\n",
       "\t<tr><td>5</td><td>32.48752</td><td>8.177696</td><td>3.116473</td></tr>\n",
       "</tbody>\n",
       "</table>\n"
      ],
      "text/latex": [
       "A data.frame: 5 × 4\n",
       "\\begin{tabular}{llll}\n",
       " rating & age & yearsmarried & religiousness\\\\\n",
       " <int> & <dbl> & <dbl> & <dbl>\\\\\n",
       "\\hline\n",
       "\t 1 & 32.48752 & 8.177696 & 3.116473\\\\\n",
       "\t 2 & 32.48752 & 8.177696 & 3.116473\\\\\n",
       "\t 3 & 32.48752 & 8.177696 & 3.116473\\\\\n",
       "\t 4 & 32.48752 & 8.177696 & 3.116473\\\\\n",
       "\t 5 & 32.48752 & 8.177696 & 3.116473\\\\\n",
       "\\end{tabular}\n"
      ],
      "text/markdown": [
       "\n",
       "A data.frame: 5 × 4\n",
       "\n",
       "| rating &lt;int&gt; | age &lt;dbl&gt; | yearsmarried &lt;dbl&gt; | religiousness &lt;dbl&gt; |\n",
       "|---|---|---|---|\n",
       "| 1 | 32.48752 | 8.177696 | 3.116473 |\n",
       "| 2 | 32.48752 | 8.177696 | 3.116473 |\n",
       "| 3 | 32.48752 | 8.177696 | 3.116473 |\n",
       "| 4 | 32.48752 | 8.177696 | 3.116473 |\n",
       "| 5 | 32.48752 | 8.177696 | 3.116473 |\n",
       "\n"
      ],
      "text/plain": [
       "  rating age      yearsmarried religiousness\n",
       "1 1      32.48752 8.177696     3.116473     \n",
       "2 2      32.48752 8.177696     3.116473     \n",
       "3 3      32.48752 8.177696     3.116473     \n",
       "4 4      32.48752 8.177696     3.116473     \n",
       "5 5      32.48752 8.177696     3.116473     "
      ]
     },
     "metadata": {},
     "output_type": "display_data"
    }
   ],
   "source": [
    "testdata <- data.frame(\n",
    "    rating=1:5,\n",
    "    age=mean(Affairs$age),\n",
    "    yearsmarried=mean(Affairs$yearsmarried),\n",
    "    religiousness=mean(Affairs$religiousness)\n",
    ")\n",
    "\n",
    "testdata"
   ]
  },
  {
   "cell_type": "code",
   "execution_count": 39,
   "metadata": {
    "vscode": {
     "languageId": "r"
    }
   },
   "outputs": [
    {
     "data": {
      "text/html": [
       "<table class=\"dataframe\">\n",
       "<caption>A data.frame: 5 × 5</caption>\n",
       "<thead>\n",
       "\t<tr><th scope=col>rating</th><th scope=col>age</th><th scope=col>yearsmarried</th><th scope=col>religiousness</th><th scope=col>prob</th></tr>\n",
       "\t<tr><th scope=col>&lt;int&gt;</th><th scope=col>&lt;dbl&gt;</th><th scope=col>&lt;dbl&gt;</th><th scope=col>&lt;dbl&gt;</th><th scope=col>&lt;dbl&gt;</th></tr>\n",
       "</thead>\n",
       "<tbody>\n",
       "\t<tr><td>1</td><td>32.48752</td><td>8.177696</td><td>3.116473</td><td>0.5302296</td></tr>\n",
       "\t<tr><td>2</td><td>32.48752</td><td>8.177696</td><td>3.116473</td><td>0.4157377</td></tr>\n",
       "\t<tr><td>3</td><td>32.48752</td><td>8.177696</td><td>3.116473</td><td>0.3096712</td></tr>\n",
       "\t<tr><td>4</td><td>32.48752</td><td>8.177696</td><td>3.116473</td><td>0.2204547</td></tr>\n",
       "\t<tr><td>5</td><td>32.48752</td><td>8.177696</td><td>3.116473</td><td>0.1513079</td></tr>\n",
       "</tbody>\n",
       "</table>\n"
      ],
      "text/latex": [
       "A data.frame: 5 × 5\n",
       "\\begin{tabular}{lllll}\n",
       " rating & age & yearsmarried & religiousness & prob\\\\\n",
       " <int> & <dbl> & <dbl> & <dbl> & <dbl>\\\\\n",
       "\\hline\n",
       "\t 1 & 32.48752 & 8.177696 & 3.116473 & 0.5302296\\\\\n",
       "\t 2 & 32.48752 & 8.177696 & 3.116473 & 0.4157377\\\\\n",
       "\t 3 & 32.48752 & 8.177696 & 3.116473 & 0.3096712\\\\\n",
       "\t 4 & 32.48752 & 8.177696 & 3.116473 & 0.2204547\\\\\n",
       "\t 5 & 32.48752 & 8.177696 & 3.116473 & 0.1513079\\\\\n",
       "\\end{tabular}\n"
      ],
      "text/markdown": [
       "\n",
       "A data.frame: 5 × 5\n",
       "\n",
       "| rating &lt;int&gt; | age &lt;dbl&gt; | yearsmarried &lt;dbl&gt; | religiousness &lt;dbl&gt; | prob &lt;dbl&gt; |\n",
       "|---|---|---|---|---|\n",
       "| 1 | 32.48752 | 8.177696 | 3.116473 | 0.5302296 |\n",
       "| 2 | 32.48752 | 8.177696 | 3.116473 | 0.4157377 |\n",
       "| 3 | 32.48752 | 8.177696 | 3.116473 | 0.3096712 |\n",
       "| 4 | 32.48752 | 8.177696 | 3.116473 | 0.2204547 |\n",
       "| 5 | 32.48752 | 8.177696 | 3.116473 | 0.1513079 |\n",
       "\n"
      ],
      "text/plain": [
       "  rating age      yearsmarried religiousness prob     \n",
       "1 1      32.48752 8.177696     3.116473      0.5302296\n",
       "2 2      32.48752 8.177696     3.116473      0.4157377\n",
       "3 3      32.48752 8.177696     3.116473      0.3096712\n",
       "4 4      32.48752 8.177696     3.116473      0.2204547\n",
       "5 5      32.48752 8.177696     3.116473      0.1513079"
      ]
     },
     "metadata": {},
     "output_type": "display_data"
    }
   ],
   "source": [
    "testdata$prob <- predict(fit.reduced, newdata=testdata, type=\"response\")\n",
    "testdata"
   ]
  },
  {
   "cell_type": "code",
   "execution_count": 40,
   "metadata": {
    "vscode": {
     "languageId": "r"
    }
   },
   "outputs": [
    {
     "data": {
      "text/html": [
       "<table class=\"dataframe\">\n",
       "<caption>A data.frame: 5 × 5</caption>\n",
       "<thead>\n",
       "\t<tr><th scope=col>rating</th><th scope=col>age</th><th scope=col>yearsmarried</th><th scope=col>religiousness</th><th scope=col>prob</th></tr>\n",
       "\t<tr><th scope=col>&lt;dbl&gt;</th><th scope=col>&lt;dbl&gt;</th><th scope=col>&lt;dbl&gt;</th><th scope=col>&lt;dbl&gt;</th><th scope=col>&lt;dbl&gt;</th></tr>\n",
       "</thead>\n",
       "<tbody>\n",
       "\t<tr><td>3.93178</td><td>17</td><td>8.177696</td><td>3.116473</td><td>0.3350834</td></tr>\n",
       "\t<tr><td>3.93178</td><td>27</td><td>8.177696</td><td>3.116473</td><td>0.2615373</td></tr>\n",
       "\t<tr><td>3.93178</td><td>37</td><td>8.177696</td><td>3.116473</td><td>0.1992953</td></tr>\n",
       "\t<tr><td>3.93178</td><td>47</td><td>8.177696</td><td>3.116473</td><td>0.1488796</td></tr>\n",
       "\t<tr><td>3.93178</td><td>57</td><td>8.177696</td><td>3.116473</td><td>0.1094738</td></tr>\n",
       "</tbody>\n",
       "</table>\n"
      ],
      "text/latex": [
       "A data.frame: 5 × 5\n",
       "\\begin{tabular}{lllll}\n",
       " rating & age & yearsmarried & religiousness & prob\\\\\n",
       " <dbl> & <dbl> & <dbl> & <dbl> & <dbl>\\\\\n",
       "\\hline\n",
       "\t 3.93178 & 17 & 8.177696 & 3.116473 & 0.3350834\\\\\n",
       "\t 3.93178 & 27 & 8.177696 & 3.116473 & 0.2615373\\\\\n",
       "\t 3.93178 & 37 & 8.177696 & 3.116473 & 0.1992953\\\\\n",
       "\t 3.93178 & 47 & 8.177696 & 3.116473 & 0.1488796\\\\\n",
       "\t 3.93178 & 57 & 8.177696 & 3.116473 & 0.1094738\\\\\n",
       "\\end{tabular}\n"
      ],
      "text/markdown": [
       "\n",
       "A data.frame: 5 × 5\n",
       "\n",
       "| rating &lt;dbl&gt; | age &lt;dbl&gt; | yearsmarried &lt;dbl&gt; | religiousness &lt;dbl&gt; | prob &lt;dbl&gt; |\n",
       "|---|---|---|---|---|\n",
       "| 3.93178 | 17 | 8.177696 | 3.116473 | 0.3350834 |\n",
       "| 3.93178 | 27 | 8.177696 | 3.116473 | 0.2615373 |\n",
       "| 3.93178 | 37 | 8.177696 | 3.116473 | 0.1992953 |\n",
       "| 3.93178 | 47 | 8.177696 | 3.116473 | 0.1488796 |\n",
       "| 3.93178 | 57 | 8.177696 | 3.116473 | 0.1094738 |\n",
       "\n"
      ],
      "text/plain": [
       "  rating  age yearsmarried religiousness prob     \n",
       "1 3.93178 17  8.177696     3.116473      0.3350834\n",
       "2 3.93178 27  8.177696     3.116473      0.2615373\n",
       "3 3.93178 37  8.177696     3.116473      0.1992953\n",
       "4 3.93178 47  8.177696     3.116473      0.1488796\n",
       "5 3.93178 57  8.177696     3.116473      0.1094738"
      ]
     },
     "metadata": {},
     "output_type": "display_data"
    }
   ],
   "source": [
    "testdata <- data.frame(\n",
    "    rating=mean(Affairs$rating),\n",
    "    age=seq(17, 57, 10),\n",
    "    yearsmarried=mean(Affairs$yearsmarried),\n",
    "    religiousness=mean(Affairs$religiousness)\n",
    ")\n",
    "testdata$prob <- predict(fit.reduced, newdata=testdata, type=\"response\")\n",
    "testdata"
   ]
  },
  {
   "cell_type": "markdown",
   "metadata": {},
   "source": [
    "## 过度离势"
   ]
  },
  {
   "cell_type": "code",
   "execution_count": 41,
   "metadata": {
    "vscode": {
     "languageId": "r"
    }
   },
   "outputs": [
    {
     "data": {
      "text/html": [
       "1.03247958314398"
      ],
      "text/latex": [
       "1.03247958314398"
      ],
      "text/markdown": [
       "1.03247958314398"
      ],
      "text/plain": [
       "[1] 1.03248"
      ]
     },
     "metadata": {},
     "output_type": "display_data"
    }
   ],
   "source": [
    "deviance(fit.reduced)/df.residual(fit.reduced)"
   ]
  },
  {
   "cell_type": "code",
   "execution_count": 42,
   "metadata": {
    "vscode": {
     "languageId": "r"
    }
   },
   "outputs": [
    {
     "data": {
      "text/html": [
       "0.340121988435372"
      ],
      "text/latex": [
       "0.340121988435372"
      ],
      "text/markdown": [
       "0.340121988435372"
      ],
      "text/plain": [
       "[1] 0.340122"
      ]
     },
     "metadata": {},
     "output_type": "display_data"
    }
   ],
   "source": [
    "fit <- glm(ynaffair~age+yearsmarried+religiousness+rating, data=Affairs, family=binomial())\n",
    "fit.od <- glm(ynaffair~age+yearsmarried+religiousness+rating, data=Affairs, family=quasibinomial())\n",
    "pchisq(summary(fit.od)$dispersion*fit$df.residual, fit$df.residual, lower=F)"
   ]
  },
  {
   "cell_type": "markdown",
   "metadata": {},
   "source": [
    "# 泊松回归"
   ]
  },
  {
   "cell_type": "markdown",
   "metadata": {},
   "source": [
    "## 泊松回归"
   ]
  },
  {
   "cell_type": "code",
   "execution_count": 31,
   "metadata": {
    "vscode": {
     "languageId": "r"
    }
   },
   "outputs": [
    {
     "name": "stderr",
     "output_type": "stream",
     "text": [
      "also installing the dependency 'fit.models'\n",
      "\n",
      "\n"
     ]
    },
    {
     "name": "stdout",
     "output_type": "stream",
     "text": [
      "package 'fit.models' successfully unpacked and MD5 sums checked\n",
      "package 'robust' successfully unpacked and MD5 sums checked\n",
      "\n",
      "The downloaded binary packages are in\n",
      "\tC:\\Users\\86151\\AppData\\Local\\Temp\\RtmpiOX7vg\\downloaded_packages\n"
     ]
    }
   ],
   "source": [
    "install.packages(\"robust\")"
   ]
  },
  {
   "cell_type": "code",
   "execution_count": 32,
   "metadata": {
    "vscode": {
     "languageId": "r"
    }
   },
   "outputs": [
    {
     "data": {
      "text/html": [
       "<style>\n",
       ".list-inline {list-style: none; margin:0; padding: 0}\n",
       ".list-inline>li {display: inline-block}\n",
       ".list-inline>li:not(:last-child)::after {content: \"\\00b7\"; padding: 0 .5ex}\n",
       "</style>\n",
       "<ol class=list-inline><li>'ID'</li><li>'Y1'</li><li>'Y2'</li><li>'Y3'</li><li>'Y4'</li><li>'Base'</li><li>'Age'</li><li>'Trt'</li><li>'Ysum'</li><li>'sumY'</li><li>'Age10'</li><li>'Base4'</li></ol>\n"
      ],
      "text/latex": [
       "\\begin{enumerate*}\n",
       "\\item 'ID'\n",
       "\\item 'Y1'\n",
       "\\item 'Y2'\n",
       "\\item 'Y3'\n",
       "\\item 'Y4'\n",
       "\\item 'Base'\n",
       "\\item 'Age'\n",
       "\\item 'Trt'\n",
       "\\item 'Ysum'\n",
       "\\item 'sumY'\n",
       "\\item 'Age10'\n",
       "\\item 'Base4'\n",
       "\\end{enumerate*}\n"
      ],
      "text/markdown": [
       "1. 'ID'\n",
       "2. 'Y1'\n",
       "3. 'Y2'\n",
       "4. 'Y3'\n",
       "5. 'Y4'\n",
       "6. 'Base'\n",
       "7. 'Age'\n",
       "8. 'Trt'\n",
       "9. 'Ysum'\n",
       "10. 'sumY'\n",
       "11. 'Age10'\n",
       "12. 'Base4'\n",
       "\n",
       "\n"
      ],
      "text/plain": [
       " [1] \"ID\"    \"Y1\"    \"Y2\"    \"Y3\"    \"Y4\"    \"Base\"  \"Age\"   \"Trt\"   \"Ysum\" \n",
       "[10] \"sumY\"  \"Age10\" \"Base4\""
      ]
     },
     "metadata": {},
     "output_type": "display_data"
    }
   ],
   "source": [
    "data(breslow.dat, package=\"robust\")\n",
    "names(breslow.dat)"
   ]
  },
  {
   "cell_type": "code",
   "execution_count": 33,
   "metadata": {
    "vscode": {
     "languageId": "r"
    }
   },
   "outputs": [
    {
     "data": {
      "text/plain": [
       "      Base             Age               Trt          sumY       \n",
       " Min.   :  6.00   Min.   :18.00   placebo  :28   Min.   :  0.00  \n",
       " 1st Qu.: 12.00   1st Qu.:23.00   progabide:31   1st Qu.: 11.50  \n",
       " Median : 22.00   Median :28.00                  Median : 16.00  \n",
       " Mean   : 31.22   Mean   :28.34                  Mean   : 33.05  \n",
       " 3rd Qu.: 41.00   3rd Qu.:32.00                  3rd Qu.: 36.00  \n",
       " Max.   :151.00   Max.   :42.00                  Max.   :302.00  "
      ]
     },
     "metadata": {},
     "output_type": "display_data"
    }
   ],
   "source": [
    "summary(breslow.dat[c(6, 7, 8, 10)])"
   ]
  },
  {
   "cell_type": "code",
   "execution_count": 34,
   "metadata": {
    "vscode": {
     "languageId": "r"
    }
   },
   "outputs": [
    {
     "data": {
      "image/png": "[encoded data removed]",
      "text/plain": [
       "Plot with title \"Boxplot of Comparions\""
      ]
     },
     "metadata": {
      "image/png": {
       "height": 420,
       "width": 420
      }
     },
     "output_type": "display_data"
    }
   ],
   "source": [
    "opar <- par(no.readonly=TRUE)\n",
    "par(mfrow=c(1, 2))\n",
    "attach(breslow.dat)\n",
    "hist(sumY, breaks=20, xlab=\"Seizure Count\", main=\"Distribution of Seizure Count\")\n",
    "boxplot(sumY~Trt, xlab=\"Treatment\", main=\"Boxplot of Comparions\")\n",
    "par(opar)"
   ]
  },
  {
   "cell_type": "code",
   "execution_count": 35,
   "metadata": {
    "vscode": {
     "languageId": "r"
    }
   },
   "outputs": [
    {
     "data": {
      "text/plain": [
       "\n",
       "Call:\n",
       "glm(formula = sumY ~ Base + Age + Trt, family = poisson(), data = breslow.dat)\n",
       "\n",
       "Coefficients:\n",
       "               Estimate Std. Error z value Pr(>|z|)    \n",
       "(Intercept)   1.9488259  0.1356191  14.370  < 2e-16 ***\n",
       "Base          0.0226517  0.0005093  44.476  < 2e-16 ***\n",
       "Age           0.0227401  0.0040240   5.651 1.59e-08 ***\n",
       "Trtprogabide -0.1527009  0.0478051  -3.194   0.0014 ** \n",
       "---\n",
       "Signif. codes:  0 '***' 0.001 '**' 0.01 '*' 0.05 '.' 0.1 ' ' 1\n",
       "\n",
       "(Dispersion parameter for poisson family taken to be 1)\n",
       "\n",
       "    Null deviance: 2122.73  on 58  degrees of freedom\n",
       "Residual deviance:  559.44  on 55  degrees of freedom\n",
       "AIC: 850.71\n",
       "\n",
       "Number of Fisher Scoring iterations: 5\n"
      ]
     },
     "metadata": {},
     "output_type": "display_data"
    }
   ],
   "source": [
    "fit <- glm(sumY~Base+Age+Trt, data=breslow.dat, family=poisson())\n",
    "summary(fit)"
   ]
  },
  {
   "cell_type": "markdown",
   "metadata": {},
   "source": [
    "## 解释模型参数"
   ]
  },
  {
   "cell_type": "code",
   "execution_count": 36,
   "metadata": {
    "vscode": {
     "languageId": "r"
    }
   },
   "outputs": [
    {
     "data": {
      "text/html": [
       "<style>\n",
       ".dl-inline {width: auto; margin:0; padding: 0}\n",
       ".dl-inline>dt, .dl-inline>dd {float: none; width: auto; display: inline-block}\n",
       ".dl-inline>dt::after {content: \":\\0020\"; padding-right: .5ex}\n",
       ".dl-inline>dt:not(:first-of-type) {padding-left: .5ex}\n",
       "</style><dl class=dl-inline><dt>(Intercept)</dt><dd>1.94882593441103</dd><dt>Base</dt><dd>0.0226517374260151</dd><dt>Age</dt><dd>0.0227401349007352</dd><dt>Trtprogabide</dt><dd>-0.152700945164725</dd></dl>\n"
      ],
      "text/latex": [
       "\\begin{description*}\n",
       "\\item[(Intercept)] 1.94882593441103\n",
       "\\item[Base] 0.0226517374260151\n",
       "\\item[Age] 0.0227401349007352\n",
       "\\item[Trtprogabide] -0.152700945164725\n",
       "\\end{description*}\n"
      ],
      "text/markdown": [
       "(Intercept)\n",
       ":   1.94882593441103Base\n",
       ":   0.0226517374260151Age\n",
       ":   0.0227401349007352Trtprogabide\n",
       ":   -0.152700945164725\n",
       "\n"
      ],
      "text/plain": [
       " (Intercept)         Base          Age Trtprogabide \n",
       "  1.94882593   0.02265174   0.02274013  -0.15270095 "
      ]
     },
     "metadata": {},
     "output_type": "display_data"
    }
   ],
   "source": [
    "coef(fit)"
   ]
  },
  {
   "cell_type": "code",
   "execution_count": 37,
   "metadata": {
    "vscode": {
     "languageId": "r"
    }
   },
   "outputs": [
    {
     "data": {
      "text/html": [
       "<style>\n",
       ".dl-inline {width: auto; margin:0; padding: 0}\n",
       ".dl-inline>dt, .dl-inline>dd {float: none; width: auto; display: inline-block}\n",
       ".dl-inline>dt::after {content: \":\\0020\"; padding-right: .5ex}\n",
       ".dl-inline>dt:not(:first-of-type) {padding-left: .5ex}\n",
       "</style><dl class=dl-inline><dt>(Intercept)</dt><dd>7.02044028274696</dd><dt>Base</dt><dd>1.02291023615545</dd><dt>Age</dt><dd>1.02300066283388</dd><dt>Trtprogabide</dt><dd>0.858386388030719</dd></dl>\n"
      ],
      "text/latex": [
       "\\begin{description*}\n",
       "\\item[(Intercept)] 7.02044028274696\n",
       "\\item[Base] 1.02291023615545\n",
       "\\item[Age] 1.02300066283388\n",
       "\\item[Trtprogabide] 0.858386388030719\n",
       "\\end{description*}\n"
      ],
      "text/markdown": [
       "(Intercept)\n",
       ":   7.02044028274696Base\n",
       ":   1.02291023615545Age\n",
       ":   1.02300066283388Trtprogabide\n",
       ":   0.858386388030719\n",
       "\n"
      ],
      "text/plain": [
       " (Intercept)         Base          Age Trtprogabide \n",
       "   7.0204403    1.0229102    1.0230007    0.8583864 "
      ]
     },
     "metadata": {},
     "output_type": "display_data"
    }
   ],
   "source": [
    "exp(coef(fit))"
   ]
  },
  {
   "cell_type": "markdown",
   "metadata": {},
   "source": [
    "## 过度离势"
   ]
  },
  {
   "cell_type": "code",
   "execution_count": 43,
   "metadata": {
    "vscode": {
     "languageId": "r"
    }
   },
   "outputs": [
    {
     "data": {
      "text/html": [
       "1.03247958314398"
      ],
      "text/latex": [
       "1.03247958314398"
      ],
      "text/markdown": [
       "1.03247958314398"
      ],
      "text/plain": [
       "[1] 1.03248"
      ]
     },
     "metadata": {},
     "output_type": "display_data"
    }
   ],
   "source": [
    "deviance(fit)/df.residual(fit) "
   ]
  },
  {
   "cell_type": "code",
   "execution_count": 44,
   "metadata": {
    "vscode": {
     "languageId": "r"
    }
   },
   "outputs": [
    {
     "name": "stdout",
     "output_type": "stream",
     "text": [
      "package 'qcc' successfully unpacked and MD5 sums checked\n",
      "\n",
      "The downloaded binary packages are in\n",
      "\tC:\\Users\\86151\\AppData\\Local\\Temp\\RtmpiOX7vg\\downloaded_packages\n"
     ]
    }
   ],
   "source": [
    "install.packages(\"qcc\")"
   ]
  },
  {
   "cell_type": "code",
   "execution_count": 46,
   "metadata": {
    "vscode": {
     "languageId": "r"
    }
   },
   "outputs": [
    {
     "data": {
      "text/html": [
       "<table class=\"dataframe\">\n",
       "<caption>A matrix: 1 × 3 of type dbl</caption>\n",
       "<thead>\n",
       "\t<tr><th></th><th scope=col>Obs.Var/Theor.Var</th><th scope=col>Statistic</th><th scope=col>p-value</th></tr>\n",
       "</thead>\n",
       "<tbody>\n",
       "\t<tr><th scope=row>poisson data</th><td>62.87013</td><td>3646.468</td><td>0</td></tr>\n",
       "</tbody>\n",
       "</table>\n"
      ],
      "text/latex": [
       "A matrix: 1 × 3 of type dbl\n",
       "\\begin{tabular}{r|lll}\n",
       "  & Obs.Var/Theor.Var & Statistic & p-value\\\\\n",
       "\\hline\n",
       "\tpoisson data & 62.87013 & 3646.468 & 0\\\\\n",
       "\\end{tabular}\n"
      ],
      "text/markdown": [
       "\n",
       "A matrix: 1 × 3 of type dbl\n",
       "\n",
       "| <!--/--> | Obs.Var/Theor.Var | Statistic | p-value |\n",
       "|---|---|---|---|\n",
       "| poisson data | 62.87013 | 3646.468 | 0 |\n",
       "\n"
      ],
      "text/plain": [
       "                   \n",
       "Overdispersion test Obs.Var/Theor.Var Statistic p-value\n",
       "       poisson data 62.87013          3646.468  0      "
      ]
     },
     "metadata": {},
     "output_type": "display_data"
    }
   ],
   "source": [
    "library(qcc)\n",
    "qcc.overdispersion.test(breslow.dat$sumY, type=\"poisson\")"
   ]
  },
  {
   "cell_type": "code",
   "execution_count": 47,
   "metadata": {
    "vscode": {
     "languageId": "r"
    }
   },
   "outputs": [
    {
     "data": {
      "text/plain": [
       "\n",
       "Call:\n",
       "glm(formula = sumY ~ Base + Age + Trt, family = quasipoisson(), \n",
       "    data = breslow.dat)\n",
       "\n",
       "Coefficients:\n",
       "              Estimate Std. Error t value Pr(>|t|)    \n",
       "(Intercept)   1.948826   0.465091   4.190 0.000102 ***\n",
       "Base          0.022652   0.001747  12.969  < 2e-16 ***\n",
       "Age           0.022740   0.013800   1.648 0.105085    \n",
       "Trtprogabide -0.152701   0.163943  -0.931 0.355702    \n",
       "---\n",
       "Signif. codes:  0 '***' 0.001 '**' 0.01 '*' 0.05 '.' 0.1 ' ' 1\n",
       "\n",
       "(Dispersion parameter for quasipoisson family taken to be 11.76075)\n",
       "\n",
       "    Null deviance: 2122.73  on 58  degrees of freedom\n",
       "Residual deviance:  559.44  on 55  degrees of freedom\n",
       "AIC: NA\n",
       "\n",
       "Number of Fisher Scoring iterations: 5\n"
      ]
     },
     "metadata": {},
     "output_type": "display_data"
    }
   ],
   "source": [
    "fit.od <- glm(sumY~Base+Age+Trt, data=breslow.dat, family=quasipoisson())\n",
    "summary(fit.od)"
   ]
  },
  {
   "cell_type": "markdown",
   "metadata": {},
   "source": [
    "## 拓展"
   ]
  },
  {
   "cell_type": "code",
   "execution_count": 52,
   "metadata": {
    "vscode": {
     "languageId": "r"
    }
   },
   "outputs": [
    {
     "ename": "ERROR",
     "evalue": "Error in log(time): non-numeric argument to mathematical function\n",
     "output_type": "error",
     "traceback": [
      "Error in log(time): non-numeric argument to mathematical function\nTraceback:\n",
      "1. eval(mf, parent.frame())",
      "2. eval(mf, parent.frame())",
      "3. stats::model.frame(formula = sumY ~ Base + Age + Trt, data = breslow.dat, \n .     offset = log(time), drop.unused.levels = TRUE)",
      "4. model.frame.default(formula = sumY ~ Base + Age + Trt, data = breslow.dat, \n .     offset = log(time), drop.unused.levels = TRUE)",
      "5. eval(extras, data, env)",
      "6. eval(extras, data, env)",
      "7. .handleSimpleError(function (cnd) \n . {\n .     watcher$capture_plot_and_output()\n .     cnd <- sanitize_call(cnd)\n .     watcher$push(cnd)\n .     switch(on_error, continue = invokeRestart(\"eval_continue\"), \n .         stop = invokeRestart(\"eval_stop\"), error = NULL)\n . }, \"non-numeric argument to mathematical function\", base::quote(log(time)))"
     ]
    }
   ],
   "source": [
    "fit <- glm(sumY~Base+Age+Trt, data=breslow.dat, family=poisson, offset=log(time))"
   ]
  }
 ],
 "metadata": {
  "kernelspec": {
   "display_name": "R",
   "language": "R",
   "name": "ir"
  },
  "language_info": {
   "codemirror_mode": "r",
   "file_extension": ".r",
   "mimetype": "text/x-r-source",
   "name": "R",
   "pygments_lexer": "r",
   "version": "4.4.2"
  }
 },
 "nbformat": 4,
 "nbformat_minor": 2
}

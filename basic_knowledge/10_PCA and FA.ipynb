{
 "cells": [
  {
   "cell_type": "markdown",
   "metadata": {},
   "source": [
    "学习R语言主成分分析和因子分析。"
   ]
  },
  {
   "cell_type": "code",
   "execution_count": 3,
   "metadata": {
    "vscode": {
     "languageId": "r"
    }
   },
   "outputs": [
    {
     "name": "stdout",
     "output_type": "stream",
     "text": [
      "package 'psych' successfully unpacked and MD5 sums checked\n",
      "\n",
      "The downloaded binary packages are in\n",
      "\tC:\\Users\\86151\\AppData\\Local\\Temp\\Rtmp4MfTHI\\downloaded_packages\n"
     ]
    }
   ],
   "source": [
    "install.packages(\"psych\")"
   ]
  },
  {
   "cell_type": "markdown",
   "metadata": {},
   "source": [
    "# 主成分分析"
   ]
  },
  {
   "cell_type": "markdown",
   "metadata": {},
   "source": [
    "## 判断主成分的个数"
   ]
  },
  {
   "cell_type": "code",
   "execution_count": 4,
   "metadata": {
    "vscode": {
     "languageId": "r"
    }
   },
   "outputs": [
    {
     "name": "stderr",
     "output_type": "stream",
     "text": [
      "Warning message in fa.stats(r = r, f = f, phi = phi, n.obs = n.obs, np.obs = np.obs, :\n",
      "\"The estimated weights for the factor scores are probably incorrect.  Try a different factor score estimation method.\"\n"
     ]
    },
    {
     "name": "stdout",
     "output_type": "stream",
     "text": [
      "Parallel analysis suggests that the number of factors =  NA  and the number of components =  1 \n"
     ]
    },
    {
     "data": {
      "image/png": "[encoded data removed]",
      "text/plain": [
       "Plot with title \"Parallel Analysis\""
      ]
     },
     "metadata": {
      "image/png": {
       "height": 420,
       "width": 420
      }
     },
     "output_type": "display_data"
    }
   ],
   "source": [
    "library(psych)\n",
    "\n",
    "fa.parallel(\n",
    "    USJudgeRatings[,-1],\n",
    "    fa=\"pc\",\n",
    "    n.iter=100,\n",
    "    show.legend=FALSE,\n",
    "    main=\"Parallel Analysis\",\n",
    ")"
   ]
  },
  {
   "cell_type": "markdown",
   "metadata": {},
   "source": [
    "## 提取主成分"
   ]
  },
  {
   "cell_type": "code",
   "execution_count": 5,
   "metadata": {
    "vscode": {
     "languageId": "r"
    }
   },
   "outputs": [
    {
     "data": {
      "text/plain": [
       "Principal Components Analysis\n",
       "Call: principal(r = USJudgeRatings[, -1], nfactors = 1)\n",
       "Standardized loadings (pattern matrix) based upon correlation matrix\n",
       "      PC1   h2     u2 com\n",
       "INTG 0.92 0.84 0.1565   1\n",
       "DMNR 0.91 0.83 0.1663   1\n",
       "DILG 0.97 0.94 0.0613   1\n",
       "CFMG 0.96 0.93 0.0720   1\n",
       "DECI 0.96 0.92 0.0763   1\n",
       "PREP 0.98 0.97 0.0299   1\n",
       "FAMI 0.98 0.95 0.0469   1\n",
       "ORAL 1.00 0.99 0.0091   1\n",
       "WRIT 0.99 0.98 0.0196   1\n",
       "PHYS 0.89 0.80 0.2013   1\n",
       "RTEN 0.99 0.97 0.0275   1\n",
       "\n",
       "                 PC1\n",
       "SS loadings    10.13\n",
       "Proportion Var  0.92\n",
       "\n",
       "Mean item complexity =  1\n",
       "Test of the hypothesis that 1 component is sufficient.\n",
       "\n",
       "The root mean square of the residuals (RMSR) is  0.04 \n",
       " with the empirical chi square  6.21  with prob <  1 \n",
       "\n",
       "Fit based upon off diagonal values = 1"
      ]
     },
     "metadata": {},
     "output_type": "display_data"
    }
   ],
   "source": [
    "library(psych)\n",
    "pc <- principal(USJudgeRatings[,-1], nfactors=1)\n",
    "pc"
   ]
  },
  {
   "cell_type": "code",
   "execution_count": 6,
   "metadata": {
    "vscode": {
     "languageId": "r"
    }
   },
   "outputs": [
    {
     "name": "stdout",
     "output_type": "stream",
     "text": [
      "Parallel analysis suggests that the number of factors =  NA  and the number of components =  2 \n"
     ]
    },
    {
     "data": {
      "image/png": "[encoded data removed]",
      "text/plain": [
       "Plot with title \"Parallel Analysis\""
      ]
     },
     "metadata": {
      "image/png": {
       "height": 420,
       "width": 420
      }
     },
     "output_type": "display_data"
    }
   ],
   "source": [
    "library(psych)\n",
    "fa.parallel(\n",
    "    Harman23.cor$cov,\n",
    "    n.obs=302,\n",
    "    fa=\"pc\",\n",
    "    n.iter=100,\n",
    "    show.legend=FALSE,\n",
    "    main=\"Parallel Analysis\",\n",
    ")"
   ]
  },
  {
   "cell_type": "code",
   "execution_count": 7,
   "metadata": {
    "vscode": {
     "languageId": "r"
    }
   },
   "outputs": [
    {
     "data": {
      "text/plain": [
       "Principal Components Analysis\n",
       "Call: principal(r = Harman23.cor$cov, nfactors = 2, rotate = \"none\")\n",
       "Standardized loadings (pattern matrix) based upon correlation matrix\n",
       "                PC1   PC2   h2    u2 com\n",
       "height         0.86 -0.37 0.88 0.123 1.4\n",
       "arm.span       0.84 -0.44 0.90 0.097 1.5\n",
       "forearm        0.81 -0.46 0.87 0.128 1.6\n",
       "lower.leg      0.84 -0.40 0.86 0.139 1.4\n",
       "weight         0.76  0.52 0.85 0.150 1.8\n",
       "bitro.diameter 0.67  0.53 0.74 0.261 1.9\n",
       "chest.girth    0.62  0.58 0.72 0.283 2.0\n",
       "chest.width    0.67  0.42 0.62 0.375 1.7\n",
       "\n",
       "                       PC1  PC2\n",
       "SS loadings           4.67 1.77\n",
       "Proportion Var        0.58 0.22\n",
       "Cumulative Var        0.58 0.81\n",
       "Proportion Explained  0.73 0.27\n",
       "Cumulative Proportion 0.73 1.00\n",
       "\n",
       "Mean item complexity =  1.7\n",
       "Test of the hypothesis that 2 components are sufficient.\n",
       "\n",
       "The root mean square of the residuals (RMSR) is  0.05 \n",
       "\n",
       "Fit based upon off diagonal values = 0.99"
      ]
     },
     "metadata": {},
     "output_type": "display_data"
    }
   ],
   "source": [
    "library(psych)\n",
    "pc <- principal(Harman23.cor$cov, nfactors=2, rotate=\"none\")\n",
    "pc"
   ]
  },
  {
   "cell_type": "markdown",
   "metadata": {},
   "source": [
    "## 主成分旋转"
   ]
  },
  {
   "cell_type": "code",
   "execution_count": 8,
   "metadata": {
    "vscode": {
     "languageId": "r"
    }
   },
   "outputs": [
    {
     "data": {
      "text/plain": [
       "Principal Components Analysis\n",
       "Call: principal(r = Harman23.cor$cov, nfactors = 2, rotate = \"varimax\")\n",
       "Standardized loadings (pattern matrix) based upon correlation matrix\n",
       "                RC1  RC2   h2    u2 com\n",
       "height         0.90 0.25 0.88 0.123 1.2\n",
       "arm.span       0.93 0.19 0.90 0.097 1.1\n",
       "forearm        0.92 0.16 0.87 0.128 1.1\n",
       "lower.leg      0.90 0.22 0.86 0.139 1.1\n",
       "weight         0.26 0.88 0.85 0.150 1.2\n",
       "bitro.diameter 0.19 0.84 0.74 0.261 1.1\n",
       "chest.girth    0.11 0.84 0.72 0.283 1.0\n",
       "chest.width    0.26 0.75 0.62 0.375 1.2\n",
       "\n",
       "                       RC1  RC2\n",
       "SS loadings           3.52 2.92\n",
       "Proportion Var        0.44 0.37\n",
       "Cumulative Var        0.44 0.81\n",
       "Proportion Explained  0.55 0.45\n",
       "Cumulative Proportion 0.55 1.00\n",
       "\n",
       "Mean item complexity =  1.1\n",
       "Test of the hypothesis that 2 components are sufficient.\n",
       "\n",
       "The root mean square of the residuals (RMSR) is  0.05 \n",
       "\n",
       "Fit based upon off diagonal values = 0.99"
      ]
     },
     "metadata": {},
     "output_type": "display_data"
    }
   ],
   "source": [
    "rc <- principal(Harman23.cor$cov, nfactors=2, rotate=\"varimax\")\n",
    "rc"
   ]
  },
  {
   "cell_type": "markdown",
   "metadata": {},
   "source": [
    "## 获取主成分得分"
   ]
  },
  {
   "cell_type": "code",
   "execution_count": 9,
   "metadata": {
    "vscode": {
     "languageId": "r"
    }
   },
   "outputs": [
    {
     "data": {
      "text/html": [
       "<table class=\"dataframe\">\n",
       "<caption>A matrix: 6 × 1 of type dbl</caption>\n",
       "<thead>\n",
       "\t<tr><th></th><th scope=col>PC1</th></tr>\n",
       "</thead>\n",
       "<tbody>\n",
       "\t<tr><th scope=row>AARONSON,L.H.</th><td>-0.1857981</td></tr>\n",
       "\t<tr><th scope=row>ALEXANDER,J.M.</th><td> 0.7469865</td></tr>\n",
       "\t<tr><th scope=row>ARMENTANO,A.J.</th><td> 0.0704772</td></tr>\n",
       "\t<tr><th scope=row>BERDON,R.I.</th><td> 1.1358765</td></tr>\n",
       "\t<tr><th scope=row>BRACKEN,J.J.</th><td>-2.1586211</td></tr>\n",
       "\t<tr><th scope=row>BURNS,E.B.</th><td> 0.7669406</td></tr>\n",
       "</tbody>\n",
       "</table>\n"
      ],
      "text/latex": [
       "A matrix: 6 × 1 of type dbl\n",
       "\\begin{tabular}{r|l}\n",
       "  & PC1\\\\\n",
       "\\hline\n",
       "\tAARONSON,L.H. & -0.1857981\\\\\n",
       "\tALEXANDER,J.M. &  0.7469865\\\\\n",
       "\tARMENTANO,A.J. &  0.0704772\\\\\n",
       "\tBERDON,R.I. &  1.1358765\\\\\n",
       "\tBRACKEN,J.J. & -2.1586211\\\\\n",
       "\tBURNS,E.B. &  0.7669406\\\\\n",
       "\\end{tabular}\n"
      ],
      "text/markdown": [
       "\n",
       "A matrix: 6 × 1 of type dbl\n",
       "\n",
       "| <!--/--> | PC1 |\n",
       "|---|---|\n",
       "| AARONSON,L.H. | -0.1857981 |\n",
       "| ALEXANDER,J.M. |  0.7469865 |\n",
       "| ARMENTANO,A.J. |  0.0704772 |\n",
       "| BERDON,R.I. |  1.1358765 |\n",
       "| BRACKEN,J.J. | -2.1586211 |\n",
       "| BURNS,E.B. |  0.7669406 |\n",
       "\n"
      ],
      "text/plain": [
       "               PC1       \n",
       "AARONSON,L.H.  -0.1857981\n",
       "ALEXANDER,J.M.  0.7469865\n",
       "ARMENTANO,A.J.  0.0704772\n",
       "BERDON,R.I.     1.1358765\n",
       "BRACKEN,J.J.   -2.1586211\n",
       "BURNS,E.B.      0.7669406"
      ]
     },
     "metadata": {},
     "output_type": "display_data"
    }
   ],
   "source": [
    "library(psych)\n",
    "pc <- principal(USJudgeRatings[,-1], nfactors=1, score=TRUE)\n",
    "head(pc$scores)"
   ]
  },
  {
   "cell_type": "code",
   "execution_count": 10,
   "metadata": {
    "vscode": {
     "languageId": "r"
    }
   },
   "outputs": [
    {
     "data": {
      "text/html": [
       "<table class=\"dataframe\">\n",
       "<caption>A matrix: 1 × 1 of type dbl</caption>\n",
       "<thead>\n",
       "\t<tr><th scope=col>PC1</th></tr>\n",
       "</thead>\n",
       "<tbody>\n",
       "\t<tr><td>-0.008815895</td></tr>\n",
       "</tbody>\n",
       "</table>\n"
      ],
      "text/latex": [
       "A matrix: 1 × 1 of type dbl\n",
       "\\begin{tabular}{l}\n",
       " PC1\\\\\n",
       "\\hline\n",
       "\t -0.008815895\\\\\n",
       "\\end{tabular}\n"
      ],
      "text/markdown": [
       "\n",
       "A matrix: 1 × 1 of type dbl\n",
       "\n",
       "| PC1 |\n",
       "|---|\n",
       "| -0.008815895 |\n",
       "\n"
      ],
      "text/plain": [
       "     PC1         \n",
       "[1,] -0.008815895"
      ]
     },
     "metadata": {},
     "output_type": "display_data"
    }
   ],
   "source": [
    "cor(USJudgeRatings$CONT, pc$scores)"
   ]
  },
  {
   "cell_type": "code",
   "execution_count": 12,
   "metadata": {
    "vscode": {
     "languageId": "r"
    }
   },
   "outputs": [
    {
     "data": {
      "text/html": [
       "<table class=\"dataframe\">\n",
       "<caption>A matrix: 8 × 2 of type dbl</caption>\n",
       "<thead>\n",
       "\t<tr><th scope=col>RC1</th><th scope=col>RC2</th></tr>\n",
       "</thead>\n",
       "<tbody>\n",
       "\t<tr><td> 0.28</td><td>-0.05</td></tr>\n",
       "\t<tr><td> 0.30</td><td>-0.08</td></tr>\n",
       "\t<tr><td> 0.30</td><td>-0.09</td></tr>\n",
       "\t<tr><td> 0.28</td><td>-0.06</td></tr>\n",
       "\t<tr><td>-0.06</td><td> 0.33</td></tr>\n",
       "\t<tr><td>-0.08</td><td> 0.32</td></tr>\n",
       "\t<tr><td>-0.10</td><td> 0.34</td></tr>\n",
       "\t<tr><td>-0.04</td><td> 0.27</td></tr>\n",
       "</tbody>\n",
       "</table>\n"
      ],
      "text/latex": [
       "A matrix: 8 × 2 of type dbl\n",
       "\\begin{tabular}{ll}\n",
       " RC1 & RC2\\\\\n",
       "\\hline\n",
       "\t  0.28 & -0.05\\\\\n",
       "\t  0.30 & -0.08\\\\\n",
       "\t  0.30 & -0.09\\\\\n",
       "\t  0.28 & -0.06\\\\\n",
       "\t -0.06 &  0.33\\\\\n",
       "\t -0.08 &  0.32\\\\\n",
       "\t -0.10 &  0.34\\\\\n",
       "\t -0.04 &  0.27\\\\\n",
       "\\end{tabular}\n"
      ],
      "text/markdown": [
       "\n",
       "A matrix: 8 × 2 of type dbl\n",
       "\n",
       "| RC1 | RC2 |\n",
       "|---|---|\n",
       "|  0.28 | -0.05 |\n",
       "|  0.30 | -0.08 |\n",
       "|  0.30 | -0.09 |\n",
       "|  0.28 | -0.06 |\n",
       "| -0.06 |  0.33 |\n",
       "| -0.08 |  0.32 |\n",
       "| -0.10 |  0.34 |\n",
       "| -0.04 |  0.27 |\n",
       "\n"
      ],
      "text/plain": [
       "     RC1   RC2  \n",
       "[1,]  0.28 -0.05\n",
       "[2,]  0.30 -0.08\n",
       "[3,]  0.30 -0.09\n",
       "[4,]  0.28 -0.06\n",
       "[5,] -0.06  0.33\n",
       "[6,] -0.08  0.32\n",
       "[7,] -0.10  0.34\n",
       "[8,] -0.04  0.27"
      ]
     },
     "metadata": {},
     "output_type": "display_data"
    }
   ],
   "source": [
    "library(psych)\n",
    "rc <- principal(Harman23.cor$cov, nfactors=2, rotate=\"varimax\", score=TRUE)\n",
    "round(unclass(rc$weights), 2)"
   ]
  },
  {
   "cell_type": "code",
   "execution_count": 14,
   "metadata": {
    "vscode": {
     "languageId": "r"
    }
   },
   "outputs": [
    {
     "data": {
      "text/html": [
       "<style>\n",
       ".list-inline {list-style: none; margin:0; padding: 0}\n",
       ".list-inline>li {display: inline-block}\n",
       ".list-inline>li:not(:last-child)::after {content: \"\\00b7\"; padding: 0 .5ex}\n",
       "</style>\n",
       "<ol class=list-inline><li>'matrix'</li><li>'array'</li></ol>\n"
      ],
      "text/latex": [
       "\\begin{enumerate*}\n",
       "\\item 'matrix'\n",
       "\\item 'array'\n",
       "\\end{enumerate*}\n"
      ],
      "text/markdown": [
       "1. 'matrix'\n",
       "2. 'array'\n",
       "\n",
       "\n"
      ],
      "text/plain": [
       "[1] \"matrix\" \"array\" "
      ]
     },
     "metadata": {},
     "output_type": "display_data"
    }
   ],
   "source": [
    "class(rc$weights)"
   ]
  },
  {
   "cell_type": "markdown",
   "metadata": {},
   "source": [
    "# 探索性因子分析"
   ]
  },
  {
   "cell_type": "code",
   "execution_count": 19,
   "metadata": {
    "vscode": {
     "languageId": "r"
    }
   },
   "outputs": [
    {
     "data": {
      "text/html": [
       "<table class=\"dataframe\">\n",
       "<caption>A matrix: 6 × 6 of type dbl</caption>\n",
       "<thead>\n",
       "\t<tr><th></th><th scope=col>general</th><th scope=col>picture</th><th scope=col>blocks</th><th scope=col>maze</th><th scope=col>reading</th><th scope=col>vocab</th></tr>\n",
       "</thead>\n",
       "<tbody>\n",
       "\t<tr><th scope=row>general</th><td>25</td><td> 6.0</td><td> 34</td><td> 6.0</td><td>20.8</td><td> 29.7</td></tr>\n",
       "\t<tr><th scope=row>picture</th><td> 6</td><td> 6.7</td><td> 18</td><td> 1.8</td><td> 4.9</td><td>  7.2</td></tr>\n",
       "\t<tr><th scope=row>blocks</th><td>34</td><td>18.1</td><td>150</td><td>19.4</td><td>31.4</td><td> 50.8</td></tr>\n",
       "\t<tr><th scope=row>maze</th><td> 6</td><td> 1.8</td><td> 19</td><td>12.7</td><td> 4.8</td><td>  9.1</td></tr>\n",
       "\t<tr><th scope=row>reading</th><td>21</td><td> 4.9</td><td> 31</td><td> 4.8</td><td>52.6</td><td> 66.8</td></tr>\n",
       "\t<tr><th scope=row>vocab</th><td>30</td><td> 7.2</td><td> 51</td><td> 9.1</td><td>66.8</td><td>135.3</td></tr>\n",
       "</tbody>\n",
       "</table>\n"
      ],
      "text/latex": [
       "A matrix: 6 × 6 of type dbl\n",
       "\\begin{tabular}{r|llllll}\n",
       "  & general & picture & blocks & maze & reading & vocab\\\\\n",
       "\\hline\n",
       "\tgeneral & 25 &  6.0 &  34 &  6.0 & 20.8 &  29.7\\\\\n",
       "\tpicture &  6 &  6.7 &  18 &  1.8 &  4.9 &   7.2\\\\\n",
       "\tblocks & 34 & 18.1 & 150 & 19.4 & 31.4 &  50.8\\\\\n",
       "\tmaze &  6 &  1.8 &  19 & 12.7 &  4.8 &   9.1\\\\\n",
       "\treading & 21 &  4.9 &  31 &  4.8 & 52.6 &  66.8\\\\\n",
       "\tvocab & 30 &  7.2 &  51 &  9.1 & 66.8 & 135.3\\\\\n",
       "\\end{tabular}\n"
      ],
      "text/markdown": [
       "\n",
       "A matrix: 6 × 6 of type dbl\n",
       "\n",
       "| <!--/--> | general | picture | blocks | maze | reading | vocab |\n",
       "|---|---|---|---|---|---|---|\n",
       "| general | 25 |  6.0 |  34 |  6.0 | 20.8 |  29.7 |\n",
       "| picture |  6 |  6.7 |  18 |  1.8 |  4.9 |   7.2 |\n",
       "| blocks | 34 | 18.1 | 150 | 19.4 | 31.4 |  50.8 |\n",
       "| maze |  6 |  1.8 |  19 | 12.7 |  4.8 |   9.1 |\n",
       "| reading | 21 |  4.9 |  31 |  4.8 | 52.6 |  66.8 |\n",
       "| vocab | 30 |  7.2 |  51 |  9.1 | 66.8 | 135.3 |\n",
       "\n"
      ],
      "text/plain": [
       "        general picture blocks maze reading vocab\n",
       "general 25       6.0     34     6.0 20.8     29.7\n",
       "picture  6       6.7     18     1.8  4.9      7.2\n",
       "blocks  34      18.1    150    19.4 31.4     50.8\n",
       "maze     6       1.8     19    12.7  4.8      9.1\n",
       "reading 21       4.9     31     4.8 52.6     66.8\n",
       "vocab   30       7.2     51     9.1 66.8    135.3"
      ]
     },
     "metadata": {},
     "output_type": "display_data"
    }
   ],
   "source": [
    "ability.cov$cov"
   ]
  },
  {
   "cell_type": "code",
   "execution_count": 21,
   "metadata": {
    "vscode": {
     "languageId": "r"
    }
   },
   "outputs": [
    {
     "data": {
      "text/html": [
       "<style>\n",
       ".list-inline {list-style: none; margin:0; padding: 0}\n",
       ".list-inline>li {display: inline-block}\n",
       ".list-inline>li:not(:last-child)::after {content: \"\\00b7\"; padding: 0 .5ex}\n",
       "</style>\n",
       "<ol class=list-inline><li>'matrix'</li><li>'array'</li></ol>\n"
      ],
      "text/latex": [
       "\\begin{enumerate*}\n",
       "\\item 'matrix'\n",
       "\\item 'array'\n",
       "\\end{enumerate*}\n"
      ],
      "text/markdown": [
       "1. 'matrix'\n",
       "2. 'array'\n",
       "\n",
       "\n"
      ],
      "text/plain": [
       "[1] \"matrix\" \"array\" "
      ]
     },
     "metadata": {},
     "output_type": "display_data"
    }
   ],
   "source": [
    "class(ability.cov$cov)"
   ]
  },
  {
   "cell_type": "code",
   "execution_count": 20,
   "metadata": {
    "vscode": {
     "languageId": "r"
    }
   },
   "outputs": [
    {
     "data": {
      "text/html": [
       "<table class=\"dataframe\">\n",
       "<caption>A matrix: 6 × 6 of type dbl</caption>\n",
       "<thead>\n",
       "\t<tr><th></th><th scope=col>general</th><th scope=col>picture</th><th scope=col>blocks</th><th scope=col>maze</th><th scope=col>reading</th><th scope=col>vocab</th></tr>\n",
       "</thead>\n",
       "<tbody>\n",
       "\t<tr><th scope=row>general</th><td>1.00</td><td>0.47</td><td>0.55</td><td>0.34</td><td>0.58</td><td>0.51</td></tr>\n",
       "\t<tr><th scope=row>picture</th><td>0.47</td><td>1.00</td><td>0.57</td><td>0.19</td><td>0.26</td><td>0.24</td></tr>\n",
       "\t<tr><th scope=row>blocks</th><td>0.55</td><td>0.57</td><td>1.00</td><td>0.45</td><td>0.35</td><td>0.36</td></tr>\n",
       "\t<tr><th scope=row>maze</th><td>0.34</td><td>0.19</td><td>0.45</td><td>1.00</td><td>0.18</td><td>0.22</td></tr>\n",
       "\t<tr><th scope=row>reading</th><td>0.58</td><td>0.26</td><td>0.35</td><td>0.18</td><td>1.00</td><td>0.79</td></tr>\n",
       "\t<tr><th scope=row>vocab</th><td>0.51</td><td>0.24</td><td>0.36</td><td>0.22</td><td>0.79</td><td>1.00</td></tr>\n",
       "</tbody>\n",
       "</table>\n"
      ],
      "text/latex": [
       "A matrix: 6 × 6 of type dbl\n",
       "\\begin{tabular}{r|llllll}\n",
       "  & general & picture & blocks & maze & reading & vocab\\\\\n",
       "\\hline\n",
       "\tgeneral & 1.00 & 0.47 & 0.55 & 0.34 & 0.58 & 0.51\\\\\n",
       "\tpicture & 0.47 & 1.00 & 0.57 & 0.19 & 0.26 & 0.24\\\\\n",
       "\tblocks & 0.55 & 0.57 & 1.00 & 0.45 & 0.35 & 0.36\\\\\n",
       "\tmaze & 0.34 & 0.19 & 0.45 & 1.00 & 0.18 & 0.22\\\\\n",
       "\treading & 0.58 & 0.26 & 0.35 & 0.18 & 1.00 & 0.79\\\\\n",
       "\tvocab & 0.51 & 0.24 & 0.36 & 0.22 & 0.79 & 1.00\\\\\n",
       "\\end{tabular}\n"
      ],
      "text/markdown": [
       "\n",
       "A matrix: 6 × 6 of type dbl\n",
       "\n",
       "| <!--/--> | general | picture | blocks | maze | reading | vocab |\n",
       "|---|---|---|---|---|---|---|\n",
       "| general | 1.00 | 0.47 | 0.55 | 0.34 | 0.58 | 0.51 |\n",
       "| picture | 0.47 | 1.00 | 0.57 | 0.19 | 0.26 | 0.24 |\n",
       "| blocks | 0.55 | 0.57 | 1.00 | 0.45 | 0.35 | 0.36 |\n",
       "| maze | 0.34 | 0.19 | 0.45 | 1.00 | 0.18 | 0.22 |\n",
       "| reading | 0.58 | 0.26 | 0.35 | 0.18 | 1.00 | 0.79 |\n",
       "| vocab | 0.51 | 0.24 | 0.36 | 0.22 | 0.79 | 1.00 |\n",
       "\n"
      ],
      "text/plain": [
       "        general picture blocks maze reading vocab\n",
       "general 1.00    0.47    0.55   0.34 0.58    0.51 \n",
       "picture 0.47    1.00    0.57   0.19 0.26    0.24 \n",
       "blocks  0.55    0.57    1.00   0.45 0.35    0.36 \n",
       "maze    0.34    0.19    0.45   1.00 0.18    0.22 \n",
       "reading 0.58    0.26    0.35   0.18 1.00    0.79 \n",
       "vocab   0.51    0.24    0.36   0.22 0.79    1.00 "
      ]
     },
     "metadata": {},
     "output_type": "display_data"
    }
   ],
   "source": [
    "options(digits=2)\n",
    "covariances <- ability.cov$cov\n",
    "correlations <- cov2cor(covariances)\n",
    "correlations"
   ]
  },
  {
   "cell_type": "markdown",
   "metadata": {},
   "source": [
    "## 判断需提取的公共因子数"
   ]
  },
  {
   "cell_type": "code",
   "execution_count": 23,
   "metadata": {
    "vscode": {
     "languageId": "r"
    }
   },
   "outputs": [
    {
     "name": "stderr",
     "output_type": "stream",
     "text": [
      "Warning message in fa.stats(r = r, f = f, phi = phi, n.obs = n.obs, np.obs = np.obs, :\n",
      "\"The estimated weights for the factor scores are probably incorrect.  Try a different factor score estimation method.\"\n",
      "Warning message in fac(r = r, nfactors = nfactors, n.obs = n.obs, rotate = rotate, :\n",
      "\"An ultra-Heywood case was detected.  Examine the results carefully\"\n",
      "Warning message in fa.stats(r = r, f = f, phi = phi, n.obs = n.obs, np.obs = np.obs, :\n",
      "\"The estimated weights for the factor scores are probably incorrect.  Try a different factor score estimation method.\"\n",
      "Warning message in fa.stats(r = r, f = f, phi = phi, n.obs = n.obs, np.obs = np.obs, :\n",
      "\"The estimated weights for the factor scores are probably incorrect.  Try a different factor score estimation method.\"\n",
      "Warning message in fa.stats(r = r, f = f, phi = phi, n.obs = n.obs, np.obs = np.obs, :\n",
      "\"The estimated weights for the factor scores are probably incorrect.  Try a different factor score estimation method.\"\n",
      "Warning message in fac(r = r, nfactors = nfactors, n.obs = n.obs, rotate = rotate, :\n",
      "\"An ultra-Heywood case was detected.  Examine the results carefully\"\n",
      "Warning message in fa.stats(r = r, f = f, phi = phi, n.obs = n.obs, np.obs = np.obs, :\n",
      "\"The estimated weights for the factor scores are probably incorrect.  Try a different factor score estimation method.\"\n",
      "Warning message in fac(r = r, nfactors = nfactors, n.obs = n.obs, rotate = rotate, :\n",
      "\"An ultra-Heywood case was detected.  Examine the results carefully\"\n",
      "Warning message in fa.stats(r = r, f = f, phi = phi, n.obs = n.obs, np.obs = np.obs, :\n",
      "\"The estimated weights for the factor scores are probably incorrect.  Try a different factor score estimation method.\"\n",
      "Warning message in fac(r = r, nfactors = nfactors, n.obs = n.obs, rotate = rotate, :\n",
      "\"An ultra-Heywood case was detected.  Examine the results carefully\"\n",
      "Warning message in fa.stats(r = r, f = f, phi = phi, n.obs = n.obs, np.obs = np.obs, :\n",
      "\"The estimated weights for the factor scores are probably incorrect.  Try a different factor score estimation method.\"\n",
      "Warning message in fa.stats(r = r, f = f, phi = phi, n.obs = n.obs, np.obs = np.obs, :\n",
      "\"The estimated weights for the factor scores are probably incorrect.  Try a different factor score estimation method.\"\n",
      "Warning message in fac(r = r, nfactors = nfactors, n.obs = n.obs, rotate = rotate, :\n",
      "\"An ultra-Heywood case was detected.  Examine the results carefully\"\n",
      "Warning message in fa.stats(r = r, f = f, phi = phi, n.obs = n.obs, np.obs = np.obs, :\n",
      "\"The estimated weights for the factor scores are probably incorrect.  Try a different factor score estimation method.\"\n",
      "Warning message in fac(r = r, nfactors = nfactors, n.obs = n.obs, rotate = rotate, :\n",
      "\"An ultra-Heywood case was detected.  Examine the results carefully\"\n",
      "Warning message in fa.stats(r = r, f = f, phi = phi, n.obs = n.obs, np.obs = np.obs, :\n",
      "\"The estimated weights for the factor scores are probably incorrect.  Try a different factor score estimation method.\"\n",
      "Warning message in fa.stats(r = r, f = f, phi = phi, n.obs = n.obs, np.obs = np.obs, :\n",
      "\"The estimated weights for the factor scores are probably incorrect.  Try a different factor score estimation method.\"\n",
      "Warning message in fa.stats(r = r, f = f, phi = phi, n.obs = n.obs, np.obs = np.obs, :\n",
      "\"The estimated weights for the factor scores are probably incorrect.  Try a different factor score estimation method.\"\n",
      "Warning message in fac(r = r, nfactors = nfactors, n.obs = n.obs, rotate = rotate, :\n",
      "\"An ultra-Heywood case was detected.  Examine the results carefully\"\n",
      "Warning message in fa.stats(r = r, f = f, phi = phi, n.obs = n.obs, np.obs = np.obs, :\n",
      "\"The estimated weights for the factor scores are probably incorrect.  Try a different factor score estimation method.\"\n",
      "Warning message in fa.stats(r = r, f = f, phi = phi, n.obs = n.obs, np.obs = np.obs, :\n",
      "\"The estimated weights for the factor scores are probably incorrect.  Try a different factor score estimation method.\"\n",
      "Warning message in fa.stats(r = r, f = f, phi = phi, n.obs = n.obs, np.obs = np.obs, :\n",
      "\"The estimated weights for the factor scores are probably incorrect.  Try a different factor score estimation method.\"\n",
      "Warning message in fac(r = r, nfactors = nfactors, n.obs = n.obs, rotate = rotate, :\n",
      "\"An ultra-Heywood case was detected.  Examine the results carefully\"\n",
      "Warning message in fa.stats(r = r, f = f, phi = phi, n.obs = n.obs, np.obs = np.obs, :\n",
      "\"The estimated weights for the factor scores are probably incorrect.  Try a different factor score estimation method.\"\n",
      "Warning message in fa.stats(r = r, f = f, phi = phi, n.obs = n.obs, np.obs = np.obs, :\n",
      "\"The estimated weights for the factor scores are probably incorrect.  Try a different factor score estimation method.\"\n",
      "Warning message in fac(r = r, nfactors = nfactors, n.obs = n.obs, rotate = rotate, :\n",
      "\"An ultra-Heywood case was detected.  Examine the results carefully\"\n",
      "Warning message in fa.stats(r = r, f = f, phi = phi, n.obs = n.obs, np.obs = np.obs, :\n",
      "\"The estimated weights for the factor scores are probably incorrect.  Try a different factor score estimation method.\"\n",
      "Warning message in fac(r = r, nfactors = nfactors, n.obs = n.obs, rotate = rotate, :\n",
      "\"An ultra-Heywood case was detected.  Examine the results carefully\"\n",
      "Warning message in fa.stats(r = r, f = f, phi = phi, n.obs = n.obs, np.obs = np.obs, :\n",
      "\"The estimated weights for the factor scores are probably incorrect.  Try a different factor score estimation method.\"\n",
      "Warning message in fac(r = r, nfactors = nfactors, n.obs = n.obs, rotate = rotate, :\n",
      "\"An ultra-Heywood case was detected.  Examine the results carefully\"\n"
     ]
    },
    {
     "name": "stdout",
     "output_type": "stream",
     "text": [
      "Parallel analysis suggests that the number of factors =  2  and the number of components =  1 \n"
     ]
    },
    {
     "data": {
      "image/png": "[encoded data removed]",
      "text/plain": [
       "Plot with title \"Parallel Analysis\""
      ]
     },
     "metadata": {
      "image/png": {
       "height": 420,
       "width": 420
      }
     },
     "output_type": "display_data"
    }
   ],
   "source": [
    "fa.parallel(correlations, n.obs=112, fa=\"both\", n.iter=100, main=\"Parallel Analysis\")"
   ]
  },
  {
   "cell_type": "markdown",
   "metadata": {},
   "source": [
    "## 提取公共因子"
   ]
  },
  {
   "cell_type": "code",
   "execution_count": 25,
   "metadata": {
    "vscode": {
     "languageId": "r"
    }
   },
   "outputs": [
    {
     "data": {
      "text/plain": [
       "Factor Analysis using method =  pa\n",
       "Call: fa(r = correlations, nfactors = 2, rotate = \"none\", fm = \"pa\")\n",
       "Standardized loadings (pattern matrix) based upon correlation matrix\n",
       "         PA1   PA2   h2    u2 com\n",
       "general 0.75  0.07 0.57 0.432 1.0\n",
       "picture 0.52  0.32 0.38 0.623 1.7\n",
       "blocks  0.75  0.52 0.83 0.166 1.8\n",
       "maze    0.39  0.22 0.20 0.798 1.6\n",
       "reading 0.81 -0.51 0.91 0.089 1.7\n",
       "vocab   0.73 -0.39 0.69 0.313 1.5\n",
       "\n",
       "                       PA1  PA2\n",
       "SS loadings           2.75 0.83\n",
       "Proportion Var        0.46 0.14\n",
       "Cumulative Var        0.46 0.60\n",
       "Proportion Explained  0.77 0.23\n",
       "Cumulative Proportion 0.77 1.00\n",
       "\n",
       "Mean item complexity =  1.5\n",
       "Test of the hypothesis that 2 factors are sufficient.\n",
       "\n",
       "df null model =  15  with the objective function =  2.5\n",
       "df of  the model are 4  and the objective function was  0.07 \n",
       "\n",
       "The root mean square of the residuals (RMSR) is  0.03 \n",
       "The df corrected root mean square of the residuals is  0.06 \n",
       "\n",
       "Fit based upon off diagonal values = 0.99\n",
       "Measures of factor score adequacy             \n",
       "                                                   PA1  PA2\n",
       "Correlation of (regression) scores with factors   0.96 0.92\n",
       "Multiple R square of scores with factors          0.93 0.84\n",
       "Minimum correlation of possible factor scores     0.86 0.68"
      ]
     },
     "metadata": {},
     "output_type": "display_data"
    }
   ],
   "source": [
    "fa <- fa(correlations, nfactors=2, rotate=\"none\", fm=\"pa\")\n",
    "fa"
   ]
  },
  {
   "cell_type": "markdown",
   "metadata": {},
   "source": [
    "## 因子旋转"
   ]
  },
  {
   "cell_type": "code",
   "execution_count": 26,
   "metadata": {
    "vscode": {
     "languageId": "r"
    }
   },
   "outputs": [
    {
     "data": {
      "text/plain": [
       "Factor Analysis using method =  pa\n",
       "Call: fa(r = correlations, rotate = \"varimax\", fm = \"pa\", nfacotrs = 2)\n",
       "Standardized loadings (pattern matrix) based upon correlation matrix\n",
       "         PA1   h2   u2 com\n",
       "general 0.80 0.63 0.37   1\n",
       "picture 0.53 0.28 0.72   1\n",
       "blocks  0.68 0.47 0.53   1\n",
       "maze    0.40 0.16 0.84   1\n",
       "reading 0.73 0.53 0.47   1\n",
       "vocab   0.70 0.49 0.51   1\n",
       "\n",
       "                PA1\n",
       "SS loadings    2.55\n",
       "Proportion Var 0.43\n",
       "\n",
       "Mean item complexity =  1\n",
       "Test of the hypothesis that 1 factor is sufficient.\n",
       "\n",
       "df null model =  15  with the objective function =  2.5\n",
       "df of  the model are 9  and the objective function was  0.76 \n",
       "\n",
       "The root mean square of the residuals (RMSR) is  0.13 \n",
       "The df corrected root mean square of the residuals is  0.16 \n",
       "\n",
       "Fit based upon off diagonal values = 0.92\n",
       "Measures of factor score adequacy             \n",
       "                                                   PA1\n",
       "Correlation of (regression) scores with factors   0.92\n",
       "Multiple R square of scores with factors          0.84\n",
       "Minimum correlation of possible factor scores     0.68"
      ]
     },
     "metadata": {},
     "output_type": "display_data"
    }
   ],
   "source": [
    "fa.varimax <- fa(correlations, nfacotrs=2, rotate=\"varimax\", fm=\"pa\")\n",
    "fa.varimax"
   ]
  },
  {
   "cell_type": "code",
   "execution_count": 27,
   "metadata": {
    "vscode": {
     "languageId": "r"
    }
   },
   "outputs": [
    {
     "name": "stderr",
     "output_type": "stream",
     "text": [
      "Loading required namespace: GPArotation\n",
      "\n"
     ]
    },
    {
     "data": {
      "text/plain": [
       "Factor Analysis using method =  pa\n",
       "Call: fa(r = correlations, nfactors = 2, rotate = \"promax\", fm = \"pa\")\n",
       "Standardized loadings (pattern matrix) based upon correlation matrix\n",
       "          PA1   PA2   h2    u2 com\n",
       "general  0.37  0.48 0.57 0.432 1.9\n",
       "picture -0.03  0.63 0.38 0.623 1.0\n",
       "blocks  -0.10  0.97 0.83 0.166 1.0\n",
       "maze     0.00  0.45 0.20 0.798 1.0\n",
       "reading  1.00 -0.09 0.91 0.089 1.0\n",
       "vocab    0.84 -0.01 0.69 0.313 1.0\n",
       "\n",
       "                       PA1  PA2\n",
       "SS loadings           1.83 1.75\n",
       "Proportion Var        0.30 0.29\n",
       "Cumulative Var        0.30 0.60\n",
       "Proportion Explained  0.51 0.49\n",
       "Cumulative Proportion 0.51 1.00\n",
       "\n",
       " With factor correlations of \n",
       "     PA1  PA2\n",
       "PA1 1.00 0.55\n",
       "PA2 0.55 1.00\n",
       "\n",
       "Mean item complexity =  1.2\n",
       "Test of the hypothesis that 2 factors are sufficient.\n",
       "\n",
       "df null model =  15  with the objective function =  2.5\n",
       "df of  the model are 4  and the objective function was  0.07 \n",
       "\n",
       "The root mean square of the residuals (RMSR) is  0.03 \n",
       "The df corrected root mean square of the residuals is  0.06 \n",
       "\n",
       "Fit based upon off diagonal values = 0.99\n",
       "Measures of factor score adequacy             \n",
       "                                                   PA1  PA2\n",
       "Correlation of (regression) scores with factors   0.97 0.94\n",
       "Multiple R square of scores with factors          0.93 0.88\n",
       "Minimum correlation of possible factor scores     0.86 0.77"
      ]
     },
     "metadata": {},
     "output_type": "display_data"
    }
   ],
   "source": [
    "fa.promax <- fa(correlations, nfactors=2, rotate=\"promax\", fm=\"pa\")\n",
    "fa.promax"
   ]
  },
  {
   "cell_type": "code",
   "execution_count": 30,
   "metadata": {
    "vscode": {
     "languageId": "r"
    }
   },
   "outputs": [],
   "source": [
    "fsm <- function(oblique){\n",
    "    if (class(oblique)[2]==\"fa\" & is.null(oblique$Phi)){\n",
    "        warning(\"This is not an oblique rotation\")\n",
    "    } else {\n",
    "        P <- unclass(oblique$loading)\n",
    "        F <- P %*% oblique$Phi\n",
    "        colnames(F) <- c(\"PA1\", \"PA2\")\n",
    "        return(F)\n",
    "    }\n",
    "}"
   ]
  },
  {
   "cell_type": "code",
   "execution_count": 31,
   "metadata": {
    "vscode": {
     "languageId": "r"
    }
   },
   "outputs": [
    {
     "data": {
      "text/html": [
       "<table class=\"dataframe\">\n",
       "<caption>A matrix: 6 × 2 of type dbl</caption>\n",
       "<thead>\n",
       "\t<tr><th></th><th scope=col>PA1</th><th scope=col>PA2</th></tr>\n",
       "</thead>\n",
       "<tbody>\n",
       "\t<tr><th scope=row>general</th><td>0.64</td><td>0.69</td></tr>\n",
       "\t<tr><th scope=row>picture</th><td>0.32</td><td>0.61</td></tr>\n",
       "\t<tr><th scope=row>blocks</th><td>0.43</td><td>0.91</td></tr>\n",
       "\t<tr><th scope=row>maze</th><td>0.25</td><td>0.45</td></tr>\n",
       "\t<tr><th scope=row>reading</th><td>0.95</td><td>0.46</td></tr>\n",
       "\t<tr><th scope=row>vocab</th><td>0.83</td><td>0.45</td></tr>\n",
       "</tbody>\n",
       "</table>\n"
      ],
      "text/latex": [
       "A matrix: 6 × 2 of type dbl\n",
       "\\begin{tabular}{r|ll}\n",
       "  & PA1 & PA2\\\\\n",
       "\\hline\n",
       "\tgeneral & 0.64 & 0.69\\\\\n",
       "\tpicture & 0.32 & 0.61\\\\\n",
       "\tblocks & 0.43 & 0.91\\\\\n",
       "\tmaze & 0.25 & 0.45\\\\\n",
       "\treading & 0.95 & 0.46\\\\\n",
       "\tvocab & 0.83 & 0.45\\\\\n",
       "\\end{tabular}\n"
      ],
      "text/markdown": [
       "\n",
       "A matrix: 6 × 2 of type dbl\n",
       "\n",
       "| <!--/--> | PA1 | PA2 |\n",
       "|---|---|---|\n",
       "| general | 0.64 | 0.69 |\n",
       "| picture | 0.32 | 0.61 |\n",
       "| blocks | 0.43 | 0.91 |\n",
       "| maze | 0.25 | 0.45 |\n",
       "| reading | 0.95 | 0.46 |\n",
       "| vocab | 0.83 | 0.45 |\n",
       "\n"
      ],
      "text/plain": [
       "        PA1  PA2 \n",
       "general 0.64 0.69\n",
       "picture 0.32 0.61\n",
       "blocks  0.43 0.91\n",
       "maze    0.25 0.45\n",
       "reading 0.95 0.46\n",
       "vocab   0.83 0.45"
      ]
     },
     "metadata": {},
     "output_type": "display_data"
    }
   ],
   "source": [
    "fsm(fa.promax)"
   ]
  },
  {
   "cell_type": "code",
   "execution_count": 34,
   "metadata": {
    "vscode": {
     "languageId": "r"
    }
   },
   "outputs": [
    {
     "data": {
      "image/png": "[encoded data removed]",
      "text/plain": [
       "Plot with title \"Factor Analysis\""
      ]
     },
     "metadata": {
      "image/png": {
       "height": 420,
       "width": 420
      }
     },
     "output_type": "display_data"
    }
   ],
   "source": [
    "factor.plot(fa.promax, labels=rownames(fa.promax$loadings))"
   ]
  },
  {
   "cell_type": "code",
   "execution_count": 36,
   "metadata": {
    "vscode": {
     "languageId": "r"
    }
   },
   "outputs": [
    {
     "data": {
      "image/png": "[encoded data removed]",
      "text/plain": [
       "Plot with title \"Factor Analysis\""
      ]
     },
     "metadata": {
      "image/png": {
       "height": 420,
       "width": 420
      }
     },
     "output_type": "display_data"
    }
   ],
   "source": [
    "fa.diagram(fa.promax, simple=FALSE)"
   ]
  },
  {
   "cell_type": "markdown",
   "metadata": {},
   "source": [
    "## 因子得分"
   ]
  },
  {
   "cell_type": "code",
   "execution_count": 37,
   "metadata": {
    "vscode": {
     "languageId": "r"
    }
   },
   "outputs": [
    {
     "data": {
      "text/html": [
       "<table class=\"dataframe\">\n",
       "<caption>A matrix: 6 × 2 of type dbl</caption>\n",
       "<thead>\n",
       "\t<tr><th></th><th scope=col>PA1</th><th scope=col>PA2</th></tr>\n",
       "</thead>\n",
       "<tbody>\n",
       "\t<tr><th scope=row>general</th><td>0.078</td><td>0.211</td></tr>\n",
       "\t<tr><th scope=row>picture</th><td>0.020</td><td>0.090</td></tr>\n",
       "\t<tr><th scope=row>blocks</th><td>0.037</td><td>0.702</td></tr>\n",
       "\t<tr><th scope=row>maze</th><td>0.027</td><td>0.035</td></tr>\n",
       "\t<tr><th scope=row>reading</th><td>0.743</td><td>0.030</td></tr>\n",
       "\t<tr><th scope=row>vocab</th><td>0.177</td><td>0.036</td></tr>\n",
       "</tbody>\n",
       "</table>\n"
      ],
      "text/latex": [
       "A matrix: 6 × 2 of type dbl\n",
       "\\begin{tabular}{r|ll}\n",
       "  & PA1 & PA2\\\\\n",
       "\\hline\n",
       "\tgeneral & 0.078 & 0.211\\\\\n",
       "\tpicture & 0.020 & 0.090\\\\\n",
       "\tblocks & 0.037 & 0.702\\\\\n",
       "\tmaze & 0.027 & 0.035\\\\\n",
       "\treading & 0.743 & 0.030\\\\\n",
       "\tvocab & 0.177 & 0.036\\\\\n",
       "\\end{tabular}\n"
      ],
      "text/markdown": [
       "\n",
       "A matrix: 6 × 2 of type dbl\n",
       "\n",
       "| <!--/--> | PA1 | PA2 |\n",
       "|---|---|---|\n",
       "| general | 0.078 | 0.211 |\n",
       "| picture | 0.020 | 0.090 |\n",
       "| blocks | 0.037 | 0.702 |\n",
       "| maze | 0.027 | 0.035 |\n",
       "| reading | 0.743 | 0.030 |\n",
       "| vocab | 0.177 | 0.036 |\n",
       "\n"
      ],
      "text/plain": [
       "        PA1   PA2  \n",
       "general 0.078 0.211\n",
       "picture 0.020 0.090\n",
       "blocks  0.037 0.702\n",
       "maze    0.027 0.035\n",
       "reading 0.743 0.030\n",
       "vocab   0.177 0.036"
      ]
     },
     "metadata": {},
     "output_type": "display_data"
    }
   ],
   "source": [
    "fa.promax$weights"
   ]
  }
 ],
 "metadata": {
  "kernelspec": {
   "display_name": "R",
   "language": "R",
   "name": "ir"
  },
  "language_info": {
   "codemirror_mode": "r",
   "file_extension": ".r",
   "mimetype": "text/x-r-source",
   "name": "R",
   "pygments_lexer": "r",
   "version": "4.4.2"
  }
 },
 "nbformat": 4,
 "nbformat_minor": 2
}

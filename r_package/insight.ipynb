{
 "cells": [
  {
   "cell_type": "markdown",
   "id": "e4416f46",
   "metadata": {},
   "source": [
    "学习R语言{insight}包"
   ]
  },
  {
   "cell_type": "code",
   "execution_count": 11,
   "id": "48111cb4",
   "metadata": {
    "vscode": {
     "languageId": "r"
    }
   },
   "outputs": [],
   "source": [
    "library(insight)\n",
    "m <- lm(\n",
    "  Sepal.Length ~ Species + Petal.Width + poly(Sepal.Width, 2),\n",
    "  data = iris\n",
    ")"
   ]
  },
  {
   "cell_type": "code",
   "execution_count": 12,
   "id": "34c227d7",
   "metadata": {
    "vscode": {
     "languageId": "r"
    }
   },
   "outputs": [
    {
     "data": {
      "text/html": [
       "<table class=\"dataframe\">\n",
       "<caption>A data.frame: 6 x 2</caption>\n",
       "<thead>\n",
       "\t<tr><th scope=col>Parameter</th><th scope=col>Estimate</th></tr>\n",
       "\t<tr><th scope=col>&lt;chr&gt;</th><th scope=col>&lt;dbl&gt;</th></tr>\n",
       "</thead>\n",
       "<tbody>\n",
       "\t<tr><td>(Intercept)          </td><td>4.6516562</td></tr>\n",
       "\t<tr><td>Speciesversicolor    </td><td>0.9709219</td></tr>\n",
       "\t<tr><td>Speciesvirginica     </td><td>1.2147100</td></tr>\n",
       "\t<tr><td>Petal.Width          </td><td>0.3861588</td></tr>\n",
       "\t<tr><td>poly(Sepal.Width, 2)1</td><td>3.7001514</td></tr>\n",
       "\t<tr><td>poly(Sepal.Width, 2)2</td><td>0.1349490</td></tr>\n",
       "</tbody>\n",
       "</table>\n"
      ],
      "text/latex": [
       "A data.frame: 6 x 2\n",
       "\\begin{tabular}{ll}\n",
       " Parameter & Estimate\\\\\n",
       " <chr> & <dbl>\\\\\n",
       "\\hline\n",
       "\t (Intercept)           & 4.6516562\\\\\n",
       "\t Speciesversicolor     & 0.9709219\\\\\n",
       "\t Speciesvirginica      & 1.2147100\\\\\n",
       "\t Petal.Width           & 0.3861588\\\\\n",
       "\t poly(Sepal.Width, 2)1 & 3.7001514\\\\\n",
       "\t poly(Sepal.Width, 2)2 & 0.1349490\\\\\n",
       "\\end{tabular}\n"
      ],
      "text/markdown": [
       "\n",
       "A data.frame: 6 x 2\n",
       "\n",
       "| Parameter &lt;chr&gt; | Estimate &lt;dbl&gt; |\n",
       "|---|---|\n",
       "| (Intercept)           | 4.6516562 |\n",
       "| Speciesversicolor     | 0.9709219 |\n",
       "| Speciesvirginica      | 1.2147100 |\n",
       "| Petal.Width           | 0.3861588 |\n",
       "| poly(Sepal.Width, 2)1 | 3.7001514 |\n",
       "| poly(Sepal.Width, 2)2 | 0.1349490 |\n",
       "\n"
      ],
      "text/plain": [
       "  Parameter             Estimate \n",
       "1 (Intercept)           4.6516562\n",
       "2 Speciesversicolor     0.9709219\n",
       "3 Speciesvirginica      1.2147100\n",
       "4 Petal.Width           0.3861588\n",
       "5 poly(Sepal.Width, 2)1 3.7001514\n",
       "6 poly(Sepal.Width, 2)2 0.1349490"
      ]
     },
     "metadata": {},
     "output_type": "display_data"
    }
   ],
   "source": [
    "get_parameters(m)"
   ]
  },
  {
   "cell_type": "code",
   "execution_count": 3,
   "id": "2c2acb2d",
   "metadata": {
    "vscode": {
     "languageId": "r"
    }
   },
   "outputs": [
    {
     "name": "stderr",
     "output_type": "stream",
     "text": [
      "Warning message:\n",
      "\"Objects of class `lm` are not supported.\"\n"
     ]
    },
    {
     "data": {
      "text/plain": [
       "NULL"
      ]
     },
     "metadata": {},
     "output_type": "display_data"
    }
   ],
   "source": [
    "get_variance(m)"
   ]
  },
  {
   "cell_type": "code",
   "execution_count": 6,
   "id": "9e40062c",
   "metadata": {
    "vscode": {
     "languageId": "r"
    }
   },
   "outputs": [
    {
     "data": {
      "text/plain": [
       "                 Length Class  Mode     \n",
       "is_binomial      1      -none- logical  \n",
       "is_bernoulli     1      -none- logical  \n",
       "is_count         1      -none- logical  \n",
       "is_poisson       1      -none- logical  \n",
       "is_negbin        1      -none- logical  \n",
       "is_beta          1      -none- logical  \n",
       "is_betabinomial  1      -none- logical  \n",
       "is_orderedbeta   1      -none- logical  \n",
       "is_dirichlet     1      -none- logical  \n",
       "is_exponential   1      -none- logical  \n",
       "is_logit         1      -none- logical  \n",
       "is_probit        1      -none- logical  \n",
       "is_censored      1      -none- logical  \n",
       "is_truncated     1      -none- logical  \n",
       "is_survival      1      -none- logical  \n",
       "is_linear        1      -none- logical  \n",
       "is_tweedie       1      -none- logical  \n",
       "is_zeroinf       1      -none- logical  \n",
       "is_zero_inflated 1      -none- logical  \n",
       "is_dispersion    1      -none- logical  \n",
       "is_hurdle        1      -none- logical  \n",
       "is_ordinal       1      -none- logical  \n",
       "is_cumulative    1      -none- logical  \n",
       "is_multinomial   1      -none- logical  \n",
       "is_categorical   1      -none- logical  \n",
       "is_mixed         1      -none- logical  \n",
       "is_multivariate  1      -none- logical  \n",
       "is_trial         1      -none- logical  \n",
       "is_bayesian      1      -none- logical  \n",
       "is_gam           1      -none- logical  \n",
       "is_anova         1      -none- logical  \n",
       "is_timeseries    1      -none- logical  \n",
       "is_ttest         1      -none- logical  \n",
       "is_correlation   1      -none- logical  \n",
       "is_onewaytest    1      -none- logical  \n",
       "is_chi2test      1      -none- logical  \n",
       "is_ranktest      1      -none- logical  \n",
       "is_levenetest    1      -none- logical  \n",
       "is_variancetest  1      -none- logical  \n",
       "is_xtab          1      -none- logical  \n",
       "is_proptest      1      -none- logical  \n",
       "is_binomtest     1      -none- logical  \n",
       "is_ftest         1      -none- logical  \n",
       "is_meta          1      -none- logical  \n",
       "link_function    1      -none- character\n",
       "family           1      -none- character\n",
       "n_obs            1      -none- numeric  \n",
       "n_grouplevels    0      -none- NULL     "
      ]
     },
     "metadata": {},
     "output_type": "display_data"
    }
   ],
   "source": [
    "library(tidyverse)\n",
    "model_info(m) %>% summary()"
   ]
  },
  {
   "cell_type": "code",
   "execution_count": 7,
   "id": "920a0ee6",
   "metadata": {
    "vscode": {
     "languageId": "r"
    }
   },
   "outputs": [
    {
     "data": {
      "text/html": [
       "<strong>$algorithm</strong> = 'OLS'"
      ],
      "text/latex": [
       "\\textbf{\\$algorithm} = 'OLS'"
      ],
      "text/markdown": [
       "**$algorithm** = 'OLS'"
      ],
      "text/plain": [
       "$algorithm\n",
       "[1] \"OLS\"\n"
      ]
     },
     "metadata": {},
     "output_type": "display_data"
    }
   ],
   "source": [
    "find_algorithm(m)"
   ]
  },
  {
   "cell_type": "code",
   "execution_count": 8,
   "id": "a7034c66",
   "metadata": {
    "vscode": {
     "languageId": "r"
    }
   },
   "outputs": [
    {
     "data": {
      "text/plain": [
       "$conditional\n",
       "Sepal.Length ~ Species + Petal.Width + Sepal.Width\n",
       "\n",
       "attr(,\"class\")\n",
       "[1] \"insight_formula\" \"list\"           "
      ]
     },
     "metadata": {},
     "output_type": "display_data"
    }
   ],
   "source": [
    "find_formula(m)"
   ]
  },
  {
   "cell_type": "code",
   "execution_count": 13,
   "id": "98dcd888",
   "metadata": {
    "vscode": {
     "languageId": "r"
    }
   },
   "outputs": [
    {
     "data": {
      "text/html": [
       "<dl>\n",
       "\t<dt>$response</dt>\n",
       "\t\t<dd>'Sepal.Length'</dd>\n",
       "\t<dt>$conditional</dt>\n",
       "\t\t<dd><style>\n",
       ".list-inline {list-style: none; margin:0; padding: 0}\n",
       ".list-inline>li {display: inline-block}\n",
       ".list-inline>li:not(:last-child)::after {content: \"\\00b7\"; padding: 0 .5ex}\n",
       "</style>\n",
       "<ol class=list-inline><li>'Species'</li><li>'Petal.Width'</li><li>'Sepal.Width'</li></ol>\n",
       "</dd>\n",
       "</dl>\n"
      ],
      "text/latex": [
       "\\begin{description}\n",
       "\\item[\\$response] 'Sepal.Length'\n",
       "\\item[\\$conditional] \\begin{enumerate*}\n",
       "\\item 'Species'\n",
       "\\item 'Petal.Width'\n",
       "\\item 'Sepal.Width'\n",
       "\\end{enumerate*}\n",
       "\n",
       "\\end{description}\n"
      ],
      "text/markdown": [
       "$response\n",
       ":   'Sepal.Length'\n",
       "$conditional\n",
       ":   1. 'Species'\n",
       "2. 'Petal.Width'\n",
       "3. 'Sepal.Width'\n",
       "\n",
       "\n",
       "\n",
       "\n",
       "\n"
      ],
      "text/plain": [
       "$response\n",
       "[1] \"Sepal.Length\"\n",
       "\n",
       "$conditional\n",
       "[1] \"Species\"     \"Petal.Width\" \"Sepal.Width\"\n"
      ]
     },
     "metadata": {},
     "output_type": "display_data"
    }
   ],
   "source": [
    "find_variables(m)"
   ]
  },
  {
   "cell_type": "code",
   "execution_count": 14,
   "id": "601e2742",
   "metadata": {
    "vscode": {
     "languageId": "r"
    }
   },
   "outputs": [
    {
     "data": {
      "text/html": [
       "<dl>\n",
       "\t<dt>$response</dt>\n",
       "\t\t<dd>'Sepal.Length'</dd>\n",
       "\t<dt>$conditional</dt>\n",
       "\t\t<dd><style>\n",
       ".list-inline {list-style: none; margin:0; padding: 0}\n",
       ".list-inline>li {display: inline-block}\n",
       ".list-inline>li:not(:last-child)::after {content: \"\\00b7\"; padding: 0 .5ex}\n",
       "</style>\n",
       "<ol class=list-inline><li>'Species'</li><li>'Petal.Width'</li><li>'poly(Sepal.Width, 2)'</li></ol>\n",
       "</dd>\n",
       "</dl>\n"
      ],
      "text/latex": [
       "\\begin{description}\n",
       "\\item[\\$response] 'Sepal.Length'\n",
       "\\item[\\$conditional] \\begin{enumerate*}\n",
       "\\item 'Species'\n",
       "\\item 'Petal.Width'\n",
       "\\item 'poly(Sepal.Width, 2)'\n",
       "\\end{enumerate*}\n",
       "\n",
       "\\end{description}\n"
      ],
      "text/markdown": [
       "$response\n",
       ":   'Sepal.Length'\n",
       "$conditional\n",
       ":   1. 'Species'\n",
       "2. 'Petal.Width'\n",
       "3. 'poly(Sepal.Width, 2)'\n",
       "\n",
       "\n",
       "\n",
       "\n",
       "\n"
      ],
      "text/plain": [
       "$response\n",
       "[1] \"Sepal.Length\"\n",
       "\n",
       "$conditional\n",
       "[1] \"Species\"              \"Petal.Width\"          \"poly(Sepal.Width, 2)\"\n"
      ]
     },
     "metadata": {},
     "output_type": "display_data"
    }
   ],
   "source": [
    "find_terms(m)"
   ]
  },
  {
   "cell_type": "code",
   "execution_count": 15,
   "id": "960b814c",
   "metadata": {
    "vscode": {
     "languageId": "r"
    }
   },
   "outputs": [
    {
     "data": {
      "text/html": [
       "'Sepal.Length'"
      ],
      "text/latex": [
       "'Sepal.Length'"
      ],
      "text/markdown": [
       "'Sepal.Length'"
      ],
      "text/plain": [
       "[1] \"Sepal.Length\""
      ]
     },
     "metadata": {},
     "output_type": "display_data"
    }
   ],
   "source": [
    "find_response(m)"
   ]
  },
  {
   "cell_type": "code",
   "execution_count": 16,
   "id": "5bc1d693",
   "metadata": {
    "vscode": {
     "languageId": "r"
    }
   },
   "outputs": [
    {
     "data": {
      "text/html": [
       "<strong>$conditional</strong> = <style>\n",
       ".list-inline {list-style: none; margin:0; padding: 0}\n",
       ".list-inline>li {display: inline-block}\n",
       ".list-inline>li:not(:last-child)::after {content: \"\\00b7\"; padding: 0 .5ex}\n",
       "</style>\n",
       "<ol class=list-inline><li>'Species'</li><li>'Petal.Width'</li><li>'Sepal.Width'</li></ol>\n"
      ],
      "text/latex": [
       "\\textbf{\\$conditional} = \\begin{enumerate*}\n",
       "\\item 'Species'\n",
       "\\item 'Petal.Width'\n",
       "\\item 'Sepal.Width'\n",
       "\\end{enumerate*}\n"
      ],
      "text/markdown": [
       "**$conditional** = 1. 'Species'\n",
       "2. 'Petal.Width'\n",
       "3. 'Sepal.Width'\n",
       "\n",
       "\n"
      ],
      "text/plain": [
       "$conditional\n",
       "[1] \"Species\"     \"Petal.Width\" \"Sepal.Width\"\n"
      ]
     },
     "metadata": {},
     "output_type": "display_data"
    }
   ],
   "source": [
    "find_predictors(m)"
   ]
  },
  {
   "cell_type": "code",
   "execution_count": 17,
   "id": "28acec77",
   "metadata": {
    "vscode": {
     "languageId": "r"
    }
   },
   "outputs": [
    {
     "data": {
      "text/html": [
       "<strong>$conditional</strong> = <style>\n",
       ".list-inline {list-style: none; margin:0; padding: 0}\n",
       ".list-inline>li {display: inline-block}\n",
       ".list-inline>li:not(:last-child)::after {content: \"\\00b7\"; padding: 0 .5ex}\n",
       "</style>\n",
       "<ol class=list-inline><li>'(Intercept)'</li><li>'Speciesversicolor'</li><li>'Speciesvirginica'</li><li>'Petal.Width'</li><li>'poly(Sepal.Width, 2)1'</li><li>'poly(Sepal.Width, 2)2'</li></ol>\n"
      ],
      "text/latex": [
       "\\textbf{\\$conditional} = \\begin{enumerate*}\n",
       "\\item '(Intercept)'\n",
       "\\item 'Speciesversicolor'\n",
       "\\item 'Speciesvirginica'\n",
       "\\item 'Petal.Width'\n",
       "\\item 'poly(Sepal.Width, 2)1'\n",
       "\\item 'poly(Sepal.Width, 2)2'\n",
       "\\end{enumerate*}\n"
      ],
      "text/markdown": [
       "**$conditional** = 1. '(Intercept)'\n",
       "2. 'Speciesversicolor'\n",
       "3. 'Speciesvirginica'\n",
       "4. 'Petal.Width'\n",
       "5. 'poly(Sepal.Width, 2)1'\n",
       "6. 'poly(Sepal.Width, 2)2'\n",
       "\n",
       "\n"
      ],
      "text/plain": [
       "$conditional\n",
       "[1] \"(Intercept)\"           \"Speciesversicolor\"     \"Speciesvirginica\"     \n",
       "[4] \"Petal.Width\"           \"poly(Sepal.Width, 2)1\" \"poly(Sepal.Width, 2)2\"\n"
      ]
     },
     "metadata": {},
     "output_type": "display_data"
    }
   ],
   "source": [
    "find_parameters(m)"
   ]
  },
  {
   "cell_type": "code",
   "execution_count": 19,
   "id": "ae84b896",
   "metadata": {
    "vscode": {
     "languageId": "r"
    }
   },
   "outputs": [
    {
     "data": {
      "text/html": [
       "<table class=\"dataframe\">\n",
       "<caption>A data.frame: 6 x 4</caption>\n",
       "<thead>\n",
       "\t<tr><th></th><th scope=col>Sepal.Length</th><th scope=col>Species</th><th scope=col>Petal.Width</th><th scope=col>Sepal.Width</th></tr>\n",
       "\t<tr><th></th><th scope=col>&lt;dbl&gt;</th><th scope=col>&lt;fct&gt;</th><th scope=col>&lt;dbl&gt;</th><th scope=col>&lt;dbl&gt;</th></tr>\n",
       "</thead>\n",
       "<tbody>\n",
       "\t<tr><th scope=row>1</th><td>5.1</td><td>setosa</td><td>0.2</td><td>3.5</td></tr>\n",
       "\t<tr><th scope=row>2</th><td>4.9</td><td>setosa</td><td>0.2</td><td>3.0</td></tr>\n",
       "\t<tr><th scope=row>3</th><td>4.7</td><td>setosa</td><td>0.2</td><td>3.2</td></tr>\n",
       "\t<tr><th scope=row>4</th><td>4.6</td><td>setosa</td><td>0.2</td><td>3.1</td></tr>\n",
       "\t<tr><th scope=row>5</th><td>5.0</td><td>setosa</td><td>0.2</td><td>3.6</td></tr>\n",
       "\t<tr><th scope=row>6</th><td>5.4</td><td>setosa</td><td>0.4</td><td>3.9</td></tr>\n",
       "</tbody>\n",
       "</table>\n"
      ],
      "text/latex": [
       "A data.frame: 6 x 4\n",
       "\\begin{tabular}{r|llll}\n",
       "  & Sepal.Length & Species & Petal.Width & Sepal.Width\\\\\n",
       "  & <dbl> & <fct> & <dbl> & <dbl>\\\\\n",
       "\\hline\n",
       "\t1 & 5.1 & setosa & 0.2 & 3.5\\\\\n",
       "\t2 & 4.9 & setosa & 0.2 & 3.0\\\\\n",
       "\t3 & 4.7 & setosa & 0.2 & 3.2\\\\\n",
       "\t4 & 4.6 & setosa & 0.2 & 3.1\\\\\n",
       "\t5 & 5.0 & setosa & 0.2 & 3.6\\\\\n",
       "\t6 & 5.4 & setosa & 0.4 & 3.9\\\\\n",
       "\\end{tabular}\n"
      ],
      "text/markdown": [
       "\n",
       "A data.frame: 6 x 4\n",
       "\n",
       "| <!--/--> | Sepal.Length &lt;dbl&gt; | Species &lt;fct&gt; | Petal.Width &lt;dbl&gt; | Sepal.Width &lt;dbl&gt; |\n",
       "|---|---|---|---|---|\n",
       "| 1 | 5.1 | setosa | 0.2 | 3.5 |\n",
       "| 2 | 4.9 | setosa | 0.2 | 3.0 |\n",
       "| 3 | 4.7 | setosa | 0.2 | 3.2 |\n",
       "| 4 | 4.6 | setosa | 0.2 | 3.1 |\n",
       "| 5 | 5.0 | setosa | 0.2 | 3.6 |\n",
       "| 6 | 5.4 | setosa | 0.4 | 3.9 |\n",
       "\n"
      ],
      "text/plain": [
       "  Sepal.Length Species Petal.Width Sepal.Width\n",
       "1 5.1          setosa  0.2         3.5        \n",
       "2 4.9          setosa  0.2         3.0        \n",
       "3 4.7          setosa  0.2         3.2        \n",
       "4 4.6          setosa  0.2         3.1        \n",
       "5 5.0          setosa  0.2         3.6        \n",
       "6 5.4          setosa  0.4         3.9        "
      ]
     },
     "metadata": {},
     "output_type": "display_data"
    }
   ],
   "source": [
    "get_data(m) %>% head()"
   ]
  },
  {
   "cell_type": "code",
   "execution_count": 21,
   "id": "f506f176",
   "metadata": {
    "vscode": {
     "languageId": "r"
    }
   },
   "outputs": [
    {
     "data": {
      "text/html": [
       "<table class=\"dataframe\">\n",
       "<caption>A data.frame: 6 x 3</caption>\n",
       "<thead>\n",
       "\t<tr><th></th><th scope=col>Species</th><th scope=col>Petal.Width</th><th scope=col>Sepal.Width</th></tr>\n",
       "\t<tr><th></th><th scope=col>&lt;fct&gt;</th><th scope=col>&lt;dbl&gt;</th><th scope=col>&lt;dbl&gt;</th></tr>\n",
       "</thead>\n",
       "<tbody>\n",
       "\t<tr><th scope=row>1</th><td>setosa</td><td>0.2</td><td>3.5</td></tr>\n",
       "\t<tr><th scope=row>2</th><td>setosa</td><td>0.2</td><td>3.0</td></tr>\n",
       "\t<tr><th scope=row>3</th><td>setosa</td><td>0.2</td><td>3.2</td></tr>\n",
       "\t<tr><th scope=row>4</th><td>setosa</td><td>0.2</td><td>3.1</td></tr>\n",
       "\t<tr><th scope=row>5</th><td>setosa</td><td>0.2</td><td>3.6</td></tr>\n",
       "\t<tr><th scope=row>6</th><td>setosa</td><td>0.4</td><td>3.9</td></tr>\n",
       "</tbody>\n",
       "</table>\n"
      ],
      "text/latex": [
       "A data.frame: 6 x 3\n",
       "\\begin{tabular}{r|lll}\n",
       "  & Species & Petal.Width & Sepal.Width\\\\\n",
       "  & <fct> & <dbl> & <dbl>\\\\\n",
       "\\hline\n",
       "\t1 & setosa & 0.2 & 3.5\\\\\n",
       "\t2 & setosa & 0.2 & 3.0\\\\\n",
       "\t3 & setosa & 0.2 & 3.2\\\\\n",
       "\t4 & setosa & 0.2 & 3.1\\\\\n",
       "\t5 & setosa & 0.2 & 3.6\\\\\n",
       "\t6 & setosa & 0.4 & 3.9\\\\\n",
       "\\end{tabular}\n"
      ],
      "text/markdown": [
       "\n",
       "A data.frame: 6 x 3\n",
       "\n",
       "| <!--/--> | Species &lt;fct&gt; | Petal.Width &lt;dbl&gt; | Sepal.Width &lt;dbl&gt; |\n",
       "|---|---|---|---|\n",
       "| 1 | setosa | 0.2 | 3.5 |\n",
       "| 2 | setosa | 0.2 | 3.0 |\n",
       "| 3 | setosa | 0.2 | 3.2 |\n",
       "| 4 | setosa | 0.2 | 3.1 |\n",
       "| 5 | setosa | 0.2 | 3.6 |\n",
       "| 6 | setosa | 0.4 | 3.9 |\n",
       "\n"
      ],
      "text/plain": [
       "  Species Petal.Width Sepal.Width\n",
       "1 setosa  0.2         3.5        \n",
       "2 setosa  0.2         3.0        \n",
       "3 setosa  0.2         3.2        \n",
       "4 setosa  0.2         3.1        \n",
       "5 setosa  0.2         3.6        \n",
       "6 setosa  0.4         3.9        "
      ]
     },
     "metadata": {},
     "output_type": "display_data"
    }
   ],
   "source": [
    "get_predictors(m) %>% head()"
   ]
  },
  {
   "cell_type": "code",
   "execution_count": 22,
   "id": "bac91f31",
   "metadata": {
    "vscode": {
     "languageId": "r"
    }
   },
   "outputs": [
    {
     "data": {
      "text/html": [
       "<style>\n",
       ".list-inline {list-style: none; margin:0; padding: 0}\n",
       ".list-inline>li {display: inline-block}\n",
       ".list-inline>li:not(:last-child)::after {content: \"\\00b7\"; padding: 0 .5ex}\n",
       "</style>\n",
       "<ol class=list-inline><li>5.1</li><li>4.9</li><li>4.7</li><li>4.6</li><li>5</li><li>5.4</li></ol>\n"
      ],
      "text/latex": [
       "\\begin{enumerate*}\n",
       "\\item 5.1\n",
       "\\item 4.9\n",
       "\\item 4.7\n",
       "\\item 4.6\n",
       "\\item 5\n",
       "\\item 5.4\n",
       "\\end{enumerate*}\n"
      ],
      "text/markdown": [
       "1. 5.1\n",
       "2. 4.9\n",
       "3. 4.7\n",
       "4. 4.6\n",
       "5. 5\n",
       "6. 5.4\n",
       "\n",
       "\n"
      ],
      "text/plain": [
       "[1] 5.1 4.9 4.7 4.6 5.0 5.4"
      ]
     },
     "metadata": {},
     "output_type": "display_data"
    }
   ],
   "source": [
    "get_response(m) %>% head()"
   ]
  },
  {
   "cell_type": "code",
   "execution_count": null,
   "id": "69a80d26",
   "metadata": {
    "vscode": {
     "languageId": "r"
    }
   },
   "outputs": [],
   "source": []
  }
 ],
 "metadata": {
  "kernelspec": {
   "display_name": "R",
   "language": "R",
   "name": "ir"
  },
  "language_info": {
   "codemirror_mode": "r",
   "file_extension": ".r",
   "mimetype": "text/x-r-source",
   "name": "R",
   "pygments_lexer": "r",
   "version": "4.4.2"
  }
 },
 "nbformat": 4,
 "nbformat_minor": 5
}

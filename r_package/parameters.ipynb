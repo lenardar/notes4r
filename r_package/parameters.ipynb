{
 "cells": [
  {
   "cell_type": "markdown",
   "id": "2fc4301e",
   "metadata": {},
   "source": [
    "学习R语言{parameters}包。"
   ]
  },
  {
   "cell_type": "code",
   "execution_count": 4,
   "id": "3a1636b7",
   "metadata": {
    "vscode": {
     "languageId": "r"
    }
   },
   "outputs": [],
   "source": [
    "library(tidyverse)\n",
    "library(easystats)"
   ]
  },
  {
   "cell_type": "markdown",
   "id": "115024d7",
   "metadata": {},
   "source": [
    "# 快速入门"
   ]
  },
  {
   "cell_type": "markdown",
   "id": "ec8c1ccc",
   "metadata": {},
   "source": [
    "## 模型参数选择"
   ]
  },
  {
   "cell_type": "markdown",
   "id": "c93b3eaf",
   "metadata": {},
   "source": [
    "### 经典回归模型"
   ]
  },
  {
   "cell_type": "code",
   "execution_count": 5,
   "id": "b90f68ab",
   "metadata": {
    "vscode": {
     "languageId": "r"
    }
   },
   "outputs": [
    {
     "data": {
      "text/html": [
       "<table class=\"dataframe\">\n",
       "<caption>A parameters_model: 7 x 9</caption>\n",
       "<thead>\n",
       "\t<tr><th scope=col>Parameter</th><th scope=col>Coefficient</th><th scope=col>SE</th><th scope=col>CI</th><th scope=col>CI_low</th><th scope=col>CI_high</th><th scope=col>t</th><th scope=col>df_error</th><th scope=col>p</th></tr>\n",
       "\t<tr><th scope=col>&lt;chr&gt;</th><th scope=col>&lt;dbl&gt;</th><th scope=col>&lt;dbl&gt;</th><th scope=col>&lt;dbl&gt;</th><th scope=col>&lt;dbl&gt;</th><th scope=col>&lt;dbl&gt;</th><th scope=col>&lt;dbl&gt;</th><th scope=col>&lt;int&gt;</th><th scope=col>&lt;dbl&gt;</th></tr>\n",
       "</thead>\n",
       "<tbody>\n",
       "\t<tr><td>(Intercept)                   </td><td> 2.89066124</td><td>0.3606918</td><td>0.95</td><td> 2.1776845</td><td> 3.6036379</td><td> 8.0142135</td><td>143</td><td>3.564207e-13</td></tr>\n",
       "\t<tr><td>Petal.Length                  </td><td> 0.26378540</td><td>0.2465940</td><td>0.95</td><td>-0.2236551</td><td> 0.7512259</td><td> 1.0697153</td><td>143</td><td>2.865498e-01</td></tr>\n",
       "\t<tr><td>Speciesversicolor             </td><td>-1.66323586</td><td>0.5297231</td><td>0.95</td><td>-2.7103353</td><td>-0.6161364</td><td>-3.1398216</td><td>143</td><td>2.054251e-03</td></tr>\n",
       "\t<tr><td>Speciesvirginica              </td><td>-1.91824351</td><td>0.5852145</td><td>0.95</td><td>-3.0750324</td><td>-0.7614546</td><td>-3.2778470</td><td>143</td><td>1.313222e-03</td></tr>\n",
       "\t<tr><td>Petal.Width                   </td><td> 0.61660367</td><td>0.1399630</td><td>0.95</td><td> 0.3399399</td><td> 0.8932674</td><td> 4.4054770</td><td>143</td><td>2.056175e-05</td></tr>\n",
       "\t<tr><td>Petal.Length:Speciesversicolor</td><td>-0.09360743</td><td>0.2618057</td><td>0.95</td><td>-0.6111168</td><td> 0.4239019</td><td>-0.3575454</td><td>143</td><td>7.212107e-01</td></tr>\n",
       "\t<tr><td>Petal.Length:Speciesvirginica </td><td>-0.12827689</td><td>0.2568863</td><td>0.95</td><td>-0.6360621</td><td> 0.3795083</td><td>-0.4993527</td><td>143</td><td>6.182983e-01</td></tr>\n",
       "</tbody>\n",
       "</table>\n"
      ],
      "text/latex": [
       "A parameters\\_model: 7 x 9\n",
       "\\begin{tabular}{lllllllll}\n",
       " Parameter & Coefficient & SE & CI & CI\\_low & CI\\_high & t & df\\_error & p\\\\\n",
       " <chr> & <dbl> & <dbl> & <dbl> & <dbl> & <dbl> & <dbl> & <int> & <dbl>\\\\\n",
       "\\hline\n",
       "\t (Intercept)                    &  2.89066124 & 0.3606918 & 0.95 &  2.1776845 &  3.6036379 &  8.0142135 & 143 & 3.564207e-13\\\\\n",
       "\t Petal.Length                   &  0.26378540 & 0.2465940 & 0.95 & -0.2236551 &  0.7512259 &  1.0697153 & 143 & 2.865498e-01\\\\\n",
       "\t Speciesversicolor              & -1.66323586 & 0.5297231 & 0.95 & -2.7103353 & -0.6161364 & -3.1398216 & 143 & 2.054251e-03\\\\\n",
       "\t Speciesvirginica               & -1.91824351 & 0.5852145 & 0.95 & -3.0750324 & -0.7614546 & -3.2778470 & 143 & 1.313222e-03\\\\\n",
       "\t Petal.Width                    &  0.61660367 & 0.1399630 & 0.95 &  0.3399399 &  0.8932674 &  4.4054770 & 143 & 2.056175e-05\\\\\n",
       "\t Petal.Length:Speciesversicolor & -0.09360743 & 0.2618057 & 0.95 & -0.6111168 &  0.4239019 & -0.3575454 & 143 & 7.212107e-01\\\\\n",
       "\t Petal.Length:Speciesvirginica  & -0.12827689 & 0.2568863 & 0.95 & -0.6360621 &  0.3795083 & -0.4993527 & 143 & 6.182983e-01\\\\\n",
       "\\end{tabular}\n"
      ],
      "text/markdown": [
       "\n",
       "A parameters_model: 7 x 9\n",
       "\n",
       "| Parameter &lt;chr&gt; | Coefficient &lt;dbl&gt; | SE &lt;dbl&gt; | CI &lt;dbl&gt; | CI_low &lt;dbl&gt; | CI_high &lt;dbl&gt; | t &lt;dbl&gt; | df_error &lt;int&gt; | p &lt;dbl&gt; |\n",
       "|---|---|---|---|---|---|---|---|---|\n",
       "| (Intercept)                    |  2.89066124 | 0.3606918 | 0.95 |  2.1776845 |  3.6036379 |  8.0142135 | 143 | 3.564207e-13 |\n",
       "| Petal.Length                   |  0.26378540 | 0.2465940 | 0.95 | -0.2236551 |  0.7512259 |  1.0697153 | 143 | 2.865498e-01 |\n",
       "| Speciesversicolor              | -1.66323586 | 0.5297231 | 0.95 | -2.7103353 | -0.6161364 | -3.1398216 | 143 | 2.054251e-03 |\n",
       "| Speciesvirginica               | -1.91824351 | 0.5852145 | 0.95 | -3.0750324 | -0.7614546 | -3.2778470 | 143 | 1.313222e-03 |\n",
       "| Petal.Width                    |  0.61660367 | 0.1399630 | 0.95 |  0.3399399 |  0.8932674 |  4.4054770 | 143 | 2.056175e-05 |\n",
       "| Petal.Length:Speciesversicolor | -0.09360743 | 0.2618057 | 0.95 | -0.6111168 |  0.4239019 | -0.3575454 | 143 | 7.212107e-01 |\n",
       "| Petal.Length:Speciesvirginica  | -0.12827689 | 0.2568863 | 0.95 | -0.6360621 |  0.3795083 | -0.4993527 | 143 | 6.182983e-01 |\n",
       "\n"
      ],
      "text/plain": [
       "  Parameter                      Coefficient SE        CI   CI_low    \n",
       "1 (Intercept)                     2.89066124 0.3606918 0.95  2.1776845\n",
       "2 Petal.Length                    0.26378540 0.2465940 0.95 -0.2236551\n",
       "3 Speciesversicolor              -1.66323586 0.5297231 0.95 -2.7103353\n",
       "4 Speciesvirginica               -1.91824351 0.5852145 0.95 -3.0750324\n",
       "5 Petal.Width                     0.61660367 0.1399630 0.95  0.3399399\n",
       "6 Petal.Length:Speciesversicolor -0.09360743 0.2618057 0.95 -0.6111168\n",
       "7 Petal.Length:Speciesvirginica  -0.12827689 0.2568863 0.95 -0.6360621\n",
       "  CI_high    t          df_error p           \n",
       "1  3.6036379  8.0142135 143      3.564207e-13\n",
       "2  0.7512259  1.0697153 143      2.865498e-01\n",
       "3 -0.6161364 -3.1398216 143      2.054251e-03\n",
       "4 -0.7614546 -3.2778470 143      1.313222e-03\n",
       "5  0.8932674  4.4054770 143      2.056175e-05\n",
       "6  0.4239019 -0.3575454 143      7.212107e-01\n",
       "7  0.3795083 -0.4993527 143      6.182983e-01"
      ]
     },
     "metadata": {},
     "output_type": "display_data"
    }
   ],
   "source": [
    "model <- lm(Sepal.Width ~ Petal.Length * Species + Petal.Width, data = iris)\n",
    "\n",
    "# regular model parameters\n",
    "model_parameters(model)"
   ]
  },
  {
   "cell_type": "code",
   "execution_count": 6,
   "id": "0e763296",
   "metadata": {
    "vscode": {
     "languageId": "r"
    }
   },
   "outputs": [
    {
     "data": {
      "text/html": [
       "<table class=\"dataframe\">\n",
       "<caption>A parameters_model: 7 x 9</caption>\n",
       "<thead>\n",
       "\t<tr><th scope=col>Parameter</th><th scope=col>Coefficient</th><th scope=col>SE</th><th scope=col>CI</th><th scope=col>CI_low</th><th scope=col>CI_high</th><th scope=col>t</th><th scope=col>df_error</th><th scope=col>p</th></tr>\n",
       "\t<tr><th scope=col>&lt;chr&gt;</th><th scope=col>&lt;dbl&gt;</th><th scope=col>&lt;dbl&gt;</th><th scope=col>&lt;dbl&gt;</th><th scope=col>&lt;dbl&gt;</th><th scope=col>&lt;dbl&gt;</th><th scope=col>&lt;dbl&gt;</th><th scope=col>&lt;int&gt;</th><th scope=col>&lt;dbl&gt;</th></tr>\n",
       "</thead>\n",
       "<tbody>\n",
       "\t<tr><td>(Intercept)                   </td><td> 3.5885932</td><td>1.3036671</td><td>0.95</td><td> 1.0116447</td><td> 6.165542</td><td> 2.7526914</td><td>143</td><td>6.677549e-03</td></tr>\n",
       "\t<tr><td>Petal.Length                  </td><td> 1.0683550</td><td>0.9987283</td><td>0.95</td><td>-0.9058236</td><td> 3.042533</td><td> 1.0697153</td><td>143</td><td>2.865498e-01</td></tr>\n",
       "\t<tr><td>Speciesversicolor             </td><td>-4.6230063</td><td>1.3099292</td><td>0.95</td><td>-7.2123332</td><td>-2.033679</td><td>-3.5292031</td><td>143</td><td>5.610296e-04</td></tr>\n",
       "\t<tr><td>Speciesvirginica              </td><td>-5.5069827</td><td>1.3762783</td><td>0.95</td><td>-8.2274613</td><td>-2.786504</td><td>-4.0013583</td><td>143</td><td>1.006864e-04</td></tr>\n",
       "\t<tr><td>Petal.Width                   </td><td> 1.0783090</td><td>0.2447656</td><td>0.95</td><td> 0.5944829</td><td> 1.562135</td><td> 4.4054770</td><td>143</td><td>2.056175e-05</td></tr>\n",
       "\t<tr><td>Petal.Length:Speciesversicolor</td><td>-0.3791186</td><td>1.0603371</td><td>0.95</td><td>-2.4750787</td><td> 1.716841</td><td>-0.3575454</td><td>143</td><td>7.212107e-01</td></tr>\n",
       "\t<tr><td>Petal.Length:Speciesvirginica </td><td>-0.5195331</td><td>1.0404131</td><td>0.95</td><td>-2.5761095</td><td> 1.537043</td><td>-0.4993527</td><td>143</td><td>6.182983e-01</td></tr>\n",
       "</tbody>\n",
       "</table>\n"
      ],
      "text/latex": [
       "A parameters\\_model: 7 x 9\n",
       "\\begin{tabular}{lllllllll}\n",
       " Parameter & Coefficient & SE & CI & CI\\_low & CI\\_high & t & df\\_error & p\\\\\n",
       " <chr> & <dbl> & <dbl> & <dbl> & <dbl> & <dbl> & <dbl> & <int> & <dbl>\\\\\n",
       "\\hline\n",
       "\t (Intercept)                    &  3.5885932 & 1.3036671 & 0.95 &  1.0116447 &  6.165542 &  2.7526914 & 143 & 6.677549e-03\\\\\n",
       "\t Petal.Length                   &  1.0683550 & 0.9987283 & 0.95 & -0.9058236 &  3.042533 &  1.0697153 & 143 & 2.865498e-01\\\\\n",
       "\t Speciesversicolor              & -4.6230063 & 1.3099292 & 0.95 & -7.2123332 & -2.033679 & -3.5292031 & 143 & 5.610296e-04\\\\\n",
       "\t Speciesvirginica               & -5.5069827 & 1.3762783 & 0.95 & -8.2274613 & -2.786504 & -4.0013583 & 143 & 1.006864e-04\\\\\n",
       "\t Petal.Width                    &  1.0783090 & 0.2447656 & 0.95 &  0.5944829 &  1.562135 &  4.4054770 & 143 & 2.056175e-05\\\\\n",
       "\t Petal.Length:Speciesversicolor & -0.3791186 & 1.0603371 & 0.95 & -2.4750787 &  1.716841 & -0.3575454 & 143 & 7.212107e-01\\\\\n",
       "\t Petal.Length:Speciesvirginica  & -0.5195331 & 1.0404131 & 0.95 & -2.5761095 &  1.537043 & -0.4993527 & 143 & 6.182983e-01\\\\\n",
       "\\end{tabular}\n"
      ],
      "text/markdown": [
       "\n",
       "A parameters_model: 7 x 9\n",
       "\n",
       "| Parameter &lt;chr&gt; | Coefficient &lt;dbl&gt; | SE &lt;dbl&gt; | CI &lt;dbl&gt; | CI_low &lt;dbl&gt; | CI_high &lt;dbl&gt; | t &lt;dbl&gt; | df_error &lt;int&gt; | p &lt;dbl&gt; |\n",
       "|---|---|---|---|---|---|---|---|---|\n",
       "| (Intercept)                    |  3.5885932 | 1.3036671 | 0.95 |  1.0116447 |  6.165542 |  2.7526914 | 143 | 6.677549e-03 |\n",
       "| Petal.Length                   |  1.0683550 | 0.9987283 | 0.95 | -0.9058236 |  3.042533 |  1.0697153 | 143 | 2.865498e-01 |\n",
       "| Speciesversicolor              | -4.6230063 | 1.3099292 | 0.95 | -7.2123332 | -2.033679 | -3.5292031 | 143 | 5.610296e-04 |\n",
       "| Speciesvirginica               | -5.5069827 | 1.3762783 | 0.95 | -8.2274613 | -2.786504 | -4.0013583 | 143 | 1.006864e-04 |\n",
       "| Petal.Width                    |  1.0783090 | 0.2447656 | 0.95 |  0.5944829 |  1.562135 |  4.4054770 | 143 | 2.056175e-05 |\n",
       "| Petal.Length:Speciesversicolor | -0.3791186 | 1.0603371 | 0.95 | -2.4750787 |  1.716841 | -0.3575454 | 143 | 7.212107e-01 |\n",
       "| Petal.Length:Speciesvirginica  | -0.5195331 | 1.0404131 | 0.95 | -2.5761095 |  1.537043 | -0.4993527 | 143 | 6.182983e-01 |\n",
       "\n"
      ],
      "text/plain": [
       "  Parameter                      Coefficient SE        CI   CI_low    \n",
       "1 (Intercept)                     3.5885932  1.3036671 0.95  1.0116447\n",
       "2 Petal.Length                    1.0683550  0.9987283 0.95 -0.9058236\n",
       "3 Speciesversicolor              -4.6230063  1.3099292 0.95 -7.2123332\n",
       "4 Speciesvirginica               -5.5069827  1.3762783 0.95 -8.2274613\n",
       "5 Petal.Width                     1.0783090  0.2447656 0.95  0.5944829\n",
       "6 Petal.Length:Speciesversicolor -0.3791186  1.0603371 0.95 -2.4750787\n",
       "7 Petal.Length:Speciesvirginica  -0.5195331  1.0404131 0.95 -2.5761095\n",
       "  CI_high   t          df_error p           \n",
       "1  6.165542  2.7526914 143      6.677549e-03\n",
       "2  3.042533  1.0697153 143      2.865498e-01\n",
       "3 -2.033679 -3.5292031 143      5.610296e-04\n",
       "4 -2.786504 -4.0013583 143      1.006864e-04\n",
       "5  1.562135  4.4054770 143      2.056175e-05\n",
       "6  1.716841 -0.3575454 143      7.212107e-01\n",
       "7  1.537043 -0.4993527 143      6.182983e-01"
      ]
     },
     "metadata": {},
     "output_type": "display_data"
    }
   ],
   "source": [
    "# standardized parameters\n",
    "model_parameters(model, standardize = \"refit\")"
   ]
  },
  {
   "cell_type": "code",
   "execution_count": 7,
   "id": "0c5f0320",
   "metadata": {
    "vscode": {
     "languageId": "r"
    }
   },
   "outputs": [
    {
     "data": {
      "text/html": [
       "<table class=\"dataframe\">\n",
       "<caption>A parameters_model: 7 x 9</caption>\n",
       "<thead>\n",
       "\t<tr><th scope=col>Parameter</th><th scope=col>Coefficient</th><th scope=col>SE</th><th scope=col>CI</th><th scope=col>CI_low</th><th scope=col>CI_high</th><th scope=col>t</th><th scope=col>df_error</th><th scope=col>p</th></tr>\n",
       "\t<tr><th scope=col>&lt;chr&gt;</th><th scope=col>&lt;dbl&gt;</th><th scope=col>&lt;dbl&gt;</th><th scope=col>&lt;dbl&gt;</th><th scope=col>&lt;dbl&gt;</th><th scope=col>&lt;dbl&gt;</th><th scope=col>&lt;dbl&gt;</th><th scope=col>&lt;int&gt;</th><th scope=col>&lt;dbl&gt;</th></tr>\n",
       "</thead>\n",
       "<tbody>\n",
       "\t<tr><td>(Intercept)                   </td><td> 2.89066124</td><td>0.4342003</td><td>0.95</td><td> 2.0323809</td><td> 3.7489416</td><td> 6.6574371</td><td>143</td><td>5.544114e-10</td></tr>\n",
       "\t<tr><td>Petal.Length                  </td><td> 0.26378540</td><td>0.2856522</td><td>0.95</td><td>-0.3008610</td><td> 0.8284318</td><td> 0.9234497</td><td>143</td><td>3.573285e-01</td></tr>\n",
       "\t<tr><td>Speciesversicolor             </td><td>-1.66323586</td><td>0.5266325</td><td>0.95</td><td>-2.7042261</td><td>-0.6222456</td><td>-3.1582479</td><td>143</td><td>1.936715e-03</td></tr>\n",
       "\t<tr><td>Speciesvirginica              </td><td>-1.91824351</td><td>0.7652471</td><td>0.95</td><td>-3.4309014</td><td>-0.4055856</td><td>-2.5066983</td><td>143</td><td>1.330563e-02</td></tr>\n",
       "\t<tr><td>Petal.Width                   </td><td> 0.61660367</td><td>0.1178825</td><td>0.95</td><td> 0.3835862</td><td> 0.8496212</td><td> 5.2306620</td><td>143</td><td>5.887785e-07</td></tr>\n",
       "\t<tr><td>Petal.Length:Speciesversicolor</td><td>-0.09360743</td><td>0.2908649</td><td>0.95</td><td>-0.6685578</td><td> 0.4813429</td><td>-0.3218244</td><td>143</td><td>7.480557e-01</td></tr>\n",
       "\t<tr><td>Petal.Length:Speciesvirginica </td><td>-0.12827689</td><td>0.3051989</td><td>0.95</td><td>-0.7315612</td><td> 0.4750074</td><td>-0.4203059</td><td>143</td><td>6.748929e-01</td></tr>\n",
       "</tbody>\n",
       "</table>\n"
      ],
      "text/latex": [
       "A parameters\\_model: 7 x 9\n",
       "\\begin{tabular}{lllllllll}\n",
       " Parameter & Coefficient & SE & CI & CI\\_low & CI\\_high & t & df\\_error & p\\\\\n",
       " <chr> & <dbl> & <dbl> & <dbl> & <dbl> & <dbl> & <dbl> & <int> & <dbl>\\\\\n",
       "\\hline\n",
       "\t (Intercept)                    &  2.89066124 & 0.4342003 & 0.95 &  2.0323809 &  3.7489416 &  6.6574371 & 143 & 5.544114e-10\\\\\n",
       "\t Petal.Length                   &  0.26378540 & 0.2856522 & 0.95 & -0.3008610 &  0.8284318 &  0.9234497 & 143 & 3.573285e-01\\\\\n",
       "\t Speciesversicolor              & -1.66323586 & 0.5266325 & 0.95 & -2.7042261 & -0.6222456 & -3.1582479 & 143 & 1.936715e-03\\\\\n",
       "\t Speciesvirginica               & -1.91824351 & 0.7652471 & 0.95 & -3.4309014 & -0.4055856 & -2.5066983 & 143 & 1.330563e-02\\\\\n",
       "\t Petal.Width                    &  0.61660367 & 0.1178825 & 0.95 &  0.3835862 &  0.8496212 &  5.2306620 & 143 & 5.887785e-07\\\\\n",
       "\t Petal.Length:Speciesversicolor & -0.09360743 & 0.2908649 & 0.95 & -0.6685578 &  0.4813429 & -0.3218244 & 143 & 7.480557e-01\\\\\n",
       "\t Petal.Length:Speciesvirginica  & -0.12827689 & 0.3051989 & 0.95 & -0.7315612 &  0.4750074 & -0.4203059 & 143 & 6.748929e-01\\\\\n",
       "\\end{tabular}\n"
      ],
      "text/markdown": [
       "\n",
       "A parameters_model: 7 x 9\n",
       "\n",
       "| Parameter &lt;chr&gt; | Coefficient &lt;dbl&gt; | SE &lt;dbl&gt; | CI &lt;dbl&gt; | CI_low &lt;dbl&gt; | CI_high &lt;dbl&gt; | t &lt;dbl&gt; | df_error &lt;int&gt; | p &lt;dbl&gt; |\n",
       "|---|---|---|---|---|---|---|---|---|\n",
       "| (Intercept)                    |  2.89066124 | 0.4342003 | 0.95 |  2.0323809 |  3.7489416 |  6.6574371 | 143 | 5.544114e-10 |\n",
       "| Petal.Length                   |  0.26378540 | 0.2856522 | 0.95 | -0.3008610 |  0.8284318 |  0.9234497 | 143 | 3.573285e-01 |\n",
       "| Speciesversicolor              | -1.66323586 | 0.5266325 | 0.95 | -2.7042261 | -0.6222456 | -3.1582479 | 143 | 1.936715e-03 |\n",
       "| Speciesvirginica               | -1.91824351 | 0.7652471 | 0.95 | -3.4309014 | -0.4055856 | -2.5066983 | 143 | 1.330563e-02 |\n",
       "| Petal.Width                    |  0.61660367 | 0.1178825 | 0.95 |  0.3835862 |  0.8496212 |  5.2306620 | 143 | 5.887785e-07 |\n",
       "| Petal.Length:Speciesversicolor | -0.09360743 | 0.2908649 | 0.95 | -0.6685578 |  0.4813429 | -0.3218244 | 143 | 7.480557e-01 |\n",
       "| Petal.Length:Speciesvirginica  | -0.12827689 | 0.3051989 | 0.95 | -0.7315612 |  0.4750074 | -0.4203059 | 143 | 6.748929e-01 |\n",
       "\n"
      ],
      "text/plain": [
       "  Parameter                      Coefficient SE        CI   CI_low    \n",
       "1 (Intercept)                     2.89066124 0.4342003 0.95  2.0323809\n",
       "2 Petal.Length                    0.26378540 0.2856522 0.95 -0.3008610\n",
       "3 Speciesversicolor              -1.66323586 0.5266325 0.95 -2.7042261\n",
       "4 Speciesvirginica               -1.91824351 0.7652471 0.95 -3.4309014\n",
       "5 Petal.Width                     0.61660367 0.1178825 0.95  0.3835862\n",
       "6 Petal.Length:Speciesversicolor -0.09360743 0.2908649 0.95 -0.6685578\n",
       "7 Petal.Length:Speciesvirginica  -0.12827689 0.3051989 0.95 -0.7315612\n",
       "  CI_high    t          df_error p           \n",
       "1  3.7489416  6.6574371 143      5.544114e-10\n",
       "2  0.8284318  0.9234497 143      3.573285e-01\n",
       "3 -0.6222456 -3.1582479 143      1.936715e-03\n",
       "4 -0.4055856 -2.5066983 143      1.330563e-02\n",
       "5  0.8496212  5.2306620 143      5.887785e-07\n",
       "6  0.4813429 -0.3218244 143      7.480557e-01\n",
       "7  0.4750074 -0.4203059 143      6.748929e-01"
      ]
     },
     "metadata": {},
     "output_type": "display_data"
    }
   ],
   "source": [
    "# heteroscedasticity-consitent SE and CI\n",
    "model_parameters(model, vcov = \"HC3\")"
   ]
  },
  {
   "cell_type": "markdown",
   "id": "3c9899a2",
   "metadata": {},
   "source": [
    "### 混合模型"
   ]
  },
  {
   "cell_type": "code",
   "execution_count": 12,
   "id": "074a027b",
   "metadata": {
    "vscode": {
     "languageId": "r"
    }
   },
   "outputs": [
    {
     "name": "stderr",
     "output_type": "stream",
     "text": [
      "Loading required package: Matrix\n",
      "\n",
      "\n",
      "Attaching package: 'Matrix'\n",
      "\n",
      "\n",
      "The following objects are masked from 'package:tidyr':\n",
      "\n",
      "    expand, pack, unpack\n",
      "\n",
      "\n",
      "Package 'merDeriv' needs to be installed to compute confidence intervals\n",
      "  for random effect parameters.\n",
      "\n"
     ]
    },
    {
     "data": {
      "text/html": [
       "<table class=\"dataframe\">\n",
       "<caption>A parameters_model: 4 x 11</caption>\n",
       "<thead>\n",
       "\t<tr><th scope=col>Parameter</th><th scope=col>Coefficient</th><th scope=col>SE</th><th scope=col>CI</th><th scope=col>CI_low</th><th scope=col>CI_high</th><th scope=col>t</th><th scope=col>df_error</th><th scope=col>p</th><th scope=col>Effects</th><th scope=col>Group</th></tr>\n",
       "\t<tr><th scope=col>&lt;chr&gt;</th><th scope=col>&lt;dbl&gt;</th><th scope=col>&lt;dbl&gt;</th><th scope=col>&lt;dbl&gt;</th><th scope=col>&lt;dbl&gt;</th><th scope=col>&lt;dbl&gt;</th><th scope=col>&lt;dbl&gt;</th><th scope=col>&lt;int&gt;</th><th scope=col>&lt;dbl&gt;</th><th scope=col>&lt;chr&gt;</th><th scope=col>&lt;chr&gt;</th></tr>\n",
       "</thead>\n",
       "<tbody>\n",
       "\t<tr><td>(Intercept)      </td><td>1.9984191</td><td>0.56199282</td><td>0.95</td><td>0.887727</td><td>3.109111</td><td>3.555951</td><td>146</td><td>5.080887e-04</td><td>fixed </td><td>        </td></tr>\n",
       "\t<tr><td>Petal.Length     </td><td>0.2817760</td><td>0.05931401</td><td>0.95</td><td>0.164551</td><td>0.399001</td><td>4.750581</td><td>146</td><td>4.803466e-06</td><td>fixed </td><td>        </td></tr>\n",
       "\t<tr><td>SD (Intercept)   </td><td>0.8924459</td><td>        NA</td><td>0.95</td><td>      NA</td><td>      NA</td><td>      NA</td><td> NA</td><td>          NA</td><td>random</td><td>Species </td></tr>\n",
       "\t<tr><td>SD (Observations)</td><td>0.3156108</td><td>        NA</td><td>0.95</td><td>      NA</td><td>      NA</td><td>      NA</td><td> NA</td><td>          NA</td><td>random</td><td>Residual</td></tr>\n",
       "</tbody>\n",
       "</table>\n"
      ],
      "text/latex": [
       "A parameters\\_model: 4 x 11\n",
       "\\begin{tabular}{lllllllllll}\n",
       " Parameter & Coefficient & SE & CI & CI\\_low & CI\\_high & t & df\\_error & p & Effects & Group\\\\\n",
       " <chr> & <dbl> & <dbl> & <dbl> & <dbl> & <dbl> & <dbl> & <int> & <dbl> & <chr> & <chr>\\\\\n",
       "\\hline\n",
       "\t (Intercept)       & 1.9984191 & 0.56199282 & 0.95 & 0.887727 & 3.109111 & 3.555951 & 146 & 5.080887e-04 & fixed  &         \\\\\n",
       "\t Petal.Length      & 0.2817760 & 0.05931401 & 0.95 & 0.164551 & 0.399001 & 4.750581 & 146 & 4.803466e-06 & fixed  &         \\\\\n",
       "\t SD (Intercept)    & 0.8924459 &         NA & 0.95 &       NA &       NA &       NA &  NA &           NA & random & Species \\\\\n",
       "\t SD (Observations) & 0.3156108 &         NA & 0.95 &       NA &       NA &       NA &  NA &           NA & random & Residual\\\\\n",
       "\\end{tabular}\n"
      ],
      "text/markdown": [
       "\n",
       "A parameters_model: 4 x 11\n",
       "\n",
       "| Parameter &lt;chr&gt; | Coefficient &lt;dbl&gt; | SE &lt;dbl&gt; | CI &lt;dbl&gt; | CI_low &lt;dbl&gt; | CI_high &lt;dbl&gt; | t &lt;dbl&gt; | df_error &lt;int&gt; | p &lt;dbl&gt; | Effects &lt;chr&gt; | Group &lt;chr&gt; |\n",
       "|---|---|---|---|---|---|---|---|---|---|---|\n",
       "| (Intercept)       | 1.9984191 | 0.56199282 | 0.95 | 0.887727 | 3.109111 | 3.555951 | 146 | 5.080887e-04 | fixed  | <!----> |\n",
       "| Petal.Length      | 0.2817760 | 0.05931401 | 0.95 | 0.164551 | 0.399001 | 4.750581 | 146 | 4.803466e-06 | fixed  | <!----> |\n",
       "| SD (Intercept)    | 0.8924459 |         NA | 0.95 |       NA |       NA |       NA |  NA |           NA | random | Species  |\n",
       "| SD (Observations) | 0.3156108 |         NA | 0.95 |       NA |       NA |       NA |  NA |           NA | random | Residual |\n",
       "\n"
      ],
      "text/plain": [
       "  Parameter         Coefficient SE         CI   CI_low   CI_high  t       \n",
       "1 (Intercept)       1.9984191   0.56199282 0.95 0.887727 3.109111 3.555951\n",
       "2 Petal.Length      0.2817760   0.05931401 0.95 0.164551 0.399001 4.750581\n",
       "3 SD (Intercept)    0.8924459           NA 0.95       NA       NA       NA\n",
       "4 SD (Observations) 0.3156108           NA 0.95       NA       NA       NA\n",
       "  df_error p            Effects Group   \n",
       "1 146      5.080887e-04 fixed           \n",
       "2 146      4.803466e-06 fixed           \n",
       "3  NA                NA random  Species \n",
       "4  NA                NA random  Residual"
      ]
     },
     "metadata": {},
     "output_type": "display_data"
    }
   ],
   "source": [
    "library(lme4)\n",
    "model <- lmer(Sepal.Width ~ Petal.Length + (1 | Species), data = iris)\n",
    "\n",
    "# model parameters with CI, df and p-values based on Wald approximation\n",
    "model_parameters(model)"
   ]
  },
  {
   "cell_type": "code",
   "execution_count": 13,
   "id": "9e246527",
   "metadata": {
    "vscode": {
     "languageId": "r"
    }
   },
   "outputs": [
    {
     "data": {
      "text/html": [
       "<table class=\"dataframe\">\n",
       "<caption>A parameters_model: 2 x 10</caption>\n",
       "<thead>\n",
       "\t<tr><th scope=col>Parameter</th><th scope=col>Coefficient</th><th scope=col>SE</th><th scope=col>CI</th><th scope=col>CI_low</th><th scope=col>CI_high</th><th scope=col>t</th><th scope=col>df_error</th><th scope=col>p</th><th scope=col>Effects</th></tr>\n",
       "\t<tr><th scope=col>&lt;chr&gt;</th><th scope=col>&lt;dbl&gt;</th><th scope=col>&lt;dbl&gt;</th><th scope=col>&lt;dbl&gt;</th><th scope=col>&lt;dbl&gt;</th><th scope=col>&lt;dbl&gt;</th><th scope=col>&lt;dbl&gt;</th><th scope=col>&lt;dbl&gt;</th><th scope=col>&lt;dbl&gt;</th><th scope=col>&lt;chr&gt;</th></tr>\n",
       "</thead>\n",
       "<tbody>\n",
       "\t<tr><td>(Intercept) </td><td>1.998419</td><td>0.56543174</td><td>0.95</td><td>0.06663574</td><td>3.930202</td><td>3.534324</td><td>  2.670579</td><td>4.627094e-02</td><td>fixed</td></tr>\n",
       "\t<tr><td>Petal.Length</td><td>0.281776</td><td>0.06158478</td><td>0.95</td><td>0.16002699</td><td>0.403525</td><td>4.575416</td><td>140.983678</td><td>1.032457e-05</td><td>fixed</td></tr>\n",
       "</tbody>\n",
       "</table>\n"
      ],
      "text/latex": [
       "A parameters\\_model: 2 x 10\n",
       "\\begin{tabular}{llllllllll}\n",
       " Parameter & Coefficient & SE & CI & CI\\_low & CI\\_high & t & df\\_error & p & Effects\\\\\n",
       " <chr> & <dbl> & <dbl> & <dbl> & <dbl> & <dbl> & <dbl> & <dbl> & <dbl> & <chr>\\\\\n",
       "\\hline\n",
       "\t (Intercept)  & 1.998419 & 0.56543174 & 0.95 & 0.06663574 & 3.930202 & 3.534324 &   2.670579 & 4.627094e-02 & fixed\\\\\n",
       "\t Petal.Length & 0.281776 & 0.06158478 & 0.95 & 0.16002699 & 0.403525 & 4.575416 & 140.983678 & 1.032457e-05 & fixed\\\\\n",
       "\\end{tabular}\n"
      ],
      "text/markdown": [
       "\n",
       "A parameters_model: 2 x 10\n",
       "\n",
       "| Parameter &lt;chr&gt; | Coefficient &lt;dbl&gt; | SE &lt;dbl&gt; | CI &lt;dbl&gt; | CI_low &lt;dbl&gt; | CI_high &lt;dbl&gt; | t &lt;dbl&gt; | df_error &lt;dbl&gt; | p &lt;dbl&gt; | Effects &lt;chr&gt; |\n",
       "|---|---|---|---|---|---|---|---|---|---|\n",
       "| (Intercept)  | 1.998419 | 0.56543174 | 0.95 | 0.06663574 | 3.930202 | 3.534324 |   2.670579 | 4.627094e-02 | fixed |\n",
       "| Petal.Length | 0.281776 | 0.06158478 | 0.95 | 0.16002699 | 0.403525 | 4.575416 | 140.983678 | 1.032457e-05 | fixed |\n",
       "\n"
      ],
      "text/plain": [
       "  Parameter    Coefficient SE         CI   CI_low     CI_high  t       \n",
       "1 (Intercept)  1.998419    0.56543174 0.95 0.06663574 3.930202 3.534324\n",
       "2 Petal.Length 0.281776    0.06158478 0.95 0.16002699 0.403525 4.575416\n",
       "  df_error   p            Effects\n",
       "1   2.670579 4.627094e-02 fixed  \n",
       "2 140.983678 1.032457e-05 fixed  "
      ]
     },
     "metadata": {},
     "output_type": "display_data"
    }
   ],
   "source": [
    "# model parameters with CI, df and p-values based on Kenward-Roger approximation\n",
    "model_parameters(model, ci_method = \"kenward\", effects = \"fixed\")"
   ]
  },
  {
   "cell_type": "markdown",
   "id": "4f4b2e1e",
   "metadata": {},
   "source": [
    "## 变量与参数选择"
   ]
  },
  {
   "cell_type": "code",
   "execution_count": 14,
   "id": "eef25abc",
   "metadata": {
    "vscode": {
     "languageId": "r"
    }
   },
   "outputs": [
    {
     "data": {
      "text/html": [
       "<table class=\"dataframe\">\n",
       "<caption>A parameters_model: 6 x 9</caption>\n",
       "<thead>\n",
       "\t<tr><th scope=col>Parameter</th><th scope=col>Coefficient</th><th scope=col>SE</th><th scope=col>CI</th><th scope=col>CI_low</th><th scope=col>CI_high</th><th scope=col>t</th><th scope=col>df_error</th><th scope=col>p</th></tr>\n",
       "\t<tr><th scope=col>&lt;chr&gt;</th><th scope=col>&lt;dbl&gt;</th><th scope=col>&lt;dbl&gt;</th><th scope=col>&lt;dbl&gt;</th><th scope=col>&lt;dbl&gt;</th><th scope=col>&lt;dbl&gt;</th><th scope=col>&lt;dbl&gt;</th><th scope=col>&lt;int&gt;</th><th scope=col>&lt;dbl&gt;</th></tr>\n",
       "</thead>\n",
       "<tbody>\n",
       "\t<tr><td>(Intercept)</td><td>141.6961062</td><td>125.6707210</td><td>0.95</td><td>-116.6237604</td><td>400.015973</td><td> 1.127519</td><td>26</td><td>2.698214e-01</td></tr>\n",
       "\t<tr><td>cyl        </td><td> 13.1396195</td><td>  7.9019131</td><td>0.95</td><td>  -3.1029955</td><td> 29.382235</td><td> 1.662840</td><td>26</td><td>1.083547e-01</td></tr>\n",
       "\t<tr><td>hp         </td><td>  0.6255311</td><td>  0.1966424</td><td>0.95</td><td>   0.2213267</td><td>  1.029735</td><td> 3.181058</td><td>26</td><td>3.775778e-03</td></tr>\n",
       "\t<tr><td>wt         </td><td> 80.4507609</td><td> 12.2194291</td><td>0.95</td><td>  55.3333647</td><td>105.568157</td><td> 6.583840</td><td>26</td><td>5.555575e-07</td></tr>\n",
       "\t<tr><td>qsec       </td><td>-14.6783619</td><td>  6.1429430</td><td>0.95</td><td> -27.3053622</td><td> -2.051362</td><td>-2.389467</td><td>26</td><td>2.441497e-02</td></tr>\n",
       "\t<tr><td>carb       </td><td>-28.7548486</td><td>  5.6047310</td><td>0.95</td><td> -40.2755383</td><td>-17.234159</td><td>-5.130460</td><td>26</td><td>2.382469e-05</td></tr>\n",
       "</tbody>\n",
       "</table>\n"
      ],
      "text/latex": [
       "A parameters\\_model: 6 x 9\n",
       "\\begin{tabular}{lllllllll}\n",
       " Parameter & Coefficient & SE & CI & CI\\_low & CI\\_high & t & df\\_error & p\\\\\n",
       " <chr> & <dbl> & <dbl> & <dbl> & <dbl> & <dbl> & <dbl> & <int> & <dbl>\\\\\n",
       "\\hline\n",
       "\t (Intercept) & 141.6961062 & 125.6707210 & 0.95 & -116.6237604 & 400.015973 &  1.127519 & 26 & 2.698214e-01\\\\\n",
       "\t cyl         &  13.1396195 &   7.9019131 & 0.95 &   -3.1029955 &  29.382235 &  1.662840 & 26 & 1.083547e-01\\\\\n",
       "\t hp          &   0.6255311 &   0.1966424 & 0.95 &    0.2213267 &   1.029735 &  3.181058 & 26 & 3.775778e-03\\\\\n",
       "\t wt          &  80.4507609 &  12.2194291 & 0.95 &   55.3333647 & 105.568157 &  6.583840 & 26 & 5.555575e-07\\\\\n",
       "\t qsec        & -14.6783619 &   6.1429430 & 0.95 &  -27.3053622 &  -2.051362 & -2.389467 & 26 & 2.441497e-02\\\\\n",
       "\t carb        & -28.7548486 &   5.6047310 & 0.95 &  -40.2755383 & -17.234159 & -5.130460 & 26 & 2.382469e-05\\\\\n",
       "\\end{tabular}\n"
      ],
      "text/markdown": [
       "\n",
       "A parameters_model: 6 x 9\n",
       "\n",
       "| Parameter &lt;chr&gt; | Coefficient &lt;dbl&gt; | SE &lt;dbl&gt; | CI &lt;dbl&gt; | CI_low &lt;dbl&gt; | CI_high &lt;dbl&gt; | t &lt;dbl&gt; | df_error &lt;int&gt; | p &lt;dbl&gt; |\n",
       "|---|---|---|---|---|---|---|---|---|\n",
       "| (Intercept) | 141.6961062 | 125.6707210 | 0.95 | -116.6237604 | 400.015973 |  1.127519 | 26 | 2.698214e-01 |\n",
       "| cyl         |  13.1396195 |   7.9019131 | 0.95 |   -3.1029955 |  29.382235 |  1.662840 | 26 | 1.083547e-01 |\n",
       "| hp          |   0.6255311 |   0.1966424 | 0.95 |    0.2213267 |   1.029735 |  3.181058 | 26 | 3.775778e-03 |\n",
       "| wt          |  80.4507609 |  12.2194291 | 0.95 |   55.3333647 | 105.568157 |  6.583840 | 26 | 5.555575e-07 |\n",
       "| qsec        | -14.6783619 |   6.1429430 | 0.95 |  -27.3053622 |  -2.051362 | -2.389467 | 26 | 2.441497e-02 |\n",
       "| carb        | -28.7548486 |   5.6047310 | 0.95 |  -40.2755383 | -17.234159 | -5.130460 | 26 | 2.382469e-05 |\n",
       "\n"
      ],
      "text/plain": [
       "  Parameter   Coefficient SE          CI   CI_low       CI_high    t        \n",
       "1 (Intercept) 141.6961062 125.6707210 0.95 -116.6237604 400.015973  1.127519\n",
       "2 cyl          13.1396195   7.9019131 0.95   -3.1029955  29.382235  1.662840\n",
       "3 hp            0.6255311   0.1966424 0.95    0.2213267   1.029735  3.181058\n",
       "4 wt           80.4507609  12.2194291 0.95   55.3333647 105.568157  6.583840\n",
       "5 qsec        -14.6783619   6.1429430 0.95  -27.3053622  -2.051362 -2.389467\n",
       "6 carb        -28.7548486   5.6047310 0.95  -40.2755383 -17.234159 -5.130460\n",
       "  df_error p           \n",
       "1 26       2.698214e-01\n",
       "2 26       1.083547e-01\n",
       "3 26       3.775778e-03\n",
       "4 26       5.555575e-07\n",
       "5 26       2.441497e-02\n",
       "6 26       2.382469e-05"
      ]
     },
     "metadata": {},
     "output_type": "display_data"
    }
   ],
   "source": [
    "lm(disp ~ ., data = mtcars) |>\n",
    "  select_parameters() |>\n",
    "  model_parameters()"
   ]
  },
  {
   "cell_type": "code",
   "execution_count": 15,
   "id": "a050afc0",
   "metadata": {
    "vscode": {
     "languageId": "r"
    }
   },
   "outputs": [
    {
     "name": "stderr",
     "output_type": "stream",
     "text": [
      "Loading required package: Rcpp\n",
      "\n",
      "Loading 'brms' package (version 2.22.0). Useful instructions\n",
      "can be found by typing help('brms'). A more detailed introduction\n",
      "to the package is available through vignette('brms_overview').\n",
      "\n",
      "\n",
      "Attaching package: 'brms'\n",
      "\n",
      "\n",
      "The following object is masked from 'package:lme4':\n",
      "\n",
      "    ngrps\n",
      "\n",
      "\n",
      "The following object is masked from 'package:stats':\n",
      "\n",
      "    ar\n",
      "\n",
      "\n",
      "Compiling Stan program...\n",
      "\n",
      "Start sampling\n",
      "\n"
     ]
    },
    {
     "name": "stdout",
     "output_type": "stream",
     "text": [
      "\n",
      "SAMPLING FOR MODEL 'anon_model' NOW (CHAIN 1).\n",
      "Chain 1: \n",
      "Chain 1: Gradient evaluation took 2.7e-05 seconds\n",
      "Chain 1: 1000 transitions using 10 leapfrog steps per transition would take 0.27 seconds.\n",
      "Chain 1: Adjust your expectations accordingly!\n",
      "Chain 1: \n",
      "Chain 1: \n",
      "Chain 1: Iteration:    1 / 2000 [  0%]  (Warmup)\n",
      "Chain 1: Iteration:  200 / 2000 [ 10%]  (Warmup)\n",
      "Chain 1: Iteration:  400 / 2000 [ 20%]  (Warmup)\n",
      "Chain 1: Iteration:  600 / 2000 [ 30%]  (Warmup)\n",
      "Chain 1: Iteration:  800 / 2000 [ 40%]  (Warmup)\n",
      "Chain 1: Iteration: 1000 / 2000 [ 50%]  (Warmup)\n",
      "Chain 1: Iteration: 1001 / 2000 [ 50%]  (Sampling)\n",
      "Chain 1: Iteration: 1200 / 2000 [ 60%]  (Sampling)\n",
      "Chain 1: Iteration: 1400 / 2000 [ 70%]  (Sampling)\n",
      "Chain 1: Iteration: 1600 / 2000 [ 80%]  (Sampling)\n",
      "Chain 1: Iteration: 1800 / 2000 [ 90%]  (Sampling)\n",
      "Chain 1: Iteration: 2000 / 2000 [100%]  (Sampling)\n",
      "Chain 1: \n",
      "Chain 1:  Elapsed Time: 0.097 seconds (Warm-up)\n",
      "Chain 1:                0.023 seconds (Sampling)\n",
      "Chain 1:                0.12 seconds (Total)\n",
      "Chain 1: \n",
      "\n",
      "SAMPLING FOR MODEL 'anon_model' NOW (CHAIN 2).\n",
      "Chain 2: \n",
      "Chain 2: Gradient evaluation took 1.1e-05 seconds\n",
      "Chain 2: 1000 transitions using 10 leapfrog steps per transition would take 0.11 seconds.\n",
      "Chain 2: Adjust your expectations accordingly!\n",
      "Chain 2: \n",
      "Chain 2: \n",
      "Chain 2: Iteration:    1 / 2000 [  0%]  (Warmup)\n",
      "Chain 2: Iteration:  200 / 2000 [ 10%]  (Warmup)\n",
      "Chain 2: Iteration:  400 / 2000 [ 20%]  (Warmup)\n",
      "Chain 2: Iteration:  600 / 2000 [ 30%]  (Warmup)\n",
      "Chain 2: Iteration:  800 / 2000 [ 40%]  (Warmup)\n",
      "Chain 2: Iteration: 1000 / 2000 [ 50%]  (Warmup)\n",
      "Chain 2: Iteration: 1001 / 2000 [ 50%]  (Sampling)\n",
      "Chain 2: Iteration: 1200 / 2000 [ 60%]  (Sampling)\n",
      "Chain 2: Iteration: 1400 / 2000 [ 70%]  (Sampling)\n",
      "Chain 2: Iteration: 1600 / 2000 [ 80%]  (Sampling)\n",
      "Chain 2: Iteration: 1800 / 2000 [ 90%]  (Sampling)\n",
      "Chain 2: Iteration: 2000 / 2000 [100%]  (Sampling)\n",
      "Chain 2: \n",
      "Chain 2:  Elapsed Time: 0.05 seconds (Warm-up)\n",
      "Chain 2:                0.024 seconds (Sampling)\n",
      "Chain 2:                0.074 seconds (Total)\n",
      "Chain 2: \n",
      "\n",
      "SAMPLING FOR MODEL 'anon_model' NOW (CHAIN 3).\n",
      "Chain 3: \n",
      "Chain 3: Gradient evaluation took 2e-06 seconds\n",
      "Chain 3: 1000 transitions using 10 leapfrog steps per transition would take 0.02 seconds.\n",
      "Chain 3: Adjust your expectations accordingly!\n",
      "Chain 3: \n",
      "Chain 3: \n",
      "Chain 3: Iteration:    1 / 2000 [  0%]  (Warmup)\n",
      "Chain 3: Iteration:  200 / 2000 [ 10%]  (Warmup)\n",
      "Chain 3: Iteration:  400 / 2000 [ 20%]  (Warmup)\n",
      "Chain 3: Iteration:  600 / 2000 [ 30%]  (Warmup)\n",
      "Chain 3: Iteration:  800 / 2000 [ 40%]  (Warmup)\n",
      "Chain 3: Iteration: 1000 / 2000 [ 50%]  (Warmup)\n",
      "Chain 3: Iteration: 1001 / 2000 [ 50%]  (Sampling)\n",
      "Chain 3: Iteration: 1200 / 2000 [ 60%]  (Sampling)\n",
      "Chain 3: Iteration: 1400 / 2000 [ 70%]  (Sampling)\n",
      "Chain 3: Iteration: 1600 / 2000 [ 80%]  (Sampling)\n",
      "Chain 3: Iteration: 1800 / 2000 [ 90%]  (Sampling)\n",
      "Chain 3: Iteration: 2000 / 2000 [100%]  (Sampling)\n",
      "Chain 3: \n",
      "Chain 3:  Elapsed Time: 0.051 seconds (Warm-up)\n",
      "Chain 3:                0.02 seconds (Sampling)\n",
      "Chain 3:                0.071 seconds (Total)\n",
      "Chain 3: \n",
      "\n",
      "SAMPLING FOR MODEL 'anon_model' NOW (CHAIN 4).\n",
      "Chain 4: \n",
      "Chain 4: Gradient evaluation took 1e-06 seconds\n",
      "Chain 4: 1000 transitions using 10 leapfrog steps per transition would take 0.01 seconds.\n",
      "Chain 4: Adjust your expectations accordingly!\n",
      "Chain 4: \n",
      "Chain 4: \n",
      "Chain 4: Iteration:    1 / 2000 [  0%]  (Warmup)\n",
      "Chain 4: Iteration:  200 / 2000 [ 10%]  (Warmup)\n",
      "Chain 4: Iteration:  400 / 2000 [ 20%]  (Warmup)\n",
      "Chain 4: Iteration:  600 / 2000 [ 30%]  (Warmup)\n",
      "Chain 4: Iteration:  800 / 2000 [ 40%]  (Warmup)\n",
      "Chain 4: Iteration: 1000 / 2000 [ 50%]  (Warmup)\n",
      "Chain 4: Iteration: 1001 / 2000 [ 50%]  (Sampling)\n",
      "Chain 4: Iteration: 1200 / 2000 [ 60%]  (Sampling)\n",
      "Chain 4: Iteration: 1400 / 2000 [ 70%]  (Sampling)\n",
      "Chain 4: Iteration: 1600 / 2000 [ 80%]  (Sampling)\n",
      "Chain 4: Iteration: 1800 / 2000 [ 90%]  (Sampling)\n",
      "Chain 4: Iteration: 2000 / 2000 [100%]  (Sampling)\n",
      "Chain 4: \n",
      "Chain 4:  Elapsed Time: 0.054 seconds (Warm-up)\n",
      "Chain 4:                0.019 seconds (Sampling)\n",
      "Chain 4:                0.073 seconds (Total)\n",
      "Chain 4: \n"
     ]
    },
    {
     "data": {
      "text/html": [
       "<table class=\"dataframe\">\n",
       "<caption>A equivalence_test_lm: 5 x 9</caption>\n",
       "<thead>\n",
       "\t<tr><th></th><th scope=col>Parameter</th><th scope=col>CI</th><th scope=col>CI_low</th><th scope=col>CI_high</th><th scope=col>SGPV</th><th scope=col>ROPE_low</th><th scope=col>ROPE_high</th><th scope=col>ROPE_Equivalence</th><th scope=col>p</th></tr>\n",
       "\t<tr><th></th><th scope=col>&lt;chr&gt;</th><th scope=col>&lt;dbl&gt;</th><th scope=col>&lt;dbl&gt;</th><th scope=col>&lt;dbl&gt;</th><th scope=col>&lt;dbl&gt;</th><th scope=col>&lt;dbl&gt;</th><th scope=col>&lt;dbl&gt;</th><th scope=col>&lt;chr&gt;</th><th scope=col>&lt;dbl&gt;</th></tr>\n",
       "</thead>\n",
       "<tbody>\n",
       "\t<tr><th scope=row>V1</th><td>(Intercept)</td><td>0.9</td><td>26.52047026</td><td>46.858589171</td><td>0.0000</td><td>-0.6026948</td><td>0.6026948</td><td>Rejected </td><td>9.999996e-01</td></tr>\n",
       "\t<tr><th scope=row>V2</th><td>gear       </td><td>0.9</td><td>-1.34070649</td><td> 2.065886583</td><td>0.4755</td><td>-0.6026948</td><td>0.6026948</td><td>Undecided</td><td>5.775175e-01</td></tr>\n",
       "\t<tr><th scope=row>V3</th><td>wt         </td><td>0.9</td><td>-4.47240819</td><td>-1.572860951</td><td>0.0005</td><td>-0.6026948</td><td>0.6026948</td><td>Rejected </td><td>9.959062e-01</td></tr>\n",
       "\t<tr><th scope=row>V4</th><td>cyl        </td><td>0.9</td><td>-1.94222201</td><td> 0.317024102</td><td>0.3509</td><td>-0.6026948</td><td>0.6026948</td><td>Undecided</td><td>6.440091e-01</td></tr>\n",
       "\t<tr><th scope=row>V5</th><td>hp         </td><td>0.9</td><td>-0.04850791</td><td> 0.005103692</td><td>1.0000</td><td>-0.6026948</td><td>0.6026948</td><td>Accepted </td><td>6.890597e-25</td></tr>\n",
       "</tbody>\n",
       "</table>\n"
      ],
      "text/latex": [
       "A equivalence\\_test\\_lm: 5 x 9\n",
       "\\begin{tabular}{r|lllllllll}\n",
       "  & Parameter & CI & CI\\_low & CI\\_high & SGPV & ROPE\\_low & ROPE\\_high & ROPE\\_Equivalence & p\\\\\n",
       "  & <chr> & <dbl> & <dbl> & <dbl> & <dbl> & <dbl> & <dbl> & <chr> & <dbl>\\\\\n",
       "\\hline\n",
       "\tV1 & (Intercept) & 0.9 & 26.52047026 & 46.858589171 & 0.0000 & -0.6026948 & 0.6026948 & Rejected  & 9.999996e-01\\\\\n",
       "\tV2 & gear        & 0.9 & -1.34070649 &  2.065886583 & 0.4755 & -0.6026948 & 0.6026948 & Undecided & 5.775175e-01\\\\\n",
       "\tV3 & wt          & 0.9 & -4.47240819 & -1.572860951 & 0.0005 & -0.6026948 & 0.6026948 & Rejected  & 9.959062e-01\\\\\n",
       "\tV4 & cyl         & 0.9 & -1.94222201 &  0.317024102 & 0.3509 & -0.6026948 & 0.6026948 & Undecided & 6.440091e-01\\\\\n",
       "\tV5 & hp          & 0.9 & -0.04850791 &  0.005103692 & 1.0000 & -0.6026948 & 0.6026948 & Accepted  & 6.890597e-25\\\\\n",
       "\\end{tabular}\n"
      ],
      "text/markdown": [
       "\n",
       "A equivalence_test_lm: 5 x 9\n",
       "\n",
       "| <!--/--> | Parameter &lt;chr&gt; | CI &lt;dbl&gt; | CI_low &lt;dbl&gt; | CI_high &lt;dbl&gt; | SGPV &lt;dbl&gt; | ROPE_low &lt;dbl&gt; | ROPE_high &lt;dbl&gt; | ROPE_Equivalence &lt;chr&gt; | p &lt;dbl&gt; |\n",
       "|---|---|---|---|---|---|---|---|---|---|\n",
       "| V1 | (Intercept) | 0.9 | 26.52047026 | 46.858589171 | 0.0000 | -0.6026948 | 0.6026948 | Rejected  | 9.999996e-01 |\n",
       "| V2 | gear        | 0.9 | -1.34070649 |  2.065886583 | 0.4755 | -0.6026948 | 0.6026948 | Undecided | 5.775175e-01 |\n",
       "| V3 | wt          | 0.9 | -4.47240819 | -1.572860951 | 0.0005 | -0.6026948 | 0.6026948 | Rejected  | 9.959062e-01 |\n",
       "| V4 | cyl         | 0.9 | -1.94222201 |  0.317024102 | 0.3509 | -0.6026948 | 0.6026948 | Undecided | 6.440091e-01 |\n",
       "| V5 | hp          | 0.9 | -0.04850791 |  0.005103692 | 1.0000 | -0.6026948 | 0.6026948 | Accepted  | 6.890597e-25 |\n",
       "\n"
      ],
      "text/plain": [
       "   Parameter   CI  CI_low      CI_high      SGPV   ROPE_low   ROPE_high\n",
       "V1 (Intercept) 0.9 26.52047026 46.858589171 0.0000 -0.6026948 0.6026948\n",
       "V2 gear        0.9 -1.34070649  2.065886583 0.4755 -0.6026948 0.6026948\n",
       "V3 wt          0.9 -4.47240819 -1.572860951 0.0005 -0.6026948 0.6026948\n",
       "V4 cyl         0.9 -1.94222201  0.317024102 0.3509 -0.6026948 0.6026948\n",
       "V5 hp          0.9 -0.04850791  0.005103692 1.0000 -0.6026948 0.6026948\n",
       "   ROPE_Equivalence p           \n",
       "V1 Rejected         9.999996e-01\n",
       "V2 Undecided        5.775175e-01\n",
       "V3 Rejected         9.959062e-01\n",
       "V4 Undecided        6.440091e-01\n",
       "V5 Accepted         6.890597e-25"
      ]
     },
     "metadata": {},
     "output_type": "display_data"
    },
    {
     "name": "stderr",
     "output_type": "stream",
     "text": [
      "Possible multicollinearity between b_hp and b_cyl (r = 0.77). This might\n",
      "  lead to inappropriate results. See 'Details' in '?equivalence_test'.\n",
      "\n"
     ]
    },
    {
     "data": {
      "text/html": [
       "<table class=\"dataframe\">\n",
       "<caption>A equivalence_test: 5 x 10</caption>\n",
       "<thead>\n",
       "\t<tr><th></th><th scope=col>Parameter</th><th scope=col>CI</th><th scope=col>ROPE_low</th><th scope=col>ROPE_high</th><th scope=col>ROPE_Percentage</th><th scope=col>ROPE_Equivalence</th><th scope=col>HDI_low</th><th scope=col>HDI_high</th><th scope=col>Effects</th><th scope=col>Component</th></tr>\n",
       "\t<tr><th></th><th scope=col>&lt;chr&gt;</th><th scope=col>&lt;dbl&gt;</th><th scope=col>&lt;dbl&gt;</th><th scope=col>&lt;dbl&gt;</th><th scope=col>&lt;dbl&gt;</th><th scope=col>&lt;chr&gt;</th><th scope=col>&lt;dbl&gt;</th><th scope=col>&lt;dbl&gt;</th><th scope=col>&lt;chr&gt;</th><th scope=col>&lt;chr&gt;</th></tr>\n",
       "</thead>\n",
       "<tbody>\n",
       "\t<tr><th scope=row>1</th><td>b_Intercept</td><td>0.95</td><td>-0.6026948</td><td>0.6026948</td><td>0.0000000</td><td>Rejected </td><td>24.51468910</td><td>49.16241898</td><td>fixed</td><td>conditional</td></tr>\n",
       "\t<tr><th scope=row>3</th><td>b_gear     </td><td>0.95</td><td>-0.6026948</td><td>0.6026948</td><td>0.4623684</td><td>Undecided</td><td>-1.75239812</td><td> 2.41078168</td><td>fixed</td><td>conditional</td></tr>\n",
       "\t<tr><th scope=row>5</th><td>b_wt       </td><td>0.95</td><td>-0.6026948</td><td>0.6026948</td><td>0.0000000</td><td>Rejected </td><td>-4.81377922</td><td>-1.28288538</td><td>fixed</td><td>conditional</td></tr>\n",
       "\t<tr><th scope=row>2</th><td>b_cyl      </td><td>0.95</td><td>-0.6026948</td><td>0.6026948</td><td>0.3647368</td><td>Undecided</td><td>-2.15980212</td><td> 0.49707427</td><td>fixed</td><td>conditional</td></tr>\n",
       "\t<tr><th scope=row>4</th><td>b_hp       </td><td>0.95</td><td>-0.6026948</td><td>0.6026948</td><td>1.0000000</td><td>Accepted </td><td>-0.05394185</td><td> 0.01221287</td><td>fixed</td><td>conditional</td></tr>\n",
       "</tbody>\n",
       "</table>\n"
      ],
      "text/latex": [
       "A equivalence\\_test: 5 x 10\n",
       "\\begin{tabular}{r|llllllllll}\n",
       "  & Parameter & CI & ROPE\\_low & ROPE\\_high & ROPE\\_Percentage & ROPE\\_Equivalence & HDI\\_low & HDI\\_high & Effects & Component\\\\\n",
       "  & <chr> & <dbl> & <dbl> & <dbl> & <dbl> & <chr> & <dbl> & <dbl> & <chr> & <chr>\\\\\n",
       "\\hline\n",
       "\t1 & b\\_Intercept & 0.95 & -0.6026948 & 0.6026948 & 0.0000000 & Rejected  & 24.51468910 & 49.16241898 & fixed & conditional\\\\\n",
       "\t3 & b\\_gear      & 0.95 & -0.6026948 & 0.6026948 & 0.4623684 & Undecided & -1.75239812 &  2.41078168 & fixed & conditional\\\\\n",
       "\t5 & b\\_wt        & 0.95 & -0.6026948 & 0.6026948 & 0.0000000 & Rejected  & -4.81377922 & -1.28288538 & fixed & conditional\\\\\n",
       "\t2 & b\\_cyl       & 0.95 & -0.6026948 & 0.6026948 & 0.3647368 & Undecided & -2.15980212 &  0.49707427 & fixed & conditional\\\\\n",
       "\t4 & b\\_hp        & 0.95 & -0.6026948 & 0.6026948 & 1.0000000 & Accepted  & -0.05394185 &  0.01221287 & fixed & conditional\\\\\n",
       "\\end{tabular}\n"
      ],
      "text/markdown": [
       "\n",
       "A equivalence_test: 5 x 10\n",
       "\n",
       "| <!--/--> | Parameter &lt;chr&gt; | CI &lt;dbl&gt; | ROPE_low &lt;dbl&gt; | ROPE_high &lt;dbl&gt; | ROPE_Percentage &lt;dbl&gt; | ROPE_Equivalence &lt;chr&gt; | HDI_low &lt;dbl&gt; | HDI_high &lt;dbl&gt; | Effects &lt;chr&gt; | Component &lt;chr&gt; |\n",
       "|---|---|---|---|---|---|---|---|---|---|---|\n",
       "| 1 | b_Intercept | 0.95 | -0.6026948 | 0.6026948 | 0.0000000 | Rejected  | 24.51468910 | 49.16241898 | fixed | conditional |\n",
       "| 3 | b_gear      | 0.95 | -0.6026948 | 0.6026948 | 0.4623684 | Undecided | -1.75239812 |  2.41078168 | fixed | conditional |\n",
       "| 5 | b_wt        | 0.95 | -0.6026948 | 0.6026948 | 0.0000000 | Rejected  | -4.81377922 | -1.28288538 | fixed | conditional |\n",
       "| 2 | b_cyl       | 0.95 | -0.6026948 | 0.6026948 | 0.3647368 | Undecided | -2.15980212 |  0.49707427 | fixed | conditional |\n",
       "| 4 | b_hp        | 0.95 | -0.6026948 | 0.6026948 | 1.0000000 | Accepted  | -0.05394185 |  0.01221287 | fixed | conditional |\n",
       "\n"
      ],
      "text/plain": [
       "  Parameter   CI   ROPE_low   ROPE_high ROPE_Percentage ROPE_Equivalence\n",
       "1 b_Intercept 0.95 -0.6026948 0.6026948 0.0000000       Rejected        \n",
       "3 b_gear      0.95 -0.6026948 0.6026948 0.4623684       Undecided       \n",
       "5 b_wt        0.95 -0.6026948 0.6026948 0.0000000       Rejected        \n",
       "2 b_cyl       0.95 -0.6026948 0.6026948 0.3647368       Undecided       \n",
       "4 b_hp        0.95 -0.6026948 0.6026948 1.0000000       Accepted        \n",
       "  HDI_low     HDI_high    Effects Component  \n",
       "1 24.51468910 49.16241898 fixed   conditional\n",
       "3 -1.75239812  2.41078168 fixed   conditional\n",
       "5 -4.81377922 -1.28288538 fixed   conditional\n",
       "2 -2.15980212  0.49707427 fixed   conditional\n",
       "4 -0.05394185  0.01221287 fixed   conditional"
      ]
     },
     "metadata": {},
     "output_type": "display_data"
    },
    {
     "data": {
      "text/html": [
       "<table class=\"dataframe\">\n",
       "<caption>A equivalence_test: 5 x 8</caption>\n",
       "<thead>\n",
       "\t<tr><th scope=col>Parameter</th><th scope=col>CI</th><th scope=col>ROPE_low</th><th scope=col>ROPE_high</th><th scope=col>ROPE_Percentage</th><th scope=col>ROPE_Equivalence</th><th scope=col>HDI_low</th><th scope=col>HDI_high</th></tr>\n",
       "\t<tr><th scope=col>&lt;chr&gt;</th><th scope=col>&lt;dbl&gt;</th><th scope=col>&lt;dbl&gt;</th><th scope=col>&lt;dbl&gt;</th><th scope=col>&lt;dbl&gt;</th><th scope=col>&lt;chr&gt;</th><th scope=col>&lt;dbl&gt;</th><th scope=col>&lt;dbl&gt;</th></tr>\n",
       "</thead>\n",
       "<tbody>\n",
       "\t<tr><td>(Intercept)</td><td>0.95</td><td>-0.6026948</td><td>0.6026948</td><td>0.0000000</td><td>Rejected </td><td>25.19846371</td><td>48.22585501</td></tr>\n",
       "\t<tr><td>gear       </td><td>0.95</td><td>-0.6026948</td><td>0.6026948</td><td>0.4621053</td><td>Undecided</td><td>-1.54954270</td><td> 2.32293731</td></tr>\n",
       "\t<tr><td>wt         </td><td>0.95</td><td>-0.6026948</td><td>0.6026948</td><td>0.0000000</td><td>Rejected </td><td>-4.74883327</td><td>-1.25551004</td></tr>\n",
       "\t<tr><td>cyl        </td><td>0.95</td><td>-0.6026948</td><td>0.6026948</td><td>0.3800000</td><td>Undecided</td><td>-2.11656349</td><td> 0.44587956</td></tr>\n",
       "\t<tr><td>hp         </td><td>0.95</td><td>-0.6026948</td><td>0.6026948</td><td>1.0000000</td><td>Accepted </td><td>-0.05299298</td><td> 0.01092744</td></tr>\n",
       "</tbody>\n",
       "</table>\n"
      ],
      "text/latex": [
       "A equivalence\\_test: 5 x 8\n",
       "\\begin{tabular}{llllllll}\n",
       " Parameter & CI & ROPE\\_low & ROPE\\_high & ROPE\\_Percentage & ROPE\\_Equivalence & HDI\\_low & HDI\\_high\\\\\n",
       " <chr> & <dbl> & <dbl> & <dbl> & <dbl> & <chr> & <dbl> & <dbl>\\\\\n",
       "\\hline\n",
       "\t (Intercept) & 0.95 & -0.6026948 & 0.6026948 & 0.0000000 & Rejected  & 25.19846371 & 48.22585501\\\\\n",
       "\t gear        & 0.95 & -0.6026948 & 0.6026948 & 0.4621053 & Undecided & -1.54954270 &  2.32293731\\\\\n",
       "\t wt          & 0.95 & -0.6026948 & 0.6026948 & 0.0000000 & Rejected  & -4.74883327 & -1.25551004\\\\\n",
       "\t cyl         & 0.95 & -0.6026948 & 0.6026948 & 0.3800000 & Undecided & -2.11656349 &  0.44587956\\\\\n",
       "\t hp          & 0.95 & -0.6026948 & 0.6026948 & 1.0000000 & Accepted  & -0.05299298 &  0.01092744\\\\\n",
       "\\end{tabular}\n"
      ],
      "text/markdown": [
       "\n",
       "A equivalence_test: 5 x 8\n",
       "\n",
       "| Parameter &lt;chr&gt; | CI &lt;dbl&gt; | ROPE_low &lt;dbl&gt; | ROPE_high &lt;dbl&gt; | ROPE_Percentage &lt;dbl&gt; | ROPE_Equivalence &lt;chr&gt; | HDI_low &lt;dbl&gt; | HDI_high &lt;dbl&gt; |\n",
       "|---|---|---|---|---|---|---|---|\n",
       "| (Intercept) | 0.95 | -0.6026948 | 0.6026948 | 0.0000000 | Rejected  | 25.19846371 | 48.22585501 |\n",
       "| gear        | 0.95 | -0.6026948 | 0.6026948 | 0.4621053 | Undecided | -1.54954270 |  2.32293731 |\n",
       "| wt          | 0.95 | -0.6026948 | 0.6026948 | 0.0000000 | Rejected  | -4.74883327 | -1.25551004 |\n",
       "| cyl         | 0.95 | -0.6026948 | 0.6026948 | 0.3800000 | Undecided | -2.11656349 |  0.44587956 |\n",
       "| hp          | 0.95 | -0.6026948 | 0.6026948 | 1.0000000 | Accepted  | -0.05299298 |  0.01092744 |\n",
       "\n"
      ],
      "text/plain": [
       "  Parameter   CI   ROPE_low   ROPE_high ROPE_Percentage ROPE_Equivalence\n",
       "1 (Intercept) 0.95 -0.6026948 0.6026948 0.0000000       Rejected        \n",
       "2 gear        0.95 -0.6026948 0.6026948 0.4621053       Undecided       \n",
       "3 wt          0.95 -0.6026948 0.6026948 0.0000000       Rejected        \n",
       "4 cyl         0.95 -0.6026948 0.6026948 0.3800000       Undecided       \n",
       "5 hp          0.95 -0.6026948 0.6026948 1.0000000       Accepted        \n",
       "  HDI_low     HDI_high   \n",
       "1 25.19846371 48.22585501\n",
       "2 -1.54954270  2.32293731\n",
       "3 -4.74883327 -1.25551004\n",
       "4 -2.11656349  0.44587956\n",
       "5 -0.05299298  0.01092744"
      ]
     },
     "metadata": {},
     "output_type": "display_data"
    }
   ],
   "source": [
    "library(bayestestR)\n",
    "library(brms)\n",
    "m <- lm(mpg ~ gear + wt + cyl + hp, data = mtcars)\n",
    "m2 <- brm(mpg ~ gear + wt + cyl + hp, data = mtcars)\n",
    "# SGPV for frequentist models\n",
    "equivalence_test(m)\n",
    "# similar to ROPE coverage of Bayesian models\n",
    "equivalence_test(m2)\n",
    "# similar to ROPE coverage of simulated draws / bootstrap samples\n",
    "equivalence_test(simulate_model(m))"
   ]
  },
  {
   "cell_type": "code",
   "execution_count": 16,
   "id": "17f0f97c",
   "metadata": {
    "vscode": {
     "languageId": "r"
    }
   },
   "outputs": [
    {
     "data": {
      "text/html": [
       "<table class=\"dataframe\">\n",
       "<caption>A parameters_model: 4 x 9</caption>\n",
       "<thead>\n",
       "\t<tr><th scope=col>Parameter</th><th scope=col>Coefficient</th><th scope=col>SE</th><th scope=col>CI</th><th scope=col>CI_low</th><th scope=col>CI_high</th><th scope=col>z</th><th scope=col>df_error</th><th scope=col>p</th></tr>\n",
       "\t<tr><th scope=col>&lt;chr&gt;</th><th scope=col>&lt;dbl&gt;</th><th scope=col>&lt;dbl&gt;</th><th scope=col>&lt;dbl&gt;</th><th scope=col>&lt;dbl&gt;</th><th scope=col>&lt;dbl&gt;</th><th scope=col>&lt;dbl&gt;</th><th scope=col>&lt;dbl&gt;</th><th scope=col>&lt;dbl&gt;</th></tr>\n",
       "</thead>\n",
       "<tbody>\n",
       "\t<tr><td>(Intercept)  </td><td>13.511797</td><td>7.197332</td><td>0.95</td><td>  2.561417</td><td>33.4184190</td><td> 1.8773343</td><td>Inf</td><td>0.06047229</td></tr>\n",
       "\t<tr><td>poly(mpg, 2)1</td><td>-6.636093</td><td>8.994953</td><td>0.95</td><td>-27.805776</td><td>11.1340025</td><td>-0.7377574</td><td>Inf</td><td>0.46066189</td></tr>\n",
       "\t<tr><td>poly(mpg, 2)2</td><td> 1.163386</td><td>3.589663</td><td>0.95</td><td> -7.908919</td><td> 8.5587584</td><td> 0.3240934</td><td>Inf</td><td>0.74586729</td></tr>\n",
       "\t<tr><td>cyl          </td><td>-2.275960</td><td>1.184708</td><td>0.95</td><td> -5.576322</td><td>-0.5141517</td><td>-1.9211143</td><td>Inf</td><td>0.05471730</td></tr>\n",
       "</tbody>\n",
       "</table>\n"
      ],
      "text/latex": [
       "A parameters\\_model: 4 x 9\n",
       "\\begin{tabular}{lllllllll}\n",
       " Parameter & Coefficient & SE & CI & CI\\_low & CI\\_high & z & df\\_error & p\\\\\n",
       " <chr> & <dbl> & <dbl> & <dbl> & <dbl> & <dbl> & <dbl> & <dbl> & <dbl>\\\\\n",
       "\\hline\n",
       "\t (Intercept)   & 13.511797 & 7.197332 & 0.95 &   2.561417 & 33.4184190 &  1.8773343 & Inf & 0.06047229\\\\\n",
       "\t poly(mpg, 2)1 & -6.636093 & 8.994953 & 0.95 & -27.805776 & 11.1340025 & -0.7377574 & Inf & 0.46066189\\\\\n",
       "\t poly(mpg, 2)2 &  1.163386 & 3.589663 & 0.95 &  -7.908919 &  8.5587584 &  0.3240934 & Inf & 0.74586729\\\\\n",
       "\t cyl           & -2.275960 & 1.184708 & 0.95 &  -5.576322 & -0.5141517 & -1.9211143 & Inf & 0.05471730\\\\\n",
       "\\end{tabular}\n"
      ],
      "text/markdown": [
       "\n",
       "A parameters_model: 4 x 9\n",
       "\n",
       "| Parameter &lt;chr&gt; | Coefficient &lt;dbl&gt; | SE &lt;dbl&gt; | CI &lt;dbl&gt; | CI_low &lt;dbl&gt; | CI_high &lt;dbl&gt; | z &lt;dbl&gt; | df_error &lt;dbl&gt; | p &lt;dbl&gt; |\n",
       "|---|---|---|---|---|---|---|---|---|\n",
       "| (Intercept)   | 13.511797 | 7.197332 | 0.95 |   2.561417 | 33.4184190 |  1.8773343 | Inf | 0.06047229 |\n",
       "| poly(mpg, 2)1 | -6.636093 | 8.994953 | 0.95 | -27.805776 | 11.1340025 | -0.7377574 | Inf | 0.46066189 |\n",
       "| poly(mpg, 2)2 |  1.163386 | 3.589663 | 0.95 |  -7.908919 |  8.5587584 |  0.3240934 | Inf | 0.74586729 |\n",
       "| cyl           | -2.275960 | 1.184708 | 0.95 |  -5.576322 | -0.5141517 | -1.9211143 | Inf | 0.05471730 |\n",
       "\n"
      ],
      "text/plain": [
       "  Parameter     Coefficient SE       CI   CI_low     CI_high    z         \n",
       "1 (Intercept)   13.511797   7.197332 0.95   2.561417 33.4184190  1.8773343\n",
       "2 poly(mpg, 2)1 -6.636093   8.994953 0.95 -27.805776 11.1340025 -0.7377574\n",
       "3 poly(mpg, 2)2  1.163386   3.589663 0.95  -7.908919  8.5587584  0.3240934\n",
       "4 cyl           -2.275960   1.184708 0.95  -5.576322 -0.5141517 -1.9211143\n",
       "  df_error p         \n",
       "1 Inf      0.06047229\n",
       "2 Inf      0.46066189\n",
       "3 Inf      0.74586729\n",
       "4 Inf      0.05471730"
      ]
     },
     "metadata": {},
     "output_type": "display_data"
    }
   ],
   "source": [
    "glm(vs ~ poly(mpg, 2) + cyl, data = mtcars, family = binomial()) |>\n",
    "  parameters()\n",
    "#> Parameter        | Log-Odds |   SE |          95% CI |     z |     p\n",
    "#> --------------------------------------------------------------------\n",
    "#> (Intercept)      |    13.51 | 7.20 | [  2.56, 33.42] |  1.88 | 0.060\n",
    "#> mpg [1st degree] |    -6.64 | 8.99 | [-27.81, 11.13] | -0.74 | 0.461\n",
    "#> mpg [2nd degree] |     1.16 | 3.59 | [ -7.91,  8.56] |  0.32 | 0.746\n",
    "#> cyl              |    -2.28 | 1.18 | [ -5.58, -0.51] | -1.92 | 0.055"
   ]
  },
  {
   "cell_type": "code",
   "execution_count": 17,
   "id": "2edec8fb",
   "metadata": {
    "vscode": {
     "languageId": "r"
    }
   },
   "outputs": [
    {
     "data": {
      "text/html": [
       "<table class=\"dataframe\">\n",
       "<caption>A parameters_standardized: 2 x 5</caption>\n",
       "<thead>\n",
       "\t<tr><th></th><th scope=col>Parameter</th><th scope=col>Std_Coefficient</th><th scope=col>CI</th><th scope=col>CI_low</th><th scope=col>CI_high</th></tr>\n",
       "\t<tr><th></th><th scope=col>&lt;chr&gt;</th><th scope=col>&lt;dbl&gt;</th><th scope=col>&lt;dbl&gt;</th><th scope=col>&lt;dbl&gt;</th><th scope=col>&lt;dbl&gt;</th></tr>\n",
       "</thead>\n",
       "<tbody>\n",
       "\t<tr><th scope=row>1</th><td>(Intercept)</td><td>-1.081318e-15</td><td>0.95</td><td>-0.2148607</td><td>0.2148607</td></tr>\n",
       "\t<tr><th scope=row>2</th><td>complaints </td><td> 8.254176e-01</td><td>0.95</td><td> 0.6068838</td><td>1.0439514</td></tr>\n",
       "</tbody>\n",
       "</table>\n"
      ],
      "text/latex": [
       "A parameters\\_standardized: 2 x 5\n",
       "\\begin{tabular}{r|lllll}\n",
       "  & Parameter & Std\\_Coefficient & CI & CI\\_low & CI\\_high\\\\\n",
       "  & <chr> & <dbl> & <dbl> & <dbl> & <dbl>\\\\\n",
       "\\hline\n",
       "\t1 & (Intercept) & -1.081318e-15 & 0.95 & -0.2148607 & 0.2148607\\\\\n",
       "\t2 & complaints  &  8.254176e-01 & 0.95 &  0.6068838 & 1.0439514\\\\\n",
       "\\end{tabular}\n"
      ],
      "text/markdown": [
       "\n",
       "A parameters_standardized: 2 x 5\n",
       "\n",
       "| <!--/--> | Parameter &lt;chr&gt; | Std_Coefficient &lt;dbl&gt; | CI &lt;dbl&gt; | CI_low &lt;dbl&gt; | CI_high &lt;dbl&gt; |\n",
       "|---|---|---|---|---|---|\n",
       "| 1 | (Intercept) | -1.081318e-15 | 0.95 | -0.2148607 | 0.2148607 |\n",
       "| 2 | complaints  |  8.254176e-01 | 0.95 |  0.6068838 | 1.0439514 |\n",
       "\n"
      ],
      "text/plain": [
       "  Parameter   Std_Coefficient CI   CI_low     CI_high  \n",
       "1 (Intercept) -1.081318e-15   0.95 -0.2148607 0.2148607\n",
       "2 complaints   8.254176e-01   0.95  0.6068838 1.0439514"
      ]
     },
     "metadata": {},
     "output_type": "display_data"
    }
   ],
   "source": [
    "library(parameters)\n",
    "library(effectsize)\n",
    "\n",
    "m <- lm(rating ~ complaints, data = attitude)\n",
    "\n",
    "standardize_parameters(m)"
   ]
  }
 ],
 "metadata": {
  "kernelspec": {
   "display_name": "R",
   "language": "R",
   "name": "ir"
  },
  "language_info": {
   "codemirror_mode": "r",
   "file_extension": ".r",
   "mimetype": "text/x-r-source",
   "name": "R",
   "pygments_lexer": "r",
   "version": "4.4.2"
  }
 },
 "nbformat": 4,
 "nbformat_minor": 5
}

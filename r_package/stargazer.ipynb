{
 "cells": [
  {
   "cell_type": "markdown",
   "id": "9f5c039a",
   "metadata": {},
   "source": [
    "学习R语言{stargazer}"
   ]
  },
  {
   "cell_type": "code",
   "execution_count": 3,
   "id": "866e1782",
   "metadata": {
    "vscode": {
     "languageId": "r"
    }
   },
   "outputs": [
    {
     "name": "stdout",
     "output_type": "stream",
     "text": [
      "\n",
      "=====================================\n",
      "Statistic  N   Mean  St. Dev. Min Max\n",
      "-------------------------------------\n",
      "rating     30 64.633  12.173  40  85 \n",
      "complaints 30 66.600  13.315  37  90 \n",
      "privileges 30 53.133  12.235  30  83 \n",
      "learning   30 56.367  11.737  34  75 \n",
      "raises     30 64.633  10.397  43  88 \n",
      "critical   30 74.767  9.895   49  92 \n",
      "advance    30 42.933  10.289  25  72 \n",
      "-------------------------------------\n"
     ]
    }
   ],
   "source": [
    "library(stargazer)\n",
    "\n",
    "stargazer(attitude, type = \"text\")\n",
    "\n",
    "# =====================================\n",
    "# Statistic  N   Mean  St. Dev. Min Max\n",
    "# -------------------------------------\n",
    "# rating     30 64.633  12.173  40  85 \n",
    "# complaints 30 66.600  13.315  37  90 \n",
    "# privileges 30 53.133  12.235  30  83 \n",
    "# learning   30 56.367  11.737  34  75 \n",
    "# raises     30 64.633  10.397  43  88 \n",
    "# critical   30 74.767  9.895   49  92 \n",
    "# advance    30 42.933  10.289  25  72 \n",
    "# -------------------------------------"
   ]
  },
  {
   "cell_type": "code",
   "execution_count": null,
   "id": "2e8534e9",
   "metadata": {
    "vscode": {
     "languageId": "r"
    }
   },
   "outputs": [
    {
     "name": "stdout",
     "output_type": "stream",
     "text": [
      "\n",
      "===============================================================\n",
      "  rating complaints privileges learning raises critical advance\n",
      "---------------------------------------------------------------\n",
      "1   43       51         30        39      61      92      45   \n",
      "2   63       64         51        54      63      73      47   \n",
      "3   71       70         68        69      76      86      48   \n",
      "4   61       63         45        47      54      84      35   \n",
      "5   81       78         56        66      71      83      47   \n",
      "---------------------------------------------------------------\n"
     ]
    }
   ],
   "source": [
    "stargazer(attitude[1:5,], type = \"text\", summary = FALSE)\n",
    "\n",
    "# ===============================================================\n",
    "#   rating complaints privileges learning raises critical advance\n",
    "# ---------------------------------------------------------------\n",
    "# 1   43       51         30        39      61      92      45   \n",
    "# 2   63       64         51        54      63      73      47   \n",
    "# 3   71       70         68        69      76      86      48   \n",
    "# 4   61       63         45        47      54      84      35   \n",
    "# 5   81       78         56        66      71      83      47   \n",
    "# ---------------------------------------------------------------"
   ]
  },
  {
   "cell_type": "code",
   "execution_count": null,
   "id": "9fc0a0c8",
   "metadata": {
    "vscode": {
     "languageId": "r"
    }
   },
   "outputs": [
    {
     "name": "stdout",
     "output_type": "stream",
     "text": [
      "\n",
      "=============================================================\n",
      "rating complaints privileges learning raises critical advance\n",
      "-------------------------------------------------------------\n",
      "43         51         30        39      61      92      45   \n",
      "63         64         51        54      63      73      47   \n",
      "71         70         68        69      76      86      48   \n",
      "61         63         45        47      54      84      35   \n",
      "81         78         56        66      71      83      47   \n",
      "-------------------------------------------------------------\n"
     ]
    }
   ],
   "source": [
    "stargazer(attitude[1:5,], type = \"text\", summary = FALSE, rownames = FALSE)\n",
    "\n",
    "# =============================================================\n",
    "# rating complaints privileges learning raises critical advance\n",
    "# -------------------------------------------------------------\n",
    "# 43         51         30        39      61      92      45   \n",
    "# 63         64         51        54      63      73      47   \n",
    "# 71         70         68        69      76      86      48   \n",
    "# 61         63         45        47      54      84      35   \n",
    "# 81         78         56        66      71      83      47   \n",
    "-------------------------------------------------------------"
   ]
  },
  {
   "cell_type": "code",
   "execution_count": 7,
   "id": "a2a9e22a",
   "metadata": {
    "vscode": {
     "languageId": "r"
    }
   },
   "outputs": [],
   "source": [
    "linear.1 <- lm(\n",
    "  rating ~ complaints + privileges + learning + raises + critical,\n",
    "  data = attitude\n",
    ")\n",
    "linear.2 <- lm(\n",
    "  rating ~ complaints + privileges + learning,\n",
    "  data = attitude\n",
    ")"
   ]
  },
  {
   "cell_type": "code",
   "execution_count": 8,
   "id": "da9ca021",
   "metadata": {
    "vscode": {
     "languageId": "r"
    }
   },
   "outputs": [],
   "source": [
    "attitude$high.rating <- (attitude$rating > 70)\n",
    "probit.model <- glm(\n",
    "  high.rating ~ learning + critical + advance,\n",
    "  data = attitude,\n",
    "  family = binomial(link = \"probit\")\n",
    ")"
   ]
  },
  {
   "cell_type": "code",
   "execution_count": null,
   "id": "33c58c7b",
   "metadata": {
    "vscode": {
     "languageId": "r"
    }
   },
   "outputs": [
    {
     "name": "stdout",
     "output_type": "stream",
     "text": [
      "\n",
      "Result\n",
      "=============================================================================\n",
      "                                       Dependent variable:                   \n",
      "                    ---------------------------------------------------------\n",
      "                                       rating                     high.rating\n",
      "                                         OLS                        probit   \n",
      "                             (1)                    (2)               (3)    \n",
      "-----------------------------------------------------------------------------\n",
      "complaints                 0.692***               0.682***                   \n",
      "                           (0.149)                (0.129)                    \n",
      "                                                                             \n",
      "privileges                  -0.104                 -0.103                    \n",
      "                           (0.135)                (0.129)                    \n",
      "                                                                             \n",
      "learning                    0.249                  0.238*          0.164***  \n",
      "                           (0.160)                (0.139)           (0.053)  \n",
      "                                                                             \n",
      "raises                      -0.033                                           \n",
      "                           (0.202)                                           \n",
      "                                                                             \n",
      "critical                    0.015                                   -0.001   \n",
      "                           (0.147)                                  (0.044)  \n",
      "                                                                             \n",
      "advance                                                             -0.062   \n",
      "                                                                    (0.042)  \n",
      "                                                                             \n",
      "Constant                    11.011                 11.258          -7.476**  \n",
      "                           (11.704)               (7.318)           (3.570)  \n",
      "                                                                             \n",
      "-----------------------------------------------------------------------------\n",
      "Observations                  30                     30               30     \n",
      "R2                          0.715                  0.715                     \n",
      "Adjusted R2                 0.656                  0.682                     \n",
      "Log Likelihood                                                      -9.087   \n",
      "Akaike Inf. Crit.                                                   26.175   \n",
      "Residual Std. Error    7.139 (df = 24)        6.863 (df = 26)                \n",
      "F Statistic         12.063*** (df = 5; 24) 21.743*** (df = 3; 26)            \n",
      "=============================================================================\n",
      "Note:                                             *p<0.1; **p<0.05; ***p<0.01\n"
     ]
    }
   ],
   "source": [
    "stargazer(\n",
    "  linear.1,\n",
    "  linear.2, probit.model,\n",
    "  title = \"Result\",\n",
    "  type = \"text\"\n",
    ")\n",
    "\n",
    "# Result\n",
    "# =============================================================================\n",
    "#                                        Dependent variable:                   \n",
    "#                     ---------------------------------------------------------\n",
    "#                                        rating                     high.rating\n",
    "#                                          OLS                        probit   \n",
    "#                              (1)                    (2)               (3)    \n",
    "# -----------------------------------------------------------------------------\n",
    "# complaints                 0.692***               0.682***                   \n",
    "#                            (0.149)                (0.129)                    \n",
    "                                                                             \n",
    "# privileges                  -0.104                 -0.103                    \n",
    "#                            (0.135)                (0.129)                    \n",
    "                                                                             \n",
    "# learning                    0.249                  0.238*          0.164***  \n",
    "#                            (0.160)                (0.139)           (0.053)  \n",
    "                                                                             \n",
    "# raises                      -0.033                                           \n",
    "#                            (0.202)                                           \n",
    "                                                                             \n",
    "# critical                    0.015                                   -0.001   \n",
    "#                            (0.147)                                  (0.044)  \n",
    "                                                                             \n",
    "# advance                                                             -0.062   \n",
    "#                                                                     (0.042)  \n",
    "                                                                             \n",
    "# Constant                    11.011                 11.258          -7.476**  \n",
    "#                            (11.704)               (7.318)           (3.570)  \n",
    "                                                                             \n",
    "# -----------------------------------------------------------------------------\n",
    "# Observations                  30                     30               30     \n",
    "# R2                          0.715                  0.715                     \n",
    "# Adjusted R2                 0.656                  0.682                     \n",
    "# Log Likelihood                                                      -9.087   \n",
    "# Akaike Inf. Crit.                                                   26.175   \n",
    "# Residual Std. Error    7.139 (df = 24)        6.863 (df = 26)                \n",
    "# F Statistic         12.063*** (df = 5; 24) 21.743*** (df = 3; 26)            \n",
    "# =============================================================================\n",
    "# Note:                                             *p<0.1; **p<0.05; ***p<0.01"
   ]
  },
  {
   "cell_type": "code",
   "execution_count": null,
   "id": "c4d50c49",
   "metadata": {
    "vscode": {
     "languageId": "r"
    }
   },
   "outputs": [
    {
     "name": "stdout",
     "output_type": "stream",
     "text": [
      "\n",
      "Result\n",
      "======================================================\n",
      "                              Dependent variable:     \n",
      "                         -----------------------------\n",
      "                          Overall Rating   High Rating\n",
      "                                OLS          probit   \n",
      "                           (1)      (2)        (3)    \n",
      "------------------------------------------------------\n",
      "Handling of Complaints   0.692*** 0.682***            \n",
      "                         (0.149)  (0.129)             \n",
      "                                                      \n",
      "No Special Privileges     -0.104   -0.103             \n",
      "                         (0.135)  (0.129)             \n",
      "                                                      \n",
      "Opportunity to Learn      0.249    0.238*   0.164***  \n",
      "                         (0.160)  (0.139)    (0.053)  \n",
      "                                                      \n",
      "Performance-Based Raises  -0.033                      \n",
      "                         (0.202)                      \n",
      "                                                      \n",
      "Too Critical              0.015              -0.001   \n",
      "                         (0.147)             (0.044)  \n",
      "                                                      \n",
      "Advancement                                  -0.062   \n",
      "                                             (0.042)  \n",
      "                                                      \n",
      "Constant                  11.011   11.258   -7.476**  \n",
      "                         (11.704) (7.318)    (3.570)  \n",
      "                                                      \n",
      "------------------------------------------------------\n",
      "Observations                30       30        30     \n",
      "R2                        0.715    0.715              \n",
      "Adjusted R2               0.656    0.682              \n",
      "Akaike Inf. Crit.                            26.175   \n",
      "======================================================\n",
      "Note:                      *p<0.1; **p<0.05; ***p<0.01\n"
     ]
    }
   ],
   "source": [
    "stargazer(\n",
    "  linear.1, linear.2, probit.model,\n",
    "  title = \"Result\",\n",
    "  dep.var.labels = c(\"Overall Rating\", \"High Rating\"),\n",
    "  covariate.labels = c(\n",
    "    \"Handling of Complaints\", \"No Special Privileges\",\n",
    "    \"Opportunity to Learn\", \"Performance-Based Raises\",\n",
    "    \"Too Critical\", \"Advancement\"\n",
    "  ),\n",
    "  omit.stat = c(\"LL\", \"ser\", \"f\"),\n",
    "  type = \"text\"\n",
    ")\n",
    "\n",
    "# Result\n",
    "# ======================================================\n",
    "#                               Dependent variable:     \n",
    "#                          -----------------------------\n",
    "#                           Overall Rating   High Rating\n",
    "#                                 OLS          probit   \n",
    "#                            (1)      (2)        (3)    \n",
    "# ------------------------------------------------------\n",
    "# Handling of Complaints   0.692*** 0.682***            \n",
    "#                          (0.149)  (0.129)             \n",
    "                                                      \n",
    "# No Special Privileges     -0.104   -0.103             \n",
    "#                          (0.135)  (0.129)             \n",
    "                                                      \n",
    "# Opportunity to Learn      0.249    0.238*   0.164***  \n",
    "#                          (0.160)  (0.139)    (0.053)  \n",
    "                                                      \n",
    "# Performance-Based Raises  -0.033                      \n",
    "#                          (0.202)                      \n",
    "                                                      \n",
    "# Too Critical              0.015              -0.001   \n",
    "#                          (0.147)             (0.044)  \n",
    "                                                      \n",
    "# Advancement                                  -0.062   \n",
    "#                                              (0.042)  \n",
    "                                                      \n",
    "# Constant                  11.011   11.258   -7.476**  \n",
    "#                          (11.704) (7.318)    (3.570)  \n",
    "                                                      \n",
    "# ------------------------------------------------------\n",
    "# Observations                30       30        30     \n",
    "# R2                        0.715    0.715              \n",
    "# Adjusted R2               0.656    0.682              \n",
    "# Akaike Inf. Crit.                            26.175   \n",
    "# ======================================================\n",
    "# Note:                      *p<0.1; **p<0.05; ***p<0.01"
   ]
  },
  {
   "cell_type": "code",
   "execution_count": null,
   "id": "d24c35bb",
   "metadata": {
    "vscode": {
     "languageId": "r"
    }
   },
   "outputs": [
    {
     "name": "stdout",
     "output_type": "stream",
     "text": [
      "\n",
      "Result\n",
      "=========================================================================\n",
      "                                       Dependent variable:               \n",
      "                         ------------------------------------------------\n",
      "                                          Overall Rating                 \n",
      "                                   (1)                      (2)          \n",
      "-------------------------------------------------------------------------\n",
      "Handling of Complaints   0.692*** (0.400, 0.984)  0.682*** (0.430, 0.935)\n",
      "No Special Privileges     -0.104 (-0.368, 0.161)  -0.103 (-0.357, 0.150) \n",
      "Opportunity to Learn      0.249 (-0.064, 0.562)   0.238* (-0.035, 0.511) \n",
      "Performance-Based Raises  -0.033 (-0.430, 0.363)                         \n",
      "Too Critical              0.015 (-0.273, 0.304)                          \n",
      "Advancement              11.011 (-11.928, 33.950) 11.258 (-3.085, 25.602)\n",
      "-------------------------------------------------------------------------\n",
      "Observations                        30                      30           \n",
      "R2                                0.715                    0.715         \n",
      "Adjusted R2                       0.656                    0.682         \n",
      "=========================================================================\n",
      "Note:                                         *p<0.1; **p<0.05; ***p<0.01\n"
     ]
    }
   ],
   "source": [
    "stargazer(\n",
    "  linear.1, linear.2,\n",
    "  title = \"Result\",\n",
    "  dep.var.labels = c(\"Overall Rating\", \"High Rating\"),\n",
    "  covariate.labels = c(\n",
    "    \"Handling of Complaints\", \"No Special Privileges\",\n",
    "    \"Opportunity to Learn\", \"Performance-Based Raises\",\n",
    "    \"Too Critical\", \"Advancement\"\n",
    "  ),\n",
    "  omit.stat = c(\"LL\",\"ser\",\"f\"),\n",
    "  ci = TRUE, ci.level = 0.95,\n",
    "  single.row = TRUE,\n",
    "  type = \"text\"\n",
    ")\n",
    "\n",
    "# Result\n",
    "# =========================================================================\n",
    "#                                        Dependent variable:               \n",
    "#                          ------------------------------------------------\n",
    "#                                           Overall Rating                 \n",
    "#                                    (1)                      (2)          \n",
    "# -------------------------------------------------------------------------\n",
    "# Handling of Complaints   0.692*** (0.400, 0.984)  0.682*** (0.430, 0.935)\n",
    "# No Special Privileges     -0.104 (-0.368, 0.161)  -0.103 (-0.357, 0.150) \n",
    "# Opportunity to Learn      0.249 (-0.064, 0.562)   0.238* (-0.035, 0.511) \n",
    "# Performance-Based Raises  -0.033 (-0.430, 0.363)                         \n",
    "# Too Critical              0.015 (-0.273, 0.304)                          \n",
    "# Advancement              11.011 (-11.928, 33.950) 11.258 (-3.085, 25.602)\n",
    "# -------------------------------------------------------------------------\n",
    "# Observations                        30                      30           \n",
    "# R2                                0.715                    0.715         \n",
    "# Adjusted R2                       0.656                    0.682         \n",
    "# =========================================================================\n",
    "# Note:                                         *p<0.1; **p<0.05; ***p<0.01"
   ]
  },
  {
   "cell_type": "code",
   "execution_count": 15,
   "id": "001a8671",
   "metadata": {
    "vscode": {
     "languageId": "r"
    }
   },
   "outputs": [
    {
     "name": "stdout",
     "output_type": "stream",
     "text": [
      "\n",
      "Result\n",
      "===========================================================\n",
      "                                Dependent variable:        \n",
      "                         ----------------------------------\n",
      "                                   Overall Rating          \n",
      "                                (1)              (2)       \n",
      "-----------------------------------------------------------\n",
      "Handling of Complaints       0.692***          0.682***    \n",
      "                          (0.400, 0.984)    (0.430, 0.935) \n",
      "                                                           \n",
      "No Special Privileges         -0.104            -0.103     \n",
      "                          (-0.368, 0.161)  (-0.357, 0.150) \n",
      "                                                           \n",
      "Opportunity to Learn           0.249            0.238*     \n",
      "                          (-0.064, 0.562)  (-0.035, 0.511) \n",
      "                                                           \n",
      "Performance-Based Raises      -0.033                       \n",
      "                          (-0.430, 0.363)                  \n",
      "                                                           \n",
      "Too Critical                   0.015                       \n",
      "                          (-0.273, 0.304)                  \n",
      "                                                           \n",
      "Advancement                   11.011            11.258     \n",
      "                         (-11.928, 33.950) (-3.085, 25.602)\n",
      "                                                           \n",
      "-----------------------------------------------------------\n",
      "Observations                    30                30       \n",
      "R2                             0.715            0.715      \n",
      "Adjusted R2                    0.656            0.682      \n",
      "===========================================================\n",
      "Note:                           *p<0.1; **p<0.05; ***p<0.01\n"
     ]
    }
   ],
   "source": [
    "stargazer(\n",
    "  linear.1, linear.2,\n",
    "  title = \"Result\",\n",
    "  dep.var.labels = c(\"Overall Rating\", \"High Rating\"),\n",
    "  covariate.labels = c(\n",
    "    \"Handling of Complaints\", \"No Special Privileges\",\n",
    "    \"Opportunity to Learn\", \"Performance-Based Raises\",\n",
    "    \"Too Critical\", \"Advancement\"\n",
    "  ),\n",
    "  omit.stat = c(\"LL\",\"ser\",\"f\"),\n",
    "  ci = TRUE, ci.level = 0.95,\n",
    "  single.row = FALSE,\n",
    "  type = \"text\"\n",
    ")\n",
    "\n",
    "# Result\n",
    "# ===========================================================\n",
    "#                                 Dependent variable:        \n",
    "#                          ----------------------------------\n",
    "#                                    Overall Rating          \n",
    "#                                 (1)              (2)       \n",
    "# -----------------------------------------------------------\n",
    "# Handling of Complaints       0.692***          0.682***    \n",
    "#                           (0.400, 0.984)    (0.430, 0.935) \n",
    "                                                           \n",
    "# No Special Privileges         -0.104            -0.103     \n",
    "#                           (-0.368, 0.161)  (-0.357, 0.150) \n",
    "                                                           \n",
    "# Opportunity to Learn           0.249            0.238*     \n",
    "#                           (-0.064, 0.562)  (-0.035, 0.511) \n",
    "                                                           \n",
    "# Performance-Based Raises      -0.033                       \n",
    "#                           (-0.430, 0.363)                  \n",
    "                                                           \n",
    "# Too Critical                   0.015                       \n",
    "#                           (-0.273, 0.304)                  \n",
    "                                                           \n",
    "# Advancement                   11.011            11.258     \n",
    "#                          (-11.928, 33.950) (-3.085, 25.602)\n",
    "                                                           \n",
    "# -----------------------------------------------------------\n",
    "# Observations                    30                30       \n",
    "# R2                             0.715            0.715      \n",
    "# Adjusted R2                    0.656            0.682      \n",
    "# ===========================================================\n",
    "# Note:                           *p<0.1; **p<0.05; ***p<0.01"
   ]
  },
  {
   "cell_type": "code",
   "execution_count": null,
   "id": "cbe2dc7a",
   "metadata": {
    "vscode": {
     "languageId": "r"
    }
   },
   "outputs": [
    {
     "name": "stdout",
     "output_type": "stream",
     "text": [
      "\n",
      "Result\n",
      "=======================================================\n",
      "                              Dependent variable:      \n",
      "                         ------------------------------\n",
      "                                 Overall Rating        \n",
      "                               (1)            (2)      \n",
      "-------------------------------------------------------\n",
      "Handling of Complaints       0.69***        0.68***    \n",
      "                          (0.40, 0.98)    (0.43, 0.93) \n",
      "                                                       \n",
      "No Special Privileges         -0.10          -0.10     \n",
      "                          (-0.37, 0.16)  (-0.36, 0.15) \n",
      "                                                       \n",
      "Opportunity to Learn          0.25           0.24*     \n",
      "                          (-0.06, 0.56)  (-0.04, 0.51) \n",
      "                                                       \n",
      "Performance-Based Raises      -0.03                    \n",
      "                          (-0.43, 0.36)                \n",
      "                                                       \n",
      "Too Critical                  0.02                     \n",
      "                          (-0.27, 0.30)                \n",
      "                                                       \n",
      "Advancement                   11.01          11.26     \n",
      "                         (-11.93, 33.95) (-3.09, 25.60)\n",
      "                                                       \n",
      "-------------------------------------------------------\n",
      "Observations                   30              30      \n",
      "R2                            0.72            0.72     \n",
      "Adjusted R2                   0.66            0.68     \n",
      "=======================================================\n",
      "Note:                       *p<0.1; **p<0.05; ***p<0.01\n"
     ]
    }
   ],
   "source": [
    "stargazer(\n",
    "  linear.1, linear.2,\n",
    "  title = \"Result\",\n",
    "  dep.var.labels = c(\"Overall Rating\", \"High Rating\"),\n",
    "  covariate.labels = c(\n",
    "    \"Handling of Complaints\", \"No Special Privileges\",\n",
    "    \"Opportunity to Learn\", \"Performance-Based Raises\",\n",
    "    \"Too Critical\", \"Advancement\"\n",
    "  ),\n",
    "  omit.stat = c(\"LL\", \"ser\", \"f\"),\n",
    "  ci = TRUE, ci.level = 0.95,\n",
    "  single.row = FALSE,\n",
    "  type = \"text\",\n",
    "  digits = 2\n",
    ")\n",
    "\n",
    "# Result\n",
    "# =======================================================\n",
    "#                               Dependent variable:      \n",
    "#                          ------------------------------\n",
    "#                                  Overall Rating        \n",
    "#                                (1)            (2)      \n",
    "# -------------------------------------------------------\n",
    "# Handling of Complaints       0.69***        0.68***    \n",
    "#                           (0.40, 0.98)    (0.43, 0.93) \n",
    "                                                       \n",
    "# No Special Privileges         -0.10          -0.10     \n",
    "#                           (-0.37, 0.16)  (-0.36, 0.15) \n",
    "                                                       \n",
    "# Opportunity to Learn          0.25           0.24*     \n",
    "#                           (-0.06, 0.56)  (-0.04, 0.51) \n",
    "                                                       \n",
    "# Performance-Based Raises      -0.03                    \n",
    "#                           (-0.43, 0.36)                \n",
    "                                                       \n",
    "# Too Critical                  0.02                     \n",
    "#                           (-0.27, 0.30)                \n",
    "                                                       \n",
    "# Advancement                   11.01          11.26     \n",
    "#                          (-11.93, 33.95) (-3.09, 25.60)\n",
    "                                                       \n",
    "# -------------------------------------------------------\n",
    "# Observations                   30              30      \n",
    "# R2                            0.72            0.72     \n",
    "# Adjusted R2                   0.66            0.68     \n",
    "# =======================================================\n",
    "# Note:                       *p<0.1; **p<0.05; ***p<0.01"
   ]
  }
 ],
 "metadata": {
  "kernelspec": {
   "display_name": "R",
   "language": "R",
   "name": "ir"
  },
  "language_info": {
   "codemirror_mode": "r",
   "file_extension": ".r",
   "mimetype": "text/x-r-source",
   "name": "R",
   "pygments_lexer": "r",
   "version": "4.4.2"
  }
 },
 "nbformat": 4,
 "nbformat_minor": 5
}

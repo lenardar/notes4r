{
 "cells": [
  {
   "cell_type": "markdown",
   "id": "d8504577",
   "metadata": {},
   "source": [
    "学习R语言{janitor}包。"
   ]
  },
  {
   "cell_type": "code",
   "execution_count": 4,
   "id": "23464495",
   "metadata": {
    "vscode": {
     "languageId": "r"
    }
   },
   "outputs": [
    {
     "name": "stderr",
     "output_type": "stream",
     "text": [
      "-- \u001b[1mAttaching core tidyverse packages\u001b[22m ------------------------ tidyverse 2.0.0 --\n",
      "\u001b[32mv\u001b[39m \u001b[34mdplyr    \u001b[39m 1.1.4     \u001b[32mv\u001b[39m \u001b[34mreadr    \u001b[39m 2.1.5\n",
      "\u001b[32mv\u001b[39m \u001b[34mforcats  \u001b[39m 1.0.0     \u001b[32mv\u001b[39m \u001b[34mstringr  \u001b[39m 1.5.1\n",
      "\u001b[32mv\u001b[39m \u001b[34mggplot2  \u001b[39m 3.5.1     \u001b[32mv\u001b[39m \u001b[34mtibble   \u001b[39m 3.2.1\n",
      "\u001b[32mv\u001b[39m \u001b[34mlubridate\u001b[39m 1.9.4     \u001b[32mv\u001b[39m \u001b[34mtidyr    \u001b[39m 1.3.1\n",
      "\u001b[32mv\u001b[39m \u001b[34mpurrr    \u001b[39m 1.0.2     \n",
      "-- \u001b[1mConflicts\u001b[22m ------------------------------------------ tidyverse_conflicts() --\n",
      "\u001b[31mx\u001b[39m \u001b[34mdplyr\u001b[39m::\u001b[32mfilter()\u001b[39m masks \u001b[34mstats\u001b[39m::filter()\n",
      "\u001b[31mx\u001b[39m \u001b[34mdplyr\u001b[39m::\u001b[32mlag()\u001b[39m    masks \u001b[34mstats\u001b[39m::lag()\n",
      "\u001b[36mi\u001b[39m Use the conflicted package (\u001b[3m\u001b[34m<http://conflicted.r-lib.org/>\u001b[39m\u001b[23m) to force all conflicts to become errors\n",
      "\n",
      "Attaching package: 'janitor'\n",
      "\n",
      "\n",
      "The following objects are masked from 'package:stats':\n",
      "\n",
      "    chisq.test, fisher.test\n",
      "\n",
      "\n"
     ]
    }
   ],
   "source": [
    "library(tidyverse)\n",
    "library(janitor)"
   ]
  },
  {
   "cell_type": "markdown",
   "id": "a9b8f7a6",
   "metadata": {},
   "source": [
    "# 数据清洗"
   ]
  },
  {
   "cell_type": "markdown",
   "id": "13d9b0d8",
   "metadata": {},
   "source": [
    "## clean_names()"
   ]
  },
  {
   "cell_type": "code",
   "execution_count": 2,
   "id": "0699a6db",
   "metadata": {
    "vscode": {
     "languageId": "r"
    }
   },
   "outputs": [
    {
     "data": {
      "text/html": [
       "<table class=\"dataframe\">\n",
       "<caption>A data.frame: 1 x 6</caption>\n",
       "<thead>\n",
       "\t<tr><th scope=col>firstName</th><th scope=col>&lt;U+00E1&gt;bc@!*</th><th scope=col>% successful (2009)</th><th scope=col>REPEAT VALUE</th><th scope=col>REPEAT VALUE</th><th scope=col></th></tr>\n",
       "\t<tr><th scope=col>&lt;lgl&gt;</th><th scope=col>&lt;lgl&gt;</th><th scope=col>&lt;lgl&gt;</th><th scope=col>&lt;lgl&gt;</th><th scope=col>&lt;lgl&gt;</th><th scope=col>&lt;lgl&gt;</th></tr>\n",
       "</thead>\n",
       "<tbody>\n",
       "\t<tr><td>NA</td><td>NA</td><td>NA</td><td>NA</td><td>NA</td><td>NA</td></tr>\n",
       "</tbody>\n",
       "</table>\n"
      ],
      "text/latex": [
       "A data.frame: 1 x 6\n",
       "\\begin{tabular}{llllll}\n",
       " firstName & <U+00E1>bc@!* & \\% successful (2009) & REPEAT VALUE & REPEAT VALUE & \\\\\n",
       " <lgl> & <lgl> & <lgl> & <lgl> & <lgl> & <lgl>\\\\\n",
       "\\hline\n",
       "\t NA & NA & NA & NA & NA & NA\\\\\n",
       "\\end{tabular}\n"
      ],
      "text/markdown": [
       "\n",
       "A data.frame: 1 x 6\n",
       "\n",
       "| firstName &lt;lgl&gt; | &lt;U+00E1&gt;bc@!* &lt;lgl&gt; | % successful (2009) &lt;lgl&gt; | REPEAT VALUE &lt;lgl&gt; | REPEAT VALUE &lt;lgl&gt; | <!----> &lt;lgl&gt; |\n",
       "|---|---|---|---|---|---|\n",
       "| NA | NA | NA | NA | NA | NA |\n",
       "\n"
      ],
      "text/plain": [
       "  firstName <U+00E1>bc@!* % successful (2009) REPEAT VALUE REPEAT VALUE   \n",
       "1 NA        NA            NA                  NA           NA           NA"
      ]
     },
     "metadata": {},
     "output_type": "display_data"
    }
   ],
   "source": [
    "# Create a data.frame with dirty names\n",
    "test_df <- as.data.frame(matrix(ncol = 6))\n",
    "names(test_df) <- c(\"firstName\", \"ábc@!*\", \"% successful (2009)\",\n",
    "                    \"REPEAT VALUE\", \"REPEAT VALUE\", \"\")\n",
    "test_df"
   ]
  },
  {
   "cell_type": "code",
   "execution_count": 5,
   "id": "d506ac30",
   "metadata": {
    "vscode": {
     "languageId": "r"
    }
   },
   "outputs": [
    {
     "name": "stderr",
     "output_type": "stream",
     "text": [
      "Warning message in FUN(X[[i]], ...):\n",
      "\"unable to translate '<U+00C4>' to native encoding\"\n",
      "Warning message in FUN(X[[i]], ...):\n",
      "\"unable to translate '<U+00D6>' to native encoding\"\n",
      "Warning message in FUN(X[[i]], ...):\n",
      "\"unable to translate '<U+00DC>' to native encoding\"\n",
      "Warning message in FUN(X[[i]], ...):\n",
      "\"unable to translate '<U+00E4>' to native encoding\"\n",
      "Warning message in FUN(X[[i]], ...):\n",
      "\"unable to translate '<U+00F6>' to native encoding\"\n",
      "Warning message in FUN(X[[i]], ...):\n",
      "\"unable to translate '<U+00FC>' to native encoding\"\n",
      "Warning message in FUN(X[[i]], ...):\n",
      "\"unable to translate '<U+00DF>' to native encoding\"\n",
      "Warning message in FUN(X[[i]], ...):\n",
      "\"unable to translate '<U+00C6>' to native encoding\"\n",
      "Warning message in FUN(X[[i]], ...):\n",
      "\"unable to translate '<U+00E6>' to native encoding\"\n",
      "Warning message in FUN(X[[i]], ...):\n",
      "\"unable to translate '<U+00D8>' to native encoding\"\n",
      "Warning message in FUN(X[[i]], ...):\n",
      "\"unable to translate '<U+00F8>' to native encoding\"\n",
      "Warning message in FUN(X[[i]], ...):\n",
      "\"unable to translate '<U+00C5>' to native encoding\"\n",
      "Warning message in FUN(X[[i]], ...):\n",
      "\"unable to translate '<U+00E5>' to native encoding\"\n"
     ]
    },
    {
     "data": {
      "text/html": [
       "<table class=\"dataframe\">\n",
       "<caption>A data.frame: 1 x 6</caption>\n",
       "<thead>\n",
       "\t<tr><th scope=col>first_name</th><th scope=col>u_00e1_bc</th><th scope=col>percent_successful_2009</th><th scope=col>repeat_value</th><th scope=col>repeat_value_2</th><th scope=col>x</th></tr>\n",
       "\t<tr><th scope=col>&lt;lgl&gt;</th><th scope=col>&lt;lgl&gt;</th><th scope=col>&lt;lgl&gt;</th><th scope=col>&lt;lgl&gt;</th><th scope=col>&lt;lgl&gt;</th><th scope=col>&lt;lgl&gt;</th></tr>\n",
       "</thead>\n",
       "<tbody>\n",
       "\t<tr><td>NA</td><td>NA</td><td>NA</td><td>NA</td><td>NA</td><td>NA</td></tr>\n",
       "</tbody>\n",
       "</table>\n"
      ],
      "text/latex": [
       "A data.frame: 1 x 6\n",
       "\\begin{tabular}{llllll}\n",
       " first\\_name & u\\_00e1\\_bc & percent\\_successful\\_2009 & repeat\\_value & repeat\\_value\\_2 & x\\\\\n",
       " <lgl> & <lgl> & <lgl> & <lgl> & <lgl> & <lgl>\\\\\n",
       "\\hline\n",
       "\t NA & NA & NA & NA & NA & NA\\\\\n",
       "\\end{tabular}\n"
      ],
      "text/markdown": [
       "\n",
       "A data.frame: 1 x 6\n",
       "\n",
       "| first_name &lt;lgl&gt; | u_00e1_bc &lt;lgl&gt; | percent_successful_2009 &lt;lgl&gt; | repeat_value &lt;lgl&gt; | repeat_value_2 &lt;lgl&gt; | x &lt;lgl&gt; |\n",
       "|---|---|---|---|---|---|\n",
       "| NA | NA | NA | NA | NA | NA |\n",
       "\n"
      ],
      "text/plain": [
       "  first_name u_00e1_bc percent_successful_2009 repeat_value repeat_value_2 x \n",
       "1 NA         NA        NA                      NA           NA             NA"
      ]
     },
     "metadata": {},
     "output_type": "display_data"
    }
   ],
   "source": [
    "test_df %>% clean_names()"
   ]
  },
  {
   "cell_type": "code",
   "execution_count": 6,
   "id": "9bc8bcca",
   "metadata": {
    "vscode": {
     "languageId": "r"
    }
   },
   "outputs": [
    {
     "data": {
      "text/html": [
       "<style>\n",
       ".list-inline {list-style: none; margin:0; padding: 0}\n",
       ".list-inline>li {display: inline-block}\n",
       ".list-inline>li:not(:last-child)::after {content: \"\\00b7\"; padding: 0 .5ex}\n",
       "</style>\n",
       "<ol class=list-inline><li>'firstName'</li><li>'X.U.00E1.bc...'</li><li>'X..successful..2009.'</li><li>'REPEAT.VALUE'</li><li>'REPEAT.VALUE'</li><li>'X'</li></ol>\n"
      ],
      "text/latex": [
       "\\begin{enumerate*}\n",
       "\\item 'firstName'\n",
       "\\item 'X.U.00E1.bc...'\n",
       "\\item 'X..successful..2009.'\n",
       "\\item 'REPEAT.VALUE'\n",
       "\\item 'REPEAT.VALUE'\n",
       "\\item 'X'\n",
       "\\end{enumerate*}\n"
      ],
      "text/markdown": [
       "1. 'firstName'\n",
       "2. 'X.U.00E1.bc...'\n",
       "3. 'X..successful..2009.'\n",
       "4. 'REPEAT.VALUE'\n",
       "5. 'REPEAT.VALUE'\n",
       "6. 'X'\n",
       "\n",
       "\n"
      ],
      "text/plain": [
       "[1] \"firstName\"            \"X.U.00E1.bc...\"       \"X..successful..2009.\"\n",
       "[4] \"REPEAT.VALUE\"         \"REPEAT.VALUE\"         \"X\"                   "
      ]
     },
     "metadata": {},
     "output_type": "display_data"
    }
   ],
   "source": [
    "make.names(names(test_df))\n",
    "#> [1] \"firstName\"            \"ábc...\"               \"X..successful..2009.\"\n",
    "#> [4] \"REPEAT.VALUE\"         \"REPEAT.VALUE\"         \"X\""
   ]
  },
  {
   "cell_type": "markdown",
   "id": "fd4755ea",
   "metadata": {},
   "source": [
    "## compare_df_cols"
   ]
  },
  {
   "cell_type": "code",
   "execution_count": 7,
   "id": "f802f8ed",
   "metadata": {
    "vscode": {
     "languageId": "r"
    }
   },
   "outputs": [],
   "source": [
    "df1 <- data.frame(a = 1:2, b = c(\"big\", \"small\"))\n",
    "df2 <- data.frame(a = 10:12, b = c(\"medium\", \"small\", \"big\"), c = 0, stringsAsFactors = TRUE) # here, column b is a factor\n",
    "df3 <- df1 %>%\n",
    "  dplyr::mutate(b = as.character(b))"
   ]
  },
  {
   "cell_type": "code",
   "execution_count": 8,
   "id": "6712dc00",
   "metadata": {
    "vscode": {
     "languageId": "r"
    }
   },
   "outputs": [
    {
     "data": {
      "text/html": [
       "<table class=\"dataframe\">\n",
       "<caption>A data.frame: 3 x 4</caption>\n",
       "<thead>\n",
       "\t<tr><th scope=col>column_name</th><th scope=col>df1</th><th scope=col>df2</th><th scope=col>df3</th></tr>\n",
       "\t<tr><th scope=col>&lt;chr&gt;</th><th scope=col>&lt;chr&gt;</th><th scope=col>&lt;chr&gt;</th><th scope=col>&lt;chr&gt;</th></tr>\n",
       "</thead>\n",
       "<tbody>\n",
       "\t<tr><td>a</td><td>integer  </td><td>integer</td><td>integer  </td></tr>\n",
       "\t<tr><td>b</td><td>character</td><td>factor </td><td>character</td></tr>\n",
       "\t<tr><td>c</td><td>NA       </td><td>numeric</td><td>NA       </td></tr>\n",
       "</tbody>\n",
       "</table>\n"
      ],
      "text/latex": [
       "A data.frame: 3 x 4\n",
       "\\begin{tabular}{llll}\n",
       " column\\_name & df1 & df2 & df3\\\\\n",
       " <chr> & <chr> & <chr> & <chr>\\\\\n",
       "\\hline\n",
       "\t a & integer   & integer & integer  \\\\\n",
       "\t b & character & factor  & character\\\\\n",
       "\t c & NA        & numeric & NA       \\\\\n",
       "\\end{tabular}\n"
      ],
      "text/markdown": [
       "\n",
       "A data.frame: 3 x 4\n",
       "\n",
       "| column_name &lt;chr&gt; | df1 &lt;chr&gt; | df2 &lt;chr&gt; | df3 &lt;chr&gt; |\n",
       "|---|---|---|---|\n",
       "| a | integer   | integer | integer   |\n",
       "| b | character | factor  | character |\n",
       "| c | NA        | numeric | NA        |\n",
       "\n"
      ],
      "text/plain": [
       "  column_name df1       df2     df3      \n",
       "1 a           integer   integer integer  \n",
       "2 b           character factor  character\n",
       "3 c           NA        numeric NA       "
      ]
     },
     "metadata": {},
     "output_type": "display_data"
    }
   ],
   "source": [
    "compare_df_cols(df1, df2, df3)"
   ]
  },
  {
   "cell_type": "markdown",
   "id": "8f33bdf1",
   "metadata": {},
   "source": [
    "# 数据探索"
   ]
  },
  {
   "cell_type": "code",
   "execution_count": 9,
   "id": "3d036c51",
   "metadata": {
    "vscode": {
     "languageId": "r"
    }
   },
   "outputs": [
    {
     "data": {
      "text/html": [
       "<table class=\"dataframe\">\n",
       "<caption>A tabyl: 4 x 5</caption>\n",
       "<thead>\n",
       "\t<tr><th scope=col></th><th scope=col>cyl</th><th scope=col></th><th scope=col></th><th scope=col></th></tr>\n",
       "\t<tr><th scope=col>&lt;chr&gt;</th><th scope=col>&lt;chr&gt;</th><th scope=col>&lt;chr&gt;</th><th scope=col>&lt;chr&gt;</th><th scope=col>&lt;chr&gt;</th></tr>\n",
       "</thead>\n",
       "<tbody>\n",
       "\t<tr><td>gear</td><td>4         </td><td>6         </td><td>8          </td><td>Total       </td></tr>\n",
       "\t<tr><td>3   </td><td>6.67% (1) </td><td>13.33% (2)</td><td>80.00% (12)</td><td>100.00% (15)</td></tr>\n",
       "\t<tr><td>4   </td><td>66.67% (8)</td><td>33.33% (4)</td><td>0.00%  (0) </td><td>100.00% (12)</td></tr>\n",
       "\t<tr><td>5   </td><td>40.00% (2)</td><td>20.00% (1)</td><td>40.00%  (2)</td><td>100.00%  (5)</td></tr>\n",
       "</tbody>\n",
       "</table>\n"
      ],
      "text/latex": [
       "A tabyl: 4 x 5\n",
       "\\begin{tabular}{lllll}\n",
       "  & cyl &  &  & \\\\\n",
       " <chr> & <chr> & <chr> & <chr> & <chr>\\\\\n",
       "\\hline\n",
       "\t gear & 4          & 6          & 8           & Total       \\\\\n",
       "\t 3    & 6.67\\% (1)  & 13.33\\% (2) & 80.00\\% (12) & 100.00\\% (15)\\\\\n",
       "\t 4    & 66.67\\% (8) & 33.33\\% (4) & 0.00\\%  (0)  & 100.00\\% (12)\\\\\n",
       "\t 5    & 40.00\\% (2) & 20.00\\% (1) & 40.00\\%  (2) & 100.00\\%  (5)\\\\\n",
       "\\end{tabular}\n"
      ],
      "text/markdown": [
       "\n",
       "A tabyl: 4 x 5\n",
       "\n",
       "| <!----> &lt;chr&gt; | cyl &lt;chr&gt; | <!----> &lt;chr&gt; | <!----> &lt;chr&gt; | <!----> &lt;chr&gt; |\n",
       "|---|---|---|---|---|\n",
       "| gear | 4          | 6          | 8           | Total        |\n",
       "| 3    | 6.67% (1)  | 13.33% (2) | 80.00% (12) | 100.00% (15) |\n",
       "| 4    | 66.67% (8) | 33.33% (4) | 0.00%  (0)  | 100.00% (12) |\n",
       "| 5    | 40.00% (2) | 20.00% (1) | 40.00%  (2) | 100.00%  (5) |\n",
       "\n"
      ],
      "text/plain": [
       "       cyl                                           \n",
       "1 gear 4          6          8           Total       \n",
       "2 3    6.67% (1)  13.33% (2) 80.00% (12) 100.00% (15)\n",
       "3 4    66.67% (8) 33.33% (4) 0.00%  (0)  100.00% (12)\n",
       "4 5    40.00% (2) 20.00% (1) 40.00%  (2) 100.00%  (5)"
      ]
     },
     "metadata": {},
     "output_type": "display_data"
    }
   ],
   "source": [
    "mtcars %>%\n",
    "  tabyl(gear, cyl) %>%\n",
    "  adorn_totals(\"col\") %>%\n",
    "  adorn_percentages(\"row\") %>%\n",
    "  adorn_pct_formatting(digits = 2) %>%\n",
    "  adorn_ns() %>%\n",
    "  adorn_title()\n",
    "#>              cyl                                    \n",
    "#>  gear          4          6           8        Total\n",
    "#>     3  6.67% (1) 13.33% (2) 80.00% (12) 100.00% (15)\n",
    "#>     4 66.67% (8) 33.33% (4)  0.00%  (0) 100.00% (12)\n",
    "#>     5 40.00% (2) 20.00% (1) 40.00%  (2) 100.00%  (5)"
   ]
  },
  {
   "cell_type": "markdown",
   "id": "9f93711e",
   "metadata": {},
   "source": [
    "## get_dupes()"
   ]
  },
  {
   "cell_type": "code",
   "execution_count": 10,
   "id": "4cfa050d",
   "metadata": {
    "vscode": {
     "languageId": "r"
    }
   },
   "outputs": [
    {
     "data": {
      "text/html": [
       "<table class=\"dataframe\">\n",
       "<caption>A data.frame: 4 x 12</caption>\n",
       "<thead>\n",
       "\t<tr><th scope=col>wt</th><th scope=col>cyl</th><th scope=col>dupe_count</th><th scope=col>mpg</th><th scope=col>disp</th><th scope=col>hp</th><th scope=col>drat</th><th scope=col>qsec</th><th scope=col>vs</th><th scope=col>am</th><th scope=col>gear</th><th scope=col>carb</th></tr>\n",
       "\t<tr><th scope=col>&lt;dbl&gt;</th><th scope=col>&lt;dbl&gt;</th><th scope=col>&lt;int&gt;</th><th scope=col>&lt;dbl&gt;</th><th scope=col>&lt;dbl&gt;</th><th scope=col>&lt;dbl&gt;</th><th scope=col>&lt;dbl&gt;</th><th scope=col>&lt;dbl&gt;</th><th scope=col>&lt;dbl&gt;</th><th scope=col>&lt;dbl&gt;</th><th scope=col>&lt;dbl&gt;</th><th scope=col>&lt;dbl&gt;</th></tr>\n",
       "</thead>\n",
       "<tbody>\n",
       "\t<tr><td>3.44</td><td>6</td><td>2</td><td>19.2</td><td>167.6</td><td>123</td><td>3.92</td><td>18.30</td><td>1</td><td>0</td><td>4</td><td>4</td></tr>\n",
       "\t<tr><td>3.44</td><td>6</td><td>2</td><td>17.8</td><td>167.6</td><td>123</td><td>3.92</td><td>18.90</td><td>1</td><td>0</td><td>4</td><td>4</td></tr>\n",
       "\t<tr><td>3.57</td><td>8</td><td>2</td><td>14.3</td><td>360.0</td><td>245</td><td>3.21</td><td>15.84</td><td>0</td><td>0</td><td>3</td><td>4</td></tr>\n",
       "\t<tr><td>3.57</td><td>8</td><td>2</td><td>15.0</td><td>301.0</td><td>335</td><td>3.54</td><td>14.60</td><td>0</td><td>1</td><td>5</td><td>8</td></tr>\n",
       "</tbody>\n",
       "</table>\n"
      ],
      "text/latex": [
       "A data.frame: 4 x 12\n",
       "\\begin{tabular}{llllllllllll}\n",
       " wt & cyl & dupe\\_count & mpg & disp & hp & drat & qsec & vs & am & gear & carb\\\\\n",
       " <dbl> & <dbl> & <int> & <dbl> & <dbl> & <dbl> & <dbl> & <dbl> & <dbl> & <dbl> & <dbl> & <dbl>\\\\\n",
       "\\hline\n",
       "\t 3.44 & 6 & 2 & 19.2 & 167.6 & 123 & 3.92 & 18.30 & 1 & 0 & 4 & 4\\\\\n",
       "\t 3.44 & 6 & 2 & 17.8 & 167.6 & 123 & 3.92 & 18.90 & 1 & 0 & 4 & 4\\\\\n",
       "\t 3.57 & 8 & 2 & 14.3 & 360.0 & 245 & 3.21 & 15.84 & 0 & 0 & 3 & 4\\\\\n",
       "\t 3.57 & 8 & 2 & 15.0 & 301.0 & 335 & 3.54 & 14.60 & 0 & 1 & 5 & 8\\\\\n",
       "\\end{tabular}\n"
      ],
      "text/markdown": [
       "\n",
       "A data.frame: 4 x 12\n",
       "\n",
       "| wt &lt;dbl&gt; | cyl &lt;dbl&gt; | dupe_count &lt;int&gt; | mpg &lt;dbl&gt; | disp &lt;dbl&gt; | hp &lt;dbl&gt; | drat &lt;dbl&gt; | qsec &lt;dbl&gt; | vs &lt;dbl&gt; | am &lt;dbl&gt; | gear &lt;dbl&gt; | carb &lt;dbl&gt; |\n",
       "|---|---|---|---|---|---|---|---|---|---|---|---|\n",
       "| 3.44 | 6 | 2 | 19.2 | 167.6 | 123 | 3.92 | 18.30 | 1 | 0 | 4 | 4 |\n",
       "| 3.44 | 6 | 2 | 17.8 | 167.6 | 123 | 3.92 | 18.90 | 1 | 0 | 4 | 4 |\n",
       "| 3.57 | 8 | 2 | 14.3 | 360.0 | 245 | 3.21 | 15.84 | 0 | 0 | 3 | 4 |\n",
       "| 3.57 | 8 | 2 | 15.0 | 301.0 | 335 | 3.54 | 14.60 | 0 | 1 | 5 | 8 |\n",
       "\n"
      ],
      "text/plain": [
       "  wt   cyl dupe_count mpg  disp  hp  drat qsec  vs am gear carb\n",
       "1 3.44 6   2          19.2 167.6 123 3.92 18.30 1  0  4    4   \n",
       "2 3.44 6   2          17.8 167.6 123 3.92 18.90 1  0  4    4   \n",
       "3 3.57 8   2          14.3 360.0 245 3.21 15.84 0  0  3    4   \n",
       "4 3.57 8   2          15.0 301.0 335 3.54 14.60 0  1  5    8   "
      ]
     },
     "metadata": {},
     "output_type": "display_data"
    }
   ],
   "source": [
    "get_dupes(mtcars, wt, cyl) # or mtcars %>% get_dupes(wt, cyl) if you prefer to pipe\n",
    "#>     wt cyl dupe_count  mpg  disp  hp drat  qsec vs am gear carb\n",
    "#> 1 3.44   6          2 19.2 167.6 123 3.92 18.30  1  0    4    4\n",
    "#> 2 3.44   6          2 17.8 167.6 123 3.92 18.90  1  0    4    4\n",
    "#> 3 3.57   8          2 14.3 360.0 245 3.21 15.84  0  0    3    4\n",
    "#> 4 3.57   8          2 15.0 301.0 335 3.54 14.60  0  1    5    8"
   ]
  },
  {
   "cell_type": "markdown",
   "id": "34925189",
   "metadata": {},
   "source": [
    "## get_one_to_one()"
   ]
  },
  {
   "cell_type": "code",
   "execution_count": 11,
   "id": "5275301f",
   "metadata": {
    "vscode": {
     "languageId": "r"
    }
   },
   "outputs": [
    {
     "data": {
      "text/html": [
       "<ol>\n",
       "\t<li><style>\n",
       ".list-inline {list-style: none; margin:0; padding: 0}\n",
       ".list-inline>li {display: inline-block}\n",
       ".list-inline>li:not(:last-child)::after {content: \"\\00b7\"; padding: 0 .5ex}\n",
       "</style>\n",
       "<ol class=list-inline><li>'name'</li><li>'height'</li><li>'mass'</li><li>'skin_color'</li><li>'birth_year'</li><li>'films'</li></ol>\n",
       "</li>\n",
       "\t<li><style>\n",
       ".list-inline {list-style: none; margin:0; padding: 0}\n",
       ".list-inline>li {display: inline-block}\n",
       ".list-inline>li:not(:last-child)::after {content: \"\\00b7\"; padding: 0 .5ex}\n",
       "</style>\n",
       "<ol class=list-inline><li>'hair_color'</li><li>'starships'</li></ol>\n",
       "</li>\n",
       "\t<li><style>\n",
       ".list-inline {list-style: none; margin:0; padding: 0}\n",
       ".list-inline>li {display: inline-block}\n",
       ".list-inline>li:not(:last-child)::after {content: \"\\00b7\"; padding: 0 .5ex}\n",
       "</style>\n",
       "<ol class=list-inline><li>'sex'</li><li>'species'</li></ol>\n",
       "</li>\n",
       "</ol>\n"
      ],
      "text/latex": [
       "\\begin{enumerate}\n",
       "\\item \\begin{enumerate*}\n",
       "\\item 'name'\n",
       "\\item 'height'\n",
       "\\item 'mass'\n",
       "\\item 'skin\\_color'\n",
       "\\item 'birth\\_year'\n",
       "\\item 'films'\n",
       "\\end{enumerate*}\n",
       "\n",
       "\\item \\begin{enumerate*}\n",
       "\\item 'hair\\_color'\n",
       "\\item 'starships'\n",
       "\\end{enumerate*}\n",
       "\n",
       "\\item \\begin{enumerate*}\n",
       "\\item 'sex'\n",
       "\\item 'species'\n",
       "\\end{enumerate*}\n",
       "\n",
       "\\end{enumerate}\n"
      ],
      "text/markdown": [
       "1. 1. 'name'\n",
       "2. 'height'\n",
       "3. 'mass'\n",
       "4. 'skin_color'\n",
       "5. 'birth_year'\n",
       "6. 'films'\n",
       "\n",
       "\n",
       "\n",
       "2. 1. 'hair_color'\n",
       "2. 'starships'\n",
       "\n",
       "\n",
       "\n",
       "3. 1. 'sex'\n",
       "2. 'species'\n",
       "\n",
       "\n",
       "\n",
       "\n",
       "\n"
      ],
      "text/plain": [
       "[[1]]\n",
       "[1] \"name\"       \"height\"     \"mass\"       \"skin_color\" \"birth_year\"\n",
       "[6] \"films\"     \n",
       "\n",
       "[[2]]\n",
       "[1] \"hair_color\" \"starships\" \n",
       "\n",
       "[[3]]\n",
       "[1] \"sex\"     \"species\"\n"
      ]
     },
     "metadata": {},
     "output_type": "display_data"
    }
   ],
   "source": [
    "library(dplyr)\n",
    "starwars[1:4,] %>%\n",
    "  get_one_to_one()\n",
    "#> [[1]]\n",
    "#> [1] \"name\"       \"height\"     \"mass\"       \"skin_color\" \"birth_year\"\n",
    "#> [6] \"films\"     \n",
    "#> \n",
    "#> [[2]]\n",
    "#> [1] \"hair_color\" \"starships\" \n",
    "#> \n",
    "#> [[3]]\n",
    "#> [1] \"sex\"     \"species\""
   ]
  },
  {
   "cell_type": "code",
   "execution_count": 17,
   "id": "14e34c41",
   "metadata": {
    "vscode": {
     "languageId": "r"
    }
   },
   "outputs": [
    {
     "data": {
      "text/html": [
       "<style>\n",
       ".list-inline {list-style: none; margin:0; padding: 0}\n",
       ".list-inline>li {display: inline-block}\n",
       ".list-inline>li:not(:last-child)::after {content: \"\\00b7\"; padding: 0 .5ex}\n",
       "</style>\n",
       "<ol class=list-inline><li>'first_name'</li><li>'age_years'</li><li>'income_percent'</li><li>'country_number'</li><li>'na_u_00ef_ve'</li></ol>\n"
      ],
      "text/latex": [
       "\\begin{enumerate*}\n",
       "\\item 'first\\_name'\n",
       "\\item 'age\\_years'\n",
       "\\item 'income\\_percent'\n",
       "\\item 'country\\_number'\n",
       "\\item 'na\\_u\\_00ef\\_ve'\n",
       "\\end{enumerate*}\n"
      ],
      "text/markdown": [
       "1. 'first_name'\n",
       "2. 'age_years'\n",
       "3. 'income_percent'\n",
       "4. 'country_number'\n",
       "5. 'na_u_00ef_ve'\n",
       "\n",
       "\n"
      ],
      "text/plain": [
       "[1] \"first_name\"     \"age_years\"      \"income_percent\" \"country_number\"\n",
       "[5] \"na_u_00ef_ve\"  "
      ]
     },
     "metadata": {},
     "output_type": "display_data"
    }
   ],
   "source": [
    "make_clean_names(c(\"First Name\", \"Age (Years)\", \"Income%\", \"Country#\", \"naïve\"))"
   ]
  }
 ],
 "metadata": {
  "kernelspec": {
   "display_name": "R",
   "language": "R",
   "name": "ir"
  },
  "language_info": {
   "codemirror_mode": "r",
   "file_extension": ".r",
   "mimetype": "text/x-r-source",
   "name": "R",
   "pygments_lexer": "r",
   "version": "4.4.2"
  }
 },
 "nbformat": 4,
 "nbformat_minor": 5
}

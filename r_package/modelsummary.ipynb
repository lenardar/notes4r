{
 "cells": [
  {
   "cell_type": "markdown",
   "id": "b07636e6",
   "metadata": {},
   "source": [
    "学习R语言{modelsummary}包"
   ]
  },
  {
   "cell_type": "markdown",
   "id": "d356e902",
   "metadata": {},
   "source": [
    "# 快速入门\n",
    "\n",
    "导入数据："
   ]
  },
  {
   "cell_type": "code",
   "execution_count": 1,
   "id": "f73ae108",
   "metadata": {
    "vscode": {
     "languageId": "r"
    }
   },
   "outputs": [],
   "source": [
    "library(modelsummary)\n",
    "library(tinytable)\n",
    "\n",
    "url <- 'https://vincentarelbundock.github.io/Rdatasets/csv/HistData/Guerry.csv'\n",
    "dat <- read.csv(url) \n",
    "dat$Small <- dat$Pop1831 > median(dat$Pop1831)\n",
    "dat <- dat[, \n",
    "  c(\"Donations\", \"Literacy\", \"Commerce\", \"Crime_pers\", \"Crime_prop\", \"Clergy\", \"Small\")\n",
    "]"
   ]
  },
  {
   "cell_type": "code",
   "execution_count": 3,
   "id": "3fe61967",
   "metadata": {
    "vscode": {
     "languageId": "r"
    }
   },
   "outputs": [
    {
     "name": "stdout",
     "output_type": "stream",
     "text": [
      "-- Data Summary ------------------------\n",
      "                           Values\n",
      "Name                       dat   \n",
      "Number of rows             86    \n",
      "Number of columns          7     \n",
      "_______________________          \n",
      "Column type frequency:           \n",
      "  logical                  1     \n",
      "  numeric                  6     \n",
      "________________________         \n",
      "Group variables            None  \n",
      "\n",
      "-- Variable type: logical ------------------------------------------------------\n",
      "  skim_variable n_missing complete_rate mean count           \n",
      "\u001b[90m1\u001b[39m Small                 0             1  0.5 FAL: 43, TRU: 43\n",
      "\n",
      "-- Variable type: numeric ------------------------------------------------------\n",
      "  skim_variable n_missing complete_rate    mean     sd   p0     p25     p50\n",
      "\u001b[90m1\u001b[39m Donations             0             1  \u001b[4m7\u001b[24m076.  \u001b[4m5\u001b[24m835.  \u001b[4m1\u001b[24m246  \u001b[4m3\u001b[24m447.   \u001b[4m5\u001b[24m020  \n",
      "\u001b[90m2\u001b[39m Literacy              0             1    39.3   17.4   12    25      38  \n",
      "\u001b[90m3\u001b[39m Commerce              0             1    42.8   25.0    1    21.2    42.5\n",
      "\u001b[90m4\u001b[39m Crime_pers            0             1 \u001b[4m1\u001b[24m\u001b[4m9\u001b[24m754.  \u001b[4m7\u001b[24m505.  \u001b[4m2\u001b[24m199 \u001b[4m1\u001b[24m\u001b[4m4\u001b[24m156.  \u001b[4m1\u001b[24m\u001b[4m8\u001b[24m748. \n",
      "\u001b[90m5\u001b[39m Crime_prop            0             1  \u001b[4m7\u001b[24m843.  \u001b[4m3\u001b[24m051.  \u001b[4m1\u001b[24m368  \u001b[4m5\u001b[24m933    \u001b[4m7\u001b[24m595  \n",
      "\u001b[90m6\u001b[39m Clergy                0             1    43.4   25.0    1    22.2    43.5\n",
      "      p75  p100 hist                            \n",
      "\u001b[90m1\u001b[39m  \u001b[4m9\u001b[24m447.  \u001b[4m3\u001b[24m\u001b[4m7\u001b[24m015 \u001b[90m\"\u001b[39m\\u2587\\u2583\\u2581\\u2581\\u2581\u001b[90m\"\u001b[39m\n",
      "\u001b[90m2\u001b[39m    51.8    74 \u001b[90m\"\u001b[39m\\u2587\\u2587\\u2587\\u2585\\u2585\u001b[90m\"\u001b[39m\n",
      "\u001b[90m3\u001b[39m    63.8    86 \u001b[90m\"\u001b[39m\\u2587\\u2587\\u2587\\u2587\\u2587\u001b[90m\"\u001b[39m\n",
      "\u001b[90m4\u001b[39m \u001b[4m2\u001b[24m\u001b[4m5\u001b[24m938.  \u001b[4m3\u001b[24m\u001b[4m7\u001b[24m014 \u001b[90m\"\u001b[39m\\u2582\\u2586\\u2587\\u2586\\u2582\u001b[90m\"\u001b[39m\n",
      "\u001b[90m5\u001b[39m  \u001b[4m9\u001b[24m182.  \u001b[4m2\u001b[24m\u001b[4m0\u001b[24m235 \u001b[90m\"\u001b[39m\\u2583\\u2587\\u2583\\u2581\\u2581\u001b[90m\"\u001b[39m\n",
      "\u001b[90m6\u001b[39m    64.8    86 \u001b[90m\"\u001b[39m\\u2587\\u2587\\u2587\\u2587\\u2587\u001b[90m\"\u001b[39m\n"
     ]
    },
    {
     "ename": "ERROR",
     "evalue": "Error in is.null(text_repr) || nchar(text_repr) == 0L: 'length = 14' in coercion to 'logical(1)'\n",
     "output_type": "error",
     "traceback": [
      "Error in is.null(text_repr) || nchar(text_repr) == 0L: 'length = 14' in coercion to 'logical(1)'\nTraceback:\n",
      "1. prepare_mimebundle_kernel(obj, .self$handle_display_error)",
      "2. .handleSimpleError(function (cnd) \n . {\n .     watcher$capture_plot_and_output()\n .     cnd <- sanitize_call(cnd)\n .     watcher$push(cnd)\n .     switch(on_error, continue = invokeRestart(\"eval_continue\"), \n .         stop = invokeRestart(\"eval_stop\"), error = NULL)\n . }, \"'length = 14' in coercion to 'logical(1)'\", base::quote(is.null(text_repr) || \n .     nchar(text_repr) == 0L))"
     ]
    }
   ],
   "source": [
    "library(skimr)\n",
    "skim(dat)"
   ]
  },
  {
   "cell_type": "markdown",
   "id": "ff36d2b6",
   "metadata": {},
   "source": [
    "## 数据摘要"
   ]
  },
  {
   "cell_type": "code",
   "execution_count": 5,
   "id": "7a407a43",
   "metadata": {
    "vscode": {
     "languageId": "r"
    }
   },
   "outputs": [
    {
     "data": {
      "text/plain": [
       "\n",
       "+------------+--------+--------------+---------+--------+--------+---------+---------+---------------------------------------------------------------+\n",
       "|            | Unique | Missing Pct. | Mean    | SD     | Min    | Median  | Max     | Histogram                                                     |\n",
       "+============+========+==============+=========+========+========+=========+=========+===============================================================+\n",
       "| Donations  | 85     | 0            | 7075.5  | 5834.6 | 1246.0 | 5020.0  | 37015.0 | ![](tinytable_assets/idghbf4asel2al3pkfp2az.png){ height=16 } |\n",
       "+------------+--------+--------------+---------+--------+--------+---------+---------+---------------------------------------------------------------+\n",
       "| Literacy   | 50     | 0            | 39.3    | 17.4   | 12.0   | 38.0    | 74.0    | ![](tinytable_assets/id6s9fdt5zvqqrde28pnao.png){ height=16 } |\n",
       "+------------+--------+--------------+---------+--------+--------+---------+---------+---------------------------------------------------------------+\n",
       "| Commerce   | 84     | 0            | 42.8    | 25.0   | 1.0    | 42.5    | 86.0    | ![](tinytable_assets/ids49rkych6cdftlk7fjzu.png){ height=16 } |\n",
       "+------------+--------+--------------+---------+--------+--------+---------+---------+---------------------------------------------------------------+\n",
       "| Crime_pers | 85     | 0            | 19754.4 | 7504.7 | 2199.0 | 18748.5 | 37014.0 | ![](tinytable_assets/idc5xs93cilhwru67d8va0.png){ height=16 } |\n",
       "+------------+--------+--------------+---------+--------+--------+---------+---------+---------------------------------------------------------------+\n",
       "| Crime_prop | 86     | 0            | 7843.1  | 3051.4 | 1368.0 | 7595.0  | 20235.0 | ![](tinytable_assets/id30mrkqhhiz7myf1kfs5e.png){ height=16 } |\n",
       "+------------+--------+--------------+---------+--------+--------+---------+---------+---------------------------------------------------------------+\n",
       "| Clergy     | 85     | 0            | 43.4    | 25.0   | 1.0    | 43.5    | 86.0    | ![](tinytable_assets/idub8vu3k9bx8qicgwy5hf.png){ height=16 } |\n",
       "+------------+--------+--------------+---------+--------+--------+---------+---------+---------------------------------------------------------------+\n",
       "| Small      | N      | %            |         |        |        |         |         |                                                               |\n",
       "+------------+--------+--------------+---------+--------+--------+---------+---------+---------------------------------------------------------------+\n",
       "| FALSE      | 43     | 50.0         |         |        |        |         |         |                                                               |\n",
       "+------------+--------+--------------+---------+--------+--------+---------+---------+---------------------------------------------------------------+\n",
       "| TRUE       | 43     | 50.0         |         |        |        |         |         |                                                               |\n",
       "+------------+--------+--------------+---------+--------+--------+---------+---------+---------------------------------------------------------------+ "
      ]
     },
     "metadata": {},
     "output_type": "display_data"
    }
   ],
   "source": [
    "datasummary_skim(dat)\n",
    "\n",
    "# +------------+--------+--------------+---------+--------+--------+---------+---------+---------------------------------------------------------------+\n",
    "# |            | Unique | Missing Pct. | Mean    | SD     | Min    | Median  | Max     | Histogram                                                     |\n",
    "# +============+========+==============+=========+========+========+=========+=========+===============================================================+\n",
    "# | Donations  | 85     | 0            | 7075.5  | 5834.6 | 1246.0 | 5020.0  | 37015.0 | ![](tinytable_assets/idghbf4asel2al3pkfp2az.png){ height=16 } |\n",
    "# +------------+--------+--------------+---------+--------+--------+---------+---------+---------------------------------------------------------------+\n",
    "# | Literacy   | 50     | 0            | 39.3    | 17.4   | 12.0   | 38.0    | 74.0    | ![](tinytable_assets/id6s9fdt5zvqqrde28pnao.png){ height=16 } |\n",
    "# +------------+--------+--------------+---------+--------+--------+---------+---------+---------------------------------------------------------------+\n",
    "# | Commerce   | 84     | 0            | 42.8    | 25.0   | 1.0    | 42.5    | 86.0    | ![](tinytable_assets/ids49rkych6cdftlk7fjzu.png){ height=16 } |\n",
    "# +------------+--------+--------------+---------+--------+--------+---------+---------+---------------------------------------------------------------+\n",
    "# | Crime_pers | 85     | 0            | 19754.4 | 7504.7 | 2199.0 | 18748.5 | 37014.0 | ![](tinytable_assets/idc5xs93cilhwru67d8va0.png){ height=16 } |\n",
    "# +------------+--------+--------------+---------+--------+--------+---------+---------+---------------------------------------------------------------+\n",
    "# | Crime_prop | 86     | 0            | 7843.1  | 3051.4 | 1368.0 | 7595.0  | 20235.0 | ![](tinytable_assets/id30mrkqhhiz7myf1kfs5e.png){ height=16 } |\n",
    "# +------------+--------+--------------+---------+--------+--------+---------+---------+---------------------------------------------------------------+\n",
    "# | Clergy     | 85     | 0            | 43.4    | 25.0   | 1.0    | 43.5    | 86.0    | ![](tinytable_assets/idub8vu3k9bx8qicgwy5hf.png){ height=16 } |\n",
    "# +------------+--------+--------------+---------+--------+--------+---------+---------+---------------------------------------------------------------+\n",
    "# | Small      | N      | %            |         |        |        |         |         |                                                               |\n",
    "# +------------+--------+--------------+---------+--------+--------+---------+---------+---------------------------------------------------------------+\n",
    "# | FALSE      | 43     | 50.0         |         |        |        |         |         |                                                               |\n",
    "# +------------+--------+--------------+---------+--------+--------+---------+---------+---------------------------------------------------------------+\n",
    "# | TRUE       | 43     | 50.0         |         |        |        |         |         |                                                               |\n",
    "# +------------+--------+--------------+---------+--------+--------+---------+---------+---------------------------------------------------------------+"
   ]
  },
  {
   "cell_type": "code",
   "execution_count": null,
   "id": "993344b0",
   "metadata": {
    "vscode": {
     "languageId": "r"
    }
   },
   "outputs": [
    {
     "data": {
      "text/plain": [
       "+------------+---------+-----------+---------+-----------+----------------+------------+\n",
       "|            | FALSE (N=43)        | TRUE (N=43)         |                             |\n",
       "+------------+---------+-----------+---------+-----------+----------------+------------+\n",
       "|            | Mean    | Std. Dev. | Mean    | Std. Dev. | Diff. in Means | Std. Error |\n",
       "+============+=========+===========+=========+===========+================+============+\n",
       "| Donations  | 7258.5  | 6194.1    | 6892.6  | 5519.0    | -365.9         | 1265.2     |\n",
       "+------------+---------+-----------+---------+-----------+----------------+------------+\n",
       "| Literacy   | 37.9    | 19.1      | 40.6    | 15.6      | 2.7            | 3.8        |\n",
       "+------------+---------+-----------+---------+-----------+----------------+------------+\n",
       "| Commerce   | 42.7    | 24.6      | 43.0    | 25.7      | 0.3            | 5.4        |\n",
       "+------------+---------+-----------+---------+-----------+----------------+------------+\n",
       "| Crime_pers | 18040.6 | 7638.4    | 21468.2 | 7044.3    | 3427.7         | 1584.6     |\n",
       "+------------+---------+-----------+---------+-----------+----------------+------------+\n",
       "| Crime_prop | 8422.5  | 3406.7    | 7263.7  | 2559.3    | -1158.8        | 649.8      |\n",
       "+------------+---------+-----------+---------+-----------+----------------+------------+\n",
       "| Clergy     | 39.1    | 26.7      | 47.7    | 22.7      | 8.6            | 5.3        |\n",
       "+------------+---------+-----------+---------+-----------+----------------+------------+ "
      ]
     },
     "metadata": {},
     "output_type": "display_data"
    }
   ],
   "source": [
    "datasummary_balance(~Small, dat)\n",
    "\n",
    "# +------------+---------+-----------+---------+-----------+----------------+------------+\n",
    "# |            | FALSE (N=43)        | TRUE (N=43)         |                             |\n",
    "# +------------+---------+-----------+---------+-----------+----------------+------------+\n",
    "# |            | Mean    | Std. Dev. | Mean    | Std. Dev. | Diff. in Means | Std. Error |\n",
    "# +============+=========+===========+=========+===========+================+============+\n",
    "# | Donations  | 7258.5  | 6194.1    | 6892.6  | 5519.0    | -365.9         | 1265.2     |\n",
    "# +------------+---------+-----------+---------+-----------+----------------+------------+\n",
    "# | Literacy   | 37.9    | 19.1      | 40.6    | 15.6      | 2.7            | 3.8        |\n",
    "# +------------+---------+-----------+---------+-----------+----------------+------------+\n",
    "# | Commerce   | 42.7    | 24.6      | 43.0    | 25.7      | 0.3            | 5.4        |\n",
    "# +------------+---------+-----------+---------+-----------+----------------+------------+\n",
    "# | Crime_pers | 18040.6 | 7638.4    | 21468.2 | 7044.3    | 3427.7         | 1584.6     |\n",
    "# +------------+---------+-----------+---------+-----------+----------------+------------+\n",
    "# | Crime_prop | 8422.5  | 3406.7    | 7263.7  | 2559.3    | -1158.8        | 649.8      |\n",
    "# +------------+---------+-----------+---------+-----------+----------------+------------+\n",
    "# | Clergy     | 39.1    | 26.7      | 47.7    | 22.7      | 8.6            | 5.3        |\n",
    "# +------------+---------+-----------+---------+-----------+----------------+------------+"
   ]
  },
  {
   "cell_type": "code",
   "execution_count": null,
   "id": "c4589ab0",
   "metadata": {
    "vscode": {
     "languageId": "r"
    }
   },
   "outputs": [
    {
     "data": {
      "text/plain": [
       "\n",
       "+------------+-----------+----------+----------+------------+------------+--------+\n",
       "|            | Donations | Literacy | Commerce | Crime_pers | Crime_prop | Clergy |\n",
       "+============+===========+==========+==========+============+============+========+\n",
       "| Donations  | 1         | .        | .        | .          | .          | .      |\n",
       "+------------+-----------+----------+----------+------------+------------+--------+\n",
       "| Literacy   | -.13      | 1        | .        | .          | .          | .      |\n",
       "+------------+-----------+----------+----------+------------+------------+--------+\n",
       "| Commerce   | .30       | -.58     | 1        | .          | .          | .      |\n",
       "+------------+-----------+----------+----------+------------+------------+--------+\n",
       "| Crime_pers | -.04      | -.04     | .05      | 1          | .          | .      |\n",
       "+------------+-----------+----------+----------+------------+------------+--------+\n",
       "| Crime_prop | -.13      | -.37     | .41      | .27        | 1          | .      |\n",
       "+------------+-----------+----------+----------+------------+------------+--------+\n",
       "| Clergy     | .09       | -.17     | -.12     | .26        | -.07       | 1      |\n",
       "+------------+-----------+----------+----------+------------+------------+--------+ "
      ]
     },
     "metadata": {},
     "output_type": "display_data"
    }
   ],
   "source": [
    "datasummary_correlation(dat)\n",
    "\n",
    "# +------------+-----------+----------+----------+------------+------------+--------+\n",
    "# |            | Donations | Literacy | Commerce | Crime_pers | Crime_prop | Clergy |\n",
    "# +============+===========+==========+==========+============+============+========+\n",
    "# | Donations  | 1         | .        | .        | .          | .          | .      |\n",
    "# +------------+-----------+----------+----------+------------+------------+--------+\n",
    "# | Literacy   | -.13      | 1        | .        | .          | .          | .      |\n",
    "# +------------+-----------+----------+----------+------------+------------+--------+\n",
    "# | Commerce   | .30       | -.58     | 1        | .          | .          | .      |\n",
    "# +------------+-----------+----------+----------+------------+------------+--------+\n",
    "# | Crime_pers | -.04      | -.04     | .05      | 1          | .          | .      |\n",
    "# +------------+-----------+----------+----------+------------+------------+--------+\n",
    "# | Crime_prop | -.13      | -.37     | .41      | .27        | 1          | .      |\n",
    "# +------------+-----------+----------+----------+------------+------------+--------+\n",
    "# | Clergy     | .09       | -.17     | -.12     | .26        | -.07       | 1      |\n",
    "# +------------+-----------+----------+----------+------------+------------+--------+"
   ]
  },
  {
   "cell_type": "code",
   "execution_count": null,
   "id": "9d92156c",
   "metadata": {
    "vscode": {
     "languageId": "r"
    }
   },
   "outputs": [
    {
     "data": {
      "text/plain": [
       "+----------+-------+-------+-------+-------+\n",
       "|          | FALSE         | TRUE          |\n",
       "+----------+-------+-------+-------+-------+\n",
       "|          | mean  | sd    | mean  | sd    |\n",
       "+==========+=======+=======+=======+=======+\n",
       "| Literacy | 37.88 | 19.08 | 40.63 | 15.57 |\n",
       "+----------+-------+-------+-------+-------+\n",
       "| Commerce | 42.65 | 24.59 | 42.95 | 25.75 |\n",
       "+----------+-------+-------+-------+-------+ "
      ]
     },
     "metadata": {},
     "output_type": "display_data"
    }
   ],
   "source": [
    "datasummary(Literacy + Commerce ~ Small * (mean + sd), dat)\n",
    "\n",
    "# +----------+-------+-------+-------+-------+\n",
    "# |          | FALSE         | TRUE          |\n",
    "# +----------+-------+-------+-------+-------+\n",
    "# |          | mean  | sd    | mean  | sd    |\n",
    "# +==========+=======+=======+=======+=======+\n",
    "# | Literacy | 37.88 | 19.08 | 40.63 | 15.57 |\n",
    "# +----------+-------+-------+-------+-------+\n",
    "# | Commerce | 42.65 | 24.59 | 42.95 | 25.75 |\n",
    "# +----------+-------+-------+-------+-------+"
   ]
  },
  {
   "cell_type": "markdown",
   "id": "de60c10c",
   "metadata": {},
   "source": [
    "## 模型摘要"
   ]
  },
  {
   "cell_type": "code",
   "execution_count": 4,
   "id": "6940c2f2",
   "metadata": {
    "vscode": {
     "languageId": "r"
    }
   },
   "outputs": [
    {
     "data": {
      "text/plain": [
       "\n",
       "+-------------+------------+\n",
       "|             | (1)        |\n",
       "+=============+============+\n",
       "| (Intercept) | 9065.287   |\n",
       "+-------------+------------+\n",
       "|             | (1738.926) |\n",
       "+-------------+------------+\n",
       "| Crime_prop  | -0.254     |\n",
       "+-------------+------------+\n",
       "|             | (0.207)    |\n",
       "+-------------+------------+\n",
       "| Num.Obs.    | 86         |\n",
       "+-------------+------------+\n",
       "| R2          | 0.018      |\n",
       "+-------------+------------+\n",
       "| R2 Adj.     | 0.006      |\n",
       "+-------------+------------+\n",
       "| AIC         | 1739.0     |\n",
       "+-------------+------------+\n",
       "| BIC         | 1746.4     |\n",
       "+-------------+------------+\n",
       "| Log.Lik.    | -866.516   |\n",
       "+-------------+------------+\n",
       "| F           | 1.505      |\n",
       "+-------------+------------+\n",
       "| RMSE        | 5749.29    |\n",
       "+-------------+------------+ "
      ]
     },
     "metadata": {},
     "output_type": "display_data"
    }
   ],
   "source": [
    "mod <- lm(Donations ~ Crime_prop, data = dat)\n",
    "\n",
    "modelsummary(mod)\n",
    "\n",
    "# +-------------+------------+\n",
    "# |             | (1)        |\n",
    "# +=============+============+\n",
    "# | (Intercept) | 9065.287   |\n",
    "# +-------------+------------+\n",
    "# |             | (1738.926) |\n",
    "# +-------------+------------+\n",
    "# | Crime_prop  | -0.254     |\n",
    "# +-------------+------------+\n",
    "# |             | (0.207)    |\n",
    "# +-------------+------------+\n",
    "# | Num.Obs.    | 86         |\n",
    "# +-------------+------------+\n",
    "# | R2          | 0.018      |\n",
    "# +-------------+------------+\n",
    "# | R2 Adj.     | 0.006      |\n",
    "# +-------------+------------+\n",
    "# | AIC         | 1739.0     |\n",
    "# +-------------+------------+\n",
    "# | BIC         | 1746.4     |\n",
    "# +-------------+------------+\n",
    "# | Log.Lik.    | -866.516   |\n",
    "# +-------------+------------+\n",
    "# | F           | 1.505      |\n",
    "# +-------------+------------+\n",
    "# | RMSE        | 5749.29    |\n",
    "# +-------------+------------+"
   ]
  },
  {
   "cell_type": "code",
   "execution_count": 5,
   "id": "9fba62f7",
   "metadata": {
    "vscode": {
     "languageId": "r"
    }
   },
   "outputs": [
    {
     "data": {
      "text/plain": [
       "+-------------+-------------+--------------+--------------+-----------+----------+\n",
       "|             | Linear                                    | Poisson              |\n",
       "+-------------+-------------+--------------+--------------+-----------+----------+\n",
       "|             | I           | II           | III          | IV        | V        |\n",
       "+=============+=============+==============+==============+===========+==========+\n",
       "| (Intercept) | 7948.667*** | 16259.384*** | 11243.544*** | 9.876***  | 8.241*** |\n",
       "+-------------+-------------+--------------+--------------+-----------+----------+\n",
       "|             | (2078.276)  | (2611.140)   | (1011.240)   | (0.003)   | (0.006)  |\n",
       "+-------------+-------------+--------------+--------------+-----------+----------+\n",
       "| Literacy    | -39.121     | 3.680        | -68.507***   | -0.000*** | 0.003*** |\n",
       "+-------------+-------------+--------------+--------------+-----------+----------+\n",
       "|             | (37.052)    | (46.552)     | (18.029)     | (0.000)   | (0.000)  |\n",
       "+-------------+-------------+--------------+--------------+-----------+----------+\n",
       "| Clergy      | 15.257      | 77.148*      | -16.376      |           |          |\n",
       "+-------------+-------------+--------------+--------------+-----------+----------+\n",
       "|             | (25.735)    | (32.334)     | (12.522)     |           |          |\n",
       "+-------------+-------------+--------------+--------------+-----------+----------+\n",
       "| Commerce    |             |              |              | 0.001***  | 0.011*** |\n",
       "+-------------+-------------+--------------+--------------+-----------+----------+\n",
       "|             |             |              |              | (0.000)   | (0.000)  |\n",
       "+-------------+-------------+--------------+--------------+-----------+----------+\n",
       "| Num.Obs.    | 86          | 86           | 86           | 86        | 86       |\n",
       "+-------------+-------------+--------------+--------------+-----------+----------+\n",
       "| R2          | 0.020       | 0.065        | 0.152        |           |          |\n",
       "+=============+=============+==============+==============+===========+==========+\n",
       "| + p < 0.1, * p < 0.05, ** p < 0.01, *** p < 0.001                              |\n",
       "+=============+=============+==============+==============+===========+==========+ "
      ]
     },
     "metadata": {},
     "output_type": "display_data"
    }
   ],
   "source": [
    "library(tinytable)\n",
    "\n",
    "models <- list(\n",
    "    \"I\" = lm(Donations ~ Literacy + Clergy, data = dat),\n",
    "    \"II\" = lm(Crime_pers ~ Literacy + Clergy, data = dat),\n",
    "    \"III\" = lm(Crime_prop ~ Literacy + Clergy, data = dat),\n",
    "    \"IV\" = glm(Crime_pers ~ Literacy + Commerce, family = poisson, data = dat),\n",
    "    \"V\" = glm(Donations ~ Literacy + Commerce, family = poisson, data = dat)\n",
    ")\n",
    "\n",
    "modelsummary(models, stars = TRUE, gof_omit = \"IC|Adj|F|RMSE|Log\") |>\n",
    "    group_tt(j = list(\"Linear\" = 2:4, \"Poisson\" = 5:6))\n",
    "\n",
    "# +-------------+-------------+--------------+--------------+-----------+----------+\n",
    "# |             | Linear                                    | Poisson              |\n",
    "# +-------------+-------------+--------------+--------------+-----------+----------+\n",
    "# |             | I           | II           | III          | IV        | V        |\n",
    "# +=============+=============+==============+==============+===========+==========+\n",
    "# | (Intercept) | 7948.667*** | 16259.384*** | 11243.544*** | 9.876***  | 8.241*** |\n",
    "# +-------------+-------------+--------------+--------------+-----------+----------+\n",
    "# |             | (2078.276)  | (2611.140)   | (1011.240)   | (0.003)   | (0.006)  |\n",
    "# +-------------+-------------+--------------+--------------+-----------+----------+\n",
    "# | Literacy    | -39.121     | 3.680        | -68.507***   | -0.000*** | 0.003*** |\n",
    "# +-------------+-------------+--------------+--------------+-----------+----------+\n",
    "# |             | (37.052)    | (46.552)     | (18.029)     | (0.000)   | (0.000)  |\n",
    "# +-------------+-------------+--------------+--------------+-----------+----------+\n",
    "# | Clergy      | 15.257      | 77.148*      | -16.376      |           |          |\n",
    "# +-------------+-------------+--------------+--------------+-----------+----------+\n",
    "# |             | (25.735)    | (32.334)     | (12.522)     |           |          |\n",
    "# +-------------+-------------+--------------+--------------+-----------+----------+\n",
    "# | Commerce    |             |              |              | 0.001***  | 0.011*** |\n",
    "# +-------------+-------------+--------------+--------------+-----------+----------+\n",
    "# |             |             |              |              | (0.000)   | (0.000)  |\n",
    "# +-------------+-------------+--------------+--------------+-----------+----------+\n",
    "# | Num.Obs.    | 86          | 86           | 86           | 86        | 86       |\n",
    "# +-------------+-------------+--------------+--------------+-----------+----------+\n",
    "# | R2          | 0.020       | 0.065        | 0.152        |           |          |\n",
    "# +=============+=============+==============+==============+===========+==========+\n",
    "# | + p < 0.1, * p < 0.05, ** p < 0.01, *** p < 0.001                              |\n",
    "# +=============+=============+==============+==============+===========+==========+"
   ]
  },
  {
   "cell_type": "code",
   "execution_count": 7,
   "id": "e175d958",
   "metadata": {
    "vscode": {
     "languageId": "r"
    }
   },
   "outputs": [],
   "source": [
    "library(pandoc)\n",
    "modelsummary(models, output = \"table.xlsx\")"
   ]
  },
  {
   "cell_type": "code",
   "execution_count": 8,
   "id": "d7e0d099",
   "metadata": {
    "vscode": {
     "languageId": "r"
    }
   },
   "outputs": [
    {
     "data": {
      "image/png": "[encoded data removed]",
      "text/plain": [
       "plot without title"
      ]
     },
     "metadata": {
      "image/png": {
       "height": 420,
       "width": 420
      }
     },
     "output_type": "display_data"
    }
   ],
   "source": [
    "ols <- models[1:3]\n",
    "modelplot(ols, coef_omit = \"Intercept\")"
   ]
  },
  {
   "cell_type": "markdown",
   "id": "77b54a3c",
   "metadata": {},
   "source": [
    "# 数据摘要"
   ]
  },
  {
   "cell_type": "markdown",
   "id": "be722498",
   "metadata": {},
   "source": [
    "## datasummary_skim"
   ]
  },
  {
   "cell_type": "code",
   "execution_count": 1,
   "id": "4643acd4",
   "metadata": {
    "vscode": {
     "languageId": "r"
    }
   },
   "outputs": [
    {
     "name": "stderr",
     "output_type": "stream",
     "text": [
      "-- \u001b[1mAttaching core tidyverse packages\u001b[22m ------------------------ tidyverse 2.0.0 --\n",
      "\u001b[32mv\u001b[39m \u001b[34mdplyr    \u001b[39m 1.1.4     \u001b[32mv\u001b[39m \u001b[34mreadr    \u001b[39m 2.1.5\n",
      "\u001b[32mv\u001b[39m \u001b[34mforcats  \u001b[39m 1.0.0     \u001b[32mv\u001b[39m \u001b[34mstringr  \u001b[39m 1.5.1\n",
      "\u001b[32mv\u001b[39m \u001b[34mggplot2  \u001b[39m 3.5.1     \u001b[32mv\u001b[39m \u001b[34mtibble   \u001b[39m 3.2.1\n",
      "\u001b[32mv\u001b[39m \u001b[34mlubridate\u001b[39m 1.9.4     \u001b[32mv\u001b[39m \u001b[34mtidyr    \u001b[39m 1.3.1\n",
      "\u001b[32mv\u001b[39m \u001b[34mpurrr    \u001b[39m 1.0.2     \n",
      "-- \u001b[1mConflicts\u001b[22m ------------------------------------------ tidyverse_conflicts() --\n",
      "\u001b[31mx\u001b[39m \u001b[34mdplyr\u001b[39m::\u001b[32mfilter()\u001b[39m masks \u001b[34mstats\u001b[39m::filter()\n",
      "\u001b[31mx\u001b[39m \u001b[34mdplyr\u001b[39m::\u001b[32mlag()\u001b[39m    masks \u001b[34mstats\u001b[39m::lag()\n",
      "\u001b[36mi\u001b[39m Use the conflicted package (\u001b[3m\u001b[34m<http://conflicted.r-lib.org/>\u001b[39m\u001b[23m) to force all conflicts to become errors\n"
     ]
    }
   ],
   "source": [
    "library(modelsummary)\n",
    "library(tidyverse)\n",
    "\n",
    "url <- 'https://vincentarelbundock.github.io/Rdatasets/csv/palmerpenguins/penguins.csv'\n",
    "penguins <- read.csv(url, na.strings = \"\")"
   ]
  },
  {
   "cell_type": "code",
   "execution_count": null,
   "id": "6371a883",
   "metadata": {
    "vscode": {
     "languageId": "r"
    }
   },
   "outputs": [
    {
     "data": {
      "text/plain": [
       "\n",
       "+-------------------+-----------+--------------+--------+-------+--------+--------+--------+---------------------------------------------------------------+\n",
       "|                   | Unique    | Missing Pct. | Mean   | SD    | Min    | Median | Max    | Histogram                                                     |\n",
       "+===================+===========+==============+========+=======+========+========+========+===============================================================+\n",
       "| rownames          | 344       | 0            | 172.5  | 99.4  | 1.0    | 172.5  | 344.0  | ![](tinytable_assets/idwvggkn8p0rzu2o931mm3.png){ height=16 } |\n",
       "+-------------------+-----------+--------------+--------+-------+--------+--------+--------+---------------------------------------------------------------+\n",
       "| bill_length_mm    | 165       | 1            | 43.9   | 5.5   | 32.1   | 44.5   | 59.6   | ![](tinytable_assets/id3h3dxuw8jeyuekv6g5ul.png){ height=16 } |\n",
       "+-------------------+-----------+--------------+--------+-------+--------+--------+--------+---------------------------------------------------------------+\n",
       "| bill_depth_mm     | 81        | 1            | 17.2   | 2.0   | 13.1   | 17.3   | 21.5   | ![](tinytable_assets/idjuflc630a4gfb8paq9es.png){ height=16 } |\n",
       "+-------------------+-----------+--------------+--------+-------+--------+--------+--------+---------------------------------------------------------------+\n",
       "| flipper_length_mm | 56        | 1            | 200.9  | 14.1  | 172.0  | 197.0  | 231.0  | ![](tinytable_assets/id6qqa81729izge18pg6gg.png){ height=16 } |\n",
       "+-------------------+-----------+--------------+--------+-------+--------+--------+--------+---------------------------------------------------------------+\n",
       "| body_mass_g       | 95        | 1            | 4201.8 | 802.0 | 2700.0 | 4050.0 | 6300.0 | ![](tinytable_assets/idvdu5m42tbn2t8hslqi2d.png){ height=16 } |\n",
       "+-------------------+-----------+--------------+--------+-------+--------+--------+--------+---------------------------------------------------------------+\n",
       "| year              | 3         | 0            | 2008.0 | 0.8   | 2007.0 | 2008.0 | 2009.0 | ![](tinytable_assets/idh4u5je0d9ey1u4se5i7y.png){ height=16 } |\n",
       "+-------------------+-----------+--------------+--------+-------+--------+--------+--------+---------------------------------------------------------------+\n",
       "|                   |           | N            | %      |       |        |        |        |                                                               |\n",
       "+-------------------+-----------+--------------+--------+-------+--------+--------+--------+---------------------------------------------------------------+\n",
       "| species           | Adelie    | 152          | 44.2   |       |        |        |        |                                                               |\n",
       "+-------------------+-----------+--------------+--------+-------+--------+--------+--------+---------------------------------------------------------------+\n",
       "|                   | Chinstrap | 68           | 19.8   |       |        |        |        |                                                               |\n",
       "+-------------------+-----------+--------------+--------+-------+--------+--------+--------+---------------------------------------------------------------+\n",
       "|                   | Gentoo    | 124          | 36.0   |       |        |        |        |                                                               |\n",
       "+-------------------+-----------+--------------+--------+-------+--------+--------+--------+---------------------------------------------------------------+\n",
       "| island            | Biscoe    | 168          | 48.8   |       |        |        |        |                                                               |\n",
       "+-------------------+-----------+--------------+--------+-------+--------+--------+--------+---------------------------------------------------------------+\n",
       "|                   | Dream     | 124          | 36.0   |       |        |        |        |                                                               |\n",
       "+-------------------+-----------+--------------+--------+-------+--------+--------+--------+---------------------------------------------------------------+\n",
       "|                   | Torgersen | 52           | 15.1   |       |        |        |        |                                                               |\n",
       "+-------------------+-----------+--------------+--------+-------+--------+--------+--------+---------------------------------------------------------------+\n",
       "| sex               | female    | 165          | 48.0   |       |        |        |        |                                                               |\n",
       "+-------------------+-----------+--------------+--------+-------+--------+--------+--------+---------------------------------------------------------------+\n",
       "|                   | male      | 168          | 48.8   |       |        |        |        |                                                               |\n",
       "+-------------------+-----------+--------------+--------+-------+--------+--------+--------+---------------------------------------------------------------+\n",
       "|                   | NA        | 11           | 3.2    |       |        |        |        |                                                               |\n",
       "+-------------------+-----------+--------------+--------+-------+--------+--------+--------+---------------------------------------------------------------+ "
      ]
     },
     "metadata": {},
     "output_type": "display_data"
    }
   ],
   "source": [
    "datasummary_skim(penguins)\n",
    "\n",
    "# +-------------------+-----------+--------------+--------+-------+--------+--------+--------+---------------------------------------------------------------+\n",
    "# |                   | Unique    | Missing Pct. | Mean   | SD    | Min    | Median | Max    | Histogram                                                     |\n",
    "# +===================+===========+==============+========+=======+========+========+========+===============================================================+\n",
    "# | rownames          | 344       | 0            | 172.5  | 99.4  | 1.0    | 172.5  | 344.0  | ![](tinytable_assets/idwvggkn8p0rzu2o931mm3.png){ height=16 } |\n",
    "# +-------------------+-----------+--------------+--------+-------+--------+--------+--------+---------------------------------------------------------------+\n",
    "# | bill_length_mm    | 165       | 1            | 43.9   | 5.5   | 32.1   | 44.5   | 59.6   | ![](tinytable_assets/id3h3dxuw8jeyuekv6g5ul.png){ height=16 } |\n",
    "# +-------------------+-----------+--------------+--------+-------+--------+--------+--------+---------------------------------------------------------------+\n",
    "# | bill_depth_mm     | 81        | 1            | 17.2   | 2.0   | 13.1   | 17.3   | 21.5   | ![](tinytable_assets/idjuflc630a4gfb8paq9es.png){ height=16 } |\n",
    "# +-------------------+-----------+--------------+--------+-------+--------+--------+--------+---------------------------------------------------------------+\n",
    "# | flipper_length_mm | 56        | 1            | 200.9  | 14.1  | 172.0  | 197.0  | 231.0  | ![](tinytable_assets/id6qqa81729izge18pg6gg.png){ height=16 } |\n",
    "# +-------------------+-----------+--------------+--------+-------+--------+--------+--------+---------------------------------------------------------------+\n",
    "# | body_mass_g       | 95        | 1            | 4201.8 | 802.0 | 2700.0 | 4050.0 | 6300.0 | ![](tinytable_assets/idvdu5m42tbn2t8hslqi2d.png){ height=16 } |\n",
    "# +-------------------+-----------+--------------+--------+-------+--------+--------+--------+---------------------------------------------------------------+\n",
    "# | year              | 3         | 0            | 2008.0 | 0.8   | 2007.0 | 2008.0 | 2009.0 | ![](tinytable_assets/idh4u5je0d9ey1u4se5i7y.png){ height=16 } |\n",
    "# +-------------------+-----------+--------------+--------+-------+--------+--------+--------+---------------------------------------------------------------+\n",
    "# |                   |           | N            | %      |       |        |        |        |                                                               |\n",
    "# +-------------------+-----------+--------------+--------+-------+--------+--------+--------+---------------------------------------------------------------+\n",
    "# | species           | Adelie    | 152          | 44.2   |       |        |        |        |                                                               |\n",
    "# +-------------------+-----------+--------------+--------+-------+--------+--------+--------+---------------------------------------------------------------+\n",
    "# |                   | Chinstrap | 68           | 19.8   |       |        |        |        |                                                               |\n",
    "# +-------------------+-----------+--------------+--------+-------+--------+--------+--------+---------------------------------------------------------------+\n",
    "# |                   | Gentoo    | 124          | 36.0   |       |        |        |        |                                                               |\n",
    "# +-------------------+-----------+--------------+--------+-------+--------+--------+--------+---------------------------------------------------------------+\n",
    "# | island            | Biscoe    | 168          | 48.8   |       |        |        |        |                                                               |\n",
    "# +-------------------+-----------+--------------+--------+-------+--------+--------+--------+---------------------------------------------------------------+\n",
    "# |                   | Dream     | 124          | 36.0   |       |        |        |        |                                                               |\n",
    "# +-------------------+-----------+--------------+--------+-------+--------+--------+--------+---------------------------------------------------------------+\n",
    "# |                   | Torgersen | 52           | 15.1   |       |        |        |        |                                                               |\n",
    "# +-------------------+-----------+--------------+--------+-------+--------+--------+--------+---------------------------------------------------------------+\n",
    "# | sex               | female    | 165          | 48.0   |       |        |        |        |                                                               |\n",
    "# +-------------------+-----------+--------------+--------+-------+--------+--------+--------+---------------------------------------------------------------+\n",
    "# |                   | male      | 168          | 48.8   |       |        |        |        |                                                               |\n",
    "# +-------------------+-----------+--------------+--------+-------+--------+--------+--------+---------------------------------------------------------------+\n",
    "# |                   | NA        | 11           | 3.2    |       |        |        |        |                                                               |\n",
    "# +-------------------+-----------+--------------+--------+-------+--------+--------+--------+---------------------------------------------------------------+"
   ]
  },
  {
   "cell_type": "code",
   "execution_count": null,
   "id": "1bf50f6d",
   "metadata": {
    "vscode": {
     "languageId": "r"
    }
   },
   "outputs": [
    {
     "data": {
      "text/plain": [
       "\n",
       "+---------+-----------+-----+------+\n",
       "|         |           | N   | %    |\n",
       "+=========+===========+=====+======+\n",
       "| species | Adelie    | 152 | 44.2 |\n",
       "+---------+-----------+-----+------+\n",
       "|         | Chinstrap | 68  | 19.8 |\n",
       "+---------+-----------+-----+------+\n",
       "|         | Gentoo    | 124 | 36.0 |\n",
       "+---------+-----------+-----+------+\n",
       "| island  | Biscoe    | 168 | 48.8 |\n",
       "+---------+-----------+-----+------+\n",
       "|         | Dream     | 124 | 36.0 |\n",
       "+---------+-----------+-----+------+\n",
       "|         | Torgersen | 52  | 15.1 |\n",
       "+---------+-----------+-----+------+\n",
       "| sex     | female    | 165 | 48.0 |\n",
       "+---------+-----------+-----+------+\n",
       "|         | male      | 168 | 48.8 |\n",
       "+---------+-----------+-----+------+\n",
       "|         | NA        | 11  | 3.2  |\n",
       "+---------+-----------+-----+------+ "
      ]
     },
     "metadata": {},
     "output_type": "display_data"
    }
   ],
   "source": [
    "datasummary_skim(penguins, type = \"categorical\")\n",
    "\n",
    "# +---------+-----------+-----+------+\n",
    "# |         |           | N   | %    |\n",
    "# +=========+===========+=====+======+\n",
    "# | species | Adelie    | 152 | 44.2 |\n",
    "# +---------+-----------+-----+------+\n",
    "# |         | Chinstrap | 68  | 19.8 |\n",
    "# +---------+-----------+-----+------+\n",
    "# |         | Gentoo    | 124 | 36.0 |\n",
    "# +---------+-----------+-----+------+\n",
    "# | island  | Biscoe    | 168 | 48.8 |\n",
    "# +---------+-----------+-----+------+\n",
    "# |         | Dream     | 124 | 36.0 |\n",
    "# +---------+-----------+-----+------+\n",
    "# |         | Torgersen | 52  | 15.1 |\n",
    "# +---------+-----------+-----+------+\n",
    "# | sex     | female    | 165 | 48.0 |\n",
    "# +---------+-----------+-----+------+\n",
    "# |         | male      | 168 | 48.8 |\n",
    "# +---------+-----------+-----+------+\n",
    "# |         | NA        | 11  | 3.2  |\n",
    "# +---------+-----------+-----+------+"
   ]
  },
  {
   "cell_type": "markdown",
   "id": "8c4976e5",
   "metadata": {},
   "source": [
    "## datasummary_balance"
   ]
  },
  {
   "cell_type": "code",
   "execution_count": 12,
   "id": "1fff733e",
   "metadata": {
    "vscode": {
     "languageId": "r"
    }
   },
   "outputs": [],
   "source": [
    "# Download and read data\n",
    "training <- 'https://vincentarelbundock.github.io/Rdatasets/csv/Ecdat/Treatment.csv'\n",
    "training <- read.csv(training, na.strings = \"\")\n",
    "\n",
    "# Rename and recode variables\n",
    "training <- training %>%\n",
    "  mutate(\n",
    "    `Earnings Before` = re75 / 1000,\n",
    "    `Earnings After` = re78 / 1000,\n",
    "    Treatment = ifelse(treat == TRUE, 'Treatment', 'Control'),\n",
    "    Married = ifelse(married == TRUE, 'Yes', 'No')\n",
    "  ) %>%\n",
    "  select(\n",
    "    `Earnings Before`,\n",
    "    `Earnings After`,\n",
    "    Treatment,\n",
    "    Ethnicity = ethn,\n",
    "    Age = age,\n",
    "    Education = educ,\n",
    "    Married\n",
    "  )"
   ]
  },
  {
   "cell_type": "code",
   "execution_count": null,
   "id": "d1227922",
   "metadata": {
    "vscode": {
     "languageId": "r"
    }
   },
   "outputs": [
    {
     "data": {
      "text/plain": [
       "+-----------------+----------+-------+------------+-------+------------+----------------+------------+\n",
       "|                            | Control (N=2490)   | Treatment (N=185)  |                             |\n",
       "+-----------------+----------+-------+------------+-------+------------+----------------+------------+\n",
       "|                 |          | Mean  | Std. Dev.  | Mean  | Std. Dev.  | Diff. in Means | Std. Error |\n",
       "+=================+==========+=======+============+=======+============+================+============+\n",
       "| Earnings Before |          | 19.1  | 13.6       | 1.5   | 3.2        | -17.5          | 0.4        |\n",
       "+-----------------+----------+-------+------------+-------+------------+----------------+------------+\n",
       "| Earnings After  |          | 21.6  | 15.6       | 6.3   | 7.9        | -15.2          | 0.7        |\n",
       "+-----------------+----------+-------+------------+-------+------------+----------------+------------+\n",
       "| Age             |          | 34.9  | 10.4       | 25.8  | 7.2        | -9.0           | 0.6        |\n",
       "+-----------------+----------+-------+------------+-------+------------+----------------+------------+\n",
       "| Education       |          | 12.1  | 3.1        | 10.3  | 2.0        | -1.8           | 0.2        |\n",
       "+-----------------+----------+-------+------------+-------+------------+----------------+------------+\n",
       "|                 |          | N     | Pct.       | N     | Pct.       |                |            |\n",
       "+-----------------+----------+-------+------------+-------+------------+----------------+------------+\n",
       "| Ethnicity       | black    | 624   | 25.1       | 156   | 84.3       |                |            |\n",
       "+-----------------+----------+-------+------------+-------+------------+----------------+------------+\n",
       "|                 | hispanic | 81    | 3.3        | 11    | 5.9        |                |            |\n",
       "+-----------------+----------+-------+------------+-------+------------+----------------+------------+\n",
       "|                 | other    | 1785  | 71.7       | 18    | 9.7        |                |            |\n",
       "+-----------------+----------+-------+------------+-------+------------+----------------+------------+\n",
       "| Married         | No       | 333   | 13.4       | 150   | 81.1       |                |            |\n",
       "+-----------------+----------+-------+------------+-------+------------+----------------+------------+\n",
       "|                 | Yes      | 2157  | 86.6       | 35    | 18.9       |                |            |\n",
       "+=================+==========+=======+============+=======+============+================+============+\n",
       "| Source: Lalonde (1986) American Economic Review.                                                   |\n",
       "+=================+==========+=======+============+=======+============+================+============+\n",
       "Table: Descriptive statistics about participants in a job training experiment. The earnings are displayed in 1000s of USD. This table was created using the \"datasummary\" function from the \"modelsummary\" package for R. "
      ]
     },
     "metadata": {},
     "output_type": "display_data"
    }
   ],
   "source": [
    "caption <- 'Descriptive statistics about participants in a job training experiment. The earnings are displayed in 1000s of USD. This table was created using the \"datasummary\" function from the \"modelsummary\" package for R.'\n",
    "reference <- 'Source: Lalonde (1986) American Economic Review.'\n",
    "\n",
    "library(modelsummary)\n",
    "datasummary_balance(\n",
    "  ~Treatment,\n",
    "  data = training,\n",
    "  title = caption,\n",
    "  notes = reference\n",
    ")\n",
    "\n",
    "# +-----------------+----------+-------+------------+-------+------------+----------------+------------+\n",
    "# |                            | Control (N=2490)   | Treatment (N=185)  |                             |\n",
    "# +-----------------+----------+-------+------------+-------+------------+----------------+------------+\n",
    "# |                 |          | Mean  | Std. Dev.  | Mean  | Std. Dev.  | Diff. in Means | Std. Error |\n",
    "# +=================+==========+=======+============+=======+============+================+============+\n",
    "# | Earnings Before |          | 19.1  | 13.6       | 1.5   | 3.2        | -17.5          | 0.4        |\n",
    "# +-----------------+----------+-------+------------+-------+------------+----------------+------------+\n",
    "# | Earnings After  |          | 21.6  | 15.6       | 6.3   | 7.9        | -15.2          | 0.7        |\n",
    "# +-----------------+----------+-------+------------+-------+------------+----------------+------------+\n",
    "# | Age             |          | 34.9  | 10.4       | 25.8  | 7.2        | -9.0           | 0.6        |\n",
    "# +-----------------+----------+-------+------------+-------+------------+----------------+------------+\n",
    "# | Education       |          | 12.1  | 3.1        | 10.3  | 2.0        | -1.8           | 0.2        |\n",
    "# +-----------------+----------+-------+------------+-------+------------+----------------+------------+\n",
    "# |                 |          | N     | Pct.       | N     | Pct.       |                |            |\n",
    "# +-----------------+----------+-------+------------+-------+------------+----------------+------------+\n",
    "# | Ethnicity       | black    | 624   | 25.1       | 156   | 84.3       |                |            |\n",
    "# +-----------------+----------+-------+------------+-------+------------+----------------+------------+\n",
    "# |                 | hispanic | 81    | 3.3        | 11    | 5.9        |                |            |\n",
    "# +-----------------+----------+-------+------------+-------+------------+----------------+------------+\n",
    "# |                 | other    | 1785  | 71.7       | 18    | 9.7        |                |            |\n",
    "# +-----------------+----------+-------+------------+-------+------------+----------------+------------+\n",
    "# | Married         | No       | 333   | 13.4       | 150   | 81.1       |                |            |\n",
    "# +-----------------+----------+-------+------------+-------+------------+----------------+------------+\n",
    "# |                 | Yes      | 2157  | 86.6       | 35    | 18.9       |                |            |\n",
    "# +=================+==========+=======+============+=======+============+================+============+\n",
    "# | Source: Lalonde (1986) American Economic Review.                                                   |\n",
    "# +=================+==========+=======+============+=======+============+================+============+\n",
    "# Table: Descriptive statistics about participants in a job training experiment. The earnings are displayed in 1000s of USD. This table was created using the \"datasummary\" function from the \"modelsummary\" package for R."
   ]
  },
  {
   "cell_type": "code",
   "execution_count": null,
   "id": "2b5ef653",
   "metadata": {
    "vscode": {
     "languageId": "r"
    }
   },
   "outputs": [
    {
     "data": {
      "text/plain": [
       "\n",
       "+-----------------+-----------+------+-----------+\n",
       "|                 |           | Mean | Std. Dev. |\n",
       "+=================+===========+======+===========+\n",
       "| Earnings Before |           | 17.9 | 13.9      |\n",
       "+-----------------+-----------+------+-----------+\n",
       "| Earnings After  |           | 20.5 | 15.6      |\n",
       "+-----------------+-----------+------+-----------+\n",
       "| Age             |           | 34.2 | 10.5      |\n",
       "+-----------------+-----------+------+-----------+\n",
       "| Education       |           | 12.0 | 3.1       |\n",
       "+-----------------+-----------+------+-----------+\n",
       "|                 |           | N    | Pct.      |\n",
       "+-----------------+-----------+------+-----------+\n",
       "| Treatment       | Control   | 2490 | 93.1      |\n",
       "+-----------------+-----------+------+-----------+\n",
       "|                 | Treatment | 185  | 6.9       |\n",
       "+-----------------+-----------+------+-----------+\n",
       "| Ethnicity       | black     | 780  | 29.2      |\n",
       "+-----------------+-----------+------+-----------+\n",
       "|                 | hispanic  | 92   | 3.4       |\n",
       "+-----------------+-----------+------+-----------+\n",
       "|                 | other     | 1803 | 67.4      |\n",
       "+-----------------+-----------+------+-----------+\n",
       "| Married         | No        | 483  | 18.1      |\n",
       "+-----------------+-----------+------+-----------+\n",
       "|                 | Yes       | 2192 | 81.9      |\n",
       "+-----------------+-----------+------+-----------+ "
      ]
     },
     "metadata": {},
     "output_type": "display_data"
    }
   ],
   "source": [
    "datasummary_balance(~ 1, data = training)\n",
    "\n",
    "# +-----------------+-----------+------+-----------+\n",
    "# |                 |           | Mean | Std. Dev. |\n",
    "# +=================+===========+======+===========+\n",
    "# | Earnings Before |           | 17.9 | 13.9      |\n",
    "# +-----------------+-----------+------+-----------+\n",
    "# | Earnings After  |           | 20.5 | 15.6      |\n",
    "# +-----------------+-----------+------+-----------+\n",
    "# | Age             |           | 34.2 | 10.5      |\n",
    "# +-----------------+-----------+------+-----------+\n",
    "# | Education       |           | 12.0 | 3.1       |\n",
    "# +-----------------+-----------+------+-----------+\n",
    "# |                 |           | N    | Pct.      |\n",
    "# +-----------------+-----------+------+-----------+\n",
    "# | Treatment       | Control   | 2490 | 93.1      |\n",
    "# +-----------------+-----------+------+-----------+\n",
    "# |                 | Treatment | 185  | 6.9       |\n",
    "# +-----------------+-----------+------+-----------+\n",
    "# | Ethnicity       | black     | 780  | 29.2      |\n",
    "# +-----------------+-----------+------+-----------+\n",
    "# |                 | hispanic  | 92   | 3.4       |\n",
    "# +-----------------+-----------+------+-----------+\n",
    "# |                 | other     | 1803 | 67.4      |\n",
    "# +-----------------+-----------+------+-----------+\n",
    "# | Married         | No        | 483  | 18.1      |\n",
    "# +-----------------+-----------+------+-----------+\n",
    "# |                 | Yes       | 2192 | 81.9      |\n",
    "# +-----------------+-----------+------+-----------+"
   ]
  },
  {
   "cell_type": "markdown",
   "id": "3801ebc5",
   "metadata": {},
   "source": [
    "## datasummary_correlation"
   ]
  },
  {
   "cell_type": "code",
   "execution_count": null,
   "id": "d10b336a",
   "metadata": {
    "vscode": {
     "languageId": "r"
    }
   },
   "outputs": [
    {
     "data": {
      "text/plain": [
       "\n",
       "+------+------+------+------+------+------+------+------+------+-----+------+------+\n",
       "|      | mpg  | cyl  | disp | hp   | drat | wt   | qsec | vs   | am  | gear | carb |\n",
       "+======+======+======+======+======+======+======+======+======+=====+======+======+\n",
       "| mpg  | 1    | .    | .    | .    | .    | .    | .    | .    | .   | .    | .    |\n",
       "+------+------+------+------+------+------+------+------+------+-----+------+------+\n",
       "| cyl  | -.85 | 1    | .    | .    | .    | .    | .    | .    | .   | .    | .    |\n",
       "+------+------+------+------+------+------+------+------+------+-----+------+------+\n",
       "| disp | -.85 | .90  | 1    | .    | .    | .    | .    | .    | .   | .    | .    |\n",
       "+------+------+------+------+------+------+------+------+------+-----+------+------+\n",
       "| hp   | -.78 | .83  | .79  | 1    | .    | .    | .    | .    | .   | .    | .    |\n",
       "+------+------+------+------+------+------+------+------+------+-----+------+------+\n",
       "| drat | .68  | -.70 | -.71 | -.45 | 1    | .    | .    | .    | .   | .    | .    |\n",
       "+------+------+------+------+------+------+------+------+------+-----+------+------+\n",
       "| wt   | -.87 | .78  | .89  | .66  | -.71 | 1    | .    | .    | .   | .    | .    |\n",
       "+------+------+------+------+------+------+------+------+------+-----+------+------+\n",
       "| qsec | .42  | -.59 | -.43 | -.71 | .09  | -.17 | 1    | .    | .   | .    | .    |\n",
       "+------+------+------+------+------+------+------+------+------+-----+------+------+\n",
       "| vs   | .66  | -.81 | -.71 | -.72 | .44  | -.55 | .74  | 1    | .   | .    | .    |\n",
       "+------+------+------+------+------+------+------+------+------+-----+------+------+\n",
       "| am   | .60  | -.52 | -.59 | -.24 | .71  | -.69 | -.23 | .17  | 1   | .    | .    |\n",
       "+------+------+------+------+------+------+------+------+------+-----+------+------+\n",
       "| gear | .48  | -.49 | -.56 | -.13 | .70  | -.58 | -.21 | .21  | .79 | 1    | .    |\n",
       "+------+------+------+------+------+------+------+------+------+-----+------+------+\n",
       "| carb | -.55 | .53  | .39  | .75  | -.09 | .43  | -.66 | -.57 | .06 | .27  | 1    |\n",
       "+------+------+------+------+------+------+------+------+------+-----+------+------+ "
      ]
     },
     "metadata": {},
     "output_type": "display_data"
    }
   ],
   "source": [
    "datasummary_correlation(mtcars)\n",
    "\n",
    "# +------+------+------+------+------+------+------+------+------+-----+------+------+\n",
    "# |      | mpg  | cyl  | disp | hp   | drat | wt   | qsec | vs   | am  | gear | carb |\n",
    "# +======+======+======+======+======+======+======+======+======+=====+======+======+\n",
    "# | mpg  | 1    | .    | .    | .    | .    | .    | .    | .    | .   | .    | .    |\n",
    "# +------+------+------+------+------+------+------+------+------+-----+------+------+\n",
    "# | cyl  | -.85 | 1    | .    | .    | .    | .    | .    | .    | .   | .    | .    |\n",
    "# +------+------+------+------+------+------+------+------+------+-----+------+------+\n",
    "# | disp | -.85 | .90  | 1    | .    | .    | .    | .    | .    | .   | .    | .    |\n",
    "# +------+------+------+------+------+------+------+------+------+-----+------+------+\n",
    "# | hp   | -.78 | .83  | .79  | 1    | .    | .    | .    | .    | .   | .    | .    |\n",
    "# +------+------+------+------+------+------+------+------+------+-----+------+------+\n",
    "# | drat | .68  | -.70 | -.71 | -.45 | 1    | .    | .    | .    | .   | .    | .    |\n",
    "# +------+------+------+------+------+------+------+------+------+-----+------+------+\n",
    "# | wt   | -.87 | .78  | .89  | .66  | -.71 | 1    | .    | .    | .   | .    | .    |\n",
    "# +------+------+------+------+------+------+------+------+------+-----+------+------+\n",
    "# | qsec | .42  | -.59 | -.43 | -.71 | .09  | -.17 | 1    | .    | .   | .    | .    |\n",
    "# +------+------+------+------+------+------+------+------+------+-----+------+------+\n",
    "# | vs   | .66  | -.81 | -.71 | -.72 | .44  | -.55 | .74  | 1    | .   | .    | .    |\n",
    "# +------+------+------+------+------+------+------+------+------+-----+------+------+\n",
    "# | am   | .60  | -.52 | -.59 | -.24 | .71  | -.69 | -.23 | .17  | 1   | .    | .    |\n",
    "# +------+------+------+------+------+------+------+------+------+-----+------+------+\n",
    "# | gear | .48  | -.49 | -.56 | -.13 | .70  | -.58 | -.21 | .21  | .79 | 1    | .    |\n",
    "# +------+------+------+------+------+------+------+------+------+-----+------+------+\n",
    "# | carb | -.55 | .53  | .39  | .75  | -.09 | .43  | -.66 | -.57 | .06 | .27  | 1    |\n",
    "# +------+------+------+------+------+------+------+------+------+-----+------+------+"
   ]
  },
  {
   "cell_type": "code",
   "execution_count": null,
   "id": "18744e71",
   "metadata": {
    "vscode": {
     "languageId": "r"
    }
   },
   "outputs": [
    {
     "data": {
      "text/plain": [
       "\n",
       "+------+--------+--------+---------+---------+---------+---------+---------+---------+---------+---------+\n",
       "|      | carb   | gear   | am      | vs      | qsec    | wt      | drat    | hp      | disp    | cyl     |\n",
       "+======+========+========+=========+=========+=========+=========+=========+=========+=========+=========+\n",
       "| mpg  | -.55*  | .48    | .60**   | .66**   | .42     | -.87*** | .68***  | -.78*** | -.85*** | -.85*** |\n",
       "+------+--------+--------+---------+---------+---------+---------+---------+---------+---------+---------+\n",
       "| cyl  | .53*   | -.49   | -.52*   | -.81*** | -.59*   | .78***  | -.70*** | .83***  | .90***  |         |\n",
       "+------+--------+--------+---------+---------+---------+---------+---------+---------+---------+---------+\n",
       "| disp | .39    | -.56*  | -.59*   | -.71*** | -.43    | .89***  | -.71*** | .79***  |         |         |\n",
       "+------+--------+--------+---------+---------+---------+---------+---------+---------+---------+---------+\n",
       "| hp   | .75*** | -.13   | -.24    | -.72*** | -.71*** | .66**   | -.45    |         |         |         |\n",
       "+------+--------+--------+---------+---------+---------+---------+---------+---------+---------+---------+\n",
       "| drat | -.09   | .70*** | .71***  | .44     | .09     | -.71*** |         |         |         |         |\n",
       "+------+--------+--------+---------+---------+---------+---------+---------+---------+---------+---------+\n",
       "| wt   | .43    | -.58*  | -.69*** | -.55*   | -.17    |         |         |         |         |         |\n",
       "+------+--------+--------+---------+---------+---------+---------+---------+---------+---------+---------+\n",
       "| qsec | -.66** | -.21   | -.23    | .74***  |         |         |         |         |         |         |\n",
       "+------+--------+--------+---------+---------+---------+---------+---------+---------+---------+---------+\n",
       "| vs   | -.57*  | .21    | .17     |         |         |         |         |         |         |         |\n",
       "+------+--------+--------+---------+---------+---------+---------+---------+---------+---------+---------+\n",
       "| am   | .06    | .79*** |         |         |         |         |         |         |         |         |\n",
       "+------+--------+--------+---------+---------+---------+---------+---------+---------+---------+---------+\n",
       "| gear | .27    |        |         |         |         |         |         |         |         |         |\n",
       "+------+--------+--------+---------+---------+---------+---------+---------+---------+---------+---------+ "
      ]
     },
     "metadata": {},
     "output_type": "display_data"
    }
   ],
   "source": [
    "library(correlation)\n",
    "\n",
    "fun <- function(x) {\n",
    "  out <- correlation(x) |>\n",
    "    summary() |>\n",
    "    format(2) |> \n",
    "    as.matrix()\n",
    "  row.names(out) <- out[, 1]\n",
    "  out <- out[, 2:ncol(out)]\n",
    "  return(out)\n",
    "}\n",
    "\n",
    "datasummary_correlation(mtcars, method = fun)\n",
    "\n",
    "# +------+--------+--------+---------+---------+---------+---------+---------+---------+---------+---------+\n",
    "# |      | carb   | gear   | am      | vs      | qsec    | wt      | drat    | hp      | disp    | cyl     |\n",
    "# +======+========+========+=========+=========+=========+=========+=========+=========+=========+=========+\n",
    "# | mpg  | -.55*  | .48    | .60**   | .66**   | .42     | -.87*** | .68***  | -.78*** | -.85*** | -.85*** |\n",
    "# +------+--------+--------+---------+---------+---------+---------+---------+---------+---------+---------+\n",
    "# | cyl  | .53*   | -.49   | -.52*   | -.81*** | -.59*   | .78***  | -.70*** | .83***  | .90***  |         |\n",
    "# +------+--------+--------+---------+---------+---------+---------+---------+---------+---------+---------+\n",
    "# | disp | .39    | -.56*  | -.59*   | -.71*** | -.43    | .89***  | -.71*** | .79***  |         |         |\n",
    "# +------+--------+--------+---------+---------+---------+---------+---------+---------+---------+---------+\n",
    "# | hp   | .75*** | -.13   | -.24    | -.72*** | -.71*** | .66**   | -.45    |         |         |         |\n",
    "# +------+--------+--------+---------+---------+---------+---------+---------+---------+---------+---------+\n",
    "# | drat | -.09   | .70*** | .71***  | .44     | .09     | -.71*** |         |         |         |         |\n",
    "# +------+--------+--------+---------+---------+---------+---------+---------+---------+---------+---------+\n",
    "# | wt   | .43    | -.58*  | -.69*** | -.55*   | -.17    |         |         |         |         |         |\n",
    "# +------+--------+--------+---------+---------+---------+---------+---------+---------+---------+---------+\n",
    "# | qsec | -.66** | -.21   | -.23    | .74***  |         |         |         |         |         |         |\n",
    "# +------+--------+--------+---------+---------+---------+---------+---------+---------+---------+---------+\n",
    "# | vs   | -.57*  | .21    | .17     |         |         |         |         |         |         |         |\n",
    "# +------+--------+--------+---------+---------+---------+---------+---------+---------+---------+---------+\n",
    "# | am   | .06    | .79*** |         |         |         |         |         |         |         |         |\n",
    "# +------+--------+--------+---------+---------+---------+---------+---------+---------+---------+---------+\n",
    "# | gear | .27    |        |         |         |         |         |         |         |         |         |\n",
    "# +------+--------+--------+---------+---------+---------+---------+---------+---------+---------+---------+"
   ]
  },
  {
   "cell_type": "markdown",
   "id": "da6f2a8f",
   "metadata": {},
   "source": [
    "## datasummary_crosstab"
   ]
  },
  {
   "cell_type": "code",
   "execution_count": null,
   "id": "94c92eb0",
   "metadata": {
    "vscode": {
     "languageId": "r"
    }
   },
   "outputs": [
    {
     "data": {
      "text/plain": [
       "\n",
       "+-----------+-------+--------+------+-------+\n",
       "| species   |       | female | male | All   |\n",
       "+===========+=======+========+======+=======+\n",
       "| Adelie    | N     | 73     | 73   | 152   |\n",
       "+-----------+-------+--------+------+-------+\n",
       "|           | % row | 48.0   | 48.0 | 100.0 |\n",
       "+-----------+-------+--------+------+-------+\n",
       "| Chinstrap | N     | 34     | 34   | 68    |\n",
       "+-----------+-------+--------+------+-------+\n",
       "|           | % row | 50.0   | 50.0 | 100.0 |\n",
       "+-----------+-------+--------+------+-------+\n",
       "| Gentoo    | N     | 58     | 61   | 124   |\n",
       "+-----------+-------+--------+------+-------+\n",
       "|           | % row | 46.8   | 49.2 | 100.0 |\n",
       "+-----------+-------+--------+------+-------+\n",
       "| All       | N     | 165    | 168  | 344   |\n",
       "+-----------+-------+--------+------+-------+\n",
       "|           | % row | 48.0   | 48.8 | 100.0 |\n",
       "+-----------+-------+--------+------+-------+ "
      ]
     },
     "metadata": {},
     "output_type": "display_data"
    }
   ],
   "source": [
    "library(modelsummary)\n",
    "url <- 'https://vincentarelbundock.github.io/Rdatasets/csv/palmerpenguins/penguins.csv'\n",
    "penguins <- read.csv(url, na.strings = \"\")\n",
    "\n",
    "datasummary_crosstab(species ~ sex, data = penguins)\n",
    "\n",
    "# +-----------+-------+--------+------+-------+\n",
    "# | species   |       | female | male | All   |\n",
    "# +===========+=======+========+======+=======+\n",
    "# | Adelie    | N     | 73     | 73   | 152   |\n",
    "# +-----------+-------+--------+------+-------+\n",
    "# |           | % row | 48.0   | 48.0 | 100.0 |\n",
    "# +-----------+-------+--------+------+-------+\n",
    "# | Chinstrap | N     | 34     | 34   | 68    |\n",
    "# +-----------+-------+--------+------+-------+\n",
    "# |           | % row | 50.0   | 50.0 | 100.0 |\n",
    "# +-----------+-------+--------+------+-------+\n",
    "# | Gentoo    | N     | 58     | 61   | 124   |\n",
    "# +-----------+-------+--------+------+-------+\n",
    "# |           | % row | 46.8   | 49.2 | 100.0 |\n",
    "# +-----------+-------+--------+------+-------+\n",
    "# | All       | N     | 165    | 168  | 344   |\n",
    "# +-----------+-------+--------+------+-------+\n",
    "# |           | % row | 48.0   | 48.8 | 100.0 |\n",
    "# +-----------+-------+--------+------+-------+"
   ]
  },
  {
   "cell_type": "code",
   "execution_count": null,
   "id": "82a3338d",
   "metadata": {
    "vscode": {
     "languageId": "r"
    }
   },
   "outputs": [
    {
     "data": {
      "text/plain": [
       "+-----------+-------+--------+-------+-----------+--------+-------+-----------+-------+\n",
       "|                   | female                     | male                       |       |\n",
       "+-----------+-------+--------+-------+-----------+--------+-------+-----------+-------+\n",
       "| species   |       | Biscoe | Dream | Torgersen | Biscoe | Dream | Torgersen | All   |\n",
       "+===========+=======+========+=======+===========+========+=======+===========+=======+\n",
       "| Adelie    | N     | 22     | 27    | 24        | 22     | 28    | 23        | 152   |\n",
       "+-----------+-------+--------+-------+-----------+--------+-------+-----------+-------+\n",
       "|           | % row | 14.5   | 17.8  | 15.8      | 14.5   | 18.4  | 15.1      | 100.0 |\n",
       "+-----------+-------+--------+-------+-----------+--------+-------+-----------+-------+\n",
       "| Chinstrap | N     | 0      | 34    | 0         | 0      | 34    | 0         | 68    |\n",
       "+-----------+-------+--------+-------+-----------+--------+-------+-----------+-------+\n",
       "|           | % row | 0.0    | 50.0  | 0.0       | 0.0    | 50.0  | 0.0       | 100.0 |\n",
       "+-----------+-------+--------+-------+-----------+--------+-------+-----------+-------+\n",
       "| Gentoo    | N     | 58     | 0     | 0         | 61     | 0     | 0         | 124   |\n",
       "+-----------+-------+--------+-------+-----------+--------+-------+-----------+-------+\n",
       "|           | % row | 46.8   | 0.0   | 0.0       | 49.2   | 0.0   | 0.0       | 100.0 |\n",
       "+-----------+-------+--------+-------+-----------+--------+-------+-----------+-------+\n",
       "| All       | N     | 80     | 61    | 24        | 83     | 62    | 23        | 344   |\n",
       "+-----------+-------+--------+-------+-----------+--------+-------+-----------+-------+\n",
       "|           | % row | 23.3   | 17.7  | 7.0       | 24.1   | 18.0  | 6.7       | 100.0 |\n",
       "+-----------+-------+--------+-------+-----------+--------+-------+-----------+-------+ "
      ]
     },
     "metadata": {},
     "output_type": "display_data"
    }
   ],
   "source": [
    "datasummary_crosstab(species ~ sex * island, data = penguins)\n",
    "\n",
    "# +-----------+-------+--------+-------+-----------+--------+-------+-----------+-------+\n",
    "# |                   | female                     | male                       |       |\n",
    "# +-----------+-------+--------+-------+-----------+--------+-------+-----------+-------+\n",
    "# | species   |       | Biscoe | Dream | Torgersen | Biscoe | Dream | Torgersen | All   |\n",
    "# +===========+=======+========+=======+===========+========+=======+===========+=======+\n",
    "# | Adelie    | N     | 22     | 27    | 24        | 22     | 28    | 23        | 152   |\n",
    "# +-----------+-------+--------+-------+-----------+--------+-------+-----------+-------+\n",
    "# |           | % row | 14.5   | 17.8  | 15.8      | 14.5   | 18.4  | 15.1      | 100.0 |\n",
    "# +-----------+-------+--------+-------+-----------+--------+-------+-----------+-------+\n",
    "# | Chinstrap | N     | 0      | 34    | 0         | 0      | 34    | 0         | 68    |\n",
    "# +-----------+-------+--------+-------+-----------+--------+-------+-----------+-------+\n",
    "# |           | % row | 0.0    | 50.0  | 0.0       | 0.0    | 50.0  | 0.0       | 100.0 |\n",
    "# +-----------+-------+--------+-------+-----------+--------+-------+-----------+-------+\n",
    "# | Gentoo    | N     | 58     | 0     | 0         | 61     | 0     | 0         | 124   |\n",
    "# +-----------+-------+--------+-------+-----------+--------+-------+-----------+-------+\n",
    "# |           | % row | 46.8   | 0.0   | 0.0       | 49.2   | 0.0   | 0.0       | 100.0 |\n",
    "# +-----------+-------+--------+-------+-----------+--------+-------+-----------+-------+\n",
    "# | All       | N     | 80     | 61    | 24        | 83     | 62    | 23        | 344   |\n",
    "# +-----------+-------+--------+-------+-----------+--------+-------+-----------+-------+\n",
    "# |           | % row | 23.3   | 17.7  | 7.0       | 24.1   | 18.0  | 6.7       | 100.0 |\n",
    "# +-----------+-------+--------+-------+-----------+--------+-------+-----------+-------+"
   ]
  },
  {
   "cell_type": "code",
   "execution_count": null,
   "id": "cfaba3eb",
   "metadata": {
    "vscode": {
     "languageId": "r"
    }
   },
   "outputs": [
    {
     "data": {
      "text/plain": [
       "\n",
       "+-----------+-------+--------+-------+\n",
       "| species   |       | female | male  |\n",
       "+===========+=======+========+=======+\n",
       "| Adelie    | % col | 44.2   | 43.5  |\n",
       "+-----------+-------+--------+-------+\n",
       "| Chinstrap | % col | 20.6   | 20.2  |\n",
       "+-----------+-------+--------+-------+\n",
       "| Gentoo    | % col | 35.2   | 36.3  |\n",
       "+-----------+-------+--------+-------+\n",
       "| All       | % col | 100.0  | 100.0 |\n",
       "+-----------+-------+--------+-------+ "
      ]
     },
     "metadata": {},
     "output_type": "display_data"
    }
   ],
   "source": [
    "datasummary_crosstab(\n",
    "  species ~ sex,\n",
    "  statistic = 1 ~ Percent(\"col\"),\n",
    "  data = penguins\n",
    ")\n",
    "\n",
    "# +-----------+-------+--------+-------+\n",
    "# | species   |       | female | male  |\n",
    "# +===========+=======+========+=======+\n",
    "# | Adelie    | % col | 44.2   | 43.5  |\n",
    "# +-----------+-------+--------+-------+\n",
    "# | Chinstrap | % col | 20.6   | 20.2  |\n",
    "# +-----------+-------+--------+-------+\n",
    "# | Gentoo    | % col | 35.2   | 36.3  |\n",
    "# +-----------+-------+--------+-------+\n",
    "# | All       | % col | 100.0  | 100.0 |\n",
    "# +-----------+-------+--------+-------+"
   ]
  },
  {
   "cell_type": "markdown",
   "id": "0a5dd3f4",
   "metadata": {},
   "source": [
    "## datasummary"
   ]
  },
  {
   "cell_type": "code",
   "execution_count": null,
   "id": "e6b861d6",
   "metadata": {
    "vscode": {
     "languageId": "r"
    }
   },
   "outputs": [
    {
     "data": {
      "text/plain": [
       "\n",
       "+-------------------+--------+\n",
       "|                   | Mean   |\n",
       "+===================+========+\n",
       "| flipper_length_mm | 200.92 |\n",
       "+-------------------+--------+ "
      ]
     },
     "metadata": {},
     "output_type": "display_data"
    }
   ],
   "source": [
    "datasummary(\n",
    "  flipper_length_mm ~ Mean,\n",
    "  data = penguins\n",
    ")\n",
    "\n",
    "# +-------------------+--------+\n",
    "# |                   | Mean   |\n",
    "# +===================+========+\n",
    "# | flipper_length_mm | 200.92 |\n",
    "# +-------------------+--------+"
   ]
  },
  {
   "cell_type": "code",
   "execution_count": null,
   "id": "fbb2f6d2",
   "metadata": {
    "vscode": {
     "languageId": "r"
    }
   },
   "outputs": [
    {
     "data": {
      "text/plain": [
       "\n",
       "+------+-------------------+\n",
       "|      | flipper_length_mm |\n",
       "+======+===================+\n",
       "| Mean | 200.92            |\n",
       "+------+-------------------+ "
      ]
     },
     "metadata": {},
     "output_type": "display_data"
    }
   ],
   "source": [
    "datasummary(\n",
    "  Mean ~ flipper_length_mm,\n",
    "  data = penguins\n",
    ")\n",
    "\n",
    "# +------+-------------------+\n",
    "# |      | flipper_length_mm |\n",
    "# +======+===================+\n",
    "# | Mean | 200.92            |\n",
    "# +------+-------------------+"
   ]
  },
  {
   "cell_type": "markdown",
   "id": "59623e7a",
   "metadata": {},
   "source": [
    "### 自定义汇总函数"
   ]
  },
  {
   "cell_type": "code",
   "execution_count": null,
   "id": "07dccdb4",
   "metadata": {
    "vscode": {
     "languageId": "r"
    }
   },
   "outputs": [
    {
     "data": {
      "text/plain": [
       "\n",
       "+-------------------+------+\n",
       "|                   | mean |\n",
       "+===================+======+\n",
       "| flipper_length_mm |      |\n",
       "+-------------------+------+ "
      ]
     },
     "metadata": {},
     "output_type": "display_data"
    }
   ],
   "source": [
    "datasummary(\n",
    "  flipper_length_mm ~ mean,\n",
    "  data = penguins\n",
    ")\n",
    "\n",
    "# +-------------------+------+\n",
    "# |                   | mean |\n",
    "# +===================+======+\n",
    "# | flipper_length_mm |      |\n",
    "# +-------------------+------+"
   ]
  },
  {
   "cell_type": "code",
   "execution_count": null,
   "id": "6207bc1a",
   "metadata": {
    "vscode": {
     "languageId": "r"
    }
   },
   "outputs": [
    {
     "data": {
      "text/plain": [
       "\n",
       "+-------------------+-------+\n",
       "|                   | Range |\n",
       "+===================+=======+\n",
       "| flipper_length_mm | 59.00 |\n",
       "+-------------------+-------+ "
      ]
     },
     "metadata": {},
     "output_type": "display_data"
    }
   ],
   "source": [
    "Range <- function(x) max(x, na.rm = TRUE) - min(x, na.rm = TRUE)\n",
    "\n",
    "datasummary(\n",
    "  flipper_length_mm ~ Range,\n",
    "  data = penguins\n",
    ")\n",
    "\n",
    "# +-------------------+-------+\n",
    "# |                   | Range |\n",
    "# +===================+=======+\n",
    "# | flipper_length_mm | 59.00 |\n",
    "# +-------------------+-------+"
   ]
  },
  {
   "cell_type": "code",
   "execution_count": null,
   "id": "f6947e33",
   "metadata": {
    "vscode": {
     "languageId": "r"
    }
   },
   "outputs": [
    {
     "data": {
      "text/plain": [
       "\n",
       "+-------------------+------------+\n",
       "|                   | MinMax     |\n",
       "+===================+============+\n",
       "| flipper_length_mm | [172, 231] |\n",
       "+-------------------+------------+ "
      ]
     },
     "metadata": {},
     "output_type": "display_data"
    }
   ],
   "source": [
    "MinMax <- function(x) paste0('[', min(x, na.rm = TRUE), ', ', max(x, na.rm = TRUE), ']')\n",
    "\n",
    "datasummary(\n",
    "  flipper_length_mm ~ MinMax,\n",
    "  data = penguins\n",
    ")\n",
    "\n",
    "# +-------------------+------------+\n",
    "# |                   | MinMax     |\n",
    "# +===================+============+\n",
    "# | flipper_length_mm | [172, 231] |\n",
    "# +-------------------+------------+"
   ]
  },
  {
   "cell_type": "markdown",
   "id": "994332e0",
   "metadata": {},
   "source": [
    "### 使用 + 进行连接"
   ]
  },
  {
   "cell_type": "code",
   "execution_count": null,
   "id": "b7e5d0f5",
   "metadata": {
    "vscode": {
     "languageId": "r"
    }
   },
   "outputs": [
    {
     "data": {
      "text/plain": [
       "\n",
       "+-------------------+---------+--------+\n",
       "|                   | Mean    | SD     |\n",
       "+===================+=========+========+\n",
       "| flipper_length_mm | 200.92  | 14.06  |\n",
       "+-------------------+---------+--------+\n",
       "| body_mass_g       | 4201.75 | 801.95 |\n",
       "+-------------------+---------+--------+ "
      ]
     },
     "metadata": {},
     "output_type": "display_data"
    }
   ],
   "source": [
    "datasummary(\n",
    "  flipper_length_mm + body_mass_g ~ Mean + SD,\n",
    "  data = penguins\n",
    ")\n",
    "\n",
    "# +-------------------+---------+--------+\n",
    "# |                   | Mean    | SD     |\n",
    "# +===================+=========+========+\n",
    "# | flipper_length_mm | 200.92  | 14.06  |\n",
    "# +-------------------+---------+--------+\n",
    "# | body_mass_g       | 4201.75 | 801.95 |\n",
    "# +-------------------+---------+--------+"
   ]
  },
  {
   "cell_type": "code",
   "execution_count": null,
   "id": "7eed28fd",
   "metadata": {
    "vscode": {
     "languageId": "r"
    }
   },
   "outputs": [
    {
     "data": {
      "text/plain": [
       "\n",
       "+-------------------+---------+--------+\n",
       "|                   | Mean    | SD     |\n",
       "+===================+=========+========+\n",
       "| rownames          | 172.50  | 99.45  |\n",
       "+-------------------+---------+--------+\n",
       "| bill_length_mm    | 43.92   | 5.46   |\n",
       "+-------------------+---------+--------+\n",
       "| bill_depth_mm     | 17.15   | 1.97   |\n",
       "+-------------------+---------+--------+\n",
       "| flipper_length_mm | 200.92  | 14.06  |\n",
       "+-------------------+---------+--------+\n",
       "| body_mass_g       | 4201.75 | 801.95 |\n",
       "+-------------------+---------+--------+\n",
       "| year              | 2008.03 | 0.82   |\n",
       "+-------------------+---------+--------+ "
      ]
     },
     "metadata": {},
     "output_type": "display_data"
    }
   ],
   "source": [
    "datasummary(\n",
    "  All(penguins) ~ Mean + SD,\n",
    "  data = penguins\n",
    ")\n",
    "\n",
    "# +-------------------+---------+--------+\n",
    "# |                   | Mean    | SD     |\n",
    "# +===================+=========+========+\n",
    "# | rownames          | 172.50  | 99.45  |\n",
    "# +-------------------+---------+--------+\n",
    "# | bill_length_mm    | 43.92   | 5.46   |\n",
    "# +-------------------+---------+--------+\n",
    "# | bill_depth_mm     | 17.15   | 1.97   |\n",
    "# +-------------------+---------+--------+\n",
    "# | flipper_length_mm | 200.92  | 14.06  |\n",
    "# +-------------------+---------+--------+\n",
    "# | body_mass_g       | 4201.75 | 801.95 |\n",
    "# +-------------------+---------+--------+\n",
    "# | year              | 2008.03 | 0.82   |\n",
    "# +-------------------+---------+--------+"
   ]
  },
  {
   "cell_type": "markdown",
   "id": "7c6fa9ba",
   "metadata": {},
   "source": [
    "### 使用 * 进行嵌套"
   ]
  },
  {
   "cell_type": "code",
   "execution_count": null,
   "id": "0b9640b8",
   "metadata": {
    "vscode": {
     "languageId": "r"
    }
   },
   "outputs": [
    {
     "data": {
      "text/plain": [
       "\n",
       "+-------------------+---------+---------+\n",
       "|                   | female  | male    |\n",
       "+===================+=========+=========+\n",
       "| flipper_length_mm | 197.36  | 204.51  |\n",
       "+-------------------+---------+---------+\n",
       "| body_mass_g       | 3862.27 | 4545.68 |\n",
       "+-------------------+---------+---------+ "
      ]
     },
     "metadata": {},
     "output_type": "display_data"
    }
   ],
   "source": [
    "datasummary(\n",
    "  flipper_length_mm + body_mass_g ~ mean * sex,\n",
    "  data = penguins\n",
    ")\n",
    "\n",
    "# +-------------------+---------+---------+\n",
    "# |                   | female  | male    |\n",
    "# +===================+=========+=========+\n",
    "# | flipper_length_mm | 197.36  | 204.51  |\n",
    "# +-------------------+---------+---------+\n",
    "# | body_mass_g       | 3862.27 | 4545.68 |\n",
    "# +-------------------+---------+---------+"
   ]
  },
  {
   "cell_type": "code",
   "execution_count": null,
   "id": "e560cb0a",
   "metadata": {
    "vscode": {
     "languageId": "r"
    }
   },
   "outputs": [
    {
     "data": {
      "text/plain": [
       "+-------------+---------+--------+---------+--------+\n",
       "|             | female           | male             |\n",
       "+-------------+---------+--------+---------+--------+\n",
       "|             | mean    | sd     | mean    | sd     |\n",
       "+=============+=========+========+=========+========+\n",
       "| body_mass_g | 3862.27 | 666.17 | 4545.68 | 787.63 |\n",
       "+-------------+---------+--------+---------+--------+ "
      ]
     },
     "metadata": {},
     "output_type": "display_data"
    }
   ],
   "source": [
    "datasummary(\n",
    "  body_mass_g ~ sex * (mean + sd),\n",
    "  data = penguins\n",
    ")\n",
    "\n",
    "# +-------------+---------+--------+---------+--------+\n",
    "# |             | female           | male             |\n",
    "# +-------------+---------+--------+---------+--------+\n",
    "# |             | mean    | sd     | mean    | sd     |\n",
    "# +=============+=========+========+=========+========+\n",
    "# | body_mass_g | 3862.27 | 666.17 | 4545.68 | 787.63 |\n",
    "# +-------------+---------+--------+---------+--------+"
   ]
  },
  {
   "cell_type": "code",
   "execution_count": null,
   "id": "78bce940",
   "metadata": {
    "vscode": {
     "languageId": "r"
    }
   },
   "outputs": [
    {
     "data": {
      "text/plain": [
       "\n",
       "+--------+-------------------+---------+--------+\n",
       "| sex    |                   | mean    | sd     |\n",
       "+========+===================+=========+========+\n",
       "| female | body_mass_g       | 3862.27 | 666.17 |\n",
       "+--------+-------------------+---------+--------+\n",
       "|        | flipper_length_mm | 197.36  | 12.50  |\n",
       "+--------+-------------------+---------+--------+\n",
       "| male   | body_mass_g       | 4545.68 | 787.63 |\n",
       "+--------+-------------------+---------+--------+\n",
       "|        | flipper_length_mm | 204.51  | 14.55  |\n",
       "+--------+-------------------+---------+--------+ "
      ]
     },
     "metadata": {},
     "output_type": "display_data"
    }
   ],
   "source": [
    "datasummary(\n",
    "  sex * (body_mass_g + flipper_length_mm) ~ mean + sd,\n",
    "  data = penguins\n",
    ")\n",
    "\n",
    "# +--------+-------------------+---------+--------+\n",
    "# | sex    |                   | mean    | sd     |\n",
    "# +========+===================+=========+========+\n",
    "# | female | body_mass_g       | 3862.27 | 666.17 |\n",
    "# +--------+-------------------+---------+--------+\n",
    "# |        | flipper_length_mm | 197.36  | 12.50  |\n",
    "# +--------+-------------------+---------+--------+\n",
    "# | male   | body_mass_g       | 4545.68 | 787.63 |\n",
    "# +--------+-------------------+---------+--------+\n",
    "# |        | flipper_length_mm | 204.51  | 14.55  |\n",
    "# +--------+-------------------+---------+--------+"
   ]
  },
  {
   "cell_type": "code",
   "execution_count": 2,
   "id": "53859264",
   "metadata": {
    "vscode": {
     "languageId": "r"
    }
   },
   "outputs": [
    {
     "data": {
      "text/plain": [
       "+-------------------+---------+---------+---------+---------+---------+---------+\n",
       "|                   | Biscoe            | Dream             | Torgersen         |\n",
       "+-------------------+---------+---------+---------+---------+---------+---------+\n",
       "|                   | female  | male    | female  | male    | female  | male    |\n",
       "+===================+=========+=========+=========+=========+=========+=========+\n",
       "| flipper_length_mm | 205.69  | 213.29  | 190.02  | 196.31  | 188.29  | 194.91  |\n",
       "+-------------------+---------+---------+---------+---------+---------+---------+\n",
       "| body_mass_g       | 4319.38 | 5104.52 | 3446.31 | 3987.10 | 3395.83 | 4034.78 |\n",
       "+-------------------+---------+---------+---------+---------+---------+---------+ "
      ]
     },
     "metadata": {},
     "output_type": "display_data"
    }
   ],
   "source": [
    "datasummary(\n",
    "  flipper_length_mm + body_mass_g ~ mean * island * sex,\n",
    "  data = penguins\n",
    ")\n",
    "\n",
    "# +-------------------+---------+---------+---------+---------+---------+---------+\n",
    "# |                   | Biscoe            | Dream             | Torgersen         |\n",
    "# +-------------------+---------+---------+---------+---------+---------+---------+\n",
    "# |                   | female  | male    | female  | male    | female  | male    |\n",
    "# +===================+=========+=========+=========+=========+=========+=========+\n",
    "# | flipper_length_mm | 205.69  | 213.29  | 190.02  | 196.31  | 188.29  | 194.91  |\n",
    "# +-------------------+---------+---------+---------+---------+---------+---------+\n",
    "# | body_mass_g       | 4319.38 | 5104.52 | 3446.31 | 3987.10 | 3395.83 | 4034.78 |\n",
    "# +-------------------+---------+---------+---------+---------+---------+---------+"
   ]
  },
  {
   "cell_type": "code",
   "execution_count": null,
   "id": "bab05c4b",
   "metadata": {
    "vscode": {
     "languageId": "r"
    }
   },
   "outputs": [
    {
     "data": {
      "text/plain": [
       "+-------------------+---------+---------+-----------+---------+---------+-----------+\n",
       "|                   | female                        | male                          |\n",
       "+-------------------+---------+---------+-----------+---------+---------+-----------+\n",
       "|                   | Biscoe  | Dream   | Torgersen | Biscoe  | Dream   | Torgersen |\n",
       "+===================+=========+=========+===========+=========+=========+===========+\n",
       "| flipper_length_mm | 205.69  | 190.02  | 188.29    | 213.29  | 196.31  | 194.91    |\n",
       "+-------------------+---------+---------+-----------+---------+---------+-----------+\n",
       "| body_mass_g       | 4319.38 | 3446.31 | 3395.83   | 5104.52 | 3987.10 | 4034.78   |\n",
       "+-------------------+---------+---------+-----------+---------+---------+-----------+ "
      ]
     },
     "metadata": {},
     "output_type": "display_data"
    }
   ],
   "source": [
    "datasummary(\n",
    "  flipper_length_mm + body_mass_g ~ mean * sex * island,\n",
    "  data = penguins\n",
    ")\n",
    "\n",
    "# +-------------------+---------+---------+-----------+---------+---------+-----------+\n",
    "# |                   | female                        | male                          |\n",
    "# +-------------------+---------+---------+-----------+---------+---------+-----------+\n",
    "# |                   | Biscoe  | Dream   | Torgersen | Biscoe  | Dream   | Torgersen |\n",
    "# +===================+=========+=========+===========+=========+=========+===========+\n",
    "# | flipper_length_mm | 205.69  | 190.02  | 188.29    | 213.29  | 196.31  | 194.91    |\n",
    "# +-------------------+---------+---------+-----------+---------+---------+-----------+\n",
    "# | body_mass_g       | 4319.38 | 3446.31 | 3395.83   | 5104.52 | 3987.10 | 4034.78   |\n",
    "# +-------------------+---------+---------+-----------+---------+---------+-----------+"
   ]
  },
  {
   "cell_type": "code",
   "execution_count": null,
   "id": "6e3d4ab7",
   "metadata": {
    "vscode": {
     "languageId": "r"
    }
   },
   "outputs": [
    {
     "data": {
      "text/plain": [
       "+-------------------+---------+---------+-----------+---------+---------+-----------+\n",
       "|                   | female                        | male                          |\n",
       "+-------------------+---------+---------+-----------+---------+---------+-----------+\n",
       "|                   | Biscoe  | Dream   | Torgersen | Biscoe  | Dream   | Torgersen |\n",
       "+===================+=========+=========+===========+=========+=========+===========+\n",
       "| flipper_length_mm | 205.69  | 190.02  | 188.29    | 213.29  | 196.31  | 194.91    |\n",
       "+-------------------+---------+---------+-----------+---------+---------+-----------+\n",
       "| body_mass_g       | 4319.38 | 3446.31 | 3395.83   | 5104.52 | 3987.10 | 4034.78   |\n",
       "+-------------------+---------+---------+-----------+---------+---------+-----------+ "
      ]
     },
     "metadata": {},
     "output_type": "display_data"
    }
   ],
   "source": [
    "datasummary(\n",
    "  flipper_length_mm + body_mass_g ~ mean * sex * island,\n",
    "  data = penguins,\n",
    "  sparse_header = FALSE\n",
    ")\n",
    "\n",
    "# +-------------------+---------+---------+-----------+---------+---------+-----------+\n",
    "# |                   | female                        | male                          |\n",
    "# +-------------------+---------+---------+-----------+---------+---------+-----------+\n",
    "# |                   | Biscoe  | Dream   | Torgersen | Biscoe  | Dream   | Torgersen |\n",
    "# +===================+=========+=========+===========+=========+=========+===========+\n",
    "# | flipper_length_mm | 205.69  | 190.02  | 188.29    | 213.29  | 196.31  | 194.91    |\n",
    "# +-------------------+---------+---------+-----------+---------+---------+-----------+\n",
    "# | body_mass_g       | 4319.38 | 3446.31 | 3395.83   | 5104.52 | 3987.10 | 4034.78   |\n",
    "# +-------------------+---------+---------+-----------+---------+---------+-----------+"
   ]
  },
  {
   "cell_type": "markdown",
   "id": "f72c63a3",
   "metadata": {},
   "source": [
    "### 使用 = 重命名"
   ]
  },
  {
   "cell_type": "code",
   "execution_count": null,
   "id": "adcf03bb",
   "metadata": {
    "vscode": {
     "languageId": "r"
    }
   },
   "outputs": [
    {
     "data": {
      "text/plain": [
       "\n",
       "+---------------------+---------+--------+\n",
       "|                     | Mean    | SD     |\n",
       "+=====================+=========+========+\n",
       "| Flipper length (mm) | 200.92  | 14.06  |\n",
       "+---------------------+---------+--------+\n",
       "| Body mass (g)       | 4201.75 | 801.95 |\n",
       "+---------------------+---------+--------+ "
      ]
     },
     "metadata": {},
     "output_type": "display_data"
    }
   ],
   "source": [
    "tmp <- penguins %>%\n",
    "  select(`Flipper length (mm)` = flipper_length_mm,\n",
    "        `Body mass (g)` = body_mass_g)\n",
    "\n",
    "datasummary(\n",
    "  `Flipper length (mm)` + `Body mass (g)` ~ Mean + SD,\n",
    "  data = tmp\n",
    ")\n",
    "\n",
    "# +---------------------+---------+--------+\n",
    "# |                     | Mean    | SD     |\n",
    "# +=====================+=========+========+\n",
    "# | Flipper length (mm) | 200.92  | 14.06  |\n",
    "# +---------------------+---------+--------+\n",
    "# | Body mass (g)       | 4201.75 | 801.95 |\n",
    "# +---------------------+---------+--------+"
   ]
  },
  {
   "cell_type": "code",
   "execution_count": null,
   "id": "5c3008f6",
   "metadata": {
    "vscode": {
     "languageId": "r"
    }
   },
   "outputs": [
    {
     "data": {
      "text/plain": [
       "+---------------------+---------+----------+---------+----------+---------+----------+\n",
       "|                     | Biscoe             | Dream              | Torgersen          |\n",
       "+---------------------+---------+----------+---------+----------+---------+----------+\n",
       "|                     | Avg.    | Std.Dev. | Avg.    | Std.Dev. | Avg.    | Std.Dev. |\n",
       "+=====================+=========+==========+=========+==========+=========+==========+\n",
       "| Flipper length (mm) | 209.71  | 14.14    | 193.07  | 7.51     | 191.20  | 6.23     |\n",
       "+---------------------+---------+----------+---------+----------+---------+----------+\n",
       "| Body mass (g)       | 4716.02 | 782.86   | 3712.90 | 416.64   | 3706.37 | 445.11   |\n",
       "+---------------------+---------+----------+---------+----------+---------+----------+ "
      ]
     },
     "metadata": {},
     "output_type": "display_data"
    }
   ],
   "source": [
    "datasummary(\n",
    "  (`Flipper length (mm)` = flipper_length_mm) + (`Body mass (g)` = body_mass_g) ~\n",
    "    island * ((Avg. = Mean) + (Std.Dev. = SD)),\n",
    "  data = penguins\n",
    ")\n",
    "\n",
    "# +---------------------+---------+----------+---------+----------+---------+----------+\n",
    "# |                     | Biscoe             | Dream              | Torgersen          |\n",
    "# +---------------------+---------+----------+---------+----------+---------+----------+\n",
    "# |                     | Avg.    | Std.Dev. | Avg.    | Std.Dev. | Avg.    | Std.Dev. |\n",
    "# +=====================+=========+==========+=========+==========+=========+==========+\n",
    "# | Flipper length (mm) | 209.71  | 14.14    | 193.07  | 7.51     | 191.20  | 6.23     |\n",
    "# +---------------------+---------+----------+---------+----------+---------+----------+\n",
    "# | Body mass (g)       | 4716.02 | 782.86   | 3712.90 | 416.64   | 3706.37 | 445.11   |\n",
    "# +---------------------+---------+----------+---------+----------+---------+----------+"
   ]
  },
  {
   "cell_type": "code",
   "execution_count": null,
   "id": "611ffbb8",
   "metadata": {
    "vscode": {
     "languageId": "r"
    }
   },
   "outputs": [
    {
     "data": {
      "text/plain": [
       "+---------------------+---------+--------+---------+--------+---------+--------+\n",
       "|                     | Biscoe           | Dream            | Torgersen        |\n",
       "+---------------------+---------+--------+---------+--------+---------+--------+\n",
       "|                     | Mean    | SD     | Mean    | SD     | Mean    | SD     |\n",
       "+=====================+=========+========+=========+========+=========+========+\n",
       "| Flipper length (mm) | 209.71  | 14.14  | 193.07  | 7.51   | 191.20  | 6.23   |\n",
       "+---------------------+---------+--------+---------+--------+---------+--------+\n",
       "| Body mass (g)       | 4716.02 | 782.86 | 3712.90 | 416.64 | 3706.37 | 445.11 |\n",
       "+---------------------+---------+--------+---------+--------+---------+--------+ "
      ]
     },
     "metadata": {},
     "output_type": "display_data"
    }
   ],
   "source": [
    "datasummary(\n",
    "  Heading(\"Flipper length (mm)\") * flipper_length_mm + \n",
    "    Heading(\"Body mass (g)\") * body_mass_g ~ island * (Mean + SD),\n",
    "  data = penguins\n",
    ")\n",
    "\n",
    "# +---------------------+---------+--------+---------+--------+---------+--------+\n",
    "# |                     | Biscoe           | Dream            | Torgersen        |\n",
    "# +---------------------+---------+--------+---------+--------+---------+--------+\n",
    "# |                     | Mean    | SD     | Mean    | SD     | Mean    | SD     |\n",
    "# +=====================+=========+========+=========+========+=========+========+\n",
    "# | Flipper length (mm) | 209.71  | 14.14  | 193.07  | 7.51   | 191.20  | 6.23   |\n",
    "# +---------------------+---------+--------+---------+--------+---------+--------+\n",
    "# | Body mass (g)       | 4716.02 | 782.86 | 3712.90 | 416.64 | 3706.37 | 445.11 |\n",
    "# +---------------------+---------+--------+---------+--------+---------+--------+"
   ]
  },
  {
   "cell_type": "code",
   "execution_count": null,
   "id": "88984590",
   "metadata": {
    "vscode": {
     "languageId": "r"
    }
   },
   "outputs": [
    {
     "data": {
      "text/plain": [
       "\n",
       "+--------+-------------------+---------+--------+\n",
       "| sex    |                   | Mean    | SD     |\n",
       "+========+===================+=========+========+\n",
       "| female | flipper_length_mm | 197.36  | 12.50  |\n",
       "+--------+-------------------+---------+--------+\n",
       "|        | bill_length_mm    | 42.10   | 4.90   |\n",
       "+--------+-------------------+---------+--------+\n",
       "| male   | flipper_length_mm | 204.51  | 14.55  |\n",
       "+--------+-------------------+---------+--------+\n",
       "|        | bill_length_mm    | 45.85   | 5.37   |\n",
       "+--------+-------------------+---------+--------+\n",
       "|        | Body mass (g)     | 4201.75 | 801.95 |\n",
       "+--------+-------------------+---------+--------+ "
      ]
     },
     "metadata": {},
     "output_type": "display_data"
    }
   ],
   "source": [
    "datasummary(\n",
    "  sex * (flipper_length_mm + bill_length_mm) +\n",
    "    Heading(\"Body mass (g)\") * body_mass_g ~ Mean + SD,\n",
    "  data = penguins\n",
    ")\n",
    "\n",
    "# +--------+-------------------+---------+--------+\n",
    "# | sex    |                   | Mean    | SD     |\n",
    "# +========+===================+=========+========+\n",
    "# | female | flipper_length_mm | 197.36  | 12.50  |\n",
    "# +--------+-------------------+---------+--------+\n",
    "# |        | bill_length_mm    | 42.10   | 4.90   |\n",
    "# +--------+-------------------+---------+--------+\n",
    "# | male   | flipper_length_mm | 204.51  | 14.55  |\n",
    "# +--------+-------------------+---------+--------+\n",
    "# |        | bill_length_mm    | 45.85   | 5.37   |\n",
    "# +--------+-------------------+---------+--------+\n",
    "# |        | Body mass (g)     | 4201.75 | 801.95 |\n",
    "# +--------+-------------------+---------+--------+"
   ]
  },
  {
   "cell_type": "code",
   "execution_count": null,
   "id": "4bd41b9f",
   "metadata": {
    "vscode": {
     "languageId": "r"
    }
   },
   "outputs": [
    {
     "data": {
      "text/plain": [
       "\n",
       "+---------------+-------------------+---------+--------+\n",
       "| sex           |                   | Mean    | SD     |\n",
       "+===============+===================+=========+========+\n",
       "| female        | flipper_length_mm | 197.36  | 12.50  |\n",
       "+---------------+-------------------+---------+--------+\n",
       "|               | bill_length_mm    | 42.10   | 4.90   |\n",
       "+---------------+-------------------+---------+--------+\n",
       "| male          | flipper_length_mm | 204.51  | 14.55  |\n",
       "+---------------+-------------------+---------+--------+\n",
       "|               | bill_length_mm    | 45.85   | 5.37   |\n",
       "+---------------+-------------------+---------+--------+\n",
       "| Body mass (g) |                   | 4201.75 | 801.95 |\n",
       "+---------------+-------------------+---------+--------+ "
      ]
     },
     "metadata": {},
     "output_type": "display_data"
    }
   ],
   "source": [
    "datasummary(\n",
    "  sex * (flipper_length_mm + bill_length_mm) + \n",
    "    Heading(\"Body mass (g)\", nearData=FALSE) * body_mass_g ~ Mean + SD,\n",
    "  data = penguins\n",
    ")\n",
    "\n",
    "# +---------------+-------------------+---------+--------+\n",
    "# | sex           |                   | Mean    | SD     |\n",
    "# +===============+===================+=========+========+\n",
    "# | female        | flipper_length_mm | 197.36  | 12.50  |\n",
    "# +---------------+-------------------+---------+--------+\n",
    "# |               | bill_length_mm    | 42.10   | 4.90   |\n",
    "# +---------------+-------------------+---------+--------+\n",
    "# | male          | flipper_length_mm | 204.51  | 14.55  |\n",
    "# +---------------+-------------------+---------+--------+\n",
    "# |               | bill_length_mm    | 45.85   | 5.37   |\n",
    "# +---------------+-------------------+---------+--------+\n",
    "# | Body mass (g) |                   | 4201.75 | 801.95 |\n",
    "# +---------------+-------------------+---------+--------+"
   ]
  },
  {
   "cell_type": "markdown",
   "id": "b4edfef7",
   "metadata": {},
   "source": [
    "### 计数与百分比"
   ]
  },
  {
   "cell_type": "code",
   "execution_count": null,
   "id": "dce5396f",
   "metadata": {
    "vscode": {
     "languageId": "r"
    }
   },
   "outputs": [
    {
     "data": {
      "text/plain": [
       "\n",
       "+-----------+--------+-----+---------+\n",
       "| species   | sex    | N   | Percent |\n",
       "+===========+========+=====+=========+\n",
       "| Adelie    | female | 73  | 21.22   |\n",
       "+-----------+--------+-----+---------+\n",
       "|           | male   | 73  | 21.22   |\n",
       "+-----------+--------+-----+---------+\n",
       "| Chinstrap | female | 34  | 9.88    |\n",
       "+-----------+--------+-----+---------+\n",
       "|           | male   | 34  | 9.88    |\n",
       "+-----------+--------+-----+---------+\n",
       "| Gentoo    | female | 58  | 16.86   |\n",
       "+-----------+--------+-----+---------+\n",
       "|           | male   | 61  | 17.73   |\n",
       "+-----------+--------+-----+---------+\n",
       "|           | All    | 344 | 100.00  |\n",
       "+-----------+--------+-----+---------+ "
      ]
     },
     "metadata": {},
     "output_type": "display_data"
    }
   ],
   "source": [
    "datasummary(\n",
    "  species * sex + 1 ~ N + Percent(),\n",
    "  data = penguins\n",
    ")\n",
    "\n",
    "# +-----------+--------+-----+---------+\n",
    "# | species   | sex    | N   | Percent |\n",
    "# +===========+========+=====+=========+\n",
    "# | Adelie    | female | 73  | 21.22   |\n",
    "# +-----------+--------+-----+---------+\n",
    "# |           | male   | 73  | 21.22   |\n",
    "# +-----------+--------+-----+---------+\n",
    "# | Chinstrap | female | 34  | 9.88    |\n",
    "# +-----------+--------+-----+---------+\n",
    "# |           | male   | 34  | 9.88    |\n",
    "# +-----------+--------+-----+---------+\n",
    "# | Gentoo    | female | 58  | 16.86   |\n",
    "# +-----------+--------+-----+---------+\n",
    "# |           | male   | 61  | 17.73   |\n",
    "# +-----------+--------+-----+---------+\n",
    "# |           | All    | 344 | 100.00  |\n",
    "# +-----------+--------+-----+---------+"
   ]
  },
  {
   "cell_type": "markdown",
   "id": "b0a41bd0",
   "metadata": {},
   "source": [
    "### 加权百分比"
   ]
  },
  {
   "cell_type": "code",
   "execution_count": null,
   "id": "c5ecb4e7",
   "metadata": {
    "vscode": {
     "languageId": "r"
    }
   },
   "outputs": [
    {
     "data": {
      "text/plain": [
       "\n",
       "+-----------+--------+-----+---------+\n",
       "| species   | sex    | N   | Percent |\n",
       "+===========+========+=====+=========+\n",
       "| Adelie    | female | 73  | 21.22   |\n",
       "+-----------+--------+-----+---------+\n",
       "|           | male   | 73  | 21.22   |\n",
       "+-----------+--------+-----+---------+\n",
       "| Chinstrap | female | 34  | 9.88    |\n",
       "+-----------+--------+-----+---------+\n",
       "|           | male   | 34  | 9.88    |\n",
       "+-----------+--------+-----+---------+\n",
       "| Gentoo    | female | 58  | 16.86   |\n",
       "+-----------+--------+-----+---------+\n",
       "|           | male   | 61  | 17.73   |\n",
       "+-----------+--------+-----+---------+\n",
       "|           | All    | 344 | 100.00  |\n",
       "+-----------+--------+-----+---------+ "
      ]
     },
     "metadata": {},
     "output_type": "display_data"
    }
   ],
   "source": [
    "datasummary(\n",
    "  species * sex + 1 ~ N + \n",
    "    Percent(fn = function(x, y) 100 * length(x) / length(y)),\n",
    "  data = penguins\n",
    ")\n",
    "\n",
    "# +-----------+--------+-----+---------+\n",
    "# | species   | sex    | N   | Percent |\n",
    "# +===========+========+=====+=========+\n",
    "# | Adelie    | female | 73  | 21.22   |\n",
    "# +-----------+--------+-----+---------+\n",
    "# |           | male   | 73  | 21.22   |\n",
    "# +-----------+--------+-----+---------+\n",
    "# | Chinstrap | female | 34  | 9.88    |\n",
    "# +-----------+--------+-----+---------+\n",
    "# |           | male   | 34  | 9.88    |\n",
    "# +-----------+--------+-----+---------+\n",
    "# | Gentoo    | female | 58  | 16.86   |\n",
    "# +-----------+--------+-----+---------+\n",
    "# |           | male   | 61  | 17.73   |\n",
    "# +-----------+--------+-----+---------+\n",
    "# |           | All    | 344 | 100.00  |\n",
    "# +-----------+--------+-----+---------+"
   ]
  },
  {
   "cell_type": "code",
   "execution_count": null,
   "id": "348383c0",
   "metadata": {
    "vscode": {
     "languageId": "r"
    }
   },
   "outputs": [
    {
     "data": {
      "text/plain": [
       "\n",
       "+-----------+--------+-----+---------+\n",
       "| species   | sex    | N   | Percent |\n",
       "+===========+========+=====+=========+\n",
       "| Adelie    | female | 73  | 19.95   |\n",
       "+-----------+--------+-----+---------+\n",
       "|           | male   | 73  | 20.44   |\n",
       "+-----------+--------+-----+---------+\n",
       "| Chinstrap | female | 34  | 9.49    |\n",
       "+-----------+--------+-----+---------+\n",
       "|           | male   | 34  | 9.89    |\n",
       "+-----------+--------+-----+---------+\n",
       "| Gentoo    | female | 58  | 17.95   |\n",
       "+-----------+--------+-----+---------+\n",
       "|           | male   | 61  | 19.67   |\n",
       "+-----------+--------+-----+---------+\n",
       "|           | All    | 344 | 100.00  |\n",
       "+-----------+--------+-----+---------+ "
      ]
     },
     "metadata": {},
     "output_type": "display_data"
    }
   ],
   "source": [
    "wtpct <- function(x, y) sum(x, na.rm = TRUE) / sum(y, na.rm = TRUE) * 100\n",
    "datasummary(\n",
    "  species * sex + 1 ~ N + flipper_length_mm * Percent(fn = wtpct),\n",
    "  data = penguins\n",
    ")\n",
    "\n",
    "# +-----------+--------+-----+---------+\n",
    "# | species   | sex    | N   | Percent |\n",
    "# +===========+========+=====+=========+\n",
    "# | Adelie    | female | 73  | 19.95   |\n",
    "# +-----------+--------+-----+---------+\n",
    "# |           | male   | 73  | 20.44   |\n",
    "# +-----------+--------+-----+---------+\n",
    "# | Chinstrap | female | 34  | 9.49    |\n",
    "# +-----------+--------+-----+---------+\n",
    "# |           | male   | 34  | 9.89    |\n",
    "# +-----------+--------+-----+---------+\n",
    "# | Gentoo    | female | 58  | 17.95   |\n",
    "# +-----------+--------+-----+---------+\n",
    "# |           | male   | 61  | 19.67   |\n",
    "# +-----------+--------+-----+---------+\n",
    "# |           | All    | 344 | 100.00  |\n",
    "# +-----------+--------+-----+---------+"
   ]
  },
  {
   "cell_type": "markdown",
   "id": "24681ef9",
   "metadata": {},
   "source": [
    "### 自定义百分比"
   ]
  },
  {
   "cell_type": "code",
   "execution_count": null,
   "id": "ca01a979",
   "metadata": {
    "vscode": {
     "languageId": "r"
    }
   },
   "outputs": [
    {
     "data": {
      "text/plain": [
       "\n",
       "+-----+------------+\n",
       "| cyl | Percent    |\n",
       "+=====+============+\n",
       "| 4   | 11 (34.4%) |\n",
       "+-----+------------+\n",
       "| 6   | 7 (21.9%)  |\n",
       "+-----+------------+\n",
       "| 8   | 14 (43.8%) |\n",
       "+-----+------------+ "
      ]
     },
     "metadata": {},
     "output_type": "display_data"
    }
   ],
   "source": [
    "dat <- mtcars\n",
    "dat$cyl <- as.factor(dat$cyl)\n",
    "\n",
    "fn <- function(x, y) {\n",
    "    out <- sprintf(\n",
    "        \"%s (%.1f%%)\",\n",
    "        length(x),\n",
    "        length(x) / length(y) * 100)\n",
    "}\n",
    "datasummary(\n",
    "  cyl ~ Percent(fn = fn),\n",
    "  data = dat\n",
    ")\n",
    "\n",
    "# +-----+------------+\n",
    "# | cyl | Percent    |\n",
    "# +=====+============+\n",
    "# | 4   | 11 (34.4%) |\n",
    "# +-----+------------+\n",
    "# | 6   | 7 (21.9%)  |\n",
    "# +-----+------------+\n",
    "# | 8   | 14 (43.8%) |\n",
    "# +-----+------------+"
   ]
  },
  {
   "cell_type": "markdown",
   "id": "b0c470f1",
   "metadata": {},
   "source": [
    "### 因子"
   ]
  },
  {
   "cell_type": "code",
   "execution_count": null,
   "id": "aa9bfdef",
   "metadata": {
    "vscode": {
     "languageId": "r"
    }
   },
   "outputs": [
    {
     "data": {
      "text/plain": [
       "+-----+--------+-------+--------+-------+\n",
       "|     | 0              | 1              |\n",
       "+-----+--------+-------+--------+-------+\n",
       "|     | mean   | sd    | mean   | sd    |\n",
       "+=====+========+=======+========+=======+\n",
       "| mpg | 17.15  | 3.83  | 24.39  | 6.17  |\n",
       "+-----+--------+-------+--------+-------+\n",
       "| hp  | 160.26 | 53.91 | 126.85 | 84.06 |\n",
       "+-----+--------+-------+--------+-------+ "
      ]
     },
     "metadata": {},
     "output_type": "display_data"
    }
   ],
   "source": [
    "datasummary(\n",
    "  mpg + hp ~ Factor(am) * (mean + sd),\n",
    "  data = mtcars\n",
    ")\n",
    "\n",
    "# +-----+--------+-------+--------+-------+\n",
    "# |     | 0              | 1              |\n",
    "# +-----+--------+-------+--------+-------+\n",
    "# |     | mean   | sd    | mean   | sd    |\n",
    "# +=====+========+=======+========+=======+\n",
    "# | mpg | 17.15  | 3.83  | 24.39  | 6.17  |\n",
    "# +-----+--------+-------+--------+-------+\n",
    "# | hp  | 160.26 | 53.91 | 126.85 | 84.06 |\n",
    "# +-----+--------+-------+--------+-------+"
   ]
  },
  {
   "cell_type": "markdown",
   "id": "fd68c6bf",
   "metadata": {},
   "source": [
    "### Arguments: na.rm=TRUE"
   ]
  },
  {
   "cell_type": "code",
   "execution_count": null,
   "id": "76b11e1f",
   "metadata": {
    "vscode": {
     "languageId": "r"
    }
   },
   "outputs": [
    {
     "data": {
      "text/plain": [
       "\n",
       "+-------------------+------+--------+\n",
       "|                   | mean | mean   |\n",
       "+===================+======+========+\n",
       "| flipper_length_mm |      | 200.92 |\n",
       "+-------------------+------+--------+ "
      ]
     },
     "metadata": {},
     "output_type": "display_data"
    }
   ],
   "source": [
    "datasummary(\n",
    "  flipper_length_mm ~ mean + mean*Arguments(na.rm = TRUE),\n",
    "  data = penguins\n",
    ")\n",
    "\n",
    "# +-------------------+------+--------+\n",
    "# |                   | mean | mean   |\n",
    "# +===================+======+========+\n",
    "# | flipper_length_mm |      | 200.92 |\n",
    "# +-------------------+------+--------+"
   ]
  },
  {
   "cell_type": "code",
   "execution_count": null,
   "id": "9830b9d7",
   "metadata": {
    "vscode": {
     "languageId": "r"
    }
   },
   "outputs": [
    {
     "data": {
      "text/plain": [
       "\n",
       "+-------------------+--------+-------+\n",
       "|                   | mean   | sd    |\n",
       "+===================+========+=======+\n",
       "| flipper_length_mm | 200.92 | 14.06 |\n",
       "+-------------------+--------+-------+ "
      ]
     },
     "metadata": {},
     "output_type": "display_data"
    }
   ],
   "source": [
    "datasummary(\n",
    "  flipper_length_mm ~ (mean + sd) * Arguments(na.rm=TRUE),\n",
    "  data = penguins\n",
    ")\n",
    "\n",
    "# +-------------------+--------+-------+\n",
    "# |                   | mean   | sd    |\n",
    "# +===================+========+=======+\n",
    "# | flipper_length_mm | 200.92 | 14.06 |\n",
    "# +-------------------+--------+-------+"
   ]
  },
  {
   "cell_type": "markdown",
   "id": "56d9eb61",
   "metadata": {},
   "source": [
    "### Arguments: Weighted Mean"
   ]
  },
  {
   "cell_type": "code",
   "execution_count": null,
   "id": "f32eb7f1",
   "metadata": {
    "vscode": {
     "languageId": "r"
    }
   },
   "outputs": [
    {
     "data": {
      "text/plain": [
       "\n",
       "+---+---------------+\n",
       "|   | weighted.mean |\n",
       "+===+===============+\n",
       "| x | 0.90          |\n",
       "+---+---------------+\n",
       "| y | -0.29         |\n",
       "+---+---------------+ "
      ]
     },
     "metadata": {},
     "output_type": "display_data"
    }
   ],
   "source": [
    "newdata <- data.frame(\n",
    "  x = rnorm(20),\n",
    "  w = rnorm(20),\n",
    "  y = rnorm(20))\n",
    "\n",
    "datasummary(\n",
    "  x + y ~ weighted.mean * Arguments(w = w),\n",
    "  data = newdata\n",
    ")\n",
    "\n",
    "# +---+---------------+\n",
    "# |   | weighted.mean |\n",
    "# +===+===============+\n",
    "# | x | 0.90          |\n",
    "# +---+---------------+\n",
    "# | y | -0.29         |\n",
    "# +---+---------------+"
   ]
  },
  {
   "cell_type": "markdown",
   "id": "0b2a1a7b",
   "metadata": {},
   "source": [
    "### 逻辑子集"
   ]
  },
  {
   "cell_type": "code",
   "execution_count": null,
   "id": "7a0c7a47",
   "metadata": {
    "vscode": {
     "languageId": "r"
    }
   },
   "outputs": [
    {
     "data": {
      "text/plain": [
       "\n",
       "+------------------------+--------+\n",
       "| NA                     | NA     |\n",
       "+========================+========+\n",
       "| bill_length_mm > 44.5  | 209.68 |\n",
       "+------------------------+--------+\n",
       "| bill_length_mm <= 44.5 | 192.45 |\n",
       "+------------------------+--------+ "
      ]
     },
     "metadata": {},
     "output_type": "display_data"
    }
   ],
   "source": [
    "datasummary(\n",
    "  (bill_length_mm > 44.5) + (bill_length_mm <= 44.5) ~ Mean * flipper_length_mm,\n",
    "  data = penguins\n",
    ")\n",
    "\n",
    "# +------------------------+--------+\n",
    "# | NA                     | NA     |\n",
    "# +========================+========+\n",
    "# | bill_length_mm > 44.5  | 209.68 |\n",
    "# +------------------------+--------+\n",
    "# | bill_length_mm <= 44.5 | 192.45 |\n",
    "# +------------------------+--------+"
   ]
  },
  {
   "cell_type": "markdown",
   "id": "bbd6e3c7",
   "metadata": {},
   "source": [
    "### 缺失值"
   ]
  },
  {
   "cell_type": "code",
   "execution_count": null,
   "id": "99ed677f",
   "metadata": {
    "vscode": {
     "languageId": "r"
    }
   },
   "outputs": [
    {
     "data": {
      "text/plain": [
       "+-----------+-----------+-------------+---------+--------+---------+--------+\n",
       "|                                     | female           | male             |\n",
       "+-----------+-----------+-------------+---------+--------+---------+--------+\n",
       "| island    | species   |             | Mean    | SD     | Mean    | SD     |\n",
       "+===========+===========+=============+=========+========+=========+========+\n",
       "| Biscoe    | Adelie    | body_mass_g | 3369.32 | 343.47 | 4050.00 | 355.57 |\n",
       "+-----------+-----------+-------------+---------+--------+---------+--------+\n",
       "|           | Chinstrap | body_mass_g |         |        |         |        |\n",
       "+-----------+-----------+-------------+---------+--------+---------+--------+\n",
       "|           | Gentoo    | body_mass_g | 4679.74 | 281.58 | 5484.84 | 313.16 |\n",
       "+-----------+-----------+-------------+---------+--------+---------+--------+\n",
       "| Dream     | Adelie    | body_mass_g | 3344.44 | 212.06 | 4045.54 | 330.55 |\n",
       "+-----------+-----------+-------------+---------+--------+---------+--------+\n",
       "|           | Chinstrap | body_mass_g | 3527.21 | 285.33 | 3938.97 | 362.14 |\n",
       "+-----------+-----------+-------------+---------+--------+---------+--------+\n",
       "|           | Gentoo    | body_mass_g |         |        |         |        |\n",
       "+-----------+-----------+-------------+---------+--------+---------+--------+\n",
       "| Torgersen | Adelie    | body_mass_g | 3395.83 | 259.14 | 4034.78 | 372.47 |\n",
       "+-----------+-----------+-------------+---------+--------+---------+--------+\n",
       "|           | Chinstrap | body_mass_g |         |        |         |        |\n",
       "+-----------+-----------+-------------+---------+--------+---------+--------+\n",
       "|           | Gentoo    | body_mass_g |         |        |         |        |\n",
       "+-----------+-----------+-------------+---------+--------+---------+--------+ "
      ]
     },
     "metadata": {},
     "output_type": "display_data"
    }
   ],
   "source": [
    "datasummary(\n",
    "  island * species * body_mass_g ~ sex * (Mean + SD),\n",
    "  data = penguins\n",
    ")\n",
    "\n",
    "# +-----------+-----------+-------------+---------+--------+---------+--------+\n",
    "# |                                     | female           | male             |\n",
    "# +-----------+-----------+-------------+---------+--------+---------+--------+\n",
    "# | island    | species   |             | Mean    | SD     | Mean    | SD     |\n",
    "# +===========+===========+=============+=========+========+=========+========+\n",
    "# | Biscoe    | Adelie    | body_mass_g | 3369.32 | 343.47 | 4050.00 | 355.57 |\n",
    "# +-----------+-----------+-------------+---------+--------+---------+--------+\n",
    "# |           | Chinstrap | body_mass_g |         |        |         |        |\n",
    "# +-----------+-----------+-------------+---------+--------+---------+--------+\n",
    "# |           | Gentoo    | body_mass_g | 4679.74 | 281.58 | 5484.84 | 313.16 |\n",
    "# +-----------+-----------+-------------+---------+--------+---------+--------+\n",
    "# | Dream     | Adelie    | body_mass_g | 3344.44 | 212.06 | 4045.54 | 330.55 |\n",
    "# +-----------+-----------+-------------+---------+--------+---------+--------+\n",
    "# |           | Chinstrap | body_mass_g | 3527.21 | 285.33 | 3938.97 | 362.14 |\n",
    "# +-----------+-----------+-------------+---------+--------+---------+--------+\n",
    "# |           | Gentoo    | body_mass_g |         |        |         |        |\n",
    "# +-----------+-----------+-------------+---------+--------+---------+--------+\n",
    "# | Torgersen | Adelie    | body_mass_g | 3395.83 | 259.14 | 4034.78 | 372.47 |\n",
    "# +-----------+-----------+-------------+---------+--------+---------+--------+\n",
    "# |           | Chinstrap | body_mass_g |         |        |         |        |\n",
    "# +-----------+-----------+-------------+---------+--------+---------+--------+\n",
    "# |           | Gentoo    | body_mass_g |         |        |         |        |\n",
    "# +-----------+-----------+-------------+---------+--------+---------+--------+"
   ]
  },
  {
   "cell_type": "code",
   "execution_count": null,
   "id": "47e95df1",
   "metadata": {
    "vscode": {
     "languageId": "r"
    }
   },
   "outputs": [
    {
     "data": {
      "text/plain": [
       "+-----------+-----------+-------------+---------+--------+---------+--------+\n",
       "|                                     | female           | male             |\n",
       "+-----------+-----------+-------------+---------+--------+---------+--------+\n",
       "| island    | species   |             | Mean    | SD     | Mean    | SD     |\n",
       "+===========+===========+=============+=========+========+=========+========+\n",
       "| Biscoe    | Adelie    | body_mass_g | 3369.32 | 343.47 | 4050.00 | 355.57 |\n",
       "+-----------+-----------+-------------+---------+--------+---------+--------+\n",
       "|           | Gentoo    | body_mass_g | 4679.74 | 281.58 | 5484.84 | 313.16 |\n",
       "+-----------+-----------+-------------+---------+--------+---------+--------+\n",
       "| Dream     | Adelie    | body_mass_g | 3344.44 | 212.06 | 4045.54 | 330.55 |\n",
       "+-----------+-----------+-------------+---------+--------+---------+--------+\n",
       "|           | Chinstrap | body_mass_g | 3527.21 | 285.33 | 3938.97 | 362.14 |\n",
       "+-----------+-----------+-------------+---------+--------+---------+--------+\n",
       "| Torgersen | Adelie    | body_mass_g | 3395.83 | 259.14 | 4034.78 | 372.47 |\n",
       "+-----------+-----------+-------------+---------+--------+---------+--------+ "
      ]
     },
     "metadata": {},
     "output_type": "display_data"
    }
   ],
   "source": [
    "datasummary(\n",
    "  island * species * body_mass_g ~ sex * (Mean + SD) * DropEmpty(),\n",
    "  data = penguins\n",
    ")\n",
    "\n",
    "# +-----------+-----------+-------------+---------+--------+---------+--------+\n",
    "# |                                     | female           | male             |\n",
    "# +-----------+-----------+-------------+---------+--------+---------+--------+\n",
    "# | island    | species   |             | Mean    | SD     | Mean    | SD     |\n",
    "# +===========+===========+=============+=========+========+=========+========+\n",
    "# | Biscoe    | Adelie    | body_mass_g | 3369.32 | 343.47 | 4050.00 | 355.57 |\n",
    "# +-----------+-----------+-------------+---------+--------+---------+--------+\n",
    "# |           | Gentoo    | body_mass_g | 4679.74 | 281.58 | 5484.84 | 313.16 |\n",
    "# +-----------+-----------+-------------+---------+--------+---------+--------+\n",
    "# | Dream     | Adelie    | body_mass_g | 3344.44 | 212.06 | 4045.54 | 330.55 |\n",
    "# +-----------+-----------+-------------+---------+--------+---------+--------+\n",
    "# |           | Chinstrap | body_mass_g | 3527.21 | 285.33 | 3938.97 | 362.14 |\n",
    "# +-----------+-----------+-------------+---------+--------+---------+--------+\n",
    "# | Torgersen | Adelie    | body_mass_g | 3395.83 | 259.14 | 4034.78 | 372.47 |\n",
    "# +-----------+-----------+-------------+---------+--------+---------+--------+"
   ]
  },
  {
   "cell_type": "code",
   "execution_count": 23,
   "id": "67518288",
   "metadata": {
    "vscode": {
     "languageId": "r"
    }
   },
   "outputs": [
    {
     "data": {
      "text/plain": [
       "\n",
       "        0         1 \n",
       "0.6666667 0.3333333 "
      ]
     },
     "metadata": {},
     "output_type": "display_data"
    }
   ],
   "source": [
    "dat <- data.frame(z = c(0,0,1,0,NA,0,1))\n",
    "\n",
    "prop.table(table(dat$z))"
   ]
  },
  {
   "cell_type": "code",
   "execution_count": null,
   "id": "eb08825e",
   "metadata": {
    "vscode": {
     "languageId": "r"
    }
   },
   "outputs": [
    {
     "data": {
      "text/plain": [
       "\n",
       "+---+---+---------+\n",
       "| z | N | Percent |\n",
       "+===+===+=========+\n",
       "| 0 | 4 | 57.14   |\n",
       "+---+---+---------+\n",
       "| 1 | 2 | 28.57   |\n",
       "+---+---+---------+ "
      ]
     },
     "metadata": {},
     "output_type": "display_data"
    }
   ],
   "source": [
    "datasummary(Factor(z) ~ N + Percent(), data = dat)\n",
    "\n",
    "# +---+---+---------+\n",
    "# | z | N | Percent |\n",
    "# +===+===+=========+\n",
    "# | 0 | 4 | 57.14   |\n",
    "# +---+---+---------+\n",
    "# | 1 | 2 | 28.57   |\n",
    "# +---+---+---------+"
   ]
  },
  {
   "cell_type": "code",
   "execution_count": null,
   "id": "eae14768",
   "metadata": {
    "vscode": {
     "languageId": "r"
    }
   },
   "outputs": [
    {
     "data": {
      "text/plain": [
       "\n",
       "+---+---+---------+\n",
       "| z | N | Percent |\n",
       "+===+===+=========+\n",
       "| 0 | 4 | 66.67   |\n",
       "+---+---+---------+\n",
       "| 1 | 2 | 33.33   |\n",
       "+---+---+---------+ "
      ]
     },
     "metadata": {},
     "output_type": "display_data"
    }
   ],
   "source": [
    "datasummary(\n",
    "  Factor(z) ~ N + Percent(denom = !is.na(dat$z)),\n",
    "  data = dat\n",
    ")\n",
    "\n",
    "# +---+---+---------+\n",
    "# | z | N | Percent |\n",
    "# +===+===+=========+\n",
    "# | 0 | 4 | 66.67   |\n",
    "# +---+---+---------+\n",
    "# | 1 | 2 | 33.33   |\n",
    "# +---+---+---------+"
   ]
  },
  {
   "cell_type": "markdown",
   "id": "a7ab3e49",
   "metadata": {},
   "source": [
    "### 添加行"
   ]
  },
  {
   "cell_type": "code",
   "execution_count": null,
   "id": "e4bd9941",
   "metadata": {
    "vscode": {
     "languageId": "r"
    }
   },
   "outputs": [
    {
     "data": {
      "text/plain": [
       "+-------------------+---------+--------+---------+--------+---------+--------+\n",
       "|                   | Adelie           | Chinstrap        | Gentoo           |\n",
       "+-------------------+---------+--------+---------+--------+---------+--------+\n",
       "|                   | Mean    | SD     | Mean    | SD     | Mean    | SD     |\n",
       "+===================+=========+========+=========+========+=========+========+\n",
       "| flipper_length_mm | 189.95  | 6.54   | 195.82  | 7.13   | 217.19  | 6.48   |\n",
       "+-------------------+---------+--------+---------+--------+---------+--------+\n",
       "| body_mass_g       | 3700.66 | 458.57 | 3733.09 | 384.34 | 5076.02 | 504.12 |\n",
       "+-------------------+---------+--------+---------+--------+---------+--------+\n",
       "| Does              | 2.00    | plus   | 2.00    | equals | 5.00    | ?      |\n",
       "+-------------------+---------+--------+---------+--------+---------+--------+ "
      ]
     },
     "metadata": {},
     "output_type": "display_data"
    }
   ],
   "source": [
    "new_rows <- data.frame('Does',\n",
    "                       2,\n",
    "                       'plus',\n",
    "                       2,\n",
    "                       'equals',\n",
    "                       5,\n",
    "                       '?')\n",
    "datasummary(\n",
    "  flipper_length_mm + body_mass_g ~ species * (Mean + SD),\n",
    "  data = penguins,\n",
    "  add_rows = new_rows\n",
    ")\n",
    "\n",
    "# +-------------------+---------+--------+---------+--------+---------+--------+\n",
    "# |                   | Adelie           | Chinstrap        | Gentoo           |\n",
    "# +-------------------+---------+--------+---------+--------+---------+--------+\n",
    "# |                   | Mean    | SD     | Mean    | SD     | Mean    | SD     |\n",
    "# +===================+=========+========+=========+========+=========+========+\n",
    "# | flipper_length_mm | 189.95  | 6.54   | 195.82  | 7.13   | 217.19  | 6.48   |\n",
    "# +-------------------+---------+--------+---------+--------+---------+--------+\n",
    "# | body_mass_g       | 3700.66 | 458.57 | 3733.09 | 384.34 | 5076.02 | 504.12 |\n",
    "# +-------------------+---------+--------+---------+--------+---------+--------+\n",
    "# | Does              | 2.00    | plus   | 2.00    | equals | 5.00    | ?      |\n",
    "# +-------------------+---------+--------+---------+--------+---------+--------+"
   ]
  },
  {
   "cell_type": "markdown",
   "id": "1db32a1b",
   "metadata": {},
   "source": [
    "### 添加列"
   ]
  },
  {
   "cell_type": "code",
   "execution_count": null,
   "id": "197330ee",
   "metadata": {
    "vscode": {
     "languageId": "r"
    }
   },
   "outputs": [
    {
     "data": {
      "text/plain": [
       "+-------------------+---------+--------+---------+--------+---------+--------+----------+\n",
       "|                   | Adelie           | Chinstrap        | Gentoo           |          |\n",
       "+-------------------+---------+--------+---------+--------+---------+--------+----------+\n",
       "|                   | Mean    | SD     | Mean    | SD     | Mean    | SD     | New.Stat |\n",
       "+===================+=========+========+=========+========+=========+========+==========+\n",
       "| flipper_length_mm | 189.95  | 6.54   | 195.82  | 7.13   | 217.19  | 6.48   | 0.60     |\n",
       "+-------------------+---------+--------+---------+--------+---------+--------+----------+\n",
       "| body_mass_g       | 3700.66 | 458.57 | 3733.09 | 384.34 | 5076.02 | 504.12 | 0.78     |\n",
       "+-------------------+---------+--------+---------+--------+---------+--------+----------+ "
      ]
     },
     "metadata": {},
     "output_type": "display_data"
    }
   ],
   "source": [
    "new_cols <- data.frame('New Stat' = runif(2))\n",
    "datasummary(\n",
    "  flipper_length_mm + body_mass_g ~ species * (Mean + SD),\n",
    "  data = penguins,\n",
    "  add_columns = new_cols\n",
    ")\n",
    "\n",
    "# +-------------------+---------+--------+---------+--------+---------+--------+----------+\n",
    "# |                   | Adelie           | Chinstrap        | Gentoo           |          |\n",
    "# +-------------------+---------+--------+---------+--------+---------+--------+----------+\n",
    "# |                   | Mean    | SD     | Mean    | SD     | Mean    | SD     | New.Stat |\n",
    "# +===================+=========+========+=========+========+=========+========+==========+\n",
    "# | flipper_length_mm | 189.95  | 6.54   | 195.82  | 7.13   | 217.19  | 6.48   | 0.60     |\n",
    "# +-------------------+---------+--------+---------+--------+---------+--------+----------+\n",
    "# | body_mass_g       | 3700.66 | 458.57 | 3733.09 | 384.34 | 5076.02 | 504.12 | 0.78     |\n",
    "# +-------------------+---------+--------+---------+--------+---------+--------+----------+"
   ]
  },
  {
   "cell_type": "markdown",
   "id": "bcca7536",
   "metadata": {},
   "source": [
    "## 四舍五入"
   ]
  },
  {
   "cell_type": "code",
   "execution_count": null,
   "id": "af960d58",
   "metadata": {
    "vscode": {
     "languageId": "r"
    }
   },
   "outputs": [
    {
     "data": {
      "text/plain": [
       "\n",
       "+-------------------+----------+---------+\n",
       "|                   | Mean     | SD      |\n",
       "+===================+==========+=========+\n",
       "| flipper_length_mm | 200.9152 | 14.0617 |\n",
       "+-------------------+----------+---------+ "
      ]
     },
     "metadata": {},
     "output_type": "display_data"
    }
   ],
   "source": [
    "datasummary(\n",
    "  flipper_length_mm ~ Mean + SD,\n",
    "  fmt = 4,\n",
    "  data = penguins\n",
    ")\n",
    "\n",
    "# +-------------------+----------+---------+\n",
    "# |                   | Mean     | SD      |\n",
    "# +===================+==========+=========+\n",
    "# | flipper_length_mm | 200.9152 | 14.0617 |\n",
    "# +-------------------+----------+---------+"
   ]
  },
  {
   "cell_type": "code",
   "execution_count": null,
   "id": "1838a39a",
   "metadata": {
    "vscode": {
     "languageId": "r"
    }
   },
   "outputs": [
    {
     "data": {
      "text/plain": [
       "\n",
       "+-------------------+----------+------+\n",
       "|                   | Mean     | SD   |\n",
       "+===================+==========+======+\n",
       "| flipper_length_mm | 200.9152 | 14.1 |\n",
       "+-------------------+----------+------+ "
      ]
     },
     "metadata": {},
     "output_type": "display_data"
    }
   ],
   "source": [
    "datasummary(\n",
    "  flipper_length_mm ~ Mean * Arguments(fmt = \"%.4f\") + SD * Arguments(fmt = \"%.1f\"),\n",
    "  data = penguins\n",
    ")\n",
    "\n",
    "# +-------------------+----------+------+\n",
    "# |                   | Mean     | SD   |\n",
    "# +===================+==========+======+\n",
    "# | flipper_length_mm | 200.9152 | 14.1 |\n",
    "# +-------------------+----------+------+"
   ]
  },
  {
   "cell_type": "code",
   "execution_count": null,
   "id": "87df3dd5",
   "metadata": {
    "vscode": {
     "languageId": "r"
    }
   },
   "outputs": [
    {
     "data": {
      "text/plain": [
       "\n",
       "+---+---------+\n",
       "| X | N       |\n",
       "+===+=========+\n",
       "| a | 333,050 |\n",
       "+---+---------+\n",
       "| b | 333,367 |\n",
       "+---+---------+\n",
       "| c | 333,583 |\n",
       "+---+---------+ "
      ]
     },
     "metadata": {},
     "output_type": "display_data"
    }
   ],
   "source": [
    "tmp <- data.frame(X = sample(letters[1:3], 1e6, replace = TRUE))\n",
    "N <- \\(x) format(length(x), big.mark = \",\")\n",
    "datasummary(X ~ N, data = tmp)\n",
    "\n",
    "# +---+---------+\n",
    "# | X | N       |\n",
    "# +===+=========+\n",
    "# | a | 333,050 |\n",
    "# +---+---------+\n",
    "# | b | 333,367 |\n",
    "# +---+---------+\n",
    "# | c | 333,583 |\n",
    "# +---+---------+"
   ]
  },
  {
   "cell_type": "markdown",
   "id": "a080d1aa",
   "metadata": {},
   "source": [
    "## 标题与注释"
   ]
  },
  {
   "cell_type": "code",
   "execution_count": null,
   "id": "0bb098e0",
   "metadata": {
    "vscode": {
     "languageId": "r"
    }
   },
   "outputs": [
    {
     "data": {
      "text/plain": [
       "\n",
       "+-------------------+---------+--------+\n",
       "|                   | Mean    | SD     |\n",
       "+===================+=========+========+\n",
       "| rownames          | 172.50  | 99.45  |\n",
       "+-------------------+---------+--------+\n",
       "| bill_length_mm    | 43.92   | 5.46   |\n",
       "+-------------------+---------+--------+\n",
       "| bill_depth_mm     | 17.15   | 1.97   |\n",
       "+-------------------+---------+--------+\n",
       "| flipper_length_mm | 200.92  | 14.06  |\n",
       "+-------------------+---------+--------+\n",
       "| body_mass_g       | 4201.75 | 801.95 |\n",
       "+-------------------+---------+--------+\n",
       "| year              | 2008.03 | 0.82   |\n",
       "+===================+=========+========+\n",
       "| A note at the bottom of the table.   |\n",
       "+===================+=========+========+\n",
       "Table: Statistics about the famous Palmer Penguins. "
      ]
     },
     "metadata": {},
     "output_type": "display_data"
    }
   ],
   "source": [
    "datasummary(\n",
    "  All(penguins) ~ Mean + SD,\n",
    "  data = penguins,\n",
    "  title = 'Statistics about the famous Palmer Penguins.',\n",
    "  notes = c('A note at the bottom of the table.')\n",
    ")\n",
    "\n",
    "# +-------------------+---------+--------+\n",
    "# |                   | Mean    | SD     |\n",
    "# +===================+=========+========+\n",
    "# | rownames          | 172.50  | 99.45  |\n",
    "# +-------------------+---------+--------+\n",
    "# | bill_length_mm    | 43.92   | 5.46   |\n",
    "# +-------------------+---------+--------+\n",
    "# | bill_depth_mm     | 17.15   | 1.97   |\n",
    "# +-------------------+---------+--------+\n",
    "# | flipper_length_mm | 200.92  | 14.06  |\n",
    "# +-------------------+---------+--------+\n",
    "# | body_mass_g       | 4201.75 | 801.95 |\n",
    "# +-------------------+---------+--------+\n",
    "# | year              | 2008.03 | 0.82   |\n",
    "# +===================+=========+========+\n",
    "# | A note at the bottom of the table.   |\n",
    "# +===================+=========+========+\n",
    "# Table: Statistics about the famous Palmer Penguins."
   ]
  },
  {
   "cell_type": "markdown",
   "id": "a4666beb",
   "metadata": {},
   "source": [
    "## 对齐"
   ]
  },
  {
   "cell_type": "code",
   "execution_count": null,
   "id": "46d0b960",
   "metadata": {
    "vscode": {
     "languageId": "r"
    }
   },
   "outputs": [
    {
     "data": {
      "text/plain": [
       "\n",
       "+-------------------+--------+-------+\n",
       "|                   | Mean   | SD    |\n",
       "+===================+========+=======+\n",
       "| flipper_length_mm | 200.92 | 14.06 |\n",
       "+-------------------+--------+-------+\n",
       "| bill_length_mm    | 43.92  | 5.46  |\n",
       "+-------------------+--------+-------+ "
      ]
     },
     "metadata": {},
     "output_type": "display_data"
    }
   ],
   "source": [
    "datasummary(\n",
    "  flipper_length_mm + bill_length_mm ~ Mean + SD ,\n",
    "  data = penguins,\n",
    "  align = 'lrc'\n",
    ")\n",
    "\n",
    "# +-------------------+--------+-------+\n",
    "# |                   | Mean   | SD    |\n",
    "# +===================+========+=======+\n",
    "# | flipper_length_mm | 200.92 | 14.06 |\n",
    "# +-------------------+--------+-------+\n",
    "# | bill_length_mm    | 43.92  | 5.46  |\n",
    "# +-------------------+--------+-------+"
   ]
  },
  {
   "cell_type": "markdown",
   "id": "8eac9bbb",
   "metadata": {},
   "source": [
    "# 模型摘要"
   ]
  },
  {
   "cell_type": "code",
   "execution_count": null,
   "id": "40031f74",
   "metadata": {
    "vscode": {
     "languageId": "r"
    }
   },
   "outputs": [
    {
     "data": {
      "text/plain": [
       "\n",
       "+-------------+------------+-------------+------------+\n",
       "|             | OLS 1      | Poisson     | OLS 2      |\n",
       "+=============+============+=============+============+\n",
       "| (Intercept) | 7948.667   | 8.241       | 16259.384  |\n",
       "+-------------+------------+-------------+------------+\n",
       "|             | (2078.276) | (0.006)     | (2611.140) |\n",
       "+-------------+------------+-------------+------------+\n",
       "| Literacy    | -39.121    | 0.003       | 3.680      |\n",
       "+-------------+------------+-------------+------------+\n",
       "|             | (37.052)   | (0.000)     | (46.552)   |\n",
       "+-------------+------------+-------------+------------+\n",
       "| Clergy      | 15.257     |             | 77.148     |\n",
       "+-------------+------------+-------------+------------+\n",
       "|             | (25.735)   |             | (32.334)   |\n",
       "+-------------+------------+-------------+------------+\n",
       "| Commerce    |            | 0.011       |            |\n",
       "+-------------+------------+-------------+------------+\n",
       "|             |            | (0.000)     |            |\n",
       "+-------------+------------+-------------+------------+\n",
       "| Num.Obs.    | 86         | 86          | 86         |\n",
       "+-------------+------------+-------------+------------+\n",
       "| R2          | 0.020      |             | 0.065      |\n",
       "+-------------+------------+-------------+------------+\n",
       "| R2 Adj.     | -0.003     |             | 0.043      |\n",
       "+-------------+------------+-------------+------------+\n",
       "| AIC         | 1740.8     | 274160.8    | 1780.0     |\n",
       "+-------------+------------+-------------+------------+\n",
       "| BIC         | 1750.6     | 274168.2    | 1789.9     |\n",
       "+-------------+------------+-------------+------------+\n",
       "| Log.Lik.    | -866.392   | -137077.401 | -886.021   |\n",
       "+-------------+------------+-------------+------------+\n",
       "| F           | 0.866      | 18294.559   | 2.903      |\n",
       "+-------------+------------+-------------+------------+\n",
       "| RMSE        | 5740.99    | 5491.61     | 7212.97    |\n",
       "+-------------+------------+-------------+------------+ "
      ]
     },
     "metadata": {},
     "output_type": "display_data"
    }
   ],
   "source": [
    "library(modelsummary)\n",
    "\n",
    "url <- 'https://vincentarelbundock.github.io/Rdatasets/csv/HistData/Guerry.csv'\n",
    "dat <- read.csv(url)\n",
    "\n",
    "models <- list(\n",
    "  \"OLS 1\"     = lm(Donations ~ Literacy + Clergy, data = dat),\n",
    "  \"Poisson\" = glm(Donations ~ Literacy + Commerce, family = poisson, data = dat),\n",
    "  \"OLS 2\"     = lm(Crime_pers ~ Literacy + Clergy, data = dat)\n",
    ")\n",
    "\n",
    "modelsummary(models)\n",
    "\n",
    "# +-------------+------------+-------------+------------+\n",
    "# |             | OLS 1      | Poisson     | OLS 2      |\n",
    "# +=============+============+=============+============+\n",
    "# | (Intercept) | 7948.667   | 8.241       | 16259.384  |\n",
    "# +-------------+------------+-------------+------------+\n",
    "# |             | (2078.276) | (0.006)     | (2611.140) |\n",
    "# +-------------+------------+-------------+------------+\n",
    "# | Literacy    | -39.121    | 0.003       | 3.680      |\n",
    "# +-------------+------------+-------------+------------+\n",
    "# |             | (37.052)   | (0.000)     | (46.552)   |\n",
    "# +-------------+------------+-------------+------------+\n",
    "# | Clergy      | 15.257     |             | 77.148     |\n",
    "# +-------------+------------+-------------+------------+\n",
    "# |             | (25.735)   |             | (32.334)   |\n",
    "# +-------------+------------+-------------+------------+\n",
    "# | Commerce    |            | 0.011       |            |\n",
    "# +-------------+------------+-------------+------------+\n",
    "# |             |            | (0.000)     |            |\n",
    "# +-------------+------------+-------------+------------+\n",
    "# | Num.Obs.    | 86         | 86          | 86         |\n",
    "# +-------------+------------+-------------+------------+\n",
    "# | R2          | 0.020      |             | 0.065      |\n",
    "# +-------------+------------+-------------+------------+\n",
    "# | R2 Adj.     | -0.003     |             | 0.043      |\n",
    "# +-------------+------------+-------------+------------+\n",
    "# | AIC         | 1740.8     | 274160.8    | 1780.0     |\n",
    "# +-------------+------------+-------------+------------+\n",
    "# | BIC         | 1750.6     | 274168.2    | 1789.9     |\n",
    "# +-------------+------------+-------------+------------+\n",
    "# | Log.Lik.    | -866.392   | -137077.401 | -886.021   |\n",
    "# +-------------+------------+-------------+------------+\n",
    "# | F           | 0.866      | 18294.559   | 2.903      |\n",
    "# +-------------+------------+-------------+------------+\n",
    "# | RMSE        | 5740.99    | 5491.61     | 7212.97    |\n",
    "# +-------------+------------+-------------+------------+"
   ]
  },
  {
   "cell_type": "markdown",
   "id": "79818194",
   "metadata": {},
   "source": [
    "## output"
   ]
  },
  {
   "cell_type": "markdown",
   "id": "ffe9635d",
   "metadata": {},
   "source": [
    "## fmt"
   ]
  },
  {
   "cell_type": "markdown",
   "id": "4ff3f1d7",
   "metadata": {},
   "source": [
    "## estimate"
   ]
  },
  {
   "cell_type": "code",
   "execution_count": null,
   "id": "951d6031",
   "metadata": {
    "vscode": {
     "languageId": "r"
    }
   },
   "outputs": [
    {
     "data": {
      "text/plain": [
       "\n",
       "+----------+----------------------+----------------+--------------------+\n",
       "|          | OLS 1                | Poisson        | OLS 2              |\n",
       "+==========+======================+================+====================+\n",
       "| Literacy | -39.1 [-112.8, 34.6] | 0.0 [0.0, 0.0] | 3.7 [-88.9, 96.3]  |\n",
       "+----------+----------------------+----------------+--------------------+\n",
       "| Clergy   | 15.3 [-35.9, 66.4]   |                | 77.1 [12.8, 141.5] |\n",
       "+----------+----------------------+----------------+--------------------+\n",
       "| Commerce |                      | 0.0 [0.0, 0.0] |                    |\n",
       "+----------+----------------------+----------------+--------------------+\n",
       "| Num.Obs. | 86                   | 86             | 86                 |\n",
       "+----------+----------------------+----------------+--------------------+\n",
       "| R2       | 0.020                |                | 0.065              |\n",
       "+----------+----------------------+----------------+--------------------+\n",
       "| R2 Adj.  | -0.003               |                | 0.043              |\n",
       "+----------+----------------------+----------------+--------------------+\n",
       "| AIC      | 1740.8               | 274160.8       | 1780.0             |\n",
       "+----------+----------------------+----------------+--------------------+\n",
       "| BIC      | 1750.6               | 274168.2       | 1789.9             |\n",
       "+----------+----------------------+----------------+--------------------+\n",
       "| Log.Lik. | -866.392             | -137077.401    | -886.021           |\n",
       "+----------+----------------------+----------------+--------------------+\n",
       "| F        | 0.866                | 18294.559      | 2.903              |\n",
       "+----------+----------------------+----------------+--------------------+\n",
       "| RMSE     | 5740.99              | 5491.61        | 7212.97            |\n",
       "+----------+----------------------+----------------+--------------------+ "
      ]
     },
     "metadata": {},
     "output_type": "display_data"
    }
   ],
   "source": [
    "modelsummary(\n",
    "  models,\n",
    "  fmt = 1,\n",
    "  estimate  = \"{estimate} [{conf.low}, {conf.high}]\",\n",
    "  statistic = NULL,\n",
    "  coef_omit = \"Intercept\"\n",
    ")\n",
    "\n",
    "# +----------+----------------------+----------------+--------------------+\n",
    "# |          | OLS 1                | Poisson        | OLS 2              |\n",
    "# +==========+======================+================+====================+\n",
    "# | Literacy | -39.1 [-112.8, 34.6] | 0.0 [0.0, 0.0] | 3.7 [-88.9, 96.3]  |\n",
    "# +----------+----------------------+----------------+--------------------+\n",
    "# | Clergy   | 15.3 [-35.9, 66.4]   |                | 77.1 [12.8, 141.5] |\n",
    "# +----------+----------------------+----------------+--------------------+\n",
    "# | Commerce |                      | 0.0 [0.0, 0.0] |                    |\n",
    "# +----------+----------------------+----------------+--------------------+\n",
    "# | Num.Obs. | 86                   | 86             | 86                 |\n",
    "# +----------+----------------------+----------------+--------------------+\n",
    "# | R2       | 0.020                |                | 0.065              |\n",
    "# +----------+----------------------+----------------+--------------------+\n",
    "# | R2 Adj.  | -0.003               |                | 0.043              |\n",
    "# +----------+----------------------+----------------+--------------------+\n",
    "# | AIC      | 1740.8               | 274160.8       | 1780.0             |\n",
    "# +----------+----------------------+----------------+--------------------+\n",
    "# | BIC      | 1750.6               | 274168.2       | 1789.9             |\n",
    "# +----------+----------------------+----------------+--------------------+\n",
    "# | Log.Lik. | -866.392             | -137077.401    | -886.021           |\n",
    "# +----------+----------------------+----------------+--------------------+\n",
    "# | F        | 0.866                | 18294.559      | 2.903              |\n",
    "# +----------+----------------------+----------------+--------------------+\n",
    "# | RMSE     | 5740.99              | 5491.61        | 7212.97            |\n",
    "# +----------+----------------------+----------------+--------------------+"
   ]
  },
  {
   "cell_type": "code",
   "execution_count": null,
   "id": "63e4c8fa",
   "metadata": {
    "vscode": {
     "languageId": "r"
    }
   },
   "outputs": [
    {
     "data": {
      "text/plain": [
       "\n",
       "+-------------+---------+\n",
       "|             | (1)     |\n",
       "+=============+=========+\n",
       "| (Intercept) | 0.00136 |\n",
       "+-------------+---------+\n",
       "|             | 0.003   |\n",
       "+-------------+---------+\n",
       "| mpg         | 1.35938 |\n",
       "+-------------+---------+\n",
       "|             | 0.156   |\n",
       "+-------------+---------+\n",
       "| Num.Obs.    | 32      |\n",
       "+-------------+---------+\n",
       "| AIC         | 33.7    |\n",
       "+-------------+---------+\n",
       "| BIC         | 36.6    |\n",
       "+-------------+---------+\n",
       "| Log.Lik.    | -14.838 |\n",
       "+-------------+---------+\n",
       "| F           | 7.148   |\n",
       "+-------------+---------+\n",
       "| RMSE        | 0.39    |\n",
       "+-------------+---------+ "
      ]
     },
     "metadata": {},
     "output_type": "display_data"
    }
   ],
   "source": [
    "m <- glm(am ~ mpg, data = mtcars, family = binomial)\n",
    "modelsummary(\n",
    "  m,\n",
    "  fmt = NULL,\n",
    "  estimate = \"{round(exp(estimate), 5)}\",\n",
    "  statistic = \"{round(exp(estimate) * std.error, 3)}\"\n",
    ")\n",
    "\n",
    "# +-------------+---------+\n",
    "# |             | (1)     |\n",
    "# +=============+=========+\n",
    "# | (Intercept) | 0.00136 |\n",
    "# +-------------+---------+\n",
    "# |             | 0.003   |\n",
    "# +-------------+---------+\n",
    "# | mpg         | 1.35938 |\n",
    "# +-------------+---------+\n",
    "# |             | 0.156   |\n",
    "# +-------------+---------+\n",
    "# | Num.Obs.    | 32      |\n",
    "# +-------------+---------+\n",
    "# | AIC         | 33.7    |\n",
    "# +-------------+---------+\n",
    "# | BIC         | 36.6    |\n",
    "# +-------------+---------+\n",
    "# | Log.Lik.    | -14.838 |\n",
    "# +-------------+---------+\n",
    "# | F           | 7.148   |\n",
    "# +-------------+---------+\n",
    "# | RMSE        | 0.39    |\n",
    "# +-------------+---------+"
   ]
  },
  {
   "cell_type": "code",
   "execution_count": null,
   "id": "d28d7580",
   "metadata": {
    "vscode": {
     "languageId": "r"
    }
   },
   "outputs": [
    {
     "data": {
      "text/plain": [
       "\n",
       "+----------+----------+-------------+-------------+\n",
       "|          | OLS 1    | Poisson     | OLS 2       |\n",
       "+==========+==========+=============+=============+\n",
       "| Literacy | -39.1    | 0.0***      | 3.7 (46.6)  |\n",
       "+----------+----------+-------------+-------------+\n",
       "| Clergy   | 15.3     |             | 77.1 (32.3) |\n",
       "+----------+----------+-------------+-------------+\n",
       "| Commerce |          | 0.0***      |             |\n",
       "+----------+----------+-------------+-------------+\n",
       "| Num.Obs. | 86       | 86          | 86          |\n",
       "+----------+----------+-------------+-------------+\n",
       "| R2       | 0.020    |             | 0.065       |\n",
       "+----------+----------+-------------+-------------+\n",
       "| R2 Adj.  | -0.003   |             | 0.043       |\n",
       "+----------+----------+-------------+-------------+\n",
       "| AIC      | 1740.8   | 274160.8    | 1780.0      |\n",
       "+----------+----------+-------------+-------------+\n",
       "| BIC      | 1750.6   | 274168.2    | 1789.9      |\n",
       "+----------+----------+-------------+-------------+\n",
       "| Log.Lik. | -866.392 | -137077.401 | -886.021    |\n",
       "+----------+----------+-------------+-------------+\n",
       "| F        | 0.866    | 18294.559   | 2.903       |\n",
       "+----------+----------+-------------+-------------+\n",
       "| RMSE     | 5740.99  | 5491.61     | 7212.97     |\n",
       "+----------+----------+-------------+-------------+ "
      ]
     },
     "metadata": {},
     "output_type": "display_data"
    }
   ],
   "source": [
    "modelsummary(\n",
    "  models,\n",
    "  fmt = 1,\n",
    "  estimate  = c(\"estimate\",\n",
    "                \"{estimate}{stars}\",\n",
    "                \"{estimate} ({std.error})\"),\n",
    "  statistic = NULL,\n",
    "  coef_omit = \"Intercept\"\n",
    ")\n",
    "\n",
    "# +----------+----------+-------------+-------------+\n",
    "# |          | OLS 1    | Poisson     | OLS 2       |\n",
    "# +==========+==========+=============+=============+\n",
    "# | Literacy | -39.1    | 0.0***      | 3.7 (46.6)  |\n",
    "# +----------+----------+-------------+-------------+\n",
    "# | Clergy   | 15.3     |             | 77.1 (32.3) |\n",
    "# +----------+----------+-------------+-------------+\n",
    "# | Commerce |          | 0.0***      |             |\n",
    "# +----------+----------+-------------+-------------+\n",
    "# | Num.Obs. | 86       | 86          | 86          |\n",
    "# +----------+----------+-------------+-------------+\n",
    "# | R2       | 0.020    |             | 0.065       |\n",
    "# +----------+----------+-------------+-------------+\n",
    "# | R2 Adj.  | -0.003   |             | 0.043       |\n",
    "# +----------+----------+-------------+-------------+\n",
    "# | AIC      | 1740.8   | 274160.8    | 1780.0      |\n",
    "# +----------+----------+-------------+-------------+\n",
    "# | BIC      | 1750.6   | 274168.2    | 1789.9      |\n",
    "# +----------+----------+-------------+-------------+\n",
    "# | Log.Lik. | -866.392 | -137077.401 | -886.021    |\n",
    "# +----------+----------+-------------+-------------+\n",
    "# | F        | 0.866    | 18294.559   | 2.903       |\n",
    "# +----------+----------+-------------+-------------+\n",
    "# | RMSE     | 5740.99  | 5491.61     | 7212.97     |\n",
    "# +----------+----------+-------------+-------------+"
   ]
  },
  {
   "cell_type": "markdown",
   "id": "1b5eb3eb",
   "metadata": {},
   "source": [
    "## statistics"
   ]
  },
  {
   "cell_type": "code",
   "execution_count": null,
   "id": "ce074ca1",
   "metadata": {
    "vscode": {
     "languageId": "r"
    }
   },
   "outputs": [
    {
     "data": {
      "text/plain": [
       "\n",
       "+-------------+-------------------+-------------+-------------------+\n",
       "|             | OLS 1             | Poisson     | OLS 2             |\n",
       "+=============+===================+=============+===================+\n",
       "| (Intercept) | 7948.7            | 8.2         | 16259.4           |\n",
       "+-------------+-------------------+-------------+-------------------+\n",
       "|             | [2469.6, 13427.8] | [8.2, 8.3]  | [9375.5, 23143.3] |\n",
       "+-------------+-------------------+-------------+-------------------+\n",
       "| Literacy    | -39.1             | 0.0         | 3.7               |\n",
       "+-------------+-------------------+-------------+-------------------+\n",
       "|             | [-136.8, 58.6]    | [0.0, 0.0]  | [-119.0, 126.4]   |\n",
       "+-------------+-------------------+-------------+-------------------+\n",
       "| Clergy      | 15.3              |             | 77.1              |\n",
       "+-------------+-------------------+-------------+-------------------+\n",
       "|             | [-52.6, 83.1]     |             | [-8.1, 162.4]     |\n",
       "+-------------+-------------------+-------------+-------------------+\n",
       "| Commerce    |                   | 0.0         |                   |\n",
       "+-------------+-------------------+-------------+-------------------+\n",
       "|             |                   | [0.0, 0.0]  |                   |\n",
       "+-------------+-------------------+-------------+-------------------+\n",
       "| Num.Obs.    | 86                | 86          | 86                |\n",
       "+-------------+-------------------+-------------+-------------------+\n",
       "| R2          | 0.020             |             | 0.065             |\n",
       "+-------------+-------------------+-------------+-------------------+\n",
       "| R2 Adj.     | -0.003            |             | 0.043             |\n",
       "+-------------+-------------------+-------------+-------------------+\n",
       "| AIC         | 1740.8            | 274160.8    | 1780.0            |\n",
       "+-------------+-------------------+-------------+-------------------+\n",
       "| BIC         | 1750.6            | 274168.2    | 1789.9            |\n",
       "+-------------+-------------------+-------------+-------------------+\n",
       "| Log.Lik.    | -866.392          | -137077.401 | -886.021          |\n",
       "+-------------+-------------------+-------------+-------------------+\n",
       "| F           | 0.866             | 18294.559   | 2.903             |\n",
       "+-------------+-------------------+-------------+-------------------+\n",
       "| RMSE        | 5740.99           | 5491.61     | 7212.97           |\n",
       "+-------------+-------------------+-------------+-------------------+ "
      ]
     },
     "metadata": {},
     "output_type": "display_data"
    }
   ],
   "source": [
    "modelsummary(\n",
    "  models,\n",
    "  fmt = 1,\n",
    "  statistic = 'conf.int',\n",
    "  conf_level = .99\n",
    ")\n",
    "\n",
    "# +-------------+-------------------+-------------+-------------------+\n",
    "# |             | OLS 1             | Poisson     | OLS 2             |\n",
    "# +=============+===================+=============+===================+\n",
    "# | (Intercept) | 7948.7            | 8.2         | 16259.4           |\n",
    "# +-------------+-------------------+-------------+-------------------+\n",
    "# |             | [2469.6, 13427.8] | [8.2, 8.3]  | [9375.5, 23143.3] |\n",
    "# +-------------+-------------------+-------------+-------------------+\n",
    "# | Literacy    | -39.1             | 0.0         | 3.7               |\n",
    "# +-------------+-------------------+-------------+-------------------+\n",
    "# |             | [-136.8, 58.6]    | [0.0, 0.0]  | [-119.0, 126.4]   |\n",
    "# +-------------+-------------------+-------------+-------------------+\n",
    "# | Clergy      | 15.3              |             | 77.1              |\n",
    "# +-------------+-------------------+-------------+-------------------+\n",
    "# |             | [-52.6, 83.1]     |             | [-8.1, 162.4]     |\n",
    "# +-------------+-------------------+-------------+-------------------+\n",
    "# | Commerce    |                   | 0.0         |                   |\n",
    "# +-------------+-------------------+-------------+-------------------+\n",
    "# |             |                   | [0.0, 0.0]  |                   |\n",
    "# +-------------+-------------------+-------------+-------------------+\n",
    "# | Num.Obs.    | 86                | 86          | 86                |\n",
    "# +-------------+-------------------+-------------+-------------------+\n",
    "# | R2          | 0.020             |             | 0.065             |\n",
    "# +-------------+-------------------+-------------+-------------------+\n",
    "# | R2 Adj.     | -0.003            |             | 0.043             |\n",
    "# +-------------+-------------------+-------------+-------------------+\n",
    "# | AIC         | 1740.8            | 274160.8    | 1780.0            |\n",
    "# +-------------+-------------------+-------------+-------------------+\n",
    "# | BIC         | 1750.6            | 274168.2    | 1789.9            |\n",
    "# +-------------+-------------------+-------------+-------------------+\n",
    "# | Log.Lik.    | -866.392          | -137077.401 | -886.021          |\n",
    "# +-------------+-------------------+-------------+-------------------+\n",
    "# | F           | 0.866             | 18294.559   | 2.903             |\n",
    "# +-------------+-------------------+-------------+-------------------+\n",
    "# | RMSE        | 5740.99           | 5491.61     | 7212.97           |\n",
    "# +-------------+-------------------+-------------+-------------------+"
   ]
  },
  {
   "cell_type": "code",
   "execution_count": null,
   "id": "94ee0eca",
   "metadata": {
    "vscode": {
     "languageId": "r"
    }
   },
   "outputs": [
    {
     "data": {
      "text/plain": [
       "\n",
       "+-------------+-------------------+----------------+-------------------+\n",
       "|             | OLS 1             | Poisson        | OLS 2             |\n",
       "+=============+===================+================+===================+\n",
       "| (Intercept) | 7948.667          | 8.241          | 16259.384         |\n",
       "+-------------+-------------------+----------------+-------------------+\n",
       "|             | 2078.276 (<0.001) | 0.006 (<0.001) | 2611.140 (<0.001) |\n",
       "+-------------+-------------------+----------------+-------------------+\n",
       "| Literacy    | -39.121           | 0.003          | 3.680             |\n",
       "+-------------+-------------------+----------------+-------------------+\n",
       "|             | 37.052 (0.294)    | 0.000 (<0.001) | 46.552 (0.937)    |\n",
       "+-------------+-------------------+----------------+-------------------+\n",
       "| Clergy      | 15.257            |                | 77.148            |\n",
       "+-------------+-------------------+----------------+-------------------+\n",
       "|             | 25.735 (0.555)    |                | 32.334 (0.019)    |\n",
       "+-------------+-------------------+----------------+-------------------+\n",
       "| Commerce    |                   | 0.011          |                   |\n",
       "+-------------+-------------------+----------------+-------------------+\n",
       "|             |                   | 0.000 (<0.001) |                   |\n",
       "+-------------+-------------------+----------------+-------------------+\n",
       "| Num.Obs.    | 86                | 86             | 86                |\n",
       "+-------------+-------------------+----------------+-------------------+\n",
       "| R2          | 0.020             |                | 0.065             |\n",
       "+-------------+-------------------+----------------+-------------------+\n",
       "| R2 Adj.     | -0.003            |                | 0.043             |\n",
       "+-------------+-------------------+----------------+-------------------+\n",
       "| AIC         | 1740.8            | 274160.8       | 1780.0            |\n",
       "+-------------+-------------------+----------------+-------------------+\n",
       "| BIC         | 1750.6            | 274168.2       | 1789.9            |\n",
       "+-------------+-------------------+----------------+-------------------+\n",
       "| Log.Lik.    | -866.392          | -137077.401    | -886.021          |\n",
       "+-------------+-------------------+----------------+-------------------+\n",
       "| F           | 0.866             | 18294.559      | 2.903             |\n",
       "+-------------+-------------------+----------------+-------------------+\n",
       "| RMSE        | 5740.99           | 5491.61        | 7212.97           |\n",
       "+-------------+-------------------+----------------+-------------------+ "
      ]
     },
     "metadata": {},
     "output_type": "display_data"
    }
   ],
   "source": [
    "modelsummary(\n",
    "  models,\n",
    "  statistic = \"{std.error} ({p.value})\"\n",
    ")\n",
    "\n",
    "# +-------------+-------------------+----------------+-------------------+\n",
    "# |             | OLS 1             | Poisson        | OLS 2             |\n",
    "# +=============+===================+================+===================+\n",
    "# | (Intercept) | 7948.667          | 8.241          | 16259.384         |\n",
    "# +-------------+-------------------+----------------+-------------------+\n",
    "# |             | 2078.276 (<0.001) | 0.006 (<0.001) | 2611.140 (<0.001) |\n",
    "# +-------------+-------------------+----------------+-------------------+\n",
    "# | Literacy    | -39.121           | 0.003          | 3.680             |\n",
    "# +-------------+-------------------+----------------+-------------------+\n",
    "# |             | 37.052 (0.294)    | 0.000 (<0.001) | 46.552 (0.937)    |\n",
    "# +-------------+-------------------+----------------+-------------------+\n",
    "# | Clergy      | 15.257            |                | 77.148            |\n",
    "# +-------------+-------------------+----------------+-------------------+\n",
    "# |             | 25.735 (0.555)    |                | 32.334 (0.019)    |\n",
    "# +-------------+-------------------+----------------+-------------------+\n",
    "# | Commerce    |                   | 0.011          |                   |\n",
    "# +-------------+-------------------+----------------+-------------------+\n",
    "# |             |                   | 0.000 (<0.001) |                   |\n",
    "# +-------------+-------------------+----------------+-------------------+\n",
    "# | Num.Obs.    | 86                | 86             | 86                |\n",
    "# +-------------+-------------------+----------------+-------------------+\n",
    "# | R2          | 0.020             |                | 0.065             |\n",
    "# +-------------+-------------------+----------------+-------------------+\n",
    "# | R2 Adj.     | -0.003            |                | 0.043             |\n",
    "# +-------------+-------------------+----------------+-------------------+\n",
    "# | AIC         | 1740.8            | 274160.8       | 1780.0            |\n",
    "# +-------------+-------------------+----------------+-------------------+\n",
    "# | BIC         | 1750.6            | 274168.2       | 1789.9            |\n",
    "# +-------------+-------------------+----------------+-------------------+\n",
    "# | Log.Lik.    | -866.392          | -137077.401    | -886.021          |\n",
    "# +-------------+-------------------+----------------+-------------------+\n",
    "# | F           | 0.866             | 18294.559      | 2.903             |\n",
    "# +-------------+-------------------+----------------+-------------------+\n",
    "# | RMSE        | 5740.99           | 5491.61        | 7212.97           |\n",
    "# +-------------+-------------------+----------------+-------------------+"
   ]
  },
  {
   "cell_type": "code",
   "execution_count": null,
   "id": "8c257671",
   "metadata": {
    "vscode": {
     "languageId": "r"
    }
   },
   "outputs": [
    {
     "data": {
      "text/plain": [
       "\n",
       "+-------------+-----------------------+----------------+------------------------+\n",
       "|             | OLS 1                 | Poisson        | OLS 2                  |\n",
       "+=============+=======================+================+========================+\n",
       "| (Intercept) | 7948.667              | 8.241          | 16259.384              |\n",
       "+-------------+-----------------------+----------------+------------------------+\n",
       "|             | [3815.060, 12082.275] | [8.230, 8.252] | [11065.933, 21452.836] |\n",
       "+-------------+-----------------------+----------------+------------------------+\n",
       "|             | s.e. = 2078.276       | s.e. = 0.006   | s.e. = 2611.140        |\n",
       "+-------------+-----------------------+----------------+------------------------+\n",
       "|             | t = 3.825             | t = 1408.907   | t = 6.227              |\n",
       "+-------------+-----------------------+----------------+------------------------+\n",
       "|             | p = <0.001            | p = <0.001     | p = <0.001             |\n",
       "+-------------+-----------------------+----------------+------------------------+\n",
       "| Literacy    | -39.121               | 0.003          | 3.680                  |\n",
       "+-------------+-----------------------+----------------+------------------------+\n",
       "|             | [-112.816, 34.574]    | [0.003, 0.003] | [-88.910, 96.270]      |\n",
       "+-------------+-----------------------+----------------+------------------------+\n",
       "|             | s.e. = 37.052         | s.e. = 0.000   | s.e. = 46.552          |\n",
       "+-------------+-----------------------+----------------+------------------------+\n",
       "|             | t = -1.056            | t = 33.996     | t = 0.079              |\n",
       "+-------------+-----------------------+----------------+------------------------+\n",
       "|             | p = 0.294             | p = <0.001     | p = 0.937              |\n",
       "+-------------+-----------------------+----------------+------------------------+\n",
       "| Clergy      | 15.257                |                | 77.148                 |\n",
       "+-------------+-----------------------+----------------+------------------------+\n",
       "|             | [-35.930, 66.443]     |                | [12.837, 141.459]      |\n",
       "+-------------+-----------------------+----------------+------------------------+\n",
       "|             | s.e. = 25.735         |                | s.e. = 32.334          |\n",
       "+-------------+-----------------------+----------------+------------------------+\n",
       "|             | t = 0.593             |                | t = 2.386              |\n",
       "+-------------+-----------------------+----------------+------------------------+\n",
       "|             | p = 0.555             |                | p = 0.019              |\n",
       "+-------------+-----------------------+----------------+------------------------+\n",
       "| Commerce    |                       | 0.011          |                        |\n",
       "+-------------+-----------------------+----------------+------------------------+\n",
       "|             |                       | [0.011, 0.011] |                        |\n",
       "+-------------+-----------------------+----------------+------------------------+\n",
       "|             |                       | s.e. = 0.000   |                        |\n",
       "+-------------+-----------------------+----------------+------------------------+\n",
       "|             |                       | t = 174.542    |                        |\n",
       "+-------------+-----------------------+----------------+------------------------+\n",
       "|             |                       | p = <0.001     |                        |\n",
       "+-------------+-----------------------+----------------+------------------------+ "
      ]
     },
     "metadata": {},
     "output_type": "display_data"
    }
   ],
   "source": [
    "modelsummary(\n",
    "  models, gof_omit = \".*\",\n",
    "  statistic = c(\n",
    "    \"conf.int\",\n",
    "    \"s.e. = {std.error}\",\n",
    "    \"t = {statistic}\",\n",
    "    \"p = {p.value}\"\n",
    "  )\n",
    ")\n",
    "\n",
    "# +-------------+-----------------------+----------------+------------------------+\n",
    "# |             | OLS 1                 | Poisson        | OLS 2                  |\n",
    "# +=============+=======================+================+========================+\n",
    "# | (Intercept) | 7948.667              | 8.241          | 16259.384              |\n",
    "# +-------------+-----------------------+----------------+------------------------+\n",
    "# |             | [3815.060, 12082.275] | [8.230, 8.252] | [11065.933, 21452.836] |\n",
    "# +-------------+-----------------------+----------------+------------------------+\n",
    "# |             | s.e. = 2078.276       | s.e. = 0.006   | s.e. = 2611.140        |\n",
    "# +-------------+-----------------------+----------------+------------------------+\n",
    "# |             | t = 3.825             | t = 1408.907   | t = 6.227              |\n",
    "# +-------------+-----------------------+----------------+------------------------+\n",
    "# |             | p = <0.001            | p = <0.001     | p = <0.001             |\n",
    "# +-------------+-----------------------+----------------+------------------------+\n",
    "# | Literacy    | -39.121               | 0.003          | 3.680                  |\n",
    "# +-------------+-----------------------+----------------+------------------------+\n",
    "# |             | [-112.816, 34.574]    | [0.003, 0.003] | [-88.910, 96.270]      |\n",
    "# +-------------+-----------------------+----------------+------------------------+\n",
    "# |             | s.e. = 37.052         | s.e. = 0.000   | s.e. = 46.552          |\n",
    "# +-------------+-----------------------+----------------+------------------------+\n",
    "# |             | t = -1.056            | t = 33.996     | t = 0.079              |\n",
    "# +-------------+-----------------------+----------------+------------------------+\n",
    "# |             | p = 0.294             | p = <0.001     | p = 0.937              |\n",
    "# +-------------+-----------------------+----------------+------------------------+\n",
    "# | Clergy      | 15.257                |                | 77.148                 |\n",
    "# +-------------+-----------------------+----------------+------------------------+\n",
    "# |             | [-35.930, 66.443]     |                | [12.837, 141.459]      |\n",
    "# +-------------+-----------------------+----------------+------------------------+\n",
    "# |             | s.e. = 25.735         |                | s.e. = 32.334          |\n",
    "# +-------------+-----------------------+----------------+------------------------+\n",
    "# |             | t = 0.593             |                | t = 2.386              |\n",
    "# +-------------+-----------------------+----------------+------------------------+\n",
    "# |             | p = 0.555             |                | p = 0.019              |\n",
    "# +-------------+-----------------------+----------------+------------------------+\n",
    "# | Commerce    |                       | 0.011          |                        |\n",
    "# +-------------+-----------------------+----------------+------------------------+\n",
    "# |             |                       | [0.011, 0.011] |                        |\n",
    "# +-------------+-----------------------+----------------+------------------------+\n",
    "# |             |                       | s.e. = 0.000   |                        |\n",
    "# +-------------+-----------------------+----------------+------------------------+\n",
    "# |             |                       | t = 174.542    |                        |\n",
    "# +-------------+-----------------------+----------------+------------------------+\n",
    "# |             |                       | p = <0.001     |                        |\n",
    "# +-------------+-----------------------+----------------+------------------------+"
   ]
  },
  {
   "cell_type": "code",
   "execution_count": null,
   "id": "9f0035f0",
   "metadata": {
    "vscode": {
     "languageId": "r"
    }
   },
   "outputs": [
    {
     "data": {
      "text/plain": [
       "\n",
       "+-------------+--------------------------------+----------------------+----------------------------------+\n",
       "|             | OLS 1                          | Poisson              | OLS 2                            |\n",
       "+=============+================================+======================+==================================+\n",
       "| (Intercept) | 7948.667 [3815.060, 12082.275] | 8.241 [8.230, 8.252] | 16259.384 [11065.933, 21452.836] |\n",
       "+-------------+--------------------------------+----------------------+----------------------------------+\n",
       "| Literacy    | -39.121 [-112.816, 34.574]     | 0.003 [0.003, 0.003] | 3.680 [-88.910, 96.270]          |\n",
       "+-------------+--------------------------------+----------------------+----------------------------------+\n",
       "| Clergy      | 15.257 [-35.930, 66.443]       |                      | 77.148 [12.837, 141.459]         |\n",
       "+-------------+--------------------------------+----------------------+----------------------------------+\n",
       "| Commerce    |                                | 0.011 [0.011, 0.011] |                                  |\n",
       "+-------------+--------------------------------+----------------------+----------------------------------+ "
      ]
     },
     "metadata": {},
     "output_type": "display_data"
    }
   ],
   "source": [
    "modelsummary(\n",
    "  models,\n",
    "  gof_omit = \".*\",\n",
    "  estimate = \"{estimate} [{conf.low}, {conf.high}]\",\n",
    "  statistic = NULL\n",
    ")\n",
    "\n",
    "# +-------------+--------------------------------+----------------------+----------------------------------+\n",
    "# |             | OLS 1                          | Poisson              | OLS 2                            |\n",
    "# +=============+================================+======================+==================================+\n",
    "# | (Intercept) | 7948.667 [3815.060, 12082.275] | 8.241 [8.230, 8.252] | 16259.384 [11065.933, 21452.836] |\n",
    "# +-------------+--------------------------------+----------------------+----------------------------------+\n",
    "# | Literacy    | -39.121 [-112.816, 34.574]     | 0.003 [0.003, 0.003] | 3.680 [-88.910, 96.270]          |\n",
    "# +-------------+--------------------------------+----------------------+----------------------------------+\n",
    "# | Clergy      | 15.257 [-35.930, 66.443]       |                      | 77.148 [12.837, 141.459]         |\n",
    "# +-------------+--------------------------------+----------------------+----------------------------------+\n",
    "# | Commerce    |                                | 0.011 [0.011, 0.011] |                                  |\n",
    "# +-------------+--------------------------------+----------------------+----------------------------------+"
   ]
  },
  {
   "cell_type": "markdown",
   "id": "b489660c",
   "metadata": {},
   "source": [
    "## vcov"
   ]
  },
  {
   "cell_type": "markdown",
   "id": "d4813873",
   "metadata": {},
   "source": [
    "## stars"
   ]
  },
  {
   "cell_type": "code",
   "execution_count": null,
   "id": "8bb55cb8",
   "metadata": {
    "vscode": {
     "languageId": "r"
    }
   },
   "outputs": [
    {
     "data": {
      "text/plain": [
       "\n",
       "+-------------+-------------+----------+--------------+\n",
       "|             | OLS 1       | Poisson  | OLS 2        |\n",
       "+=============+=============+==========+==============+\n",
       "| (Intercept) | 7948.667*** | 8.241*** | 16259.384*** |\n",
       "+-------------+-------------+----------+--------------+\n",
       "|             | (2078.276)  | (0.006)  | (2611.140)   |\n",
       "+-------------+-------------+----------+--------------+\n",
       "| Literacy    | -39.121     | 0.003*** | 3.680        |\n",
       "+-------------+-------------+----------+--------------+\n",
       "|             | (37.052)    | (0.000)  | (46.552)     |\n",
       "+-------------+-------------+----------+--------------+\n",
       "| Clergy      | 15.257      |          | 77.148*      |\n",
       "+-------------+-------------+----------+--------------+\n",
       "|             | (25.735)    |          | (32.334)     |\n",
       "+-------------+-------------+----------+--------------+\n",
       "| Commerce    |             | 0.011*** |              |\n",
       "+-------------+-------------+----------+--------------+\n",
       "|             |             | (0.000)  |              |\n",
       "+-------------+-------------+----------+--------------+ "
      ]
     },
     "metadata": {},
     "output_type": "display_data"
    }
   ],
   "source": [
    "modelsummary(\n",
    "  models,\n",
    "  estimate = \"{estimate}{stars}\",\n",
    "  gof_omit = \".*\"\n",
    ")\n",
    "\n",
    "# +-------------+-------------+----------+--------------+\n",
    "# |             | OLS 1       | Poisson  | OLS 2        |\n",
    "# +=============+=============+==========+==============+\n",
    "# | (Intercept) | 7948.667*** | 8.241*** | 16259.384*** |\n",
    "# +-------------+-------------+----------+--------------+\n",
    "# |             | (2078.276)  | (0.006)  | (2611.140)   |\n",
    "# +-------------+-------------+----------+--------------+\n",
    "# | Literacy    | -39.121     | 0.003*** | 3.680        |\n",
    "# +-------------+-------------+----------+--------------+\n",
    "# |             | (37.052)    | (0.000)  | (46.552)     |\n",
    "# +-------------+-------------+----------+--------------+\n",
    "# | Clergy      | 15.257      |          | 77.148*      |\n",
    "# +-------------+-------------+----------+--------------+\n",
    "# |             | (25.735)    |          | (32.334)     |\n",
    "# +-------------+-------------+----------+--------------+\n",
    "# | Commerce    |             | 0.011*** |              |\n",
    "# +-------------+-------------+----------+--------------+\n",
    "# |             |             | (0.000)  |              |\n",
    "# +-------------+-------------+----------+--------------+"
   ]
  },
  {
   "cell_type": "markdown",
   "id": "5a3ecb14",
   "metadata": {
    "vscode": {
     "languageId": "r"
    }
   },
   "source": [
    "## coef_omit"
   ]
  },
  {
   "cell_type": "code",
   "execution_count": null,
   "id": "1e847bd8",
   "metadata": {
    "vscode": {
     "languageId": "r"
    }
   },
   "outputs": [
    {
     "data": {
      "text/plain": [
       "\n",
       "+----------+----------+---------+----------+\n",
       "|          | OLS 1    | Poisson | OLS 2    |\n",
       "+==========+==========+=========+==========+\n",
       "| Clergy   | 15.257   |         | 77.148   |\n",
       "+----------+----------+---------+----------+\n",
       "|          | (25.735) |         | (32.334) |\n",
       "+----------+----------+---------+----------+\n",
       "| Commerce |          | 0.011   |          |\n",
       "+----------+----------+---------+----------+\n",
       "|          |          | (0.000) |          |\n",
       "+----------+----------+---------+----------+ "
      ]
     },
     "metadata": {},
     "output_type": "display_data"
    }
   ],
   "source": [
    "modelsummary(models, coef_omit = 1:2, gof_map = NA)\n",
    "\n",
    "# +----------+----------+---------+----------+\n",
    "# |          | OLS 1    | Poisson | OLS 2    |\n",
    "# +==========+==========+=========+==========+\n",
    "# | Clergy   | 15.257   |         | 77.148   |\n",
    "# +----------+----------+---------+----------+\n",
    "# |          | (25.735) |         | (32.334) |\n",
    "# +----------+----------+---------+----------+\n",
    "# | Commerce |          | 0.011   |          |\n",
    "# +----------+----------+---------+----------+\n",
    "# |          |          | (0.000) |          |\n",
    "# +----------+----------+---------+----------+"
   ]
  },
  {
   "cell_type": "code",
   "execution_count": null,
   "id": "db1589ec",
   "metadata": {
    "vscode": {
     "languageId": "r"
    }
   },
   "outputs": [
    {
     "data": {
      "text/plain": [
       "\n",
       "+-------------+------------+---------+------------+\n",
       "|             | OLS 1      | Poisson | OLS 2      |\n",
       "+=============+============+=========+============+\n",
       "| (Intercept) | 7948.667   | 8.241   | 16259.384  |\n",
       "+-------------+------------+---------+------------+\n",
       "|             | (2078.276) | (0.006) | (2611.140) |\n",
       "+-------------+------------+---------+------------+\n",
       "| Literacy    | -39.121    | 0.003   | 3.680      |\n",
       "+-------------+------------+---------+------------+\n",
       "|             | (37.052)   | (0.000) | (46.552)   |\n",
       "+-------------+------------+---------+------------+ "
      ]
     },
     "metadata": {},
     "output_type": "display_data"
    }
   ],
   "source": [
    "modelsummary(models, coef_omit = c(-1, -2), gof_map = NA)\n",
    "\n",
    "# +-------------+------------+---------+------------+\n",
    "# |             | OLS 1      | Poisson | OLS 2      |\n",
    "# +=============+============+=========+============+\n",
    "# | (Intercept) | 7948.667   | 8.241   | 16259.384  |\n",
    "# +-------------+------------+---------+------------+\n",
    "# |             | (2078.276) | (0.006) | (2611.140) |\n",
    "# +-------------+------------+---------+------------+\n",
    "# | Literacy    | -39.121    | 0.003   | 3.680      |\n",
    "# +-------------+------------+---------+------------+\n",
    "# |             | (37.052)   | (0.000) | (46.552)   |\n",
    "# +-------------+------------+---------+------------+"
   ]
  },
  {
   "cell_type": "code",
   "execution_count": null,
   "id": "affc102a",
   "metadata": {
    "vscode": {
     "languageId": "r"
    }
   },
   "outputs": [
    {
     "data": {
      "text/plain": [
       "\n",
       "+----------+----------+---------+----------+\n",
       "|          | OLS 1    | Poisson | OLS 2    |\n",
       "+==========+==========+=========+==========+\n",
       "| Literacy | -39.121  | 0.003   | 3.680    |\n",
       "+----------+----------+---------+----------+\n",
       "|          | (37.052) | (0.000) | (46.552) |\n",
       "+----------+----------+---------+----------+\n",
       "| Clergy   | 15.257   |         | 77.148   |\n",
       "+----------+----------+---------+----------+\n",
       "|          | (25.735) |         | (32.334) |\n",
       "+----------+----------+---------+----------+ "
      ]
     },
     "metadata": {},
     "output_type": "display_data"
    }
   ],
   "source": [
    "modelsummary(models, coef_omit = \"Intercept|.*merce\", gof_map = NA)\n",
    "\n",
    "# +----------+----------+---------+----------+\n",
    "# |          | OLS 1    | Poisson | OLS 2    |\n",
    "# +==========+==========+=========+==========+\n",
    "# | Literacy | -39.121  | 0.003   | 3.680    |\n",
    "# +----------+----------+---------+----------+\n",
    "# |          | (37.052) | (0.000) | (46.552) |\n",
    "# +----------+----------+---------+----------+\n",
    "# | Clergy   | 15.257   |         | 77.148   |\n",
    "# +----------+----------+---------+----------+\n",
    "# |          | (25.735) |         | (32.334) |\n",
    "# +----------+----------+---------+----------+"
   ]
  },
  {
   "cell_type": "code",
   "execution_count": null,
   "id": "d284f75a",
   "metadata": {
    "vscode": {
     "languageId": "r"
    }
   },
   "outputs": [
    {
     "data": {
      "text/plain": [
       "\n",
       "+----------+----------+---------+----------+\n",
       "|          | OLS 1    | Poisson | OLS 2    |\n",
       "+==========+==========+=========+==========+\n",
       "| Literacy | -39.121  | 0.003   | 3.680    |\n",
       "+----------+----------+---------+----------+\n",
       "|          | (37.052) | (0.000) | (46.552) |\n",
       "+----------+----------+---------+----------+ "
      ]
     },
     "metadata": {},
     "output_type": "display_data"
    }
   ],
   "source": [
    "modelsummary(models, coef_omit = \"^(?!Lit)\", gof_map = NA)\n",
    "\n",
    "# +----------+----------+---------+----------+\n",
    "# |          | OLS 1    | Poisson | OLS 2    |\n",
    "# +==========+==========+=========+==========+\n",
    "# | Literacy | -39.121  | 0.003   | 3.680    |\n",
    "# +----------+----------+---------+----------+\n",
    "# |          | (37.052) | (0.000) | (46.552) |\n",
    "# +----------+----------+---------+----------+"
   ]
  },
  {
   "cell_type": "code",
   "execution_count": null,
   "id": "1ecdecf5",
   "metadata": {
    "vscode": {
     "languageId": "r"
    }
   },
   "outputs": [
    {
     "data": {
      "text/plain": [
       "\n",
       "+----------+----------+---------+----------+\n",
       "|          | OLS 1    | Poisson | OLS 2    |\n",
       "+==========+==========+=========+==========+\n",
       "| Literacy | -39.121  | 0.003   | 3.680    |\n",
       "+----------+----------+---------+----------+\n",
       "|          | (37.052) | (0.000) | (46.552) |\n",
       "+----------+----------+---------+----------+\n",
       "| Clergy   | 15.257   |         | 77.148   |\n",
       "+----------+----------+---------+----------+\n",
       "|          | (25.735) |         | (32.334) |\n",
       "+----------+----------+---------+----------+ "
      ]
     },
     "metadata": {},
     "output_type": "display_data"
    }
   ],
   "source": [
    "modelsummary(models, coef_omit = \"^(?!.*y)\", gof_map = NA)\n",
    "\n",
    "# +----------+----------+---------+----------+\n",
    "# |          | OLS 1    | Poisson | OLS 2    |\n",
    "# +==========+==========+=========+==========+\n",
    "# | Literacy | -39.121  | 0.003   | 3.680    |\n",
    "# +----------+----------+---------+----------+\n",
    "# |          | (37.052) | (0.000) | (46.552) |\n",
    "# +----------+----------+---------+----------+\n",
    "# | Clergy   | 15.257   |         | 77.148   |\n",
    "# +----------+----------+---------+----------+\n",
    "# |          | (25.735) |         | (32.334) |\n",
    "# +----------+----------+---------+----------+"
   ]
  },
  {
   "cell_type": "code",
   "execution_count": null,
   "id": "17250b9a",
   "metadata": {
    "vscode": {
     "languageId": "r"
    }
   },
   "outputs": [
    {
     "data": {
      "text/plain": [
       "\n",
       "+-------------+------------+---------+------------+\n",
       "|             | OLS 1      | Poisson | OLS 2      |\n",
       "+=============+============+=========+============+\n",
       "| (Intercept) | 7948.667   | 8.241   | 16259.384  |\n",
       "+-------------+------------+---------+------------+\n",
       "|             | (2078.276) | (0.006) | (2611.140) |\n",
       "+-------------+------------+---------+------------+\n",
       "| Literacy    | -39.121    | 0.003   | 3.680      |\n",
       "+-------------+------------+---------+------------+\n",
       "|             | (37.052)   | (0.000) | (46.552)   |\n",
       "+-------------+------------+---------+------------+\n",
       "| Clergy      | 15.257     |         | 77.148     |\n",
       "+-------------+------------+---------+------------+\n",
       "|             | (25.735)   |         | (32.334)   |\n",
       "+-------------+------------+---------+------------+ "
      ]
     },
     "metadata": {},
     "output_type": "display_data"
    }
   ],
   "source": [
    "modelsummary(models, coef_omit = \"^(?!.*tercept|.*y)\", gof_map = NA)\n",
    "\n",
    "# +-------------+------------+---------+------------+\n",
    "# |             | OLS 1      | Poisson | OLS 2      |\n",
    "# +=============+============+=========+============+\n",
    "# | (Intercept) | 7948.667   | 8.241   | 16259.384  |\n",
    "# +-------------+------------+---------+------------+\n",
    "# |             | (2078.276) | (0.006) | (2611.140) |\n",
    "# +-------------+------------+---------+------------+\n",
    "# | Literacy    | -39.121    | 0.003   | 3.680      |\n",
    "# +-------------+------------+---------+------------+\n",
    "# |             | (37.052)   | (0.000) | (46.552)   |\n",
    "# +-------------+------------+---------+------------+\n",
    "# | Clergy      | 15.257     |         | 77.148     |\n",
    "# +-------------+------------+---------+------------+\n",
    "# |             | (25.735)   |         | (32.334)   |\n",
    "# +-------------+------------+---------+------------+"
   ]
  },
  {
   "cell_type": "markdown",
   "id": "8c8ee1f4",
   "metadata": {},
   "source": [
    "## coef_rename"
   ]
  },
  {
   "cell_type": "code",
   "execution_count": null,
   "id": "7947b80b",
   "metadata": {
    "vscode": {
     "languageId": "r"
    }
   },
   "outputs": [
    {
     "data": {
      "text/plain": [
       "\n",
       "+-------------+----------+----------+\n",
       "|             | (1)      | (2)      |\n",
       "+=============+==========+==========+\n",
       "| (Intercept) | 353.653  | 189.722  |\n",
       "+-------------+----------+----------+\n",
       "|             | (76.049) | (11.347) |\n",
       "+-------------+----------+----------+\n",
       "| Explanator  | -57.545  | -98.365  |\n",
       "+-------------+----------+----------+\n",
       "|             | (20.922) | (17.155) |\n",
       "+-------------+----------+----------+\n",
       "| Num.Obs.    | 32       | 32       |\n",
       "+-------------+----------+----------+\n",
       "| R2          | 0.201    | 0.523    |\n",
       "+-------------+----------+----------+\n",
       "| R2 Adj.     | 0.175    | 0.507    |\n",
       "+-------------+----------+----------+\n",
       "| AIC         | 359.2    | 342.7    |\n",
       "+-------------+----------+----------+\n",
       "| BIC         | 363.6    | 347.1    |\n",
       "+-------------+----------+----------+\n",
       "| Log.Lik.    | -176.588 | -168.347 |\n",
       "+-------------+----------+----------+\n",
       "| F           | 7.565    | 32.876   |\n",
       "+-------------+----------+----------+\n",
       "| RMSE        | 60.31    | 46.61    |\n",
       "+-------------+----------+----------+ "
      ]
     },
     "metadata": {},
     "output_type": "display_data"
    }
   ],
   "source": [
    "x <- list(lm(hp ~ drat, mtcars),\n",
    "          lm(hp ~ vs, mtcars))\n",
    "\n",
    "modelsummary(x, coef_rename = c(\"drat\" = \"Explanator\", \"vs\" = \"Explanator\"))\n",
    "\n",
    "# +-------------+----------+----------+\n",
    "# |             | (1)      | (2)      |\n",
    "# +=============+==========+==========+\n",
    "# | (Intercept) | 353.653  | 189.722  |\n",
    "# +-------------+----------+----------+\n",
    "# |             | (76.049) | (11.347) |\n",
    "# +-------------+----------+----------+\n",
    "# | Explanator  | -57.545  | -98.365  |\n",
    "# +-------------+----------+----------+\n",
    "# |             | (20.922) | (17.155) |\n",
    "# +-------------+----------+----------+\n",
    "# | Num.Obs.    | 32       | 32       |\n",
    "# +-------------+----------+----------+\n",
    "# | R2          | 0.201    | 0.523    |\n",
    "# +-------------+----------+----------+\n",
    "# | R2 Adj.     | 0.175    | 0.507    |\n",
    "# +-------------+----------+----------+\n",
    "# | AIC         | 359.2    | 342.7    |\n",
    "# +-------------+----------+----------+\n",
    "# | BIC         | 363.6    | 347.1    |\n",
    "# +-------------+----------+----------+\n",
    "# | Log.Lik.    | -176.588 | -168.347 |\n",
    "# +-------------+----------+----------+\n",
    "# | F           | 7.565    | 32.876   |\n",
    "# +-------------+----------+----------+\n",
    "# | RMSE        | 60.31    | 46.61    |\n",
    "# +-------------+----------+----------+"
   ]
  },
  {
   "cell_type": "code",
   "execution_count": null,
   "id": "dfe5b921",
   "metadata": {
    "vscode": {
     "languageId": "r"
    }
   },
   "outputs": [
    {
     "data": {
      "text/plain": [
       "\n",
       "+-------------+---------+----------+\n",
       "|             | mpg     | hp       |\n",
       "+=============+=========+==========+\n",
       "| (Intercept) | 26.158  | -86.788  |\n",
       "+-------------+---------+----------+\n",
       "|             | (6.537) | (79.395) |\n",
       "+-------------+---------+----------+\n",
       "| 6           | -4.547  | 46.485   |\n",
       "+-------------+---------+----------+\n",
       "|             | (1.731) | (21.027) |\n",
       "+-------------+---------+----------+\n",
       "| 8           | -4.580  | 121.892  |\n",
       "+-------------+---------+----------+\n",
       "|             | (2.952) | (35.853) |\n",
       "+-------------+---------+----------+\n",
       "| Drat        | 0.783   | 37.815   |\n",
       "+-------------+---------+----------+\n",
       "|             | (1.478) | (17.952) |\n",
       "+-------------+---------+----------+\n",
       "| Disp        | -0.026  | 0.147    |\n",
       "+-------------+---------+----------+\n",
       "|             | (0.011) | (0.137)  |\n",
       "+-------------+---------+----------+\n",
       "| Num.Obs.    | 32      | 32       |\n",
       "+-------------+---------+----------+\n",
       "| R2          | 0.786   | 0.756    |\n",
       "+-------------+---------+----------+\n",
       "| R2 Adj.     | 0.754   | 0.720    |\n",
       "+-------------+---------+----------+\n",
       "| AIC         | 167.4   | 327.2    |\n",
       "+-------------+---------+----------+\n",
       "| BIC         | 176.2   | 336.0    |\n",
       "+-------------+---------+----------+\n",
       "| Log.Lik.    | -77.719 | -157.623 |\n",
       "+-------------+---------+----------+\n",
       "| F           | 24.774  | 20.903   |\n",
       "+-------------+---------+----------+\n",
       "| RMSE        | 2.74    | 33.34    |\n",
       "+-------------+---------+----------+ "
      ]
     },
     "metadata": {},
     "output_type": "display_data"
    }
   ],
   "source": [
    "x <- list(\n",
    "  lm(mpg ~ factor(cyl) + drat + disp, data = mtcars),\n",
    "  lm(hp ~ factor(cyl) + drat + disp, data = mtcars)\n",
    ")\n",
    "\n",
    "modelsummary(dvnames(x), coef_rename = coef_rename)\n",
    "\n",
    "# +-------------+---------+----------+\n",
    "# |             | mpg     | hp       |\n",
    "# +=============+=========+==========+\n",
    "# | (Intercept) | 26.158  | -86.788  |\n",
    "# +-------------+---------+----------+\n",
    "# |             | (6.537) | (79.395) |\n",
    "# +-------------+---------+----------+\n",
    "# | 6           | -4.547  | 46.485   |\n",
    "# +-------------+---------+----------+\n",
    "# |             | (1.731) | (21.027) |\n",
    "# +-------------+---------+----------+\n",
    "# | 8           | -4.580  | 121.892  |\n",
    "# +-------------+---------+----------+\n",
    "# |             | (2.952) | (35.853) |\n",
    "# +-------------+---------+----------+\n",
    "# | Drat        | 0.783   | 37.815   |\n",
    "# +-------------+---------+----------+\n",
    "# |             | (1.478) | (17.952) |\n",
    "# +-------------+---------+----------+\n",
    "# | Disp        | -0.026  | 0.147    |\n",
    "# +-------------+---------+----------+\n",
    "# |             | (0.011) | (0.137)  |\n",
    "# +-------------+---------+----------+\n",
    "# | Num.Obs.    | 32      | 32       |\n",
    "# +-------------+---------+----------+\n",
    "# | R2          | 0.786   | 0.756    |\n",
    "# +-------------+---------+----------+\n",
    "# | R2 Adj.     | 0.754   | 0.720    |\n",
    "# +-------------+---------+----------+\n",
    "# | AIC         | 167.4   | 327.2    |\n",
    "# +-------------+---------+----------+\n",
    "# | BIC         | 176.2   | 336.0    |\n",
    "# +-------------+---------+----------+\n",
    "# | Log.Lik.    | -77.719 | -157.623 |\n",
    "# +-------------+---------+----------+\n",
    "# | F           | 24.774  | 20.903   |\n",
    "# +-------------+---------+----------+\n",
    "# | RMSE        | 2.74    | 33.34    |\n",
    "# +-------------+---------+----------+"
   ]
  },
  {
   "cell_type": "code",
   "execution_count": null,
   "id": "3a832434",
   "metadata": {
    "vscode": {
     "languageId": "r"
    }
   },
   "outputs": [
    {
     "data": {
      "text/plain": [
       "\n",
       "+----------------+----------+----------+\n",
       "|                | (1)      | (2)      |\n",
       "+================+==========+==========+\n",
       "| (Intercept)    | 91.206   | 189.722  |\n",
       "+----------------+----------+----------+\n",
       "|                | (72.344) | (11.205) |\n",
       "+----------------+----------+----------+\n",
       "| Explanator     | 68.331   | -18.316  |\n",
       "+----------------+----------+----------+\n",
       "|                | (27.390) | (62.531) |\n",
       "+----------------+----------+----------+\n",
       "| Explanator:mpg | -2.558   | -3.260   |\n",
       "+----------------+----------+----------+\n",
       "|                | (0.467)  | (2.451)  |\n",
       "+----------------+----------+----------+\n",
       "| Num.Obs.       | 32       | 32       |\n",
       "+----------------+----------+----------+\n",
       "| R2             | 0.608    | 0.550    |\n",
       "+----------------+----------+----------+\n",
       "| R2 Adj.        | 0.581    | 0.519    |\n",
       "+----------------+----------+----------+\n",
       "| AIC            | 338.4    | 342.8    |\n",
       "+----------------+----------+----------+\n",
       "| BIC            | 344.3    | 348.7    |\n",
       "+----------------+----------+----------+\n",
       "| Log.Lik.       | -165.218 | -167.399 |\n",
       "+----------------+----------+----------+\n",
       "| F              | 22.454   | 17.743   |\n",
       "+----------------+----------+----------+\n",
       "| RMSE           | 42.27    | 45.25    |\n",
       "+----------------+----------+----------+ "
      ]
     },
     "metadata": {},
     "output_type": "display_data"
    }
   ],
   "source": [
    "y <- list(\n",
    "  lm(hp ~ drat / mpg, mtcars),\n",
    "  lm(hp ~ vs / mpg, mtcars)\n",
    ")\n",
    "\n",
    "rename_explanator <- function(old_names) {\n",
    "  new_names <- gsub(\"drat|vs\", \"Explanator\", old_names)\n",
    "  setNames(new_names, old_names)\n",
    "}\n",
    "\n",
    "modelsummary(y, coef_rename = rename_explanator)\n",
    "\n",
    "# +----------------+----------+----------+\n",
    "# |                | (1)      | (2)      |\n",
    "# +================+==========+==========+\n",
    "# | (Intercept)    | 91.206   | 189.722  |\n",
    "# +----------------+----------+----------+\n",
    "# |                | (72.344) | (11.205) |\n",
    "# +----------------+----------+----------+\n",
    "# | Explanator     | 68.331   | -18.316  |\n",
    "# +----------------+----------+----------+\n",
    "# |                | (27.390) | (62.531) |\n",
    "# +----------------+----------+----------+\n",
    "# | Explanator:mpg | -2.558   | -3.260   |\n",
    "# +----------------+----------+----------+\n",
    "# |                | (0.467)  | (2.451)  |\n",
    "# +----------------+----------+----------+\n",
    "# | Num.Obs.       | 32       | 32       |\n",
    "# +----------------+----------+----------+\n",
    "# | R2             | 0.608    | 0.550    |\n",
    "# +----------------+----------+----------+\n",
    "# | R2 Adj.        | 0.581    | 0.519    |\n",
    "# +----------------+----------+----------+\n",
    "# | AIC            | 338.4    | 342.8    |\n",
    "# +----------------+----------+----------+\n",
    "# | BIC            | 344.3    | 348.7    |\n",
    "# +----------------+----------+----------+\n",
    "# | Log.Lik.       | -165.218 | -167.399 |\n",
    "# +----------------+----------+----------+\n",
    "# | F              | 22.454   | 17.743   |\n",
    "# +----------------+----------+----------+\n",
    "# | RMSE           | 42.27    | 45.25    |\n",
    "# +----------------+----------+----------+"
   ]
  },
  {
   "cell_type": "code",
   "execution_count": null,
   "id": "432c73d1",
   "metadata": {
    "vscode": {
     "languageId": "r"
    }
   },
   "outputs": [
    {
     "data": {
      "text/plain": [
       "\n",
       "+---------------+---------+\n",
       "|               | (1)     |\n",
       "+===============+=========+\n",
       "| (Intercept)   | 24.802  |\n",
       "+---------------+---------+\n",
       "|               | (1.323) |\n",
       "+---------------+---------+\n",
       "| Cylinders [6] | -6.156  |\n",
       "+---------------+---------+\n",
       "|               | (1.536) |\n",
       "+---------------+---------+\n",
       "| Cylinders [8] | -10.068 |\n",
       "+---------------+---------+\n",
       "|               | (1.452) |\n",
       "+---------------+---------+\n",
       "| Transmission  | 2.560   |\n",
       "+---------------+---------+\n",
       "|               | (1.298) |\n",
       "+---------------+---------+\n",
       "| Num.Obs.      | 32      |\n",
       "+---------------+---------+\n",
       "| R2            | 0.765   |\n",
       "+---------------+---------+\n",
       "| R2 Adj.       | 0.740   |\n",
       "+---------------+---------+\n",
       "| AIC           | 168.4   |\n",
       "+---------------+---------+\n",
       "| BIC           | 175.7   |\n",
       "+---------------+---------+\n",
       "| Log.Lik.      | -79.199 |\n",
       "+---------------+---------+\n",
       "| F             | 30.402  |\n",
       "+---------------+---------+\n",
       "| RMSE          | 2.87    |\n",
       "+---------------+---------+ "
      ]
     },
     "metadata": {},
     "output_type": "display_data"
    }
   ],
   "source": [
    "datlab <- mtcars\n",
    "datlab$cyl <- factor(datlab$cyl)\n",
    "attr(datlab$cyl, \"label\") <- \"Cylinders\"\n",
    "attr(datlab$am, \"label\") <- \"Transmission\"\n",
    "modlab <- lm(mpg ~ cyl + am, data = datlab)\n",
    "modelsummary(modlab, coef_rename = TRUE)\n",
    "\n",
    "# +---------------+---------+\n",
    "# |               | (1)     |\n",
    "# +===============+=========+\n",
    "# | (Intercept)   | 24.802  |\n",
    "# +---------------+---------+\n",
    "# |               | (1.323) |\n",
    "# +---------------+---------+\n",
    "# | Cylinders [6] | -6.156  |\n",
    "# +---------------+---------+\n",
    "# |               | (1.536) |\n",
    "# +---------------+---------+\n",
    "# | Cylinders [8] | -10.068 |\n",
    "# +---------------+---------+\n",
    "# |               | (1.452) |\n",
    "# +---------------+---------+\n",
    "# | Transmission  | 2.560   |\n",
    "# +---------------+---------+\n",
    "# |               | (1.298) |\n",
    "# +---------------+---------+\n",
    "# | Num.Obs.      | 32      |\n",
    "# +---------------+---------+\n",
    "# | R2            | 0.765   |\n",
    "# +---------------+---------+\n",
    "# | R2 Adj.       | 0.740   |\n",
    "# +---------------+---------+\n",
    "# | AIC           | 168.4   |\n",
    "# +---------------+---------+\n",
    "# | BIC           | 175.7   |\n",
    "# +---------------+---------+\n",
    "# | Log.Lik.      | -79.199 |\n",
    "# +---------------+---------+\n",
    "# | F             | 30.402  |\n",
    "# +---------------+---------+\n",
    "# | RMSE          | 2.87    |\n",
    "# +---------------+---------+"
   ]
  },
  {
   "cell_type": "markdown",
   "id": "8cde47e1",
   "metadata": {},
   "source": [
    "## coef_map"
   ]
  },
  {
   "cell_type": "code",
   "execution_count": null,
   "id": "34f4c1b1",
   "metadata": {
    "vscode": {
     "languageId": "r"
    }
   },
   "outputs": [
    {
     "data": {
      "text/plain": [
       "\n",
       "+--------------------+------------+-------------+------------+\n",
       "|                    | OLS 1      | Poisson     | OLS 2      |\n",
       "+====================+============+=============+============+\n",
       "| Literacy (%)       | -39.121    | 0.003       | 3.680      |\n",
       "+--------------------+------------+-------------+------------+\n",
       "|                    | (37.052)   | (0.000)     | (46.552)   |\n",
       "+--------------------+------------+-------------+------------+\n",
       "| Patents per capita |            | 0.011       |            |\n",
       "+--------------------+------------+-------------+------------+\n",
       "|                    |            | (0.000)     |            |\n",
       "+--------------------+------------+-------------+------------+\n",
       "| Constant           | 7948.667   | 8.241       | 16259.384  |\n",
       "+--------------------+------------+-------------+------------+\n",
       "|                    | (2078.276) | (0.006)     | (2611.140) |\n",
       "+--------------------+------------+-------------+------------+\n",
       "| Num.Obs.           | 86         | 86          | 86         |\n",
       "+--------------------+------------+-------------+------------+\n",
       "| R2                 | 0.020      |             | 0.065      |\n",
       "+--------------------+------------+-------------+------------+\n",
       "| R2 Adj.            | -0.003     |             | 0.043      |\n",
       "+--------------------+------------+-------------+------------+\n",
       "| AIC                | 1740.8     | 274160.8    | 1780.0     |\n",
       "+--------------------+------------+-------------+------------+\n",
       "| BIC                | 1750.6     | 274168.2    | 1789.9     |\n",
       "+--------------------+------------+-------------+------------+\n",
       "| Log.Lik.           | -866.392   | -137077.401 | -886.021   |\n",
       "+--------------------+------------+-------------+------------+\n",
       "| F                  | 0.866      | 18294.559   | 2.903      |\n",
       "+--------------------+------------+-------------+------------+\n",
       "| RMSE               | 5740.99    | 5491.61     | 7212.97    |\n",
       "+--------------------+------------+-------------+------------+ "
      ]
     },
     "metadata": {},
     "output_type": "display_data"
    }
   ],
   "source": [
    "cm <- c('Literacy'    = 'Literacy (%)',\n",
    "        'Commerce'    = 'Patents per capita',\n",
    "        '(Intercept)' = 'Constant')\n",
    "modelsummary(models, coef_map = cm)\n",
    "\n",
    "# +--------------------+------------+-------------+------------+\n",
    "# |                    | OLS 1      | Poisson     | OLS 2      |\n",
    "# +====================+============+=============+============+\n",
    "# | Literacy (%)       | -39.121    | 0.003       | 3.680      |\n",
    "# +--------------------+------------+-------------+------------+\n",
    "# |                    | (37.052)   | (0.000)     | (46.552)   |\n",
    "# +--------------------+------------+-------------+------------+\n",
    "# | Patents per capita |            | 0.011       |            |\n",
    "# +--------------------+------------+-------------+------------+\n",
    "# |                    |            | (0.000)     |            |\n",
    "# +--------------------+------------+-------------+------------+\n",
    "# | Constant           | 7948.667   | 8.241       | 16259.384  |\n",
    "# +--------------------+------------+-------------+------------+\n",
    "# |                    | (2078.276) | (0.006)     | (2611.140) |\n",
    "# +--------------------+------------+-------------+------------+\n",
    "# | Num.Obs.           | 86         | 86          | 86         |\n",
    "# +--------------------+------------+-------------+------------+\n",
    "# | R2                 | 0.020      |             | 0.065      |\n",
    "# +--------------------+------------+-------------+------------+\n",
    "# | R2 Adj.            | -0.003     |             | 0.043      |\n",
    "# +--------------------+------------+-------------+------------+\n",
    "# | AIC                | 1740.8     | 274160.8    | 1780.0     |\n",
    "# +--------------------+------------+-------------+------------+\n",
    "# | BIC                | 1750.6     | 274168.2    | 1789.9     |\n",
    "# +--------------------+------------+-------------+------------+\n",
    "# | Log.Lik.           | -866.392   | -137077.401 | -886.021   |\n",
    "# +--------------------+------------+-------------+------------+\n",
    "# | F                  | 0.866      | 18294.559   | 2.903      |\n",
    "# +--------------------+------------+-------------+------------+\n",
    "# | RMSE               | 5740.99    | 5491.61     | 7212.97    |\n",
    "# +--------------------+------------+-------------+------------+"
   ]
  },
  {
   "cell_type": "code",
   "execution_count": null,
   "id": "ab1180d6",
   "metadata": {
    "vscode": {
     "languageId": "r"
    }
   },
   "outputs": [
    {
     "data": {
      "text/plain": [
       "\n",
       "+-------------+------------+---------+------------+\n",
       "|             | OLS 1      | Poisson | OLS 2      |\n",
       "+=============+============+=========+============+\n",
       "| (Intercept) | 7948.667   | 8.241   | 16259.384  |\n",
       "+-------------+------------+---------+------------+\n",
       "|             | (2078.276) | (0.006) | (2611.140) |\n",
       "+-------------+------------+---------+------------+\n",
       "| Literacy    | -39.121    | 0.003   | 3.680      |\n",
       "+-------------+------------+---------+------------+\n",
       "|             | (37.052)   | (0.000) | (46.552)   |\n",
       "+-------------+------------+---------+------------+\n",
       "| Clergy      | 15.257     |         | 77.148     |\n",
       "+-------------+------------+---------+------------+\n",
       "|             | (25.735)   |         | (32.334)   |\n",
       "+-------------+------------+---------+------------+\n",
       "| Commerce    |            | 0.011   |            |\n",
       "+-------------+------------+---------+------------+\n",
       "|             |            | (0.000) |            |\n",
       "+-------------+------------+---------+------------+\n",
       "| Num.Obs.    | 86         | 86      | 86         |\n",
       "+-------------+------------+---------+------------+\n",
       "| R2          | 0.020      |         | 0.065      |\n",
       "+-------------+------------+---------+------------+ "
      ]
     },
     "metadata": {},
     "output_type": "display_data"
    }
   ],
   "source": [
    "modelsummary(models, gof_map = c(\"nobs\", \"r.squared\"))\n",
    "\n",
    "# +-------------+------------+---------+------------+\n",
    "# |             | OLS 1      | Poisson | OLS 2      |\n",
    "# +=============+============+=========+============+\n",
    "# | (Intercept) | 7948.667   | 8.241   | 16259.384  |\n",
    "# +-------------+------------+---------+------------+\n",
    "# |             | (2078.276) | (0.006) | (2611.140) |\n",
    "# +-------------+------------+---------+------------+\n",
    "# | Literacy    | -39.121    | 0.003   | 3.680      |\n",
    "# +-------------+------------+---------+------------+\n",
    "# |             | (37.052)   | (0.000) | (46.552)   |\n",
    "# +-------------+------------+---------+------------+\n",
    "# | Clergy      | 15.257     |         | 77.148     |\n",
    "# +-------------+------------+---------+------------+\n",
    "# |             | (25.735)   |         | (32.334)   |\n",
    "# +-------------+------------+---------+------------+\n",
    "# | Commerce    |            | 0.011   |            |\n",
    "# +-------------+------------+---------+------------+\n",
    "# |             |            | (0.000) |            |\n",
    "# +-------------+------------+---------+------------+\n",
    "# | Num.Obs.    | 86         | 86      | 86         |\n",
    "# +-------------+------------+---------+------------+\n",
    "# | R2          | 0.020      |         | 0.065      |\n",
    "# +-------------+------------+---------+------------+"
   ]
  },
  {
   "cell_type": "code",
   "execution_count": null,
   "id": "5e58b153",
   "metadata": {
    "vscode": {
     "languageId": "r"
    }
   },
   "outputs": [
    {
     "data": {
      "text/plain": [
       "\n",
       "+---------------+------------+-------------+------------+\n",
       "|               | OLS 1      | Poisson     | OLS 2      |\n",
       "+===============+============+=============+============+\n",
       "| (Intercept)   | 7948.667   | 8.241       | 16259.384  |\n",
       "+---------------+------------+-------------+------------+\n",
       "|               | (2078.276) | (0.006)     | (2611.140) |\n",
       "+---------------+------------+-------------+------------+\n",
       "| Literacy      | -39.121    | 0.003       | 3.680      |\n",
       "+---------------+------------+-------------+------------+\n",
       "|               | (37.052)   | (0.000)     | (46.552)   |\n",
       "+---------------+------------+-------------+------------+\n",
       "| Clergy        | 15.257     |             | 77.148     |\n",
       "+---------------+------------+-------------+------------+\n",
       "|               | (25.735)   |             | (32.334)   |\n",
       "+---------------+------------+-------------+------------+\n",
       "| Commerce      |            | 0.011       |            |\n",
       "+---------------+------------+-------------+------------+\n",
       "|               |            | (0.000)     |            |\n",
       "+---------------+------------+-------------+------------+\n",
       "| Num.Obs.      | 86         | 86          | 86         |\n",
       "+---------------+------------+-------------+------------+\n",
       "| R2            | 0.020      |             | 0.065      |\n",
       "+---------------+------------+-------------+------------+\n",
       "| R2 Adj.       | -0.003     |             | 0.043      |\n",
       "+---------------+------------+-------------+------------+\n",
       "| AIC           | 1740.8     | 274160.8    | 1780.0     |\n",
       "+---------------+------------+-------------+------------+\n",
       "| BIC           | 1750.6     | 274168.2    | 1789.9     |\n",
       "+---------------+------------+-------------+------------+\n",
       "| Log.Lik.      | -866.392   | -137077.401 | -886.021   |\n",
       "+---------------+------------+-------------+------------+\n",
       "| F             | 0.866      | 18294.559   | 2.903      |\n",
       "+---------------+------------+-------------+------------+\n",
       "| RMSE          | 5740.99    | 5491.61     | 7212.97    |\n",
       "+---------------+------------+-------------+------------+\n",
       "| R2 Nagelkerke |            | 1.00        |            |\n",
       "+---------------+------------+-------------+------------+ "
      ]
     },
     "metadata": {},
     "output_type": "display_data"
    }
   ],
   "source": [
    "gm <- modelsummary::gof_map\n",
    "gm$omit <- FALSE\n",
    "modelsummary(models, gof_map = gm)\n",
    "\n",
    "# +---------------+------------+-------------+------------+\n",
    "# |               | OLS 1      | Poisson     | OLS 2      |\n",
    "# +===============+============+=============+============+\n",
    "# | (Intercept)   | 7948.667   | 8.241       | 16259.384  |\n",
    "# +---------------+------------+-------------+------------+\n",
    "# |               | (2078.276) | (0.006)     | (2611.140) |\n",
    "# +---------------+------------+-------------+------------+\n",
    "# | Literacy      | -39.121    | 0.003       | 3.680      |\n",
    "# +---------------+------------+-------------+------------+\n",
    "# |               | (37.052)   | (0.000)     | (46.552)   |\n",
    "# +---------------+------------+-------------+------------+\n",
    "# | Clergy        | 15.257     |             | 77.148     |\n",
    "# +---------------+------------+-------------+------------+\n",
    "# |               | (25.735)   |             | (32.334)   |\n",
    "# +---------------+------------+-------------+------------+\n",
    "# | Commerce      |            | 0.011       |            |\n",
    "# +---------------+------------+-------------+------------+\n",
    "# |               |            | (0.000)     |            |\n",
    "# +---------------+------------+-------------+------------+\n",
    "# | Num.Obs.      | 86         | 86          | 86         |\n",
    "# +---------------+------------+-------------+------------+\n",
    "# | R2            | 0.020      |             | 0.065      |\n",
    "# +---------------+------------+-------------+------------+\n",
    "# | R2 Adj.       | -0.003     |             | 0.043      |\n",
    "# +---------------+------------+-------------+------------+\n",
    "# | AIC           | 1740.8     | 274160.8    | 1780.0     |\n",
    "# +---------------+------------+-------------+------------+\n",
    "# | BIC           | 1750.6     | 274168.2    | 1789.9     |\n",
    "# +---------------+------------+-------------+------------+\n",
    "# | Log.Lik.      | -866.392   | -137077.401 | -886.021   |\n",
    "# +---------------+------------+-------------+------------+\n",
    "# | F             | 0.866      | 18294.559   | 2.903      |\n",
    "# +---------------+------------+-------------+------------+\n",
    "# | RMSE          | 5740.99    | 5491.61     | 7212.97    |\n",
    "# +---------------+------------+-------------+------------+\n",
    "# | R2 Nagelkerke |            | 1.00        |            |\n",
    "# +---------------+------------+-------------+------------+"
   ]
  },
  {
   "cell_type": "code",
   "execution_count": null,
   "id": "c1631fe4",
   "metadata": {
    "vscode": {
     "languageId": "r"
    }
   },
   "outputs": [
    {
     "data": {
      "text/plain": [
       "\n",
       "+-------------+------------------+------------------+------------------+\n",
       "|             | OLS 1            | Poisson          | OLS 2            |\n",
       "+=============+==================+==================+==================+\n",
       "| (Intercept) | 7948.667         | 8.241            | 16259.384        |\n",
       "+-------------+------------------+------------------+------------------+\n",
       "|             | (2078.276)       | (0.006)          | (2611.140)       |\n",
       "+-------------+------------------+------------------+------------------+\n",
       "| Literacy    | -39.121          | 0.003            | 3.680            |\n",
       "+-------------+------------------+------------------+------------------+\n",
       "|             | (37.052)         | (0.000)          | (46.552)         |\n",
       "+-------------+------------------+------------------+------------------+\n",
       "| Clergy      | 15.257           |                  | 77.148           |\n",
       "+-------------+------------------+------------------+------------------+\n",
       "|             | (25.735)         |                  | (32.334)         |\n",
       "+-------------+------------------+------------------+------------------+\n",
       "| Commerce    |                  | 0.011            |                  |\n",
       "+-------------+------------------+------------------+------------------+\n",
       "|             |                  | (0.000)          |                  |\n",
       "+-------------+------------------+------------------+------------------+\n",
       "| N           | 86               | 86               | 86               |\n",
       "+-------------+------------------+------------------+------------------+\n",
       "| aic         | 1740.78409664934 | 274160.802311802 | 1780.04275759686 |\n",
       "+-------------+------------------+------------------+------------------+ "
      ]
     },
     "metadata": {},
     "output_type": "display_data"
    }
   ],
   "source": [
    "f <- function(x) format(round(x, 3), big.mark=\",\")\n",
    "gm <- list(\n",
    "  list(\"raw\" = \"nobs\", \"clean\" = \"N\", \"fmt\" = f),\n",
    "  list(\"raw\" = \"AIC\", \"clean\" = \"aic\", \"fmt\" = f))\n",
    "modelsummary(models, gof_map = gm)\n",
    "\n",
    "# +-------------+------------------+------------------+------------------+\n",
    "# |             | OLS 1            | Poisson          | OLS 2            |\n",
    "# +=============+==================+==================+==================+\n",
    "# | (Intercept) | 7948.667         | 8.241            | 16259.384        |\n",
    "# +-------------+------------------+------------------+------------------+\n",
    "# |             | (2078.276)       | (0.006)          | (2611.140)       |\n",
    "# +-------------+------------------+------------------+------------------+\n",
    "# | Literacy    | -39.121          | 0.003            | 3.680            |\n",
    "# +-------------+------------------+------------------+------------------+\n",
    "# |             | (37.052)         | (0.000)          | (46.552)         |\n",
    "# +-------------+------------------+------------------+------------------+\n",
    "# | Clergy      | 15.257           |                  | 77.148           |\n",
    "# +-------------+------------------+------------------+------------------+\n",
    "# |             | (25.735)         |                  | (32.334)         |\n",
    "# +-------------+------------------+------------------+------------------+\n",
    "# | Commerce    |                  | 0.011            |                  |\n",
    "# +-------------+------------------+------------------+------------------+\n",
    "# |             |                  | (0.000)          |                  |\n",
    "# +-------------+------------------+------------------+------------------+\n",
    "# | N           | 86               | 86               | 86               |\n",
    "# +-------------+------------------+------------------+------------------+\n",
    "# | aic         | 1740.78409664934 | 274160.802311802 | 1780.04275759686 |\n",
    "# +-------------+------------------+------------------+------------------+"
   ]
  },
  {
   "cell_type": "markdown",
   "id": "407bc6e5",
   "metadata": {},
   "source": [
    "## get_function"
   ]
  },
  {
   "cell_type": "code",
   "execution_count": null,
   "id": "13ef0c5e",
   "metadata": {
    "vscode": {
     "languageId": "r"
    }
   },
   "outputs": [
    {
     "data": {
      "text/plain": [
       "\n",
       "+-------------+---------+----------+\n",
       "|             | (1)     | (2)      |\n",
       "+=============+=========+==========+\n",
       "| (Intercept) | -27.840 | 786.169  |\n",
       "+-------------+---------+----------+\n",
       "|             | (8.299) | (87.415) |\n",
       "+-------------+---------+----------+\n",
       "| qsec        | 1.213   | -25.818  |\n",
       "+-------------+---------+----------+\n",
       "|             | (0.402) | (4.230)  |\n",
       "+-------------+---------+----------+\n",
       "| drat        | 7.309   | -49.676  |\n",
       "+-------------+---------+----------+\n",
       "|             | (1.342) | (14.138) |\n",
       "+-------------+---------+----------+\n",
       "| Num.Obs.    | 32      | 32       |\n",
       "+-------------+---------+----------+\n",
       "| R2          | 0.592   | 0.650    |\n",
       "+-------------+---------+----------+\n",
       "| R2 Adj.     | 0.564   | 0.626    |\n",
       "+-------------+---------+----------+\n",
       "| AIC         | 184.1   | 334.7    |\n",
       "+-------------+---------+----------+\n",
       "| BIC         | 189.9   | 340.6    |\n",
       "+-------------+---------+----------+\n",
       "| Log.Lik.    | -88.026 | -163.371 |\n",
       "+-------------+---------+----------+\n",
       "| F           | 21.056  | 26.976   |\n",
       "+-------------+---------+----------+\n",
       "| RMSE        | 3.79    | 39.90    |\n",
       "+-------------+---------+----------+\n",
       "| DV          | mpg     | hp       |\n",
       "+-------------+---------+----------+ "
      ]
     },
     "metadata": {},
     "output_type": "display_data"
    }
   ],
   "source": [
    "mod <- list(\n",
    "    lm(mpg ~ qsec + drat, mtcars),\n",
    "    lm(hp ~ qsec + drat, mtcars)\n",
    ")\n",
    "\n",
    "fun <- function(model) data.frame(\"DV\" = insight::find_response(model))\n",
    "\n",
    "modelsummary(mod, gof_function = fun)\n",
    "\n",
    "# +-------------+---------+----------+\n",
    "# |             | (1)     | (2)      |\n",
    "# +=============+=========+==========+\n",
    "# | (Intercept) | -27.840 | 786.169  |\n",
    "# +-------------+---------+----------+\n",
    "# |             | (8.299) | (87.415) |\n",
    "# +-------------+---------+----------+\n",
    "# | qsec        | 1.213   | -25.818  |\n",
    "# +-------------+---------+----------+\n",
    "# |             | (0.402) | (4.230)  |\n",
    "# +-------------+---------+----------+\n",
    "# | drat        | 7.309   | -49.676  |\n",
    "# +-------------+---------+----------+\n",
    "# |             | (1.342) | (14.138) |\n",
    "# +-------------+---------+----------+\n",
    "# | Num.Obs.    | 32      | 32       |\n",
    "# +-------------+---------+----------+\n",
    "# | R2          | 0.592   | 0.650    |\n",
    "# +-------------+---------+----------+\n",
    "# | R2 Adj.     | 0.564   | 0.626    |\n",
    "# +-------------+---------+----------+\n",
    "# | AIC         | 184.1   | 334.7    |\n",
    "# +-------------+---------+----------+\n",
    "# | BIC         | 189.9   | 340.6    |\n",
    "# +-------------+---------+----------+\n",
    "# | Log.Lik.    | -88.026 | -163.371 |\n",
    "# +-------------+---------+----------+\n",
    "# | F           | 21.056  | 26.976   |\n",
    "# +-------------+---------+----------+\n",
    "# | RMSE        | 3.79    | 39.90    |\n",
    "# +-------------+---------+----------+\n",
    "# | DV          | mpg     | hp       |\n",
    "# +-------------+---------+----------+"
   ]
  },
  {
   "cell_type": "code",
   "execution_count": null,
   "id": "ecf6fd28",
   "metadata": {
    "vscode": {
     "languageId": "r"
    }
   },
   "outputs": [
    {
     "data": {
      "text/plain": [
       "\n",
       "+-------------+---------+----------+\n",
       "|             | (1)     | (2)      |\n",
       "+=============+=========+==========+\n",
       "| (Intercept) | 4.925   | 1.290    |\n",
       "+-------------+---------+----------+\n",
       "|             | (1.765) | (1.660)  |\n",
       "+-------------+---------+----------+\n",
       "| qsec        | -0.096  | 0.210    |\n",
       "+-------------+---------+----------+\n",
       "|             | (0.098) | (0.065)  |\n",
       "+-------------+---------+----------+\n",
       "| Num.Obs.    | 32      | 32       |\n",
       "+-------------+---------+----------+\n",
       "| R2          | 0.031   | 0.820    |\n",
       "+-------------+---------+----------+\n",
       "| R2 Adj.     | -0.002  | 0.801    |\n",
       "+-------------+---------+----------+\n",
       "| AIC         | 93.4    | 43.5     |\n",
       "+-------------+---------+----------+\n",
       "| BIC         | 97.8    | 50.8     |\n",
       "+-------------+---------+----------+\n",
       "| Log.Lik.    | -43.705 | -16.749  |\n",
       "+-------------+---------+----------+\n",
       "| F           | 0.945   | 42.570   |\n",
       "+-------------+---------+----------+\n",
       "| RMSE        | 0.95    | 0.41     |\n",
       "+-------------+---------+----------+\n",
       "| Controls    |         | <U+2713> |\n",
       "+-------------+---------+----------+ "
      ]
     },
     "metadata": {},
     "output_type": "display_data"
    }
   ],
   "source": [
    "mod <- list(\n",
    "    lm(wt ~ qsec, data = mtcars),\n",
    "    lm(wt ~ qsec + hp + mpg, data = mtcars)\n",
    ")\n",
    "\n",
    "check_controls <- function(variables, yes = \"✓\", no = \"\") {\n",
    "    checkmate::assert_character(variables, min.len = 1)\n",
    "    checkmate::assert_string(no)\n",
    "    checkmate::assert_string(yes)\n",
    "    reg <- paste0(\"^\", paste(variables, collapse = \"$|^\"), \"$\")\n",
    "    fun <- function(model) {\n",
    "        est <- get_estimates(model)\n",
    "        df <- if (all(variables %in% est$term)) yes else no\n",
    "        df <- data.frame(Controls = df)\n",
    "        return(df)\n",
    "    }\n",
    "    list(\"fun\" = fun, \"regex\" = reg)\n",
    "}\n",
    "\n",
    "cc <- check_controls(c(\"hp\", \"mpg\"))\n",
    "\n",
    "modelsummary(mod, \n",
    "    gof_function = cc$fun, \n",
    "    coef_omit = cc$regex)\n",
    "\n",
    "# +-------------+---------+----------+\n",
    "# |             | (1)     | (2)      |\n",
    "# +=============+=========+==========+\n",
    "# | (Intercept) | 4.925   | 1.290    |\n",
    "# +-------------+---------+----------+\n",
    "# |             | (1.765) | (1.660)  |\n",
    "# +-------------+---------+----------+\n",
    "# | qsec        | -0.096  | 0.210    |\n",
    "# +-------------+---------+----------+\n",
    "# |             | (0.098) | (0.065)  |\n",
    "# +-------------+---------+----------+\n",
    "# | Num.Obs.    | 32      | 32       |\n",
    "# +-------------+---------+----------+\n",
    "# | R2          | 0.031   | 0.820    |\n",
    "# +-------------+---------+----------+\n",
    "# | R2 Adj.     | -0.002  | 0.801    |\n",
    "# +-------------+---------+----------+\n",
    "# | AIC         | 93.4    | 43.5     |\n",
    "# +-------------+---------+----------+\n",
    "# | BIC         | 97.8    | 50.8     |\n",
    "# +-------------+---------+----------+\n",
    "# | Log.Lik.    | -43.705 | -16.749  |\n",
    "# +-------------+---------+----------+\n",
    "# | F           | 0.945   | 42.570   |\n",
    "# +-------------+---------+----------+\n",
    "# | RMSE        | 0.95    | 0.41     |\n",
    "# +-------------+---------+----------+\n",
    "# | Controls    |         | <U+2713> |\n",
    "# +-------------+---------+----------+"
   ]
  },
  {
   "cell_type": "markdown",
   "id": "b7bdae98",
   "metadata": {},
   "source": [
    "## shape"
   ]
  },
  {
   "cell_type": "code",
   "execution_count": null,
   "id": "871bd7d1",
   "metadata": {
    "vscode": {
     "languageId": "r"
    }
   },
   "outputs": [
    {
     "data": {
      "text/plain": [
       "\n",
       "+-------------+---------+---------+\n",
       "|             | (1)     | (2)     |\n",
       "+=============+=========+=========+\n",
       "| (Intercept) | 30.099  | 10.790  |\n",
       "+-------------+---------+---------+\n",
       "|             | (1.634) | (5.078) |\n",
       "+-------------+---------+---------+\n",
       "| hp          | -0.068  | -0.052  |\n",
       "+-------------+---------+---------+\n",
       "|             | (0.010) | (0.009) |\n",
       "+-------------+---------+---------+\n",
       "| drat        |         | 4.698   |\n",
       "+-------------+---------+---------+\n",
       "|             |         | (1.192) |\n",
       "+-------------+---------+---------+ "
      ]
     },
     "metadata": {},
     "output_type": "display_data"
    }
   ],
   "source": [
    "m <- list(\n",
    "    lm(mpg ~ hp, data = mtcars),\n",
    "    lm(mpg ~ hp + drat, data = mtcars))\n",
    "\n",
    "modelsummary(m, shape = term + statistic ~ model, gof_map = NA)\n",
    "\n",
    "# +-------------+---------+---------+\n",
    "# |             | (1)     | (2)     |\n",
    "# +=============+=========+=========+\n",
    "# | (Intercept) | 30.099  | 10.790  |\n",
    "# +-------------+---------+---------+\n",
    "# |             | (1.634) | (5.078) |\n",
    "# +-------------+---------+---------+\n",
    "# | hp          | -0.068  | -0.052  |\n",
    "# +-------------+---------+---------+\n",
    "# |             | (0.010) | (0.009) |\n",
    "# +-------------+---------+---------+\n",
    "# | drat        |         | 4.698   |\n",
    "# +-------------+---------+---------+\n",
    "# |             |         | (1.192) |\n",
    "# +-------------+---------+---------+"
   ]
  },
  {
   "cell_type": "code",
   "execution_count": null,
   "id": "d68a59bb",
   "metadata": {
    "vscode": {
     "languageId": "r"
    }
   },
   "outputs": [
    {
     "data": {
      "text/plain": [
       "+-------------+--------+--------+--------+--------+--------+--------+\n",
       "|             | (1)                      | (2)                      |\n",
       "+-------------+--------+--------+--------+--------+--------+--------+\n",
       "|             | Est.   | 2.5 %  | 97.5 % | Est.   | 2.5 %  | 97.5 % |\n",
       "+=============+========+========+========+========+========+========+\n",
       "| (Intercept) | 30.099 | 26.762 | 33.436 | 10.790 | 0.405  | 21.175 |\n",
       "+-------------+--------+--------+--------+--------+--------+--------+\n",
       "| hp          | -0.068 | -0.089 | -0.048 | -0.052 | -0.071 | -0.033 |\n",
       "+-------------+--------+--------+--------+--------+--------+--------+\n",
       "| drat        |        |        |        | 4.698  | 2.261  | 7.135  |\n",
       "+-------------+--------+--------+--------+--------+--------+--------+ "
      ]
     },
     "metadata": {},
     "output_type": "display_data"
    }
   ],
   "source": [
    "modelsummary(m,\n",
    "             shape = term ~ model + statistic,\n",
    "             statistic = \"conf.int\",\n",
    "             gof_map = NA)\n",
    "\n",
    "# +-------------+--------+--------+--------+--------+--------+--------+\n",
    "# |             | (1)                      | (2)                      |\n",
    "# +-------------+--------+--------+--------+--------+--------+--------+\n",
    "# |             | Est.   | 2.5 %  | 97.5 % | Est.   | 2.5 %  | 97.5 % |\n",
    "# +=============+========+========+========+========+========+========+\n",
    "# | (Intercept) | 30.099 | 26.762 | 33.436 | 10.790 | 0.405  | 21.175 |\n",
    "# +-------------+--------+--------+--------+--------+--------+--------+\n",
    "# | hp          | -0.068 | -0.089 | -0.048 | -0.052 | -0.071 | -0.033 |\n",
    "# +-------------+--------+--------+--------+--------+--------+--------+\n",
    "# | drat        |        |        |        | 4.698  | 2.261  | 7.135  |\n",
    "# +-------------+--------+--------+--------+--------+--------+--------+"
   ]
  },
  {
   "cell_type": "code",
   "execution_count": null,
   "id": "114816f4",
   "metadata": {
    "vscode": {
     "languageId": "r"
    }
   },
   "outputs": [
    {
     "data": {
      "text/plain": [
       "+-------------+--------+--------+--------+--------+--------+--------+\n",
       "|             | Est.            | 2.5 %           | 97.5 %          |\n",
       "+-------------+--------+--------+--------+--------+--------+--------+\n",
       "|             | (1)    | (2)    | (1)    | (2)    | (1)    | (2)    |\n",
       "+=============+========+========+========+========+========+========+\n",
       "| (Intercept) | 30.099 | 10.790 | 26.762 | 0.405  | 33.436 | 21.175 |\n",
       "+-------------+--------+--------+--------+--------+--------+--------+\n",
       "| hp          | -0.068 | -0.052 | -0.089 | -0.071 | -0.048 | -0.033 |\n",
       "+-------------+--------+--------+--------+--------+--------+--------+\n",
       "| drat        |        | 4.698  |        | 2.261  |        | 7.135  |\n",
       "+-------------+--------+--------+--------+--------+--------+--------+ "
      ]
     },
     "metadata": {},
     "output_type": "display_data"
    }
   ],
   "source": [
    "modelsummary(m,\n",
    "             shape = term ~ statistic + model,\n",
    "             statistic = \"conf.int\",\n",
    "             gof_map = NA)\n",
    "\n",
    "# +-------------+--------+--------+--------+--------+--------+--------+\n",
    "# |             | Est.            | 2.5 %           | 97.5 %          |\n",
    "# +-------------+--------+--------+--------+--------+--------+--------+\n",
    "# |             | (1)    | (2)    | (1)    | (2)    | (1)    | (2)    |\n",
    "# +=============+========+========+========+========+========+========+\n",
    "# | (Intercept) | 30.099 | 10.790 | 26.762 | 0.405  | 33.436 | 21.175 |\n",
    "# +-------------+--------+--------+--------+--------+--------+--------+\n",
    "# | hp          | -0.068 | -0.052 | -0.089 | -0.071 | -0.048 | -0.033 |\n",
    "# +-------------+--------+--------+--------+--------+--------+--------+\n",
    "# | drat        |        | 4.698  |        | 2.261  |        | 7.135  |\n",
    "# +-------------+--------+--------+--------+--------+--------+--------+"
   ]
  },
  {
   "cell_type": "code",
   "execution_count": 63,
   "id": "1b89b453",
   "metadata": {
    "vscode": {
     "languageId": "r"
    }
   },
   "outputs": [
    {
     "data": {
      "text/html": [
       "<table class=\"dataframe\">\n",
       "<caption>A data.frame: 4 x 12</caption>\n",
       "<thead>\n",
       "\t<tr><th scope=col>term</th><th scope=col>estimate</th><th scope=col>std.error</th><th scope=col>conf.level</th><th scope=col>conf.low</th><th scope=col>conf.high</th><th scope=col>statistic</th><th scope=col>df.error</th><th scope=col>p.value</th><th scope=col>response</th><th scope=col>s.value</th><th scope=col>group</th></tr>\n",
       "\t<tr><th scope=col>&lt;chr&gt;</th><th scope=col>&lt;dbl&gt;</th><th scope=col>&lt;dbl&gt;</th><th scope=col>&lt;dbl&gt;</th><th scope=col>&lt;dbl&gt;</th><th scope=col>&lt;dbl&gt;</th><th scope=col>&lt;dbl&gt;</th><th scope=col>&lt;dbl&gt;</th><th scope=col>&lt;dbl&gt;</th><th scope=col>&lt;chr&gt;</th><th scope=col>&lt;chr&gt;</th><th scope=col>&lt;chr&gt;</th></tr>\n",
       "</thead>\n",
       "<tbody>\n",
       "\t<tr><td>(Intercept)</td><td>47.252432</td><td>34.975171</td><td>0.95</td><td>-21.2976435</td><td>115.8025065</td><td> 1.351028</td><td>Inf</td><td>0.17668650</td><td>Cyl: 6</td><td>2.5</td><td></td></tr>\n",
       "\t<tr><td>mpg        </td><td>-2.205418</td><td> 1.637963</td><td>0.95</td><td> -5.4157653</td><td>  1.0049299</td><td>-1.346440</td><td>Inf</td><td>0.17816078</td><td>Cyl: 6</td><td>2.5</td><td></td></tr>\n",
       "\t<tr><td>(Intercept)</td><td>72.440246</td><td>37.175162</td><td>0.95</td><td> -0.4217332</td><td>145.3022247</td><td> 1.948619</td><td>Inf</td><td>0.05134088</td><td>Cyl: 8</td><td>4.3</td><td></td></tr>\n",
       "\t<tr><td>mpg        </td><td>-3.579991</td><td> 1.774693</td><td>0.95</td><td> -7.0583242</td><td> -0.1016573</td><td>-2.017246</td><td>Inf</td><td>0.04366989</td><td>Cyl: 8</td><td>4.5</td><td></td></tr>\n",
       "</tbody>\n",
       "</table>\n"
      ],
      "text/latex": [
       "A data.frame: 4 x 12\n",
       "\\begin{tabular}{llllllllllll}\n",
       " term & estimate & std.error & conf.level & conf.low & conf.high & statistic & df.error & p.value & response & s.value & group\\\\\n",
       " <chr> & <dbl> & <dbl> & <dbl> & <dbl> & <dbl> & <dbl> & <dbl> & <dbl> & <chr> & <chr> & <chr>\\\\\n",
       "\\hline\n",
       "\t (Intercept) & 47.252432 & 34.975171 & 0.95 & -21.2976435 & 115.8025065 &  1.351028 & Inf & 0.17668650 & Cyl: 6 & 2.5 & \\\\\n",
       "\t mpg         & -2.205418 &  1.637963 & 0.95 &  -5.4157653 &   1.0049299 & -1.346440 & Inf & 0.17816078 & Cyl: 6 & 2.5 & \\\\\n",
       "\t (Intercept) & 72.440246 & 37.175162 & 0.95 &  -0.4217332 & 145.3022247 &  1.948619 & Inf & 0.05134088 & Cyl: 8 & 4.3 & \\\\\n",
       "\t mpg         & -3.579991 &  1.774693 & 0.95 &  -7.0583242 &  -0.1016573 & -2.017246 & Inf & 0.04366989 & Cyl: 8 & 4.5 & \\\\\n",
       "\\end{tabular}\n"
      ],
      "text/markdown": [
       "\n",
       "A data.frame: 4 x 12\n",
       "\n",
       "| term &lt;chr&gt; | estimate &lt;dbl&gt; | std.error &lt;dbl&gt; | conf.level &lt;dbl&gt; | conf.low &lt;dbl&gt; | conf.high &lt;dbl&gt; | statistic &lt;dbl&gt; | df.error &lt;dbl&gt; | p.value &lt;dbl&gt; | response &lt;chr&gt; | s.value &lt;chr&gt; | group &lt;chr&gt; |\n",
       "|---|---|---|---|---|---|---|---|---|---|---|---|\n",
       "| (Intercept) | 47.252432 | 34.975171 | 0.95 | -21.2976435 | 115.8025065 |  1.351028 | Inf | 0.17668650 | Cyl: 6 | 2.5 | <!----> |\n",
       "| mpg         | -2.205418 |  1.637963 | 0.95 |  -5.4157653 |   1.0049299 | -1.346440 | Inf | 0.17816078 | Cyl: 6 | 2.5 | <!----> |\n",
       "| (Intercept) | 72.440246 | 37.175162 | 0.95 |  -0.4217332 | 145.3022247 |  1.948619 | Inf | 0.05134088 | Cyl: 8 | 4.3 | <!----> |\n",
       "| mpg         | -3.579991 |  1.774693 | 0.95 |  -7.0583242 |  -0.1016573 | -2.017246 | Inf | 0.04366989 | Cyl: 8 | 4.5 | <!----> |\n",
       "\n"
      ],
      "text/plain": [
       "  term        estimate  std.error conf.level conf.low    conf.high   statistic\n",
       "1 (Intercept) 47.252432 34.975171 0.95       -21.2976435 115.8025065  1.351028\n",
       "2 mpg         -2.205418  1.637963 0.95        -5.4157653   1.0049299 -1.346440\n",
       "3 (Intercept) 72.440246 37.175162 0.95        -0.4217332 145.3022247  1.948619\n",
       "4 mpg         -3.579991  1.774693 0.95        -7.0583242  -0.1016573 -2.017246\n",
       "  df.error p.value    response s.value group\n",
       "1 Inf      0.17668650 Cyl: 6   2.5          \n",
       "2 Inf      0.17816078 Cyl: 6   2.5          \n",
       "3 Inf      0.05134088 Cyl: 8   4.3          \n",
       "4 Inf      0.04366989 Cyl: 8   4.5          "
      ]
     },
     "metadata": {},
     "output_type": "display_data"
    }
   ],
   "source": [
    "library(nnet)\n",
    "\n",
    "dat_multinom <- mtcars\n",
    "dat_multinom$cyl <- sprintf(\"Cyl: %s\", dat_multinom$cyl)\n",
    "\n",
    "mod <- list(\n",
    "    nnet::multinom(cyl ~ mpg, data = dat_multinom, trace = FALSE),\n",
    "    nnet::multinom(cyl ~ mpg + drat, data = dat_multinom, trace = FALSE))\n",
    "\n",
    "get_estimates(mod[[1]])"
   ]
  },
  {
   "cell_type": "code",
   "execution_count": null,
   "id": "7ea115a4",
   "metadata": {
    "vscode": {
     "languageId": "r"
    }
   },
   "outputs": [
    {
     "data": {
      "text/plain": [
       "\n",
       "+-----+-------------+----------+----------+\n",
       "|     |             | Cyl: 6   | Cyl: 8   |\n",
       "+=====+=============+==========+==========+\n",
       "| (1) | (Intercept) | 47.252   | 72.440   |\n",
       "+-----+-------------+----------+----------+\n",
       "|     |             | (34.975) | (37.175) |\n",
       "+-----+-------------+----------+----------+\n",
       "|     | mpg         | -2.205   | -3.580   |\n",
       "+-----+-------------+----------+----------+\n",
       "|     |             | (1.638)  | (1.775)  |\n",
       "+-----+-------------+----------+----------+\n",
       "| (2) | (Intercept) | 89.573   | 117.971  |\n",
       "+-----+-------------+----------+----------+\n",
       "|     |             | (86.884) | (87.998) |\n",
       "+-----+-------------+----------+----------+\n",
       "|     | mpg         | -3.627   | -4.838   |\n",
       "+-----+-------------+----------+----------+\n",
       "|     |             | (3.869)  | (3.915)  |\n",
       "+-----+-------------+----------+----------+\n",
       "|     | drat        | -3.210   | -5.028   |\n",
       "+-----+-------------+----------+----------+\n",
       "|     |             | (3.810)  | (4.199)  |\n",
       "+-----+-------------+----------+----------+ "
      ]
     },
     "metadata": {},
     "output_type": "display_data"
    }
   ],
   "source": [
    "modelsummary(mod, shape = model + term ~ response)\n",
    "\n",
    "# +-----+-------------+----------+----------+\n",
    "# |     |             | Cyl: 6   | Cyl: 8   |\n",
    "# +=====+=============+==========+==========+\n",
    "# | (1) | (Intercept) | 47.252   | 72.440   |\n",
    "# +-----+-------------+----------+----------+\n",
    "# |     |             | (34.975) | (37.175) |\n",
    "# +-----+-------------+----------+----------+\n",
    "# |     | mpg         | -2.205   | -3.580   |\n",
    "# +-----+-------------+----------+----------+\n",
    "# |     |             | (1.638)  | (1.775)  |\n",
    "# +-----+-------------+----------+----------+\n",
    "# | (2) | (Intercept) | 89.573   | 117.971  |\n",
    "# +-----+-------------+----------+----------+\n",
    "# |     |             | (86.884) | (87.998) |\n",
    "# +-----+-------------+----------+----------+\n",
    "# |     | mpg         | -3.627   | -4.838   |\n",
    "# +-----+-------------+----------+----------+\n",
    "# |     |             | (3.869)  | (3.915)  |\n",
    "# +-----+-------------+----------+----------+\n",
    "# |     | drat        | -3.210   | -5.028   |\n",
    "# +-----+-------------+----------+----------+\n",
    "# |     |             | (3.810)  | (4.199)  |\n",
    "# +-----+-------------+----------+----------+"
   ]
  },
  {
   "cell_type": "code",
   "execution_count": null,
   "id": "72bcc7ad",
   "metadata": {
    "vscode": {
     "languageId": "r"
    }
   },
   "outputs": [
    {
     "name": "stderr",
     "output_type": "stream",
     "text": [
      "Warning message:\n",
      "\"The `cyl` variable is treated as a categorical (factor) variable, but the original data is of class numeric. It is safer and faster to convert such variables to factor before fitting the model and calling a `marginaleffects` function. This warning appears once per session.\"\n"
     ]
    },
    {
     "data": {
      "text/plain": [
       "\n",
       "+----------+-------+---------+\n",
       "|          |       | (1)     |\n",
       "+==========+=======+=========+\n",
       "| cyl      | 6 - 4 | 0.097   |\n",
       "+----------+-------+---------+\n",
       "|          |       | (0.166) |\n",
       "+----------+-------+---------+\n",
       "|          | 8 - 4 | 0.093   |\n",
       "+----------+-------+---------+\n",
       "|          |       | (0.234) |\n",
       "+----------+-------+---------+\n",
       "| mpg      | dY/dX | 0.056   |\n",
       "+----------+-------+---------+\n",
       "|          |       | (0.027) |\n",
       "+----------+-------+---------+\n",
       "| Num.Obs. |       | 32      |\n",
       "+----------+-------+---------+\n",
       "| AIC      |       | 37.4    |\n",
       "+----------+-------+---------+\n",
       "| BIC      |       | 43.3    |\n",
       "+----------+-------+---------+\n",
       "| Log.Lik. |       | -14.702 |\n",
       "+----------+-------+---------+\n",
       "| F        |       | 2.236   |\n",
       "+----------+-------+---------+\n",
       "| RMSE     |       | 0.39    |\n",
       "+----------+-------+---------+ "
      ]
     },
     "metadata": {},
     "output_type": "display_data"
    }
   ],
   "source": [
    "library(marginaleffects)\n",
    "mod <- glm(am ~ mpg + factor(cyl), family = binomial, data = mtcars)\n",
    "mfx <- avg_slopes(mod)\n",
    "\n",
    "modelsummary(mfx, shape = term + contrast ~ model)\n",
    "\n",
    "# +----------+-------+---------+\n",
    "# |          |       | (1)     |\n",
    "# +==========+=======+=========+\n",
    "# | cyl      | 6 - 4 | 0.097   |\n",
    "# +----------+-------+---------+\n",
    "# |          |       | (0.166) |\n",
    "# +----------+-------+---------+\n",
    "# |          | 8 - 4 | 0.093   |\n",
    "# +----------+-------+---------+\n",
    "# |          |       | (0.234) |\n",
    "# +----------+-------+---------+\n",
    "# | mpg      | dY/dX | 0.056   |\n",
    "# +----------+-------+---------+\n",
    "# |          |       | (0.027) |\n",
    "# +----------+-------+---------+\n",
    "# | Num.Obs. |       | 32      |\n",
    "# +----------+-------+---------+\n",
    "# | AIC      |       | 37.4    |\n",
    "# +----------+-------+---------+\n",
    "# | BIC      |       | 43.3    |\n",
    "# +----------+-------+---------+\n",
    "# | Log.Lik. |       | -14.702 |\n",
    "# +----------+-------+---------+\n",
    "# | F        |       | 2.236   |\n",
    "# +----------+-------+---------+\n",
    "# | RMSE     |       | 0.39    |\n",
    "# +----------+-------+---------+"
   ]
  },
  {
   "cell_type": "code",
   "execution_count": null,
   "id": "880a42ee",
   "metadata": {
    "vscode": {
     "languageId": "r"
    }
   },
   "outputs": [
    {
     "data": {
      "text/plain": [
       "\n",
       "+-----------+---------+\n",
       "|           | (1)     |\n",
       "+===========+=========+\n",
       "| cyl 6 - 4 | 0.097   |\n",
       "+-----------+---------+\n",
       "|           | (0.166) |\n",
       "+-----------+---------+\n",
       "| cyl 8 - 4 | 0.093   |\n",
       "+-----------+---------+\n",
       "|           | (0.234) |\n",
       "+-----------+---------+\n",
       "| mpg dY/dX | 0.056   |\n",
       "+-----------+---------+\n",
       "|           | (0.027) |\n",
       "+-----------+---------+\n",
       "| Num.Obs.  | 32      |\n",
       "+-----------+---------+\n",
       "| AIC       | 37.4    |\n",
       "+-----------+---------+\n",
       "| BIC       | 43.3    |\n",
       "+-----------+---------+\n",
       "| Log.Lik.  | -14.702 |\n",
       "+-----------+---------+\n",
       "| F         | 2.236   |\n",
       "+-----------+---------+\n",
       "| RMSE      | 0.39    |\n",
       "+-----------+---------+ "
      ]
     },
     "metadata": {},
     "output_type": "display_data"
    }
   ],
   "source": [
    "modelsummary(mfx, shape = term : contrast ~ model)\n",
    "\n",
    "# +-----------+---------+\n",
    "# |           | (1)     |\n",
    "# +===========+=========+\n",
    "# | cyl 6 - 4 | 0.097   |\n",
    "# +-----------+---------+\n",
    "# |           | (0.166) |\n",
    "# +-----------+---------+\n",
    "# | cyl 8 - 4 | 0.093   |\n",
    "# +-----------+---------+\n",
    "# |           | (0.234) |\n",
    "# +-----------+---------+\n",
    "# | mpg dY/dX | 0.056   |\n",
    "# +-----------+---------+\n",
    "# |           | (0.027) |\n",
    "# +-----------+---------+\n",
    "# | Num.Obs.  | 32      |\n",
    "# +-----------+---------+\n",
    "# | AIC       | 37.4    |\n",
    "# +-----------+---------+\n",
    "# | BIC       | 43.3    |\n",
    "# +-----------+---------+\n",
    "# | Log.Lik.  | -14.702 |\n",
    "# +-----------+---------+\n",
    "# | F         | 2.236   |\n",
    "# +-----------+---------+\n",
    "# | RMSE      | 0.39    |\n",
    "# +-----------+---------+"
   ]
  },
  {
   "cell_type": "markdown",
   "id": "7050a33f",
   "metadata": {},
   "source": [
    "### 字符串（“rbind”或“rcollapse”）：堆叠回归表中的模型面板"
   ]
  },
  {
   "cell_type": "code",
   "execution_count": null,
   "id": "f380f222",
   "metadata": {
    "vscode": {
     "languageId": "r"
    }
   },
   "outputs": [
    {
     "data": {
      "text/plain": [
       "\n",
       "+-------------+----------+----------+\n",
       "|             | (1)      | (2)      |\n",
       "+=============+==========+==========+\n",
       "| (Intercept) | 20.091   | -5.114   |\n",
       "+-------------+----------+----------+\n",
       "|             | (1.065)  | (10.030) |\n",
       "+-------------+----------+----------+\n",
       "| qsec        |          | 1.412    |\n",
       "+-------------+----------+----------+\n",
       "|             |          | (0.559)  |\n",
       "+-------------+----------+----------+\n",
       "| R2          | 0.000    | 0.175    |\n",
       "+-------------+----------+----------+\n",
       "| Num.Obs.    | 32       | 32       |\n",
       "+-------------+----------+----------+\n",
       "| RMSE        | 5.93     | 5.39     |\n",
       "+-------------+----------+----------+\n",
       "| (Intercept) | 146.688  | 631.704  |\n",
       "+-------------+----------+----------+\n",
       "|             | (12.120) | (88.700) |\n",
       "+-------------+----------+----------+\n",
       "| qsec        |          | -27.174  |\n",
       "+-------------+----------+----------+\n",
       "|             |          | (4.946)  |\n",
       "+-------------+----------+----------+\n",
       "| R2          | 0.000    | 0.502    |\n",
       "+-------------+----------+----------+\n",
       "| Num.Obs.    | 32       | 32       |\n",
       "+-------------+----------+----------+\n",
       "| RMSE        | 67.48    | 47.64    |\n",
       "+-------------+----------+----------+ "
      ]
     },
     "metadata": {},
     "output_type": "display_data"
    }
   ],
   "source": [
    "gm <- c(\"r.squared\", \"nobs\", \"rmse\")\n",
    "\n",
    "panels <- list(\n",
    "  list(\n",
    "    lm(mpg ~ 1, data = mtcars),\n",
    "    lm(mpg ~ qsec, data = mtcars)\n",
    "  ),\n",
    "  list(\n",
    "    lm(hp ~ 1, data = mtcars),\n",
    "    lm(hp ~ qsec, data = mtcars)\n",
    "  )\n",
    ")\n",
    "\n",
    "modelsummary(\n",
    "  panels,\n",
    "  shape = \"rbind\",\n",
    "  gof_map = gm)\n",
    "\n",
    "# +-------------+----------+----------+\n",
    "# |             | (1)      | (2)      |\n",
    "# +=============+==========+==========+\n",
    "# | (Intercept) | 20.091   | -5.114   |\n",
    "# +-------------+----------+----------+\n",
    "# |             | (1.065)  | (10.030) |\n",
    "# +-------------+----------+----------+\n",
    "# | qsec        |          | 1.412    |\n",
    "# +-------------+----------+----------+\n",
    "# |             |          | (0.559)  |\n",
    "# +-------------+----------+----------+\n",
    "# | R2          | 0.000    | 0.175    |\n",
    "# +-------------+----------+----------+\n",
    "# | Num.Obs.    | 32       | 32       |\n",
    "# +-------------+----------+----------+\n",
    "# | RMSE        | 5.93     | 5.39     |\n",
    "# +-------------+----------+----------+\n",
    "# | (Intercept) | 146.688  | 631.704  |\n",
    "# +-------------+----------+----------+\n",
    "# |             | (12.120) | (88.700) |\n",
    "# +-------------+----------+----------+\n",
    "# | qsec        |          | -27.174  |\n",
    "# +-------------+----------+----------+\n",
    "# |             |          | (4.946)  |\n",
    "# +-------------+----------+----------+\n",
    "# | R2          | 0.000    | 0.502    |\n",
    "# +-------------+----------+----------+\n",
    "# | Num.Obs.    | 32       | 32       |\n",
    "# +-------------+----------+----------+\n",
    "# | RMSE        | 67.48    | 47.64    |\n",
    "# +-------------+----------+----------+"
   ]
  },
  {
   "cell_type": "code",
   "execution_count": null,
   "id": "23535617",
   "metadata": {
    "vscode": {
     "languageId": "r"
    }
   },
   "outputs": [
    {
     "data": {
      "text/plain": [
       "+-------------+----------+----------+\n",
       "|             | (I)      | (II)     |\n",
       "+=============+==========+==========+\n",
       "| Outcome: mpg                      |\n",
       "+-------------+----------+----------+\n",
       "| (Intercept) | 20.091   | -5.114   |\n",
       "+-------------+----------+----------+\n",
       "|             | (1.065)  | (10.030) |\n",
       "+-------------+----------+----------+\n",
       "| qsec        |          | 1.412    |\n",
       "+-------------+----------+----------+\n",
       "|             |          | (0.559)  |\n",
       "+-------------+----------+----------+\n",
       "| R2          | 0.000    | 0.175    |\n",
       "+-------------+----------+----------+\n",
       "| Num.Obs.    | 32       | 32       |\n",
       "+-------------+----------+----------+\n",
       "| RMSE        | 5.93     | 5.39     |\n",
       "+-------------+----------+----------+\n",
       "| Outcome: hp                       |\n",
       "+-------------+----------+----------+\n",
       "| (Intercept) | 146.688  | 631.704  |\n",
       "+-------------+----------+----------+\n",
       "|             | (12.120) | (88.700) |\n",
       "+-------------+----------+----------+\n",
       "| qsec        |          | -27.174  |\n",
       "+-------------+----------+----------+\n",
       "|             |          | (4.946)  |\n",
       "+-------------+----------+----------+\n",
       "| R2          | 0.000    | 0.502    |\n",
       "+-------------+----------+----------+\n",
       "| Num.Obs.    | 32       | 32       |\n",
       "+-------------+----------+----------+\n",
       "| RMSE        | 67.48    | 47.64    |\n",
       "+-------------+----------+----------+ "
      ]
     },
     "metadata": {},
     "output_type": "display_data"
    }
   ],
   "source": [
    "panels <- list(\n",
    "  \"Outcome: mpg\" = list(\n",
    "    \"(I)\" = lm(mpg ~ 1, data = mtcars),\n",
    "    \"(II)\" = lm(mpg ~ qsec, data = mtcars)\n",
    "  ),\n",
    "  \"Outcome: hp\" = list(\n",
    "    \"(I)\" = lm(hp ~ 1, data = mtcars),\n",
    "    \"(II)\" = lm(hp ~ qsec, data = mtcars)\n",
    "  )\n",
    ")\n",
    "\n",
    "modelsummary(\n",
    "  panels,\n",
    "  shape = \"rbind\",\n",
    "  gof_map = gm)\n",
    "\n",
    "# +-------------+----------+----------+\n",
    "# |             | (I)      | (II)     |\n",
    "# +=============+==========+==========+\n",
    "# | Outcome: mpg                      |\n",
    "# +-------------+----------+----------+\n",
    "# | (Intercept) | 20.091   | -5.114   |\n",
    "# +-------------+----------+----------+\n",
    "# |             | (1.065)  | (10.030) |\n",
    "# +-------------+----------+----------+\n",
    "# | qsec        |          | 1.412    |\n",
    "# +-------------+----------+----------+\n",
    "# |             |          | (0.559)  |\n",
    "# +-------------+----------+----------+\n",
    "# | R2          | 0.000    | 0.175    |\n",
    "# +-------------+----------+----------+\n",
    "# | Num.Obs.    | 32       | 32       |\n",
    "# +-------------+----------+----------+\n",
    "# | RMSE        | 5.93     | 5.39     |\n",
    "# +-------------+----------+----------+\n",
    "# | Outcome: hp                       |\n",
    "# +-------------+----------+----------+\n",
    "# | (Intercept) | 146.688  | 631.704  |\n",
    "# +-------------+----------+----------+\n",
    "# |             | (12.120) | (88.700) |\n",
    "# +-------------+----------+----------+\n",
    "# | qsec        |          | -27.174  |\n",
    "# +-------------+----------+----------+\n",
    "# |             |          | (4.946)  |\n",
    "# +-------------+----------+----------+\n",
    "# | R2          | 0.000    | 0.502    |\n",
    "# +-------------+----------+----------+\n",
    "# | Num.Obs.    | 32       | 32       |\n",
    "# +-------------+----------+----------+\n",
    "# | RMSE        | 67.48    | 47.64    |\n",
    "# +-------------+----------+----------+"
   ]
  },
  {
   "cell_type": "markdown",
   "id": "188459b7",
   "metadata": {},
   "source": [
    "### 字符串（\"cbind\"）：自动跨列标签"
   ]
  },
  {
   "cell_type": "code",
   "execution_count": null,
   "id": "b7a72799",
   "metadata": {
    "vscode": {
     "languageId": "r"
    }
   },
   "outputs": [
    {
     "data": {
      "text/plain": [
       "+-------------+----------+----------+----------+----------+\n",
       "|             | Outcome: mpg        | Outcome: hp         |\n",
       "+-------------+----------+----------+----------+----------+\n",
       "|             | (I)      | (II)     | (I)      | (II)     |\n",
       "+=============+==========+==========+==========+==========+\n",
       "| (Intercept) | 20.091   | -5.114   | 146.688  | 631.704  |\n",
       "+-------------+----------+----------+----------+----------+\n",
       "|             | (1.065)  | (10.030) | (12.120) | (88.700) |\n",
       "+-------------+----------+----------+----------+----------+\n",
       "| qsec        |          | 1.412    |          | -27.174  |\n",
       "+-------------+----------+----------+----------+----------+\n",
       "|             |          | (0.559)  |          | (4.946)  |\n",
       "+-------------+----------+----------+----------+----------+\n",
       "| Num.Obs.    | 32       | 32       | 32       | 32       |\n",
       "+-------------+----------+----------+----------+----------+\n",
       "| R2          | 0.000    | 0.175    | 0.000    | 0.502    |\n",
       "+-------------+----------+----------+----------+----------+\n",
       "| R2 Adj.     | 0.000    | 0.148    | 0.000    | 0.485    |\n",
       "+-------------+----------+----------+----------+----------+\n",
       "| AIC         | 208.8    | 204.6    | 364.4    | 344.1    |\n",
       "+-------------+----------+----------+----------+----------+\n",
       "| BIC         | 211.7    | 209.0    | 367.3    | 348.5    |\n",
       "+-------------+----------+----------+----------+----------+\n",
       "| Log.Lik.    | -102.378 | -99.294  | -180.186 | -169.045 |\n",
       "+-------------+----------+----------+----------+----------+\n",
       "| F           |          | 6.377    |          | 30.190   |\n",
       "+-------------+----------+----------+----------+----------+\n",
       "| RMSE        | 5.93     | 5.39     | 67.48    | 47.64    |\n",
       "+-------------+----------+----------+----------+----------+ "
      ]
     },
     "metadata": {},
     "output_type": "display_data"
    }
   ],
   "source": [
    "modelsummary(panels, shape = \"cbind\")\n",
    "\n",
    "# +-------------+----------+----------+----------+----------+\n",
    "# |             | Outcome: mpg        | Outcome: hp         |\n",
    "# +-------------+----------+----------+----------+----------+\n",
    "# |             | (I)      | (II)     | (I)      | (II)     |\n",
    "# +=============+==========+==========+==========+==========+\n",
    "# | (Intercept) | 20.091   | -5.114   | 146.688  | 631.704  |\n",
    "# +-------------+----------+----------+----------+----------+\n",
    "# |             | (1.065)  | (10.030) | (12.120) | (88.700) |\n",
    "# +-------------+----------+----------+----------+----------+\n",
    "# | qsec        |          | 1.412    |          | -27.174  |\n",
    "# +-------------+----------+----------+----------+----------+\n",
    "# |             |          | (0.559)  |          | (4.946)  |\n",
    "# +-------------+----------+----------+----------+----------+\n",
    "# | Num.Obs.    | 32       | 32       | 32       | 32       |\n",
    "# +-------------+----------+----------+----------+----------+\n",
    "# | R2          | 0.000    | 0.175    | 0.000    | 0.502    |\n",
    "# +-------------+----------+----------+----------+----------+\n",
    "# | R2 Adj.     | 0.000    | 0.148    | 0.000    | 0.485    |\n",
    "# +-------------+----------+----------+----------+----------+\n",
    "# | AIC         | 208.8    | 204.6    | 364.4    | 344.1    |\n",
    "# +-------------+----------+----------+----------+----------+\n",
    "# | BIC         | 211.7    | 209.0    | 367.3    | 348.5    |\n",
    "# +-------------+----------+----------+----------+----------+\n",
    "# | Log.Lik.    | -102.378 | -99.294  | -180.186 | -169.045 |\n",
    "# +-------------+----------+----------+----------+----------+\n",
    "# | F           |          | 6.377    |          | 30.190   |\n",
    "# +-------------+----------+----------+----------+----------+\n",
    "# | RMSE        | 5.93     | 5.39     | 67.48    | 47.64    |\n",
    "# +-------------+----------+----------+----------+----------+"
   ]
  },
  {
   "cell_type": "markdown",
   "id": "de4a89cc",
   "metadata": {},
   "source": [
    "### 重命名估计值和统计量"
   ]
  },
  {
   "cell_type": "code",
   "execution_count": null,
   "id": "2a7d0ceb",
   "metadata": {
    "vscode": {
     "languageId": "r"
    }
   },
   "outputs": [
    {
     "data": {
      "text/plain": [
       "+--------------+---------------+------------------------+\n",
       "|              | (1)                                    |\n",
       "+--------------+---------------+------------------------+\n",
       "|              | $\\hat{\\beta}$ | $\\sigma_{\\hat{\\beta}}$ |\n",
       "+==============+===============+========================+\n",
       "| (Intercept)  | 26.664        | 0.972                  |\n",
       "+--------------+---------------+------------------------+\n",
       "| factor(cyl)6 | -6.921        | 1.558                  |\n",
       "+--------------+---------------+------------------------+\n",
       "| factor(cyl)8 | -11.564       | 1.299                  |\n",
       "+--------------+---------------+------------------------+\n",
       "| Num.Obs.     | 32            |                        |\n",
       "+--------------+---------------+------------------------+\n",
       "| R2           | 0.732         |                        |\n",
       "+--------------+---------------+------------------------+\n",
       "| R2 Adj.      | 0.714         |                        |\n",
       "+--------------+---------------+------------------------+\n",
       "| AIC          | 170.6         |                        |\n",
       "+--------------+---------------+------------------------+\n",
       "| BIC          | 176.4         |                        |\n",
       "+--------------+---------------+------------------------+\n",
       "| Log.Lik.     | -81.282       |                        |\n",
       "+--------------+---------------+------------------------+\n",
       "| F            | 39.698        |                        |\n",
       "+--------------+---------------+------------------------+\n",
       "| RMSE         | 3.07          |                        |\n",
       "+--------------+---------------+------------------------+ "
      ]
     },
     "metadata": {},
     "output_type": "display_data"
    }
   ],
   "source": [
    "mod <- lm(mpg ~ factor(cyl), mtcars)\n",
    "\n",
    "modelsummary(\n",
    "    mod, \n",
    "    estimate = c(\"$\\\\hat{\\\\beta}$\" = \"estimate\"),\n",
    "    statistic = c(\"$\\\\sigma_{\\\\hat{\\\\beta}}$\" = \"std.error\"),\n",
    "    shape = term ~ model + statistic)\n",
    "\n",
    "# +--------------+---------------+------------------------+\n",
    "# |              | (1)                                    |\n",
    "# +--------------+---------------+------------------------+\n",
    "# |              | $\\hat{\\beta}$ | $\\sigma_{\\hat{\\beta}}$ |\n",
    "# +==============+===============+========================+\n",
    "# | (Intercept)  | 26.664        | 0.972                  |\n",
    "# +--------------+---------------+------------------------+\n",
    "# | factor(cyl)6 | -6.921        | 1.558                  |\n",
    "# +--------------+---------------+------------------------+\n",
    "# | factor(cyl)8 | -11.564       | 1.299                  |\n",
    "# +--------------+---------------+------------------------+\n",
    "# | Num.Obs.     | 32            |                        |\n",
    "# +--------------+---------------+------------------------+\n",
    "# | R2           | 0.732         |                        |\n",
    "# +--------------+---------------+------------------------+\n",
    "# | R2 Adj.      | 0.714         |                        |\n",
    "# +--------------+---------------+------------------------+\n",
    "# | AIC          | 170.6         |                        |\n",
    "# +--------------+---------------+------------------------+\n",
    "# | BIC          | 176.4         |                        |\n",
    "# +--------------+---------------+------------------------+\n",
    "# | Log.Lik.     | -81.282       |                        |\n",
    "# +--------------+---------------+------------------------+\n",
    "# | F            | 39.698        |                        |\n",
    "# +--------------+---------------+------------------------+\n",
    "# | RMSE         | 3.07          |                        |\n",
    "# +--------------+---------------+------------------------+"
   ]
  }
 ],
 "metadata": {
  "kernelspec": {
   "display_name": "R",
   "language": "R",
   "name": "ir"
  },
  "language_info": {
   "codemirror_mode": "r",
   "file_extension": ".r",
   "mimetype": "text/x-r-source",
   "name": "R",
   "pygments_lexer": "r",
   "version": "4.4.2"
  }
 },
 "nbformat": 4,
 "nbformat_minor": 5
}

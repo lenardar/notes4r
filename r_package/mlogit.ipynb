{
 "cells": [
  {
   "cell_type": "markdown",
   "metadata": {},
   "source": [
    "本笔记本记录{mlogi}包的学习笔记。"
   ]
  },
  {
   "cell_type": "markdown",
   "metadata": {},
   "source": [
    "# 数据管理"
   ]
  },
  {
   "cell_type": "markdown",
   "metadata": {},
   "source": [
    "本节思路很简单，了解我们需要的输入数据格式，然后指定转化思路，获得我们想要的数据。"
   ]
  },
  {
   "cell_type": "markdown",
   "metadata": {},
   "source": [
    "## 输入数据"
   ]
  },
  {
   "cell_type": "markdown",
   "metadata": {},
   "source": [
    "我们想要的数据，需要有个体标识（case），方案标识（alt），选择标识（choice，表示是否选择），其余是预测变量。"
   ]
  },
  {
   "cell_type": "code",
   "execution_count": 1,
   "metadata": {
    "vscode": {
     "languageId": "r"
    }
   },
   "outputs": [
    {
     "name": "stdout",
     "output_type": "stream",
     "text": [
      "载入需要的程序包：dfidx\n",
      "\n",
      "载入程序包：‘dfidx’\n",
      "\n",
      "The following object is masked from ‘package:stats’:\n",
      "\n",
      "    filter\n",
      "\n"
     ]
    },
    {
     "data": {
      "text/plain": [
       "   case   alt choice dist   cost ivt ovt freq income urban noalt\n",
       "1     1 train      0   83  28.25  50  66    4     45     0     2\n",
       "2     1   car      1   83  15.77  61   0    0     45     0     2\n",
       "3     2 train      0   83  28.25  50  66    4     25     0     2\n",
       "4     2   car      1   83  15.77  61   0    0     25     0     2\n",
       "5     3 train      0   83  28.25  50  66    4     70     0     2\n",
       "6     3   car      1   83  15.77  61   0    0     70     0     2\n",
       "7     4 train      0   83  28.25  50  66    4     70     0     2\n",
       "8     4   car      1   83  15.77  61   0    0     70     0     2\n",
       "9     5 train      0   83  28.25  50  66    4     55     0     2\n",
       "10    5   car      1   83  15.77  61   0    0     55     0     2\n",
       "11    6 train      0   83  28.25  50  66    4     70     0     2\n",
       "12    6   car      1   83  15.77  61   0    0     70     0     2\n",
       "13    7 train      0   83  28.25  50  66    4     15     0     2\n",
       "14    7   car      1   83  15.77  61   0    0     15     0     2\n",
       "15    8 train      0   83  28.25  50  66    4     15     0     2\n",
       "16    8   car      1   83  15.77  61   0    0     15     0     2\n",
       "17    9 train      0   83  28.25  50  66    4     35     0     2\n",
       "18    9   car      1   83  15.77  61   0    0     35     0     2\n",
       "19   10 train      0   83  28.25  50  66    4     25     0     2\n",
       "20   10   car      1   83  15.77  61   0    0     25     0     2\n",
       "21   11 train      0  105  31.25  50  74    4     35     0     2\n",
       "22   11   car      1  105  19.95  79   0    0     35     0     2\n",
       "23   12 train      0  105  31.25  50  74    4     70     0     2\n",
       "24   12   car      1  105  19.95  79   0    0     70     0     2\n",
       "25   13 train      0  105  31.25  50  74    4     70     0     2\n",
       "26   13   car      1  105  19.95  79   0    0     70     0     2\n",
       "27   14 train      0  154  45.65 117 109    4     70     0     2\n",
       "28   14   car      1  154  29.26 119   0    0     70     0     2\n",
       "29   15 train      0  154  45.65 117 109    4     35     0     2\n",
       "30   15   car      1  154  29.26 119   0    0     35     0     2\n",
       "31   16 train      0  154  45.65 117 109    4     70     0     2\n",
       "32   16   car      1  154  29.26 119   0    0     70     0     2\n",
       "33   17 train      0  186  45.65 117 109    4     45     0     2\n",
       "34   17   car      1  186  35.34 146   0    0     45     0     2\n",
       "35   18 train      0  204  43.40 117  74    4     35     0     3\n",
       "36   18   bus      0  204  19.87 149  89    8     35     0     3\n",
       "37   18   car      1  204  38.76 137   0    0     35     0     3\n",
       "38   19 train      0  282  50.65 174  99    4     45     0     3\n",
       "39   19   air      0  282 164.20  56 149    9     45     0     3\n",
       "40   19   car      1  282  53.58 186   0    0     45     0     3\n",
       "41   20 train      1  345  66.65 209  94    4     70     0     3\n",
       "42   20   air      0  345 159.50  56 139    9     70     0     3\n",
       "43   20   car      0  345  65.55 226   0    0     70     0     3\n",
       "44   21 train      0  345  66.65 209  94    4     35     0     3\n",
       "45   21   air      0  345 159.50  56 139    9     35     0     3\n",
       "46   21   car      1  345  65.55 226   0    0     35     0     3\n",
       "47   22 train      0  345  66.65 209  94    4     45     0     3\n",
       "48   22   air      0  345 159.50  56 139    9     45     0     3\n",
       "49   22   car      1  345  65.55 226   0    0     45     0     3\n",
       "50   23 train      0  345  66.65 209  94    4     35     0     3\n",
       "51   23   air      0  345 159.50  56 139    9     35     0     3\n",
       "52   23   car      1  345  65.55 226   0    0     35     0     3\n",
       "53   24 train      0  345  66.65 209  94    4     45     0     3\n",
       "54   24   air      0  345 159.50  56 139    9     45     0     3\n",
       "55   24   car      1  345  65.55 226   0    0     45     0     3\n",
       "56   25 train      0  345  66.65 209  94    4     70     0     3\n",
       "57   25   air      0  345 159.50  56 139    9     70     0     3\n",
       "58   25   car      1  345  65.55 226   0    0     70     0     3\n",
       "59   26 train      0  345  66.65 209  94    4     55     0     3\n",
       "60   26   air      0  345 159.50  56 139    9     55     0     3\n",
       "61   26   car      1  345  65.55 226   0    0     55     0     3\n",
       "62   27 train      0  364  68.65 209 104    4     70     0     3\n",
       "63   27   air      0  364 174.20  56 144    9     70     0     3\n",
       "64   27   car      1  364  69.16 237   0    0     70     0     3\n",
       "65   28 train      0  192  43.65 117  84    4     35     0     3\n",
       "66   28   bus      0  192  19.87 149  63    8     35     0     3\n",
       "67   28   car      1  192  36.48 129   0    0     35     0     3\n",
       "68   29 train      1  188  40.15 117  64    4     45     0     3\n",
       "69   29   bus      0  188  19.37 149  58    8     45     0     3\n",
       "70   29   car      0  188  35.72 131   0    0     45     0     3\n",
       "71   30 train      1  188  40.15 117  64    4     15     0     3\n",
       "72   30   bus      0  188  19.37 149  58    8     15     0     3\n",
       "73   30   car      0  188  35.72 131   0    0     15     0     3\n",
       "74   31 train      1  188  40.15 117  64    4     70     0     3\n",
       "75   31   bus      0  188  19.37 149  58    8     70     0     3\n",
       "76   31   car      0  188  35.72 131   0    0     70     0     3\n",
       "77   32 train      1  188  40.15 117  64    4     35     0     3\n",
       "78   32   bus      0  188  19.37 149  58    8     35     0     3\n",
       "79   32   car      0  188  35.72 131   0    0     35     0     3\n",
       "80   33 train      1  188  40.15 117  64    4     70     0     3\n",
       "81   33   bus      0  188  19.37 149  58    8     70     0     3\n",
       "82   33   car      0  188  35.72 131   0    0     70     0     3\n",
       "83   34 train      1  188  40.15 117  64    4     70     0     3\n",
       "84   34   bus      0  188  19.37 149  58    8     70     0     3\n",
       "85   34   car      0  188  35.72 131   0    0     70     0     3\n",
       "86   35 train      1  188  40.15 117  64    4     70     0     3\n",
       "87   35   bus      0  188  19.37 149  58    8     70     0     3\n",
       "88   35   car      0  188  35.72 131   0    0     70     0     3\n",
       "89   36 train      1  188  40.15 117  64    4     45     0     3\n",
       "90   36   bus      0  188  19.37 149  58    8     45     0     3\n",
       " [ reached 'max' / getOption(\"max.print\") -- omitted 15430 rows ]"
      ]
     },
     "execution_count": null,
     "metadata": {},
     "output_type": "execute_result"
    }
   ],
   "source": [
    "library(\"mlogit\")\n",
    "data(\"ModeCanada\", package = \"mlogit\")\n",
    "ModeCanada"
   ]
  },
  {
   "cell_type": "markdown",
   "metadata": {},
   "source": [
    "## 输出数据"
   ]
  },
  {
   "cell_type": "markdown",
   "metadata": {},
   "source": [
    "下面进行转化，得到我们想要的数据："
   ]
  },
  {
   "cell_type": "code",
   "execution_count": null,
   "metadata": {
    "vscode": {
     "languageId": "r"
    }
   },
   "outputs": [
    {
     "data": {
      "text/plain": [
       "~~~~~~~\n",
       " first 10 observations out of 11116 \n",
       "~~~~~~~\n",
       "   choice dist   cost ivt ovt freq income urban noalt      idx\n",
       "1       0  377  58.25 215  74    4     45     0     4 109:rain\n",
       "2       1  377 142.80  56  85    9     45     0     4  109:air\n",
       "3       0  377  27.52 301  63    8     45     0     4  109:bus\n",
       "4       0  377  71.63 262   0    0     45     0     4  109:car\n",
       "5       0  377  58.25 215  74    4     70     0     4 110:rain\n",
       "6       1  377 142.80  56  85    9     70     0     4  110:air\n",
       "7       0  377  27.52 301  63    8     70     0     4  110:bus\n",
       "8       0  377  71.63 262   0    0     70     0     4  110:car\n",
       "9       0  377  58.25 215  74    4     35     0     4 111:rain\n",
       "10      1  377 142.80  56  85    9     35     0     4  111:air\n",
       "\n",
       "~~~ indexes ~~~~\n",
       "   case   alt\n",
       "1   109 train\n",
       "2   109   air\n",
       "3   109   bus\n",
       "4   109   car\n",
       "5   110 train\n",
       "6   110   air\n",
       "7   110   bus\n",
       "8   110   car\n",
       "9   111 train\n",
       "10  111   air\n",
       "indexes:  1, 2 "
      ]
     },
     "execution_count": null,
     "metadata": {},
     "output_type": "execute_result"
    }
   ],
   "source": [
    "MC <- dfidx(\n",
    "  ModeCanada,\n",
    "  subset = noalt == 4,\n",
    "  idx = c(\"case\", \"alt\")  # 编制索引，指定个体标识和方案标识\n",
    ")\n",
    "MC"
   ]
  },
  {
   "cell_type": "markdown",
   "metadata": {},
   "source": [
    "## 实战"
   ]
  },
  {
   "cell_type": "markdown",
   "metadata": {},
   "source": [
    "下面将一个不符合的原始数据转化为我们想要格式的输入数据，再转化为合适的输出格式："
   ]
  },
  {
   "cell_type": "code",
   "execution_count": 4,
   "metadata": {
    "vscode": {
     "languageId": "r"
    }
   },
   "outputs": [
    {
     "data": {
      "text/plain": [
       "\u001b[38;5;246m# A tibble: 200 × 5\u001b[39m\n",
       "      id female     ice_cream      video puzzle\n",
       "   \u001b[3m\u001b[38;5;246m<dbl>\u001b[39m\u001b[23m \u001b[3m\u001b[38;5;246m<dbl+lbl>\u001b[39m\u001b[23m  \u001b[3m\u001b[38;5;246m<dbl+lbl>\u001b[39m\u001b[23m      \u001b[3m\u001b[38;5;246m<dbl>\u001b[39m\u001b[23m  \u001b[3m\u001b[38;5;246m<dbl>\u001b[39m\u001b[23m\n",
       "\u001b[38;5;250m 1\u001b[39m    70 0\u001b[38;5;246m [male]\u001b[39m   1\u001b[38;5;246m [chocolate]\u001b[39m     47     57\n",
       "\u001b[38;5;250m 2\u001b[39m   121 1\u001b[38;5;246m [female]\u001b[39m 2\u001b[38;5;246m [vanilla]\u001b[39m       63     61\n",
       "\u001b[38;5;250m 3\u001b[39m    86 0\u001b[38;5;246m [male]\u001b[39m   3\u001b[38;5;246m [strawberry]\u001b[39m    58     31\n",
       "\u001b[38;5;250m 4\u001b[39m   141 0\u001b[38;5;246m [male]\u001b[39m   3\u001b[38;5;246m [strawberry]\u001b[39m    53     56\n",
       "\u001b[38;5;250m 5\u001b[39m   172 0\u001b[38;5;246m [male]\u001b[39m   2\u001b[38;5;246m [vanilla]\u001b[39m       53     61\n",
       "\u001b[38;5;250m 6\u001b[39m   113 0\u001b[38;5;246m [male]\u001b[39m   2\u001b[38;5;246m [vanilla]\u001b[39m       63     61\n",
       "\u001b[38;5;250m 7\u001b[39m    50 0\u001b[38;5;246m [male]\u001b[39m   2\u001b[38;5;246m [vanilla]\u001b[39m       53     61\n",
       "\u001b[38;5;250m 8\u001b[39m    11 0\u001b[38;5;246m [male]\u001b[39m   2\u001b[38;5;246m [vanilla]\u001b[39m       39     36\n",
       "\u001b[38;5;250m 9\u001b[39m    84 0\u001b[38;5;246m [male]\u001b[39m   2\u001b[38;5;246m [vanilla]\u001b[39m       58     51\n",
       "\u001b[38;5;250m10\u001b[39m    48 0\u001b[38;5;246m [male]\u001b[39m   2\u001b[38;5;246m [vanilla]\u001b[39m       50     51\n",
       "\u001b[38;5;246m# ℹ 190 more rows\u001b[39m\n",
       "\u001b[38;5;246m# ℹ Use `print(n = ...)` to see more rows\u001b[39m"
      ]
     },
     "execution_count": null,
     "metadata": {},
     "output_type": "execute_result"
    }
   ],
   "source": [
    "# 导入数据集\n",
    "library(haven)\n",
    "library(tidyverse)\n",
    "\n",
    "mlogit <- read_dta('../econometrics/stata_data/mlogit.dta')\n",
    "mlogit"
   ]
  },
  {
   "cell_type": "code",
   "execution_count": 5,
   "metadata": {
    "vscode": {
     "languageId": "r"
    }
   },
   "outputs": [
    {
     "data": {
      "text/plain": [
       "\u001b[38;5;246m# A tibble: 600 × 7\u001b[39m\n",
       "      id   alt ice_cream      choice female     video puzzle\n",
       "   \u001b[3m\u001b[38;5;246m<dbl>\u001b[39m\u001b[23m \u001b[3m\u001b[38;5;246m<dbl>\u001b[39m\u001b[23m \u001b[3m\u001b[38;5;246m<dbl+lbl>\u001b[39m\u001b[23m       \u001b[3m\u001b[38;5;246m<dbl>\u001b[39m\u001b[23m \u001b[3m\u001b[38;5;246m<dbl+lbl>\u001b[39m\u001b[23m  \u001b[3m\u001b[38;5;246m<dbl>\u001b[39m\u001b[23m  \u001b[3m\u001b[38;5;246m<dbl>\u001b[39m\u001b[23m\n",
       "\u001b[38;5;250m 1\u001b[39m    70     1 1\u001b[38;5;246m [chocolate]\u001b[39m       1 0\u001b[38;5;246m [male]\u001b[39m      47     57\n",
       "\u001b[38;5;250m 2\u001b[39m    70     2 1\u001b[38;5;246m [chocolate]\u001b[39m       0 0\u001b[38;5;246m [male]\u001b[39m      47     57\n",
       "\u001b[38;5;250m 3\u001b[39m    70     3 1\u001b[38;5;246m [chocolate]\u001b[39m       0 0\u001b[38;5;246m [male]\u001b[39m      47     57\n",
       "\u001b[38;5;250m 4\u001b[39m   121     1 2\u001b[38;5;246m [vanilla]\u001b[39m         0 1\u001b[38;5;246m [female]\u001b[39m    63     61\n",
       "\u001b[38;5;250m 5\u001b[39m   121     2 2\u001b[38;5;246m [vanilla]\u001b[39m         1 1\u001b[38;5;246m [female]\u001b[39m    63     61\n",
       "\u001b[38;5;250m 6\u001b[39m   121     3 2\u001b[38;5;246m [vanilla]\u001b[39m         0 1\u001b[38;5;246m [female]\u001b[39m    63     61\n",
       "\u001b[38;5;250m 7\u001b[39m    86     1 3\u001b[38;5;246m [strawberry]\u001b[39m      0 0\u001b[38;5;246m [male]\u001b[39m      58     31\n",
       "\u001b[38;5;250m 8\u001b[39m    86     2 3\u001b[38;5;246m [strawberry]\u001b[39m      0 0\u001b[38;5;246m [male]\u001b[39m      58     31\n",
       "\u001b[38;5;250m 9\u001b[39m    86     3 3\u001b[38;5;246m [strawberry]\u001b[39m      1 0\u001b[38;5;246m [male]\u001b[39m      58     31\n",
       "\u001b[38;5;250m10\u001b[39m   141     1 3\u001b[38;5;246m [strawberry]\u001b[39m      0 0\u001b[38;5;246m [male]\u001b[39m      53     56\n",
       "\u001b[38;5;246m# ℹ 590 more rows\u001b[39m\n",
       "\u001b[38;5;246m# ℹ Use `print(n = ...)` to see more rows\u001b[39m"
      ]
     },
     "execution_count": null,
     "metadata": {},
     "output_type": "execute_result"
    }
   ],
   "source": [
    "# 该包需要使用长数据格式，先转化数据格式\n",
    "mlogit |> \n",
    "  expand_grid(alt = c(1, 2, 3)) |> \n",
    "  mutate(\n",
    "    choice = if_else(alt == ice_cream, 1, 0)\n",
    "  ) |> \n",
    "  relocate(alt, .after = id) |> \n",
    "  relocate(female, .after = ice_cream) |> \n",
    "  relocate(choice, .after = ice_cream)"
   ]
  },
  {
   "cell_type": "code",
   "execution_count": 6,
   "metadata": {
    "vscode": {
     "languageId": "r"
    }
   },
   "outputs": [
    {
     "data": {
      "text/plain": [
       "\u001b[38;5;246m# A tibble: 600 × 6\u001b[39m\n",
       "\u001b[38;5;246m# Index:    200 (id) x 3 (alt)\u001b[39m\n",
       "\u001b[38;5;246m# Balanced: yes\u001b[39m\n",
       "   idx   ice_cream     choice female     video puzzle\n",
       "   \u001b[3m\u001b[38;5;246m<idx>\u001b[39m\u001b[23m \u001b[3m\u001b[38;5;246m<dbl+lbl>\u001b[39m\u001b[23m      \u001b[3m\u001b[38;5;246m<dbl>\u001b[39m\u001b[23m \u001b[3m\u001b[38;5;246m<dbl+lbl>\u001b[39m\u001b[23m  \u001b[3m\u001b[38;5;246m<dbl>\u001b[39m\u001b[23m  \u001b[3m\u001b[38;5;246m<dbl>\u001b[39m\u001b[23m\n",
       "\u001b[38;5;250m 1\u001b[39m 1:1   1\u001b[38;5;246m [chocolate]\u001b[39m      1 1\u001b[38;5;246m [female]\u001b[39m    39     41\n",
       "\u001b[38;5;250m 2\u001b[39m 1:2   1\u001b[38;5;246m [chocolate]\u001b[39m      0 1\u001b[38;5;246m [female]\u001b[39m    39     41\n",
       "\u001b[38;5;250m 3\u001b[39m 1:3   1\u001b[38;5;246m [chocolate]\u001b[39m      0 1\u001b[38;5;246m [female]\u001b[39m    39     41\n",
       "\u001b[38;5;250m 4\u001b[39m 2:1   2\u001b[38;5;246m [vanilla]\u001b[39m        0 1\u001b[38;5;246m [female]\u001b[39m    42     41\n",
       "\u001b[38;5;250m 5\u001b[39m 2:2   2\u001b[38;5;246m [vanilla]\u001b[39m        1 1\u001b[38;5;246m [female]\u001b[39m    42     41\n",
       "\u001b[38;5;250m 6\u001b[39m 2:3   2\u001b[38;5;246m [vanilla]\u001b[39m        0 1\u001b[38;5;246m [female]\u001b[39m    42     41\n",
       "\u001b[38;5;250m 7\u001b[39m 3:1   1\u001b[38;5;246m [chocolate]\u001b[39m      1 0\u001b[38;5;246m [male]\u001b[39m      63     56\n",
       "\u001b[38;5;250m 8\u001b[39m 3:2   1\u001b[38;5;246m [chocolate]\u001b[39m      0 0\u001b[38;5;246m [male]\u001b[39m      63     56\n",
       "\u001b[38;5;250m 9\u001b[39m 3:3   1\u001b[38;5;246m [chocolate]\u001b[39m      0 0\u001b[38;5;246m [male]\u001b[39m      63     56\n",
       "\u001b[38;5;250m10\u001b[39m 4:1   1\u001b[38;5;246m [chocolate]\u001b[39m      1 1\u001b[38;5;246m [female]\u001b[39m    39     51\n",
       "\u001b[38;5;246m# ℹ 590 more rows\u001b[39m\n",
       "\u001b[38;5;246m# ℹ Use `print(n = ...)` to see more rows\u001b[39m"
      ]
     },
     "execution_count": null,
     "metadata": {},
     "output_type": "execute_result"
    }
   ],
   "source": [
    "mlogit_idx <- mlogit |> \n",
    "  expand_grid(alt = c(1, 2, 3)) |> \n",
    "  mutate(\n",
    "    choice = if_else(alt == ice_cream, 1, 0)\n",
    "  ) |> \n",
    "  relocate(alt, .after = id) |> \n",
    "  relocate(female, .after = ice_cream) |> \n",
    "  relocate(choice, .after = ice_cream) |> \n",
    "  dfidx(\n",
    "    idx = c(\"id\", \"alt\")\n",
    "  )\n",
    "\n",
    "mlogit_idx"
   ]
  },
  {
   "cell_type": "markdown",
   "metadata": {},
   "source": [
    "# 多项Logit模型"
   ]
  },
  {
   "cell_type": "code",
   "execution_count": 74,
   "metadata": {
    "vscode": {
     "languageId": "r"
    }
   },
   "outputs": [
    {
     "data": {
      "text/plain": [
       "\n",
       "Call:\n",
       "mlogit(formula = choice ~ 0 | female + video + puzzle, data = mlogit_idx, \n",
       "    reflevel = 1, method = \"nr\")\n",
       "\n",
       "Frequencies of alternatives:choice\n",
       "    1     2     3 \n",
       "0.235 0.475 0.290 \n",
       "\n",
       "nr method\n",
       "5 iterations, 0h:0m:0s \n",
       "g'(-H)^-1g = 2.64E-05 \n",
       "successive function values within tolerance limits \n",
       "\n",
       "Coefficients :\n",
       "               Estimate Std. Error z-value  Pr(>|z|)    \n",
       "(Intercept):2 -1.912254   1.127256 -1.6964 0.0898140 .  \n",
       "(Intercept):3 -5.969578   1.437546 -4.1526 3.287e-05 ***\n",
       "female:2      -0.816620   0.390981 -2.0886 0.0367400 *  \n",
       "female:3      -0.849482   0.448212 -1.8953 0.0580570 .  \n",
       "video:2        0.023565   0.020975  1.1235 0.2612330    \n",
       "video:3        0.046487   0.025100  1.8521 0.0640176 .  \n",
       "puzzle:2       0.038924   0.019517  1.9944 0.0461055 *  \n",
       "puzzle:3       0.081928   0.023834  3.4375 0.0005872 ***\n",
       "---\n",
       "Signif. codes:  0 ‘***’ 0.001 ‘**’ 0.01 ‘*’ 0.05 ‘.’ 0.1 ‘ ’ 1\n",
       "\n",
       "Log-Likelihood: -194.03\n",
       "McFadden R^2:  0.078581 \n",
       "Likelihood ratio test : chisq = 33.095 (p.value = 1.0052e-05)"
      ]
     },
     "execution_count": null,
     "metadata": {},
     "output_type": "execute_result"
    }
   ],
   "source": [
    "fit_mlogit <- mlogit(\n",
    "  choice ~ 0 | female + video + puzzle,\n",
    "  data = mlogit_idx,\n",
    "  reflevel = 1  # 指定参考组\n",
    ")\n",
    "\n",
    "summary(fit_mlogit)"
   ]
  },
  {
   "cell_type": "markdown",
   "metadata": {},
   "source": [
    "# 多项Probit模型"
   ]
  },
  {
   "cell_type": "code",
   "execution_count": 10,
   "metadata": {
    "vscode": {
     "languageId": "r"
    }
   },
   "outputs": [
    {
     "data": {
      "text/plain": [
       "\n",
       "Call:\n",
       "mlogit(formula = choice ~ 0 | female + video + puzzle, data = mlogit_idx, \n",
       "    reflevel = 1, probit = TRUE)\n",
       "\n",
       "Frequencies of alternatives:choice\n",
       "    1     2     3 \n",
       "0.235 0.475 0.290 \n",
       "\n",
       "bfgs method\n",
       "40 iterations, 0h:0m:2s \n",
       "g'(-H)^-1g = 9.45E-08 \n",
       "gradient close to zero \n",
       "\n",
       "Coefficients :\n",
       "                Estimate Std. Error z-value Pr(>|z|)  \n",
       "(Intercept):2  -1.208479   1.095679 -1.1030   0.2700  \n",
       "(Intercept):3 -10.363668  39.327822 -0.2635   0.7921  \n",
       "female:2       -0.513220   0.262189 -1.9574   0.0503 .\n",
       "female:3       -0.846756   1.946420 -0.4350   0.6635  \n",
       "video:2         0.012256   0.015594  0.7859   0.4319  \n",
       "video:3         0.064677   0.221979  0.2914   0.7708  \n",
       "puzzle:2        0.027317   0.022312  1.2243   0.2208  \n",
       "puzzle:3        0.119920   0.401844  0.2984   0.7654  \n",
       "2.3             0.811869   4.648165  0.1747   0.8613  \n",
       "3.3             3.217398  12.957392  0.2483   0.8039  \n",
       "---\n",
       "Signif. codes:  0 ‘***’ 0.001 ‘**’ 0.01 ‘*’ 0.05 ‘.’ 0.1 ‘ ’ 1\n",
       "\n",
       "Log-Likelihood: -193.83\n",
       "McFadden R^2:  0.079556 \n",
       "Likelihood ratio test : chisq = 33.506 (p.value = 4.9907e-05)"
      ]
     },
     "execution_count": null,
     "metadata": {},
     "output_type": "execute_result"
    }
   ],
   "source": [
    "fit_mprobit <- mlogit(\n",
    "  choice ~ 0 | female + video + puzzle,\n",
    "  data = mlogit_idx,\n",
    "  reflevel = 1,  # 指定参考组\n",
    "  probit = TRUE\n",
    ")\n",
    "\n",
    "summary(fit_mprobit)"
   ]
  },
  {
   "cell_type": "markdown",
   "metadata": {},
   "source": [
    "# 条件Logit模型"
   ]
  },
  {
   "cell_type": "code",
   "execution_count": 12,
   "metadata": {
    "vscode": {
     "languageId": "r"
    }
   },
   "outputs": [
    {
     "data": {
      "text/plain": [
       "\u001b[38;5;246m# A tibble: 456 × 13\u001b[39m\n",
       "      id mode      train   bus   car  time  invc choice  ttme  invt    gc  hinc\n",
       "   \u001b[3m\u001b[38;5;246m<dbl>\u001b[39m\u001b[23m \u001b[3m\u001b[38;5;246m<dbl+lbl>\u001b[39m\u001b[23m \u001b[3m\u001b[38;5;246m<dbl>\u001b[39m\u001b[23m \u001b[3m\u001b[38;5;246m<dbl>\u001b[39m\u001b[23m \u001b[3m\u001b[38;5;246m<dbl>\u001b[39m\u001b[23m \u001b[3m\u001b[38;5;246m<dbl>\u001b[39m\u001b[23m \u001b[3m\u001b[38;5;246m<dbl>\u001b[39m\u001b[23m  \u001b[3m\u001b[38;5;246m<dbl>\u001b[39m\u001b[23m \u001b[3m\u001b[38;5;246m<dbl>\u001b[39m\u001b[23m \u001b[3m\u001b[38;5;246m<dbl>\u001b[39m\u001b[23m \u001b[3m\u001b[38;5;246m<dbl>\u001b[39m\u001b[23m \u001b[3m\u001b[38;5;246m<dbl>\u001b[39m\u001b[23m\n",
       "\u001b[38;5;250m 1\u001b[39m     1 1\u001b[38;5;246m [Train]\u001b[39m     1     0     0   406    31      0    34   372    71    35\n",
       "\u001b[38;5;250m 2\u001b[39m     1 2\u001b[38;5;246m [Bus]\u001b[39m       0     1     0   452    25      0    35   417    70    35\n",
       "\u001b[38;5;250m 3\u001b[39m     1 3\u001b[38;5;246m [Car]\u001b[39m       0     0     1   180    10      1     0   180    30    35\n",
       "\u001b[38;5;250m 4\u001b[39m     2 1\u001b[38;5;246m [Train]\u001b[39m     1     0     0   398    31      0    44   354    84    30\n",
       "\u001b[38;5;250m 5\u001b[39m     2 2\u001b[38;5;246m [Bus]\u001b[39m       0     1     0   452    25      0    53   399    85    30\n",
       "\u001b[38;5;250m 6\u001b[39m     2 3\u001b[38;5;246m [Car]\u001b[39m       0     0     1   255    11      1     0   255    50    30\n",
       "\u001b[38;5;250m 7\u001b[39m     3 1\u001b[38;5;246m [Train]\u001b[39m     1     0     0   926    98      0    34   892   195    40\n",
       "\u001b[38;5;250m 8\u001b[39m     3 2\u001b[38;5;246m [Bus]\u001b[39m       0     1     0   917    53      0    35   882   149    40\n",
       "\u001b[38;5;250m 9\u001b[39m     3 3\u001b[38;5;246m [Car]\u001b[39m       0     0     1   720    23      1     0   720   101    40\n",
       "\u001b[38;5;250m10\u001b[39m     4 1\u001b[38;5;246m [Train]\u001b[39m     1     0     0   398    26      0    44   354    79    70\n",
       "\u001b[38;5;246m# ℹ 446 more rows\u001b[39m\n",
       "\u001b[38;5;246m# ℹ 1 more variable: psize <dbl>\u001b[39m\n",
       "\u001b[38;5;246m# ℹ Use `print(n = ...)` to see more rows\u001b[39m"
      ]
     },
     "execution_count": null,
     "metadata": {},
     "output_type": "execute_result"
    }
   ],
   "source": [
    "# 先导入数据\n",
    "library(haven)\n",
    "travel2 <- read_dta(\"../econometrics/stata_data/travel2.dta\")\n",
    "travel2"
   ]
  },
  {
   "cell_type": "code",
   "execution_count": 13,
   "metadata": {
    "vscode": {
     "languageId": "r"
    }
   },
   "outputs": [
    {
     "data": {
      "text/plain": [
       "\u001b[38;5;246m# A tibble: 456 × 12\u001b[39m\n",
       "\u001b[38;5;246m# Index:    152 (id) x 3 (mode)\u001b[39m\n",
       "\u001b[38;5;246m# Balanced: yes\u001b[39m\n",
       "   idx   train   bus   car  time  invc choice  ttme  invt    gc  hinc psize\n",
       "   \u001b[3m\u001b[38;5;246m<idx>\u001b[39m\u001b[23m \u001b[3m\u001b[38;5;246m<dbl>\u001b[39m\u001b[23m \u001b[3m\u001b[38;5;246m<dbl>\u001b[39m\u001b[23m \u001b[3m\u001b[38;5;246m<dbl>\u001b[39m\u001b[23m \u001b[3m\u001b[38;5;246m<dbl>\u001b[39m\u001b[23m \u001b[3m\u001b[38;5;246m<dbl>\u001b[39m\u001b[23m  \u001b[3m\u001b[38;5;246m<dbl>\u001b[39m\u001b[23m \u001b[3m\u001b[38;5;246m<dbl>\u001b[39m\u001b[23m \u001b[3m\u001b[38;5;246m<dbl>\u001b[39m\u001b[23m \u001b[3m\u001b[38;5;246m<dbl>\u001b[39m\u001b[23m \u001b[3m\u001b[38;5;246m<dbl>\u001b[39m\u001b[23m \u001b[3m\u001b[38;5;246m<dbl>\u001b[39m\u001b[23m\n",
       "\u001b[38;5;250m 1\u001b[39m 1:1       1     0     0   406    31      0    34   372    71    35     1\n",
       "\u001b[38;5;250m 2\u001b[39m 1:2       0     1     0   452    25      0    35   417    70    35     1\n",
       "\u001b[38;5;250m 3\u001b[39m 1:3       0     0     1   180    10      1     0   180    30    35     1\n",
       "\u001b[38;5;250m 4\u001b[39m 2:1       1     0     0   398    31      0    44   354    84    30     2\n",
       "\u001b[38;5;250m 5\u001b[39m 2:2       0     1     0   452    25      0    53   399    85    30     2\n",
       "\u001b[38;5;250m 6\u001b[39m 2:3       0     0     1   255    11      1     0   255    50    30     2\n",
       "\u001b[38;5;250m 7\u001b[39m 3:1       1     0     0   926    98      0    34   892   195    40     1\n",
       "\u001b[38;5;250m 8\u001b[39m 3:2       0     1     0   917    53      0    35   882   149    40     1\n",
       "\u001b[38;5;250m 9\u001b[39m 3:3       0     0     1   720    23      1     0   720   101    40     1\n",
       "\u001b[38;5;250m10\u001b[39m 4:1       1     0     0   398    26      0    44   354    79    70     3\n",
       "\u001b[38;5;246m# ℹ 446 more rows\u001b[39m\n",
       "\u001b[38;5;246m# ℹ Use `print(n = ...)` to see more rows\u001b[39m"
      ]
     },
     "execution_count": null,
     "metadata": {},
     "output_type": "execute_result"
    }
   ],
   "source": [
    "# 转化为符合要求的格式\n",
    "travel2_idx <- dfidx(\n",
    "  travel2,\n",
    "  idx = c(\"id\", \"mode\")\n",
    ")\n",
    "\n",
    "travel2_idx"
   ]
  },
  {
   "cell_type": "code",
   "execution_count": 57,
   "metadata": {
    "vscode": {
     "languageId": "r"
    }
   },
   "outputs": [
    {
     "data": {
      "text/plain": [
       "\n",
       "Call:\n",
       "mlogit(formula = choice ~ train + bus + time + invc | 0, data = travel2_idx, \n",
       "    method = \"nr\")\n",
       "\n",
       "Frequencies of alternatives:choice\n",
       "      1       2       3 \n",
       "0.41447 0.19737 0.38816 \n",
       "\n",
       "nr method\n",
       "6 iterations, 0h:0m:0s \n",
       "g'(-H)^-1g = 1.9E-05 \n",
       "successive function values within tolerance limits \n",
       "\n",
       "Coefficients :\n",
       "        Estimate Std. Error z-value  Pr(>|z|)    \n",
       "train  2.6712373  0.4531611  5.8947 3.754e-09 ***\n",
       "bus    1.4723345  0.4007152  3.6743 0.0002385 ***\n",
       "time  -0.0191453  0.0024509 -7.8116 5.551e-15 ***\n",
       "invc  -0.0481658  0.0119516 -4.0301 5.576e-05 ***\n",
       "---\n",
       "Signif. codes:  0 ‘***’ 0.001 ‘**’ 0.01 ‘*’ 0.05 ‘.’ 0.1 ‘ ’ 1\n",
       "\n",
       "Log-Likelihood: -80.961"
      ]
     },
     "execution_count": null,
     "metadata": {},
     "output_type": "execute_result"
    }
   ],
   "source": [
    "fit_clogit <- mlogit(\n",
    "  choice ~  train + bus + time + invc | 0,\n",
    "  data = travel2_idx\n",
    ")\n",
    "\n",
    "summary(fit_clogit)"
   ]
  },
  {
   "cell_type": "code",
   "execution_count": 59,
   "metadata": {
    "vscode": {
     "languageId": "r"
    }
   },
   "outputs": [
    {
     "data": {
      "text/plain": [
       "\n",
       "Call:\n",
       "mlogit(formula = choice ~ time + invc | 0, data = travel2_idx, \n",
       "    method = \"nr\")\n",
       "\n",
       "Frequencies of alternatives:choice\n",
       "      1       2       3 \n",
       "0.41447 0.19737 0.38816 \n",
       "\n",
       "nr method\n",
       "5 iterations, 0h:0m:0s \n",
       "g'(-H)^-1g = 6.65E-08 \n",
       "gradient close to zero \n",
       "\n",
       "Coefficients :\n",
       "       Estimate Std. Error z-value  Pr(>|z|)    \n",
       "time -0.0153450  0.0020370 -7.5333 4.952e-14 ***\n",
       "invc  0.0025291  0.0070128  0.3606    0.7184    \n",
       "---\n",
       "Signif. codes:  0 ‘***’ 0.001 ‘**’ 0.01 ‘*’ 0.05 ‘.’ 0.1 ‘ ’ 1\n",
       "\n",
       "Log-Likelihood: -106.34"
      ]
     },
     "execution_count": null,
     "metadata": {},
     "output_type": "execute_result"
    }
   ],
   "source": [
    "fit_clogit <- mlogit(\n",
    "  choice ~  time + invc | 0,\n",
    "  data = travel2_idx\n",
    ")\n",
    "\n",
    "summary(fit_clogit)"
   ]
  },
  {
   "cell_type": "code",
   "execution_count": 58,
   "metadata": {
    "vscode": {
     "languageId": "r"
    }
   },
   "outputs": [
    {
     "data": {
      "text/plain": [
       "\n",
       "Call:\n",
       "mlogit(formula = choice ~ train + bus + time + invc | 0 | invt, \n",
       "    data = travel2_idx, method = \"nr\")\n",
       "\n",
       "Frequencies of alternatives:choice\n",
       "      1       2       3 \n",
       "0.41447 0.19737 0.38816 \n",
       "\n",
       "nr method\n",
       "6 iterations, 0h:0m:0s \n",
       "g'(-H)^-1g = 2.32E-05 \n",
       "successive function values within tolerance limits \n",
       "\n",
       "Coefficients :\n",
       "        Estimate Std. Error z-value  Pr(>|z|)    \n",
       "train   3.961613   0.828820  4.7798 1.754e-06 ***\n",
       "bus     3.511116   1.076921  3.2603 0.0011128 ** \n",
       "time   -0.060404   0.015154 -3.9861 6.718e-05 ***\n",
       "invc   -0.044799   0.012952 -3.4588 0.0005427 ***\n",
       "invt:1  0.044014   0.015962  2.7574 0.0058271 ** \n",
       "invt:2  0.042910   0.015836  2.7097 0.0067337 ** \n",
       "invt:3  0.044017   0.015660  2.8107 0.0049428 ** \n",
       "---\n",
       "Signif. codes:  0 ‘***’ 0.001 ‘**’ 0.01 ‘*’ 0.05 ‘.’ 0.1 ‘ ’ 1\n",
       "\n",
       "Log-Likelihood: -75.876"
      ]
     },
     "execution_count": null,
     "metadata": {},
     "output_type": "execute_result"
    }
   ],
   "source": [
    "fit_clogit <- mlogit(\n",
    "  choice ~  train + bus + time + invc | 0 | invt,\n",
    "  data = travel2_idx\n",
    ")\n",
    "\n",
    "summary(fit_clogit)"
   ]
  },
  {
   "cell_type": "markdown",
   "metadata": {},
   "source": [
    "# 混合Logit模型"
   ]
  },
  {
   "cell_type": "code",
   "execution_count": 61,
   "metadata": {
    "vscode": {
     "languageId": "r"
    }
   },
   "outputs": [
    {
     "data": {
      "text/plain": [
       "\n",
       "Call:\n",
       "mlogit(formula = choice ~ time + invc | hinc + psize, data = travel2_idx, \n",
       "    method = \"nr\")\n",
       "\n",
       "Frequencies of alternatives:choice\n",
       "      1       2       3 \n",
       "0.41447 0.19737 0.38816 \n",
       "\n",
       "nr method\n",
       "6 iterations, 0h:0m:0s \n",
       "g'(-H)^-1g = 3.64E-05 \n",
       "successive function values within tolerance limits \n",
       "\n",
       "Coefficients :\n",
       "                Estimate Std. Error z-value  Pr(>|z|)    \n",
       "(Intercept):2 -1.0131755  0.7330291 -1.3822  0.166918    \n",
       "(Intercept):3 -3.4996387  0.7579665 -4.6171 3.891e-06 ***\n",
       "time          -0.0185034  0.0025035 -7.3909 1.459e-13 ***\n",
       "invc          -0.0402791  0.0134851 -2.9869  0.002818 ** \n",
       "hinc:2         0.0262667  0.0196277  1.3382  0.180816    \n",
       "hinc:3         0.0342841  0.0158471  2.1634  0.030508 *  \n",
       "psize:2       -0.5102610  0.3694765 -1.3810  0.167267    \n",
       "psize:3        0.0038419  0.3098075  0.0124  0.990106    \n",
       "---\n",
       "Signif. codes:  0 ‘***’ 0.001 ‘**’ 0.01 ‘*’ 0.05 ‘.’ 0.1 ‘ ’ 1\n",
       "\n",
       "Log-Likelihood: -77.505\n",
       "McFadden R^2:  0.5156 \n",
       "Likelihood ratio test : chisq = 164.99 (p.value = < 2.22e-16)"
      ]
     },
     "execution_count": null,
     "metadata": {},
     "output_type": "execute_result"
    }
   ],
   "source": [
    "fit_clogit <- mlogit(\n",
    "  choice ~  time + invc | hinc + psize,\n",
    "  data = travel2_idx\n",
    ")\n",
    "\n",
    "summary(fit_clogit)"
   ]
  },
  {
   "cell_type": "markdown",
   "metadata": {},
   "source": [
    "# Hausman检验"
   ]
  },
  {
   "cell_type": "code",
   "execution_count": 63,
   "metadata": {
    "vscode": {
     "languageId": "r"
    }
   },
   "outputs": [
    {
     "data": {
      "text/plain": [
       "\u001b[38;5;246m# A tibble: 3 × 1\u001b[39m\n",
       "  mode     \n",
       "  \u001b[3m\u001b[38;5;246m<dbl+lbl>\u001b[39m\u001b[23m\n",
       "\u001b[38;5;250m1\u001b[39m 1\u001b[38;5;246m [Train]\u001b[39m\n",
       "\u001b[38;5;250m2\u001b[39m 2\u001b[38;5;246m [Bus]\u001b[39m  \n",
       "\u001b[38;5;250m3\u001b[39m 3\u001b[38;5;246m [Car]\u001b[39m  "
      ]
     },
     "execution_count": null,
     "metadata": {},
     "output_type": "execute_result"
    }
   ],
   "source": [
    "travel2 |> \n",
    "  distinct(mode)"
   ]
  },
  {
   "cell_type": "code",
   "execution_count": 65,
   "metadata": {
    "vscode": {
     "languageId": "r"
    }
   },
   "outputs": [],
   "source": [
    "fit_full <- mlogit(\n",
    "  choice ~  time + invc | hinc + psize,\n",
    "  data = travel2_idx\n",
    ") "
   ]
  },
  {
   "cell_type": "code",
   "execution_count": null,
   "metadata": {
    "vscode": {
     "languageId": "r"
    }
   },
   "outputs": [],
   "source": [
    "fit_bus <- mlogit(\n",
    "  choice ~  time + invc | hinc + psize,\n",
    "  data = travel2_idx,\n",
    "  alt.subset = c(1, 3)\n",
    ")"
   ]
  },
  {
   "cell_type": "code",
   "execution_count": 68,
   "metadata": {
    "vscode": {
     "languageId": "r"
    }
   },
   "outputs": [
    {
     "data": {
      "text/plain": [
       "\n",
       "\tHausman-McFadden test\n",
       "\n",
       "data:  travel2_idx\n",
       "chisq = 51.188, df = 5, p-value = 7.916e-10\n",
       "alternative hypothesis: IIA is rejected\n"
      ]
     },
     "execution_count": null,
     "metadata": {},
     "output_type": "execute_result"
    }
   ],
   "source": [
    "hmftest(fit_full, fit_bus)"
   ]
  },
  {
   "cell_type": "markdown",
   "metadata": {},
   "source": [
    "# 异方差Logit模型"
   ]
  },
  {
   "cell_type": "code",
   "execution_count": 69,
   "metadata": {
    "vscode": {
     "languageId": "r"
    }
   },
   "outputs": [
    {
     "data": {
      "text/plain": [
       "\n",
       "Call:\n",
       "mlogit(formula = choice ~ 0 | female + video + puzzle, data = mlogit_idx, \n",
       "    heterosc = TRUE)\n",
       "\n",
       "Frequencies of alternatives:choice\n",
       "    1     2     3 \n",
       "0.235 0.475 0.290 \n",
       "\n",
       "bfgs method\n",
       "5 iterations, 0h:0m:0s \n",
       "g'(-H)^-1g = 0.0846 \n",
       "last step couldn't find higher value \n",
       "\n",
       "Coefficients :\n",
       "               Estimate Std. Error z-value Pr(>|z|)   \n",
       "(Intercept):2 -1.638125   0.847050 -1.9339 0.053123 . \n",
       "(Intercept):3 -6.344775   8.053185 -0.7879 0.430779   \n",
       "female:2      -0.612061   0.299299 -2.0450 0.040857 * \n",
       "female:3      -0.715412   0.492907 -1.4514 0.146665   \n",
       "video:2        0.019957   0.015777  1.2649 0.205894   \n",
       "video:3        0.047716   0.050544  0.9440 0.345146   \n",
       "puzzle:2       0.039317   0.014200  2.7689 0.005625 **\n",
       "puzzle:3       0.082261   0.072606  1.1330 0.257226   \n",
       "sp.2           0.161323   0.223695  0.7212 0.470801   \n",
       "sp.3           1.153090   1.794984  0.6424 0.520616   \n",
       "---\n",
       "Signif. codes:  0 ‘***’ 0.001 ‘**’ 0.01 ‘*’ 0.05 ‘.’ 0.1 ‘ ’ 1\n",
       "\n",
       "Log-Likelihood: -193.34\n",
       "McFadden R^2:  0.0819 \n",
       "Likelihood ratio test : chisq = 34.493 (p.value = 3.3058e-05)"
      ]
     },
     "execution_count": null,
     "metadata": {},
     "output_type": "execute_result"
    }
   ],
   "source": [
    "fit_hetlogit <- mlogit(\n",
    "  choice ~ 0 | female + video + puzzle,\n",
    "  data = mlogit_idx,\n",
    "  heterosc = TRUE\n",
    ")\n",
    "\n",
    "summary(fit_hetlogit)"
   ]
  },
  {
   "cell_type": "code",
   "execution_count": 75,
   "metadata": {
    "vscode": {
     "languageId": "r"
    }
   },
   "outputs": [
    {
     "data": {
      "text/plain": [
       "Likelihood ratio test\n",
       "\n",
       "Model 1: choice ~ 0 | female + video + puzzle\n",
       "Model 2: choice ~ 0 | female + video + puzzle\n",
       "  #Df  LogLik Df  Chisq Pr(>Chisq)\n",
       "1  10 -193.34                     \n",
       "2   8 -194.03 -2 1.3981     0.4971"
      ]
     },
     "execution_count": null,
     "metadata": {},
     "output_type": "execute_result"
    }
   ],
   "source": [
    "lrtest(fit_hetlogit, fit_mlogit)"
   ]
  },
  {
   "cell_type": "code",
   "execution_count": 81,
   "metadata": {
    "vscode": {
     "languageId": "r"
    }
   },
   "outputs": [
    {
     "data": {
      "text/plain": [
       "Likelihood ratio test\n",
       "\n",
       "Model 1: choice ~ 0 | female + video + puzzle\n",
       "Model 2: choice ~ 0 | female + video + puzzle\n",
       "  #Df  LogLik Df  Chisq Pr(>Chisq)\n",
       "1  10 -193.34                     \n",
       "2   8 -194.03 -2 1.3981     0.4971"
      ]
     },
     "execution_count": null,
     "metadata": {},
     "output_type": "execute_result"
    }
   ],
   "source": [
    "lrtest(fit_hetlogit)"
   ]
  },
  {
   "cell_type": "code",
   "execution_count": 79,
   "metadata": {
    "vscode": {
     "languageId": "r"
    }
   },
   "outputs": [
    {
     "data": {
      "text/plain": [
       "Wald test\n",
       "\n",
       "Model 1: choice ~ 0 | female + video + puzzle\n",
       "Model 2: choice ~ 0 | female + video + puzzle\n",
       "  Res.Df Df  Chisq Pr(>Chisq)\n",
       "1    190                     \n",
       "2    192 -2 0.6672     0.7164"
      ]
     },
     "execution_count": null,
     "metadata": {},
     "output_type": "execute_result"
    }
   ],
   "source": [
    "waldtest(fit_hetlogit, fit_mlogit)"
   ]
  },
  {
   "cell_type": "markdown",
   "metadata": {},
   "source": [
    "# 嵌套Logit模型"
   ]
  },
  {
   "cell_type": "code",
   "execution_count": 85,
   "metadata": {
    "vscode": {
     "languageId": "r"
    }
   },
   "outputs": [
    {
     "data": {
      "text/plain": [
       "    individual  mode choice wait vcost travel gcost income size\n",
       "1            1   air     no   69    59    100    70     35    1\n",
       "2            1 train     no   34    31    372    71     35    1\n",
       "3            1   bus     no   35    25    417    70     35    1\n",
       "4            1   car    yes    0    10    180    30     35    1\n",
       "5            2   air     no   64    58     68    68     30    2\n",
       "6            2 train     no   44    31    354    84     30    2\n",
       "7            2   bus     no   53    25    399    85     30    2\n",
       "8            2   car    yes    0    11    255    50     30    2\n",
       "9            3   air     no   69   115    125   129     40    1\n",
       "10           3 train     no   34    98    892   195     40    1\n",
       "11           3   bus     no   35    53    882   149     40    1\n",
       "12           3   car    yes    0    23    720   101     40    1\n",
       "13           4   air     no   64    49     68    59     70    3\n",
       "14           4 train     no   44    26    354    79     70    3\n",
       "15           4   bus     no   53    21    399    81     70    3\n",
       "16           4   car    yes    0     5    180    32     70    3\n",
       "17           5   air     no   64    60    144    82     45    2\n",
       "18           5 train     no   44    32    404    93     45    2\n",
       "19           5   bus     no   53    26    449    94     45    2\n",
       "20           5   car    yes    0     8    600    99     45    2\n",
       "21           6   air     no   69    59    100    70     20    1\n",
       "22           6 train    yes   40    20    345    57     20    1\n",
       "23           6   bus     no   35    13    417    58     20    1\n",
       "24           6   car     no    0    12    284    43     20    1\n",
       "25           7   air    yes   45   148    115   160     45    1\n",
       "26           7 train     no   34   111    945   213     45    1\n",
       "27           7   bus     no   35    66    935   167     45    1\n",
       "28           7   car     no    0    36    821   125     45    1\n",
       "29           8   air     no   69   121    152   137     12    1\n",
       "30           8 train     no   34    52    889   149     12    1\n",
       "31           8   bus     no   35    50    879   146     12    1\n",
       "32           8   car    yes    0    50    780   135     12    1\n",
       "33           9   air     no   69    59    100    70     40    1\n",
       "34           9 train     no   34    31    372    71     40    1\n",
       "35           9   bus     no   35    25    417    70     40    1\n",
       "36           9   car    yes    0    17    210    40     40    1\n",
       "37          10   air     no   69    58     68    65     70    2\n",
       "38          10 train     no   34    31    357    69     70    2\n",
       "39          10   bus     no   35    25    402    68     70    2\n",
       "40          10   car    yes    0     7    210    30     70    2\n",
       "41          11   air     no   64    58     68    68     15    2\n",
       "42          11 train     no   44    16    357    70     15    2\n",
       "43          11   bus     no   53    13    402    73     15    2\n",
       "44          11   car    yes    0     4    210    36     15    2\n",
       "45          12   air     no   64    62    108    79     35    2\n",
       "46          12 train     no   44    34    370    90     35    2\n",
       "47          12   bus     no   53    28    415    91     35    2\n",
       "48          12   car    yes    0     6    250    44     35    2\n",
       "49          13   air     no   64    45    114    63     50    4\n",
       "50          13 train     no   44    24    378    81     50    4\n",
       "51          13   bus     no   53    19    423    83     50    4\n",
       "52          13   car    yes    0     5    240    41     50    4\n",
       "53          14   air     no   64    58     94    72     40    1\n",
       "54          14 train     no   44    31    360    85     40    1\n",
       "55          14   bus     no   53    25    405    86     40    1\n",
       "56          14   car    yes    0    15    285    58     40    1\n",
       "57          15   air     no   64    83    169   109     26    4\n",
       "58          15 train     no   44    70    948   214     26    4\n",
       "59          15   bus     no   53    47    938   189     26    4\n",
       "60          15   car    yes    0    17   1200   199     26    4\n",
       "61          16   air     no   69    60    127    73     26    1\n",
       "62          16 train    yes   20    19    325    55     26    1\n",
       "63          16   bus     no   35    25    435    72     26    1\n",
       "64          16   car     no    0    14    350    52     26    1\n",
       "65          17   air     no   69    61     74    69     26    1\n",
       "66          17 train    yes   15    38    255    66     26    1\n",
       "67          17   bus     no   35    26    389    68     26    1\n",
       "68          17   car     no    0    13    315    47     26    1\n",
       "69          18   air     no   69    67     86    76      6    1\n",
       "70          18 train    yes   20    21    300    54      6    1\n",
       "71          18   bus     no   35    19    399    63      6    1\n",
       "72          18   car     no    0    17    327    53      6    1\n",
       "73          19   air     no   69    59    148    75     20    1\n",
       "74          19 train    yes   45    18    305    51     20    1\n",
       "75          19   bus     no   35    14    456    63     20    1\n",
       "76          19   car     no    0    16    427    62     20    1\n",
       "77          20   air     no   64    58     93    72     72    2\n",
       "78          20 train    yes   10    28    305    75     72    2\n",
       "79          20   bus     no   53    25    346    78     72    2\n",
       "80          20   car     no    0     9    316    57     72    2\n",
       "81          21   air     no   69    61     73    69      6    1\n",
       "82          21 train    yes   20    21    305    54      6    1\n",
       "83          21   bus     no   35    15    395    58      6    1\n",
       "84          21   car     no    0    13    314    47      6    1\n",
       "85          22   air     no   64    62    235    98     10    2\n",
       "86          22 train    yes   45    45    465   116     10    2\n",
       "87          22   bus     no   53    17    623   111     10    2\n",
       "88          22   car     no    0    13    559    98     10    2\n",
       "89          23   air    yes   90   142    105   153     50    1\n",
       "90          23 train     no   34    71    596   136     50    1\n",
       "91          23   bus     no   35    32    590    96     50    1\n",
       "92          23   car     no    0    33    577    96     50    1\n",
       "93          24   air    yes   50   120    110   132     50    1\n",
       "94          24 train     no   34    70    596   135     50    1\n",
       "95          24   bus     no   35    31    590    95     50    1\n",
       "96          24   car     no    0    33    577    96     50    1\n",
       "97          25   air    yes   15    85     65    92     18    2\n",
       "98          25 train     no   34    15    361    55     18    2\n",
       "99          25   bus     no   35    12    406    56     18    2\n",
       "100         25   car     no    0     9    296    41     18    2\n",
       "101         26   air    yes   30    85    140   106     60    1\n",
       "102         26 train     no   44    90    928   231     60    1\n",
       "103         26   bus     no   53    45    918   185     60    1\n",
       "104         26   car     no    0    86    902   223     60    1\n",
       "105         27   air    yes   80    75    110    87     45    1\n",
       "106         27 train     no   34    70    638   140     45    1\n",
       "107         27   bus     no   35    31    632   100     45    1\n",
       "108         27   car     no    0    39    581   102     45    1\n",
       "109         28   air    yes   45    85    140   106     18    2\n",
       "110         28 train     no   44    39    664   139     18    2\n",
       "111         28   bus     no   53    35    658   135     18    2\n",
       " [ reached 'max' / getOption(\"max.print\") -- omitted 729 rows ]"
      ]
     },
     "execution_count": null,
     "metadata": {},
     "output_type": "execute_result"
    }
   ],
   "source": [
    "data(\"TravelMode\", package = \"AER\")\n",
    "TravelMode"
   ]
  },
  {
   "cell_type": "code",
   "execution_count": 86,
   "metadata": {
    "vscode": {
     "languageId": "r"
    }
   },
   "outputs": [
    {
     "data": {
      "text/plain": [
       "   individual  mode choice wait vcost travel gcost income size      time\n",
       "1           1   air     no   69    59    100    70    3.5    1  2.816667\n",
       "2           1 train     no   34    31    372    71    3.5    1  6.766667\n",
       "3           1   bus     no   35    25    417    70    3.5    1  7.533333\n",
       "4           1   car    yes    0    10    180    30    3.5    1  3.000000\n",
       "5           2   air     no   64    58     68    68    3.0    2  2.200000\n",
       "6           2 train     no   44    31    354    84    3.0    2  6.633333\n",
       "7           2   bus     no   53    25    399    85    3.0    2  7.533333\n",
       "8           2   car    yes    0    11    255    50    3.0    2  4.250000\n",
       "9           3   air     no   69   115    125   129    4.0    1  3.233333\n",
       "10          3 train     no   34    98    892   195    4.0    1 15.433333\n",
       "11          3   bus     no   35    53    882   149    4.0    1 15.283333\n",
       "12          3   car    yes    0    23    720   101    4.0    1 12.000000\n",
       "13          4   air     no   64    49     68    59    7.0    3  2.200000\n",
       "14          4 train     no   44    26    354    79    7.0    3  6.633333\n",
       "15          4   bus     no   53    21    399    81    7.0    3  7.533333\n",
       "16          4   car    yes    0     5    180    32    7.0    3  3.000000\n",
       "17          5   air     no   64    60    144    82    4.5    2  3.466667\n",
       "18          5 train     no   44    32    404    93    4.5    2  7.466667\n",
       "19          5   bus     no   53    26    449    94    4.5    2  8.366667\n",
       "20          5   car    yes    0     8    600    99    4.5    2 10.000000\n",
       "21          6   air     no   69    59    100    70    2.0    1  2.816667\n",
       "22          6 train    yes   40    20    345    57    2.0    1  6.416667\n",
       "23          6   bus     no   35    13    417    58    2.0    1  7.533333\n",
       "24          6   car     no    0    12    284    43    2.0    1  4.733333\n",
       "25          7   air    yes   45   148    115   160    4.5    1  2.666667\n",
       "26          7 train     no   34   111    945   213    4.5    1 16.316667\n",
       "27          7   bus     no   35    66    935   167    4.5    1 16.166667\n",
       "28          7   car     no    0    36    821   125    4.5    1 13.683333\n",
       "29          8   air     no   69   121    152   137    1.2    1  3.683333\n",
       "30          8 train     no   34    52    889   149    1.2    1 15.383333\n",
       "31          8   bus     no   35    50    879   146    1.2    1 15.233333\n",
       "32          8   car    yes    0    50    780   135    1.2    1 13.000000\n",
       "33          9   air     no   69    59    100    70    4.0    1  2.816667\n",
       "34          9 train     no   34    31    372    71    4.0    1  6.766667\n",
       "35          9   bus     no   35    25    417    70    4.0    1  7.533333\n",
       "36          9   car    yes    0    17    210    40    4.0    1  3.500000\n",
       "37         10   air     no   69    58     68    65    7.0    2  2.283333\n",
       "38         10 train     no   34    31    357    69    7.0    2  6.516667\n",
       "39         10   bus     no   35    25    402    68    7.0    2  7.283333\n",
       "40         10   car    yes    0     7    210    30    7.0    2  3.500000\n",
       "41         11   air     no   64    58     68    68    1.5    2  2.200000\n",
       "42         11 train     no   44    16    357    70    1.5    2  6.683333\n",
       "43         11   bus     no   53    13    402    73    1.5    2  7.583333\n",
       "44         11   car    yes    0     4    210    36    1.5    2  3.500000\n",
       "45         12   air     no   64    62    108    79    3.5    2  2.866667\n",
       "46         12 train     no   44    34    370    90    3.5    2  6.900000\n",
       "47         12   bus     no   53    28    415    91    3.5    2  7.800000\n",
       "48         12   car    yes    0     6    250    44    3.5    2  4.166667\n",
       "49         13   air     no   64    45    114    63    5.0    4  2.966667\n",
       "50         13 train     no   44    24    378    81    5.0    4  7.033333\n",
       "51         13   bus     no   53    19    423    83    5.0    4  7.933333\n",
       "52         13   car    yes    0     5    240    41    5.0    4  4.000000\n",
       "53         14   air     no   64    58     94    72    4.0    1  2.633333\n",
       "54         14 train     no   44    31    360    85    4.0    1  6.733333\n",
       "55         14   bus     no   53    25    405    86    4.0    1  7.633333\n",
       "56         14   car    yes    0    15    285    58    4.0    1  4.750000\n",
       "57         15   air     no   64    83    169   109    2.6    4  3.883333\n",
       "58         15 train     no   44    70    948   214    2.6    4 16.533333\n",
       "59         15   bus     no   53    47    938   189    2.6    4 16.516667\n",
       "60         15   car    yes    0    17   1200   199    2.6    4 20.000000\n",
       "61         16   air     no   69    60    127    73    2.6    1  3.266667\n",
       "62         16 train    yes   20    19    325    55    2.6    1  5.750000\n",
       "63         16   bus     no   35    25    435    72    2.6    1  7.833333\n",
       "64         16   car     no    0    14    350    52    2.6    1  5.833333\n",
       "65         17   air     no   69    61     74    69    2.6    1  2.383333\n",
       "66         17 train    yes   15    38    255    66    2.6    1  4.500000\n",
       "67         17   bus     no   35    26    389    68    2.6    1  7.066667\n",
       "68         17   car     no    0    13    315    47    2.6    1  5.250000\n",
       "69         18   air     no   69    67     86    76    0.6    1  2.583333\n",
       "70         18 train    yes   20    21    300    54    0.6    1  5.333333\n",
       "71         18   bus     no   35    19    399    63    0.6    1  7.233333\n",
       "72         18   car     no    0    17    327    53    0.6    1  5.450000\n",
       "73         19   air     no   69    59    148    75    2.0    1  3.616667\n",
       "74         19 train    yes   45    18    305    51    2.0    1  5.833333\n",
       "75         19   bus     no   35    14    456    63    2.0    1  8.183333\n",
       "76         19   car     no    0    16    427    62    2.0    1  7.116667\n",
       "77         20   air     no   64    58     93    72    7.2    2  2.616667\n",
       "78         20 train    yes   10    28    305    75    7.2    2  5.250000\n",
       "79         20   bus     no   53    25    346    78    7.2    2  6.650000\n",
       "80         20   car     no    0     9    316    57    7.2    2  5.266667\n",
       "81         21   air     no   69    61     73    69    0.6    1  2.366667\n",
       "82         21 train    yes   20    21    305    54    0.6    1  5.416667\n",
       "83         21   bus     no   35    15    395    58    0.6    1  7.166667\n",
       "        timeair incomeother\n",
       "1  2.816666....         3.5\n",
       "2             0         0.0\n",
       "3             0         0.0\n",
       "4             0         3.5\n",
       "5           2.2         3.0\n",
       "6             0         0.0\n",
       "7             0         0.0\n",
       "8             0         3.0\n",
       "9  3.233333....         4.0\n",
       "10            0         0.0\n",
       "11            0         0.0\n",
       "12            0         4.0\n",
       "13          2.2         7.0\n",
       "14            0         0.0\n",
       "15            0         0.0\n",
       "16            0         7.0\n",
       "17 3.466666....         4.5\n",
       "18            0         0.0\n",
       "19            0         0.0\n",
       "20            0         4.5\n",
       "21 2.816666....         2.0\n",
       "22            0         0.0\n",
       "23            0         0.0\n",
       "24            0         2.0\n",
       "25 2.666666....         4.5\n",
       "26            0         0.0\n",
       "27            0         0.0\n",
       "28            0         4.5\n",
       "29 3.683333....         1.2\n",
       "30            0         0.0\n",
       "31            0         0.0\n",
       "32            0         1.2\n",
       "33 2.816666....         4.0\n",
       "34            0         0.0\n",
       "35            0         0.0\n",
       "36            0         4.0\n",
       "37 2.283333....         7.0\n",
       "38            0         0.0\n",
       "39            0         0.0\n",
       "40            0         7.0\n",
       "41          2.2         1.5\n",
       "42            0         0.0\n",
       "43            0         0.0\n",
       "44            0         1.5\n",
       "45 2.866666....         3.5\n",
       "46            0         0.0\n",
       "47            0         0.0\n",
       "48            0         3.5\n",
       "49 2.966666....         5.0\n",
       "50            0         0.0\n",
       "51            0         0.0\n",
       "52            0         5.0\n",
       "53 2.633333....         4.0\n",
       "54            0         0.0\n",
       "55            0         0.0\n",
       "56            0         4.0\n",
       "57 3.883333....         2.6\n",
       "58            0         0.0\n",
       "59            0         0.0\n",
       "60            0         2.6\n",
       "61 3.266666....         2.6\n",
       "62            0         0.0\n",
       "63            0         0.0\n",
       "64            0         2.6\n",
       "65 2.383333....         2.6\n",
       "66            0         0.0\n",
       "67            0         0.0\n",
       "68            0         2.6\n",
       "69 2.583333....         0.6\n",
       "70            0         0.0\n",
       "71            0         0.0\n",
       "72            0         0.6\n",
       "73 3.616666....         2.0\n",
       "74            0         0.0\n",
       "75            0         0.0\n",
       "76            0         2.0\n",
       "77 2.616666....         7.2\n",
       "78            0         0.0\n",
       "79            0         0.0\n",
       "80            0         7.2\n",
       "81 2.366666....         0.6\n",
       "82            0         0.0\n",
       "83            0         0.0\n",
       " [ reached 'max' / getOption(\"max.print\") -- omitted 757 rows ]"
      ]
     },
     "execution_count": null,
     "metadata": {},
     "output_type": "execute_result"
    }
   ],
   "source": [
    "TravelMode$time <- with(TravelMode, travel + wait)/60\n",
    "TravelMode$timeair <- with(TravelMode, time * I(mode == \"air\"))\n",
    "TravelMode$income <- with(TravelMode, income / 10)\n",
    "# Hensher and Greene (2002), table 1 p.8-9 model 5\n",
    "TravelMode$incomeother <- with(TravelMode, ifelse(mode %in% c('air', 'car'), income, 0))\n",
    "TravelMode"
   ]
  },
  {
   "cell_type": "code",
   "execution_count": 88,
   "metadata": {
    "vscode": {
     "languageId": "r"
    }
   },
   "outputs": [
    {
     "data": {
      "text/plain": [
       "\n",
       "Call:\n",
       "mlogit(formula = choice ~ gcost + wait + incomeother, data = TravelMode, \n",
       "    nests = list(public = c(\"train\", \"bus\"), other = c(\"car\", \n",
       "        \"air\")))\n",
       "\n",
       "Frequencies of alternatives:choice\n",
       "    air   train     bus     car \n",
       "0.27619 0.30000 0.14286 0.28095 \n",
       "\n",
       "bfgs method\n",
       "12 iterations, 0h:0m:0s \n",
       "g'(-H)^-1g = 1.14E-07 \n",
       "gradient close to zero \n",
       "\n",
       "Coefficients :\n",
       "                    Estimate Std. Error z-value  Pr(>|z|)    \n",
       "(Intercept):train  0.0056402  0.6363849  0.0089 0.9929285    \n",
       "(Intercept):bus   -0.7735521  0.8089799 -0.9562 0.3389677    \n",
       "(Intercept):car   -6.1536851  1.1783823 -5.2221 1.769e-07 ***\n",
       "gcost             -0.0195488  0.0060331 -3.2402 0.0011943 ** \n",
       "wait              -0.1064623  0.0205635 -5.1773 2.252e-07 ***\n",
       "incomeother        0.4256608  0.1131906  3.7606 0.0001695 ***\n",
       "iv:public          0.9694958  0.3047966  3.1808 0.0014687 ** \n",
       "iv:other           1.7244022  0.5186970  3.3245 0.0008858 ***\n",
       "---\n",
       "Signif. codes:  0 ‘***’ 0.001 ‘**’ 0.01 ‘*’ 0.05 ‘.’ 0.1 ‘ ’ 1\n",
       "\n",
       "Log-Likelihood: -188.43\n",
       "McFadden R^2:  0.33594 \n",
       "Likelihood ratio test : chisq = 190.65 (p.value = < 2.22e-16)"
      ]
     },
     "execution_count": null,
     "metadata": {},
     "output_type": "execute_result"
    }
   ],
   "source": [
    "fit_nestlogit <- mlogit(choice ~ gcost + wait + incomeother, TravelMode,\n",
    "  nests = list(public = c('train', 'bus'), other = c('car','air')))\n",
    "\n",
    "summary(fit_nestlogit)"
   ]
  }
 ],
 "metadata": {
  "language_info": {
   "name": "plaintext"
  }
 },
 "nbformat": 4,
 "nbformat_minor": 2
}

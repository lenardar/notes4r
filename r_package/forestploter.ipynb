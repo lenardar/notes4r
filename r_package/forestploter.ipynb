{
 "cells": [
  {
   "cell_type": "markdown",
   "metadata": {},
   "source": [
    "# 前言"
   ]
  },
  {
   "cell_type": "markdown",
   "metadata": {},
   "source": [
    "学习R语言{forestploter}包绘制森林图。"
   ]
  },
  {
   "cell_type": "markdown",
   "metadata": {},
   "source": [
    "## 基本操作"
   ]
  },
  {
   "cell_type": "code",
   "execution_count": 1,
   "metadata": {
    "vscode": {
     "languageId": "r"
    }
   },
   "outputs": [
    {
     "name": "stderr",
     "output_type": "stream",
     "text": [
      "-- \u001b[1mAttaching core tidyverse packages\u001b[22m ------------------------ tidyverse 2.0.0 --\n",
      "\u001b[32mv\u001b[39m \u001b[34mdplyr    \u001b[39m 1.1.4     \u001b[32mv\u001b[39m \u001b[34mreadr    \u001b[39m 2.1.5\n",
      "\u001b[32mv\u001b[39m \u001b[34mforcats  \u001b[39m 1.0.0     \u001b[32mv\u001b[39m \u001b[34mstringr  \u001b[39m 1.5.1\n",
      "\u001b[32mv\u001b[39m \u001b[34mggplot2  \u001b[39m 3.5.1     \u001b[32mv\u001b[39m \u001b[34mtibble   \u001b[39m 3.2.1\n",
      "\u001b[32mv\u001b[39m \u001b[34mlubridate\u001b[39m 1.9.4     \u001b[32mv\u001b[39m \u001b[34mtidyr    \u001b[39m 1.3.1\n",
      "\u001b[32mv\u001b[39m \u001b[34mpurrr    \u001b[39m 1.0.2     \n",
      "-- \u001b[1mConflicts\u001b[22m ------------------------------------------ tidyverse_conflicts() --\n",
      "\u001b[31mx\u001b[39m \u001b[34mdplyr\u001b[39m::\u001b[32mfilter()\u001b[39m masks \u001b[34mstats\u001b[39m::filter()\n",
      "\u001b[31mx\u001b[39m \u001b[34mdplyr\u001b[39m::\u001b[32mlag()\u001b[39m    masks \u001b[34mstats\u001b[39m::lag()\n",
      "\u001b[36mi\u001b[39m Use the conflicted package (\u001b[3m\u001b[34m<http://conflicted.r-lib.org/>\u001b[39m\u001b[23m) to force all conflicts to become errors\n"
     ]
    }
   ],
   "source": [
    "library(tidyverse)"
   ]
  },
  {
   "cell_type": "code",
   "execution_count": 2,
   "metadata": {
    "vscode": {
     "languageId": "r"
    }
   },
   "outputs": [],
   "source": [
    "library(forestploter)"
   ]
  },
  {
   "cell_type": "code",
   "execution_count": 7,
   "metadata": {
    "vscode": {
     "languageId": "r"
    }
   },
   "outputs": [
    {
     "name": "stderr",
     "output_type": "stream",
     "text": [
      "\u001b[1mRows: \u001b[22m\u001b[34m3\u001b[39m \u001b[1mColumns: \u001b[22m\u001b[34m5\u001b[39m\n",
      "\u001b[36m--\u001b[39m \u001b[1mColumn specification\u001b[22m \u001b[36m--------------------------------------------------------\u001b[39m\n",
      "\u001b[1mDelimiter:\u001b[22m \",\"\n",
      "\u001b[31mchr\u001b[39m (2): Label, NMA HR\n",
      "\u001b[32mdbl\u001b[39m (3): HR, LCI, UCI\n",
      "\n",
      "\u001b[36mi\u001b[39m Use `spec()` to retrieve the full column specification for this data.\n",
      "\u001b[36mi\u001b[39m Specify the column types or set `show_col_types = FALSE` to quiet this message.\n"
     ]
    },
    {
     "data": {
      "text/html": [
       "<table class=\"dataframe\">\n",
       "<caption>A spec_tbl_df: 3 x 5</caption>\n",
       "<thead>\n",
       "\t<tr><th scope=col>Label</th><th scope=col>HR</th><th scope=col>LCI</th><th scope=col>UCI</th><th scope=col>NMA HR</th></tr>\n",
       "\t<tr><th scope=col>&lt;chr&gt;</th><th scope=col>&lt;dbl&gt;</th><th scope=col>&lt;dbl&gt;</th><th scope=col>&lt;dbl&gt;</th><th scope=col>&lt;chr&gt;</th></tr>\n",
       "</thead>\n",
       "<tbody>\n",
       "\t<tr><td>Datopotamab deruxtecan  vs. IC/PC                </td><td>0.63</td><td>0.52</td><td>0.76</td><td>0.63 (0.52, 0.76)</td></tr>\n",
       "\t<tr><td>Datopotamab deruxtecan vs. Sacituzumab govitecan </td><td>0.96</td><td>0.75</td><td>1.24</td><td>0.96 (0.75, 1.24)</td></tr>\n",
       "\t<tr><td>Datopotamab deruxtecan vs. Trastuzumab deruxtecan</td><td>1.23</td><td>0.91</td><td>1.66</td><td>1.23 (0.91, 1.66)</td></tr>\n",
       "</tbody>\n",
       "</table>\n"
      ],
      "text/latex": [
       "A spec\\_tbl\\_df: 3 x 5\n",
       "\\begin{tabular}{lllll}\n",
       " Label & HR & LCI & UCI & NMA HR\\\\\n",
       " <chr> & <dbl> & <dbl> & <dbl> & <chr>\\\\\n",
       "\\hline\n",
       "\t Datopotamab deruxtecan  vs. IC/PC                 & 0.63 & 0.52 & 0.76 & 0.63 (0.52, 0.76)\\\\\n",
       "\t Datopotamab deruxtecan vs. Sacituzumab govitecan  & 0.96 & 0.75 & 1.24 & 0.96 (0.75, 1.24)\\\\\n",
       "\t Datopotamab deruxtecan vs. Trastuzumab deruxtecan & 1.23 & 0.91 & 1.66 & 1.23 (0.91, 1.66)\\\\\n",
       "\\end{tabular}\n"
      ],
      "text/markdown": [
       "\n",
       "A spec_tbl_df: 3 x 5\n",
       "\n",
       "| Label &lt;chr&gt; | HR &lt;dbl&gt; | LCI &lt;dbl&gt; | UCI &lt;dbl&gt; | NMA HR &lt;chr&gt; |\n",
       "|---|---|---|---|---|\n",
       "| Datopotamab deruxtecan  vs. IC/PC                 | 0.63 | 0.52 | 0.76 | 0.63 (0.52, 0.76) |\n",
       "| Datopotamab deruxtecan vs. Sacituzumab govitecan  | 0.96 | 0.75 | 1.24 | 0.96 (0.75, 1.24) |\n",
       "| Datopotamab deruxtecan vs. Trastuzumab deruxtecan | 1.23 | 0.91 | 1.66 | 1.23 (0.91, 1.66) |\n",
       "\n"
      ],
      "text/plain": [
       "  Label                                             HR   LCI  UCI \n",
       "1 Datopotamab deruxtecan  vs. IC/PC                 0.63 0.52 0.76\n",
       "2 Datopotamab deruxtecan vs. Sacituzumab govitecan  0.96 0.75 1.24\n",
       "3 Datopotamab deruxtecan vs. Trastuzumab deruxtecan 1.23 0.91 1.66\n",
       "  NMA HR           \n",
       "1 0.63 (0.52, 0.76)\n",
       "2 0.96 (0.75, 1.24)\n",
       "3 1.23 (0.91, 1.66)"
      ]
     },
     "metadata": {},
     "output_type": "display_data"
    }
   ],
   "source": [
    "# 导入数据集\n",
    "data_simple <- read_csv(\"./data/PFS_forest_simple.csv\")\n",
    "\n",
    "data_simple"
   ]
  },
  {
   "cell_type": "code",
   "execution_count": 10,
   "metadata": {
    "vscode": {
     "languageId": "r"
    }
   },
   "outputs": [
    {
     "data": {
      "text/html": [
       "<table class=\"dataframe\">\n",
       "<caption>A spec_tbl_df: 3 x 8</caption>\n",
       "<thead>\n",
       "\t<tr><th scope=col>Label</th><th scope=col>HR</th><th scope=col>LCI</th><th scope=col>UCI</th><th scope=col>NMA HR</th><th scope=col> </th><th scope=col>  </th><th scope=col>NMA Hazard Ratio (95% CI)</th></tr>\n",
       "\t<tr><th scope=col>&lt;chr&gt;</th><th scope=col>&lt;dbl&gt;</th><th scope=col>&lt;dbl&gt;</th><th scope=col>&lt;dbl&gt;</th><th scope=col>&lt;chr&gt;</th><th scope=col>&lt;chr&gt;</th><th scope=col>&lt;chr&gt;</th><th scope=col>&lt;chr&gt;</th></tr>\n",
       "</thead>\n",
       "<tbody>\n",
       "\t<tr><td>Datopotamab deruxtecan  vs. IC/PC                </td><td>0.63</td><td>0.52</td><td>0.76</td><td>0.63 (0.52, 0.76)</td><td>                                                                               </td><td>                                       </td><td>                                                                               </td></tr>\n",
       "\t<tr><td>Datopotamab deruxtecan vs. Sacituzumab govitecan </td><td>0.96</td><td>0.75</td><td>1.24</td><td>0.96 (0.75, 1.24)</td><td>                                                                               </td><td>                                       </td><td>                                                                               </td></tr>\n",
       "\t<tr><td>Datopotamab deruxtecan vs. Trastuzumab deruxtecan</td><td>1.23</td><td>0.91</td><td>1.66</td><td>1.23 (0.91, 1.66)</td><td>                                                                               </td><td>                                       </td><td>                                                                               </td></tr>\n",
       "</tbody>\n",
       "</table>\n"
      ],
      "text/latex": [
       "A spec\\_tbl\\_df: 3 x 8\n",
       "\\begin{tabular}{llllllll}\n",
       " Label & HR & LCI & UCI & NMA HR &   &    & NMA Hazard Ratio (95\\% CI)\\\\\n",
       " <chr> & <dbl> & <dbl> & <dbl> & <chr> & <chr> & <chr> & <chr>\\\\\n",
       "\\hline\n",
       "\t Datopotamab deruxtecan  vs. IC/PC                 & 0.63 & 0.52 & 0.76 & 0.63 (0.52, 0.76) &                                                                                 &                                         &                                                                                \\\\\n",
       "\t Datopotamab deruxtecan vs. Sacituzumab govitecan  & 0.96 & 0.75 & 1.24 & 0.96 (0.75, 1.24) &                                                                                 &                                         &                                                                                \\\\\n",
       "\t Datopotamab deruxtecan vs. Trastuzumab deruxtecan & 1.23 & 0.91 & 1.66 & 1.23 (0.91, 1.66) &                                                                                 &                                         &                                                                                \\\\\n",
       "\\end{tabular}\n"
      ],
      "text/markdown": [
       "\n",
       "A spec_tbl_df: 3 x 8\n",
       "\n",
       "| Label &lt;chr&gt; | HR &lt;dbl&gt; | LCI &lt;dbl&gt; | UCI &lt;dbl&gt; | NMA HR &lt;chr&gt; | <!----> &lt;chr&gt; | <!----> &lt;chr&gt; | NMA Hazard Ratio (95% CI) &lt;chr&gt; |\n",
       "|---|---|---|---|---|---|---|---|\n",
       "| Datopotamab deruxtecan  vs. IC/PC                 | 0.63 | 0.52 | 0.76 | 0.63 (0.52, 0.76) | <!----> | <!----> | <!----> |\n",
       "| Datopotamab deruxtecan vs. Sacituzumab govitecan  | 0.96 | 0.75 | 1.24 | 0.96 (0.75, 1.24) | <!----> | <!----> | <!----> |\n",
       "| Datopotamab deruxtecan vs. Trastuzumab deruxtecan | 1.23 | 0.91 | 1.66 | 1.23 (0.91, 1.66) | <!----> | <!----> | <!----> |\n",
       "\n"
      ],
      "text/plain": [
       "  Label                                             HR   LCI  UCI \n",
       "1 Datopotamab deruxtecan  vs. IC/PC                 0.63 0.52 0.76\n",
       "2 Datopotamab deruxtecan vs. Sacituzumab govitecan  0.96 0.75 1.24\n",
       "3 Datopotamab deruxtecan vs. Trastuzumab deruxtecan 1.23 0.91 1.66\n",
       "  NMA HR           \n",
       "1 0.63 (0.52, 0.76)\n",
       "2 0.96 (0.75, 1.24)\n",
       "3 1.23 (0.91, 1.66)\n",
       "                                                                                 \n",
       "1                                                                                \n",
       "2                                                                                \n",
       "3                                                                                \n",
       "                                         \n",
       "1                                        \n",
       "2                                        \n",
       "3                                        \n",
       "  NMA Hazard Ratio (95% CI)                                                      \n",
       "1                                                                                \n",
       "2                                                                                \n",
       "3                                                                                "
      ]
     },
     "metadata": {},
     "output_type": "display_data"
    }
   ],
   "source": [
    "# 合成HR (LCI, UCI)\n",
    "data_simple$`NMA Hazard Ratio (95% CI)` <-\n",
    "  paste(rep(\" \", 40), collapse = \" \")  # 生成空白占位符\n",
    "\n",
    "data_simple"
   ]
  },
  {
   "cell_type": "code",
   "execution_count": 11,
   "metadata": {
    "vscode": {
     "languageId": "r"
    }
   },
   "outputs": [
    {
     "data": {
      "text/html": [
       "<table class=\"dataframe\">\n",
       "<caption>A spec_tbl_df: 3 x 8</caption>\n",
       "<thead>\n",
       "\t<tr><th scope=col>Label</th><th scope=col>HR</th><th scope=col>LCI</th><th scope=col>UCI</th><th scope=col>NMA HR</th><th scope=col> </th><th scope=col>  </th><th scope=col>NMA Hazard Ratio (95% CI)</th></tr>\n",
       "\t<tr><th scope=col>&lt;chr&gt;</th><th scope=col>&lt;dbl&gt;</th><th scope=col>&lt;dbl&gt;</th><th scope=col>&lt;dbl&gt;</th><th scope=col>&lt;chr&gt;</th><th scope=col>&lt;chr&gt;</th><th scope=col>&lt;chr&gt;</th><th scope=col>&lt;chr&gt;</th></tr>\n",
       "</thead>\n",
       "<tbody>\n",
       "\t<tr><td>Datopotamab deruxtecan  vs. IC/PC                </td><td>0.63</td><td>0.52</td><td>0.76</td><td>0.63 (0.52, 0.76)</td><td>                                                                               </td><td>                                       </td><td>                                                                               </td></tr>\n",
       "\t<tr><td>Datopotamab deruxtecan vs. Sacituzumab govitecan </td><td>0.96</td><td>0.75</td><td>1.24</td><td>0.96 (0.75, 1.24)</td><td>                                                                               </td><td>                                       </td><td>                                                                               </td></tr>\n",
       "\t<tr><td>Datopotamab deruxtecan vs. Trastuzumab deruxtecan</td><td>1.23</td><td>0.91</td><td>1.66</td><td>1.23 (0.91, 1.66)</td><td>                                                                               </td><td>                                       </td><td>                                                                               </td></tr>\n",
       "</tbody>\n",
       "</table>\n"
      ],
      "text/latex": [
       "A spec\\_tbl\\_df: 3 x 8\n",
       "\\begin{tabular}{llllllll}\n",
       " Label & HR & LCI & UCI & NMA HR &   &    & NMA Hazard Ratio (95\\% CI)\\\\\n",
       " <chr> & <dbl> & <dbl> & <dbl> & <chr> & <chr> & <chr> & <chr>\\\\\n",
       "\\hline\n",
       "\t Datopotamab deruxtecan  vs. IC/PC                 & 0.63 & 0.52 & 0.76 & 0.63 (0.52, 0.76) &                                                                                 &                                         &                                                                                \\\\\n",
       "\t Datopotamab deruxtecan vs. Sacituzumab govitecan  & 0.96 & 0.75 & 1.24 & 0.96 (0.75, 1.24) &                                                                                 &                                         &                                                                                \\\\\n",
       "\t Datopotamab deruxtecan vs. Trastuzumab deruxtecan & 1.23 & 0.91 & 1.66 & 1.23 (0.91, 1.66) &                                                                                 &                                         &                                                                                \\\\\n",
       "\\end{tabular}\n"
      ],
      "text/markdown": [
       "\n",
       "A spec_tbl_df: 3 x 8\n",
       "\n",
       "| Label &lt;chr&gt; | HR &lt;dbl&gt; | LCI &lt;dbl&gt; | UCI &lt;dbl&gt; | NMA HR &lt;chr&gt; | <!----> &lt;chr&gt; | <!----> &lt;chr&gt; | NMA Hazard Ratio (95% CI) &lt;chr&gt; |\n",
       "|---|---|---|---|---|---|---|---|\n",
       "| Datopotamab deruxtecan  vs. IC/PC                 | 0.63 | 0.52 | 0.76 | 0.63 (0.52, 0.76) | <!----> | <!----> | <!----> |\n",
       "| Datopotamab deruxtecan vs. Sacituzumab govitecan  | 0.96 | 0.75 | 1.24 | 0.96 (0.75, 1.24) | <!----> | <!----> | <!----> |\n",
       "| Datopotamab deruxtecan vs. Trastuzumab deruxtecan | 1.23 | 0.91 | 1.66 | 1.23 (0.91, 1.66) | <!----> | <!----> | <!----> |\n",
       "\n"
      ],
      "text/plain": [
       "  Label                                             HR   LCI  UCI \n",
       "1 Datopotamab deruxtecan  vs. IC/PC                 0.63 0.52 0.76\n",
       "2 Datopotamab deruxtecan vs. Sacituzumab govitecan  0.96 0.75 1.24\n",
       "3 Datopotamab deruxtecan vs. Trastuzumab deruxtecan 1.23 0.91 1.66\n",
       "  NMA HR           \n",
       "1 0.63 (0.52, 0.76)\n",
       "2 0.96 (0.75, 1.24)\n",
       "3 1.23 (0.91, 1.66)\n",
       "                                                                                 \n",
       "1                                                                                \n",
       "2                                                                                \n",
       "3                                                                                \n",
       "                                         \n",
       "1                                        \n",
       "2                                        \n",
       "3                                        \n",
       "  NMA Hazard Ratio (95% CI)                                                      \n",
       "1                                                                                \n",
       "2                                                                                \n",
       "3                                                                                "
      ]
     },
     "metadata": {},
     "output_type": "display_data"
    }
   ],
   "source": [
    "# 创建两列空格命名的空白列\n",
    "data_simple$` ` <-\n",
    "  paste(rep(\" \", 40), collapse = \" \")\n",
    "data_simple$`  ` <-\n",
    "  paste(rep(\" \", 20), collapse = \" \")\n",
    "\n",
    "data_simple"
   ]
  },
  {
   "cell_type": "code",
   "execution_count": 14,
   "metadata": {
    "vscode": {
     "languageId": "r"
    }
   },
   "outputs": [
    {
     "data": {
      "image/png": "[encoded data removed]",
      "text/plain": [
       "plot without title"
      ]
     },
     "metadata": {
      "image/png": {
       "height": 420,
       "width": 420
      }
     },
     "output_type": "display_data"
    }
   ],
   "source": [
    "forest <- forest(\n",
    "  data_simple[, c(\"Label\", \" \", \"NMA HR\", \"  \", \"NMA Hazard Ratio (95% CI)\")],  # 选择列\n",
    "  est = data_simple$HR,                # 效应量列\n",
    "  lower = data_simple$LCI,           # CI下限列\n",
    "  upper = data_simple$UCI,           # CI上限列\n",
    "  ci_column = 5,                # 空白列的位置（第3列绘制CI条）\n",
    "  ref_line = 1,                 # 参考线（HR=1）\n",
    "  xlim = c(0.5, 2.0),           # X轴范围\n",
    "  ticks_at = c(0.5, 1.0, 2.0),  # X轴刻度\n",
    ") \n",
    "\n",
    "forest"
   ]
  }
 ],
 "metadata": {
  "kernelspec": {
   "display_name": "R",
   "language": "R",
   "name": "ir"
  },
  "language_info": {
   "codemirror_mode": "r",
   "file_extension": ".r",
   "mimetype": "text/x-r-source",
   "name": "R",
   "pygments_lexer": "r",
   "version": "4.4.2"
  }
 },
 "nbformat": 4,
 "nbformat_minor": 2
}

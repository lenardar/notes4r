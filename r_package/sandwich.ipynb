{
 "cells": [
  {
   "cell_type": "markdown",
   "id": "4e75fb95",
   "metadata": {},
   "source": [
    "学习R语言{sandwich}包"
   ]
  },
  {
   "cell_type": "markdown",
   "id": "3a8e0bae",
   "metadata": {},
   "source": [
    "接着这个包学习各种标准误。"
   ]
  },
  {
   "cell_type": "markdown",
   "id": "f88512d7",
   "metadata": {},
   "source": [
    "# 普通标准误"
   ]
  },
  {
   "cell_type": "markdown",
   "id": "338a6952",
   "metadata": {},
   "source": [
    "先学一下一下经典标准误，公式为$$s^2(X'X)^{-1}$$"
   ]
  },
  {
   "cell_type": "code",
   "execution_count": 1,
   "id": "64747073",
   "metadata": {
    "vscode": {
     "languageId": "r"
    }
   },
   "outputs": [
    {
     "data": {
      "text/html": [
       "<table class=\"dataframe\">\n",
       "<caption>A tibble: 3 x 5</caption>\n",
       "<thead>\n",
       "\t<tr><th scope=col>term</th><th scope=col>estimate</th><th scope=col>std.error</th><th scope=col>statistic</th><th scope=col>p.value</th></tr>\n",
       "\t<tr><th scope=col>&lt;chr&gt;</th><th scope=col>&lt;dbl&gt;</th><th scope=col>&lt;dbl&gt;</th><th scope=col>&lt;dbl&gt;</th><th scope=col>&lt;dbl&gt;</th></tr>\n",
       "</thead>\n",
       "<tbody>\n",
       "\t<tr><td>(Intercept)</td><td>37.22727012</td><td>1.59878754</td><td>23.284689</td><td>2.565459e-20</td></tr>\n",
       "\t<tr><td>wt         </td><td>-3.87783074</td><td>0.63273349</td><td>-6.128695</td><td>1.119647e-06</td></tr>\n",
       "\t<tr><td>hp         </td><td>-0.03177295</td><td>0.00902971</td><td>-3.518712</td><td>1.451229e-03</td></tr>\n",
       "</tbody>\n",
       "</table>\n"
      ],
      "text/latex": [
       "A tibble: 3 x 5\n",
       "\\begin{tabular}{lllll}\n",
       " term & estimate & std.error & statistic & p.value\\\\\n",
       " <chr> & <dbl> & <dbl> & <dbl> & <dbl>\\\\\n",
       "\\hline\n",
       "\t (Intercept) & 37.22727012 & 1.59878754 & 23.284689 & 2.565459e-20\\\\\n",
       "\t wt          & -3.87783074 & 0.63273349 & -6.128695 & 1.119647e-06\\\\\n",
       "\t hp          & -0.03177295 & 0.00902971 & -3.518712 & 1.451229e-03\\\\\n",
       "\\end{tabular}\n"
      ],
      "text/markdown": [
       "\n",
       "A tibble: 3 x 5\n",
       "\n",
       "| term &lt;chr&gt; | estimate &lt;dbl&gt; | std.error &lt;dbl&gt; | statistic &lt;dbl&gt; | p.value &lt;dbl&gt; |\n",
       "|---|---|---|---|---|\n",
       "| (Intercept) | 37.22727012 | 1.59878754 | 23.284689 | 2.565459e-20 |\n",
       "| wt          | -3.87783074 | 0.63273349 | -6.128695 | 1.119647e-06 |\n",
       "| hp          | -0.03177295 | 0.00902971 | -3.518712 | 1.451229e-03 |\n",
       "\n"
      ],
      "text/plain": [
       "  term        estimate    std.error  statistic p.value     \n",
       "1 (Intercept) 37.22727012 1.59878754 23.284689 2.565459e-20\n",
       "2 wt          -3.87783074 0.63273349 -6.128695 1.119647e-06\n",
       "3 hp          -0.03177295 0.00902971 -3.518712 1.451229e-03"
      ]
     },
     "metadata": {},
     "output_type": "display_data"
    }
   ],
   "source": [
    "# 先做一下普通回归，看下R的标准误\n",
    "fit <- lm(mpg ~ wt + hp, data = mtcars)\n",
    "library(broom)\n",
    "tidy(fit)"
   ]
  },
  {
   "cell_type": "markdown",
   "id": "3ed50257",
   "metadata": {},
   "source": [
    "复现一下标准误，先计算样本方差，注意分母部分：\n",
    "$$\\frac{e^2}{n - K}$$"
   ]
  },
  {
   "cell_type": "code",
   "execution_count": 3,
   "id": "7ac64de6",
   "metadata": {
    "vscode": {
     "languageId": "r"
    }
   },
   "outputs": [
    {
     "data": {
      "text/html": [
       "6.72578464625746"
      ],
      "text/latex": [
       "6.72578464625746"
      ],
      "text/markdown": [
       "6.72578464625746"
      ],
      "text/plain": [
       "[1] 6.725785"
      ]
     },
     "metadata": {},
     "output_type": "display_data"
    }
   ],
   "source": [
    "# 样本方差\n",
    "s2 <- sum(fit$residuals^2) / (length(fit$residuals) - length(fit$coefficients))\n",
    "s2"
   ]
  },
  {
   "cell_type": "markdown",
   "id": "073ed2eb",
   "metadata": {},
   "source": [
    "计算协方差矩阵："
   ]
  },
  {
   "cell_type": "code",
   "execution_count": 5,
   "id": "fd7a1808",
   "metadata": {
    "vscode": {
     "languageId": "r"
    }
   },
   "outputs": [
    {
     "data": {
      "text/html": [
       "<table class=\"dataframe\">\n",
       "<caption>A matrix: 3 x 3 of type dbl</caption>\n",
       "<thead>\n",
       "\t<tr><th></th><th scope=col>1</th><th scope=col>wt</th><th scope=col>hp</th></tr>\n",
       "</thead>\n",
       "<tbody>\n",
       "\t<tr><th scope=row>1</th><td> 2.5561215917</td><td>-0.73594515</td><td> 1.484701e-04</td></tr>\n",
       "\t<tr><th scope=row>wt</th><td>-0.7359451464</td><td> 0.40035167</td><td>-3.763690e-03</td></tr>\n",
       "\t<tr><th scope=row>hp</th><td> 0.0001484701</td><td>-0.00376369</td><td> 8.153566e-05</td></tr>\n",
       "</tbody>\n",
       "</table>\n"
      ],
      "text/latex": [
       "A matrix: 3 x 3 of type dbl\n",
       "\\begin{tabular}{r|lll}\n",
       "  & 1 & wt & hp\\\\\n",
       "\\hline\n",
       "\t1 &  2.5561215917 & -0.73594515 &  1.484701e-04\\\\\n",
       "\twt & -0.7359451464 &  0.40035167 & -3.763690e-03\\\\\n",
       "\thp &  0.0001484701 & -0.00376369 &  8.153566e-05\\\\\n",
       "\\end{tabular}\n"
      ],
      "text/markdown": [
       "\n",
       "A matrix: 3 x 3 of type dbl\n",
       "\n",
       "| <!--/--> | 1 | wt | hp |\n",
       "|---|---|---|---|\n",
       "| 1 |  2.5561215917 | -0.73594515 |  1.484701e-04 |\n",
       "| wt | -0.7359451464 |  0.40035167 | -3.763690e-03 |\n",
       "| hp |  0.0001484701 | -0.00376369 |  8.153566e-05 |\n",
       "\n"
      ],
      "text/plain": [
       "   1             wt          hp           \n",
       "1   2.5561215917 -0.73594515  1.484701e-04\n",
       "wt -0.7359451464  0.40035167 -3.763690e-03\n",
       "hp  0.0001484701 -0.00376369  8.153566e-05"
      ]
     },
     "metadata": {},
     "output_type": "display_data"
    }
   ],
   "source": [
    "# 计算协方差矩阵\n",
    "X <- mtcars[, c(\"wt\", \"hp\")]\n",
    "X <- cbind(1, X)  # 添加截距项\n",
    "X <- as.matrix(X)\n",
    "cov_matrix <- s2 * solve(t(X) %*% X)\n",
    "cov_matrix"
   ]
  },
  {
   "cell_type": "markdown",
   "id": "91347c29",
   "metadata": {},
   "source": [
    "和R函数结果比较一下："
   ]
  },
  {
   "cell_type": "code",
   "execution_count": 6,
   "id": "0b224879",
   "metadata": {
    "vscode": {
     "languageId": "r"
    }
   },
   "outputs": [
    {
     "data": {
      "text/html": [
       "<table class=\"dataframe\">\n",
       "<caption>A matrix: 3 x 3 of type dbl</caption>\n",
       "<thead>\n",
       "\t<tr><th></th><th scope=col>(Intercept)</th><th scope=col>wt</th><th scope=col>hp</th></tr>\n",
       "</thead>\n",
       "<tbody>\n",
       "\t<tr><th scope=row>(Intercept)</th><td> 2.5561215917</td><td>-0.73594515</td><td> 1.484701e-04</td></tr>\n",
       "\t<tr><th scope=row>wt</th><td>-0.7359451464</td><td> 0.40035167</td><td>-3.763690e-03</td></tr>\n",
       "\t<tr><th scope=row>hp</th><td> 0.0001484701</td><td>-0.00376369</td><td> 8.153566e-05</td></tr>\n",
       "</tbody>\n",
       "</table>\n"
      ],
      "text/latex": [
       "A matrix: 3 x 3 of type dbl\n",
       "\\begin{tabular}{r|lll}\n",
       "  & (Intercept) & wt & hp\\\\\n",
       "\\hline\n",
       "\t(Intercept) &  2.5561215917 & -0.73594515 &  1.484701e-04\\\\\n",
       "\twt & -0.7359451464 &  0.40035167 & -3.763690e-03\\\\\n",
       "\thp &  0.0001484701 & -0.00376369 &  8.153566e-05\\\\\n",
       "\\end{tabular}\n"
      ],
      "text/markdown": [
       "\n",
       "A matrix: 3 x 3 of type dbl\n",
       "\n",
       "| <!--/--> | (Intercept) | wt | hp |\n",
       "|---|---|---|---|\n",
       "| (Intercept) |  2.5561215917 | -0.73594515 |  1.484701e-04 |\n",
       "| wt | -0.7359451464 |  0.40035167 | -3.763690e-03 |\n",
       "| hp |  0.0001484701 | -0.00376369 |  8.153566e-05 |\n",
       "\n"
      ],
      "text/plain": [
       "            (Intercept)   wt          hp           \n",
       "(Intercept)  2.5561215917 -0.73594515  1.484701e-04\n",
       "wt          -0.7359451464  0.40035167 -3.763690e-03\n",
       "hp           0.0001484701 -0.00376369  8.153566e-05"
      ]
     },
     "metadata": {},
     "output_type": "display_data"
    }
   ],
   "source": [
    "vcov(fit)"
   ]
  },
  {
   "cell_type": "markdown",
   "id": "21307f6c",
   "metadata": {},
   "source": [
    "我们使用标准误是协方差矩阵对角线元素的平方根："
   ]
  },
  {
   "cell_type": "code",
   "execution_count": 18,
   "id": "894e93cf",
   "metadata": {
    "vscode": {
     "languageId": "r"
    }
   },
   "outputs": [
    {
     "data": {
      "text/html": [
       "<style>\n",
       ".dl-inline {width: auto; margin:0; padding: 0}\n",
       ".dl-inline>dt, .dl-inline>dd {float: none; width: auto; display: inline-block}\n",
       ".dl-inline>dt::after {content: \":\\0020\"; padding-right: .5ex}\n",
       ".dl-inline>dt:not(:first-of-type) {padding-left: .5ex}\n",
       "</style><dl class=dl-inline><dt>1</dt><dd>1.59878753799939</dd><dt>wt</dt><dd>0.632733494377391</dd><dt>hp</dt><dd>0.0090297096758557</dd></dl>\n"
      ],
      "text/latex": [
       "\\begin{description*}\n",
       "\\item[1] 1.59878753799939\n",
       "\\item[wt] 0.632733494377391\n",
       "\\item[hp] 0.0090297096758557\n",
       "\\end{description*}\n"
      ],
      "text/markdown": [
       "1\n",
       ":   1.59878753799939wt\n",
       ":   0.632733494377391hp\n",
       ":   0.0090297096758557\n",
       "\n"
      ],
      "text/plain": [
       "         1         wt         hp \n",
       "1.59878754 0.63273349 0.00902971 "
      ]
     },
     "metadata": {},
     "output_type": "display_data"
    }
   ],
   "source": [
    "# 提取对角线元素\n",
    "sqrt(diag(cov_matrix))"
   ]
  },
  {
   "cell_type": "markdown",
   "id": "fd45292d",
   "metadata": {},
   "source": [
    "完美，结果和`lm`的结果一模一样。"
   ]
  },
  {
   "cell_type": "markdown",
   "id": "e4c617ba",
   "metadata": {},
   "source": [
    "# 异方差稳健标准误"
   ]
  },
  {
   "cell_type": "code",
   "execution_count": 19,
   "id": "c29ecf95",
   "metadata": {
    "vscode": {
     "languageId": "r"
    }
   },
   "outputs": [
    {
     "data": {
      "text/plain": [
       "\n",
       "t test of coefficients:\n",
       "\n",
       "              Estimate Std. Error t value  Pr(>|t|)    \n",
       "(Intercept) 37.2272701  2.0367350 18.2779 < 2.2e-16 ***\n",
       "wt          -3.8778307  0.6512038 -5.9549 1.803e-06 ***\n",
       "hp          -0.0317729  0.0069814 -4.5511 8.815e-05 ***\n",
       "---\n",
       "Signif. codes:  0 '***' 0.001 '**' 0.01 '*' 0.05 '.' 0.1 ' ' 1\n"
      ]
     },
     "metadata": {},
     "output_type": "display_data"
    }
   ],
   "source": [
    "library(sandwich)\n",
    "library(lmtest)\n",
    "\n",
    "fit <- lm(mpg ~ wt + hp, data = mtcars)\n",
    "\n",
    "# 计算稳健标准误\n",
    "coeftest(fit, vcov = vcovHC(fit, type = \"HC1\"))"
   ]
  },
  {
   "cell_type": "markdown",
   "id": "18c60941",
   "metadata": {},
   "source": [
    "# 刀切法"
   ]
  },
  {
   "cell_type": "code",
   "execution_count": null,
   "id": "301f35a1",
   "metadata": {
    "vscode": {
     "languageId": "r"
    }
   },
   "outputs": [
    {
     "data": {
      "text/html": [
       "<style>\n",
       ".list-inline {list-style: none; margin:0; padding: 0}\n",
       ".list-inline>li {display: inline-block}\n",
       ".list-inline>li:not(:last-child)::after {content: \"\\00b7\"; padding: 0 .5ex}\n",
       "</style>\n",
       "<ol class=list-inline><li>177.446131081216</li><li>134.864814660289</li><li>116.650563520366</li></ol>\n"
      ],
      "text/latex": [
       "\\begin{enumerate*}\n",
       "\\item 177.446131081216\n",
       "\\item 134.864814660289\n",
       "\\item 116.650563520366\n",
       "\\end{enumerate*}\n"
      ],
      "text/markdown": [
       "1. 177.446131081216\n",
       "2. 134.864814660289\n",
       "3. 116.650563520366\n",
       "\n",
       "\n"
      ],
      "text/plain": [
       "[1] 177.4461 134.8648 116.6506"
      ]
     },
     "metadata": {},
     "output_type": "display_data"
    }
   ],
   "source": [
    "jackknife_lm <- function(formula, data) {\n",
    "  n <- nrow(data)\n",
    "  coef_i <- matrix(NA, n, length(coef(lm(formula, data = data))))\n",
    "  \n",
    "  for (i in 1:n) {\n",
    "    data_i <- data[-i, ]\n",
    "    fit_i <- lm(formula, data = data_i)\n",
    "    coef_i[i, ] <- coef(fit_i)\n",
    "  }\n",
    "\n",
    "  coef_bar <- colMeans(coef_i)\n",
    "  se_jack <- sqrt((n - 1) / n * colSums((coef_i - coef_bar)^2))\n",
    "\n",
    "  return(se_jack)\n",
    "}\n",
    "\n",
    "# 示例\n",
    "data(mtcars)\n",
    "jackknife_lm(mpg ~ wt + hp, data = mtcars)"
   ]
  },
  {
   "cell_type": "markdown",
   "id": "2fb47e59",
   "metadata": {},
   "source": [
    "# 异方差自相关稳健标准误"
   ]
  },
  {
   "cell_type": "code",
   "execution_count": 3,
   "id": "694e419b",
   "metadata": {
    "vscode": {
     "languageId": "r"
    }
   },
   "outputs": [
    {
     "data": {
      "text/plain": [
       "\n",
       "t test of coefficients:\n",
       "\n",
       "              Estimate Std. Error t value  Pr(>|t|)    \n",
       "(Intercept) 37.2272701  1.8705542 19.9017 < 2.2e-16 ***\n",
       "wt          -3.8778307  0.6092956 -6.3644 5.890e-07 ***\n",
       "hp          -0.0317729  0.0069295 -4.5852 8.022e-05 ***\n",
       "---\n",
       "Signif. codes:  0 '***' 0.001 '**' 0.01 '*' 0.05 '.' 0.1 ' ' 1\n"
      ]
     },
     "metadata": {},
     "output_type": "display_data"
    }
   ],
   "source": [
    "# 测试异方差自相关稳健标准误\n",
    "library(sandwich)\n",
    "library(lmtest)\n",
    "fit <- lm(mpg ~ wt + hp, data = mtcars)\n",
    "coeftest(fit, vcov = vcovHAC(fit))"
   ]
  },
  {
   "cell_type": "markdown",
   "id": "20cf2ad9",
   "metadata": {},
   "source": [
    "# 聚类数据"
   ]
  },
  {
   "cell_type": "markdown",
   "id": "a8c20137",
   "metadata": {},
   "source": [
    "## 聚类稳健标准误"
   ]
  },
  {
   "cell_type": "code",
   "execution_count": 4,
   "id": "f28a9022",
   "metadata": {
    "vscode": {
     "languageId": "r"
    }
   },
   "outputs": [
    {
     "data": {
      "text/plain": [
       "\n",
       "t test of coefficients:\n",
       "\n",
       "              Estimate Std. Error t value  Pr(>|t|)    \n",
       "(Intercept) 37.2272701  3.0612294 12.1609 6.552e-13 ***\n",
       "hp          -0.0317729  0.0052248 -6.0812 1.275e-06 ***\n",
       "wt          -3.8778307  0.6998809 -5.5407 5.652e-06 ***\n",
       "---\n",
       "Signif. codes:  0 '***' 0.001 '**' 0.01 '*' 0.05 '.' 0.1 ' ' 1\n"
      ]
     },
     "metadata": {},
     "output_type": "display_data"
    }
   ],
   "source": [
    "# 加载必要的包\n",
    "library(sandwich)\n",
    "library(lmtest)\n",
    "\n",
    "# 拟合线性模型\n",
    "model <- lm(mpg ~ hp + wt, data = mtcars)\n",
    "\n",
    "# 使用 cyl 作为聚类变量，计算聚类稳健标准误\n",
    "cl_vcov <- vcovCL(model, cluster = ~ cyl)\n",
    "\n",
    "# 使用 coeftest 输出带聚类标准误的回归结果\n",
    "coeftest(model, vcov = cl_vcov)"
   ]
  },
  {
   "cell_type": "markdown",
   "id": "dc4560ee",
   "metadata": {},
   "source": [
    "## 面板聚类稳健标准误"
   ]
  },
  {
   "cell_type": "code",
   "execution_count": 6,
   "id": "a1d5f28d",
   "metadata": {
    "vscode": {
     "languageId": "r"
    }
   },
   "outputs": [
    {
     "data": {
      "text/plain": [
       "\n",
       "t test of coefficients:\n",
       "\n",
       "             Estimate Std. Error t value  Pr(>|t|)    \n",
       "(Intercept) 12.104409   0.950206  12.739 < 2.2e-16 ***\n",
       "sales        0.596958   0.008412  70.965 < 2.2e-16 ***\n",
       "capital      0.361147   0.014060  25.687 < 2.2e-16 ***\n",
       "---\n",
       "Signif. codes:  0 '***' 0.001 '**' 0.01 '*' 0.05 '.' 0.1 ' ' 1\n"
      ]
     },
     "metadata": {},
     "output_type": "display_data"
    }
   ],
   "source": [
    "# 加载必要的包\n",
    "library(sandwich)\n",
    "library(lmtest)\n",
    "library(dplyr)\n",
    "\n",
    "# 模拟面板数据\n",
    "set.seed(42)\n",
    "n_firms <- 100\n",
    "n_years <- 10\n",
    "n <- n_firms * n_years\n",
    "\n",
    "firm_id <- rep(1:n_firms, each = n_years)\n",
    "year <- rep(2001:2010, times = n_firms)\n",
    "\n",
    "# 生成协变量\n",
    "sales <- rnorm(n, mean = 100, sd = 20)\n",
    "capital <- rnorm(n, mean = 50, sd = 10)\n",
    "\n",
    "# 模拟 firm 固定效应 + 时间序列相关性\n",
    "firm_effect <- rnorm(n_firms, 0, 5)\n",
    "time_effect <- arima.sim(model = list(ar = 0.5), n = n_years * n_firms, sd = 3)\n",
    "firm_random <- firm_effect[firm_id]\n",
    "\n",
    "# 构造响应变量\n",
    "investment <- 10 + 0.6 * sales + 0.4 * capital + firm_random + time_effect\n",
    "\n",
    "# 构建数据框\n",
    "panel_data <- data.frame(\n",
    "  investment, sales, capital,\n",
    "  firm_id = factor(firm_id),\n",
    "  year = year\n",
    ")\n",
    "\n",
    "# 拟合线性模型\n",
    "model <- lm(investment ~ sales + capital, data = panel_data)\n",
    "\n",
    "# 使用 vcovPL() 计算面板稳健协方差（Driscoll-Kraay 类型）\n",
    "vcov_pl <- vcovPL(\n",
    "  model,\n",
    "  cluster = ~ firm_id,\n",
    "  order.by = ~ year,\n",
    "  kernel = \"Bartlett\",\n",
    "  lag = \"NW1987\",  # 自动选择带宽\n",
    "  adjust = TRUE\n",
    ")\n",
    "\n",
    "# 输出带面板协方差的回归结果\n",
    "coeftest(model, vcov = vcov_pl)\n"
   ]
  },
  {
   "cell_type": "markdown",
   "id": "4ad4ed07",
   "metadata": {},
   "source": []
  },
  {
   "cell_type": "code",
   "execution_count": 7,
   "id": "076189fe",
   "metadata": {
    "vscode": {
     "languageId": "r"
    }
   },
   "outputs": [
    {
     "data": {
      "text/plain": [
       "\n",
       "t test of coefficients:\n",
       "\n",
       "            Estimate Std. Error t value Pr(>|t|)    \n",
       "(Intercept) 1.008889   0.837810  1.2042   0.2295    \n",
       "investment  0.504226   0.022562 22.3486   <2e-16 ***\n",
       "education   0.347335   0.039100  8.8832   <2e-16 ***\n",
       "---\n",
       "Signif. codes:  0 '***' 0.001 '**' 0.01 '*' 0.05 '.' 0.1 ' ' 1\n"
      ]
     },
     "metadata": {},
     "output_type": "display_data"
    }
   ],
   "source": [
    "# 加载必要的包\n",
    "library(sandwich)\n",
    "library(lmtest)\n",
    "library(dplyr)\n",
    "\n",
    "# 模拟面板数据\n",
    "set.seed(2025)\n",
    "n_countries <- 60\n",
    "n_years <- 5\n",
    "n <- n_countries * n_years\n",
    "\n",
    "country <- rep(1:n_countries, each = n_years)\n",
    "year <- rep(2001:2005, times = n_countries)\n",
    "\n",
    "# 生成协变量\n",
    "investment <- rnorm(n, mean = 25, sd = 5)\n",
    "education <- rnorm(n, mean = 15, sd = 3)\n",
    "\n",
    "# 模拟国家固定效应 + 横截面相关性\n",
    "country_effect <- rnorm(n_countries, 0, 2)\n",
    "growth_noise <- matrix(rnorm(n_years * n_countries, 0, 1), nrow = n_years)\n",
    "growth_noise <- t(apply(growth_noise, 1, function(x) x + rnorm(1, 0, 1)))  # 加入时间共同冲击\n",
    "\n",
    "# 构造响应变量\n",
    "growth <- 2 + 0.5 * investment + 0.3 * education +\n",
    "  country_effect[country] + as.vector(growth_noise)\n",
    "\n",
    "# 构建数据框\n",
    "panel_data <- data.frame(\n",
    "  growth, investment, education,\n",
    "  country = factor(country),\n",
    "  year = year\n",
    ")\n",
    "\n",
    "# 拟合线性模型\n",
    "model <- lm(growth ~ investment + education, data = panel_data)\n",
    "\n",
    "# 使用 vcovPC() 计算面板修正协方差矩阵\n",
    "vcov_pc <- vcovPC(\n",
    "  model,\n",
    "  cluster = ~ country + year,  # 指定面板结构\n",
    "  pairwise = TRUE              # 使用 pairwise 平衡样本处理非平衡性\n",
    ")\n",
    "\n",
    "# 输出带 PCSE 的回归结果\n",
    "coeftest(model, vcov = vcov_pc)\n"
   ]
  },
  {
   "cell_type": "markdown",
   "id": "dffa8019",
   "metadata": {},
   "source": [
    "## Bootstrap"
   ]
  },
  {
   "cell_type": "code",
   "execution_count": 9,
   "id": "d9e9d32c",
   "metadata": {
    "vscode": {
     "languageId": "r"
    }
   },
   "outputs": [
    {
     "data": {
      "text/plain": [
       "\n",
       "t test of coefficients:\n",
       "\n",
       "             Estimate Std. Error t value  Pr(>|t|)    \n",
       "(Intercept) 50.587520   2.941899 17.1955 < 2.2e-16 ***\n",
       "treatment    3.466906   0.933071  3.7156 0.0002529 ***\n",
       "capital      0.298937   0.027282 10.9574 < 2.2e-16 ***\n",
       "---\n",
       "Signif. codes:  0 '***' 0.001 '**' 0.01 '*' 0.05 '.' 0.1 ' ' 1\n"
      ]
     },
     "metadata": {},
     "output_type": "display_data"
    }
   ],
   "source": [
    "# 加载必要的包\n",
    "library(sandwich)\n",
    "library(lmtest)\n",
    "library(dplyr)\n",
    "\n",
    "# 模拟数据\n",
    "set.seed(2025)\n",
    "n_firms <- 40\n",
    "n_years <- 6\n",
    "n <- n_firms * n_years\n",
    "\n",
    "firm_id <- rep(1:n_firms, each = n_years)\n",
    "year <- rep(2010:2015, times = n_firms)\n",
    "\n",
    "# 生成协变量\n",
    "treatment <- rbinom(n, 1, 0.5)\n",
    "capital <- rnorm(n, mean = 100, sd = 15)\n",
    "firm_effect <- rnorm(n_firms, 0, 5)\n",
    "error <- rnorm(n, 0, 5)\n",
    "\n",
    "# 构造响应变量\n",
    "investment <- 50 + 4 * treatment + 0.3 * capital + firm_effect[firm_id] + error\n",
    "\n",
    "# 构建数据框\n",
    "panel_data <- data.frame(\n",
    "  investment, treatment, capital,\n",
    "  firm_id = factor(firm_id),\n",
    "  year = year\n",
    ")\n",
    "\n",
    "# 拟合线性模型\n",
    "model <- lm(investment ~ treatment + capital, data = panel_data)\n",
    "\n",
    "# 使用 vcovBS() 进行 bootstrap 聚类协方差估计\n",
    "set.seed(123)\n",
    "vcov_bs <- vcovBS(\n",
    "  model,\n",
    "  cluster = ~ firm_id,  # 按公司聚类\n",
    "  R = 999,              # bootstrap 重抽样次数\n",
    "  fix = TRUE,            # 保证协方差矩阵为半正定\n",
    "  type = \"wild\"          # 使用 wild bootstrap\n",
    ")\n",
    "\n",
    "# 输出带 bootstrap 标准误的回归结果\n",
    "coeftest(model, vcov = vcov_bs)\n"
   ]
  }
 ],
 "metadata": {
  "kernelspec": {
   "display_name": "R",
   "language": "R",
   "name": "ir"
  },
  "language_info": {
   "codemirror_mode": "r",
   "file_extension": ".r",
   "mimetype": "text/x-r-source",
   "name": "R",
   "pygments_lexer": "r",
   "version": "4.4.2"
  }
 },
 "nbformat": 4,
 "nbformat_minor": 5
}

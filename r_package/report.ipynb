{
 "cells": [
  {
   "cell_type": "markdown",
   "id": "9b34fc86",
   "metadata": {},
   "source": [
    "学习R语言{report}包"
   ]
  },
  {
   "cell_type": "code",
   "execution_count": 11,
   "id": "bf800217",
   "metadata": {
    "vscode": {
     "languageId": "r"
    }
   },
   "outputs": [
    {
     "name": "stderr",
     "output_type": "stream",
     "text": [
      "-- \u001b[1mAttaching core tidyverse packages\u001b[22m ------------------------ tidyverse 2.0.0 --\n",
      "\u001b[32mv\u001b[39m \u001b[34mdplyr    \u001b[39m 1.1.4     \u001b[32mv\u001b[39m \u001b[34mreadr    \u001b[39m 2.1.5\n",
      "\u001b[32mv\u001b[39m \u001b[34mforcats  \u001b[39m 1.0.0     \u001b[32mv\u001b[39m \u001b[34mstringr  \u001b[39m 1.5.1\n",
      "\u001b[32mv\u001b[39m \u001b[34mggplot2  \u001b[39m 3.5.1     \u001b[32mv\u001b[39m \u001b[34mtibble   \u001b[39m 3.2.1\n",
      "\u001b[32mv\u001b[39m \u001b[34mlubridate\u001b[39m 1.9.4     \u001b[32mv\u001b[39m \u001b[34mtidyr    \u001b[39m 1.3.1\n",
      "\u001b[32mv\u001b[39m \u001b[34mpurrr    \u001b[39m 1.0.2     \n",
      "-- \u001b[1mConflicts\u001b[22m ------------------------------------------ tidyverse_conflicts() --\n",
      "\u001b[31mx\u001b[39m \u001b[34mdplyr\u001b[39m::\u001b[32mfilter()\u001b[39m masks \u001b[34mstats\u001b[39m::filter()\n",
      "\u001b[31mx\u001b[39m \u001b[34mdplyr\u001b[39m::\u001b[32mlag()\u001b[39m    masks \u001b[34mstats\u001b[39m::lag()\n",
      "\u001b[36mi\u001b[39m Use the conflicted package (\u001b[3m\u001b[34m<http://conflicted.r-lib.org/>\u001b[39m\u001b[23m) to force all conflicts to become errors\n"
     ]
    }
   ],
   "source": [
    "library(easystats)\n",
    "library(tidyverse)"
   ]
  },
  {
   "cell_type": "code",
   "execution_count": 13,
   "id": "9947529c",
   "metadata": {
    "vscode": {
     "languageId": "r"
    }
   },
   "outputs": [
    {
     "data": {
      "text/html": [
       "<span style=white-space:pre-wrap>'The data contains 150 observations of the following 5 variables:\\n\\n  - Sepal.Length: n = 150, Mean = 5.84, SD = 0.83, Median = 5.80, MAD = 1.04, range: [4.30, 7.90], Skewness = 0.31, Kurtosis = -0.55, 0% missing\\n  - Sepal.Width: n = 150, Mean = 3.06, SD = 0.44, Median = 3.00, MAD = 0.44, range: [2, 4.40], Skewness = 0.32, Kurtosis = 0.23, 0% missing\\n  - Petal.Length: n = 150, Mean = 3.76, SD = 1.77, Median = 4.35, MAD = 1.85, range: [1, 6.90], Skewness = -0.27, Kurtosis = -1.40, 0% missing\\n  - Petal.Width: n = 150, Mean = 1.20, SD = 0.76, Median = 1.30, MAD = 1.04, range: [0.10, 2.50], Skewness = -0.10, Kurtosis = -1.34, 0% missing\\n  - Species: 3 levels, namely setosa (n = 50, 33.33%), versicolor (n = 50, 33.33%) and virginica (n = 50, 33.33%)'</span>"
      ],
      "text/latex": [
       "'The data contains 150 observations of the following 5 variables:\\textbackslash{}n\\textbackslash{}n  - Sepal.Length: n = 150, Mean = 5.84, SD = 0.83, Median = 5.80, MAD = 1.04, range: {[}4.30, 7.90{]}, Skewness = 0.31, Kurtosis = -0.55, 0\\% missing\\textbackslash{}n  - Sepal.Width: n = 150, Mean = 3.06, SD = 0.44, Median = 3.00, MAD = 0.44, range: {[}2, 4.40{]}, Skewness = 0.32, Kurtosis = 0.23, 0\\% missing\\textbackslash{}n  - Petal.Length: n = 150, Mean = 3.76, SD = 1.77, Median = 4.35, MAD = 1.85, range: {[}1, 6.90{]}, Skewness = -0.27, Kurtosis = -1.40, 0\\% missing\\textbackslash{}n  - Petal.Width: n = 150, Mean = 1.20, SD = 0.76, Median = 1.30, MAD = 1.04, range: {[}0.10, 2.50{]}, Skewness = -0.10, Kurtosis = -1.34, 0\\% missing\\textbackslash{}n  - Species: 3 levels, namely setosa (n = 50, 33.33\\%), versicolor (n = 50, 33.33\\%) and virginica (n = 50, 33.33\\%)'"
      ],
      "text/markdown": [
       "<span style=white-space:pre-wrap>'The data contains 150 observations of the following 5 variables:\\n\\n  - Sepal.Length: n = 150, Mean = 5.84, SD = 0.83, Median = 5.80, MAD = 1.04, range: [4.30, 7.90], Skewness = 0.31, Kurtosis = -0.55, 0% missing\\n  - Sepal.Width: n = 150, Mean = 3.06, SD = 0.44, Median = 3.00, MAD = 0.44, range: [2, 4.40], Skewness = 0.32, Kurtosis = 0.23, 0% missing\\n  - Petal.Length: n = 150, Mean = 3.76, SD = 1.77, Median = 4.35, MAD = 1.85, range: [1, 6.90], Skewness = -0.27, Kurtosis = -1.40, 0% missing\\n  - Petal.Width: n = 150, Mean = 1.20, SD = 0.76, Median = 1.30, MAD = 1.04, range: [0.10, 2.50], Skewness = -0.10, Kurtosis = -1.34, 0% missing\\n  - Species: 3 levels, namely setosa (n = 50, 33.33%), versicolor (n = 50, 33.33%) and virginica (n = 50, 33.33%)'</span>"
      ],
      "text/plain": [
       "The data contains 150 observations of the following 5 variables:\n",
       "\n",
       "  - Sepal.Length: n = 150, Mean = 5.84, SD = 0.83, Median = 5.80, MAD = 1.04,\n",
       "range: [4.30, 7.90], Skewness = 0.31, Kurtosis = -0.55, 0% missing\n",
       "  - Sepal.Width: n = 150, Mean = 3.06, SD = 0.44, Median = 3.00, MAD = 0.44,\n",
       "range: [2, 4.40], Skewness = 0.32, Kurtosis = 0.23, 0% missing\n",
       "  - Petal.Length: n = 150, Mean = 3.76, SD = 1.77, Median = 4.35, MAD = 1.85,\n",
       "range: [1, 6.90], Skewness = -0.27, Kurtosis = -1.40, 0% missing\n",
       "  - Petal.Width: n = 150, Mean = 1.20, SD = 0.76, Median = 1.30, MAD = 1.04,\n",
       "range: [0.10, 2.50], Skewness = -0.10, Kurtosis = -1.34, 0% missing\n",
       "  - Species: 3 levels, namely setosa (n = 50, 33.33%), versicolor (n = 50,\n",
       "33.33%) and virginica (n = 50, 33.33%)"
      ]
     },
     "metadata": {},
     "output_type": "display_data"
    }
   ],
   "source": [
    "report(iris)"
   ]
  },
  {
   "cell_type": "code",
   "execution_count": 14,
   "id": "8f2cf4b2",
   "metadata": {
    "vscode": {
     "languageId": "r"
    }
   },
   "outputs": [
    {
     "data": {
      "text/html": [
       "<span style=white-space:pre-wrap>'The data contains 150 observations of the following 5 variables:\\n\\n  - Sepal.Length: Mean = 5.84, SD = 0.83, range: [4.30, 7.90]\\n  - Sepal.Width: Mean = 3.06, SD = 0.44, range: [2, 4.40]\\n  - Petal.Length: Mean = 3.76, SD = 1.77, range: [1, 6.90]\\n  - Petal.Width: Mean = 1.20, SD = 0.76, range: [0.10, 2.50]\\n  - Species: 3 levels, namely setosa (n = 50), versicolor (n = 50) and virginica (n = 50)'</span>"
      ],
      "text/latex": [
       "'The data contains 150 observations of the following 5 variables:\\textbackslash{}n\\textbackslash{}n  - Sepal.Length: Mean = 5.84, SD = 0.83, range: {[}4.30, 7.90{]}\\textbackslash{}n  - Sepal.Width: Mean = 3.06, SD = 0.44, range: {[}2, 4.40{]}\\textbackslash{}n  - Petal.Length: Mean = 3.76, SD = 1.77, range: {[}1, 6.90{]}\\textbackslash{}n  - Petal.Width: Mean = 1.20, SD = 0.76, range: {[}0.10, 2.50{]}\\textbackslash{}n  - Species: 3 levels, namely setosa (n = 50), versicolor (n = 50) and virginica (n = 50)'"
      ],
      "text/markdown": [
       "<span style=white-space:pre-wrap>'The data contains 150 observations of the following 5 variables:\\n\\n  - Sepal.Length: Mean = 5.84, SD = 0.83, range: [4.30, 7.90]\\n  - Sepal.Width: Mean = 3.06, SD = 0.44, range: [2, 4.40]\\n  - Petal.Length: Mean = 3.76, SD = 1.77, range: [1, 6.90]\\n  - Petal.Width: Mean = 1.20, SD = 0.76, range: [0.10, 2.50]\\n  - Species: 3 levels, namely setosa (n = 50), versicolor (n = 50) and virginica (n = 50)'</span>"
      ],
      "text/plain": [
       "The data contains 150 observations of the following 5 variables:\n",
       "\n",
       "  - Sepal.Length: Mean = 5.84, SD = 0.83, range: [4.30, 7.90]\n",
       "  - Sepal.Width: Mean = 3.06, SD = 0.44, range: [2, 4.40]\n",
       "  - Petal.Length: Mean = 3.76, SD = 1.77, range: [1, 6.90]\n",
       "  - Petal.Width: Mean = 1.20, SD = 0.76, range: [0.10, 2.50]\n",
       "  - Species: 3 levels, namely setosa (n = 50), versicolor (n = 50) and virginica\n",
       "(n = 50)"
      ]
     },
     "metadata": {},
     "output_type": "display_data"
    }
   ],
   "source": [
    "r <- report(iris)\n",
    "summary(r)"
   ]
  },
  {
   "cell_type": "code",
   "execution_count": 8,
   "id": "64daf7ab",
   "metadata": {
    "vscode": {
     "languageId": "r"
    }
   },
   "outputs": [
    {
     "data": {
      "text/html": [
       "<table class=\"dataframe\">\n",
       "<caption>A report_table: 7 x 13</caption>\n",
       "<thead>\n",
       "\t<tr><th></th><th scope=col>Variable</th><th scope=col>Level</th><th scope=col>n_Obs</th><th scope=col>percentage_Obs</th><th scope=col>Mean</th><th scope=col>SD</th><th scope=col>Median</th><th scope=col>MAD</th><th scope=col>Min</th><th scope=col>Max</th><th scope=col>Skewness</th><th scope=col>Kurtosis</th><th scope=col>percentage_Missing</th></tr>\n",
       "\t<tr><th></th><th scope=col>&lt;chr&gt;</th><th scope=col>&lt;fct&gt;</th><th scope=col>&lt;int&gt;</th><th scope=col>&lt;dbl&gt;</th><th scope=col>&lt;dbl&gt;</th><th scope=col>&lt;dbl&gt;</th><th scope=col>&lt;dbl&gt;</th><th scope=col>&lt;dbl&gt;</th><th scope=col>&lt;dbl&gt;</th><th scope=col>&lt;dbl&gt;</th><th scope=col>&lt;dbl&gt;</th><th scope=col>&lt;dbl&gt;</th><th scope=col>&lt;dbl&gt;</th></tr>\n",
       "</thead>\n",
       "<tbody>\n",
       "\t<tr><th scope=row>6</th><td>Sepal.Length</td><td>NA        </td><td>150</td><td>      NA</td><td>5.843333</td><td>0.8280661</td><td>5.80</td><td>1.03782</td><td>4.3</td><td>7.9</td><td> 0.3149110</td><td>-0.552064</td><td> 0</td></tr>\n",
       "\t<tr><th scope=row>7</th><td>Sepal.Width </td><td>NA        </td><td>150</td><td>      NA</td><td>3.057333</td><td>0.4358663</td><td>3.00</td><td>0.44478</td><td>2.0</td><td>4.4</td><td> 0.3189657</td><td> 0.228249</td><td> 0</td></tr>\n",
       "\t<tr><th scope=row>4</th><td>Petal.Length</td><td>NA        </td><td>150</td><td>      NA</td><td>3.758000</td><td>1.7652982</td><td>4.35</td><td>1.85325</td><td>1.0</td><td>6.9</td><td>-0.2748842</td><td>-1.402103</td><td> 0</td></tr>\n",
       "\t<tr><th scope=row>5</th><td>Petal.Width </td><td>NA        </td><td>150</td><td>      NA</td><td>1.199333</td><td>0.7622377</td><td>1.30</td><td>1.03782</td><td>0.1</td><td>2.5</td><td>-0.1029667</td><td>-1.340604</td><td> 0</td></tr>\n",
       "\t<tr><th scope=row>1</th><td>Species     </td><td>setosa    </td><td> 50</td><td>33.33333</td><td>      NA</td><td>       NA</td><td>  NA</td><td>     NA</td><td> NA</td><td> NA</td><td>        NA</td><td>       NA</td><td>NA</td></tr>\n",
       "\t<tr><th scope=row>2</th><td>Species     </td><td>versicolor</td><td> 50</td><td>33.33333</td><td>      NA</td><td>       NA</td><td>  NA</td><td>     NA</td><td> NA</td><td> NA</td><td>        NA</td><td>       NA</td><td>NA</td></tr>\n",
       "\t<tr><th scope=row>3</th><td>Species     </td><td>virginica </td><td> 50</td><td>33.33333</td><td>      NA</td><td>       NA</td><td>  NA</td><td>     NA</td><td> NA</td><td> NA</td><td>        NA</td><td>       NA</td><td>NA</td></tr>\n",
       "</tbody>\n",
       "</table>\n"
      ],
      "text/latex": [
       "A report\\_table: 7 x 13\n",
       "\\begin{tabular}{r|lllllllllllll}\n",
       "  & Variable & Level & n\\_Obs & percentage\\_Obs & Mean & SD & Median & MAD & Min & Max & Skewness & Kurtosis & percentage\\_Missing\\\\\n",
       "  & <chr> & <fct> & <int> & <dbl> & <dbl> & <dbl> & <dbl> & <dbl> & <dbl> & <dbl> & <dbl> & <dbl> & <dbl>\\\\\n",
       "\\hline\n",
       "\t6 & Sepal.Length & NA         & 150 &       NA & 5.843333 & 0.8280661 & 5.80 & 1.03782 & 4.3 & 7.9 &  0.3149110 & -0.552064 &  0\\\\\n",
       "\t7 & Sepal.Width  & NA         & 150 &       NA & 3.057333 & 0.4358663 & 3.00 & 0.44478 & 2.0 & 4.4 &  0.3189657 &  0.228249 &  0\\\\\n",
       "\t4 & Petal.Length & NA         & 150 &       NA & 3.758000 & 1.7652982 & 4.35 & 1.85325 & 1.0 & 6.9 & -0.2748842 & -1.402103 &  0\\\\\n",
       "\t5 & Petal.Width  & NA         & 150 &       NA & 1.199333 & 0.7622377 & 1.30 & 1.03782 & 0.1 & 2.5 & -0.1029667 & -1.340604 &  0\\\\\n",
       "\t1 & Species      & setosa     &  50 & 33.33333 &       NA &        NA &   NA &      NA &  NA &  NA &         NA &        NA & NA\\\\\n",
       "\t2 & Species      & versicolor &  50 & 33.33333 &       NA &        NA &   NA &      NA &  NA &  NA &         NA &        NA & NA\\\\\n",
       "\t3 & Species      & virginica  &  50 & 33.33333 &       NA &        NA &   NA &      NA &  NA &  NA &         NA &        NA & NA\\\\\n",
       "\\end{tabular}\n"
      ],
      "text/markdown": [
       "\n",
       "A report_table: 7 x 13\n",
       "\n",
       "| <!--/--> | Variable &lt;chr&gt; | Level &lt;fct&gt; | n_Obs &lt;int&gt; | percentage_Obs &lt;dbl&gt; | Mean &lt;dbl&gt; | SD &lt;dbl&gt; | Median &lt;dbl&gt; | MAD &lt;dbl&gt; | Min &lt;dbl&gt; | Max &lt;dbl&gt; | Skewness &lt;dbl&gt; | Kurtosis &lt;dbl&gt; | percentage_Missing &lt;dbl&gt; |\n",
       "|---|---|---|---|---|---|---|---|---|---|---|---|---|---|\n",
       "| 6 | Sepal.Length | NA         | 150 |       NA | 5.843333 | 0.8280661 | 5.80 | 1.03782 | 4.3 | 7.9 |  0.3149110 | -0.552064 |  0 |\n",
       "| 7 | Sepal.Width  | NA         | 150 |       NA | 3.057333 | 0.4358663 | 3.00 | 0.44478 | 2.0 | 4.4 |  0.3189657 |  0.228249 |  0 |\n",
       "| 4 | Petal.Length | NA         | 150 |       NA | 3.758000 | 1.7652982 | 4.35 | 1.85325 | 1.0 | 6.9 | -0.2748842 | -1.402103 |  0 |\n",
       "| 5 | Petal.Width  | NA         | 150 |       NA | 1.199333 | 0.7622377 | 1.30 | 1.03782 | 0.1 | 2.5 | -0.1029667 | -1.340604 |  0 |\n",
       "| 1 | Species      | setosa     |  50 | 33.33333 |       NA |        NA |   NA |      NA |  NA |  NA |         NA |        NA | NA |\n",
       "| 2 | Species      | versicolor |  50 | 33.33333 |       NA |        NA |   NA |      NA |  NA |  NA |         NA |        NA | NA |\n",
       "| 3 | Species      | virginica  |  50 | 33.33333 |       NA |        NA |   NA |      NA |  NA |  NA |         NA |        NA | NA |\n",
       "\n"
      ],
      "text/plain": [
       "  Variable     Level      n_Obs percentage_Obs Mean     SD        Median\n",
       "6 Sepal.Length NA         150         NA       5.843333 0.8280661 5.80  \n",
       "7 Sepal.Width  NA         150         NA       3.057333 0.4358663 3.00  \n",
       "4 Petal.Length NA         150         NA       3.758000 1.7652982 4.35  \n",
       "5 Petal.Width  NA         150         NA       1.199333 0.7622377 1.30  \n",
       "1 Species      setosa      50   33.33333             NA        NA   NA  \n",
       "2 Species      versicolor  50   33.33333             NA        NA   NA  \n",
       "3 Species      virginica   50   33.33333             NA        NA   NA  \n",
       "  MAD     Min Max Skewness   Kurtosis  percentage_Missing\n",
       "6 1.03782 4.3 7.9  0.3149110 -0.552064  0                \n",
       "7 0.44478 2.0 4.4  0.3189657  0.228249  0                \n",
       "4 1.85325 1.0 6.9 -0.2748842 -1.402103  0                \n",
       "5 1.03782 0.1 2.5 -0.1029667 -1.340604  0                \n",
       "1      NA  NA  NA         NA        NA NA                \n",
       "2      NA  NA  NA         NA        NA NA                \n",
       "3      NA  NA  NA         NA        NA NA                "
      ]
     },
     "metadata": {},
     "output_type": "display_data"
    }
   ],
   "source": [
    "as.data.frame(r)"
   ]
  },
  {
   "cell_type": "code",
   "execution_count": 9,
   "id": "a542fffe",
   "metadata": {
    "vscode": {
     "languageId": "r"
    }
   },
   "outputs": [
    {
     "data": {
      "text/html": [
       "<table class=\"dataframe\">\n",
       "<caption>A report_table: 7 x 9</caption>\n",
       "<thead>\n",
       "\t<tr><th></th><th scope=col>Variable</th><th scope=col>Level</th><th scope=col>n_Obs</th><th scope=col>percentage_Obs</th><th scope=col>Mean</th><th scope=col>SD</th><th scope=col>Min</th><th scope=col>Max</th><th scope=col>percentage_Missing</th></tr>\n",
       "\t<tr><th></th><th scope=col>&lt;chr&gt;</th><th scope=col>&lt;fct&gt;</th><th scope=col>&lt;int&gt;</th><th scope=col>&lt;dbl&gt;</th><th scope=col>&lt;dbl&gt;</th><th scope=col>&lt;dbl&gt;</th><th scope=col>&lt;dbl&gt;</th><th scope=col>&lt;dbl&gt;</th><th scope=col>&lt;dbl&gt;</th></tr>\n",
       "</thead>\n",
       "<tbody>\n",
       "\t<tr><th scope=row>3</th><td>Sepal.Length</td><td>NA        </td><td>NA</td><td>      NA</td><td>5.843333</td><td>0.8280661</td><td>4.3</td><td>7.9</td><td> 0</td></tr>\n",
       "\t<tr><th scope=row>4</th><td>Sepal.Width </td><td>NA        </td><td>NA</td><td>      NA</td><td>3.057333</td><td>0.4358663</td><td>2.0</td><td>4.4</td><td> 0</td></tr>\n",
       "\t<tr><th scope=row>1</th><td>Petal.Length</td><td>NA        </td><td>NA</td><td>      NA</td><td>3.758000</td><td>1.7652982</td><td>1.0</td><td>6.9</td><td> 0</td></tr>\n",
       "\t<tr><th scope=row>2</th><td>Petal.Width </td><td>NA        </td><td>NA</td><td>      NA</td><td>1.199333</td><td>0.7622377</td><td>0.1</td><td>2.5</td><td> 0</td></tr>\n",
       "\t<tr><th scope=row>5</th><td>Species     </td><td>setosa    </td><td>50</td><td>33.33333</td><td>      NA</td><td>       NA</td><td> NA</td><td> NA</td><td>NA</td></tr>\n",
       "\t<tr><th scope=row>6</th><td>Species     </td><td>versicolor</td><td>50</td><td>33.33333</td><td>      NA</td><td>       NA</td><td> NA</td><td> NA</td><td>NA</td></tr>\n",
       "\t<tr><th scope=row>7</th><td>Species     </td><td>virginica </td><td>50</td><td>33.33333</td><td>      NA</td><td>       NA</td><td> NA</td><td> NA</td><td>NA</td></tr>\n",
       "</tbody>\n",
       "</table>\n"
      ],
      "text/latex": [
       "A report\\_table: 7 x 9\n",
       "\\begin{tabular}{r|lllllllll}\n",
       "  & Variable & Level & n\\_Obs & percentage\\_Obs & Mean & SD & Min & Max & percentage\\_Missing\\\\\n",
       "  & <chr> & <fct> & <int> & <dbl> & <dbl> & <dbl> & <dbl> & <dbl> & <dbl>\\\\\n",
       "\\hline\n",
       "\t3 & Sepal.Length & NA         & NA &       NA & 5.843333 & 0.8280661 & 4.3 & 7.9 &  0\\\\\n",
       "\t4 & Sepal.Width  & NA         & NA &       NA & 3.057333 & 0.4358663 & 2.0 & 4.4 &  0\\\\\n",
       "\t1 & Petal.Length & NA         & NA &       NA & 3.758000 & 1.7652982 & 1.0 & 6.9 &  0\\\\\n",
       "\t2 & Petal.Width  & NA         & NA &       NA & 1.199333 & 0.7622377 & 0.1 & 2.5 &  0\\\\\n",
       "\t5 & Species      & setosa     & 50 & 33.33333 &       NA &        NA &  NA &  NA & NA\\\\\n",
       "\t6 & Species      & versicolor & 50 & 33.33333 &       NA &        NA &  NA &  NA & NA\\\\\n",
       "\t7 & Species      & virginica  & 50 & 33.33333 &       NA &        NA &  NA &  NA & NA\\\\\n",
       "\\end{tabular}\n"
      ],
      "text/markdown": [
       "\n",
       "A report_table: 7 x 9\n",
       "\n",
       "| <!--/--> | Variable &lt;chr&gt; | Level &lt;fct&gt; | n_Obs &lt;int&gt; | percentage_Obs &lt;dbl&gt; | Mean &lt;dbl&gt; | SD &lt;dbl&gt; | Min &lt;dbl&gt; | Max &lt;dbl&gt; | percentage_Missing &lt;dbl&gt; |\n",
       "|---|---|---|---|---|---|---|---|---|---|\n",
       "| 3 | Sepal.Length | NA         | NA |       NA | 5.843333 | 0.8280661 | 4.3 | 7.9 |  0 |\n",
       "| 4 | Sepal.Width  | NA         | NA |       NA | 3.057333 | 0.4358663 | 2.0 | 4.4 |  0 |\n",
       "| 1 | Petal.Length | NA         | NA |       NA | 3.758000 | 1.7652982 | 1.0 | 6.9 |  0 |\n",
       "| 2 | Petal.Width  | NA         | NA |       NA | 1.199333 | 0.7622377 | 0.1 | 2.5 |  0 |\n",
       "| 5 | Species      | setosa     | 50 | 33.33333 |       NA |        NA |  NA |  NA | NA |\n",
       "| 6 | Species      | versicolor | 50 | 33.33333 |       NA |        NA |  NA |  NA | NA |\n",
       "| 7 | Species      | virginica  | 50 | 33.33333 |       NA |        NA |  NA |  NA | NA |\n",
       "\n"
      ],
      "text/plain": [
       "  Variable     Level      n_Obs percentage_Obs Mean     SD        Min Max\n",
       "3 Sepal.Length NA         NA          NA       5.843333 0.8280661 4.3 7.9\n",
       "4 Sepal.Width  NA         NA          NA       3.057333 0.4358663 2.0 4.4\n",
       "1 Petal.Length NA         NA          NA       3.758000 1.7652982 1.0 6.9\n",
       "2 Petal.Width  NA         NA          NA       1.199333 0.7622377 0.1 2.5\n",
       "5 Species      setosa     50    33.33333             NA        NA  NA  NA\n",
       "6 Species      versicolor 50    33.33333             NA        NA  NA  NA\n",
       "7 Species      virginica  50    33.33333             NA        NA  NA  NA\n",
       "  percentage_Missing\n",
       "3  0                \n",
       "4  0                \n",
       "1  0                \n",
       "2  0                \n",
       "5 NA                \n",
       "6 NA                \n",
       "7 NA                "
      ]
     },
     "metadata": {},
     "output_type": "display_data"
    }
   ],
   "source": [
    "summary(as.data.frame(r))"
   ]
  },
  {
   "cell_type": "code",
   "execution_count": 12,
   "id": "7389ef69",
   "metadata": {
    "vscode": {
     "languageId": "r"
    }
   },
   "outputs": [
    {
     "data": {
      "text/html": [
       "<span style=white-space:pre-wrap>'The data contains 150 observations, grouped by Species, of the following 3 variables:\\n\\n- setosa (n = 50):\\n  - Petal.Length: Mean = 1.46, SD = 0.17, range: [1, 1.90]\\n  - Petal.Width: Mean = 0.25, SD = 0.11, range: [0.10, 0.60]\\n\\n- versicolor (n = 50):\\n  - Petal.Length: Mean = 4.26, SD = 0.47, range: [3, 5.10]\\n  - Petal.Width: Mean = 1.33, SD = 0.20, range: [1, 1.80]\\n\\n- virginica (n = 50):\\n  - Petal.Length: Mean = 5.55, SD = 0.55, range: [4.50, 6.90]\\n  - Petal.Width: Mean = 2.03, SD = 0.27, range: [1.40, 2.50]'</span>"
      ],
      "text/latex": [
       "'The data contains 150 observations, grouped by Species, of the following 3 variables:\\textbackslash{}n\\textbackslash{}n- setosa (n = 50):\\textbackslash{}n  - Petal.Length: Mean = 1.46, SD = 0.17, range: {[}1, 1.90{]}\\textbackslash{}n  - Petal.Width: Mean = 0.25, SD = 0.11, range: {[}0.10, 0.60{]}\\textbackslash{}n\\textbackslash{}n- versicolor (n = 50):\\textbackslash{}n  - Petal.Length: Mean = 4.26, SD = 0.47, range: {[}3, 5.10{]}\\textbackslash{}n  - Petal.Width: Mean = 1.33, SD = 0.20, range: {[}1, 1.80{]}\\textbackslash{}n\\textbackslash{}n- virginica (n = 50):\\textbackslash{}n  - Petal.Length: Mean = 5.55, SD = 0.55, range: {[}4.50, 6.90{]}\\textbackslash{}n  - Petal.Width: Mean = 2.03, SD = 0.27, range: {[}1.40, 2.50{]}'"
      ],
      "text/markdown": [
       "<span style=white-space:pre-wrap>'The data contains 150 observations, grouped by Species, of the following 3 variables:\\n\\n- setosa (n = 50):\\n  - Petal.Length: Mean = 1.46, SD = 0.17, range: [1, 1.90]\\n  - Petal.Width: Mean = 0.25, SD = 0.11, range: [0.10, 0.60]\\n\\n- versicolor (n = 50):\\n  - Petal.Length: Mean = 4.26, SD = 0.47, range: [3, 5.10]\\n  - Petal.Width: Mean = 1.33, SD = 0.20, range: [1, 1.80]\\n\\n- virginica (n = 50):\\n  - Petal.Length: Mean = 5.55, SD = 0.55, range: [4.50, 6.90]\\n  - Petal.Width: Mean = 2.03, SD = 0.27, range: [1.40, 2.50]'</span>"
      ],
      "text/plain": [
       "The data contains 150 observations, grouped by Species, of the following 3\n",
       "variables:\n",
       "\n",
       "- setosa (n = 50):\n",
       "  - Petal.Length: Mean = 1.46, SD = 0.17, range: [1, 1.90]\n",
       "  - Petal.Width: Mean = 0.25, SD = 0.11, range: [0.10, 0.60]\n",
       "\n",
       "- versicolor (n = 50):\n",
       "  - Petal.Length: Mean = 4.26, SD = 0.47, range: [3, 5.10]\n",
       "  - Petal.Width: Mean = 1.33, SD = 0.20, range: [1, 1.80]\n",
       "\n",
       "- virginica (n = 50):\n",
       "  - Petal.Length: Mean = 5.55, SD = 0.55, range: [4.50, 6.90]\n",
       "  - Petal.Width: Mean = 2.03, SD = 0.27, range: [1.40, 2.50]"
      ]
     },
     "metadata": {},
     "output_type": "display_data"
    }
   ],
   "source": [
    "iris %>%\n",
    "  select(-starts_with(\"Sepal\")) %>%\n",
    "  group_by(Species) %>%\n",
    "  report() %>%\n",
    "  summary()"
   ]
  },
  {
   "cell_type": "markdown",
   "id": "a0126966",
   "metadata": {},
   "source": [
    "#  t 检验和相关分析"
   ]
  },
  {
   "cell_type": "code",
   "execution_count": 15,
   "id": "190fac9d",
   "metadata": {
    "vscode": {
     "languageId": "r"
    }
   },
   "outputs": [
    {
     "data": {
      "text/html": [
       "'Effect sizes were labelled following Cohen\\'s (1988) recommendations.\\n\\nThe Welch Two Sample t-test testing the difference of mtcars$mpg by mtcars$am (mean in group 0 = 17.15, mean in group 1 = 24.39) suggests that the effect is negative, statistically significant, and large (difference = -7.24, 95% CI [-11.28, -3.21], t(18.33) = -3.77, p = 0.001; Cohen\\'s d = -1.41, 95% CI [-2.26, -0.53])'"
      ],
      "text/latex": [
       "'Effect sizes were labelled following Cohen\\textbackslash{}'s (1988) recommendations.\\textbackslash{}n\\textbackslash{}nThe Welch Two Sample t-test testing the difference of mtcars\\$mpg by mtcars\\$am (mean in group 0 = 17.15, mean in group 1 = 24.39) suggests that the effect is negative, statistically significant, and large (difference = -7.24, 95\\% CI {[}-11.28, -3.21{]}, t(18.33) = -3.77, p = 0.001; Cohen\\textbackslash{}'s d = -1.41, 95\\% CI {[}-2.26, -0.53{]})'"
      ],
      "text/markdown": [
       "'Effect sizes were labelled following Cohen\\'s (1988) recommendations.\\n\\nThe Welch Two Sample t-test testing the difference of mtcars$mpg by mtcars$am (mean in group 0 = 17.15, mean in group 1 = 24.39) suggests that the effect is negative, statistically significant, and large (difference = -7.24, 95% CI [-11.28, -3.21], t(18.33) = -3.77, p = 0.001; Cohen\\'s d = -1.41, 95% CI [-2.26, -0.53])'"
      ],
      "text/plain": [
       "Effect sizes were labelled following Cohen's (1988) recommendations.\n",
       "\n",
       "The Welch Two Sample t-test testing the difference of mtcars$mpg by mtcars$am\n",
       "(mean in group 0 = 17.15, mean in group 1 = 24.39) suggests that the effect is\n",
       "negative, statistically significant, and large (difference = -7.24, 95% CI\n",
       "[-11.28, -3.21], t(18.33) = -3.77, p = 0.001; Cohen's d = -1.41, 95% CI [-2.26,\n",
       "-0.53])"
      ]
     },
     "metadata": {},
     "output_type": "display_data"
    }
   ],
   "source": [
    "report(t.test(mtcars$mpg ~ mtcars$am))"
   ]
  },
  {
   "cell_type": "code",
   "execution_count": 16,
   "id": "1b04dfd6",
   "metadata": {
    "vscode": {
     "languageId": "r"
    }
   },
   "outputs": [
    {
     "data": {
      "text/html": [
       "<table class=\"dataframe\">\n",
       "<caption>A report_table: 1 x 11</caption>\n",
       "<thead>\n",
       "\t<tr><th></th><th scope=col>Parameter1</th><th scope=col>Parameter2</th><th scope=col>r</th><th scope=col>CI</th><th scope=col>CI_low</th><th scope=col>CI_high</th><th scope=col>t</th><th scope=col>df_error</th><th scope=col>p</th><th scope=col>Method</th><th scope=col>Alternative</th></tr>\n",
       "\t<tr><th></th><th scope=col>&lt;chr&gt;</th><th scope=col>&lt;chr&gt;</th><th scope=col>&lt;dbl&gt;</th><th scope=col>&lt;dbl&gt;</th><th scope=col>&lt;dbl&gt;</th><th scope=col>&lt;dbl&gt;</th><th scope=col>&lt;dbl&gt;</th><th scope=col>&lt;int&gt;</th><th scope=col>&lt;dbl&gt;</th><th scope=col>&lt;chr&gt;</th><th scope=col>&lt;chr&gt;</th></tr>\n",
       "</thead>\n",
       "<tbody>\n",
       "\t<tr><th scope=row>1</th><td>iris$Sepal.Length</td><td>iris$Sepal.Width</td><td>-0.1175698</td><td>0.95</td><td>-0.2726932</td><td>0.04351158</td><td>-1.440287</td><td>148</td><td>0.1518983</td><td>Pearson's product-moment correlation</td><td>two.sided</td></tr>\n",
       "</tbody>\n",
       "</table>\n"
      ],
      "text/latex": [
       "A report\\_table: 1 x 11\n",
       "\\begin{tabular}{r|lllllllllll}\n",
       "  & Parameter1 & Parameter2 & r & CI & CI\\_low & CI\\_high & t & df\\_error & p & Method & Alternative\\\\\n",
       "  & <chr> & <chr> & <dbl> & <dbl> & <dbl> & <dbl> & <dbl> & <int> & <dbl> & <chr> & <chr>\\\\\n",
       "\\hline\n",
       "\t1 & iris\\$Sepal.Length & iris\\$Sepal.Width & -0.1175698 & 0.95 & -0.2726932 & 0.04351158 & -1.440287 & 148 & 0.1518983 & Pearson's product-moment correlation & two.sided\\\\\n",
       "\\end{tabular}\n"
      ],
      "text/markdown": [
       "\n",
       "A report_table: 1 x 11\n",
       "\n",
       "| <!--/--> | Parameter1 &lt;chr&gt; | Parameter2 &lt;chr&gt; | r &lt;dbl&gt; | CI &lt;dbl&gt; | CI_low &lt;dbl&gt; | CI_high &lt;dbl&gt; | t &lt;dbl&gt; | df_error &lt;int&gt; | p &lt;dbl&gt; | Method &lt;chr&gt; | Alternative &lt;chr&gt; |\n",
       "|---|---|---|---|---|---|---|---|---|---|---|---|\n",
       "| 1 | iris$Sepal.Length | iris$Sepal.Width | -0.1175698 | 0.95 | -0.2726932 | 0.04351158 | -1.440287 | 148 | 0.1518983 | Pearson's product-moment correlation | two.sided |\n",
       "\n"
      ],
      "text/plain": [
       "  Parameter1        Parameter2       r          CI   CI_low     CI_high   \n",
       "1 iris$Sepal.Length iris$Sepal.Width -0.1175698 0.95 -0.2726932 0.04351158\n",
       "  t         df_error p         Method                               Alternative\n",
       "1 -1.440287 148      0.1518983 Pearson's product-moment correlation two.sided  "
      ]
     },
     "metadata": {},
     "output_type": "display_data"
    }
   ],
   "source": [
    "cor.test(iris$Sepal.Length, iris$Sepal.Width) %>%\n",
    "  report() %>%\n",
    "  as.data.frame()"
   ]
  },
  {
   "cell_type": "markdown",
   "id": "e847946d",
   "metadata": {},
   "source": [
    "# ANOVAs"
   ]
  },
  {
   "cell_type": "code",
   "execution_count": 17,
   "id": "89f61a39",
   "metadata": {
    "vscode": {
     "languageId": "r"
    }
   },
   "outputs": [
    {
     "data": {
      "text/html": [
       "<span style=white-space:pre-wrap>'The ANOVA (formula: Sepal.Length ~ Species) suggests that:\\n\\n  - The main effect of Species is statistically significant and large (F(2, 147) = 119.26, p &lt; .001; Eta2 = 0.62, 95% CI [0.54, 1.00])\\n\\nEffect sizes were labelled following Field\\'s (2013) recommendations.'</span>"
      ],
      "text/latex": [
       "'The ANOVA (formula: Sepal.Length \\textasciitilde{} Species) suggests that:\\textbackslash{}n\\textbackslash{}n  - The main effect of Species is statistically significant and large (F(2, 147) = 119.26, p < .001; Eta2 = 0.62, 95\\% CI {[}0.54, 1.00{]})\\textbackslash{}n\\textbackslash{}nEffect sizes were labelled following Field\\textbackslash{}'s (2013) recommendations.'"
      ],
      "text/markdown": [
       "<span style=white-space:pre-wrap>'The ANOVA (formula: Sepal.Length ~ Species) suggests that:\\n\\n  - The main effect of Species is statistically significant and large (F(2, 147) = 119.26, p &lt; .001; Eta2 = 0.62, 95% CI [0.54, 1.00])\\n\\nEffect sizes were labelled following Field\\'s (2013) recommendations.'</span>"
      ],
      "text/plain": [
       "The ANOVA (formula: Sepal.Length ~ Species) suggests that:\n",
       "\n",
       "  - The main effect of Species is statistically significant and large (F(2, 147)\n",
       "= 119.26, p < .001; Eta2 = 0.62, 95% CI [0.54, 1.00])\n",
       "\n",
       "Effect sizes were labelled following Field's (2013) recommendations."
      ]
     },
     "metadata": {},
     "output_type": "display_data"
    }
   ],
   "source": [
    "aov(Sepal.Length ~ Species, data = iris) %>%\n",
    "  report()"
   ]
  },
  {
   "cell_type": "markdown",
   "id": "565f6623",
   "metadata": {},
   "source": [
    "# 广义线性模型（GLMs）"
   ]
  },
  {
   "cell_type": "code",
   "execution_count": 18,
   "id": "1f5ced52",
   "metadata": {
    "vscode": {
     "languageId": "r"
    }
   },
   "outputs": [
    {
     "data": {
      "text/html": [
       "<span style=white-space:pre-wrap>'We fitted a logistic model (estimated using ML) to predict vs with mpg and drat (formula: vs ~ mpg * drat). The model\\'s explanatory power is substantial (Tjur\\'s R2 = 0.51). The model\\'s intercept, corresponding to mpg = 0 and drat = 0, is at -33.43 (95% CI [-77.90, 3.25], p = 0.083). Within this model:\\n\\n  - The effect of mpg is statistically non-significant and positive (beta = 1.79, 95% CI [-0.10, 4.05], p = 0.066; Std. beta = 3.63, 95% CI [1.36, 7.50])\\n  - The effect of drat is statistically non-significant and positive (beta = 5.96, 95% CI [-3.75, 16.26], p = 0.205; Std. beta = -0.36, 95% CI [-1.96, 0.98])\\n  - The interaction effect of drat on mpg is statistically non-significant and negative (beta = -0.33, 95% CI [-0.83, 0.15], p = 0.141; Std. beta = -1.07, 95% CI [-2.66, 0.48])\\n\\nStandardized parameters were obtained by fitting the model on a standardized version of the dataset. 95% Confidence Intervals (CIs) and p-values were computed using a Wald z-distribution approximation.'</span>"
      ],
      "text/latex": [
       "'We fitted a logistic model (estimated using ML) to predict vs with mpg and drat (formula: vs \\textasciitilde{} mpg * drat). The model\\textbackslash{}'s explanatory power is substantial (Tjur\\textbackslash{}'s R2 = 0.51). The model\\textbackslash{}'s intercept, corresponding to mpg = 0 and drat = 0, is at -33.43 (95\\% CI {[}-77.90, 3.25{]}, p = 0.083). Within this model:\\textbackslash{}n\\textbackslash{}n  - The effect of mpg is statistically non-significant and positive (beta = 1.79, 95\\% CI {[}-0.10, 4.05{]}, p = 0.066; Std. beta = 3.63, 95\\% CI {[}1.36, 7.50{]})\\textbackslash{}n  - The effect of drat is statistically non-significant and positive (beta = 5.96, 95\\% CI {[}-3.75, 16.26{]}, p = 0.205; Std. beta = -0.36, 95\\% CI {[}-1.96, 0.98{]})\\textbackslash{}n  - The interaction effect of drat on mpg is statistically non-significant and negative (beta = -0.33, 95\\% CI {[}-0.83, 0.15{]}, p = 0.141; Std. beta = -1.07, 95\\% CI {[}-2.66, 0.48{]})\\textbackslash{}n\\textbackslash{}nStandardized parameters were obtained by fitting the model on a standardized version of the dataset. 95\\% Confidence Intervals (CIs) and p-values were computed using a Wald z-distribution approximation.'"
      ],
      "text/markdown": [
       "<span style=white-space:pre-wrap>'We fitted a logistic model (estimated using ML) to predict vs with mpg and drat (formula: vs ~ mpg * drat). The model\\'s explanatory power is substantial (Tjur\\'s R2 = 0.51). The model\\'s intercept, corresponding to mpg = 0 and drat = 0, is at -33.43 (95% CI [-77.90, 3.25], p = 0.083). Within this model:\\n\\n  - The effect of mpg is statistically non-significant and positive (beta = 1.79, 95% CI [-0.10, 4.05], p = 0.066; Std. beta = 3.63, 95% CI [1.36, 7.50])\\n  - The effect of drat is statistically non-significant and positive (beta = 5.96, 95% CI [-3.75, 16.26], p = 0.205; Std. beta = -0.36, 95% CI [-1.96, 0.98])\\n  - The interaction effect of drat on mpg is statistically non-significant and negative (beta = -0.33, 95% CI [-0.83, 0.15], p = 0.141; Std. beta = -1.07, 95% CI [-2.66, 0.48])\\n\\nStandardized parameters were obtained by fitting the model on a standardized version of the dataset. 95% Confidence Intervals (CIs) and p-values were computed using a Wald z-distribution approximation.'</span>"
      ],
      "text/plain": [
       "We fitted a logistic model (estimated using ML) to predict vs with mpg and drat\n",
       "(formula: vs ~ mpg * drat). The model's explanatory power is substantial\n",
       "(Tjur's R2 = 0.51). The model's intercept, corresponding to mpg = 0 and drat =\n",
       "0, is at -33.43 (95% CI [-77.90, 3.25], p = 0.083). Within this model:\n",
       "\n",
       "  - The effect of mpg is statistically non-significant and positive (beta = 1.79,\n",
       "95% CI [-0.10, 4.05], p = 0.066; Std. beta = 3.63, 95% CI [1.36, 7.50])\n",
       "  - The effect of drat is statistically non-significant and positive (beta =\n",
       "5.96, 95% CI [-3.75, 16.26], p = 0.205; Std. beta = -0.36, 95% CI [-1.96,\n",
       "0.98])\n",
       "  - The interaction effect of drat on mpg is statistically non-significant and\n",
       "negative (beta = -0.33, 95% CI [-0.83, 0.15], p = 0.141; Std. beta = -1.07, 95%\n",
       "CI [-2.66, 0.48])\n",
       "\n",
       "Standardized parameters were obtained by fitting the model on a standardized\n",
       "version of the dataset. 95% Confidence Intervals (CIs) and p-values were\n",
       "computed using a Wald z-distribution approximation."
      ]
     },
     "metadata": {},
     "output_type": "display_data"
    }
   ],
   "source": [
    "model <- glm(vs ~ mpg * drat, data = mtcars, family = \"binomial\")\n",
    "\n",
    "report(model)"
   ]
  },
  {
   "cell_type": "markdown",
   "id": "69096e1b",
   "metadata": {},
   "source": [
    "# 混合模型"
   ]
  },
  {
   "cell_type": "code",
   "execution_count": 20,
   "id": "c814ead5",
   "metadata": {
    "vscode": {
     "languageId": "r"
    }
   },
   "outputs": [
    {
     "data": {
      "text/html": [
       "<span style=white-space:pre-wrap>'We fitted a linear mixed model (estimated using REML and nloptwrap optimizer) to predict Sepal.Length with Petal.Length (formula: Sepal.Length ~ Petal.Length). The model included Species as random effect (formula: ~1 | Species). The model\\'s total explanatory power is substantial (conditional R2 = 0.97) and the part related to the fixed effects alone (marginal R2) is of 0.66. The model\\'s intercept, corresponding to Petal.Length = 0, is at 2.50 (95% CI [1.19, 3.82], t(146) = 3.75, p &lt; .001). Within this model:\\n\\n  - The effect of Petal Length is statistically significant and positive (beta = 0.89, 95% CI [0.76, 1.01], t(146) = 13.93, p &lt; .001; Std. beta = 1.89, 95% CI [1.63, 2.16])\\n\\nStandardized parameters were obtained by fitting the model on a standardized version of the dataset. 95% Confidence Intervals (CIs) and p-values were computed using a Wald t-distribution approximation.'</span>"
      ],
      "text/latex": [
       "'We fitted a linear mixed model (estimated using REML and nloptwrap optimizer) to predict Sepal.Length with Petal.Length (formula: Sepal.Length \\textasciitilde{} Petal.Length). The model included Species as random effect (formula: \\textasciitilde{}1 \\textbar{} Species). The model\\textbackslash{}'s total explanatory power is substantial (conditional R2 = 0.97) and the part related to the fixed effects alone (marginal R2) is of 0.66. The model\\textbackslash{}'s intercept, corresponding to Petal.Length = 0, is at 2.50 (95\\% CI {[}1.19, 3.82{]}, t(146) = 3.75, p < .001). Within this model:\\textbackslash{}n\\textbackslash{}n  - The effect of Petal Length is statistically significant and positive (beta = 0.89, 95\\% CI {[}0.76, 1.01{]}, t(146) = 13.93, p < .001; Std. beta = 1.89, 95\\% CI {[}1.63, 2.16{]})\\textbackslash{}n\\textbackslash{}nStandardized parameters were obtained by fitting the model on a standardized version of the dataset. 95\\% Confidence Intervals (CIs) and p-values were computed using a Wald t-distribution approximation.'"
      ],
      "text/markdown": [
       "<span style=white-space:pre-wrap>'We fitted a linear mixed model (estimated using REML and nloptwrap optimizer) to predict Sepal.Length with Petal.Length (formula: Sepal.Length ~ Petal.Length). The model included Species as random effect (formula: ~1 | Species). The model\\'s total explanatory power is substantial (conditional R2 = 0.97) and the part related to the fixed effects alone (marginal R2) is of 0.66. The model\\'s intercept, corresponding to Petal.Length = 0, is at 2.50 (95% CI [1.19, 3.82], t(146) = 3.75, p &lt; .001). Within this model:\\n\\n  - The effect of Petal Length is statistically significant and positive (beta = 0.89, 95% CI [0.76, 1.01], t(146) = 13.93, p &lt; .001; Std. beta = 1.89, 95% CI [1.63, 2.16])\\n\\nStandardized parameters were obtained by fitting the model on a standardized version of the dataset. 95% Confidence Intervals (CIs) and p-values were computed using a Wald t-distribution approximation.'</span>"
      ],
      "text/plain": [
       "We fitted a linear mixed model (estimated using REML and nloptwrap optimizer)\n",
       "to predict Sepal.Length with Petal.Length (formula: Sepal.Length ~\n",
       "Petal.Length). The model included Species as random effect (formula: ~1 |\n",
       "Species). The model's total explanatory power is substantial (conditional R2 =\n",
       "0.97) and the part related to the fixed effects alone (marginal R2) is of 0.66.\n",
       "The model's intercept, corresponding to Petal.Length = 0, is at 2.50 (95% CI\n",
       "[1.19, 3.82], t(146) = 3.75, p < .001). Within this model:\n",
       "\n",
       "  - The effect of Petal Length is statistically significant and positive (beta =\n",
       "0.89, 95% CI [0.76, 1.01], t(146) = 13.93, p < .001; Std. beta = 1.89, 95% CI\n",
       "[1.63, 2.16])\n",
       "\n",
       "Standardized parameters were obtained by fitting the model on a standardized\n",
       "version of the dataset. 95% Confidence Intervals (CIs) and p-values were\n",
       "computed using a Wald t-distribution approximation."
      ]
     },
     "metadata": {},
     "output_type": "display_data"
    }
   ],
   "source": [
    "library(lme4)\n",
    "\n",
    "model <- lme4::lmer(Sepal.Length ~ Petal.Length + (1 | Species), data = iris)\n",
    "\n",
    "report(model)"
   ]
  },
  {
   "cell_type": "markdown",
   "id": "0dbdf959",
   "metadata": {},
   "source": [
    "# 贝叶斯模型"
   ]
  },
  {
   "cell_type": "code",
   "execution_count": 26,
   "id": "07799c9d",
   "metadata": {
    "vscode": {
     "languageId": "r"
    }
   },
   "outputs": [
    {
     "name": "stdout",
     "output_type": "stream",
     "text": [
      "\n",
      "SAMPLING FOR MODEL 'continuous' NOW (CHAIN 1).\n",
      "Chain 1: \n",
      "Chain 1: Gradient evaluation took 1.3e-05 seconds\n",
      "Chain 1: 1000 transitions using 10 leapfrog steps per transition would take 0.13 seconds.\n",
      "Chain 1: Adjust your expectations accordingly!\n",
      "Chain 1: \n",
      "Chain 1: \n",
      "Chain 1: Iteration:    1 / 2000 [  0%]  (Warmup)\n",
      "Chain 1: Iteration:  200 / 2000 [ 10%]  (Warmup)\n",
      "Chain 1: Iteration:  400 / 2000 [ 20%]  (Warmup)\n",
      "Chain 1: Iteration:  600 / 2000 [ 30%]  (Warmup)\n",
      "Chain 1: Iteration:  800 / 2000 [ 40%]  (Warmup)\n",
      "Chain 1: Iteration: 1000 / 2000 [ 50%]  (Warmup)\n",
      "Chain 1: Iteration: 1001 / 2000 [ 50%]  (Sampling)\n",
      "Chain 1: Iteration: 1200 / 2000 [ 60%]  (Sampling)\n",
      "Chain 1: Iteration: 1400 / 2000 [ 70%]  (Sampling)\n",
      "Chain 1: Iteration: 1600 / 2000 [ 80%]  (Sampling)\n",
      "Chain 1: Iteration: 1800 / 2000 [ 90%]  (Sampling)\n",
      "Chain 1: Iteration: 2000 / 2000 [100%]  (Sampling)\n",
      "Chain 1: \n",
      "Chain 1:  Elapsed Time: 0.031 seconds (Warm-up)\n",
      "Chain 1:                0.023 seconds (Sampling)\n",
      "Chain 1:                0.054 seconds (Total)\n",
      "Chain 1: \n",
      "\n",
      "SAMPLING FOR MODEL 'continuous' NOW (CHAIN 2).\n",
      "Chain 2: \n",
      "Chain 2: Gradient evaluation took 5e-06 seconds\n",
      "Chain 2: 1000 transitions using 10 leapfrog steps per transition would take 0.05 seconds.\n",
      "Chain 2: Adjust your expectations accordingly!\n",
      "Chain 2: \n",
      "Chain 2: \n",
      "Chain 2: Iteration:    1 / 2000 [  0%]  (Warmup)\n",
      "Chain 2: Iteration:  200 / 2000 [ 10%]  (Warmup)\n",
      "Chain 2: Iteration:  400 / 2000 [ 20%]  (Warmup)\n",
      "Chain 2: Iteration:  600 / 2000 [ 30%]  (Warmup)\n",
      "Chain 2: Iteration:  800 / 2000 [ 40%]  (Warmup)\n",
      "Chain 2: Iteration: 1000 / 2000 [ 50%]  (Warmup)\n",
      "Chain 2: Iteration: 1001 / 2000 [ 50%]  (Sampling)\n",
      "Chain 2: Iteration: 1200 / 2000 [ 60%]  (Sampling)\n",
      "Chain 2: Iteration: 1400 / 2000 [ 70%]  (Sampling)\n",
      "Chain 2: Iteration: 1600 / 2000 [ 80%]  (Sampling)\n",
      "Chain 2: Iteration: 1800 / 2000 [ 90%]  (Sampling)\n",
      "Chain 2: Iteration: 2000 / 2000 [100%]  (Sampling)\n",
      "Chain 2: \n",
      "Chain 2:  Elapsed Time: 0.021 seconds (Warm-up)\n",
      "Chain 2:                0.023 seconds (Sampling)\n",
      "Chain 2:                0.044 seconds (Total)\n",
      "Chain 2: \n",
      "\n",
      "SAMPLING FOR MODEL 'continuous' NOW (CHAIN 3).\n",
      "Chain 3: \n",
      "Chain 3: Gradient evaluation took 5e-06 seconds\n",
      "Chain 3: 1000 transitions using 10 leapfrog steps per transition would take 0.05 seconds.\n",
      "Chain 3: Adjust your expectations accordingly!\n",
      "Chain 3: \n",
      "Chain 3: \n",
      "Chain 3: Iteration:    1 / 2000 [  0%]  (Warmup)\n",
      "Chain 3: Iteration:  200 / 2000 [ 10%]  (Warmup)\n",
      "Chain 3: Iteration:  400 / 2000 [ 20%]  (Warmup)\n",
      "Chain 3: Iteration:  600 / 2000 [ 30%]  (Warmup)\n",
      "Chain 3: Iteration:  800 / 2000 [ 40%]  (Warmup)\n",
      "Chain 3: Iteration: 1000 / 2000 [ 50%]  (Warmup)\n",
      "Chain 3: Iteration: 1001 / 2000 [ 50%]  (Sampling)\n",
      "Chain 3: Iteration: 1200 / 2000 [ 60%]  (Sampling)\n",
      "Chain 3: Iteration: 1400 / 2000 [ 70%]  (Sampling)\n",
      "Chain 3: Iteration: 1600 / 2000 [ 80%]  (Sampling)\n",
      "Chain 3: Iteration: 1800 / 2000 [ 90%]  (Sampling)\n",
      "Chain 3: Iteration: 2000 / 2000 [100%]  (Sampling)\n",
      "Chain 3: \n",
      "Chain 3:  Elapsed Time: 0.024 seconds (Warm-up)\n",
      "Chain 3:                0.022 seconds (Sampling)\n",
      "Chain 3:                0.046 seconds (Total)\n",
      "Chain 3: \n",
      "\n",
      "SAMPLING FOR MODEL 'continuous' NOW (CHAIN 4).\n",
      "Chain 4: \n",
      "Chain 4: Gradient evaluation took 5e-06 seconds\n",
      "Chain 4: 1000 transitions using 10 leapfrog steps per transition would take 0.05 seconds.\n",
      "Chain 4: Adjust your expectations accordingly!\n",
      "Chain 4: \n",
      "Chain 4: \n",
      "Chain 4: Iteration:    1 / 2000 [  0%]  (Warmup)\n",
      "Chain 4: Iteration:  200 / 2000 [ 10%]  (Warmup)\n",
      "Chain 4: Iteration:  400 / 2000 [ 20%]  (Warmup)\n",
      "Chain 4: Iteration:  600 / 2000 [ 30%]  (Warmup)\n",
      "Chain 4: Iteration:  800 / 2000 [ 40%]  (Warmup)\n",
      "Chain 4: Iteration: 1000 / 2000 [ 50%]  (Warmup)\n",
      "Chain 4: Iteration: 1001 / 2000 [ 50%]  (Sampling)\n",
      "Chain 4: Iteration: 1200 / 2000 [ 60%]  (Sampling)\n",
      "Chain 4: Iteration: 1400 / 2000 [ 70%]  (Sampling)\n",
      "Chain 4: Iteration: 1600 / 2000 [ 80%]  (Sampling)\n",
      "Chain 4: Iteration: 1800 / 2000 [ 90%]  (Sampling)\n",
      "Chain 4: Iteration: 2000 / 2000 [100%]  (Sampling)\n",
      "Chain 4: \n",
      "Chain 4:  Elapsed Time: 0.024 seconds (Warm-up)\n",
      "Chain 4:                0.023 seconds (Sampling)\n",
      "Chain 4:                0.047 seconds (Total)\n",
      "Chain 4: \n",
      "\n",
      "SAMPLING FOR MODEL 'continuous' NOW (CHAIN 1).\n",
      "Chain 1: \n",
      "Chain 1: Gradient evaluation took 1.2e-05 seconds\n",
      "Chain 1: 1000 transitions using 10 leapfrog steps per transition would take 0.12 seconds.\n",
      "Chain 1: Adjust your expectations accordingly!\n",
      "Chain 1: \n",
      "Chain 1: \n",
      "Chain 1: Iteration:    1 / 2000 [  0%]  (Warmup)\n",
      "Chain 1: Iteration:  200 / 2000 [ 10%]  (Warmup)\n",
      "Chain 1: Iteration:  400 / 2000 [ 20%]  (Warmup)\n",
      "Chain 1: Iteration:  600 / 2000 [ 30%]  (Warmup)\n",
      "Chain 1: Iteration:  800 / 2000 [ 40%]  (Warmup)\n",
      "Chain 1: Iteration: 1000 / 2000 [ 50%]  (Warmup)\n",
      "Chain 1: Iteration: 1001 / 2000 [ 50%]  (Sampling)\n",
      "Chain 1: Iteration: 1200 / 2000 [ 60%]  (Sampling)\n",
      "Chain 1: Iteration: 1400 / 2000 [ 70%]  (Sampling)\n",
      "Chain 1: Iteration: 1600 / 2000 [ 80%]  (Sampling)\n",
      "Chain 1: Iteration: 1800 / 2000 [ 90%]  (Sampling)\n",
      "Chain 1: Iteration: 2000 / 2000 [100%]  (Sampling)\n",
      "Chain 1: \n",
      "Chain 1:  Elapsed Time: 0.022 seconds (Warm-up)\n",
      "Chain 1:                0.021 seconds (Sampling)\n",
      "Chain 1:                0.043 seconds (Total)\n",
      "Chain 1: \n",
      "\n",
      "SAMPLING FOR MODEL 'continuous' NOW (CHAIN 2).\n",
      "Chain 2: \n",
      "Chain 2: Gradient evaluation took 6e-06 seconds\n",
      "Chain 2: 1000 transitions using 10 leapfrog steps per transition would take 0.06 seconds.\n",
      "Chain 2: Adjust your expectations accordingly!\n",
      "Chain 2: \n",
      "Chain 2: \n",
      "Chain 2: Iteration:    1 / 2000 [  0%]  (Warmup)\n",
      "Chain 2: Iteration:  200 / 2000 [ 10%]  (Warmup)\n",
      "Chain 2: Iteration:  400 / 2000 [ 20%]  (Warmup)\n",
      "Chain 2: Iteration:  600 / 2000 [ 30%]  (Warmup)\n",
      "Chain 2: Iteration:  800 / 2000 [ 40%]  (Warmup)\n",
      "Chain 2: Iteration: 1000 / 2000 [ 50%]  (Warmup)\n",
      "Chain 2: Iteration: 1001 / 2000 [ 50%]  (Sampling)\n",
      "Chain 2: Iteration: 1200 / 2000 [ 60%]  (Sampling)\n",
      "Chain 2: Iteration: 1400 / 2000 [ 70%]  (Sampling)\n",
      "Chain 2: Iteration: 1600 / 2000 [ 80%]  (Sampling)\n",
      "Chain 2: Iteration: 1800 / 2000 [ 90%]  (Sampling)\n",
      "Chain 2: Iteration: 2000 / 2000 [100%]  (Sampling)\n",
      "Chain 2: \n",
      "Chain 2:  Elapsed Time: 0.02 seconds (Warm-up)\n",
      "Chain 2:                0.021 seconds (Sampling)\n",
      "Chain 2:                0.041 seconds (Total)\n",
      "Chain 2: \n",
      "\n",
      "SAMPLING FOR MODEL 'continuous' NOW (CHAIN 3).\n",
      "Chain 3: \n",
      "Chain 3: Gradient evaluation took 5e-06 seconds\n",
      "Chain 3: 1000 transitions using 10 leapfrog steps per transition would take 0.05 seconds.\n",
      "Chain 3: Adjust your expectations accordingly!\n",
      "Chain 3: \n",
      "Chain 3: \n",
      "Chain 3: Iteration:    1 / 2000 [  0%]  (Warmup)\n",
      "Chain 3: Iteration:  200 / 2000 [ 10%]  (Warmup)\n",
      "Chain 3: Iteration:  400 / 2000 [ 20%]  (Warmup)\n",
      "Chain 3: Iteration:  600 / 2000 [ 30%]  (Warmup)\n",
      "Chain 3: Iteration:  800 / 2000 [ 40%]  (Warmup)\n",
      "Chain 3: Iteration: 1000 / 2000 [ 50%]  (Warmup)\n",
      "Chain 3: Iteration: 1001 / 2000 [ 50%]  (Sampling)\n",
      "Chain 3: Iteration: 1200 / 2000 [ 60%]  (Sampling)\n",
      "Chain 3: Iteration: 1400 / 2000 [ 70%]  (Sampling)\n",
      "Chain 3: Iteration: 1600 / 2000 [ 80%]  (Sampling)\n",
      "Chain 3: Iteration: 1800 / 2000 [ 90%]  (Sampling)\n",
      "Chain 3: Iteration: 2000 / 2000 [100%]  (Sampling)\n",
      "Chain 3: \n",
      "Chain 3:  Elapsed Time: 0.02 seconds (Warm-up)\n",
      "Chain 3:                0.022 seconds (Sampling)\n",
      "Chain 3:                0.042 seconds (Total)\n",
      "Chain 3: \n",
      "\n",
      "SAMPLING FOR MODEL 'continuous' NOW (CHAIN 4).\n",
      "Chain 4: \n",
      "Chain 4: Gradient evaluation took 4.2e-05 seconds\n",
      "Chain 4: 1000 transitions using 10 leapfrog steps per transition would take 0.42 seconds.\n",
      "Chain 4: Adjust your expectations accordingly!\n",
      "Chain 4: \n",
      "Chain 4: \n",
      "Chain 4: Iteration:    1 / 2000 [  0%]  (Warmup)\n",
      "Chain 4: Iteration:  200 / 2000 [ 10%]  (Warmup)\n",
      "Chain 4: Iteration:  400 / 2000 [ 20%]  (Warmup)\n",
      "Chain 4: Iteration:  600 / 2000 [ 30%]  (Warmup)\n",
      "Chain 4: Iteration:  800 / 2000 [ 40%]  (Warmup)\n",
      "Chain 4: Iteration: 1000 / 2000 [ 50%]  (Warmup)\n",
      "Chain 4: Iteration: 1001 / 2000 [ 50%]  (Sampling)\n",
      "Chain 4: Iteration: 1200 / 2000 [ 60%]  (Sampling)\n",
      "Chain 4: Iteration: 1400 / 2000 [ 70%]  (Sampling)\n",
      "Chain 4: Iteration: 1600 / 2000 [ 80%]  (Sampling)\n",
      "Chain 4: Iteration: 1800 / 2000 [ 90%]  (Sampling)\n",
      "Chain 4: Iteration: 2000 / 2000 [100%]  (Sampling)\n",
      "Chain 4: \n",
      "Chain 4:  Elapsed Time: 0.021 seconds (Warm-up)\n",
      "Chain 4:                0.022 seconds (Sampling)\n",
      "Chain 4:                0.043 seconds (Total)\n",
      "Chain 4: \n"
     ]
    },
    {
     "data": {
      "text/html": [
       "<span style=white-space:pre-wrap>'We fitted a Bayesian linear model (estimated using MCMC sampling with 4 chains of 2000 iterations and a warmup of 1000) to predict mpg with qsec and wt (formula: mpg ~ qsec + wt). Priors over parameters were all set as normal (mean = 0.00, SD = 8.43; mean = 0.00, SD = 15.40) distributions. The model\\'s explanatory power is substantial (R2 = 0.81, 95% CI [0.70, 0.89], adj. R2 = 0.79). The model\\'s intercept, corresponding to qsec = 0 and wt = 0, is at 19.84 (95% CI [9.05, 30.89]). Within this model:\\n\\n  - The effect of qsec (Median = 0.93, 95% CI [0.37, 1.47]) has a 99.85% probability of being positive (&gt; 0), 98.60% of being significant (&gt; 0.30), and 0.12% of being large (&gt; 1.81). The estimation successfully converged (Rhat = 1.000) and the indices are reliable (ESS = 3968)\\n  - The effect of wt (Median = -5.06, 95% CI [-6.07, -4.06]) has a 100.00% probability of being negative (&lt; 0), 100.00% of being significant (&lt; -0.30), and 100.00% of being large (&lt; -1.81). The estimation successfully converged (Rhat = 0.999) and the indices are reliable (ESS = 4070)\\n\\nFollowing the Sequential Effect eXistence and sIgnificance Testing (SEXIT) framework, we report the median of the posterior distribution and its 95% CI (Highest Density Interval), along the probability of direction (pd), the probability of significance and the probability of being large. The thresholds beyond which the effect is considered as significant (i.e., non-negligible) and large are |0.30| and |1.81| (corresponding respectively to 0.05 and 0.30 of the outcome\\'s SD). Convergence and stability of the Bayesian sampling has been assessed using R-hat, which should be below 1.01 (Vehtari et al., 2019), and Effective Sample Size (ESS), which should be greater than 1000 (Burkner, 2017).'</span>"
      ],
      "text/latex": [
       "'We fitted a Bayesian linear model (estimated using MCMC sampling with 4 chains of 2000 iterations and a warmup of 1000) to predict mpg with qsec and wt (formula: mpg \\textasciitilde{} qsec + wt). Priors over parameters were all set as normal (mean = 0.00, SD = 8.43; mean = 0.00, SD = 15.40) distributions. The model\\textbackslash{}'s explanatory power is substantial (R2 = 0.81, 95\\% CI {[}0.70, 0.89{]}, adj. R2 = 0.79). The model\\textbackslash{}'s intercept, corresponding to qsec = 0 and wt = 0, is at 19.84 (95\\% CI {[}9.05, 30.89{]}). Within this model:\\textbackslash{}n\\textbackslash{}n  - The effect of qsec (Median = 0.93, 95\\% CI {[}0.37, 1.47{]}) has a 99.85\\% probability of being positive (> 0), 98.60\\% of being significant (> 0.30), and 0.12\\% of being large (> 1.81). The estimation successfully converged (Rhat = 1.000) and the indices are reliable (ESS = 3968)\\textbackslash{}n  - The effect of wt (Median = -5.06, 95\\% CI {[}-6.07, -4.06{]}) has a 100.00\\% probability of being negative (< 0), 100.00\\% of being significant (< -0.30), and 100.00\\% of being large (< -1.81). The estimation successfully converged (Rhat = 0.999) and the indices are reliable (ESS = 4070)\\textbackslash{}n\\textbackslash{}nFollowing the Sequential Effect eXistence and sIgnificance Testing (SEXIT) framework, we report the median of the posterior distribution and its 95\\% CI (Highest Density Interval), along the probability of direction (pd), the probability of significance and the probability of being large. The thresholds beyond which the effect is considered as significant (i.e., non-negligible) and large are \\textbar{}0.30\\textbar{} and \\textbar{}1.81\\textbar{} (corresponding respectively to 0.05 and 0.30 of the outcome\\textbackslash{}'s SD). Convergence and stability of the Bayesian sampling has been assessed using R-hat, which should be below 1.01 (Vehtari et al., 2019), and Effective Sample Size (ESS), which should be greater than 1000 (Burkner, 2017).'"
      ],
      "text/markdown": [
       "<span style=white-space:pre-wrap>'We fitted a Bayesian linear model (estimated using MCMC sampling with 4 chains of 2000 iterations and a warmup of 1000) to predict mpg with qsec and wt (formula: mpg ~ qsec + wt). Priors over parameters were all set as normal (mean = 0.00, SD = 8.43; mean = 0.00, SD = 15.40) distributions. The model\\'s explanatory power is substantial (R2 = 0.81, 95% CI [0.70, 0.89], adj. R2 = 0.79). The model\\'s intercept, corresponding to qsec = 0 and wt = 0, is at 19.84 (95% CI [9.05, 30.89]). Within this model:\\n\\n  - The effect of qsec (Median = 0.93, 95% CI [0.37, 1.47]) has a 99.85% probability of being positive (&gt; 0), 98.60% of being significant (&gt; 0.30), and 0.12% of being large (&gt; 1.81). The estimation successfully converged (Rhat = 1.000) and the indices are reliable (ESS = 3968)\\n  - The effect of wt (Median = -5.06, 95% CI [-6.07, -4.06]) has a 100.00% probability of being negative (&lt; 0), 100.00% of being significant (&lt; -0.30), and 100.00% of being large (&lt; -1.81). The estimation successfully converged (Rhat = 0.999) and the indices are reliable (ESS = 4070)\\n\\nFollowing the Sequential Effect eXistence and sIgnificance Testing (SEXIT) framework, we report the median of the posterior distribution and its 95% CI (Highest Density Interval), along the probability of direction (pd), the probability of significance and the probability of being large. The thresholds beyond which the effect is considered as significant (i.e., non-negligible) and large are |0.30| and |1.81| (corresponding respectively to 0.05 and 0.30 of the outcome\\'s SD). Convergence and stability of the Bayesian sampling has been assessed using R-hat, which should be below 1.01 (Vehtari et al., 2019), and Effective Sample Size (ESS), which should be greater than 1000 (Burkner, 2017).'</span>"
      ],
      "text/plain": [
       "We fitted a Bayesian linear model (estimated using MCMC sampling with 4 chains\n",
       "of 2000 iterations and a warmup of 1000) to predict mpg with qsec and wt\n",
       "(formula: mpg ~ qsec + wt). Priors over parameters were all set as normal (mean\n",
       "= 0.00, SD = 8.43; mean = 0.00, SD = 15.40) distributions. The model's\n",
       "explanatory power is substantial (R2 = 0.81, 95% CI [0.70, 0.89], adj. R2 =\n",
       "0.79). The model's intercept, corresponding to qsec = 0 and wt = 0, is at 19.84\n",
       "(95% CI [9.05, 30.89]). Within this model:\n",
       "\n",
       "  - The effect of qsec (Median = 0.93, 95% CI [0.37, 1.47]) has a 99.85%\n",
       "probability of being positive (> 0), 98.60% of being significant (> 0.30), and\n",
       "0.12% of being large (> 1.81). The estimation successfully converged (Rhat =\n",
       "1.000) and the indices are reliable (ESS = 3968)\n",
       "  - The effect of wt (Median = -5.06, 95% CI [-6.07, -4.06]) has a 100.00%\n",
       "probability of being negative (< 0), 100.00% of being significant (< -0.30),\n",
       "and 100.00% of being large (< -1.81). The estimation successfully converged\n",
       "(Rhat = 0.999) and the indices are reliable (ESS = 4070)\n",
       "\n",
       "Following the Sequential Effect eXistence and sIgnificance Testing (SEXIT)\n",
       "framework, we report the median of the posterior distribution and its 95% CI\n",
       "(Highest Density Interval), along the probability of direction (pd), the\n",
       "probability of significance and the probability of being large. The thresholds\n",
       "beyond which the effect is considered as significant (i.e., non-negligible) and\n",
       "large are |0.30| and |1.81| (corresponding respectively to 0.05 and 0.30 of the\n",
       "outcome's SD). Convergence and stability of the Bayesian sampling has been\n",
       "assessed using R-hat, which should be below 1.01 (Vehtari et al., 2019), and\n",
       "Effective Sample Size (ESS), which should be greater than 1000 (Burkner, 2017)."
      ]
     },
     "metadata": {},
     "output_type": "display_data"
    }
   ],
   "source": [
    "library(rstanarm)\n",
    "\n",
    "model <- stan_glm(mpg ~ qsec + wt, data = mtcars)\n",
    "\n",
    "report(model)"
   ]
  }
 ],
 "metadata": {
  "kernelspec": {
   "display_name": "R",
   "language": "R",
   "name": "ir"
  },
  "language_info": {
   "codemirror_mode": "r",
   "file_extension": ".r",
   "mimetype": "text/x-r-source",
   "name": "R",
   "pygments_lexer": "r",
   "version": "4.4.2"
  }
 },
 "nbformat": 4,
 "nbformat_minor": 5
}

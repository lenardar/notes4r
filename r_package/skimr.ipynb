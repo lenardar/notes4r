{
 "cells": [
  {
   "cell_type": "markdown",
   "id": "26e21f75",
   "metadata": {},
   "source": [
    "学习R语言{skimr}包"
   ]
  },
  {
   "cell_type": "code",
   "execution_count": 4,
   "id": "42f37f94",
   "metadata": {
    "vscode": {
     "languageId": "r"
    }
   },
   "outputs": [
    {
     "name": "stdout",
     "output_type": "stream",
     "text": [
      "-- Data Summary ------------------------\n",
      "                           Values\n",
      "Name                       iris  \n",
      "Number of rows             150   \n",
      "Number of columns          5     \n",
      "_______________________          \n",
      "Column type frequency:           \n",
      "  factor                   1     \n",
      "  numeric                  4     \n",
      "________________________         \n",
      "Group variables            None  \n",
      "\n",
      "-- Variable type: factor -------------------------------------------------------\n",
      "  skim_variable n_missing complete_rate ordered n_unique\n",
      "\u001b[90m1\u001b[39m Species               0             1 FALSE          3\n",
      "  top_counts               \n",
      "\u001b[90m1\u001b[39m set: 50, ver: 50, vir: 50\n",
      "\n",
      "-- Variable type: numeric ------------------------------------------------------\n",
      "  skim_variable n_missing complete_rate mean    sd  p0 p25  p50 p75 p100\n",
      "\u001b[90m1\u001b[39m Sepal.Length          0             1 5.84 0.828 4.3 5.1 5.8  6.4  7.9\n",
      "\u001b[90m2\u001b[39m Sepal.Width           0             1 3.06 0.436 2   2.8 3    3.3  4.4\n",
      "\u001b[90m3\u001b[39m Petal.Length          0             1 3.76 1.77  1   1.6 4.35 5.1  6.9\n",
      "\u001b[90m4\u001b[39m Petal.Width           0             1 1.20 0.762 0.1 0.3 1.3  1.8  2.5\n",
      "  hist                            \n",
      "\u001b[90m1\u001b[39m \u001b[90m\"\u001b[39m\\u2586\\u2587\\u2587\\u2585\\u2582\u001b[90m\"\u001b[39m\n",
      "\u001b[90m2\u001b[39m \u001b[90m\"\u001b[39m\\u2581\\u2586\\u2587\\u2582\\u2581\u001b[90m\"\u001b[39m\n",
      "\u001b[90m3\u001b[39m \u001b[90m\"\u001b[39m\\u2587\\u2581\\u2586\\u2587\\u2582\u001b[90m\"\u001b[39m\n",
      "\u001b[90m4\u001b[39m \u001b[90m\"\u001b[39m\\u2587\\u2581\\u2587\\u2585\\u2583\u001b[90m\"\u001b[39m\n"
     ]
    }
   ],
   "source": [
    "library(skimr)\n",
    "library(tidyverse)\n",
    "skim(iris) %>% print()"
   ]
  },
  {
   "cell_type": "code",
   "execution_count": 5,
   "id": "035f6ca3",
   "metadata": {
    "vscode": {
     "languageId": "r"
    }
   },
   "outputs": [
    {
     "data": {
      "text/html": [
       "TRUE"
      ],
      "text/latex": [
       "TRUE"
      ],
      "text/markdown": [
       "TRUE"
      ],
      "text/plain": [
       "[1] TRUE\n",
       "attr(,\"message\")\n",
       "character(0)"
      ]
     },
     "metadata": {},
     "output_type": "display_data"
    }
   ],
   "source": [
    "skim(iris) %>% is_skim_df()\n"
   ]
  },
  {
   "cell_type": "code",
   "execution_count": 6,
   "id": "56450c08",
   "metadata": {
    "vscode": {
     "languageId": "r"
    }
   },
   "outputs": [
    {
     "data": {
      "text/html": [
       "FALSE"
      ],
      "text/latex": [
       "FALSE"
      ],
      "text/markdown": [
       "FALSE"
      ],
      "text/plain": [
       "[1] FALSE\n",
       "attr(,\"message\")\n",
       "[1] \"Object is not a `skim_df`: missing column `skim_type`; missing column `skim_variable`\""
      ]
     },
     "metadata": {},
     "output_type": "display_data"
    }
   ],
   "source": [
    "skim(iris) %>%\n",
    "  dplyr::select(-skim_type, -skim_variable) %>% is_skim_df()"
   ]
  },
  {
   "cell_type": "code",
   "execution_count": 7,
   "id": "1cce4286",
   "metadata": {
    "vscode": {
     "languageId": "r"
    }
   },
   "outputs": [
    {
     "data": {
      "text/html": [
       "TRUE"
      ],
      "text/latex": [
       "TRUE"
      ],
      "text/markdown": [
       "TRUE"
      ],
      "text/plain": [
       "[1] TRUE\n",
       "attr(,\"message\")\n",
       "character(0)"
      ]
     },
     "metadata": {},
     "output_type": "display_data"
    }
   ],
   "source": [
    "skim(iris) %>%\n",
    "  dplyr::select(-n_missing) %>% is_skim_df()"
   ]
  },
  {
   "cell_type": "code",
   "execution_count": 8,
   "id": "33f0d0a6",
   "metadata": {
    "vscode": {
     "languageId": "r"
    }
   },
   "outputs": [
    {
     "data": {
      "text/html": [
       "<table class=\"dataframe\">\n",
       "<caption>A tibble: 5 x 15</caption>\n",
       "<thead>\n",
       "\t<tr><th scope=col>skim_type</th><th scope=col>skim_variable</th><th scope=col>n_missing</th><th scope=col>complete_rate</th><th scope=col>factor.ordered</th><th scope=col>factor.n_unique</th><th scope=col>factor.top_counts</th><th scope=col>numeric.mean</th><th scope=col>numeric.sd</th><th scope=col>numeric.p0</th><th scope=col>numeric.p25</th><th scope=col>numeric.p50</th><th scope=col>numeric.p75</th><th scope=col>numeric.p100</th><th scope=col>numeric.hist</th></tr>\n",
       "\t<tr><th scope=col>&lt;chr&gt;</th><th scope=col>&lt;chr&gt;</th><th scope=col>&lt;int&gt;</th><th scope=col>&lt;dbl&gt;</th><th scope=col>&lt;lgl&gt;</th><th scope=col>&lt;int&gt;</th><th scope=col>&lt;chr&gt;</th><th scope=col>&lt;dbl&gt;</th><th scope=col>&lt;dbl&gt;</th><th scope=col>&lt;dbl&gt;</th><th scope=col>&lt;dbl&gt;</th><th scope=col>&lt;dbl&gt;</th><th scope=col>&lt;dbl&gt;</th><th scope=col>&lt;dbl&gt;</th><th scope=col>&lt;chr&gt;</th></tr>\n",
       "</thead>\n",
       "<tbody>\n",
       "\t<tr><td>factor </td><td>Species     </td><td>0</td><td>1</td><td>FALSE</td><td> 3</td><td>set: 50, ver: 50, vir: 50</td><td>      NA</td><td>       NA</td><td> NA</td><td> NA</td><td>  NA</td><td> NA</td><td> NA</td><td>NA                                      </td></tr>\n",
       "\t<tr><td>numeric</td><td>Sepal.Length</td><td>0</td><td>1</td><td><span style=white-space:pre-wrap>   NA</span></td><td>NA</td><td><span style=white-space:pre-wrap>NA                       </span></td><td>5.843333</td><td>0.8280661</td><td>4.3</td><td>5.1</td><td>5.80</td><td>6.4</td><td>7.9</td><td>&lt;U+2586&gt;&lt;U+2587&gt;&lt;U+2587&gt;&lt;U+2585&gt;&lt;U+2582&gt;</td></tr>\n",
       "\t<tr><td>numeric</td><td>Sepal.Width </td><td>0</td><td>1</td><td><span style=white-space:pre-wrap>   NA</span></td><td>NA</td><td><span style=white-space:pre-wrap>NA                       </span></td><td>3.057333</td><td>0.4358663</td><td>2.0</td><td>2.8</td><td>3.00</td><td>3.3</td><td>4.4</td><td>&lt;U+2581&gt;&lt;U+2586&gt;&lt;U+2587&gt;&lt;U+2582&gt;&lt;U+2581&gt;</td></tr>\n",
       "\t<tr><td>numeric</td><td>Petal.Length</td><td>0</td><td>1</td><td><span style=white-space:pre-wrap>   NA</span></td><td>NA</td><td><span style=white-space:pre-wrap>NA                       </span></td><td>3.758000</td><td>1.7652982</td><td>1.0</td><td>1.6</td><td>4.35</td><td>5.1</td><td>6.9</td><td>&lt;U+2587&gt;&lt;U+2581&gt;&lt;U+2586&gt;&lt;U+2587&gt;&lt;U+2582&gt;</td></tr>\n",
       "\t<tr><td>numeric</td><td>Petal.Width </td><td>0</td><td>1</td><td><span style=white-space:pre-wrap>   NA</span></td><td>NA</td><td><span style=white-space:pre-wrap>NA                       </span></td><td>1.199333</td><td>0.7622377</td><td>0.1</td><td>0.3</td><td>1.30</td><td>1.8</td><td>2.5</td><td>&lt;U+2587&gt;&lt;U+2581&gt;&lt;U+2587&gt;&lt;U+2585&gt;&lt;U+2583&gt;</td></tr>\n",
       "</tbody>\n",
       "</table>\n"
      ],
      "text/latex": [
       "A tibble: 5 x 15\n",
       "\\begin{tabular}{lllllllllllllll}\n",
       " skim\\_type & skim\\_variable & n\\_missing & complete\\_rate & factor.ordered & factor.n\\_unique & factor.top\\_counts & numeric.mean & numeric.sd & numeric.p0 & numeric.p25 & numeric.p50 & numeric.p75 & numeric.p100 & numeric.hist\\\\\n",
       " <chr> & <chr> & <int> & <dbl> & <lgl> & <int> & <chr> & <dbl> & <dbl> & <dbl> & <dbl> & <dbl> & <dbl> & <dbl> & <chr>\\\\\n",
       "\\hline\n",
       "\t factor  & Species      & 0 & 1 & FALSE &  3 & set: 50, ver: 50, vir: 50 &       NA &        NA &  NA &  NA &   NA &  NA &  NA & NA                                      \\\\\n",
       "\t numeric & Sepal.Length & 0 & 1 &    NA & NA & NA                        & 5.843333 & 0.8280661 & 4.3 & 5.1 & 5.80 & 6.4 & 7.9 & <U+2586><U+2587><U+2587><U+2585><U+2582>\\\\\n",
       "\t numeric & Sepal.Width  & 0 & 1 &    NA & NA & NA                        & 3.057333 & 0.4358663 & 2.0 & 2.8 & 3.00 & 3.3 & 4.4 & <U+2581><U+2586><U+2587><U+2582><U+2581>\\\\\n",
       "\t numeric & Petal.Length & 0 & 1 &    NA & NA & NA                        & 3.758000 & 1.7652982 & 1.0 & 1.6 & 4.35 & 5.1 & 6.9 & <U+2587><U+2581><U+2586><U+2587><U+2582>\\\\\n",
       "\t numeric & Petal.Width  & 0 & 1 &    NA & NA & NA                        & 1.199333 & 0.7622377 & 0.1 & 0.3 & 1.30 & 1.8 & 2.5 & <U+2587><U+2581><U+2587><U+2585><U+2583>\\\\\n",
       "\\end{tabular}\n"
      ],
      "text/markdown": [
       "\n",
       "A tibble: 5 x 15\n",
       "\n",
       "| skim_type &lt;chr&gt; | skim_variable &lt;chr&gt; | n_missing &lt;int&gt; | complete_rate &lt;dbl&gt; | factor.ordered &lt;lgl&gt; | factor.n_unique &lt;int&gt; | factor.top_counts &lt;chr&gt; | numeric.mean &lt;dbl&gt; | numeric.sd &lt;dbl&gt; | numeric.p0 &lt;dbl&gt; | numeric.p25 &lt;dbl&gt; | numeric.p50 &lt;dbl&gt; | numeric.p75 &lt;dbl&gt; | numeric.p100 &lt;dbl&gt; | numeric.hist &lt;chr&gt; |\n",
       "|---|---|---|---|---|---|---|---|---|---|---|---|---|---|---|\n",
       "| factor  | Species      | 0 | 1 | FALSE |  3 | set: 50, ver: 50, vir: 50 |       NA |        NA |  NA |  NA |   NA |  NA |  NA | NA                                       |\n",
       "| numeric | Sepal.Length | 0 | 1 |    NA | NA | NA                        | 5.843333 | 0.8280661 | 4.3 | 5.1 | 5.80 | 6.4 | 7.9 | &lt;U+2586&gt;&lt;U+2587&gt;&lt;U+2587&gt;&lt;U+2585&gt;&lt;U+2582&gt; |\n",
       "| numeric | Sepal.Width  | 0 | 1 |    NA | NA | NA                        | 3.057333 | 0.4358663 | 2.0 | 2.8 | 3.00 | 3.3 | 4.4 | &lt;U+2581&gt;&lt;U+2586&gt;&lt;U+2587&gt;&lt;U+2582&gt;&lt;U+2581&gt; |\n",
       "| numeric | Petal.Length | 0 | 1 |    NA | NA | NA                        | 3.758000 | 1.7652982 | 1.0 | 1.6 | 4.35 | 5.1 | 6.9 | &lt;U+2587&gt;&lt;U+2581&gt;&lt;U+2586&gt;&lt;U+2587&gt;&lt;U+2582&gt; |\n",
       "| numeric | Petal.Width  | 0 | 1 |    NA | NA | NA                        | 1.199333 | 0.7622377 | 0.1 | 0.3 | 1.30 | 1.8 | 2.5 | &lt;U+2587&gt;&lt;U+2581&gt;&lt;U+2587&gt;&lt;U+2585&gt;&lt;U+2583&gt; |\n",
       "\n"
      ],
      "text/plain": [
       "  skim_type skim_variable n_missing complete_rate factor.ordered\n",
       "1 factor    Species       0         1             FALSE         \n",
       "2 numeric   Sepal.Length  0         1                NA         \n",
       "3 numeric   Sepal.Width   0         1                NA         \n",
       "4 numeric   Petal.Length  0         1                NA         \n",
       "5 numeric   Petal.Width   0         1                NA         \n",
       "  factor.n_unique factor.top_counts         numeric.mean numeric.sd numeric.p0\n",
       "1  3              set: 50, ver: 50, vir: 50       NA            NA   NA       \n",
       "2 NA              NA                        5.843333     0.8280661  4.3       \n",
       "3 NA              NA                        3.057333     0.4358663  2.0       \n",
       "4 NA              NA                        3.758000     1.7652982  1.0       \n",
       "5 NA              NA                        1.199333     0.7622377  0.1       \n",
       "  numeric.p25 numeric.p50 numeric.p75 numeric.p100\n",
       "1  NA           NA         NA          NA         \n",
       "2 5.1         5.80        6.4         7.9         \n",
       "3 2.8         3.00        3.3         4.4         \n",
       "4 1.6         4.35        5.1         6.9         \n",
       "5 0.3         1.30        1.8         2.5         \n",
       "  numeric.hist                            \n",
       "1 NA                                      \n",
       "2 <U+2586><U+2587><U+2587><U+2585><U+2582>\n",
       "3 <U+2581><U+2586><U+2587><U+2582><U+2581>\n",
       "4 <U+2587><U+2581><U+2586><U+2587><U+2582>\n",
       "5 <U+2587><U+2581><U+2587><U+2585><U+2583>"
      ]
     },
     "metadata": {},
     "output_type": "display_data"
    }
   ],
   "source": [
    "skim(iris) %>%\n",
    "  tibble::as_tibble()"
   ]
  }
 ],
 "metadata": {
  "kernelspec": {
   "display_name": "R",
   "language": "R",
   "name": "ir"
  },
  "language_info": {
   "codemirror_mode": "r",
   "file_extension": ".r",
   "mimetype": "text/x-r-source",
   "name": "R",
   "pygments_lexer": "r",
   "version": "4.4.2"
  }
 },
 "nbformat": 4,
 "nbformat_minor": 5
}

{
 "cells": [
  {
   "cell_type": "markdown",
   "metadata": {},
   "source": [
    "学习tableone包绘制table1。"
   ]
  },
  {
   "cell_type": "code",
   "execution_count": 1,
   "metadata": {
    "vscode": {
     "languageId": "r"
    }
   },
   "outputs": [
    {
     "name": "stderr",
     "output_type": "stream",
     "text": [
      "also installing the dependencies 'gtools', 'gdata', 'gmodels'\n",
      "\n",
      "\n"
     ]
    },
    {
     "name": "stdout",
     "output_type": "stream",
     "text": [
      "\n",
      "The downloaded binary packages are in\n",
      "\t/var/folders/fv/c0dh9y6s7638rh5fdr3lgcmr0000gn/T//RtmpcuI8dr/downloaded_packages\n"
     ]
    }
   ],
   "source": [
    "install.packages(\"tableone\")"
   ]
  },
  {
   "cell_type": "code",
   "execution_count": 2,
   "metadata": {
    "vscode": {
     "languageId": "r"
    }
   },
   "outputs": [],
   "source": [
    "library(tableone)"
   ]
  },
  {
   "cell_type": "code",
   "execution_count": 4,
   "metadata": {
    "vscode": {
     "languageId": "r"
    }
   },
   "outputs": [
    {
     "name": "stderr",
     "output_type": "stream",
     "text": [
      "-- \u001b[1mAttaching core tidyverse packages\u001b[22m ------------------------ tidyverse 2.0.0 --\n",
      "\u001b[32mv\u001b[39m \u001b[34mdplyr    \u001b[39m 1.1.4     \u001b[32mv\u001b[39m \u001b[34mreadr    \u001b[39m 2.1.5\n",
      "\u001b[32mv\u001b[39m \u001b[34mforcats  \u001b[39m 1.0.0     \u001b[32mv\u001b[39m \u001b[34mstringr  \u001b[39m 1.5.1\n",
      "\u001b[32mv\u001b[39m \u001b[34mggplot2  \u001b[39m 3.5.1     \u001b[32mv\u001b[39m \u001b[34mtibble   \u001b[39m 3.2.1\n",
      "\u001b[32mv\u001b[39m \u001b[34mlubridate\u001b[39m 1.9.4     \u001b[32mv\u001b[39m \u001b[34mtidyr    \u001b[39m 1.3.1\n",
      "\u001b[32mv\u001b[39m \u001b[34mpurrr    \u001b[39m 1.0.2     \n",
      "-- \u001b[1mConflicts\u001b[22m ------------------------------------------ tidyverse_conflicts() --\n",
      "\u001b[31mx\u001b[39m \u001b[34mdplyr\u001b[39m::\u001b[32mfilter()\u001b[39m masks \u001b[34mstats\u001b[39m::filter()\n",
      "\u001b[31mx\u001b[39m \u001b[34mdplyr\u001b[39m::\u001b[32mlag()\u001b[39m    masks \u001b[34mstats\u001b[39m::lag()\n",
      "\u001b[36mi\u001b[39m Use the conflicted package (\u001b[3m\u001b[34m<http://conflicted.r-lib.org/>\u001b[39m\u001b[23m) to force all conflicts to become errors\n"
     ]
    }
   ],
   "source": [
    "library(tidyverse)"
   ]
  },
  {
   "cell_type": "markdown",
   "metadata": {},
   "source": [
    "# Table 1（2列）"
   ]
  },
  {
   "cell_type": "code",
   "execution_count": 5,
   "metadata": {
    "vscode": {
     "languageId": "r"
    }
   },
   "outputs": [
    {
     "name": "stderr",
     "output_type": "stream",
     "text": [
      "\u001b[1mRows: \u001b[22m\u001b[34m5000\u001b[39m \u001b[1mColumns: \u001b[22m\u001b[34m16\u001b[39m\n",
      "\u001b[36m--\u001b[39m \u001b[1mColumn specification\u001b[22m \u001b[36m--------------------------------------------------------\u001b[39m\n",
      "\u001b[1mDelimiter:\u001b[22m \",\"\n",
      "\u001b[31mchr\u001b[39m (14): age70, race, marry, t, n, tnm, er, pr, her2, g, sur, rt, che, status\n",
      "\u001b[32mdbl\u001b[39m  (2): age, time\n",
      "\n",
      "\u001b[36mi\u001b[39m Use `spec()` to retrieve the full column specification for this data.\n",
      "\u001b[36mi\u001b[39m Specify the column types or set `show_col_types = FALSE` to quiet this message.\n"
     ]
    }
   ],
   "source": [
    "# 读取数据\n",
    "aa <- read_csv(\"./data/20210126.csv\")"
   ]
  },
  {
   "cell_type": "code",
   "execution_count": 6,
   "metadata": {
    "vscode": {
     "languageId": "r"
    }
   },
   "outputs": [
    {
     "data": {
      "text/html": [
       "<table class=\"dataframe\">\n",
       "<caption>A spec_tbl_df: 5000 x 16</caption>\n",
       "<thead>\n",
       "\t<tr><th scope=col>age</th><th scope=col>age70</th><th scope=col>race</th><th scope=col>marry</th><th scope=col>t</th><th scope=col>n</th><th scope=col>tnm</th><th scope=col>er</th><th scope=col>pr</th><th scope=col>her2</th><th scope=col>g</th><th scope=col>sur</th><th scope=col>rt</th><th scope=col>che</th><th scope=col>status</th><th scope=col>time</th></tr>\n",
       "\t<tr><th scope=col>&lt;dbl&gt;</th><th scope=col>&lt;chr&gt;</th><th scope=col>&lt;chr&gt;</th><th scope=col>&lt;chr&gt;</th><th scope=col>&lt;chr&gt;</th><th scope=col>&lt;chr&gt;</th><th scope=col>&lt;chr&gt;</th><th scope=col>&lt;chr&gt;</th><th scope=col>&lt;chr&gt;</th><th scope=col>&lt;chr&gt;</th><th scope=col>&lt;chr&gt;</th><th scope=col>&lt;chr&gt;</th><th scope=col>&lt;chr&gt;</th><th scope=col>&lt;chr&gt;</th><th scope=col>&lt;chr&gt;</th><th scope=col>&lt;dbl&gt;</th></tr>\n",
       "</thead>\n",
       "<tbody>\n",
       "\t<tr><td>58</td><td>&lt;=70</td><td>White</td><td><span style=white-space:pre-wrap>Single  </span></td><td>T3</td><td>N3</td><td>IIIC</td><td>Negative</td><td>Negative</td><td>Positive</td><td>III</td><td>MAST</td><td><span style=white-space:pre-wrap>Yes       </span></td><td><span style=white-space:pre-wrap>Yes       </span></td><td>live</td><td>79</td></tr>\n",
       "\t<tr><td>36</td><td>&lt;=70</td><td>White</td><td>Married </td><td>T1</td><td>N2</td><td>IIIA</td><td>Positive</td><td>Positive</td><td>Positive</td><td>III</td><td>MAST</td><td>No/Unknown</td><td>No/Unknown</td><td>dead</td><td>35</td></tr>\n",
       "\t<tr><td>58</td><td>&lt;=70</td><td>White</td><td><span style=white-space:pre-wrap>Other   </span></td><td>T2</td><td>N3</td><td>IIIC</td><td>Positive</td><td>Positive</td><td>Negative</td><td>III</td><td>BCS </td><td><span style=white-space:pre-wrap>Yes       </span></td><td>No/Unknown</td><td>dead</td><td>38</td></tr>\n",
       "\t<tr><td>63</td><td>&lt;=70</td><td>White</td><td><span style=white-space:pre-wrap>Single  </span></td><td>T3</td><td>N3</td><td>IIIC</td><td>Positive</td><td>Positive</td><td>Negative</td><td>II </td><td>MAST</td><td><span style=white-space:pre-wrap>Yes       </span></td><td><span style=white-space:pre-wrap>Yes       </span></td><td>live</td><td>77</td></tr>\n",
       "\t<tr><td>90</td><td>&gt;70 </td><td>White</td><td><span style=white-space:pre-wrap>Other   </span></td><td>T3</td><td>N2</td><td>IIIA</td><td>Negative</td><td>Negative</td><td>Negative</td><td>III</td><td>MAST</td><td>No/Unknown</td><td>No/Unknown</td><td>dead</td><td> 7</td></tr>\n",
       "\t<tr><td>54</td><td>&lt;=70</td><td>White</td><td>Married </td><td>T3</td><td>N1</td><td>IIIA</td><td>Positive</td><td>Positive</td><td>Positive</td><td>II </td><td>BCS </td><td><span style=white-space:pre-wrap>Yes       </span></td><td>No/Unknown</td><td>live</td><td>60</td></tr>\n",
       "\t<tr><td>44</td><td>&lt;=70</td><td>White</td><td>Married </td><td>T3</td><td>N1</td><td>IIIA</td><td>Negative</td><td>Negative</td><td>Negative</td><td>II </td><td>MAST</td><td><span style=white-space:pre-wrap>Yes       </span></td><td><span style=white-space:pre-wrap>Yes       </span></td><td>live</td><td>83</td></tr>\n",
       "\t<tr><td>44</td><td>&lt;=70</td><td>White</td><td>Married </td><td>T3</td><td>N2</td><td>IIIA</td><td>Positive</td><td>Negative</td><td>Negative</td><td>III</td><td>MAST</td><td><span style=white-space:pre-wrap>Yes       </span></td><td><span style=white-space:pre-wrap>Yes       </span></td><td>live</td><td>81</td></tr>\n",
       "\t<tr><td>63</td><td>&lt;=70</td><td>White</td><td><span style=white-space:pre-wrap>Single  </span></td><td>T3</td><td>N2</td><td>IIIA</td><td>Positive</td><td>Positive</td><td>Negative</td><td>II </td><td>MAST</td><td><span style=white-space:pre-wrap>Yes       </span></td><td>No/Unknown</td><td>live</td><td>75</td></tr>\n",
       "\t<tr><td>29</td><td>&lt;=70</td><td>White</td><td><span style=white-space:pre-wrap>Single  </span></td><td>T3</td><td>N0</td><td>IIB </td><td>Positive</td><td>Positive</td><td>Negative</td><td>III</td><td>MAST</td><td><span style=white-space:pre-wrap>Yes       </span></td><td><span style=white-space:pre-wrap>Yes       </span></td><td>live</td><td>79</td></tr>\n",
       "\t<tr><td>47</td><td>&lt;=70</td><td>White</td><td>Married </td><td>T2</td><td>N3</td><td>IIIC</td><td>Positive</td><td>Positive</td><td>Negative</td><td>III</td><td>MAST</td><td><span style=white-space:pre-wrap>Yes       </span></td><td><span style=white-space:pre-wrap>Yes       </span></td><td>live</td><td>82</td></tr>\n",
       "\t<tr><td>72</td><td>&gt;70 </td><td>White</td><td><span style=white-space:pre-wrap>Single  </span></td><td>T3</td><td>N1</td><td>IIIA</td><td>Positive</td><td>Positive</td><td>Negative</td><td>III</td><td>MAST</td><td><span style=white-space:pre-wrap>Yes       </span></td><td>No/Unknown</td><td>live</td><td>80</td></tr>\n",
       "\t<tr><td>54</td><td>&lt;=70</td><td>Black</td><td><span style=white-space:pre-wrap>Single  </span></td><td>T3</td><td>N0</td><td>IIB </td><td>Negative</td><td>Negative</td><td>Negative</td><td>III</td><td>BCS </td><td><span style=white-space:pre-wrap>Yes       </span></td><td><span style=white-space:pre-wrap>Yes       </span></td><td>dead</td><td>14</td></tr>\n",
       "\t<tr><td>60</td><td>&lt;=70</td><td>Other</td><td>Married </td><td>T2</td><td>N2</td><td>IIIA</td><td>Negative</td><td>Negative</td><td>Positive</td><td>II </td><td>MAST</td><td>No/Unknown</td><td><span style=white-space:pre-wrap>Yes       </span></td><td>live</td><td>76</td></tr>\n",
       "\t<tr><td>50</td><td>&lt;=70</td><td>White</td><td>Married </td><td>T3</td><td>N3</td><td>IIIC</td><td>Positive</td><td>Positive</td><td>Positive</td><td>III</td><td>MAST</td><td>No/Unknown</td><td>No/Unknown</td><td>live</td><td>82</td></tr>\n",
       "\t<tr><td>78</td><td>&gt;70 </td><td>White</td><td>Divorced</td><td>T4</td><td>N3</td><td>IIIC</td><td>Positive</td><td>Negative</td><td>Positive</td><td>II </td><td>MAST</td><td>No/Unknown</td><td><span style=white-space:pre-wrap>Yes       </span></td><td>live</td><td>79</td></tr>\n",
       "\t<tr><td>69</td><td>&lt;=70</td><td>White</td><td><span style=white-space:pre-wrap>Other   </span></td><td>T2</td><td>N2</td><td>IIIA</td><td>Positive</td><td>Positive</td><td>Negative</td><td>II </td><td>MAST</td><td><span style=white-space:pre-wrap>Yes       </span></td><td><span style=white-space:pre-wrap>Yes       </span></td><td>live</td><td>80</td></tr>\n",
       "\t<tr><td>64</td><td>&lt;=70</td><td>White</td><td>Married </td><td>T2</td><td>N2</td><td>IIIA</td><td>Positive</td><td>Positive</td><td>Negative</td><td>II </td><td>BCS </td><td>No/Unknown</td><td><span style=white-space:pre-wrap>Yes       </span></td><td>live</td><td>72</td></tr>\n",
       "\t<tr><td>47</td><td>&lt;=70</td><td>Other</td><td><span style=white-space:pre-wrap>Single  </span></td><td>T1</td><td>N2</td><td>IIIA</td><td>Positive</td><td>Positive</td><td>Negative</td><td>II </td><td>MAST</td><td>No/Unknown</td><td><span style=white-space:pre-wrap>Yes       </span></td><td>live</td><td>75</td></tr>\n",
       "\t<tr><td>70</td><td>&lt;=70</td><td>White</td><td><span style=white-space:pre-wrap>Other   </span></td><td>T1</td><td>N2</td><td>IIIA</td><td>Positive</td><td>Positive</td><td>Negative</td><td>II </td><td>BCS </td><td>No/Unknown</td><td>No/Unknown</td><td>live</td><td>82</td></tr>\n",
       "\t<tr><td>53</td><td>&lt;=70</td><td>White</td><td><span style=white-space:pre-wrap>Single  </span></td><td>T4</td><td>N2</td><td>IIIB</td><td>Positive</td><td>Negative</td><td>Negative</td><td>II </td><td>MAST</td><td>No/Unknown</td><td>No/Unknown</td><td>dead</td><td>67</td></tr>\n",
       "\t<tr><td>59</td><td>&lt;=70</td><td>White</td><td><span style=white-space:pre-wrap>Single  </span></td><td>T3</td><td>N0</td><td>IIB </td><td>Positive</td><td>Positive</td><td>Negative</td><td>III</td><td>MAST</td><td>No/Unknown</td><td>No/Unknown</td><td>live</td><td>82</td></tr>\n",
       "\t<tr><td>67</td><td>&lt;=70</td><td>White</td><td>Married </td><td>T3</td><td>N0</td><td>IIB </td><td>Positive</td><td>Positive</td><td>Negative</td><td>II </td><td>MAST</td><td><span style=white-space:pre-wrap>Yes       </span></td><td>No/Unknown</td><td>live</td><td>78</td></tr>\n",
       "\t<tr><td>83</td><td>&gt;70 </td><td>White</td><td>Divorced</td><td>T1</td><td>N3</td><td>IIIC</td><td>Positive</td><td>Positive</td><td>Negative</td><td>II </td><td>MAST</td><td>No/Unknown</td><td>No/Unknown</td><td>dead</td><td>36</td></tr>\n",
       "\t<tr><td>67</td><td>&lt;=70</td><td>White</td><td>Married </td><td>T3</td><td>N1</td><td>IIIA</td><td>Positive</td><td>Positive</td><td>Negative</td><td>II </td><td>MAST</td><td>No/Unknown</td><td><span style=white-space:pre-wrap>Yes       </span></td><td>live</td><td>74</td></tr>\n",
       "\t<tr><td>60</td><td>&lt;=70</td><td>Other</td><td><span style=white-space:pre-wrap>Other   </span></td><td>T1</td><td>N2</td><td>IIIA</td><td>Positive</td><td>Positive</td><td>Negative</td><td>II </td><td>MAST</td><td>No/Unknown</td><td><span style=white-space:pre-wrap>Yes       </span></td><td>live</td><td>75</td></tr>\n",
       "\t<tr><td>40</td><td>&lt;=70</td><td>White</td><td>Married </td><td>T3</td><td>N3</td><td>IIIC</td><td>Positive</td><td>Positive</td><td>Negative</td><td>III</td><td>MAST</td><td><span style=white-space:pre-wrap>Yes       </span></td><td><span style=white-space:pre-wrap>Yes       </span></td><td>live</td><td>75</td></tr>\n",
       "\t<tr><td>49</td><td>&lt;=70</td><td>White</td><td>Married </td><td>T2</td><td>N2</td><td>IIIA</td><td>Positive</td><td>Positive</td><td>Negative</td><td>III</td><td>MAST</td><td><span style=white-space:pre-wrap>Yes       </span></td><td><span style=white-space:pre-wrap>Yes       </span></td><td>live</td><td>74</td></tr>\n",
       "\t<tr><td>58</td><td>&lt;=70</td><td>White</td><td><span style=white-space:pre-wrap>Single  </span></td><td>T1</td><td>N3</td><td>IIIC</td><td>Positive</td><td>Positive</td><td>Negative</td><td><span style=white-space:pre-wrap>I  </span></td><td>MAST</td><td><span style=white-space:pre-wrap>Yes       </span></td><td><span style=white-space:pre-wrap>Yes       </span></td><td>live</td><td>78</td></tr>\n",
       "\t<tr><td>63</td><td>&lt;=70</td><td>Other</td><td><span style=white-space:pre-wrap>Single  </span></td><td>T2</td><td>N2</td><td>IIIA</td><td>Positive</td><td>Positive</td><td>Negative</td><td>II </td><td>MAST</td><td><span style=white-space:pre-wrap>Yes       </span></td><td><span style=white-space:pre-wrap>Yes       </span></td><td>live</td><td>73</td></tr>\n",
       "\t<tr><td>...</td><td>...</td><td>...</td><td>...</td><td>...</td><td>...</td><td>...</td><td>...</td><td>...</td><td>...</td><td>...</td><td>...</td><td>...</td><td>...</td><td>...</td><td>...</td></tr>\n",
       "\t<tr><td>64</td><td>&lt;=70</td><td>White</td><td><span style=white-space:pre-wrap>Other   </span></td><td>T2</td><td>N2</td><td>IIIA</td><td>Positive</td><td>Negative</td><td>Negative</td><td>III</td><td>MAST</td><td><span style=white-space:pre-wrap>Yes       </span></td><td><span style=white-space:pre-wrap>Yes       </span></td><td>live</td><td>22</td></tr>\n",
       "\t<tr><td>56</td><td>&lt;=70</td><td>White</td><td>Married </td><td>T3</td><td>N0</td><td>IIB </td><td>Negative</td><td>Negative</td><td>Negative</td><td>II </td><td>MAST</td><td><span style=white-space:pre-wrap>Yes       </span></td><td><span style=white-space:pre-wrap>Yes       </span></td><td>live</td><td>23</td></tr>\n",
       "\t<tr><td>77</td><td>&gt;70 </td><td>White</td><td>Married </td><td>T3</td><td>N0</td><td>IIB </td><td>Positive</td><td>Positive</td><td>Negative</td><td>III</td><td>BCS </td><td><span style=white-space:pre-wrap>Yes       </span></td><td>No/Unknown</td><td>live</td><td>20</td></tr>\n",
       "\t<tr><td>55</td><td>&lt;=70</td><td>White</td><td>Married </td><td>T3</td><td>N3</td><td>IIIC</td><td>Positive</td><td>Negative</td><td>Negative</td><td>III</td><td><span style=white-space:pre-wrap>No  </span></td><td>No/Unknown</td><td><span style=white-space:pre-wrap>Yes       </span></td><td>live</td><td>18</td></tr>\n",
       "\t<tr><td>49</td><td>&lt;=70</td><td>White</td><td>Married </td><td>T3</td><td>N2</td><td>IIIA</td><td>Positive</td><td>Positive</td><td>Negative</td><td>II </td><td>MAST</td><td><span style=white-space:pre-wrap>Yes       </span></td><td><span style=white-space:pre-wrap>Yes       </span></td><td>live</td><td>22</td></tr>\n",
       "\t<tr><td>62</td><td>&lt;=70</td><td>White</td><td>Divorced</td><td>T3</td><td>N1</td><td>IIIA</td><td>Positive</td><td>Negative</td><td>Negative</td><td>III</td><td><span style=white-space:pre-wrap>No  </span></td><td>No/Unknown</td><td><span style=white-space:pre-wrap>Yes       </span></td><td>live</td><td>22</td></tr>\n",
       "\t<tr><td>85</td><td>&gt;70 </td><td>White</td><td><span style=white-space:pre-wrap>Other   </span></td><td>T3</td><td>N1</td><td>IIIA</td><td>Positive</td><td>Positive</td><td>Negative</td><td><span style=white-space:pre-wrap>I  </span></td><td>MAST</td><td>No/Unknown</td><td>No/Unknown</td><td>dead</td><td> 5</td></tr>\n",
       "\t<tr><td>85</td><td>&gt;70 </td><td>White</td><td>Divorced</td><td>T3</td><td>N1</td><td>IIIA</td><td>Positive</td><td>Positive</td><td>Negative</td><td>II </td><td>MAST</td><td><span style=white-space:pre-wrap>Yes       </span></td><td>No/Unknown</td><td>dead</td><td>16</td></tr>\n",
       "\t<tr><td>53</td><td>&lt;=70</td><td>White</td><td><span style=white-space:pre-wrap>Single  </span></td><td>T3</td><td>N1</td><td>IIIA</td><td>Positive</td><td>Positive</td><td>Negative</td><td>II </td><td>BCS </td><td><span style=white-space:pre-wrap>Yes       </span></td><td>No/Unknown</td><td>live</td><td>20</td></tr>\n",
       "\t<tr><td>62</td><td>&lt;=70</td><td>Black</td><td><span style=white-space:pre-wrap>Single  </span></td><td>T3</td><td>N2</td><td>IIIA</td><td>Positive</td><td>Positive</td><td>Negative</td><td>III</td><td>BCS </td><td>No/Unknown</td><td>No/Unknown</td><td>live</td><td>15</td></tr>\n",
       "\t<tr><td>48</td><td>&lt;=70</td><td>White</td><td>Divorced</td><td>T3</td><td>N1</td><td>IIIA</td><td>Positive</td><td>Positive</td><td>Negative</td><td><span style=white-space:pre-wrap>I  </span></td><td>MAST</td><td><span style=white-space:pre-wrap>Yes       </span></td><td><span style=white-space:pre-wrap>Yes       </span></td><td>live</td><td>18</td></tr>\n",
       "\t<tr><td>77</td><td>&gt;70 </td><td>White</td><td><span style=white-space:pre-wrap>Single  </span></td><td>T4</td><td>N0</td><td>IIIB</td><td>Positive</td><td>Positive</td><td>Negative</td><td>II </td><td>MAST</td><td><span style=white-space:pre-wrap>Yes       </span></td><td>No/Unknown</td><td>live</td><td>13</td></tr>\n",
       "\t<tr><td>88</td><td>&gt;70 </td><td>Black</td><td><span style=white-space:pre-wrap>Other   </span></td><td>T3</td><td>N0</td><td>IIB </td><td>Negative</td><td>Negative</td><td>Negative</td><td>III</td><td>MAST</td><td><span style=white-space:pre-wrap>Yes       </span></td><td>No/Unknown</td><td>live</td><td>14</td></tr>\n",
       "\t<tr><td>56</td><td>&lt;=70</td><td>Other</td><td><span style=white-space:pre-wrap>Single  </span></td><td>T3</td><td>N0</td><td>IIB </td><td>Positive</td><td>Negative</td><td>Positive</td><td>III</td><td>MAST</td><td><span style=white-space:pre-wrap>Yes       </span></td><td><span style=white-space:pre-wrap>Yes       </span></td><td>live</td><td>12</td></tr>\n",
       "\t<tr><td>46</td><td>&lt;=70</td><td>Other</td><td>Married </td><td>T2</td><td>N2</td><td>IIIA</td><td>Positive</td><td>Positive</td><td>Positive</td><td>III</td><td>MAST</td><td><span style=white-space:pre-wrap>Yes       </span></td><td><span style=white-space:pre-wrap>Yes       </span></td><td>live</td><td>18</td></tr>\n",
       "\t<tr><td>57</td><td>&lt;=70</td><td>Black</td><td><span style=white-space:pre-wrap>Single  </span></td><td>T2</td><td>N3</td><td>IIIC</td><td>Negative</td><td>Positive</td><td>Negative</td><td>III</td><td>MAST</td><td><span style=white-space:pre-wrap>Yes       </span></td><td><span style=white-space:pre-wrap>Yes       </span></td><td>live</td><td>19</td></tr>\n",
       "\t<tr><td>46</td><td>&lt;=70</td><td>White</td><td>Married </td><td>T3</td><td>N1</td><td>IIIA</td><td>Positive</td><td>Positive</td><td>Negative</td><td>III</td><td>MAST</td><td><span style=white-space:pre-wrap>Yes       </span></td><td><span style=white-space:pre-wrap>Yes       </span></td><td>live</td><td>23</td></tr>\n",
       "\t<tr><td>67</td><td>&lt;=70</td><td>White</td><td>Married </td><td>T3</td><td>N0</td><td>IIB </td><td>Positive</td><td>Negative</td><td>Positive</td><td>III</td><td>BCS </td><td><span style=white-space:pre-wrap>Yes       </span></td><td><span style=white-space:pre-wrap>Yes       </span></td><td>live</td><td>15</td></tr>\n",
       "\t<tr><td>66</td><td>&lt;=70</td><td>White</td><td><span style=white-space:pre-wrap>Other   </span></td><td>T2</td><td>N2</td><td>IIIA</td><td>Positive</td><td>Positive</td><td>Negative</td><td>II </td><td>BCS </td><td><span style=white-space:pre-wrap>Yes       </span></td><td><span style=white-space:pre-wrap>Yes       </span></td><td>live</td><td>16</td></tr>\n",
       "\t<tr><td>61</td><td>&lt;=70</td><td>White</td><td>Divorced</td><td>T3</td><td>N0</td><td>IIB </td><td>Negative</td><td>Negative</td><td>Negative</td><td>III</td><td>MAST</td><td><span style=white-space:pre-wrap>Yes       </span></td><td><span style=white-space:pre-wrap>Yes       </span></td><td>dead</td><td>15</td></tr>\n",
       "\t<tr><td>64</td><td>&lt;=70</td><td>White</td><td>Married </td><td>T3</td><td>N2</td><td>IIIA</td><td>Positive</td><td>Positive</td><td>Negative</td><td>II </td><td>MAST</td><td><span style=white-space:pre-wrap>Yes       </span></td><td><span style=white-space:pre-wrap>Yes       </span></td><td>live</td><td>12</td></tr>\n",
       "\t<tr><td>44</td><td>&lt;=70</td><td>White</td><td><span style=white-space:pre-wrap>Single  </span></td><td>T3</td><td>N2</td><td>IIIA</td><td>Positive</td><td>Positive</td><td>Negative</td><td>III</td><td>BCS </td><td><span style=white-space:pre-wrap>Yes       </span></td><td><span style=white-space:pre-wrap>Yes       </span></td><td>live</td><td>12</td></tr>\n",
       "\t<tr><td>94</td><td>&gt;70 </td><td>Other</td><td><span style=white-space:pre-wrap>Other   </span></td><td>T4</td><td>N2</td><td>IIIB</td><td>Negative</td><td>Negative</td><td>Negative</td><td>III</td><td><span style=white-space:pre-wrap>No  </span></td><td>No/Unknown</td><td><span style=white-space:pre-wrap>Yes       </span></td><td>dead</td><td> 4</td></tr>\n",
       "\t<tr><td>46</td><td>&lt;=70</td><td>White</td><td>Married </td><td>T1</td><td>N2</td><td>IIIA</td><td>Positive</td><td>Positive</td><td>Negative</td><td>II </td><td>BCS </td><td><span style=white-space:pre-wrap>Yes       </span></td><td><span style=white-space:pre-wrap>Yes       </span></td><td>live</td><td>22</td></tr>\n",
       "\t<tr><td>68</td><td>&lt;=70</td><td>White</td><td>Married </td><td>T1</td><td>N2</td><td>IIIA</td><td>Positive</td><td>Negative</td><td>Negative</td><td>III</td><td>MAST</td><td>No/Unknown</td><td>No/Unknown</td><td>live</td><td>23</td></tr>\n",
       "\t<tr><td>53</td><td>&lt;=70</td><td>Other</td><td><span style=white-space:pre-wrap>Other   </span></td><td>T4</td><td>N1</td><td>IIIB</td><td>Positive</td><td>Positive</td><td>Negative</td><td>II </td><td><span style=white-space:pre-wrap>No  </span></td><td><span style=white-space:pre-wrap>Yes       </span></td><td>No/Unknown</td><td>live</td><td>15</td></tr>\n",
       "\t<tr><td>49</td><td>&lt;=70</td><td>White</td><td>Married </td><td>T3</td><td>N1</td><td>IIIA</td><td>Positive</td><td>Positive</td><td>Negative</td><td>II </td><td>MAST</td><td><span style=white-space:pre-wrap>Yes       </span></td><td><span style=white-space:pre-wrap>Yes       </span></td><td>live</td><td>21</td></tr>\n",
       "\t<tr><td>59</td><td>&lt;=70</td><td>White</td><td>Married </td><td>T4</td><td>N2</td><td>IIIB</td><td>Positive</td><td>Positive</td><td>Positive</td><td>II </td><td>MAST</td><td>No/Unknown</td><td><span style=white-space:pre-wrap>Yes       </span></td><td>live</td><td>20</td></tr>\n",
       "\t<tr><td>57</td><td>&lt;=70</td><td>Black</td><td><span style=white-space:pre-wrap>Single  </span></td><td>T3</td><td>N1</td><td>IIIA</td><td>Positive</td><td>Positive</td><td>Positive</td><td>III</td><td>MAST</td><td><span style=white-space:pre-wrap>Yes       </span></td><td><span style=white-space:pre-wrap>Yes       </span></td><td>live</td><td>15</td></tr>\n",
       "\t<tr><td>40</td><td>&lt;=70</td><td>Other</td><td>Married </td><td>T2</td><td>N2</td><td>IIIA</td><td>Positive</td><td>Positive</td><td>Negative</td><td>III</td><td>MAST</td><td><span style=white-space:pre-wrap>Yes       </span></td><td><span style=white-space:pre-wrap>Yes       </span></td><td>live</td><td>13</td></tr>\n",
       "</tbody>\n",
       "</table>\n"
      ],
      "text/latex": [
       "A spec\\_tbl\\_df: 5000 x 16\n",
       "\\begin{tabular}{llllllllllllllll}\n",
       " age & age70 & race & marry & t & n & tnm & er & pr & her2 & g & sur & rt & che & status & time\\\\\n",
       " <dbl> & <chr> & <chr> & <chr> & <chr> & <chr> & <chr> & <chr> & <chr> & <chr> & <chr> & <chr> & <chr> & <chr> & <chr> & <dbl>\\\\\n",
       "\\hline\n",
       "\t 58 & <=70 & White & Single   & T3 & N3 & IIIC & Negative & Negative & Positive & III & MAST & Yes        & Yes        & live & 79\\\\\n",
       "\t 36 & <=70 & White & Married  & T1 & N2 & IIIA & Positive & Positive & Positive & III & MAST & No/Unknown & No/Unknown & dead & 35\\\\\n",
       "\t 58 & <=70 & White & Other    & T2 & N3 & IIIC & Positive & Positive & Negative & III & BCS  & Yes        & No/Unknown & dead & 38\\\\\n",
       "\t 63 & <=70 & White & Single   & T3 & N3 & IIIC & Positive & Positive & Negative & II  & MAST & Yes        & Yes        & live & 77\\\\\n",
       "\t 90 & >70  & White & Other    & T3 & N2 & IIIA & Negative & Negative & Negative & III & MAST & No/Unknown & No/Unknown & dead &  7\\\\\n",
       "\t 54 & <=70 & White & Married  & T3 & N1 & IIIA & Positive & Positive & Positive & II  & BCS  & Yes        & No/Unknown & live & 60\\\\\n",
       "\t 44 & <=70 & White & Married  & T3 & N1 & IIIA & Negative & Negative & Negative & II  & MAST & Yes        & Yes        & live & 83\\\\\n",
       "\t 44 & <=70 & White & Married  & T3 & N2 & IIIA & Positive & Negative & Negative & III & MAST & Yes        & Yes        & live & 81\\\\\n",
       "\t 63 & <=70 & White & Single   & T3 & N2 & IIIA & Positive & Positive & Negative & II  & MAST & Yes        & No/Unknown & live & 75\\\\\n",
       "\t 29 & <=70 & White & Single   & T3 & N0 & IIB  & Positive & Positive & Negative & III & MAST & Yes        & Yes        & live & 79\\\\\n",
       "\t 47 & <=70 & White & Married  & T2 & N3 & IIIC & Positive & Positive & Negative & III & MAST & Yes        & Yes        & live & 82\\\\\n",
       "\t 72 & >70  & White & Single   & T3 & N1 & IIIA & Positive & Positive & Negative & III & MAST & Yes        & No/Unknown & live & 80\\\\\n",
       "\t 54 & <=70 & Black & Single   & T3 & N0 & IIB  & Negative & Negative & Negative & III & BCS  & Yes        & Yes        & dead & 14\\\\\n",
       "\t 60 & <=70 & Other & Married  & T2 & N2 & IIIA & Negative & Negative & Positive & II  & MAST & No/Unknown & Yes        & live & 76\\\\\n",
       "\t 50 & <=70 & White & Married  & T3 & N3 & IIIC & Positive & Positive & Positive & III & MAST & No/Unknown & No/Unknown & live & 82\\\\\n",
       "\t 78 & >70  & White & Divorced & T4 & N3 & IIIC & Positive & Negative & Positive & II  & MAST & No/Unknown & Yes        & live & 79\\\\\n",
       "\t 69 & <=70 & White & Other    & T2 & N2 & IIIA & Positive & Positive & Negative & II  & MAST & Yes        & Yes        & live & 80\\\\\n",
       "\t 64 & <=70 & White & Married  & T2 & N2 & IIIA & Positive & Positive & Negative & II  & BCS  & No/Unknown & Yes        & live & 72\\\\\n",
       "\t 47 & <=70 & Other & Single   & T1 & N2 & IIIA & Positive & Positive & Negative & II  & MAST & No/Unknown & Yes        & live & 75\\\\\n",
       "\t 70 & <=70 & White & Other    & T1 & N2 & IIIA & Positive & Positive & Negative & II  & BCS  & No/Unknown & No/Unknown & live & 82\\\\\n",
       "\t 53 & <=70 & White & Single   & T4 & N2 & IIIB & Positive & Negative & Negative & II  & MAST & No/Unknown & No/Unknown & dead & 67\\\\\n",
       "\t 59 & <=70 & White & Single   & T3 & N0 & IIB  & Positive & Positive & Negative & III & MAST & No/Unknown & No/Unknown & live & 82\\\\\n",
       "\t 67 & <=70 & White & Married  & T3 & N0 & IIB  & Positive & Positive & Negative & II  & MAST & Yes        & No/Unknown & live & 78\\\\\n",
       "\t 83 & >70  & White & Divorced & T1 & N3 & IIIC & Positive & Positive & Negative & II  & MAST & No/Unknown & No/Unknown & dead & 36\\\\\n",
       "\t 67 & <=70 & White & Married  & T3 & N1 & IIIA & Positive & Positive & Negative & II  & MAST & No/Unknown & Yes        & live & 74\\\\\n",
       "\t 60 & <=70 & Other & Other    & T1 & N2 & IIIA & Positive & Positive & Negative & II  & MAST & No/Unknown & Yes        & live & 75\\\\\n",
       "\t 40 & <=70 & White & Married  & T3 & N3 & IIIC & Positive & Positive & Negative & III & MAST & Yes        & Yes        & live & 75\\\\\n",
       "\t 49 & <=70 & White & Married  & T2 & N2 & IIIA & Positive & Positive & Negative & III & MAST & Yes        & Yes        & live & 74\\\\\n",
       "\t 58 & <=70 & White & Single   & T1 & N3 & IIIC & Positive & Positive & Negative & I   & MAST & Yes        & Yes        & live & 78\\\\\n",
       "\t 63 & <=70 & Other & Single   & T2 & N2 & IIIA & Positive & Positive & Negative & II  & MAST & Yes        & Yes        & live & 73\\\\\n",
       "\t ... & ... & ... & ... & ... & ... & ... & ... & ... & ... & ... & ... & ... & ... & ... & ...\\\\\n",
       "\t 64 & <=70 & White & Other    & T2 & N2 & IIIA & Positive & Negative & Negative & III & MAST & Yes        & Yes        & live & 22\\\\\n",
       "\t 56 & <=70 & White & Married  & T3 & N0 & IIB  & Negative & Negative & Negative & II  & MAST & Yes        & Yes        & live & 23\\\\\n",
       "\t 77 & >70  & White & Married  & T3 & N0 & IIB  & Positive & Positive & Negative & III & BCS  & Yes        & No/Unknown & live & 20\\\\\n",
       "\t 55 & <=70 & White & Married  & T3 & N3 & IIIC & Positive & Negative & Negative & III & No   & No/Unknown & Yes        & live & 18\\\\\n",
       "\t 49 & <=70 & White & Married  & T3 & N2 & IIIA & Positive & Positive & Negative & II  & MAST & Yes        & Yes        & live & 22\\\\\n",
       "\t 62 & <=70 & White & Divorced & T3 & N1 & IIIA & Positive & Negative & Negative & III & No   & No/Unknown & Yes        & live & 22\\\\\n",
       "\t 85 & >70  & White & Other    & T3 & N1 & IIIA & Positive & Positive & Negative & I   & MAST & No/Unknown & No/Unknown & dead &  5\\\\\n",
       "\t 85 & >70  & White & Divorced & T3 & N1 & IIIA & Positive & Positive & Negative & II  & MAST & Yes        & No/Unknown & dead & 16\\\\\n",
       "\t 53 & <=70 & White & Single   & T3 & N1 & IIIA & Positive & Positive & Negative & II  & BCS  & Yes        & No/Unknown & live & 20\\\\\n",
       "\t 62 & <=70 & Black & Single   & T3 & N2 & IIIA & Positive & Positive & Negative & III & BCS  & No/Unknown & No/Unknown & live & 15\\\\\n",
       "\t 48 & <=70 & White & Divorced & T3 & N1 & IIIA & Positive & Positive & Negative & I   & MAST & Yes        & Yes        & live & 18\\\\\n",
       "\t 77 & >70  & White & Single   & T4 & N0 & IIIB & Positive & Positive & Negative & II  & MAST & Yes        & No/Unknown & live & 13\\\\\n",
       "\t 88 & >70  & Black & Other    & T3 & N0 & IIB  & Negative & Negative & Negative & III & MAST & Yes        & No/Unknown & live & 14\\\\\n",
       "\t 56 & <=70 & Other & Single   & T3 & N0 & IIB  & Positive & Negative & Positive & III & MAST & Yes        & Yes        & live & 12\\\\\n",
       "\t 46 & <=70 & Other & Married  & T2 & N2 & IIIA & Positive & Positive & Positive & III & MAST & Yes        & Yes        & live & 18\\\\\n",
       "\t 57 & <=70 & Black & Single   & T2 & N3 & IIIC & Negative & Positive & Negative & III & MAST & Yes        & Yes        & live & 19\\\\\n",
       "\t 46 & <=70 & White & Married  & T3 & N1 & IIIA & Positive & Positive & Negative & III & MAST & Yes        & Yes        & live & 23\\\\\n",
       "\t 67 & <=70 & White & Married  & T3 & N0 & IIB  & Positive & Negative & Positive & III & BCS  & Yes        & Yes        & live & 15\\\\\n",
       "\t 66 & <=70 & White & Other    & T2 & N2 & IIIA & Positive & Positive & Negative & II  & BCS  & Yes        & Yes        & live & 16\\\\\n",
       "\t 61 & <=70 & White & Divorced & T3 & N0 & IIB  & Negative & Negative & Negative & III & MAST & Yes        & Yes        & dead & 15\\\\\n",
       "\t 64 & <=70 & White & Married  & T3 & N2 & IIIA & Positive & Positive & Negative & II  & MAST & Yes        & Yes        & live & 12\\\\\n",
       "\t 44 & <=70 & White & Single   & T3 & N2 & IIIA & Positive & Positive & Negative & III & BCS  & Yes        & Yes        & live & 12\\\\\n",
       "\t 94 & >70  & Other & Other    & T4 & N2 & IIIB & Negative & Negative & Negative & III & No   & No/Unknown & Yes        & dead &  4\\\\\n",
       "\t 46 & <=70 & White & Married  & T1 & N2 & IIIA & Positive & Positive & Negative & II  & BCS  & Yes        & Yes        & live & 22\\\\\n",
       "\t 68 & <=70 & White & Married  & T1 & N2 & IIIA & Positive & Negative & Negative & III & MAST & No/Unknown & No/Unknown & live & 23\\\\\n",
       "\t 53 & <=70 & Other & Other    & T4 & N1 & IIIB & Positive & Positive & Negative & II  & No   & Yes        & No/Unknown & live & 15\\\\\n",
       "\t 49 & <=70 & White & Married  & T3 & N1 & IIIA & Positive & Positive & Negative & II  & MAST & Yes        & Yes        & live & 21\\\\\n",
       "\t 59 & <=70 & White & Married  & T4 & N2 & IIIB & Positive & Positive & Positive & II  & MAST & No/Unknown & Yes        & live & 20\\\\\n",
       "\t 57 & <=70 & Black & Single   & T3 & N1 & IIIA & Positive & Positive & Positive & III & MAST & Yes        & Yes        & live & 15\\\\\n",
       "\t 40 & <=70 & Other & Married  & T2 & N2 & IIIA & Positive & Positive & Negative & III & MAST & Yes        & Yes        & live & 13\\\\\n",
       "\\end{tabular}\n"
      ],
      "text/markdown": [
       "\n",
       "A spec_tbl_df: 5000 x 16\n",
       "\n",
       "| age &lt;dbl&gt; | age70 &lt;chr&gt; | race &lt;chr&gt; | marry &lt;chr&gt; | t &lt;chr&gt; | n &lt;chr&gt; | tnm &lt;chr&gt; | er &lt;chr&gt; | pr &lt;chr&gt; | her2 &lt;chr&gt; | g &lt;chr&gt; | sur &lt;chr&gt; | rt &lt;chr&gt; | che &lt;chr&gt; | status &lt;chr&gt; | time &lt;dbl&gt; |\n",
       "|---|---|---|---|---|---|---|---|---|---|---|---|---|---|---|---|\n",
       "| 58 | &lt;=70 | White | Single   | T3 | N3 | IIIC | Negative | Negative | Positive | III | MAST | Yes        | Yes        | live | 79 |\n",
       "| 36 | &lt;=70 | White | Married  | T1 | N2 | IIIA | Positive | Positive | Positive | III | MAST | No/Unknown | No/Unknown | dead | 35 |\n",
       "| 58 | &lt;=70 | White | Other    | T2 | N3 | IIIC | Positive | Positive | Negative | III | BCS  | Yes        | No/Unknown | dead | 38 |\n",
       "| 63 | &lt;=70 | White | Single   | T3 | N3 | IIIC | Positive | Positive | Negative | II  | MAST | Yes        | Yes        | live | 77 |\n",
       "| 90 | &gt;70  | White | Other    | T3 | N2 | IIIA | Negative | Negative | Negative | III | MAST | No/Unknown | No/Unknown | dead |  7 |\n",
       "| 54 | &lt;=70 | White | Married  | T3 | N1 | IIIA | Positive | Positive | Positive | II  | BCS  | Yes        | No/Unknown | live | 60 |\n",
       "| 44 | &lt;=70 | White | Married  | T3 | N1 | IIIA | Negative | Negative | Negative | II  | MAST | Yes        | Yes        | live | 83 |\n",
       "| 44 | &lt;=70 | White | Married  | T3 | N2 | IIIA | Positive | Negative | Negative | III | MAST | Yes        | Yes        | live | 81 |\n",
       "| 63 | &lt;=70 | White | Single   | T3 | N2 | IIIA | Positive | Positive | Negative | II  | MAST | Yes        | No/Unknown | live | 75 |\n",
       "| 29 | &lt;=70 | White | Single   | T3 | N0 | IIB  | Positive | Positive | Negative | III | MAST | Yes        | Yes        | live | 79 |\n",
       "| 47 | &lt;=70 | White | Married  | T2 | N3 | IIIC | Positive | Positive | Negative | III | MAST | Yes        | Yes        | live | 82 |\n",
       "| 72 | &gt;70  | White | Single   | T3 | N1 | IIIA | Positive | Positive | Negative | III | MAST | Yes        | No/Unknown | live | 80 |\n",
       "| 54 | &lt;=70 | Black | Single   | T3 | N0 | IIB  | Negative | Negative | Negative | III | BCS  | Yes        | Yes        | dead | 14 |\n",
       "| 60 | &lt;=70 | Other | Married  | T2 | N2 | IIIA | Negative | Negative | Positive | II  | MAST | No/Unknown | Yes        | live | 76 |\n",
       "| 50 | &lt;=70 | White | Married  | T3 | N3 | IIIC | Positive | Positive | Positive | III | MAST | No/Unknown | No/Unknown | live | 82 |\n",
       "| 78 | &gt;70  | White | Divorced | T4 | N3 | IIIC | Positive | Negative | Positive | II  | MAST | No/Unknown | Yes        | live | 79 |\n",
       "| 69 | &lt;=70 | White | Other    | T2 | N2 | IIIA | Positive | Positive | Negative | II  | MAST | Yes        | Yes        | live | 80 |\n",
       "| 64 | &lt;=70 | White | Married  | T2 | N2 | IIIA | Positive | Positive | Negative | II  | BCS  | No/Unknown | Yes        | live | 72 |\n",
       "| 47 | &lt;=70 | Other | Single   | T1 | N2 | IIIA | Positive | Positive | Negative | II  | MAST | No/Unknown | Yes        | live | 75 |\n",
       "| 70 | &lt;=70 | White | Other    | T1 | N2 | IIIA | Positive | Positive | Negative | II  | BCS  | No/Unknown | No/Unknown | live | 82 |\n",
       "| 53 | &lt;=70 | White | Single   | T4 | N2 | IIIB | Positive | Negative | Negative | II  | MAST | No/Unknown | No/Unknown | dead | 67 |\n",
       "| 59 | &lt;=70 | White | Single   | T3 | N0 | IIB  | Positive | Positive | Negative | III | MAST | No/Unknown | No/Unknown | live | 82 |\n",
       "| 67 | &lt;=70 | White | Married  | T3 | N0 | IIB  | Positive | Positive | Negative | II  | MAST | Yes        | No/Unknown | live | 78 |\n",
       "| 83 | &gt;70  | White | Divorced | T1 | N3 | IIIC | Positive | Positive | Negative | II  | MAST | No/Unknown | No/Unknown | dead | 36 |\n",
       "| 67 | &lt;=70 | White | Married  | T3 | N1 | IIIA | Positive | Positive | Negative | II  | MAST | No/Unknown | Yes        | live | 74 |\n",
       "| 60 | &lt;=70 | Other | Other    | T1 | N2 | IIIA | Positive | Positive | Negative | II  | MAST | No/Unknown | Yes        | live | 75 |\n",
       "| 40 | &lt;=70 | White | Married  | T3 | N3 | IIIC | Positive | Positive | Negative | III | MAST | Yes        | Yes        | live | 75 |\n",
       "| 49 | &lt;=70 | White | Married  | T2 | N2 | IIIA | Positive | Positive | Negative | III | MAST | Yes        | Yes        | live | 74 |\n",
       "| 58 | &lt;=70 | White | Single   | T1 | N3 | IIIC | Positive | Positive | Negative | I   | MAST | Yes        | Yes        | live | 78 |\n",
       "| 63 | &lt;=70 | Other | Single   | T2 | N2 | IIIA | Positive | Positive | Negative | II  | MAST | Yes        | Yes        | live | 73 |\n",
       "| ... | ... | ... | ... | ... | ... | ... | ... | ... | ... | ... | ... | ... | ... | ... | ... |\n",
       "| 64 | &lt;=70 | White | Other    | T2 | N2 | IIIA | Positive | Negative | Negative | III | MAST | Yes        | Yes        | live | 22 |\n",
       "| 56 | &lt;=70 | White | Married  | T3 | N0 | IIB  | Negative | Negative | Negative | II  | MAST | Yes        | Yes        | live | 23 |\n",
       "| 77 | &gt;70  | White | Married  | T3 | N0 | IIB  | Positive | Positive | Negative | III | BCS  | Yes        | No/Unknown | live | 20 |\n",
       "| 55 | &lt;=70 | White | Married  | T3 | N3 | IIIC | Positive | Negative | Negative | III | No   | No/Unknown | Yes        | live | 18 |\n",
       "| 49 | &lt;=70 | White | Married  | T3 | N2 | IIIA | Positive | Positive | Negative | II  | MAST | Yes        | Yes        | live | 22 |\n",
       "| 62 | &lt;=70 | White | Divorced | T3 | N1 | IIIA | Positive | Negative | Negative | III | No   | No/Unknown | Yes        | live | 22 |\n",
       "| 85 | &gt;70  | White | Other    | T3 | N1 | IIIA | Positive | Positive | Negative | I   | MAST | No/Unknown | No/Unknown | dead |  5 |\n",
       "| 85 | &gt;70  | White | Divorced | T3 | N1 | IIIA | Positive | Positive | Negative | II  | MAST | Yes        | No/Unknown | dead | 16 |\n",
       "| 53 | &lt;=70 | White | Single   | T3 | N1 | IIIA | Positive | Positive | Negative | II  | BCS  | Yes        | No/Unknown | live | 20 |\n",
       "| 62 | &lt;=70 | Black | Single   | T3 | N2 | IIIA | Positive | Positive | Negative | III | BCS  | No/Unknown | No/Unknown | live | 15 |\n",
       "| 48 | &lt;=70 | White | Divorced | T3 | N1 | IIIA | Positive | Positive | Negative | I   | MAST | Yes        | Yes        | live | 18 |\n",
       "| 77 | &gt;70  | White | Single   | T4 | N0 | IIIB | Positive | Positive | Negative | II  | MAST | Yes        | No/Unknown | live | 13 |\n",
       "| 88 | &gt;70  | Black | Other    | T3 | N0 | IIB  | Negative | Negative | Negative | III | MAST | Yes        | No/Unknown | live | 14 |\n",
       "| 56 | &lt;=70 | Other | Single   | T3 | N0 | IIB  | Positive | Negative | Positive | III | MAST | Yes        | Yes        | live | 12 |\n",
       "| 46 | &lt;=70 | Other | Married  | T2 | N2 | IIIA | Positive | Positive | Positive | III | MAST | Yes        | Yes        | live | 18 |\n",
       "| 57 | &lt;=70 | Black | Single   | T2 | N3 | IIIC | Negative | Positive | Negative | III | MAST | Yes        | Yes        | live | 19 |\n",
       "| 46 | &lt;=70 | White | Married  | T3 | N1 | IIIA | Positive | Positive | Negative | III | MAST | Yes        | Yes        | live | 23 |\n",
       "| 67 | &lt;=70 | White | Married  | T3 | N0 | IIB  | Positive | Negative | Positive | III | BCS  | Yes        | Yes        | live | 15 |\n",
       "| 66 | &lt;=70 | White | Other    | T2 | N2 | IIIA | Positive | Positive | Negative | II  | BCS  | Yes        | Yes        | live | 16 |\n",
       "| 61 | &lt;=70 | White | Divorced | T3 | N0 | IIB  | Negative | Negative | Negative | III | MAST | Yes        | Yes        | dead | 15 |\n",
       "| 64 | &lt;=70 | White | Married  | T3 | N2 | IIIA | Positive | Positive | Negative | II  | MAST | Yes        | Yes        | live | 12 |\n",
       "| 44 | &lt;=70 | White | Single   | T3 | N2 | IIIA | Positive | Positive | Negative | III | BCS  | Yes        | Yes        | live | 12 |\n",
       "| 94 | &gt;70  | Other | Other    | T4 | N2 | IIIB | Negative | Negative | Negative | III | No   | No/Unknown | Yes        | dead |  4 |\n",
       "| 46 | &lt;=70 | White | Married  | T1 | N2 | IIIA | Positive | Positive | Negative | II  | BCS  | Yes        | Yes        | live | 22 |\n",
       "| 68 | &lt;=70 | White | Married  | T1 | N2 | IIIA | Positive | Negative | Negative | III | MAST | No/Unknown | No/Unknown | live | 23 |\n",
       "| 53 | &lt;=70 | Other | Other    | T4 | N1 | IIIB | Positive | Positive | Negative | II  | No   | Yes        | No/Unknown | live | 15 |\n",
       "| 49 | &lt;=70 | White | Married  | T3 | N1 | IIIA | Positive | Positive | Negative | II  | MAST | Yes        | Yes        | live | 21 |\n",
       "| 59 | &lt;=70 | White | Married  | T4 | N2 | IIIB | Positive | Positive | Positive | II  | MAST | No/Unknown | Yes        | live | 20 |\n",
       "| 57 | &lt;=70 | Black | Single   | T3 | N1 | IIIA | Positive | Positive | Positive | III | MAST | Yes        | Yes        | live | 15 |\n",
       "| 40 | &lt;=70 | Other | Married  | T2 | N2 | IIIA | Positive | Positive | Negative | III | MAST | Yes        | Yes        | live | 13 |\n",
       "\n"
      ],
      "text/plain": [
       "     age age70 race  marry    t   n   tnm  er       pr       her2     g   sur \n",
       "1    58  <=70  White Single   T3  N3  IIIC Negative Negative Positive III MAST\n",
       "2    36  <=70  White Married  T1  N2  IIIA Positive Positive Positive III MAST\n",
       "3    58  <=70  White Other    T2  N3  IIIC Positive Positive Negative III BCS \n",
       "4    63  <=70  White Single   T3  N3  IIIC Positive Positive Negative II  MAST\n",
       "5    90  >70   White Other    T3  N2  IIIA Negative Negative Negative III MAST\n",
       "6    54  <=70  White Married  T3  N1  IIIA Positive Positive Positive II  BCS \n",
       "7    44  <=70  White Married  T3  N1  IIIA Negative Negative Negative II  MAST\n",
       "8    44  <=70  White Married  T3  N2  IIIA Positive Negative Negative III MAST\n",
       "9    63  <=70  White Single   T3  N2  IIIA Positive Positive Negative II  MAST\n",
       "10   29  <=70  White Single   T3  N0  IIB  Positive Positive Negative III MAST\n",
       "11   47  <=70  White Married  T2  N3  IIIC Positive Positive Negative III MAST\n",
       "12   72  >70   White Single   T3  N1  IIIA Positive Positive Negative III MAST\n",
       "13   54  <=70  Black Single   T3  N0  IIB  Negative Negative Negative III BCS \n",
       "14   60  <=70  Other Married  T2  N2  IIIA Negative Negative Positive II  MAST\n",
       "15   50  <=70  White Married  T3  N3  IIIC Positive Positive Positive III MAST\n",
       "16   78  >70   White Divorced T4  N3  IIIC Positive Negative Positive II  MAST\n",
       "17   69  <=70  White Other    T2  N2  IIIA Positive Positive Negative II  MAST\n",
       "18   64  <=70  White Married  T2  N2  IIIA Positive Positive Negative II  BCS \n",
       "19   47  <=70  Other Single   T1  N2  IIIA Positive Positive Negative II  MAST\n",
       "20   70  <=70  White Other    T1  N2  IIIA Positive Positive Negative II  BCS \n",
       "21   53  <=70  White Single   T4  N2  IIIB Positive Negative Negative II  MAST\n",
       "22   59  <=70  White Single   T3  N0  IIB  Positive Positive Negative III MAST\n",
       "23   67  <=70  White Married  T3  N0  IIB  Positive Positive Negative II  MAST\n",
       "24   83  >70   White Divorced T1  N3  IIIC Positive Positive Negative II  MAST\n",
       "25   67  <=70  White Married  T3  N1  IIIA Positive Positive Negative II  MAST\n",
       "26   60  <=70  Other Other    T1  N2  IIIA Positive Positive Negative II  MAST\n",
       "27   40  <=70  White Married  T3  N3  IIIC Positive Positive Negative III MAST\n",
       "28   49  <=70  White Married  T2  N2  IIIA Positive Positive Negative III MAST\n",
       "29   58  <=70  White Single   T1  N3  IIIC Positive Positive Negative I   MAST\n",
       "30   63  <=70  Other Single   T2  N2  IIIA Positive Positive Negative II  MAST\n",
       "...  ... ...   ...   ...      ... ... ...  ...      ...      ...      ... ... \n",
       "4971 64  <=70  White Other    T2  N2  IIIA Positive Negative Negative III MAST\n",
       "4972 56  <=70  White Married  T3  N0  IIB  Negative Negative Negative II  MAST\n",
       "4973 77  >70   White Married  T3  N0  IIB  Positive Positive Negative III BCS \n",
       "4974 55  <=70  White Married  T3  N3  IIIC Positive Negative Negative III No  \n",
       "4975 49  <=70  White Married  T3  N2  IIIA Positive Positive Negative II  MAST\n",
       "4976 62  <=70  White Divorced T3  N1  IIIA Positive Negative Negative III No  \n",
       "4977 85  >70   White Other    T3  N1  IIIA Positive Positive Negative I   MAST\n",
       "4978 85  >70   White Divorced T3  N1  IIIA Positive Positive Negative II  MAST\n",
       "4979 53  <=70  White Single   T3  N1  IIIA Positive Positive Negative II  BCS \n",
       "4980 62  <=70  Black Single   T3  N2  IIIA Positive Positive Negative III BCS \n",
       "4981 48  <=70  White Divorced T3  N1  IIIA Positive Positive Negative I   MAST\n",
       "4982 77  >70   White Single   T4  N0  IIIB Positive Positive Negative II  MAST\n",
       "4983 88  >70   Black Other    T3  N0  IIB  Negative Negative Negative III MAST\n",
       "4984 56  <=70  Other Single   T3  N0  IIB  Positive Negative Positive III MAST\n",
       "4985 46  <=70  Other Married  T2  N2  IIIA Positive Positive Positive III MAST\n",
       "4986 57  <=70  Black Single   T2  N3  IIIC Negative Positive Negative III MAST\n",
       "4987 46  <=70  White Married  T3  N1  IIIA Positive Positive Negative III MAST\n",
       "4988 67  <=70  White Married  T3  N0  IIB  Positive Negative Positive III BCS \n",
       "4989 66  <=70  White Other    T2  N2  IIIA Positive Positive Negative II  BCS \n",
       "4990 61  <=70  White Divorced T3  N0  IIB  Negative Negative Negative III MAST\n",
       "4991 64  <=70  White Married  T3  N2  IIIA Positive Positive Negative II  MAST\n",
       "4992 44  <=70  White Single   T3  N2  IIIA Positive Positive Negative III BCS \n",
       "4993 94  >70   Other Other    T4  N2  IIIB Negative Negative Negative III No  \n",
       "4994 46  <=70  White Married  T1  N2  IIIA Positive Positive Negative II  BCS \n",
       "4995 68  <=70  White Married  T1  N2  IIIA Positive Negative Negative III MAST\n",
       "4996 53  <=70  Other Other    T4  N1  IIIB Positive Positive Negative II  No  \n",
       "4997 49  <=70  White Married  T3  N1  IIIA Positive Positive Negative II  MAST\n",
       "4998 59  <=70  White Married  T4  N2  IIIB Positive Positive Positive II  MAST\n",
       "4999 57  <=70  Black Single   T3  N1  IIIA Positive Positive Positive III MAST\n",
       "5000 40  <=70  Other Married  T2  N2  IIIA Positive Positive Negative III MAST\n",
       "     rt         che        status time\n",
       "1    Yes        Yes        live   79  \n",
       "2    No/Unknown No/Unknown dead   35  \n",
       "3    Yes        No/Unknown dead   38  \n",
       "4    Yes        Yes        live   77  \n",
       "5    No/Unknown No/Unknown dead    7  \n",
       "6    Yes        No/Unknown live   60  \n",
       "7    Yes        Yes        live   83  \n",
       "8    Yes        Yes        live   81  \n",
       "9    Yes        No/Unknown live   75  \n",
       "10   Yes        Yes        live   79  \n",
       "11   Yes        Yes        live   82  \n",
       "12   Yes        No/Unknown live   80  \n",
       "13   Yes        Yes        dead   14  \n",
       "14   No/Unknown Yes        live   76  \n",
       "15   No/Unknown No/Unknown live   82  \n",
       "16   No/Unknown Yes        live   79  \n",
       "17   Yes        Yes        live   80  \n",
       "18   No/Unknown Yes        live   72  \n",
       "19   No/Unknown Yes        live   75  \n",
       "20   No/Unknown No/Unknown live   82  \n",
       "21   No/Unknown No/Unknown dead   67  \n",
       "22   No/Unknown No/Unknown live   82  \n",
       "23   Yes        No/Unknown live   78  \n",
       "24   No/Unknown No/Unknown dead   36  \n",
       "25   No/Unknown Yes        live   74  \n",
       "26   No/Unknown Yes        live   75  \n",
       "27   Yes        Yes        live   75  \n",
       "28   Yes        Yes        live   74  \n",
       "29   Yes        Yes        live   78  \n",
       "30   Yes        Yes        live   73  \n",
       "...  ...        ...        ...    ... \n",
       "4971 Yes        Yes        live   22  \n",
       "4972 Yes        Yes        live   23  \n",
       "4973 Yes        No/Unknown live   20  \n",
       "4974 No/Unknown Yes        live   18  \n",
       "4975 Yes        Yes        live   22  \n",
       "4976 No/Unknown Yes        live   22  \n",
       "4977 No/Unknown No/Unknown dead    5  \n",
       "4978 Yes        No/Unknown dead   16  \n",
       "4979 Yes        No/Unknown live   20  \n",
       "4980 No/Unknown No/Unknown live   15  \n",
       "4981 Yes        Yes        live   18  \n",
       "4982 Yes        No/Unknown live   13  \n",
       "4983 Yes        No/Unknown live   14  \n",
       "4984 Yes        Yes        live   12  \n",
       "4985 Yes        Yes        live   18  \n",
       "4986 Yes        Yes        live   19  \n",
       "4987 Yes        Yes        live   23  \n",
       "4988 Yes        Yes        live   15  \n",
       "4989 Yes        Yes        live   16  \n",
       "4990 Yes        Yes        dead   15  \n",
       "4991 Yes        Yes        live   12  \n",
       "4992 Yes        Yes        live   12  \n",
       "4993 No/Unknown Yes        dead    4  \n",
       "4994 Yes        Yes        live   22  \n",
       "4995 No/Unknown No/Unknown live   23  \n",
       "4996 Yes        No/Unknown live   15  \n",
       "4997 Yes        Yes        live   21  \n",
       "4998 No/Unknown Yes        live   20  \n",
       "4999 Yes        Yes        live   15  \n",
       "5000 Yes        Yes        live   13  "
      ]
     },
     "metadata": {},
     "output_type": "display_data"
    }
   ],
   "source": [
    "aa"
   ]
  },
  {
   "cell_type": "code",
   "execution_count": null,
   "metadata": {
    "vscode": {
     "languageId": "r"
    }
   },
   "outputs": [
    {
     "data": {
      "text/html": [
       "<table class=\"dataframe\">\n",
       "<caption>A tibble: 6 x 16</caption>\n",
       "<thead>\n",
       "\t<tr><th scope=col>age</th><th scope=col>age70</th><th scope=col>race</th><th scope=col>marry</th><th scope=col>t</th><th scope=col>n</th><th scope=col>tnm</th><th scope=col>er</th><th scope=col>pr</th><th scope=col>her2</th><th scope=col>g</th><th scope=col>sur</th><th scope=col>rt</th><th scope=col>che</th><th scope=col>status</th><th scope=col>time</th></tr>\n",
       "\t<tr><th scope=col>&lt;dbl&gt;</th><th scope=col>&lt;chr&gt;</th><th scope=col>&lt;chr&gt;</th><th scope=col>&lt;chr&gt;</th><th scope=col>&lt;chr&gt;</th><th scope=col>&lt;chr&gt;</th><th scope=col>&lt;chr&gt;</th><th scope=col>&lt;chr&gt;</th><th scope=col>&lt;chr&gt;</th><th scope=col>&lt;chr&gt;</th><th scope=col>&lt;chr&gt;</th><th scope=col>&lt;chr&gt;</th><th scope=col>&lt;chr&gt;</th><th scope=col>&lt;chr&gt;</th><th scope=col>&lt;chr&gt;</th><th scope=col>&lt;dbl&gt;</th></tr>\n",
       "</thead>\n",
       "<tbody>\n",
       "\t<tr><td>58</td><td>&lt;=70</td><td>White</td><td>Single </td><td>T3</td><td>N3</td><td>IIIC</td><td>Negative</td><td>Negative</td><td>Positive</td><td>III</td><td>MAST</td><td><span style=white-space:pre-wrap>Yes       </span></td><td><span style=white-space:pre-wrap>Yes       </span></td><td>live</td><td>79</td></tr>\n",
       "\t<tr><td>36</td><td>&lt;=70</td><td>White</td><td>Married</td><td>T1</td><td>N2</td><td>IIIA</td><td>Positive</td><td>Positive</td><td>Positive</td><td>III</td><td>MAST</td><td>No/Unknown</td><td>No/Unknown</td><td>dead</td><td>35</td></tr>\n",
       "\t<tr><td>58</td><td>&lt;=70</td><td>White</td><td><span style=white-space:pre-wrap>Other  </span></td><td>T2</td><td>N3</td><td>IIIC</td><td>Positive</td><td>Positive</td><td>Negative</td><td>III</td><td>BCS </td><td><span style=white-space:pre-wrap>Yes       </span></td><td>No/Unknown</td><td>dead</td><td>38</td></tr>\n",
       "\t<tr><td>63</td><td>&lt;=70</td><td>White</td><td>Single </td><td>T3</td><td>N3</td><td>IIIC</td><td>Positive</td><td>Positive</td><td>Negative</td><td>II </td><td>MAST</td><td><span style=white-space:pre-wrap>Yes       </span></td><td><span style=white-space:pre-wrap>Yes       </span></td><td>live</td><td>77</td></tr>\n",
       "\t<tr><td>90</td><td>&gt;70 </td><td>White</td><td><span style=white-space:pre-wrap>Other  </span></td><td>T3</td><td>N2</td><td>IIIA</td><td>Negative</td><td>Negative</td><td>Negative</td><td>III</td><td>MAST</td><td>No/Unknown</td><td>No/Unknown</td><td>dead</td><td> 7</td></tr>\n",
       "\t<tr><td>54</td><td>&lt;=70</td><td>White</td><td>Married</td><td>T3</td><td>N1</td><td>IIIA</td><td>Positive</td><td>Positive</td><td>Positive</td><td>II </td><td>BCS </td><td><span style=white-space:pre-wrap>Yes       </span></td><td>No/Unknown</td><td>live</td><td>60</td></tr>\n",
       "</tbody>\n",
       "</table>\n"
      ],
      "text/latex": [
       "A tibble: 6 x 16\n",
       "\\begin{tabular}{llllllllllllllll}\n",
       " age & age70 & race & marry & t & n & tnm & er & pr & her2 & g & sur & rt & che & status & time\\\\\n",
       " <dbl> & <chr> & <chr> & <chr> & <chr> & <chr> & <chr> & <chr> & <chr> & <chr> & <chr> & <chr> & <chr> & <chr> & <chr> & <dbl>\\\\\n",
       "\\hline\n",
       "\t 58 & <=70 & White & Single  & T3 & N3 & IIIC & Negative & Negative & Positive & III & MAST & Yes        & Yes        & live & 79\\\\\n",
       "\t 36 & <=70 & White & Married & T1 & N2 & IIIA & Positive & Positive & Positive & III & MAST & No/Unknown & No/Unknown & dead & 35\\\\\n",
       "\t 58 & <=70 & White & Other   & T2 & N3 & IIIC & Positive & Positive & Negative & III & BCS  & Yes        & No/Unknown & dead & 38\\\\\n",
       "\t 63 & <=70 & White & Single  & T3 & N3 & IIIC & Positive & Positive & Negative & II  & MAST & Yes        & Yes        & live & 77\\\\\n",
       "\t 90 & >70  & White & Other   & T3 & N2 & IIIA & Negative & Negative & Negative & III & MAST & No/Unknown & No/Unknown & dead &  7\\\\\n",
       "\t 54 & <=70 & White & Married & T3 & N1 & IIIA & Positive & Positive & Positive & II  & BCS  & Yes        & No/Unknown & live & 60\\\\\n",
       "\\end{tabular}\n"
      ],
      "text/markdown": [
       "\n",
       "A tibble: 6 x 16\n",
       "\n",
       "| age &lt;dbl&gt; | age70 &lt;chr&gt; | race &lt;chr&gt; | marry &lt;chr&gt; | t &lt;chr&gt; | n &lt;chr&gt; | tnm &lt;chr&gt; | er &lt;chr&gt; | pr &lt;chr&gt; | her2 &lt;chr&gt; | g &lt;chr&gt; | sur &lt;chr&gt; | rt &lt;chr&gt; | che &lt;chr&gt; | status &lt;chr&gt; | time &lt;dbl&gt; |\n",
       "|---|---|---|---|---|---|---|---|---|---|---|---|---|---|---|---|\n",
       "| 58 | &lt;=70 | White | Single  | T3 | N3 | IIIC | Negative | Negative | Positive | III | MAST | Yes        | Yes        | live | 79 |\n",
       "| 36 | &lt;=70 | White | Married | T1 | N2 | IIIA | Positive | Positive | Positive | III | MAST | No/Unknown | No/Unknown | dead | 35 |\n",
       "| 58 | &lt;=70 | White | Other   | T2 | N3 | IIIC | Positive | Positive | Negative | III | BCS  | Yes        | No/Unknown | dead | 38 |\n",
       "| 63 | &lt;=70 | White | Single  | T3 | N3 | IIIC | Positive | Positive | Negative | II  | MAST | Yes        | Yes        | live | 77 |\n",
       "| 90 | &gt;70  | White | Other   | T3 | N2 | IIIA | Negative | Negative | Negative | III | MAST | No/Unknown | No/Unknown | dead |  7 |\n",
       "| 54 | &lt;=70 | White | Married | T3 | N1 | IIIA | Positive | Positive | Positive | II  | BCS  | Yes        | No/Unknown | live | 60 |\n",
       "\n"
      ],
      "text/plain": [
       "  age age70 race  marry   t  n  tnm  er       pr       her2     g   sur \n",
       "1 58  <=70  White Single  T3 N3 IIIC Negative Negative Positive III MAST\n",
       "2 36  <=70  White Married T1 N2 IIIA Positive Positive Positive III MAST\n",
       "3 58  <=70  White Other   T2 N3 IIIC Positive Positive Negative III BCS \n",
       "4 63  <=70  White Single  T3 N3 IIIC Positive Positive Negative II  MAST\n",
       "5 90  >70   White Other   T3 N2 IIIA Negative Negative Negative III MAST\n",
       "6 54  <=70  White Married T3 N1 IIIA Positive Positive Positive II  BCS \n",
       "  rt         che        status time\n",
       "1 Yes        Yes        live   79  \n",
       "2 No/Unknown No/Unknown dead   35  \n",
       "3 Yes        No/Unknown dead   38  \n",
       "4 Yes        Yes        live   77  \n",
       "5 No/Unknown No/Unknown dead    7  \n",
       "6 Yes        No/Unknown live   60  "
      ]
     },
     "metadata": {},
     "output_type": "display_data"
    }
   ],
   "source": [
    "head(aa)"
   ]
  },
  {
   "cell_type": "code",
   "execution_count": 8,
   "metadata": {
    "vscode": {
     "languageId": "r"
    }
   },
   "outputs": [
    {
     "name": "stdout",
     "output_type": "stream",
     "text": [
      "spc_tbl_ [5,000 x 16] (S3: spec_tbl_df/tbl_df/tbl/data.frame)\n",
      " $ age   : num [1:5000] 58 36 58 63 90 54 44 44 63 29 ...\n",
      " $ age70 : chr [1:5000] \"<=70\" \"<=70\" \"<=70\" \"<=70\" ...\n",
      " $ race  : chr [1:5000] \"White\" \"White\" \"White\" \"White\" ...\n",
      " $ marry : chr [1:5000] \"Single\" \"Married\" \"Other\" \"Single\" ...\n",
      " $ t     : chr [1:5000] \"T3\" \"T1\" \"T2\" \"T3\" ...\n",
      " $ n     : chr [1:5000] \"N3\" \"N2\" \"N3\" \"N3\" ...\n",
      " $ tnm   : chr [1:5000] \"IIIC\" \"IIIA\" \"IIIC\" \"IIIC\" ...\n",
      " $ er    : chr [1:5000] \"Negative\" \"Positive\" \"Positive\" \"Positive\" ...\n",
      " $ pr    : chr [1:5000] \"Negative\" \"Positive\" \"Positive\" \"Positive\" ...\n",
      " $ her2  : chr [1:5000] \"Positive\" \"Positive\" \"Negative\" \"Negative\" ...\n",
      " $ g     : chr [1:5000] \"III\" \"III\" \"III\" \"II\" ...\n",
      " $ sur   : chr [1:5000] \"MAST\" \"MAST\" \"BCS\" \"MAST\" ...\n",
      " $ rt    : chr [1:5000] \"Yes\" \"No/Unknown\" \"Yes\" \"Yes\" ...\n",
      " $ che   : chr [1:5000] \"Yes\" \"No/Unknown\" \"No/Unknown\" \"Yes\" ...\n",
      " $ status: chr [1:5000] \"live\" \"dead\" \"dead\" \"live\" ...\n",
      " $ time  : num [1:5000] 79 35 38 77 7 60 83 81 75 79 ...\n",
      " - attr(*, \"spec\")=\n",
      "  .. cols(\n",
      "  ..   age = \u001b[32mcol_double()\u001b[39m,\n",
      "  ..   age70 = \u001b[31mcol_character()\u001b[39m,\n",
      "  ..   race = \u001b[31mcol_character()\u001b[39m,\n",
      "  ..   marry = \u001b[31mcol_character()\u001b[39m,\n",
      "  ..   t = \u001b[31mcol_character()\u001b[39m,\n",
      "  ..   n = \u001b[31mcol_character()\u001b[39m,\n",
      "  ..   tnm = \u001b[31mcol_character()\u001b[39m,\n",
      "  ..   er = \u001b[31mcol_character()\u001b[39m,\n",
      "  ..   pr = \u001b[31mcol_character()\u001b[39m,\n",
      "  ..   her2 = \u001b[31mcol_character()\u001b[39m,\n",
      "  ..   g = \u001b[31mcol_character()\u001b[39m,\n",
      "  ..   sur = \u001b[31mcol_character()\u001b[39m,\n",
      "  ..   rt = \u001b[31mcol_character()\u001b[39m,\n",
      "  ..   che = \u001b[31mcol_character()\u001b[39m,\n",
      "  ..   status = \u001b[31mcol_character()\u001b[39m,\n",
      "  ..   time = \u001b[32mcol_double()\u001b[39m\n",
      "  .. )\n",
      " - attr(*, \"problems\")=<externalptr> \n"
     ]
    }
   ],
   "source": [
    "str(aa)"
   ]
  },
  {
   "cell_type": "code",
   "execution_count": 14,
   "metadata": {
    "vscode": {
     "languageId": "r"
    }
   },
   "outputs": [],
   "source": [
    "# 指定想要输出的变量\n",
    "myVars <- c(\n",
    "  \"age\",\"age70\", \"race\", \"marry\",\n",
    "  \"t\", \"n\",  \"tnm\", \"er\", \"pr\",\n",
    "  \"g\",\"her2\", \"sur\",\"rt\",\"che\",\n",
    "  \"time\",\"status\") # 16个变量"
   ]
  },
  {
   "cell_type": "code",
   "execution_count": 15,
   "metadata": {
    "vscode": {
     "languageId": "r"
    }
   },
   "outputs": [],
   "source": [
    "#指定分类变量\n",
    " catVars <- c(\n",
    "  \"age70\", \"race\", \"marry\",\n",
    "   \"t\", \"n\",  \"tnm\", \"er\", \"pr\",\n",
    "  \"g\",\"her2\", \"sur\",\"rt\",\"che\",\"status\")  # 14个分类变量"
   ]
  },
  {
   "cell_type": "code",
   "execution_count": 17,
   "metadata": {
    "vscode": {
     "languageId": "r"
    }
   },
   "outputs": [],
   "source": [
    "# 指定哪些变量是非正态分布变量\n",
    "nonvar <- c(\"time\",\"age\") "
   ]
  },
  {
   "cell_type": "code",
   "execution_count": 18,
   "metadata": {
    "vscode": {
     "languageId": "r"
    }
   },
   "outputs": [],
   "source": [
    " table<- CreateTableOne(\n",
    "  vars = myVars,       #条件1\n",
    "  factorVars = catVars, #条件2\n",
    "  data = aa,  #源数据\n",
    "  addOverall = TRUE\n",
    ")  #增加overall列"
   ]
  },
  {
   "cell_type": "code",
   "execution_count": null,
   "metadata": {
    "vscode": {
     "languageId": "r"
    }
   },
   "outputs": [
    {
     "name": "stdout",
     "output_type": "stream",
     "text": [
      "                     \n",
      "                      level      Overall             \n",
      "  n                               5000               \n",
      "  age (median [IQR])             57.00 [48.00, 67.00]\n",
      "  age70 (%)           <=70        4023 (80.5)        \n",
      "                      >70          977 (19.5)        \n",
      "  race (%)            Black        786 (15.7)        \n",
      "                      Other        536 (10.7)        \n",
      "                      White       3678 (73.6)        \n",
      "  marry (%)           Divorced     579 (11.6)        \n",
      "                      Married     2612 (52.2)        \n",
      "                      Other        851 (17.0)        \n",
      "                      Single       958 (19.2)        \n",
      "  t (%)               T1           609 (12.2)        \n",
      "                      T2          1529 (30.6)        \n",
      "                      T3          1816 (36.3)        \n",
      "                      T4          1046 (20.9)        \n",
      "  n (%)               N0           808 (16.2)        \n",
      "                      N1          1140 (22.8)        \n",
      "                      N2          1966 (39.3)        \n",
      "                      N3          1086 (21.7)        \n",
      "  tnm (%)             IIB          571 (11.4)        \n",
      "                      IIIA        2507 (50.1)        \n",
      "                      IIIB         836 (16.7)        \n",
      "                      IIIC        1086 (21.7)        \n",
      "  er (%)              Negative    1461 (29.2)        \n",
      "                      Positive    3539 (70.8)        \n",
      "  pr (%)              Negative    2074 (41.5)        \n",
      "                      Positive    2926 (58.5)        \n",
      "  g (%)               I            271 ( 5.4)        \n",
      "                      II          1706 (34.1)        \n",
      "                      III         3023 (60.5)        \n",
      "  her2 (%)            Negative    3721 (74.4)        \n",
      "                      Positive    1279 (25.6)        \n",
      "  sur (%)             BCS         1119 (22.4)        \n",
      "                      MAST        3435 (68.7)        \n",
      "                      No           446 ( 8.9)        \n",
      "  rt (%)              No/Unknown  2156 (43.1)        \n",
      "                      Yes         2844 (56.9)        \n",
      "  che (%)             No/Unknown  1069 (21.4)        \n",
      "                      Yes         3931 (78.6)        \n",
      "  time (median [IQR])            36.00 [20.00, 56.00]\n",
      "  status (%)          dead        1189 (23.8)        \n",
      "                      live        3811 (76.2)        \n"
     ]
    }
   ],
   "source": [
    "table1 <- print(\n",
    "  table,  #构建的table函数（包括条件1.2）\n",
    "  showAllLevels=TRUE, #显示所有变量\n",
    "  nonnormal = nonvar\n",
    ") #条件3"
   ]
  },
  {
   "cell_type": "markdown",
   "metadata": {},
   "source": [
    "# Table 1（4列）"
   ]
  },
  {
   "cell_type": "code",
   "execution_count": 20,
   "metadata": {
    "vscode": {
     "languageId": "r"
    }
   },
   "outputs": [],
   "source": [
    "table <- CreateTableOne(\n",
    "  vars = myVars, #条件1\n",
    "  factorVars = catVars,#条件2\n",
    "  strata = \"rt\", #条件4\n",
    "  data = aa, #原始数据\n",
    ")"
   ]
  },
  {
   "cell_type": "code",
   "execution_count": 22,
   "metadata": {
    "vscode": {
     "languageId": "r"
    }
   },
   "outputs": [
    {
     "name": "stdout",
     "output_type": "stream",
     "text": [
      "                     Stratified by rt\n",
      "                      level      No/Unknown             \n",
      "  n                              2156                   \n",
      "  age (median [IQR])             59.000 [49.000, 72.000]\n",
      "  age70 (%)           <=70       1575 (73.05)           \n",
      "                      >70        581 (26.95)            \n",
      "  race (%)            Black      343 (15.91)            \n",
      "                      Other      255 (11.83)            \n",
      "                      White      1558 (72.26)           \n",
      "  marry (%)           Divorced   247 (11.46)            \n",
      "                      Married    999 (46.34)            \n",
      "                      Other      466 (21.61)            \n",
      "                      Single     444 (20.59)            \n",
      "  t (%)               T1         222 (10.30)            \n",
      "                      T2         592 (27.46)            \n",
      "                      T3         802 (37.20)            \n",
      "                      T4         540 (25.05)            \n",
      "  n (%)               N0         463 (21.47)            \n",
      "                      N1         506 (23.47)            \n",
      "                      N2         732 (33.95)            \n",
      "                      N3         455 (21.10)            \n",
      "  tnm (%)             IIB        309 (14.33)            \n",
      "                      IIIA       950 (44.06)            \n",
      "                      IIIB       442 (20.50)            \n",
      "                      IIIC       455 (21.10)            \n",
      "  er (%)              Negative   665 (30.84)            \n",
      "                      Positive   1491 (69.16)           \n",
      "  pr (%)              Negative   952 (44.16)            \n",
      "                      Positive   1204 (55.84)           \n",
      "  g (%)               I          110 (5.10)             \n",
      "                      II         733 (34.00)            \n",
      "                      III        1313 (60.90)           \n",
      "  her2 (%)            Negative   1575 (73.05)           \n",
      "                      Positive   581 (26.95)            \n",
      "  sur (%)             BCS        371 (17.21)            \n",
      "                      MAST       1383 (64.15)           \n",
      "                      No         402 (18.65)            \n",
      "  rt (%)              No/Unknown 2156 (100.00)          \n",
      "                      Yes        0 (0.00)               \n",
      "  che (%)             No/Unknown 768 (35.62)            \n",
      "                      Yes        1388 (64.38)           \n",
      "  time (median [IQR])            31.000 [17.000, 51.000]\n",
      "  status (%)          dead       640 (29.68)            \n",
      "                      live       1516 (70.32)           \n",
      "                     Stratified by rt\n",
      "                      Yes                     p       test   \n",
      "  n                   2844                                   \n",
      "  age (median [IQR])  56.000 [47.000, 65.000] <0.0001 nonnorm\n",
      "  age70 (%)           2448 (86.08)            <0.0001        \n",
      "                      396 (13.92)                            \n",
      "  race (%)            443 (15.58)             0.0710         \n",
      "                      281 (9.88)                             \n",
      "                      2120 (74.54)                           \n",
      "  marry (%)           332 (11.67)             <0.0001        \n",
      "                      1613 (56.72)                           \n",
      "                      385 (13.54)                            \n",
      "                      514 (18.07)                            \n",
      "  t (%)               387 (13.61)             <0.0001        \n",
      "                      937 (32.95)                            \n",
      "                      1014 (35.65)                           \n",
      "                      506 (17.79)                            \n",
      "  n (%)               345 (12.13)             <0.0001        \n",
      "                      634 (22.29)                            \n",
      "                      1234 (43.39)                           \n",
      "                      631 (22.19)                            \n",
      "  tnm (%)             262 (9.21)              <0.0001        \n",
      "                      1557 (54.75)                           \n",
      "                      394 (13.85)                            \n",
      "                      631 (22.19)                            \n",
      "  er (%)              796 (27.99)             0.0302         \n",
      "                      2048 (72.01)                           \n",
      "  pr (%)              1122 (39.45)            0.0009         \n",
      "                      1722 (60.55)                           \n",
      "  g (%)               161 (5.66)              0.6555         \n",
      "                      973 (34.21)                            \n",
      "                      1710 (60.13)                           \n",
      "  her2 (%)            2146 (75.46)            0.0577         \n",
      "                      698 (24.54)                            \n",
      "  sur (%)             748 (26.30)             <0.0001        \n",
      "                      2052 (72.15)                           \n",
      "                      44 (1.55)                              \n",
      "  rt (%)              0 (0.00)                <0.0001        \n",
      "                      2844 (100.00)                          \n",
      "  che (%)             301 (10.58)             <0.0001        \n",
      "                      2543 (89.42)                           \n",
      "  time (median [IQR]) 39.000 [23.000, 59.000] <0.0001 nonnorm\n",
      "  status (%)          549 (19.30)             <0.0001        \n",
      "                      2295 (80.70)                           \n"
     ]
    }
   ],
   "source": [
    "table1<- print(\n",
    "  table, #构建的table函数（带条件1.2.3）\n",
    "  nonnormal = nonvar,#条件4\n",
    "  #exact = exactvars,#条件5\n",
    "  catDigits = 2,\n",
    "  contDigits = 3,\n",
    "  pDigits = 4, #附加条件\n",
    "  showAllLevels=TRUE, #显示所有变量\n",
    "  quote = FALSE, # 不显示引号\n",
    "  noSpaces = TRUE, # #删除用于对齐的空格\n",
    "  printToggle = TRUE\n",
    ") #展示输出结果"
   ]
  },
  {
   "cell_type": "markdown",
   "metadata": {},
   "source": [
    "# Table 1（5列）"
   ]
  },
  {
   "cell_type": "code",
   "execution_count": 23,
   "metadata": {
    "vscode": {
     "languageId": "r"
    }
   },
   "outputs": [],
   "source": [
    "table <- CreateTableOne(\n",
    "  vars = myVars, #条件1\n",
    "  factorVars = catVars,#条件2\n",
    "  strata = \"rt\", #条件4\n",
    "  data = aa, #原始数据\n",
    "  addOverall = TRUE\n",
    ")  # 条件6加入overall"
   ]
  },
  {
   "cell_type": "code",
   "execution_count": 25,
   "metadata": {
    "vscode": {
     "languageId": "r"
    }
   },
   "outputs": [
    {
     "data": {
      "text/plain": [
       "                     Stratified by rt\n",
       "                      Overall       No/Unknown    Yes            p      test\n",
       "  n                    5000          2156          2844                     \n",
       "  age (mean (SD))     58.00 (14.36) 60.64 (15.27) 56.00 (13.29)  <0.001     \n",
       "  age70 = >70 (%)       977 (19.5)    581 (26.9)    396 ( 13.9)  <0.001     \n",
       "  race (%)                                                        0.071     \n",
       "     Black              786 (15.7)    343 (15.9)    443 ( 15.6)             \n",
       "     Other              536 (10.7)    255 (11.8)    281 (  9.9)             \n",
       "     White             3678 (73.6)   1558 (72.3)   2120 ( 74.5)             \n",
       "  marry (%)                                                      <0.001     \n",
       "     Divorced           579 (11.6)    247 (11.5)    332 ( 11.7)             \n",
       "     Married           2612 (52.2)    999 (46.3)   1613 ( 56.7)             \n",
       "     Other              851 (17.0)    466 (21.6)    385 ( 13.5)             \n",
       "     Single             958 (19.2)    444 (20.6)    514 ( 18.1)             \n",
       "  t (%)                                                          <0.001     \n",
       "     T1                 609 (12.2)    222 (10.3)    387 ( 13.6)             \n",
       "     T2                1529 (30.6)    592 (27.5)    937 ( 32.9)             \n",
       "     T3                1816 (36.3)    802 (37.2)   1014 ( 35.7)             \n",
       "     T4                1046 (20.9)    540 (25.0)    506 ( 17.8)             \n",
       "  n (%)                                                          <0.001     \n",
       "     N0                 808 (16.2)    463 (21.5)    345 ( 12.1)             \n",
       "     N1                1140 (22.8)    506 (23.5)    634 ( 22.3)             \n",
       "     N2                1966 (39.3)    732 (34.0)   1234 ( 43.4)             \n",
       "     N3                1086 (21.7)    455 (21.1)    631 ( 22.2)             \n",
       "  tnm (%)                                                        <0.001     \n",
       "     IIB                571 (11.4)    309 (14.3)    262 (  9.2)             \n",
       "     IIIA              2507 (50.1)    950 (44.1)   1557 ( 54.7)             \n",
       "     IIIB               836 (16.7)    442 (20.5)    394 ( 13.9)             \n",
       "     IIIC              1086 (21.7)    455 (21.1)    631 ( 22.2)             \n",
       "  er = Positive (%)    3539 (70.8)   1491 (69.2)   2048 ( 72.0)   0.030     \n",
       "  pr = Positive (%)    2926 (58.5)   1204 (55.8)   1722 ( 60.5)   0.001     \n",
       "  g (%)                                                           0.655     \n",
       "     I                  271 ( 5.4)    110 ( 5.1)    161 (  5.7)             \n",
       "     II                1706 (34.1)    733 (34.0)    973 ( 34.2)             \n",
       "     III               3023 (60.5)   1313 (60.9)   1710 ( 60.1)             \n",
       "  her2 = Positive (%)  1279 (25.6)    581 (26.9)    698 ( 24.5)   0.058     \n",
       "  sur (%)                                                        <0.001     \n",
       "     BCS               1119 (22.4)    371 (17.2)    748 ( 26.3)             \n",
       "     MAST              3435 (68.7)   1383 (64.1)   2052 ( 72.2)             \n",
       "     No                 446 ( 8.9)    402 (18.6)     44 (  1.5)             \n",
       "  rt = Yes (%)         2844 (56.9)      0 ( 0.0)   2844 (100.0)  <0.001     \n",
       "  che = Yes (%)        3931 (78.6)   1388 (64.4)   2543 ( 89.4)  <0.001     \n",
       "  time (mean (SD))    38.77 (21.45) 34.92 (21.85) 41.69 (20.68)  <0.001     \n",
       "  status = live (%)    3811 (76.2)   1516 (70.3)   2295 ( 80.7)  <0.001     "
      ]
     },
     "metadata": {},
     "output_type": "display_data"
    }
   ],
   "source": [
    "table"
   ]
  },
  {
   "cell_type": "code",
   "execution_count": 24,
   "metadata": {
    "vscode": {
     "languageId": "r"
    }
   },
   "outputs": [
    {
     "name": "stdout",
     "output_type": "stream",
     "text": [
      "                     Stratified by rt\n",
      "                      level      Overall                \n",
      "  n                              5000                   \n",
      "  age (median [IQR])             57.000 [48.000, 67.000]\n",
      "  age70 (%)           <=70       4023 (80.46)           \n",
      "                      >70        977 (19.54)            \n",
      "  race (%)            Black      786 (15.72)            \n",
      "                      Other      536 (10.72)            \n",
      "                      White      3678 (73.56)           \n",
      "  marry (%)           Divorced   579 (11.58)            \n",
      "                      Married    2612 (52.24)           \n",
      "                      Other      851 (17.02)            \n",
      "                      Single     958 (19.16)            \n",
      "  t (%)               T1         609 (12.18)            \n",
      "                      T2         1529 (30.58)           \n",
      "                      T3         1816 (36.32)           \n",
      "                      T4         1046 (20.92)           \n",
      "  n (%)               N0         808 (16.16)            \n",
      "                      N1         1140 (22.80)           \n",
      "                      N2         1966 (39.32)           \n",
      "                      N3         1086 (21.72)           \n",
      "  tnm (%)             IIB        571 (11.42)            \n",
      "                      IIIA       2507 (50.14)           \n",
      "                      IIIB       836 (16.72)            \n",
      "                      IIIC       1086 (21.72)           \n",
      "  er (%)              Negative   1461 (29.22)           \n",
      "                      Positive   3539 (70.78)           \n",
      "  pr (%)              Negative   2074 (41.48)           \n",
      "                      Positive   2926 (58.52)           \n",
      "  g (%)               I          271 (5.42)             \n",
      "                      II         1706 (34.12)           \n",
      "                      III        3023 (60.46)           \n",
      "  her2 (%)            Negative   3721 (74.42)           \n",
      "                      Positive   1279 (25.58)           \n",
      "  sur (%)             BCS        1119 (22.38)           \n",
      "                      MAST       3435 (68.70)           \n",
      "                      No         446 (8.92)             \n",
      "  rt (%)              No/Unknown 2156 (43.12)           \n",
      "                      Yes        2844 (56.88)           \n",
      "  che (%)             No/Unknown 1069 (21.38)           \n",
      "                      Yes        3931 (78.62)           \n",
      "  time (median [IQR])            36.000 [20.000, 56.000]\n",
      "  status (%)          dead       1189 (23.78)           \n",
      "                      live       3811 (76.22)           \n",
      "                     Stratified by rt\n",
      "                      No/Unknown              Yes                     p      \n",
      "  n                   2156                    2844                           \n",
      "  age (median [IQR])  59.000 [49.000, 72.000] 56.000 [47.000, 65.000] <0.0001\n",
      "  age70 (%)           1575 (73.05)            2448 (86.08)            <0.0001\n",
      "                      581 (26.95)             396 (13.92)                    \n",
      "  race (%)            343 (15.91)             443 (15.58)             0.0710 \n",
      "                      255 (11.83)             281 (9.88)                     \n",
      "                      1558 (72.26)            2120 (74.54)                   \n",
      "  marry (%)           247 (11.46)             332 (11.67)             <0.0001\n",
      "                      999 (46.34)             1613 (56.72)                   \n",
      "                      466 (21.61)             385 (13.54)                    \n",
      "                      444 (20.59)             514 (18.07)                    \n",
      "  t (%)               222 (10.30)             387 (13.61)             <0.0001\n",
      "                      592 (27.46)             937 (32.95)                    \n",
      "                      802 (37.20)             1014 (35.65)                   \n",
      "                      540 (25.05)             506 (17.79)                    \n",
      "  n (%)               463 (21.47)             345 (12.13)             <0.0001\n",
      "                      506 (23.47)             634 (22.29)                    \n",
      "                      732 (33.95)             1234 (43.39)                   \n",
      "                      455 (21.10)             631 (22.19)                    \n",
      "  tnm (%)             309 (14.33)             262 (9.21)              <0.0001\n",
      "                      950 (44.06)             1557 (54.75)                   \n",
      "                      442 (20.50)             394 (13.85)                    \n",
      "                      455 (21.10)             631 (22.19)                    \n",
      "  er (%)              665 (30.84)             796 (27.99)             0.0302 \n",
      "                      1491 (69.16)            2048 (72.01)                   \n",
      "  pr (%)              952 (44.16)             1122 (39.45)            0.0009 \n",
      "                      1204 (55.84)            1722 (60.55)                   \n",
      "  g (%)               110 (5.10)              161 (5.66)              0.6555 \n",
      "                      733 (34.00)             973 (34.21)                    \n",
      "                      1313 (60.90)            1710 (60.13)                   \n",
      "  her2 (%)            1575 (73.05)            2146 (75.46)            0.0577 \n",
      "                      581 (26.95)             698 (24.54)                    \n",
      "  sur (%)             371 (17.21)             748 (26.30)             <0.0001\n",
      "                      1383 (64.15)            2052 (72.15)                   \n",
      "                      402 (18.65)             44 (1.55)                      \n",
      "  rt (%)              2156 (100.00)           0 (0.00)                <0.0001\n",
      "                      0 (0.00)                2844 (100.00)                  \n",
      "  che (%)             768 (35.62)             301 (10.58)             <0.0001\n",
      "                      1388 (64.38)            2543 (89.42)                   \n",
      "  time (median [IQR]) 31.000 [17.000, 51.000] 39.000 [23.000, 59.000] <0.0001\n",
      "  status (%)          640 (29.68)             549 (19.30)             <0.0001\n",
      "                      1516 (70.32)            2295 (80.70)                   \n",
      "                     Stratified by rt\n",
      "                      test   \n",
      "  n                          \n",
      "  age (median [IQR])  nonnorm\n",
      "  age70 (%)                  \n",
      "                             \n",
      "  race (%)                   \n",
      "                             \n",
      "                             \n",
      "  marry (%)                  \n",
      "                             \n",
      "                             \n",
      "                             \n",
      "  t (%)                      \n",
      "                             \n",
      "                             \n",
      "                             \n",
      "  n (%)                      \n",
      "                             \n",
      "                             \n",
      "                             \n",
      "  tnm (%)                    \n",
      "                             \n",
      "                             \n",
      "                             \n",
      "  er (%)                     \n",
      "                             \n",
      "  pr (%)                     \n",
      "                             \n",
      "  g (%)                      \n",
      "                             \n",
      "                             \n",
      "  her2 (%)                   \n",
      "                             \n",
      "  sur (%)                    \n",
      "                             \n",
      "                             \n",
      "  rt (%)                     \n",
      "                             \n",
      "  che (%)                    \n",
      "                             \n",
      "  time (median [IQR]) nonnorm\n",
      "  status (%)                 \n",
      "                             \n"
     ]
    }
   ],
   "source": [
    "table1<- print(\n",
    "  table, #构建的table函数（带条件1.2.3）\n",
    "  nonnormal = nonvar,#条件4\n",
    "  #exact = exactvars,#条件5\n",
    "  catDigits = 2,contDigits = 3,pDigits = 4, #附加条件\n",
    "  showAllLevels=TRUE, #显示所有变量\n",
    "  quote = FALSE, # 不显示引号\n",
    "  noSpaces = TRUE, # #删除用于对齐的空格\n",
    "  printToggle = TRUE\n",
    ") # 展示输出结果"
   ]
  }
 ],
 "metadata": {
  "kernelspec": {
   "display_name": "R",
   "language": "R",
   "name": "ir"
  },
  "language_info": {
   "codemirror_mode": "r",
   "file_extension": ".r",
   "mimetype": "text/x-r-source",
   "name": "R",
   "pygments_lexer": "r",
   "version": "4.4.2"
  }
 },
 "nbformat": 4,
 "nbformat_minor": 2
}

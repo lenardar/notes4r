{
 "cells": [
  {
   "cell_type": "markdown",
   "id": "06ff12c3",
   "metadata": {},
   "source": [
    "学习R语言{lmtest}包，该包提供了许多实用的检验函数，并且可以与{sandwich}包配合使用，威力无穷。"
   ]
  },
  {
   "cell_type": "code",
   "execution_count": 20,
   "id": "2ea2f28e",
   "metadata": {
    "vscode": {
     "languageId": "r"
    }
   },
   "outputs": [
    {
     "name": "stderr",
     "output_type": "stream",
     "text": [
      "Loading required package: zoo\n",
      "\n"
     ]
    },
    {
     "name": "stderr",
     "output_type": "stream",
     "text": [
      "\n",
      "Attaching package: 'zoo'\n",
      "\n",
      "\n",
      "The following objects are masked from 'package:base':\n",
      "\n",
      "    as.Date, as.Date.numeric\n",
      "\n",
      "\n",
      "-- \u001b[1mAttaching core tidyverse packages\u001b[22m ------------------------ tidyverse 2.0.0 --\n",
      "\u001b[32mv\u001b[39m \u001b[34mdplyr    \u001b[39m 1.1.4     \u001b[32mv\u001b[39m \u001b[34mreadr    \u001b[39m 2.1.5\n",
      "\u001b[32mv\u001b[39m \u001b[34mforcats  \u001b[39m 1.0.0     \u001b[32mv\u001b[39m \u001b[34mstringr  \u001b[39m 1.5.1\n",
      "\u001b[32mv\u001b[39m \u001b[34mggplot2  \u001b[39m 3.5.1     \u001b[32mv\u001b[39m \u001b[34mtibble   \u001b[39m 3.2.1\n",
      "\u001b[32mv\u001b[39m \u001b[34mlubridate\u001b[39m 1.9.4     \u001b[32mv\u001b[39m \u001b[34mtidyr    \u001b[39m 1.3.1\n",
      "\u001b[32mv\u001b[39m \u001b[34mpurrr    \u001b[39m 1.0.2     \n",
      "-- \u001b[1mConflicts\u001b[22m ------------------------------------------ tidyverse_conflicts() --\n",
      "\u001b[31mx\u001b[39m \u001b[34mdplyr\u001b[39m::\u001b[32mfilter()\u001b[39m masks \u001b[34mstats\u001b[39m::filter()\n",
      "\u001b[31mx\u001b[39m \u001b[34mdplyr\u001b[39m::\u001b[32mlag()\u001b[39m    masks \u001b[34mstats\u001b[39m::lag()\n",
      "\u001b[36mi\u001b[39m Use the conflicted package (\u001b[3m\u001b[34m<http://conflicted.r-lib.org/>\u001b[39m\u001b[23m) to force all conflicts to become errors\n"
     ]
    }
   ],
   "source": [
    "library(lmtest)\n",
    "library(broom)\n",
    "library(tidyverse)"
   ]
  },
  {
   "cell_type": "markdown",
   "id": "478cdb03",
   "metadata": {},
   "source": [
    "# 通用检验"
   ]
  },
  {
   "cell_type": "markdown",
   "id": "deb0a161",
   "metadata": {},
   "source": [
    "## coeftest"
   ]
  },
  {
   "cell_type": "markdown",
   "id": "26e71654",
   "metadata": {},
   "source": [
    "用多了，不想介绍。"
   ]
  },
  {
   "cell_type": "markdown",
   "id": "eab36ab0",
   "metadata": {},
   "source": [
    "## lrtest"
   ]
  },
  {
   "cell_type": "code",
   "execution_count": 26,
   "id": "f43553f0",
   "metadata": {
    "vscode": {
     "languageId": "r"
    }
   },
   "outputs": [
    {
     "data": {
      "text/html": [
       "<table class=\"dataframe\">\n",
       "<caption>A anova: 2 x 5</caption>\n",
       "<thead>\n",
       "\t<tr><th></th><th scope=col>#Df</th><th scope=col>LogLik</th><th scope=col>Df</th><th scope=col>Chisq</th><th scope=col>Pr(&gt;Chisq)</th></tr>\n",
       "\t<tr><th></th><th scope=col>&lt;dbl&gt;</th><th scope=col>&lt;dbl&gt;</th><th scope=col>&lt;dbl&gt;</th><th scope=col>&lt;dbl&gt;</th><th scope=col>&lt;dbl&gt;</th></tr>\n",
       "</thead>\n",
       "<tbody>\n",
       "\t<tr><th scope=row>1</th><td>5</td><td>-56.06902</td><td>NA</td><td>      NA</td><td>          NA</td></tr>\n",
       "\t<tr><th scope=row>2</th><td>4</td><td>-65.87133</td><td>-1</td><td>19.60463</td><td>9.523829e-06</td></tr>\n",
       "</tbody>\n",
       "</table>\n"
      ],
      "text/latex": [
       "A anova: 2 x 5\n",
       "\\begin{tabular}{r|lllll}\n",
       "  & \\#Df & LogLik & Df & Chisq & Pr(>Chisq)\\\\\n",
       "  & <dbl> & <dbl> & <dbl> & <dbl> & <dbl>\\\\\n",
       "\\hline\n",
       "\t1 & 5 & -56.06902 & NA &       NA &           NA\\\\\n",
       "\t2 & 4 & -65.87133 & -1 & 19.60463 & 9.523829e-06\\\\\n",
       "\\end{tabular}\n"
      ],
      "text/markdown": [
       "\n",
       "A anova: 2 x 5\n",
       "\n",
       "| <!--/--> | #Df &lt;dbl&gt; | LogLik &lt;dbl&gt; | Df &lt;dbl&gt; | Chisq &lt;dbl&gt; | Pr(&gt;Chisq) &lt;dbl&gt; |\n",
       "|---|---|---|---|---|---|\n",
       "| 1 | 5 | -56.06902 | NA |       NA |           NA |\n",
       "| 2 | 4 | -65.87133 | -1 | 19.60463 | 9.523829e-06 |\n",
       "\n"
      ],
      "text/plain": [
       "  #Df LogLik    Df Chisq    Pr(>Chisq)  \n",
       "1 5   -56.06902 NA       NA           NA\n",
       "2 4   -65.87133 -1 19.60463 9.523829e-06"
      ]
     },
     "metadata": {},
     "output_type": "display_data"
    },
    {
     "data": {
      "text/html": [
       "<table class=\"dataframe\">\n",
       "<caption>A anova: 2 x 5</caption>\n",
       "<thead>\n",
       "\t<tr><th></th><th scope=col>#Df</th><th scope=col>LogLik</th><th scope=col>Df</th><th scope=col>Chisq</th><th scope=col>Pr(&gt;Chisq)</th></tr>\n",
       "\t<tr><th></th><th scope=col>&lt;dbl&gt;</th><th scope=col>&lt;dbl&gt;</th><th scope=col>&lt;dbl&gt;</th><th scope=col>&lt;dbl&gt;</th><th scope=col>&lt;dbl&gt;</th></tr>\n",
       "</thead>\n",
       "<tbody>\n",
       "\t<tr><th scope=row>1</th><td>5</td><td>-56.06902</td><td>NA</td><td>      NA</td><td>          NA</td></tr>\n",
       "\t<tr><th scope=row>2</th><td>4</td><td>-65.87133</td><td>-1</td><td>19.60463</td><td>9.523829e-06</td></tr>\n",
       "</tbody>\n",
       "</table>\n"
      ],
      "text/latex": [
       "A anova: 2 x 5\n",
       "\\begin{tabular}{r|lllll}\n",
       "  & \\#Df & LogLik & Df & Chisq & Pr(>Chisq)\\\\\n",
       "  & <dbl> & <dbl> & <dbl> & <dbl> & <dbl>\\\\\n",
       "\\hline\n",
       "\t1 & 5 & -56.06902 & NA &       NA &           NA\\\\\n",
       "\t2 & 4 & -65.87133 & -1 & 19.60463 & 9.523829e-06\\\\\n",
       "\\end{tabular}\n"
      ],
      "text/markdown": [
       "\n",
       "A anova: 2 x 5\n",
       "\n",
       "| <!--/--> | #Df &lt;dbl&gt; | LogLik &lt;dbl&gt; | Df &lt;dbl&gt; | Chisq &lt;dbl&gt; | Pr(&gt;Chisq) &lt;dbl&gt; |\n",
       "|---|---|---|---|---|---|\n",
       "| 1 | 5 | -56.06902 | NA |       NA |           NA |\n",
       "| 2 | 4 | -65.87133 | -1 | 19.60463 | 9.523829e-06 |\n",
       "\n"
      ],
      "text/plain": [
       "  #Df LogLik    Df Chisq    Pr(>Chisq)  \n",
       "1 5   -56.06902 NA       NA           NA\n",
       "2 4   -65.87133 -1 19.60463 9.523829e-06"
      ]
     },
     "metadata": {},
     "output_type": "display_data"
    },
    {
     "data": {
      "text/html": [
       "<table class=\"dataframe\">\n",
       "<caption>A anova: 2 x 5</caption>\n",
       "<thead>\n",
       "\t<tr><th></th><th scope=col>#Df</th><th scope=col>LogLik</th><th scope=col>Df</th><th scope=col>Chisq</th><th scope=col>Pr(&gt;Chisq)</th></tr>\n",
       "\t<tr><th></th><th scope=col>&lt;dbl&gt;</th><th scope=col>&lt;dbl&gt;</th><th scope=col>&lt;dbl&gt;</th><th scope=col>&lt;dbl&gt;</th><th scope=col>&lt;dbl&gt;</th></tr>\n",
       "</thead>\n",
       "<tbody>\n",
       "\t<tr><th scope=row>1</th><td>5</td><td>-56.06902</td><td>NA</td><td>      NA</td><td>          NA</td></tr>\n",
       "\t<tr><th scope=row>2</th><td>4</td><td>-65.87133</td><td>-1</td><td>19.60463</td><td>9.523829e-06</td></tr>\n",
       "</tbody>\n",
       "</table>\n"
      ],
      "text/latex": [
       "A anova: 2 x 5\n",
       "\\begin{tabular}{r|lllll}\n",
       "  & \\#Df & LogLik & Df & Chisq & Pr(>Chisq)\\\\\n",
       "  & <dbl> & <dbl> & <dbl> & <dbl> & <dbl>\\\\\n",
       "\\hline\n",
       "\t1 & 5 & -56.06902 & NA &       NA &           NA\\\\\n",
       "\t2 & 4 & -65.87133 & -1 & 19.60463 & 9.523829e-06\\\\\n",
       "\\end{tabular}\n"
      ],
      "text/markdown": [
       "\n",
       "A anova: 2 x 5\n",
       "\n",
       "| <!--/--> | #Df &lt;dbl&gt; | LogLik &lt;dbl&gt; | Df &lt;dbl&gt; | Chisq &lt;dbl&gt; | Pr(&gt;Chisq) &lt;dbl&gt; |\n",
       "|---|---|---|---|---|---|\n",
       "| 1 | 5 | -56.06902 | NA |       NA |           NA |\n",
       "| 2 | 4 | -65.87133 | -1 | 19.60463 | 9.523829e-06 |\n",
       "\n"
      ],
      "text/plain": [
       "  #Df LogLik    Df Chisq    Pr(>Chisq)  \n",
       "1 5   -56.06902 NA       NA           NA\n",
       "2 4   -65.87133 -1 19.60463 9.523829e-06"
      ]
     },
     "metadata": {},
     "output_type": "display_data"
    },
    {
     "data": {
      "text/html": [
       "<table class=\"dataframe\">\n",
       "<caption>A anova: 2 x 5</caption>\n",
       "<thead>\n",
       "\t<tr><th></th><th scope=col>#Df</th><th scope=col>LogLik</th><th scope=col>Df</th><th scope=col>Chisq</th><th scope=col>Pr(&gt;Chisq)</th></tr>\n",
       "\t<tr><th></th><th scope=col>&lt;dbl&gt;</th><th scope=col>&lt;dbl&gt;</th><th scope=col>&lt;dbl&gt;</th><th scope=col>&lt;dbl&gt;</th><th scope=col>&lt;dbl&gt;</th></tr>\n",
       "</thead>\n",
       "<tbody>\n",
       "\t<tr><th scope=row>1</th><td>5</td><td>-56.06902</td><td>NA</td><td>      NA</td><td>          NA</td></tr>\n",
       "\t<tr><th scope=row>2</th><td>4</td><td>-65.87133</td><td>-1</td><td>19.60463</td><td>9.523829e-06</td></tr>\n",
       "</tbody>\n",
       "</table>\n"
      ],
      "text/latex": [
       "A anova: 2 x 5\n",
       "\\begin{tabular}{r|lllll}\n",
       "  & \\#Df & LogLik & Df & Chisq & Pr(>Chisq)\\\\\n",
       "  & <dbl> & <dbl> & <dbl> & <dbl> & <dbl>\\\\\n",
       "\\hline\n",
       "\t1 & 5 & -56.06902 & NA &       NA &           NA\\\\\n",
       "\t2 & 4 & -65.87133 & -1 & 19.60463 & 9.523829e-06\\\\\n",
       "\\end{tabular}\n"
      ],
      "text/markdown": [
       "\n",
       "A anova: 2 x 5\n",
       "\n",
       "| <!--/--> | #Df &lt;dbl&gt; | LogLik &lt;dbl&gt; | Df &lt;dbl&gt; | Chisq &lt;dbl&gt; | Pr(&gt;Chisq) &lt;dbl&gt; |\n",
       "|---|---|---|---|---|---|\n",
       "| 1 | 5 | -56.06902 | NA |       NA |           NA |\n",
       "| 2 | 4 | -65.87133 | -1 | 19.60463 | 9.523829e-06 |\n",
       "\n"
      ],
      "text/plain": [
       "  #Df LogLik    Df Chisq    Pr(>Chisq)  \n",
       "1 5   -56.06902 NA       NA           NA\n",
       "2 4   -65.87133 -1 19.60463 9.523829e-06"
      ]
     },
     "metadata": {},
     "output_type": "display_data"
    }
   ],
   "source": [
    "## 使用 Greene (1993) 的数据进行示例：\n",
    "\n",
    "## 加载数据并计算滞后项\n",
    "data(\"USDistLag\")\n",
    "usdl <- na.contiguous(cbind(USDistLag, stats::lag(USDistLag, k = -1)))\n",
    "colnames(usdl) <- c(\"con\", \"gnp\", \"con1\", \"gnp1\")\n",
    "\n",
    "## 构建两个嵌套模型\n",
    "fm1 <- lm(con ~ gnp + gnp1, data = usdl)\n",
    "fm2 <- lm(con ~ gnp + con1 + gnp1, data = usdl)\n",
    "\n",
    "## 多种等价形式的似然比检验\n",
    "lrtest(fm2, fm1)                    # 显式比较两个模型\n",
    "lrtest(fm2, 2)                      # 指定删除第2个解释变量（con1）\n",
    "lrtest(fm2, \"con1\")                 # 指定按变量名删除 con1\n",
    "lrtest(fm2, . ~ . - con1)           # 使用公式语法删除 con1\n"
   ]
  },
  {
   "cell_type": "markdown",
   "id": "24f1a6da",
   "metadata": {},
   "source": [
    "# 异方差检验"
   ]
  },
  {
   "cell_type": "markdown",
   "id": "64723d52",
   "metadata": {},
   "source": [
    "## bptest"
   ]
  },
  {
   "cell_type": "code",
   "execution_count": 14,
   "id": "5cdfe65d",
   "metadata": {
    "vscode": {
     "languageId": "r"
    }
   },
   "outputs": [
    {
     "data": {
      "text/plain": [
       "\n",
       "\tstudentized Breusch-Pagan test\n",
       "\n",
       "data:  y1 ~ x\n",
       "BP = 15.061, df = 1, p-value = 0.0001041\n"
      ]
     },
     "metadata": {},
     "output_type": "display_data"
    },
    {
     "data": {
      "text/plain": [
       "\n",
       "\tstudentized Breusch-Pagan test\n",
       "\n",
       "data:  y2 ~ x\n",
       "BP = 0.2176, df = 1, p-value = 0.6409\n"
      ]
     },
     "metadata": {},
     "output_type": "display_data"
    }
   ],
   "source": [
    "## generate a regressor\n",
    "x <- rep(c(-1,1), 50) \n",
    "\n",
    "## generate heteroskedastic and homoskedastic disturbances\n",
    "err1 <- rnorm(100, sd = rep(c(1, 2), 50))\n",
    "err2 <- rnorm(100)\n",
    "\n",
    "## generate a linear relationship\n",
    "y1 <- 1 + x + err1\n",
    "y2 <- 1 + x + err2\n",
    "\n",
    "## perform Breusch-Pagan test\n",
    "bptest(y1 ~ x)\n",
    "bptest(y2 ~ x)"
   ]
  },
  {
   "cell_type": "markdown",
   "id": "47636c76",
   "metadata": {},
   "source": [
    "## waldtest"
   ]
  },
  {
   "cell_type": "code",
   "execution_count": 28,
   "id": "d9689f42",
   "metadata": {
    "vscode": {
     "languageId": "r"
    }
   },
   "outputs": [
    {
     "data": {
      "text/html": [
       "<table class=\"dataframe\">\n",
       "<caption>A anova: 2 x 4</caption>\n",
       "<thead>\n",
       "\t<tr><th></th><th scope=col>Res.Df</th><th scope=col>Df</th><th scope=col>F</th><th scope=col>Pr(&gt;F)</th></tr>\n",
       "\t<tr><th></th><th scope=col>&lt;dbl&gt;</th><th scope=col>&lt;dbl&gt;</th><th scope=col>&lt;dbl&gt;</th><th scope=col>&lt;dbl&gt;</th></tr>\n",
       "</thead>\n",
       "<tbody>\n",
       "\t<tr><th scope=row>1</th><td>28</td><td>NA</td><td>     NA</td><td>       NA</td></tr>\n",
       "\t<tr><th scope=row>2</th><td>29</td><td>-1</td><td>1.35267</td><td>0.2546284</td></tr>\n",
       "</tbody>\n",
       "</table>\n"
      ],
      "text/latex": [
       "A anova: 2 x 4\n",
       "\\begin{tabular}{r|llll}\n",
       "  & Res.Df & Df & F & Pr(>F)\\\\\n",
       "  & <dbl> & <dbl> & <dbl> & <dbl>\\\\\n",
       "\\hline\n",
       "\t1 & 28 & NA &      NA &        NA\\\\\n",
       "\t2 & 29 & -1 & 1.35267 & 0.2546284\\\\\n",
       "\\end{tabular}\n"
      ],
      "text/markdown": [
       "\n",
       "A anova: 2 x 4\n",
       "\n",
       "| <!--/--> | Res.Df &lt;dbl&gt; | Df &lt;dbl&gt; | F &lt;dbl&gt; | Pr(&gt;F) &lt;dbl&gt; |\n",
       "|---|---|---|---|---|\n",
       "| 1 | 28 | NA |      NA |        NA |\n",
       "| 2 | 29 | -1 | 1.35267 | 0.2546284 |\n",
       "\n"
      ],
      "text/plain": [
       "  Res.Df Df F       Pr(>F)   \n",
       "1 28     NA      NA        NA\n",
       "2 29     -1 1.35267 0.2546284"
      ]
     },
     "metadata": {},
     "output_type": "display_data"
    }
   ],
   "source": [
    "# 测试Wald检验\n",
    "full  <- lm(data = mtcars, mpg ~ wt + hp + qsec)\n",
    "reduced <- lm(data = mtcars, mpg ~ wt + hp)\n",
    "waldtest(full, reduced)"
   ]
  },
  {
   "cell_type": "markdown",
   "id": "8d60870e",
   "metadata": {},
   "source": [
    "## GQ检验"
   ]
  },
  {
   "cell_type": "code",
   "execution_count": 19,
   "id": "21b576e8",
   "metadata": {
    "vscode": {
     "languageId": "r"
    }
   },
   "outputs": [
    {
     "data": {
      "text/plain": [
       "\n",
       "\tGoldfeld-Quandt test\n",
       "\n",
       "data:  y1 ~ x\n",
       "GQ = 4.2247, df1 = 48, df2 = 48, p-value = 9.036e-07\n",
       "alternative hypothesis: variance increases from segment 1 to 2\n"
      ]
     },
     "metadata": {},
     "output_type": "display_data"
    },
    {
     "data": {
      "text/plain": [
       "\n",
       "\tGoldfeld-Quandt test\n",
       "\n",
       "data:  y2 ~ x\n",
       "GQ = 0.94711, df1 = 48, df2 = 48, p-value = 0.5743\n",
       "alternative hypothesis: variance increases from segment 1 to 2\n"
      ]
     },
     "metadata": {},
     "output_type": "display_data"
    }
   ],
   "source": [
    "## generate a regressor\n",
    "x <- rep(c(-1, 1), 50)\n",
    "\n",
    "## generate heteroskedastic and homoskedastic disturbances\n",
    "err1 <- c(rnorm(50, sd = 1), rnorm(50, sd = 2))\n",
    "err2 <- rnorm(100)\n",
    "\n",
    "## generate a linear relationship\n",
    "y1 <- 1 + x + err1\n",
    "y2 <- 1 + x + err2\n",
    "\n",
    "## perform Goldfeld-Quandt test\n",
    "gqtest(y1 ~ x)\n",
    "gqtest(y2 ~ x)"
   ]
  },
  {
   "cell_type": "markdown",
   "id": "4e17eda0",
   "metadata": {},
   "source": [
    "## hmctest"
   ]
  },
  {
   "cell_type": "code",
   "execution_count": 24,
   "id": "bcea1b18",
   "metadata": {
    "vscode": {
     "languageId": "r"
    }
   },
   "outputs": [
    {
     "data": {
      "text/plain": [
       "\n",
       "\tHarrison-McCabe test\n",
       "\n",
       "data:  y1 ~ x\n",
       "HMC = 0.18949, p-value < 2.2e-16\n"
      ]
     },
     "metadata": {},
     "output_type": "display_data"
    },
    {
     "data": {
      "text/plain": [
       "\n",
       "\tHarrison-McCabe test\n",
       "\n",
       "data:  y2 ~ x\n",
       "HMC = 0.59699, p-value = 0.898\n"
      ]
     },
     "metadata": {},
     "output_type": "display_data"
    }
   ],
   "source": [
    "## 生成解释变量\n",
    "x <- rep(c(-1, 1), 50)\n",
    "\n",
    "## 生成异方差和同方差扰动项\n",
    "err1 <- c(rnorm(50, sd = 1), rnorm(50, sd = 2))  # 异方差\n",
    "err2 <- rnorm(100)                              # 同方差\n",
    "\n",
    "## 构造线性关系\n",
    "y1 <- 1 + x + err1\n",
    "y2 <- 1 + x + err2\n",
    "\n",
    "## 执行 Harrison-McCabe 异方差检验\n",
    "hmctest(y1 ~ x)\n",
    "hmctest(y2 ~ x)\n"
   ]
  },
  {
   "cell_type": "markdown",
   "id": "06fe3afd",
   "metadata": {},
   "source": [
    "# 自相关检验"
   ]
  },
  {
   "cell_type": "markdown",
   "id": "9d8ad576",
   "metadata": {},
   "source": [
    "## bgtest"
   ]
  },
  {
   "cell_type": "code",
   "execution_count": null,
   "id": "41b8c575",
   "metadata": {
    "vscode": {
     "languageId": "r"
    }
   },
   "outputs": [],
   "source": [
    "## Generate a stationary and an AR(1) series\n",
    "x <- rep(c(1, -1), 50)\n",
    "y1 <- 1 + x + rnorm(100)"
   ]
  },
  {
   "cell_type": "code",
   "execution_count": 9,
   "id": "e7b8eb2e",
   "metadata": {
    "vscode": {
     "languageId": "r"
    }
   },
   "outputs": [
    {
     "data": {
      "text/plain": [
       "\n",
       "\tBreusch-Godfrey test for serial correlation of order up to 1\n",
       "\n",
       "data:  y1 ~ x\n",
       "LM test = 0.14108, df = 1, p-value = 0.7072\n"
      ]
     },
     "metadata": {},
     "output_type": "display_data"
    }
   ],
   "source": [
    "## Perform Breusch-Godfrey test for first-order serial correlation:\n",
    "bgtest(y1 ~ x)"
   ]
  },
  {
   "cell_type": "code",
   "execution_count": 10,
   "id": "9844d761",
   "metadata": {
    "vscode": {
     "languageId": "r"
    }
   },
   "outputs": [
    {
     "data": {
      "text/plain": [
       "\n",
       "\tBreusch-Godfrey test for serial correlation of order up to 4\n",
       "\n",
       "data:  y1 ~ x\n",
       "LM test = 0.61713, df = 4, p-value = 0.9611\n"
      ]
     },
     "metadata": {},
     "output_type": "display_data"
    }
   ],
   "source": [
    "## or for fourth-order serial correlation\n",
    "bgtest(y1 ~ x, order = 4)"
   ]
  },
  {
   "cell_type": "code",
   "execution_count": null,
   "id": "abb92056",
   "metadata": {
    "vscode": {
     "languageId": "r"
    }
   },
   "outputs": [
    {
     "data": {
      "text/plain": [
       "\n",
       "\tBreusch-Godfrey test for serial correlation of order up to 1\n",
       "\n",
       "data:  y2 ~ x\n",
       "LM test = 22.97, df = 1, p-value = 1.646e-06\n"
      ]
     },
     "metadata": {},
     "output_type": "display_data"
    },
    {
     "data": {
      "text/plain": [
       "\n",
       "z test of coefficients:\n",
       "\n",
       "              Estimate Std. Error z value  Pr(>|z|)    \n",
       "(Intercept)  -0.012657   0.103809 -0.1219    0.9030    \n",
       "x            -0.009068   0.103631 -0.0875    0.9303    \n",
       "lag(resid)_1  0.458501   0.103272  4.4398 9.006e-06 ***\n",
       "lag(resid)_2  0.039944   0.116206  0.3437    0.7310    \n",
       "lag(resid)_3  0.058075   0.116052  0.5004    0.6168    \n",
       "lag(resid)_4 -0.024049   0.108217 -0.2222    0.8241    \n",
       "---\n",
       "Signif. codes:  0 '***' 0.001 '**' 0.01 '*' 0.05 '.' 0.1 ' ' 1\n"
      ]
     },
     "metadata": {},
     "output_type": "display_data"
    }
   ],
   "source": [
    "y2 <- stats::filter(y1, 0.5, method = \"recursive\")\n",
    "bgtest(y2 ~ x)\n",
    "\n",
    "bg4 <- bgtest(y2 ~ x, order = 4)\n",
    "coeftest(bg4)"
   ]
  },
  {
   "cell_type": "markdown",
   "id": "6642158e",
   "metadata": {},
   "source": [
    "## dwtest"
   ]
  },
  {
   "cell_type": "code",
   "execution_count": 15,
   "id": "4aa479e7",
   "metadata": {
    "vscode": {
     "languageId": "r"
    }
   },
   "outputs": [
    {
     "data": {
      "text/plain": [
       "\n",
       "\tDurbin-Watson test\n",
       "\n",
       "data:  y1 ~ x\n",
       "DW = 1.8453, p-value = 0.2481\n",
       "alternative hypothesis: true autocorrelation is greater than 0\n"
      ]
     },
     "metadata": {},
     "output_type": "display_data"
    }
   ],
   "source": [
    "## generate two AR(1) error terms with parameter\n",
    "## rho = 0 (white noise) and rho = 0.9 respectively\n",
    "err1 <- rnorm(100)\n",
    "\n",
    "## generate regressor and dependent variable\n",
    "x <- rep(c(-1,1), 50)\n",
    "y1 <- 1 + x + err1\n",
    "\n",
    "## perform Durbin-Watson test\n",
    "dwtest(y1 ~ x)"
   ]
  },
  {
   "cell_type": "code",
   "execution_count": 17,
   "id": "e900a392",
   "metadata": {
    "vscode": {
     "languageId": "r"
    }
   },
   "outputs": [
    {
     "data": {
      "text/plain": [
       "\n",
       "\tDurbin-Watson test\n",
       "\n",
       "data:  y2 ~ x\n",
       "DW = 0.31312, p-value < 2.2e-16\n",
       "alternative hypothesis: true autocorrelation is greater than 0\n"
      ]
     },
     "metadata": {},
     "output_type": "display_data"
    }
   ],
   "source": [
    "err2 <- stats::filter(err1, 0.9, method=\"recursive\")\n",
    "\n",
    "y2 <- 1 + x + err2\n",
    "dwtest(y2 ~ x)"
   ]
  },
  {
   "cell_type": "markdown",
   "id": "c998e703",
   "metadata": {},
   "source": [
    "# grangertest"
   ]
  },
  {
   "cell_type": "code",
   "execution_count": 20,
   "id": "34178d15",
   "metadata": {
    "vscode": {
     "languageId": "r"
    }
   },
   "outputs": [
    {
     "data": {
      "text/html": [
       "<table class=\"dataframe\">\n",
       "<caption>A anova: 2 x 4</caption>\n",
       "<thead>\n",
       "\t<tr><th></th><th scope=col>Res.Df</th><th scope=col>Df</th><th scope=col>F</th><th scope=col>Pr(&gt;F)</th></tr>\n",
       "\t<tr><th></th><th scope=col>&lt;dbl&gt;</th><th scope=col>&lt;dbl&gt;</th><th scope=col>&lt;dbl&gt;</th><th scope=col>&lt;dbl&gt;</th></tr>\n",
       "</thead>\n",
       "<tbody>\n",
       "\t<tr><th scope=row>1</th><td>44</td><td>NA</td><td>       NA</td><td>       NA</td></tr>\n",
       "\t<tr><th scope=row>2</th><td>47</td><td>-3</td><td>0.5916153</td><td>0.6237862</td></tr>\n",
       "</tbody>\n",
       "</table>\n"
      ],
      "text/latex": [
       "A anova: 2 x 4\n",
       "\\begin{tabular}{r|llll}\n",
       "  & Res.Df & Df & F & Pr(>F)\\\\\n",
       "  & <dbl> & <dbl> & <dbl> & <dbl>\\\\\n",
       "\\hline\n",
       "\t1 & 44 & NA &        NA &        NA\\\\\n",
       "\t2 & 47 & -3 & 0.5916153 & 0.6237862\\\\\n",
       "\\end{tabular}\n"
      ],
      "text/markdown": [
       "\n",
       "A anova: 2 x 4\n",
       "\n",
       "| <!--/--> | Res.Df &lt;dbl&gt; | Df &lt;dbl&gt; | F &lt;dbl&gt; | Pr(&gt;F) &lt;dbl&gt; |\n",
       "|---|---|---|---|---|\n",
       "| 1 | 44 | NA |        NA |        NA |\n",
       "| 2 | 47 | -3 | 0.5916153 | 0.6237862 |\n",
       "\n"
      ],
      "text/plain": [
       "  Res.Df Df F         Pr(>F)   \n",
       "1 44     NA        NA        NA\n",
       "2 47     -3 0.5916153 0.6237862"
      ]
     },
     "metadata": {},
     "output_type": "display_data"
    },
    {
     "data": {
      "text/html": [
       "<table class=\"dataframe\">\n",
       "<caption>A anova: 2 x 4</caption>\n",
       "<thead>\n",
       "\t<tr><th></th><th scope=col>Res.Df</th><th scope=col>Df</th><th scope=col>F</th><th scope=col>Pr(&gt;F)</th></tr>\n",
       "\t<tr><th></th><th scope=col>&lt;dbl&gt;</th><th scope=col>&lt;dbl&gt;</th><th scope=col>&lt;dbl&gt;</th><th scope=col>&lt;dbl&gt;</th></tr>\n",
       "</thead>\n",
       "<tbody>\n",
       "\t<tr><th scope=row>1</th><td>44</td><td>NA</td><td>      NA</td><td>         NA</td></tr>\n",
       "\t<tr><th scope=row>2</th><td>47</td><td>-3</td><td>5.404984</td><td>0.002966397</td></tr>\n",
       "</tbody>\n",
       "</table>\n"
      ],
      "text/latex": [
       "A anova: 2 x 4\n",
       "\\begin{tabular}{r|llll}\n",
       "  & Res.Df & Df & F & Pr(>F)\\\\\n",
       "  & <dbl> & <dbl> & <dbl> & <dbl>\\\\\n",
       "\\hline\n",
       "\t1 & 44 & NA &       NA &          NA\\\\\n",
       "\t2 & 47 & -3 & 5.404984 & 0.002966397\\\\\n",
       "\\end{tabular}\n"
      ],
      "text/markdown": [
       "\n",
       "A anova: 2 x 4\n",
       "\n",
       "| <!--/--> | Res.Df &lt;dbl&gt; | Df &lt;dbl&gt; | F &lt;dbl&gt; | Pr(&gt;F) &lt;dbl&gt; |\n",
       "|---|---|---|---|---|\n",
       "| 1 | 44 | NA |       NA |          NA |\n",
       "| 2 | 47 | -3 | 5.404984 | 0.002966397 |\n",
       "\n"
      ],
      "text/plain": [
       "  Res.Df Df F        Pr(>F)     \n",
       "1 44     NA       NA          NA\n",
       "2 47     -3 5.404984 0.002966397"
      ]
     },
     "metadata": {},
     "output_type": "display_data"
    }
   ],
   "source": [
    "## Which came first: the chicken or the egg?\n",
    "data(ChickEgg)\n",
    "grangertest(egg ~ chicken, order = 3, data = ChickEgg)\n",
    "grangertest(chicken ~ egg, order = 3, data = ChickEgg)"
   ]
  },
  {
   "cell_type": "code",
   "execution_count": 21,
   "id": "e0d7b441",
   "metadata": {
    "vscode": {
     "languageId": "r"
    }
   },
   "outputs": [
    {
     "data": {
      "text/html": [
       "<table class=\"dataframe\">\n",
       "<caption>A anova: 2 x 4</caption>\n",
       "<thead>\n",
       "\t<tr><th></th><th scope=col>Res.Df</th><th scope=col>Df</th><th scope=col>F</th><th scope=col>Pr(&gt;F)</th></tr>\n",
       "\t<tr><th></th><th scope=col>&lt;dbl&gt;</th><th scope=col>&lt;dbl&gt;</th><th scope=col>&lt;dbl&gt;</th><th scope=col>&lt;dbl&gt;</th></tr>\n",
       "</thead>\n",
       "<tbody>\n",
       "\t<tr><th scope=row>1</th><td>44</td><td>NA</td><td>       NA</td><td>       NA</td></tr>\n",
       "\t<tr><th scope=row>2</th><td>47</td><td>-3</td><td>0.5916153</td><td>0.6237862</td></tr>\n",
       "</tbody>\n",
       "</table>\n"
      ],
      "text/latex": [
       "A anova: 2 x 4\n",
       "\\begin{tabular}{r|llll}\n",
       "  & Res.Df & Df & F & Pr(>F)\\\\\n",
       "  & <dbl> & <dbl> & <dbl> & <dbl>\\\\\n",
       "\\hline\n",
       "\t1 & 44 & NA &        NA &        NA\\\\\n",
       "\t2 & 47 & -3 & 0.5916153 & 0.6237862\\\\\n",
       "\\end{tabular}\n"
      ],
      "text/markdown": [
       "\n",
       "A anova: 2 x 4\n",
       "\n",
       "| <!--/--> | Res.Df &lt;dbl&gt; | Df &lt;dbl&gt; | F &lt;dbl&gt; | Pr(&gt;F) &lt;dbl&gt; |\n",
       "|---|---|---|---|---|\n",
       "| 1 | 44 | NA |        NA |        NA |\n",
       "| 2 | 47 | -3 | 0.5916153 | 0.6237862 |\n",
       "\n"
      ],
      "text/plain": [
       "  Res.Df Df F         Pr(>F)   \n",
       "1 44     NA        NA        NA\n",
       "2 47     -3 0.5916153 0.6237862"
      ]
     },
     "metadata": {},
     "output_type": "display_data"
    },
    {
     "data": {
      "text/html": [
       "<table class=\"dataframe\">\n",
       "<caption>A anova: 2 x 4</caption>\n",
       "<thead>\n",
       "\t<tr><th></th><th scope=col>Res.Df</th><th scope=col>Df</th><th scope=col>F</th><th scope=col>Pr(&gt;F)</th></tr>\n",
       "\t<tr><th></th><th scope=col>&lt;dbl&gt;</th><th scope=col>&lt;dbl&gt;</th><th scope=col>&lt;dbl&gt;</th><th scope=col>&lt;dbl&gt;</th></tr>\n",
       "</thead>\n",
       "<tbody>\n",
       "\t<tr><th scope=row>1</th><td>44</td><td>NA</td><td>       NA</td><td>       NA</td></tr>\n",
       "\t<tr><th scope=row>2</th><td>47</td><td>-3</td><td>0.5916153</td><td>0.6237862</td></tr>\n",
       "</tbody>\n",
       "</table>\n"
      ],
      "text/latex": [
       "A anova: 2 x 4\n",
       "\\begin{tabular}{r|llll}\n",
       "  & Res.Df & Df & F & Pr(>F)\\\\\n",
       "  & <dbl> & <dbl> & <dbl> & <dbl>\\\\\n",
       "\\hline\n",
       "\t1 & 44 & NA &        NA &        NA\\\\\n",
       "\t2 & 47 & -3 & 0.5916153 & 0.6237862\\\\\n",
       "\\end{tabular}\n"
      ],
      "text/markdown": [
       "\n",
       "A anova: 2 x 4\n",
       "\n",
       "| <!--/--> | Res.Df &lt;dbl&gt; | Df &lt;dbl&gt; | F &lt;dbl&gt; | Pr(&gt;F) &lt;dbl&gt; |\n",
       "|---|---|---|---|---|\n",
       "| 1 | 44 | NA |        NA |        NA |\n",
       "| 2 | 47 | -3 | 0.5916153 | 0.6237862 |\n",
       "\n"
      ],
      "text/plain": [
       "  Res.Df Df F         Pr(>F)   \n",
       "1 44     NA        NA        NA\n",
       "2 47     -3 0.5916153 0.6237862"
      ]
     },
     "metadata": {},
     "output_type": "display_data"
    }
   ],
   "source": [
    "## alternative ways of specifying the same test\n",
    "grangertest(ChickEgg, order = 3)\n",
    "grangertest(ChickEgg[, 1], ChickEgg[, 2], order = 3)"
   ]
  },
  {
   "cell_type": "markdown",
   "id": "e540dbb5",
   "metadata": {},
   "source": [
    "# 线性设定检验"
   ]
  },
  {
   "cell_type": "markdown",
   "id": "57e900f2",
   "metadata": {},
   "source": [
    "## harvtest"
   ]
  },
  {
   "cell_type": "code",
   "execution_count": 22,
   "id": "30d1ef79",
   "metadata": {
    "vscode": {
     "languageId": "r"
    }
   },
   "outputs": [
    {
     "data": {
      "text/plain": [
       "\n",
       "\tHarvey-Collier test\n",
       "\n",
       "data:  y1 ~ x\n",
       "HC = 0.51479, df = 47, p-value = 0.6091\n"
      ]
     },
     "metadata": {},
     "output_type": "display_data"
    }
   ],
   "source": [
    "# generate a regressor and dependent variable\n",
    "x <- 1:50\n",
    "y1 <- 1 + x + rnorm(50)\n",
    "y2 <- y1 + 0.3*x^2\n",
    "\n",
    "## perform Harvey-Collier test\n",
    "harv <- harvtest(y1 ~ x)\n",
    "harv"
   ]
  },
  {
   "cell_type": "code",
   "execution_count": 23,
   "id": "d2f71c8d",
   "metadata": {
    "vscode": {
     "languageId": "r"
    }
   },
   "outputs": [
    {
     "data": {
      "text/html": [
       "1.67792672164186"
      ],
      "text/latex": [
       "1.67792672164186"
      ],
      "text/markdown": [
       "1.67792672164186"
      ],
      "text/plain": [
       "[1] 1.677927"
      ]
     },
     "metadata": {},
     "output_type": "display_data"
    },
    {
     "data": {
      "text/plain": [
       "\n",
       "\tHarvey-Collier test\n",
       "\n",
       "data:  y2 ~ x\n",
       "HC = 7.9559, df = 47, p-value = 2.964e-10\n"
      ]
     },
     "metadata": {},
     "output_type": "display_data"
    }
   ],
   "source": [
    "## calculate critical value vor 0.05 level\n",
    "qt(0.95, harv$parameter)\n",
    "harvtest(y2 ~ x)"
   ]
  },
  {
   "cell_type": "markdown",
   "id": "16baaf48",
   "metadata": {},
   "source": [
    "## petest"
   ]
  },
  {
   "cell_type": "code",
   "execution_count": 28,
   "id": "ea8f2bf3",
   "metadata": {
    "vscode": {
     "languageId": "r"
    }
   },
   "outputs": [
    {
     "data": {
      "text/html": [
       "<table class=\"dataframe\">\n",
       "<caption>A anova: 2 x 4</caption>\n",
       "<thead>\n",
       "\t<tr><th></th><th scope=col>Estimate</th><th scope=col>Std. Error</th><th scope=col>t value</th><th scope=col>Pr(&gt;|t|)</th></tr>\n",
       "\t<tr><th></th><th scope=col>&lt;dbl&gt;</th><th scope=col>&lt;dbl&gt;</th><th scope=col>&lt;dbl&gt;</th><th scope=col>&lt;dbl&gt;</th></tr>\n",
       "</thead>\n",
       "<tbody>\n",
       "\t<tr><th scope=row>M1 + log(fit(M1))-fit(M2)</th><td>-2.093544e+02</td><td>26.758025405</td><td>-7.8239849</td><td>2.900156e-13</td></tr>\n",
       "\t<tr><th scope=row>M2 + fit(M1)-exp(fit(M2))</th><td>-4.188803e-05</td><td> 0.000261327</td><td>-0.1602897</td><td>8.728146e-01</td></tr>\n",
       "</tbody>\n",
       "</table>\n"
      ],
      "text/latex": [
       "A anova: 2 x 4\n",
       "\\begin{tabular}{r|llll}\n",
       "  & Estimate & Std. Error & t value & Pr(>\\textbar{}t\\textbar{})\\\\\n",
       "  & <dbl> & <dbl> & <dbl> & <dbl>\\\\\n",
       "\\hline\n",
       "\tM1 + log(fit(M1))-fit(M2) & -2.093544e+02 & 26.758025405 & -7.8239849 & 2.900156e-13\\\\\n",
       "\tM2 + fit(M1)-exp(fit(M2)) & -4.188803e-05 &  0.000261327 & -0.1602897 & 8.728146e-01\\\\\n",
       "\\end{tabular}\n"
      ],
      "text/markdown": [
       "\n",
       "A anova: 2 x 4\n",
       "\n",
       "| <!--/--> | Estimate &lt;dbl&gt; | Std. Error &lt;dbl&gt; | t value &lt;dbl&gt; | Pr(&gt;|t|) &lt;dbl&gt; |\n",
       "|---|---|---|---|---|\n",
       "| M1 + log(fit(M1))-fit(M2) | -2.093544e+02 | 26.758025405 | -7.8239849 | 2.900156e-13 |\n",
       "| M2 + fit(M1)-exp(fit(M2)) | -4.188803e-05 |  0.000261327 | -0.1602897 | 8.728146e-01 |\n",
       "\n"
      ],
      "text/plain": [
       "                          Estimate      Std. Error   t value    Pr(>|t|)    \n",
       "M1 + log(fit(M1))-fit(M2) -2.093544e+02 26.758025405 -7.8239849 2.900156e-13\n",
       "M2 + fit(M1)-exp(fit(M2)) -4.188803e-05  0.000261327 -0.1602897 8.728146e-01"
      ]
     },
     "metadata": {},
     "output_type": "display_data"
    }
   ],
   "source": [
    "if (require(\"AER\")) {\n",
    "\n",
    "  ## Verbeek (2004), Section 3 示例数据\n",
    "  data(\"HousePrices\", package = \"AER\")\n",
    "\n",
    "  ## 表 3.3：线性模型\n",
    "  hp_lin <- lm(price ~ ., data = HousePrices)\n",
    "  summary(hp_lin)\n",
    "\n",
    "  ## 表 3.2：对数线性模型（对 lotsize 取对数）\n",
    "  hp_log <- update(hp_lin, log(price) ~ . - lotsize + log(lotsize))\n",
    "  summary(hp_log)\n",
    "\n",
    "  ## PE 检验：线性 vs 对数线性\n",
    "  petest(hp_lin, hp_log)\n",
    "\n",
    "  ## Greene (2003), Example 9.8 示例数据\n",
    "  data(\"USMacroG\", package = \"AER\")\n",
    "\n",
    "  ## 表 9.2：线性与对数线性模型\n",
    "  usm_lin <- lm(m1 ~ tbill + gdp, data = USMacroG)\n",
    "  usm_log <- lm(log(m1) ~ log(tbill) + log(gdp), data = USMacroG)\n",
    "\n",
    "  ## PE 检验：对比两个规格，结果与 Greene 勘误表一致\n",
    "  petest(usm_lin, usm_log)\n",
    "}\n"
   ]
  },
  {
   "cell_type": "markdown",
   "id": "693d42a3",
   "metadata": {},
   "source": [
    "## raintest"
   ]
  },
  {
   "cell_type": "code",
   "execution_count": 29,
   "id": "b34f09aa",
   "metadata": {
    "vscode": {
     "languageId": "r"
    }
   },
   "outputs": [
    {
     "data": {
      "text/plain": [
       "\n",
       "\tRainbow test\n",
       "\n",
       "data:  y ~ x\n",
       "Rain = 28.008, df1 = 15, df2 = 13, p-value = 1.899e-07\n"
      ]
     },
     "metadata": {},
     "output_type": "display_data"
    },
    {
     "data": {
      "text/html": [
       "2.53310998313075"
      ],
      "text/latex": [
       "2.53310998313075"
      ],
      "text/markdown": [
       "2.53310998313075"
      ],
      "text/plain": [
       "[1] 2.53311"
      ]
     },
     "metadata": {},
     "output_type": "display_data"
    }
   ],
   "source": [
    "## 构造非线性数据\n",
    "x <- 1:30\n",
    "y <- x^2 + rnorm(30, 0, 2)\n",
    "\n",
    "## 执行 Rainbow 检验\n",
    "rain <- raintest(y ~ x)\n",
    "rain\n",
    "\n",
    "## 查找临界值（用于手动比较检验统计量）\n",
    "qf(0.95, rain$parameter[1], rain$parameter[2])"
   ]
  },
  {
   "cell_type": "markdown",
   "id": "e97c1a81",
   "metadata": {},
   "source": [
    "## resettest"
   ]
  },
  {
   "cell_type": "code",
   "execution_count": 21,
   "id": "d7bb2232",
   "metadata": {
    "vscode": {
     "languageId": "r"
    }
   },
   "outputs": [
    {
     "data": {
      "text/plain": [
       "\n",
       "\tRESET test\n",
       "\n",
       "data:  y1 ~ x\n",
       "RESET = 130207, df1 = 1, df2 = 27, p-value < 2.2e-16\n"
      ]
     },
     "metadata": {},
     "output_type": "display_data"
    },
    {
     "data": {
      "text/plain": [
       "\n",
       "\tRESET test\n",
       "\n",
       "data:  y2 ~ x\n",
       "RESET = 0.027194, df1 = 1, df2 = 27, p-value = 0.8702\n"
      ]
     },
     "metadata": {},
     "output_type": "display_data"
    }
   ],
   "source": [
    "x <- c(1:30)\n",
    "y1 <- 1 + x + x^2 + rnorm(30)\n",
    "y2 <- 1 + x + rnorm(30)\n",
    "\n",
    "resettest(y1 ~ x, power=2, type=\"regressor\")\n",
    "resettest(y2 ~ x, power=2, type=\"regressor\")"
   ]
  }
 ],
 "metadata": {
  "kernelspec": {
   "display_name": "R",
   "language": "R",
   "name": "ir"
  },
  "language_info": {
   "codemirror_mode": "r",
   "file_extension": ".r",
   "mimetype": "text/x-r-source",
   "name": "R",
   "pygments_lexer": "r",
   "version": "4.4.2"
  }
 },
 "nbformat": 4,
 "nbformat_minor": 5
}

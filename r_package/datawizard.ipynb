{
 "cells": [
  {
   "cell_type": "markdown",
   "id": "14a77362",
   "metadata": {},
   "source": [
    "学习R语言{datawizard}包"
   ]
  },
  {
   "cell_type": "code",
   "execution_count": 1,
   "id": "393e96c0",
   "metadata": {
    "vscode": {
     "languageId": "r"
    }
   },
   "outputs": [
    {
     "data": {
      "text/plain": [
       "   Fertility      Agriculture     Examination      Education    \n",
       " Min.   :35.00   Min.   : 1.20   Min.   : 3.00   Min.   : 1.00  \n",
       " 1st Qu.:64.70   1st Qu.:35.90   1st Qu.:12.00   1st Qu.: 6.00  \n",
       " Median :70.40   Median :54.10   Median :16.00   Median : 8.00  \n",
       " Mean   :70.14   Mean   :50.66   Mean   :16.49   Mean   :10.98  \n",
       " 3rd Qu.:78.45   3rd Qu.:67.65   3rd Qu.:22.00   3rd Qu.:12.00  \n",
       " Max.   :92.50   Max.   :89.70   Max.   :37.00   Max.   :53.00  \n",
       "    Catholic       Infant.Mortality\n",
       " Min.   :  2.150   Min.   :10.80   \n",
       " 1st Qu.:  5.195   1st Qu.:18.15   \n",
       " Median : 15.140   Median :20.00   \n",
       " Mean   : 41.144   Mean   :19.94   \n",
       " 3rd Qu.: 93.125   3rd Qu.:21.70   \n",
       " Max.   :100.000   Max.   :26.60   "
      ]
     },
     "metadata": {},
     "output_type": "display_data"
    },
    {
     "data": {
      "text/plain": [
       "   Fertility         Agriculture       Examination         Education      \n",
       " Min.   :-2.81327   Min.   :-2.1778   Min.   :-1.69084   Min.   :-1.0378  \n",
       " 1st Qu.:-0.43569   1st Qu.:-0.6499   1st Qu.:-0.56273   1st Qu.:-0.5178  \n",
       " Median : 0.02061   Median : 0.1515   Median :-0.06134   Median :-0.3098  \n",
       " Mean   : 0.00000   Mean   : 0.0000   Mean   : 0.00000   Mean   : 0.0000  \n",
       " 3rd Qu.: 0.66504   3rd Qu.: 0.7481   3rd Qu.: 0.69074   3rd Qu.: 0.1062  \n",
       " Max.   : 1.78978   Max.   : 1.7190   Max.   : 2.57094   Max.   : 4.3702  \n",
       "    Catholic       Infant.Mortality  \n",
       " Min.   :-0.9350   Min.   :-3.13886  \n",
       " 1st Qu.:-0.8620   1st Qu.:-0.61543  \n",
       " Median :-0.6235   Median : 0.01972  \n",
       " Mean   : 0.0000   Mean   : 0.00000  \n",
       " 3rd Qu.: 1.2464   3rd Qu.: 0.60337  \n",
       " Max.   : 1.4113   Max.   : 2.28566  "
      ]
     },
     "metadata": {},
     "output_type": "display_data"
    }
   ],
   "source": [
    "library(datawizard)\n",
    "# before\n",
    "summary(swiss)\n",
    "\n",
    "# after\n",
    "summary(standardize(swiss))"
   ]
  },
  {
   "cell_type": "code",
   "execution_count": 2,
   "id": "67681362",
   "metadata": {
    "vscode": {
     "languageId": "r"
    }
   },
   "outputs": [
    {
     "data": {
      "text/html": [
       "<table class=\"dataframe\">\n",
       "<caption>A data.frame: 11 x 8</caption>\n",
       "<thead>\n",
       "\t<tr><th scope=col>x1</th><th scope=col>x2</th><th scope=col>x3</th><th scope=col>x4</th><th scope=col>y1</th><th scope=col>y2</th><th scope=col>y3</th><th scope=col>y4</th></tr>\n",
       "\t<tr><th scope=col>&lt;dbl&gt;</th><th scope=col>&lt;dbl&gt;</th><th scope=col>&lt;dbl&gt;</th><th scope=col>&lt;dbl&gt;</th><th scope=col>&lt;dbl&gt;</th><th scope=col>&lt;dbl&gt;</th><th scope=col>&lt;dbl&gt;</th><th scope=col>&lt;dbl&gt;</th></tr>\n",
       "</thead>\n",
       "<tbody>\n",
       "\t<tr><td>10</td><td>10</td><td>10</td><td> 8</td><td> 8.04</td><td>9.14</td><td> 7.46</td><td> 6.58</td></tr>\n",
       "\t<tr><td> 8</td><td> 8</td><td> 8</td><td> 8</td><td> 6.95</td><td>8.14</td><td> 6.77</td><td> 5.76</td></tr>\n",
       "\t<tr><td>13</td><td>13</td><td>13</td><td> 8</td><td> 7.58</td><td>8.74</td><td>12.74</td><td> 7.71</td></tr>\n",
       "\t<tr><td> 9</td><td> 9</td><td> 9</td><td> 8</td><td> 8.81</td><td>8.77</td><td> 7.11</td><td> 8.84</td></tr>\n",
       "\t<tr><td>11</td><td>11</td><td>11</td><td> 8</td><td> 8.33</td><td>9.26</td><td> 7.81</td><td> 8.47</td></tr>\n",
       "\t<tr><td>14</td><td>14</td><td>14</td><td> 8</td><td> 9.96</td><td>8.10</td><td> 8.84</td><td> 7.04</td></tr>\n",
       "\t<tr><td> 6</td><td> 6</td><td> 6</td><td> 8</td><td> 7.24</td><td>6.13</td><td> 6.08</td><td> 5.25</td></tr>\n",
       "\t<tr><td> 4</td><td> 4</td><td> 4</td><td>19</td><td> 4.26</td><td>3.10</td><td> 5.39</td><td>12.50</td></tr>\n",
       "\t<tr><td>12</td><td>12</td><td>12</td><td> 8</td><td>10.84</td><td>9.13</td><td> 8.15</td><td> 5.56</td></tr>\n",
       "\t<tr><td> 7</td><td> 7</td><td> 7</td><td> 8</td><td> 4.82</td><td>7.26</td><td> 6.42</td><td> 7.91</td></tr>\n",
       "\t<tr><td> 5</td><td> 5</td><td> 5</td><td> 8</td><td> 5.68</td><td>4.74</td><td> 5.73</td><td> 6.89</td></tr>\n",
       "</tbody>\n",
       "</table>\n"
      ],
      "text/latex": [
       "A data.frame: 11 x 8\n",
       "\\begin{tabular}{llllllll}\n",
       " x1 & x2 & x3 & x4 & y1 & y2 & y3 & y4\\\\\n",
       " <dbl> & <dbl> & <dbl> & <dbl> & <dbl> & <dbl> & <dbl> & <dbl>\\\\\n",
       "\\hline\n",
       "\t 10 & 10 & 10 &  8 &  8.04 & 9.14 &  7.46 &  6.58\\\\\n",
       "\t  8 &  8 &  8 &  8 &  6.95 & 8.14 &  6.77 &  5.76\\\\\n",
       "\t 13 & 13 & 13 &  8 &  7.58 & 8.74 & 12.74 &  7.71\\\\\n",
       "\t  9 &  9 &  9 &  8 &  8.81 & 8.77 &  7.11 &  8.84\\\\\n",
       "\t 11 & 11 & 11 &  8 &  8.33 & 9.26 &  7.81 &  8.47\\\\\n",
       "\t 14 & 14 & 14 &  8 &  9.96 & 8.10 &  8.84 &  7.04\\\\\n",
       "\t  6 &  6 &  6 &  8 &  7.24 & 6.13 &  6.08 &  5.25\\\\\n",
       "\t  4 &  4 &  4 & 19 &  4.26 & 3.10 &  5.39 & 12.50\\\\\n",
       "\t 12 & 12 & 12 &  8 & 10.84 & 9.13 &  8.15 &  5.56\\\\\n",
       "\t  7 &  7 &  7 &  8 &  4.82 & 7.26 &  6.42 &  7.91\\\\\n",
       "\t  5 &  5 &  5 &  8 &  5.68 & 4.74 &  5.73 &  6.89\\\\\n",
       "\\end{tabular}\n"
      ],
      "text/markdown": [
       "\n",
       "A data.frame: 11 x 8\n",
       "\n",
       "| x1 &lt;dbl&gt; | x2 &lt;dbl&gt; | x3 &lt;dbl&gt; | x4 &lt;dbl&gt; | y1 &lt;dbl&gt; | y2 &lt;dbl&gt; | y3 &lt;dbl&gt; | y4 &lt;dbl&gt; |\n",
       "|---|---|---|---|---|---|---|---|\n",
       "| 10 | 10 | 10 |  8 |  8.04 | 9.14 |  7.46 |  6.58 |\n",
       "|  8 |  8 |  8 |  8 |  6.95 | 8.14 |  6.77 |  5.76 |\n",
       "| 13 | 13 | 13 |  8 |  7.58 | 8.74 | 12.74 |  7.71 |\n",
       "|  9 |  9 |  9 |  8 |  8.81 | 8.77 |  7.11 |  8.84 |\n",
       "| 11 | 11 | 11 |  8 |  8.33 | 9.26 |  7.81 |  8.47 |\n",
       "| 14 | 14 | 14 |  8 |  9.96 | 8.10 |  8.84 |  7.04 |\n",
       "|  6 |  6 |  6 |  8 |  7.24 | 6.13 |  6.08 |  5.25 |\n",
       "|  4 |  4 |  4 | 19 |  4.26 | 3.10 |  5.39 | 12.50 |\n",
       "| 12 | 12 | 12 |  8 | 10.84 | 9.13 |  8.15 |  5.56 |\n",
       "|  7 |  7 |  7 |  8 |  4.82 | 7.26 |  6.42 |  7.91 |\n",
       "|  5 |  5 |  5 |  8 |  5.68 | 4.74 |  5.73 |  6.89 |\n",
       "\n"
      ],
      "text/plain": [
       "   x1 x2 x3 x4 y1    y2   y3    y4   \n",
       "1  10 10 10  8  8.04 9.14  7.46  6.58\n",
       "2   8  8  8  8  6.95 8.14  6.77  5.76\n",
       "3  13 13 13  8  7.58 8.74 12.74  7.71\n",
       "4   9  9  9  8  8.81 8.77  7.11  8.84\n",
       "5  11 11 11  8  8.33 9.26  7.81  8.47\n",
       "6  14 14 14  8  9.96 8.10  8.84  7.04\n",
       "7   6  6  6  8  7.24 6.13  6.08  5.25\n",
       "8   4  4  4 19  4.26 3.10  5.39 12.50\n",
       "9  12 12 12  8 10.84 9.13  8.15  5.56\n",
       "10  7  7  7  8  4.82 7.26  6.42  7.91\n",
       "11  5  5  5  8  5.68 4.74  5.73  6.89"
      ]
     },
     "metadata": {},
     "output_type": "display_data"
    },
    {
     "data": {
      "text/html": [
       "<table class=\"dataframe\">\n",
       "<caption>A data.frame: 11 x 8</caption>\n",
       "<thead>\n",
       "\t<tr><th scope=col>x1</th><th scope=col>x2</th><th scope=col>x3</th><th scope=col>x4</th><th scope=col>y1</th><th scope=col>y2</th><th scope=col>y3</th><th scope=col>y4</th></tr>\n",
       "\t<tr><th scope=col>&lt;dbl&gt;</th><th scope=col>&lt;dbl&gt;</th><th scope=col>&lt;dbl&gt;</th><th scope=col>&lt;dbl&gt;</th><th scope=col>&lt;dbl&gt;</th><th scope=col>&lt;dbl&gt;</th><th scope=col>&lt;dbl&gt;</th><th scope=col>&lt;dbl&gt;</th></tr>\n",
       "</thead>\n",
       "<tbody>\n",
       "\t<tr><td>10</td><td>10</td><td>10</td><td>8</td><td>8.04</td><td>9.13</td><td>7.46</td><td>6.58</td></tr>\n",
       "\t<tr><td> 8</td><td> 8</td><td> 8</td><td>8</td><td>6.95</td><td>8.14</td><td>6.77</td><td>5.76</td></tr>\n",
       "\t<tr><td>12</td><td>12</td><td>12</td><td>8</td><td>7.58</td><td>8.74</td><td>8.15</td><td>7.71</td></tr>\n",
       "\t<tr><td> 9</td><td> 9</td><td> 9</td><td>8</td><td>8.81</td><td>8.77</td><td>7.11</td><td>8.47</td></tr>\n",
       "\t<tr><td>11</td><td>11</td><td>11</td><td>8</td><td>8.33</td><td>9.13</td><td>7.81</td><td>8.47</td></tr>\n",
       "\t<tr><td>12</td><td>12</td><td>12</td><td>8</td><td>8.81</td><td>8.10</td><td>8.15</td><td>7.04</td></tr>\n",
       "\t<tr><td> 6</td><td> 6</td><td> 6</td><td>8</td><td>7.24</td><td>6.13</td><td>6.08</td><td>5.76</td></tr>\n",
       "\t<tr><td> 6</td><td> 6</td><td> 6</td><td>8</td><td>5.68</td><td>6.13</td><td>6.08</td><td>8.47</td></tr>\n",
       "\t<tr><td>12</td><td>12</td><td>12</td><td>8</td><td>8.81</td><td>9.13</td><td>8.15</td><td>5.76</td></tr>\n",
       "\t<tr><td> 7</td><td> 7</td><td> 7</td><td>8</td><td>5.68</td><td>7.26</td><td>6.42</td><td>7.91</td></tr>\n",
       "\t<tr><td> 6</td><td> 6</td><td> 6</td><td>8</td><td>5.68</td><td>6.13</td><td>6.08</td><td>6.89</td></tr>\n",
       "</tbody>\n",
       "</table>\n"
      ],
      "text/latex": [
       "A data.frame: 11 x 8\n",
       "\\begin{tabular}{llllllll}\n",
       " x1 & x2 & x3 & x4 & y1 & y2 & y3 & y4\\\\\n",
       " <dbl> & <dbl> & <dbl> & <dbl> & <dbl> & <dbl> & <dbl> & <dbl>\\\\\n",
       "\\hline\n",
       "\t 10 & 10 & 10 & 8 & 8.04 & 9.13 & 7.46 & 6.58\\\\\n",
       "\t  8 &  8 &  8 & 8 & 6.95 & 8.14 & 6.77 & 5.76\\\\\n",
       "\t 12 & 12 & 12 & 8 & 7.58 & 8.74 & 8.15 & 7.71\\\\\n",
       "\t  9 &  9 &  9 & 8 & 8.81 & 8.77 & 7.11 & 8.47\\\\\n",
       "\t 11 & 11 & 11 & 8 & 8.33 & 9.13 & 7.81 & 8.47\\\\\n",
       "\t 12 & 12 & 12 & 8 & 8.81 & 8.10 & 8.15 & 7.04\\\\\n",
       "\t  6 &  6 &  6 & 8 & 7.24 & 6.13 & 6.08 & 5.76\\\\\n",
       "\t  6 &  6 &  6 & 8 & 5.68 & 6.13 & 6.08 & 8.47\\\\\n",
       "\t 12 & 12 & 12 & 8 & 8.81 & 9.13 & 8.15 & 5.76\\\\\n",
       "\t  7 &  7 &  7 & 8 & 5.68 & 7.26 & 6.42 & 7.91\\\\\n",
       "\t  6 &  6 &  6 & 8 & 5.68 & 6.13 & 6.08 & 6.89\\\\\n",
       "\\end{tabular}\n"
      ],
      "text/markdown": [
       "\n",
       "A data.frame: 11 x 8\n",
       "\n",
       "| x1 &lt;dbl&gt; | x2 &lt;dbl&gt; | x3 &lt;dbl&gt; | x4 &lt;dbl&gt; | y1 &lt;dbl&gt; | y2 &lt;dbl&gt; | y3 &lt;dbl&gt; | y4 &lt;dbl&gt; |\n",
       "|---|---|---|---|---|---|---|---|\n",
       "| 10 | 10 | 10 | 8 | 8.04 | 9.13 | 7.46 | 6.58 |\n",
       "|  8 |  8 |  8 | 8 | 6.95 | 8.14 | 6.77 | 5.76 |\n",
       "| 12 | 12 | 12 | 8 | 7.58 | 8.74 | 8.15 | 7.71 |\n",
       "|  9 |  9 |  9 | 8 | 8.81 | 8.77 | 7.11 | 8.47 |\n",
       "| 11 | 11 | 11 | 8 | 8.33 | 9.13 | 7.81 | 8.47 |\n",
       "| 12 | 12 | 12 | 8 | 8.81 | 8.10 | 8.15 | 7.04 |\n",
       "|  6 |  6 |  6 | 8 | 7.24 | 6.13 | 6.08 | 5.76 |\n",
       "|  6 |  6 |  6 | 8 | 5.68 | 6.13 | 6.08 | 8.47 |\n",
       "| 12 | 12 | 12 | 8 | 8.81 | 9.13 | 8.15 | 5.76 |\n",
       "|  7 |  7 |  7 | 8 | 5.68 | 7.26 | 6.42 | 7.91 |\n",
       "|  6 |  6 |  6 | 8 | 5.68 | 6.13 | 6.08 | 6.89 |\n",
       "\n"
      ],
      "text/plain": [
       "   x1 x2 x3 x4 y1   y2   y3   y4  \n",
       "1  10 10 10 8  8.04 9.13 7.46 6.58\n",
       "2   8  8  8 8  6.95 8.14 6.77 5.76\n",
       "3  12 12 12 8  7.58 8.74 8.15 7.71\n",
       "4   9  9  9 8  8.81 8.77 7.11 8.47\n",
       "5  11 11 11 8  8.33 9.13 7.81 8.47\n",
       "6  12 12 12 8  8.81 8.10 8.15 7.04\n",
       "7   6  6  6 8  7.24 6.13 6.08 5.76\n",
       "8   6  6  6 8  5.68 6.13 6.08 8.47\n",
       "9  12 12 12 8  8.81 9.13 8.15 5.76\n",
       "10  7  7  7 8  5.68 7.26 6.42 7.91\n",
       "11  6  6  6 8  5.68 6.13 6.08 6.89"
      ]
     },
     "metadata": {},
     "output_type": "display_data"
    }
   ],
   "source": [
    "# before\n",
    "anscombe\n",
    "#>    x1 x2 x3 x4    y1   y2    y3    y4\n",
    "#> 1  10 10 10  8  8.04 9.14  7.46  6.58\n",
    "#> 2   8  8  8  8  6.95 8.14  6.77  5.76\n",
    "#> 3  13 13 13  8  7.58 8.74 12.74  7.71\n",
    "#> 4   9  9  9  8  8.81 8.77  7.11  8.84\n",
    "#> 5  11 11 11  8  8.33 9.26  7.81  8.47\n",
    "#> 6  14 14 14  8  9.96 8.10  8.84  7.04\n",
    "#> 7   6  6  6  8  7.24 6.13  6.08  5.25\n",
    "#> 8   4  4  4 19  4.26 3.10  5.39 12.50\n",
    "#> 9  12 12 12  8 10.84 9.13  8.15  5.56\n",
    "#> 10  7  7  7  8  4.82 7.26  6.42  7.91\n",
    "#> 11  5  5  5  8  5.68 4.74  5.73  6.89\n",
    "\n",
    "# after\n",
    "winsorize(anscombe)\n",
    "#>    x1 x2 x3 x4   y1   y2   y3   y4\n",
    "#> 1  10 10 10  8 8.04 9.13 7.46 6.58\n",
    "#> 2   8  8  8  8 6.95 8.14 6.77 5.76\n",
    "#> 3  12 12 12  8 7.58 8.74 8.15 7.71\n",
    "#> 4   9  9  9  8 8.81 8.77 7.11 8.47\n",
    "#> 5  11 11 11  8 8.33 9.13 7.81 8.47\n",
    "#> 6  12 12 12  8 8.81 8.10 8.15 7.04\n",
    "#> 7   6  6  6  8 7.24 6.13 6.08 5.76\n",
    "#> 8   6  6  6  8 5.68 6.13 6.08 8.47\n",
    "#> 9  12 12 12  8 8.81 9.13 8.15 5.76\n",
    "#> 10  7  7  7  8 5.68 7.26 6.42 7.91\n",
    "#> 11  6  6  6  8 5.68 6.13 6.08 6.89\n"
   ]
  },
  {
   "cell_type": "code",
   "execution_count": 3,
   "id": "e0b11357",
   "metadata": {
    "vscode": {
     "languageId": "r"
    }
   },
   "outputs": [
    {
     "data": {
      "text/html": [
       "<table class=\"dataframe\">\n",
       "<caption>A data.frame: 11 x 8</caption>\n",
       "<thead>\n",
       "\t<tr><th></th><th scope=col>x1</th><th scope=col>x2</th><th scope=col>x3</th><th scope=col>x4</th><th scope=col>y1</th><th scope=col>y2</th><th scope=col>y3</th><th scope=col>y4</th></tr>\n",
       "\t<tr><th></th><th scope=col>&lt;dbl&gt;</th><th scope=col>&lt;dbl&gt;</th><th scope=col>&lt;dbl&gt;</th><th scope=col>&lt;dbl&gt;</th><th scope=col>&lt;dbl&gt;</th><th scope=col>&lt;dbl&gt;</th><th scope=col>&lt;dbl&gt;</th><th scope=col>&lt;dbl&gt;</th></tr>\n",
       "</thead>\n",
       "<tbody>\n",
       "\t<tr><th scope=row>1</th><td> 1</td><td> 1</td><td> 1</td><td>-1</td><td> 0.53909091</td><td> 1.6390909</td><td>-0.04</td><td>-0.9209091</td></tr>\n",
       "\t<tr><th scope=row>2</th><td>-1</td><td>-1</td><td>-1</td><td>-1</td><td>-0.55090909</td><td> 0.6390909</td><td>-0.73</td><td>-1.7409091</td></tr>\n",
       "\t<tr><th scope=row>3</th><td> 4</td><td> 4</td><td> 4</td><td>-1</td><td> 0.07909091</td><td> 1.2390909</td><td> 5.24</td><td> 0.2090909</td></tr>\n",
       "\t<tr><th scope=row>4</th><td> 0</td><td> 0</td><td> 0</td><td>-1</td><td> 1.30909091</td><td> 1.2690909</td><td>-0.39</td><td> 1.3390909</td></tr>\n",
       "\t<tr><th scope=row>5</th><td> 2</td><td> 2</td><td> 2</td><td>-1</td><td> 0.82909091</td><td> 1.7590909</td><td> 0.31</td><td> 0.9690909</td></tr>\n",
       "\t<tr><th scope=row>6</th><td> 5</td><td> 5</td><td> 5</td><td>-1</td><td> 2.45909091</td><td> 0.5990909</td><td> 1.34</td><td>-0.4609091</td></tr>\n",
       "\t<tr><th scope=row>7</th><td>-3</td><td>-3</td><td>-3</td><td>-1</td><td>-0.26090909</td><td>-1.3709091</td><td>-1.42</td><td>-2.2509091</td></tr>\n",
       "\t<tr><th scope=row>8</th><td>-5</td><td>-5</td><td>-5</td><td>10</td><td>-3.24090909</td><td>-4.4009091</td><td>-2.11</td><td> 4.9990909</td></tr>\n",
       "\t<tr><th scope=row>9</th><td> 3</td><td> 3</td><td> 3</td><td>-1</td><td> 3.33909091</td><td> 1.6290909</td><td> 0.65</td><td>-1.9409091</td></tr>\n",
       "\t<tr><th scope=row>10</th><td>-2</td><td>-2</td><td>-2</td><td>-1</td><td>-2.68090909</td><td>-0.2409091</td><td>-1.08</td><td> 0.4090909</td></tr>\n",
       "\t<tr><th scope=row>11</th><td>-4</td><td>-4</td><td>-4</td><td>-1</td><td>-1.82090909</td><td>-2.7609091</td><td>-1.77</td><td>-0.6109091</td></tr>\n",
       "</tbody>\n",
       "</table>\n"
      ],
      "text/latex": [
       "A data.frame: 11 x 8\n",
       "\\begin{tabular}{r|llllllll}\n",
       "  & x1 & x2 & x3 & x4 & y1 & y2 & y3 & y4\\\\\n",
       "  & <dbl> & <dbl> & <dbl> & <dbl> & <dbl> & <dbl> & <dbl> & <dbl>\\\\\n",
       "\\hline\n",
       "\t1 &  1 &  1 &  1 & -1 &  0.53909091 &  1.6390909 & -0.04 & -0.9209091\\\\\n",
       "\t2 & -1 & -1 & -1 & -1 & -0.55090909 &  0.6390909 & -0.73 & -1.7409091\\\\\n",
       "\t3 &  4 &  4 &  4 & -1 &  0.07909091 &  1.2390909 &  5.24 &  0.2090909\\\\\n",
       "\t4 &  0 &  0 &  0 & -1 &  1.30909091 &  1.2690909 & -0.39 &  1.3390909\\\\\n",
       "\t5 &  2 &  2 &  2 & -1 &  0.82909091 &  1.7590909 &  0.31 &  0.9690909\\\\\n",
       "\t6 &  5 &  5 &  5 & -1 &  2.45909091 &  0.5990909 &  1.34 & -0.4609091\\\\\n",
       "\t7 & -3 & -3 & -3 & -1 & -0.26090909 & -1.3709091 & -1.42 & -2.2509091\\\\\n",
       "\t8 & -5 & -5 & -5 & 10 & -3.24090909 & -4.4009091 & -2.11 &  4.9990909\\\\\n",
       "\t9 &  3 &  3 &  3 & -1 &  3.33909091 &  1.6290909 &  0.65 & -1.9409091\\\\\n",
       "\t10 & -2 & -2 & -2 & -1 & -2.68090909 & -0.2409091 & -1.08 &  0.4090909\\\\\n",
       "\t11 & -4 & -4 & -4 & -1 & -1.82090909 & -2.7609091 & -1.77 & -0.6109091\\\\\n",
       "\\end{tabular}\n"
      ],
      "text/markdown": [
       "\n",
       "A data.frame: 11 x 8\n",
       "\n",
       "| <!--/--> | x1 &lt;dbl&gt; | x2 &lt;dbl&gt; | x3 &lt;dbl&gt; | x4 &lt;dbl&gt; | y1 &lt;dbl&gt; | y2 &lt;dbl&gt; | y3 &lt;dbl&gt; | y4 &lt;dbl&gt; |\n",
       "|---|---|---|---|---|---|---|---|---|\n",
       "| 1 |  1 |  1 |  1 | -1 |  0.53909091 |  1.6390909 | -0.04 | -0.9209091 |\n",
       "| 2 | -1 | -1 | -1 | -1 | -0.55090909 |  0.6390909 | -0.73 | -1.7409091 |\n",
       "| 3 |  4 |  4 |  4 | -1 |  0.07909091 |  1.2390909 |  5.24 |  0.2090909 |\n",
       "| 4 |  0 |  0 |  0 | -1 |  1.30909091 |  1.2690909 | -0.39 |  1.3390909 |\n",
       "| 5 |  2 |  2 |  2 | -1 |  0.82909091 |  1.7590909 |  0.31 |  0.9690909 |\n",
       "| 6 |  5 |  5 |  5 | -1 |  2.45909091 |  0.5990909 |  1.34 | -0.4609091 |\n",
       "| 7 | -3 | -3 | -3 | -1 | -0.26090909 | -1.3709091 | -1.42 | -2.2509091 |\n",
       "| 8 | -5 | -5 | -5 | 10 | -3.24090909 | -4.4009091 | -2.11 |  4.9990909 |\n",
       "| 9 |  3 |  3 |  3 | -1 |  3.33909091 |  1.6290909 |  0.65 | -1.9409091 |\n",
       "| 10 | -2 | -2 | -2 | -1 | -2.68090909 | -0.2409091 | -1.08 |  0.4090909 |\n",
       "| 11 | -4 | -4 | -4 | -1 | -1.82090909 | -2.7609091 | -1.77 | -0.6109091 |\n",
       "\n"
      ],
      "text/plain": [
       "   x1 x2 x3 x4 y1          y2         y3    y4        \n",
       "1   1  1  1 -1  0.53909091  1.6390909 -0.04 -0.9209091\n",
       "2  -1 -1 -1 -1 -0.55090909  0.6390909 -0.73 -1.7409091\n",
       "3   4  4  4 -1  0.07909091  1.2390909  5.24  0.2090909\n",
       "4   0  0  0 -1  1.30909091  1.2690909 -0.39  1.3390909\n",
       "5   2  2  2 -1  0.82909091  1.7590909  0.31  0.9690909\n",
       "6   5  5  5 -1  2.45909091  0.5990909  1.34 -0.4609091\n",
       "7  -3 -3 -3 -1 -0.26090909 -1.3709091 -1.42 -2.2509091\n",
       "8  -5 -5 -5 10 -3.24090909 -4.4009091 -2.11  4.9990909\n",
       "9   3  3  3 -1  3.33909091  1.6290909  0.65 -1.9409091\n",
       "10 -2 -2 -2 -1 -2.68090909 -0.2409091 -1.08  0.4090909\n",
       "11 -4 -4 -4 -1 -1.82090909 -2.7609091 -1.77 -0.6109091"
      ]
     },
     "metadata": {},
     "output_type": "display_data"
    }
   ],
   "source": [
    "center(anscombe)\n",
    "#>    x1 x2 x3 x4          y1         y2    y3         y4\n",
    "#> 1   1  1  1 -1  0.53909091  1.6390909 -0.04 -0.9209091\n",
    "#> 2  -1 -1 -1 -1 -0.55090909  0.6390909 -0.73 -1.7409091\n",
    "#> 3   4  4  4 -1  0.07909091  1.2390909  5.24  0.2090909\n",
    "#> 4   0  0  0 -1  1.30909091  1.2690909 -0.39  1.3390909\n",
    "#> 5   2  2  2 -1  0.82909091  1.7590909  0.31  0.9690909\n",
    "#> 6   5  5  5 -1  2.45909091  0.5990909  1.34 -0.4609091\n",
    "#> 7  -3 -3 -3 -1 -0.26090909 -1.3709091 -1.42 -2.2509091\n",
    "#> 8  -5 -5 -5 10 -3.24090909 -4.4009091 -2.11  4.9990909\n",
    "#> 9   3  3  3 -1  3.33909091  1.6290909  0.65 -1.9409091\n",
    "#> 10 -2 -2 -2 -1 -2.68090909 -0.2409091 -1.08  0.4090909\n",
    "#> 11 -4 -4 -4 -1 -1.82090909 -2.7609091 -1.77 -0.6109091\n"
   ]
  },
  {
   "cell_type": "code",
   "execution_count": 4,
   "id": "3c43ddd9",
   "metadata": {
    "vscode": {
     "languageId": "r"
    }
   },
   "outputs": [
    {
     "data": {
      "text/html": [
       "<table class=\"dataframe\">\n",
       "<caption>A data.frame: 6 x 3</caption>\n",
       "<thead>\n",
       "\t<tr><th></th><th scope=col>Girth</th><th scope=col>Height</th><th scope=col>Volume</th></tr>\n",
       "\t<tr><th></th><th scope=col>&lt;dbl&gt;</th><th scope=col>&lt;dbl&gt;</th><th scope=col>&lt;dbl&gt;</th></tr>\n",
       "</thead>\n",
       "<tbody>\n",
       "\t<tr><th scope=row>1</th><td> 8.3</td><td>70</td><td>10.3</td></tr>\n",
       "\t<tr><th scope=row>2</th><td> 8.6</td><td>65</td><td>10.3</td></tr>\n",
       "\t<tr><th scope=row>3</th><td> 8.8</td><td>63</td><td>10.2</td></tr>\n",
       "\t<tr><th scope=row>4</th><td>10.5</td><td>72</td><td>16.4</td></tr>\n",
       "\t<tr><th scope=row>5</th><td>10.7</td><td>81</td><td>18.8</td></tr>\n",
       "\t<tr><th scope=row>6</th><td>10.8</td><td>83</td><td>19.7</td></tr>\n",
       "</tbody>\n",
       "</table>\n"
      ],
      "text/latex": [
       "A data.frame: 6 x 3\n",
       "\\begin{tabular}{r|lll}\n",
       "  & Girth & Height & Volume\\\\\n",
       "  & <dbl> & <dbl> & <dbl>\\\\\n",
       "\\hline\n",
       "\t1 &  8.3 & 70 & 10.3\\\\\n",
       "\t2 &  8.6 & 65 & 10.3\\\\\n",
       "\t3 &  8.8 & 63 & 10.2\\\\\n",
       "\t4 & 10.5 & 72 & 16.4\\\\\n",
       "\t5 & 10.7 & 81 & 18.8\\\\\n",
       "\t6 & 10.8 & 83 & 19.7\\\\\n",
       "\\end{tabular}\n"
      ],
      "text/markdown": [
       "\n",
       "A data.frame: 6 x 3\n",
       "\n",
       "| <!--/--> | Girth &lt;dbl&gt; | Height &lt;dbl&gt; | Volume &lt;dbl&gt; |\n",
       "|---|---|---|---|\n",
       "| 1 |  8.3 | 70 | 10.3 |\n",
       "| 2 |  8.6 | 65 | 10.3 |\n",
       "| 3 |  8.8 | 63 | 10.2 |\n",
       "| 4 | 10.5 | 72 | 16.4 |\n",
       "| 5 | 10.7 | 81 | 18.8 |\n",
       "| 6 | 10.8 | 83 | 19.7 |\n",
       "\n"
      ],
      "text/plain": [
       "  Girth Height Volume\n",
       "1  8.3  70     10.3  \n",
       "2  8.6  65     10.3  \n",
       "3  8.8  63     10.2  \n",
       "4 10.5  72     16.4  \n",
       "5 10.7  81     18.8  \n",
       "6 10.8  83     19.7  "
      ]
     },
     "metadata": {},
     "output_type": "display_data"
    },
    {
     "data": {
      "text/html": [
       "<table class=\"dataframe\">\n",
       "<caption>A data.frame: 6 x 3</caption>\n",
       "<thead>\n",
       "\t<tr><th></th><th scope=col>Girth</th><th scope=col>Height</th><th scope=col>Volume</th></tr>\n",
       "\t<tr><th></th><th scope=col>&lt;dbl&gt;</th><th scope=col>&lt;dbl&gt;</th><th scope=col>&lt;dbl&gt;</th></tr>\n",
       "</thead>\n",
       "<tbody>\n",
       "\t<tr><th scope=row>1</th><td>1</td><td> 6.0</td><td>2.5</td></tr>\n",
       "\t<tr><th scope=row>2</th><td>2</td><td> 3.0</td><td>2.5</td></tr>\n",
       "\t<tr><th scope=row>3</th><td>3</td><td> 1.0</td><td>1.0</td></tr>\n",
       "\t<tr><th scope=row>4</th><td>4</td><td> 8.5</td><td>5.0</td></tr>\n",
       "\t<tr><th scope=row>5</th><td>5</td><td>25.5</td><td>7.0</td></tr>\n",
       "\t<tr><th scope=row>6</th><td>6</td><td>28.0</td><td>9.0</td></tr>\n",
       "</tbody>\n",
       "</table>\n"
      ],
      "text/latex": [
       "A data.frame: 6 x 3\n",
       "\\begin{tabular}{r|lll}\n",
       "  & Girth & Height & Volume\\\\\n",
       "  & <dbl> & <dbl> & <dbl>\\\\\n",
       "\\hline\n",
       "\t1 & 1 &  6.0 & 2.5\\\\\n",
       "\t2 & 2 &  3.0 & 2.5\\\\\n",
       "\t3 & 3 &  1.0 & 1.0\\\\\n",
       "\t4 & 4 &  8.5 & 5.0\\\\\n",
       "\t5 & 5 & 25.5 & 7.0\\\\\n",
       "\t6 & 6 & 28.0 & 9.0\\\\\n",
       "\\end{tabular}\n"
      ],
      "text/markdown": [
       "\n",
       "A data.frame: 6 x 3\n",
       "\n",
       "| <!--/--> | Girth &lt;dbl&gt; | Height &lt;dbl&gt; | Volume &lt;dbl&gt; |\n",
       "|---|---|---|---|\n",
       "| 1 | 1 |  6.0 | 2.5 |\n",
       "| 2 | 2 |  3.0 | 2.5 |\n",
       "| 3 | 3 |  1.0 | 1.0 |\n",
       "| 4 | 4 |  8.5 | 5.0 |\n",
       "| 5 | 5 | 25.5 | 7.0 |\n",
       "| 6 | 6 | 28.0 | 9.0 |\n",
       "\n"
      ],
      "text/plain": [
       "  Girth Height Volume\n",
       "1 1      6.0   2.5   \n",
       "2 2      3.0   2.5   \n",
       "3 3      1.0   1.0   \n",
       "4 4      8.5   5.0   \n",
       "5 5     25.5   7.0   \n",
       "6 6     28.0   9.0   "
      ]
     },
     "metadata": {},
     "output_type": "display_data"
    }
   ],
   "source": [
    "# before\n",
    "head(trees)\n",
    "#>   Girth Height Volume\n",
    "#> 1   8.3     70   10.3\n",
    "#> 2   8.6     65   10.3\n",
    "#> 3   8.8     63   10.2\n",
    "#> 4  10.5     72   16.4\n",
    "#> 5  10.7     81   18.8\n",
    "#> 6  10.8     83   19.7\n",
    "\n",
    "# after\n",
    "head(ranktransform(trees))\n",
    "#>   Girth Height Volume\n",
    "#> 1     1    6.0    2.5\n",
    "#> 2     2    3.0    2.5\n",
    "#> 3     3    1.0    1.0\n",
    "#> 4     4    8.5    5.0\n",
    "#> 5     5   25.5    7.0\n",
    "#> 6     6   28.0    9.0"
   ]
  },
  {
   "cell_type": "code",
   "execution_count": 5,
   "id": "65298fd7",
   "metadata": {
    "vscode": {
     "languageId": "r"
    }
   },
   "outputs": [
    {
     "data": {
      "text/html": [
       "<style>\n",
       ".list-inline {list-style: none; margin:0; padding: 0}\n",
       ".list-inline>li {display: inline-block}\n",
       ".list-inline>li:not(:last-child)::after {content: \"\\00b7\"; padding: 0 .5ex}\n",
       "</style>\n",
       "<ol class=list-inline><li>50</li><li>60</li><li>100</li><li>0</li><li>30</li></ol>\n"
      ],
      "text/latex": [
       "\\begin{enumerate*}\n",
       "\\item 50\n",
       "\\item 60\n",
       "\\item 100\n",
       "\\item 0\n",
       "\\item 30\n",
       "\\end{enumerate*}\n"
      ],
      "text/markdown": [
       "1. 50\n",
       "2. 60\n",
       "3. 100\n",
       "4. 0\n",
       "5. 30\n",
       "\n",
       "\n"
      ],
      "text/plain": [
       "[1]  50  60 100   0  30\n",
       "\u001b[90m(original range = -5 to 5)\n",
       "\u001b[39m"
      ]
     },
     "metadata": {},
     "output_type": "display_data"
    }
   ],
   "source": [
    "change_scale(c(0, 1, 5, -5, -2))\n",
    "#> [1]  50  60 100   0  30\n",
    "#> (original range = -5 to 5)"
   ]
  },
  {
   "cell_type": "code",
   "execution_count": 6,
   "id": "3877a588",
   "metadata": {
    "vscode": {
     "languageId": "r"
    }
   },
   "outputs": [
    {
     "data": {
      "text/html": [
       "<table class=\"dataframe\">\n",
       "<caption>A data.frame: 3 x 4</caption>\n",
       "<thead>\n",
       "\t<tr><th></th><th scope=col>mpg</th><th scope=col>cyl</th><th scope=col>disp</th><th scope=col>hp</th></tr>\n",
       "\t<tr><th></th><th scope=col>&lt;dbl&gt;</th><th scope=col>&lt;dbl&gt;</th><th scope=col>&lt;dbl&gt;</th><th scope=col>&lt;dbl&gt;</th></tr>\n",
       "</thead>\n",
       "<tbody>\n",
       "\t<tr><th scope=row>Mazda RX4</th><td>21.0</td><td>6</td><td>160</td><td>110</td></tr>\n",
       "\t<tr><th scope=row>Mazda RX4 Wag</th><td>21.0</td><td>6</td><td>160</td><td>110</td></tr>\n",
       "\t<tr><th scope=row>Datsun 710</th><td>22.8</td><td>4</td><td>108</td><td> 93</td></tr>\n",
       "</tbody>\n",
       "</table>\n"
      ],
      "text/latex": [
       "A data.frame: 3 x 4\n",
       "\\begin{tabular}{r|llll}\n",
       "  & mpg & cyl & disp & hp\\\\\n",
       "  & <dbl> & <dbl> & <dbl> & <dbl>\\\\\n",
       "\\hline\n",
       "\tMazda RX4 & 21.0 & 6 & 160 & 110\\\\\n",
       "\tMazda RX4 Wag & 21.0 & 6 & 160 & 110\\\\\n",
       "\tDatsun 710 & 22.8 & 4 & 108 &  93\\\\\n",
       "\\end{tabular}\n"
      ],
      "text/markdown": [
       "\n",
       "A data.frame: 3 x 4\n",
       "\n",
       "| <!--/--> | mpg &lt;dbl&gt; | cyl &lt;dbl&gt; | disp &lt;dbl&gt; | hp &lt;dbl&gt; |\n",
       "|---|---|---|---|---|\n",
       "| Mazda RX4 | 21.0 | 6 | 160 | 110 |\n",
       "| Mazda RX4 Wag | 21.0 | 6 | 160 | 110 |\n",
       "| Datsun 710 | 22.8 | 4 | 108 |  93 |\n",
       "\n"
      ],
      "text/plain": [
       "              mpg  cyl disp hp \n",
       "Mazda RX4     21.0 6   160  110\n",
       "Mazda RX4 Wag 21.0 6   160  110\n",
       "Datsun 710    22.8 4   108   93"
      ]
     },
     "metadata": {},
     "output_type": "display_data"
    },
    {
     "data": {
      "text/html": [
       "<table class=\"dataframe\">\n",
       "<caption>A data.frame: 4 x 3</caption>\n",
       "<thead>\n",
       "\t<tr><th></th><th scope=col>Mazda RX4</th><th scope=col>Mazda RX4 Wag</th><th scope=col>Datsun 710</th></tr>\n",
       "\t<tr><th></th><th scope=col>&lt;dbl&gt;</th><th scope=col>&lt;dbl&gt;</th><th scope=col>&lt;dbl&gt;</th></tr>\n",
       "</thead>\n",
       "<tbody>\n",
       "\t<tr><th scope=row>mpg</th><td> 21</td><td> 21</td><td> 22.8</td></tr>\n",
       "\t<tr><th scope=row>cyl</th><td>  6</td><td>  6</td><td>  4.0</td></tr>\n",
       "\t<tr><th scope=row>disp</th><td>160</td><td>160</td><td>108.0</td></tr>\n",
       "\t<tr><th scope=row>hp</th><td>110</td><td>110</td><td> 93.0</td></tr>\n",
       "</tbody>\n",
       "</table>\n"
      ],
      "text/latex": [
       "A data.frame: 4 x 3\n",
       "\\begin{tabular}{r|lll}\n",
       "  & Mazda RX4 & Mazda RX4 Wag & Datsun 710\\\\\n",
       "  & <dbl> & <dbl> & <dbl>\\\\\n",
       "\\hline\n",
       "\tmpg &  21 &  21 &  22.8\\\\\n",
       "\tcyl &   6 &   6 &   4.0\\\\\n",
       "\tdisp & 160 & 160 & 108.0\\\\\n",
       "\thp & 110 & 110 &  93.0\\\\\n",
       "\\end{tabular}\n"
      ],
      "text/markdown": [
       "\n",
       "A data.frame: 4 x 3\n",
       "\n",
       "| <!--/--> | Mazda RX4 &lt;dbl&gt; | Mazda RX4 Wag &lt;dbl&gt; | Datsun 710 &lt;dbl&gt; |\n",
       "|---|---|---|---|\n",
       "| mpg |  21 |  21 |  22.8 |\n",
       "| cyl |   6 |   6 |   4.0 |\n",
       "| disp | 160 | 160 | 108.0 |\n",
       "| hp | 110 | 110 |  93.0 |\n",
       "\n"
      ],
      "text/plain": [
       "     Mazda RX4 Mazda RX4 Wag Datsun 710\n",
       "mpg   21        21            22.8     \n",
       "cyl    6         6             4.0     \n",
       "disp 160       160           108.0     \n",
       "hp   110       110            93.0     "
      ]
     },
     "metadata": {},
     "output_type": "display_data"
    }
   ],
   "source": [
    "x <- mtcars[1:3, 1:4]\n",
    "\n",
    "x\n",
    "#>                mpg cyl disp  hp\n",
    "#> Mazda RX4     21.0   6  160 110\n",
    "#> Mazda RX4 Wag 21.0   6  160 110\n",
    "#> Datsun 710    22.8   4  108  93\n",
    "\n",
    "data_rotate(x)\n",
    "#>      Mazda RX4 Mazda RX4 Wag Datsun 710\n",
    "#> mpg         21            21       22.8\n",
    "#> cyl          6             6        4.0\n",
    "#> disp       160           160      108.0\n",
    "#> hp         110           110       93.0"
   ]
  },
  {
   "cell_type": "code",
   "execution_count": 7,
   "id": "3e829209",
   "metadata": {
    "vscode": {
     "languageId": "r"
    }
   },
   "outputs": [
    {
     "data": {
      "text/html": [
       "<table class=\"dataframe\">\n",
       "<caption>A parameters_distribution: 4 x 10</caption>\n",
       "<thead>\n",
       "\t<tr><th scope=col>Variable</th><th scope=col>Mean</th><th scope=col>SD</th><th scope=col>IQR</th><th scope=col>Min</th><th scope=col>Max</th><th scope=col>Skewness</th><th scope=col>Kurtosis</th><th scope=col>n</th><th scope=col>n_Missing</th></tr>\n",
       "\t<tr><th scope=col>&lt;chr&gt;</th><th scope=col>&lt;dbl&gt;</th><th scope=col>&lt;dbl&gt;</th><th scope=col>&lt;dbl&gt;</th><th scope=col>&lt;dbl&gt;</th><th scope=col>&lt;dbl&gt;</th><th scope=col>&lt;dbl&gt;</th><th scope=col>&lt;dbl&gt;</th><th scope=col>&lt;int&gt;</th><th scope=col>&lt;int&gt;</th></tr>\n",
       "</thead>\n",
       "<tbody>\n",
       "\t<tr><td>Sepal.Length</td><td>5.843333</td><td>0.8280661</td><td>1.300</td><td>4.3</td><td>7.9</td><td> 0.3149110</td><td>-0.552064</td><td>150</td><td>0</td></tr>\n",
       "\t<tr><td>Sepal.Width </td><td>3.057333</td><td>0.4358663</td><td>0.525</td><td>2.0</td><td>4.4</td><td> 0.3189657</td><td> 0.228249</td><td>150</td><td>0</td></tr>\n",
       "\t<tr><td>Petal.Length</td><td>3.758000</td><td>1.7652982</td><td>3.525</td><td>1.0</td><td>6.9</td><td>-0.2748842</td><td>-1.402103</td><td>150</td><td>0</td></tr>\n",
       "\t<tr><td>Petal.Width </td><td>1.199333</td><td>0.7622377</td><td>1.500</td><td>0.1</td><td>2.5</td><td>-0.1029667</td><td>-1.340604</td><td>150</td><td>0</td></tr>\n",
       "</tbody>\n",
       "</table>\n"
      ],
      "text/latex": [
       "A parameters\\_distribution: 4 x 10\n",
       "\\begin{tabular}{llllllllll}\n",
       " Variable & Mean & SD & IQR & Min & Max & Skewness & Kurtosis & n & n\\_Missing\\\\\n",
       " <chr> & <dbl> & <dbl> & <dbl> & <dbl> & <dbl> & <dbl> & <dbl> & <int> & <int>\\\\\n",
       "\\hline\n",
       "\t Sepal.Length & 5.843333 & 0.8280661 & 1.300 & 4.3 & 7.9 &  0.3149110 & -0.552064 & 150 & 0\\\\\n",
       "\t Sepal.Width  & 3.057333 & 0.4358663 & 0.525 & 2.0 & 4.4 &  0.3189657 &  0.228249 & 150 & 0\\\\\n",
       "\t Petal.Length & 3.758000 & 1.7652982 & 3.525 & 1.0 & 6.9 & -0.2748842 & -1.402103 & 150 & 0\\\\\n",
       "\t Petal.Width  & 1.199333 & 0.7622377 & 1.500 & 0.1 & 2.5 & -0.1029667 & -1.340604 & 150 & 0\\\\\n",
       "\\end{tabular}\n"
      ],
      "text/markdown": [
       "\n",
       "A parameters_distribution: 4 x 10\n",
       "\n",
       "| Variable &lt;chr&gt; | Mean &lt;dbl&gt; | SD &lt;dbl&gt; | IQR &lt;dbl&gt; | Min &lt;dbl&gt; | Max &lt;dbl&gt; | Skewness &lt;dbl&gt; | Kurtosis &lt;dbl&gt; | n &lt;int&gt; | n_Missing &lt;int&gt; |\n",
       "|---|---|---|---|---|---|---|---|---|---|\n",
       "| Sepal.Length | 5.843333 | 0.8280661 | 1.300 | 4.3 | 7.9 |  0.3149110 | -0.552064 | 150 | 0 |\n",
       "| Sepal.Width  | 3.057333 | 0.4358663 | 0.525 | 2.0 | 4.4 |  0.3189657 |  0.228249 | 150 | 0 |\n",
       "| Petal.Length | 3.758000 | 1.7652982 | 3.525 | 1.0 | 6.9 | -0.2748842 | -1.402103 | 150 | 0 |\n",
       "| Petal.Width  | 1.199333 | 0.7622377 | 1.500 | 0.1 | 2.5 | -0.1029667 | -1.340604 | 150 | 0 |\n",
       "\n"
      ],
      "text/plain": [
       "  Variable     Mean     SD        IQR   Min Max Skewness   Kurtosis  n  \n",
       "1 Sepal.Length 5.843333 0.8280661 1.300 4.3 7.9  0.3149110 -0.552064 150\n",
       "2 Sepal.Width  3.057333 0.4358663 0.525 2.0 4.4  0.3189657  0.228249 150\n",
       "3 Petal.Length 3.758000 1.7652982 3.525 1.0 6.9 -0.2748842 -1.402103 150\n",
       "4 Petal.Width  1.199333 0.7622377 1.500 0.1 2.5 -0.1029667 -1.340604 150\n",
       "  n_Missing\n",
       "1 0        \n",
       "2 0        \n",
       "3 0        \n",
       "4 0        "
      ]
     },
     "metadata": {},
     "output_type": "display_data"
    }
   ],
   "source": [
    "data(iris)\n",
    "describe_distribution(iris)"
   ]
  }
 ],
 "metadata": {
  "kernelspec": {
   "display_name": "R",
   "language": "R",
   "name": "ir"
  },
  "language_info": {
   "codemirror_mode": "r",
   "file_extension": ".r",
   "mimetype": "text/x-r-source",
   "name": "R",
   "pygments_lexer": "r",
   "version": "4.4.2"
  }
 },
 "nbformat": 4,
 "nbformat_minor": 5
}

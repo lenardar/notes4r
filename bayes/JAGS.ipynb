{
 "cells": [
  {
   "cell_type": "markdown",
   "metadata": {},
   "source": [
    "使用R接口调用JAGS实现。"
   ]
  },
  {
   "cell_type": "markdown",
   "metadata": {},
   "source": [
    "# 调用必要的包"
   ]
  },
  {
   "cell_type": "code",
   "execution_count": 3,
   "metadata": {
    "vscode": {
     "languageId": "r"
    }
   },
   "outputs": [
    {
     "name": "stderr",
     "output_type": "stream",
     "text": [
      "also installing the dependency 'overlapping'\n",
      "\n",
      "\n"
     ]
    },
    {
     "name": "stdout",
     "output_type": "stream",
     "text": [
      "\n",
      "The downloaded binary packages are in\n",
      "\t/var/folders/fv/c0dh9y6s7638rh5fdr3lgcmr0000gn/T//RtmpPq8Nq7/downloaded_packages\n"
     ]
    }
   ],
   "source": [
    "install.packages(\"MCMCvis\")"
   ]
  },
  {
   "cell_type": "code",
   "execution_count": 17,
   "metadata": {
    "vscode": {
     "languageId": "r"
    }
   },
   "outputs": [
    {
     "name": "stderr",
     "output_type": "stream",
     "text": [
      "also installing the dependency 'R2WinBUGS'\n",
      "\n",
      "\n"
     ]
    },
    {
     "name": "stdout",
     "output_type": "stream",
     "text": [
      "\n",
      "The downloaded binary packages are in\n",
      "\t/var/folders/fv/c0dh9y6s7638rh5fdr3lgcmr0000gn/T//RtmpPq8Nq7/downloaded_packages\n"
     ]
    }
   ],
   "source": [
    "install.packages(\"R2jags\")"
   ]
  },
  {
   "cell_type": "code",
   "execution_count": 18,
   "metadata": {
    "vscode": {
     "languageId": "r"
    }
   },
   "outputs": [
    {
     "name": "stderr",
     "output_type": "stream",
     "text": [
      "\n",
      "Attaching package: 'R2jags'\n",
      "\n",
      "\n",
      "The following object is masked from 'package:coda':\n",
      "\n",
      "    traceplot\n",
      "\n",
      "\n"
     ]
    }
   ],
   "source": [
    "library(rjags)\n",
    "library(R2jags)\n",
    "library(coda)\n",
    "library(lattice)\n",
    "library(MCMCvis)"
   ]
  },
  {
   "cell_type": "markdown",
   "metadata": {},
   "source": [
    "# 单样本无先验"
   ]
  },
  {
   "cell_type": "code",
   "execution_count": 20,
   "metadata": {
    "vscode": {
     "languageId": "r"
    }
   },
   "outputs": [],
   "source": [
    "jags.model.coin <- function() {\n",
    "  Y ~ dbin(0.5, 10)\n",
    "  P8 <- ifelse(Y>7, 1, 0)\n",
    "}"
   ]
  },
  {
   "cell_type": "code",
   "execution_count": 30,
   "metadata": {
    "vscode": {
     "languageId": "r"
    }
   },
   "outputs": [
    {
     "name": "stdout",
     "output_type": "stream",
     "text": [
      "Compiling model graph\n",
      "   Resolving undeclared variables\n",
      "   Allocating nodes\n",
      "Graph information:\n",
      "   Observed stochastic nodes: 0\n",
      "   Unobserved stochastic nodes: 1\n",
      "   Total graph size: 8\n",
      "\n",
      "Initializing model\n",
      "\n"
     ]
    }
   ],
   "source": [
    "# 模型拟合\n",
    "jags.model.coin.fit <- jags(\n",
    "  data = list(),\n",
    "  model.file = jags.model.coin,\n",
    "  parameters.to.save = c(\"Y\", \"P8\"),\n",
    "  n.iter = 10000,\n",
    "  n.burnin = 1000,\n",
    "  n.chains = 3,\n",
    "  DIC = FALSE\n",
    ")"
   ]
  },
  {
   "cell_type": "code",
   "execution_count": 31,
   "metadata": {
    "vscode": {
     "languageId": "r"
    }
   },
   "outputs": [
    {
     "name": "stdout",
     "output_type": "stream",
     "text": [
      "Inference for Bugs model at \"/var/folders/fv/c0dh9y6s7638rh5fdr3lgcmr0000gn/T//RtmpPq8Nq7/model17be914855946.txt\", fit using jags,\n",
      " 3 chains, each with 10000 iterations (first 1000 discarded), n.thin = 9\n",
      " n.sims = 3000 iterations saved. Running time = 0.012 secs\n",
      "   mu.vect sd.vect 2.5% 25% 50% 75% 97.5%  Rhat n.eff\n",
      "P8   0.052   0.223    0   0   0   0     1 1.008  1200\n",
      "Y    4.987   1.580    2   4   5   6     8 1.003  1000\n",
      "\n",
      "For each parameter, n.eff is a crude measure of effective sample size,\n",
      "and Rhat is the potential scale reduction factor (at convergence, Rhat=1).\n"
     ]
    }
   ],
   "source": [
    "print(jags.model.coin.fit)"
   ]
  },
  {
   "cell_type": "markdown",
   "metadata": {},
   "source": [
    "# 单次数据有先验"
   ]
  },
  {
   "cell_type": "code",
   "execution_count": 32,
   "metadata": {
    "vscode": {
     "languageId": "r"
    }
   },
   "outputs": [
    {
     "name": "stdout",
     "output_type": "stream",
     "text": [
      "Compiling model graph\n",
      "   Resolving undeclared variables\n",
      "   Allocating nodes\n",
      "Graph information:\n",
      "   Observed stochastic nodes: 1\n",
      "   Unobserved stochastic nodes: 2\n",
      "   Total graph size: 12\n",
      "\n",
      "Initializing model\n",
      "\n",
      "Inference for Bugs model at \"/var/folders/fv/c0dh9y6s7638rh5fdr3lgcmr0000gn/T//RtmpPq8Nq7/model17be977dd2f70.txt\", fit using jags,\n",
      " 2 chains, each with 10000 iterations (first 5000 discarded), n.thin = 5\n",
      " n.sims = 2000 iterations saved. Running time = 0.096 secs\n",
      "         mu.vect sd.vect   2.5%    25%    50%    75%  97.5%  Rhat n.eff\n",
      "P.crit     0.336   0.472  0.000  0.000  0.000  1.000  1.000 1.001  2000\n",
      "r.pred    22.672   4.327 14.000 20.000 23.000 26.000 31.000 1.001  2000\n",
      "theta      0.564   0.075  0.414  0.514  0.564  0.614  0.709 1.001  2000\n",
      "deviance   6.614   2.392  3.364  4.850  6.197  7.878 12.481 1.001  2000\n",
      "\n",
      "For each parameter, n.eff is a crude measure of effective sample size,\n",
      "and Rhat is the potential scale reduction factor (at convergence, Rhat=1).\n",
      "\n",
      "DIC info (using the rule: pV = var(deviance)/2)\n",
      "pV = 2.9 and DIC = 9.5\n",
      "DIC is an estimate of expected predictive error (lower deviance is better).\n"
     ]
    }
   ],
   "source": [
    "## 模型\n",
    "jags.mod.drug2 <- function(){\n",
    "theta ~ dbeta(9.2,13.8) # 先验概率\n",
    "r ~ dbin(theta,n) # 已有的实验数据\n",
    "r.pred ~ dbin(theta,40) # 预测新的实验\n",
    "P.crit <- ifelse(r.pred>=25,1,0) # 新实验大于25的概率\n",
    "}\n",
    "## 数据\n",
    "r = 15 ## 实验有15个良性\n",
    "n = 20 ## 实验进行了20次\n",
    "jags.data.drug2 <- list('r','n') ## 把他俩添加为一个list\n",
    "## 拟合\n",
    "jags.mod.fit.drug2 <- jags(data = jags.data.drug2,\n",
    "parameters.to.save =c('theta','r.pred','P.crit'),\n",
    "n.chains = 2,n.iter = 10000,\n",
    "model.file = jags.mod.drug2)\n",
    "## data 输入变量r和n\n",
    "## 一共五个变量，r和n是在data里输入的，而剩下三个是需要计算输出的。\n",
    "## 输出结果\n",
    "print(jags.mod.fit.drug2)"
   ]
  },
  {
   "cell_type": "markdown",
   "metadata": {},
   "source": [
    "# 多次数据有先验"
   ]
  },
  {
   "cell_type": "code",
   "execution_count": 34,
   "metadata": {
    "vscode": {
     "languageId": "r"
    }
   },
   "outputs": [
    {
     "data": {
      "text/html": [
       "<ol>\n",
       "\t<li>'y'</li>\n",
       "\t<li>'N'</li>\n",
       "</ol>\n"
      ],
      "text/latex": [
       "\\begin{enumerate}\n",
       "\\item 'y'\n",
       "\\item 'N'\n",
       "\\end{enumerate}\n"
      ],
      "text/markdown": [
       "1. 'y'\n",
       "2. 'N'\n",
       "\n",
       "\n"
      ],
      "text/plain": [
       "[[1]]\n",
       "[1] \"y\"\n",
       "\n",
       "[[2]]\n",
       "[1] \"N\"\n"
      ]
     },
     "metadata": {},
     "output_type": "display_data"
    }
   ],
   "source": [
    "y <- c(rep(0,times = 229),rep(1,times=211),rep(2,times=93),\n",
    "rep(3,times=35),rep(4,times=7),rep(7,times=1))\n",
    "## 把一共 537个数据都写进y里去，被炸的次数这里用数字表示，而区域的数量这个里用数字出现的频数表示。\n",
    "N <- length(y)\n",
    "bombs.data <- list('y','N')\n",
    "\n",
    "bombs.data"
   ]
  },
  {
   "cell_type": "code",
   "execution_count": 35,
   "metadata": {
    "vscode": {
     "languageId": "r"
    }
   },
   "outputs": [],
   "source": [
    "# 定义函数\n",
    "jags.mod.bombs <- function(){\n",
    "  theta ~ dgamma(0.5, 0.00001)\n",
    "  for (i in 1:N) {\n",
    "    y[i] ~ dpois(theta)\n",
    "  }\n",
    "}"
   ]
  },
  {
   "cell_type": "code",
   "execution_count": 36,
   "metadata": {
    "vscode": {
     "languageId": "r"
    }
   },
   "outputs": [],
   "source": [
    "## 设置了一个初始值，告诉JAGS从这里开始算，因为这是我根据泊松分布算出来的。\n",
    "jags.booms.inits <- list('theta' = 537/576)\n",
    "jags.inits.boom <- list(jags.booms.inits)"
   ]
  },
  {
   "cell_type": "code",
   "execution_count": 38,
   "metadata": {
    "vscode": {
     "languageId": "r"
    }
   },
   "outputs": [
    {
     "name": "stdout",
     "output_type": "stream",
     "text": [
      "Compiling model graph\n",
      "   Resolving undeclared variables\n",
      "   Allocating nodes\n",
      "Graph information:\n",
      "   Observed stochastic nodes: 576\n",
      "   Unobserved stochastic nodes: 1\n",
      "   Total graph size: 580\n",
      "\n",
      "Initializing model\n",
      "\n"
     ]
    }
   ],
   "source": [
    "jags.mod.fit.boom <- jags(\n",
    "  data = bombs.data,\n",
    "  parameters.to.save = c('theta'),\n",
    "  n.chains = 1,\n",
    "  n.iter = 10000,\n",
    "  model.file = jags.mod.bombs,\n",
    "  inits = jags.inits.boom,\n",
    "  DIC = FALSE\n",
    ")"
   ]
  },
  {
   "cell_type": "code",
   "execution_count": 39,
   "metadata": {
    "vscode": {
     "languageId": "r"
    }
   },
   "outputs": [
    {
     "name": "stdout",
     "output_type": "stream",
     "text": [
      "Inference for Bugs model at \"/var/folders/fv/c0dh9y6s7638rh5fdr3lgcmr0000gn/T//RtmpPq8Nq7/model17be97869663c.txt\", fit using jags,\n",
      " 1 chains, each with 10000 iterations (first 5000 discarded), n.thin = 5\n",
      " n.sims = 1000 iterations saved. Running time = 0.046 secs\n",
      "      mu.vect sd.vect  2.5%   25%   50%  75% 97.5%\n",
      "theta   0.933   0.041 0.851 0.906 0.932 0.96 1.012\n"
     ]
    }
   ],
   "source": [
    "print(jags.mod.fit.boom)"
   ]
  },
  {
   "cell_type": "markdown",
   "metadata": {},
   "source": []
  }
 ],
 "metadata": {
  "kernelspec": {
   "display_name": "R",
   "language": "R",
   "name": "ir"
  },
  "language_info": {
   "codemirror_mode": "r",
   "file_extension": ".r",
   "mimetype": "text/x-r-source",
   "name": "R",
   "pygments_lexer": "r",
   "version": "4.4.2"
  }
 },
 "nbformat": 4,
 "nbformat_minor": 2
}
